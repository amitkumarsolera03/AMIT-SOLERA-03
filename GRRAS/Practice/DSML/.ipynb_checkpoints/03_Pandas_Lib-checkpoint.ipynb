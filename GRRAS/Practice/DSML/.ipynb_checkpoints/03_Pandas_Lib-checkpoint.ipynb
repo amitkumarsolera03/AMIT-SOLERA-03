{
 "cells": [
  {
   "cell_type": "markdown",
   "id": "28d6ba92-7537-4368-9779-1963131b1b18",
   "metadata": {},
   "source": [
    "# Pandas"
   ]
  },
  {
   "cell_type": "code",
   "execution_count": 1,
   "id": "24f5f0b9-9acc-4d49-9250-7bbd24b1b135",
   "metadata": {},
   "outputs": [],
   "source": [
    "import numpy as np\n",
    "import pandas as pd\n",
    "import seaborn as sb\n",
    "import matplotlib as mtlb"
   ]
  },
  {
   "cell_type": "code",
   "execution_count": 2,
   "id": "febb7412-950a-427b-8dd5-b408b8edb7b6",
   "metadata": {},
   "outputs": [
    {
     "name": "stdout",
     "output_type": "stream",
     "text": [
      "1.26.4\n",
      "2.2.2\n",
      "0.13.2\n",
      "3.9.2\n"
     ]
    }
   ],
   "source": [
    "print(np.__version__)\n",
    "print(pd.__version__)\n",
    "print(sb.__version__)\n",
    "print(mtlb.__version__)"
   ]
  },
  {
   "cell_type": "code",
   "execution_count": null,
   "id": "0d98240d-1f75-42de-88fd-41f1094d88c1",
   "metadata": {},
   "outputs": [],
   "source": [
    "np.random.choice(1234567890)"
   ]
  },
  {
   "cell_type": "code",
   "execution_count": null,
   "id": "418c7778-5910-4b61-b5c4-b45fa329b2b9",
   "metadata": {},
   "outputs": [],
   "source": []
  }
 ],
 "metadata": {
  "kernelspec": {
   "display_name": "Python [conda env:base] *",
   "language": "python",
   "name": "conda-base-py"
  },
  "language_info": {
   "codemirror_mode": {
    "name": "ipython",
    "version": 3
   },
   "file_extension": ".py",
   "mimetype": "text/x-python",
   "name": "python",
   "nbconvert_exporter": "python",
   "pygments_lexer": "ipython3",
   "version": "3.12.7"
  }
 },
 "nbformat": 4,
 "nbformat_minor": 5
}
