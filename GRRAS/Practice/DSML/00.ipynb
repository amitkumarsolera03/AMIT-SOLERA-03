{
 "cells": [
  {
   "cell_type": "code",
   "execution_count": null,
   "id": "19817bc6-2200-4b3b-8d02-2e726bd65bff",
   "metadata": {},
   "outputs": [],
   "source": []
  },
  {
   "cell_type": "code",
   "execution_count": 39,
   "id": "cc0693e0-78ac-42f4-9444-df84d069c76e",
   "metadata": {},
   "outputs": [],
   "source": [
    "data = [2500, 3000, 3200, 2800, 2700, 2900, 3100, 2600, 2750, 3500, 4000, 3600, 3200, 3300, 3400]"
   ]
  },
  {
   "cell_type": "code",
   "execution_count": 40,
   "id": "7effc897-50cf-44e2-97e4-e43e0d907632",
   "metadata": {},
   "outputs": [],
   "source": [
    "mean = sum(data)/len(data)"
   ]
  },
  {
   "cell_type": "code",
   "execution_count": 41,
   "id": "ff990a5b-9fa6-442b-9698-ee35b43a992f",
   "metadata": {},
   "outputs": [
    {
     "name": "stdout",
     "output_type": "stream",
     "text": [
      "3103.3333333333335\n"
     ]
    }
   ],
   "source": [
    "print(mean)"
   ]
  },
  {
   "cell_type": "code",
   "execution_count": null,
   "id": "7c7cef36-5993-4311-a052-5822aa2549e2",
   "metadata": {},
   "outputs": [],
   "source": []
  },
  {
   "cell_type": "code",
   "execution_count": 42,
   "id": "cf642dc3-b2f8-4357-88b4-bf2a9ed6be93",
   "metadata": {},
   "outputs": [],
   "source": [
    "r = max(data) - min(data)"
   ]
  },
  {
   "cell_type": "code",
   "execution_count": 43,
   "id": "eee5b719-afea-4b6e-a37b-00c158bf4a25",
   "metadata": {},
   "outputs": [
    {
     "name": "stdout",
     "output_type": "stream",
     "text": [
      "1500\n"
     ]
    }
   ],
   "source": [
    "print(r)"
   ]
  },
  {
   "cell_type": "code",
   "execution_count": 23,
   "id": "2e2bd4cc-9dc3-47d4-8f3f-e13608739691",
   "metadata": {},
   "outputs": [
    {
     "data": {
      "text/plain": [
       "15"
      ]
     },
     "execution_count": 23,
     "metadata": {},
     "output_type": "execute_result"
    }
   ],
   "source": []
  },
  {
   "cell_type": "code",
   "execution_count": 27,
   "id": "6323e2d6-0977-46fb-ab7a-2ec4ee661c6b",
   "metadata": {},
   "outputs": [],
   "source": []
  },
  {
   "cell_type": "code",
   "execution_count": 28,
   "id": "526c57cb-c576-4997-a81b-98a9ed300ce2",
   "metadata": {},
   "outputs": [
    {
     "data": {
      "text/plain": [
       "[2500,\n",
       " 2600,\n",
       " 2700,\n",
       " 2750,\n",
       " 2800,\n",
       " 2900,\n",
       " 3000,\n",
       " 3100,\n",
       " 3200,\n",
       " 3200,\n",
       " 3300,\n",
       " 3400,\n",
       " 3500,\n",
       " 3600,\n",
       " 4000]"
      ]
     },
     "execution_count": 28,
     "metadata": {},
     "output_type": "execute_result"
    }
   ],
   "source": []
  },
  {
   "cell_type": "code",
   "execution_count": 37,
   "id": "81a543c4-792f-4de6-84be-da11daa14f9c",
   "metadata": {},
   "outputs": [
    {
     "data": {
      "text/plain": [
       "7"
      ]
     },
     "execution_count": 37,
     "metadata": {},
     "output_type": "execute_result"
    }
   ],
   "source": [
    "len(data) // 2"
   ]
  },
  {
   "cell_type": "code",
   "execution_count": 38,
   "id": "5f736943-06bc-4068-85d7-d26d8dfca69b",
   "metadata": {},
   "outputs": [
    {
     "data": {
      "text/plain": [
       "3100"
      ]
     },
     "execution_count": 38,
     "metadata": {},
     "output_type": "execute_result"
    }
   ],
   "source": [
    "data[7]"
   ]
  },
  {
   "cell_type": "code",
   "execution_count": null,
   "id": "c7ee588f-9ed7-4a03-8038-fe2258e651f3",
   "metadata": {},
   "outputs": [],
   "source": []
  }
 ],
 "metadata": {
  "kernelspec": {
   "display_name": "Python [conda env:base] *",
   "language": "python",
   "name": "conda-base-py"
  },
  "language_info": {
   "codemirror_mode": {
    "name": "ipython",
    "version": 3
   },
   "file_extension": ".py",
   "mimetype": "text/x-python",
   "name": "python",
   "nbconvert_exporter": "python",
   "pygments_lexer": "ipython3",
   "version": "3.12.7"
  }
 },
 "nbformat": 4,
 "nbformat_minor": 5
}
