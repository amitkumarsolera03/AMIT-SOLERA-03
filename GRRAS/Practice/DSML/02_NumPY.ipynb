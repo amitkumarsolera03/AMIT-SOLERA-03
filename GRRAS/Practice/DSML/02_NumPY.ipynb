{
 "cells": [
  {
   "cell_type": "markdown",
   "id": "61e67772-ae3f-4ea9-9958-f1940f90a4a1",
   "metadata": {},
   "source": [
    "# Numpy\n",
    "    Numerical Python\n",
    "\n",
    "    Widely used library for Statistical purpose\n",
    "\n",
    "    Fast access and Manipulation numerical data"
   ]
  },
  {
   "cell_type": "markdown",
   "id": "22e103d5-ab5e-48ef-9d17-9f5f6edbfe2d",
   "metadata": {},
   "source": [
    "- For Install \n",
    "\n",
    "        pip install numpy\n",
    "    \n",
    "        pip install uv\n",
    "    \n",
    "        pip install numpy --> Rust"
   ]
  },
  {
   "cell_type": "code",
   "execution_count": 1,
   "id": "891a8f40-896f-4c52-94f5-ab95cb4ba616",
   "metadata": {},
   "outputs": [
    {
     "name": "stdout",
     "output_type": "stream",
     "text": [
      "Requirement already satisfied: numpy in c:\\users\\hp\\anaconda3\\lib\\site-packages (1.26.4)\n",
      "Note: you may need to restart the kernel to use updated packages.\n"
     ]
    }
   ],
   "source": [
    "pip install numpy"
   ]
  },
  {
   "cell_type": "code",
   "execution_count": 2,
   "id": "98362800-c9b0-4d9d-8a88-aa0d54d6d510",
   "metadata": {},
   "outputs": [],
   "source": [
    "import numpy as np"
   ]
  },
  {
   "cell_type": "code",
   "execution_count": null,
   "id": "995b2474-c673-4995-a187-1ee5bcbe6d9a",
   "metadata": {},
   "outputs": [],
   "source": []
  }
 ],
 "metadata": {
  "kernelspec": {
   "display_name": "Python [conda env:base] *",
   "language": "python",
   "name": "conda-base-py"
  },
  "language_info": {
   "codemirror_mode": {
    "name": "ipython",
    "version": 3
   },
   "file_extension": ".py",
   "mimetype": "text/x-python",
   "name": "python",
   "nbconvert_exporter": "python",
   "pygments_lexer": "ipython3",
   "version": "3.12.7"
  }
 },
 "nbformat": 4,
 "nbformat_minor": 5
}
