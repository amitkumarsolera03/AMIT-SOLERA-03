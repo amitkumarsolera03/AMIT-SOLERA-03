{
 "cells": [
  {
   "cell_type": "markdown",
   "id": "3e6909ac-9376-4066-bc5c-c658d2a7736e",
   "metadata": {},
   "source": [
    "# List"
   ]
  },
  {
   "cell_type": "code",
   "execution_count": 2,
   "id": "90639f28-8f8a-4206-b7f4-dc647b4aaf5a",
   "metadata": {},
   "outputs": [
    {
     "data": {
      "text/plain": [
       "['__add__',\n",
       " '__class__',\n",
       " '__class_getitem__',\n",
       " '__contains__',\n",
       " '__delattr__',\n",
       " '__delitem__',\n",
       " '__dir__',\n",
       " '__doc__',\n",
       " '__eq__',\n",
       " '__format__',\n",
       " '__ge__',\n",
       " '__getattribute__',\n",
       " '__getitem__',\n",
       " '__getstate__',\n",
       " '__gt__',\n",
       " '__hash__',\n",
       " '__iadd__',\n",
       " '__imul__',\n",
       " '__init__',\n",
       " '__init_subclass__',\n",
       " '__iter__',\n",
       " '__le__',\n",
       " '__len__',\n",
       " '__lt__',\n",
       " '__mul__',\n",
       " '__ne__',\n",
       " '__new__',\n",
       " '__reduce__',\n",
       " '__reduce_ex__',\n",
       " '__repr__',\n",
       " '__reversed__',\n",
       " '__rmul__',\n",
       " '__setattr__',\n",
       " '__setitem__',\n",
       " '__sizeof__',\n",
       " '__str__',\n",
       " '__subclasshook__',\n",
       " 'append',\n",
       " 'clear',\n",
       " 'copy',\n",
       " 'count',\n",
       " 'extend',\n",
       " 'index',\n",
       " 'insert',\n",
       " 'pop',\n",
       " 'remove',\n",
       " 'reverse',\n",
       " 'sort']"
      ]
     },
     "execution_count": 2,
     "metadata": {},
     "output_type": "execute_result"
    }
   ],
   "source": [
    "dir(list)"
   ]
  },
  {
   "cell_type": "code",
   "execution_count": 30,
   "id": "1cd6fcdc-eefe-482a-ba81-fe1f2329f4d3",
   "metadata": {},
   "outputs": [
    {
     "data": {
      "text/plain": [
       "['Amit', 'Sonu', 'Abhi', 'Yogi']"
      ]
     },
     "execution_count": 30,
     "metadata": {},
     "output_type": "execute_result"
    }
   ],
   "source": [
    "ls = [\"Amit\", \"Sonu\" , \"Abhi\",\"Yogi\"]\n",
    "ls"
   ]
  },
  {
   "cell_type": "code",
   "execution_count": 9,
   "id": "38b6f910-821a-462c-b04d-dc413b2cc2d3",
   "metadata": {},
   "outputs": [
    {
     "data": {
      "text/plain": [
       "1"
      ]
     },
     "execution_count": 9,
     "metadata": {},
     "output_type": "execute_result"
    }
   ],
   "source": [
    "ls.count(\"Amit\")\n",
    "# print(ls.count(\"Amit\"))"
   ]
  },
  {
   "cell_type": "code",
   "execution_count": 31,
   "id": "232acd4f-9b2c-4b29-8723-658deeb94f30",
   "metadata": {},
   "outputs": [
    {
     "name": "stdout",
     "output_type": "stream",
     "text": [
      "['Amit', 'Sonu', 'Abhi', 'Yogi', 'mahesh', 'aju']\n"
     ]
    }
   ],
   "source": [
    "ls2 = [\"mahesh\",\"aju\"]\n",
    "ls.extend(ls2)\n",
    "print(ls)"
   ]
  },
  {
   "cell_type": "code",
   "execution_count": 29,
   "id": "8953b0e4-bade-4ae5-8055-f855ef44b482",
   "metadata": {},
   "outputs": [
    {
     "data": {
      "text/plain": [
       "0"
      ]
     },
     "execution_count": 29,
     "metadata": {},
     "output_type": "execute_result"
    }
   ],
   "source": [
    "ls2.count(\"Amit\")"
   ]
  },
  {
   "cell_type": "code",
   "execution_count": 36,
   "id": "ca228caa-7b3d-4bc2-95a1-c9b9c55342a9",
   "metadata": {},
   "outputs": [
    {
     "data": {
      "text/plain": [
       "'python'"
      ]
     },
     "execution_count": 36,
     "metadata": {},
     "output_type": "execute_result"
    }
   ],
   "source": [
    "name = \" p y t h o n \"\n",
    "\n",
    "name.replace(\" \",\"\")"
   ]
  },
  {
   "cell_type": "code",
   "execution_count": 40,
   "id": "66805730-e933-4e13-81dc-75cbe7aae04b",
   "metadata": {},
   "outputs": [
    {
     "name": "stdout",
     "output_type": "stream",
     "text": [
      "1\n",
      "0\n"
     ]
    }
   ],
   "source": [
    "a = \"\"\n",
    "b = \" \"\n",
    "print(len(b))\n",
    "print(len(a))"
   ]
  },
  {
   "cell_type": "code",
   "execution_count": 42,
   "id": "c3709519-4e20-416b-acc4-d805b9bd4ffb",
   "metadata": {},
   "outputs": [
    {
     "data": {
      "text/plain": [
       "True"
      ]
     },
     "execution_count": 42,
     "metadata": {},
     "output_type": "execute_result"
    }
   ],
   "source": [
    "a = \"Python is a programming Language.\"\n",
    "a.startswith(\"Python\")"
   ]
  },
  {
   "cell_type": "code",
   "execution_count": 47,
   "id": "730615d2-9b95-4d8d-87f4-c9dc874e03e9",
   "metadata": {},
   "outputs": [
    {
     "data": {
      "text/plain": [
       "True"
      ]
     },
     "execution_count": 47,
     "metadata": {},
     "output_type": "execute_result"
    }
   ],
   "source": [
    "a.endswith(\"Language.\")"
   ]
  },
  {
   "cell_type": "code",
   "execution_count": 56,
   "id": "ea0f9cd8-47a8-444a-a78d-ec21bc5a0279",
   "metadata": {},
   "outputs": [
    {
     "data": {
      "text/plain": [
       "'Python'"
      ]
     },
     "execution_count": 56,
     "metadata": {},
     "output_type": "execute_result"
    }
   ],
   "source": [
    "a = \" Python \"\n",
    "a.strip()\n"
   ]
  },
  {
   "cell_type": "code",
   "execution_count": null,
   "id": "feb50083-8349-473b-9037-9b694180b179",
   "metadata": {},
   "outputs": [],
   "source": [
    "a = \" ##python \""
   ]
  },
  {
   "cell_type": "code",
   "execution_count": 58,
   "id": "249efcf5-931e-493e-980e-77bd15876b0b",
   "metadata": {},
   "outputs": [
    {
     "data": {
      "text/plain": [
       "'Python'"
      ]
     },
     "execution_count": 58,
     "metadata": {},
     "output_type": "execute_result"
    }
   ],
   "source": [
    "a.strip(\" #\")"
   ]
  },
  {
   "cell_type": "code",
   "execution_count": 64,
   "id": "95129bb7-db5a-4ae6-a1cf-87a4065b660d",
   "metadata": {},
   "outputs": [],
   "source": [
    "a = \"AmitSolera\""
   ]
  },
  {
   "cell_type": "code",
   "execution_count": 63,
   "id": "5d49b487-2727-4041-9516-a49d07db059f",
   "metadata": {},
   "outputs": [
    {
     "data": {
      "text/plain": [
       "['Amitsolera']"
      ]
     },
     "execution_count": 63,
     "metadata": {},
     "output_type": "execute_result"
    }
   ],
   "source": [
    "a.split()"
   ]
  },
  {
   "cell_type": "code",
   "execution_count": null,
   "id": "9e3a84a7-95a8-4837-8229-d211734e4038",
   "metadata": {},
   "outputs": [],
   "source": []
  },
  {
   "cell_type": "code",
   "execution_count": null,
   "id": "b2714453-1001-4589-a402-546131eb4204",
   "metadata": {},
   "outputs": [],
   "source": []
  },
  {
   "cell_type": "code",
   "execution_count": 10,
   "id": "97b0a259-cb86-4de1-98cb-70e94d317e83",
   "metadata": {},
   "outputs": [
    {
     "name": "stdin",
     "output_type": "stream",
     "text": [
      "enter name - Amit\n"
     ]
    },
    {
     "name": "stdout",
     "output_type": "stream",
     "text": [
      "Hello Amit welcome.\n"
     ]
    }
   ],
   "source": [
    "name = input(\"enter name -\")\n",
    "print(f\"Hello {name} welcome.\")"
   ]
  },
  {
   "cell_type": "code",
   "execution_count": 18,
   "id": "a05e035e-b1e3-4902-9735-1612758f357d",
   "metadata": {},
   "outputs": [
    {
     "name": "stdin",
     "output_type": "stream",
     "text": [
      "Enter x - 5\n",
      "Enter y - 6\n"
     ]
    },
    {
     "name": "stdout",
     "output_type": "stream",
     "text": [
      "5 + 6 = 56\n"
     ]
    }
   ],
   "source": [
    "x = input(\"Enter x -\")\n",
    "y = input(\"Enter y -\")\n",
    "\n",
    "print(f\"{x} + {y} = {x+y}\")"
   ]
  },
  {
   "cell_type": "code",
   "execution_count": 19,
   "id": "177a9167-217b-44ba-86b5-e65bd21ff5c0",
   "metadata": {},
   "outputs": [
    {
     "name": "stdin",
     "output_type": "stream",
     "text": [
      "Enter x - 5\n",
      "Enter y - 6\n"
     ]
    },
    {
     "name": "stdout",
     "output_type": "stream",
     "text": [
      "Sum - 5 + 6 = 11\n"
     ]
    }
   ],
   "source": [
    "x = int(input(\"Enter x -\"))\n",
    "y = int(input(\"Enter y -\"))\n",
    "\n",
    "print(f\"Sum --> {x} + {y} = {x+y}\")"
   ]
  },
  {
   "cell_type": "code",
   "execution_count": 23,
   "id": "47a4c8cd-0a51-4b53-bc21-ecb71559b8a6",
   "metadata": {},
   "outputs": [
    {
     "name": "stdout",
     "output_type": "stream",
     "text": [
      "<class 'str'>\n",
      "<class 'int'>\n"
     ]
    }
   ],
   "source": [
    "x = \"11\"\n",
    "y = int(x)\n",
    "\n",
    "print(type(x))\n",
    "print(type(y))"
   ]
  },
  {
   "cell_type": "markdown",
   "id": "7adfb70e-435a-4828-b867-9fe7f47f5c43",
   "metadata": {},
   "source": [
    "Binary - 0 1 0b\n",
    "\n",
    "Octal - 0 1 2 3 4 5 6 7 0o\n",
    "\n",
    "decimal - 0 1 2 3 4 5 6 7 8 9 (int) 0d\n",
    "\n",
    "hexadcimal - 0 1 2 3 4 5 6 7 8 9 A B C D E F "
   ]
  },
  {
   "cell_type": "code",
   "execution_count": null,
   "id": "49560032-d3f6-4385-8f31-5d3070dc5c8d",
   "metadata": {},
   "outputs": [],
   "source": []
  },
  {
   "cell_type": "code",
   "execution_count": 29,
   "id": "f03c5067-751b-4c95-b0fa-b126d514cac6",
   "metadata": {},
   "outputs": [
    {
     "name": "stdout",
     "output_type": "stream",
     "text": [
      "13\n"
     ]
    }
   ],
   "source": [
    "x = 0b1101\n",
    "print(x)"
   ]
  },
  {
   "cell_type": "code",
   "execution_count": 30,
   "id": "20c69cbf-2d59-4bbe-be52-941ceca3b7c0",
   "metadata": {},
   "outputs": [
    {
     "name": "stdout",
     "output_type": "stream",
     "text": [
      "0b1101\n"
     ]
    }
   ],
   "source": [
    "x = 13\n",
    "print(bin(x))"
   ]
  },
  {
   "cell_type": "code",
   "execution_count": 26,
   "id": "67f662f8-e3a6-4db9-84b7-e09745a867a8",
   "metadata": {},
   "outputs": [
    {
     "name": "stdout",
     "output_type": "stream",
     "text": [
      "11\n",
      "0xb\n",
      "0b1011\n",
      "0o13\n"
     ]
    }
   ],
   "source": [
    "print(y)\n",
    "print(hex(11))\n",
    "print(bin(y))\n",
    "print(oct(y))"
   ]
  },
  {
   "cell_type": "code",
   "execution_count": 31,
   "id": "8adbca24-377e-4484-b53d-75b0b2f8f34e",
   "metadata": {
    "scrolled": true
   },
   "outputs": [
    {
     "name": "stdout",
     "output_type": "stream",
     "text": [
      "Help on class int in module builtins:\n",
      "\n",
      "class int(object)\n",
      " |  int([x]) -> integer\n",
      " |  int(x, base=10) -> integer\n",
      " |\n",
      " |  Convert a number or string to an integer, or return 0 if no arguments\n",
      " |  are given.  If x is a number, return x.__int__().  For floating-point\n",
      " |  numbers, this truncates towards zero.\n",
      " |\n",
      " |  If x is not a number or if base is given, then x must be a string,\n",
      " |  bytes, or bytearray instance representing an integer literal in the\n",
      " |  given base.  The literal can be preceded by '+' or '-' and be surrounded\n",
      " |  by whitespace.  The base defaults to 10.  Valid bases are 0 and 2-36.\n",
      " |  Base 0 means to interpret the base from the string as an integer literal.\n",
      " |  >>> int('0b100', base=0)\n",
      " |  4\n",
      " |\n",
      " |  Built-in subclasses:\n",
      " |      bool\n",
      " |\n",
      " |  Methods defined here:\n",
      " |\n",
      " |  __abs__(self, /)\n",
      " |      abs(self)\n",
      " |\n",
      " |  __add__(self, value, /)\n",
      " |      Return self+value.\n",
      " |\n",
      " |  __and__(self, value, /)\n",
      " |      Return self&value.\n",
      " |\n",
      " |  __bool__(self, /)\n",
      " |      True if self else False\n",
      " |\n",
      " |  __ceil__(...)\n",
      " |      Ceiling of an Integral returns itself.\n",
      " |\n",
      " |  __divmod__(self, value, /)\n",
      " |      Return divmod(self, value).\n",
      " |\n",
      " |  __eq__(self, value, /)\n",
      " |      Return self==value.\n",
      " |\n",
      " |  __float__(self, /)\n",
      " |      float(self)\n",
      " |\n",
      " |  __floor__(...)\n",
      " |      Flooring an Integral returns itself.\n",
      " |\n",
      " |  __floordiv__(self, value, /)\n",
      " |      Return self//value.\n",
      " |\n",
      " |  __format__(self, format_spec, /)\n",
      " |      Convert to a string according to format_spec.\n",
      " |\n",
      " |  __ge__(self, value, /)\n",
      " |      Return self>=value.\n",
      " |\n",
      " |  __getattribute__(self, name, /)\n",
      " |      Return getattr(self, name).\n",
      " |\n",
      " |  __getnewargs__(self, /)\n",
      " |\n",
      " |  __gt__(self, value, /)\n",
      " |      Return self>value.\n",
      " |\n",
      " |  __hash__(self, /)\n",
      " |      Return hash(self).\n",
      " |\n",
      " |  __index__(self, /)\n",
      " |      Return self converted to an integer, if self is suitable for use as an index into a list.\n",
      " |\n",
      " |  __int__(self, /)\n",
      " |      int(self)\n",
      " |\n",
      " |  __invert__(self, /)\n",
      " |      ~self\n",
      " |\n",
      " |  __le__(self, value, /)\n",
      " |      Return self<=value.\n",
      " |\n",
      " |  __lshift__(self, value, /)\n",
      " |      Return self<<value.\n",
      " |\n",
      " |  __lt__(self, value, /)\n",
      " |      Return self<value.\n",
      " |\n",
      " |  __mod__(self, value, /)\n",
      " |      Return self%value.\n",
      " |\n",
      " |  __mul__(self, value, /)\n",
      " |      Return self*value.\n",
      " |\n",
      " |  __ne__(self, value, /)\n",
      " |      Return self!=value.\n",
      " |\n",
      " |  __neg__(self, /)\n",
      " |      -self\n",
      " |\n",
      " |  __or__(self, value, /)\n",
      " |      Return self|value.\n",
      " |\n",
      " |  __pos__(self, /)\n",
      " |      +self\n",
      " |\n",
      " |  __pow__(self, value, mod=None, /)\n",
      " |      Return pow(self, value, mod).\n",
      " |\n",
      " |  __radd__(self, value, /)\n",
      " |      Return value+self.\n",
      " |\n",
      " |  __rand__(self, value, /)\n",
      " |      Return value&self.\n",
      " |\n",
      " |  __rdivmod__(self, value, /)\n",
      " |      Return divmod(value, self).\n",
      " |\n",
      " |  __repr__(self, /)\n",
      " |      Return repr(self).\n",
      " |\n",
      " |  __rfloordiv__(self, value, /)\n",
      " |      Return value//self.\n",
      " |\n",
      " |  __rlshift__(self, value, /)\n",
      " |      Return value<<self.\n",
      " |\n",
      " |  __rmod__(self, value, /)\n",
      " |      Return value%self.\n",
      " |\n",
      " |  __rmul__(self, value, /)\n",
      " |      Return value*self.\n",
      " |\n",
      " |  __ror__(self, value, /)\n",
      " |      Return value|self.\n",
      " |\n",
      " |  __round__(...)\n",
      " |      Rounding an Integral returns itself.\n",
      " |\n",
      " |      Rounding with an ndigits argument also returns an integer.\n",
      " |\n",
      " |  __rpow__(self, value, mod=None, /)\n",
      " |      Return pow(value, self, mod).\n",
      " |\n",
      " |  __rrshift__(self, value, /)\n",
      " |      Return value>>self.\n",
      " |\n",
      " |  __rshift__(self, value, /)\n",
      " |      Return self>>value.\n",
      " |\n",
      " |  __rsub__(self, value, /)\n",
      " |      Return value-self.\n",
      " |\n",
      " |  __rtruediv__(self, value, /)\n",
      " |      Return value/self.\n",
      " |\n",
      " |  __rxor__(self, value, /)\n",
      " |      Return value^self.\n",
      " |\n",
      " |  __sizeof__(self, /)\n",
      " |      Returns size in memory, in bytes.\n",
      " |\n",
      " |  __sub__(self, value, /)\n",
      " |      Return self-value.\n",
      " |\n",
      " |  __truediv__(self, value, /)\n",
      " |      Return self/value.\n",
      " |\n",
      " |  __trunc__(...)\n",
      " |      Truncating an Integral returns itself.\n",
      " |\n",
      " |  __xor__(self, value, /)\n",
      " |      Return self^value.\n",
      " |\n",
      " |  as_integer_ratio(self, /)\n",
      " |      Return a pair of integers, whose ratio is equal to the original int.\n",
      " |\n",
      " |      The ratio is in lowest terms and has a positive denominator.\n",
      " |\n",
      " |      >>> (10).as_integer_ratio()\n",
      " |      (10, 1)\n",
      " |      >>> (-10).as_integer_ratio()\n",
      " |      (-10, 1)\n",
      " |      >>> (0).as_integer_ratio()\n",
      " |      (0, 1)\n",
      " |\n",
      " |  bit_count(self, /)\n",
      " |      Number of ones in the binary representation of the absolute value of self.\n",
      " |\n",
      " |      Also known as the population count.\n",
      " |\n",
      " |      >>> bin(13)\n",
      " |      '0b1101'\n",
      " |      >>> (13).bit_count()\n",
      " |      3\n",
      " |\n",
      " |  bit_length(self, /)\n",
      " |      Number of bits necessary to represent self in binary.\n",
      " |\n",
      " |      >>> bin(37)\n",
      " |      '0b100101'\n",
      " |      >>> (37).bit_length()\n",
      " |      6\n",
      " |\n",
      " |  conjugate(...)\n",
      " |      Returns self, the complex conjugate of any int.\n",
      " |\n",
      " |  is_integer(self, /)\n",
      " |      Returns True. Exists for duck type compatibility with float.is_integer.\n",
      " |\n",
      " |  to_bytes(self, /, length=1, byteorder='big', *, signed=False)\n",
      " |      Return an array of bytes representing an integer.\n",
      " |\n",
      " |      length\n",
      " |        Length of bytes object to use.  An OverflowError is raised if the\n",
      " |        integer is not representable with the given number of bytes.  Default\n",
      " |        is length 1.\n",
      " |      byteorder\n",
      " |        The byte order used to represent the integer.  If byteorder is 'big',\n",
      " |        the most significant byte is at the beginning of the byte array.  If\n",
      " |        byteorder is 'little', the most significant byte is at the end of the\n",
      " |        byte array.  To request the native byte order of the host system, use\n",
      " |        `sys.byteorder' as the byte order value.  Default is to use 'big'.\n",
      " |      signed\n",
      " |        Determines whether two's complement is used to represent the integer.\n",
      " |        If signed is False and a negative integer is given, an OverflowError\n",
      " |        is raised.\n",
      " |\n",
      " |  ----------------------------------------------------------------------\n",
      " |  Class methods defined here:\n",
      " |\n",
      " |  from_bytes(bytes, byteorder='big', *, signed=False)\n",
      " |      Return the integer represented by the given array of bytes.\n",
      " |\n",
      " |      bytes\n",
      " |        Holds the array of bytes to convert.  The argument must either\n",
      " |        support the buffer protocol or be an iterable object producing bytes.\n",
      " |        Bytes and bytearray are examples of built-in objects that support the\n",
      " |        buffer protocol.\n",
      " |      byteorder\n",
      " |        The byte order used to represent the integer.  If byteorder is 'big',\n",
      " |        the most significant byte is at the beginning of the byte array.  If\n",
      " |        byteorder is 'little', the most significant byte is at the end of the\n",
      " |        byte array.  To request the native byte order of the host system, use\n",
      " |        `sys.byteorder' as the byte order value.  Default is to use 'big'.\n",
      " |      signed\n",
      " |        Indicates whether two's complement is used to represent the integer.\n",
      " |\n",
      " |  ----------------------------------------------------------------------\n",
      " |  Static methods defined here:\n",
      " |\n",
      " |  __new__(*args, **kwargs)\n",
      " |      Create and return a new object.  See help(type) for accurate signature.\n",
      " |\n",
      " |  ----------------------------------------------------------------------\n",
      " |  Data descriptors defined here:\n",
      " |\n",
      " |  denominator\n",
      " |      the denominator of a rational number in lowest terms\n",
      " |\n",
      " |  imag\n",
      " |      the imaginary part of a complex number\n",
      " |\n",
      " |  numerator\n",
      " |      the numerator of a rational number in lowest terms\n",
      " |\n",
      " |  real\n",
      " |      the real part of a complex number\n",
      "\n"
     ]
    }
   ],
   "source": [
    "help(int)"
   ]
  },
  {
   "cell_type": "code",
   "execution_count": 32,
   "id": "820c75db-643e-4d2d-a25d-f6ed4d5302fa",
   "metadata": {},
   "outputs": [
    {
     "name": "stdout",
     "output_type": "stream",
     "text": [
      "13 <class 'int'>\n"
     ]
    }
   ],
   "source": [
    "x = int(\"1101\" , base = 2)\n",
    "print(x , type(x))"
   ]
  },
  {
   "cell_type": "code",
   "execution_count": 37,
   "id": "6eabb189-c0dd-489e-981d-e7fa800363a6",
   "metadata": {},
   "outputs": [
    {
     "name": "stdout",
     "output_type": "stream",
     "text": [
      "43981 <class 'int'>\n"
     ]
    }
   ],
   "source": [
    "x = int(\"abcd\", base=16)\n",
    "print(x , type(x))"
   ]
  },
  {
   "cell_type": "code",
   "execution_count": null,
   "id": "fdd19b2b-0692-4139-8f81-f37fac6393b8",
   "metadata": {},
   "outputs": [],
   "source": []
  },
  {
   "cell_type": "code",
   "execution_count": 38,
   "id": "30db8a9f-baa1-45fb-a394-5f5bdabd53ce",
   "metadata": {},
   "outputs": [
    {
     "name": "stdin",
     "output_type": "stream",
     "text": [
      "Enter x - 12\n",
      "Enter y - 10\n"
     ]
    },
    {
     "name": "stdout",
     "output_type": "stream",
     "text": [
      "Sum --> 12.0 + 10.0 = 22.0\n"
     ]
    }
   ],
   "source": [
    "x = float(input(\"Enter x -\"))\n",
    "y = float(input(\"Enter y -\"))\n",
    "\n",
    "print(f\"Sum --> {x} + {y} = {x+y}\")"
   ]
  },
  {
   "cell_type": "code",
   "execution_count": 52,
   "id": "ae5dbd3e-a64f-47dd-b613-73f3d0fa1ab2",
   "metadata": {},
   "outputs": [
    {
     "name": "stdin",
     "output_type": "stream",
     "text": [
      "Enter your name :-           amIt SoLERa\n",
      "Enter your birth year :- 2007\n"
     ]
    },
    {
     "name": "stdout",
     "output_type": "stream",
     "text": [
      "Hello Amit Solera your age is 18\n"
     ]
    }
   ],
   "source": [
    "#  write a code to take username as input and its birth year as input then write a geeting message .\n",
    "\n",
    "name = input(\"Enter your name :-\").strip().title()\n",
    "year = int(input(\"Enter your birth year :-\"))\n",
    "\n",
    "age = 2025 - year\n",
    "\n",
    "# newName = (name.strip()).title()\n",
    "# name = name2.capitalize()\n",
    "\n",
    "print(f\"Hello {newName} your age is {age}\")"
   ]
  },
  {
   "cell_type": "code",
   "execution_count": 46,
   "id": "c985387b-cb77-47e1-a310-8a41802c9957",
   "metadata": {},
   "outputs": [
    {
     "data": {
      "text/plain": [
       "'AMIT'"
      ]
     },
     "execution_count": 46,
     "metadata": {},
     "output_type": "execute_result"
    }
   ],
   "source": [
    "\"_-!@#$AMIT_-!@#$#\".strip(\"_-!@#&$\")"
   ]
  },
  {
   "cell_type": "code",
   "execution_count": 56,
   "id": "e4ab076e-f46d-4357-a483-28b72f9dfdf5",
   "metadata": {},
   "outputs": [
    {
     "name": "stdin",
     "output_type": "stream",
     "text": [
      "Date: 02\n",
      "Month: 12\n",
      "Year: 2007\n"
     ]
    },
    {
     "name": "stdout",
     "output_type": "stream",
     "text": [
      "18: -6: 18\n"
     ]
    }
   ],
   "source": [
    "import datetime\n",
    "\n",
    "date = datetime.datetime.now()\n",
    "day =int (input(\"Date:\"))\n",
    "month =int (input(\"Month:\"))\n",
    "year =int (input(\"Year:\"))\n",
    "\n",
    "current_age = print(f\"{date.day - day}: {date.month - month}: {date.year - year}\")"
   ]
  },
  {
   "cell_type": "code",
   "execution_count": 62,
   "id": "b801bf55-db4c-4c2f-a088-f302c0e4fbb1",
   "metadata": {},
   "outputs": [
    {
     "name": "stdout",
     "output_type": "stream",
     "text": [
      "Amit Solera-----\n",
      "----Amit Solera\n",
      "Amit Solera\n"
     ]
    }
   ],
   "source": [
    "str = \"----Amit Solera-----\"\n",
    "print(str.lstrip(\"-\"))\n",
    "print(str.rstrip(\"-\"))\n",
    "print(str.strip(\"-\"))"
   ]
  },
  {
   "cell_type": "code",
   "execution_count": null,
   "id": "243fd080-6995-4be0-8806-ca00400e41fd",
   "metadata": {},
   "outputs": [],
   "source": []
  },
  {
   "cell_type": "code",
   "execution_count": 64,
   "id": "f7d5aa0f-269f-4203-bf8a-285296440ecb",
   "metadata": {},
   "outputs": [
    {
     "name": "stdout",
     "output_type": "stream",
     "text": [
      "['My', 'name', 'is', 'Amit', 'Solera']\n"
     ]
    }
   ],
   "source": [
    "s = \"My name is Amit Solera\"\n",
    "st = s.split()\n",
    "print(st)"
   ]
  },
  {
   "cell_type": "code",
   "execution_count": 66,
   "id": "e5219aa7-33b1-48bd-bf41-29afcb7a20b7",
   "metadata": {},
   "outputs": [
    {
     "name": "stdout",
     "output_type": "stream",
     "text": [
      "My name is Amit Solera\n"
     ]
    }
   ],
   "source": [
    "str = \" \".join(st)\n",
    "print(str)"
   ]
  },
  {
   "cell_type": "code",
   "execution_count": null,
   "id": "26411503-a982-4747-a049-0814e9ed7926",
   "metadata": {},
   "outputs": [],
   "source": []
  },
  {
   "cell_type": "code",
   "execution_count": 67,
   "id": "cc12f5c5-8167-41f3-ae0a-07149ee7751b",
   "metadata": {},
   "outputs": [
    {
     "name": "stdout",
     "output_type": "stream",
     "text": [
      "Name is Amit, age is 17 from india,sikar\n"
     ]
    }
   ],
   "source": [
    "user = [\"Amit\",17,\"india\",\"sikar\"]\n",
    "print(f\"Name is {user[0]}, age is {user[1]} from {user[2]},{user[3]}\")"
   ]
  },
  {
   "cell_type": "code",
   "execution_count": 68,
   "id": "09175881-deb7-490a-bbc5-5ecd3017e342",
   "metadata": {},
   "outputs": [
    {
     "name": "stdout",
     "output_type": "stream",
     "text": [
      "['Java', 'C++', 'Python', 'HTML']\n"
     ]
    }
   ],
   "source": [
    "lang = [\"Java\", \"C++\", \"Python\"]\n",
    "lang.append(\"HTML\")\n",
    "print(lang)"
   ]
  },
  {
   "cell_type": "code",
   "execution_count": 70,
   "id": "ebe18f85-3956-482f-a06a-26dd84edee2b",
   "metadata": {},
   "outputs": [
    {
     "name": "stdout",
     "output_type": "stream",
     "text": [
      "['C++', 'HTML', 'Java', 'Python']\n"
     ]
    }
   ],
   "source": [
    "lang.sort()\n",
    "print(lang)"
   ]
  },
  {
   "cell_type": "code",
   "execution_count": null,
   "id": "51c045b1-d351-42f9-8c90-953abc3a125a",
   "metadata": {},
   "outputs": [],
   "source": []
  },
  {
   "cell_type": "code",
   "execution_count": 74,
   "id": "2734209b-3a6f-41cb-bd36-10333808d98d",
   "metadata": {},
   "outputs": [
    {
     "name": "stdout",
     "output_type": "stream",
     "text": [
      "None\n"
     ]
    }
   ],
   "source": [
    "lg = lang.append(\"CSS\")\n",
    "print(lg) #None"
   ]
  },
  {
   "cell_type": "code",
   "execution_count": 73,
   "id": "fdabf14c-3b92-4585-8341-52adbc891895",
   "metadata": {},
   "outputs": [
    {
     "name": "stdout",
     "output_type": "stream",
     "text": [
      "hello\n",
      "retuen- None\n"
     ]
    }
   ],
   "source": [
    "# ------------------------------------------\n",
    "info = print(\"hello\")\n",
    "print(\"retuen-\", info)"
   ]
  },
  {
   "cell_type": "code",
   "execution_count": 77,
   "id": "8f3ae836-b622-4c33-aa0f-b384aa5a898c",
   "metadata": {},
   "outputs": [
    {
     "name": "stdout",
     "output_type": "stream",
     "text": [
      "      Amit Solera    \n"
     ]
    },
    {
     "ename": "AttributeError",
     "evalue": "'NoneType' object has no attribute 'strip'",
     "output_type": "error",
     "traceback": [
      "\u001b[1;31m---------------------------------------------------------------------------\u001b[0m",
      "\u001b[1;31mAttributeError\u001b[0m                            Traceback (most recent call last)",
      "Cell \u001b[1;32mIn[77], line 1\u001b[0m\n\u001b[1;32m----> 1\u001b[0m \u001b[38;5;28mprint\u001b[39m(\u001b[38;5;124m\"\u001b[39m\u001b[38;5;124m      Amit Solera    \u001b[39m\u001b[38;5;124m\"\u001b[39m)\u001b[38;5;241m.\u001b[39mstrip()\n",
      "\u001b[1;31mAttributeError\u001b[0m: 'NoneType' object has no attribute 'strip'"
     ]
    }
   ],
   "source": [
    "print(\"      Amit Solera    \").strip()"
   ]
  },
  {
   "cell_type": "code",
   "execution_count": 78,
   "id": "51b445f4-e453-467e-b93f-5b99454c847d",
   "metadata": {},
   "outputs": [
    {
     "name": "stdout",
     "output_type": "stream",
     "text": [
      "None\n"
     ]
    }
   ],
   "source": [
    "lang = [\"Java\", \"C++\", \"Python\"]\n",
    "lg = lang.append(\"CSS\")\n",
    "print(lg) #None"
   ]
  },
  {
   "cell_type": "code",
   "execution_count": null,
   "id": "78459d11-2938-4b74-a1fb-e2db59588ca5",
   "metadata": {},
   "outputs": [],
   "source": []
  },
  {
   "cell_type": "code",
   "execution_count": null,
   "id": "4f3b50e2-cd0e-4d16-8ad2-9df5191656f6",
   "metadata": {},
   "outputs": [],
   "source": []
  },
  {
   "cell_type": "code",
   "execution_count": 80,
   "id": "fb9e5300-3ab4-4955-b5b3-c4af2742b880",
   "metadata": {},
   "outputs": [],
   "source": [
    "s = \"       PyThOn ProGRamming      \""
   ]
  },
  {
   "cell_type": "code",
   "execution_count": 82,
   "id": "33a0b1a7-a8c1-4615-819f-afe99c8b05a0",
   "metadata": {},
   "outputs": [
    {
     "name": "stdout",
     "output_type": "stream",
     "text": [
      "PyThOn ProGRamming\n"
     ]
    }
   ],
   "source": [
    "# removing leading space\n",
    "\n",
    "s = s.strip()\n",
    "print(s)"
   ]
  },
  {
   "cell_type": "code",
   "execution_count": 83,
   "id": "eeb0b371-7d45-4287-add7-0ff21c0f8b9d",
   "metadata": {},
   "outputs": [
    {
     "name": "stdout",
     "output_type": "stream",
     "text": [
      "python programming\n"
     ]
    }
   ],
   "source": [
    "# convert into lower case\n",
    "s = s.lower()\n",
    "print(s)"
   ]
  },
  {
   "cell_type": "code",
   "execution_count": 84,
   "id": "46847877-9e76-44c8-ba9a-012fb9049209",
   "metadata": {},
   "outputs": [
    {
     "name": "stdout",
     "output_type": "stream",
     "text": [
      "Python programming\n"
     ]
    }
   ],
   "source": [
    "# capatilize\n",
    "s = s.capitalize()\n",
    "print(s)"
   ]
  },
  {
   "cell_type": "code",
   "execution_count": 86,
   "id": "1dc923ff-a326-401e-8642-37a94eaa4d6b",
   "metadata": {},
   "outputs": [
    {
     "name": "stdout",
     "output_type": "stream",
     "text": [
      "Python programming\n"
     ]
    }
   ],
   "source": [
    "s = \"       PyThOn ProGRamming      \".strip().lower().capitalize()\n",
    "print(s)"
   ]
  },
  {
   "cell_type": "code",
   "execution_count": null,
   "id": "f19ed952-e16e-4808-aab1-1c4cca99682d",
   "metadata": {},
   "outputs": [],
   "source": []
  },
  {
   "cell_type": "code",
   "execution_count": 87,
   "id": "f81bb425-6755-4b5c-bd3b-a14a918e9e81",
   "metadata": {},
   "outputs": [],
   "source": [
    "text = \"I love Python, Python is easy\""
   ]
  },
  {
   "cell_type": "code",
   "execution_count": 101,
   "id": "9cf7eef1-f2e3-4b57-b34f-0ed77661462c",
   "metadata": {},
   "outputs": [
    {
     "name": "stdout",
     "output_type": "stream",
     "text": [
      "7\n"
     ]
    }
   ],
   "source": [
    "# index \n",
    "# index = text.find(\"Python\")\n",
    "index = text.index(\"Python\")\n",
    "\n",
    "print(index)"
   ]
  },
  {
   "cell_type": "code",
   "execution_count": 90,
   "id": "3833abfc-b2b7-4ea8-91bc-3ccba5024764",
   "metadata": {},
   "outputs": [
    {
     "name": "stdout",
     "output_type": "stream",
     "text": [
      "I love Java, Java is easy\n"
     ]
    }
   ],
   "source": [
    "replace = text.replace(\"Python\" , \"Java\")\n",
    "print(replace)"
   ]
  },
  {
   "cell_type": "code",
   "execution_count": 91,
   "id": "e8873f20-b121-4598-8eeb-bde928b97f82",
   "metadata": {},
   "outputs": [
    {
     "name": "stdout",
     "output_type": "stream",
     "text": [
      "True\n"
     ]
    }
   ],
   "source": [
    "end = text.endswith(\"easy\")\n",
    "print(end)"
   ]
  },
  {
   "cell_type": "code",
   "execution_count": null,
   "id": "34027bb5-2906-40a7-8179-167f37c548a5",
   "metadata": {},
   "outputs": [],
   "source": []
  },
  {
   "cell_type": "code",
   "execution_count": 95,
   "id": "0029ab33-646b-45d3-a701-1bf0eb24ba87",
   "metadata": {},
   "outputs": [],
   "source": [
    "data = \"apple,banana,mango,grape\""
   ]
  },
  {
   "cell_type": "code",
   "execution_count": 98,
   "id": "1eb8b3d7-8f14-4530-824c-b375238c859f",
   "metadata": {},
   "outputs": [
    {
     "name": "stdout",
     "output_type": "stream",
     "text": [
      "['apple', 'banana', 'mango', 'grape']\n"
     ]
    }
   ],
   "source": [
    "lst = data.split(\",\")\n",
    "print(lst)"
   ]
  },
  {
   "cell_type": "code",
   "execution_count": null,
   "id": "d12054c9-baff-4fe1-a26f-aa1366ddeab8",
   "metadata": {},
   "outputs": [],
   "source": []
  },
  {
   "cell_type": "code",
   "execution_count": null,
   "id": "b46387d1-3200-409a-b40c-c5d0c42c44d0",
   "metadata": {},
   "outputs": [],
   "source": []
  },
  {
   "cell_type": "markdown",
   "id": "93365321-189d-4191-96bc-623f338d9cf5",
   "metadata": {},
   "source": [
    "## Assignment\n",
    "\n",
    "    20/06/2025"
   ]
  },
  {
   "cell_type": "code",
   "execution_count": 79,
   "id": "95d37269-201a-4ecd-8d58-775582db8adf",
   "metadata": {},
   "outputs": [
    {
     "name": "stdout",
     "output_type": "stream",
     "text": [
      "append\n",
      "clear\n",
      "copy\n",
      "count\n",
      "extend\n",
      "index\n",
      "insert\n",
      "pop\n",
      "remove\n",
      "reverse\n",
      "sort\n"
     ]
    }
   ],
   "source": [
    "print(*dir(list)[-11:], sep=\"\\n\")"
   ]
  },
  {
   "cell_type": "code",
   "execution_count": null,
   "id": "ff099cbe-b5d3-4b4f-bb73-0c2a3a419257",
   "metadata": {},
   "outputs": [],
   "source": []
  }
 ],
 "metadata": {
  "kernelspec": {
   "display_name": "Python [conda env:base] *",
   "language": "python",
   "name": "conda-base-py"
  },
  "language_info": {
   "codemirror_mode": {
    "name": "ipython",
    "version": 3
   },
   "file_extension": ".py",
   "mimetype": "text/x-python",
   "name": "python",
   "nbconvert_exporter": "python",
   "pygments_lexer": "ipython3",
   "version": "3.12.7"
  }
 },
 "nbformat": 4,
 "nbformat_minor": 5
}
