{
 "cells": [
  {
   "cell_type": "markdown",
   "id": "50d9429e-edc3-4c69-b612-189c32536be9",
   "metadata": {},
   "source": [
    "# File Handling"
   ]
  },
  {
   "cell_type": "markdown",
   "id": "fdabab08-4de2-443f-a9b6-d00659cea387",
   "metadata": {},
   "source": [
    "    Text File --> Encoding (UTF-8,ascii,...) - Human Readable Files\n",
    "\n",
    "    Binary File --> Bytes --> Special Encoding"
   ]
  },
  {
   "cell_type": "markdown",
   "id": "ee1ca0c0-cf2f-4f58-8645-c7311935162b",
   "metadata": {},
   "source": [
    "    Files --> Persistenc Collection of Data"
   ]
  },
  {
   "cell_type": "markdown",
   "id": "bfdf868e-c462-4a76-941f-2b8d89feb6ee",
   "metadata": {},
   "source": [
    "    with open(\"FileName/Path of file\" , \"mode\") as file_obj\n",
    "\n",
    "    file_obj - open(\"File path\" ,\"mode\")\n",
    "    file_obj.read(5)\n",
    "    file_obj.write(\"info\")\n",
    "    file_obj.flush() # enforce file obj to write data into HDD from RAM\n",
    "    file_obj.close() # flush and close file\n",
    "\n",
    "    buffer --> 2 MB"
   ]
  },
  {
   "cell_type": "markdown",
   "id": "f9a34ec5-4661-43ac-b637-ddfa232bc00c",
   "metadata": {},
   "source": [
    "     File Path --> Make Sure path is Valid and Exists"
   ]
  },
  {
   "cell_type": "code",
   "execution_count": null,
   "id": "0b2b4da6-e221-45d6-901d-393806dcc28e",
   "metadata": {},
   "outputs": [],
   "source": []
  },
  {
   "cell_type": "code",
   "execution_count": 1,
   "id": "fc380b46-c983-452f-8c4b-5c1672f72ee7",
   "metadata": {},
   "outputs": [],
   "source": [
    "from pathlib import Path"
   ]
  },
  {
   "cell_type": "code",
   "execution_count": 2,
   "id": "18ac96f0-eb5b-4352-9dbe-be5b6af0c0c6",
   "metadata": {},
   "outputs": [],
   "source": [
    "c = \"Hello World\""
   ]
  },
  {
   "cell_type": "code",
   "execution_count": 3,
   "id": "adafd770-250f-449f-936f-cf9cd308d233",
   "metadata": {},
   "outputs": [],
   "source": [
    "fp = open(\"hello.py\" , \"x\")\n",
    "fp.write(c)\n",
    "fp.close()"
   ]
  },
  {
   "cell_type": "code",
   "execution_count": 4,
   "id": "0e021f67-56d2-4634-87ea-8b51144d9730",
   "metadata": {},
   "outputs": [
    {
     "name": "stdout",
     "output_type": "stream",
     "text": [
      "<_io.TextIOWrapper name='hello.py' mode='x' encoding='cp1252'>\n"
     ]
    }
   ],
   "source": [
    "print(fp)"
   ]
  },
  {
   "cell_type": "code",
   "execution_count": null,
   "id": "51eb87bb-fd05-46a4-98c3-a57413a7b813",
   "metadata": {},
   "outputs": [],
   "source": []
  },
  {
   "cell_type": "markdown",
   "id": "1426b634-ef37-4a17-9db0-3001214e669c",
   "metadata": {},
   "source": [
    "## Find Topper from Hello.txt and print it's name with percentage"
   ]
  },
  {
   "cell_type": "code",
   "execution_count": null,
   "id": "7b61c942-6e8c-4e38-8d84-c543cf57ebdd",
   "metadata": {},
   "outputs": [],
   "source": []
  },
  {
   "cell_type": "markdown",
   "id": "cf450ea1-be60-45b3-b02f-4b6f5d933544",
   "metadata": {},
   "source": [
    "`!git clone https://github.com/sachinyadav3496/Datasets`"
   ]
  },
  {
   "cell_type": "markdown",
   "id": "593f07d6-dc16-4acd-817d-938d8504fe11",
   "metadata": {},
   "source": [
    "# Serilzation and Databases"
   ]
  },
  {
   "cell_type": "code",
   "execution_count": null,
   "id": "310ca41c-1a2d-48cf-a2f4-c6c89c8bba18",
   "metadata": {},
   "outputs": [],
   "source": []
  },
  {
   "cell_type": "code",
   "execution_count": 1,
   "id": "06c67d78-e630-432d-a5e7-3aedbe8a210a",
   "metadata": {},
   "outputs": [
    {
     "name": "stdout",
     "output_type": "stream",
     "text": [
      "Requirement already satisfied: pymysql in c:\\users\\hp\\anaconda3\\lib\\site-packages (1.1.1)\n"
     ]
    }
   ],
   "source": [
    "!pip install pymysql"
   ]
  },
  {
   "cell_type": "code",
   "execution_count": 6,
   "id": "584404e9-2600-46df-902b-a863daf7fd51",
   "metadata": {},
   "outputs": [],
   "source": [
    "import pymysql"
   ]
  },
  {
   "cell_type": "code",
   "execution_count": 11,
   "id": "c3990a88-4687-495e-babe-fd2a26433044",
   "metadata": {},
   "outputs": [],
   "source": [
    "HOSTNAME = \"localhost\"\n",
    "PORT = 3306\n",
    "USER = \"root\"\n",
    "PASSWORD = \"\"\n",
    "\n",
    "DEFAULT_SCHEMA = \"student\""
   ]
  },
  {
   "cell_type": "code",
   "execution_count": 12,
   "id": "eccd672a-0407-4374-9b0a-da8527e62228",
   "metadata": {},
   "outputs": [],
   "source": [
    "con = pymysql.connect(host = HOSTNAME , port = PORT , user = USER , password = PASSWORD)"
   ]
  },
  {
   "cell_type": "code",
   "execution_count": 13,
   "id": "f5b07e2e-0df0-44ed-ac3e-60c01be3bf8e",
   "metadata": {},
   "outputs": [],
   "source": [
    "cur = con.cursor()"
   ]
  },
  {
   "cell_type": "code",
   "execution_count": null,
   "id": "0f56f8f6-4aee-4f4b-bab2-5b44f2eac991",
   "metadata": {},
   "outputs": [],
   "source": []
  }
 ],
 "metadata": {
  "kernelspec": {
   "display_name": "Python [conda env:base] *",
   "language": "python",
   "name": "conda-base-py"
  },
  "language_info": {
   "codemirror_mode": {
    "name": "ipython",
    "version": 3
   },
   "file_extension": ".py",
   "mimetype": "text/x-python",
   "name": "python",
   "nbconvert_exporter": "python",
   "pygments_lexer": "ipython3",
   "version": "3.12.7"
  }
 },
 "nbformat": 4,
 "nbformat_minor": 5
}
