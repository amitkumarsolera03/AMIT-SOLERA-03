{
 "cells": [
  {
   "cell_type": "markdown",
   "id": "22f8bf33-94a4-43cf-97f0-1b0d68264946",
   "metadata": {},
   "source": [
    "# Indexing and Slicing\n",
    "\n",
    "\n",
    "-- Intrupt command --> CTRL + ii"
   ]
  },
  {
   "cell_type": "code",
   "execution_count": 10,
   "id": "e80e3c76-21ad-4c2d-a0f3-62164f1e70c7",
   "metadata": {},
   "outputs": [],
   "source": [
    "str = \"Amit Solera\""
   ]
  },
  {
   "cell_type": "code",
   "execution_count": 11,
   "id": "e3e4760f-68f4-4255-bfc5-5ce6a70763b5",
   "metadata": {},
   "outputs": [],
   "source": [
    "c = str[5]"
   ]
  },
  {
   "cell_type": "code",
   "execution_count": 12,
   "id": "5c10c736-4cfa-4c53-9d36-6093de41bfe6",
   "metadata": {},
   "outputs": [
    {
     "name": "stdout",
     "output_type": "stream",
     "text": [
      "S\n"
     ]
    }
   ],
   "source": [
    "print(c)"
   ]
  },
  {
   "cell_type": "markdown",
   "id": "b14ac7cc-0883-40e6-91c2-9624cd1ef9ee",
   "metadata": {},
   "source": [
    "left 2 right --> 0 to n-1\n",
    "\n",
    "right 2 left --> -1 to -n "
   ]
  },
  {
   "cell_type": "markdown",
   "id": "c04546f0-0afc-4316-94bc-5c122142cfef",
   "metadata": {},
   "source": [
    "## Slicing\n",
    "\n",
    "    SubSequence of a Sequence\n",
    "\n",
    "    iterable Sequence collection List\n",
    "\n",
    "    By Default Left to Right"
   ]
  },
  {
   "cell_type": "code",
   "execution_count": 25,
   "id": "f0c69001-2764-4a2a-9f49-2256faeb9a53",
   "metadata": {},
   "outputs": [],
   "source": [
    "lng = [\"Java\", \"C\", \"C++\", \"Roby\", \"Python\", \"PHP\", \"Ruby\", \"Java Script\", \"Swift\"]"
   ]
  },
  {
   "cell_type": "code",
   "execution_count": 26,
   "id": "a4f69243-2050-45a2-9e41-238d08f2de80",
   "metadata": {},
   "outputs": [
    {
     "name": "stdout",
     "output_type": "stream",
     "text": [
      "['C', 'C++', 'Roby', 'Python']\n"
     ]
    }
   ],
   "source": [
    "print(lng[1:5])"
   ]
  },
  {
   "cell_type": "code",
   "execution_count": 27,
   "id": "ca26d2f1-15b3-46a9-bb8c-91fe56a73824",
   "metadata": {},
   "outputs": [],
   "source": [
    "str = \"Hello My Name is Amit Solera and age is 17.\""
   ]
  },
  {
   "cell_type": "code",
   "execution_count": 28,
   "id": "f8335528-7f50-49ff-9d32-a26738d194cb",
   "metadata": {},
   "outputs": [
    {
     "data": {
      "text/plain": [
       "17"
      ]
     },
     "execution_count": 28,
     "metadata": {},
     "output_type": "execute_result"
    }
   ],
   "source": [
    "str.index(\"A\")"
   ]
  },
  {
   "cell_type": "code",
   "execution_count": 29,
   "id": "abca71a9-57be-4655-959e-1921ab3515c0",
   "metadata": {},
   "outputs": [
    {
     "data": {
      "text/plain": [
       "'Amit Solera'"
      ]
     },
     "execution_count": 29,
     "metadata": {},
     "output_type": "execute_result"
    }
   ],
   "source": [
    "str[17:28]"
   ]
  },
  {
   "cell_type": "code",
   "execution_count": 30,
   "id": "d3f30dda-61d7-4361-be66-708929d47584",
   "metadata": {},
   "outputs": [],
   "source": [
    "s = \"Hello World!\""
   ]
  },
  {
   "cell_type": "code",
   "execution_count": 31,
   "id": "74701ec8-9e19-4889-8752-eb242071cbf4",
   "metadata": {},
   "outputs": [
    {
     "data": {
      "text/plain": [
       "'World'"
      ]
     },
     "execution_count": 31,
     "metadata": {},
     "output_type": "execute_result"
    }
   ],
   "source": [
    "s[-6:-1]"
   ]
  },
  {
   "cell_type": "code",
   "execution_count": 36,
   "id": "056ef392-7608-4718-91ac-e330a5f85649",
   "metadata": {},
   "outputs": [
    {
     "data": {
      "text/plain": [
       "'Hello'"
      ]
     },
     "execution_count": 36,
     "metadata": {},
     "output_type": "execute_result"
    }
   ],
   "source": [
    "s[:5]"
   ]
  },
  {
   "cell_type": "code",
   "execution_count": 38,
   "id": "9b4c8a96-c7f4-4ca5-9bbb-d03961b34230",
   "metadata": {},
   "outputs": [
    {
     "data": {
      "text/plain": [
       "'World!'"
      ]
     },
     "execution_count": 38,
     "metadata": {},
     "output_type": "execute_result"
    }
   ],
   "source": [
    "s[6:]"
   ]
  },
  {
   "cell_type": "code",
   "execution_count": 40,
   "id": "dac20564-398a-472e-89f2-cd6406ed082c",
   "metadata": {},
   "outputs": [
    {
     "data": {
      "text/plain": [
       "'Hello World!'"
      ]
     },
     "execution_count": 40,
     "metadata": {},
     "output_type": "execute_result"
    }
   ],
   "source": [
    "s[:]"
   ]
  },
  {
   "cell_type": "markdown",
   "id": "45a88a87-3806-45fa-9d0c-42b95395beec",
   "metadata": {},
   "source": [
    "' Slicing Returns a sub-Sequence '"
   ]
  },
  {
   "cell_type": "markdown",
   "id": "9ef98ecc-c524-4c07-abfa-a00fea0f1839",
   "metadata": {},
   "source": [
    "### seq[start:stop:step]"
   ]
  },
  {
   "cell_type": "code",
   "execution_count": 65,
   "id": "e58aac3b-6f7b-4f13-a905-37d840db4703",
   "metadata": {},
   "outputs": [],
   "source": [
    "s = \"Hello World!\""
   ]
  },
  {
   "cell_type": "code",
   "execution_count": 67,
   "id": "3c042ff8-3a73-4210-924e-ac6af76a3c7d",
   "metadata": {},
   "outputs": [
    {
     "data": {
      "text/plain": [
       "' olleH'"
      ]
     },
     "execution_count": 67,
     "metadata": {},
     "output_type": "execute_result"
    }
   ],
   "source": [
    "s[5::-1]"
   ]
  },
  {
   "cell_type": "code",
   "execution_count": 70,
   "id": "14e9e6ac-2f59-4b3c-b515-bca0c6a4bd30",
   "metadata": {},
   "outputs": [
    {
     "data": {
      "text/plain": [
       "'dlro'"
      ]
     },
     "execution_count": 70,
     "metadata": {},
     "output_type": "execute_result"
    }
   ],
   "source": [
    "s[-2:-6:-1]"
   ]
  },
  {
   "cell_type": "code",
   "execution_count": 49,
   "id": "113d251c-6133-4bff-bb1d-6eac7a8a832a",
   "metadata": {},
   "outputs": [
    {
     "data": {
      "text/plain": [
       "'el o'"
      ]
     },
     "execution_count": 49,
     "metadata": {},
     "output_type": "execute_result"
    }
   ],
   "source": [
    "s[1:9:2]"
   ]
  },
  {
   "cell_type": "code",
   "execution_count": 55,
   "id": "09b2e18f-589a-4bfe-9ea8-a32bd45876a5",
   "metadata": {},
   "outputs": [
    {
     "data": {
      "text/plain": [
       "'HloWrd'"
      ]
     },
     "execution_count": 55,
     "metadata": {},
     "output_type": "execute_result"
    }
   ],
   "source": [
    "s[::2]"
   ]
  },
  {
   "cell_type": "code",
   "execution_count": 58,
   "id": "50cbe4b5-ce83-4723-be97-ab20ad75e8bf",
   "metadata": {},
   "outputs": [],
   "source": [
    "lng = [\"Java\", \"C\", \"C++\", \"Roby\",\"perl\", \"Python\", \"PHP\",\"Bash\", \"Ruby\", \"Java Script\", \"Swift\"]"
   ]
  },
  {
   "cell_type": "code",
   "execution_count": 59,
   "id": "25cb2b3c-7209-4679-b1e6-f899dd521c9b",
   "metadata": {},
   "outputs": [
    {
     "data": {
      "text/plain": [
       "['C', 'perl', 'Bash']"
      ]
     },
     "execution_count": 59,
     "metadata": {},
     "output_type": "execute_result"
    }
   ],
   "source": [
    "lng[1:10:3]"
   ]
  },
  {
   "cell_type": "code",
   "execution_count": 63,
   "id": "09fca138-e8b4-4dfe-b944-537ced26be3b",
   "metadata": {},
   "outputs": [
    {
     "data": {
      "text/plain": [
       "['Python', 'C++']"
      ]
     },
     "execution_count": 63,
     "metadata": {},
     "output_type": "execute_result"
    }
   ],
   "source": [
    "lng[5:1:-3]"
   ]
  },
  {
   "cell_type": "code",
   "execution_count": 71,
   "id": "f8ae5c4b-b3c2-42a7-b64b-a97ee9d5b32b",
   "metadata": {},
   "outputs": [
    {
     "data": {
      "text/plain": [
       "['Swift', 'Ruby', 'PHP', 'perl', 'C++', 'Java']"
      ]
     },
     "execution_count": 71,
     "metadata": {},
     "output_type": "execute_result"
    }
   ],
   "source": [
    "lng[::-2]"
   ]
  },
  {
   "cell_type": "code",
   "execution_count": 72,
   "id": "0bfe7fb6-6217-4beb-ae34-14a76327aaf4",
   "metadata": {},
   "outputs": [
    {
     "data": {
      "text/plain": [
       "['Swift',\n",
       " 'Java Script',\n",
       " 'Ruby',\n",
       " 'Bash',\n",
       " 'PHP',\n",
       " 'Python',\n",
       " 'perl',\n",
       " 'Roby',\n",
       " 'C++',\n",
       " 'C',\n",
       " 'Java']"
      ]
     },
     "execution_count": 72,
     "metadata": {},
     "output_type": "execute_result"
    }
   ],
   "source": [
    "# reverse\n",
    "lng[::-1]"
   ]
  },
  {
   "cell_type": "code",
   "execution_count": null,
   "id": "d933aaa0-144c-4e4e-b974-4594ed60e254",
   "metadata": {},
   "outputs": [],
   "source": []
  },
  {
   "cell_type": "code",
   "execution_count": null,
   "id": "0a15c080-4555-4d76-a95b-0502c08b21d2",
   "metadata": {},
   "outputs": [],
   "source": []
  }
 ],
 "metadata": {
  "kernelspec": {
   "display_name": "Python [conda env:base] *",
   "language": "python",
   "name": "conda-base-py"
  },
  "language_info": {
   "codemirror_mode": {
    "name": "ipython",
    "version": 3
   },
   "file_extension": ".py",
   "mimetype": "text/x-python",
   "name": "python",
   "nbconvert_exporter": "python",
   "pygments_lexer": "ipython3",
   "version": "3.12.7"
  }
 },
 "nbformat": 4,
 "nbformat_minor": 5
}
