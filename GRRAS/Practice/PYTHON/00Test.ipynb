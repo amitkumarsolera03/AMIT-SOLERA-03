{
 "cells": [
  {
   "cell_type": "code",
   "execution_count": 1,
   "id": "8dce71d4-e01b-45d5-9f98-793838daf189",
   "metadata": {},
   "outputs": [],
   "source": [
    "tp = (\"Simaran\" , \"Gaurav\" , \"Sachin\" , \"Deep\")"
   ]
  },
  {
   "cell_type": "code",
   "execution_count": 2,
   "id": "703337bf-a6fc-4fee-ac79-93c106751082",
   "metadata": {},
   "outputs": [],
   "source": [
    "ls = list(tp)"
   ]
  },
  {
   "cell_type": "code",
   "execution_count": 3,
   "id": "c2c8992e-5703-4e4e-9448-3b522e47f0c2",
   "metadata": {},
   "outputs": [
    {
     "data": {
      "text/plain": [
       "['Simaran', 'Gaurav', 'Sachin', 'Deep']"
      ]
     },
     "execution_count": 3,
     "metadata": {},
     "output_type": "execute_result"
    }
   ],
   "source": [
    "ls"
   ]
  },
  {
   "cell_type": "code",
   "execution_count": 4,
   "id": "0991eca1-208d-4334-b0d1-e5a53bb11429",
   "metadata": {},
   "outputs": [],
   "source": [
    "ls[-1] = \"Rahul\""
   ]
  },
  {
   "cell_type": "code",
   "execution_count": 5,
   "id": "93539844-1945-4409-bb0e-95c409a232c5",
   "metadata": {},
   "outputs": [],
   "source": [
    "# ls.remove(\"Deep\")"
   ]
  },
  {
   "cell_type": "code",
   "execution_count": 6,
   "id": "ad21bbc4-6f97-4e7b-950a-ccaad93c0e73",
   "metadata": {},
   "outputs": [],
   "source": [
    "# ls.append(\"Rahul\")"
   ]
  },
  {
   "cell_type": "code",
   "execution_count": 7,
   "id": "dccb9aa5-00bf-4336-bf73-afa03356c3fa",
   "metadata": {},
   "outputs": [
    {
     "data": {
      "text/plain": [
       "['Simaran', 'Gaurav', 'Sachin', 'Rahul']"
      ]
     },
     "execution_count": 7,
     "metadata": {},
     "output_type": "execute_result"
    }
   ],
   "source": [
    "ls"
   ]
  },
  {
   "cell_type": "code",
   "execution_count": 8,
   "id": "8cd427e7-f0f5-4c47-a012-99ea8f1981b0",
   "metadata": {},
   "outputs": [],
   "source": [
    "tp = tuple(ls)"
   ]
  },
  {
   "cell_type": "code",
   "execution_count": 9,
   "id": "96e8efe2-afd5-4d44-811c-af8fd690fc10",
   "metadata": {},
   "outputs": [
    {
     "data": {
      "text/plain": [
       "('Simaran', 'Gaurav', 'Sachin', 'Rahul')"
      ]
     },
     "execution_count": 9,
     "metadata": {},
     "output_type": "execute_result"
    }
   ],
   "source": [
    "tp"
   ]
  },
  {
   "cell_type": "code",
   "execution_count": null,
   "id": "4a00f8fb-d9df-4cb4-a0de-2244d4b5248d",
   "metadata": {},
   "outputs": [],
   "source": []
  }
 ],
 "metadata": {
  "kernelspec": {
   "display_name": "Python [conda env:base] *",
   "language": "python",
   "name": "conda-base-py"
  },
  "language_info": {
   "codemirror_mode": {
    "name": "ipython",
    "version": 3
   },
   "file_extension": ".py",
   "mimetype": "text/x-python",
   "name": "python",
   "nbconvert_exporter": "python",
   "pygments_lexer": "ipython3",
   "version": "3.12.7"
  }
 },
 "nbformat": 4,
 "nbformat_minor": 5
}
