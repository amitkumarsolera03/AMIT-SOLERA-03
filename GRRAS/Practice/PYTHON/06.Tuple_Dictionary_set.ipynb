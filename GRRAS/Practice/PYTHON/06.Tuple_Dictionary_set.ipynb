{
 "cells": [
  {
   "cell_type": "markdown",
   "id": "d63eca97-a0c2-4b88-aa92-efcd6ad6985a",
   "metadata": {},
   "source": [
    "# Tuple\n",
    "    An immutable list\n",
    "\n",
    "    static collection type"
   ]
  },
  {
   "cell_type": "code",
   "execution_count": 3,
   "id": "067a0eca-6a18-4652-be69-bc3b78902d5b",
   "metadata": {},
   "outputs": [],
   "source": [
    "lng = (\"Java\", \"C\", \"C++\", \"Python\")"
   ]
  },
  {
   "cell_type": "code",
   "execution_count": 72,
   "id": "8b225519-a419-4513-b2d1-213238845c49",
   "metadata": {},
   "outputs": [
    {
     "name": "stdout",
     "output_type": "stream",
     "text": [
      "('Java', 'C', 'C++', 'Python')\n"
     ]
    }
   ],
   "source": [
    "print(lng)"
   ]
  },
  {
   "cell_type": "code",
   "execution_count": 73,
   "id": "ad6869ce-c251-4c22-9125-7c4db93f3ef9",
   "metadata": {},
   "outputs": [
    {
     "name": "stdout",
     "output_type": "stream",
     "text": [
      "<class 'tuple'>\n"
     ]
    }
   ],
   "source": [
    "print(type(lng))"
   ]
  },
  {
   "cell_type": "code",
   "execution_count": 74,
   "id": "c147d037-4a21-424d-b20c-1d2c4a3c5ce8",
   "metadata": {},
   "outputs": [
    {
     "data": {
      "text/plain": [
       "['__add__',\n",
       " '__class__',\n",
       " '__class_getitem__',\n",
       " '__contains__',\n",
       " '__delattr__',\n",
       " '__dir__',\n",
       " '__doc__',\n",
       " '__eq__',\n",
       " '__format__',\n",
       " '__ge__',\n",
       " '__getattribute__',\n",
       " '__getitem__',\n",
       " '__getnewargs__',\n",
       " '__getstate__',\n",
       " '__gt__',\n",
       " '__hash__',\n",
       " '__init__',\n",
       " '__init_subclass__',\n",
       " '__iter__',\n",
       " '__le__',\n",
       " '__len__',\n",
       " '__lt__',\n",
       " '__mul__',\n",
       " '__ne__',\n",
       " '__new__',\n",
       " '__reduce__',\n",
       " '__reduce_ex__',\n",
       " '__repr__',\n",
       " '__rmul__',\n",
       " '__setattr__',\n",
       " '__sizeof__',\n",
       " '__str__',\n",
       " '__subclasshook__',\n",
       " 'count',\n",
       " 'index']"
      ]
     },
     "execution_count": 74,
     "metadata": {},
     "output_type": "execute_result"
    }
   ],
   "source": [
    "dir(lng)"
   ]
  },
  {
   "cell_type": "code",
   "execution_count": 6,
   "id": "a0964626-d02f-4ab8-9033-5fc3c0467173",
   "metadata": {},
   "outputs": [
    {
     "ename": "TypeError",
     "evalue": "'tuple' object does not support item assignment",
     "output_type": "error",
     "traceback": [
      "\u001b[1;31m---------------------------------------------------------------------------\u001b[0m",
      "\u001b[1;31mTypeError\u001b[0m                                 Traceback (most recent call last)",
      "Cell \u001b[1;32mIn[6], line 1\u001b[0m\n\u001b[1;32m----> 1\u001b[0m lng[\u001b[38;5;241m0\u001b[39m] \u001b[38;5;241m=\u001b[39m \u001b[38;5;124m\"\u001b[39m\u001b[38;5;124mHTML\u001b[39m\u001b[38;5;124m\"\u001b[39m\n",
      "\u001b[1;31mTypeError\u001b[0m: 'tuple' object does not support item assignment"
     ]
    }
   ],
   "source": [
    "lng[0] = \"HTML\" # can't modified\n",
    "# a = list(lng)\n",
    "# a[0] = \"HTML\"\n",
    "# print(a)"
   ]
  },
  {
   "cell_type": "code",
   "execution_count": null,
   "id": "e47dd650-abf9-4a0f-9955-35dc66860de8",
   "metadata": {},
   "outputs": [],
   "source": []
  },
  {
   "cell_type": "markdown",
   "id": "4cc2ad9b-bb52-4db7-a6b2-6afcc830ae87",
   "metadata": {},
   "source": [
    "# Dictionary \n",
    "    Hash map type in python \n",
    "\n",
    "    mutable collection of key and value pairs , where keys are immutable types and values can be any object\n",
    "\n",
    "    unorderd data type"
   ]
  },
  {
   "cell_type": "code",
   "execution_count": 76,
   "id": "7e19736a-dfba-479c-9959-62d265260b19",
   "metadata": {},
   "outputs": [],
   "source": [
    "info = {\n",
    "    \"Name\" : \"Amit Solera\",\n",
    "    # \"Age\" :17,\n",
    "    \"Course\" : \"AI\",\n",
    "    \"Fee\" : 10000,\n",
    "    \"Paid\" : 6000\n",
    "}"
   ]
  },
  {
   "cell_type": "code",
   "execution_count": 77,
   "id": "2bb8fafd-3b91-4ee1-9f2a-7d53c1c54449",
   "metadata": {},
   "outputs": [
    {
     "name": "stdout",
     "output_type": "stream",
     "text": [
      "<class 'dict'>\n",
      "2659372257152\n"
     ]
    }
   ],
   "source": [
    "print(type(info))\n",
    "print(id(info))"
   ]
  },
  {
   "cell_type": "code",
   "execution_count": 78,
   "id": "6f596267-aea5-48dd-a17c-72c7b57c068a",
   "metadata": {},
   "outputs": [
    {
     "name": "stdout",
     "output_type": "stream",
     "text": [
      "{'Name': 'Amit Solera', 'Course': 'AI', 'Fee': 10000, 'Paid': 6000}\n"
     ]
    }
   ],
   "source": [
    "print(info)"
   ]
  },
  {
   "cell_type": "code",
   "execution_count": 79,
   "id": "bb097bec-088e-4e3f-8104-6ec5b5126302",
   "metadata": {},
   "outputs": [
    {
     "data": {
      "text/plain": [
       "dict_items([('Name', 'Amit Solera'), ('Course', 'AI'), ('Fee', 10000), ('Paid', 6000)])"
      ]
     },
     "execution_count": 79,
     "metadata": {},
     "output_type": "execute_result"
    }
   ],
   "source": [
    "info.items()"
   ]
  },
  {
   "cell_type": "code",
   "execution_count": 80,
   "id": "1b94a127-c65a-4dc0-b463-e8d4706c54f9",
   "metadata": {},
   "outputs": [],
   "source": [
    "n = (info['Fee'] - info['Paid'])"
   ]
  },
  {
   "cell_type": "code",
   "execution_count": 81,
   "id": "9de780cb-4736-4991-ae96-37179eabe676",
   "metadata": {},
   "outputs": [
    {
     "name": "stdout",
     "output_type": "stream",
     "text": [
      "4000\n"
     ]
    }
   ],
   "source": [
    "print(n)"
   ]
  },
  {
   "cell_type": "code",
   "execution_count": 82,
   "id": "75e1f65e-fe3b-4feb-bd26-7193c492176c",
   "metadata": {},
   "outputs": [],
   "source": [
    "# deposite 2000 rs of student fee"
   ]
  },
  {
   "cell_type": "code",
   "execution_count": 83,
   "id": "76b704ad-2138-4cac-a554-5fc27c5c7ffc",
   "metadata": {},
   "outputs": [
    {
     "name": "stdout",
     "output_type": "stream",
     "text": [
      "2000\n"
     ]
    }
   ],
   "source": [
    "print(n-2000)"
   ]
  },
  {
   "cell_type": "code",
   "execution_count": null,
   "id": "5ed2864e-0619-4fb0-9471-8d9d142e01d7",
   "metadata": {},
   "outputs": [],
   "source": []
  },
  {
   "cell_type": "code",
   "execution_count": 84,
   "id": "9c2892f8-7fd0-432f-ba0a-73a662a0fdb1",
   "metadata": {},
   "outputs": [
    {
     "name": "stdout",
     "output_type": "stream",
     "text": [
      "{'Name': 'Amit Solera', 'Course': 'AI', 'Fee': 10000, 'Paid': 8000}\n"
     ]
    }
   ],
   "source": [
    "info['Paid'] = info['Paid'] + 2000\n",
    "#info['Paid'] += 2000\n",
    "#info['Paid'] = 8000\n",
    "\n",
    "print(info)"
   ]
  },
  {
   "cell_type": "code",
   "execution_count": 87,
   "id": "6a9897d6-defc-4e9e-9762-c1432b0ebc06",
   "metadata": {},
   "outputs": [
    {
     "data": {
      "text/plain": [
       "['clear',\n",
       " 'copy',\n",
       " 'fromkeys',\n",
       " 'get',\n",
       " 'items',\n",
       " 'keys',\n",
       " 'pop',\n",
       " 'popitem',\n",
       " 'setdefault',\n",
       " 'update',\n",
       " 'values']"
      ]
     },
     "execution_count": 87,
     "metadata": {},
     "output_type": "execute_result"
    }
   ],
   "source": [
    "dir(dict)[-11:]"
   ]
  },
  {
   "cell_type": "code",
   "execution_count": 91,
   "id": "194c4d55-193d-477d-9e73-c1bdb1eae833",
   "metadata": {},
   "outputs": [],
   "source": [
    "data = {\n",
    "    \"x\" : 10,\n",
    "    \"y\" : 20,\n",
    "    \"z\" : 30\n",
    "}"
   ]
  },
  {
   "cell_type": "code",
   "execution_count": 93,
   "id": "b8ee8910-2cae-41f8-9929-02ce38d5a722",
   "metadata": {},
   "outputs": [
    {
     "data": {
      "text/plain": [
       "{'y': None}"
      ]
     },
     "execution_count": 93,
     "metadata": {},
     "output_type": "execute_result"
    }
   ],
   "source": [
    "data.fromkeys('y')"
   ]
  },
  {
   "cell_type": "code",
   "execution_count": 95,
   "id": "a01fa26b-c1b4-431c-bd6b-90501c556671",
   "metadata": {},
   "outputs": [
    {
     "data": {
      "text/plain": [
       "20"
      ]
     },
     "execution_count": 95,
     "metadata": {},
     "output_type": "execute_result"
    }
   ],
   "source": [
    "data.get('y')"
   ]
  },
  {
   "cell_type": "code",
   "execution_count": 99,
   "id": "440be5f4-3df8-453f-86f1-39798b1bf348",
   "metadata": {},
   "outputs": [],
   "source": [
    "books = {\n",
    "    \"Title\" : \"wings of fire\",\n",
    "    \"Price\" : 150,\n",
    "    \"Auther\" : \"apj\",\n",
    "    \"qty\" : 50\n",
    "}"
   ]
  },
  {
   "cell_type": "code",
   "execution_count": 102,
   "id": "8893d3da-82c5-4bb1-9d6c-9083b03ee715",
   "metadata": {},
   "outputs": [
    {
     "name": "stdin",
     "output_type": "stream",
     "text": [
      "Give :- qty\n"
     ]
    },
    {
     "name": "stdout",
     "output_type": "stream",
     "text": [
      "50\n"
     ]
    }
   ],
   "source": [
    "key = input(\"Give :-\").strip().lower()\n",
    "value = books.get(key , \"Not Found\")\n",
    "print(value)"
   ]
  },
  {
   "cell_type": "markdown",
   "id": "733faf81-593c-4118-9571-19a7ede1ad65",
   "metadata": {},
   "source": [
    "\n",
    "        dict.keys() --> returns key as a list kind of object\n",
    "        \n",
    "        dict.values() --> returns values as a list kind of object\n",
    "        \n",
    "        dict.items() --> returns key-value pair as a tuple inside a list kind of object"
   ]
  },
  {
   "cell_type": "code",
   "execution_count": 103,
   "id": "8f359f2c-d569-427a-80a7-148997b02a47",
   "metadata": {},
   "outputs": [
    {
     "data": {
      "text/plain": [
       "{'Title': 'wings of fire', 'Price': 150, 'Auther': 'apj', 'qty': 50}"
      ]
     },
     "execution_count": 103,
     "metadata": {},
     "output_type": "execute_result"
    }
   ],
   "source": [
    "books"
   ]
  },
  {
   "cell_type": "code",
   "execution_count": 107,
   "id": "5e0e11fa-0b0a-4ded-9fc4-9f52c137b262",
   "metadata": {},
   "outputs": [
    {
     "name": "stdout",
     "output_type": "stream",
     "text": [
      "dict_keys(['Title', 'Price', 'Auther', 'qty'])\n"
     ]
    }
   ],
   "source": [
    "keys = books.keys()\n",
    "print(keys)"
   ]
  },
  {
   "cell_type": "code",
   "execution_count": 108,
   "id": "a6fb44be-75a2-43a2-98c0-51a1ff494189",
   "metadata": {},
   "outputs": [
    {
     "name": "stdout",
     "output_type": "stream",
     "text": [
      "dict_items([('Title', 'wings of fire'), ('Price', 150), ('Auther', 'apj'), ('qty', 50)])\n"
     ]
    }
   ],
   "source": [
    "items = books.items()\n",
    "print(items)"
   ]
  },
  {
   "cell_type": "code",
   "execution_count": 109,
   "id": "c221b988-36cd-461e-8072-593dedb91ed1",
   "metadata": {},
   "outputs": [
    {
     "name": "stdout",
     "output_type": "stream",
     "text": [
      "dict_values(['wings of fire', 150, 'apj', 50])\n"
     ]
    }
   ],
   "source": [
    "values = books.values()\n",
    "print(values)"
   ]
  },
  {
   "cell_type": "code",
   "execution_count": 115,
   "id": "b635ea93-1ce9-49f0-9954-59a672a919e7",
   "metadata": {},
   "outputs": [],
   "source": [
    "books.update(Auther = 'xyz')"
   ]
  },
  {
   "cell_type": "code",
   "execution_count": 117,
   "id": "73484352-c3e9-4c4e-896f-a2eb08d23592",
   "metadata": {},
   "outputs": [
    {
     "name": "stdout",
     "output_type": "stream",
     "text": [
      "{'Title': 'wings of fire', 'Price': 150, 'Auther': 'xyz', 'qty': 50}\n"
     ]
    }
   ],
   "source": [
    "print(books)"
   ]
  },
  {
   "cell_type": "code",
   "execution_count": 118,
   "id": "4d4df263-34f2-43fa-b347-910253646287",
   "metadata": {},
   "outputs": [],
   "source": [
    "books.update([('Title' , 'abcd') , ('Price' , 100)])"
   ]
  },
  {
   "cell_type": "code",
   "execution_count": 119,
   "id": "3c697e02-6e48-4e76-a183-a5f1c7385e34",
   "metadata": {},
   "outputs": [
    {
     "name": "stdout",
     "output_type": "stream",
     "text": [
      "{'Title': 'abcd', 'Price': 100, 'Auther': 'xyz', 'qty': 50}\n"
     ]
    }
   ],
   "source": [
    "print(books)"
   ]
  },
  {
   "cell_type": "code",
   "execution_count": 120,
   "id": "22bde6f4-13cc-49e0-91c0-52bbce387b29",
   "metadata": {},
   "outputs": [],
   "source": [
    "del books['qty']"
   ]
  },
  {
   "cell_type": "code",
   "execution_count": 121,
   "id": "bab18a53-9fee-4a0f-b623-375259155eea",
   "metadata": {},
   "outputs": [
    {
     "data": {
      "text/plain": [
       "{'Title': 'abcd', 'Price': 100, 'Auther': 'xyz'}"
      ]
     },
     "execution_count": 121,
     "metadata": {},
     "output_type": "execute_result"
    }
   ],
   "source": [
    "books"
   ]
  },
  {
   "cell_type": "code",
   "execution_count": 122,
   "id": "588e34f3-9088-448e-af2a-6a583a6bf07f",
   "metadata": {},
   "outputs": [
    {
     "data": {
      "text/plain": [
       "100"
      ]
     },
     "execution_count": 122,
     "metadata": {},
     "output_type": "execute_result"
    }
   ],
   "source": [
    "books.pop('Price')"
   ]
  },
  {
   "cell_type": "code",
   "execution_count": 123,
   "id": "8ec63805-dbb1-4a6d-8bce-809c6444a515",
   "metadata": {},
   "outputs": [
    {
     "data": {
      "text/plain": [
       "{'Title': 'abcd', 'Auther': 'xyz'}"
      ]
     },
     "execution_count": 123,
     "metadata": {},
     "output_type": "execute_result"
    }
   ],
   "source": [
    "books"
   ]
  },
  {
   "cell_type": "code",
   "execution_count": null,
   "id": "44e3f5ef-d9b3-4e39-aea4-b2fddec08a20",
   "metadata": {},
   "outputs": [],
   "source": []
  },
  {
   "cell_type": "code",
   "execution_count": null,
   "id": "c43d7aad-edc2-4e56-a013-b2f11e9c0b44",
   "metadata": {},
   "outputs": [],
   "source": []
  },
  {
   "cell_type": "markdown",
   "id": "f964037b-c372-43aa-b778-fcae910f8635",
   "metadata": {},
   "source": [
    "# Set\n",
    "\n",
    "    collecion of unique hashable items"
   ]
  },
  {
   "cell_type": "code",
   "execution_count": 7,
   "id": "a1e74e6c-acaa-4b9f-ae23-ef60a038ba47",
   "metadata": {},
   "outputs": [],
   "source": [
    "s = {8,5,1,2,4}"
   ]
  },
  {
   "cell_type": "code",
   "execution_count": 8,
   "id": "0f9a0136-5932-4bca-a67e-d6c382036951",
   "metadata": {},
   "outputs": [
    {
     "name": "stdout",
     "output_type": "stream",
     "text": [
      "{1, 2, 4, 5, 8}\n"
     ]
    }
   ],
   "source": [
    "print(s)"
   ]
  },
  {
   "cell_type": "code",
   "execution_count": 11,
   "id": "93bac8a0-6ea4-4b7b-8b2b-98837fde67ed",
   "metadata": {},
   "outputs": [],
   "source": [
    "st = {'c','A','Z','s','S'}"
   ]
  },
  {
   "cell_type": "code",
   "execution_count": 12,
   "id": "a5da342e-4c1d-4d6f-b14b-2eddc097673f",
   "metadata": {},
   "outputs": [
    {
     "name": "stdout",
     "output_type": "stream",
     "text": [
      "{'S', 'c', 'Z', 'A', 's'}\n"
     ]
    }
   ],
   "source": [
    "print(st)"
   ]
  },
  {
   "cell_type": "markdown",
   "id": "3d07f345-baf6-4e81-a719-e00969a96045",
   "metadata": {},
   "source": [
    "## Set Theory"
   ]
  },
  {
   "cell_type": "code",
   "execution_count": 14,
   "id": "28780a67-1b27-4be1-bcc1-4de43bf9965b",
   "metadata": {},
   "outputs": [
    {
     "name": "stdout",
     "output_type": "stream",
     "text": [
      "add\n",
      "clear\n",
      "copy\n",
      "difference\n",
      "difference_update\n",
      "discard\n",
      "intersection\n",
      "intersection_update\n",
      "isdisjoint\n",
      "issubset\n",
      "issuperset\n",
      "pop\n",
      "remove\n",
      "symmetric_difference\n",
      "symmetric_difference_update\n",
      "union\n",
      "update\n"
     ]
    }
   ],
   "source": [
    "print(*dir(set)[-17:], sep=\"\\n\")"
   ]
  },
  {
   "cell_type": "code",
   "execution_count": 15,
   "id": "121aff25-edcf-47c1-a2ad-1fb63ce5f1bb",
   "metadata": {},
   "outputs": [],
   "source": [
    "s = {}"
   ]
  },
  {
   "cell_type": "code",
   "execution_count": 16,
   "id": "2fc28e60-f58c-462f-9628-662a97d6705e",
   "metadata": {},
   "outputs": [
    {
     "data": {
      "text/plain": [
       "dict"
      ]
     },
     "execution_count": 16,
     "metadata": {},
     "output_type": "execute_result"
    }
   ],
   "source": [
    "type(s)"
   ]
  },
  {
   "cell_type": "code",
   "execution_count": 17,
   "id": "c789d7ab-b30d-41bf-8a4b-faa1528d4536",
   "metadata": {},
   "outputs": [],
   "source": [
    "s = set()"
   ]
  },
  {
   "cell_type": "code",
   "execution_count": 18,
   "id": "7b050641-b984-4927-abbc-5607c8108a3f",
   "metadata": {},
   "outputs": [
    {
     "data": {
      "text/plain": [
       "set"
      ]
     },
     "execution_count": 18,
     "metadata": {},
     "output_type": "execute_result"
    }
   ],
   "source": [
    "type(s)"
   ]
  },
  {
   "cell_type": "code",
   "execution_count": null,
   "id": "c0d7e39d-fabe-4061-9297-1209649e0d6e",
   "metadata": {},
   "outputs": [],
   "source": []
  }
 ],
 "metadata": {
  "kernelspec": {
   "display_name": "Python [conda env:base] *",
   "language": "python",
   "name": "conda-base-py"
  },
  "language_info": {
   "codemirror_mode": {
    "name": "ipython",
    "version": 3
   },
   "file_extension": ".py",
   "mimetype": "text/x-python",
   "name": "python",
   "nbconvert_exporter": "python",
   "pygments_lexer": "ipython3",
   "version": "3.12.7"
  }
 },
 "nbformat": 4,
 "nbformat_minor": 5
}
