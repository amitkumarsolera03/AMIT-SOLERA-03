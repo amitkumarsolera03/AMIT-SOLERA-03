{
 "cells": [
  {
   "cell_type": "markdown",
   "id": "923f06dc-99de-4164-839b-4755d4c11e83",
   "metadata": {},
   "source": [
    "    input - gamil id \n",
    "    first letter digit \n",
    "    end with gmail.com\n",
    "    remaining there should be no symbol"
   ]
  },
  {
   "cell_type": "code",
   "execution_count": 12,
   "id": "dab6a865-c394-46a6-b96f-e2f9352b4689",
   "metadata": {},
   "outputs": [
    {
     "name": "stdin",
     "output_type": "stream",
     "text": [
      "Enter your mail:- simran121@@gmail.com\n"
     ]
    },
    {
     "name": "stdout",
     "output_type": "stream",
     "text": [
      "Not Valid\n"
     ]
    }
   ],
   "source": [
    "mail = input(\"Enter your mail:-\").strip()\n",
    "ending = mail.endswith(\"@gmail.com\")\n",
    "start = mail[0].isdigit()\n",
    "char = mail[:-10].isalnum()\n",
    "\n",
    "if start:\n",
    "    print(\"not valid\")\n",
    "elif not char:\n",
    "    print(\"Not Valid\")\n",
    "elif ending :\n",
    "    print(\"valid\")"
   ]
  },
  {
   "cell_type": "code",
   "execution_count": 15,
   "id": "80937cbb-8150-4437-a38e-0cfc5b876940",
   "metadata": {},
   "outputs": [
    {
     "name": "stdin",
     "output_type": "stream",
     "text": [
      "Enter your mail:-  amit1212@32@gmail.com.@gmail.com\n"
     ]
    },
    {
     "name": "stdout",
     "output_type": "stream",
     "text": [
      "Not Valid\n"
     ]
    }
   ],
   "source": [
    "mail = input(\"Enter your mail:-\").strip()\n",
    "ending = mail.endswith(\"@gmail.com\")\n",
    "start = mail[0].isdigit()\n",
    "char = mail[-11::-1].isalnum()\n",
    "\n",
    "if start:\n",
    "    print(\"not valid\")\n",
    "elif not char:\n",
    "    print(\"Not Valid\")\n",
    "elif ending :\n",
    "    print(\"valid\")"
   ]
  },
  {
   "cell_type": "code",
   "execution_count": 14,
   "id": "e94ad04b-7dc1-4eb7-b1a2-09aea8dedc3f",
   "metadata": {},
   "outputs": [
    {
     "name": "stdin",
     "output_type": "stream",
     "text": [
      "Enter your mail:-  amit1212@32@gmail.com\n"
     ]
    },
    {
     "name": "stdout",
     "output_type": "stream",
     "text": [
      "Not Valid\n"
     ]
    }
   ],
   "source": [
    "mail = input(\"Enter your mail:-\").strip()\n",
    "if mail.endswith(\"@gmail.com\") and mail.replace(\"@gmail.com\" , \"\")and mail.isalnum() and not mail[0].isdigit():\n",
    "    print(\"Valid\")\n",
    "else:\n",
    "    print(\"Not Valid\")"
   ]
  },
  {
   "cell_type": "code",
   "execution_count": null,
   "id": "f77f48fd-724f-43c5-920b-0b8fc6cbdab2",
   "metadata": {},
   "outputs": [],
   "source": []
  },
  {
   "cell_type": "markdown",
   "id": "8995e3d4-eac8-41bc-9dc1-c3996dca86a1",
   "metadata": {},
   "source": [
    "**05/07/2025**"
   ]
  },
  {
   "cell_type": "markdown",
   "id": "2d42f22c-c278-47df-8bd3-60fcceb481fa",
   "metadata": {},
   "source": [
    "# Prime Number"
   ]
  },
  {
   "cell_type": "code",
   "execution_count": 27,
   "id": "c27de2bf-d8b2-47fe-9ab6-d67d51e3f28a",
   "metadata": {},
   "outputs": [
    {
     "name": "stdin",
     "output_type": "stream",
     "text": [
      "Enter a Number:-  0\n"
     ]
    },
    {
     "name": "stdout",
     "output_type": "stream",
     "text": [
      "not Prime\n"
     ]
    }
   ],
   "source": [
    "num = int(input(\"Enter a Number:- \"))\n",
    "\n",
    "i = 2\n",
    "if num in (0,1):\n",
    "    print(\"not Prime\")\n",
    "else:\n",
    "    while i < num:\n",
    "        if num % i == 0 :\n",
    "            print(\"Not Prime\")\n",
    "            break    \n",
    "        i += 1\n",
    "    else:\n",
    "        print(\"Number is prime\")"
   ]
  },
  {
   "cell_type": "code",
   "execution_count": 16,
   "id": "8a9eaaaf-eb7a-411a-82c8-2fa3b39b16f1",
   "metadata": {},
   "outputs": [
    {
     "name": "stdin",
     "output_type": "stream",
     "text": [
      "Enter a Number:-  10\n"
     ]
    },
    {
     "name": "stdout",
     "output_type": "stream",
     "text": [
      "Not Prime\n"
     ]
    }
   ],
   "source": [
    "num = int(input(\"Enter a Number:- \"))\n",
    "\n",
    "i = 2\n",
    "while i < num/2:\n",
    "    if num % i == 0 :\n",
    "        print(\"Not Prime\")\n",
    "        break    \n",
    "    i += 1\n",
    "else:\n",
    "    print(\"Number is prime\")"
   ]
  },
  {
   "cell_type": "markdown",
   "id": "db52bbcd-6b37-4d63-bb11-b69a8d5d64e4",
   "metadata": {},
   "source": [
    "# List"
   ]
  },
  {
   "cell_type": "code",
   "execution_count": 28,
   "id": "b37ae61d-f0f8-4003-8e3c-0961f70c9eb9",
   "metadata": {},
   "outputs": [],
   "source": [
    "lst = [\"Aman\" ,\"Deep\" , \"Garov\",\"Ayan\"]"
   ]
  },
  {
   "cell_type": "code",
   "execution_count": 47,
   "id": "57f4e775-5ea8-41b7-b0d3-2ebd7e199af1",
   "metadata": {},
   "outputs": [
    {
     "name": "stdout",
     "output_type": "stream",
     "text": [
      "Aman\n",
      "A\n",
      "m\n",
      "a\n",
      "n\n",
      "\n",
      "Deep\n",
      "D\n",
      "e\n",
      "e\n",
      "p\n",
      "\n",
      "Garov\n",
      "G\n",
      "a\n",
      "r\n",
      "o\n",
      "v\n",
      "\n",
      "Ayan\n",
      "A\n",
      "y\n",
      "a\n",
      "n\n",
      "\n"
     ]
    }
   ],
   "source": [
    "i = 0 \n",
    "while i < len(lst):\n",
    "    print(lst[i])\n",
    "    j = 0\n",
    "    while j < len(lst[i]):\n",
    "        print(f\"{lst[i][j]}\")\n",
    "        j+=1\n",
    "    i+=1\n",
    "    print()"
   ]
  },
  {
   "cell_type": "code",
   "execution_count": 38,
   "id": "0798c43c-96b9-4d6f-8e31-1168a18bb3dd",
   "metadata": {},
   "outputs": [
    {
     "data": {
      "text/plain": [
       "['Aman', 'Deep', 'Garov', 'Ayan']"
      ]
     },
     "execution_count": 38,
     "metadata": {},
     "output_type": "execute_result"
    }
   ],
   "source": [
    "lst"
   ]
  },
  {
   "cell_type": "code",
   "execution_count": 46,
   "id": "acea864f-b4d7-4b74-95e1-dbe33f37e980",
   "metadata": {
    "scrolled": true
   },
   "outputs": [
    {
     "name": "stdout",
     "output_type": "stream",
     "text": [
      "Aman\n",
      "A\n",
      "m\n",
      "a\n",
      "n\n",
      "\n",
      "Deep\n",
      "D\n",
      "e\n",
      "e\n",
      "p\n",
      "\n",
      "Garov\n",
      "G\n",
      "a\n",
      "r\n",
      "o\n",
      "v\n",
      "\n",
      "Ayan\n",
      "A\n",
      "y\n",
      "a\n",
      "n\n",
      "\n"
     ]
    }
   ],
   "source": [
    "for i in lst:\n",
    "    print(i)\n",
    "    for j in i:\n",
    "        print(j)\n",
    "    print()"
   ]
  },
  {
   "cell_type": "markdown",
   "id": "2a0f5b83-bd7e-486b-b297-4c8fab5deb06",
   "metadata": {},
   "source": [
    "# Sum of N numbers"
   ]
  },
  {
   "cell_type": "code",
   "execution_count": 56,
   "id": "dd376dbc-5146-4833-8b3c-60b3cc03b687",
   "metadata": {},
   "outputs": [
    {
     "name": "stdin",
     "output_type": "stream",
     "text": [
      "Enter a number :-  10\n"
     ]
    },
    {
     "name": "stdout",
     "output_type": "stream",
     "text": [
      "55\n"
     ]
    }
   ],
   "source": [
    "num = int(input(\"Enter a number :- \"))\n",
    "\n",
    "i = 1\n",
    "sum_ = 0\n",
    "while i <= num:\n",
    "    sum_ += i\n",
    "    i+=1\n",
    "else:\n",
    "    print(sum_)"
   ]
  },
  {
   "cell_type": "code",
   "execution_count": 73,
   "id": "e5438b05-7720-4939-974c-3cc31e6dc3f0",
   "metadata": {},
   "outputs": [
    {
     "name": "stdin",
     "output_type": "stream",
     "text": [
      "Enter a number :-  11\n"
     ]
    },
    {
     "name": "stdout",
     "output_type": "stream",
     "text": [
      "1+2+3+4+5+6+7+8+9+10+11+66\n"
     ]
    }
   ],
   "source": [
    "num = int(input(\"Enter a number :- \"))\n",
    "\n",
    "i = 1\n",
    "sum_ = 0\n",
    "while i <= num:\n",
    "    print(f\"{i}\",end=\"+\")\n",
    "    sum_ += i\n",
    "    i+=1\n",
    "else:\n",
    "    print(sum_)"
   ]
  },
  {
   "cell_type": "markdown",
   "id": "0b8852b0-eabf-4553-9184-f5992a6b8941",
   "metadata": {},
   "source": [
    "# Factorial"
   ]
  },
  {
   "cell_type": "code",
   "execution_count": 74,
   "id": "ea52e42f-4d6c-4ed9-bad2-f35ecc274e97",
   "metadata": {},
   "outputs": [
    {
     "name": "stdin",
     "output_type": "stream",
     "text": [
      "Enter a Number :-  5\n"
     ]
    },
    {
     "name": "stdout",
     "output_type": "stream",
     "text": [
      "120\n"
     ]
    }
   ],
   "source": [
    "num = int(input(\"Enter a Number :- \"))\n",
    "fact = 1\n",
    "i = 1\n",
    "while i<= num:\n",
    "    fact*=i\n",
    "    i+= 1\n",
    "else:\n",
    "    print(fact)"
   ]
  },
  {
   "cell_type": "markdown",
   "id": "c1aa1c18-e602-4399-b489-702d969b6166",
   "metadata": {},
   "source": [
    "# Palindrom"
   ]
  },
  {
   "cell_type": "code",
   "execution_count": 83,
   "id": "75aed679-90c1-478a-8835-193612eee2b5",
   "metadata": {},
   "outputs": [
    {
     "name": "stdin",
     "output_type": "stream",
     "text": [
      "Enter a number :-  121\n"
     ]
    },
    {
     "name": "stdout",
     "output_type": "stream",
     "text": [
      "True\n"
     ]
    }
   ],
   "source": [
    "num = int(input(\"Enter a number :- \"))\n",
    "temp = num\n",
    "rev = 0\n",
    "while num > 0:\n",
    "    x = num%10\n",
    "    # rev = rev*10 + x\n",
    "    rev = rev*10 + num%10\n",
    "    num = num // 10\n",
    "\n",
    "if temp == rev:\n",
    "    print(\"True\")\n",
    "else:\n",
    "    print(\"False\")"
   ]
  },
  {
   "cell_type": "code",
   "execution_count": 93,
   "id": "386d1300-ee43-4ebd-974a-fde456348519",
   "metadata": {},
   "outputs": [
    {
     "name": "stdin",
     "output_type": "stream",
     "text": [
      "Enter a number :-  1634\n"
     ]
    },
    {
     "name": "stdout",
     "output_type": "stream",
     "text": [
      "False\n"
     ]
    }
   ],
   "source": [
    "num = int(input(\"Enter a number :- \"))\n",
    "temp = num\n",
    "rev = 0\n",
    "t=str(num)\n",
    "m=len(t)\n",
    "while num > 0:\n",
    "    x = num%10\n",
    "    rev = rev+ x*m\n",
    "    num = num // 10\n",
    "if temp == rev:\n",
    "    print(\"True\")\n",
    "else:\n",
    "    print(\"False\")"
   ]
  },
  {
   "cell_type": "code",
   "execution_count": null,
   "id": "9e9ba6fe-ee3c-48de-814d-cb27317b693d",
   "metadata": {},
   "outputs": [],
   "source": []
  },
  {
   "cell_type": "code",
   "execution_count": 97,
   "id": "57a613e0-b501-43a1-9e7c-a862d9feb16f",
   "metadata": {},
   "outputs": [
    {
     "name": "stdout",
     "output_type": "stream",
     "text": [
      "1\n",
      "2\n",
      "3\n",
      "4\n",
      "\n",
      "3\n",
      "4\n",
      "5\n",
      "\n",
      "7\n",
      "8\n",
      "9\n",
      "\n"
     ]
    }
   ],
   "source": [
    "lst = [[1,2,3,4],[3,4,5],[7,8,9]]\n",
    "\n",
    "for i in lst:\n",
    "    for j in i:\n",
    "        print(j)\n",
    "    print()"
   ]
  },
  {
   "cell_type": "code",
   "execution_count": 2,
   "id": "fef18d2b-6c8b-402d-b866-8f589e277589",
   "metadata": {},
   "outputs": [
    {
     "name": "stdin",
     "output_type": "stream",
     "text": [
      "Enter a Number :-  1221\n"
     ]
    },
    {
     "name": "stdout",
     "output_type": "stream",
     "text": [
      "The Number 1221 is not Armstrong.\n"
     ]
    }
   ],
   "source": [
    "num = int(input(\"Enter a Number :- \"))\n",
    "temp = num\n",
    "arm = 0\n",
    "i = 0\n",
    "while num:\n",
    "    mod = num % 10\n",
    "    arm= arm + mod**3\n",
    "    num//=10\n",
    "    i+=1\n",
    "\n",
    "if arm == temp:\n",
    "    print(f\"The Number {temp} is Armstrong.\")\n",
    "else:\n",
    "    print(f\"The Number {temp} is not Armstrong.\")"
   ]
  },
  {
   "cell_type": "code",
   "execution_count": 4,
   "id": "cbabc22f-cb95-4133-8378-9c6f82a295ea",
   "metadata": {},
   "outputs": [
    {
     "name": "stdin",
     "output_type": "stream",
     "text": [
      "Enter a String:-  with great power comes great responsibility\n"
     ]
    },
    {
     "name": "stdout",
     "output_type": "stream",
     "text": [
      "\n",
      "Your Old String is:-\"with great power comes great responsibility\"\n",
      "\n",
      "And Your new String is:-\"With Great Power Comes Great Responsibility\"\n"
     ]
    }
   ],
   "source": [
    "str = input(\"Enter a String:- \").strip()\n",
    "\n",
    "lst = str.split()\n",
    "new_lst = []\n",
    "# print(lst)\n",
    "i = 0\n",
    "while i < len(lst):\n",
    "    s = (lst[i]).title()\n",
    "    new_lst.append(s)\n",
    "    i+=1\n",
    "# print(new_lst)\n",
    "new_str = \" \".join(new_lst)\n",
    "\n",
    "print(f\"\\nYour Old String is:-\\\"{str}\\\"\\n\")\n",
    "print(f\"And Your new String is:-\\\"{new_str}\\\"\")"
   ]
  },
  {
   "cell_type": "code",
   "execution_count": null,
   "id": "5ce08a4b-b279-4bbf-88b5-7c6d70684293",
   "metadata": {},
   "outputs": [],
   "source": []
  }
 ],
 "metadata": {
  "kernelspec": {
   "display_name": "Python [conda env:base] *",
   "language": "python",
   "name": "conda-base-py"
  },
  "language_info": {
   "codemirror_mode": {
    "name": "ipython",
    "version": 3
   },
   "file_extension": ".py",
   "mimetype": "text/x-python",
   "name": "python",
   "nbconvert_exporter": "python",
   "pygments_lexer": "ipython3",
   "version": "3.12.7"
  }
 },
 "nbformat": 4,
 "nbformat_minor": 5
}
