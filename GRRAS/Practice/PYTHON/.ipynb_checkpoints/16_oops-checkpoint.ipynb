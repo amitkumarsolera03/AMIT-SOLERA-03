{
 "cells": [
  {
   "cell_type": "markdown",
   "id": "bc681264-23ff-4ca0-8118-84955cdc9a6a",
   "metadata": {},
   "source": [
    "# Class"
   ]
  },
  {
   "cell_type": "markdown",
   "id": "a038d655-cf97-4c94-8fc3-f152ecf60134",
   "metadata": {},
   "source": [
    "# Oops"
   ]
  },
  {
   "cell_type": "code",
   "execution_count": null,
   "id": "5a1281bd-6c35-4d77-824d-a28e3e71236f",
   "metadata": {},
   "outputs": [],
   "source": []
  },
  {
   "cell_type": "markdown",
   "id": "5d32223b-6d1f-4991-a9fb-0198683cc421",
   "metadata": {},
   "source": [
    "## Constructors"
   ]
  },
  {
   "cell_type": "code",
   "execution_count": 7,
   "id": "8791f624-a6bc-4f2e-83a2-bdbb14998106",
   "metadata": {},
   "outputs": [],
   "source": [
    "class Demo:\n",
    "    def __init__(self):\n",
    "        print(\"Object is Initilized\")\n",
    "        self.name = \"Demo Object\"\n",
    "\n",
    "    def info(self):\n",
    "        print(f\"Name :- {self.name}\")"
   ]
  },
  {
   "cell_type": "code",
   "execution_count": 8,
   "id": "a88f9bc6-3281-47e6-91c1-a2415d923984",
   "metadata": {},
   "outputs": [
    {
     "name": "stdout",
     "output_type": "stream",
     "text": [
      "Object is Initilized\n"
     ]
    }
   ],
   "source": [
    "x = Demo()"
   ]
  },
  {
   "cell_type": "code",
   "execution_count": 9,
   "id": "4f65ceef-8dee-4168-8527-8d5bf0542900",
   "metadata": {},
   "outputs": [
    {
     "name": "stdout",
     "output_type": "stream",
     "text": [
      "Name :- Demo Object\n"
     ]
    }
   ],
   "source": [
    "x.info()"
   ]
  },
  {
   "cell_type": "code",
   "execution_count": 19,
   "id": "8fd4c632-622d-4cf5-ba31-49ce99ffb4e6",
   "metadata": {},
   "outputs": [
    {
     "name": "stdout",
     "output_type": "stream",
     "text": [
      "Object is Initilized\n",
      "Object is Initilized\n"
     ]
    }
   ],
   "source": [
    "y = Demo()\n",
    "Demo.__init__(y)"
   ]
  },
  {
   "cell_type": "code",
   "execution_count": null,
   "id": "82af7bda-05c2-49ef-a6e2-8debc5f02126",
   "metadata": {},
   "outputs": [],
   "source": []
  },
  {
   "cell_type": "code",
   "execution_count": null,
   "id": "e5d08877-c3f2-4847-973b-25b94f5a50f5",
   "metadata": {},
   "outputs": [],
   "source": []
  },
  {
   "cell_type": "markdown",
   "id": "dbd21fb3-75e5-4491-9528-0caf045d6fbc",
   "metadata": {},
   "source": [
    "## Inheritance"
   ]
  },
  {
   "cell_type": "markdown",
   "id": "da54269a-7931-4c63-9e4e-d8bca7a60f3d",
   "metadata": {},
   "source": [
    "- MRO --> Method Resolution Order"
   ]
  },
  {
   "cell_type": "markdown",
   "id": "7d634c5e-a272-440e-9a7d-cc4611d842b7",
   "metadata": {},
   "source": [
    "- Name mangling"
   ]
  },
  {
   "cell_type": "code",
   "execution_count": null,
   "id": "0a0e9e30-9348-4d1f-8b3f-89c3ee77027c",
   "metadata": {},
   "outputs": [],
   "source": []
  },
  {
   "cell_type": "markdown",
   "id": "392b7e36-e5e4-4290-bc8b-632966f5851c",
   "metadata": {},
   "source": [
    "**11/07/2025**"
   ]
  },
  {
   "cell_type": "markdown",
   "id": "57a0575d-9dad-4a02-851b-67f18d6b95e5",
   "metadata": {},
   "source": [
    "## OOPs\n",
    "    class Method , static methods\n",
    "    meta class , abstract class"
   ]
  },
  {
   "cell_type": "code",
   "execution_count": null,
   "id": "b689c3d9-5f6c-4649-9f84-748cb583bcc7",
   "metadata": {},
   "outputs": [],
   "source": []
  }
 ],
 "metadata": {
  "kernelspec": {
   "display_name": "Python [conda env:base] *",
   "language": "python",
   "name": "conda-base-py"
  },
  "language_info": {
   "codemirror_mode": {
    "name": "ipython",
    "version": 3
   },
   "file_extension": ".py",
   "mimetype": "text/x-python",
   "name": "python",
   "nbconvert_exporter": "python",
   "pygments_lexer": "ipython3",
   "version": "3.12.7"
  }
 },
 "nbformat": 4,
 "nbformat_minor": 5
}
