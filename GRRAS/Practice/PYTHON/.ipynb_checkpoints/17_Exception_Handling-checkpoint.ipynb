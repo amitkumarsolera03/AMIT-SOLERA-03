{
 "cells": [
  {
   "cell_type": "markdown",
   "id": "148e94d0-e9f6-49f0-b5a3-2e279ea6696d",
   "metadata": {},
   "source": [
    "# Exception Handling \n",
    "\n",
    "    Run time error / Logical Error --> Exception\n",
    "\n",
    "    Compile time Error / Syntex Error"
   ]
  },
  {
   "cell_type": "markdown",
   "id": "d6e9a375-e14f-479e-b7ff-a49a38deb178",
   "metadata": {},
   "source": [
    "## Error Classes \n",
    "    "
   ]
  },
  {
   "cell_type": "code",
   "execution_count": 3,
   "id": "570e6167-cbe8-493d-a548-7818b506676c",
   "metadata": {},
   "outputs": [
    {
     "name": "stdout",
     "output_type": "stream",
     "text": [
      "this is error\n"
     ]
    }
   ],
   "source": [
    "try:\n",
    "    a = 3\n",
    "    b = 0\n",
    "    print(a/b)\n",
    "except:\n",
    "    print(\"this is error\")"
   ]
  },
  {
   "cell_type": "code",
   "execution_count": null,
   "id": "71a0afa3-b1e0-46b8-93e8-76577c78047e",
   "metadata": {},
   "outputs": [],
   "source": []
  },
  {
   "cell_type": "code",
   "execution_count": 8,
   "id": "3c2b5575-587e-475c-8075-1f96477dcfcb",
   "metadata": {},
   "outputs": [
    {
     "name": "stdout",
     "output_type": "stream",
     "text": [
      "Writing example.py\n"
     ]
    }
   ],
   "source": [
    "%%writefile example.py\n",
    "\n",
    "print(\"Hello World!\")"
   ]
  },
  {
   "cell_type": "code",
   "execution_count": 9,
   "id": "8775ab00-6be9-4bb9-b799-5a1445cf0ab0",
   "metadata": {},
   "outputs": [
    {
     "name": "stdout",
     "output_type": "stream",
     "text": [
      "Hello World!\n"
     ]
    }
   ],
   "source": [
    "!python example.py"
   ]
  },
  {
   "cell_type": "code",
   "execution_count": null,
   "id": "0de00b0b-aa57-410f-be38-ec8a3ec51220",
   "metadata": {},
   "outputs": [],
   "source": []
  },
  {
   "cell_type": "code",
   "execution_count": 18,
   "id": "6808c8ba-fbe5-4042-baed-f29317ecfeca",
   "metadata": {},
   "outputs": [
    {
     "name": "stdin",
     "output_type": "stream",
     "text": [
      "Enter x:-  5\n",
      "Enter y:-  6\n"
     ]
    },
    {
     "name": "stdout",
     "output_type": "stream",
     "text": [
      "Result :- 0.8333333333333334\n",
      "This Code Will run properly....\n",
      "Code is End....\n"
     ]
    }
   ],
   "source": [
    "try:\n",
    "    x = int(input(\"Enter x:- \"))\n",
    "    y = int(input(\"Enter y:- \"))\n",
    "    result = x/y\n",
    "    print(f\"Result :- {result}\")\n",
    "except ValueError as err:\n",
    "    print(\"Error!! value error\")\n",
    "    print(err)\n",
    "except ZeroDivisionError as err:\n",
    "    print(\"Error!!Divisionerror\")\n",
    "    print(err)\n",
    "except Exception as err:\n",
    "    print(\"Error!!\")\n",
    "    print(err)\n",
    "else:\n",
    "    print(\"This Code Will run properly....\")\n",
    "finally:\n",
    "    print(\"Code is End....\")"
   ]
  },
  {
   "cell_type": "code",
   "execution_count": 28,
   "id": "876d29d8-8d5e-464e-8628-7ad08021cd69",
   "metadata": {},
   "outputs": [],
   "source": [
    "def func(x,y):\n",
    "    try:\n",
    "        r = x/y\n",
    "        # return r\n",
    "    except ValueError as err:\n",
    "        print(\"Error!! value error\")\n",
    "        print(err)\n",
    "    except ZeroDivisionError as err:\n",
    "        print(\"Error!!Divisionerror\")\n",
    "        print(err)\n",
    "    except Exception as err:\n",
    "        print(\"Error!!\")\n",
    "        print(err)\n",
    "    else:\n",
    "        print(\"This Code Will run properly....\")\n",
    "        return r\n",
    "    finally:\n",
    "        print(\"Code is End....\")\n",
    "        # return \"Furrr\""
   ]
  },
  {
   "cell_type": "code",
   "execution_count": 29,
   "id": "97a61889-106c-40d3-8767-50b987a9453c",
   "metadata": {},
   "outputs": [
    {
     "name": "stdout",
     "output_type": "stream",
     "text": [
      "This Code Will run properly....\n",
      "Code is End....\n",
      "2.0\n"
     ]
    }
   ],
   "source": [
    "a = func(4,2)\n",
    "print(a)"
   ]
  },
  {
   "cell_type": "markdown",
   "id": "1387d436-864a-477d-80ae-7955b9ac3760",
   "metadata": {},
   "source": [
    "### To make Exception Happens \n",
    "\n",
    "    raise ErrorClass(error_message)"
   ]
  },
  {
   "cell_type": "code",
   "execution_count": 35,
   "id": "ac122115-eaf3-4b39-965a-50c7fb1e4f68",
   "metadata": {},
   "outputs": [
    {
     "ename": "FileExistsError",
     "evalue": "File h re pahle se",
     "output_type": "error",
     "traceback": [
      "\u001b[1;31m---------------------------------------------------------------------------\u001b[0m",
      "\u001b[1;31mFileExistsError\u001b[0m                           Traceback (most recent call last)",
      "Cell \u001b[1;32mIn[35], line 1\u001b[0m\n\u001b[1;32m----> 1\u001b[0m \u001b[38;5;28;01mraise\u001b[39;00m \u001b[38;5;167;01mFileExistsError\u001b[39;00m(\u001b[38;5;124m\"\u001b[39m\u001b[38;5;124mFile h re pahle se\u001b[39m\u001b[38;5;124m\"\u001b[39m)\n",
      "\u001b[1;31mFileExistsError\u001b[0m: File h re pahle se"
     ]
    }
   ],
   "source": [
    "raise FileExistsError(\"File h re pahle se\")"
   ]
  },
  {
   "cell_type": "markdown",
   "id": "f21c7bd8-d0ce-41aa-862d-225b868bf6f1",
   "metadata": {},
   "source": [
    "assert --> for test cases"
   ]
  },
  {
   "cell_type": "code",
   "execution_count": 42,
   "id": "10e6296e-48ab-4e9a-9b31-e946ab5ea285",
   "metadata": {},
   "outputs": [],
   "source": [
    "def add(a,b):\n",
    "    # return a+b\n",
    "    return abs(a)+abs(b)"
   ]
  },
  {
   "cell_type": "code",
   "execution_count": 43,
   "id": "c15052bf-b001-47f5-a823-62a821fab624",
   "metadata": {},
   "outputs": [],
   "source": [
    "assert add(4,5) == 9 , \"Error in addition\"\n",
    "\n",
    "assert add(-4,5) == 9 , \"Again Error in addition\""
   ]
  },
  {
   "cell_type": "code",
   "execution_count": null,
   "id": "eca2758b-c71b-4510-a30c-47366a18f5e8",
   "metadata": {},
   "outputs": [],
   "source": []
  },
  {
   "cell_type": "markdown",
   "id": "c1fbaab8-62a7-4134-a3c7-56e9f76cc769",
   "metadata": {},
   "source": [
    "#### Data Collection \n",
    "\n",
    "    DataBase --> Data Engineer , DataBase Admin\n",
    "\n",
    "    APIs -->Application Programming Interfaces     Fronted (HTML,CSS,JS) <---> backend (node.js,python)"
   ]
  },
  {
   "cell_type": "code",
   "execution_count": null,
   "id": "51d546e9-c524-4442-a4f3-8d913c13e10a",
   "metadata": {},
   "outputs": [],
   "source": []
  },
  {
   "cell_type": "code",
   "execution_count": null,
   "id": "e1ecab24-c602-4cf2-b5cd-273046c93311",
   "metadata": {},
   "outputs": [],
   "source": []
  },
  {
   "cell_type": "code",
   "execution_count": null,
   "id": "ea8b5a41-8cf7-44c8-a84f-c3f82c59c72f",
   "metadata": {},
   "outputs": [],
   "source": []
  }
 ],
 "metadata": {
  "kernelspec": {
   "display_name": "Python [conda env:base] *",
   "language": "python",
   "name": "conda-base-py"
  },
  "language_info": {
   "codemirror_mode": {
    "name": "ipython",
    "version": 3
   },
   "file_extension": ".py",
   "mimetype": "text/x-python",
   "name": "python",
   "nbconvert_exporter": "python",
   "pygments_lexer": "ipython3",
   "version": "3.12.7"
  }
 },
 "nbformat": 4,
 "nbformat_minor": 5
}
