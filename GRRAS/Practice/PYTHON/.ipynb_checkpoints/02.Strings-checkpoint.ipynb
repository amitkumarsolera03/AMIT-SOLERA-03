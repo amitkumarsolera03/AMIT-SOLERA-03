{
 "cells": [
  {
   "cell_type": "markdown",
   "id": "2c0db5f4-c18a-4fe5-892a-00b0210b9fe3",
   "metadata": {},
   "source": [
    "# Strings\n",
    "\n",
    "    Collection of UTF-8 characterset.\n",
    "\n",
    "    name = 'Amit'\n",
    "    country = \"India\""
   ]
  },
  {
   "cell_type": "markdown",
   "id": "338b4356-f29a-45b8-8c48-f54bbb91390d",
   "metadata": {},
   "source": [
    "## Escapse sequence -->\n",
    "\n",
    "\"\\n\" - New Line\n",
    "\n",
    "\"\\t\" - tab space (4 space)\n",
    "\n",
    "\"\\r\" - carrige return\n",
    "\n",
    "\"\\'\" - insert single quote in string\n",
    "\n",
    "\"\\\"\" - insert double quote in string"
   ]
  },
  {
   "cell_type": "code",
   "execution_count": 4,
   "id": "c2f9d8a4-3c66-4a4f-bee1-feb4c70d000f",
   "metadata": {},
   "outputs": [
    {
     "name": "stdout",
     "output_type": "stream",
     "text": [
      "He didn't say that \"She is Beautifual.\"\n"
     ]
    }
   ],
   "source": [
    "#print(\"He didn't say that \\\"She is Beautifual.\\\"\")\n",
    "\n",
    "#str = \"He didn't say that \\\"She is Beautifual.\\\"\"\n",
    "str = 'He didn\\'t say that \\\"She is Beautifual.\\\"'\n",
    "print(str)"
   ]
  },
  {
   "cell_type": "code",
   "execution_count": 5,
   "id": "8929ce7a-a31b-4f72-b97a-8646cca2dd01",
   "metadata": {},
   "outputs": [
    {
     "name": "stdout",
     "output_type": "stream",
     "text": [
      "Escapse Sequence \\n represents new line.\n"
     ]
    }
   ],
   "source": [
    "str = \"Escapse Sequence \\\\n represents new line.\"\n",
    "print(str)"
   ]
  },
  {
   "cell_type": "code",
   "execution_count": 8,
   "id": "80e1a6f8-4c0a-4b68-ac2c-a9fe63f193e6",
   "metadata": {},
   "outputs": [],
   "source": [
    "path = \"c:\\\\onedrive\\\\desktop\"\n",
    "print(path)"
   ]
  },
  {
   "cell_type": "code",
   "execution_count": null,
   "id": "224177c0-467a-4c37-936d-67fcdb5231d0",
   "metadata": {},
   "outputs": [],
   "source": []
  }
 ],
 "metadata": {
  "kernelspec": {
   "display_name": "Python [conda env:base] *",
   "language": "python",
   "name": "conda-base-py"
  },
  "language_info": {
   "codemirror_mode": {
    "name": "ipython",
    "version": 3
   },
   "file_extension": ".py",
   "mimetype": "text/x-python",
   "name": "python",
   "nbconvert_exporter": "python",
   "pygments_lexer": "ipython3",
   "version": "3.12.7"
  }
 },
 "nbformat": 4,
 "nbformat_minor": 5
}
