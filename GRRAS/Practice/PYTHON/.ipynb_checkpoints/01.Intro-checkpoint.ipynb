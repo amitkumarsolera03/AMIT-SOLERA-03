{
 "cells": [
  {
   "cell_type": "markdown",
   "id": "a6107c77-0354-4da0-a492-bc2b4a29519a",
   "metadata": {},
   "source": [
    "# ShortKeys for jupyter Notebook \n",
    "    Command Mode --> ESC\n",
    "    Insert Mode --> Enter \n",
    "## All Shortcut commands only works in Command Mode\n",
    "    MarkDown Cells --> ESC + m\n",
    "\n",
    "    Code Cells --> ESC + y\n",
    "\n",
    "    Raw Cells --> ESC + r\n",
    "\n",
    "-----\n",
    "    Ctrl + Enter --> Execute the Current Cell\n",
    "\n",
    "    Shift + Enter --> Execute the Current Cell and Open a Blank Cell below current cell\n",
    "\n",
    "-----\n",
    "    ESC + a --> To Create a blank cell Above the current Cell\n",
    "\n",
    "    ESC + b --> To create the blank cell Below the Current Cell\n",
    "\n",
    "    ESC + dd --> To delete the current cell\n",
    "\n",
    "    "
   ]
  },
  {
   "cell_type": "markdown",
   "id": "8aecba1c-8801-41f2-907b-ac29e8b47e43",
   "metadata": {},
   "source": [
    "# Python"
   ]
  },
  {
   "cell_type": "code",
   "execution_count": 1,
   "id": "77c623b2-407f-4b56-861c-e991ce2dc986",
   "metadata": {},
   "outputs": [
    {
     "name": "stdout",
     "output_type": "stream",
     "text": [
      "Hello World\n"
     ]
    }
   ],
   "source": [
    "print(\"Hello World\")\n",
    "#cell\n",
    "#ctrl + enter --> Run current cell code\n",
    "#shift + Enter --> Run current cell code and Open a new cell below current cell"
   ]
  },
  {
   "cell_type": "code",
   "execution_count": 2,
   "id": "909f0bd4-e82c-4092-ab71-4660c2b1d1ab",
   "metadata": {},
   "outputs": [
    {
     "name": "stdout",
     "output_type": "stream",
     "text": [
      "We will resume in 1 seconddd"
     ]
    }
   ],
   "source": [
    "import time \n",
    "\n",
    "sleep_time = 5*60\n",
    "\n",
    "for i in range(sleep_time):\n",
    "    print(f\"\\rWe will resume in {sleep_time - i} second\",end=\"\")\n",
    "    time.sleep(1)"
   ]
  },
  {
   "cell_type": "markdown",
   "id": "23a9d7b7-b71b-42b6-8e4f-8435983f3c02",
   "metadata": {},
   "source": [
    "## Data type \n",
    "    What is Data Type???\n",
    "    \n",
    "    Data --> Information\n",
    "\n",
    "    Type --> Catogry of Imformation\n",
    "\n",
    "        Storage / Operation\n",
    "\n",
    "    Type --> Class\n"
   ]
  },
  {
   "cell_type": "code",
   "execution_count": 7,
   "id": "736c4ff1-7cf7-4059-b38d-c00592d466fd",
   "metadata": {},
   "outputs": [
    {
     "name": "stdout",
     "output_type": "stream",
     "text": [
      "<class 'int'>\n",
      "28\n",
      "<class 'int'>\n",
      "100\n"
     ]
    }
   ],
   "source": [
    "import os\n",
    "import sys\n",
    "x = 3\n",
    "print(type(x))\n",
    "print(sys.getsizeof(x))\n",
    "y = 4212454456316564231534843244545131546545315487854213232124545475444444444444555555555666666666644444444444445555555555533333333333331111111111115555555555555444444441\n",
    "print(type(y))\n",
    "print(sys.getsizeof(y))"
   ]
  },
  {
   "cell_type": "markdown",
   "id": "9b67d403-201e-49f6-acfc-778d6cc348f6",
   "metadata": {},
   "source": [
    "### Types of Data Types \n",
    "\n",
    "        Data Type tells how to store and process data in computer memory , where type defines It's structure (how it is going to be stored in memory ) and kind of operations we can perform in a specific data.\n",
    "\n",
    "        \n",
    "    1. Number - int , float , double , complex\n",
    "        -> \n",
    "        int - 1, 2,3        [0-9]+\n",
    "        float - 3.14        [0-9].[0-9]+                             Regular Expression\n",
    "        Complex - 3+ 5j     # [0-9]+(\\.[0-9]+)?+[0-9]                 Real + Img j\n",
    "\n",
    "    2. Strings - \n",
    "                Collection of characters defined \n",
    "        -> \n",
    "        str - "
   ]
  },
  {
   "cell_type": "code",
   "execution_count": 3,
   "id": "81e61c35-03fa-49a2-8eac-2551f685f69a",
   "metadata": {},
   "outputs": [
    {
     "name": "stdout",
     "output_type": "stream",
     "text": [
      "7 <class 'int'>\n",
      "3.14 <class 'float'>\n",
      "3j <class 'complex'>\n"
     ]
    }
   ],
   "source": [
    "x = 7\n",
    "y = 3.14\n",
    "z = 3j\n",
    "print(x , type(x))\n",
    "print(y , type(y))\n",
    "print(z , type(z))"
   ]
  },
  {
   "cell_type": "markdown",
   "id": "e68b333b-d44b-4436-a848-e766250948c3",
   "metadata": {},
   "source": [
    "UTF- 8 , strings compared to ASCII\n",
    "\n",
    "Escapse Squence\n",
    "complex numbers\n",
    "class and object\n",
    "\n",
    "pypi\n",
    "pip   python -m pip install package\n",
    "pep 8  - python enhancement propasal PEP 8 - style guide for python code \n"
   ]
  },
  {
   "cell_type": "markdown",
   "id": "07509dd5-5a19-4056-8ddb-5d2398a9ba54",
   "metadata": {},
   "source": [
    "# CLASS and OBJECTS\n",
    "\n",
    "Object - Set of atrributes to define a real time entity in a computer momory\n",
    "\n"
   ]
  },
  {
   "cell_type": "code",
   "execution_count": 2,
   "id": "7ec84581-91b0-4fb0-98a3-7338fc58d21f",
   "metadata": {},
   "outputs": [
    {
     "name": "stdout",
     "output_type": "stream",
     "text": [
      "hello world\n"
     ]
    }
   ],
   "source": [
    "x = \"hello \"\n",
    "y = \"world\"\n",
    "\n",
    "z = x + y\n",
    "print(z)"
   ]
  },
  {
   "cell_type": "code",
   "execution_count": 9,
   "id": "1b81d326-a614-4e3a-a347-ec97396d087a",
   "metadata": {},
   "outputs": [
    {
     "data": {
      "text/plain": [
       "7"
      ]
     },
     "execution_count": 9,
     "metadata": {},
     "output_type": "execute_result"
    }
   ],
   "source": [
    "int.__add__(4,3)"
   ]
  },
  {
   "cell_type": "code",
   "execution_count": 15,
   "id": "11be5a20-53db-470d-98cc-85f084ee4b9b",
   "metadata": {},
   "outputs": [
    {
     "name": "stdout",
     "output_type": "stream",
     "text": [
      "amit solera\n",
      "AMIT SOLERA\n"
     ]
    }
   ],
   "source": [
    "name = \"amit solera\"\n",
    "\n",
    "new_name = name.upper()\n",
    "\n",
    "print(name)\n",
    "print(new_name)"
   ]
  },
  {
   "cell_type": "code",
   "execution_count": 16,
   "id": "462f2dcf-4a1d-42dd-8c13-61853141abc4",
   "metadata": {},
   "outputs": [
    {
     "name": "stdout",
     "output_type": "stream",
     "text": [
      "AMIT SOLERA\n"
     ]
    }
   ],
   "source": [
    "name = \"amit solera\"\n",
    "\n",
    "name = name.upper()\n",
    "\n",
    "print(name)"
   ]
  },
  {
   "cell_type": "code",
   "execution_count": 12,
   "id": "54602451-6b59-429d-8325-42f3af05eba3",
   "metadata": {},
   "outputs": [
    {
     "name": "stdout",
     "output_type": "stream",
     "text": [
      "AMIT SOLERA\n"
     ]
    }
   ],
   "source": [
    "name = \"  AMIT SOLERA     \"\n",
    "\n",
    "print(name.strip())"
   ]
  },
  {
   "cell_type": "code",
   "execution_count": 17,
   "id": "6e098ea3-f122-4745-bf20-729071c8c92e",
   "metadata": {},
   "outputs": [
    {
     "name": "stdout",
     "output_type": "stream",
     "text": [
      "['__abs__', '__add__', '__and__', '__bool__', '__ceil__', '__class__', '__delattr__', '__dir__', '__divmod__', '__doc__', '__eq__', '__float__', '__floor__', '__floordiv__', '__format__', '__ge__', '__getattribute__', '__getnewargs__', '__getstate__', '__gt__', '__hash__', '__index__', '__init__', '__init_subclass__', '__int__', '__invert__', '__le__', '__lshift__', '__lt__', '__mod__', '__mul__', '__ne__', '__neg__', '__new__', '__or__', '__pos__', '__pow__', '__radd__', '__rand__', '__rdivmod__', '__reduce__', '__reduce_ex__', '__repr__', '__rfloordiv__', '__rlshift__', '__rmod__', '__rmul__', '__ror__', '__round__', '__rpow__', '__rrshift__', '__rshift__', '__rsub__', '__rtruediv__', '__rxor__', '__setattr__', '__sizeof__', '__str__', '__sub__', '__subclasshook__', '__truediv__', '__trunc__', '__xor__', 'as_integer_ratio', 'bit_count', 'bit_length', 'conjugate', 'denominator', 'from_bytes', 'imag', 'is_integer', 'numerator', 'real', 'to_bytes']\n"
     ]
    }
   ],
   "source": [
    "print(dir(int))"
   ]
  },
  {
   "cell_type": "code",
   "execution_count": 18,
   "id": "478a5607-bd61-4471-a3b4-5b887c254b2d",
   "metadata": {},
   "outputs": [
    {
     "name": "stdout",
     "output_type": "stream",
     "text": [
      "['__abs__', '__add__', '__bool__', '__ceil__', '__class__', '__delattr__', '__dir__', '__divmod__', '__doc__', '__eq__', '__float__', '__floor__', '__floordiv__', '__format__', '__ge__', '__getattribute__', '__getformat__', '__getnewargs__', '__getstate__', '__gt__', '__hash__', '__init__', '__init_subclass__', '__int__', '__le__', '__lt__', '__mod__', '__mul__', '__ne__', '__neg__', '__new__', '__pos__', '__pow__', '__radd__', '__rdivmod__', '__reduce__', '__reduce_ex__', '__repr__', '__rfloordiv__', '__rmod__', '__rmul__', '__round__', '__rpow__', '__rsub__', '__rtruediv__', '__setattr__', '__sizeof__', '__str__', '__sub__', '__subclasshook__', '__truediv__', '__trunc__', 'as_integer_ratio', 'conjugate', 'fromhex', 'hex', 'imag', 'is_integer', 'real']\n"
     ]
    }
   ],
   "source": [
    "print(dir(float))"
   ]
  },
  {
   "cell_type": "code",
   "execution_count": 21,
   "id": "13f7e9a4-7bce-472d-b9b9-0a2db433cf47",
   "metadata": {},
   "outputs": [
    {
     "name": "stdout",
     "output_type": "stream",
     "text": [
      "['__add__', '__class__', '__contains__', '__delattr__', '__dir__', '__doc__', '__eq__', '__format__', '__ge__', '__getattribute__', '__getitem__', '__getnewargs__', '__getstate__', '__gt__', '__hash__', '__init__', '__init_subclass__', '__iter__', '__le__', '__len__', '__lt__', '__mod__', '__mul__', '__ne__', '__new__', '__reduce__', '__reduce_ex__', '__repr__', '__rmod__', '__rmul__', '__setattr__', '__sizeof__', '__str__', '__subclasshook__', 'capitalize', 'casefold', 'center', 'count', 'encode', 'endswith', 'expandtabs', 'find', 'format', 'format_map', 'index', 'isalnum', 'isalpha', 'isascii', 'isdecimal', 'isdigit', 'isidentifier', 'islower', 'isnumeric', 'isprintable', 'isspace', 'istitle', 'isupper', 'join', 'ljust', 'lower', 'lstrip', 'maketrans', 'partition', 'removeprefix', 'removesuffix', 'replace', 'rfind', 'rindex', 'rjust', 'rpartition', 'rsplit', 'rstrip', 'split', 'splitlines', 'startswith', 'strip', 'swapcase', 'title', 'translate', 'upper', 'zfill']\n"
     ]
    }
   ],
   "source": [
    "print(dir(str))"
   ]
  },
  {
   "cell_type": "markdown",
   "id": "bdeb8b51-2f7f-4e33-ba2d-92b250029ba7",
   "metadata": {},
   "source": [
    "x = ['__add__', '__class__', '__contains__', '__delattr__', '__dir__', '__doc__', '__eq__', '__format__', '__ge__', '__getattribute__', '__getitem__', '__getnewargs__', '__getstate__', '__gt__', '__hash__', '__init__', '__init_subclass__', '__iter__', '__le__', '__len__', '__lt__', '__mod__', '__mul__', '__ne__', '__new__', '__reduce__', '__reduce_ex__', '__repr__', '__rmod__', '__rmul__', '__setattr__', '__sizeof__', '__str__', '__subclasshook__', 'capitalize', 'casefold', 'center', 'count', 'encode', 'endswith', 'expandtabs', 'find', 'format', 'format_map', 'index', 'isalnum', 'isalpha', 'isascii', 'isdecimal', 'isdigit', 'isidentifier', 'islower', 'isnumeric', 'isprintable', 'isspace', 'istitle', 'isupper', 'join', 'ljust', 'lower', 'lstrip', 'maketrans', 'partition', 'removeprefix', 'removesuffix', 'replace', 'rfind', 'rindex', 'rjust', 'rpartition', 'rsplit', 'rstrip', 'split', 'splitlines', 'startswith', 'strip', 'swapcase', 'title', 'translate', 'upper', 'zfill']\n",
    "\n",
    "for i in x:\n",
    "    print(x[i])"
   ]
  },
  {
   "cell_type": "code",
   "execution_count": 6,
   "id": "21364682-9544-4b26-9909-0c399fba9e09",
   "metadata": {},
   "outputs": [
    {
     "name": "stdout",
     "output_type": "stream",
     "text": [
      "Amit solera\n",
      "Amit Solera\n"
     ]
    }
   ],
   "source": [
    "x = \"amit solera\"\n",
    "\n",
    "cap = x.capitalize()\n",
    "print(cap)\n",
    "\n",
    "tit = x.title()\n",
    "print(tit)"
   ]
  },
  {
   "cell_type": "code",
   "execution_count": 14,
   "id": "3dc6bbd6-427e-447d-b4ce-86941b145430",
   "metadata": {},
   "outputs": [
    {
     "data": {
      "text/plain": [
       "True"
      ]
     },
     "execution_count": 14,
     "metadata": {},
     "output_type": "execute_result"
    }
   ],
   "source": [
    "str = \"Amit\"\n",
    "str.isalnum()"
   ]
  },
  {
   "cell_type": "code",
   "execution_count": 15,
   "id": "3265cddb-9f09-4217-9777-c12b35767b7d",
   "metadata": {},
   "outputs": [
    {
     "data": {
      "text/plain": [
       "True"
      ]
     },
     "execution_count": 15,
     "metadata": {},
     "output_type": "execute_result"
    }
   ],
   "source": [
    "str.isalpha()\n"
   ]
  },
  {
   "cell_type": "code",
   "execution_count": 16,
   "id": "ae185843-bf77-4ca4-8546-7aadd9360e51",
   "metadata": {},
   "outputs": [
    {
     "data": {
      "text/plain": [
       "'Sbchin'"
      ]
     },
     "execution_count": 16,
     "metadata": {},
     "output_type": "execute_result"
    }
   ],
   "source": [
    "str = \"Sachin\"\n",
    "str.replace(\"a\",\"b\")"
   ]
  },
  {
   "cell_type": "code",
   "execution_count": 17,
   "id": "4a1c3314-75bf-41b8-8f98-5920cf8aace3",
   "metadata": {},
   "outputs": [],
   "source": [
    "a = \"Amit\""
   ]
  },
  {
   "cell_type": "code",
   "execution_count": 18,
   "id": "6ab5fe13-b4ef-4056-a886-d103d5c7006c",
   "metadata": {},
   "outputs": [],
   "source": [
    "a = 'Amit'"
   ]
  },
  {
   "cell_type": "code",
   "execution_count": 19,
   "id": "9c47f476-904c-4a53-a59c-9c17a0123f7c",
   "metadata": {},
   "outputs": [
    {
     "name": "stdout",
     "output_type": "stream",
     "text": [
      "My name is \"AMIT\".\n"
     ]
    }
   ],
   "source": [
    "a = \"My name is \\\"AMIT\\\".\"\n",
    "print(a)"
   ]
  },
  {
   "cell_type": "code",
   "execution_count": null,
   "id": "9a2fe4d2-13b2-47bc-99fe-695901bda77c",
   "metadata": {},
   "outputs": [],
   "source": []
  }
 ],
 "metadata": {
  "kernelspec": {
   "display_name": "Python [conda env:base] *",
   "language": "python",
   "name": "conda-base-py"
  },
  "language_info": {
   "codemirror_mode": {
    "name": "ipython",
    "version": 3
   },
   "file_extension": ".py",
   "mimetype": "text/x-python",
   "name": "python",
   "nbconvert_exporter": "python",
   "pygments_lexer": "ipython3",
   "version": "3.12.7"
  }
 },
 "nbformat": 4,
 "nbformat_minor": 5
}
