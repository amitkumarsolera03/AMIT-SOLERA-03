{
 "cells": [
  {
   "cell_type": "markdown",
   "id": "2c0db5f4-c18a-4fe5-892a-00b0210b9fe3",
   "metadata": {},
   "source": [
    "# Strings\n",
    "\n",
    "    Collection of UTF-8 characterset.\n",
    "\n",
    "    name = 'Amit'\n",
    "    country = \"India\""
   ]
  },
  {
   "cell_type": "markdown",
   "id": "338b4356-f29a-45b8-8c48-f54bbb91390d",
   "metadata": {},
   "source": [
    "## Escapse sequence -->\n",
    "\n",
    "\"\\n\" - New Line\n",
    "\n",
    "\"\\t\" - tab space (4 space)\n",
    "\n",
    "\"\\r\" - carrige return\n",
    "\n",
    "\"\\'\" - insert single quote in string\n",
    "\n",
    "\"\\\"\" - insert double quote in string"
   ]
  },
  {
   "cell_type": "code",
   "execution_count": 9,
   "id": "23127a9c-77a2-4316-ac27-40f5bb5fbea0",
   "metadata": {},
   "outputs": [
    {
     "name": "stdout",
     "output_type": "stream",
     "text": [
      "😊\n"
     ]
    }
   ],
   "source": [
    "print(\"\\U0001F60A\")"
   ]
  },
  {
   "cell_type": "code",
   "execution_count": 4,
   "id": "c2f9d8a4-3c66-4a4f-bee1-feb4c70d000f",
   "metadata": {},
   "outputs": [
    {
     "name": "stdout",
     "output_type": "stream",
     "text": [
      "He didn't say that \"She is Beautifual.\"\n"
     ]
    }
   ],
   "source": [
    "#print(\"He didn't say that \\\"She is Beautifual.\\\"\")\n",
    "\n",
    "#str = \"He didn't say that \\\"She is Beautifual.\\\"\"\n",
    "str = 'He didn\\'t say that \\\"She is Beautifual.\\\"'\n",
    "print(str)"
   ]
  },
  {
   "cell_type": "code",
   "execution_count": 5,
   "id": "8929ce7a-a31b-4f72-b97a-8646cca2dd01",
   "metadata": {},
   "outputs": [
    {
     "name": "stdout",
     "output_type": "stream",
     "text": [
      "Escapse Sequence \\n represents new line.\n"
     ]
    }
   ],
   "source": [
    "str = \"Escapse Sequence \\\\n represents new line.\"\n",
    "print(str)"
   ]
  },
  {
   "cell_type": "code",
   "execution_count": 8,
   "id": "80e1a6f8-4c0a-4b68-ac2c-a9fe63f193e6",
   "metadata": {},
   "outputs": [],
   "source": [
    "path = \"c:\\\\onedrive\\\\desktop\"\n",
    "print(path)"
   ]
  },
  {
   "cell_type": "markdown",
   "id": "4f9ed000-e016-422f-bfe3-5f463f763ed8",
   "metadata": {},
   "source": [
    "## case related function\n",
    "\n",
    "    str.capitalize - first character capital rest small case letters.\n",
    "    str.upper - all letter in upper case.\n",
    "    str.lower - all letter in lower case.\n",
    "    str.swapcase - lower case converts in upper and upper case converts into lower \n",
    "    str.title - first letter of each word become caitalmrest remains in lower case."
   ]
  },
  {
   "cell_type": "code",
   "execution_count": 13,
   "id": "aa7f5725-a125-4a3f-9c33-25ccfadbe218",
   "metadata": {},
   "outputs": [
    {
     "name": "stdout",
     "output_type": "stream",
     "text": [
      "Orignal - aMit SolErA\n",
      "Capatilize - Amit solera\n",
      "lower - amit solera\n",
      "upper - AMIT SOLERA\n",
      "swapcase - AmIT sOLeRa\n",
      "title - Amit Solera\n"
     ]
    }
   ],
   "source": [
    "s = \"aMit SolErA\"\n",
    "\n",
    "print(\"Orignal -\", s)\n",
    "print(\"Capatilize -\", s.capitalize())\n",
    "print(\"lower -\" , s.lower())\n",
    "print(\"upper -\" , s.upper())\n",
    "print(\"swapcase -\", s.swapcase())\n",
    "print(\"title -\",s.title())"
   ]
  },
  {
   "cell_type": "markdown",
   "id": "ddcfd703-2bba-4928-89a0-cd8fab2e5c7e",
   "metadata": {},
   "source": [
    "## Table \n",
    "\n",
    "    name            country                age\n",
    "    \n",
    "    jhon            UK                      45\n",
    "    \n",
    "    amitsolera      IND                     17\n",
    "    "
   ]
  },
  {
   "cell_type": "code",
   "execution_count": 14,
   "id": "594b7227-4c1b-4875-a91c-bd0caad20900",
   "metadata": {},
   "outputs": [
    {
     "name": "stdout",
     "output_type": "stream",
     "text": [
      "Name country age\n",
      "jhon UK 45\n",
      "amitsolera IND 17\n"
     ]
    }
   ],
   "source": [
    "print(\"Name country age\")\n",
    "print(\"jhon UK 45\")\n",
    "print(\"amitsolera IND 17\")"
   ]
  },
  {
   "cell_type": "markdown",
   "id": "e5e6312f-edaa-4fce-8809-9474c46f977c",
   "metadata": {},
   "source": [
    "|<---50--->|<---50--->|<---50--->|\n",
    "\n",
    "|jhon      | left justify\n",
    "|   jhon   | center justify\n",
    "|      jhon| "
   ]
  },
  {
   "cell_type": "code",
   "execution_count": null,
   "id": "c9f5c051-c806-44d9-b79b-62b4a00a860a",
   "metadata": {},
   "outputs": [],
   "source": []
  },
  {
   "cell_type": "code",
   "execution_count": null,
   "id": "ec1c34f1-9a54-4165-94c1-15510f649754",
   "metadata": {},
   "outputs": [],
   "source": []
  },
  {
   "cell_type": "code",
   "execution_count": null,
   "id": "56b0d07c-169e-4dca-bf01-fff25314c471",
   "metadata": {},
   "outputs": [],
   "source": []
  },
  {
   "cell_type": "code",
   "execution_count": null,
   "id": "2b590919-eb22-4756-bebd-d1f5f57cd843",
   "metadata": {},
   "outputs": [],
   "source": []
  },
  {
   "cell_type": "code",
   "execution_count": null,
   "id": "1f96f3ed-b998-4808-af94-4f0b8c32b537",
   "metadata": {},
   "outputs": [],
   "source": []
  },
  {
   "cell_type": "code",
   "execution_count": null,
   "id": "e275910a-a249-4215-89a0-fe55ac1fd8f5",
   "metadata": {},
   "outputs": [],
   "source": [
    "s = \"Jhon\"\n",
    "w = 50\n",
    "print(repr(s))\n",
    "print(repr(s.ljust(50)))\n",
    "print(repr(s.center()))"
   ]
  }
 ],
 "metadata": {
  "kernelspec": {
   "display_name": "Python [conda env:base] *",
   "language": "python",
   "name": "conda-base-py"
  },
  "language_info": {
   "codemirror_mode": {
    "name": "ipython",
    "version": 3
   },
   "file_extension": ".py",
   "mimetype": "text/x-python",
   "name": "python",
   "nbconvert_exporter": "python",
   "pygments_lexer": "ipython3",
   "version": "3.12.7"
  }
 },
 "nbformat": 4,
 "nbformat_minor": 5
}
