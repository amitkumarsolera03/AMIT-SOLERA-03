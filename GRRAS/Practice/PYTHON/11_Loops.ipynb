{
 "cells": [
  {
   "cell_type": "markdown",
   "id": "4a4bc0d8-efe4-4aec-9535-8b670857430a",
   "metadata": {},
   "source": [
    "# While Loop"
   ]
  },
  {
   "cell_type": "code",
   "execution_count": null,
   "id": "d5a2724e-1004-4665-a958-d2c59454a88f",
   "metadata": {},
   "outputs": [],
   "source": [
    "import time\n",
    "\n",
    "while True:\n",
    "    ch = input(\"Do you want to play the game :- \")\n",
    "\n",
    "    if ch not in [\"yes\",\"yoo\",\"yup\",\"y\"]:\n",
    "        break\n",
    "    else:\n",
    "        player1 = input(\"Enter Player 1 name : \").strip().title()\n",
    "        time.sleep(2)\n",
    "        player2 = input(\"Enter Player 2 name : \").strip().title()\n",
    "        \n",
    "        print(f\"Welcome {player1} and {player2} into the game........\")\n",
    "        \n",
    "        choice = [\"Rock\", \"Paper\" , \"Scissor\"]\n",
    "        \n",
    "        p1choice = getpass.getpass(f\"{player1} Choose an choice : \").title()\n",
    "        print(\"Wait for Player 2 choice.....\")\n",
    "        time.sleep(2)\n",
    "        p2choice = getpass.getpass(f\"{player2} Choose an choice : \").title()\n",
    "        \n",
    "        if p1choice == p2choice:\n",
    "            print(\"Repeat the Round\")\n",
    "        elif ((p1choice == choice[0]) and (p2choice == choice[2])) or ((p1choice == choice[1]) and (p2choice == choice[0])) or ((p1choice == choice[2]) and (p2choice == choice[1])):\n",
    "            print(f\"{player1} choose {p1choice} and {player2} choose {p2choice}.\\nHence Player 1 win!!\")\n",
    "        elif ((p2choice == choice[0]) and (p1choice == choice[2])) or ((p2choice == choice[1]) and (p1choice == choice[0])) or ((p2choice == choice[2]) and (p1choice == choice[1])):\n",
    "            print(f\"{player1} choose {p1choice} and {player2} choose {p2choice}.\\nHence Player 2 Win!!\")\n",
    "        else:\n",
    "            print(\"Invalid Choice....\")"
   ]
  },
  {
   "cell_type": "code",
   "execution_count": 5,
   "id": "fb6af973-3c7e-41d2-baf1-b4800388252b",
   "metadata": {},
   "outputs": [],
   "source": [
    "c = 7"
   ]
  },
  {
   "cell_type": "code",
   "execution_count": 6,
   "id": "42b14561-9c3f-416c-9ea3-e625974b4d12",
   "metadata": {},
   "outputs": [
    {
     "name": "stdout",
     "output_type": "stream",
     "text": [
      "1\n"
     ]
    }
   ],
   "source": [
    "print(c%2)"
   ]
  },
  {
   "cell_type": "code",
   "execution_count": null,
   "id": "21ab9cbb-7431-4c31-adca-4175d83c260d",
   "metadata": {},
   "outputs": [],
   "source": []
  },
  {
   "cell_type": "markdown",
   "id": "56086e6a-2d4f-4d32-97cf-62553658c17f",
   "metadata": {},
   "source": [
    "# Number gussing game\n",
    "\n",
    "    ask user-1 to select 1 random number between 1-50\n",
    "    \n",
    "    user-2 will get 5 chances to guess the user1's gueesed number \n",
    "    \n",
    "        give hints after each incorrect guess like your guess is too low or your guess is too big \n",
    "    \n",
    "    if user-2 able to get correct guess in any 5 chances print congratulations to user-2\n",
    "    else print you such a looser message for user-2"
   ]
  },
  {
   "cell_type": "code",
   "execution_count": null,
   "id": "82a786a9-d3f7-4c70-a9ad-228e747df176",
   "metadata": {},
   "outputs": [],
   "source": []
  },
  {
   "cell_type": "markdown",
   "id": "df3cc983-3c47-4eeb-9de3-9641ab5fd89f",
   "metadata": {},
   "source": [
    "# For Loop"
   ]
  },
  {
   "cell_type": "code",
   "execution_count": 3,
   "id": "8d3c3e65-0e99-473e-8c2d-de983ecd2d14",
   "metadata": {},
   "outputs": [],
   "source": [
    "data = (\n",
    "    (\"Python\" , (\"Guido van Rossum\" , 1994)),\n",
    "    (\"c++\" , (\"Bjarne Stroustrup\" , 1979)),\n",
    "    (\"java\" , (\"James Gosling\" , 1991)),\n",
    "    ('c' , (\"Dennis Ritchie\" , 1971))\n",
    ")"
   ]
  },
  {
   "cell_type": "code",
   "execution_count": null,
   "id": "f2ad6234-5b04-4b19-90cc-6b88b5567f91",
   "metadata": {},
   "outputs": [],
   "source": []
  },
  {
   "cell_type": "code",
   "execution_count": null,
   "id": "d893d5f7-5ada-41e1-9454-23914f2272df",
   "metadata": {},
   "outputs": [],
   "source": []
  },
  {
   "cell_type": "markdown",
   "id": "729d422a-a6a2-4d68-9bb4-2cf4d7b570de",
   "metadata": {},
   "source": [
    "# Random Password Generator"
   ]
  },
  {
   "cell_type": "code",
   "execution_count": 7,
   "id": "8c649f44-0ad9-4e9d-b737-9ccf46fee0ae",
   "metadata": {},
   "outputs": [
    {
     "ename": "TypeError",
     "evalue": "can only concatenate str (not \"list\") to str",
     "output_type": "error",
     "traceback": [
      "\u001b[1;31m---------------------------------------------------------------------------\u001b[0m",
      "\u001b[1;31mTypeError\u001b[0m                                 Traceback (most recent call last)",
      "Cell \u001b[1;32mIn[7], line 8\u001b[0m\n\u001b[0;32m      6\u001b[0m \u001b[38;5;28;01mfor\u001b[39;00m _ \u001b[38;5;129;01min\u001b[39;00m \u001b[38;5;28mrange\u001b[39m(\u001b[38;5;241m10\u001b[39m):\n\u001b[0;32m      7\u001b[0m     ch \u001b[38;5;241m=\u001b[39m random\u001b[38;5;241m.\u001b[39mchoices(string\u001b[38;5;241m.\u001b[39mascii_letters \u001b[38;5;129;01mor\u001b[39;00m string\u001b[38;5;241m.\u001b[39mpunctuation)\n\u001b[1;32m----> 8\u001b[0m     password \u001b[38;5;241m+\u001b[39m\u001b[38;5;241m=\u001b[39m ch\n",
      "\u001b[1;31mTypeError\u001b[0m: can only concatenate str (not \"list\") to str"
     ]
    }
   ],
   "source": [
    "import random\n",
    "import string\n",
    "\n",
    "password = \"\"\n",
    "\n",
    "for _ in range(10):\n",
    "    ch = random.choices(string. or string.ascii_letters or string.punctuation)\n",
    "    password += ch"
   ]
  },
  {
   "cell_type": "code",
   "execution_count": 9,
   "id": "6af44fe9-9f89-4fd5-adc9-bb08157db097",
   "metadata": {},
   "outputs": [
    {
     "name": "stdout",
     "output_type": "stream",
     "text": [
      "Generated Password: q4wPy)G^\n"
     ]
    }
   ],
   "source": [
    "import random\n",
    "import string\n",
    "lowercase = string.ascii_lowercase\n",
    "uppercase = string.ascii_uppercase\n",
    "digits = string.digits\n",
    "symbols = string.punctuation\n",
    " \n",
    "all_chars = lowercase + uppercase + digits + symbols\n",
    " \n",
    "while True:\n",
    "    password = ''.join(random.choice(all_chars) for _ in range(8))\n",
    "    upper = any(char.isupper() for char in password)\n",
    "    symbol = any(char in symbols for char in password)\n",
    " \n",
    "    if upper and symbol:\n",
    "        print(\"Generated Password:\", password)\n",
    "        break"
   ]
  },
  {
   "cell_type": "code",
   "execution_count": null,
   "id": "c18330e7-dd2c-4148-aaf0-b3c80ed9cb41",
   "metadata": {},
   "outputs": [],
   "source": []
  }
 ],
 "metadata": {
  "kernelspec": {
   "display_name": "Python [conda env:base] *",
   "language": "python",
   "name": "conda-base-py"
  },
  "language_info": {
   "codemirror_mode": {
    "name": "ipython",
    "version": 3
   },
   "file_extension": ".py",
   "mimetype": "text/x-python",
   "name": "python",
   "nbconvert_exporter": "python",
   "pygments_lexer": "ipython3",
   "version": "3.12.7"
  }
 },
 "nbformat": 4,
 "nbformat_minor": 5
}
