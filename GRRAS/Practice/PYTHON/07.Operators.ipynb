{
 "cells": [
  {
   "cell_type": "markdown",
   "id": "c353dc4e-1b06-4bc4-af67-7bd6f60abc27",
   "metadata": {},
   "source": [
    "# Operator \n",
    "\n",
    "    Arithmatic Operator "
   ]
  },
  {
   "cell_type": "markdown",
   "id": "d6e3944c-1f43-44a0-b580-c9d903377848",
   "metadata": {},
   "source": [
    "    Warlus Operator\n",
    "        := "
   ]
  },
  {
   "cell_type": "code",
   "execution_count": null,
   "id": "418375f5-be6c-4dfc-aec5-66be2d032340",
   "metadata": {},
   "outputs": [],
   "source": []
  }
 ],
 "metadata": {
  "kernelspec": {
   "display_name": "Python [conda env:base] *",
   "language": "python",
   "name": "conda-base-py"
  },
  "language_info": {
   "codemirror_mode": {
    "name": "ipython",
    "version": 3
   },
   "file_extension": ".py",
   "mimetype": "text/x-python",
   "name": "python",
   "nbconvert_exporter": "python",
   "pygments_lexer": "ipython3",
   "version": "3.12.7"
  }
 },
 "nbformat": 4,
 "nbformat_minor": 5
}
