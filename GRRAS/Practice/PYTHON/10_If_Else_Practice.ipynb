{
 "cells": [
  {
   "cell_type": "markdown",
   "id": "c5e8d911-f5bf-4e37-8094-a6dbfd215214",
   "metadata": {},
   "source": [
    "# Rock Paper Scissors "
   ]
  },
  {
   "cell_type": "code",
   "execution_count": 1,
   "id": "c8b7d1a4-7f22-4751-984c-d3962ee1c1ed",
   "metadata": {},
   "outputs": [
    {
     "name": "stdin",
     "output_type": "stream",
     "text": [
      "Enter Player 1 name :  amit\n",
      "Enter Player 2 name :  abhi\n"
     ]
    },
    {
     "name": "stdout",
     "output_type": "stream",
     "text": [
      "Welcome Amit and Abhi into the game........\n"
     ]
    },
    {
     "name": "stdin",
     "output_type": "stream",
     "text": [
      "Amit Choose an choice :  ········\n"
     ]
    },
    {
     "name": "stdout",
     "output_type": "stream",
     "text": [
      "Wait for Player 2 choice.....\n"
     ]
    },
    {
     "name": "stdin",
     "output_type": "stream",
     "text": [
      "Abhi Choose an choice :  ········\n"
     ]
    },
    {
     "name": "stdout",
     "output_type": "stream",
     "text": [
      "Repeat the Round\n"
     ]
    }
   ],
   "source": [
    "import time\n",
    "\n",
    "player1 = input(\"Enter Player 1 name : \").strip().title()\n",
    "time.sleep(2)\n",
    "player2 = input(\"Enter Player 2 name : \").strip().title()\n",
    "\n",
    "print(f\"Welcome {player1} and {player2} into the game........\")\n",
    "\n",
    "choice = [\"Rock\", \"Paper\" , \"Scissor\"]\n",
    "\n",
    "p1choice = getpass.getpass(f\"{player1} Choose an choice : \").title()\n",
    "print(\"Wait for Player 2 choice.....\")\n",
    "time.sleep(2)\n",
    "p2choice = getpass.getpass(f\"{player2} Choose an choice : \").title()\n",
    "\n",
    "if p1choice == p2choice:\n",
    "    print(\"Repeat the Round\")\n",
    "elif ((p1choice == choice[0]) and (p2choice == choice[2])) or ((p1choice == choice[1]) and (p2choice == choice[0])) or ((p1choice == choice[2]) and (p2choice == choice[1])):\n",
    "    print(f\"{player1} choose {p1choice} and {player2} choose {p2choice}.\\nHence Player 1 win!!\")\n",
    "elif ((p2choice == choice[0]) and (p1choice == choice[2])) or ((p2choice == choice[1]) and (p1choice == choice[0])) or ((p2choice == choice[2]) and (p1choice == choice[1])):\n",
    "    print(f\"{player1} choose {p1choice} and {player2} choose {p2choice}.\\nHence Player 2 Win!!\")\n",
    "else:\n",
    "    print(\"Invalid Choice....\")"
   ]
  },
  {
   "cell_type": "code",
   "execution_count": 2,
   "id": "b9e372d7-25d5-4edb-b1fe-1fc79a151017",
   "metadata": {},
   "outputs": [
    {
     "name": "stdin",
     "output_type": "stream",
     "text": [
      "Enter Player 1 name :  amit\n",
      "Enter Player 2 name :  abhi\n"
     ]
    },
    {
     "name": "stdout",
     "output_type": "stream",
     "text": [
      "Welcome Amit and Abhi into the game........\n"
     ]
    },
    {
     "name": "stdin",
     "output_type": "stream",
     "text": [
      "Amit Choose an choice :  ········\n"
     ]
    },
    {
     "name": "stdout",
     "output_type": "stream",
     "text": [
      "Wait for Player 2 choice.....\n"
     ]
    },
    {
     "name": "stdin",
     "output_type": "stream",
     "text": [
      "Abhi Choose an choice :  ········\n"
     ]
    },
    {
     "name": "stdout",
     "output_type": "stream",
     "text": [
      "Amit choose Rock and Abhi choose Pper.\n",
      "Hence Player 2 Win!!\n"
     ]
    }
   ],
   "source": [
    "player1 = input(\"Enter Player 1 name : \").strip().title()\n",
    "player2 = input(\"Enter Player 2 name : \").strip().title()\n",
    "\n",
    "print(f\"Welcome {player1} and {player2} into the game........\")\n",
    "\n",
    "choice = [\"Rock\", \"Paper\" , \"Scissor\"]\n",
    "\n",
    "p1choice = getpass.getpass(f\"{player1} Choose an choice : \").title()\n",
    "print(\"Wait for Player 2 choice.....\")\n",
    "p2choice = getpass.getpass(f\"{player2} Choose an choice : \").title()\n",
    "\n",
    "if p1choice == p2choice:\n",
    "    print(f\"Aww... Game drow...\")\n",
    "elif p1choice == choice[0]:\n",
    "    if p2choice == choice[2]:\n",
    "        print(f\"{player1} choose {p1choice} and {player2} choose {p2choice}.\\nHence Player 1 win!!\")\n",
    "    else:\n",
    "        print(f\"{player1} choose {p1choice} and {player2} choose {p2choice}.\\nHence Player 2 Win!!\")\n",
    "elif p1choice == choice[1]:\n",
    "    if p2choice == choice[0]:\n",
    "        print(f\"{player1} choose {p1choice} and {player2} choose {p2choice}.\\nHence Player 1 win!!\")\n",
    "    else:\n",
    "        print(f\"{player1} choose {p1choice} and {player2} choose {p2choice}.\\nHence Player 2 Win!!\")\n",
    "elif p1choice == choice[2]:\n",
    "    if p2choice == choice[1]:\n",
    "        print(f\"{player1} choose {p1choice} and {player2} choose {p2choice}.\\nHence Player 1 win!!\")\n",
    "    else:\n",
    "        print(f\"{player1} choose {p1choice} and {player2} choose {p2choice}.\\nHence Player 2 Win!!\")"
   ]
  },
  {
   "cell_type": "code",
   "execution_count": null,
   "id": "3c5681ba-3447-4fd4-a249-c4ca54236edf",
   "metadata": {},
   "outputs": [],
   "source": []
  },
  {
   "cell_type": "code",
   "execution_count": null,
   "id": "cd1174ca-3691-4c6a-8e1a-90ef2835bffb",
   "metadata": {},
   "outputs": [],
   "source": []
  },
  {
   "cell_type": "code",
   "execution_count": 3,
   "id": "e0f3ed96-f4f9-4a54-9472-3a2dd7723119",
   "metadata": {},
   "outputs": [
    {
     "name": "stdin",
     "output_type": "stream",
     "text": [
      "Enter Player 1 name :  amit\n",
      "Enter Player 2 name :  abhi\n"
     ]
    },
    {
     "name": "stdout",
     "output_type": "stream",
     "text": [
      "Welcome Amit and Abhi into the game........\n"
     ]
    },
    {
     "name": "stdin",
     "output_type": "stream",
     "text": [
      "Amit Choose an choice :  ········\n"
     ]
    },
    {
     "name": "stdout",
     "output_type": "stream",
     "text": [
      "Wait for Player 2 choice.....\n"
     ]
    },
    {
     "name": "stdin",
     "output_type": "stream",
     "text": [
      "Abhi Choose an choice :  ········\n"
     ]
    },
    {
     "name": "stdout",
     "output_type": "stream",
     "text": [
      "Amit choose Rock and Abhi choose Paper.\n",
      "Hence Player 2 Win!!\n"
     ]
    }
   ],
   "source": [
    "player1 = input(\"Enter Player 1 name : \").strip().title()\n",
    "player2 = input(\"Enter Player 2 name : \").strip().title()\n",
    "\n",
    "print(f\"Welcome {player1} and {player2} into the game........\")\n",
    "\n",
    "choice = [\"Rock\", \"Paper\" , \"Scissor\"]\n",
    "\n",
    "p1choice = getpass.getpass(f\"{player1} Choose an choice : \").title()\n",
    "print(\"Wait for Player 2 choice.....\")\n",
    "p2choice = getpass.getpass(f\"{player2} Choose an choice : \").title()\n",
    "\n",
    "p1_win = (\n",
    "    (\"Rock\" , \"Scissor\"),\n",
    "    (\"Paper\" , \"Rock\"),\n",
    "    (\"Scissor\" , \"Paper\"))\n",
    "\n",
    "if p1choice in p1_win:\n",
    "    print(f\"{player1} choose {p1choice} and {player2} choose {p2choice}.\\nHence Player 1 win!!\")\n",
    "elif p1choice == p2choice:\n",
    "    print(\"Game is Tie...\")\n",
    "else:\n",
    "    print(f\"{player1} choose {p1choice} and {player2} choose {p2choice}.\\nHence Player 2 Win!!\")"
   ]
  },
  {
   "cell_type": "code",
   "execution_count": null,
   "id": "b39e5167-2d89-4f0f-ba03-e6755a2ee93b",
   "metadata": {},
   "outputs": [],
   "source": []
  },
  {
   "cell_type": "markdown",
   "id": "df8fa465-710c-4c41-99a9-5ffff84b7033",
   "metadata": {},
   "source": [
    "     Also done by tuple\n",
    "     using function\n",
    "     using dict"
   ]
  }
 ],
 "metadata": {
  "kernelspec": {
   "display_name": "Python [conda env:base] *",
   "language": "python",
   "name": "conda-base-py"
  },
  "language_info": {
   "codemirror_mode": {
    "name": "ipython",
    "version": 3
   },
   "file_extension": ".py",
   "mimetype": "text/x-python",
   "name": "python",
   "nbconvert_exporter": "python",
   "pygments_lexer": "ipython3",
   "version": "3.12.7"
  }
 },
 "nbformat": 4,
 "nbformat_minor": 5
}
