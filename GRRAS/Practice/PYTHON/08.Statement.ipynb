{
 "cells": [
  {
   "cell_type": "code",
   "execution_count": 2,
   "id": "abb6d04b-df6c-43da-9081-52e7cbf804d7",
   "metadata": {},
   "outputs": [
    {
     "name": "stdin",
     "output_type": "stream",
     "text": [
      "Enter username :  sachin\n",
      "Enter your password :  ········\n"
     ]
    },
    {
     "name": "stdout",
     "output_type": "stream",
     "text": [
      "User verified!\n"
     ]
    }
   ],
   "source": [
    "data = {\n",
    "    \"sachin\" : {\"password\" : \"qwerty\" , \"City\" : \"Jaipur\" , \"Country\" : \"India\"},\n",
    "    \"rajat\" : {\"password\" : 12345 , \"City\" : \"Sikar\" , \"Country\" : \"India\"}\n",
    "}\n",
    "\n",
    "username = input(\"Enter username : \").strip().lower()\n",
    "\n",
    "if username in data:\n",
    "    password = getpass.getpass(\"Enter your password : \")\n",
    "    if password == data[username][\"password\"]:\n",
    "        print(\"User verified!\")\n",
    "    else:\n",
    "        print(\"Incorrect password . Try again letter.\")\n",
    "else:\n",
    "    print(\"No user found. signup to continue.\")"
   ]
  },
  {
   "cell_type": "markdown",
   "id": "f9f0e005-4a12-48ab-94e3-21937f39a481",
   "metadata": {},
   "source": [
    "## Rock Paper Scissor \n",
    "    player 1 and player 2 \n",
    "\n",
    "    use dict list membership operator "
   ]
  },
  {
   "cell_type": "code",
   "execution_count": null,
   "id": "7d58d619-7246-46af-a8c9-d1772e98eb03",
   "metadata": {},
   "outputs": [],
   "source": [
    "player1 = input(\"Enter Player 1 name : \").strip().Title()\n",
    "player2 = input(\"Enter Player 2 name : \").strip().title()\n",
    "\n",
    "print(f\"{player1} and {player2} into the game........\")\n",
    "\n",
    "choice = [\"Rock\", \"Paper\" , \"Scissor\"]\n",
    "\n",
    "p1choice = getpass.getpass(f\"{player1} Choose an choice : \")\n",
    "p2choice = getpass.getpass(f\"{player2} Choose an choice : \")\n",
    "\n",
    "if p1choice == p2choice:\n",
    "    print(\"\")"
   ]
  },
  {
   "cell_type": "code",
   "execution_count": 3,
   "id": "bbb7d7a4-5596-4458-9487-a5cfe327b846",
   "metadata": {},
   "outputs": [
    {
     "name": "stdin",
     "output_type": "stream",
     "text": [
      " 2 3 2 \n"
     ]
    },
    {
     "name": "stdout",
     "output_type": "stream",
     "text": [
      "3 is greatest.\n"
     ]
    }
   ],
   "source": [
    "# a  = int(input(\"Enter first number : \"))\n",
    "# b  = int(input(\"Enter second number : \"))\n",
    "# c  = int(input(\"Enter third number : \"))\n",
    "\n",
    "a , b , c = map(int , input().split())\n",
    "\n",
    "if (a>b) and (a>c):\n",
    "    print(f\"{a} is greatest.\")\n",
    "elif (b>c):\n",
    "    print(f\"{b} is greatest.\")\n",
    "else:\n",
    "    print(f\"{c} is greatest.\")"
   ]
  },
  {
   "cell_type": "code",
   "execution_count": null,
   "id": "22d969f8-dff5-405c-b6bb-212387f4545e",
   "metadata": {},
   "outputs": [],
   "source": [
    "a  = int(input(\"Enter first number : \"))\n",
    "b  = int(input(\"Enter second number : \"))\n",
    "c  = int(input(\"Enter third number : \"))\n",
    "\n",
    "if a>b:\n",
    "    if a>c:\n",
    "        print(f\"{a} is greatest.\")\n",
    "    else:\n",
    "        print(f\"{c} is greatest.\")\n",
    "elif b>c:\n",
    "    print(f\"{b} is greatest.\")\n",
    "else:\n",
    "    print(f\"{c} is greatest...\")"
   ]
  },
  {
   "cell_type": "code",
   "execution_count": 10,
   "id": "d996c297-ccd1-4503-8231-6f80f85a343b",
   "metadata": {},
   "outputs": [
    {
     "name": "stdin",
     "output_type": "stream",
     "text": [
      "Enter a number :  -775\n"
     ]
    },
    {
     "name": "stdout",
     "output_type": "stream",
     "text": [
      "-775 is negative.\n"
     ]
    }
   ],
   "source": [
    "num =  int(input(\"Enter a number : \"))\n",
    "\n",
    "if num > 0 :\n",
    "    print(f\"{num} is positive.\")\n",
    "elif num < 0:\n",
    "    print(f\"{num} is negative.\")\n",
    "else:\n",
    "    print(f\"{num} is Zero\")"
   ]
  },
  {
   "cell_type": "markdown",
   "id": "6b3402dd-6d6b-417d-9724-bd953c9a160a",
   "metadata": {},
   "source": [
    "### Write a code to print grade \n",
    "    per > 95 ---A++\n",
    "\n",
    "    use dict"
   ]
  },
  {
   "cell_type": "code",
   "execution_count": 2,
   "id": "d564e34d-8976-498f-ae5f-b99a09389264",
   "metadata": {},
   "outputs": [
    {
     "name": "stdin",
     "output_type": "stream",
     "text": [
      "Enter your Marks in Subject 1 : 70\n",
      "Enter your Marks in Subject 2 : 70\n",
      "Enter your Marks in Subject 3 : 70\n"
     ]
    },
    {
     "name": "stdout",
     "output_type": "stream",
     "text": [
      "You get 210 and you got 70.0% and your grade is D\n"
     ]
    }
   ],
   "source": [
    "sub1 = int(input(\"Enter your Marks in Subject 1 :\"))\n",
    "sub2 = int(input(\"Enter your Marks in Subject 2 :\"))\n",
    "sub3 = int(input(\"Enter your Marks in Subject 3 :\"))\n",
    "\n",
    "marks = sub1 + sub2 + sub3\n",
    "per = ((sub1 + sub2 + sub3)/3)\n",
    "\n",
    "\n",
    "if per >= 95:\n",
    "    print(f\"You get {marks} and you got {per}% and your grade is A++\")\n",
    "elif (per >= 90) and (per < 95):\n",
    "    print(f\"You get {marks} and you got {per}% and your grade is A\")\n",
    "elif (per < 90) and (per >=85):\n",
    "    print(f\"You get {marks} and you got {per}% and your grade is B++\")\n",
    "elif (per <80) and (per >= 85):\n",
    "    print(f\"You get {marks} and you got {per}% and your grade is B\")\n",
    "elif (per > 80) and (per >= 75):\n",
    "    print(f\"You get {marks} and you got {per}% and your grade is C++\")\n",
    "elif (per > 75) and (per >= 70):\n",
    "    print(f\"You get {marks} and you got {per}% and your grade is C\")\n",
    "elif (per > 70) and (per >= 65):\n",
    "    print(f\"You get {marks} and you got {per}% and your grade is D++\")\n",
    "elif (per > 65) and (per >= 60):\n",
    "    print(f\"You get {marks} and you got {per}% and your grade is D\")\n",
    "else:\n",
    "    print(\"Fail\")"
   ]
  },
  {
   "cell_type": "markdown",
   "id": "26ea814f-3d79-4d4e-a804-42078b82f499",
   "metadata": {},
   "source": [
    "`Boundary Value Analysis`"
   ]
  },
  {
   "cell_type": "code",
   "execution_count": null,
   "id": "15ec9898-f011-4a67-a269-051ac2ba91cf",
   "metadata": {},
   "outputs": [],
   "source": []
  }
 ],
 "metadata": {
  "kernelspec": {
   "display_name": "Python [conda env:base] *",
   "language": "python",
   "name": "conda-base-py"
  },
  "language_info": {
   "codemirror_mode": {
    "name": "ipython",
    "version": 3
   },
   "file_extension": ".py",
   "mimetype": "text/x-python",
   "name": "python",
   "nbconvert_exporter": "python",
   "pygments_lexer": "ipython3",
   "version": "3.12.7"
  }
 },
 "nbformat": 4,
 "nbformat_minor": 5
}
