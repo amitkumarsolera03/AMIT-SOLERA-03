{
 "cells": [
  {
   "cell_type": "markdown",
   "id": "aaadf191-e970-41e2-a09b-8cd720960821",
   "metadata": {},
   "source": [
    "# List Method"
   ]
  },
  {
   "cell_type": "markdown",
   "id": "0104485a-ba5d-468a-8dfd-46412953a3ad",
   "metadata": {},
   "source": [
    "##     To add items to List \n",
    "\n",
    "    list.append(item) - add item at the end of list \n",
    "    list.insert(item) - add item at the specific index location \n",
    "    list.extend(item) - add item from iterable (collection) at the end of list"
   ]
  },
  {
   "cell_type": "code",
   "execution_count": 65,
   "id": "71d5ab94-8e7e-46fc-aa09-0da5e814bdd8",
   "metadata": {},
   "outputs": [
    {
     "name": "stdout",
     "output_type": "stream",
     "text": [
      "['Java', 'c', 'c++', 'python']\n"
     ]
    }
   ],
   "source": [
    "lng =  [\"Java\",\"c\"]\n",
    "lng.append(\"c++\")\n",
    "lng.append(\"python\")\n",
    "\n",
    "print(lng)"
   ]
  },
  {
   "cell_type": "code",
   "execution_count": 66,
   "id": "cff2776b-86f6-4650-878f-75e97d72701f",
   "metadata": {},
   "outputs": [
    {
     "name": "stdout",
     "output_type": "stream",
     "text": [
      "['Bash', 'Java', 'c', 'c++', 'python']\n"
     ]
    }
   ],
   "source": [
    "lng.insert(0 , \"Bash\")\n",
    "print(lng)"
   ]
  },
  {
   "cell_type": "code",
   "execution_count": 67,
   "id": "dd09e9dd-77e9-4bef-8f34-bdc5e7e092e2",
   "metadata": {},
   "outputs": [
    {
     "name": "stdout",
     "output_type": "stream",
     "text": [
      "['Bash', 'Java', 'JavaScript', 'c', 'c++', 'python']\n"
     ]
    }
   ],
   "source": [
    "lng.insert(2,\"JavaScript\")\n",
    "print(lng)"
   ]
  },
  {
   "cell_type": "code",
   "execution_count": 68,
   "id": "9709297f-b10e-4af0-99b3-b3eedb05ce78",
   "metadata": {},
   "outputs": [],
   "source": [
    "lang = [\"HTML\",\"CSS\"]"
   ]
  },
  {
   "cell_type": "code",
   "execution_count": 69,
   "id": "322e5384-ecfc-4e1c-aaf3-f3364ea42fd8",
   "metadata": {},
   "outputs": [],
   "source": [
    "lng.extend(lang)\n",
    "# lng.extend([\"HTML\",\"CSS\", \"Bootstrap\"])"
   ]
  },
  {
   "cell_type": "code",
   "execution_count": 70,
   "id": "079a777b-78fd-4a32-aca6-e60e746e2922",
   "metadata": {},
   "outputs": [
    {
     "name": "stdout",
     "output_type": "stream",
     "text": [
      "['Bash', 'Java', 'JavaScript', 'c', 'c++', 'python', 'HTML', 'CSS']\n"
     ]
    }
   ],
   "source": [
    "print(lng)"
   ]
  },
  {
   "cell_type": "code",
   "execution_count": 71,
   "id": "b771fa15-4a80-4fe5-8f0b-c07741cf46a2",
   "metadata": {},
   "outputs": [],
   "source": [
    "name = [\"Amit\",\"Abhi\"]"
   ]
  },
  {
   "cell_type": "code",
   "execution_count": 72,
   "id": "caeb6c2c-1c7a-448b-a3f7-ee8a0ef73319",
   "metadata": {},
   "outputs": [],
   "source": [
    "name.extend(\"yogi\")\n",
    "\n",
    "# int is not iterable "
   ]
  },
  {
   "cell_type": "code",
   "execution_count": 73,
   "id": "779616ef-7495-4d70-9cef-9a242a11f285",
   "metadata": {},
   "outputs": [
    {
     "name": "stdout",
     "output_type": "stream",
     "text": [
      "['Amit', 'Abhi', 'y', 'o', 'g', 'i']\n"
     ]
    }
   ],
   "source": [
    "print(name)"
   ]
  },
  {
   "cell_type": "markdown",
   "id": "44c56b7a-64f6-48ea-9e8a-8c11e6e1c5e6",
   "metadata": {},
   "source": [
    "## To remove element from list\n",
    "\n",
    "    item = list.pop(loc) - delete item from index and return the item\n",
    "    list.remove(item) - search and delete first occurence of item from list"
   ]
  },
  {
   "cell_type": "code",
   "execution_count": 99,
   "id": "86922886-3faf-4237-bfc3-eafa7166788e",
   "metadata": {},
   "outputs": [
    {
     "name": "stdout",
     "output_type": "stream",
     "text": [
      "['Bash', 'JavaScript', 'c', 'c++', 'HTML', 'CSS']\n"
     ]
    }
   ],
   "source": [
    "# reverse the append \n",
    "print(lng)"
   ]
  },
  {
   "cell_type": "code",
   "execution_count": 100,
   "id": "1dae5b22-65e2-4313-a40a-d29e377c28dc",
   "metadata": {},
   "outputs": [
    {
     "name": "stdout",
     "output_type": "stream",
     "text": [
      "JavaScript\n"
     ]
    }
   ],
   "source": [
    "item = lng.pop(1)\n",
    "\n",
    "print(item)"
   ]
  },
  {
   "cell_type": "code",
   "execution_count": 101,
   "id": "a36bf85d-d2c8-4140-8f0a-5ea1827c0e51",
   "metadata": {},
   "outputs": [
    {
     "name": "stdout",
     "output_type": "stream",
     "text": [
      "['Bash', 'c', 'c++', 'HTML', 'CSS']\n"
     ]
    }
   ],
   "source": [
    "print(lng)"
   ]
  },
  {
   "cell_type": "code",
   "execution_count": 102,
   "id": "350bd090-e974-4b57-a93e-102bb3a50b7d",
   "metadata": {},
   "outputs": [],
   "source": [
    "lng.append(\"python\")\n",
    "lng.insert(1,\"python\")\n"
   ]
  },
  {
   "cell_type": "code",
   "execution_count": 103,
   "id": "dcce6652-fc4f-4133-a1f0-1c735c96810e",
   "metadata": {},
   "outputs": [
    {
     "name": "stdout",
     "output_type": "stream",
     "text": [
      "['Bash', 'python', 'c', 'c++', 'HTML', 'CSS', 'python']\n"
     ]
    }
   ],
   "source": [
    "print(lng)"
   ]
  },
  {
   "cell_type": "code",
   "execution_count": 104,
   "id": "5ecab89e-7b05-4af1-81a7-0a1e5ba45245",
   "metadata": {},
   "outputs": [
    {
     "data": {
      "text/plain": [
       "False"
      ]
     },
     "execution_count": 104,
     "metadata": {},
     "output_type": "execute_result"
    }
   ],
   "source": [
    "\"Python\" in lng"
   ]
  },
  {
   "cell_type": "code",
   "execution_count": 105,
   "id": "41b12d67-8830-4f0a-ab64-951472b33fd7",
   "metadata": {},
   "outputs": [],
   "source": [
    "lng.remove(\"python\")"
   ]
  },
  {
   "cell_type": "code",
   "execution_count": 106,
   "id": "15f19e37-ab9e-4e7f-a7bb-1b97902ce5d2",
   "metadata": {},
   "outputs": [
    {
     "name": "stdout",
     "output_type": "stream",
     "text": [
      "['Bash', 'c', 'c++', 'HTML', 'CSS', 'python']\n"
     ]
    }
   ],
   "source": [
    "print(lng)"
   ]
  },
  {
   "cell_type": "markdown",
   "id": "8c8a9e62-1ce9-4743-8c19-45fea1a94f46",
   "metadata": {},
   "source": [
    "### List.count()\n",
    "\n",
    "    list.count(\"item\")"
   ]
  },
  {
   "cell_type": "code",
   "execution_count": 111,
   "id": "272dee8c-f0b4-49a6-8e08-34f2dd55195c",
   "metadata": {},
   "outputs": [
    {
     "name": "stdout",
     "output_type": "stream",
     "text": [
      "0\n"
     ]
    }
   ],
   "source": [
    "c = lng.count(\"Python\")\n",
    "print(c)"
   ]
  },
  {
   "cell_type": "code",
   "execution_count": 112,
   "id": "8b7796d2-f25f-49c6-90a9-b2df3518ae24",
   "metadata": {},
   "outputs": [
    {
     "name": "stdout",
     "output_type": "stream",
     "text": [
      "0\n"
     ]
    }
   ],
   "source": [
    "c = lng.count(\"python\")\n",
    "print(c)"
   ]
  },
  {
   "cell_type": "code",
   "execution_count": 113,
   "id": "9550103e-7eb7-441e-abf9-28b642fcd463",
   "metadata": {},
   "outputs": [],
   "source": [
    "for _ in range(c):\n",
    "    lng.remove(\"python\")"
   ]
  },
  {
   "cell_type": "code",
   "execution_count": 114,
   "id": "2eb46a93-60f0-482a-9309-42c371a9dbbe",
   "metadata": {},
   "outputs": [
    {
     "name": "stdout",
     "output_type": "stream",
     "text": [
      "['Bash', 'c', 'c++', 'HTML', 'CSS']\n"
     ]
    }
   ],
   "source": [
    "print(lng)"
   ]
  },
  {
   "cell_type": "markdown",
   "id": "183265f6-eb20-40cb-991d-c9048e429c0a",
   "metadata": {},
   "source": [
    "## List.clear()\n",
    "    remove all the item from the list"
   ]
  },
  {
   "cell_type": "code",
   "execution_count": 116,
   "id": "823360aa-441c-4ce8-94f4-48151d34b871",
   "metadata": {},
   "outputs": [],
   "source": [
    "lng.clear()"
   ]
  },
  {
   "cell_type": "code",
   "execution_count": 117,
   "id": "3e179881-7bd5-4815-9873-a227ee0b784b",
   "metadata": {},
   "outputs": [
    {
     "name": "stdout",
     "output_type": "stream",
     "text": [
      "[]\n"
     ]
    }
   ],
   "source": [
    "print(lng)"
   ]
  },
  {
   "cell_type": "code",
   "execution_count": null,
   "id": "941cfeaf-66e3-4277-86b3-b3fb601aa85e",
   "metadata": {},
   "outputs": [],
   "source": []
  },
  {
   "cell_type": "code",
   "execution_count": 121,
   "id": "e6857903-5ac7-428f-abc0-28b5df776e4b",
   "metadata": {},
   "outputs": [
    {
     "name": "stdout",
     "output_type": "stream",
     "text": [
      "Time remaining :     0: seconds."
     ]
    }
   ],
   "source": [
    "import time\n",
    "total = 300\n",
    "for sec in range(total+1):\n",
    "    print(f\"\\rTime remaining : {total-sec:>5}: seconds.\" , end=\"\")\n",
    "    time.sleep(1)"
   ]
  },
  {
   "cell_type": "code",
   "execution_count": null,
   "id": "76fda2c2-d223-4184-b7c5-8025ea49a7fb",
   "metadata": {},
   "outputs": [],
   "source": []
  },
  {
   "cell_type": "markdown",
   "id": "fdf757a7-1f27-46c3-b55c-cd07c918340d",
   "metadata": {},
   "source": [
    "## copy ?\n",
    "\n",
    "    Shallow copy vs deep copy"
   ]
  },
  {
   "cell_type": "code",
   "execution_count": 123,
   "id": "c91e804f-9066-4de4-a7bc-b4d646a9ba5a",
   "metadata": {},
   "outputs": [],
   "source": [
    "lng = [\"Java\", \"C\",\"C++\"]\n",
    "old_lng = lng"
   ]
  },
  {
   "cell_type": "code",
   "execution_count": 124,
   "id": "1844e19e-65b6-4349-956a-4c07d8f96df6",
   "metadata": {},
   "outputs": [
    {
     "name": "stdout",
     "output_type": "stream",
     "text": [
      "['Java', 'C', 'C++']\n",
      "['Java', 'C', 'C++']\n"
     ]
    }
   ],
   "source": [
    "print(lng)\n",
    "print(old_lng)"
   ]
  },
  {
   "cell_type": "code",
   "execution_count": 125,
   "id": "328f464d-9f7c-4123-8b81-4d764aac2b87",
   "metadata": {},
   "outputs": [
    {
     "name": "stdout",
     "output_type": "stream",
     "text": [
      "2194340425280\n",
      "2194340425280\n"
     ]
    }
   ],
   "source": [
    "print(id(lng))\n",
    "print(id(old_lng))"
   ]
  },
  {
   "cell_type": "code",
   "execution_count": 126,
   "id": "6aa9456a-5c91-4f39-a2d2-8c9d707d1b53",
   "metadata": {},
   "outputs": [
    {
     "data": {
      "text/plain": [
       "True"
      ]
     },
     "execution_count": 126,
     "metadata": {},
     "output_type": "execute_result"
    }
   ],
   "source": [
    "lng is old_lng"
   ]
  },
  {
   "cell_type": "code",
   "execution_count": 127,
   "id": "f20f0100-b0bb-43ea-a45a-43d414baf689",
   "metadata": {},
   "outputs": [],
   "source": [
    "old_lng = lng.copy()\n"
   ]
  },
  {
   "cell_type": "code",
   "execution_count": 128,
   "id": "489db152-2d31-4d06-a99f-eb0f21481a7a",
   "metadata": {},
   "outputs": [
    {
     "data": {
      "text/plain": [
       "False"
      ]
     },
     "execution_count": 128,
     "metadata": {},
     "output_type": "execute_result"
    }
   ],
   "source": [
    "old_lng is lng"
   ]
  },
  {
   "cell_type": "code",
   "execution_count": 129,
   "id": "84128811-0f05-461d-bd57-1044b62cf75d",
   "metadata": {},
   "outputs": [
    {
     "name": "stdout",
     "output_type": "stream",
     "text": [
      "2194340425280\n",
      "2194342129408\n"
     ]
    }
   ],
   "source": [
    "print(id(lng))\n",
    "print(id(old_lng))"
   ]
  },
  {
   "cell_type": "code",
   "execution_count": 133,
   "id": "366b5d26-0326-4db6-afe1-981b1f27daa9",
   "metadata": {},
   "outputs": [
    {
     "name": "stdout",
     "output_type": "stream",
     "text": [
      "Main Language is - ['Java', 'C', 'C++']\n",
      "Old Language is - ['Java', 'C', 'C++']\n"
     ]
    }
   ],
   "source": [
    "print(f\"Main Language is - {lng}\")\n",
    "print(f\"Old Language is - {old_lng}\")"
   ]
  },
  {
   "cell_type": "code",
   "execution_count": null,
   "id": "eb57006c-6290-4b6f-b5e4-233217796df9",
   "metadata": {},
   "outputs": [],
   "source": []
  },
  {
   "cell_type": "code",
   "execution_count": 140,
   "id": "3424c207-0414-4bac-9c8f-414bd61a9461",
   "metadata": {},
   "outputs": [],
   "source": [
    "data = [\n",
    "    [\"Sachin\",101,\"Data Science\", 10000 , 3000],\n",
    "    [\"Jatin\",102,\"Linux\", 5000 , 1000],\n",
    "    [\"seema\",103,\"Cloud\", 15000 , 10000]\n",
    "]"
   ]
  },
  {
   "cell_type": "code",
   "execution_count": 161,
   "id": "5db3edc4-224e-4d74-b00b-a701b47cafdd",
   "metadata": {},
   "outputs": [],
   "source": [
    "data.append([\"Ravi\",104,\"Data Analytics\", 17000 , 7000])"
   ]
  },
  {
   "cell_type": "code",
   "execution_count": 204,
   "id": "99ac5486-7bc4-4364-9d1d-360292f3c2e7",
   "metadata": {},
   "outputs": [],
   "source": [
    "old_data = [\n",
    "    [\"Sachin\",101,\"Data Science\", 10000 , 3000],\n",
    "    [\"Jatin\",102,\"Linux\", 5000 , 1000],\n",
    "    [\"seema\",103,\"Cloud\", 15000 , 10000],\n",
    "    [\"Ravi\",104,\"Data Analytics\", 17000 , 7000]\n",
    "]"
   ]
  },
  {
   "cell_type": "code",
   "execution_count": 205,
   "id": "660b0a54-37c2-4e65-a2f6-9889fc06af95",
   "metadata": {},
   "outputs": [
    {
     "ename": "AttributeError",
     "evalue": "'int' object has no attribute 'copy'",
     "output_type": "error",
     "traceback": [
      "\u001b[1;31m---------------------------------------------------------------------------\u001b[0m",
      "\u001b[1;31mAttributeError\u001b[0m                            Traceback (most recent call last)",
      "Cell \u001b[1;32mIn[205], line 1\u001b[0m\n\u001b[1;32m----> 1\u001b[0m old_data \u001b[38;5;241m=\u001b[39m data\u001b[38;5;241m.\u001b[39mcopy()\n",
      "\u001b[1;31mAttributeError\u001b[0m: 'int' object has no attribute 'copy'"
     ]
    }
   ],
   "source": [
    "old_data = data.copy()"
   ]
  },
  {
   "cell_type": "code",
   "execution_count": 206,
   "id": "173ed59c-dfc5-40ee-bfa6-4642162bf818",
   "metadata": {},
   "outputs": [
    {
     "name": "stdout",
     "output_type": "stream",
     "text": [
      "5\n"
     ]
    }
   ],
   "source": [
    "print(data)"
   ]
  },
  {
   "cell_type": "code",
   "execution_count": 207,
   "id": "ac9c8cd7-1308-422e-80c5-112923916b93",
   "metadata": {},
   "outputs": [
    {
     "name": "stdout",
     "output_type": "stream",
     "text": [
      "5\n"
     ]
    }
   ],
   "source": [
    "print(data)"
   ]
  },
  {
   "cell_type": "code",
   "execution_count": 208,
   "id": "82d3016f-8e78-4eeb-9a89-117ee81524d9",
   "metadata": {},
   "outputs": [
    {
     "ename": "TypeError",
     "evalue": "'int' object is not subscriptable",
     "output_type": "error",
     "traceback": [
      "\u001b[1;31m---------------------------------------------------------------------------\u001b[0m",
      "\u001b[1;31mTypeError\u001b[0m                                 Traceback (most recent call last)",
      "Cell \u001b[1;32mIn[208], line 1\u001b[0m\n\u001b[1;32m----> 1\u001b[0m data[\u001b[38;5;241m3\u001b[39m][\u001b[38;5;241m2\u001b[39m][\u001b[38;5;241m10\u001b[39m]\n",
      "\u001b[1;31mTypeError\u001b[0m: 'int' object is not subscriptable"
     ]
    }
   ],
   "source": [
    "data[3][2][10]"
   ]
  },
  {
   "cell_type": "code",
   "execution_count": 209,
   "id": "a3d88daf-29b2-471e-bfc3-2ad9603f946e",
   "metadata": {},
   "outputs": [
    {
     "name": "stdout",
     "output_type": "stream",
     "text": [
      "[['Sachin', 101, 'Data Science', 10000, 3000], ['Jatin', 102, 'Linux', 5000, 1000], ['seema', 103, 'Cloud', 15000, 10000], ['Ravi', 104, 'Data Analytics', 17000, 7000]]\n"
     ]
    }
   ],
   "source": [
    "print(old_data)"
   ]
  },
  {
   "cell_type": "code",
   "execution_count": null,
   "id": "a3c9bbc2-4fd4-4b78-a3c1-c1ce83a06084",
   "metadata": {},
   "outputs": [],
   "source": []
  },
  {
   "cell_type": "markdown",
   "id": "1ce4d8a4-0ad6-4786-8df5-85cbc43448c4",
   "metadata": {},
   "source": [
    "## Sort"
   ]
  },
  {
   "cell_type": "code",
   "execution_count": 210,
   "id": "12e13014-6383-4897-9a1e-a91c3322edad",
   "metadata": {},
   "outputs": [],
   "source": [
    "names = [\"sachin\", \"rajat\",\"Amit\", \"Abhi\", \"kushal\",\"Sonu\",\"ravi\"]"
   ]
  },
  {
   "cell_type": "markdown",
   "id": "fc6654ea-ff77-458a-9ebd-344ea3e14bbf",
   "metadata": {},
   "source": [
    "for _ in range(10):\n",
    "    print(f\"\\rSpanning bottle..........--> {random.choice(names:>10)}\")"
   ]
  },
  {
   "cell_type": "markdown",
   "id": "3fba5680-ac44-407f-91e1-50207bc64ce4",
   "metadata": {},
   "source": [
    "import random\n",
    "\n",
    "data = random.randint(0 , len(names))"
   ]
  },
  {
   "cell_type": "markdown",
   "id": "9c91f1e0-8f01-439e-a301-0133315af34f",
   "metadata": {},
   "source": [
    "print(data)"
   ]
  },
  {
   "cell_type": "code",
   "execution_count": 211,
   "id": "4523c2dd-ee1f-4673-a914-cd9863da9450",
   "metadata": {},
   "outputs": [
    {
     "name": "stdout",
     "output_type": "stream",
     "text": [
      "['sachin', 'rajat', 'Amit', 'Abhi', 'kushal', 'Sonu', 'ravi']\n"
     ]
    }
   ],
   "source": [
    "print(names)"
   ]
  },
  {
   "cell_type": "code",
   "execution_count": 212,
   "id": "18b04a45-83cf-4f89-87e6-25d9d4bae7e5",
   "metadata": {},
   "outputs": [],
   "source": [
    "names.sort()"
   ]
  },
  {
   "cell_type": "code",
   "execution_count": 213,
   "id": "044e68ac-ded0-48bb-b8aa-f9e980d6b56b",
   "metadata": {},
   "outputs": [
    {
     "name": "stdout",
     "output_type": "stream",
     "text": [
      "['Abhi', 'Amit', 'Sonu', 'kushal', 'rajat', 'ravi', 'sachin']\n"
     ]
    }
   ],
   "source": [
    "print(names)"
   ]
  },
  {
   "cell_type": "code",
   "execution_count": 214,
   "id": "f049c483-ea69-4d56-96e7-34e706452720",
   "metadata": {},
   "outputs": [],
   "source": [
    "names.sort(reverse=True)"
   ]
  },
  {
   "cell_type": "code",
   "execution_count": 215,
   "id": "706215bc-c1e7-4af1-a2df-e769e4683c85",
   "metadata": {},
   "outputs": [
    {
     "name": "stdout",
     "output_type": "stream",
     "text": [
      "['sachin', 'ravi', 'rajat', 'kushal', 'Sonu', 'Amit', 'Abhi']\n"
     ]
    }
   ],
   "source": [
    "print(names)"
   ]
  },
  {
   "cell_type": "code",
   "execution_count": null,
   "id": "2f4012f3-b4fe-4360-b077-398cf15bc19a",
   "metadata": {},
   "outputs": [],
   "source": []
  },
  {
   "cell_type": "code",
   "execution_count": null,
   "id": "4210dadd-d322-48b7-8584-abf599233987",
   "metadata": {},
   "outputs": [],
   "source": []
  }
 ],
 "metadata": {
  "kernelspec": {
   "display_name": "Python [conda env:base] *",
   "language": "python",
   "name": "conda-base-py"
  },
  "language_info": {
   "codemirror_mode": {
    "name": "ipython",
    "version": 3
   },
   "file_extension": ".py",
   "mimetype": "text/x-python",
   "name": "python",
   "nbconvert_exporter": "python",
   "pygments_lexer": "ipython3",
   "version": "3.12.7"
  }
 },
 "nbformat": 4,
 "nbformat_minor": 5
}
