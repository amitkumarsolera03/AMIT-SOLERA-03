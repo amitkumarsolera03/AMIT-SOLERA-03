{
 "cells": [
  {
   "cell_type": "markdown",
   "id": "71c05b17-8694-45b9-b47f-4259899d6f72",
   "metadata": {},
   "source": [
    "# 1. Write down 10 projects ideas you want to implement using python "
   ]
  },
  {
   "cell_type": "markdown",
   "id": "3de87fe7-523e-4223-ba9f-487cb72bb592",
   "metadata": {},
   "source": [
    "# 2. Create at list 5 objects using list, dictionary, it will be good if you store realistic data   "
   ]
  },
  {
   "cell_type": "markdown",
   "id": "125026f0-bae7-464e-baef-c1b1fb3a8da5",
   "metadata": {},
   "source": [
    "# 3. What are operators? How many types of operators are there in python? "
   ]
  },
  {
   "cell_type": "code",
   "execution_count": null,
   "id": "d7d281d5-c60a-431d-9bb3-863a072f49cf",
   "metadata": {},
   "outputs": [],
   "source": []
  }
 ],
 "metadata": {
  "kernelspec": {
   "display_name": "Python [conda env:base] *",
   "language": "python",
   "name": "conda-base-py"
  },
  "language_info": {
   "codemirror_mode": {
    "name": "ipython",
    "version": 3
   },
   "file_extension": ".py",
   "mimetype": "text/x-python",
   "name": "python",
   "nbconvert_exporter": "python",
   "pygments_lexer": "ipython3",
   "version": "3.12.7"
  }
 },
 "nbformat": 4,
 "nbformat_minor": 5
}
