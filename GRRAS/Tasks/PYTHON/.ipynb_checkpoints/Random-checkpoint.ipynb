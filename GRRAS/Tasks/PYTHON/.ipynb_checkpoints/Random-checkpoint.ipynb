{
 "cells": [
  {
   "cell_type": "markdown",
   "id": "7022fa1c-2b5d-491d-af56-844f0547b475",
   "metadata": {},
   "source": [
    "# Rock Paper Scissor"
   ]
  },
  {
   "cell_type": "code",
   "execution_count": 1,
   "id": "54add18e-84cd-4332-9a82-3e2deeea6b57",
   "metadata": {},
   "outputs": [
    {
     "name": "stdin",
     "output_type": "stream",
     "text": [
      "Enter Player 1 name :  amit\n",
      "Enter Player 2 name :  abhi\n"
     ]
    },
    {
     "name": "stdout",
     "output_type": "stream",
     "text": [
      "Welcome Amit and Abhi into the game........\n"
     ]
    },
    {
     "name": "stdin",
     "output_type": "stream",
     "text": [
      "Amit Choose an choice :  ········\n"
     ]
    },
    {
     "name": "stdout",
     "output_type": "stream",
     "text": [
      "Wait for Player 2 choice.....\n"
     ]
    },
    {
     "name": "stdin",
     "output_type": "stream",
     "text": [
      "Abhi Choose an choice :  ········\n"
     ]
    },
    {
     "name": "stdout",
     "output_type": "stream",
     "text": [
      "Repeat the Round\n"
     ]
    }
   ],
   "source": [
    "import time\n",
    "\n",
    "player1 = input(\"Enter Player 1 name : \").strip().title()\n",
    "time.sleep(2)\n",
    "player2 = input(\"Enter Player 2 name : \").strip().title()\n",
    "\n",
    "print(f\"Welcome {player1} and {player2} into the game........\")\n",
    "\n",
    "choice = [\"Rock\", \"Paper\" , \"Scissor\"]\n",
    "\n",
    "p1choice = getpass.getpass(f\"{player1} Choose an choice : \").title()\n",
    "print(\"Wait for Player 2 choice.....\")\n",
    "time.sleep(2)\n",
    "p2choice = getpass.getpass(f\"{player2} Choose an choice : \").title()\n",
    "\n",
    "if p1choice == p2choice:\n",
    "    print(\"Repeat the Round\")\n",
    "elif ((p1choice == choice[0]) and (p2choice == choice[2])) or ((p1choice == choice[1]) and (p2choice == choice[0])) or ((p1choice == choice[2]) and (p2choice == choice[1])):\n",
    "    print(f\"{player1} choose {p1choice} and {player2} choose {p2choice}.\\nHence Player 1 win!!\")\n",
    "elif ((p2choice == choice[0]) and (p1choice == choice[2])) or ((p2choice == choice[1]) and (p1choice == choice[0])) or ((p2choice == choice[2]) and (p1choice == choice[1])):\n",
    "    print(f\"{player1} choose {p1choice} and {player2} choose {p2choice}.\\nHence Player 2 Win!!\")\n",
    "else:\n",
    "    print(\"Invalid Choice....\")"
   ]
  },
  {
   "cell_type": "code",
   "execution_count": 2,
   "id": "6611d501-b76a-4e14-81d6-815056e3c2de",
   "metadata": {},
   "outputs": [
    {
     "name": "stdin",
     "output_type": "stream",
     "text": [
      "Enter Player 1 name :  amit\n",
      "Enter Player 2 name :  abhi\n"
     ]
    },
    {
     "name": "stdout",
     "output_type": "stream",
     "text": [
      "Welcome Amit and Abhi into the game........\n"
     ]
    },
    {
     "name": "stdin",
     "output_type": "stream",
     "text": [
      "Amit Choose an choice :  ········\n"
     ]
    },
    {
     "name": "stdout",
     "output_type": "stream",
     "text": [
      "Wait for Player 2 choice.....\n"
     ]
    },
    {
     "name": "stdin",
     "output_type": "stream",
     "text": [
      "Abhi Choose an choice :  ········\n"
     ]
    },
    {
     "name": "stdout",
     "output_type": "stream",
     "text": [
      "Amit choose Rock and Abhi choose Paper.\n",
      "Hence Player 2 Win!!\n"
     ]
    }
   ],
   "source": [
    "player1 = input(\"Enter Player 1 name : \").strip().title()\n",
    "time.sleep(2)\n",
    "player2 = input(\"Enter Player 2 name : \").strip().title()\n",
    "\n",
    "print(f\"Welcome {player1} and {player2} into the game........\")\n",
    "\n",
    "choice = [\"Rock\", \"Paper\" , \"Scissor\"]\n",
    "\n",
    "p1choice = getpass.getpass(f\"{player1} Choose an choice : \").title()\n",
    "print(\"Wait for Player 2 choice.....\")\n",
    "time.sleep(2)\n",
    "p2choice = getpass.getpass(f\"{player2} Choose an choice : \").title()\n",
    "\n",
    "if p1choice == p2choice:\n",
    "    print(f\"Aww... Game drow...\")\n",
    "elif p1choice == choice[0]:\n",
    "    if p2choice == choice[2]:\n",
    "        print(f\"{player1} choose {p1choice} and {player2} choose {p2choice}.\\nHence Player 1 win!!\")\n",
    "    else:\n",
    "        print(f\"{player1} choose {p1choice} and {player2} choose {p2choice}.\\nHence Player 2 Win!!\")\n",
    "elif p1choice == choice[1]:\n",
    "    if p2choice == choice[0]:\n",
    "        print(f\"{player1} choose {p1choice} and {player2} choose {p2choice}.\\nHence Player 1 win!!\")\n",
    "    else:\n",
    "        print(f\"{player1} choose {p1choice} and {player2} choose {p2choice}.\\nHence Player 2 Win!!\")\n",
    "elif p1choice == choice[2]:\n",
    "    if p2choice == choice[1]:\n",
    "        print(f\"{player1} choose {p1choice} and {player2} choose {p2choice}.\\nHence Player 1 win!!\")\n",
    "    else:\n",
    "        print(f\"{player1} choose {p1choice} and {player2} choose {p2choice}.\\nHence Player 2 Win!!\")\n",
    "else:\n",
    "    print(\"Invalid input\")"
   ]
  },
  {
   "cell_type": "code",
   "execution_count": null,
   "id": "f63fa6c2-a232-4548-948b-8d1a4d84d985",
   "metadata": {},
   "outputs": [],
   "source": []
  }
 ],
 "metadata": {
  "kernelspec": {
   "display_name": "Python [conda env:base] *",
   "language": "python",
   "name": "conda-base-py"
  },
  "language_info": {
   "codemirror_mode": {
    "name": "ipython",
    "version": 3
   },
   "file_extension": ".py",
   "mimetype": "text/x-python",
   "name": "python",
   "nbconvert_exporter": "python",
   "pygments_lexer": "ipython3",
   "version": "3.12.7"
  }
 },
 "nbformat": 4,
 "nbformat_minor": 5
}
