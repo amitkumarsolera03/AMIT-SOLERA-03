{
 "cells": [
  {
   "cell_type": "markdown",
   "id": "38d7453c-09d0-42c5-a176-244fe1e4ccd2",
   "metadata": {},
   "source": [
    "# 1.What are Data Structures? List some of data structures and their use in real world application? "
   ]
  },
  {
   "cell_type": "markdown",
   "id": "2697c190-8253-42d0-9d50-341a89ab28b2",
   "metadata": {},
   "source": [
    "## Data Structures :-\n",
    "                    A Data Structure is a way to organize , manage and store data in the memory that can be used efficiently. \n",
    "    --> List of Data Structure -\n",
    "        1. Array :- \n",
    "                    A collection of same type of data. "
   ]
  },
  {
   "cell_type": "markdown",
   "id": "730639ca-e6c4-4317-8cac-943fa6460055",
   "metadata": {},
   "source": [
    "# 2.  What are the different numeric data types in Python? "
   ]
  },
  {
   "cell_type": "markdown",
   "id": "bd56ae14-b3b6-4eb9-8e97-eebbbe73aa5a",
   "metadata": {},
   "source": [
    "# 3. How is int different from float? "
   ]
  },
  {
   "cell_type": "markdown",
   "id": "9c905277-1fcc-439c-9a44-ecd5465f93b6",
   "metadata": {},
   "source": [
    "# 4. What is the purpose of the complex data type? "
   ]
  },
  {
   "cell_type": "markdown",
   "id": "dae5660b-9791-4bb9-af5e-e96cae4d88f3",
   "metadata": {},
   "source": [
    "# 5. What will be the result of int(\"10\") + float(\"5.5\")? "
   ]
  },
  {
   "cell_type": "markdown",
   "id": "5371e50a-87b6-4be0-8965-fe2762423f17",
   "metadata": {},
   "source": [
    "# 6. How can you check the data type of a variable in Python? "
   ]
  },
  {
   "cell_type": "markdown",
   "id": "bc837fda-f2ab-46ca-a1b8-e2f80fda8144",
   "metadata": {},
   "source": [
    "# 7. Read till Chapter-1 to Chapter - 5 from book I shared called Learning Python "
   ]
  },
  {
   "cell_type": "markdown",
   "id": "435aa8cc-b166-45e7-95a3-585daaa2257a",
   "metadata": {},
   "source": [
    "# 8. Create a list data type and store names of your friends in it (at least 5), check out what are methods available in list data type, try to figure out their working using help function in python.   "
   ]
  },
  {
   "cell_type": "markdown",
   "id": "30a28276-b3a3-417c-a15e-11917987683f",
   "metadata": {},
   "source": [
    "# 9. What is difference between ordered data type and unordered data type?"
   ]
  },
  {
   "cell_type": "markdown",
   "id": "fb5a619a-2765-42dc-8139-704f75a53bfa",
   "metadata": {},
   "source": [
    "# 10. Write down types of each value given? ( in python) \n",
    "\n",
    "    a. 100 \n",
    "    \n",
    "    b. 105.5 \n",
    "    \n",
    "    c. 192.56j \n",
    "    \n",
    "    d. 10+6j \n",
    "    \n",
    "    e. ‘10’ \n",
    "    \n",
    "    f. ‘hello world’ \n",
    "    \n",
    "    g. [ 10, 20, 50, 100] \n",
    "    \n",
    "    h. { ‘name’: ‘sachin’, ‘age’: 24, ‘language’: ‘python’ } \n",
    " "
   ]
  },
  {
   "cell_type": "code",
   "execution_count": 1,
   "id": "a3aafbfb-138c-495f-9529-31488d36c0e2",
   "metadata": {},
   "outputs": [
    {
     "name": "stdout",
     "output_type": "stream",
     "text": [
      "<class 'int'>\n"
     ]
    }
   ],
   "source": [
    "num = 100\n",
    "print(type(num))"
   ]
  },
  {
   "cell_type": "code",
   "execution_count": 2,
   "id": "20db0405-faa5-44bf-8723-a76e95763dd3",
   "metadata": {},
   "outputs": [
    {
     "name": "stdout",
     "output_type": "stream",
     "text": [
      "<class 'float'>\n"
     ]
    }
   ],
   "source": [
    "num = 105.5\n",
    "print(type(num))"
   ]
  },
  {
   "cell_type": "code",
   "execution_count": 3,
   "id": "bfc54dc2-2517-43fa-acb0-227c6bdf2605",
   "metadata": {},
   "outputs": [
    {
     "name": "stdout",
     "output_type": "stream",
     "text": [
      "<class 'complex'>\n"
     ]
    }
   ],
   "source": [
    "num = 192.56j\n",
    "print(type(num))"
   ]
  },
  {
   "cell_type": "code",
   "execution_count": 4,
   "id": "1aed7530-fe67-41d1-a754-e573b6d37610",
   "metadata": {},
   "outputs": [
    {
     "name": "stdout",
     "output_type": "stream",
     "text": [
      "<class 'complex'>\n"
     ]
    }
   ],
   "source": [
    "num = 10+6j\n",
    "print(type(num))"
   ]
  },
  {
   "cell_type": "code",
   "execution_count": 5,
   "id": "fb81d06c-0df0-4725-89dd-cfa2c6925595",
   "metadata": {},
   "outputs": [
    {
     "name": "stdout",
     "output_type": "stream",
     "text": [
      "<class 'str'>\n"
     ]
    }
   ],
   "source": [
    "x = '10'\n",
    "print(type(x))"
   ]
  },
  {
   "cell_type": "code",
   "execution_count": 6,
   "id": "8e6c5584-c199-4a1b-865e-7201dac4f6e0",
   "metadata": {},
   "outputs": [
    {
     "name": "stdout",
     "output_type": "stream",
     "text": [
      "<class 'str'>\n"
     ]
    }
   ],
   "source": [
    "str = 'hello world'\n",
    "print(type(str))"
   ]
  },
  {
   "cell_type": "code",
   "execution_count": 7,
   "id": "1cea19eb-f915-4003-8cbd-6d73b1c52c43",
   "metadata": {},
   "outputs": [
    {
     "name": "stdout",
     "output_type": "stream",
     "text": [
      "<class 'list'>\n"
     ]
    }
   ],
   "source": [
    "lst = [10, 20, 50, 100]\n",
    "print(type(lst))"
   ]
  },
  {
   "cell_type": "code",
   "execution_count": 9,
   "id": "a80e9e3f-09e8-459f-adfc-492f60fc3477",
   "metadata": {},
   "outputs": [
    {
     "name": "stdout",
     "output_type": "stream",
     "text": [
      "<class 'dict'>\n"
     ]
    }
   ],
   "source": [
    "dt = { 'name': 'sachin', 'age': 24, 'language': 'python' }\n",
    "print(type(dt))"
   ]
  },
  {
   "cell_type": "code",
   "execution_count": null,
   "id": "d9076a4a-67cb-470e-acd4-ad795eadbf0b",
   "metadata": {},
   "outputs": [],
   "source": [
    "\n"
   ]
  }
 ],
 "metadata": {
  "kernelspec": {
   "display_name": "Python [conda env:base] *",
   "language": "python",
   "name": "conda-base-py"
  },
  "language_info": {
   "codemirror_mode": {
    "name": "ipython",
    "version": 3
   },
   "file_extension": ".py",
   "mimetype": "text/x-python",
   "name": "python",
   "nbconvert_exporter": "python",
   "pygments_lexer": "ipython3",
   "version": "3.12.7"
  }
 },
 "nbformat": 4,
 "nbformat_minor": 5
}
