{
 "cells": [
  {
   "cell_type": "markdown",
   "id": "cb065245-7b39-43ce-a19e-dd7fe988ae16",
   "metadata": {},
   "source": [
    "# 1. Program to find the sum of digits of a number until the sum is reduced to 1 digit "
   ]
  },
  {
   "cell_type": "code",
   "execution_count": 28,
   "id": "23b8eef2-fd05-4580-8885-87fcd1bd50dd",
   "metadata": {},
   "outputs": [],
   "source": [
    "def one_digit_sum(num):\n",
    "    if num in range(1,10):\n",
    "        return num\n",
    "    while num > 10:\n",
    "        sum_ = 0\n",
    "        while num:\n",
    "            mod = num%10\n",
    "            sum_ +=mod\n",
    "            num//=10\n",
    "        num = sum_\n",
    "    return sum_"
   ]
  },
  {
   "cell_type": "code",
   "execution_count": 29,
   "id": "c9e4f6b2-e08d-4dd9-ad09-37ff684142a7",
   "metadata": {},
   "outputs": [
    {
     "name": "stdin",
     "output_type": "stream",
     "text": [
      "Enter a number : 3\n"
     ]
    },
    {
     "name": "stdout",
     "output_type": "stream",
     "text": [
      "The Single Digit sum of 3 is : 3\n"
     ]
    }
   ],
   "source": [
    "num = int(input(\"Enter a number :\"))\n",
    "\n",
    "ans = one_digit_sum(num)\n",
    "\n",
    "print(f\"The Single Digit sum of {num} is : {ans}\")"
   ]
  },
  {
   "cell_type": "markdown",
   "id": "81deabc2-8aae-4c91-9c15-f2f1e21f912d",
   "metadata": {},
   "source": [
    "# 2. Program to find LCM and HCF of two numbers "
   ]
  },
  {
   "cell_type": "markdown",
   "id": "f15fd85e-d68f-45f4-a820-dfe8638ab7d8",
   "metadata": {},
   "source": [
    "# 3. Write a program to accept any number n and print the cube of all numbers from 1 to n which are divisible by 3. Rewrite the program using a continue statement. "
   ]
  },
  {
   "cell_type": "code",
   "execution_count": 46,
   "id": "574cfa29-2b50-4a1d-aad3-ca604d59acfa",
   "metadata": {},
   "outputs": [],
   "source": [
    "def cube(num):\n",
    "    cube = []\n",
    "    for i in range(1 , num+1):\n",
    "        c = i**3\n",
    "        cube.append(c)\n",
    "    for i in cube:\n",
    "        if i%3 == 0:\n",
    "            print(i)\n",
    "    # return cube"
   ]
  },
  {
   "cell_type": "code",
   "execution_count": 48,
   "id": "3d3dfe99-9e49-4acd-ab8b-718e52dd60ff",
   "metadata": {},
   "outputs": [
    {
     "name": "stdout",
     "output_type": "stream",
     "text": [
      "27\n",
      "216\n",
      "729\n"
     ]
    }
   ],
   "source": [
    "cube(10)"
   ]
  },
  {
   "cell_type": "code",
   "execution_count": 1,
   "id": "0c291316-449e-477a-8e55-13c4642eeb7b",
   "metadata": {},
   "outputs": [],
   "source": [
    "def cube(num):\n",
    "    cube = []\n",
    "    for i in range(1 , num+1):\n",
    "        c = i**3\n",
    "        cube.append(c)\n",
    "    for i in cube:\n",
    "        if i%3 == 0:\n",
    "            print(i)\n",
    "        else:\n",
    "            continue"
   ]
  },
  {
   "cell_type": "code",
   "execution_count": 2,
   "id": "a3ba42f3-332d-42e9-9a8f-c7f4c0e1804c",
   "metadata": {},
   "outputs": [
    {
     "name": "stdout",
     "output_type": "stream",
     "text": [
      "27\n",
      "216\n",
      "729\n"
     ]
    }
   ],
   "source": [
    "cube(10)"
   ]
  },
  {
   "cell_type": "markdown",
   "id": "48eac3ff-c643-48c8-94af-34e343dad250",
   "metadata": {},
   "source": [
    "# 4. Write a program to read roll number and marks of 10 students in 3 subjects. The valid range for roll number is 1000-9999, if the roll number entered is not in this range, the user should be asked to enter again. Calculate total marks of only those students who get more than or equal to 40 marks in each subject. Count the number of students whose total is more than 200. Print the roll number of the students who gets the highest total."
   ]
  },
  {
   "cell_type": "code",
   "execution_count": null,
   "id": "a7539ef5-84e7-4963-ac65-f73ae68b67e3",
   "metadata": {},
   "outputs": [],
   "source": [
    "# roll_no = int(input(\"Enter the Student Roll Number \n",
    "data = {}\n",
    "for i in range(11):\n",
    "    data.get"
   ]
  },
  {
   "cell_type": "code",
   "execution_count": null,
   "id": "b4941bb2-b41a-4417-827b-8f032b666314",
   "metadata": {},
   "outputs": [],
   "source": []
  },
  {
   "cell_type": "code",
   "execution_count": null,
   "id": "12106f79-5246-4842-ad7c-ce50f6fa21c5",
   "metadata": {},
   "outputs": [],
   "source": []
  },
  {
   "cell_type": "markdown",
   "id": "3b1a564e-7943-42ae-873c-8c5e73ead537",
   "metadata": {},
   "source": [
    "# 5. Write a program to input a number and count the digits in it. Use while loop and the program should work correctly for 0 also "
   ]
  },
  {
   "cell_type": "code",
   "execution_count": 1,
   "id": "57074ae5-47a1-4e8e-ab78-14bf639995a0",
   "metadata": {},
   "outputs": [
    {
     "name": "stdin",
     "output_type": "stream",
     "text": [
      "Enter a Number :-  123456\n"
     ]
    }
   ],
   "source": [
    "num = int(input(\"Enter a Number :- \"))\n",
    "count = 0\n",
    "temp = num\n",
    "while num:\n",
    "    mod = num%10\n",
    "    count+=1\n",
    "    num//=10"
   ]
  },
  {
   "cell_type": "code",
   "execution_count": 2,
   "id": "fce61d5a-6ec9-4e1b-8312-d8407a4415d3",
   "metadata": {},
   "outputs": [
    {
     "data": {
      "text/plain": [
       "6"
      ]
     },
     "execution_count": 2,
     "metadata": {},
     "output_type": "execute_result"
    }
   ],
   "source": [
    "count"
   ]
  },
  {
   "cell_type": "code",
   "execution_count": null,
   "id": "fc600327-1602-4c3a-9373-93c4b31e564b",
   "metadata": {},
   "outputs": [],
   "source": []
  },
  {
   "cell_type": "markdown",
   "id": "5aa416ee-8212-425d-b317-4859c780e6eb",
   "metadata": {},
   "source": [
    "# 6. Write a program to enter a number and find the reverse of that number. Also display the double of the reverse number. (don’t use string magic) "
   ]
  },
  {
   "cell_type": "code",
   "execution_count": 5,
   "id": "7c3807ac-2fe2-40e0-88f0-6858474e32c4",
   "metadata": {},
   "outputs": [
    {
     "name": "stdin",
     "output_type": "stream",
     "text": [
      "Enter a Number :-  1234\n"
     ]
    },
    {
     "name": "stdout",
     "output_type": "stream",
     "text": [
      "4321\n",
      "8642\n"
     ]
    }
   ],
   "source": [
    "num = int(input(\"Enter a Number :- \"))\n",
    "temp = num\n",
    "rev = 0\n",
    "double = 0\n",
    "while num:\n",
    "    mod = num%10\n",
    "    rev = rev *10 + mod\n",
    "    double = (double * 10) + (2*mod)\n",
    "    num//=10\n",
    "\n",
    "print(rev)\n",
    "print(double)"
   ]
  },
  {
   "cell_type": "code",
   "execution_count": null,
   "id": "5591034e-adc3-4e80-824d-b3f7ba09ec72",
   "metadata": {},
   "outputs": [],
   "source": []
  },
  {
   "cell_type": "code",
   "execution_count": null,
   "id": "4d35f749-4296-4132-92ee-7e46a662a3ad",
   "metadata": {},
   "outputs": [],
   "source": []
  }
 ],
 "metadata": {
  "kernelspec": {
   "display_name": "Python [conda env:base] *",
   "language": "python",
   "name": "conda-base-py"
  },
  "language_info": {
   "codemirror_mode": {
    "name": "ipython",
    "version": 3
   },
   "file_extension": ".py",
   "mimetype": "text/x-python",
   "name": "python",
   "nbconvert_exporter": "python",
   "pygments_lexer": "ipython3",
   "version": "3.12.7"
  }
 },
 "nbformat": 4,
 "nbformat_minor": 5
}
