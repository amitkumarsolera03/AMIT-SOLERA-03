{
 "cells": [
  {
   "cell_type": "markdown",
   "id": "df91f578-c16a-4b6b-92e7-3c345ef00235",
   "metadata": {},
   "source": [
    "# 01. Write a Python program to check whether a number is negative, positive or zero."
   ]
  },
  {
   "cell_type": "code",
   "execution_count": 1,
   "id": "cf2d334d-17f5-4c94-aa95-ffefb1e82b03",
   "metadata": {},
   "outputs": [
    {
     "name": "stdin",
     "output_type": "stream",
     "text": [
      "Enter a number :  3\n"
     ]
    },
    {
     "name": "stdout",
     "output_type": "stream",
     "text": [
      "3 is positive.\n"
     ]
    }
   ],
   "source": [
    "num =  int(input(\"Enter a number : \"))\n",
    "\n",
    "if num > 0 :\n",
    "    print(f\"{num} is positive.\")\n",
    "elif num < 0:\n",
    "    print(f\"{num} is negative.\")\n",
    "else:\n",
    "    print(f\"{num} is Zero\")"
   ]
  },
  {
   "cell_type": "code",
   "execution_count": null,
   "id": "5e19af83-e304-4c68-953f-22600ceccded",
   "metadata": {},
   "outputs": [],
   "source": []
  },
  {
   "cell_type": "markdown",
   "id": "831b7ec0-f870-415d-a7b0-4d91b7bc5dda",
   "metadata": {},
   "source": [
    "# 02. Accept a password. Print \"Access Granted\" if it matches a predefined value; else \"Access Denied\"."
   ]
  },
  {
   "cell_type": "code",
   "execution_count": 2,
   "id": "217483b4-07c8-4a1b-8733-a24723a32fcf",
   "metadata": {},
   "outputs": [
    {
     "name": "stdin",
     "output_type": "stream",
     "text": [
      "Enter your password :-  ········\n"
     ]
    },
    {
     "name": "stdout",
     "output_type": "stream",
     "text": [
      "Access Granted..!!\n"
     ]
    }
   ],
   "source": [
    "password = \"Amit\"\n",
    "userpass = getpass.getpass(\"Enter your password :- \")\n",
    "\n",
    "if password == userpass :\n",
    "    print(\"Access Granted..!!\")\n",
    "else:\n",
    "    print(\"Access Denied..!!\")"
   ]
  },
  {
   "cell_type": "code",
   "execution_count": null,
   "id": "4f90a4b6-2960-4630-862b-0cbc16aa5921",
   "metadata": {},
   "outputs": [],
   "source": []
  },
  {
   "cell_type": "markdown",
   "id": "5fe98f6b-3e5e-4155-8d50-a83391eed4b5",
   "metadata": {},
   "source": [
    "# 03. Determine if a given year is a century year (divisible by 100)."
   ]
  },
  {
   "cell_type": "code",
   "execution_count": 3,
   "id": "0027c9aa-4875-4d42-a5c5-34c6380c401a",
   "metadata": {},
   "outputs": [
    {
     "name": "stdin",
     "output_type": "stream",
     "text": [
      "Enter a Year :-  2024\n"
     ]
    },
    {
     "name": "stdout",
     "output_type": "stream",
     "text": [
      "Not a Century...\n"
     ]
    }
   ],
   "source": [
    "year =  int(input(\"Enter a Year :- \"))\n",
    "\n",
    "if year%100 == 0:\n",
    "    print(f\"The {year} is Century...\")\n",
    "else:\n",
    "    print(\"Not a Century...\")"
   ]
  },
  {
   "cell_type": "code",
   "execution_count": null,
   "id": "c7ae653b-5ad8-4f83-a88d-e29d911f45ed",
   "metadata": {},
   "outputs": [],
   "source": []
  },
  {
   "cell_type": "markdown",
   "id": "5677ecc6-f583-49ba-aaae-72aee215c146",
   "metadata": {},
   "source": [
    "# 04. Write a Python program that accepts a month number (from 1 to 12) as input and prints the season based on the month. \n",
    "    Conditions: \n",
    "    \n",
    "    12, 1, 2 → Winter \n",
    "    \n",
    "    3, 4, 5 → Spring \n",
    "    \n",
    "    6, 7, 8 → Summer \n",
    "    \n",
    "    9, 10, 11 → Autumn \n",
    "    \n",
    "    Any other number → \"Invalid month number\""
   ]
  },
  {
   "cell_type": "code",
   "execution_count": 4,
   "id": "3a4e5772-75b3-4c93-a0ec-e2f31a86198e",
   "metadata": {},
   "outputs": [
    {
     "name": "stdin",
     "output_type": "stream",
     "text": [
      "Enter a Month number:-  12\n"
     ]
    },
    {
     "name": "stdout",
     "output_type": "stream",
     "text": [
      "This is Winter.\n"
     ]
    }
   ],
   "source": [
    "month = int(input(\"Enter a Month number:- \"))\n",
    "\n",
    "winter = (12,1,2)\n",
    "spring = (3,4,5)\n",
    "summer = (6,7,8)\n",
    "autumn = (9,10,11)\n",
    "\n",
    "if month in winter:\n",
    "    print(f\"This is Winter.\")\n",
    "elif month in spring:\n",
    "    print(f\"This is Spring.\")\n",
    "elif month in summer:\n",
    "    print(f\"This is Summer.\")\n",
    "elif month in autumn:\n",
    "    print(f\"This is Autumn.\")\n",
    "else:\n",
    "    print(\"Invalid Month Number.\")"
   ]
  },
  {
   "cell_type": "code",
   "execution_count": null,
   "id": "50c6d7ed-27f3-4310-8d67-c5153524646f",
   "metadata": {},
   "outputs": [],
   "source": []
  },
  {
   "cell_type": "code",
   "execution_count": null,
   "id": "6bf57d8b-cfd6-44a7-8eda-cb0e23df3de2",
   "metadata": {},
   "outputs": [],
   "source": []
  },
  {
   "cell_type": "markdown",
   "id": "5ccf2ebb-5126-4bdc-8628-0b942602fbca",
   "metadata": {},
   "source": [
    "# 05. Accept a float number and check if it has more than two digits after the decimal."
   ]
  },
  {
   "cell_type": "code",
   "execution_count": 5,
   "id": "f26337d1-873e-4cda-98a4-e228d05c1e46",
   "metadata": {},
   "outputs": [
    {
     "name": "stdin",
     "output_type": "stream",
     "text": [
      "Enter a Valid Float number :-  3.14\n"
     ]
    },
    {
     "name": "stdout",
     "output_type": "stream",
     "text": [
      "3.14 is a Valid Float number Which Have 2 Digit after '.' decimal.\n"
     ]
    }
   ],
   "source": [
    "num = input(\"Enter a Valid Float number :- \")\n",
    "\n",
    "if num[-3] == '.':\n",
    "    print(f\"{num} is a Valid Float number Which Have 2 Digit after '.' decimal.\")\n",
    "else:\n",
    "    print(\"Na Munna Na\")"
   ]
  },
  {
   "cell_type": "code",
   "execution_count": null,
   "id": "3fb8da93-3b39-44f0-b608-985876acfc68",
   "metadata": {},
   "outputs": [],
   "source": []
  },
  {
   "cell_type": "markdown",
   "id": "051576f2-b59f-4ce9-8dc7-58b0194bc2ff",
   "metadata": {},
   "source": [
    "# 06. Write a Python program to check whether a number is divisible by 5 and 11 or not."
   ]
  },
  {
   "cell_type": "code",
   "execution_count": 6,
   "id": "718944b0-0328-41d2-a49a-02c2abf48a1a",
   "metadata": {},
   "outputs": [
    {
     "name": "stdin",
     "output_type": "stream",
     "text": [
      "Enter a number:-  55\n"
     ]
    },
    {
     "name": "stdout",
     "output_type": "stream",
     "text": [
      "Yes,55 is Accepted.\n"
     ]
    }
   ],
   "source": [
    "num = int(input(\"Enter a number:- \"))\n",
    "\n",
    "if (num%5 == 0) and (num%11 == 0) :\n",
    "    print(f\"Yes,{num} is Accepted.\")\n",
    "else:\n",
    "    print(f\"Naah,{num} is not Accepted.\")"
   ]
  },
  {
   "cell_type": "code",
   "execution_count": null,
   "id": "13502cfe-bb9e-4cc5-9799-c831f29b108b",
   "metadata": {},
   "outputs": [],
   "source": []
  },
  {
   "cell_type": "markdown",
   "id": "b5376a6f-5e5c-49a8-87a1-9cd771891322",
   "metadata": {},
   "source": [
    "# 07. Write a Python program to check whether a year is leap year or not."
   ]
  },
  {
   "cell_type": "code",
   "execution_count": 8,
   "id": "d21d338b-558a-449d-bdfb-96ee149c5b7e",
   "metadata": {},
   "outputs": [
    {
     "name": "stdin",
     "output_type": "stream",
     "text": [
      "Enter any year :-  2024\n"
     ]
    },
    {
     "name": "stdout",
     "output_type": "stream",
     "text": [
      "Your given year 2024 is a Leap Year.\n"
     ]
    }
   ],
   "source": [
    "year = int(input(\"Enter any year :- \"))\n",
    "\n",
    "if (year%4 == 0 and year % 100 != 0) or (year % 400 == 0):\n",
    "    print(f\"Your given year {year} is a Leap Year.\")\n",
    "else:\n",
    "    print(f\"Your given year {year} is not a Leap Year.\")"
   ]
  },
  {
   "cell_type": "code",
   "execution_count": null,
   "id": "ffff617e-6049-4cde-b1b4-5692e53b0f9a",
   "metadata": {},
   "outputs": [],
   "source": []
  },
  {
   "cell_type": "markdown",
   "id": "71b15e22-7727-4c0d-ba3b-e7873f1c5eb3",
   "metadata": {},
   "source": [
    "# 08. Write a Python program to check whether a character is alphabet or not."
   ]
  },
  {
   "cell_type": "code",
   "execution_count": 9,
   "id": "21314382-b9d9-4dca-b478-8aa934269e7f",
   "metadata": {},
   "outputs": [
    {
     "name": "stdin",
     "output_type": "stream",
     "text": [
      "Enter any value:-  heluu\n"
     ]
    },
    {
     "name": "stdout",
     "output_type": "stream",
     "text": [
      "heluu is Alphabet.\n"
     ]
    }
   ],
   "source": [
    "str = input(\"Enter any value:- \")\n",
    "\n",
    "if str.isalpha():\n",
    "    print(f\"{str} is Alphabet.\")\n",
    "else:\n",
    "    print(f\"{str} is not Alphabet.\")"
   ]
  },
  {
   "cell_type": "code",
   "execution_count": null,
   "id": "30304b25-2802-4148-8104-6e852a79b758",
   "metadata": {},
   "outputs": [],
   "source": []
  },
  {
   "cell_type": "markdown",
   "id": "b7eeee45-fcbf-4d13-9bdc-185230c77334",
   "metadata": {},
   "source": [
    "# 09. Write a Python program to input any alphabet and check whether it is vowel or consonant."
   ]
  },
  {
   "cell_type": "code",
   "execution_count": 10,
   "id": "910fce6d-4af0-4e21-885e-3874221b1bae",
   "metadata": {},
   "outputs": [
    {
     "name": "stdin",
     "output_type": "stream",
     "text": [
      "Enter any Alphabet :-  a\n"
     ]
    },
    {
     "name": "stdout",
     "output_type": "stream",
     "text": [
      "a is a Vowel.\n"
     ]
    }
   ],
   "source": [
    "str = input(\"Enter any Alphabet :- \")\n",
    "\n",
    "vowel = ('a','e','i','o','u','A','E','I','O','U')\n",
    "\n",
    "if str in vowel :\n",
    "    print(f\"{str} is a Vowel.\")\n",
    "else:\n",
    "    print(f\"{str} is Consonent.\")"
   ]
  },
  {
   "cell_type": "code",
   "execution_count": null,
   "id": "f998f4ba-06d1-4ceb-9b36-d05cc7c9cb20",
   "metadata": {},
   "outputs": [],
   "source": []
  },
  {
   "cell_type": "markdown",
   "id": "a1630f65-bb2a-4248-9f2c-9dfa1331664a",
   "metadata": {},
   "source": [
    "# 10. Write a Python program to input any character and check whether it is alphabet, digit or special character."
   ]
  },
  {
   "cell_type": "code",
   "execution_count": 11,
   "id": "68362087-215a-4e86-ba1c-41a5d79bbfb1",
   "metadata": {},
   "outputs": [
    {
     "name": "stdin",
     "output_type": "stream",
     "text": [
      "Enter only a single Character :-  a\n"
     ]
    },
    {
     "name": "stdout",
     "output_type": "stream",
     "text": [
      "a is Alphabet.\n"
     ]
    }
   ],
   "source": [
    "str = input(\"Enter only a single Character :- \")\n",
    "alpha = str.isalpha()\n",
    "num = str.isdigit()\n",
    "s = str.isalnum()\n",
    "\n",
    "if alpha:\n",
    "    print(f\"{str} is Alphabet.\")\n",
    "elif num:\n",
    "    print(f\"{str} is Digit.\")\n",
    "elif not s:\n",
    "    print(f\"{str} is Special Character.\")\n",
    "else:\n",
    "    pass"
   ]
  },
  {
   "cell_type": "code",
   "execution_count": null,
   "id": "07603abf-f69b-4de0-a898-82d74e035aac",
   "metadata": {},
   "outputs": [],
   "source": []
  },
  {
   "cell_type": "markdown",
   "id": "c4f90cc7-9be7-463f-8e6a-1f01f419f453",
   "metadata": {},
   "source": [
    "# 11. Write a Python program to check whether a character is uppercase or lowercase alphabet."
   ]
  },
  {
   "cell_type": "code",
   "execution_count": 12,
   "id": "4155350b-1517-4488-ba8e-c1dda1112a68",
   "metadata": {},
   "outputs": [
    {
     "name": "stdin",
     "output_type": "stream",
     "text": [
      "Enter any Character :-  AMITSOLERA\n"
     ]
    },
    {
     "name": "stdout",
     "output_type": "stream",
     "text": [
      "AMITSOLERA is UpperCase.\n"
     ]
    }
   ],
   "source": [
    "str = input(\"Enter any Character :- \")\n",
    "\n",
    "if str == str.upper():\n",
    "    print(f\"{str} is UpperCase.\")\n",
    "elif str == str.lower():\n",
    "    print(f\"{str} is LowerCase.\")\n",
    "else:\n",
    "    pass"
   ]
  },
  {
   "cell_type": "code",
   "execution_count": null,
   "id": "a8688cdd-aa4f-4842-a712-2b3792fc97e7",
   "metadata": {},
   "outputs": [],
   "source": []
  },
  {
   "cell_type": "markdown",
   "id": "af782fb3-e631-4d40-be66-b659b8c4db8f",
   "metadata": {},
   "source": [
    "# 12. Write a Python program to input week number and print weekday."
   ]
  },
  {
   "cell_type": "code",
   "execution_count": 13,
   "id": "621bedaa-94ce-4007-bbf5-47976a94d356",
   "metadata": {},
   "outputs": [
    {
     "name": "stdin",
     "output_type": "stream",
     "text": [
      "Enter any week day number between 1 to 7 :-  7\n"
     ]
    },
    {
     "name": "stdout",
     "output_type": "stream",
     "text": [
      "Sunday\n"
     ]
    }
   ],
   "source": [
    "# dt = {\n",
    "#     1 : \"Monday\",\n",
    "#     2 : \"Tuesday\",\n",
    "#     3 : \"Wednesday\",\n",
    "#     4 : \"Thrusday\",\n",
    "#     5 : \"Friday\",\n",
    "#     6 : \"saturday\",\n",
    "#     7 : \"sunday\"\n",
    "# }\n",
    "\n",
    "# day = int(input(\"Enter any week day number between 1 to 7 :- \"))\n",
    "# print(dt[day])\n",
    "\n",
    "day = int(input(\"Enter any week day number between 1 to 7 :- \"))\n",
    "if day == 1:\n",
    "    print(\"Monday\")\n",
    "elif day == 2 : \n",
    "    print(\"Tuesday\")\n",
    "elif day == 3 : \n",
    "    print(\"Wednesday\")\n",
    "elif day == 4 : \n",
    "    print(\"Thrusday\")\n",
    "elif day == 5 : \n",
    "    print(\"Friday\")\n",
    "elif day == 6 : \n",
    "    print(\"Saturday\")\n",
    "elif day == 7 : \n",
    "    print(\"Sunday\")\n",
    "else:\n",
    "    print(\"Out of Range...\")"
   ]
  },
  {
   "cell_type": "code",
   "execution_count": null,
   "id": "8e4d832f-a766-4374-86f8-72e896f2f11b",
   "metadata": {},
   "outputs": [],
   "source": []
  },
  {
   "cell_type": "markdown",
   "id": "7dc8ec7a-2963-45a0-9621-52e1dc2c07a5",
   "metadata": {},
   "source": [
    "# 13. Write a Python program to input angles of a triangle and check whether triangle is valid or not."
   ]
  },
  {
   "cell_type": "code",
   "execution_count": 14,
   "id": "af1ac78d-27c6-4b62-947c-4612de4667f3",
   "metadata": {},
   "outputs": [
    {
     "name": "stdin",
     "output_type": "stream",
     "text": [
      "Enter Three angles of the triangle :-   50 60 70\n"
     ]
    },
    {
     "name": "stdout",
     "output_type": "stream",
     "text": [
      "This is the Valid Triangle.\n"
     ]
    }
   ],
   "source": [
    "# angle1 = float(input(\"Enter first angle of triangle :-\"))\n",
    "# angle2 = float(input(\"Enter second angle of triangle :-\"))\n",
    "# angle3 = float(input(\"Enter third angle of triangle :-\"))\n",
    "\n",
    "angle1 , angle2 , angle3 =  map(float, input(\"Enter Three angles of the triangle :-  \").split())\n",
    "\n",
    "sum = angle1 + angle2 + angle3\n",
    "\n",
    "# if sum == 180 and (angle1 and angle2 and angle3)>0:\n",
    "if sum == 180 and angle1 > 0 and angle2 > 0 and angle3 > 0:\n",
    "    print(\"This is the Valid Triangle.\")\n",
    "else:\n",
    "    print(\"This is not a Valid Tringle.\")"
   ]
  },
  {
   "cell_type": "code",
   "execution_count": null,
   "id": "60d196ad-f414-4385-8c45-6e8c9769bd74",
   "metadata": {},
   "outputs": [],
   "source": []
  },
  {
   "cell_type": "markdown",
   "id": "57f5f53b-7035-438f-b1ec-eebe8247e425",
   "metadata": {},
   "source": [
    "# 14. Write a Python program to input all sides of a triangle and check whether triangle is valid or not."
   ]
  },
  {
   "cell_type": "markdown",
   "id": "4e2d0a6d-dc47-41be-90b3-7ddf9293c9ba",
   "metadata": {},
   "source": [
    "`a + b > c\n",
    "    a + c > b\n",
    "    b + c > a`"
   ]
  },
  {
   "cell_type": "code",
   "execution_count": 15,
   "id": "c5cdb123-7672-4f1e-aa68-a3eb6459bd73",
   "metadata": {},
   "outputs": [
    {
     "name": "stdin",
     "output_type": "stream",
     "text": [
      "Enter all Three Sides of triangle:-  4 5 6\n"
     ]
    },
    {
     "name": "stdout",
     "output_type": "stream",
     "text": [
      "This is the Valid Triangle.\n"
     ]
    }
   ],
   "source": [
    "a , b , c = map(int, input(\"Enter all Three Sides of triangle:- \").split())\n",
    "\n",
    "if a + b > c and a + c > b and b + c > a :\n",
    "    print(\"This is the Valid Triangle.\")\n",
    "else:\n",
    "    print(\"This is not a Valid Tringle.\")"
   ]
  },
  {
   "cell_type": "code",
   "execution_count": null,
   "id": "f5672888-2d3b-4e74-8b1d-51aeed6a22f5",
   "metadata": {},
   "outputs": [],
   "source": []
  },
  {
   "cell_type": "markdown",
   "id": "e42eebad-682a-4846-ad8d-580744683de0",
   "metadata": {},
   "source": [
    "# 15. Write a Python program to check whether the triangle is equilateral, isosceles or scalene triangle."
   ]
  },
  {
   "cell_type": "markdown",
   "id": "f8f6496d-8ac5-4a27-8868-bc21431260d3",
   "metadata": {},
   "source": [
    "`Equilateral Triangle:`\n",
    "    \n",
    "    All three sides are equal in length.\n",
    "    All three interior angles are equal and measure 60 degrees.\n",
    "    \n",
    "`Isosceles Triangle:` \n",
    "\n",
    "    Two sides are equal in length.\n",
    "    The two angles opposite the equal sides are also equal.\n",
    "    \n",
    "`Scalene Triangle:` \n",
    "\n",
    "    All three sides are of different lengths.\n",
    "    All three interior angles are also different."
   ]
  },
  {
   "cell_type": "code",
   "execution_count": 16,
   "id": "a1cb24e6-3ebb-4fc5-a0fb-f56cc21c26e9",
   "metadata": {},
   "outputs": [
    {
     "name": "stdin",
     "output_type": "stream",
     "text": [
      "Enter all Three Sides of triangle:-  4 5 6\n"
     ]
    },
    {
     "name": "stdout",
     "output_type": "stream",
     "text": [
      "Wait for triangle angles input......\n"
     ]
    },
    {
     "name": "stdin",
     "output_type": "stream",
     "text": [
      "Enter Three angles of the triangle :-   50 60 70\n"
     ]
    },
    {
     "name": "stdout",
     "output_type": "stream",
     "text": [
      "This is Scalene Triangle.\n"
     ]
    }
   ],
   "source": [
    "import time\n",
    "\n",
    "a , b , c = map(int, input(\"Enter all Three Sides of triangle:- \").split())\n",
    "print(\"Wait for triangle angles input......\")\n",
    "time.sleep(2)\n",
    "angle1 , angle2 , angle3 =  map(float, input(\"Enter Three angles of the triangle :-  \").split())\n",
    "\n",
    "valid = (a + b > c) and (a + c > b) and (b + c > a) and (angle1 + angle2 + angle3 == 180)\n",
    "equilateral = (a == b == c) and (angle1 == angle2 == angle3 == 60)\n",
    "isosceles = ((a == b != c) or (a == c != b) or (b == c != a))\n",
    "    #  or ((angle1 == angle2 != angle3) or (angle1 == angle3 != angle2) or (angle2 == angle3 != angle1)) \n",
    "scalene = (a != b and b != c and a != c)\n",
    "    #  or (angle1 != angle2 and angle1!= angle3 and angle2 != angle3)\n",
    "\n",
    "if valid:\n",
    "    if equilateral:\n",
    "        print(f\"This is Equilateral Triangle.\")\n",
    "    elif isosceles:\n",
    "        print(f\"This is Isosceles Triangle.\")\n",
    "    elif scalene:\n",
    "        print(f\"This is Scalene Triangle.\")\n",
    "else:\n",
    "    print(\"Not a Valid triangle so it is not equilateral, isosceles or scalene triangle\")"
   ]
  },
  {
   "cell_type": "code",
   "execution_count": null,
   "id": "abc99e1c-5251-43b2-b222-33492e09c773",
   "metadata": {},
   "outputs": [],
   "source": []
  },
  {
   "cell_type": "markdown",
   "id": "c0900827-3a97-49ce-822e-31b7c26f480e",
   "metadata": {},
   "source": [
    "# 16. Write a Python program to input marks of five subjects Physics, Chemistry, Biology, Mathematics and Computer. Calculate percentage and grade according to following:  \n",
    "\n",
    "    Percentage >= 90% : Grade A \n",
    "    \n",
    "    Percentage >= 80% : Grade B  \n",
    "    \n",
    "    Percentage >= 70% : Grade C  \n",
    "    \n",
    "    Percentage >= 60% : Grade D  \n",
    "    \n",
    "    Percentage >= 40% : Grade E  \n",
    "    \n",
    "    Percentage < 40% : Grade F "
   ]
  },
  {
   "cell_type": "code",
   "execution_count": 18,
   "id": "76e400b5-4d69-458f-942e-3d74c0e524fb",
   "metadata": {},
   "outputs": [
    {
     "name": "stdin",
     "output_type": "stream",
     "text": [
      "Enter your Physics Marks out of 100 : 99\n",
      "Enter your Chemistry Marks out of 100 : 96\n",
      "Enter your Biology Marks out of 100 : 95\n",
      "Enter your Mathematics Marks out of 100 : 97\n",
      "Enter your Computer Marks out of 100 : 93\n"
     ]
    },
    {
     "name": "stdout",
     "output_type": "stream",
     "text": [
      "You get 480 and you got 96.0% and your grade is A\n"
     ]
    }
   ],
   "source": [
    "phy = int(input(\"Enter your Physics Marks out of 100 :\"))\n",
    "Che = int(input(\"Enter your Chemistry Marks out of 100 :\"))\n",
    "Bio = int(input(\"Enter your Biology Marks out of 100 :\"))\n",
    "Math = int(input(\"Enter your Mathematics Marks out of 100 :\"))\n",
    "Com = int(input(\"Enter your Computer Marks out of 100 :\"))\n",
    "\n",
    "marks = phy + Che + Bio + Math + Com\n",
    "per = ((phy + Che + Bio + Math + Com)/5)\n",
    "\n",
    "\n",
    "if per >= 90:\n",
    "    print(f\"You get {marks} and you got {per}% and your grade is A\")\n",
    "elif (per >= 80) and (per < 90):\n",
    "    print(f\"You get {marks} and you got {per}% and your grade is B\")\n",
    "elif (per >= 70) and (per < 80):\n",
    "    print(f\"You get {marks} and you got {per}% and your grade is C\")\n",
    "elif (per >= 60) and (per < 70):\n",
    "    print(f\"You get {marks} and you got {per}% and your grade is D\")\n",
    "elif (per >= 40) and (per < 60):\n",
    "    print(f\"You get {marks} and you got {per}% and your grade is E\")\n",
    "elif per >= 0 and per < 40:\n",
    "    print(\"Fail\")"
   ]
  },
  {
   "cell_type": "code",
   "execution_count": null,
   "id": "6b131be9-ccba-4f64-bdd2-a22784e7041c",
   "metadata": {},
   "outputs": [],
   "source": []
  },
  {
   "cell_type": "markdown",
   "id": "6ae851af-c761-496c-ab40-5a43c23c1eb1",
   "metadata": {},
   "source": [
    "# 17. Write a Python program to input basic salary of an employee and calculate its Gross salary according to following:  \n",
    "\n",
    "    Basic Salary <= 10000 : HRA = 20%, DA = 80%  \n",
    "    \n",
    "    Basic Salary <= 20000 : HRA = 25%, DA = 90%  \n",
    "    \n",
    "    Basic Salary > 20000 : HRA = 30%, DA = 95%"
   ]
  },
  {
   "cell_type": "code",
   "execution_count": 19,
   "id": "6a524268-ee36-4716-9445-3f64edcbd644",
   "metadata": {},
   "outputs": [
    {
     "name": "stdin",
     "output_type": "stream",
     "text": [
      "Enter Basic Salary of an Employee :-  2000000\n"
     ]
    },
    {
     "name": "stdout",
     "output_type": "stream",
     "text": [
      "Total Gross Salary of the Employee is 4500000.0.\n"
     ]
    }
   ],
   "source": [
    "bs = int(input(\"Enter Basic Salary of an Employee :- \"))\n",
    "\n",
    "if bs <= 10000 :\n",
    "    hra =  0.2 * bs\n",
    "    da = 0.8 * bs\n",
    "elif bs <= 20000 and bs> 10000 :\n",
    "    hra =  0.25 * bs\n",
    "    da = 0.9 * bs\n",
    "else :\n",
    "    hra =  0.3 * bs\n",
    "    da = 0.95 * bs\n",
    "\n",
    "gs = bs + hra + da\n",
    "print(f\"Total Gross Salary of the Employee is {gs}.\")"
   ]
  },
  {
   "cell_type": "code",
   "execution_count": null,
   "id": "b357a275-37f6-43d4-b55d-952965af936f",
   "metadata": {},
   "outputs": [],
   "source": []
  },
  {
   "cell_type": "markdown",
   "id": "85e16dbb-5e77-40f3-bcd1-26ad80c85db7",
   "metadata": {},
   "source": [
    "# 18. Write a Python Program to input electricity unit charges and calculate total electricity bill according to the given condition:  \n",
    "\n",
    "    For first 50 units Rs. 0.50/unit \n",
    "    For next 100 units Rs. 0.75/unit \n",
    "    For next 100 units Rs. 1.20/unit \n",
    "    For unit above 250 Rs. 1.50/unit \n",
    "    An additional surcharge of 20% is added to the bill "
   ]
  },
  {
   "cell_type": "code",
   "execution_count": 20,
   "id": "584d81e2-f601-4e5a-bd16-c86ddbd9af20",
   "metadata": {},
   "outputs": [
    {
     "name": "stdin",
     "output_type": "stream",
     "text": [
      "Enter your Electricty Unit:-  20\n"
     ]
    },
    {
     "name": "stdout",
     "output_type": "stream",
     "text": [
      "Your Total Bill is : 12.0\n"
     ]
    }
   ],
   "source": [
    "# unit = int(input(\"Enter your Electricty Unit:- \"))\n",
    "\n",
    "# if unit <= 50 :\n",
    "#     bill = unit * 0.5\n",
    "# elif unit <= 150 and unit > 50 :\n",
    "#     bill = 0.5 * 50 + (unit - 50) * 0.75\n",
    "# elif unit <= 250 and unit > 150 :\n",
    "#     bill = 0.5 * 50 + 100 * 0.75 +(unit - 150)*1.20\n",
    "# else:\n",
    "#     bill = 0.5 * 50 + 100 * 0.75 + 100 * 1.20 +(unit - 250)*1.50\n",
    "\n",
    "# total_bill = bill + (bill * 0.2)\n",
    "# print(f\"Your Total Bill is : {total_bill}\")\n",
    "\n",
    "\n",
    "unit = int(input(\"Enter your Electricty Unit:- \"))\n",
    "\n",
    "if unit in range(0,51) :\n",
    "    bill = unit * 0.5\n",
    "elif unit in range(51 , 151) :\n",
    "    bill = 0.5 * 50 + (unit - 50) * 0.75\n",
    "elif unit in range(151 , 251) :\n",
    "    bill = 0.5 * 50 + 100 * 0.75 +(unit - 150)*1.20\n",
    "else:\n",
    "    bill = 0.5 * 50 + 100 * 0.75 + 100 * 1.20 +(unit - 250)*1.50\n",
    "\n",
    "total_bill = bill + (bill * 0.2)\n",
    "print(f\"Your Total Bill is : {total_bill}\")"
   ]
  },
  {
   "cell_type": "markdown",
   "id": "9e9dc35c-d5c3-409c-9957-d7312c9b8c86",
   "metadata": {},
   "source": []
  }
 ],
 "metadata": {
  "kernelspec": {
   "display_name": "Python [conda env:base] *",
   "language": "python",
   "name": "conda-base-py"
  },
  "language_info": {
   "codemirror_mode": {
    "name": "ipython",
    "version": 3
   },
   "file_extension": ".py",
   "mimetype": "text/x-python",
   "name": "python",
   "nbconvert_exporter": "python",
   "pygments_lexer": "ipython3",
   "version": "3.12.7"
  }
 },
 "nbformat": 4,
 "nbformat_minor": 5
}
