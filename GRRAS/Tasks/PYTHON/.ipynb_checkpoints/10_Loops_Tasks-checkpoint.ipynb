{
 "cells": [
  {
   "cell_type": "markdown",
   "id": "824574ca-4b8c-45eb-8a71-c482ca7c3744",
   "metadata": {},
   "source": [
    "# 01. Python Program to Check Palindrome Number "
   ]
  },
  {
   "cell_type": "code",
   "execution_count": 1,
   "id": "b67600c3-57b7-48de-8cba-e2fec8ba770e",
   "metadata": {},
   "outputs": [
    {
     "name": "stdin",
     "output_type": "stream",
     "text": [
      "Enter a Number :-  12321\n"
     ]
    },
    {
     "name": "stdout",
     "output_type": "stream",
     "text": [
      "The number is a palindrome!\n"
     ]
    }
   ],
   "source": [
    "num = int(input(\"Enter a Number :- \"))\n",
    "\n",
    "temp = num\n",
    "rev = 0\n",
    "while num > 0:\n",
    "    mod = num % 10\n",
    "    rev = rev * 10 + mod\n",
    "    num = num // 10\n",
    "if temp == rev:\n",
    "    print(\"The number is a palindrome!\")\n",
    "else:\n",
    "    print(\"The number isn't a palindrome!\")"
   ]
  },
  {
   "cell_type": "markdown",
   "id": "4191fc73-dbd9-45e7-84b9-c912ff0babe0",
   "metadata": {},
   "source": [
    "# 02. Python Program to Print all multiples of 3 and 5 in an Interval "
   ]
  },
  {
   "cell_type": "code",
   "execution_count": 2,
   "id": "837aa215-3ef8-4a9b-9053-0022ed6f6db7",
   "metadata": {},
   "outputs": [
    {
     "name": "stdin",
     "output_type": "stream",
     "text": [
      "Enter the start of the interval:  10\n",
      "Enter the end of the interval:  100\n"
     ]
    },
    {
     "name": "stdout",
     "output_type": "stream",
     "text": [
      "Multiples of 3 and 5 between 10 and 100 are:\n",
      "15 30 45 60 75 90 "
     ]
    }
   ],
   "source": [
    "start = int(input(\"Enter the start of the interval: \"))\n",
    "end = int(input(\"Enter the end of the interval: \"))\n",
    "\n",
    "print(f\"Multiples of 3 and 5 between {start} and {end} are:\")\n",
    "\n",
    "for num in range(start, end + 1):\n",
    "    if num % 3 == 0 and num % 5 == 0:\n",
    "        print(num, end=' ')"
   ]
  },
  {
   "cell_type": "code",
   "execution_count": null,
   "id": "0e713163-a137-4f69-bef0-8082067ae255",
   "metadata": {},
   "outputs": [],
   "source": []
  },
  {
   "cell_type": "markdown",
   "id": "1b19222f-586a-4ce2-86ce-f9eca2440320",
   "metadata": {},
   "source": [
    "# 03. Python Program to Find the Factorial of a Number "
   ]
  },
  {
   "cell_type": "code",
   "execution_count": 3,
   "id": "1a9e3df8-612e-4188-b503-12f030e33ca2",
   "metadata": {},
   "outputs": [
    {
     "name": "stdin",
     "output_type": "stream",
     "text": [
      "Enter a Number :-  5\n"
     ]
    },
    {
     "name": "stdout",
     "output_type": "stream",
     "text": [
      "The Factorial of 5 is '120'.\n"
     ]
    }
   ],
   "source": [
    "num = int(input(\"Enter a Number :- \"))\n",
    "fact = 1\n",
    "i = 1\n",
    "while i <= num:\n",
    "    fact *= i\n",
    "    i += 1\n",
    "print(f\"The Factorial of {num} is '{fact}'.\")"
   ]
  },
  {
   "cell_type": "code",
   "execution_count": null,
   "id": "336df18d-d356-48c5-bec8-91bf78795a91",
   "metadata": {},
   "outputs": [],
   "source": []
  },
  {
   "cell_type": "markdown",
   "id": "9d046bfb-ab9b-4f01-973c-28e7d342382e",
   "metadata": {},
   "source": [
    "# 04. Python Program to Print the Fibonacci sequence "
   ]
  },
  {
   "cell_type": "code",
   "execution_count": 4,
   "id": "8ddbe9f0-5e24-4285-9e94-200cc0bea06a",
   "metadata": {},
   "outputs": [
    {
     "name": "stdin",
     "output_type": "stream",
     "text": [
      "Enter a Number:-  5\n"
     ]
    },
    {
     "name": "stdout",
     "output_type": "stream",
     "text": [
      "Fibonacci sequence is ......\n",
      " 0 1 1 2 3 5 8 "
     ]
    }
   ],
   "source": [
    "num = int(input(\"Enter a Number:- \"))\n",
    "\n",
    "i=0\n",
    "a=0\n",
    "b=1\n",
    "print(f\"Fibonacci sequence is ......\")\n",
    "print (f\" {a} {b}\",end =\" \")\n",
    "while i <num:\n",
    "    c=a+b\n",
    "    a=b\n",
    "    b=c\n",
    "    i+=1\n",
    "    print(c, end=\" \")"
   ]
  },
  {
   "cell_type": "code",
   "execution_count": null,
   "id": "0672a34d-cc79-4870-8a45-b72bc24981a4",
   "metadata": {},
   "outputs": [],
   "source": []
  },
  {
   "cell_type": "markdown",
   "id": "665e81a9-b7b6-4fff-b0bb-81fb4acc6395",
   "metadata": {},
   "source": [
    "# 05. Python Program to Check Armstrong Number "
   ]
  },
  {
   "cell_type": "code",
   "execution_count": 5,
   "id": "0b122828-e9f0-40b1-aca2-d8c00e2aed1e",
   "metadata": {},
   "outputs": [
    {
     "name": "stdin",
     "output_type": "stream",
     "text": [
      "Enter a Number :-  153\n"
     ]
    },
    {
     "name": "stdout",
     "output_type": "stream",
     "text": [
      "The Number 153 is Armstrong.\n"
     ]
    }
   ],
   "source": [
    "num = int(input(\"Enter a Number :- \"))\n",
    "temp = num\n",
    "arm = 0\n",
    "i = 0\n",
    "while num:\n",
    "    mod = num % 10\n",
    "    arm= arm + mod**3\n",
    "    num//=10\n",
    "    i+=1\n",
    "\n",
    "if arm == temp:\n",
    "    print(f\"The Number {temp} is Armstrong.\")\n",
    "else:\n",
    "    print(f\"The Number {temp} is not Armstrong.\")"
   ]
  },
  {
   "cell_type": "markdown",
   "id": "65e83b32-6f2b-4fb2-85bb-f62b300c1abb",
   "metadata": {},
   "source": [
    "# 06. Count how many vowels are in a string "
   ]
  },
  {
   "cell_type": "code",
   "execution_count": 6,
   "id": "0e69ec66-34ea-4353-ad9d-09db801e560f",
   "metadata": {},
   "outputs": [
    {
     "name": "stdin",
     "output_type": "stream",
     "text": [
      "Enter any String :-  python is wow\n"
     ]
    },
    {
     "name": "stdout",
     "output_type": "stream",
     "text": [
      "There are 4 number of vowels present in the python is wow.\n"
     ]
    }
   ],
   "source": [
    "str = input(\"Enter any String :- \").strip().lower()\n",
    "\n",
    "vowel = ['a' , 'e' , 'i' , 'o' , 'u']\n",
    "\n",
    "count = 1\n",
    "for ch in str:\n",
    "    if ch in vowel:\n",
    "        count += 1\n",
    "else:\n",
    "     print(f\"There are {count} number of vowels present in the {str}.\")"
   ]
  },
  {
   "cell_type": "code",
   "execution_count": null,
   "id": "3365170b-9737-4d8e-b04f-10a5aaccc573",
   "metadata": {},
   "outputs": [],
   "source": []
  },
  {
   "cell_type": "markdown",
   "id": "095bddc1-7e2b-41d1-bf79-20897d9292d0",
   "metadata": {},
   "source": [
    "# 07. Create a list of squares for numbers 1-20. "
   ]
  },
  {
   "cell_type": "code",
   "execution_count": 7,
   "id": "c8eac7cd-898d-4437-a79c-355cc7ce55fc",
   "metadata": {},
   "outputs": [
    {
     "name": "stdout",
     "output_type": "stream",
     "text": [
      "[1, 4, 9, 16, 25, 36, 49, 64, 81, 100, 121, 144, 169, 196, 225, 256, 289, 324, 361, 400]\n"
     ]
    }
   ],
   "source": [
    "lst = [1,2,3,4,5,6,7,8,9,10,11,12,13,14,15,16,17,18,19,20]\n",
    "\n",
    "sq_lst = []\n",
    "x = 0\n",
    "while x < len(lst):\n",
    "    sq_lst.append(lst[x]**2)\n",
    "    x += 1\n",
    "else:\n",
    "    print(sq_lst)"
   ]
  },
  {
   "cell_type": "markdown",
   "id": "eb4abc7f-46f0-4687-96d0-ff2e3bf4267c",
   "metadata": {},
   "source": [
    "# 08. Find the largest number in [4, 9, 2, 6,8,9,23,43,77,1,2,4] without using max() function."
   ]
  },
  {
   "cell_type": "code",
   "execution_count": 8,
   "id": "8f4871d0-1188-4af8-b391-57cb35bb9806",
   "metadata": {},
   "outputs": [
    {
     "name": "stdout",
     "output_type": "stream",
     "text": [
      "The Maximam Number is '77'.\n"
     ]
    }
   ],
   "source": [
    "nums = [4, 9, 2, 6, 8, 9, 23, 43, 77, 1, 2, 4]\n",
    "\n",
    "max_ = 0\n",
    "# i = 0\n",
    "while i < len(nums):\n",
    "# for i in range(len(nums)):\n",
    "    temp = nums[i]\n",
    "    i += 1\n",
    "    if temp > max_:\n",
    "        max_ = temp\n",
    "else:\n",
    "    print(f\"The Maximam Number is '{max_}'.\")"
   ]
  },
  {
   "cell_type": "code",
   "execution_count": null,
   "id": "8c1a58f3-055f-4cbc-9cf1-896a90915315",
   "metadata": {},
   "outputs": [],
   "source": []
  },
  {
   "cell_type": "markdown",
   "id": "044aedc9-8d64-42b6-b1d7-f848b89c66fc",
   "metadata": {},
   "source": [
    "# 09. Reverse \"hello\" to get \"olleh\" with a loop. "
   ]
  },
  {
   "cell_type": "code",
   "execution_count": 9,
   "id": "e307363d-4383-4e5b-965b-b80e1e89be4d",
   "metadata": {},
   "outputs": [
    {
     "name": "stdout",
     "output_type": "stream",
     "text": [
      "The Reversed String is \"olleh\"\n"
     ]
    }
   ],
   "source": [
    "str = \"hello\"\n",
    "new_str = \"\"\n",
    "x = 1\n",
    "while x <= len(str):\n",
    "    new_str += str[-x]\n",
    "    x += 1\n",
    "print(f\"The Reversed String is \\\"{new_str}\\\"\")"
   ]
  },
  {
   "cell_type": "code",
   "execution_count": null,
   "id": "e309a372-ec1f-4789-b3de-a43e9353935d",
   "metadata": {},
   "outputs": [],
   "source": []
  },
  {
   "cell_type": "markdown",
   "id": "f13a3484-1aed-4a2c-a7a2-0f0e5c3823fd",
   "metadata": {},
   "source": [
    "# 10. Calculate the product of digits of a given number. "
   ]
  },
  {
   "cell_type": "code",
   "execution_count": 10,
   "id": "cf6aed83-37ff-451b-b33e-66d4c426749d",
   "metadata": {},
   "outputs": [
    {
     "name": "stdin",
     "output_type": "stream",
     "text": [
      "Enter a Number:-  123\n"
     ]
    },
    {
     "name": "stdout",
     "output_type": "stream",
     "text": [
      "The product of 123 is 6\n"
     ]
    }
   ],
   "source": [
    "num = int(input(\"Enter a Number:- \"))\n",
    "temp = num\n",
    "product = 1\n",
    "while num:\n",
    "    mod = num%10\n",
    "    product *= mod\n",
    "    num//=10\n",
    "else:\n",
    "    print(f\"The product of {temp} is {product}\")"
   ]
  },
  {
   "cell_type": "code",
   "execution_count": null,
   "id": "2765e734-7ac5-405f-b9e2-321fddc1e087",
   "metadata": {},
   "outputs": [],
   "source": []
  },
  {
   "cell_type": "markdown",
   "id": "88b0d469-b95d-4cd6-9be5-b147e41c80d3",
   "metadata": {},
   "source": [
    "# 11. Find the average of numbers from 1 to n."
   ]
  },
  {
   "cell_type": "code",
   "execution_count": 11,
   "id": "79298c3b-6df3-4961-9e0c-b0ea1ca3da4d",
   "metadata": {},
   "outputs": [
    {
     "name": "stdin",
     "output_type": "stream",
     "text": [
      "Enter the Range :-  15\n"
     ]
    },
    {
     "name": "stdout",
     "output_type": "stream",
     "text": [
      "The Addition of All numbers are 120 and the Average is 8.0\n"
     ]
    }
   ],
   "source": [
    "n = int(input(\"Enter the Range :- \"))\n",
    "add = 0\n",
    "x = 1\n",
    "while x <= n:\n",
    "    add += x\n",
    "    x += 1\n",
    "print(f\"The Addition of All numbers are {add} and the Average is {add/n}\")"
   ]
  },
  {
   "cell_type": "code",
   "execution_count": null,
   "id": "064f0cad-c28f-482b-86ad-6901145ef25e",
   "metadata": {},
   "outputs": [],
   "source": []
  },
  {
   "cell_type": "markdown",
   "id": "47c93507-2a8d-4f91-b8a4-3d2d53a5b1f7",
   "metadata": {},
   "source": [
    "# 12. Print the multiplication table of n, but skip the 5th multiple. "
   ]
  },
  {
   "cell_type": "code",
   "execution_count": 12,
   "id": "62a08f56-42c6-48ab-a367-5c8b708567e5",
   "metadata": {},
   "outputs": [
    {
     "name": "stdin",
     "output_type": "stream",
     "text": [
      "Enter a Number:-  2\n"
     ]
    },
    {
     "name": "stdout",
     "output_type": "stream",
     "text": [
      "The Multiplication Table is.....\n",
      "|2 x  1  =    2   |\n",
      "|2 x  2  =    4   |\n",
      "|2 x  3  =    6   |\n",
      "|2 x  4  =    8   |\n",
      "|2 x  6  =   12   |\n",
      "|2 x  7  =   14   |\n",
      "|2 x  8  =   16   |\n",
      "|2 x  9  =   18   |\n",
      "|2 x 10  =   20   |\n"
     ]
    }
   ],
   "source": [
    "num = int(input(\"Enter a Number:- \"))\n",
    "i = 1\n",
    "print(f\"The Multiplication Table is.....\")\n",
    "while i <= 10:\n",
    "    # print(f\"{num} x {i} = {num*i}\")\n",
    "\n",
    "    if not (i==5):\n",
    "         print(f\"|{num} x {i:^3} = {num*i:^7}|\")\n",
    "    else:\n",
    "        i+=1\n",
    "        continue\n",
    "    i+=1"
   ]
  },
  {
   "cell_type": "code",
   "execution_count": null,
   "id": "c2a1c132-5316-4266-ba3c-26b5d74685cc",
   "metadata": {},
   "outputs": [],
   "source": []
  },
  {
   "cell_type": "markdown",
   "id": "21728d46-f870-4b9c-ad72-f738d1edab34",
   "metadata": {},
   "source": [
    "# 13. Print numbers from 1 to 100, but: \n",
    "\n",
    "- Replace multiples of 3 with \"Fizz\" \n",
    "- Multiples of 5 with \"Buzz\" \n",
    "- Multiples of both with \"FizzBuzz\" "
   ]
  },
  {
   "cell_type": "code",
   "execution_count": 13,
   "id": "6f6e966b-9bdd-4cbe-b19a-d94ee598d658",
   "metadata": {},
   "outputs": [
    {
     "name": "stdout",
     "output_type": "stream",
     "text": [
      "1 2 3 4 5 6 7 8 9 10 11 12 13 14 15 16 17 18 19 20 21 22 23 24 25 26 27 28 29 30 31 32 33 34 35 36 37 38 39 40 41 42 43 44 45 46 47 48 49 50 51 52 53 54 55 56 57 58 59 60 61 62 63 64 65 66 67 68 69 70 71 72 73 74 75 76 77 78 79 80 81 82 83 84 85 86 87 88 89 90 91 92 93 94 95 96 97 98 99 100 "
     ]
    }
   ],
   "source": [
    "n = 1\n",
    "lst = []\n",
    "while n <= 100:\n",
    "    print(f\"{n}\" , end=\" \")\n",
    "    lst.append(n)\n",
    "    n+=1\n",
    "\n",
    "# print(*range(1,101))"
   ]
  },
  {
   "cell_type": "code",
   "execution_count": 14,
   "id": "72ba3194-34c8-408a-bafb-525918f87b05",
   "metadata": {},
   "outputs": [
    {
     "name": "stdout",
     "output_type": "stream",
     "text": [
      "[1, 2, 3, 4, 5, 6, 7, 8, 9, 10, 11, 12, 13, 14, 15, 16, 17, 18, 19, 20, 21, 22, 23, 24, 25, 26, 27, 28, 29, 30, 31, 32, 33, 34, 35, 36, 37, 38, 39, 40, 41, 42, 43, 44, 45, 46, 47, 48, 49, 50, 51, 52, 53, 54, 55, 56, 57, 58, 59, 60, 61, 62, 63, 64, 65, 66, 67, 68, 69, 70, 71, 72, 73, 74, 75, 76, 77, 78, 79, 80, 81, 82, 83, 84, 85, 86, 87, 88, 89, 90, 91, 92, 93, 94, 95, 96, 97, 98, 99, 100]\n"
     ]
    }
   ],
   "source": [
    "print(lst)"
   ]
  },
  {
   "cell_type": "code",
   "execution_count": 15,
   "id": "db338cc1-3c4f-4447-909e-e5aa28e6d08c",
   "metadata": {},
   "outputs": [],
   "source": [
    "new_lst = lst.copy()"
   ]
  },
  {
   "cell_type": "markdown",
   "id": "fac27bd9-92fe-4e5c-a1f5-1802ccafa18f",
   "metadata": {},
   "source": [
    "- Replace multiples of 3 with \"Fizz\""
   ]
  },
  {
   "cell_type": "code",
   "execution_count": 16,
   "id": "c549f69b-d733-49cf-aed9-099f07c2e605",
   "metadata": {},
   "outputs": [
    {
     "name": "stdout",
     "output_type": "stream",
     "text": [
      "[1, 2, 'Fizz', 4, 5, 'Fizz', 7, 8, 'Fizz', 10, 11, 'Fizz', 13, 14, 'Fizz', 16, 17, 'Fizz', 19, 20, 'Fizz', 22, 23, 'Fizz', 25, 26, 'Fizz', 28, 29, 'Fizz', 31, 32, 'Fizz', 34, 35, 'Fizz', 37, 38, 'Fizz', 40, 41, 'Fizz', 43, 44, 'Fizz', 46, 47, 'Fizz', 49, 50, 'Fizz', 52, 53, 'Fizz', 55, 56, 'Fizz', 58, 59, 'Fizz', 61, 62, 'Fizz', 64, 65, 'Fizz', 67, 68, 'Fizz', 70, 71, 'Fizz', 73, 74, 'Fizz', 76, 77, 'Fizz', 79, 80, 'Fizz', 82, 83, 'Fizz', 85, 86, 'Fizz', 88, 89, 'Fizz', 91, 92, 'Fizz', 94, 95, 'Fizz', 97, 98, 'Fizz', 100]\n"
     ]
    }
   ],
   "source": [
    "i = 0 \n",
    "while i < len(lst):\n",
    "    if new_lst[i]%3==0:\n",
    "        new_lst[i] = \"Fizz\"\n",
    "    i+=1\n",
    "\n",
    "else:\n",
    "    print(new_lst)"
   ]
  },
  {
   "cell_type": "markdown",
   "id": "b04ac829-7776-458f-bd9f-eada28594a86",
   "metadata": {},
   "source": [
    "- Multiples of 5 with \"Buzz\""
   ]
  },
  {
   "cell_type": "code",
   "execution_count": 17,
   "id": "ef00c933-7747-4a37-95bc-61342e6adbaf",
   "metadata": {},
   "outputs": [],
   "source": [
    "new_lst = lst.copy()"
   ]
  },
  {
   "cell_type": "code",
   "execution_count": 18,
   "id": "c3e82436-d4c0-459c-ae81-25699ec295ed",
   "metadata": {},
   "outputs": [
    {
     "name": "stdout",
     "output_type": "stream",
     "text": [
      "[1, 2, 3, 4, 'Bizz', 6, 7, 8, 9, 'Bizz', 11, 12, 13, 14, 'Bizz', 16, 17, 18, 19, 'Bizz', 21, 22, 23, 24, 'Bizz', 26, 27, 28, 29, 'Bizz', 31, 32, 33, 34, 'Bizz', 36, 37, 38, 39, 'Bizz', 41, 42, 43, 44, 'Bizz', 46, 47, 48, 49, 'Bizz', 51, 52, 53, 54, 'Bizz', 56, 57, 58, 59, 'Bizz', 61, 62, 63, 64, 'Bizz', 66, 67, 68, 69, 'Bizz', 71, 72, 73, 74, 'Bizz', 76, 77, 78, 79, 'Bizz', 81, 82, 83, 84, 'Bizz', 86, 87, 88, 89, 'Bizz', 91, 92, 93, 94, 'Bizz', 96, 97, 98, 99, 'Bizz']\n"
     ]
    }
   ],
   "source": [
    "i = 0 \n",
    "while i < len(lst):\n",
    "    if new_lst[i]%5==0:\n",
    "        new_lst[i] = \"Bizz\"\n",
    "    i+=1\n",
    "\n",
    "else:\n",
    "    print(new_lst)"
   ]
  },
  {
   "cell_type": "markdown",
   "id": "8ca91eb5-e0e4-4152-ae1c-5ad7fd6e741a",
   "metadata": {},
   "source": [
    "- Multiples of both with \"FizzBuzz\""
   ]
  },
  {
   "cell_type": "code",
   "execution_count": 19,
   "id": "fb29b35d-8a0c-4615-b28e-efd23f905906",
   "metadata": {},
   "outputs": [],
   "source": [
    "new_lst = lst.copy()"
   ]
  },
  {
   "cell_type": "code",
   "execution_count": 20,
   "id": "67d3f1b6-59b1-4eb8-9194-cb68fb506931",
   "metadata": {},
   "outputs": [
    {
     "name": "stdout",
     "output_type": "stream",
     "text": [
      "[1, 2, 3, 4, 5, 6, 7, 8, 9, 10, 11, 12, 13, 14, 'FizzBizz', 16, 17, 18, 19, 20, 21, 22, 23, 24, 25, 26, 27, 28, 29, 'FizzBizz', 31, 32, 33, 34, 35, 36, 37, 38, 39, 40, 41, 42, 43, 44, 'FizzBizz', 46, 47, 48, 49, 50, 51, 52, 53, 54, 55, 56, 57, 58, 59, 'FizzBizz', 61, 62, 63, 64, 65, 66, 67, 68, 69, 70, 71, 72, 73, 74, 'FizzBizz', 76, 77, 78, 79, 80, 81, 82, 83, 84, 85, 86, 87, 88, 89, 'FizzBizz', 91, 92, 93, 94, 95, 96, 97, 98, 99, 100]\n"
     ]
    }
   ],
   "source": [
    "i = 0 \n",
    "while i < len(lst):\n",
    "    if new_lst[i]%3==0 and new_lst[i] % 5 == 0:\n",
    "        new_lst[i] = \"FizzBizz\"\n",
    "    i+=1\n",
    "\n",
    "else:\n",
    "    print(new_lst)"
   ]
  },
  {
   "cell_type": "markdown",
   "id": "4e7aeb5e-97db-4210-8921-37c433962484",
   "metadata": {},
   "source": [
    "# 14. Convert a string to title case (first letter of each word capital) using loop."
   ]
  },
  {
   "cell_type": "code",
   "execution_count": 21,
   "id": "c8d5d322-be38-451d-80f4-353432968556",
   "metadata": {},
   "outputs": [
    {
     "name": "stdin",
     "output_type": "stream",
     "text": [
      "Enter a String:-  with great power comes great responsibility\n"
     ]
    },
    {
     "name": "stdout",
     "output_type": "stream",
     "text": [
      "\n",
      "Your Old String is:-\"with great power comes great responsibility\"\n",
      "\n",
      "And Your new String is:-\"With Great Power Comes Great Responsibility\"\n"
     ]
    }
   ],
   "source": [
    "str = input(\"Enter a String:- \").strip()\n",
    "\n",
    "lst = str.split()\n",
    "new_lst = []\n",
    "# print(lst)\n",
    "i = 0\n",
    "while i < len(lst):\n",
    "    s = (lst[i]).title()\n",
    "    new_lst.append(s)\n",
    "    i+=1\n",
    "# print(new_lst)\n",
    "new_str = \" \".join(new_lst)\n",
    "\n",
    "print(f\"\\nYour Old String is:-\\\"{str}\\\"\\n\")\n",
    "print(f\"And Your new String is:-\\\"{new_str}\\\"\")"
   ]
  },
  {
   "cell_type": "code",
   "execution_count": 22,
   "id": "9ff5670e-b191-442a-a4d4-e105ef4ba168",
   "metadata": {},
   "outputs": [
    {
     "name": "stdout",
     "output_type": "stream",
     "text": [
      "['with', 'great', 'power', 'comes', 'great', 'responsibility']\n",
      "['With', 'Great', 'Power', 'Comes', 'Great', 'Responsibility']\n"
     ]
    }
   ],
   "source": [
    "print(lst)\n",
    "print(new_lst)"
   ]
  },
  {
   "cell_type": "markdown",
   "id": "18afffe1-8473-4e25-905e-da8f76990b39",
   "metadata": {},
   "source": [
    "# 15. Accept a string and print characters at even indices. "
   ]
  },
  {
   "cell_type": "code",
   "execution_count": 23,
   "id": "1fc2c1f4-c504-44cb-a78a-fdba5892f8f9",
   "metadata": {},
   "outputs": [
    {
     "name": "stdin",
     "output_type": "stream",
     "text": [
      "Enter an Random String:-  with great power comes great responsibility\n"
     ]
    },
    {
     "name": "stdout",
     "output_type": "stream",
     "text": [
      "wt ra oe oe ra epniiiy\n"
     ]
    }
   ],
   "source": [
    "str = input(\"Enter an Random String:- \").strip()\n",
    "new_str = \"\"\n",
    "i = 0\n",
    "while i < len(str):\n",
    "    if i % 2 == 0 :\n",
    "       new_str += str[i]\n",
    "    else:\n",
    "        i+=1\n",
    "        continue\n",
    "    i+=1\n",
    "\n",
    "print(new_str)"
   ]
  },
  {
   "cell_type": "code",
   "execution_count": null,
   "id": "2668aabd-c32d-4d70-96a6-7e6758b8f5d6",
   "metadata": {},
   "outputs": [],
   "source": []
  },
  {
   "cell_type": "code",
   "execution_count": null,
   "id": "bd413857-3f91-4e90-9ee2-91c95d1f1a7f",
   "metadata": {},
   "outputs": [],
   "source": []
  }
 ],
 "metadata": {
  "kernelspec": {
   "display_name": "Python [conda env:base] *",
   "language": "python",
   "name": "conda-base-py"
  },
  "language_info": {
   "codemirror_mode": {
    "name": "ipython",
    "version": 3
   },
   "file_extension": ".py",
   "mimetype": "text/x-python",
   "name": "python",
   "nbconvert_exporter": "python",
   "pygments_lexer": "ipython3",
   "version": "3.12.7"
  }
 },
 "nbformat": 4,
 "nbformat_minor": 5
}
