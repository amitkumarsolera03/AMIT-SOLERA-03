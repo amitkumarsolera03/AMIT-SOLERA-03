{
 "cells": [
  {
   "cell_type": "markdown",
   "id": "4688a436-133a-464e-9121-7633d84fd887",
   "metadata": {},
   "source": [
    "**Assignment 10**\n",
    "\n",
    "**Functions in python**"
   ]
  },
  {
   "cell_type": "markdown",
   "id": "7888d418-3720-40c1-b511-9d586049df97",
   "metadata": {},
   "source": [
    "# 1. Write a function reverse() that inputs a number and return the reverse of that number, for example if input is 1293, function should return 3921."
   ]
  },
  {
   "cell_type": "markdown",
   "id": "d774d755-d524-4603-bf48-97d762e40f02",
   "metadata": {},
   "source": [
    "# 2. Using the function reverse() in previous program, make a function isPalindrome() that inputs a number and checks whether it is a palindrome number. A number is palindrome number if it remains same after reversing its digits, for example 949, 82328 are palindrome. "
   ]
  },
  {
   "cell_type": "markdown",
   "id": "b7a73a42-e82b-4acd-a2db-757c008e97e3",
   "metadata": {},
   "source": [
    "# 3. Write a function isprime() which takes a number and returns 1 if the number is prime and 0 otherwise. "
   ]
  },
  {
   "cell_type": "markdown",
   "id": "76c901de-ed45-46e1-bd1c-28d4a809ea40",
   "metadata": {},
   "source": [
    "# 4 Write a function that inputs two numbers and prints all prime numbers between those numbers."
   ]
  },
  {
   "cell_type": "markdown",
   "id": "379fde70-e12b-4c33-9998-a7ca4554b4d2",
   "metadata": {},
   "source": [
    "# 5 Write a function that converts a decimal number to binary number."
   ]
  },
  {
   "cell_type": "markdown",
   "id": "f78fe893-85b4-4ccd-9e7a-77bf4d9c775e",
   "metadata": {},
   "source": [
    "# 6. Write a program to raise a floating point number to an integer power(eg. an where a is floating point number and n is an integer value.)  \n",
    "\n",
    "- Note: do not use ** and pow built function of python for this purpose"
   ]
  },
  {
   "cell_type": "markdown",
   "id": "1cec2556-64c1-4c05-aa87-8bce68c8cd37",
   "metadata": {},
   "source": [
    "# 7. Write a function that inputs a binary or octal number and converts to decimal number. "
   ]
  },
  {
   "cell_type": "markdown",
   "id": "6a1d1c82-67b8-4b8a-8e23-4b7e2b4e32c9",
   "metadata": {},
   "source": [
    "# 8.  Write a program to implement these formulae of permutations and combinations. \n",
    "\n",
    " \n",
    "\n",
    "    Number of permutations of n objects taken r at a time is:  \n",
    "    \n",
    "    p(n,r) = n! / (n-r)! \n",
    "    \n",
    "    Number of combinations of n objects taken r at a time is: \n",
    "    \n",
    "    c(n,r) = n! / ( r! * (n-r)! ) \n",
    "    \n",
    "    or c(n,r) = p(n,r) / r! "
   ]
  },
  {
   "cell_type": "markdown",
   "id": "26d0d1f2-a28e-46f4-a3fc-2fabc8b6553a",
   "metadata": {},
   "source": [
    "# 9. Write a program to print Pascal’s triangle. \n",
    "\n",
    "    1 \n",
    "    \n",
    "    1 1 \n",
    "    \n",
    "    1 2 1 \n",
    "    \n",
    "    1 3 3 1 \n",
    "    \n",
    "    1 4 6 4 1 \n",
    "    \n",
    "    1 5 10 10 5 1 \n",
    "    \n",
    "    1 6 15 20 15 6 1 "
   ]
  },
  {
   "cell_type": "markdown",
   "id": "3eaa2415-aded-43ad-8360-889268d535a1",
   "metadata": {},
   "source": [
    "# 10 Write a program to convert a decimal number to roman number. The roman numbers corresponding to decimal numbers are –  \n",
    "\n",
    "    1 – i\t\t9 – ix\t\t100 – c \t \n",
    "    \n",
    "    4 – iv\t\t10 – x\t500 – d  \n",
    "    \n",
    "    5 – v\t\t50 – l\t\t1000 – m  \n",
    "    \n",
    "      \n",
    "    \n",
    "    Example : - 14 – xiv\t\t123 – cxxiii\t\t1009 – mix\t \n",
    "    \n",
    "      48 – xxxxviii\t772 – dcclxxii\t2856 –mmdccclvi\t"
   ]
  },
  {
   "cell_type": "markdown",
   "id": "3baf706a-c4e5-41b7-a3fc-d4d489caa91e",
   "metadata": {},
   "source": [
    "# 11 Write a program to find out the prime factors of a number. Some examples of prime factors are –  \n",
    "\n",
    " \n",
    "    Prime factors of 56 – 2, 2, 2, 7 \n",
    "    \n",
    "    Prime factors of 98 – 2, 7, 7 \n",
    "    \n",
    "    Prime factors of 121 – 11, 11 "
   ]
  },
  {
   "cell_type": "markdown",
   "id": "43f2ec74-8ea2-4e4a-9e7b-d5e50b14c02a",
   "metadata": {},
   "source": [
    "# 12. Write a function cubesum() that accepts an integer and returns the sum of the cubes of individual digits of that number. "
   ]
  },
  {
   "cell_type": "markdown",
   "id": "977437aa-2c73-41a5-be30-4883ccc8ef1a",
   "metadata": {},
   "source": [
    "# 13. Write a function prodDigits() that inputs a number and return the prduct of digits of that number."
   ]
  },
  {
   "cell_type": "markdown",
   "id": "d6bb4132-b841-49bf-a5b3-cc32c56a0961",
   "metadata": {},
   "source": [
    "# 14. A number is called perfect if the sum of proper divisor of that number is equal to the number. For example 28 is a perfect number, since 1+2+4+7+14=28. Write a program to print all the perfect numbers in a given range. "
   ]
  },
  {
   "cell_type": "markdown",
   "id": "c3696b4b-e98f-49b6-b229-87d17be20fcf",
   "metadata": {},
   "source": [
    "# 15. Two different numbers are called amicable number if the sum of the proper divisors of each is equal to the other number. For example 220 and 284 are amicable numbers. \n",
    "\n",
    "    Sum of proper divisors of 220=1+2+4+5+10+11+20+22+44+55+110=284 \n",
    "    \n",
    "    Sum of proper divisors of 284=1+2+4+71+142=220. \n",
    "    \n",
    "    Write a function to print pairs of amicable numbers in a range."
   ]
  },
  {
   "cell_type": "markdown",
   "id": "f3efb2ea-2c78-4072-bb7c-d7642d6c94bc",
   "metadata": {},
   "source": [
    "# 16. Write a single function to print both amicable pairs and perfect numbers."
   ]
  },
  {
   "cell_type": "markdown",
   "id": "c6f49b16-8cdb-41a7-b2f8-854700477598",
   "metadata": {},
   "source": [
    "# 17. Write a function convert() that can convert inches to cms and vice versa. The first argument should be the length to be converted  and second argument should be a character(‘I’ or ‘c’) denoting the measurement unit of the length given in first argument."
   ]
  },
  {
   "cell_type": "markdown",
   "id": "005878ee-d818-424d-b833-60ed63cd5abe",
   "metadata": {},
   "source": [
    "# 18. Write a program to print twin primes less than 1000. If two consecutive odd numbers are both prime (eg. 17, 19)  then they are known as twin prime numbers."
   ]
  },
  {
   "cell_type": "markdown",
   "id": "dbfb4ac1-33b9-4044-94e1-80ed0c8e68ad",
   "metadata": {},
   "source": [
    "# 19. Write a function isLeap() which inputs a year and return 1 if the year is leap otherwise 0."
   ]
  },
  {
   "cell_type": "markdown",
   "id": "81bc40b8-de83-4b76-a3f5-18a223810790",
   "metadata": {},
   "source": [
    "# 20. Write a recursive function that reverses an integer. For example if the input is 43287 then the function should return the integer 78234"
   ]
  }
 ],
 "metadata": {
  "kernelspec": {
   "display_name": "Python [conda env:base] *",
   "language": "python",
   "name": "conda-base-py"
  },
  "language_info": {
   "codemirror_mode": {
    "name": "ipython",
    "version": 3
   },
   "file_extension": ".py",
   "mimetype": "text/x-python",
   "name": "python",
   "nbconvert_exporter": "python",
   "pygments_lexer": "ipython3",
   "version": "3.12.7"
  }
 },
 "nbformat": 4,
 "nbformat_minor": 5
}
