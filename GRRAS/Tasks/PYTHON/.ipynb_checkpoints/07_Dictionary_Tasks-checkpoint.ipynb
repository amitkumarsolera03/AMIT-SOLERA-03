{
 "cells": [
  {
   "cell_type": "markdown",
   "id": "9bd33328-e819-42aa-bda5-7e3acb8107d9",
   "metadata": {},
   "source": [
    "# 1. What does the code for an empty dictionary look like?"
   ]
  },
  {
   "cell_type": "markdown",
   "id": "2eb30bb0-e61b-443f-be71-eebab67b726b",
   "metadata": {},
   "source": [
    "`Generlly declare by empty {}`"
   ]
  },
  {
   "cell_type": "code",
   "execution_count": 1,
   "id": "ee56be2a-412c-4701-b8bd-001b965ea977",
   "metadata": {},
   "outputs": [],
   "source": [
    "dt = {}"
   ]
  },
  {
   "cell_type": "code",
   "execution_count": 2,
   "id": "3a8a4616-b9f4-482e-944a-9cf97cd698b1",
   "metadata": {},
   "outputs": [
    {
     "name": "stdout",
     "output_type": "stream",
     "text": [
      "<class 'dict'>\n"
     ]
    }
   ],
   "source": [
    "print(type(dt))"
   ]
  },
  {
   "cell_type": "markdown",
   "id": "d35c2ff2-7ab4-4c84-b911-1db9ac8be330",
   "metadata": {},
   "source": [
    "# 2. What does a dictionary value with a key 'foo' and a value 42 look like? "
   ]
  },
  {
   "cell_type": "code",
   "execution_count": 3,
   "id": "0b3b01a7-2f4e-4b9d-a841-7a95f9d834d8",
   "metadata": {},
   "outputs": [],
   "source": [
    "dt = {\n",
    "    'foo' : 42\n",
    "}"
   ]
  },
  {
   "cell_type": "code",
   "execution_count": 4,
   "id": "564e5df6-b6dc-424c-a37c-ac375477ae47",
   "metadata": {},
   "outputs": [
    {
     "name": "stdout",
     "output_type": "stream",
     "text": [
      "{'foo': 42}\n"
     ]
    }
   ],
   "source": [
    "print(dt)"
   ]
  },
  {
   "cell_type": "markdown",
   "id": "89d47f8d-f7d7-4926-a27a-c9460a9a6547",
   "metadata": {},
   "source": [
    "# 3. What is the main difference between a dictionary and a list?"
   ]
  },
  {
   "cell_type": "markdown",
   "id": "7dd9d3ef-55c4-41e0-953e-d85135789861",
   "metadata": {},
   "source": [
    "`1. Dictionary:-` \n",
    "                \n",
    "                A dictionary in Python is a built-in, mutable , unordered data structure that stores data in key-value pairs, allowing you to access values based on unique keys."
   ]
  },
  {
   "cell_type": "code",
   "execution_count": 5,
   "id": "04b6c23b-c6af-4eef-b038-9aa2a9e937a3",
   "metadata": {},
   "outputs": [],
   "source": [
    "dt = {\n",
    "    \"Name\" : \"Amit Solera\",\n",
    "    \"Batch\" : \"DSML\"\n",
    "}"
   ]
  },
  {
   "cell_type": "code",
   "execution_count": 6,
   "id": "07b5b7e9-a79e-4a64-93ea-fb3326899c06",
   "metadata": {},
   "outputs": [
    {
     "name": "stdout",
     "output_type": "stream",
     "text": [
      "{'Name': 'Amit Solera', 'Batch': 'DSML'}\n"
     ]
    }
   ],
   "source": [
    "print(dt)"
   ]
  },
  {
   "cell_type": "markdown",
   "id": "10716eff-f8e3-4a7a-bd1f-bb4cb6826ca1",
   "metadata": {},
   "source": [
    "`2. List:-`\n",
    "\n",
    "        A Python list is a mutable, ordered sequence of elements, defined by values enclosed within square brackets [] and separated by commas."
   ]
  },
  {
   "cell_type": "code",
   "execution_count": 7,
   "id": "7ff84251-192f-410b-a363-eed08e59fc6e",
   "metadata": {},
   "outputs": [],
   "source": [
    "lst = [1, 2 , 'Hii' ,\"Hello World!!\"]"
   ]
  },
  {
   "cell_type": "code",
   "execution_count": 8,
   "id": "9fe964a8-fe7a-4c21-8253-6ff6b8c1487a",
   "metadata": {},
   "outputs": [
    {
     "name": "stdout",
     "output_type": "stream",
     "text": [
      "[1, 2, 'Hii', 'Hello World!!']\n"
     ]
    }
   ],
   "source": [
    "print(lst)"
   ]
  },
  {
   "cell_type": "markdown",
   "id": "a06cf3e3-fd77-4728-b11e-28cfd939cbce",
   "metadata": {},
   "source": [
    "# 4. What happens if you try to access spam['foo'] if spam is {'bar': 100}?"
   ]
  },
  {
   "cell_type": "markdown",
   "id": "3423bccc-c3b6-464a-91a2-8c675c71d480",
   "metadata": {},
   "source": [
    "It will give the error about the key .Because the key 'foo' does not exist in the dictionary `spam`"
   ]
  },
  {
   "cell_type": "code",
   "execution_count": 9,
   "id": "f7818c31-ecd5-4a28-9583-958bb4400d84",
   "metadata": {},
   "outputs": [],
   "source": [
    "spam = {'bar' : 100}"
   ]
  },
  {
   "cell_type": "code",
   "execution_count": 10,
   "id": "fa64f009-52ed-4124-b15f-b384c93194e8",
   "metadata": {},
   "outputs": [
    {
     "ename": "KeyError",
     "evalue": "'foo'",
     "output_type": "error",
     "traceback": [
      "\u001b[1;31m---------------------------------------------------------------------------\u001b[0m",
      "\u001b[1;31mKeyError\u001b[0m                                  Traceback (most recent call last)",
      "Cell \u001b[1;32mIn[10], line 1\u001b[0m\n\u001b[1;32m----> 1\u001b[0m spam[\u001b[38;5;124m'\u001b[39m\u001b[38;5;124mfoo\u001b[39m\u001b[38;5;124m'\u001b[39m]\n",
      "\u001b[1;31mKeyError\u001b[0m: 'foo'"
     ]
    }
   ],
   "source": [
    "spam['foo']"
   ]
  },
  {
   "cell_type": "code",
   "execution_count": null,
   "id": "31157565-5e5c-45c5-9cde-1a803154ca29",
   "metadata": {},
   "outputs": [],
   "source": []
  },
  {
   "cell_type": "markdown",
   "id": "8c569f7c-c58b-49a2-b75d-2a01f05f8d43",
   "metadata": {},
   "source": [
    "# 5. If a dictionary is stored in spam, what is the difference between the expressions 'cat' in spam and 'cat' in spam.keys()?"
   ]
  },
  {
   "cell_type": "code",
   "execution_count": 11,
   "id": "85c01cbc-37a7-4c01-a173-50426d81c9a6",
   "metadata": {},
   "outputs": [],
   "source": [
    "spam = {\n",
    "    'cat' : 3,\n",
    "    'Dog' : 4,\n",
    "    'GOAT' :7\n",
    "}"
   ]
  },
  {
   "cell_type": "code",
   "execution_count": 12,
   "id": "5c49682e-bf49-4398-a2ae-c6981ba1b7cc",
   "metadata": {},
   "outputs": [],
   "source": [
    "x = 'cat' in spam\n",
    "\n",
    "y = 'cat' in spam.keys()\n",
    "\n",
    "# Both will give True but generally first method is used "
   ]
  },
  {
   "cell_type": "code",
   "execution_count": 13,
   "id": "a99fcec2-ae99-444b-a109-4e9d412f4809",
   "metadata": {},
   "outputs": [
    {
     "name": "stdout",
     "output_type": "stream",
     "text": [
      "True\n",
      "True\n"
     ]
    }
   ],
   "source": [
    "print(x)\n",
    "print(y)"
   ]
  },
  {
   "cell_type": "markdown",
   "id": "c8773500-2245-47eb-be73-2440001e4b68",
   "metadata": {},
   "source": [
    "# 6. If a dictionary is stored in spam, what is the difference between the expressions 'cat' in spam and 'cat' in spam.values()? "
   ]
  },
  {
   "cell_type": "code",
   "execution_count": 14,
   "id": "f191b877-3e2e-4927-b337-7040bb7ff0b5",
   "metadata": {},
   "outputs": [
    {
     "data": {
      "text/plain": [
       "{'cat': 3, 'Dog': 4, 'GOAT': 7}"
      ]
     },
     "execution_count": 14,
     "metadata": {},
     "output_type": "execute_result"
    }
   ],
   "source": [
    "spam"
   ]
  },
  {
   "cell_type": "code",
   "execution_count": 15,
   "id": "830ccbd6-745f-44d2-a2aa-15dc14caa54f",
   "metadata": {},
   "outputs": [],
   "source": [
    "x = 'cat' in spam\n",
    "\n",
    "y = 'cat' in spam.values()\n",
    "\n",
    "\n",
    "# One give True and second one is give False. First one is checking in the 'Keys' and Second one is in the 'Values' ,\n",
    "# that's why one is 'True' and second one is'False"
   ]
  },
  {
   "cell_type": "code",
   "execution_count": 16,
   "id": "f7bbd2d1-240f-48cf-80bd-f56687f20161",
   "metadata": {},
   "outputs": [
    {
     "name": "stdout",
     "output_type": "stream",
     "text": [
      "True\n",
      "False\n"
     ]
    }
   ],
   "source": [
    "print(x)\n",
    "print(y)"
   ]
  },
  {
   "cell_type": "markdown",
   "id": "9f5e5441-b498-48a1-9a7e-a3aae6764485",
   "metadata": {},
   "source": [
    "# 7. What is a shortcut for the following code? \n",
    "\n",
    "    if 'color' not in spam: \n",
    "    \n",
    "    spam['color'] = 'black' "
   ]
  },
  {
   "cell_type": "code",
   "execution_count": null,
   "id": "9ea84384-40a2-42fa-ad36-f055addf1bc1",
   "metadata": {},
   "outputs": [],
   "source": []
  },
  {
   "cell_type": "code",
   "execution_count": null,
   "id": "599f7617-2a32-462c-8b86-d9b4a58f2f81",
   "metadata": {},
   "outputs": [],
   "source": []
  },
  {
   "cell_type": "markdown",
   "id": "c4b371f3-8c2a-40a1-b5d8-672950959ae1",
   "metadata": {},
   "source": [
    "# 8. Given prices = {'apple': 1.2, 'banana': 0.5}, how would you find the price of 'banana'?"
   ]
  },
  {
   "cell_type": "code",
   "execution_count": 17,
   "id": "2b848cf6-d040-440b-b922-3904449e278e",
   "metadata": {},
   "outputs": [],
   "source": [
    "prices = {\n",
    "    'apple': 1.2,\n",
    "    'banana': 0.5     \n",
    "}"
   ]
  },
  {
   "cell_type": "code",
   "execution_count": 18,
   "id": "b6332bf2-8a1f-49a8-8d42-10da20e7250a",
   "metadata": {},
   "outputs": [
    {
     "data": {
      "text/plain": [
       "0.5"
      ]
     },
     "execution_count": 18,
     "metadata": {},
     "output_type": "execute_result"
    }
   ],
   "source": [
    "prices['banana']"
   ]
  },
  {
   "cell_type": "markdown",
   "id": "3e6c20fa-4908-4bec-8dd7-97d8000629b0",
   "metadata": {},
   "source": [
    "# 9. How would you check if 'pear' exists in prices without causing an error if it's missing?"
   ]
  },
  {
   "cell_type": "markdown",
   "id": "cd3ca04d-b1a7-4056-a26a-2017e0bb5924",
   "metadata": {},
   "source": [
    "`Use the get() method to retrieve the value by key. If the key does not exist, it doesn't give an error — it returns None or a default value if specified.`"
   ]
  },
  {
   "cell_type": "code",
   "execution_count": 19,
   "id": "da0eebc5-1acd-4591-b4cb-18dd835918d3",
   "metadata": {},
   "outputs": [],
   "source": [
    "prices = {\n",
    "    'apple': 1.2,\n",
    "    'banana': 0.5     \n",
    "}"
   ]
  },
  {
   "cell_type": "code",
   "execution_count": 20,
   "id": "d018c7f9-bd76-45aa-ad38-644f93e234b9",
   "metadata": {},
   "outputs": [],
   "source": [
    "value = prices.get('pear')"
   ]
  },
  {
   "cell_type": "code",
   "execution_count": 21,
   "id": "50e75f68-247b-48fa-aff4-d7ed882710c2",
   "metadata": {},
   "outputs": [
    {
     "name": "stdout",
     "output_type": "stream",
     "text": [
      "None\n"
     ]
    }
   ],
   "source": [
    "print(value)"
   ]
  },
  {
   "cell_type": "markdown",
   "id": "9d5e57e3-dfea-4399-a43c-0ed2b807d8d2",
   "metadata": {},
   "source": [
    "# 10. With inventory = {'apples': 10}, how would you add 'oranges' with quantity 15? "
   ]
  },
  {
   "cell_type": "markdown",
   "id": "158d2883-c21c-4b8d-8aa3-fc835c02e6c5",
   "metadata": {},
   "source": [
    "`It will perform by using update function`\n",
    "\n",
    "    dict.update({'key' ,'value'})"
   ]
  },
  {
   "cell_type": "code",
   "execution_count": 22,
   "id": "7a46e85e-379c-42f0-8ab4-8ba4d8e66ff2",
   "metadata": {},
   "outputs": [],
   "source": [
    "inventory = {\n",
    "    'apples':10\n",
    "}"
   ]
  },
  {
   "cell_type": "code",
   "execution_count": 23,
   "id": "fdaf3f8c-8a3f-492f-9540-d7ad42609ca5",
   "metadata": {},
   "outputs": [],
   "source": [
    "# By use update() method\n",
    "inventory.update({'oranges':15})"
   ]
  },
  {
   "cell_type": "code",
   "execution_count": 24,
   "id": "0c00c18c-3273-4a70-b835-14b0f195d60d",
   "metadata": {},
   "outputs": [
    {
     "data": {
      "text/plain": [
       "{'apples': 10, 'oranges': 15}"
      ]
     },
     "execution_count": 24,
     "metadata": {},
     "output_type": "execute_result"
    }
   ],
   "source": [
    "inventory"
   ]
  },
  {
   "cell_type": "code",
   "execution_count": null,
   "id": "8fe61740-af8a-48fb-95fb-27ebfe9a0da2",
   "metadata": {},
   "outputs": [],
   "source": []
  },
  {
   "cell_type": "markdown",
   "id": "4af0e76e-20c5-4e7b-89b7-00e77d3f7819",
   "metadata": {},
   "source": [
    "# 11. How would you get all the fruit names from prices as a list? "
   ]
  },
  {
   "cell_type": "code",
   "execution_count": 25,
   "id": "bc20db96-5cf8-4cc0-90d9-7c7aee47faaf",
   "metadata": {},
   "outputs": [
    {
     "data": {
      "text/plain": [
       "{'apples': 10, 'oranges': 15}"
      ]
     },
     "execution_count": 25,
     "metadata": {},
     "output_type": "execute_result"
    }
   ],
   "source": [
    "inventory"
   ]
  },
  {
   "cell_type": "code",
   "execution_count": null,
   "id": "fa27f6fe-2d00-42e2-a5e2-fe2ac73bed87",
   "metadata": {},
   "outputs": [],
   "source": []
  },
  {
   "cell_type": "markdown",
   "id": "5e0972a2-aa0a-4883-8d0a-3ac16f7a98f3",
   "metadata": {},
   "source": [
    "# 12. How would you get all the numerical values from prices as a list?"
   ]
  },
  {
   "cell_type": "code",
   "execution_count": null,
   "id": "0b8bcfe0-71ae-4698-8ad8-4b567f370f0e",
   "metadata": {},
   "outputs": [],
   "source": []
  },
  {
   "cell_type": "markdown",
   "id": "3b4fc8a9-8912-4179-b589-a7aca029e134",
   "metadata": {},
   "source": [
    "# 13. Starting with colors = {'red': 1}, how would you add both 'blue': 2 and 'green': 3 in one operation? "
   ]
  },
  {
   "cell_type": "code",
   "execution_count": 21,
   "id": "37d3cb8a-e69a-4bd4-a0a8-09fff9f95a50",
   "metadata": {},
   "outputs": [],
   "source": [
    "colour = {\n",
    "    'Red' : 1\n",
    "}"
   ]
  },
  {
   "cell_type": "code",
   "execution_count": 29,
   "id": "688b894d-d5f7-4d8b-a834-335933c46656",
   "metadata": {},
   "outputs": [],
   "source": [
    "colour.update({'Blue' : 2 , 'Green' : 3})"
   ]
  },
  {
   "cell_type": "code",
   "execution_count": 30,
   "id": "13e939dd-2c78-4d6c-b589-cc53308b3127",
   "metadata": {},
   "outputs": [
    {
     "data": {
      "text/plain": [
       "{'Red': 1, 'Blue': 2, 'Green': 3}"
      ]
     },
     "execution_count": 30,
     "metadata": {},
     "output_type": "execute_result"
    }
   ],
   "source": [
    "colour"
   ]
  },
  {
   "cell_type": "code",
   "execution_count": null,
   "id": "6cc47593-0dd0-4a37-a315-8b5e1ff1d1fd",
   "metadata": {},
   "outputs": [],
   "source": []
  },
  {
   "cell_type": "code",
   "execution_count": null,
   "id": "bc3eccd1-c5c0-43a6-ab19-3b58c951d400",
   "metadata": {},
   "outputs": [],
   "source": []
  },
  {
   "cell_type": "markdown",
   "id": "ccd2fed2-6a0e-497c-9f5c-76f3c4f6b453",
   "metadata": {},
   "source": [
    "# 14. With ages = {'Alice': 25, 'Bob': 30}, how would you remove 'Alice' and know her age? "
   ]
  },
  {
   "cell_type": "code",
   "execution_count": 47,
   "id": "5b46c1a8-1247-4ad1-9be4-79382332048f",
   "metadata": {},
   "outputs": [],
   "source": [
    "ages = {'Alice': 25, 'Bob': 30}"
   ]
  },
  {
   "cell_type": "code",
   "execution_count": 48,
   "id": "1230daad-c43c-4cb8-b90d-bd71ff13a229",
   "metadata": {},
   "outputs": [
    {
     "data": {
      "text/plain": [
       "25"
      ]
     },
     "execution_count": 48,
     "metadata": {},
     "output_type": "execute_result"
    }
   ],
   "source": [
    "ages.get('Alice')"
   ]
  },
  {
   "cell_type": "code",
   "execution_count": 50,
   "id": "2191cbf9-6713-48b3-aabf-c981c636db74",
   "metadata": {},
   "outputs": [
    {
     "data": {
      "text/plain": [
       "25"
      ]
     },
     "execution_count": 50,
     "metadata": {},
     "output_type": "execute_result"
    }
   ],
   "source": [
    "ages.pop('Alice')"
   ]
  },
  {
   "cell_type": "code",
   "execution_count": 52,
   "id": "89b9319b-de78-4e2c-8784-250f1912809c",
   "metadata": {},
   "outputs": [
    {
     "data": {
      "text/plain": [
       "{'Bob': 30}"
      ]
     },
     "execution_count": 52,
     "metadata": {},
     "output_type": "execute_result"
    }
   ],
   "source": [
    "ages"
   ]
  },
  {
   "cell_type": "code",
   "execution_count": null,
   "id": "a8e5ceb4-9a31-4625-a757-c73684545e56",
   "metadata": {},
   "outputs": [],
   "source": []
  },
  {
   "cell_type": "code",
   "execution_count": null,
   "id": "e060ce5d-a82c-40e5-8349-188505987a2c",
   "metadata": {},
   "outputs": [],
   "source": []
  },
  {
   "cell_type": "markdown",
   "id": "58e2b835-a4d3-4f03-8530-45c7c816bd04",
   "metadata": {},
   "source": [
    "# 15. How would you remove and return any one (key, value) pair from ages? "
   ]
  },
  {
   "cell_type": "code",
   "execution_count": 53,
   "id": "ccc68839-2ca7-41b0-9be7-33848e1448d8",
   "metadata": {},
   "outputs": [],
   "source": [
    "ages = {'Alice': 25, 'Bob': 30}"
   ]
  },
  {
   "cell_type": "code",
   "execution_count": 54,
   "id": "cff3f055-199d-41f1-bbf8-aa5464545cc1",
   "metadata": {},
   "outputs": [
    {
     "data": {
      "text/plain": [
       "('Bob', 30)"
      ]
     },
     "execution_count": 54,
     "metadata": {},
     "output_type": "execute_result"
    }
   ],
   "source": [
    "ages.popitem()"
   ]
  },
  {
   "cell_type": "code",
   "execution_count": null,
   "id": "a4b69599-f893-439e-bd26-54475a9826fc",
   "metadata": {},
   "outputs": [],
   "source": []
  },
  {
   "cell_type": "markdown",
   "id": "661c5e26-213d-4155-b8a4-3c92e8d6ae64",
   "metadata": {},
   "source": [
    "# 16. If scores = {'math': 90}, how would you set 'science' to 85 only if it doesn't already exist? "
   ]
  },
  {
   "cell_type": "code",
   "execution_count": 65,
   "id": "a51a5d32-78f8-4ca0-bce4-a6406c418175",
   "metadata": {},
   "outputs": [],
   "source": [
    "scores = {\n",
    "    'Math' : 90\n",
    "}"
   ]
  },
  {
   "cell_type": "code",
   "execution_count": 68,
   "id": "b1739703-e6c0-48d4-aa97-87472d8f2f37",
   "metadata": {},
   "outputs": [],
   "source": [
    "scores.update({'Science' : 85})"
   ]
  },
  {
   "cell_type": "code",
   "execution_count": 69,
   "id": "88f9e1c4-c685-422e-b343-cc2712fdb9aa",
   "metadata": {},
   "outputs": [
    {
     "data": {
      "text/plain": [
       "{'Math': 90, 'Science': 85}"
      ]
     },
     "execution_count": 69,
     "metadata": {},
     "output_type": "execute_result"
    }
   ],
   "source": [
    "scores"
   ]
  },
  {
   "cell_type": "markdown",
   "id": "c6ed3a2b-6dbb-4f97-bb75-ab0a00c0bee1",
   "metadata": {},
   "source": [
    "# 17. How would you delete all items from scores at once? "
   ]
  },
  {
   "cell_type": "code",
   "execution_count": 70,
   "id": "8c736134-d250-489b-9dd4-07e00f4647c0",
   "metadata": {},
   "outputs": [],
   "source": [
    "scores.clear()"
   ]
  },
  {
   "cell_type": "code",
   "execution_count": 71,
   "id": "25f43cf3-cdb7-41fd-816b-844543070995",
   "metadata": {},
   "outputs": [
    {
     "data": {
      "text/plain": [
       "{}"
      ]
     },
     "execution_count": 71,
     "metadata": {},
     "output_type": "execute_result"
    }
   ],
   "source": [
    "scores"
   ]
  },
  {
   "cell_type": "markdown",
   "id": "73ad670a-04e9-4db9-bd04-e2880c747374",
   "metadata": {},
   "source": [
    "# 18. How would you combine dict1 = {'a': 1} and dict2 = {'b': 2} without altering either original dictionary? "
   ]
  },
  {
   "cell_type": "code",
   "execution_count": 11,
   "id": "0f1ca406-350c-4dfd-acfd-c75302f2c69b",
   "metadata": {},
   "outputs": [],
   "source": [
    "dict1 = {'a' : 1 }\n",
    "dict2 = {'b' : 2 }"
   ]
  },
  {
   "cell_type": "code",
   "execution_count": 31,
   "id": "e5dd1773-f8c3-4eb7-b87e-a6cb66b83e34",
   "metadata": {},
   "outputs": [],
   "source": [
    "dict1.update(dict2)"
   ]
  },
  {
   "cell_type": "code",
   "execution_count": 33,
   "id": "e256bd6e-5aba-4789-b750-7e190c153910",
   "metadata": {},
   "outputs": [
    {
     "data": {
      "text/plain": [
       "{'a': 1, 'b': 2}"
      ]
     },
     "execution_count": 33,
     "metadata": {},
     "output_type": "execute_result"
    }
   ],
   "source": [
    "dict1"
   ]
  },
  {
   "cell_type": "code",
   "execution_count": null,
   "id": "71f5c5b7-6524-49ca-9a04-7083e1d218b6",
   "metadata": {},
   "outputs": [],
   "source": []
  },
  {
   "cell_type": "markdown",
   "id": "a509ce53-bd7c-45ac-8736-6179d427905b",
   "metadata": {},
   "source": [
    "# 19. For nested = {'person': {'name': 'Alice'}}, how would you change the name to 'Bob'? "
   ]
  },
  {
   "cell_type": "code",
   "execution_count": 5,
   "id": "8deaf459-c601-44ae-8608-6add4923d7c4",
   "metadata": {},
   "outputs": [],
   "source": [
    "info = {\n",
    "    'person' : {\n",
    "        'name' : 'Alice'\n",
    "    }\n",
    "}"
   ]
  },
  {
   "cell_type": "code",
   "execution_count": 6,
   "id": "f468b27a-a490-4fc8-813a-c09d7274519e",
   "metadata": {},
   "outputs": [
    {
     "data": {
      "text/plain": [
       "'Alice'"
      ]
     },
     "execution_count": 6,
     "metadata": {},
     "output_type": "execute_result"
    }
   ],
   "source": [
    "info['person']['name']"
   ]
  },
  {
   "cell_type": "code",
   "execution_count": null,
   "id": "1fc84dc1-078e-43d4-ad89-ab9e975bd5ee",
   "metadata": {},
   "outputs": [],
   "source": []
  },
  {
   "cell_type": "markdown",
   "id": "bc9cd5cf-5399-4173-a817-29fc188cf67d",
   "metadata": {},
   "source": [
    "# 20. Check if a key exists in a dictionary using the in keyword."
   ]
  },
  {
   "cell_type": "code",
   "execution_count": 3,
   "id": "bf9abb7c-9fdd-4987-bc37-a9f350f12dea",
   "metadata": {},
   "outputs": [],
   "source": [
    "info = {\n",
    "    \"Name\" : \"Amit Solera\",\n",
    "    # \"Age\" :17,\n",
    "    \"Course\" : \"AI\",\n",
    "    \"Fee\" : 10000,\n",
    "    \"Paid\" : 6000\n",
    "}"
   ]
  },
  {
   "cell_type": "code",
   "execution_count": 4,
   "id": "6bb64988-9c1c-4b7c-9543-dfa28af703cd",
   "metadata": {},
   "outputs": [
    {
     "data": {
      "text/plain": [
       "True"
      ]
     },
     "execution_count": 4,
     "metadata": {},
     "output_type": "execute_result"
    }
   ],
   "source": [
    "'Name' in info # Give boolean value"
   ]
  },
  {
   "cell_type": "code",
   "execution_count": null,
   "id": "6660493f-621d-469f-bb10-c7981250ac45",
   "metadata": {},
   "outputs": [],
   "source": []
  }
 ],
 "metadata": {
  "kernelspec": {
   "display_name": "Python [conda env:base] *",
   "language": "python",
   "name": "conda-base-py"
  },
  "language_info": {
   "codemirror_mode": {
    "name": "ipython",
    "version": 3
   },
   "file_extension": ".py",
   "mimetype": "text/x-python",
   "name": "python",
   "nbconvert_exporter": "python",
   "pygments_lexer": "ipython3",
   "version": "3.12.7"
  }
 },
 "nbformat": 4,
 "nbformat_minor": 5
}
