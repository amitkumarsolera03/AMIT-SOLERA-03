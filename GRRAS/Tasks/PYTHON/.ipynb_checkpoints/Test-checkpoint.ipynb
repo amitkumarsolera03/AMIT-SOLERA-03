{
 "cells": [
  {
   "cell_type": "code",
   "execution_count": 1,
   "id": "90d2569c-4434-4e2b-9ee1-3ce4321351ab",
   "metadata": {},
   "outputs": [],
   "source": [
    "str = \"Amit Solera\""
   ]
  },
  {
   "cell_type": "code",
   "execution_count": 2,
   "id": "55ed9e1f-e062-4bba-b78e-8b6dff5c01f8",
   "metadata": {},
   "outputs": [
    {
     "data": {
      "text/plain": [
       "['Amit', 'Solera']"
      ]
     },
     "execution_count": 2,
     "metadata": {},
     "output_type": "execute_result"
    }
   ],
   "source": [
    "str.split()"
   ]
  },
  {
   "cell_type": "code",
   "execution_count": 3,
   "id": "9242f2f3-c27e-44f2-8e11-a69fea46e4d3",
   "metadata": {},
   "outputs": [],
   "source": [
    "str = \"    amitsolera    \""
   ]
  },
  {
   "cell_type": "code",
   "execution_count": 4,
   "id": "87362efc-a215-47ac-851b-d1aecfd93187",
   "metadata": {},
   "outputs": [
    {
     "data": {
      "text/plain": [
       "'amitsolera'"
      ]
     },
     "execution_count": 4,
     "metadata": {},
     "output_type": "execute_result"
    }
   ],
   "source": [
    "str.strip()"
   ]
  },
  {
   "cell_type": "code",
   "execution_count": 5,
   "id": "2e8b2236-f9bb-451a-857d-bda48652c2a6",
   "metadata": {},
   "outputs": [
    {
     "name": "stdout",
     "output_type": "stream",
     "text": [
      "    amitsolera    \n"
     ]
    }
   ],
   "source": [
    "print(str)"
   ]
  },
  {
   "cell_type": "code",
   "execution_count": 6,
   "id": "379e393a-7313-43a5-9457-8f6c2c17023b",
   "metadata": {},
   "outputs": [],
   "source": [
    "str = \" ,.; !@#     Amit Solera    ,.;!@# \""
   ]
  },
  {
   "cell_type": "code",
   "execution_count": 7,
   "id": "fb3b67fd-f686-47c1-86f6-5015a951c1b0",
   "metadata": {},
   "outputs": [
    {
     "data": {
      "text/plain": [
       "'Amit Solera'"
      ]
     },
     "execution_count": 7,
     "metadata": {},
     "output_type": "execute_result"
    }
   ],
   "source": [
    "str.strip(' ,.;!@#')"
   ]
  },
  {
   "cell_type": "code",
   "execution_count": 8,
   "id": "9fb1a5e9-de28-4453-b1e3-c4d6e885ce65",
   "metadata": {},
   "outputs": [],
   "source": [
    "str = \"     *****Amit Solera*****      \""
   ]
  },
  {
   "cell_type": "code",
   "execution_count": 9,
   "id": "b5185978-3811-43ae-b029-613305bad29a",
   "metadata": {},
   "outputs": [
    {
     "data": {
      "text/plain": [
       "'Amit Solera'"
      ]
     },
     "execution_count": 9,
     "metadata": {},
     "output_type": "execute_result"
    }
   ],
   "source": [
    "str.strip(' *')"
   ]
  },
  {
   "cell_type": "code",
   "execution_count": 10,
   "id": "6f8f9889-33b9-47d5-9d1e-19cbc7c7ce90",
   "metadata": {},
   "outputs": [],
   "source": [
    "str = \"Hello\""
   ]
  },
  {
   "cell_type": "code",
   "execution_count": 11,
   "id": "c042918f-b2c6-483a-86e5-b98e4959edfd",
   "metadata": {},
   "outputs": [
    {
     "data": {
      "text/plain": [
       "'--Hello---'"
      ]
     },
     "execution_count": 11,
     "metadata": {},
     "output_type": "execute_result"
    }
   ],
   "source": [
    "str.center(10,\"-\")"
   ]
  },
  {
   "cell_type": "code",
   "execution_count": 12,
   "id": "3b8cf004-1bf1-42aa-b5e5-3f7d631bab08",
   "metadata": {},
   "outputs": [
    {
     "data": {
      "text/plain": [
       "'Hello'"
      ]
     },
     "execution_count": 12,
     "metadata": {},
     "output_type": "execute_result"
    }
   ],
   "source": [
    "str.center(4)"
   ]
  },
  {
   "cell_type": "code",
   "execution_count": null,
   "id": "3de1137f-f105-4adb-89c0-14833c2905f8",
   "metadata": {},
   "outputs": [],
   "source": []
  },
  {
   "cell_type": "code",
   "execution_count": 13,
   "id": "db070423-2d15-4b19-8d16-a69053736892",
   "metadata": {},
   "outputs": [],
   "source": [
    "s = \"ABC123!@#\""
   ]
  },
  {
   "cell_type": "code",
   "execution_count": 14,
   "id": "365eae92-4922-494a-b55c-44299a058dd2",
   "metadata": {},
   "outputs": [
    {
     "data": {
      "text/plain": [
       "False"
      ]
     },
     "execution_count": 14,
     "metadata": {},
     "output_type": "execute_result"
    }
   ],
   "source": [
    "s.isalpha()"
   ]
  },
  {
   "cell_type": "code",
   "execution_count": 15,
   "id": "447df876-a174-4c0c-8e1c-742c4a8b3aff",
   "metadata": {},
   "outputs": [
    {
     "data": {
      "text/plain": [
       "False"
      ]
     },
     "execution_count": 15,
     "metadata": {},
     "output_type": "execute_result"
    }
   ],
   "source": [
    "s.isalnum()"
   ]
  },
  {
   "cell_type": "code",
   "execution_count": null,
   "id": "23a0297e-f5b8-4471-80d5-188679f3f983",
   "metadata": {},
   "outputs": [],
   "source": []
  },
  {
   "cell_type": "code",
   "execution_count": null,
   "id": "7d2e2260-3cf1-48d6-a34c-8fc3ea8bd842",
   "metadata": {},
   "outputs": [],
   "source": []
  },
  {
   "cell_type": "code",
   "execution_count": 16,
   "id": "6ad52b49-891c-4380-a01f-aba43b211674",
   "metadata": {},
   "outputs": [
    {
     "data": {
      "text/plain": [
       "['Hello']"
      ]
     },
     "execution_count": 16,
     "metadata": {},
     "output_type": "execute_result"
    }
   ],
   "source": [
    "str.split()"
   ]
  },
  {
   "cell_type": "code",
   "execution_count": 17,
   "id": "95545f2a-35b4-47f0-a6e6-9665b882fc30",
   "metadata": {},
   "outputs": [
    {
     "data": {
      "text/plain": [
       "['Hello']"
      ]
     },
     "execution_count": 17,
     "metadata": {},
     "output_type": "execute_result"
    }
   ],
   "source": [
    "str.split(\"s\")"
   ]
  },
  {
   "cell_type": "code",
   "execution_count": 18,
   "id": "ffebe79b-765f-46f7-b07a-7403b24d5da5",
   "metadata": {},
   "outputs": [],
   "source": [
    "name = \"report_2024_final.txt\""
   ]
  },
  {
   "cell_type": "code",
   "execution_count": 19,
   "id": "8df28b45-7d29-4b0c-9421-f001d6c59637",
   "metadata": {},
   "outputs": [],
   "source": [
    "year = name[7:11]"
   ]
  },
  {
   "cell_type": "code",
   "execution_count": 20,
   "id": "52b19dcf-ee5d-4886-b814-ffadb1d3ccdd",
   "metadata": {},
   "outputs": [
    {
     "data": {
      "text/plain": [
       "'report_2024_final'"
      ]
     },
     "execution_count": 20,
     "metadata": {},
     "output_type": "execute_result"
    }
   ],
   "source": [
    "# print(name.replace(\".txt\" , \"\"))\n",
    "name.removesuffix(\".txt\")"
   ]
  },
  {
   "cell_type": "code",
   "execution_count": 21,
   "id": "6ca3c069-35e4-4d89-8581-94f9d0b70097",
   "metadata": {},
   "outputs": [],
   "source": [
    "# \"Final Report (2024)\""
   ]
  },
  {
   "cell_type": "code",
   "execution_count": 22,
   "id": "f8d7e483-378e-48cb-9b9e-05c4c8d895b2",
   "metadata": {},
   "outputs": [
    {
     "name": "stdout",
     "output_type": "stream",
     "text": [
      "Final Report (2024)\n"
     ]
    }
   ],
   "source": [
    "print(f\"final Report ({year})\".title())"
   ]
  },
  {
   "cell_type": "code",
   "execution_count": null,
   "id": "3773d75b-a61f-4131-93a1-c6e4f09ba3b9",
   "metadata": {},
   "outputs": [],
   "source": []
  },
  {
   "cell_type": "code",
   "execution_count": 23,
   "id": "1de5c492-ae82-4b8a-8aee-4cf38d112a43",
   "metadata": {},
   "outputs": [],
   "source": [
    "str = \"RaceCar\""
   ]
  },
  {
   "cell_type": "code",
   "execution_count": null,
   "id": "77bc1c2d-2d72-4002-bb93-f41a9cfa1b28",
   "metadata": {},
   "outputs": [],
   "source": []
  },
  {
   "cell_type": "code",
   "execution_count": 24,
   "id": "bf1bf787-1cae-4f29-af22-7aad4a0a255d",
   "metadata": {},
   "outputs": [],
   "source": [
    "s = \"ABC123!@#\""
   ]
  },
  {
   "cell_type": "code",
   "execution_count": 25,
   "id": "3ac2afe3-6a74-4370-a47d-07c54b4981fa",
   "metadata": {},
   "outputs": [],
   "source": [
    "count = 0\n",
    "for x in range(len(s)):\n",
    "    if (s[x].isdigit() == True ):\n",
    "        count+=1"
   ]
  },
  {
   "cell_type": "code",
   "execution_count": 26,
   "id": "197747ef-f426-4a96-be19-8bbbcb968eca",
   "metadata": {},
   "outputs": [
    {
     "name": "stdout",
     "output_type": "stream",
     "text": [
      "3\n"
     ]
    }
   ],
   "source": [
    "print(count)"
   ]
  },
  {
   "cell_type": "code",
   "execution_count": 27,
   "id": "5ad2772a-e9b5-459b-8ee3-35a1b7ef71e1",
   "metadata": {},
   "outputs": [
    {
     "data": {
      "text/plain": [
       "'ABC123!@#'"
      ]
     },
     "execution_count": 27,
     "metadata": {},
     "output_type": "execute_result"
    }
   ],
   "source": [
    "s"
   ]
  },
  {
   "cell_type": "code",
   "execution_count": 28,
   "id": "ed53be3f-b696-4c62-b157-c1471c91a38c",
   "metadata": {},
   "outputs": [
    {
     "data": {
      "text/plain": [
       "1"
      ]
     },
     "execution_count": 28,
     "metadata": {},
     "output_type": "execute_result"
    }
   ],
   "source": [
    "s.count('A')"
   ]
  },
  {
   "cell_type": "code",
   "execution_count": 29,
   "id": "71b9449c-da6f-4b84-aa22-f47e1a0155d9",
   "metadata": {},
   "outputs": [],
   "source": [
    "count = 0\n",
    "for x in range(len(s)):\n",
    "    if (s[x].isalnum() == False ):\n",
    "        count+=1"
   ]
  },
  {
   "cell_type": "code",
   "execution_count": 30,
   "id": "27f5ac5e-3065-4854-9e78-5e4f5666726d",
   "metadata": {},
   "outputs": [
    {
     "name": "stdout",
     "output_type": "stream",
     "text": [
      "3\n"
     ]
    }
   ],
   "source": [
    "print(count)"
   ]
  },
  {
   "cell_type": "code",
   "execution_count": 1,
   "id": "a123b597-9555-4280-be49-60a72c37fb12",
   "metadata": {},
   "outputs": [
    {
     "data": {
      "text/plain": [
       "True"
      ]
     },
     "execution_count": 1,
     "metadata": {},
     "output_type": "execute_result"
    }
   ],
   "source": [
    "\"_\".isidentifier()"
   ]
  },
  {
   "cell_type": "code",
   "execution_count": 3,
   "id": "26d6d38f-ab1f-41c5-ad54-777e6611360e",
   "metadata": {},
   "outputs": [
    {
     "data": {
      "text/plain": [
       "False"
      ]
     },
     "execution_count": 3,
     "metadata": {},
     "output_type": "execute_result"
    }
   ],
   "source": [
    "\"\".isidentifier()"
   ]
  },
  {
   "cell_type": "code",
   "execution_count": 32,
   "id": "408ff48f-8038-4e5f-ae7c-4f2a5a7f7ca9",
   "metadata": {},
   "outputs": [
    {
     "name": "stdout",
     "output_type": "stream",
     "text": [
      "range(0, 10)\n"
     ]
    }
   ],
   "source": [
    "print(range(10))"
   ]
  },
  {
   "cell_type": "code",
   "execution_count": 31,
   "id": "48a74d32-414b-432f-b4be-8edc36a99ad4",
   "metadata": {},
   "outputs": [
    {
     "name": "stdout",
     "output_type": "stream",
     "text": [
      "0 1 2 3 4 5 6 7 8 9\n"
     ]
    }
   ],
   "source": [
    "print(*range(10))"
   ]
  },
  {
   "cell_type": "code",
   "execution_count": 36,
   "id": "eb0b9e24-50ae-40f1-ba37-4396578f5d37",
   "metadata": {},
   "outputs": [
    {
     "name": "stdout",
     "output_type": "stream",
     "text": [
      "1 3 5 7 9\n"
     ]
    }
   ],
   "source": [
    "print(*range(1,10,2))"
   ]
  },
  {
   "cell_type": "code",
   "execution_count": null,
   "id": "4872eeb8-c865-4fd9-b171-6087eb10f70d",
   "metadata": {},
   "outputs": [],
   "source": []
  },
  {
   "cell_type": "code",
   "execution_count": 40,
   "id": "b3677385-877b-42db-9bca-d48cef8a639d",
   "metadata": {},
   "outputs": [
    {
     "name": "stdin",
     "output_type": "stream",
     "text": [
      "Enter Number : - 5\n"
     ]
    },
    {
     "name": "stdout",
     "output_type": "stream",
     "text": [
      "5\n",
      "10\n",
      "15\n",
      "20\n",
      "25\n",
      "30\n",
      "35\n",
      "40\n",
      "45\n",
      "50\n"
     ]
    }
   ],
   "source": [
    "num = int(input(\"Enter Number : -\"))\n",
    "print(*range(num , num*10+1 , num ), sep=\"\\n\")"
   ]
  },
  {
   "cell_type": "code",
   "execution_count": 41,
   "id": "a411cfc1-6173-44c0-b330-3720e18780a4",
   "metadata": {},
   "outputs": [],
   "source": [
    "s = \"ABC123!@#\""
   ]
  },
  {
   "cell_type": "code",
   "execution_count": 43,
   "id": "ab1f229d-b25c-4fad-b786-f18ad1fd9f3c",
   "metadata": {},
   "outputs": [
    {
     "name": "stdin",
     "output_type": "stream",
     "text": [
      "Enter day :  2\n"
     ]
    },
    {
     "data": {
      "text/plain": [
       "'Tuesday'"
      ]
     },
     "execution_count": 43,
     "metadata": {},
     "output_type": "execute_result"
    }
   ],
   "source": [
    "data = {\n",
    "    0 :  \"Sunday\",\n",
    "    1 :  \"Monday\",\n",
    "    2 :  \"Tuesday\",\n",
    "    3 :  \"Wednesday\",\n",
    "    4 :  \"Thrusday\",\n",
    "    5 :  \"friday\",\n",
    "    6 :  \"Saturday\"\n",
    "}\n",
    "\n",
    "day = int(input(\"Enter day : \"))\n",
    "data[day]"
   ]
  },
  {
   "cell_type": "code",
   "execution_count": 1,
   "id": "7d41de87-7800-4e60-9e8b-c0a45af77c2e",
   "metadata": {},
   "outputs": [],
   "source": [
    "ls = [1,2,3,4,5]"
   ]
  },
  {
   "cell_type": "code",
   "execution_count": 2,
   "id": "e9d5fc02-b1b4-4777-8860-a944a8314cc0",
   "metadata": {},
   "outputs": [
    {
     "name": "stdout",
     "output_type": "stream",
     "text": [
      "[1, 2, 3, 4, 5, 1, 2, 3, 4, 5, 1, 2, 3, 4, 5]\n"
     ]
    }
   ],
   "source": [
    "print(ls*3)"
   ]
  },
  {
   "cell_type": "code",
   "execution_count": 9,
   "id": "e30f1b98-af19-4968-9717-157417c59e59",
   "metadata": {},
   "outputs": [],
   "source": [
    "ls = [\"Aman\",\"Rahul\",\"Aman\",\"Aryan\",\"Rahul\"]"
   ]
  },
  {
   "cell_type": "code",
   "execution_count": 10,
   "id": "75577921-e991-4698-aae6-cc99d1003993",
   "metadata": {},
   "outputs": [],
   "source": [
    "st = set(ls)"
   ]
  },
  {
   "cell_type": "code",
   "execution_count": 11,
   "id": "ba493c19-7d16-498f-82fe-f4c5fa77183c",
   "metadata": {},
   "outputs": [],
   "source": [
    "ls = list(st)"
   ]
  },
  {
   "cell_type": "code",
   "execution_count": 12,
   "id": "9deef5dc-ac6c-460b-8b60-06110e8bb513",
   "metadata": {},
   "outputs": [
    {
     "data": {
      "text/plain": [
       "['Aryan', 'Rahul', 'Aman']"
      ]
     },
     "execution_count": 12,
     "metadata": {},
     "output_type": "execute_result"
    }
   ],
   "source": [
    "ls"
   ]
  },
  {
   "cell_type": "code",
   "execution_count": null,
   "id": "ffca27d1-73d4-48e1-9ffe-f888ddc90d31",
   "metadata": {},
   "outputs": [],
   "source": []
  },
  {
   "cell_type": "code",
   "execution_count": 15,
   "id": "0f9dc0bf-3ba4-4b8f-b407-17330173a791",
   "metadata": {},
   "outputs": [
    {
     "name": "stdin",
     "output_type": "stream",
     "text": [
      "Enter Number :-  233\n"
     ]
    },
    {
     "name": "stdout",
     "output_type": "stream",
     "text": [
      "Odd\n"
     ]
    }
   ],
   "source": [
    "num = int(input(\"Enter Number :- \"))\n",
    "# num = 10\n",
    "if (num%2 == 0):\n",
    "    print(\"Even\")\n",
    "else:\n",
    "    print(\"Odd\")"
   ]
  },
  {
   "cell_type": "code",
   "execution_count": 17,
   "id": "f3ed1677-9f07-42f2-a2a4-1f5b173f38c1",
   "metadata": {},
   "outputs": [
    {
     "name": "stdin",
     "output_type": "stream",
     "text": [
      "Enter Number :-  -12\n"
     ]
    },
    {
     "name": "stdout",
     "output_type": "stream",
     "text": [
      "Negative\n"
     ]
    }
   ],
   "source": [
    "num = int(input(\"Enter Number :- \"))\n",
    "# num = 10\n",
    "if (num > 0):\n",
    "    print(\"Positive\")\n",
    "elif (num < 0):\n",
    "    print(\"Negative\")\n",
    "else:\n",
    "    print(\"Zero\")"
   ]
  },
  {
   "cell_type": "code",
   "execution_count": 14,
   "id": "ae56fac5-a09f-4ea5-92f5-56d75f7bc5be",
   "metadata": {},
   "outputs": [
    {
     "name": "stdout",
     "output_type": "stream",
     "text": [
      "Even\n"
     ]
    }
   ],
   "source": []
  },
  {
   "cell_type": "code",
   "execution_count": 4,
   "id": "e629d884-a1f7-4720-9a5b-6fd9389fbf35",
   "metadata": {},
   "outputs": [
    {
     "name": "stdin",
     "output_type": "stream",
     "text": [
      "Enter a Valid Float number :-  42453474554474.01\n"
     ]
    },
    {
     "name": "stdout",
     "output_type": "stream",
     "text": [
      "42453474554474.01 is a Valid Float number Which Have 2 Digit after '.' decimal.\n"
     ]
    }
   ],
   "source": [
    "num = input(\"Enter a Valid Float number :- \")\n",
    "\n",
    "if num[-3] == '.':\n",
    "    print(f\"{num} is a Valid Float number Which Have 2 Digit after '.' decimal.\")\n",
    "else:\n",
    "    print(\"Na Munna Na\")"
   ]
  },
  {
   "cell_type": "code",
   "execution_count": 23,
   "id": "cc434831-13cd-47e9-a788-0000ede05e1f",
   "metadata": {},
   "outputs": [
    {
     "name": "stdin",
     "output_type": "stream",
     "text": [
      "Enter a number:-  55\n"
     ]
    },
    {
     "name": "stdout",
     "output_type": "stream",
     "text": [
      "False\n"
     ]
    }
   ],
   "source": [
    "num = int(input(\"Enter a number:- \"))\n",
    "\n",
    "if (num%5) and (num%11) :\n",
    "    print(\"True\")\n",
    "else:\n",
    "    print(\"False\")"
   ]
  },
  {
   "cell_type": "code",
   "execution_count": 28,
   "id": "05df004d-f24c-4c71-98d5-0165dacfdb06",
   "metadata": {},
   "outputs": [
    {
     "name": "stdin",
     "output_type": "stream",
     "text": [
      "Enter any value:-  !#ff\n"
     ]
    },
    {
     "name": "stdout",
     "output_type": "stream",
     "text": [
      "!#ff is not Alphabet.\n"
     ]
    }
   ],
   "source": [
    "str = input(\"Enter any value:- \")\n",
    "\n",
    "if str.isalpha():\n",
    "    print(f\"{str} is Alphabet.\")\n",
    "else:\n",
    "    print(f\"{str} is not Alphabet.\")"
   ]
  },
  {
   "cell_type": "code",
   "execution_count": 30,
   "id": "e05361a0-71a0-4ec5-a16d-d6a40a4e0351",
   "metadata": {},
   "outputs": [
    {
     "name": "stdin",
     "output_type": "stream",
     "text": [
      "Enter any Alphabet :-  q\n"
     ]
    },
    {
     "name": "stdout",
     "output_type": "stream",
     "text": [
      "q is Consonent.\n"
     ]
    }
   ],
   "source": [
    "str = input(\"Enter any Alphabet :- \")\n",
    "\n",
    "vowel = ('a','e','i','o','u','A','E','I','O','U')\n",
    "\n",
    "if str in vowel :\n",
    "    print(f\"{str} is a Vowel.\")\n",
    "else:\n",
    "    print(f\"{str} is Consonent.\")"
   ]
  },
  {
   "cell_type": "code",
   "execution_count": 33,
   "id": "d02b1ecd-5bfd-474e-95a0-1c2b16f3570d",
   "metadata": {},
   "outputs": [
    {
     "name": "stdin",
     "output_type": "stream",
     "text": [
      "Enter any Character :-  ,\n"
     ]
    },
    {
     "name": "stdout",
     "output_type": "stream",
     "text": [
      ", is Special Character.\n"
     ]
    }
   ],
   "source": [
    "str = input(\"Enter any Character :- \")\n",
    "alpha = str.isalpha()\n",
    "num = str.isdigit()\n",
    "s = str.isalnum()\n",
    "\n",
    "if alpha:\n",
    "    print(f\"{str} is Alphabet.\")\n",
    "elif num:\n",
    "    print(f\"{str} is Digit.\")\n",
    "elif not s:\n",
    "    print(f\"{str} is Special Character.\")\n",
    "else:\n",
    "    pass"
   ]
  },
  {
   "cell_type": "code",
   "execution_count": 42,
   "id": "707542de-5e49-4c7f-9bd7-4c878f9ea2f3",
   "metadata": {},
   "outputs": [
    {
     "name": "stdin",
     "output_type": "stream",
     "text": [
      "Enter Three angles of the triangle :-   190 23 43\n"
     ]
    },
    {
     "name": "stdout",
     "output_type": "stream",
     "text": [
      "😂😂\n"
     ]
    }
   ],
   "source": [
    "angle1 , angle2 , angle3 =  map(float, input(\"Enter Three angles of the triangle :-  \").split())\n",
    "\n",
    "sum = angle1 + angle2 + angle3\n",
    "\n",
    "# if sum == 180 and (angle1 and angle2 and angle3)>0:\n",
    "if sum == 180 and angle1 > 0 and angle2 > 0 and angle3 > 0:\n",
    "    print(\"hureee\")\n",
    "else:\n",
    "    print(\"😂😂\")"
   ]
  },
  {
   "cell_type": "code",
   "execution_count": 47,
   "id": "ef6ed88c-09e7-468a-a377-34bfcc13f8ac",
   "metadata": {},
   "outputs": [
    {
     "name": "stdin",
     "output_type": "stream",
     "text": [
      "Enter all Three Sides of triangle:-   2 7 9 \n"
     ]
    },
    {
     "name": "stdout",
     "output_type": "stream",
     "text": [
      "This is not a Valid Tringle.\n"
     ]
    }
   ],
   "source": [
    "a , b , c = map(int, input(\"Enter all Three Sides of triangle:- \").split())\n",
    "\n",
    "if a + b > c and a + c > b and b + c > a :\n",
    "    print(\"This is the Valid Triangle.\")\n",
    "else:\n",
    "    print(\"This is not a Valid Tringle.\")"
   ]
  },
  {
   "cell_type": "code",
   "execution_count": 6,
   "id": "be3339a8-9222-49b9-9764-3189800056f7",
   "metadata": {},
   "outputs": [
    {
     "name": "stdin",
     "output_type": "stream",
     "text": [
      "Enter your Electricty Unit:-  25\n"
     ]
    },
    {
     "name": "stdout",
     "output_type": "stream",
     "text": [
      "Your Total Bill is : 15.0\n"
     ]
    }
   ],
   "source": [
    "unit = int(input(\"Enter your Electricty Unit:- \"))\n",
    "\n",
    "if unit in range(0,51) :\n",
    "    bill = unit * 0.5\n",
    "elif unit in range(51 , 151) :\n",
    "    bill = 0.5 * 50 + (unit - 50) * 0.75\n",
    "elif unit in range(151 , 251) :\n",
    "    bill = 0.5 * 50 + 100 * 0.75 +(unit - 150)*1.20\n",
    "else:\n",
    "    bill = 0.5 * 50 + 100 * 0.75 + 100 * 1.20 +(unit - 250)*1.50\n",
    "\n",
    "total_bill = bill + (bill * 0.2)\n",
    "print(f\"Your Total Bill is : {total_bill}\")"
   ]
  },
  {
   "cell_type": "code",
   "execution_count": 7,
   "id": "b8736894-1993-402b-b9c8-376da1d09feb",
   "metadata": {},
   "outputs": [
    {
     "name": "stdin",
     "output_type": "stream",
     "text": [
      "Enter your Electricty Unit:-  25\n"
     ]
    },
    {
     "name": "stdout",
     "output_type": "stream",
     "text": [
      "Your Total Bill is : 15.0\n"
     ]
    }
   ],
   "source": [
    "unit = int(input(\"Enter your Electricty Unit:- \"))\n",
    "\n",
    "if unit <= 50 :\n",
    "    bill = unit * 0.5\n",
    "elif unit <= 150 and unit > 50 :\n",
    "    bill = 0.5 * 50 + (unit - 50) * 0.75\n",
    "elif unit <= 250 and unit > 150 :\n",
    "    bill = 0.5 * 50 + 100 * 0.75 +(unit - 150)*1.20\n",
    "else:\n",
    "    bill = 0.5 * 50 + 100 * 0.75 + 100 * 1.20 +(unit - 250)*1.50\n",
    "\n",
    "total_bill = bill + (bill * 0.2)\n",
    "print(f\"Your Total Bill is : {total_bill}\")\n",
    "    "
   ]
  },
  {
   "cell_type": "code",
   "execution_count": 11,
   "id": "a612ddf5-63e1-4b92-bd69-f67886ac4c3e",
   "metadata": {},
   "outputs": [
    {
     "name": "stdout",
     "output_type": "stream",
     "text": [
      "654321"
     ]
    }
   ],
   "source": [
    "c = 123456\n",
    "\n",
    "while c:\n",
    "    print(c%10 , end=\"\")\n",
    "    c//=10"
   ]
  },
  {
   "cell_type": "code",
   "execution_count": 12,
   "id": "040b1b83-41c1-4bcc-94d1-bd3dcd46c682",
   "metadata": {},
   "outputs": [
    {
     "name": "stdout",
     "output_type": "stream",
     "text": [
      "10\n",
      "9\n",
      "8\n",
      "7\n",
      "6\n",
      "5\n",
      "4\n",
      "3\n",
      "2\n",
      "1\n"
     ]
    }
   ],
   "source": [
    "c = 10\n",
    "while c > 0:\n",
    "    print(c)\n",
    "    c -= 1"
   ]
  },
  {
   "cell_type": "code",
   "execution_count": null,
   "id": "d7d05682-e687-400e-bdf0-4f99a0cb0cd5",
   "metadata": {},
   "outputs": [],
   "source": [
    "data = [\n",
    "    [\"Sachin\" , 50 ,70 ,60],\n",
    "    [\"rajat\" , 80 , 76 , 80];\n",
    "    [\"rahul\" , 90 ,45 ,60]\n",
    "]"
   ]
  },
  {
   "cell_type": "code",
   "execution_count": null,
   "id": "0f50ef15-6045-44e1-82bc-41923811ca65",
   "metadata": {},
   "outputs": [],
   "source": []
  },
  {
   "cell_type": "code",
   "execution_count": 3,
   "id": "9e5e2722-1710-4f9e-8c2c-4450e1336dd6",
   "metadata": {},
   "outputs": [
    {
     "name": "stdin",
     "output_type": "stream",
     "text": [
      "Enter any String :-  amig kumar verma \n"
     ]
    },
    {
     "name": "stdout",
     "output_type": "stream",
     "text": [
      "There are 7 number of vowels present in the amig kumar verma.\n"
     ]
    }
   ],
   "source": [
    "str = input(\"Enter any String :- \").strip().lower()\n",
    "\n",
    "vowel = ['a' , 'e' , 'i' , 'o' , 'u']\n",
    "\n",
    "count = 1\n",
    "for ch in str:\n",
    "    if ch in vowel:\n",
    "        count += 1\n",
    "else:\n",
    "     print(f\"There are {count} number of vowels present in the {str}.\")"
   ]
  },
  {
   "cell_type": "code",
   "execution_count": 5,
   "id": "618d5052-a6a3-42a7-ae6e-a3d8a380a454",
   "metadata": {},
   "outputs": [
    {
     "name": "stdout",
     "output_type": "stream",
     "text": [
      "[1, 4, 9, 16, 25, 36, 49, 64, 81, 100, 121, 144, 169, 196, 225, 256, 289, 324, 361, 400]\n"
     ]
    }
   ],
   "source": [
    "lst = [1,2,3,4,5,6,7,8,9,10,11,12,13,14,15,16,17,18,19,20]\n",
    "\n",
    "sq_lst = []\n",
    "x = 0\n",
    "while x < len(lst):\n",
    "    sq_lst.append(lst[x]**2)\n",
    "    x += 1\n",
    "else:\n",
    "    print(sq_lst)"
   ]
  },
  {
   "cell_type": "code",
   "execution_count": 12,
   "id": "274b5319-8633-46e5-afe8-049b0414378b",
   "metadata": {},
   "outputs": [
    {
     "name": "stdout",
     "output_type": "stream",
     "text": [
      "77\n"
     ]
    }
   ],
   "source": [
    "nums = [4, 9, 2, 6,8,9,23,43,77,1,2,4]\n",
    "\n",
    "max_ = 0\n",
    "# i = 0\n",
    "# while i < len(nums):\n",
    "for i in range(len(nums)):\n",
    "    temp = nums[i]\n",
    "    i += 1\n",
    "    if temp > max_:\n",
    "        max_ = temp\n",
    "else:\n",
    "    print(max_)"
   ]
  },
  {
   "cell_type": "code",
   "execution_count": 22,
   "id": "3af79df9-baba-4c10-acde-10f8ab7a0e49",
   "metadata": {},
   "outputs": [
    {
     "data": {
      "text/plain": [
       "'olleh'"
      ]
     },
     "execution_count": 22,
     "metadata": {},
     "output_type": "execute_result"
    }
   ],
   "source": [
    "str = \"hello\"\n",
    "new_str = \"\"\n",
    "x = 1\n",
    "while x <= len(str):\n",
    "    new_str += str[-x]\n",
    "    x += 1\n",
    "new_str"
   ]
  },
  {
   "cell_type": "code",
   "execution_count": 9,
   "id": "3b8eeceb-59ee-499d-a3e6-5ff689d7f2ee",
   "metadata": {},
   "outputs": [
    {
     "name": "stdin",
     "output_type": "stream",
     "text": [
      "Enter a Number :-  121\n"
     ]
    },
    {
     "name": "stdout",
     "output_type": "stream",
     "text": [
      "The Number 121 is Armstrong.\n"
     ]
    }
   ],
   "source": [
    "num = int(input(\"Enter a Number :- \"))\n",
    "temp = num\n",
    "arm = 0\n",
    "i = 0\n",
    "while i < num:\n",
    "    mod = num % 10\n",
    "    arm= arm + mod**3\n",
    "    i+=1\n",
    "\n",
    "if arm == temp:\n",
    "    print(f\"The Number {temp} is Armstrong.\")\n",
    "else:\n",
    "    print(f\"The Number {temp} is not Armstrong.\")"
   ]
  },
  {
   "cell_type": "code",
   "execution_count": 1,
   "id": "8cf9693d-57ee-4953-b673-ed3ae26f40b2",
   "metadata": {},
   "outputs": [],
   "source": [
    "dt = {'apples': 10, 'oranges': 15}"
   ]
  },
  {
   "cell_type": "code",
   "execution_count": null,
   "id": "4228b553-a8f3-458b-b5db-362a94b5a385",
   "metadata": {},
   "outputs": [],
   "source": []
  },
  {
   "cell_type": "code",
   "execution_count": 5,
   "id": "67341350-d932-4297-a970-0a245d719d93",
   "metadata": {},
   "outputs": [
    {
     "data": {
      "text/plain": [
       "['__call__',\n",
       " '__class__',\n",
       " '__delattr__',\n",
       " '__dir__',\n",
       " '__doc__',\n",
       " '__eq__',\n",
       " '__format__',\n",
       " '__ge__',\n",
       " '__get__',\n",
       " '__getattribute__',\n",
       " '__getstate__',\n",
       " '__gt__',\n",
       " '__hash__',\n",
       " '__init__',\n",
       " '__init_subclass__',\n",
       " '__le__',\n",
       " '__lt__',\n",
       " '__name__',\n",
       " '__ne__',\n",
       " '__new__',\n",
       " '__objclass__',\n",
       " '__qualname__',\n",
       " '__reduce__',\n",
       " '__reduce_ex__',\n",
       " '__repr__',\n",
       " '__setattr__',\n",
       " '__sizeof__',\n",
       " '__str__',\n",
       " '__subclasshook__',\n",
       " '__text_signature__']"
      ]
     },
     "execution_count": 5,
     "metadata": {},
     "output_type": "execute_result"
    }
   ],
   "source": [
    "dir(str.isalpha)"
   ]
  },
  {
   "cell_type": "code",
   "execution_count": null,
   "id": "825d6f50-5778-45a5-8918-ac10d7bac97b",
   "metadata": {},
   "outputs": [],
   "source": []
  },
  {
   "cell_type": "code",
   "execution_count": 25,
   "id": "9549b033-08fa-4dc8-bab3-af5b3fd42954",
   "metadata": {},
   "outputs": [
    {
     "name": "stderr",
     "output_type": "stream",
     "text": [
      "<>:2: SyntaxWarning: invalid escape sequence '\\:'\n",
      "<>:2: SyntaxWarning: invalid escape sequence '\\:'\n",
      "C:\\Users\\HP\\AppData\\Local\\Temp\\ipykernel_5088\\4086116441.py:2: SyntaxWarning: invalid escape sequence '\\:'\n",
      "  sp = \"\"\"~!@#$%^&*(_+={}|[-]\\:\";'<>)?,./\"\"\"\n"
     ]
    },
    {
     "name": "stdin",
     "output_type": "stream",
     "text": [
      "--> Wow! Did you see that? (I can't believe it.) Let's meet at 5:00 p.m. — bring your laptop, notebook, and pens; don't forget your ID #12345! Also, email me at example@example.com\n"
     ]
    },
    {
     "name": "stdout",
     "output_type": "stream",
     "text": [
      "['~', '!', '@', '#', '$', '%', '^', '&', '*', '(', '_', '+', '=', '{', '}', '|', '[', '-', ']', '\\\\', ':', '\"', ';', \"'\", '<', '>', ')', '?', ',', '.', '/']\n",
      "Wow Did you see that I cant believe it Lets meet at 500 pm — bring your laptop notebook and pens dont forget your ID 12345 Also email me at exampleexamplecom\n"
     ]
    }
   ],
   "source": [
    "str = input(\"-->\")\n",
    "sp = \"\"\"~!@#$%^&*(_+={}|[-]\\:\";'<>)?,./\"\"\"\n",
    "lst = list(sp)\n",
    "\n",
    "print(lst)\n",
    "text = list(str)\n",
    "# print(text)\n",
    "for x in text[:]:\n",
    "    if x in lst:\n",
    "        text.remove(x)\n",
    "    else:\n",
    "        pass\n",
    "\n",
    "else:\n",
    "    str = \"\".join(text)\n",
    "    print(str)"
   ]
  },
  {
   "cell_type": "code",
   "execution_count": null,
   "id": "4b7425f7-6339-4d0b-8cc4-2a73345f731f",
   "metadata": {},
   "outputs": [],
   "source": []
  },
  {
   "cell_type": "code",
   "execution_count": null,
   "id": "881c4d89-96d7-4d79-b9db-36f6e8548a57",
   "metadata": {},
   "outputs": [],
   "source": []
  },
  {
   "cell_type": "code",
   "execution_count": 73,
   "id": "312bbab2-f37d-472c-85a2-dd0c0663cfba",
   "metadata": {},
   "outputs": [
    {
     "name": "stdin",
     "output_type": "stream",
     "text": [
      "Enter the number of row :- 2\n",
      "Enter the number of Column :- 2\n",
      "Enter the Value at Index 0,0 ;- 1\n",
      "Enter the Value at Index 0,1 ;- 2\n"
     ]
    },
    {
     "name": "stdout",
     "output_type": "stream",
     "text": [
      "\n"
     ]
    },
    {
     "name": "stdin",
     "output_type": "stream",
     "text": [
      "Enter the Value at Index 1,0 ;- 3\n",
      "Enter the Value at Index 1,1 ;- 4\n"
     ]
    },
    {
     "name": "stdout",
     "output_type": "stream",
     "text": [
      "\n",
      "[[1, 2], [3, 4]]\n"
     ]
    }
   ],
   "source": [
    "m = int(input(\"Enter the number of row :-\"))\n",
    "n = int(input(\"Enter the number of Column :-\"))\n",
    "\n",
    "lst1 = []\n",
    "\n",
    "\n",
    "for i in range(m):\n",
    "    # print(\"[ \", end=\"\")\n",
    "    lst2 = []\n",
    "    print(end=\"\")\n",
    "    for j in range(n):\n",
    "        data = int(input(f\"Enter the Value at Index {i},{j} ;-\"))\n",
    "        lst2.append(data)\n",
    "        # lst2\n",
    "    # print(\"]\",end = \"\\n\")\n",
    "    lst1.append(lst2)\n",
    "    print(end = \"\\n\")\n",
    "# lst1.append(lst2)   \n",
    "print(lst1)\n",
    "\n",
    "for i in lst1:\n",
    "    lst1[m:n]"
   ]
  },
  {
   "cell_type": "code",
   "execution_count": null,
   "id": "6388808a-ffd7-42d2-90a6-b452e48975ab",
   "metadata": {},
   "outputs": [],
   "source": []
  }
 ],
 "metadata": {
  "kernelspec": {
   "display_name": "Python [conda env:base] *",
   "language": "python",
   "name": "conda-base-py"
  },
  "language_info": {
   "codemirror_mode": {
    "name": "ipython",
    "version": 3
   },
   "file_extension": ".py",
   "mimetype": "text/x-python",
   "name": "python",
   "nbconvert_exporter": "python",
   "pygments_lexer": "ipython3",
   "version": "3.12.7"
  }
 },
 "nbformat": 4,
 "nbformat_minor": 5
}
