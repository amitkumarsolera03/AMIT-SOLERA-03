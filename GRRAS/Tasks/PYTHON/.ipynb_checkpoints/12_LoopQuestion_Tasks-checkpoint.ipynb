{
 "cells": [
  {
   "cell_type": "markdown",
   "id": "7136e027-0270-4a33-858a-0683dc9530d9",
   "metadata": {},
   "source": [
    "# 1. Write a code to implement Guess Game Guess Game \n",
    "\n",
    "* constraints / Rules \n",
    "    \n",
    "    you have 5 chance to guess correct number which is choosen by computer / friend \n",
    "    \n",
    "    Range which is allowed to select a number 1-50 \n",
    "    \n",
    "    After each guess you should give some tips / hints to user to improve their chance of winning \n",
    "    \n",
    "    for example if user guess a number which is higher than actual number you should say `hint: think a low number! \n",
    "    \n",
    "    if user guess a number which is lower than actual number you should say `hint: think a big number!` \n",
    "    \n",
    "          if user wins we will show a congrats messege and stop our game \n",
    "    \n",
    "          if any time user guess is out of limit than print a warning message saying Think in Limits 1-50 only! \n",
    "\n",
    "      but we do not count this as a chance "
   ]
  },
  {
   "cell_type": "markdown",
   "id": "eea9a7f8-f4d2-4bbd-ae2d-a3022b3c6de9",
   "metadata": {},
   "source": [
    "# 2. Solve this problem https://www.hackerrank.com/challenges/list-comprehensions/problem  "
   ]
  },
  {
   "cell_type": "markdown",
   "id": "b527404b-604f-497c-87cd-17a4e45c55eb",
   "metadata": {},
   "source": [
    "# 3. Solve this problem https://www.hackerrank.com/challenges/python-lists/problem  "
   ]
  },
  {
   "cell_type": "markdown",
   "id": "a78f4969-e4a9-42aa-953c-6b1c82e1463f",
   "metadata": {},
   "source": [
    "# 4. Solve this problem https://www.hackerrank.com/challenges/finding-the-percentage/problem"
   ]
  },
  {
   "cell_type": "markdown",
   "id": "c2664a9e-6c5f-429b-bff4-a1b228708bab",
   "metadata": {},
   "source": [
    "# 5. Write a program to sort a list without using inbuilt functions (list.sort not allowed) \n",
    "\n",
    "- Using Bubble Sort Algorithm \n",
    "\n",
    "- Using Insertion Sort Algorithm  \n",
    "\n",
    "- Using Selection Sort Algorithm "
   ]
  },
  {
   "cell_type": "code",
   "execution_count": null,
   "id": "2fecacde-2205-4b58-84e2-7a34492b541f",
   "metadata": {},
   "outputs": [],
   "source": []
  },
  {
   "cell_type": "code",
   "execution_count": null,
   "id": "d749dac1-d829-4e73-aa56-aad04c184088",
   "metadata": {},
   "outputs": [],
   "source": []
  }
 ],
 "metadata": {
  "kernelspec": {
   "display_name": "Python [conda env:base] *",
   "language": "python",
   "name": "conda-base-py"
  },
  "language_info": {
   "codemirror_mode": {
    "name": "ipython",
    "version": 3
   },
   "file_extension": ".py",
   "mimetype": "text/x-python",
   "name": "python",
   "nbconvert_exporter": "python",
   "pygments_lexer": "ipython3",
   "version": "3.12.7"
  }
 },
 "nbformat": 4,
 "nbformat_minor": 5
}
