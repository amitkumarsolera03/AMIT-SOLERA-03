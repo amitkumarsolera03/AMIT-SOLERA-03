{
 "cells": [
  {
   "cell_type": "markdown",
   "id": "60ceab2a-26a3-4a14-9cf3-f91d65a0172e",
   "metadata": {},
   "source": [
    "# 1. Create a Cricle class and intialize it with radius. Make two methods getArea and getCircumference inside this class"
   ]
  },
  {
   "cell_type": "markdown",
   "id": "dd131445-a833-4d1e-a035-d2097654bbd4",
   "metadata": {},
   "source": [
    "# 2. Create a Temperature class. Make two methods : \n",
    "1. convertFahrenheit - It will take celsius and will print it into Fahrenheit. \n",
    "2. convertCelsius - It will take Fahrenheit and will convert it into Celsius."
   ]
  },
  {
   "cell_type": "markdown",
   "id": "5676b82b-8ac4-4de8-a2c9-081b08cb3a22",
   "metadata": {},
   "source": [
    "# 3. Create a Student class and initialize it with name and roll number. Make methods to : \n",
    "1. Display - It should display all informations of the student. \n",
    "2. setAge - It should assign age to student \n",
    "3. setMarks - It should assign marks to the student."
   ]
  },
  {
   "cell_type": "markdown",
   "id": "a08e305a-d70d-4acf-86dc-b77fc8094a87",
   "metadata": {},
   "source": [
    "# 4. Create a Time class and initialize it with hours and minutes. \n",
    "1. Make a method addTime which should take two time object and add them. E.g.- (2 hour and min 50)+(1 hr and 20 min) is (4 hr and 10 min) \n",
    "2. Make a method displayTime which should print the time. \n",
    "3. Make a method DisplayMinute which should display the total minutes in the Time. E.g.- (1 hr 2 min) should display 62 minute. "
   ]
  },
  {
   "cell_type": "code",
   "execution_count": null,
   "id": "cde0bc72-682a-4e61-9e0f-d5103386300e",
   "metadata": {},
   "outputs": [],
   "source": []
  }
 ],
 "metadata": {
  "kernelspec": {
   "display_name": "Python [conda env:base] *",
   "language": "python",
   "name": "conda-base-py"
  },
  "language_info": {
   "codemirror_mode": {
    "name": "ipython",
    "version": 3
   },
   "file_extension": ".py",
   "mimetype": "text/x-python",
   "name": "python",
   "nbconvert_exporter": "python",
   "pygments_lexer": "ipython3",
   "version": "3.12.7"
  }
 },
 "nbformat": 4,
 "nbformat_minor": 5
}
