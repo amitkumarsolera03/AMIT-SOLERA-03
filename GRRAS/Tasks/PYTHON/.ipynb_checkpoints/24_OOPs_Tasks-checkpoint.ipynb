{
 "cells": [
  {
   "cell_type": "markdown",
   "id": "57f8177d-e763-4c8c-93d1-90cb0f785546",
   "metadata": {},
   "source": [
    "Assignment 11 \n",
    "\n",
    " \n",
    "# Address Book "
   ]
  },
  {
   "cell_type": "markdown",
   "id": "7769f863-ec89-48e8-a640-7f7b394323e2",
   "metadata": {},
   "source": [
    "## \n",
    "1.  In the next two problems, you’ll be building an address book using object oriented  \n",
    "programming in Python. To begin, you’ll define a Person class. You’ll use this class in  \n",
    "the next problem to build your address book – each entry in your address book will  \n",
    "be an instance of the Person class.  \n",
    "  \n",
    "To begin, define the __init__ and __str__ methods for the Person class. Read the  \n",
    "Python documentation if needed to help you understand what __init__ and __str__  \n",
    "need to do.  \n",
    "  \n",
    "Here’s an example interaction in the Python shell demonstrating how your class  \n",
    "should work after implementing these two methods:  \n",
    "  \n",
    "    >>> Emily = Person(“Zhang”, “Emily”, “5559358150”, \n",
    "    “emzhang@mit.edu”) \n",
    "    >>> print(Emily) \n",
    "    Zhang, Emily -- Phone Number: 5559358150 -- Email \n",
    "    Address(es): emzhang@mit.edu \n",
    "    >>> Wesley = Person(“Graybill”, “Wesley”, “5551940325”, \n",
    "    [‘wgray496@mit.edu’, ‘wdgraybill@gmail.com’]) \n",
    "    >>> print(Wesley)\n",
    "\n",
    "Graybill, Wesley -- Phone Number: 5551940325 -- Email \n",
    "Address(es): wgray496@mit.edu, wdgraybill@gmail.com "
   ]
  },
  {
   "cell_type": "code",
   "execution_count": 1,
   "id": "852c0b8d-dce7-4d65-afda-7a21bedfa3d8",
   "metadata": {},
   "outputs": [],
   "source": [
    "class Person:\n",
    "    def __init__(self):\n",
    "        pass\n",
    "    def __str__(self):\n",
    "        pass\n",
    "\n",
    "    def AddressBook_Data(self , name , ph_no , Email):\n",
    "        self.name = name\n",
    "        self.ph_no = ph_no\n",
    "        self.Email = Email\n",
    "\n",
    "    def print_Data(self):\n",
    "        print()"
   ]
  },
  {
   "cell_type": "code",
   "execution_count": null,
   "id": "9b53d126-5dd2-4414-8d76-202501925f1e",
   "metadata": {},
   "outputs": [],
   "source": []
  },
  {
   "cell_type": "code",
   "execution_count": null,
   "id": "b821e72d-8fa4-4e17-879e-244ab45d86db",
   "metadata": {},
   "outputs": [],
   "source": []
  },
  {
   "cell_type": "code",
   "execution_count": null,
   "id": "07e919a2-732f-4653-9266-6b11ab97a762",
   "metadata": {},
   "outputs": [],
   "source": []
  },
  {
   "cell_type": "code",
   "execution_count": null,
   "id": "fa22c6a4-8a07-4e4c-b1bb-590e8be7995f",
   "metadata": {},
   "outputs": [],
   "source": []
  },
  {
   "cell_type": "code",
   "execution_count": null,
   "id": "c647e197-1af5-4c3e-8adc-bc78c3ee6a39",
   "metadata": {},
   "outputs": [],
   "source": []
  },
  {
   "cell_type": "code",
   "execution_count": null,
   "id": "410fb7bd-3b0e-42fc-9450-12e91d0492fe",
   "metadata": {},
   "outputs": [],
   "source": []
  },
  {
   "cell_type": "markdown",
   "id": "f1c34f32-e834-4bbf-b01d-db637992f8f6",
   "metadata": {},
   "source": [
    "2.  In this problem, you will use your Person class from the previous problem to create  \n",
    "an address book for storing the contacts of your friends and family. It should allow  \n",
    "you to search the address book for a friend, and return their contact information.  \n",
    "  \n",
    "Begin by defining an __init__ method. Don’t forget about Python's builtin dictionary  \n",
    "data type.  \n",
    "  \n",
    "Next, write a method add_contact that allows you to add a new person to the  \n",
    "address book.  \n",
    "  \n",
    "Finally, write a method lookup_contact that looks up a contact by last name. The  \n",
    "method should accept the last name as an argument, and print each contact that  \n",
    "matches the last name on a new line. As an additional challenge, extend this method  \n",
    "to allow users to optionally specify a first name to narrow down the results when  \n",
    "multiple contacts have the same last name. To learn more about optional arguments  \n",
    "in Python, search for terms such as “optional arguments in Python” and “default  \n",
    "arguments in Python”.  \n",
    "  \n",
    "For example, suppose the contact book contains entries for both Ali Kamil, and his  \n",
    "wife Sama Kamil. The following is an example output:  \n",
    "  \n",
    "    >>> a = AddressBook() \n",
    "    >>> a.add_person(Person(“Kamil”, “Ali”, … )) \n",
    "    >>> a.add_person(Person(“Kamil”, “Sama”, … )) \n",
    "    >>> a.lookup_contact(“Kamil”) \n",
    "    Kamil, Ali -- Phone Number: … \n",
    "    Kamil, Sama -- Phone Number: … \n",
    "    >>> a.lookup_contact(“Kamil”, “Ali”) \n",
    "    Kamil, Ali -- Phone Number: … `"
   ]
  },
  {
   "cell_type": "code",
   "execution_count": null,
   "id": "3ec60ba0-d37c-4ed1-a7ef-b2f4de945682",
   "metadata": {},
   "outputs": [],
   "source": []
  }
 ],
 "metadata": {
  "kernelspec": {
   "display_name": "Python [conda env:base] *",
   "language": "python",
   "name": "conda-base-py"
  },
  "language_info": {
   "codemirror_mode": {
    "name": "ipython",
    "version": 3
   },
   "file_extension": ".py",
   "mimetype": "text/x-python",
   "name": "python",
   "nbconvert_exporter": "python",
   "pygments_lexer": "ipython3",
   "version": "3.12.7"
  }
 },
 "nbformat": 4,
 "nbformat_minor": 5
}
