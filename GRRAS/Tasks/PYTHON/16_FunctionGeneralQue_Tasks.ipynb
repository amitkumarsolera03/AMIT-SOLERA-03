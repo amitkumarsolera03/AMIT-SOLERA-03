{
 "cells": [
  {
   "cell_type": "markdown",
   "id": "e37ff94c-1ff6-4ada-82e3-908b0243060e",
   "metadata": {},
   "source": [
    "**Python Tasks – Day16**"
   ]
  },
  {
   "cell_type": "markdown",
   "id": "4e31022c-a8c9-4528-8251-f81402a920d3",
   "metadata": {},
   "source": [
    "# 1. Write a program to implement these formulae of permutations and combinations. \n",
    "\n",
    "    Number of permutations of n objects taken r at a time is:  function name permutation \n",
    "    \n",
    "    p(n,r) = n! / (n-r)! \n",
    "    \n",
    "    Number of combinations of n objects taken r at a time is: function name combination \n",
    "    \n",
    "    c(n,r) = n! / ( r! * (n-r)! ) \n",
    "    \n",
    "    or c(n,r) = p(n,r) / r! "
   ]
  },
  {
   "cell_type": "code",
   "execution_count": 1,
   "id": "ba3980ad-fe25-44c9-886e-d11dd16a80cf",
   "metadata": {},
   "outputs": [],
   "source": [
    "def Factorial(n):\n",
    "    if n == 0 or n ==1 :\n",
    "        return 1\n",
    "    return n*Factorial(n-1)"
   ]
  },
  {
   "cell_type": "code",
   "execution_count": 2,
   "id": "90b65ac2-032a-40f0-b581-3a97abae6744",
   "metadata": {},
   "outputs": [],
   "source": [
    "def permutation(n , r):\n",
    "    if r>n:\n",
    "        return 0\n",
    "    return Factorial(n) // Factorial(n-r)"
   ]
  },
  {
   "cell_type": "code",
   "execution_count": 3,
   "id": "f75f2923-f1d2-470a-97a0-56e65c3b1b3a",
   "metadata": {},
   "outputs": [],
   "source": [
    "def combination(n , r):\n",
    "    if r>n:\n",
    "        return 0\n",
    "    # return Factorial(n) // (Factorial(r) * Factorial(n-r))\n",
    "    return permutation(n,r) // Factorial(r)"
   ]
  },
  {
   "cell_type": "code",
   "execution_count": 4,
   "id": "d5a28104-929e-4752-9eb7-a01eefb12b71",
   "metadata": {},
   "outputs": [],
   "source": [
    "res = permutation(5,3)"
   ]
  },
  {
   "cell_type": "code",
   "execution_count": 5,
   "id": "1496e40b-d0f0-4019-966f-2019e8d64ff9",
   "metadata": {},
   "outputs": [
    {
     "name": "stdout",
     "output_type": "stream",
     "text": [
      "The Permutation is 60\n"
     ]
    }
   ],
   "source": [
    "print(f\"The Permutation is {res}\")"
   ]
  },
  {
   "cell_type": "code",
   "execution_count": 6,
   "id": "f995b8ba-3e19-440b-b59a-afccf4549737",
   "metadata": {},
   "outputs": [],
   "source": [
    "res = combination(5,3)"
   ]
  },
  {
   "cell_type": "code",
   "execution_count": 7,
   "id": "49dc34b6-9d88-4d48-b466-ebaa4219ee43",
   "metadata": {},
   "outputs": [
    {
     "name": "stdout",
     "output_type": "stream",
     "text": [
      "The Combination is 10\n"
     ]
    }
   ],
   "source": [
    "print(f\"The Combination is {res}\")"
   ]
  },
  {
   "cell_type": "code",
   "execution_count": null,
   "id": "b685ae99-37d2-4095-b0b7-9f3716bdda1a",
   "metadata": {},
   "outputs": [],
   "source": []
  },
  {
   "cell_type": "markdown",
   "id": "db07b121-97af-435c-9df9-e5326d3ea759",
   "metadata": {},
   "source": [
    "# 2. Write a python function prime_factor to find out the prime factors of a number. Some examples of prime factors are –  \n",
    "\n",
    "    Prime factors of 56 – 2, 2, 2, 7 \n",
    "    \n",
    "    Prime factors of 98 – 2, 7, 7 \n",
    "    \n",
    "    Prime factors of 121 – 11, 11 "
   ]
  },
  {
   "cell_type": "code",
   "execution_count": 8,
   "id": "f3b3dab2-ab70-4904-a437-34acaf40c603",
   "metadata": {},
   "outputs": [],
   "source": [
    "def primefactor(n):\n",
    "    i = 2\n",
    "    while i <= n:\n",
    "        if n%i == 0:\n",
    "            print(i , end=\" \")\n",
    "            n //=i\n",
    "        else:\n",
    "            i+=1"
   ]
  },
  {
   "cell_type": "code",
   "execution_count": 9,
   "id": "00b35e79-1811-45ae-bca9-c0a13f38ede7",
   "metadata": {},
   "outputs": [
    {
     "name": "stdout",
     "output_type": "stream",
     "text": [
      "2 2 2 7 "
     ]
    }
   ],
   "source": [
    "primefactor(56)"
   ]
  },
  {
   "cell_type": "code",
   "execution_count": 10,
   "id": "613419ce-8109-434c-9909-d6d94d6dfac9",
   "metadata": {},
   "outputs": [
    {
     "name": "stdout",
     "output_type": "stream",
     "text": [
      "2 7 7 "
     ]
    }
   ],
   "source": [
    "primefactor(98)"
   ]
  },
  {
   "cell_type": "code",
   "execution_count": 11,
   "id": "33ce51e3-4ecb-47dc-8c56-df6545a33d43",
   "metadata": {},
   "outputs": [
    {
     "name": "stdout",
     "output_type": "stream",
     "text": [
      "11 11 "
     ]
    }
   ],
   "source": [
    "primefactor(121)"
   ]
  },
  {
   "cell_type": "markdown",
   "id": "85251535-6ad7-431c-b61b-af79eb1504bf",
   "metadata": {},
   "source": [
    "# 3. Write a function cubesum() that accepts an integer and returns the sum of the cubes of individual digits of that number "
   ]
  },
  {
   "cell_type": "code",
   "execution_count": 12,
   "id": "0ffc3452-3fc8-451a-a9cd-4fc4781e35f6",
   "metadata": {},
   "outputs": [],
   "source": [
    "def cubesum(n):\n",
    "    if n == 0 :\n",
    "        return 0\n",
    "    # total = 0\n",
    "    # total = n**3 + cubesum(n-1)\n",
    "    # return total\n",
    "    return n**3 + cubesum(n-1)"
   ]
  },
  {
   "cell_type": "code",
   "execution_count": 13,
   "id": "1311fbad-e693-442b-86c7-de0d536f1eaa",
   "metadata": {},
   "outputs": [
    {
     "data": {
      "text/plain": [
       "225"
      ]
     },
     "execution_count": 13,
     "metadata": {},
     "output_type": "execute_result"
    }
   ],
   "source": [
    "cubesum(5)"
   ]
  },
  {
   "cell_type": "code",
   "execution_count": null,
   "id": "501961cd-30e5-4837-a789-1f5ec38b6e78",
   "metadata": {},
   "outputs": [],
   "source": []
  },
  {
   "cell_type": "markdown",
   "id": "e4f06e81-527b-4ad9-90a8-b74dca0a4b34",
   "metadata": {},
   "source": [
    "# 4. Write a function isLeap() which inputs a year and return 1 if the year is leap otherwise 0."
   ]
  },
  {
   "cell_type": "code",
   "execution_count": 14,
   "id": "1fc88c0b-1bc5-4a4d-8e7d-8b4725e757a6",
   "metadata": {},
   "outputs": [],
   "source": [
    "def leap_or_not(year):\n",
    "    if (year%4 == 0 or year%100==0) and year%400 == 0: \n",
    "        return 1\n",
    "    else:\n",
    "        return 0"
   ]
  },
  {
   "cell_type": "code",
   "execution_count": 15,
   "id": "d734a648-32df-4870-b569-c3f2cf3b2fc1",
   "metadata": {},
   "outputs": [
    {
     "name": "stdin",
     "output_type": "stream",
     "text": [
      "Enter Any Year ... 1900\n"
     ]
    },
    {
     "data": {
      "text/plain": [
       "0"
      ]
     },
     "execution_count": 15,
     "metadata": {},
     "output_type": "execute_result"
    }
   ],
   "source": [
    "year = int(input(\"Enter Any Year ...\"))\n",
    "leap_or_not(year)"
   ]
  },
  {
   "cell_type": "code",
   "execution_count": null,
   "id": "0bee430e-e7f7-4719-a861-6ac1db9800bf",
   "metadata": {},
   "outputs": [],
   "source": []
  },
  {
   "cell_type": "markdown",
   "id": "a17248c3-f0c2-455c-b21e-ebc60622f902",
   "metadata": {},
   "source": [
    "# 5. Two different numbers are called amicable number if the sum of the proper divisors of each is equal to the other number. For example 220 and 284 are amicable numbers. \n",
    "\n",
    "    Sum of proper divisors of 220=1+2+4+5+10+11+20+22+44+55+110=284 \n",
    "    \n",
    "    Sum of proper divisors of 284=1+2+4+71+142=220.\t \n",
    "    \n",
    "     Write a function to print pairs of amicable numbers in a range. "
   ]
  },
  {
   "cell_type": "code",
   "execution_count": 16,
   "id": "0f706988-28fc-4043-a9e5-90e9750a0d22",
   "metadata": {},
   "outputs": [],
   "source": [
    "def demo(num):\n",
    "    sum_ = 0\n",
    "    i = 1\n",
    "    while i < num:\n",
    "        if num%i==0:\n",
    "            # print(i ,end=\" \")\n",
    "            sum_+=i\n",
    "        i+=1\n",
    "    return sum_"
   ]
  },
  {
   "cell_type": "code",
   "execution_count": 17,
   "id": "cb3daa84-ef56-4dee-ae5a-bd1d26dabecb",
   "metadata": {},
   "outputs": [
    {
     "data": {
      "text/plain": [
       "284"
      ]
     },
     "execution_count": 17,
     "metadata": {},
     "output_type": "execute_result"
    }
   ],
   "source": [
    "demo(220)"
   ]
  },
  {
   "cell_type": "code",
   "execution_count": 18,
   "id": "7aa3b68c-4698-445a-ada1-d617b03f1bf3",
   "metadata": {},
   "outputs": [
    {
     "data": {
      "text/plain": [
       "220"
      ]
     },
     "execution_count": 18,
     "metadata": {},
     "output_type": "execute_result"
    }
   ],
   "source": [
    "demo(284)"
   ]
  },
  {
   "cell_type": "code",
   "execution_count": 19,
   "id": "a0930365-7170-494b-a8b4-53cb6e719c87",
   "metadata": {},
   "outputs": [],
   "source": [
    "def amicable(start , end):\n",
    "    i = start\n",
    "    while i <= end:\n",
    "        x = demo(i)\n",
    "        y = demo(x)\n",
    "        if y == i and i != x and i < x:\n",
    "            print(f\"{i} and {x}\")\n",
    "        i+=1"
   ]
  },
  {
   "cell_type": "code",
   "execution_count": 20,
   "id": "04182624-9df1-41ea-accb-99e159fe4411",
   "metadata": {},
   "outputs": [
    {
     "name": "stdout",
     "output_type": "stream",
     "text": [
      "220 and 284\n",
      "1184 and 1210\n",
      "2620 and 2924\n",
      "5020 and 5564\n",
      "6232 and 6368\n"
     ]
    }
   ],
   "source": [
    "amicable(1, 10000)"
   ]
  },
  {
   "cell_type": "code",
   "execution_count": null,
   "id": "c4f92ab7-998d-45f6-9c3c-fef053f7026d",
   "metadata": {},
   "outputs": [],
   "source": []
  }
 ],
 "metadata": {
  "kernelspec": {
   "display_name": "Python [conda env:base] *",
   "language": "python",
   "name": "conda-base-py"
  },
  "language_info": {
   "codemirror_mode": {
    "name": "ipython",
    "version": 3
   },
   "file_extension": ".py",
   "mimetype": "text/x-python",
   "name": "python",
   "nbconvert_exporter": "python",
   "pygments_lexer": "ipython3",
   "version": "3.12.7"
  }
 },
 "nbformat": 4,
 "nbformat_minor": 5
}
