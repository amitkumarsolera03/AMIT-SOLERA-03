{
 "cells": [
  {
   "cell_type": "markdown",
   "id": "926a0408-a3ac-4709-b409-eab474582400",
   "metadata": {},
   "source": [
    "# 01. What are the two values of the Boolean data type? How do you write them? "
   ]
  },
  {
   "cell_type": "markdown",
   "id": "693c1772-f2f3-40be-82db-da69e41a901c",
   "metadata": {},
   "source": [
    "- The two values of the Boolean data type are `True` and `False`.\n",
    "-  These are typically written using the keywords True and False in many programming languages, including Python. Some languages may also represent them with the numerical values 1 and 0, respectively"
   ]
  },
  {
   "cell_type": "markdown",
   "id": "c450682c-59f8-4be1-a567-0221274143ce",
   "metadata": {},
   "source": [
    "# 02. Calculate the area of a rectangle using length * width. "
   ]
  },
  {
   "cell_type": "code",
   "execution_count": 1,
   "id": "873ad8f2-7725-4bef-976e-e54c8ba867ed",
   "metadata": {},
   "outputs": [
    {
     "name": "stdin",
     "output_type": "stream",
     "text": [
      "Enter the Length of rectangle :-  3\n",
      "Enter the Width of rectangle :-  2\n"
     ]
    },
    {
     "name": "stdout",
     "output_type": "stream",
     "text": [
      "The area of the Rectangle with Length 3 and Width 2 is 6..\n"
     ]
    }
   ],
   "source": [
    "ln = int(input(\"Enter the Length of rectangle :- \"))\n",
    "wd = int(input(\"Enter the Width of rectangle :- \"))\n",
    "\n",
    "area = ln * wd\n",
    "print(f\"The area of the Rectangle with Length {ln} and Width {wd} is {area}..\")"
   ]
  },
  {
   "cell_type": "markdown",
   "id": "137e2d28-f027-4323-b867-8b8549204507",
   "metadata": {},
   "source": [
    "# 03. Write a program to compute the simple interest: \n",
    "    SI = (P * R * T) / 100 "
   ]
  },
  {
   "cell_type": "markdown",
   "id": "c33a2568-9073-48d2-9791-94a5a27f6d5e",
   "metadata": {},
   "source": [
    "`The formula for calculating simple interest is: SI = (P * R * T) / 100, where:`\n",
    "\n",
    "    SI: represents the Simple Interest.\n",
    "    P: represents the Principal amount (the initial amount of money).\n",
    "    R: represents the Rate of interest per year (usually expressed as a percentage).\n",
    "    T: represents the Time period (usually in years)."
   ]
  },
  {
   "cell_type": "code",
   "execution_count": 2,
   "id": "303fd623-bedb-4cf9-a1f5-c9c4905180ed",
   "metadata": {},
   "outputs": [
    {
     "name": "stdin",
     "output_type": "stream",
     "text": [
      "Enter Principle Amount :-  10\n",
      "Enter Rate of interest per year (%) :-  12\n",
      "Enter Time period (in years) :-  1\n"
     ]
    },
    {
     "name": "stdout",
     "output_type": "stream",
     "text": [
      "Sample Intrest is 1.2\n"
     ]
    }
   ],
   "source": [
    "p = float(input(\"Enter Principle Amount :- \"))\n",
    "r = float(input(\"Enter Rate of interest per year (%) :- \"))\n",
    "t = int(input(\"Enter Time period (in years) :- \"))\n",
    "\n",
    "si = (p * r * t) / 100\n",
    "\n",
    "print(f\"Sample Intrest is {si}\")"
   ]
  },
  {
   "cell_type": "markdown",
   "id": "0fa1b17c-7095-4759-b744-90b3289ca83c",
   "metadata": {},
   "source": [
    "# 04. Given two numbers, perform all arithmetic operations: +, -, *, /, //, %, **. "
   ]
  },
  {
   "cell_type": "code",
   "execution_count": 3,
   "id": "41c32267-3e26-409f-bb83-07f022a65893",
   "metadata": {},
   "outputs": [
    {
     "name": "stdin",
     "output_type": "stream",
     "text": [
      "Enter your First Number :-  4\n",
      "Enter your Second Number :-  3\n"
     ]
    },
    {
     "name": "stdout",
     "output_type": "stream",
     "text": [
      "Your all Arithmatic Operatins are.........\n",
      "\n",
      "Addition is : 7\n",
      "Subtraction is : 1\n",
      "Multiplication is : 12\n",
      "Division is : 1.3333333333333333\n",
      "Floor Division is : 1\n",
      "Modulus is : 1\n",
      "4 power 3 is : 64\n"
     ]
    }
   ],
   "source": [
    "x = int(input(\"Enter your First Number :- \"))\n",
    "y = int(input(\"Enter your Second Number :- \"))\n",
    "\n",
    "print(\"Your all Arithmatic Operatins are.........\\n\")\n",
    "\n",
    "print(f\"Addition is : {x+y}\")\n",
    "print(f\"Subtraction is : {x-y}\")\n",
    "print(f\"Multiplication is : {x*y}\")\n",
    "print(f\"Division is : {x/y}\")\n",
    "print(f\"Floor Division is : {x//y}\")\n",
    "print(f\"Modulus is : {x%y}\")\n",
    "print(f\"{x} power {y} is : {x**y}\")"
   ]
  },
  {
   "cell_type": "code",
   "execution_count": null,
   "id": "e5e71502-7f49-447e-9d0b-32fbc050a104",
   "metadata": {},
   "outputs": [],
   "source": []
  },
  {
   "cell_type": "markdown",
   "id": "b03e0b91-bc8a-47e9-b045-302a6d910dbf",
   "metadata": {},
   "source": [
    "# 05. x=5  y=”5” Verify whether x is greater than or equal to y after type conversion "
   ]
  },
  {
   "cell_type": "code",
   "execution_count": 4,
   "id": "e29bc65b-29f0-4d74-8852-70d3b9e6e083",
   "metadata": {},
   "outputs": [],
   "source": [
    "x = 5 \n",
    "y = int(\"5\")"
   ]
  },
  {
   "cell_type": "code",
   "execution_count": 5,
   "id": "1ced029f-41dc-4f3f-ad88-d27806aa1b0d",
   "metadata": {},
   "outputs": [
    {
     "data": {
      "text/plain": [
       "True"
      ]
     },
     "execution_count": 5,
     "metadata": {},
     "output_type": "execute_result"
    }
   ],
   "source": [
    "x >= y"
   ]
  },
  {
   "cell_type": "markdown",
   "id": "535dec0c-160e-46f2-948b-f96c4f25a4bb",
   "metadata": {},
   "source": [
    "# 06. Use not to check if a number is not negative."
   ]
  },
  {
   "cell_type": "code",
   "execution_count": 6,
   "id": "43fd4741-1106-49ff-af67-83ba55e99311",
   "metadata": {},
   "outputs": [
    {
     "name": "stdin",
     "output_type": "stream",
     "text": [
      "Enter a Number:-  3\n"
     ]
    },
    {
     "name": "stdout",
     "output_type": "stream",
     "text": [
      "True :- Number 3 is Not negative.\n"
     ]
    }
   ],
   "source": [
    "num = int(input(\"Enter a Number:- \"))\n",
    "\n",
    "ans = not num < 0\n",
    "\n",
    "print(f\"{ans} :- Number {num} is Not negative.\")\n"
   ]
  },
  {
   "cell_type": "code",
   "execution_count": null,
   "id": "7395d100-786e-4562-b739-88e6dff25a46",
   "metadata": {},
   "outputs": [],
   "source": []
  },
  {
   "cell_type": "markdown",
   "id": "9b914225-af12-40b5-84e4-5226c6402bff",
   "metadata": {},
   "source": [
    "# 07. Write a program to check if a number is between 10 and 50 using and."
   ]
  },
  {
   "cell_type": "code",
   "execution_count": 7,
   "id": "f4dd2c26-b70f-43a9-8718-f46b612207dd",
   "metadata": {},
   "outputs": [
    {
     "name": "stdin",
     "output_type": "stream",
     "text": [
      "Enter a Number between (10 and 50) :-  7\n"
     ]
    },
    {
     "name": "stdout",
     "output_type": "stream",
     "text": [
      "False\n"
     ]
    }
   ],
   "source": [
    "num = int(input(\"Enter a Number between (10 and 50) :- \"))\n",
    "\n",
    "ans = num in range(10,51)\n",
    "print(ans)"
   ]
  },
  {
   "cell_type": "code",
   "execution_count": null,
   "id": "1a8e36d3-e9c5-4efa-8653-56d8bd23c127",
   "metadata": {},
   "outputs": [],
   "source": []
  },
  {
   "cell_type": "markdown",
   "id": "4e98e774-92dc-41e0-bf8b-a291980320fa",
   "metadata": {},
   "source": [
    "# 08. Find the result of a & b, a | b, and a ^ b for two numbers."
   ]
  },
  {
   "cell_type": "code",
   "execution_count": 8,
   "id": "cd50733e-757f-4f83-b5e1-bf4bffc51b04",
   "metadata": {},
   "outputs": [
    {
     "name": "stdin",
     "output_type": "stream",
     "text": [
      "Enter value of a :- 5\n",
      "Enter value of b :- 3\n"
     ]
    },
    {
     "name": "stdout",
     "output_type": "stream",
     "text": [
      "a&b :- 1\n",
      "a|b :- 7\n",
      "a^b :- 6\n"
     ]
    }
   ],
   "source": [
    "a = int(input(\"Enter value of a :-\"))\n",
    "b= int(input(\"Enter value of b :-\"))\n",
    "\n",
    "print(f\"a&b :- {a&b}\")\n",
    "print(f\"a|b :- {a|b}\")\n",
    "print(f\"a^b :- {a^b}\")"
   ]
  },
  {
   "cell_type": "markdown",
   "id": "cd4418f0-bcdd-46c6-9a92-8e8e0121922b",
   "metadata": {},
   "source": [
    "# 09. Shift a number 1 bit to the left and right using << and >>. "
   ]
  },
  {
   "cell_type": "code",
   "execution_count": 9,
   "id": "3510bf01-842b-4f50-bce4-60a22d1aa290",
   "metadata": {},
   "outputs": [
    {
     "name": "stdin",
     "output_type": "stream",
     "text": [
      "Enter a number:  7\n"
     ]
    },
    {
     "name": "stdout",
     "output_type": "stream",
     "text": [
      "Original number: 7\n",
      "Left Shift (a << 1): 14\n",
      "Right Shift (a >> 1): 3\n"
     ]
    }
   ],
   "source": [
    "a = int(input(\"Enter a number: \"))\n",
    "\n",
    "left_shift = a << 1\n",
    "right_shift = a >> 1\n",
    "\n",
    "print(\"Original number:\", a)\n",
    "print(\"Left Shift (a << 1):\", left_shift)\n",
    "print(\"Right Shift (a >> 1):\", right_shift)"
   ]
  },
  {
   "cell_type": "code",
   "execution_count": null,
   "id": "07615469-1880-4297-8e5a-43f57dc53d35",
   "metadata": {},
   "outputs": [],
   "source": []
  },
  {
   "cell_type": "markdown",
   "id": "b2d1093f-9129-420c-ae67-70de13c38750",
   "metadata": {},
   "source": [
    "# 10. Check if the word \"data\" exists in the string \"data science is fun\" using in. "
   ]
  },
  {
   "cell_type": "code",
   "execution_count": 10,
   "id": "ce411d2b-fe25-4971-8c0f-6a1b88a7eff1",
   "metadata": {},
   "outputs": [
    {
     "data": {
      "text/plain": [
       "True"
      ]
     },
     "execution_count": 10,
     "metadata": {},
     "output_type": "execute_result"
    }
   ],
   "source": [
    "str = \"data science is fun\"\n",
    "\"data\" in str"
   ]
  },
  {
   "cell_type": "code",
   "execution_count": null,
   "id": "d900cf06-974c-416b-a5a4-25034a34a5d3",
   "metadata": {},
   "outputs": [],
   "source": []
  },
  {
   "cell_type": "markdown",
   "id": "2cfc7574-0247-40bc-ab24-d36b17f6ae40",
   "metadata": {},
   "source": [
    "# 11. Create two lists with the same elements and check: "
   ]
  },
  {
   "cell_type": "code",
   "execution_count": 11,
   "id": "6156bef1-aa82-4a95-ba56-ffb4de9aed01",
   "metadata": {},
   "outputs": [],
   "source": [
    "lst1 = [\"Amit\" , \"Abhi\" , \"yogi\" , \"Sandeep\"]\n",
    "lst2 = [\"Amit\" , \"Abhi\" , \"yogi\" , \"Sandeep\"]"
   ]
  },
  {
   "cell_type": "code",
   "execution_count": 12,
   "id": "07b69252-7ed2-4b5d-aed5-ab5bf71bc698",
   "metadata": {},
   "outputs": [
    {
     "data": {
      "text/plain": [
       "False"
      ]
     },
     "execution_count": 12,
     "metadata": {},
     "output_type": "execute_result"
    }
   ],
   "source": [
    "lst1 is lst2"
   ]
  },
  {
   "cell_type": "code",
   "execution_count": 13,
   "id": "95a97849-6aba-4f01-8f95-bb96cb204dc2",
   "metadata": {},
   "outputs": [
    {
     "data": {
      "text/plain": [
       "True"
      ]
     },
     "execution_count": 13,
     "metadata": {},
     "output_type": "execute_result"
    }
   ],
   "source": [
    "lst1 == lst2"
   ]
  },
  {
   "cell_type": "code",
   "execution_count": null,
   "id": "1f19f6b6-c439-49ca-9954-3452d0320c70",
   "metadata": {},
   "outputs": [],
   "source": []
  },
  {
   "cell_type": "markdown",
   "id": "219fbad3-6d7b-48b8-b1e5-3c949bfa1b6e",
   "metadata": {},
   "source": [
    "# 12. list1 == list2 (equality)"
   ]
  },
  {
   "cell_type": "code",
   "execution_count": 14,
   "id": "c5e80f88-7e89-4a20-b0ba-f7a0725d7fef",
   "metadata": {},
   "outputs": [
    {
     "name": "stdout",
     "output_type": "stream",
     "text": [
      "['Amit', 'Abhi', 'yogi', 'Sandeep']\n",
      "['Amit', 'Abhi', 'yogi', 'Sandeep']\n"
     ]
    }
   ],
   "source": [
    "print(lst1)\n",
    "print(lst2)"
   ]
  },
  {
   "cell_type": "code",
   "execution_count": 15,
   "id": "e22be204-5758-43d8-897c-026dcc783255",
   "metadata": {},
   "outputs": [
    {
     "data": {
      "text/plain": [
       "True"
      ]
     },
     "execution_count": 15,
     "metadata": {},
     "output_type": "execute_result"
    }
   ],
   "source": [
    "lst1 == lst2"
   ]
  },
  {
   "cell_type": "markdown",
   "id": "361e2c78-5749-4b25-9e83-1ec1dc8cbe14",
   "metadata": {},
   "source": [
    "# 13. list1 is list2 (identity) "
   ]
  },
  {
   "cell_type": "code",
   "execution_count": 16,
   "id": "1a5f31f7-4b11-4c64-9e38-a1f792cefa09",
   "metadata": {},
   "outputs": [
    {
     "data": {
      "text/plain": [
       "False"
      ]
     },
     "execution_count": 16,
     "metadata": {},
     "output_type": "execute_result"
    }
   ],
   "source": [
    "lst1 is lst2"
   ]
  },
  {
   "cell_type": "code",
   "execution_count": null,
   "id": "df33f9fa-067e-4a87-bd02-08563f0573d5",
   "metadata": {},
   "outputs": [],
   "source": []
  },
  {
   "cell_type": "markdown",
   "id": "ea0d22a3-c626-40f1-8347-c61a9481ab2a",
   "metadata": {},
   "source": [
    "# 14. What are the three Boolean operators?"
   ]
  },
  {
   "cell_type": "markdown",
   "id": "98204382-2c91-4e4c-9a89-20bfa1d683d4",
   "metadata": {},
   "source": [
    "## `and` Operator\n",
    "\n",
    "* Returns `True` only if **both conditions** are `True`.\n",
    "* If **any one is False**, result is `False`.\n",
    "\n",
    "\n",
    "condition1 and condition2\n"
   ]
  },
  {
   "cell_type": "code",
   "execution_count": 17,
   "id": "0fe52856-384c-4ac1-89c5-90d13d5fb789",
   "metadata": {},
   "outputs": [
    {
     "name": "stdout",
     "output_type": "stream",
     "text": [
      "True\n",
      "False\n"
     ]
    }
   ],
   "source": [
    "a = 10\n",
    "b = 5\n",
    "print(a > 5 and b < 10)   # True and True → True\n",
    "print(a < 5 and b < 10)   # False and True → False"
   ]
  },
  {
   "cell_type": "markdown",
   "id": "59b1fcfe-c435-41c5-8406-2f002fec25f5",
   "metadata": {},
   "source": [
    "## `or` Operator\n",
    "\n",
    "* Returns `True` if **at least one condition** is `True`.\n",
    "* Returns `False` only if **both are False**.\n",
    "\n",
    "condition1 or condition2"
   ]
  },
  {
   "cell_type": "code",
   "execution_count": 18,
   "id": "bb434036-263e-4f32-addb-203158e4ce4c",
   "metadata": {},
   "outputs": [
    {
     "name": "stdout",
     "output_type": "stream",
     "text": [
      "True\n",
      "False\n"
     ]
    }
   ],
   "source": [
    "a = 10\n",
    "b = 20\n",
    "print(a > 15 or b == 20)  # False or True → True\n",
    "print(a > 15 or b > 25)   # False or False → False"
   ]
  },
  {
   "cell_type": "markdown",
   "id": "6f6bb473-3e11-4a37-8374-100649a4edb9",
   "metadata": {},
   "source": [
    "## `not` Operator\n",
    "\n",
    "* **Reverses** the Boolean value of a condition:\n",
    "\n",
    "  * `not True` → `False`\n",
    "  * `not False` → `True`\n",
    "\n",
    "\n",
    "not condition"
   ]
  },
  {
   "cell_type": "code",
   "execution_count": 19,
   "id": "e9a07311-13ba-4a44-a091-e291e8dc3511",
   "metadata": {},
   "outputs": [
    {
     "name": "stdout",
     "output_type": "stream",
     "text": [
      "False\n",
      "True\n"
     ]
    }
   ],
   "source": [
    "a = 5\n",
    "print(not a > 3)     # not True → False\n",
    "print(not a < 3)     # not False → True"
   ]
  },
  {
   "cell_type": "markdown",
   "id": "2ade8edd-750a-4978-9c06-d8ae7d41c6a7",
   "metadata": {},
   "source": [
    "# 15. Write out the truth tables of each Boolean operator (that is, every possible combination of Boolean values for the operator and what they evaluate to)."
   ]
  },
  {
   "cell_type": "markdown",
   "id": "6973b582-03f9-4b57-90e7-c5b4e5d0023d",
   "metadata": {},
   "source": [
    "## Truth Tables for Boolean Operators\n",
    "\n",
    "## 1. `and` Operator\n",
    "\n",
    "| A     | B     | A and B |\n",
    "|-------|-------|---------|\n",
    "| True  | True  | True    |\n",
    "| True  | False | False   |\n",
    "| False | True  | False   |\n",
    "| False | False | False   |\n",
    "\n",
    "---\n",
    "\n",
    "## 2. `or` Operator\n",
    "\n",
    "| A     | B     | A or B  |\n",
    "|-------|-------|---------|\n",
    "| True  | True  | True    |\n",
    "| True  | False | True    |\n",
    "| False | True  | True    |\n",
    "| False | False | False   |\n",
    "\n",
    "---\n",
    "\n",
    "## 3. `not` Operator\n",
    "\n",
    "| A     | not A |\n",
    "|-------|--------|\n",
    "| True  | False  |\n",
    "| False | True   |\n"
   ]
  },
  {
   "cell_type": "markdown",
   "id": "8db5dead-3c0f-40f4-94e4-8e730574c05e",
   "metadata": {},
   "source": [
    "# 16. What do the following expressions evaluate to? \n",
    "\n",
    "    (5 > 4) and (3 == 5) \n",
    "    \n",
    "    not (5 > 4) \n",
    "    \n",
    "    (5 > 4) or (3 == 5) \n",
    "    \n",
    "    not ((5 > 4) or (3 == 5)) \n",
    "    \n",
    "    (True and True) and (True == False) \n",
    "    \n",
    "    (not False) or (not True)"
   ]
  },
  {
   "cell_type": "code",
   "execution_count": 20,
   "id": "e378036c-da8e-4528-aa6c-ea4a7d3c6c51",
   "metadata": {},
   "outputs": [
    {
     "data": {
      "text/plain": [
       "False"
      ]
     },
     "execution_count": 20,
     "metadata": {},
     "output_type": "execute_result"
    }
   ],
   "source": [
    "(5 > 4) and (3 == 5) "
   ]
  },
  {
   "cell_type": "code",
   "execution_count": 21,
   "id": "1c9d5184-ebb7-4b4f-a6b8-ba79419f4934",
   "metadata": {},
   "outputs": [
    {
     "data": {
      "text/plain": [
       "False"
      ]
     },
     "execution_count": 21,
     "metadata": {},
     "output_type": "execute_result"
    }
   ],
   "source": [
    "not (5 > 4)"
   ]
  },
  {
   "cell_type": "code",
   "execution_count": 22,
   "id": "cb0f9572-ee3a-4152-99cf-5a31a9acb74a",
   "metadata": {},
   "outputs": [
    {
     "data": {
      "text/plain": [
       "True"
      ]
     },
     "execution_count": 22,
     "metadata": {},
     "output_type": "execute_result"
    }
   ],
   "source": [
    "(5 > 4) or (3 == 5)"
   ]
  },
  {
   "cell_type": "code",
   "execution_count": 23,
   "id": "be814a16-0b3f-437a-ab8d-d22cded7f69b",
   "metadata": {},
   "outputs": [
    {
     "data": {
      "text/plain": [
       "False"
      ]
     },
     "execution_count": 23,
     "metadata": {},
     "output_type": "execute_result"
    }
   ],
   "source": [
    "not ((5 > 4) or (3 == 5))"
   ]
  },
  {
   "cell_type": "code",
   "execution_count": 24,
   "id": "3bb253cd-53e6-4623-be3e-1fcb810f33e8",
   "metadata": {},
   "outputs": [
    {
     "data": {
      "text/plain": [
       "False"
      ]
     },
     "execution_count": 24,
     "metadata": {},
     "output_type": "execute_result"
    }
   ],
   "source": [
    "(True and True) and (True == False)"
   ]
  },
  {
   "cell_type": "code",
   "execution_count": 25,
   "id": "74a386aa-3e6c-4a94-a132-911de3cba993",
   "metadata": {},
   "outputs": [
    {
     "data": {
      "text/plain": [
       "True"
      ]
     },
     "execution_count": 25,
     "metadata": {},
     "output_type": "execute_result"
    }
   ],
   "source": [
    "(not False) or (not True)"
   ]
  },
  {
   "cell_type": "code",
   "execution_count": null,
   "id": "8e9a551a-c8ee-497a-b163-288894d141ae",
   "metadata": {},
   "outputs": [],
   "source": []
  },
  {
   "cell_type": "markdown",
   "id": "db92c30e-c6af-48ab-9ea1-553b1f7cf7ea",
   "metadata": {},
   "source": [
    "# 17. What are the six comparison operators?"
   ]
  },
  {
   "cell_type": "markdown",
   "id": "5d34f5f9-be3d-4603-ac50-7626ebb33877",
   "metadata": {},
   "source": [
    "* The six comparison operators are used to compare two values and return a Boolean result (True or False)"
   ]
  },
  {
   "cell_type": "markdown",
   "id": "7fed1506-c104-4bfd-a1f6-35ca8942b295",
   "metadata": {},
   "source": [
    "1. `Equal to (==) :-` Returns True if both values are equal\n",
    "2. `Not equal to (!=) :-` Returns True if both values are not equal\n",
    "3. `Greater than(>) :-` Returns True if the left value is greater\n",
    "4. `Less than (<) :-` Returns True if the left value is smaller\n",
    "5. `Greater than or equal to (>=):-` Returns True if the left value is greater or equal\n",
    "6. `Less than or equal to (<=) :-` Returns True if the left value is smaller or equal"
   ]
  },
  {
   "cell_type": "code",
   "execution_count": 26,
   "id": "beb3139f-645d-4a2c-989a-fb79d4d686eb",
   "metadata": {},
   "outputs": [
    {
     "name": "stdout",
     "output_type": "stream",
     "text": [
      "False\n",
      "True\n",
      "False\n",
      "True\n",
      "False\n",
      "True\n"
     ]
    }
   ],
   "source": [
    "a = 10\n",
    "b = 20\n",
    "\n",
    "print(a == b)   # False → 10 is not equal to 20\n",
    "print(a != b)   # True  → 10 is not equal to 20\n",
    "print(a > b)    # False → 10 is not greater than 20\n",
    "print(a < b)    # True  → 10 is less than 20\n",
    "print(a >= b)   # False → 10 is not greater or equal to 20\n",
    "print(a <= b)   # True  → 10 is less than or equal to 20"
   ]
  },
  {
   "cell_type": "markdown",
   "id": "5dc90dca-1151-4482-9559-5a412d4ef3d0",
   "metadata": {},
   "source": [
    "# 18. What is the difference between the equal to operator and the assignment operator? "
   ]
  },
  {
   "cell_type": "markdown",
   "id": "5401e1fa-8a85-490a-9565-37136df755b7",
   "metadata": {},
   "source": [
    "## Assignment Operator (`=`):-\n",
    "\n",
    "The assignment operator `=` is used to **assign a value to a variable**.\n",
    "It **stores data** in a variable name, which can then be used later in the program.\n",
    "\n",
    "x = 10  # the value `10` is assigned (or stored) in the variable `x`\n",
    "\n",
    "* `=` does **not compare** values.\n",
    "* It creates a **link between a variable and a value** in memory.\n"
   ]
  },
  {
   "cell_type": "markdown",
   "id": "e5be9e51-bc3a-406f-acda-29c04f96a884",
   "metadata": {},
   "source": [
    "## Equal To Operator (`==`):-\n",
    "\n",
    "The equal to operator `==` is a **comparison operator**.\n",
    "It checks **whether two values are equal**, and returns a **Boolean value**: `True` or `False`.\n",
    "\n",
    "x == 10 # Check if the value of `x` is equal to 10\n",
    "\n",
    "This is usually used inside:\n",
    "\n",
    "* `if` statements\n",
    "* conditional logic\n",
    "* loops and filters\n"
   ]
  },
  {
   "cell_type": "code",
   "execution_count": 27,
   "id": "0ea3221b-cee4-4194-8404-98ad984f84d0",
   "metadata": {},
   "outputs": [
    {
     "name": "stdout",
     "output_type": "stream",
     "text": [
      "x is 10\n"
     ]
    }
   ],
   "source": [
    "x = 10          # assignment: store 10 in x\n",
    "\n",
    "if x == 10:     # comparison: check if x is equal to 10\n",
    "    print(\"x is 10\")\n",
    "else:\n",
    "    print(\"x is not 10\")"
   ]
  },
  {
   "cell_type": "code",
   "execution_count": null,
   "id": "2def2720-ace9-4f23-9262-b866c0772db7",
   "metadata": {},
   "outputs": [],
   "source": []
  },
  {
   "cell_type": "markdown",
   "id": "9526810d-fe6c-4e6b-96f0-0fe2dfcefa02",
   "metadata": {},
   "source": [
    "# 19. Explain what a condition is and where you would use one. "
   ]
  },
  {
   "cell_type": "markdown",
   "id": "737f96f6-c3d8-45cf-99cd-4b5beac8b8f8",
   "metadata": {},
   "source": [
    "`is` Operator :-\n",
    "\n",
    "The `is` operator is used to check identit, i.e., whether `two variables refer to the same object in memory.`\n",
    "\n",
    "- Syntax:\n",
    "\n",
    "    a is b\n",
    "\n",
    "\n",
    "Returns `True` if `a` and `b` are the same object (not just equal in value).\n"
   ]
  },
  {
   "cell_type": "code",
   "execution_count": 28,
   "id": "eca453bc-7ddb-4de0-af16-1266478790c4",
   "metadata": {},
   "outputs": [
    {
     "name": "stdout",
     "output_type": "stream",
     "text": [
      "True\n",
      "False\n",
      "True\n"
     ]
    }
   ],
   "source": [
    "x = [1, 2, 3]\n",
    "y = x\n",
    "z = [1, 2, 3]\n",
    "\n",
    "print(x is y)  # True (same object)\n",
    "print(x is z)  # False (different objects, even though values are same)\n",
    "print(x == z)  # True (values are equal)"
   ]
  },
  {
   "cell_type": "code",
   "execution_count": null,
   "id": "443726bd-319b-4848-9209-848e0ade213b",
   "metadata": {},
   "outputs": [],
   "source": []
  }
 ],
 "metadata": {
  "kernelspec": {
   "display_name": "Python [conda env:base] *",
   "language": "python",
   "name": "conda-base-py"
  },
  "language_info": {
   "codemirror_mode": {
    "name": "ipython",
    "version": 3
   },
   "file_extension": ".py",
   "mimetype": "text/x-python",
   "name": "python",
   "nbconvert_exporter": "python",
   "pygments_lexer": "ipython3",
   "version": "3.12.7"
  }
 },
 "nbformat": 4,
 "nbformat_minor": 5
}
