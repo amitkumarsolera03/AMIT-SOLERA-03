{
 "cells": [
  {
   "cell_type": "markdown",
   "id": "af6b9f83-fac3-4f51-8831-cfa27f877990",
   "metadata": {},
   "source": [
    "# 1. Write a code to implement Guess Game Guess Game \n",
    "\n",
    "* constraints / Rules \n",
    "    \n",
    "    you have 5 chance to guess correct number which is choosen by computer / friend \n",
    "    \n",
    "    Range which is allowed to select a number 1-50 \n",
    "    \n",
    "    After each guess you should give some tips / hints to user to improve their chance of winning \n",
    "    \n",
    "    for example if user guess a number which is higher than actual number you should say `hint: think a low number! \n",
    "    \n",
    "    if user guess a number which is lower than actual number you should say `hint: think a big number!` \n",
    "    \n",
    "          if user wins we will show a congrats messege and stop our game \n",
    "    \n",
    "          if any time user guess is out of limit than print a warning message saying Think in Limits 1-50 only! \n",
    "\n",
    "      but we do not count this as a chance "
   ]
  },
  {
   "cell_type": "code",
   "execution_count": null,
   "id": "887bc0bc-4106-4a27-a30e-69394f7a57ca",
   "metadata": {},
   "outputs": [],
   "source": [
    "import random\n",
    "\n",
    "random_ch = random.randint(1,50)\n",
    "\n",
    "user1 = input(\"Enter your Name :- \").strip().title()\n",
    "print(f\"Welcome, {user1} into the Number guessing Game with the computer :)\")\n",
    "count = 1\n",
    "while count <= 5:\n",
    "    user_ch = int(input(\"Guess a Number between 1 to 50...\\n--> \"))\n",
    "    if user_ch not in range(1, 51):\n",
    "        print(f\"\\nOle le le le .... You break your range.\\nYou have still {6-count} choice.\")\n",
    "        continue\n",
    "    elif random_ch == user_ch:\n",
    "        print(f\"You Successfully Guess the Number in {count} attempt and you choose {user_ch} and computer also Choose {random_ch}.\")\n",
    "        break\n",
    "    elif random_ch > user_ch:\n",
    "        print(f\"\\nThis is your {count} choice.\\tYour number is too small .\\nThink Bigger.\")\n",
    "    elif random_ch < user_ch:\n",
    "        print(f\"\\nThis is your {count} choice.\\tYour number is too large .\\nThink Smaller.\")\n",
    "\n",
    "    count += 1\n",
    "    if count > 5 :\n",
    "        print(f\"Out of limit ....\\nYou can't guess the correct number in {count-1} attempt.\\nComputer choose {random_ch}\")\n",
    "        break\n",
    "\n",
    "# print(random_ch)"
   ]
  },
  {
   "cell_type": "markdown",
   "id": "eea9a7f8-f4d2-4bbd-ae2d-a3022b3c6de9",
   "metadata": {},
   "source": [
    "# 2. Solve this problem https://www.hackerrank.com/challenges/list-comprehensions/problem  "
   ]
  },
  {
   "cell_type": "markdown",
   "id": "b527404b-604f-497c-87cd-17a4e45c55eb",
   "metadata": {
    "jp-MarkdownHeadingCollapsed": true
   },
   "source": [
    "# 3. Solve this problem https://www.hackerrank.com/challenges/python-lists/problem  "
   ]
  },
  {
   "cell_type": "markdown",
   "id": "dc56e328-c7cb-477c-b1ad-541c9e011839",
   "metadata": {},
   "source": [
    "## Consider a list (list = []). You can perform the following commands:\n",
    "\n",
    "1. insert i e: Insert integer  at position .\n",
    "2. print: Print the list.\n",
    "3. remove e: Delete the first occurrence of integer .\n",
    "4. append e: Insert integer  at the end of the list.\n",
    "5.  sort: Sort the list.\n",
    "6.  pop: Pop the last element from the list.\n",
    "7.  reverse: Reverse the list.\n",
    "- Initialize your list and read in the value of  followed by  lines of commands where each command will be of the  types listed above. Iterate through each command in order and perform the corresponding operation on your list."
   ]
  },
  {
   "cell_type": "code",
   "execution_count": 19,
   "id": "6b40eeb7-bcbc-4dfe-b925-d52bed78af9d",
   "metadata": {},
   "outputs": [],
   "source": [
    "lst = []\n",
    "\n",
    "lst.append(10)\n",
    "lst.append(40)\n",
    "lst.append(50)"
   ]
  },
  {
   "cell_type": "code",
   "execution_count": 20,
   "id": "4691be3c-17ed-4f60-81a2-8ff34d1cd21c",
   "metadata": {},
   "outputs": [],
   "source": [
    "# 1\n",
    "lst.insert(1, 30)"
   ]
  },
  {
   "cell_type": "code",
   "execution_count": 21,
   "id": "0e86b935-0ccf-43bf-8e81-c47f7a4a9ce4",
   "metadata": {},
   "outputs": [
    {
     "name": "stdout",
     "output_type": "stream",
     "text": [
      "[10, 30, 40, 50]\n"
     ]
    }
   ],
   "source": [
    "# 2 \n",
    "print(lst)"
   ]
  },
  {
   "cell_type": "code",
   "execution_count": 22,
   "id": "a167394c-5b77-4e04-87f4-aa487fd2e561",
   "metadata": {},
   "outputs": [
    {
     "data": {
      "text/plain": [
       "10"
      ]
     },
     "execution_count": 22,
     "metadata": {},
     "output_type": "execute_result"
    }
   ],
   "source": [
    "lst.pop(0)"
   ]
  },
  {
   "cell_type": "code",
   "execution_count": 23,
   "id": "06ab4261-df6a-4547-b24f-357a6b94f54e",
   "metadata": {},
   "outputs": [
    {
     "name": "stdout",
     "output_type": "stream",
     "text": [
      "[30, 40, 50]\n"
     ]
    }
   ],
   "source": [
    "print(lst)"
   ]
  },
  {
   "cell_type": "code",
   "execution_count": 24,
   "id": "7e67ca80-c12a-48ea-bb81-5237c1e11929",
   "metadata": {},
   "outputs": [],
   "source": [
    "lst.append(20)"
   ]
  },
  {
   "cell_type": "code",
   "execution_count": 25,
   "id": "d54fda23-991f-4171-bca2-42f32996cc5a",
   "metadata": {},
   "outputs": [
    {
     "name": "stdout",
     "output_type": "stream",
     "text": [
      "[30, 40, 50, 20]\n"
     ]
    }
   ],
   "source": [
    "print(lst)"
   ]
  },
  {
   "cell_type": "code",
   "execution_count": 26,
   "id": "0de42944-6468-4425-9005-3fb42b3e2a87",
   "metadata": {},
   "outputs": [],
   "source": [
    "lst.sort()"
   ]
  },
  {
   "cell_type": "code",
   "execution_count": 27,
   "id": "a3fee744-2ad8-4581-b1d3-5abfc602ec87",
   "metadata": {},
   "outputs": [
    {
     "name": "stdout",
     "output_type": "stream",
     "text": [
      "[20, 30, 40, 50]\n"
     ]
    }
   ],
   "source": [
    "print(lst)"
   ]
  },
  {
   "cell_type": "code",
   "execution_count": 28,
   "id": "c7accde9-ee38-4b27-a439-59ded3717d8f",
   "metadata": {},
   "outputs": [
    {
     "data": {
      "text/plain": [
       "50"
      ]
     },
     "execution_count": 28,
     "metadata": {},
     "output_type": "execute_result"
    }
   ],
   "source": [
    "lst.pop()"
   ]
  },
  {
   "cell_type": "code",
   "execution_count": 29,
   "id": "58008c0b-a2ef-490c-a81a-a66cbf57b9f0",
   "metadata": {},
   "outputs": [],
   "source": [
    "lst.reverse()"
   ]
  },
  {
   "cell_type": "code",
   "execution_count": 30,
   "id": "b7c43d43-809a-42cb-a689-0a72e8e2086e",
   "metadata": {},
   "outputs": [
    {
     "name": "stdout",
     "output_type": "stream",
     "text": [
      "[40, 30, 20]\n"
     ]
    }
   ],
   "source": [
    "print(lst)"
   ]
  },
  {
   "cell_type": "markdown",
   "id": "a78f4969-e4a9-42aa-953c-6b1c82e1463f",
   "metadata": {},
   "source": [
    "# 4. Solve this problem https://www.hackerrank.com/challenges/finding-the-percentage/problem"
   ]
  },
  {
   "cell_type": "code",
   "execution_count": 79,
   "id": "c9bcb6a0-62af-4e37-b26b-95b27001c3ea",
   "metadata": {},
   "outputs": [
    {
     "name": "stdin",
     "output_type": "stream",
     "text": [
      "Enter the Sankhya of Student .... \n"
     ]
    },
    {
     "ename": "ValueError",
     "evalue": "invalid literal for int() with base 10: ''",
     "output_type": "error",
     "traceback": [
      "\u001b[1;31m---------------------------------------------------------------------------\u001b[0m",
      "\u001b[1;31mValueError\u001b[0m                                Traceback (most recent call last)",
      "Cell \u001b[1;32mIn[79], line 1\u001b[0m\n\u001b[1;32m----> 1\u001b[0m sr \u001b[38;5;241m=\u001b[39m \u001b[38;5;28mint\u001b[39m(\u001b[38;5;28minput\u001b[39m(\u001b[38;5;124m\"\u001b[39m\u001b[38;5;124mEnter the Sankhya of Student ....\u001b[39m\u001b[38;5;124m\"\u001b[39m))\n\u001b[0;32m      2\u001b[0m data \u001b[38;5;241m=\u001b[39m {}\n\u001b[0;32m      4\u001b[0m \u001b[38;5;28;01mfor\u001b[39;00m i \u001b[38;5;129;01min\u001b[39;00m \u001b[38;5;28mrange\u001b[39m(sr):\n",
      "\u001b[1;31mValueError\u001b[0m: invalid literal for int() with base 10: ''"
     ]
    }
   ],
   "source": [
    "sr = int(input(\"Enter the Sankhya of Student ....\"))\n",
    "data = {}\n",
    "\n",
    "for i in range(sr):\n",
    "    marks = []\n",
    "    # name , marks[0] , marks[1] , marks[2] = map(str, input(f\"Enter Record of student {i+1}:- \").split())\n",
    "    name , marks1 , marks2 , marks3 = map(str, input(f\"Enter Record of student {i+1}:- \").split())\n",
    "    # data.get , data.values = name , marks.extend([marks1, marks2,marks3])           #[marks[0] , marks[1] , marks[2]]\n",
    "    marks.extend([int(marks1) , int(marks2) , int(marks3)])\n",
    "\n",
    "    data.update({name : marks})\n",
    "    sum(data.values)\n",
    "    "
   ]
  },
  {
   "cell_type": "code",
   "execution_count": 77,
   "id": "863901fc-77a0-4533-8a67-68c5044f2590",
   "metadata": {},
   "outputs": [
    {
     "name": "stdout",
     "output_type": "stream",
     "text": [
      "{}\n"
     ]
    }
   ],
   "source": [
    "print(data)"
   ]
  },
  {
   "cell_type": "code",
   "execution_count": 71,
   "id": "00fa45d2-b35a-4c43-951f-768920fae8d2",
   "metadata": {},
   "outputs": [
    {
     "name": "stdout",
     "output_type": "stream",
     "text": [
      "<built-in method values of dict object at 0x000001F26ABB42C0>\n"
     ]
    }
   ],
   "source": [
    "# for i in data.values:\n",
    "#     pass\n",
    "\n",
    "print(data.values)"
   ]
  },
  {
   "cell_type": "code",
   "execution_count": null,
   "id": "113d2066-a263-4c90-b59a-75a4de3a11d7",
   "metadata": {},
   "outputs": [],
   "source": []
  },
  {
   "cell_type": "code",
   "execution_count": null,
   "id": "601cf85b-f028-46b4-b9f3-06d5d220060d",
   "metadata": {},
   "outputs": [],
   "source": []
  },
  {
   "cell_type": "code",
   "execution_count": null,
   "id": "393c57b1-7ba8-464a-aa6d-3f8d0a7f2df4",
   "metadata": {},
   "outputs": [],
   "source": []
  },
  {
   "cell_type": "markdown",
   "id": "c2664a9e-6c5f-429b-bff4-a1b228708bab",
   "metadata": {},
   "source": [
    "# 5. Write a program to sort a list without using inbuilt functions (list.sort not allowed) \n",
    "\n",
    "- Using Bubble Sort Algorithm \n",
    "\n",
    "- Using Insertion Sort Algorithm  \n",
    "\n",
    "- Using Selection Sort Algorithm "
   ]
  },
  {
   "cell_type": "markdown",
   "id": "965d0dcb-8135-4bd2-996d-c47c1f36ec9a",
   "metadata": {},
   "source": [
    "## Bubble Sort Algorithm "
   ]
  },
  {
   "cell_type": "code",
   "execution_count": null,
   "id": "c6299ace-e757-4c8e-9106-b274e8f0ce71",
   "metadata": {},
   "outputs": [],
   "source": [
    "def bubbleSort(lst):\n",
    "    n = len(lst)\n",
    "    \n",
    "    # Traverse through all array elements\n",
    "    for i in range(n):\n",
    "        swapped = False\n",
    "\n",
    "        # Last i elements are already in place\n",
    "        for j in range(0, n-i-1):\n",
    "\n",
    "            # Traverse the array from 0 to n-i-1\n",
    "            # Swap if the element found is greater\n",
    "            # than the next element\n",
    "            if arr[j] > arr[j+1]:\n",
    "                arr[j], arr[j+1] = arr[j+1], arr[j]\n",
    "                swapped = True\n",
    "        if (swapped == False):\n",
    "            break\n",
    "\n",
    "# Driver code to test above\n",
    "if __name__ == \"__main__\":\n",
    "    arr = [64, 34, 25, 12, 22, 11, 90]\n",
    "\n",
    "    bubbleSort(arr)\n",
    "\n",
    "    print(\"Sorted array:\")\n",
    "    for i in range(len(arr)):\n",
    "        print(\"%d\" % arr[i], end=\" \")"
   ]
  }
 ],
 "metadata": {
  "kernelspec": {
   "display_name": "Python [conda env:base] *",
   "language": "python",
   "name": "conda-base-py"
  },
  "language_info": {
   "codemirror_mode": {
    "name": "ipython",
    "version": 3
   },
   "file_extension": ".py",
   "mimetype": "text/x-python",
   "name": "python",
   "nbconvert_exporter": "python",
   "pygments_lexer": "ipython3",
   "version": "3.12.7"
  }
 },
 "nbformat": 4,
 "nbformat_minor": 5
}
