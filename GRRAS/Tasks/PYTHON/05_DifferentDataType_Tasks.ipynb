{
 "cells": [
  {
   "cell_type": "markdown",
   "id": "8ecc0b21-d642-47ed-8160-b7d42271c46b",
   "metadata": {},
   "source": [
    "# 1. What is difference between shallow copy and deep copy?"
   ]
  },
  {
   "cell_type": "markdown",
   "id": "f11396c4-6f3a-4bcf-bcfa-cc8c93736b5b",
   "metadata": {},
   "source": [
    "## **Shallow Copy**\n",
    "\n",
    "* **Copies only the outer object**, not the nested (inner) objects.\n",
    "* If the original has a reference to another object (like a list inside a list), both the original and the copied object **share the same reference**."
   ]
  },
  {
   "cell_type": "code",
   "execution_count": 1,
   "id": "a5e5cb53-c7ad-4b1d-8324-173d788c5cc7",
   "metadata": {},
   "outputs": [
    {
     "name": "stdout",
     "output_type": "stream",
     "text": [
      "[[99, 2], [3, 4]]\n"
     ]
    }
   ],
   "source": [
    "import copy\n",
    "\n",
    "original = [[1, 2], [3, 4]]\n",
    "shallow = copy.copy(original)\n",
    "\n",
    "shallow[0][0] = 99\n",
    "\n",
    "print(original)"
   ]
  },
  {
   "cell_type": "code",
   "execution_count": 2,
   "id": "b71335ce-57f4-4461-96d0-f6e2f5323dd7",
   "metadata": {},
   "outputs": [
    {
     "name": "stdout",
     "output_type": "stream",
     "text": [
      "2255940949760\n",
      "2255940950144\n"
     ]
    }
   ],
   "source": [
    "print(id(original))\n",
    "print(id(shallow))\n",
    "\n",
    "# Both id's were same"
   ]
  },
  {
   "cell_type": "markdown",
   "id": "ee50c493-18bf-46ff-9dd9-7bc85d3cb86e",
   "metadata": {},
   "source": [
    "### Deep Copy\n",
    "\n",
    "* **Copies everything recursively**, including all nested objects.\n",
    "* The new object is **completely independent** of the original.\n",
    "* Deep copy creates a **fully separate clone** of all objects inside.\n"
   ]
  },
  {
   "cell_type": "code",
   "execution_count": 3,
   "id": "7d561db2-5aa4-4dbf-aa0e-dcabf8a36eaf",
   "metadata": {},
   "outputs": [
    {
     "name": "stdout",
     "output_type": "stream",
     "text": [
      "[[1, 2], [3, 4]]\n"
     ]
    }
   ],
   "source": [
    "import copy\n",
    "\n",
    "original = [[1, 2], [3, 4]]\n",
    "deep = copy.deepcopy(original)\n",
    "\n",
    "deep[0][0] = 99\n",
    "\n",
    "print(original)"
   ]
  },
  {
   "cell_type": "code",
   "execution_count": 4,
   "id": "f3d5a11c-9f6c-49bb-aa82-5f88a122c1b7",
   "metadata": {},
   "outputs": [
    {
     "name": "stdout",
     "output_type": "stream",
     "text": [
      "2255940987200\n",
      "2255940984384\n"
     ]
    }
   ],
   "source": [
    "print(id(original))\n",
    "print(id(deep))\n",
    "\n",
    "# Both id's were Different"
   ]
  },
  {
   "cell_type": "markdown",
   "id": "5309b910-8b8e-4ff7-9ae2-62913af1ecf9",
   "metadata": {},
   "source": [
    "# 2. Convert the list ['a', 'b', 'c'] to a string joined by commas "
   ]
  },
  {
   "cell_type": "code",
   "execution_count": 5,
   "id": "44f00f46-a654-475b-9726-5cedebd599a4",
   "metadata": {},
   "outputs": [],
   "source": [
    "lst = ['a','b','c']"
   ]
  },
  {
   "cell_type": "code",
   "execution_count": 6,
   "id": "9c778c9f-2960-4506-8c3f-d90cdb3b1060",
   "metadata": {},
   "outputs": [],
   "source": [
    "str = \",\".join(lst)"
   ]
  },
  {
   "cell_type": "code",
   "execution_count": 7,
   "id": "41c8ab8f-109d-4791-baac-f65e22660df8",
   "metadata": {},
   "outputs": [
    {
     "name": "stdout",
     "output_type": "stream",
     "text": [
      "The joined string is \"a,b,c\"\n"
     ]
    }
   ],
   "source": [
    "print(f\"The joined string is \\\"{str}\\\"\")"
   ]
  },
  {
   "cell_type": "markdown",
   "id": "f087ae1a-383f-4d5e-9580-8a39135d052f",
   "metadata": {},
   "source": [
    "# 3. Change the dictionary {'a': 1, 'b': 2} into a list of tuples [('a', 1), ('b', 2)] "
   ]
  },
  {
   "cell_type": "code",
   "execution_count": 8,
   "id": "8408652c-53c5-484d-b274-37ca8d206ceb",
   "metadata": {},
   "outputs": [],
   "source": [
    "data = {\n",
    "    'a' : 1,\n",
    "    'b' : 2\n",
    "}"
   ]
  },
  {
   "cell_type": "code",
   "execution_count": 9,
   "id": "276d194a-ed2c-4558-a6e2-e5f32dcaea31",
   "metadata": {},
   "outputs": [],
   "source": [
    "tp = tuple(data.items()) # converts the Dictionary items in tuple"
   ]
  },
  {
   "cell_type": "code",
   "execution_count": 10,
   "id": "4117fdb9-d46d-4235-982d-3db83f91cde5",
   "metadata": {},
   "outputs": [
    {
     "data": {
      "text/plain": [
       "(('a', 1), ('b', 2))"
      ]
     },
     "execution_count": 10,
     "metadata": {},
     "output_type": "execute_result"
    }
   ],
   "source": [
    "tp"
   ]
  },
  {
   "cell_type": "code",
   "execution_count": 11,
   "id": "e6bffeb3-80e4-45e7-a116-b6d13ad60ac4",
   "metadata": {},
   "outputs": [],
   "source": [
    "lst = list(tp) # converts the Dictionary items in tuple"
   ]
  },
  {
   "cell_type": "code",
   "execution_count": 12,
   "id": "88476506-aada-49f0-bc71-313e48c3400c",
   "metadata": {},
   "outputs": [
    {
     "name": "stdout",
     "output_type": "stream",
     "text": [
      "The Dictionary is converted into the list of tuple :- [('a', 1), ('b', 2)]\n"
     ]
    }
   ],
   "source": [
    "print(f\"The Dictionary is converted into the list of tuple :- {lst}\")"
   ]
  },
  {
   "cell_type": "markdown",
   "id": "9e57f2e7-0ada-4e9b-be9b-9b5bfd92d1f3",
   "metadata": {},
   "source": [
    "# 4. From the tuple (1, 2, 3), create a new tuple with 4 added to the end "
   ]
  },
  {
   "cell_type": "code",
   "execution_count": 13,
   "id": "eb0d8c64-546f-4ccd-a974-ec05ae676934",
   "metadata": {},
   "outputs": [],
   "source": [
    "tp = (1,2,3)"
   ]
  },
  {
   "cell_type": "code",
   "execution_count": 14,
   "id": "12fa131c-2e99-4057-881d-162a9ae2bb78",
   "metadata": {},
   "outputs": [],
   "source": [
    "new_tuple = tp + (4,)"
   ]
  },
  {
   "cell_type": "code",
   "execution_count": 15,
   "id": "3a506083-7199-4f75-94fc-c6c6e9a53044",
   "metadata": {},
   "outputs": [
    {
     "data": {
      "text/plain": [
       "(1, 2, 3, 4)"
      ]
     },
     "execution_count": 15,
     "metadata": {},
     "output_type": "execute_result"
    }
   ],
   "source": [
    "new_tuple"
   ]
  },
  {
   "cell_type": "code",
   "execution_count": null,
   "id": "05767e28-8b81-48ff-84ea-4ff52c882dba",
   "metadata": {},
   "outputs": [],
   "source": []
  },
  {
   "cell_type": "markdown",
   "id": "3663ed9b-57fb-40ee-a2d3-795d2517631e",
   "metadata": {},
   "source": [
    "# 5. Explain how to create a set from the list [1, 2, 2, 3, 3, 3] "
   ]
  },
  {
   "cell_type": "markdown",
   "id": "2db718f7-ae87-4bea-a731-819caf287c26",
   "metadata": {},
   "source": [
    "* `By using typecasting we can convert on  data type to another`\n",
    "\n",
    "     - Now, here using `set(list)` method list can be changed into a set."
   ]
  },
  {
   "cell_type": "code",
   "execution_count": 16,
   "id": "5867df32-ef9f-4b22-83df-91fd7169ad85",
   "metadata": {},
   "outputs": [],
   "source": [
    "lst = [1,2,2,3,3,3]"
   ]
  },
  {
   "cell_type": "code",
   "execution_count": 17,
   "id": "221a708c-2412-439d-8a6e-630100c84f26",
   "metadata": {},
   "outputs": [],
   "source": [
    "st = set(lst)"
   ]
  },
  {
   "cell_type": "code",
   "execution_count": 18,
   "id": "75b4e700-bd55-4db3-9316-af363c5d1b3d",
   "metadata": {},
   "outputs": [
    {
     "data": {
      "text/plain": [
       "{1, 2, 3}"
      ]
     },
     "execution_count": 18,
     "metadata": {},
     "output_type": "execute_result"
    }
   ],
   "source": [
    "st"
   ]
  },
  {
   "cell_type": "code",
   "execution_count": null,
   "id": "e4738153-e52c-4dfb-9b32-610f7b0e6ddf",
   "metadata": {},
   "outputs": [],
   "source": []
  },
  {
   "cell_type": "markdown",
   "id": "4a15daed-e54b-42b4-890d-785432bfe2dd",
   "metadata": {},
   "source": [
    "# 6. Given s = \"hello\", lst = [1, 2, 3], d = {'a': 1}, t = (4, 5) - which is mutable? "
   ]
  },
  {
   "cell_type": "code",
   "execution_count": 19,
   "id": "dbaa7def-d596-4496-9879-47ebec359f2e",
   "metadata": {},
   "outputs": [],
   "source": [
    "str = \"hello\" \n",
    "\n",
    "# Immutable "
   ]
  },
  {
   "cell_type": "code",
   "execution_count": 20,
   "id": "9b185511-707b-4e80-b3d2-7a7aa14f584b",
   "metadata": {},
   "outputs": [],
   "source": [
    "lst = [1,2,3]\n",
    "\n",
    "# Mutable"
   ]
  },
  {
   "cell_type": "code",
   "execution_count": 21,
   "id": "57ecc6e6-2988-4eed-add0-b3f63182d7aa",
   "metadata": {},
   "outputs": [],
   "source": [
    "dc = {\n",
    "    'a' : 1\n",
    "}\n",
    "\n",
    "# Mutable"
   ]
  },
  {
   "cell_type": "code",
   "execution_count": 22,
   "id": "c340ecc5-ea0f-4fdf-84f9-4a17ff3ac12e",
   "metadata": {},
   "outputs": [],
   "source": [
    "tp = (4,5)\n",
    "\n",
    "# Immutable"
   ]
  },
  {
   "cell_type": "code",
   "execution_count": null,
   "id": "363d8d0c-6ecc-4be5-88ec-9b344b596055",
   "metadata": {},
   "outputs": [],
   "source": []
  },
  {
   "cell_type": "markdown",
   "id": "b3931466-7071-4bcf-a658-eab8c984210b",
   "metadata": {},
   "source": [
    "# 7. “   hello   \", write the method chain that removes whitespace from both ends "
   ]
  },
  {
   "cell_type": "code",
   "execution_count": 23,
   "id": "639f9660-945e-4600-aa74-5db4122c1bb0",
   "metadata": {},
   "outputs": [],
   "source": [
    "str = \" hello \""
   ]
  },
  {
   "cell_type": "code",
   "execution_count": 24,
   "id": "e33f0bf7-a614-4fef-82c7-7df2577edb07",
   "metadata": {},
   "outputs": [
    {
     "data": {
      "text/plain": [
       "'hello'"
      ]
     },
     "execution_count": 24,
     "metadata": {},
     "output_type": "execute_result"
    }
   ],
   "source": [
    "str.strip() # this function will remove the extra whitespace from starting and end..."
   ]
  },
  {
   "cell_type": "markdown",
   "id": "788038ff-f9c6-48f3-b9fe-f30b257d725c",
   "metadata": {},
   "source": [
    "* `for method Chain you can apply more then one function on this string `"
   ]
  },
  {
   "cell_type": "code",
   "execution_count": 25,
   "id": "1bc0e5f5-d886-4079-9c2b-4ce8cf06656f",
   "metadata": {},
   "outputs": [],
   "source": [
    "str = \" hello \""
   ]
  },
  {
   "cell_type": "code",
   "execution_count": 26,
   "id": "1eb59a95-854d-47c8-881b-05a59414b85a",
   "metadata": {},
   "outputs": [
    {
     "data": {
      "text/plain": [
       "'Hello'"
      ]
     },
     "execution_count": 26,
     "metadata": {},
     "output_type": "execute_result"
    }
   ],
   "source": [
    "str.strip().title()"
   ]
  },
  {
   "cell_type": "code",
   "execution_count": null,
   "id": "71cfcd7f-b50e-4182-bb63-2f1d18c8a2d1",
   "metadata": {},
   "outputs": [],
   "source": []
  },
  {
   "cell_type": "markdown",
   "id": "5634c11f-94f4-45c3-bf7f-27e629ac9190",
   "metadata": {},
   "source": [
    "# 8. With s = \"apple,banana,cherry\", split the string into a list at each comma "
   ]
  },
  {
   "cell_type": "code",
   "execution_count": 27,
   "id": "25df1000-6686-43db-b5ef-d1a77b17a3df",
   "metadata": {},
   "outputs": [],
   "source": [
    "str = \"apple,banana,cherry\""
   ]
  },
  {
   "cell_type": "code",
   "execution_count": 28,
   "id": "f77594d6-283f-4e23-bd26-8db9a50a1743",
   "metadata": {},
   "outputs": [
    {
     "data": {
      "text/plain": [
       "['apple,banana,cherry']"
      ]
     },
     "execution_count": 28,
     "metadata": {},
     "output_type": "execute_result"
    }
   ],
   "source": [
    "str.split()"
   ]
  },
  {
   "cell_type": "code",
   "execution_count": null,
   "id": "adc2dc45-81f8-4434-a180-4daaa1111677",
   "metadata": {},
   "outputs": [],
   "source": []
  },
  {
   "cell_type": "markdown",
   "id": "30e008e4-539d-4703-9315-3e0e616b00db",
   "metadata": {},
   "source": [
    "# 9. Given s = \"Hello\", replace all 'l' with 'x' using a string method "
   ]
  },
  {
   "cell_type": "code",
   "execution_count": 29,
   "id": "81787c44-a168-47f2-a3c5-bfeccf77e30f",
   "metadata": {},
   "outputs": [],
   "source": [
    "str = \"Hello\""
   ]
  },
  {
   "cell_type": "code",
   "execution_count": 30,
   "id": "006f31e7-ae10-4af4-8cfc-840b33ad5b8c",
   "metadata": {},
   "outputs": [
    {
     "data": {
      "text/plain": [
       "'Hexxo'"
      ]
     },
     "execution_count": 30,
     "metadata": {},
     "output_type": "execute_result"
    }
   ],
   "source": [
    "str.replace(\"l\" , \"x\")"
   ]
  },
  {
   "cell_type": "code",
   "execution_count": null,
   "id": "ebc1eae6-5cba-4730-8ef8-6ab7bec03aa0",
   "metadata": {},
   "outputs": [],
   "source": []
  },
  {
   "cell_type": "code",
   "execution_count": null,
   "id": "87c32b49-a70c-4487-96f8-6c45b890bc90",
   "metadata": {},
   "outputs": [],
   "source": []
  },
  {
   "cell_type": "markdown",
   "id": "2cf47c5a-d729-49b5-8bfa-7c6ebd0f4bc3",
   "metadata": {},
   "source": [
    "# 10 . With lst = [1, 2, 3], insert the number 5 at index position 1 "
   ]
  },
  {
   "cell_type": "code",
   "execution_count": 31,
   "id": "63ac8272-1b83-404a-9cf4-b71887597fea",
   "metadata": {},
   "outputs": [],
   "source": [
    "lst = [1,2,3]"
   ]
  },
  {
   "cell_type": "code",
   "execution_count": 32,
   "id": "47087b7c-d8b0-47bd-8841-ebdf183860cc",
   "metadata": {},
   "outputs": [],
   "source": [
    "lst.insert(1,5)"
   ]
  },
  {
   "cell_type": "code",
   "execution_count": 33,
   "id": "48a77ecb-735f-4b50-abf8-f7d025b39b66",
   "metadata": {},
   "outputs": [
    {
     "name": "stdout",
     "output_type": "stream",
     "text": [
      "After insert the element : [1, 5, 2, 3]\n"
     ]
    }
   ],
   "source": [
    "print(f\"After insert the element : {lst}\")"
   ]
  },
  {
   "cell_type": "code",
   "execution_count": null,
   "id": "51327a7c-defa-41f2-94c2-abc67f16d9da",
   "metadata": {},
   "outputs": [],
   "source": []
  },
  {
   "cell_type": "markdown",
   "id": "83471446-40cf-4dcb-a749-c869d9a46fc0",
   "metadata": {},
   "source": [
    "# 11. For lst = [1, 2, 3], reverse the order of elements without using slicing "
   ]
  },
  {
   "cell_type": "code",
   "execution_count": 34,
   "id": "bfae714d-27bb-4e39-a78c-576fccc83569",
   "metadata": {},
   "outputs": [],
   "source": [
    "lst = [1,2,3]"
   ]
  },
  {
   "cell_type": "code",
   "execution_count": 35,
   "id": "d6d4ad21-2d93-4e10-bd31-9bf6c097be97",
   "metadata": {},
   "outputs": [],
   "source": [
    "lst.reverse()"
   ]
  },
  {
   "cell_type": "code",
   "execution_count": 36,
   "id": "d675dbc3-fc65-4b43-b02a-5972eb95ab3e",
   "metadata": {},
   "outputs": [
    {
     "name": "stdout",
     "output_type": "stream",
     "text": [
      "Reversed list :- [3, 2, 1]\n"
     ]
    }
   ],
   "source": [
    "print(f\"Reversed list :- {lst}\")"
   ]
  },
  {
   "cell_type": "code",
   "execution_count": null,
   "id": "77ac3581-46f1-49c2-9857-bb2af00397b8",
   "metadata": {},
   "outputs": [],
   "source": []
  },
  {
   "cell_type": "markdown",
   "id": "9da48afb-dabf-4b96-aefd-1a530cef0c02",
   "metadata": {},
   "source": [
    "# 12. Given lst = [1, 2, 3, 4], remove and return the last element "
   ]
  },
  {
   "cell_type": "code",
   "execution_count": 37,
   "id": "a44ba02b-0dff-489f-a710-fcecee3be1c1",
   "metadata": {},
   "outputs": [],
   "source": [
    "lst = [1,2,3,4]"
   ]
  },
  {
   "cell_type": "code",
   "execution_count": 38,
   "id": "00fdc12c-cf6b-4a36-85e7-fb7842353893",
   "metadata": {},
   "outputs": [],
   "source": [
    "x = lst.pop()"
   ]
  },
  {
   "cell_type": "code",
   "execution_count": 39,
   "id": "284aee6f-1259-4e8f-8394-6f3e177ddf69",
   "metadata": {},
   "outputs": [
    {
     "name": "stdout",
     "output_type": "stream",
     "text": [
      "The element you pop from the List is 4\n"
     ]
    }
   ],
   "source": [
    "print(f\"The element you pop from the List is {x}\")"
   ]
  },
  {
   "cell_type": "markdown",
   "id": "83b5ab89-ffac-4a96-994f-db9a3c9a20ff",
   "metadata": {},
   "source": [
    "# 13. With d = {'a': 1, 'b': 2}, return all the keys as a list"
   ]
  },
  {
   "cell_type": "code",
   "execution_count": 40,
   "id": "910c293f-8e8e-4077-a3ed-4019f4b3e5f0",
   "metadata": {},
   "outputs": [],
   "source": [
    "dc = {\n",
    "    'a' : 1,\n",
    "    'b' : 2\n",
    "}"
   ]
  },
  {
   "cell_type": "code",
   "execution_count": 41,
   "id": "2b07d89e-f463-4388-8a1c-dae80651e7dc",
   "metadata": {},
   "outputs": [],
   "source": [
    "lst = list(dc.keys())"
   ]
  },
  {
   "cell_type": "code",
   "execution_count": 42,
   "id": "5b5fdf10-0ac3-4b57-8aa5-db0cc86bd0da",
   "metadata": {},
   "outputs": [
    {
     "data": {
      "text/plain": [
       "['a', 'b']"
      ]
     },
     "execution_count": 42,
     "metadata": {},
     "output_type": "execute_result"
    }
   ],
   "source": [
    "lst"
   ]
  },
  {
   "cell_type": "markdown",
   "id": "8077d3fc-9ed5-4206-873d-1184407a6ceb",
   "metadata": {},
   "source": [
    "# 14. For d = {'a': 1, 'b': 2}, check if 'a' exists as a key without using if statements "
   ]
  },
  {
   "cell_type": "code",
   "execution_count": 43,
   "id": "fb81295c-bf01-4de5-9150-18d124996668",
   "metadata": {},
   "outputs": [],
   "source": [
    "dc = {\n",
    "    'a' : 1,\n",
    "    'b' : 2\n",
    "}"
   ]
  },
  {
   "cell_type": "code",
   "execution_count": 44,
   "id": "fcd6e92f-2944-4b4b-a92e-ab8923e6bbc1",
   "metadata": {},
   "outputs": [],
   "source": [
    "result = 'a' in dc"
   ]
  },
  {
   "cell_type": "code",
   "execution_count": 45,
   "id": "940976a3-dbea-4675-acbe-acbb5b06f068",
   "metadata": {},
   "outputs": [
    {
     "data": {
      "text/plain": [
       "True"
      ]
     },
     "execution_count": 45,
     "metadata": {},
     "output_type": "execute_result"
    }
   ],
   "source": [
    "result"
   ]
  },
  {
   "cell_type": "markdown",
   "id": "45697a02-2ef9-4a2d-a399-344b9a211c69",
   "metadata": {},
   "source": [
    "# 15. Using d = {'a': 1}, update the dictionary to also include {'b': 2} "
   ]
  },
  {
   "cell_type": "code",
   "execution_count": 46,
   "id": "185ab641-1851-4649-af5f-d61e050fa635",
   "metadata": {},
   "outputs": [],
   "source": [
    "dc = {\n",
    "    'a' : 1\n",
    "}"
   ]
  },
  {
   "cell_type": "code",
   "execution_count": 47,
   "id": "a09d60dc-92a5-444c-88ee-f92fc9e7905e",
   "metadata": {},
   "outputs": [],
   "source": [
    "d = {\n",
    "    'b' : 2\n",
    "}"
   ]
  },
  {
   "cell_type": "code",
   "execution_count": 48,
   "id": "c7c8f24d-f831-4f37-9040-9fd9b8de5ee5",
   "metadata": {},
   "outputs": [],
   "source": [
    "dc.update(d)"
   ]
  },
  {
   "cell_type": "code",
   "execution_count": 49,
   "id": "6b030976-dc1c-4137-b127-82d2f7836d70",
   "metadata": {},
   "outputs": [
    {
     "data": {
      "text/plain": [
       "{'a': 1, 'b': 2}"
      ]
     },
     "execution_count": 49,
     "metadata": {},
     "output_type": "execute_result"
    }
   ],
   "source": [
    "dc"
   ]
  },
  {
   "cell_type": "markdown",
   "id": "b10638fd-d757-4c79-b422-e01dfcf2d9c0",
   "metadata": {},
   "source": [
    "# 16. With d = {'a': 1, 'b': 2}, remove and return the value for key 'a' "
   ]
  },
  {
   "cell_type": "code",
   "execution_count": 50,
   "id": "35632ce4-806a-478c-b331-3359aa7d18d0",
   "metadata": {},
   "outputs": [],
   "source": [
    "dc = {\n",
    "    'a' : 1 ,\n",
    "    'b' : 2\n",
    "}"
   ]
  },
  {
   "cell_type": "code",
   "execution_count": 51,
   "id": "05a90f75-33e2-40eb-a7ee-000b76d57c0c",
   "metadata": {},
   "outputs": [
    {
     "data": {
      "text/plain": [
       "1"
      ]
     },
     "execution_count": 51,
     "metadata": {},
     "output_type": "execute_result"
    }
   ],
   "source": [
    "dc.pop('a')"
   ]
  },
  {
   "cell_type": "code",
   "execution_count": 52,
   "id": "3eb1dd81-b054-41f0-9372-a6878c8f420b",
   "metadata": {},
   "outputs": [
    {
     "data": {
      "text/plain": [
       "{'b': 2}"
      ]
     },
     "execution_count": 52,
     "metadata": {},
     "output_type": "execute_result"
    }
   ],
   "source": [
    "dc "
   ]
  },
  {
   "cell_type": "code",
   "execution_count": null,
   "id": "f8733a22-cc17-4d87-ace1-25a0ea2290e1",
   "metadata": {},
   "outputs": [],
   "source": []
  },
  {
   "cell_type": "markdown",
   "id": "bdafecaf-7864-43e3-bf31-87a3afdf1b2a",
   "metadata": {},
   "source": [
    "# 17. Given d = {'a': 1}, get the value for 'b' returning None if not found "
   ]
  },
  {
   "cell_type": "code",
   "execution_count": 53,
   "id": "98d9da8a-0510-47d7-96cd-5f4d2da8fef3",
   "metadata": {},
   "outputs": [],
   "source": [
    "dc = {\n",
    "    'a' : 1\n",
    "}"
   ]
  },
  {
   "cell_type": "code",
   "execution_count": 54,
   "id": "67d86899-753f-4244-a930-5e88815e5924",
   "metadata": {},
   "outputs": [],
   "source": [
    "dc.get('b' , None)"
   ]
  },
  {
   "cell_type": "code",
   "execution_count": 55,
   "id": "7c18ab38-069c-4ccd-93a3-a7a8b794d869",
   "metadata": {},
   "outputs": [
    {
     "data": {
      "text/plain": [
       "{'a': 1}"
      ]
     },
     "execution_count": 55,
     "metadata": {},
     "output_type": "execute_result"
    }
   ],
   "source": [
    "dc"
   ]
  },
  {
   "cell_type": "code",
   "execution_count": null,
   "id": "431f3fcd-c177-433e-81f1-a5b7b2e5060a",
   "metadata": {},
   "outputs": [],
   "source": []
  },
  {
   "cell_type": "markdown",
   "id": "89fc915d-19e7-4369-9925-8443641c8fe3",
   "metadata": {},
   "source": [
    "# 18. Using s = {1, 2, 3, 4}, remove the number 3 from the set "
   ]
  },
  {
   "cell_type": "code",
   "execution_count": 56,
   "id": "5f527936-0604-4a3f-aa93-97c77d6d1b76",
   "metadata": {},
   "outputs": [],
   "source": [
    "st = {1,2,3,4}"
   ]
  },
  {
   "cell_type": "code",
   "execution_count": 57,
   "id": "3976f194-8b8e-4076-b8c7-3befef91b4ed",
   "metadata": {},
   "outputs": [],
   "source": [
    "st.remove(3)"
   ]
  },
  {
   "cell_type": "code",
   "execution_count": 58,
   "id": "bc9b9b40-d0b2-48b5-9694-51708d7ea96b",
   "metadata": {},
   "outputs": [
    {
     "data": {
      "text/plain": [
       "{1, 2, 4}"
      ]
     },
     "execution_count": 58,
     "metadata": {},
     "output_type": "execute_result"
    }
   ],
   "source": [
    "st"
   ]
  },
  {
   "cell_type": "code",
   "execution_count": null,
   "id": "5f5b7689-efd2-4684-99e5-d5ed75a27f19",
   "metadata": {},
   "outputs": [],
   "source": []
  },
  {
   "cell_type": "markdown",
   "id": "9477af06-b7be-4c38-8d66-6c356f79da06",
   "metadata": {},
   "source": [
    "# 19. For s1 = {1, 2, 3} and s2 = {3, 4, 5}, find the union of both sets "
   ]
  },
  {
   "cell_type": "code",
   "execution_count": 59,
   "id": "456ead85-9688-4b53-a123-96fed26e324e",
   "metadata": {},
   "outputs": [],
   "source": [
    "st1 = {1,2,3}"
   ]
  },
  {
   "cell_type": "code",
   "execution_count": 60,
   "id": "a3985f8e-ea9b-45c6-98ea-d8177689e60b",
   "metadata": {},
   "outputs": [],
   "source": [
    "st2 = {3,4,5}"
   ]
  },
  {
   "cell_type": "code",
   "execution_count": 61,
   "id": "864169f9-a944-4570-96c0-4d28592aa3aa",
   "metadata": {},
   "outputs": [
    {
     "data": {
      "text/plain": [
       "{1, 2, 3, 4, 5}"
      ]
     },
     "execution_count": 61,
     "metadata": {},
     "output_type": "execute_result"
    }
   ],
   "source": [
    "st1.union(st2)"
   ]
  },
  {
   "cell_type": "code",
   "execution_count": null,
   "id": "9c5d3b6b-9c4c-496e-83e1-27207d0df563",
   "metadata": {},
   "outputs": [],
   "source": []
  },
  {
   "cell_type": "markdown",
   "id": "ce9a9ccf-6073-498e-89a1-942759f20beb",
   "metadata": {},
   "source": [
    "# 20. With s1 = {1, 2, 3} and s2 = {3, 4}, find elements in s1 not in s2 "
   ]
  },
  {
   "cell_type": "code",
   "execution_count": 62,
   "id": "1aadbd13-3a94-45d4-8c71-407250748d6f",
   "metadata": {},
   "outputs": [],
   "source": [
    "st1 = {1,2,3}"
   ]
  },
  {
   "cell_type": "code",
   "execution_count": 63,
   "id": "88b7c299-9a43-4e4d-9469-f767e6f4cee5",
   "metadata": {},
   "outputs": [],
   "source": [
    "st2 = {3,4}"
   ]
  },
  {
   "cell_type": "code",
   "execution_count": 64,
   "id": "cefaa9a3-6be4-4837-a7b0-9997d0eaaf4b",
   "metadata": {},
   "outputs": [
    {
     "data": {
      "text/plain": [
       "{1, 2}"
      ]
     },
     "execution_count": 64,
     "metadata": {},
     "output_type": "execute_result"
    }
   ],
   "source": [
    "st1.difference(st2)"
   ]
  },
  {
   "cell_type": "code",
   "execution_count": null,
   "id": "9408444c-8d06-4edc-8d40-5d779305c160",
   "metadata": {},
   "outputs": [],
   "source": []
  }
 ],
 "metadata": {
  "kernelspec": {
   "display_name": "Python [conda env:base] *",
   "language": "python",
   "name": "conda-base-py"
  },
  "language_info": {
   "codemirror_mode": {
    "name": "ipython",
    "version": 3
   },
   "file_extension": ".py",
   "mimetype": "text/x-python",
   "name": "python",
   "nbconvert_exporter": "python",
   "pygments_lexer": "ipython3",
   "version": "3.12.7"
  }
 },
 "nbformat": 4,
 "nbformat_minor": 5
}
