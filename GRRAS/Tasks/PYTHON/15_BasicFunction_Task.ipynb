{
 "cells": [
  {
   "cell_type": "markdown",
   "id": "0e6878da-d95e-4141-82b6-511f055606be",
   "metadata": {},
   "source": [
    "**Python Tasks – Day15**"
   ]
  },
  {
   "cell_type": "markdown",
   "id": "b00f71f8-7672-42e6-8627-7ff3133d26cc",
   "metadata": {},
   "source": [
    "# 1. write output of this code \n",
    "\n",
    "    def extendList(val, list=[]): \n",
    "    \n",
    "        list.append(val) \n",
    "    \n",
    "        return list \n",
    "    \n",
    "    list1 = extendList(10) \n",
    "    \n",
    "    list2 = extendList(123,[]) \n",
    "    \n",
    "    list3 = extendList('a') \n",
    "    \n",
    "    print(\"list1 = %s\" % list1) \n",
    "    \n",
    "    print(\"list2 = %s\" % list2) \n",
    "    \n",
    "    print(\"list3 = %s\" % list3) \n"
   ]
  },
  {
   "cell_type": "code",
   "execution_count": 1,
   "id": "6202f958-a790-45f0-b32f-6f077af91373",
   "metadata": {},
   "outputs": [
    {
     "name": "stdout",
     "output_type": "stream",
     "text": [
      "list1 = [10, 'a']\n",
      "list2 = [123]\n",
      "list3 = [10, 'a']\n"
     ]
    }
   ],
   "source": [
    "def extendList(val, list=[]): \n",
    "\n",
    "    list.append(val) \n",
    "\n",
    "    return list \n",
    "\n",
    "list1 = extendList(10) \n",
    "\n",
    "list2 = extendList(123,[]) \n",
    "\n",
    "list3 = extendList('a') \n",
    "\n",
    "print(\"list1 = %s\" % list1) \n",
    "\n",
    "print(\"list2 = %s\" % list2) \n",
    "\n",
    "print(\"list3 = %s\" % list3) "
   ]
  },
  {
   "cell_type": "markdown",
   "id": "bee1dd46-9115-402f-81aa-1f2cb925194e",
   "metadata": {},
   "source": [
    "# 2. Write a function reverse() that inputs a number and return the reverse of that number, for example if input is 1293, function should return 3921. "
   ]
  },
  {
   "cell_type": "code",
   "execution_count": 2,
   "id": "d2a4c401-7cb0-473b-9675-9225dfe9b514",
   "metadata": {},
   "outputs": [],
   "source": [
    "def reverse(n):\n",
    "    temp = n\n",
    "    rev = 0\n",
    "    while n:\n",
    "        if n > 0:\n",
    "            mod = n %10\n",
    "            rev = rev*10 + mod\n",
    "            n//=10\n",
    "    else:\n",
    "        return rev"
   ]
  },
  {
   "cell_type": "code",
   "execution_count": 3,
   "id": "08901674-752f-4746-914e-28c938b39809",
   "metadata": {},
   "outputs": [
    {
     "data": {
      "text/plain": [
       "3921"
      ]
     },
     "execution_count": 3,
     "metadata": {},
     "output_type": "execute_result"
    }
   ],
   "source": [
    "reverse(1293)"
   ]
  },
  {
   "cell_type": "markdown",
   "id": "2dd37c67-91f9-4136-a4c9-d3f278d8adcf",
   "metadata": {},
   "source": [
    "# 3. Using the function reverse() in previous program, make a function isPalindrome() that inputs a number and checks whether it is a palindrome number. A number is palindrome number if it remains same after reversing its digits, for example 949, 82328 are palindrome. "
   ]
  },
  {
   "cell_type": "code",
   "execution_count": 4,
   "id": "963ba7a9-4a05-4d36-aa32-8a30c8fb92d3",
   "metadata": {},
   "outputs": [],
   "source": [
    "def isPalindrome(num):\n",
    "    rev = reverse(num)\n",
    "    if num == rev:\n",
    "        print(f\"The Given number {num} is Palindrome...\")\n",
    "    else:\n",
    "        print(f\"The Given number {num} is not Palindrome...\")"
   ]
  },
  {
   "cell_type": "code",
   "execution_count": 5,
   "id": "878fa1bc-0918-4409-b6af-c37266e0d1f3",
   "metadata": {},
   "outputs": [
    {
     "name": "stdin",
     "output_type": "stream",
     "text": [
      "Enter any Number to check number is Palindrome or not 12321\n"
     ]
    },
    {
     "name": "stdout",
     "output_type": "stream",
     "text": [
      "The Given number 12321 is Palindrome...\n"
     ]
    }
   ],
   "source": [
    "num = int(input(\"Enter any Number to check number is Palindrome or not\"))\n",
    "\n",
    "isPalindrome(num)"
   ]
  },
  {
   "cell_type": "markdown",
   "id": "3072037d-f6c0-47a3-829e-dd3b44882e5d",
   "metadata": {},
   "source": [
    "# 4. Write a function isprime() which takes a number and returns 1 if the number is prime and 0 otherwise."
   ]
  },
  {
   "cell_type": "code",
   "execution_count": 6,
   "id": "bc8a52f9-2708-4790-9f16-e6d1a9a2444b",
   "metadata": {},
   "outputs": [],
   "source": [
    "def isPrime(num):\n",
    "    i = 2\n",
    "    while i < num:\n",
    "        if num%i == 0:\n",
    "            return 0\n",
    "        i+=1\n",
    "    return 1"
   ]
  },
  {
   "cell_type": "code",
   "execution_count": 7,
   "id": "42ae521a-b9ae-4fe5-b40b-9de990195c7b",
   "metadata": {},
   "outputs": [
    {
     "data": {
      "text/plain": [
       "1"
      ]
     },
     "execution_count": 7,
     "metadata": {},
     "output_type": "execute_result"
    }
   ],
   "source": [
    "isPrime(7)"
   ]
  },
  {
   "cell_type": "markdown",
   "id": "1aa243c2-ce7f-4d78-b02f-428223ab64e3",
   "metadata": {},
   "source": [
    "# 5. Write a function that inputs two numbers and prints all prime numbers between those numbers. "
   ]
  },
  {
   "cell_type": "code",
   "execution_count": 8,
   "id": "b1774892-92e4-40da-92cb-bd0ef2415054",
   "metadata": {},
   "outputs": [],
   "source": [
    "def prime(start , end):\n",
    "    for num in range(start,end+1):\n",
    "        for i in range(2 , num):\n",
    "            if num % i ==0:\n",
    "                break\n",
    "        else:\n",
    "            print(num)"
   ]
  },
  {
   "cell_type": "code",
   "execution_count": 9,
   "id": "be268810-dee4-48e7-85b6-70e5611cda87",
   "metadata": {},
   "outputs": [
    {
     "name": "stdout",
     "output_type": "stream",
     "text": [
      "11\n",
      "13\n",
      "17\n",
      "19\n",
      "23\n",
      "29\n",
      "31\n",
      "37\n",
      "41\n",
      "43\n",
      "47\n"
     ]
    }
   ],
   "source": [
    "prime(10,50)"
   ]
  },
  {
   "cell_type": "markdown",
   "id": "3ba8964b-3684-4d81-aead-2a68c8a0fc52",
   "metadata": {},
   "source": [
    "# 6. Write a program to raise a floating point number to an integer power(eg. an where a is floating point number and n is an integer value.)  \n",
    "\n",
    "`Note: do not use ** and pow built function of python for this purpose`"
   ]
  },
  {
   "cell_type": "code",
   "execution_count": 10,
   "id": "60001379-e014-4722-b405-bb767f387c9a",
   "metadata": {},
   "outputs": [],
   "source": [
    "def power(a, n):\n",
    "    result = 1.0\n",
    "    for _ in range(abs(n)):\n",
    "        result *= a\n",
    "    if n < 0:\n",
    "        return 1 / result\n",
    "    return result"
   ]
  },
  {
   "cell_type": "code",
   "execution_count": 11,
   "id": "bad06757-72e7-44df-9427-39de69e18f83",
   "metadata": {},
   "outputs": [
    {
     "name": "stdin",
     "output_type": "stream",
     "text": [
      "Enter the base (floating-point number):  2.0\n",
      "Enter the exponent (integer):  2\n"
     ]
    },
    {
     "name": "stdout",
     "output_type": "stream",
     "text": [
      "2.0 raised to the power 2 is (2.0^2): 4.0\n"
     ]
    }
   ],
   "source": [
    "a = float(input(\"Enter the base (floating-point number): \"))\n",
    "n = int(input(\"Enter the exponent (integer): \"))\n",
    "\n",
    "print(f\"{a} raised to the power {n} is ({a}^{n}): {power(a, n)}\")"
   ]
  },
  {
   "cell_type": "code",
   "execution_count": null,
   "id": "e2d6a44b-b9d4-4a11-a1df-922a3049a3f3",
   "metadata": {},
   "outputs": [],
   "source": []
  },
  {
   "cell_type": "markdown",
   "id": "6fa1a7f5-156b-4401-99ab-b8985e247d26",
   "metadata": {},
   "source": [
    "# 7. Write a function to generate Fibonacci numbers up to n terms."
   ]
  },
  {
   "cell_type": "code",
   "execution_count": 12,
   "id": "43cbe327-e5d6-4a6d-82dc-c5f0cbdfe1e7",
   "metadata": {},
   "outputs": [],
   "source": [
    "def fibo(num):\n",
    "    a = 0\n",
    "    b = 1\n",
    "    print(f\"The Fibonacci numbers up to {num} are......\")\n",
    "    print(a , b , end=\" \")\n",
    "    i = 0\n",
    "    while i < num:\n",
    "        c = a+b\n",
    "        a = b\n",
    "        b = c\n",
    "        i+=1\n",
    "        print(c , end=\" \")\n",
    "    return"
   ]
  },
  {
   "cell_type": "code",
   "execution_count": 13,
   "id": "1167a8b9-b19f-4a99-89bf-6b9f0538258e",
   "metadata": {},
   "outputs": [
    {
     "name": "stdout",
     "output_type": "stream",
     "text": [
      "The Fibonacci numbers up to 7 are......\n",
      "0 1 1 2 3 5 8 13 21 "
     ]
    }
   ],
   "source": [
    "fibo(7)"
   ]
  },
  {
   "cell_type": "markdown",
   "id": "42ea6b39-87da-4528-b0d2-2de92c370eb1",
   "metadata": {},
   "source": [
    "# 8. Write a function that takes hours and returns days/hours (e.g., 27 → 1 day(s) and 3 hour(s))."
   ]
  },
  {
   "cell_type": "code",
   "execution_count": 14,
   "id": "cbdbe4c4-a107-4f29-afce-bc1c13a333a7",
   "metadata": {},
   "outputs": [],
   "source": [
    "def days_hour(hr):\n",
    "    day = 0\n",
    "    hour = 0\n",
    "    if hr%24 == 0:\n",
    "        day = hr / 24\n",
    "    else:\n",
    "        day = hr // 24\n",
    "        hour = hr % 24\n",
    "\n",
    "    return day , hour"
   ]
  },
  {
   "cell_type": "code",
   "execution_count": 15,
   "id": "caef2ed6-859e-413d-b508-a99d973c98a9",
   "metadata": {},
   "outputs": [
    {
     "name": "stdin",
     "output_type": "stream",
     "text": [
      "Enter Hours... 60\n"
     ]
    },
    {
     "name": "stdout",
     "output_type": "stream",
     "text": [
      "In 60 Hour(s). There are 2 Day(s) and 12 Hour(s)\n"
     ]
    }
   ],
   "source": [
    "hr = int(input(\"Enter Hours...\"))\n",
    "\n",
    "day , hour = days_hour(hr)\n",
    "\n",
    "print(f\"In {hr} Hour(s). There are {day} Day(s) and {hour} Hour(s)\")"
   ]
  },
  {
   "cell_type": "markdown",
   "id": "23c782e8-9e52-48cd-8550-a926f9ebc0c1",
   "metadata": {},
   "source": [
    "# 9. Write a function that calculates compound interest given principal, rate, time. "
   ]
  },
  {
   "cell_type": "markdown",
   "id": "65737ed8-0915-4a3e-abad-5ebf3cd74f48",
   "metadata": {
    "jp-MarkdownHeadingCollapsed": true
   },
   "source": [
    "- principal: Initial amount (float/int)\n",
    "- rate: Annual interest rate in percent (float)\n",
    "- n: Compounding frequency per year (int)\n",
    "- time: Number of years (float)"
   ]
  },
  {
   "cell_type": "markdown",
   "id": "c0bcc406-6e34-4777-8b68-d3c1141907c0",
   "metadata": {},
   "source": [
    "**Compound Interest Formula:**\n",
    "\n",
    "$$\n",
    "A = P \\left(1 + \\frac{R}{100N} \\right)^{NT}\n",
    "$$\n",
    "\n",
    "Where:\n",
    "\n",
    "* **A** = Final amount (Principal + Interest)\n",
    "* **P** = Principal amount\n",
    "* **R** = Annual interest rate (in percentage)\n",
    "* **N** = Number of times interest is compounded per year\n",
    "* **T** = Time (in years)\n",
    "\n",
    "$$\n",
    "\\text{Compound Interest (CI)} = A - P\n",
    "$$\n"
   ]
  },
  {
   "cell_type": "code",
   "execution_count": null,
   "id": "17e8ef14-8615-453e-a674-ad881b967ea3",
   "metadata": {},
   "outputs": [],
   "source": []
  },
  {
   "cell_type": "code",
   "execution_count": 16,
   "id": "69f6fdff-756b-47d9-96fd-686c8495c118",
   "metadata": {},
   "outputs": [],
   "source": [
    "def compound_interest(principal, rate, n, time):\n",
    "    r = rate / 100  # Convert percent to decimal\n",
    "    amount = principal *( (1 + r / n) ** (n * time))\n",
    "    ci = amount - principal\n",
    "    return amount, ci"
   ]
  },
  {
   "cell_type": "code",
   "execution_count": 17,
   "id": "4e7a154b-e602-4c2e-817e-4980e67fcbb3",
   "metadata": {},
   "outputs": [
    {
     "name": "stdin",
     "output_type": "stream",
     "text": [
      "Enter principal amount:  10000\n",
      "Enter annual interest rate (in %):  5\n",
      "Enter number of times interest compounded per year:  4\n",
      "Enter time (in years):  2\n"
     ]
    },
    {
     "name": "stdout",
     "output_type": "stream",
     "text": [
      "Final amount after 2.0 years: 11044.86\n",
      "Compound interest earned: 1044.86\n"
     ]
    }
   ],
   "source": [
    "P = float(input(\"Enter principal amount: \"))\n",
    "R = float(input(\"Enter annual interest rate (in %): \"))\n",
    "N = int(input(\"Enter number of times interest compounded per year: \"))\n",
    "T = float(input(\"Enter time (in years): \"))\n",
    "\n",
    "final_amount, ci = compound_interest(P, R, N, T)\n",
    "print(f\"Final amount after {T} years: {final_amount:.2f}\")\n",
    "print(f\"Compound interest earned: {ci:.2f}\")"
   ]
  },
  {
   "cell_type": "code",
   "execution_count": null,
   "id": "a8e04337-6832-4464-ae70-4a6182de95a4",
   "metadata": {},
   "outputs": [],
   "source": []
  },
  {
   "cell_type": "markdown",
   "id": "0fa3cc99-a0b5-4b1a-bd63-c4200f741697",
   "metadata": {},
   "source": [
    "# 10. Write a function to flatten a nested list. "
   ]
  },
  {
   "cell_type": "code",
   "execution_count": 18,
   "id": "ce3fb010-25d1-42de-86c1-b0a9f5c12da0",
   "metadata": {},
   "outputs": [],
   "source": [
    "def flatten_list(lst):\n",
    "    flat = []\n",
    "    for item in lst:\n",
    "        if isinstance(item, list):\n",
    "            flat.extend(flatten_list(item))  # recursive call\n",
    "        else:\n",
    "            flat.append(item)\n",
    "    return flat"
   ]
  },
  {
   "cell_type": "code",
   "execution_count": 19,
   "id": "76f7120c-e248-4ff2-9ae1-b3f26055de9a",
   "metadata": {},
   "outputs": [
    {
     "data": {
      "text/plain": [
       "[1, 2, 3, 4, 5, 6, 7, 8, 9, 10]"
      ]
     },
     "execution_count": 19,
     "metadata": {},
     "output_type": "execute_result"
    }
   ],
   "source": [
    "lst = [1,2,[3,4,[5,6,7],8,9],10]\n",
    "\n",
    "flatten_list(lst)"
   ]
  },
  {
   "cell_type": "code",
   "execution_count": null,
   "id": "0d80c650-cefa-42e7-b607-3bf51ac53852",
   "metadata": {},
   "outputs": [],
   "source": []
  },
  {
   "cell_type": "markdown",
   "id": "517829dd-5728-4b8b-8c48-674309909ca8",
   "metadata": {},
   "source": [
    "# 11. Write a function to convert Celsius to Fahrenheit and vice versa. "
   ]
  },
  {
   "cell_type": "code",
   "execution_count": 20,
   "id": "1cc496c0-45c9-4c6d-8087-e98ff69ab678",
   "metadata": {},
   "outputs": [],
   "source": [
    "def C_to_F(celsius):\n",
    "    # Celsius to Fahrenheit\n",
    "    fahrenheit = (celsius * 9/5) + 32\n",
    "    return fahrenheit"
   ]
  },
  {
   "cell_type": "code",
   "execution_count": 21,
   "id": "532df1f0-fbc1-4104-90af-e754c0e640f1",
   "metadata": {},
   "outputs": [],
   "source": [
    "def F_to_c(fahrenheit):\n",
    "    # Fahrenheit to Celsius\n",
    "    celsius = (fahrenheit -32 ) * 5/9\n",
    "    return celsius"
   ]
  },
  {
   "cell_type": "code",
   "execution_count": 22,
   "id": "1ebb163c-4101-435d-93a9-c516fff8caf0",
   "metadata": {},
   "outputs": [
    {
     "name": "stdin",
     "output_type": "stream",
     "text": [
      "Enter Temperature in celsius .... 38\n",
      "Enter Temperature in celsius .... 95\n"
     ]
    },
    {
     "name": "stdout",
     "output_type": "stream",
     "text": [
      "38.0 celsius ---> 100.4 fahrenheit ...\n",
      "95.0 fahrenheit ---> 35.0 celsius ...\n"
     ]
    }
   ],
   "source": [
    "celsius = float(input(\"Enter Temperature in celsius ....\"))\n",
    "fahrenheit = float(input(\"Enter Temperature in celsius ....\"))\n",
    "\n",
    "\n",
    "x = C_to_F(celsius)\n",
    "print(f\"{celsius} celsius ---> {x} fahrenheit ...\")\n",
    "y = F_to_c(fahrenheit)\n",
    "print(f\"{fahrenheit} fahrenheit ---> {y} celsius ...\")"
   ]
  },
  {
   "cell_type": "markdown",
   "id": "92b7d63f-8ab3-4f98-84be-d0e2de3a1c45",
   "metadata": {},
   "source": [
    "# 12.  Write a function to check if a given time (HH:MM) is valid. "
   ]
  },
  {
   "cell_type": "code",
   "execution_count": 23,
   "id": "412f3424-1aca-469c-9b44-ce9d843c8cee",
   "metadata": {},
   "outputs": [],
   "source": [
    "def time(hr, min):\n",
    "    if hr in range(25):\n",
    "        if min in range(61):\n",
    "            print(f\"{hr}:{min} is a Valid time...\")\n",
    "        else:\n",
    "            print(f\"{min} is Not a valid Minute..\")\n",
    "    else:\n",
    "        print(f\"{hr} is Not a Valid Hour...\")"
   ]
  },
  {
   "cell_type": "code",
   "execution_count": 24,
   "id": "a236d1e4-087e-4e49-bdc6-87754278b785",
   "metadata": {},
   "outputs": [
    {
     "name": "stdout",
     "output_type": "stream",
     "text": [
      "25 is Not a Valid Hour...\n"
     ]
    }
   ],
   "source": [
    "time(25,78)"
   ]
  },
  {
   "cell_type": "code",
   "execution_count": null,
   "id": "f5f6d70c-d5de-43a8-8f28-f034c2e8643e",
   "metadata": {},
   "outputs": [],
   "source": []
  }
 ],
 "metadata": {
  "kernelspec": {
   "display_name": "Python [conda env:base] *",
   "language": "python",
   "name": "conda-base-py"
  },
  "language_info": {
   "codemirror_mode": {
    "name": "ipython",
    "version": 3
   },
   "file_extension": ".py",
   "mimetype": "text/x-python",
   "name": "python",
   "nbconvert_exporter": "python",
   "pygments_lexer": "ipython3",
   "version": "3.12.7"
  }
 },
 "nbformat": 4,
 "nbformat_minor": 5
}
