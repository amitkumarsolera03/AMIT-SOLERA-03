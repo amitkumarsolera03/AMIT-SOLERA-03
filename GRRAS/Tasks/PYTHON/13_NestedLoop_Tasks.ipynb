{
 "cells": [
  {
   "cell_type": "markdown",
   "id": "7682112f-a319-47d2-9c59-86b040bab808",
   "metadata": {},
   "source": [
    "# 1. Write a Python Code to count the Number of Each Vowel in a given string "
   ]
  },
  {
   "cell_type": "code",
   "execution_count": 1,
   "id": "e5076768-7862-4925-ae7d-89e4e0026be9",
   "metadata": {},
   "outputs": [
    {
     "name": "stdin",
     "output_type": "stream",
     "text": [
      "Enter a String :-  Amit Kumar Solera\n"
     ]
    },
    {
     "name": "stdout",
     "output_type": "stream",
     "text": [
      "There are Total 7 Number of Vowels...\n",
      "\tNo. of 'a' --> 3\n",
      "\tNo. of 'e' --> 1\n",
      "\tNo. of 'i' --> 1\n",
      "\tNo. of 'o' --> 1\n",
      "\tNo. of 'u' --> 1\n"
     ]
    }
   ],
   "source": [
    "str = input(\"Enter a String :- \").strip()\n",
    "\n",
    "vowels = ('a','A','e','E','i','I','o','o','u','U')\n",
    "a = ('a','A')\n",
    "e = ('e','E')\n",
    "i = ('i','I')\n",
    "o = ('o','O')\n",
    "u = ('u','U')\n",
    "\n",
    "count = 0\n",
    "count_a = 0\n",
    "count_e = 0\n",
    "count_i = 0\n",
    "count_o = 0\n",
    "count_u = 0\n",
    "\n",
    "for x in str:\n",
    "    if x in vowels:\n",
    "        count+=1\n",
    "        if x in a:\n",
    "            count_a+=1\n",
    "        elif x in e:\n",
    "            count_e+=1\n",
    "        elif x in i:\n",
    "            count_i+=1\n",
    "        elif x in o:\n",
    "            count_o+=1\n",
    "        elif x in u:\n",
    "            count_u+=1\n",
    "    else:\n",
    "        pass\n",
    "else:\n",
    "    print(f\"There are Total {count} Number of Vowels...\")\n",
    "    print(f\"\\tNo. of 'a' --> {count_a}\")\n",
    "    print(f\"\\tNo. of 'e' --> {count_e}\")\n",
    "    print(f\"\\tNo. of 'i' --> {count_i}\")\n",
    "    print(f\"\\tNo. of 'o' --> {count_o}\")\n",
    "    print(f\"\\tNo. of 'u' --> {count_u}\")"
   ]
  },
  {
   "cell_type": "markdown",
   "id": "a0336d71-c055-4e5c-9d0c-9e73330cb127",
   "metadata": {},
   "source": [
    "# 2. Write a Python Code to count number of words, characters and number of spaces in a given stirng"
   ]
  },
  {
   "cell_type": "code",
   "execution_count": 2,
   "id": "6a7c9ba7-c312-4681-929c-b5edeba850d8",
   "metadata": {},
   "outputs": [
    {
     "name": "stdin",
     "output_type": "stream",
     "text": [
      "Enter any Random string :- ABCDxyz763971_!@#$%\n"
     ]
    },
    {
     "name": "stdout",
     "output_type": "stream",
     "text": [
      "Length of your Given String is '19'\n",
      "Total Number of Characters are '6'\n",
      "Total Number of Digits are '6'\n",
      "Total Number of Letters are '7'\n"
     ]
    }
   ],
   "source": [
    "input_str = input(\"Enter any Random string :-\")\n",
    "\n",
    "words = 0\n",
    "char = 0\n",
    "nums = 0\n",
    "\n",
    "for i in input_str:\n",
    "    if i.isalpha():\n",
    "        words+=1\n",
    "    elif i.isdigit():\n",
    "        nums+=1\n",
    "    else:\n",
    "        char+=1\n",
    "else:\n",
    "    print(f\"Length of your Given String is '{len(input_str)}'\")\n",
    "    print(f\"Total Number of Characters are '{char}'\")\n",
    "    print(f\"Total Number of Digits are '{nums}'\")\n",
    "    print(f\"Total Number of Letters are '{words}'\")"
   ]
  },
  {
   "cell_type": "markdown",
   "id": "470fae9b-f53b-4296-a1f3-274d04afbf64",
   "metadata": {},
   "source": [
    "# 3. Write a Python Program to remove punctuation from a given string (using loop)"
   ]
  },
  {
   "cell_type": "code",
   "execution_count": 3,
   "id": "ad1ea6bd-5baa-44b7-aabf-c11b2acef261",
   "metadata": {},
   "outputs": [
    {
     "name": "stderr",
     "output_type": "stream",
     "text": [
      "<>:3: SyntaxWarning: invalid escape sequence '\\]'\n",
      "<>:3: SyntaxWarning: invalid escape sequence '\\]'\n",
      "C:\\Users\\HP\\AppData\\Local\\Temp\\ipykernel_12904\\365997297.py:3: SyntaxWarning: invalid escape sequence '\\]'\n",
      "  sp = \"\"\"!\"#$%&'()*+,-./:;<=>?@[\\]^_`{|}~\"\"\"\n"
     ]
    },
    {
     "name": "stdin",
     "output_type": "stream",
     "text": [
      "Enter Your string...\n",
      "-->  Life's short - smile while you still have teeth!\n"
     ]
    },
    {
     "name": "stdout",
     "output_type": "stream",
     "text": [
      "Your String without punctuation:- Lifes short  smile while you still have teeth\n"
     ]
    }
   ],
   "source": [
    "str = input(\"Enter Your string...\\n--> \")\n",
    "\n",
    "sp = \"\"\"!\"#$%&'()*+,-./:;<=>?@[\\]^_`{|}~\"\"\"\n",
    "lst = list(sp)\n",
    "\n",
    "# print(lst)\n",
    "text = list(str)\n",
    "# print(text)\n",
    "new_text=[]\n",
    "for x in text[:]:\n",
    "    # if x not in lst:\n",
    "    #     new_text.append(x)\n",
    "    if x in lst:\n",
    "        text.remove(x)\n",
    "else:\n",
    "    # str = \"\".join(new_text)\n",
    "    str = \"\".join(text)\n",
    "    print(f\"Your String without punctuation:- {str}\")"
   ]
  },
  {
   "cell_type": "code",
   "execution_count": null,
   "id": "33328418-2b74-4d1e-9c72-a2944eba809d",
   "metadata": {},
   "outputs": [],
   "source": []
  },
  {
   "cell_type": "code",
   "execution_count": 4,
   "id": "0fe7c36e-097c-49c4-ba26-1f2f0cec044d",
   "metadata": {},
   "outputs": [
    {
     "name": "stdin",
     "output_type": "stream",
     "text": [
      "Enter Your string...\n",
      "-->  Life's short - smile while you still have teeth!\n"
     ]
    },
    {
     "name": "stdout",
     "output_type": "stream",
     "text": [
      "Your String without punctuation:- Lifes short  smile while you still have teeth\n"
     ]
    }
   ],
   "source": [
    "str_input = input(\"Enter Your string...\\n--> \")\n",
    "\n",
    "sp = \"\"\"~!@#$%^&*(_+={}|[-]\\\\:\\\";'<>),.?/\"\"\"  # Added extra backslash for escaping\n",
    "lst = list(sp)\n",
    "\n",
    "text = list(str_input)\n",
    "new_text = []\n",
    "\n",
    "for x in text:\n",
    "    if x not in lst:\n",
    "        new_text.append(x)\n",
    "\n",
    "result = \"\".join(new_text)\n",
    "print(f\"Your String without punctuation:- {result}\")"
   ]
  },
  {
   "cell_type": "code",
   "execution_count": null,
   "id": "97faf04c-c025-4c7f-904d-96cacadd675b",
   "metadata": {},
   "outputs": [],
   "source": []
  },
  {
   "cell_type": "markdown",
   "id": "4e04b97d-e3e8-4b57-b09a-a737dc28b543",
   "metadata": {},
   "source": [
    "# 4. Write a Python Program to take a mxn matrix input from user and stored in nested list "
   ]
  },
  {
   "cell_type": "code",
   "execution_count": 5,
   "id": "a80b96bd-cf08-4d66-af63-fdc3e4ec8390",
   "metadata": {},
   "outputs": [
    {
     "name": "stdin",
     "output_type": "stream",
     "text": [
      "Enter the number of row :- 3\n",
      "Enter the number of Column :- 3\n",
      "Enter the Value at Index 0,0 ;- 4\n",
      "Enter the Value at Index 0,1 ;- 6\n",
      "Enter the Value at Index 0,2 ;- 8\n"
     ]
    },
    {
     "name": "stdout",
     "output_type": "stream",
     "text": [
      "\n"
     ]
    },
    {
     "name": "stdin",
     "output_type": "stream",
     "text": [
      "Enter the Value at Index 1,0 ;- 2\n",
      "Enter the Value at Index 1,1 ;- 3\n",
      "Enter the Value at Index 1,2 ;- 4\n"
     ]
    },
    {
     "name": "stdout",
     "output_type": "stream",
     "text": [
      "\n"
     ]
    },
    {
     "name": "stdin",
     "output_type": "stream",
     "text": [
      "Enter the Value at Index 2,0 ;- 3\n",
      "Enter the Value at Index 2,1 ;- 2\n",
      "Enter the Value at Index 2,2 ;- 1\n"
     ]
    },
    {
     "name": "stdout",
     "output_type": "stream",
     "text": [
      "\n",
      "Your Matrix is ....\n",
      "[4, 6, 8]\n",
      "[2, 3, 4]\n",
      "[3, 2, 1]\n"
     ]
    }
   ],
   "source": [
    "m = int(input(\"Enter the number of row :-\"))\n",
    "n = int(input(\"Enter the number of Column :-\"))\n",
    "\n",
    "lst1 = []\n",
    "\n",
    "for i in range(m):\n",
    "    lst2 = []\n",
    "    for j in range(n):\n",
    "        data = int(input(f\"Enter the Value at Index {i},{j} ;-\"))\n",
    "        lst2.append(data)\n",
    "        \n",
    "    lst1.append(lst2)\n",
    "    print(end = \"\\n\")  \n",
    "\n",
    "print(\"Your Matrix is ....\")\n",
    "for raw in lst1:\n",
    "    print(raw)"
   ]
  },
  {
   "cell_type": "markdown",
   "id": "d9c75b98-f39c-4d4e-a7fc-813893269c10",
   "metadata": {},
   "source": [
    "# 5. Write a Python Program to add, multiply and transpose two matrices given by user"
   ]
  },
  {
   "cell_type": "code",
   "execution_count": 6,
   "id": "0e100ca9-e491-4f44-ad22-efd0f058e632",
   "metadata": {},
   "outputs": [
    {
     "name": "stdin",
     "output_type": "stream",
     "text": [
      "Enter the number of row :- 2\n",
      "Enter the number of Column :- 2\n"
     ]
    },
    {
     "name": "stdout",
     "output_type": "stream",
     "text": [
      "\n"
     ]
    },
    {
     "name": "stdin",
     "output_type": "stream",
     "text": [
      "Enter the Value at Index 0,0 in First Matrix :- 1\n",
      "Enter the Value at Index 0,1 in First Matrix :- 2\n"
     ]
    },
    {
     "name": "stdout",
     "output_type": "stream",
     "text": [
      "\n"
     ]
    },
    {
     "name": "stdin",
     "output_type": "stream",
     "text": [
      "Enter the Value at Index 1,0 in First Matrix :- 3\n",
      "Enter the Value at Index 1,1 in First Matrix :- 4\n"
     ]
    },
    {
     "name": "stdout",
     "output_type": "stream",
     "text": [
      "\n"
     ]
    },
    {
     "name": "stdin",
     "output_type": "stream",
     "text": [
      "Enter the Value at Index 0,0 in Second Matrix :- 5\n",
      "Enter the Value at Index 0,1 in Second Matrix :- 4\n"
     ]
    },
    {
     "name": "stdout",
     "output_type": "stream",
     "text": [
      "\n"
     ]
    },
    {
     "name": "stdin",
     "output_type": "stream",
     "text": [
      "Enter the Value at Index 1,0 in Second Matrix :- 3\n",
      "Enter the Value at Index 1,1 in Second Matrix :- 2\n"
     ]
    },
    {
     "name": "stdout",
     "output_type": "stream",
     "text": [
      "\n",
      "\n",
      "Your First Matrix is ....\n",
      "[1, 2]\n",
      "[3, 4]\n",
      "\n",
      "Your Second Matrix is ....\n",
      "[5, 4]\n",
      "[3, 2]\n",
      "\n",
      "\n",
      "\n",
      "Your Added Matrix is ....\n",
      "[6, 6]\n",
      "[6, 6]\n",
      "\n",
      "\n",
      "\n",
      "Your Multiplied Matrix is ....\n",
      "[5, 8]\n",
      "[9, 8]\n",
      "\n",
      "Transpose of First Matrix is ....\n",
      "[1, 3]\n",
      "[2, 4]\n",
      "\n",
      "Transpose of Second Matrix is ....\n",
      "[5, 3]\n",
      "[4, 2]\n"
     ]
    }
   ],
   "source": [
    "m = int(input(\"Enter the number of row :-\"))\n",
    "n = int(input(\"Enter the number of Column :-\"))\n",
    "\n",
    "lst1 = []\n",
    "print()\n",
    "for i in range(m):\n",
    "    lst2 = []\n",
    "    for j in range(n):\n",
    "        data = int(input(f\"Enter the Value at Index {i},{j} in First Matrix :-\"))\n",
    "        lst2.append(data)\n",
    "        \n",
    "    lst1.append(lst2)\n",
    "    print(end = \"\\n\")  \n",
    "\n",
    "# print(\"Your First Matrix is ....\")\n",
    "# for raw in lst1:\n",
    "#     print(raw)\n",
    "    \n",
    "lst3 = []\n",
    "\n",
    "for i in range(m):\n",
    "    lst4 = []\n",
    "    for j in range(n):\n",
    "        data = int(input(f\"Enter the Value at Index {i},{j} in Second Matrix :-\"))\n",
    "        lst4.append(data)\n",
    "        \n",
    "    lst3.append(lst4)\n",
    "    print(end = \"\\n\")  \n",
    "\n",
    "print(\"\\nYour First Matrix is ....\")\n",
    "for raw in lst1:\n",
    "    print(raw)\n",
    "\n",
    "print(\"\\nYour Second Matrix is ....\")\n",
    "for raw in lst3:\n",
    "    print(raw)\n",
    "\n",
    "lst5 = []\n",
    "\n",
    "for i in range(m):\n",
    "    lst6 = []\n",
    "    for j in range(n):\n",
    "        data = lst1[i][j] + lst3[i][j]\n",
    "        lst6.append(data)\n",
    "        \n",
    "    lst5.append(lst6)\n",
    "    print(end = \"\\n\")  \n",
    "\n",
    "print(\"\\nYour Added Matrix is ....\")\n",
    "for raw in lst5:\n",
    "    print(raw)\n",
    "\n",
    "\n",
    "lst7 = []\n",
    "\n",
    "for i in range(m):\n",
    "    lst8 = []\n",
    "    for j in range(n):\n",
    "        data = lst1[i][j] * lst3[i][j]\n",
    "        lst8.append(data)\n",
    "        \n",
    "    lst7.append(lst8)\n",
    "    print(end = \"\\n\")  \n",
    "\n",
    "print(\"\\nYour Multiplied Matrix is ....\")\n",
    "for raw in lst7:\n",
    "    print(raw)\n",
    "\n",
    "print(\"\\nTranspose of First Matrix is ....\")\n",
    "transpose1 = []\n",
    "for i in range(n):\n",
    "    temp = []\n",
    "    for j in range(m):\n",
    "        temp.append(lst1[j][i])\n",
    "    transpose1.append(temp)\n",
    "\n",
    "for i in transpose1:\n",
    "    print(i)\n",
    "\n",
    "print(\"\\nTranspose of Second Matrix is ....\")\n",
    "transpose2 = []\n",
    "for i in range(n):\n",
    "    temp = []\n",
    "    for j in range(m):\n",
    "        temp.append(lst3[j][i])\n",
    "    transpose2.append(temp)\n",
    "\n",
    "for i in transpose2:\n",
    "    print(i)"
   ]
  },
  {
   "cell_type": "code",
   "execution_count": null,
   "id": "50ad201f-3f08-4b54-9acf-3e24f96f7033",
   "metadata": {},
   "outputs": [],
   "source": []
  },
  {
   "cell_type": "markdown",
   "id": "820e4830-44d1-4a63-a157-f1ae450c36cb",
   "metadata": {},
   "source": [
    "# 6. Accept a number and print its digit multiplication table."
   ]
  },
  {
   "cell_type": "code",
   "execution_count": 7,
   "id": "e25020f2-a5ed-4ef7-9d45-696e667b6f94",
   "metadata": {},
   "outputs": [
    {
     "name": "stdin",
     "output_type": "stream",
     "text": [
      "Enter a number :- 3\n"
     ]
    },
    {
     "name": "stdout",
     "output_type": "stream",
     "text": [
      "Printing the multiplication table of 1\n",
      "--------------------\n",
      "| 1  X  1 | = 1    |\n",
      "| 1  X  2 | = 2    |\n",
      "| 1  X  3 | = 3    |\n",
      "| 1  X  4 | = 4    |\n",
      "| 1  X  5 | = 5    |\n",
      "| 1  X  6 | = 6    |\n",
      "| 1  X  7 | = 7    |\n",
      "| 1  X  8 | = 8    |\n",
      "| 1  X  9 | = 9    |\n",
      "| 1  X 10 | = 10   |\n",
      "--------------------\n",
      "Printing the multiplication table of 2\n",
      "--------------------\n",
      "| 2  X  1 | = 2    |\n",
      "| 2  X  2 | = 4    |\n",
      "| 2  X  3 | = 6    |\n",
      "| 2  X  4 | = 8    |\n",
      "| 2  X  5 | = 10   |\n",
      "| 2  X  6 | = 12   |\n",
      "| 2  X  7 | = 14   |\n",
      "| 2  X  8 | = 16   |\n",
      "| 2  X  9 | = 18   |\n",
      "| 2  X 10 | = 20   |\n",
      "--------------------\n",
      "Printing the multiplication table of 3\n",
      "--------------------\n",
      "| 3  X  1 | = 3    |\n",
      "| 3  X  2 | = 6    |\n",
      "| 3  X  3 | = 9    |\n",
      "| 3  X  4 | = 12   |\n",
      "| 3  X  5 | = 15   |\n",
      "| 3  X  6 | = 18   |\n",
      "| 3  X  7 | = 21   |\n",
      "| 3  X  8 | = 24   |\n",
      "| 3  X  9 | = 27   |\n",
      "| 3  X 10 | = 30   |\n",
      "--------------------\n"
     ]
    }
   ],
   "source": [
    "num = int(input(\"Enter a number :-\"))\n",
    "\n",
    "for i in range(1,num+1):\n",
    "    print(f\"Printing the multiplication table of {i}\")\n",
    "    print(\"-\"*20)\n",
    "    for j in range(1, 11):\n",
    "        print(f\"|{i:^3} X {j:^3}| = {i*j:<5}|\")\n",
    "    print(\"-\"*20)"
   ]
  },
  {
   "cell_type": "markdown",
   "id": "4d0942ac-171e-4261-b7f6-e403a67394eb",
   "metadata": {},
   "source": [
    "# 7. Print all pairs of numbers (i, j) such that i + j == 10."
   ]
  },
  {
   "cell_type": "code",
   "execution_count": 8,
   "id": "4d99e6d7-fe1a-400e-8d8f-983eeb10f4b7",
   "metadata": {},
   "outputs": [
    {
     "name": "stdout",
     "output_type": "stream",
     "text": [
      "(0,10), (1,9), (2,8), (3,7), (4,6), (5,5), (6,4), (7,3), (8,2), (9,1), (10,0), "
     ]
    }
   ],
   "source": [
    "for i in range(11):\n",
    "    for j in range(11):\n",
    "        if i+j == 10:\n",
    "            print(f\"({i},{j})\",end=\", \")"
   ]
  },
  {
   "cell_type": "markdown",
   "id": "e67e55c5-f57c-451b-a51e-197ebf559524",
   "metadata": {},
   "source": [
    "# 8. Print all pairs (i, j) such that i * j <= 20 for i, j in range 1–10."
   ]
  },
  {
   "cell_type": "code",
   "execution_count": 9,
   "id": "fbf8ddab-ac51-4ab5-93a3-47973feb30bc",
   "metadata": {},
   "outputs": [
    {
     "name": "stdout",
     "output_type": "stream",
     "text": [
      "(0,0), (0,1), (0,2), (0,3), (0,4), (0,5), (0,6), (0,7), (0,8), (0,9), (0,10), (1,0), (1,1), (1,2), (1,3), (1,4), (1,5), (1,6), (1,7), (1,8), (1,9), (1,10), (2,0), (2,1), (2,2), (2,3), (2,4), (2,5), (2,6), (2,7), (2,8), (2,9), (2,10), (3,0), (3,1), (3,2), (3,3), (3,4), (3,5), (3,6), (4,0), (4,1), (4,2), (4,3), (4,4), (4,5), (5,0), (5,1), (5,2), (5,3), (5,4), (6,0), (6,1), (6,2), (6,3), (7,0), (7,1), (7,2), (8,0), (8,1), (8,2), (9,0), (9,1), (9,2), (10,0), (10,1), (10,2), "
     ]
    }
   ],
   "source": [
    "for i in range(11):\n",
    "    for j in range(11):\n",
    "        if i*j <= 20:\n",
    "            print(f\"({i},{j})\",end=\", \")"
   ]
  },
  {
   "cell_type": "markdown",
   "id": "a8670d61-1dfc-4e4c-b262-1c6e42d73fcf",
   "metadata": {},
   "source": [
    "# 9. Generate and print all prime numbers between 1 and 100. "
   ]
  },
  {
   "cell_type": "code",
   "execution_count": 10,
   "id": "f01ead9e-5f2a-49ea-8c9b-f868f001d24e",
   "metadata": {},
   "outputs": [
    {
     "name": "stdout",
     "output_type": "stream",
     "text": [
      "2\n",
      "3\n",
      "5\n",
      "7\n",
      "11\n",
      "13\n",
      "17\n",
      "19\n",
      "23\n",
      "29\n",
      "31\n",
      "37\n",
      "41\n",
      "43\n",
      "47\n",
      "53\n",
      "59\n",
      "61\n",
      "67\n",
      "71\n",
      "73\n",
      "79\n",
      "83\n",
      "89\n",
      "97\n"
     ]
    }
   ],
   "source": [
    "for num in range(2,101):\n",
    "    for i in range(2,num):\n",
    "        if num%i == 0:\n",
    "            break\n",
    "    else:\n",
    "        print(num)"
   ]
  },
  {
   "cell_type": "markdown",
   "id": "57a949a7-663b-466e-b56c-3d2eec0fad26",
   "metadata": {},
   "source": [
    "# 10. Add two matrices of the same size."
   ]
  },
  {
   "cell_type": "code",
   "execution_count": 11,
   "id": "e72c6365-58d0-4448-b65f-95d39d44f3f3",
   "metadata": {},
   "outputs": [
    {
     "name": "stdin",
     "output_type": "stream",
     "text": [
      "Enter the number of row :- 2\n",
      "Enter the number of Column :- 2\n"
     ]
    },
    {
     "name": "stdout",
     "output_type": "stream",
     "text": [
      "\n"
     ]
    },
    {
     "name": "stdin",
     "output_type": "stream",
     "text": [
      "Enter the Value at Index 0,0 in First Matrix :- 1\n",
      "Enter the Value at Index 0,1 in First Matrix :- 2\n"
     ]
    },
    {
     "name": "stdout",
     "output_type": "stream",
     "text": [
      "\n"
     ]
    },
    {
     "name": "stdin",
     "output_type": "stream",
     "text": [
      "Enter the Value at Index 1,0 in First Matrix :- 3\n",
      "Enter the Value at Index 1,1 in First Matrix :- 4\n"
     ]
    },
    {
     "name": "stdout",
     "output_type": "stream",
     "text": [
      "\n"
     ]
    },
    {
     "name": "stdin",
     "output_type": "stream",
     "text": [
      "Enter the Value at Index 0,0 in Second Matrix :- 4\n",
      "Enter the Value at Index 0,1 in Second Matrix :- 3\n"
     ]
    },
    {
     "name": "stdout",
     "output_type": "stream",
     "text": [
      "\n"
     ]
    },
    {
     "name": "stdin",
     "output_type": "stream",
     "text": [
      "Enter the Value at Index 1,0 in Second Matrix :- 2\n",
      "Enter the Value at Index 1,1 in Second Matrix :- 1\n"
     ]
    },
    {
     "name": "stdout",
     "output_type": "stream",
     "text": [
      "\n",
      "\n",
      "Your First Matrix is ....\n",
      "[1, 2]\n",
      "[3, 4]\n",
      "\n",
      "Your Second Matrix is ....\n",
      "[4, 3]\n",
      "[2, 1]\n",
      "\n",
      "\n",
      "\n",
      "Your Added Matrix is ....\n",
      "[5, 5]\n",
      "[5, 5]\n"
     ]
    }
   ],
   "source": [
    "m = int(input(\"Enter the number of row :-\"))\n",
    "n = int(input(\"Enter the number of Column :-\"))\n",
    "\n",
    "lst1 = []\n",
    "print()\n",
    "for i in range(m):\n",
    "    lst2 = []\n",
    "    for j in range(n):\n",
    "        data = int(input(f\"Enter the Value at Index {i},{j} in First Matrix :-\"))\n",
    "        lst2.append(data)\n",
    "        \n",
    "    lst1.append(lst2)\n",
    "    print(end = \"\\n\")  \n",
    "\n",
    "# print(\"Your First Matrix is ....\")\n",
    "# for raw in lst1:\n",
    "#     print(raw)\n",
    "    \n",
    "lst3 = []\n",
    "\n",
    "for i in range(m):\n",
    "    lst4 = []\n",
    "    for j in range(n):\n",
    "        data = int(input(f\"Enter the Value at Index {i},{j} in Second Matrix :-\"))\n",
    "        lst4.append(data)\n",
    "        \n",
    "    lst3.append(lst4)\n",
    "    print(end = \"\\n\")  \n",
    "\n",
    "print(\"\\nYour First Matrix is ....\")\n",
    "for raw in lst1:\n",
    "    print(raw)\n",
    "\n",
    "print(\"\\nYour Second Matrix is ....\")\n",
    "for raw in lst3:\n",
    "    print(raw)\n",
    "\n",
    "lst5 = []\n",
    "\n",
    "for i in range(m):\n",
    "    lst6 = []\n",
    "    for j in range(n):\n",
    "        data = lst1[i][j] + lst3[i][j]\n",
    "        lst6.append(data)\n",
    "        \n",
    "    lst5.append(lst6)\n",
    "    print(end = \"\\n\")  \n",
    "\n",
    "print(\"\\nYour Added Matrix is ....\")\n",
    "for raw in lst5:\n",
    "    print(raw)\n"
   ]
  },
  {
   "cell_type": "code",
   "execution_count": null,
   "id": "b9142c97-dc68-429c-9e8e-4d733f458021",
   "metadata": {},
   "outputs": [],
   "source": []
  }
 ],
 "metadata": {
  "kernelspec": {
   "display_name": "Python [conda env:base] *",
   "language": "python",
   "name": "conda-base-py"
  },
  "language_info": {
   "codemirror_mode": {
    "name": "ipython",
    "version": 3
   },
   "file_extension": ".py",
   "mimetype": "text/x-python",
   "name": "python",
   "nbconvert_exporter": "python",
   "pygments_lexer": "ipython3",
   "version": "3.12.7"
  }
 },
 "nbformat": 4,
 "nbformat_minor": 5
}
