{
 "cells": [
  {
   "cell_type": "markdown",
   "id": "98b6d7a6-1332-4983-b87d-5d9fe05a195f",
   "metadata": {},
   "source": [
    "# 1. Solve Below Problem  \n",
    "\n",
    "- Introduction \n",
    " \t \tFor this assignment, read the scenario below and then respond to the problem statement described. \n",
    "\n",
    "- Scenario \n",
    "    \tThe 'Man of the Match' award of a 50-over cricket match is decided by computing points earned by players. The points are calculated on the basis of the following rules: \n",
    "\n",
    "- Batting \n",
    "\n",
    "• 1 point for 2 runs scored \n",
    "• Additional 5 points for half century \n",
    "• Additional 10 points for century \n",
    "• 2 points for strike rate (runs/balls faced) of 80-100 \n",
    "• Additional 4 points for strike rate>100 \n",
    "• 1 point for hitting a boundary (four) and 2 points for over boundary (six) \n",
    "\n",
    "- Bowling \n",
    "\n",
    " \n",
    "• 10 points for each wicket \n",
    "• Additional 5 points for three wickets per innings \n",
    "• Additional 10 points for 5 wickets or more in innings \n",
    "• 4 points for economy rate (runs given per over) between 3.5 and 4.5 \n",
    "• 7 points for economy rate between 2 and 3.5 \n",
    "• 10 points for economy rate less than 2 \n",
    "\n",
    "- Fielding \n",
    "\n",
    "• 10 points each for catch/stumping/run out \n",
    "\n",
    "The performance of each player is stored in a dictionary object. Displayed below is data for 5 \n",
    "players. \n",
    "\n",
    "    p1={'name':'Virat Kohli', 'role':'bat', 'runs':112, '4':10, '6':0, \n",
    "    'balls':119, 'field':0} \n",
    "    p2={'name':'du Plessis', 'role':'bat', 'runs':120, '4':11, '6':2, \n",
    "    'balls':112, 'field':0} \n",
    "    p3={'name':'Bhuvneshwar Kumar', 'role':'bowl', 'wkts':1, 'overs':10, \n",
    "    'runs':71, 'field':1} \n",
    "    p4={'name':'Yuzvendra Chahal', 'role':'bowl', 'wkts':2, 'overs':10, \n",
    "    'runs':45, 'field':0} \n",
    "    p5={'name':'Kuldeep Yadav', 'role':'bowl', 'wkts':3, 'overs':10, 'runs':34, \n",
    "    'field':0} \n",
    "\n",
    "- Problem Statement \n",
    "\n",
    "Assuming that these are the top 5 performers, write a Python program to decide the player \n",
    "with the highest points. Develop separate functions to compute batting and bowling points, when you execute program it should compute total batscore \n",
    "\n",
    "When your script is run, it should generate a result which might look like this: \n",
    "\n",
    "{'name': 'Virat Kohli', 'batscore': 73} \n",
    "{'name': 'du Plessis', 'batscore': 84} \n",
    "{'name': 'Bhuvneshwar Kumar', 'bowlscore': 20} \n",
    "{'name': 'Yuzvendra Chahal', 'bowlscore': 30} \n",
    "{'name': 'Kuldeep Yadav', 'bowlscore': 45} \n",
    "\n",
    "- Hint \n",
    "\n",
    "The calculation of points will require conditional logic to be applied. Since this is to be \n",
    "performed for 5 players, there’s looping involved. Defining and calling functions is also required. \n",
    "\n",
    "You can approach this assignment in the following sequence: \n",
    "\n",
    "1. First, create the required variables. \n",
    "\n",
    "2. Text convert the rules into expressions and conditions. For example, points = runs/2 or if runs >50, points = points+2 and so on. \n",
    "\n",
    "3. Next, define each of the two functions for batting or fielding and bowling. \n",
    "\n",
    "4. Finally write your program using the conditions and the functions. "
   ]
  },
  {
   "cell_type": "markdown",
   "id": "c58e7828-f47d-4a62-b09c-77ce660bd2fa",
   "metadata": {},
   "source": [
    "# 2. what will be output of this code ? \n",
    "\n",
    "    x = 5 \n",
    "    def func(x): \n",
    "            x = x **2 \n",
    "            print(f\"Inside function value of x is {x}\") \n",
    "    print(\"Before value of x is : \", x) \n",
    "    func(x) \n",
    "    print(\"After value of x is : \", x)"
   ]
  },
  {
   "cell_type": "markdown",
   "id": "9cd272c7-eb59-4d64-be86-d741561bacf2",
   "metadata": {},
   "source": [
    "# 3. what will be output of this code ? \n",
    "\n",
    "    x = 5 \n",
    "    def func(): \n",
    "           print(f\"Inside function value of x is {x**2}\") \n",
    "    print(\"Before value of x is : \", x) \n",
    "    func(x) \n",
    "    print(\"After value of x is : \", x) "
   ]
  },
  {
   "cell_type": "markdown",
   "id": "50395c81-5aad-4971-beb5-2f7c7ef6b5b6",
   "metadata": {},
   "source": [
    "# 4. what will be output of this code ? \n",
    "\n",
    "    x = 5 \n",
    "    def func(data): \n",
    "    data = x ** 2 \n",
    "    print(f\"Inside function value of x is {x}\") \n",
    "    print(f\"Inside function value of data is {data}\") \n",
    "    print(\"Before value of x is : \", x) \n",
    "    func(x) \n",
    "    print(\"After value of x is : \", x) "
   ]
  },
  {
   "cell_type": "markdown",
   "id": "a4531e34-8419-4966-b380-d770e484792c",
   "metadata": {},
   "source": [
    "# 5. what will be output of this code ? \n",
    "\n",
    "    x = 10 \n",
    "    def func(): \n",
    "    print(f\"Inside value of x is {x**2}\") \n",
    "    return x**2 \n",
    "    print(\"Before x is : \", x) \n",
    "    x = func() \n",
    "    print(\"After x is : \", x) "
   ]
  },
  {
   "cell_type": "markdown",
   "id": "ca5164d8-381e-425b-ad5e-d5b03a1d5540",
   "metadata": {},
   "source": [
    "# 6. Create a function that modifies a local variable. Print both inside and outside the function"
   ]
  },
  {
   "cell_type": "markdown",
   "id": "61ce44de-7089-43d6-a6ec-5ff2c5561781",
   "metadata": {},
   "source": [
    "# 7. Declare a global variable, change it inside a function using global keyword, and observe the result. "
   ]
  },
  {
   "cell_type": "markdown",
   "id": "6f84c3dd-ef78-48bb-b5c5-bd4aa20da6ba",
   "metadata": {},
   "source": [
    "# 8. Write two functions using the same variable name but in different scopes. Verify independence"
   ]
  },
  {
   "cell_type": "markdown",
   "id": "26f5d9d7-3217-4fbd-967c-1f55edacc737",
   "metadata": {},
   "source": [
    "# 9. Demonstrate what happens when you try to modify a global variable without using global. "
   ]
  },
  {
   "cell_type": "markdown",
   "id": "7c8d5fb5-0f47-4c2d-853b-13b98d7ac01b",
   "metadata": {},
   "source": [
    "# 10. Write a nested function and use the nonlocal keyword to modify the outer function's variable."
   ]
  },
  {
   "cell_type": "code",
   "execution_count": null,
   "id": "241f8eb5-63bb-4bf0-ad5d-bdd8d652009c",
   "metadata": {},
   "outputs": [],
   "source": []
  }
 ],
 "metadata": {
  "kernelspec": {
   "display_name": "Python [conda env:base] *",
   "language": "python",
   "name": "conda-base-py"
  },
  "language_info": {
   "codemirror_mode": {
    "name": "ipython",
    "version": 3
   },
   "file_extension": ".py",
   "mimetype": "text/x-python",
   "name": "python",
   "nbconvert_exporter": "python",
   "pygments_lexer": "ipython3",
   "version": "3.12.7"
  }
 },
 "nbformat": 4,
 "nbformat_minor": 5
}
