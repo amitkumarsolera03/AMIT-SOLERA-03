{
 "cells": [
  {
   "cell_type": "markdown",
   "id": "bc6d6618-8600-453e-b28c-0b32f18b7684",
   "metadata": {},
   "source": [
    "# 1. Explore split, strip, replace, center, title methods of string data type in python "
   ]
  },
  {
   "cell_type": "markdown",
   "id": "fd8fcb85-a998-46bb-a4b3-df653e32f5bb",
   "metadata": {},
   "source": [
    "## Split()\n",
    "    string.split() \n",
    "\n",
    "    (\"Return a list of the substrings in the string, using sep as the separator string.\n",
    "\n",
    "      sep\n",
    "        The separator used to split the string.\n",
    "    \n",
    "        When set to None (the default value), will split on any whitespace\n",
    "        character (including \\n \\r \\t \\f and spaces) and will discard\n",
    "        empty strings from the result.\n",
    "      maxsplit\n",
    "        Maximum number of splits.\n",
    "        -1 (the default value) means no limit.\n",
    "    \n",
    "    Splitting starts at the front of the string and works to the end.\n",
    "    \n",
    "    Note, str.split() is mainly useful for data that has been intentionally\n",
    "    delimited.  With natural text that includes punctuation, consider using\n",
    "    the regular expression module.\")"
   ]
  },
  {
   "cell_type": "code",
   "execution_count": 1,
   "id": "e8c68a46-14df-452a-91c5-e107bc93995a",
   "metadata": {},
   "outputs": [],
   "source": [
    "str = \"Amit Solera\""
   ]
  },
  {
   "cell_type": "code",
   "execution_count": 2,
   "id": "dd3f6a2b-3ff7-4135-93b2-980342d6ebe9",
   "metadata": {},
   "outputs": [
    {
     "data": {
      "text/plain": [
       "['Amit', 'Solera']"
      ]
     },
     "execution_count": 2,
     "metadata": {},
     "output_type": "execute_result"
    }
   ],
   "source": [
    "str.split()"
   ]
  },
  {
   "cell_type": "code",
   "execution_count": 3,
   "id": "eef1aa0c-d8a6-44ec-ad89-cf2dede0ad77",
   "metadata": {},
   "outputs": [],
   "source": [
    "# Split multiple character set by any specific character \n",
    "\n",
    "name = \"Amit,Abhi,Sonu,yogi\""
   ]
  },
  {
   "cell_type": "code",
   "execution_count": 4,
   "id": "2a7a213a-2f80-4530-9239-ddf6dcb00ccd",
   "metadata": {},
   "outputs": [
    {
     "data": {
      "text/plain": [
       "['Amit', 'Abhi', 'Sonu', 'yogi']"
      ]
     },
     "execution_count": 4,
     "metadata": {},
     "output_type": "execute_result"
    }
   ],
   "source": [
    "name.split(\",\")"
   ]
  },
  {
   "cell_type": "code",
   "execution_count": 5,
   "id": "11fe153d-342c-4c2a-b640-9a821cf3dfb3",
   "metadata": {},
   "outputs": [
    {
     "data": {
      "text/plain": [
       "<function str.split(sep=None, maxsplit=-1)>"
      ]
     },
     "execution_count": 5,
     "metadata": {},
     "output_type": "execute_result"
    }
   ],
   "source": [
    "str.split"
   ]
  },
  {
   "cell_type": "markdown",
   "id": "2f4a0601-fdce-48b8-96b2-130ee4989933",
   "metadata": {},
   "source": [
    "## Strip()\n",
    "    str.strip()\n",
    "            --> Remove white-space and an specfic characters from the end and starting of the given string\n",
    "\n",
    "            (\"Return a copy of the string with leading and trailing whitespace removed. If chars is given and not None, remove characters in chars instead\")"
   ]
  },
  {
   "cell_type": "code",
   "execution_count": 6,
   "id": "1c36baad-02e1-4dcb-b787-515a5d08955c",
   "metadata": {},
   "outputs": [],
   "source": [
    "str = \"       Amit Solera      \""
   ]
  },
  {
   "cell_type": "code",
   "execution_count": 7,
   "id": "f33a6a8c-cda1-4263-b3bc-37b419c1bc73",
   "metadata": {},
   "outputs": [
    {
     "data": {
      "text/plain": [
       "'Amit Solera'"
      ]
     },
     "execution_count": 7,
     "metadata": {},
     "output_type": "execute_result"
    }
   ],
   "source": [
    "str.strip()"
   ]
  },
  {
   "cell_type": "code",
   "execution_count": 8,
   "id": "e7fdee9e-a7bf-4a25-bec1-6b39f75d5ec5",
   "metadata": {},
   "outputs": [],
   "source": [
    "str = \"  .!@#;     Amit Solera     ;.,;!@# \""
   ]
  },
  {
   "cell_type": "code",
   "execution_count": 9,
   "id": "bf786464-6a33-4139-ac16-0dda5a19d58f",
   "metadata": {},
   "outputs": [
    {
     "data": {
      "text/plain": [
       "'Amit Solera'"
      ]
     },
     "execution_count": 9,
     "metadata": {},
     "output_type": "execute_result"
    }
   ],
   "source": [
    "str.strip(' ,.;!@#')"
   ]
  },
  {
   "cell_type": "code",
   "execution_count": 10,
   "id": "3ce5cbd7-25e2-49eb-a915-6bc4aedfea98",
   "metadata": {},
   "outputs": [],
   "source": [
    "str = \"     *****Amit Solera*****      \""
   ]
  },
  {
   "cell_type": "code",
   "execution_count": 11,
   "id": "121d4b07-06b8-41f9-9ee4-c4f19c1b5127",
   "metadata": {},
   "outputs": [
    {
     "data": {
      "text/plain": [
       "'Amit Solera'"
      ]
     },
     "execution_count": 11,
     "metadata": {},
     "output_type": "execute_result"
    }
   ],
   "source": [
    "str.strip(' *')"
   ]
  },
  {
   "cell_type": "code",
   "execution_count": null,
   "id": "a597176a-06b8-4126-8565-2bc979d7ea3f",
   "metadata": {},
   "outputs": [],
   "source": []
  },
  {
   "cell_type": "markdown",
   "id": "02ed94c3-9cf7-4ba6-b359-ec8792e6887e",
   "metadata": {},
   "source": [
    "## Replace()\n",
    "    str.replace(\"old\" , \"new\")\n",
    "        --> Replace all occurrences of the string by new .\n",
    "\n",
    "        (\"Return a copy with all occurrences of substring old replaced by new.\")"
   ]
  },
  {
   "cell_type": "code",
   "execution_count": 12,
   "id": "bf4ac5a4-9f6b-42d1-83d3-4621b60eb251",
   "metadata": {},
   "outputs": [],
   "source": [
    "str = \"Hello World!\""
   ]
  },
  {
   "cell_type": "code",
   "execution_count": 13,
   "id": "53adbd65-37e1-44fd-a69d-6b26cccef9e8",
   "metadata": {},
   "outputs": [
    {
     "data": {
      "text/plain": [
       "'Bello World!'"
      ]
     },
     "execution_count": 13,
     "metadata": {},
     "output_type": "execute_result"
    }
   ],
   "source": [
    "str.replace(\"H\",\"B\")"
   ]
  },
  {
   "cell_type": "code",
   "execution_count": 14,
   "id": "f9a6085e-e7b2-48bd-a0e2-5c70cccd4dfd",
   "metadata": {},
   "outputs": [],
   "source": [
    "str = \"Hello World!! . Welcome to Python World!!\""
   ]
  },
  {
   "cell_type": "code",
   "execution_count": 15,
   "id": "da328893-bb71-4157-910e-59e83dd90994",
   "metadata": {},
   "outputs": [
    {
     "data": {
      "text/plain": [
       "'Hello Diniyaa!! . Welcome to Python Diniyaa!!'"
      ]
     },
     "execution_count": 15,
     "metadata": {},
     "output_type": "execute_result"
    }
   ],
   "source": [
    "str.replace(\"World\", \"Diniyaa\")"
   ]
  },
  {
   "cell_type": "code",
   "execution_count": 16,
   "id": "7d06060b-36c8-4988-a828-132ef3141943",
   "metadata": {},
   "outputs": [],
   "source": [
    "str = \"Amit        Solera        \""
   ]
  },
  {
   "cell_type": "code",
   "execution_count": 17,
   "id": "aef1cb53-860e-4eed-96ae-cac6e8463c69",
   "metadata": {},
   "outputs": [
    {
     "data": {
      "text/plain": [
       "'AmitSolera'"
      ]
     },
     "execution_count": 17,
     "metadata": {},
     "output_type": "execute_result"
    }
   ],
   "source": [
    "str.replace(\" \" , \"\")"
   ]
  },
  {
   "cell_type": "code",
   "execution_count": null,
   "id": "8cb62da4-6037-481d-b99e-779df6516e74",
   "metadata": {},
   "outputs": [],
   "source": []
  },
  {
   "cell_type": "markdown",
   "id": "8193557f-2b68-43a2-9401-0999984dbf02",
   "metadata": {},
   "source": [
    "## Center\n",
    "    str.center(width , \"Fill Character\")\n",
    "            --> \n",
    "            (\"Return a centered string of length width.\n",
    "        \n",
    "            Padding is done using the specified fill character (default is a space).\")"
   ]
  },
  {
   "cell_type": "code",
   "execution_count": 18,
   "id": "c74b2362-7628-4351-bc77-bf18447e0db2",
   "metadata": {},
   "outputs": [],
   "source": [
    "str = \"Amit\""
   ]
  },
  {
   "cell_type": "code",
   "execution_count": 19,
   "id": "9fcc3e22-68ea-43b4-81ff-972ae0b43893",
   "metadata": {},
   "outputs": [
    {
     "data": {
      "text/plain": [
       "'   Amit   '"
      ]
     },
     "execution_count": 19,
     "metadata": {},
     "output_type": "execute_result"
    }
   ],
   "source": [
    "str.center(10)"
   ]
  },
  {
   "cell_type": "code",
   "execution_count": 20,
   "id": "948f5bc3-d2c2-4d69-ad19-107686e736ea",
   "metadata": {},
   "outputs": [
    {
     "data": {
      "text/plain": [
       "'---Amit---'"
      ]
     },
     "execution_count": 20,
     "metadata": {},
     "output_type": "execute_result"
    }
   ],
   "source": [
    "str.center(10 ,\"-\")"
   ]
  },
  {
   "cell_type": "code",
   "execution_count": null,
   "id": "6672d63f-c13d-4a5b-bcc9-a42f5aacc00b",
   "metadata": {},
   "outputs": [],
   "source": []
  },
  {
   "cell_type": "markdown",
   "id": "ac74afca-2618-4e4e-a36d-d63b20cbf847",
   "metadata": {},
   "source": [
    "## Title()\n",
    "    str.title()\n",
    "        (\"Return a version of the string where each word is titlecased.\n",
    "\n",
    "        More specifically, words start with uppercased characters and all remaining\n",
    "        cased characters have lower case.\")"
   ]
  },
  {
   "cell_type": "code",
   "execution_count": 21,
   "id": "c64a11eb-4430-42b7-a67e-34ca17cd78f6",
   "metadata": {},
   "outputs": [],
   "source": [
    "str = \"hello sir , welcome !!. how can i assist you??.\""
   ]
  },
  {
   "cell_type": "code",
   "execution_count": 22,
   "id": "94eeee2d-258b-4d46-8c5f-b91525d531d7",
   "metadata": {},
   "outputs": [
    {
     "data": {
      "text/plain": [
       "'Hello Sir , Welcome !!. How Can I Assist You??.'"
      ]
     },
     "execution_count": 22,
     "metadata": {},
     "output_type": "execute_result"
    }
   ],
   "source": [
    "str.title()"
   ]
  },
  {
   "cell_type": "code",
   "execution_count": null,
   "id": "01d54816-82ef-4d0b-8c70-a3ddc3694838",
   "metadata": {},
   "outputs": [],
   "source": []
  },
  {
   "cell_type": "code",
   "execution_count": null,
   "id": "3070fc5c-e70f-4d97-82c2-4ce813e83fe0",
   "metadata": {},
   "outputs": [],
   "source": []
  },
  {
   "cell_type": "markdown",
   "id": "633f2e85-dc65-4a8d-b5d0-283ca0a7f574",
   "metadata": {},
   "source": [
    "# 2. What is difference between mutable and immutable data types in python "
   ]
  },
  {
   "cell_type": "markdown",
   "id": "baeb2786-ef7f-4b2f-a345-62b656982682",
   "metadata": {},
   "source": [
    "## Data Types :-\n",
    "    There are generally two types of data types - \n",
    "        1.) Mutable Data Types ,\n",
    "        2.)Immutable Data Types"
   ]
  },
  {
   "cell_type": "markdown",
   "id": "ac1ffc63-fa4d-496f-8f91-e05d478069ff",
   "metadata": {},
   "source": [
    "### 1. Mutable Data Types :-\n",
    "                            Mutable objects are those whose values or contents can be modified in-place after they are created. This means you can change the object's internal state without creating a new object in memory.\n",
    "    Ex:- List , Dict , set etc."
   ]
  },
  {
   "cell_type": "code",
   "execution_count": null,
   "id": "c599d09f-8844-4888-8ac7-7815f9174242",
   "metadata": {},
   "outputs": [],
   "source": []
  },
  {
   "cell_type": "markdown",
   "id": "d0b515da-31e1-40cc-ba93-cec703ea493e",
   "metadata": {},
   "source": [
    "### 2. Immutable Data Types :-\n",
    "                           Immutable objects are those whose values or contents cannot be changed after they are created. Any operation that appears to modify an immutable object actually results in the creation of a new object with the desired changes, leaving the original object untouched.\n",
    "    Ex:- Tuple , string etc."
   ]
  },
  {
   "cell_type": "code",
   "execution_count": null,
   "id": "e440edc2-e9f6-48b7-a593-c1cc165da606",
   "metadata": {},
   "outputs": [],
   "source": []
  },
  {
   "cell_type": "code",
   "execution_count": null,
   "id": "54d31d7a-2f2b-48ab-953c-cdd704021c23",
   "metadata": {},
   "outputs": [],
   "source": []
  },
  {
   "cell_type": "markdown",
   "id": "3afdca59-17c9-4fe1-8a0f-81a2699f6e62",
   "metadata": {},
   "source": [
    "# 3. What are identifiers, list rules of identifiers in python "
   ]
  },
  {
   "cell_type": "markdown",
   "id": "f1ace822-c9fa-4816-aca2-d7faa0198c0e",
   "metadata": {},
   "source": [
    "## Identifiers :- \n",
    "                An identifier is a user-defined name given to various entities within a program, such as variables, functions, classes, modules, and other objects. They serve to uniquely identify these elements, making the code more readable and manageable."
   ]
  },
  {
   "cell_type": "markdown",
   "id": "7f2d9bee-7505-4a13-8b3b-1c8a57851f68",
   "metadata": {},
   "source": [
    "#### Rules for Naming Identifiers in Python: :- \n",
    "    \n",
    "    - Case-Sensitivity: Python identifiers are case-sensitive. For example, myVariable and myvariable are treated as distinct identifiers.\n",
    "    \n",
    "    - Allowed Characters: Identifiers can consist of letters (uppercase A-Z, lowercase a-z), digits (0-9), and underscores (_).\n",
    "    \n",
    "    - Starting Character: An identifier must begin with a letter or an underscore. It cannot start with a digit. \n",
    "    \n",
    "    - Keywords: Identifiers cannot be Python's reserved keywords (e.g., if, else, while, for, def, class).\n",
    "    \n",
    "    - Special Symbols: Identifiers cannot contain special symbols like !, @, #, $, %, etc.\n",
    "    \n",
    "    - Whitespace: Identifiers cannot contain whitespace."
   ]
  },
  {
   "cell_type": "code",
   "execution_count": null,
   "id": "b2fa865f-e26f-4e81-937a-c9b28aa30989",
   "metadata": {},
   "outputs": [],
   "source": []
  },
  {
   "cell_type": "code",
   "execution_count": null,
   "id": "802a7e5a-4d4e-43cb-8d9c-e8ff451d4c3d",
   "metadata": {},
   "outputs": [],
   "source": []
  },
  {
   "cell_type": "markdown",
   "id": "721bca8d-3899-48f8-91a2-9a87a3392049",
   "metadata": {},
   "source": [
    "# 4. Given the string s = \"        PyThOn ProGRamming         \", write steps to: \n",
    "    -Remove leading/trailing spaces \n",
    "\n",
    "    -Convert it to lowercase \n",
    "\n",
    "    -Capitalize the first letter "
   ]
  },
  {
   "cell_type": "code",
   "execution_count": 23,
   "id": "44122b90-f103-4951-b005-2d1a5843f40d",
   "metadata": {},
   "outputs": [],
   "source": [
    "str = \"     PyThOn ProGRamming    \""
   ]
  },
  {
   "cell_type": "code",
   "execution_count": 24,
   "id": "8091bb74-3dd5-4fc1-b7c3-7d79ca30d9e1",
   "metadata": {},
   "outputs": [
    {
     "data": {
      "text/plain": [
       "'Python programming'"
      ]
     },
     "execution_count": 24,
     "metadata": {},
     "output_type": "execute_result"
    }
   ],
   "source": [
    "str.strip().lower().capitalize()"
   ]
  },
  {
   "cell_type": "code",
   "execution_count": null,
   "id": "ff0d4e9d-583e-4cf9-8aea-58a3acd31a04",
   "metadata": {},
   "outputs": [],
   "source": []
  },
  {
   "cell_type": "markdown",
   "id": "82696b57-073c-4f20-ad7c-45ef92013f36",
   "metadata": {},
   "source": [
    "# 5. Substring Search & Replacement --> For the string text = \"I love Python, Python is easy\": \n",
    "\n",
    "    -Find the index of the first occurrence of \"Python\" \n",
    "    \n",
    "    -Replace all \"Python\" with \"Java\" \n",
    "    \n",
    "    -Check if the string ends with \"easy\" "
   ]
  },
  {
   "cell_type": "code",
   "execution_count": 25,
   "id": "89b83562-9f2a-4871-9251-c45b72c9dcfd",
   "metadata": {},
   "outputs": [],
   "source": [
    "str = \"I love Python,Python is easy\""
   ]
  },
  {
   "cell_type": "code",
   "execution_count": 26,
   "id": "45fff802-d091-4e19-bca4-7dab5b563231",
   "metadata": {},
   "outputs": [
    {
     "data": {
      "text/plain": [
       "7"
      ]
     },
     "execution_count": 26,
     "metadata": {},
     "output_type": "execute_result"
    }
   ],
   "source": [
    "str.find(\"Python\")"
   ]
  },
  {
   "cell_type": "code",
   "execution_count": 27,
   "id": "51527898-0cc3-458c-a054-8491717b2c1b",
   "metadata": {},
   "outputs": [
    {
     "data": {
      "text/plain": [
       "'I love Java,Java is easy'"
      ]
     },
     "execution_count": 27,
     "metadata": {},
     "output_type": "execute_result"
    }
   ],
   "source": [
    "str.replace(\"Python\" , \"Java\")"
   ]
  },
  {
   "cell_type": "code",
   "execution_count": 28,
   "id": "f8bc4c2c-5e86-4a26-b781-e21e0df21e5a",
   "metadata": {},
   "outputs": [
    {
     "data": {
      "text/plain": [
       "True"
      ]
     },
     "execution_count": 28,
     "metadata": {},
     "output_type": "execute_result"
    }
   ],
   "source": [
    "str.endswith(\"easy\")"
   ]
  },
  {
   "cell_type": "code",
   "execution_count": null,
   "id": "c17df3ec-b2e7-432d-9e1b-97d3e4ec55d7",
   "metadata": {},
   "outputs": [],
   "source": []
  },
  {
   "cell_type": "markdown",
   "id": "dd111e42-6fd3-4c96-a3ca-4a88dea85d6a",
   "metadata": {},
   "source": [
    "# 6. String Splitting & Joining --> Given data = \"apple,banana,mango,grape\": \n",
    "\n",
    "    -Split it into a list of fruits \n",
    "    \n",
    "    -Join the list back into a string with \" | \" as separator "
   ]
  },
  {
   "cell_type": "code",
   "execution_count": 29,
   "id": "2a5a0daf-2195-4adc-988e-88586adf32b3",
   "metadata": {},
   "outputs": [],
   "source": [
    "data = \"apple,banana,mango,grape\""
   ]
  },
  {
   "cell_type": "code",
   "execution_count": 30,
   "id": "c6f1e2e3-8d9b-47ba-8058-fc5c4ab17d38",
   "metadata": {},
   "outputs": [],
   "source": [
    "fruit = data.split(\",\")"
   ]
  },
  {
   "cell_type": "code",
   "execution_count": 31,
   "id": "25fe9294-fcc3-47d3-8b32-f287258e4992",
   "metadata": {},
   "outputs": [
    {
     "name": "stdout",
     "output_type": "stream",
     "text": [
      "['apple', 'banana', 'mango', 'grape']\n"
     ]
    }
   ],
   "source": [
    "print(fruit)"
   ]
  },
  {
   "cell_type": "code",
   "execution_count": 32,
   "id": "b7903f6d-ab24-442f-9039-d6dbaa0bffa6",
   "metadata": {},
   "outputs": [
    {
     "data": {
      "text/plain": [
       "'apple | banana | mango | grape'"
      ]
     },
     "execution_count": 32,
     "metadata": {},
     "output_type": "execute_result"
    }
   ],
   "source": [
    "\" | \".join(fruit)"
   ]
  },
  {
   "cell_type": "code",
   "execution_count": null,
   "id": "ae113b99-b7dd-4142-a1ba-f8bda637f7eb",
   "metadata": {},
   "outputs": [],
   "source": []
  },
  {
   "cell_type": "markdown",
   "id": "26231fd0-1a8a-4b60-b51a-6cea289b229a",
   "metadata": {},
   "source": [
    "# 7. Character Validation & Counting --> For s = \"ABC123!@#\": \n",
    "    \n",
    "    -Check if all characters are alphanumeric \n",
    "    \n",
    "    -Count the number of digits \n",
    "    \n",
    "    -Count occurrences of the letter \"A\" (case-insensitive) \n",
    "    \n",
    "    -Count occurrence of symbols "
   ]
  },
  {
   "cell_type": "code",
   "execution_count": 33,
   "id": "5e810b7a-0cd6-4e04-ad12-4bf0706aecc9",
   "metadata": {},
   "outputs": [],
   "source": [
    "s = \"ABC123!@#\""
   ]
  },
  {
   "cell_type": "code",
   "execution_count": 34,
   "id": "065fe8d8-aaf0-4b23-8443-42403f4c7322",
   "metadata": {},
   "outputs": [
    {
     "data": {
      "text/plain": [
       "False"
      ]
     },
     "execution_count": 34,
     "metadata": {},
     "output_type": "execute_result"
    }
   ],
   "source": [
    "s.isalnum()"
   ]
  },
  {
   "cell_type": "markdown",
   "id": "fd7fe753-dcbc-4c4a-b0b1-f86ad193e845",
   "metadata": {},
   "source": [
    "--> Count the number of Digit"
   ]
  },
  {
   "cell_type": "code",
   "execution_count": 35,
   "id": "ffc4f5cd-08a6-401a-9be1-f38208e68bbb",
   "metadata": {},
   "outputs": [],
   "source": [
    "count = 0\n",
    "for x in range(len(s)):\n",
    "    if (s[x].isdigit() == True ):\n",
    "        count+=1"
   ]
  },
  {
   "cell_type": "code",
   "execution_count": 36,
   "id": "ec07da86-8e51-4379-8239-c364ade37f66",
   "metadata": {},
   "outputs": [
    {
     "name": "stdout",
     "output_type": "stream",
     "text": [
      "Number of Digit : 3\n"
     ]
    }
   ],
   "source": [
    "print(f\"Number of Digit : {count}\")"
   ]
  },
  {
   "cell_type": "markdown",
   "id": "9fa677ef-477b-4914-809c-6f971085a4ce",
   "metadata": {},
   "source": [
    "--> Count occurence of symbols"
   ]
  },
  {
   "cell_type": "code",
   "execution_count": 37,
   "id": "70bd5a6b-2aa8-4a64-9c7c-19a4a27e4c88",
   "metadata": {},
   "outputs": [],
   "source": [
    "count = 0\n",
    "for x in range(len(s)):\n",
    "    if (s[x].isalnum() == False ):\n",
    "        count+=1"
   ]
  },
  {
   "cell_type": "code",
   "execution_count": 38,
   "id": "315266cc-9f18-4173-8611-c66e0f8b9a12",
   "metadata": {},
   "outputs": [
    {
     "name": "stdout",
     "output_type": "stream",
     "text": [
      "Number of Symbols : 3\n"
     ]
    }
   ],
   "source": [
    "print(f\"Number of Symbols : {count}\")"
   ]
  },
  {
   "cell_type": "code",
   "execution_count": null,
   "id": "5808a577-c8da-464a-9e88-0c3dcb06c0d1",
   "metadata": {},
   "outputs": [],
   "source": []
  },
  {
   "cell_type": "markdown",
   "id": "daf5c41c-52bd-4cd8-b725-b991ad6a2467",
   "metadata": {},
   "source": [
    "# 8. Slicing & Formatting --> Given filename = \"report_2024_final.txt\": \n",
    "\n",
    "    -Extract the year \"2024\" using slicing \n",
    "    \n",
    "    -Remove the \".txt\" extension \n",
    "    \n",
    "    -Format it as \"Final Report (2024)\" "
   ]
  },
  {
   "cell_type": "code",
   "execution_count": 39,
   "id": "b55424cb-b4c3-4a83-8f8f-74ff2bb40df5",
   "metadata": {},
   "outputs": [],
   "source": [
    "name = \"report_2024_final.txt\""
   ]
  },
  {
   "cell_type": "code",
   "execution_count": 40,
   "id": "39691d8b-c6a8-47c0-bef4-1ed8fa4d8ea9",
   "metadata": {},
   "outputs": [],
   "source": [
    "year = name[7:11]"
   ]
  },
  {
   "cell_type": "code",
   "execution_count": 41,
   "id": "d5e687e0-6637-4de0-b6c8-1ce367842057",
   "metadata": {},
   "outputs": [
    {
     "name": "stdout",
     "output_type": "stream",
     "text": [
      "2024\n"
     ]
    }
   ],
   "source": [
    "print(year)"
   ]
  },
  {
   "cell_type": "code",
   "execution_count": 42,
   "id": "66bcc9f9-4bba-47e4-9776-a65cd15c4e7e",
   "metadata": {},
   "outputs": [],
   "source": [
    "new_name = name.removesuffix(\".txt\")"
   ]
  },
  {
   "cell_type": "code",
   "execution_count": 43,
   "id": "259e1e7c-7486-4186-8493-76444f036976",
   "metadata": {},
   "outputs": [
    {
     "name": "stdout",
     "output_type": "stream",
     "text": [
      "report_2024_final\n"
     ]
    }
   ],
   "source": [
    "print(new_name)"
   ]
  },
  {
   "cell_type": "code",
   "execution_count": 44,
   "id": "949adab6-8bed-4676-bac2-ad4f8839579d",
   "metadata": {},
   "outputs": [
    {
     "name": "stdout",
     "output_type": "stream",
     "text": [
      "Final Report (2024)\n"
     ]
    }
   ],
   "source": [
    "print(f\"Final Report ({year})\")"
   ]
  },
  {
   "cell_type": "code",
   "execution_count": null,
   "id": "6601e945-b781-4500-aa46-7d83385d4ef3",
   "metadata": {},
   "outputs": [],
   "source": []
  },
  {
   "cell_type": "markdown",
   "id": "577addcc-8fde-4da0-9618-a76e15e7d237",
   "metadata": {},
   "source": [
    "# 9.  The Palindrome Check --> For a string like word = \"RaceCar\", how can you: \n",
    "\n",
    "    -Check if it's a palindrome (same forwards/backwards) \n",
    "    \n",
    "    -Ignore case differences (e.g., \"RaceCar\" = True) "
   ]
  },
  {
   "cell_type": "code",
   "execution_count": 45,
   "id": "e27debea-efb0-4f6a-944b-7ca21244c9d5",
   "metadata": {},
   "outputs": [],
   "source": [
    "word = \"RaceCar\""
   ]
  },
  {
   "cell_type": "code",
   "execution_count": 46,
   "id": "9e68beb9-c26a-4376-b0e3-84ef7ea8238c",
   "metadata": {},
   "outputs": [],
   "source": [
    "l_word = word.lower()"
   ]
  },
  {
   "cell_type": "code",
   "execution_count": 47,
   "id": "6274db2c-4197-4deb-9a6b-efd83c0761b3",
   "metadata": {},
   "outputs": [],
   "source": [
    "r_word = l_word[::-1]"
   ]
  },
  {
   "cell_type": "code",
   "execution_count": 48,
   "id": "84e73e20-69df-4c36-96ef-e03eaef3caa0",
   "metadata": {},
   "outputs": [],
   "source": [
    "check = (l_word == r_word)"
   ]
  },
  {
   "cell_type": "code",
   "execution_count": 49,
   "id": "83a6cb4d-a5c3-4421-beb2-e63a0446e685",
   "metadata": {},
   "outputs": [
    {
     "name": "stdout",
     "output_type": "stream",
     "text": [
      "True\n"
     ]
    }
   ],
   "source": [
    "print(check)"
   ]
  },
  {
   "cell_type": "code",
   "execution_count": null,
   "id": "eb064df5-00a0-4e24-8496-11ceb0068aeb",
   "metadata": {},
   "outputs": [],
   "source": []
  },
  {
   "cell_type": "markdown",
   "id": "aca0e90f-7fa9-4960-9e1e-9364d67a5db8",
   "metadata": {},
   "source": [
    "# 10.   You are given the following date-time string: \n",
    "    - datetime_str = \"2025-05-10 14:30:00\" \n",
    "    \n",
    "    - Write a Python program that uses slicing to extract: \n",
    "    \n",
    "        --> print the result in this given format: \n",
    "        \n",
    "            - Date: 10/05/2025, Time: 14:30  "
   ]
  },
  {
   "cell_type": "code",
   "execution_count": 50,
   "id": "b84d5a15-5c3f-4494-9006-67d5367360e9",
   "metadata": {},
   "outputs": [],
   "source": [
    "datatime_str = \"2025-05-10 14:30:00\""
   ]
  },
  {
   "cell_type": "code",
   "execution_count": 51,
   "id": "c2753cb0-4dfa-4aa5-a3fe-ec093b299927",
   "metadata": {},
   "outputs": [],
   "source": [
    "year = datatime_str[0:4]"
   ]
  },
  {
   "cell_type": "code",
   "execution_count": 52,
   "id": "3f5d1f68-5d2f-4f14-b604-f673ef7108c3",
   "metadata": {},
   "outputs": [],
   "source": [
    "month = datatime_str[5:7]"
   ]
  },
  {
   "cell_type": "code",
   "execution_count": 53,
   "id": "2441a0c3-fea0-4f40-94c1-e274b5be64c8",
   "metadata": {},
   "outputs": [],
   "source": [
    "day = datatime_str[8:10]"
   ]
  },
  {
   "cell_type": "code",
   "execution_count": 54,
   "id": "a952ed8d-f424-4dfb-9436-fb3d3e43ff6b",
   "metadata": {},
   "outputs": [],
   "source": [
    "time = datatime_str[-8:-3]"
   ]
  },
  {
   "cell_type": "code",
   "execution_count": 55,
   "id": "c3baf237-f9be-4c21-bd11-80401d74a468",
   "metadata": {},
   "outputs": [
    {
     "name": "stdout",
     "output_type": "stream",
     "text": [
      "Date: 10/05/2025, Time : 14:30\n"
     ]
    }
   ],
   "source": [
    "print(f\"Date: {day}/{month}/{year}, Time : {time}\")"
   ]
  },
  {
   "cell_type": "code",
   "execution_count": null,
   "id": "faca312f-99ee-41b2-bd04-418de4418652",
   "metadata": {},
   "outputs": [],
   "source": []
  },
  {
   "cell_type": "markdown",
   "id": "95da0353-f7db-4a80-8b47-7d6b81c78b59",
   "metadata": {},
   "source": [
    "# What are escape characters? \n",
    "\n",
    "    -What do the \\n and \\t escape characters represent? \n",
    "    \n",
    "    -How can you put a \\ backslash character in a string? \n",
    "    \n",
    "    -The string value \"Howl's Moving Castle\" is a valid string. Why isn’t it a problem that the single quote character in the word Howl's isn’t escaped? \n",
    "\n",
    " "
   ]
  },
  {
   "cell_type": "markdown",
   "id": "01d46444-fdb1-43b8-86ad-30873700150e",
   "metadata": {},
   "source": [
    "## Escape characters :-\n",
    "                    Escape characters are used when we need to include special characters in a string that are otherwise hard (or illegal) to type directly. These are preceded by a backslash (\\), which tells Python that the next character is going to be a special character."
   ]
  },
  {
   "cell_type": "markdown",
   "id": "46a1c268-8d51-4a01-b9e0-208257fbcf6d",
   "metadata": {},
   "source": [
    "### - What do the \\n and \\t escape characters represent? "
   ]
  },
  {
   "cell_type": "code",
   "execution_count": 56,
   "id": "5acd19de-b2b1-4607-81f0-27631dc986ee",
   "metadata": {},
   "outputs": [
    {
     "name": "stdout",
     "output_type": "stream",
     "text": [
      "Hello , My name is Amit.\n",
      "I am from the Sikar\n"
     ]
    }
   ],
   "source": [
    "# '\\n' - Used to change the line.\n",
    "\n",
    "print(\"Hello , My name is Amit.\\nI am from the Sikar\")"
   ]
  },
  {
   "cell_type": "code",
   "execution_count": 57,
   "id": "21bcfcd7-2a53-483f-8e5d-abf51e71e9a5",
   "metadata": {},
   "outputs": [
    {
     "name": "stdout",
     "output_type": "stream",
     "text": [
      "Hello, Welcome to Python Programming.\tHere we slove\n"
     ]
    }
   ],
   "source": [
    "# '\\t' - Used to insert tab space\n",
    "\n",
    "print(\"Hello, Welcome to Python Programming.\\tHere we slove\")"
   ]
  },
  {
   "cell_type": "markdown",
   "id": "829c8681-1fb5-47b4-920b-50709f93e5c9",
   "metadata": {},
   "source": [
    "### - How can you put a \\ backslash character in a string?\n",
    "        -->To represent a single backslash character within a string, you need to escape it by using a double backslash \\\\"
   ]
  },
  {
   "cell_type": "code",
   "execution_count": 58,
   "id": "10c05c98-ddf8-452a-a941-3f962dbcafb6",
   "metadata": {},
   "outputs": [
    {
     "name": "stdout",
     "output_type": "stream",
     "text": [
      "This is Backspace :\\\n"
     ]
    }
   ],
   "source": [
    "print(\"This is Backspace :\\\\\")"
   ]
  },
  {
   "cell_type": "markdown",
   "id": "5436ab9c-3f61-430b-80c6-5ab3022e1012",
   "metadata": {},
   "source": [
    "### - The string value \"Howl's Moving Castle\" is a valid string. Why isn’t it a problem that the single quote character in the word Howl's isn’t escaped? "
   ]
  },
  {
   "cell_type": "code",
   "execution_count": 59,
   "id": "95787528-2b3e-48ac-b1e3-2855cdb9ca73",
   "metadata": {},
   "outputs": [],
   "source": [
    "str = \"Howl's Moving Castle\""
   ]
  },
  {
   "cell_type": "code",
   "execution_count": 60,
   "id": "e9901ba2-ba16-41da-98a6-a32c11feda1f",
   "metadata": {},
   "outputs": [
    {
     "name": "stdout",
     "output_type": "stream",
     "text": [
      "Howl's Moving Castle\n"
     ]
    }
   ],
   "source": [
    "print(str)"
   ]
  },
  {
   "cell_type": "markdown",
   "id": "84d2e983-8055-4054-85c5-3f9d67a9be72",
   "metadata": {},
   "source": [
    "The single quote in \"Howl's\" does not need to be escaped because the entire string is enclosed in double quotes. The double quotes act as delimiters, and any single quotes within the string are treated as literal characters rather than the end of the string. [1, 2, 3, 4]  \n",
    "Explanation: \n",
    "In most programming languages, strings are defined using either single quotes (`) or double quotes (\").  When you use double quotes to begin and end a string, any single quotes within that string are treated as part of the string's content and not as delimiters.  Therefore, you don't need to escape them with a backslash. [3, 5]  "
   ]
  },
  {
   "cell_type": "code",
   "execution_count": 61,
   "id": "7a7b00b9-de82-448f-9c64-c5d46f430125",
   "metadata": {},
   "outputs": [
    {
     "name": "stdout",
     "output_type": "stream",
     "text": [
      "Howl's Moving Castle\n"
     ]
    }
   ],
   "source": [
    "# Example (Python): \n",
    "str = \"Howl's Moving Castle\"\n",
    "print(str)\n",
    "# Output: Howl's Moving Castle"
   ]
  },
  {
   "cell_type": "markdown",
   "id": "8e33d0d1-368c-40d4-90d5-e64bc116c579",
   "metadata": {},
   "source": [
    "In this example, the single quote within \"Howl's\" is correctly interpreted as part of the string because the entire string is enclosed in double quotes. If you were to use single quotes to define the string, then you would need to escape the single quote within \"Howl's\" with a backslash: [2, 6, 7]  "
   ]
  },
  {
   "cell_type": "code",
   "execution_count": 62,
   "id": "c1466c21-2fe9-471d-b5fb-ba415e26a5ae",
   "metadata": {},
   "outputs": [
    {
     "name": "stdout",
     "output_type": "stream",
     "text": [
      "Howl's Moving Castle\n"
     ]
    }
   ],
   "source": [
    "str = 'Howl\\'s Moving Castle'\n",
    "print(str)\n",
    "# Output: Howl's Moving Castle"
   ]
  },
  {
   "cell_type": "code",
   "execution_count": null,
   "id": "f61e3c16-be58-414c-85dd-e304f06499e8",
   "metadata": {},
   "outputs": [],
   "source": []
  }
 ],
 "metadata": {
  "kernelspec": {
   "display_name": "Python [conda env:base] *",
   "language": "python",
   "name": "conda-base-py"
  },
  "language_info": {
   "codemirror_mode": {
    "name": "ipython",
    "version": 3
   },
   "file_extension": ".py",
   "mimetype": "text/x-python",
   "name": "python",
   "nbconvert_exporter": "python",
   "pygments_lexer": "ipython3",
   "version": "3.12.7"
  }
 },
 "nbformat": 4,
 "nbformat_minor": 5
}
