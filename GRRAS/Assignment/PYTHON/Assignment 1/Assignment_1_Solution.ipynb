{
 "cells": [
  {
   "cell_type": "markdown",
   "id": "de27e29b-5b9f-4e72-8e0e-6e52f90ef514",
   "metadata": {},
   "source": [
    "# Question 1....\n",
    "\n",
    "## Introduction\n",
    "    - For this assignment, read the scenario below and then respond to the problem statement described.\n",
    "    \n",
    "## Scenario\n",
    "    - You are required to design the data structure to display the individual player stats for cricket players.\n",
    "    A player may have represented more than one team and may have played in more than one format such as Test, ODI and T20.\n",
    "\n",
    "## Problem Statement\n",
    "    - Create a list of different data fields and use appropriate Python data types to represent each of them.\n",
    "    \n",
    "### Assignment Submission\n",
    "    - You can use the table format displayed below for your response. You can add additional columns of information if \n",
    "    you want. Create a document/pdf of your response and upload a zip file using the Progress Tracker.\n",
    "    \n",
    "`Data   field identifier       Data type        Example         Your reason for using this data type`\n",
    "\n",
    "\n",
    "    1. player_name          String        Virat Kohli      Names may contain letters and any other characters.\n",
    "    2.\n",
    "    3.\n",
    "    4.\n",
    "    5.\n",
    "\n",
    "\n",
    "### Learning outcomes being evaluated\n",
    "    • Distinguish between different data types.\n",
    "    • Use recommended conventions for naming variables."
   ]
  },
  {
   "cell_type": "code",
   "execution_count": 3,
   "id": "ab0e495a-77c2-460c-97f9-52c6a80e4c96",
   "metadata": {},
   "outputs": [],
   "source": [
    "cricket_player_stats = {\n",
    "    \"player_name\" : \"Virat Kohli\",\n",
    "    \"teams_played\" : [\"INDIA\" , \"Royal Challengers Bangalore\"],\n",
    "    \"formats_played\" : [\"Test\" , \"ODI\" , \"T20\"],\n",
    "    \"total_runs\" : 7240,\n",
    "    \"total_match_played\" : 550\n",
    "}"
   ]
  },
  {
   "cell_type": "code",
   "execution_count": 8,
   "id": "651cc03a-d5b3-4779-a22a-2a6dd53d5d82",
   "metadata": {},
   "outputs": [],
   "source": [
    "temp = \"|{:^5}|{:^20}|{:^10}|{:^50}|{:^60}|\""
   ]
  },
  {
   "cell_type": "code",
   "execution_count": 12,
   "id": "3763bbff-c4e9-4454-8ab6-126df55e07c4",
   "metadata": {},
   "outputs": [
    {
     "name": "stdout",
     "output_type": "stream",
     "text": [
      "_______________________________________________________________________________________________________________________________________________________\n",
      "|Data |  Field Identifier  |Data Type |                     Example                      |            Your Reason for using this Data Type            |\n",
      "_______________________________________________________________________________________________________________________________________________________\n",
      "|  1  |    player_name     |  String  |                   Virat Kohli                    |    Names may contain letters and any other characters.     |\n",
      "-------------------------------------------------------------------------------------------------------------------------------------------------------\n",
      "|  2  |    teams_played    |   List   |     ['INDIA', 'Royal Challengers Bangalore']     |            A player can play in multiple team.             |\n",
      "-------------------------------------------------------------------------------------------------------------------------------------------------------\n",
      "|  3  |   formats_played   |   List   |              ['Test', 'ODI', 'T20']              |           A player can play in multiple formats.           |\n",
      "-------------------------------------------------------------------------------------------------------------------------------------------------------\n",
      "|  4  |     total_runs     | Integer  |                       7240                       |              Total Runs is an Interger Value.              |\n",
      "-------------------------------------------------------------------------------------------------------------------------------------------------------\n",
      "|  5  | total_match_played | Integer  |                       550                        |          Total match played is an Interger Value.          |\n",
      "_______________________________________________________________________________________________________________________________________________________\n"
     ]
    }
   ],
   "source": [
    "print(\"_\"*151)\n",
    "print(temp.format(\"Data\" , \"Field Identifier\" , \"Data Type\" , \"Example\" , \"Your Reason for using this Data Type\"))\n",
    "print(\"_\"*151)\n",
    "print(temp.format(\"1\" , \"player_name\" , \"String\" , cricket_player_stats[\"player_name\"] , \"Names may contain letters and any other characters.\"))\n",
    "print(\"-\"*151)\n",
    "print(temp.format(\"2\" , \"teams_played\" , \"List\" , str(cricket_player_stats[\"teams_played\"]) , \"A player can play in multiple team.\"))\n",
    "print(\"-\"*151)\n",
    "print(temp.format(\"3\" , \"formats_played\" , \"List\" , str(cricket_player_stats[\"formats_played\"]) , \"A player can play in multiple formats.\"))\n",
    "print(\"-\"*151)\n",
    "print(temp.format(\"4\" , \"total_runs\" , \"Integer\" , cricket_player_stats[\"total_runs\"] , \"Total Runs is an Interger Value.\"))\n",
    "print(\"-\"*151)\n",
    "print(temp.format(\"5\" , \"total_match_played\" , \"Integer\" , cricket_player_stats[\"total_match_played\"] , \"Total match played is an Interger Value.\"))\n",
    "print(\"_\"*151)"
   ]
  },
  {
   "cell_type": "code",
   "execution_count": null,
   "id": "9ab5047a-28ff-4589-a94e-e5e51bcb5125",
   "metadata": {},
   "outputs": [],
   "source": []
  }
 ],
 "metadata": {
  "kernelspec": {
   "display_name": "Python [conda env:base] *",
   "language": "python",
   "name": "conda-base-py"
  },
  "language_info": {
   "codemirror_mode": {
    "name": "ipython",
    "version": 3
   },
   "file_extension": ".py",
   "mimetype": "text/x-python",
   "name": "python",
   "nbconvert_exporter": "python",
   "pygments_lexer": "ipython3",
   "version": "3.12.7"
  }
 },
 "nbformat": 4,
 "nbformat_minor": 5
}
