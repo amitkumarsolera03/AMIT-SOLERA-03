{
 "cells": [
  {
   "cell_type": "markdown",
   "id": "593f2299-05f6-4935-bc58-19c08f5c2edd",
   "metadata": {},
   "source": [
    "# Dataset Overview:"
   ]
  },
  {
   "cell_type": "markdown",
   "id": "5ce15b13-46f4-4b8b-9c37-69968b557cdb",
   "metadata": {},
   "source": [
    "**The dataset includes details about India's exports and imports with various countries from 1997 to July 2022. Key columns include:**\n",
    "\n",
    "- `Country`: Name of the trading partner country.\n",
    "    \n",
    "- `Export`: Value of exports (in million dollars).\n",
    "\n",
    "- `Import`: Value of imports (in million dollars).\n",
    "\n",
    "- `Total Trade`: Combined value of exports and imports.\n",
    "\n",
    "- `Trade Balance`: Difference between exports and imports.\n",
    "\n",
    "- `Financial Year(start) and Financial Year(end)`: The financial year of the trade data."
   ]
  },
  {
   "cell_type": "code",
   "execution_count": 48,
   "id": "074daf5f-4908-48c2-9761-483dfa725555",
   "metadata": {},
   "outputs": [],
   "source": [
    "import pandas as pd\n",
    "import matplotlib.pyplot as plt\n",
    "import numpy as np"
   ]
  },
  {
   "cell_type": "markdown",
   "id": "03c5e2f9-d7db-4eba-ad08-098212053bc3",
   "metadata": {},
   "source": [
    "***Load the Dataset:***\n",
    "\n"
   ]
  },
  {
   "cell_type": "code",
   "execution_count": 9,
   "id": "e4fc2814-c28f-407b-90bb-8ed94bbc8c49",
   "metadata": {},
   "outputs": [],
   "source": [
    "df = pd.read_csv(\"exports and imports of india(1997- July 2022) - exports and imports.csv.csv\")"
   ]
  },
  {
   "cell_type": "code",
   "execution_count": 10,
   "id": "71aa130a-f35f-4d0e-a98d-4b4acfd36cb7",
   "metadata": {},
   "outputs": [
    {
     "data": {
      "text/html": [
       "<div>\n",
       "<style scoped>\n",
       "    .dataframe tbody tr th:only-of-type {\n",
       "        vertical-align: middle;\n",
       "    }\n",
       "\n",
       "    .dataframe tbody tr th {\n",
       "        vertical-align: top;\n",
       "    }\n",
       "\n",
       "    .dataframe thead th {\n",
       "        text-align: right;\n",
       "    }\n",
       "</style>\n",
       "<table border=\"1\" class=\"dataframe\">\n",
       "  <thead>\n",
       "    <tr style=\"text-align: right;\">\n",
       "      <th></th>\n",
       "      <th>Country</th>\n",
       "      <th>Export</th>\n",
       "      <th>Import</th>\n",
       "      <th>Total Trade</th>\n",
       "      <th>Trade Balance</th>\n",
       "      <th>Financial Year(start)</th>\n",
       "      <th>Financial Year(end)</th>\n",
       "    </tr>\n",
       "  </thead>\n",
       "  <tbody>\n",
       "    <tr>\n",
       "      <th>0</th>\n",
       "      <td>AFGHANISTAN</td>\n",
       "      <td>21.25</td>\n",
       "      <td>10.7</td>\n",
       "      <td>31.95</td>\n",
       "      <td>10.55</td>\n",
       "      <td>1997</td>\n",
       "      <td>1998</td>\n",
       "    </tr>\n",
       "    <tr>\n",
       "      <th>1</th>\n",
       "      <td>AFGHANISTAN</td>\n",
       "      <td>12.81</td>\n",
       "      <td>28.14</td>\n",
       "      <td>40.95</td>\n",
       "      <td>-15.33</td>\n",
       "      <td>1998</td>\n",
       "      <td>1999</td>\n",
       "    </tr>\n",
       "    <tr>\n",
       "      <th>2</th>\n",
       "      <td>AFGHANISTAN</td>\n",
       "      <td>33.2</td>\n",
       "      <td>21.06</td>\n",
       "      <td>54.26</td>\n",
       "      <td>12.15</td>\n",
       "      <td>1999</td>\n",
       "      <td>2000</td>\n",
       "    </tr>\n",
       "    <tr>\n",
       "      <th>3</th>\n",
       "      <td>AFGHANISTAN</td>\n",
       "      <td>25.86</td>\n",
       "      <td>26.59</td>\n",
       "      <td>52.45</td>\n",
       "      <td>-0.73</td>\n",
       "      <td>2000</td>\n",
       "      <td>2001</td>\n",
       "    </tr>\n",
       "    <tr>\n",
       "      <th>4</th>\n",
       "      <td>AFGHANISTAN</td>\n",
       "      <td>24.37</td>\n",
       "      <td>17.52</td>\n",
       "      <td>41.89</td>\n",
       "      <td>6.85</td>\n",
       "      <td>2001</td>\n",
       "      <td>2002</td>\n",
       "    </tr>\n",
       "    <tr>\n",
       "      <th>...</th>\n",
       "      <td>...</td>\n",
       "      <td>...</td>\n",
       "      <td>...</td>\n",
       "      <td>...</td>\n",
       "      <td>...</td>\n",
       "      <td>...</td>\n",
       "      <td>...</td>\n",
       "    </tr>\n",
       "    <tr>\n",
       "      <th>5989</th>\n",
       "      <td>ZIMBABWE</td>\n",
       "      <td>181.72</td>\n",
       "      <td>7.79</td>\n",
       "      <td>189.51</td>\n",
       "      <td>173.93</td>\n",
       "      <td>2018</td>\n",
       "      <td>2019</td>\n",
       "    </tr>\n",
       "    <tr>\n",
       "      <th>5990</th>\n",
       "      <td>ZIMBABWE</td>\n",
       "      <td>161.13</td>\n",
       "      <td>13.59</td>\n",
       "      <td>174.72</td>\n",
       "      <td>147.54</td>\n",
       "      <td>2019</td>\n",
       "      <td>2020</td>\n",
       "    </tr>\n",
       "    <tr>\n",
       "      <th>5991</th>\n",
       "      <td>ZIMBABWE</td>\n",
       "      <td>175.72</td>\n",
       "      <td>5.71</td>\n",
       "      <td>181.42</td>\n",
       "      <td>170.01</td>\n",
       "      <td>2020</td>\n",
       "      <td>2021</td>\n",
       "    </tr>\n",
       "    <tr>\n",
       "      <th>5992</th>\n",
       "      <td>ZIMBABWE</td>\n",
       "      <td>200.49</td>\n",
       "      <td>7.77</td>\n",
       "      <td>208.27</td>\n",
       "      <td>192.72</td>\n",
       "      <td>2021</td>\n",
       "      <td>2022</td>\n",
       "    </tr>\n",
       "    <tr>\n",
       "      <th>5993</th>\n",
       "      <td>ZIMBABWE</td>\n",
       "      <td>50.17</td>\n",
       "      <td>0.61</td>\n",
       "      <td>50.78</td>\n",
       "      <td>49.57</td>\n",
       "      <td>2022</td>\n",
       "      <td>till now</td>\n",
       "    </tr>\n",
       "  </tbody>\n",
       "</table>\n",
       "<p>5994 rows × 7 columns</p>\n",
       "</div>"
      ],
      "text/plain": [
       "          Country  Export Import Total Trade Trade Balance  \\\n",
       "0     AFGHANISTAN   21.25   10.7       31.95         10.55   \n",
       "1     AFGHANISTAN   12.81  28.14       40.95        -15.33   \n",
       "2     AFGHANISTAN    33.2  21.06       54.26         12.15   \n",
       "3     AFGHANISTAN   25.86  26.59       52.45         -0.73   \n",
       "4     AFGHANISTAN   24.37  17.52       41.89          6.85   \n",
       "...           ...     ...    ...         ...           ...   \n",
       "5989     ZIMBABWE  181.72   7.79      189.51        173.93   \n",
       "5990     ZIMBABWE  161.13  13.59      174.72        147.54   \n",
       "5991     ZIMBABWE  175.72   5.71      181.42        170.01   \n",
       "5992     ZIMBABWE  200.49   7.77      208.27        192.72   \n",
       "5993     ZIMBABWE   50.17   0.61       50.78         49.57   \n",
       "\n",
       "      Financial Year(start) Financial Year(end)  \n",
       "0                      1997                1998  \n",
       "1                      1998                1999  \n",
       "2                      1999                2000  \n",
       "3                      2000                2001  \n",
       "4                      2001                2002  \n",
       "...                     ...                 ...  \n",
       "5989                   2018                2019  \n",
       "5990                   2019                2020  \n",
       "5991                   2020                2021  \n",
       "5992                   2021                2022  \n",
       "5993                   2022            till now  \n",
       "\n",
       "[5994 rows x 7 columns]"
      ]
     },
     "execution_count": 10,
     "metadata": {},
     "output_type": "execute_result"
    }
   ],
   "source": [
    "df"
   ]
  },
  {
   "cell_type": "markdown",
   "id": "951d1e50-45ca-427f-b494-fd7a8779b24a",
   "metadata": {},
   "source": [
    "***Inspect the Dataset:***\n",
    "- Display the first few rows of the dataset.\n",
    "- Check for missing or inconsistent values.\n",
    "\n"
   ]
  },
  {
   "cell_type": "code",
   "execution_count": 13,
   "id": "50533b9b-5add-4046-92cd-cefdb2230489",
   "metadata": {},
   "outputs": [
    {
     "data": {
      "text/html": [
       "<div>\n",
       "<style scoped>\n",
       "    .dataframe tbody tr th:only-of-type {\n",
       "        vertical-align: middle;\n",
       "    }\n",
       "\n",
       "    .dataframe tbody tr th {\n",
       "        vertical-align: top;\n",
       "    }\n",
       "\n",
       "    .dataframe thead th {\n",
       "        text-align: right;\n",
       "    }\n",
       "</style>\n",
       "<table border=\"1\" class=\"dataframe\">\n",
       "  <thead>\n",
       "    <tr style=\"text-align: right;\">\n",
       "      <th></th>\n",
       "      <th>Country</th>\n",
       "      <th>Export</th>\n",
       "      <th>Import</th>\n",
       "      <th>Total Trade</th>\n",
       "      <th>Trade Balance</th>\n",
       "      <th>Financial Year(start)</th>\n",
       "      <th>Financial Year(end)</th>\n",
       "    </tr>\n",
       "  </thead>\n",
       "  <tbody>\n",
       "    <tr>\n",
       "      <th>0</th>\n",
       "      <td>AFGHANISTAN</td>\n",
       "      <td>21.25</td>\n",
       "      <td>10.7</td>\n",
       "      <td>31.95</td>\n",
       "      <td>10.55</td>\n",
       "      <td>1997</td>\n",
       "      <td>1998</td>\n",
       "    </tr>\n",
       "    <tr>\n",
       "      <th>1</th>\n",
       "      <td>AFGHANISTAN</td>\n",
       "      <td>12.81</td>\n",
       "      <td>28.14</td>\n",
       "      <td>40.95</td>\n",
       "      <td>-15.33</td>\n",
       "      <td>1998</td>\n",
       "      <td>1999</td>\n",
       "    </tr>\n",
       "    <tr>\n",
       "      <th>2</th>\n",
       "      <td>AFGHANISTAN</td>\n",
       "      <td>33.2</td>\n",
       "      <td>21.06</td>\n",
       "      <td>54.26</td>\n",
       "      <td>12.15</td>\n",
       "      <td>1999</td>\n",
       "      <td>2000</td>\n",
       "    </tr>\n",
       "    <tr>\n",
       "      <th>3</th>\n",
       "      <td>AFGHANISTAN</td>\n",
       "      <td>25.86</td>\n",
       "      <td>26.59</td>\n",
       "      <td>52.45</td>\n",
       "      <td>-0.73</td>\n",
       "      <td>2000</td>\n",
       "      <td>2001</td>\n",
       "    </tr>\n",
       "    <tr>\n",
       "      <th>4</th>\n",
       "      <td>AFGHANISTAN</td>\n",
       "      <td>24.37</td>\n",
       "      <td>17.52</td>\n",
       "      <td>41.89</td>\n",
       "      <td>6.85</td>\n",
       "      <td>2001</td>\n",
       "      <td>2002</td>\n",
       "    </tr>\n",
       "  </tbody>\n",
       "</table>\n",
       "</div>"
      ],
      "text/plain": [
       "       Country Export Import Total Trade Trade Balance  Financial Year(start)  \\\n",
       "0  AFGHANISTAN  21.25   10.7       31.95         10.55                   1997   \n",
       "1  AFGHANISTAN  12.81  28.14       40.95        -15.33                   1998   \n",
       "2  AFGHANISTAN   33.2  21.06       54.26         12.15                   1999   \n",
       "3  AFGHANISTAN  25.86  26.59       52.45         -0.73                   2000   \n",
       "4  AFGHANISTAN  24.37  17.52       41.89          6.85                   2001   \n",
       "\n",
       "  Financial Year(end)  \n",
       "0                1998  \n",
       "1                1999  \n",
       "2                2000  \n",
       "3                2001  \n",
       "4                2002  "
      ]
     },
     "execution_count": 13,
     "metadata": {},
     "output_type": "execute_result"
    }
   ],
   "source": [
    "df.head()"
   ]
  },
  {
   "cell_type": "code",
   "execution_count": 14,
   "id": "8b2577f3-5ad2-45df-ba5f-aaae250ec569",
   "metadata": {},
   "outputs": [
    {
     "name": "stdout",
     "output_type": "stream",
     "text": [
      "<class 'pandas.core.frame.DataFrame'>\n",
      "RangeIndex: 5994 entries, 0 to 5993\n",
      "Data columns (total 7 columns):\n",
      " #   Column                 Non-Null Count  Dtype \n",
      "---  ------                 --------------  ----- \n",
      " 0   Country                5994 non-null   object\n",
      " 1   Export                 5986 non-null   object\n",
      " 2   Import                 5442 non-null   object\n",
      " 3   Total Trade            5409 non-null   object\n",
      " 4   Trade Balance          5408 non-null   object\n",
      " 5   Financial Year(start)  5994 non-null   int64 \n",
      " 6   Financial Year(end)    5994 non-null   object\n",
      "dtypes: int64(1), object(6)\n",
      "memory usage: 327.9+ KB\n"
     ]
    }
   ],
   "source": [
    "df.info()"
   ]
  },
  {
   "cell_type": "code",
   "execution_count": 28,
   "id": "a9648e10-2322-4b15-bc20-583275d20d6b",
   "metadata": {},
   "outputs": [
    {
     "name": "stdout",
     "output_type": "stream",
     "text": [
      "Null Values ---\n",
      "\n",
      "Country                    0\n",
      "Export                     8\n",
      "Import                   552\n",
      "Total Trade              585\n",
      "Trade Balance            586\n",
      "Financial Year(start)      0\n",
      "Financial Year(end)        0\n",
      "dtype: int64\n"
     ]
    }
   ],
   "source": [
    "null = df.isnull().sum()\n",
    "duplicate = df.duplicated().sum()\n",
    "\n",
    "print(f\"Null Values ---\\n\\n{null}\")"
   ]
  },
  {
   "cell_type": "markdown",
   "id": "842c165b-062f-4bc7-b0e6-a4ee5ec0d308",
   "metadata": {},
   "source": [
    "***Handle Missing Data:***\n",
    "- Identify columns with missing values and decide on a strategy to handle them (fill with mean/median, or drop)."
   ]
  },
  {
   "cell_type": "code",
   "execution_count": null,
   "id": "c7ad6965-7bab-4514-ad97-90f77f01d6ca",
   "metadata": {},
   "outputs": [],
   "source": []
  },
  {
   "cell_type": "markdown",
   "id": "092b382f-e06c-4839-a6df-8ef49a0c742a",
   "metadata": {},
   "source": [
    "***Data Type Conversion:***\n",
    "\n",
    "- Convert columns like Export, Import, Total Trade, and Trade Balance into numerical types."
   ]
  },
  {
   "cell_type": "raw",
   "id": "5fb443c6-de57-4cdf-8c82-9be175c0e219",
   "metadata": {},
   "source": [
    "# df[\"Export\"] = pd.to_numeric(df[\"Export\"])\n",
    "# df[\"Import\"] = pd.to_numeric(df[\"Import\"])\n",
    "# df[\"Total Trade\"] = pd.to_numeric(df[\"Total Trade\"])\n",
    "# df[\"Trade Balance\"] = pd.to_numeric(df[\"Trade Balance\"])\n",
    "\n",
    "# print(f\"The Type of Export Column --> {df[\"Export\"].dtypes}\")\n",
    "# print(f\"The Type of Import Column --> {df[\"Import\"].dtypes}\")\n",
    "# print(f\"The Type of Total Trade Column --> {df[\"Total Trade\"].dtypes}\")\n",
    "# print(f\"The Type of Trade Balance Column --> {df[\"Trade Balance\"].dtypes}\")"
   ]
  },
  {
   "cell_type": "code",
   "execution_count": 57,
   "id": "535ba6e5-97bd-49cb-9c00-b41c5b6fc5d6",
   "metadata": {},
   "outputs": [
    {
     "name": "stdout",
     "output_type": "stream",
     "text": [
      "The Type of Export Column --> float64\n",
      "The Type of Import Column --> float64\n",
      "The Type of Total Trade Column --> float64\n",
      "The Type of Trade Balance Column --> float64\n"
     ]
    }
   ],
   "source": [
    "df[\"Export\"] = pd.to_numeric(df[\"Export\"].astype(str).str.replace(',', ''), errors='coerce')\n",
    "df[\"Import\"] = pd.to_numeric(df[\"Import\"].astype(str).str.replace(',', ''), errors='coerce')\n",
    "df[\"Total Trade\"] = pd.to_numeric(df[\"Total Trade\"].astype(str).str.replace(',', ''), errors='coerce')\n",
    "df[\"Trade Balance\"] = pd.to_numeric(df[\"Trade Balance\"].astype(str).str.replace(',', ''), errors='coerce')\n",
    "\n",
    "print(f\"The Type of Export Column --> {df['Export'].dtypes}\")\n",
    "print(f\"The Type of Import Column --> {df['Import'].dtypes}\")\n",
    "print(f\"The Type of Total Trade Column --> {df['Total Trade'].dtypes}\")\n",
    "print(f\"The Type of Trade Balance Column --> {df['Trade Balance'].dtypes}\")\n"
   ]
  },
  {
   "cell_type": "code",
   "execution_count": null,
   "id": "dbe7f04d-1371-4509-898e-601b51a8e550",
   "metadata": {},
   "outputs": [],
   "source": []
  },
  {
   "cell_type": "markdown",
   "id": "b7293277-fcc2-4027-a272-f24bc3664240",
   "metadata": {},
   "source": [
    "***Trade Over Time:***\n",
    "- Plot total exports and imports over the years.\n",
    "\n",
    "- Identify years with significant increases or decreases in trade."
   ]
  },
  {
   "cell_type": "code",
   "execution_count": null,
   "id": "febebf79-7264-44db-88f8-509d4eb3eedf",
   "metadata": {},
   "outputs": [],
   "source": []
  },
  {
   "cell_type": "code",
   "execution_count": 65,
   "id": "35a4e96e-31e2-489c-94de-63719b8f089e",
   "metadata": {},
   "outputs": [
    {
     "data": {
      "image/png": "[encoded data removed]",
      "text/plain": [
       "<Figure size 640x480 with 1 Axes>"
      ]
     },
     "metadata": {},
     "output_type": "display_data"
    }
   ],
   "source": [
    "df[\"Export\"].plot()\n",
    "plt.grid(True)\n",
    "plt.show()"
   ]
  },
  {
   "cell_type": "markdown",
   "id": "d79ab0f9-691f-4698-8523-6b95794889ed",
   "metadata": {},
   "source": [
    "***Top Trading Partners:***\n",
    "\n",
    "- Identify the top 10 countries India trades with (based on Total Trade).\n",
    "\n",
    "- Visualize the top trading partners."
   ]
  },
  {
   "cell_type": "code",
   "execution_count": null,
   "id": "c703b7d4-fecf-4fdb-bf52-9eb95c071760",
   "metadata": {},
   "outputs": [],
   "source": []
  },
  {
   "cell_type": "markdown",
   "id": "5f8ea765-0175-4840-8bef-29b433df0044",
   "metadata": {},
   "source": [
    "***Trade Balance Analysis:***\n",
    "\n",
    "- Identify countries with the highest trade surplus and trade deficit.\n",
    "\n",
    "- Plot a bar chart of trade balances for the top 10 countries."
   ]
  },
  {
   "cell_type": "code",
   "execution_count": null,
   "id": "fdc6e413-7a84-43ae-b347-0e941f3db664",
   "metadata": {},
   "outputs": [],
   "source": []
  },
  {
   "cell_type": "markdown",
   "id": "5b07fb3f-1e05-460d-88d5-b9c1e1c20741",
   "metadata": {},
   "source": [
    "***Year-wise Trade Balance:***\n",
    "\n",
    "- Analyze how India's trade balance has evolved over time."
   ]
  },
  {
   "cell_type": "code",
   "execution_count": null,
   "id": "3a3a9ed4-f579-481d-b518-2497b6880cc5",
   "metadata": {},
   "outputs": [],
   "source": []
  },
  {
   "cell_type": "markdown",
   "id": "f457dbf4-87f2-4131-8cff-952ecf3ecf58",
   "metadata": {},
   "source": [
    "***Summarize key insights from your analysis.***\n",
    "\n",
    "- Highlight patterns in exports, imports, and trade balances."
   ]
  },
  {
   "cell_type": "code",
   "execution_count": null,
   "id": "9cb8bda2-6d49-4c19-8831-c70ad6076416",
   "metadata": {},
   "outputs": [],
   "source": []
  },
  {
   "cell_type": "markdown",
   "id": "88caa4bc-e6d4-4395-ace4-54de0571631b",
   "metadata": {},
   "source": [
    "#### Bonus\n",
    "\n",
    "***Impact of Global Events***\n",
    "\n",
    "- Investigate how global events, such as the 2008 financial crisis or the COVID-19 pandemic (2020), impacted India's trade. Show a comparison of exports and imports before, during, and after these events."
   ]
  },
  {
   "cell_type": "code",
   "execution_count": null,
   "id": "546c7bef-324b-4b01-8502-ea303736a9da",
   "metadata": {},
   "outputs": [],
   "source": []
  }
 ],
 "metadata": {
  "kernelspec": {
   "display_name": "Python [conda env:base] *",
   "language": "python",
   "name": "conda-base-py"
  },
  "language_info": {
   "codemirror_mode": {
    "name": "ipython",
    "version": 3
   },
   "file_extension": ".py",
   "mimetype": "text/x-python",
   "name": "python",
   "nbconvert_exporter": "python",
   "pygments_lexer": "ipython3",
   "version": "3.12.7"
  }
 },
 "nbformat": 4,
 "nbformat_minor": 5
}
