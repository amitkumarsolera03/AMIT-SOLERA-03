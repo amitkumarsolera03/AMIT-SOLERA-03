{
 "cells": [
  {
   "cell_type": "code",
   "execution_count": null,
   "id": "b9e8840c-30f3-43aa-a6c6-68dc03047d53",
   "metadata": {},
   "outputs": [],
   "source": []
  },
  {
   "cell_type": "markdown",
   "id": "91401fa6-c16f-4d80-b8cf-d8dcc8e5a8ce",
   "metadata": {},
   "source": [
    "**Q1.You are given the following dataset of monthly salaries (in dollars) of 15 employees:**\n",
    "\n",
    "[2500, 3000, 3200, 2800, 2700, 2900, 3100, 2600, 2750, 3500, 4000, 3600, 3200, 3300, 3400]\n",
    "\n",
    "Calculate the mean salary.\n",
    "Find the median salary.\n",
    "Determine the mode of the dataset."
   ]
  },
  {
   "cell_type": "code",
   "execution_count": null,
   "id": "7c762313-c718-4666-8012-3c7570612a9e",
   "metadata": {},
   "outputs": [],
   "source": []
  },
  {
   "cell_type": "markdown",
   "id": "73585be9-e05b-4ce1-8b2b-001c7eba67a7",
   "metadata": {},
   "source": [
    "**Q2.Using the same dataset from Question 1, calculate the following:**\n",
    "\n",
    "    Range of the salaries.\n",
    "    Variance of the salaries.\n",
    "    Standard deviation of the salaries.\n",
    "    Explain what these statistics tell you about the distribution of the salaries."
   ]
  },
  {
   "cell_type": "code",
   "execution_count": null,
   "id": "62846790-039f-4179-9538-ed29eebd77af",
   "metadata": {},
   "outputs": [],
   "source": []
  },
  {
   "cell_type": "markdown",
   "id": "9b56a2c1-692d-4d43-ab5d-475892354d25",
   "metadata": {},
   "source": [
    "**Q3.Given the dataset of salaries from Question 1:**\n",
    "\n",
    "    Calculate the first quartile (Q1), second quartile (Q2/median), and third quartile (Q3).\n",
    "    Compute the Interquartile Range (IQR).\n",
    "    Perform these task without using any inbuilt function.\n"
   ]
  },
  {
   "cell_type": "code",
   "execution_count": null,
   "id": "58d15d7c-aa97-4f53-8e65-675ee30b3bc3",
   "metadata": {},
   "outputs": [],
   "source": []
  },
  {
   "cell_type": "markdown",
   "id": "845b7fb5-b0a3-47a9-8249-2e2d86718171",
   "metadata": {},
   "source": [
    "**Q4.You are given the following ages (in years) of 20 employees:**\n",
    "\n",
    "    [23, 26, 31, 35, 37, 42, 28, 33, 29, 34, 38, 40, 32, 30, 36, 27, 45, 39, 41, 43]\n",
    "\n",
    "Create a grouped frequency table for the data. You can use either inclusive or exclusive method."
   ]
  },
  {
   "cell_type": "code",
   "execution_count": null,
   "id": "03e3aa4c-fc80-48df-8e0d-544a936ac69f",
   "metadata": {},
   "outputs": [],
   "source": []
  },
  {
   "cell_type": "markdown",
   "id": "4ed75779-12dc-411b-9e15-1543c93bd494",
   "metadata": {},
   "source": [
    "**Q5.A survey is conducted to study the heights of a group of students. The data is collected and follows a normal distribution with a mean height of 160 cm and a standard deviation of 8 cm.**\n",
    "\n",
    "    a) What percentage of students have heights between 152 cm and 168 cm?\n",
    "    b) If 200 students are surveyed, how many would you expect to have heights above 176 cm?"
   ]
  },
  {
   "cell_type": "code",
   "execution_count": null,
   "id": "591ac725-cf4c-4de7-9b34-56234ede7000",
   "metadata": {},
   "outputs": [],
   "source": []
  }
 ],
 "metadata": {
  "kernelspec": {
   "display_name": "Python 3 (ipykernel)",
   "language": "python",
   "name": "python3"
  },
  "language_info": {
   "codemirror_mode": {
    "name": "ipython",
    "version": 3
   },
   "file_extension": ".py",
   "mimetype": "text/x-python",
   "name": "python",
   "nbconvert_exporter": "python",
   "pygments_lexer": "ipython3",
   "version": "3.11.7"
  }
 },
 "nbformat": 4,
 "nbformat_minor": 5
}
