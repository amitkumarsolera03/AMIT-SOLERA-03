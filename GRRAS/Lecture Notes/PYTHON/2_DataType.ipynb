{
 "cells": [
  {
   "cell_type": "markdown",
   "id": "49860e43-e47b-4a0e-be13-5c9d12eb9948",
   "metadata": {},
   "source": [
    "# Shortcuts of jupyter notebook \n",
    "\n",
    "    Command Mode   - ESC \n",
    "\n",
    "    Insert Mode - Enter\n",
    "\n",
    "\n",
    "--- \n",
    "\n",
    "    all shortcut commands only works in command mode \n",
    "\n",
    "    Markdown Cell - ESC + M\n",
    "\n",
    "    Code Cell - ESC + Y\n",
    "\n",
    "    Raw Cell - ESC + R\n",
    "\n",
    "---\n",
    "\n",
    "    Ctrl + Enter - Execute Current Cell Code\n",
    "\n",
    "    Shift + Enter - Execute Currect Cell Code and Open a blank Cell Below Current Cell\n",
    "\n",
    "---\n",
    "\n",
    "    ESC + A - To create a blank Cell above current cell\n",
    "\n",
    "    ESC + B - To create a blank Cell below current cell\n",
    "\n",
    "    ESC + DD - To delete select Cell"
   ]
  },
  {
   "cell_type": "code",
   "execution_count": 15,
   "id": "3c87e426-e1ed-4b9f-8a93-250304c77252",
   "metadata": {},
   "outputs": [
    {
     "data": {
      "text/plain": [
       "'0b110101010100'"
      ]
     },
     "execution_count": 15,
     "metadata": {},
     "output_type": "execute_result"
    }
   ],
   "source": [
    "bin(3412)"
   ]
  },
  {
   "cell_type": "code",
   "execution_count": 20,
   "id": "432f5444-d8de-497b-9488-937565012c5a",
   "metadata": {},
   "outputs": [],
   "source": [
    "#[ (var, chr(var)) for var in range(2000, 4000) ]"
   ]
  },
  {
   "cell_type": "code",
   "execution_count": 23,
   "id": "2b3e27b5-cdec-400f-a153-04227b5e2af6",
   "metadata": {},
   "outputs": [
    {
     "name": "stdout",
     "output_type": "stream",
     "text": [
      "कखग\n"
     ]
    }
   ],
   "source": [
    "var = chr(2325) + chr(2326) + chr(2327)\n",
    "print(var)"
   ]
  },
  {
   "cell_type": "markdown",
   "id": "49334dcf-e0fb-4569-b6be-879c11a377b9",
   "metadata": {},
   "source": [
    "    ASCII\n",
    "\n",
    "    UTF-8\n",
    "\n",
    "    UTF-16\n",
    "\n",
    "    ISO-\n",
    "\n",
    "    Devnagri "
   ]
  },
  {
   "cell_type": "markdown",
   "id": "9f08ba33-8aad-43e2-8b9b-62862419a5a0",
   "metadata": {},
   "source": [
    "## Data Types \n",
    "\n",
    "\n",
    "    Data Types tells how to store and process data in computer memory, where type defines it's structure (how it is going to be stored in memory) and kind of operations we can perform on a specific data.\n",
    "\n",
    "    1. Numbers \n",
    "\n",
    "        int - 1, 2, 3      [0-9]+  \n",
    "        float - 3.14,      [0-9]+\\.[0-9]+     Regular Expression\n",
    "        complex - 3.14+6j  ([0-9]+(\\.[0-9]+)?)?\\+?[0-9]\\.+([0-9]+)?    Real + Imag j\n",
    "\n",
    "    2. Strings\n",
    "\n",
    "        collection of characters defined by UTF-8 charset \n",
    "\n",
    "        str - 'hello', \"world\"   (single line string)   \"\"\"for multiline string\"\"\"\n",
    "\n",
    "        \n"
   ]
  },
  {
   "cell_type": "code",
   "execution_count": 6,
   "id": "bf9d9afb-cc8d-4a66-8d90-40d19552bb68",
   "metadata": {},
   "outputs": [
    {
     "name": "stdout",
     "output_type": "stream",
     "text": [
      "56 <class 'int'>\n"
     ]
    }
   ],
   "source": [
    "var = 56\n",
    "\n",
    "print(var, type(var))"
   ]
  },
  {
   "cell_type": "code",
   "execution_count": 7,
   "id": "e73abe6e-b5cd-4b31-8ba7-2dca1b71927d",
   "metadata": {},
   "outputs": [
    {
     "name": "stdout",
     "output_type": "stream",
     "text": [
      "56.78 <class 'float'>\n"
     ]
    }
   ],
   "source": [
    "var = 56.78\n",
    "\n",
    "print(var, type(var))"
   ]
  },
  {
   "cell_type": "code",
   "execution_count": 8,
   "id": "9b73e7bf-bd4a-48e2-9641-af61aecc3ce1",
   "metadata": {},
   "outputs": [
    {
     "name": "stdout",
     "output_type": "stream",
     "text": [
      "(56+67j) <class 'complex'>\n"
     ]
    }
   ],
   "source": [
    "var = 56+67j\n",
    "\n",
    "print(var, type(var))"
   ]
  },
  {
   "cell_type": "code",
   "execution_count": 9,
   "id": "1ba57fb2-97ff-4edd-a856-9abbc6f0e4eb",
   "metadata": {},
   "outputs": [
    {
     "data": {
      "text/plain": [
       "11"
      ]
     },
     "execution_count": 9,
     "metadata": {},
     "output_type": "execute_result"
    }
   ],
   "source": [
    "5 + 6"
   ]
  },
  {
   "cell_type": "code",
   "execution_count": 10,
   "id": "94966ee9-946f-45a4-a22d-ec82739b1e71",
   "metadata": {},
   "outputs": [
    {
     "name": "stdout",
     "output_type": "stream",
     "text": [
      "3.142857142857143\n"
     ]
    }
   ],
   "source": [
    "var = 22 / 7 \n",
    "\n",
    "print(var)"
   ]
  },
  {
   "cell_type": "code",
   "execution_count": 28,
   "id": "f275d37d-11b6-484f-a11f-7b24a90de70e",
   "metadata": {},
   "outputs": [],
   "source": [
    "x = 14;    y = 18"
   ]
  },
  {
   "cell_type": "code",
   "execution_count": 24,
   "id": "f68d1de1-abbe-4b19-af4f-b516f5f34c06",
   "metadata": {},
   "outputs": [
    {
     "name": "stdout",
     "output_type": "stream",
     "text": [
      "Hello, my name is  sachin yadav\n"
     ]
    }
   ],
   "source": [
    "name = \"sachin yadav\";\n",
    "\n",
    "\n",
    "print(\"Hello, my name is \", name)"
   ]
  },
  {
   "cell_type": "code",
   "execution_count": 26,
   "id": "06d524c4-93df-4db8-9acc-afe970f46cf5",
   "metadata": {},
   "outputs": [
    {
     "ename": "SyntaxError",
     "evalue": "unterminated string literal (detected at line 1) (2745645522.py, line 1)",
     "output_type": "error",
     "traceback": [
      "\u001b[0;36m  Cell \u001b[0;32mIn[26], line 1\u001b[0;36m\u001b[0m\n\u001b[0;31m    name = \"sachin\u001b[0m\n\u001b[0m           ^\u001b[0m\n\u001b[0;31mSyntaxError\u001b[0m\u001b[0;31m:\u001b[0m unterminated string literal (detected at line 1)\n"
     ]
    }
   ],
   "source": [
    "name = \"sachin\n",
    "yadav\""
   ]
  },
  {
   "cell_type": "code",
   "execution_count": 25,
   "id": "778ef730-07ea-4b8d-85ab-c90cbfdaa683",
   "metadata": {},
   "outputs": [
    {
     "name": "stdout",
     "output_type": "stream",
     "text": [
      "\n",
      "To\n",
      "    The head office\n",
      "    some body\n",
      "\n",
      "Dear,\n",
      "\n",
      "    some message\n",
      "\n",
      "Regards\n",
      "some name\n",
      "\n"
     ]
    }
   ],
   "source": [
    "application = \"\"\"\n",
    "To\n",
    "    The head office\n",
    "    some body\n",
    "\n",
    "Dear,\n",
    "\n",
    "    some message\n",
    "\n",
    "Regards\n",
    "some name§\n",
    "\"\"\"\n",
    "\n",
    "print(application)\n"
   ]
  },
  {
   "cell_type": "code",
   "execution_count": 29,
   "id": "6df82e62-c549-429f-8325-a12b962349d1",
   "metadata": {},
   "outputs": [],
   "source": [
    "s  = \"hello world\""
   ]
  },
  {
   "cell_type": "code",
   "execution_count": 30,
   "id": "e577a237-8737-4088-aea9-bc885bc48c4a",
   "metadata": {},
   "outputs": [
    {
     "name": "stdout",
     "output_type": "stream",
     "text": [
      "hello world\n",
      "HELLO WORLD\n"
     ]
    }
   ],
   "source": [
    "ns = s.upper()\n",
    "\n",
    "print(s)\n",
    "print(ns)"
   ]
  },
  {
   "cell_type": "code",
   "execution_count": 31,
   "id": "ed053323-b32d-4942-8b22-a27c2a62b3ef",
   "metadata": {},
   "outputs": [
    {
     "name": "stdout",
     "output_type": "stream",
     "text": [
      "Sachin Yadav\n"
     ]
    }
   ],
   "source": [
    "name = \"     Sachin Yadav    \"\n",
    "\n",
    "new_name = name.strip()\n",
    "\n",
    "print(new_name)"
   ]
  },
  {
   "cell_type": "code",
   "execution_count": 32,
   "id": "c9aead60-8342-4519-b481-cb9b81ed7bbe",
   "metadata": {},
   "outputs": [
    {
     "name": "stdout",
     "output_type": "stream",
     "text": [
      "Hello world\n"
     ]
    }
   ],
   "source": [
    "s = \"hello world\"\n",
    "\n",
    "print(s.capitalize())"
   ]
  },
  {
   "cell_type": "markdown",
   "id": "a5646b5b-a9d8-451a-a968-2bf0c0ccdb97",
   "metadata": {},
   "source": [
    "    Class and Object"
   ]
  },
  {
   "cell_type": "code",
   "execution_count": 36,
   "id": "1c4d70cd-ac20-4644-be98-2b536dbe0006",
   "metadata": {},
   "outputs": [
    {
     "name": "stdout",
     "output_type": "stream",
     "text": [
      "one - two - three - four\n"
     ]
    }
   ],
   "source": [
    "print(\"one\", \"two\", \"three\", \"four\", sep=\" - \")"
   ]
  },
  {
   "cell_type": "code",
   "execution_count": 37,
   "id": "ec73c25f-3f43-4e19-aabc-157b2bd54049",
   "metadata": {},
   "outputs": [
    {
     "name": "stdout",
     "output_type": "stream",
     "text": [
      "one\n",
      "two\n",
      "three\n",
      "four\n"
     ]
    }
   ],
   "source": [
    "print(\"one\", \"two\", \"three\", \"four\", sep=\"\\n\")\n",
    "# \\char  escapse sequence "
   ]
  },
  {
   "cell_type": "code",
   "execution_count": 39,
   "id": "be59308b-2ae9-49a2-b191-1fc96b549346",
   "metadata": {},
   "outputs": [
    {
     "name": "stdout",
     "output_type": "stream",
     "text": [
      "hello\tworld\n"
     ]
    }
   ],
   "source": [
    "print(\"hello\", end=\"\\t\")\n",
    "print(\"world\")\n",
    "#\"hello\\n\""
   ]
  },
  {
   "cell_type": "code",
   "execution_count": null,
   "id": "90e01c36-8da5-41bb-9172-1dd6d5ee0fa7",
   "metadata": {},
   "outputs": [],
   "source": []
  },
  {
   "cell_type": "code",
   "execution_count": 34,
   "id": "8e0a0cfb-24d1-4de1-8a7b-f46c3bdfefda",
   "metadata": {},
   "outputs": [
    {
     "name": "stdout",
     "output_type": "stream",
     "text": [
      "Help on built-in function print in module builtins:\n",
      "\n",
      "print(*args, sep=' ', end='\\n', file=None, flush=False)\n",
      "    Prints the values to a stream, or to sys.stdout by default.\n",
      "\n",
      "    sep\n",
      "      string inserted between values, default a space.\n",
      "    end\n",
      "      string appended after the last value, default a newline.\n",
      "    file\n",
      "      a file-like object (stream); defaults to the current sys.stdout.\n",
      "    flush\n",
      "      whether to forcibly flush the stream.\n",
      "\n"
     ]
    }
   ],
   "source": [
    "help(print)"
   ]
  },
  {
   "cell_type": "code",
   "execution_count": 33,
   "id": "39493019-3466-47eb-80a9-5c6edc4ba11f",
   "metadata": {},
   "outputs": [
    {
     "name": "stdout",
     "output_type": "stream",
     "text": [
      "hello world\n",
      "my name is sachin\n"
     ]
    }
   ],
   "source": [
    "print(\"hello\", \"world\")\n",
    "\n",
    "print(\"my name is sachin\")"
   ]
  },
  {
   "cell_type": "markdown",
   "id": "9fe6e5b2-5c54-48fd-96f1-1ec15278cd11",
   "metadata": {},
   "source": [
    "    UTF-8 Strings compared to ASCII\n",
    "\n",
    "    Escapse Sequences - \\t \\r \\b \\n \n",
    "\n",
    "    Complex Numbers \n",
    "\n",
    "    Class and Object \n",
    "\n",
    "    PYPI - Python Package Index \n",
    "\n",
    "    PIP - Python Package Install    python -m pip install package\n",
    "\n",
    "    PEP 8 -  Python Enhancement Propasal PEP 8 – Style Guide for Python Code"
   ]
  },
  {
   "cell_type": "code",
   "execution_count": 41,
   "id": "9bb88fd3-8f54-4cc1-ad7c-5b19f83b76a9",
   "metadata": {},
   "outputs": [
    {
     "name": "stdout",
     "output_type": "stream",
     "text": [
      "We will start in 0 seconds..."
     ]
    }
   ],
   "source": [
    "import time\n",
    "\n",
    "for i in range(0, 301):\n",
    "    print(f\"\\rWe will start in {300-i} seconds.\", end=\"\")\n",
    "    time.sleep(1)\n",
    "    "
   ]
  },
  {
   "cell_type": "markdown",
   "id": "ba9e36c9-e8c4-4b9a-b1bb-ef7209931eb1",
   "metadata": {},
   "source": [
    "Object -  Set of atrributes to define a real time entity in a computer memory \n",
    "\n"
   ]
  },
  {
   "cell_type": "code",
   "execution_count": 42,
   "id": "25175d7d-af57-47cb-a8c9-c8a78b3ded84",
   "metadata": {},
   "outputs": [],
   "source": [
    "x = 5\n",
    "\n",
    "y = 6"
   ]
  },
  {
   "cell_type": "code",
   "execution_count": 43,
   "id": "48a44024-fc16-4361-b5a1-b56146d283d3",
   "metadata": {},
   "outputs": [
    {
     "name": "stdout",
     "output_type": "stream",
     "text": [
      "11\n"
     ]
    }
   ],
   "source": [
    "z = x + y\n",
    "\n",
    "print(z)"
   ]
  },
  {
   "cell_type": "code",
   "execution_count": 45,
   "id": "6441df16-7e86-408e-bd72-6f0f677f121f",
   "metadata": {},
   "outputs": [
    {
     "name": "stdout",
     "output_type": "stream",
     "text": [
      "hello world\n"
     ]
    }
   ],
   "source": [
    "x = \"hello \"\n",
    "y = \"world\"\n",
    "\n",
    "z = x + y\n",
    "\n",
    "print(z)"
   ]
  },
  {
   "cell_type": "code",
   "execution_count": 46,
   "id": "038e4ca0-ed5d-473e-b0b7-57037ca28414",
   "metadata": {},
   "outputs": [
    {
     "data": {
      "text/plain": [
       "11"
      ]
     },
     "execution_count": 46,
     "metadata": {},
     "output_type": "execute_result"
    }
   ],
   "source": [
    "5 + 6"
   ]
  },
  {
   "cell_type": "code",
   "execution_count": 47,
   "id": "c120216c-f141-4d0e-87cb-75860d69cdb7",
   "metadata": {},
   "outputs": [
    {
     "data": {
      "text/plain": [
       "11"
      ]
     },
     "execution_count": 47,
     "metadata": {},
     "output_type": "execute_result"
    }
   ],
   "source": [
    "int.__add__(5, 6)"
   ]
  },
  {
   "cell_type": "code",
   "execution_count": 48,
   "id": "ce8b853a-9247-4f00-aba8-b224ac86a75b",
   "metadata": {},
   "outputs": [
    {
     "data": {
      "text/plain": [
       "'hello world'"
      ]
     },
     "execution_count": 48,
     "metadata": {},
     "output_type": "execute_result"
    }
   ],
   "source": [
    "str.__add__(\"hello\", \" world\")"
   ]
  },
  {
   "cell_type": "code",
   "execution_count": 52,
   "id": "cd15fbd0-1cb5-4577-9084-c029be5b9ad1",
   "metadata": {},
   "outputs": [],
   "source": [
    "x = 5\n",
    "y = 100"
   ]
  },
  {
   "cell_type": "code",
   "execution_count": 54,
   "id": "95d9195e-75c4-4d36-97d1-e1d4c11bbe8a",
   "metadata": {},
   "outputs": [
    {
     "name": "stdout",
     "output_type": "stream",
     "text": [
      "4343127952 4343130992\n"
     ]
    }
   ],
   "source": [
    "print(id(x), id(y))"
   ]
  },
  {
   "cell_type": "code",
   "execution_count": 55,
   "id": "cc2a9dc3-615d-4568-a894-41fe2b5a35f9",
   "metadata": {},
   "outputs": [
    {
     "name": "stdout",
     "output_type": "stream",
     "text": [
      "100 4343130992\n",
      "100 4343130992\n"
     ]
    }
   ],
   "source": [
    "x = 100\n",
    "\n",
    "y = x\n",
    "\n",
    "print(x, id(x))\n",
    "print(y, id(y))"
   ]
  },
  {
   "cell_type": "markdown",
   "id": "2983c1d1-c4f2-4ef5-a1ab-9208c4b75b01",
   "metadata": {},
   "source": [
    "int, float, complex, str  -  immutable data type "
   ]
  },
  {
   "cell_type": "code",
   "execution_count": 56,
   "id": "d7f5ab99-6ecd-495f-a344-77a7f0b554d1",
   "metadata": {},
   "outputs": [
    {
     "name": "stdout",
     "output_type": "stream",
     "text": [
      "sachin yadav\n"
     ]
    }
   ],
   "source": [
    "name = \"sachin yadav\"\n",
    "\n",
    "name.upper()\n",
    "\n",
    "print(name)"
   ]
  },
  {
   "cell_type": "code",
   "execution_count": 57,
   "id": "e8fddc46-9780-4a51-9326-c250c2dbf1e4",
   "metadata": {},
   "outputs": [
    {
     "name": "stdout",
     "output_type": "stream",
     "text": [
      "sachin yadav\n",
      "SACHIN YADAV\n"
     ]
    }
   ],
   "source": [
    "name = \"sachin yadav\"\n",
    "\n",
    "new_name = name.upper()\n",
    "\n",
    "print(name) \n",
    "print(new_name)"
   ]
  },
  {
   "cell_type": "code",
   "execution_count": 58,
   "id": "b7ba01ae-2e79-469b-bc0b-0f4c885e7f9f",
   "metadata": {},
   "outputs": [
    {
     "name": "stdout",
     "output_type": "stream",
     "text": [
      "SACHIN YADAV\n"
     ]
    }
   ],
   "source": [
    "name = \"sachin yadav\"\n",
    "\n",
    "name = name.upper()\n",
    "\n",
    "print(name) \n"
   ]
  },
  {
   "cell_type": "code",
   "execution_count": 59,
   "id": "7dfddd2e-36ab-4534-bb8c-c338ce91e790",
   "metadata": {},
   "outputs": [
    {
     "name": "stdout",
     "output_type": "stream",
     "text": [
      "['__abs__', '__add__', '__and__', '__bool__', '__ceil__', '__class__', '__delattr__', '__dir__', '__divmod__', '__doc__', '__eq__', '__float__', '__floor__', '__floordiv__', '__format__', '__ge__', '__getattribute__', '__getnewargs__', '__getstate__', '__gt__', '__hash__', '__index__', '__init__', '__init_subclass__', '__int__', '__invert__', '__le__', '__lshift__', '__lt__', '__mod__', '__mul__', '__ne__', '__neg__', '__new__', '__or__', '__pos__', '__pow__', '__radd__', '__rand__', '__rdivmod__', '__reduce__', '__reduce_ex__', '__repr__', '__rfloordiv__', '__rlshift__', '__rmod__', '__rmul__', '__ror__', '__round__', '__rpow__', '__rrshift__', '__rshift__', '__rsub__', '__rtruediv__', '__rxor__', '__setattr__', '__sizeof__', '__str__', '__sub__', '__subclasshook__', '__truediv__', '__trunc__', '__xor__', 'as_integer_ratio', 'bit_count', 'bit_length', 'conjugate', 'denominator', 'from_bytes', 'imag', 'is_integer', 'numerator', 'real', 'to_bytes']\n"
     ]
    }
   ],
   "source": [
    "print(dir(int))"
   ]
  },
  {
   "cell_type": "code",
   "execution_count": 60,
   "id": "ffcf9377-17f3-46ad-b930-43c4534b7a3b",
   "metadata": {},
   "outputs": [
    {
     "name": "stdout",
     "output_type": "stream",
     "text": [
      "['__abs__', '__add__', '__bool__', '__ceil__', '__class__', '__delattr__', '__dir__', '__divmod__', '__doc__', '__eq__', '__float__', '__floor__', '__floordiv__', '__format__', '__ge__', '__getattribute__', '__getformat__', '__getnewargs__', '__getstate__', '__gt__', '__hash__', '__init__', '__init_subclass__', '__int__', '__le__', '__lt__', '__mod__', '__mul__', '__ne__', '__neg__', '__new__', '__pos__', '__pow__', '__radd__', '__rdivmod__', '__reduce__', '__reduce_ex__', '__repr__', '__rfloordiv__', '__rmod__', '__rmul__', '__round__', '__rpow__', '__rsub__', '__rtruediv__', '__setattr__', '__sizeof__', '__str__', '__sub__', '__subclasshook__', '__truediv__', '__trunc__', 'as_integer_ratio', 'conjugate', 'fromhex', 'hex', 'imag', 'is_integer', 'real']\n"
     ]
    }
   ],
   "source": [
    "print(dir(float))"
   ]
  },
  {
   "cell_type": "code",
   "execution_count": 61,
   "id": "d7d95e7a-9990-4e6c-b80a-0acf460d63ed",
   "metadata": {},
   "outputs": [
    {
     "name": "stdout",
     "output_type": "stream",
     "text": [
      "['__add__', '__class__', '__contains__', '__delattr__', '__dir__', '__doc__', '__eq__', '__format__', '__ge__', '__getattribute__', '__getitem__', '__getnewargs__', '__getstate__', '__gt__', '__hash__', '__init__', '__init_subclass__', '__iter__', '__le__', '__len__', '__lt__', '__mod__', '__mul__', '__ne__', '__new__', '__reduce__', '__reduce_ex__', '__repr__', '__rmod__', '__rmul__', '__setattr__', '__sizeof__', '__str__', '__subclasshook__', 'capitalize', 'casefold', 'center', 'count', 'encode', 'endswith', 'expandtabs', 'find', 'format', 'format_map', 'index', 'isalnum', 'isalpha', 'isascii', 'isdecimal', 'isdigit', 'isidentifier', 'islower', 'isnumeric', 'isprintable', 'isspace', 'istitle', 'isupper', 'join', 'ljust', 'lower', 'lstrip', 'maketrans', 'partition', 'removeprefix', 'removesuffix', 'replace', 'rfind', 'rindex', 'rjust', 'rpartition', 'rsplit', 'rstrip', 'split', 'splitlines', 'startswith', 'strip', 'swapcase', 'title', 'translate', 'upper', 'zfill']\n"
     ]
    }
   ],
   "source": [
    "print(dir(str))"
   ]
  },
  {
   "cell_type": "code",
   "execution_count": 63,
   "id": "a7305ea2-59b0-4a9b-89fa-57030653aed1",
   "metadata": {},
   "outputs": [
    {
     "name": "stdout",
     "output_type": "stream",
     "text": [
      "capitalize\n",
      "casefold\n",
      "center\n",
      "count\n",
      "encode\n",
      "endswith\n",
      "expandtabs\n",
      "find\n",
      "format\n",
      "format_map\n",
      "index\n",
      "isalnum\n",
      "isalpha\n",
      "isascii\n",
      "isdecimal\n",
      "isdigit\n",
      "isidentifier\n",
      "islower\n",
      "isnumeric\n",
      "isprintable\n",
      "isspace\n",
      "istitle\n",
      "isupper\n",
      "join\n",
      "ljust\n",
      "lower\n",
      "lstrip\n",
      "maketrans\n",
      "partition\n",
      "removeprefix\n",
      "removesuffix\n",
      "replace\n",
      "rfind\n",
      "rindex\n",
      "rjust\n",
      "rpartition\n",
      "rsplit\n",
      "rstrip\n",
      "split\n",
      "splitlines\n",
      "startswith\n",
      "strip\n",
      "swapcase\n",
      "title\n",
      "translate\n",
      "upper\n",
      "zfill\n"
     ]
    }
   ],
   "source": [
    "print(*['capitalize', 'casefold', 'center', 'count', 'encode', 'endswith', 'expandtabs', 'find', 'format', 'format_map', 'index', 'isalnum', 'isalpha', 'isascii', 'isdecimal', 'isdigit', 'isidentifier', 'islower', 'isnumeric', 'isprintable', 'isspace', 'istitle', 'isupper', 'join', 'ljust', 'lower', 'lstrip', 'maketrans', 'partition', 'removeprefix', 'removesuffix', 'replace', 'rfind', 'rindex', 'rjust', 'rpartition', 'rsplit', 'rstrip', 'split', 'splitlines', 'startswith', 'strip', 'swapcase', 'title', 'translate', 'upper', 'zfill'],\n",
    "sep=\"\\n\")"
   ]
  },
  {
   "cell_type": "markdown",
   "id": "8a67c518-845f-487f-933e-d7b7e9cf60cc",
   "metadata": {},
   "source": [
    "methods of string \n",
    "\n",
    "why does python even has mutable and immutable objects "
   ]
  },
  {
   "cell_type": "code",
   "execution_count": null,
   "id": "e4561737-6cda-4ca3-9555-4e20886dcef8",
   "metadata": {},
   "outputs": [],
   "source": []
  }
 ],
 "metadata": {
  "kernelspec": {
   "display_name": "Python [conda env:base] *",
   "language": "python",
   "name": "conda-base-py"
  },
  "language_info": {
   "codemirror_mode": {
    "name": "ipython",
    "version": 3
   },
   "file_extension": ".py",
   "mimetype": "text/x-python",
   "name": "python",
   "nbconvert_exporter": "python",
   "pygments_lexer": "ipython3",
   "version": "3.12.7"
  }
 },
 "nbformat": 4,
 "nbformat_minor": 5
}
