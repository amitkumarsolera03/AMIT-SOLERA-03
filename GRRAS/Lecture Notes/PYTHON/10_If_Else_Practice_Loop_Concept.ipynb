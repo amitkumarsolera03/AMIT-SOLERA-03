{
 "cells": [
  {
   "cell_type": "markdown",
   "id": "089c17f6-37a8-4769-b9a2-5aefcb5e9b80",
   "metadata": {},
   "source": [
    "## Rock Paper Scissors "
   ]
  },
  {
   "cell_type": "markdown",
   "id": "a67ad3e8-b1cd-454a-b28e-3bb11207f4d2",
   "metadata": {},
   "source": [
    "player-1  and player-2\n",
    "\n",
    "    rock   paper scissor\n",
    "\n",
    "\n",
    "    win condition \n",
    "\n",
    "        p1 win condition\n",
    "\n",
    "            p1 choice            p2 choice \n",
    "\n",
    "                rock                scissor\n",
    "                paper               rock\n",
    "                scissor             paper\n",
    "\n",
    "        p2 win condition\n",
    "\n",
    "                rock                paper\n",
    "                paper               scissor\n",
    "                scissor             rock\n",
    "\n",
    "        Draw condition\n",
    "\n",
    "                rock                 rock\n",
    "                paper                paper\n",
    "                scissor              scissor"
   ]
  },
  {
   "cell_type": "markdown",
   "id": "1a4cedab-e29d-4f26-b90f-48f8ac4677ec",
   "metadata": {},
   "source": [
    "## Game rock-paper-scissor\n",
    "    player-1   and player-2 \n",
    "\n",
    "        player choice - [ 'rock', 'paper', 'scissor' ]\n",
    "\n",
    "\n",
    "    input: \n",
    "        player1 name : Sachin\n",
    "        player2 name : Rajat\n",
    "\n",
    "        Sachin choose one [rock, paper, scissor]: ........(scissor)\n",
    "        Rajat  choose one [rock, paper, scissor]: ........(paper)\n",
    "    output:\n",
    "\n",
    "        Sachin has won the game after 2 seconds delay "
   ]
  },
  {
   "cell_type": "code",
   "execution_count": 6,
   "id": "1327a846-d2d4-4e8e-a295-a97c5394e691",
   "metadata": {},
   "outputs": [
    {
     "name": "stdin",
     "output_type": "stream",
     "text": [
      "Enter player1 name:  sachin yadav\n",
      "Enter player2 name:  rajat yadav\n",
      "Choose one [rock, paper, scissor] :  ········\n",
      "Choose one [rock, paper, scissor[ ;  ········\n"
     ]
    },
    {
     "name": "stdout",
     "output_type": "stream",
     "text": [
      "\n",
      "\t\tWhoo!!!Sachin Yadav has won the game!\n",
      "\n",
      "\n"
     ]
    }
   ],
   "source": [
    "import time \n",
    "\n",
    "p1_name = input(\"Enter player1 name: \").strip().title()\n",
    "time.sleep(2)\n",
    "p2_name = input(\"Enter player2 name: \").strip().title()\n",
    "\n",
    "time.sleep(2)\n",
    "p1_ch = getpass.getpass(f\"{p1_name} Choose one [rock, paper, scissor] : \").strip().lower()\n",
    "time.sleep(2)\n",
    "p2_ch = getpass.getpass(f\"{p2_name} Choose one [rock, paper, scissor[ ; \").strip().lower()\n",
    "\n",
    "time.sleep(3)\n",
    "\n",
    "if p1_ch == p2_ch:\n",
    "     print(f\"\\n\\t\\tohhh!!! Match is Tie!\\n\\n\")\n",
    "elif (p1_ch==\"rock\" and p2_ch==\"scissor\"):\n",
    "    print(f\"\\n\\t\\tWhoo!!!{p1_name} has won the game!\\n\\n\")\n",
    "elif (p1_ch==\"paper\" and p2_ch==\"rock\"):\n",
    "    print(f\"\\n\\t\\tWhoo!!!{p1_name} has won the game!\\n\\n\")\n",
    "elif (p1_ch==\"scissor\" and p2_ch==\"paper\"):\n",
    "    print(f\"\\n\\t\\tWhoo!!!{p1_name} has won the game!\\n\\n\")\n",
    "elif (p2_ch==\"rock\" and p1_ch==\"scissor\"):\n",
    "    print(f\"\\n\\t\\tWhoo!!!{p2_name} has won the game!\\n\\n\")\n",
    "elif (p2_ch==\"paper\" and p1_ch==\"rock\"):\n",
    "    print(f\"\\n\\t\\tWhoo!!!{p2_name} has won the game!\\n\\n\")\n",
    "elif (p2_ch==\"scissor\" and p1_ch==\"paper\"):\n",
    "    print(f\"\\n\\t\\tWhoo!!!{p2_name} has won the game!\\n\\n\")\n",
    "else:\n",
    "    print(f\"\\n\\t\\tShame! one of you have given wrong input!! try again\")\n"
   ]
  },
  {
   "cell_type": "code",
   "execution_count": 7,
   "id": "a3545938-04ec-4489-9d25-0103aed7bc9f",
   "metadata": {},
   "outputs": [
    {
     "name": "stdin",
     "output_type": "stream",
     "text": [
      "Enter player1 name:  sachin yadav\n",
      "Enter player2 name:  rajat goyal\n",
      "Sachin Yadav Choose one [rock, paper, scissor] :  ········\n",
      "Rajat Goyal Choose one [rock, paper, scissor[ ;  ········\n"
     ]
    },
    {
     "name": "stdout",
     "output_type": "stream",
     "text": [
      "\n",
      "\t\tWhoo!!!Rajat Goyal has won the game!\n",
      "\n",
      "\n"
     ]
    }
   ],
   "source": [
    "p1_name = input(\"Enter player1 name: \").strip().title()\n",
    "p2_name = input(\"Enter player2 name: \").strip().title()\n",
    "p1_ch = getpass.getpass(f\"{p1_name} Choose one [rock, paper, scissor] : \").strip().lower()\n",
    "p2_ch = getpass.getpass(f\"{p2_name} Choose one [rock, paper, scissor[ ; \").strip().lower()\n",
    "\n",
    "if p1_ch == p2_ch:\n",
    "     print(f\"\\n\\t\\tohhh!!! Match is Tie!\\n\\n\")\n",
    "elif p1_ch == \"rock\":\n",
    "    if p2_ch == \"scissor\":\n",
    "        print(f\"\\n\\t\\tWhoo!!!{p1_name} has won the game!\\n\\n\")\n",
    "    else:\n",
    "        print(f\"\\n\\t\\tWhoo!!!{p2_name} has won the game!\\n\\n\")\n",
    "elif p1_ch == \"paper\":\n",
    "    if p2_ch == \"scissor\":\n",
    "        print(f\"\\n\\t\\tWhoo!!!{p2_name} has won the game!\\n\\n\")\n",
    "    else:\n",
    "        print(f\"\\n\\t\\tWhoo!!!{p1_name} has won the game!\\n\\n\")\n",
    "elif p1_ch == \"scissor\":\n",
    "    if p2_ch == \"rock\":\n",
    "        print(f\"\\n\\t\\tWhoo!!!{p2_name} has won the game!\\n\\n\")\n",
    "    else:\n",
    "        print(f\"\\n\\t\\tWhoo!!!{p1_name} has won the game!\\n\\n\")\n",
    "else:\n",
    "    print(f\"\\n\\t\\tShame! one of you have given wrong input!! try again\")\n"
   ]
  },
  {
   "cell_type": "code",
   "execution_count": 10,
   "id": "a5e046f2-3ec3-4744-8329-2481f75f68e0",
   "metadata": {},
   "outputs": [
    {
     "name": "stdin",
     "output_type": "stream",
     "text": [
      "Enter player1 name:  sachin\n",
      "Enter player2 name:  rajat\n",
      "Sachin Choose one [rock, paper, scissor] :  ········\n",
      "Rajat Choose one [rock, paper, scissor[ ;  ········\n"
     ]
    },
    {
     "name": "stdout",
     "output_type": "stream",
     "text": [
      "\n",
      "\t\tWhoo!!!Rajat has won the game!\n",
      "\n",
      "\n"
     ]
    }
   ],
   "source": [
    "import time \n",
    "\n",
    "p1_name = input(\"Enter player1 name: \").strip().title()\n",
    "time.sleep(2)\n",
    "p2_name = input(\"Enter player2 name: \").strip().title()\n",
    "\n",
    "time.sleep(2)\n",
    "p1_ch = getpass.getpass(f\"{p1_name} Choose one [rock, paper, scissor] : \").strip().lower()\n",
    "time.sleep(2)\n",
    "p2_ch = getpass.getpass(f\"{p2_name} Choose one [rock, paper, scissor[ ; \").strip().lower()\n",
    "\n",
    "time.sleep(3)\n",
    "\n",
    "if p1_ch == p2_ch:\n",
    "     print(f\"\\n\\t\\tohhh!!! Match is Tie!\\n\\n\")\n",
    "elif (p1_ch==\"rock\" and p2_ch==\"scissor\") \\\n",
    "    or (p1_ch==\"paper\" and p2_ch==\"rock\") \\\n",
    "    or (p1_ch==\"scissor\" and p2_ch==\"paper\"):\n",
    "      print(f\"\\n\\t\\tWhoo!!!{p1_name} has won the game!\\n\\n\")\n",
    "elif (p2_ch==\"rock\" and p1_ch==\"scissor\") \\\n",
    "    or (p2_ch==\"paper\" and p1_ch==\"rock\") \\\n",
    "    or (p2_ch==\"scissor\" and p1_ch==\"paper\"):\n",
    "    print(f\"\\n\\t\\tWhoo!!!{p2_name} has won the game!\\n\\n\")\n",
    "else:\n",
    "    print(f\"\\n\\t\\tShame! one of you have given wrong input!! try again\")\n"
   ]
  },
  {
   "cell_type": "markdown",
   "id": "21b088bb-ae0a-4437-a805-b720e6e183c6",
   "metadata": {},
   "source": [
    "multiple condition \n"
   ]
  },
  {
   "cell_type": "code",
   "execution_count": 11,
   "id": "d65dce5c-3c2c-4895-ba28-d48e1dbde433",
   "metadata": {},
   "outputs": [
    {
     "data": {
      "text/plain": [
       "True"
      ]
     },
     "execution_count": 11,
     "metadata": {},
     "output_type": "execute_result"
    }
   ],
   "source": [
    "all([True, True, 1, 'hi']) # AND"
   ]
  },
  {
   "cell_type": "code",
   "execution_count": 12,
   "id": "462a7ec6-c653-496e-b6b7-638e3aa2dc3e",
   "metadata": {},
   "outputs": [
    {
     "data": {
      "text/plain": [
       "False"
      ]
     },
     "execution_count": 12,
     "metadata": {},
     "output_type": "execute_result"
    }
   ],
   "source": [
    "all([True, True, 0, 'hi']) # AND"
   ]
  },
  {
   "cell_type": "code",
   "execution_count": 14,
   "id": "37491b8f-cceb-4aa0-b2bc-6bf732df60ec",
   "metadata": {},
   "outputs": [
    {
     "data": {
      "text/plain": [
       "False"
      ]
     },
     "execution_count": 14,
     "metadata": {},
     "output_type": "execute_result"
    }
   ],
   "source": [
    "any([False, False, 0, '', [], None]) # OR"
   ]
  },
  {
   "cell_type": "code",
   "execution_count": 15,
   "id": "1c2fd4e0-cbd6-4625-80d1-5d2f0a33fa76",
   "metadata": {},
   "outputs": [
    {
     "data": {
      "text/plain": [
       "True"
      ]
     },
     "execution_count": 15,
     "metadata": {},
     "output_type": "execute_result"
    }
   ],
   "source": [
    "any([False, False, 1, '', [], None]) # OR"
   ]
  },
  {
   "cell_type": "code",
   "execution_count": 16,
   "id": "410b44fb-39ad-462e-9594-af63acc40def",
   "metadata": {},
   "outputs": [
    {
     "name": "stdin",
     "output_type": "stream",
     "text": [
      "Enter player1 name:  sachin\n",
      "Enter player2 name:  rajat\n",
      "Sachin Choose one [rock, paper, scissor] :  ········\n",
      "Rajat Choose one [rock, paper, scissor[ ;  ········\n"
     ]
    },
    {
     "name": "stdout",
     "output_type": "stream",
     "text": [
      "\n",
      "\t\tWhoo!!!Sachin has won the game!\n",
      "\n",
      "\n"
     ]
    }
   ],
   "source": [
    "import time \n",
    "\n",
    "p1_name = input(\"Enter player1 name: \").strip().title()\n",
    "p2_name = input(\"Enter player2 name: \").strip().title()\n",
    "p1_ch = getpass.getpass(f\"{p1_name} Choose one [rock, paper, scissor] : \").strip().lower()\n",
    "p2_ch = getpass.getpass(f\"{p2_name} Choose one [rock, paper, scissor[ ; \").strip().lower()\n",
    "\n",
    "p1_win = (\n",
    "    (p1_ch==\"rock\" and p2_ch==\"scissor\"),\n",
    "    (p1_ch==\"paper\" and p2_ch==\"rock\"),\n",
    "    (p1_ch==\"scissor\" and p2_ch==\"paper\")\n",
    "         )\n",
    "\n",
    "p2_win = (\n",
    "    (p2_ch==\"rock\" and p1_ch==\"scissor\"),\n",
    "    (p2_ch==\"paper\" and p1_ch==\"rock\"),\n",
    "    (p2_ch==\"scissor\" and p1_ch==\"paper\")\n",
    ")\n",
    "\n",
    "if p1_ch == p2_ch:\n",
    "     print(f\"\\n\\t\\tohhh!!! Match is Tie!\\n\\n\")\n",
    "elif any(p1_win):\n",
    "    print(f\"\\n\\t\\tWhoo!!!{p1_name} has won the game!\\n\\n\")\n",
    "elif any(p2_win): \n",
    "    print(f\"\\n\\t\\tWhoo!!!{p2_name} has won the game!\\n\\n\")\n",
    "else:\n",
    "    print(f\"\\n\\t\\tShame! one of you have given wrong input!! try again\")\n"
   ]
  },
  {
   "cell_type": "code",
   "execution_count": 18,
   "id": "375290f6-8c8a-494f-8ad6-c6ca3fff493c",
   "metadata": {},
   "outputs": [
    {
     "name": "stdin",
     "output_type": "stream",
     "text": [
      "Enter player1 name:  sachin\n",
      "Enter player2 name:  rajat\n",
      "Sachin Choose one [rock, paper, scissor] :  ········\n",
      "Rajat Choose one [rock, paper, scissor[ ;  ········\n"
     ]
    },
    {
     "name": "stdout",
     "output_type": "stream",
     "text": [
      "Sachin has choosen scissor\n",
      "Rajat has choosen rock\n",
      "\n",
      "\t\tWhoo!!!Rajat has won the game!\n",
      "\n",
      "\n"
     ]
    }
   ],
   "source": [
    "p1_name = input(\"Enter player1 name: \").strip().title()\n",
    "p2_name = input(\"Enter player2 name: \").strip().title()\n",
    "p1_ch = getpass.getpass(f\"{p1_name} Choose one [rock, paper, scissor] : \").strip().lower()\n",
    "p2_ch = getpass.getpass(f\"{p2_name} Choose one [rock, paper, scissor[ ; \").strip().lower()\n",
    "\n",
    "print(f\"{p1_name} has choosen {p1_ch}\")\n",
    "print(f\"{p2_name} has choosen {p2_ch}\")\n",
    "p1_win = (\n",
    "    (\"rock\", \"scissor\"),\n",
    "    (\"paper\", \"rock\"),\n",
    "    (\"scissor\", \"paper\") )\n",
    "\n",
    "if (p1_ch, p2_ch) in p1_win:\n",
    "    print(f\"\\n\\t\\tWhoo!!!{p1_name} has won the game!\\n\\n\")\n",
    "elif p1_ch == p2_ch:\n",
    "     print(f\"\\n\\t\\tohhh!!! Match is Tie!\\n\\n\")\n",
    "else:\n",
    "     print(f\"\\n\\t\\tWhoo!!!{p2_name} has won the game!\\n\\n\")"
   ]
  },
  {
   "cell_type": "markdown",
   "id": "e3375a4a-479c-4979-987b-c9792958963d",
   "metadata": {},
   "source": [
    "n \n",
    "n space seprated nums\n",
    "\n",
    "3\n",
    "1 2 3"
   ]
  },
  {
   "cell_type": "code",
   "execution_count": null,
   "id": "2211986e-3784-4c6f-bd43-f7dfe000f3e8",
   "metadata": {},
   "outputs": [],
   "source": []
  },
  {
   "cell_type": "code",
   "execution_count": 19,
   "id": "1c5d6d6a-dece-436e-aa19-fbe7aec4133d",
   "metadata": {},
   "outputs": [
    {
     "name": "stdin",
     "output_type": "stream",
     "text": [
      "a:  4\n",
      "b:  4\n",
      "c:  5\n"
     ]
    },
    {
     "name": "stdout",
     "output_type": "stream",
     "text": [
      "4 4 5\n"
     ]
    }
   ],
   "source": [
    "a = int(input(\"a: \"))\n",
    "b = int(input(\"b: \"))\n",
    "c = int(input(\"c: \"))\n",
    "\n",
    "print(a, b, c)"
   ]
  },
  {
   "cell_type": "code",
   "execution_count": 22,
   "id": "0b984890-4917-42b4-9846-7ad914a37c6d",
   "metadata": {},
   "outputs": [
    {
     "name": "stdin",
     "output_type": "stream",
     "text": [
      " 45 67 89 20 34\n"
     ]
    },
    {
     "data": {
      "text/plain": [
       "['45', '67', '89', '20', '34']"
      ]
     },
     "execution_count": 22,
     "metadata": {},
     "output_type": "execute_result"
    }
   ],
   "source": [
    "nums = input().split()\n",
    "nums "
   ]
  },
  {
   "cell_type": "code",
   "execution_count": 27,
   "id": "369db47d-12a3-4a2a-a4f8-5d9288c839e9",
   "metadata": {},
   "outputs": [],
   "source": [
    "new_nums = []\n",
    "\n",
    "for value in nums:\n",
    "    #print(value, type(value))\n",
    "    new_nums.append(int(value))"
   ]
  },
  {
   "cell_type": "code",
   "execution_count": 28,
   "id": "c82080d7-869f-4bcf-90ab-0f98681c6962",
   "metadata": {},
   "outputs": [
    {
     "data": {
      "text/plain": [
       "['45', '67', '89', '20', '34']"
      ]
     },
     "execution_count": 28,
     "metadata": {},
     "output_type": "execute_result"
    }
   ],
   "source": [
    "nums"
   ]
  },
  {
   "cell_type": "code",
   "execution_count": 29,
   "id": "d51c4fc6-8709-402a-a03d-1410cfe801a2",
   "metadata": {},
   "outputs": [
    {
     "data": {
      "text/plain": [
       "[45, 67, 89, 20, 34]"
      ]
     },
     "execution_count": 29,
     "metadata": {},
     "output_type": "execute_result"
    }
   ],
   "source": [
    "new_nums"
   ]
  },
  {
   "cell_type": "markdown",
   "id": "88d4404b-d6da-4bbb-837b-49f4f6bb4111",
   "metadata": {},
   "source": [
    "`map` - apply a function to each item of a sequence\n",
    "\n",
    "    map(func, data)"
   ]
  },
  {
   "cell_type": "code",
   "execution_count": 31,
   "id": "64756646-b36d-461b-b615-01026b161bef",
   "metadata": {},
   "outputs": [
    {
     "data": {
      "text/plain": [
       "[45, 67, 89, 20, 34]"
      ]
     },
     "execution_count": 31,
     "metadata": {},
     "output_type": "execute_result"
    }
   ],
   "source": [
    "list(map(int, ['45', '67', '89', '20', '34']))"
   ]
  },
  {
   "cell_type": "code",
   "execution_count": 32,
   "id": "500cac8d-1303-41da-a760-5fa6979beb7e",
   "metadata": {},
   "outputs": [
    {
     "name": "stdin",
     "output_type": "stream",
     "text": [
      " 45 67 89 20 13\n"
     ]
    },
    {
     "name": "stdout",
     "output_type": "stream",
     "text": [
      "[45, 67, 89, 20, 13]\n"
     ]
    }
   ],
   "source": [
    "nums = list(map(int, input().split()))\n",
    "# list(map(int, \"45 67 89 20 13\".split()))\n",
    "# list(map(int,[\"45\", \"67\", \"89\", \"20\", \"13\"]))\n",
    "# [45, 67, 89, 20, 13]\n",
    "print(nums)"
   ]
  },
  {
   "cell_type": "markdown",
   "id": "9e189430-b71d-40d9-91de-a33fe468bc3d",
   "metadata": {},
   "source": [
    "`map(func, data)`"
   ]
  },
  {
   "cell_type": "markdown",
   "id": "31ac9669-71fa-40b3-9272-cc81e247fa1d",
   "metadata": {},
   "source": [
    "    list(map()) --> list is asking values from map to create a list\n",
    "\n",
    "    a, b, c = map(int, input().split())"
   ]
  },
  {
   "cell_type": "code",
   "execution_count": 35,
   "id": "4993f487-7ecc-4062-aaf0-711869da84f0",
   "metadata": {},
   "outputs": [
    {
     "name": "stdout",
     "output_type": "stream",
     "text": [
      "<map object at 0x1413df6a0>\n"
     ]
    }
   ],
   "source": [
    "output = map(print, [1, 'hi', 'bye', 'awesome'])\n",
    "print(output)\n"
   ]
  },
  {
   "cell_type": "code",
   "execution_count": 37,
   "id": "50cf027c-bdc4-4723-9136-4a48dd7e4154",
   "metadata": {},
   "outputs": [
    {
     "name": "stdout",
     "output_type": "stream",
     "text": [
      "1\n",
      "hi\n",
      "bye\n",
      "awesome\n"
     ]
    }
   ],
   "source": [
    "ans = list(output)"
   ]
  },
  {
   "cell_type": "code",
   "execution_count": 38,
   "id": "259abe44-7ce5-4434-ba93-79c1702a0642",
   "metadata": {},
   "outputs": [
    {
     "data": {
      "text/plain": [
       "[None, None, None, None]"
      ]
     },
     "execution_count": 38,
     "metadata": {},
     "output_type": "execute_result"
    }
   ],
   "source": [
    "ans"
   ]
  },
  {
   "cell_type": "code",
   "execution_count": null,
   "id": "d19148ab-0901-4708-a417-614f69b941b0",
   "metadata": {},
   "outputs": [],
   "source": [
    "int('45')"
   ]
  },
  {
   "cell_type": "markdown",
   "id": "5e790b7c-2c15-4f47-8ae4-553902f13045",
   "metadata": {},
   "source": [
    "Boundary Value analysis "
   ]
  },
  {
   "cell_type": "code",
   "execution_count": 39,
   "id": "abbd800c-0d12-41cf-b111-981ce9235714",
   "metadata": {},
   "outputs": [
    {
     "name": "stdout",
     "output_type": "stream",
     "text": [
      "something something\n"
     ]
    }
   ],
   "source": [
    "if a >= 6:\n",
    "    print('something something')"
   ]
  },
  {
   "cell_type": "markdown",
   "id": "d4206073-38ee-4fe4-966b-ee2b7d1c9eec",
   "metadata": {},
   "source": [
    "    a -> 4 5 6 7 8\n",
    "         F F T T T"
   ]
  },
  {
   "cell_type": "code",
   "execution_count": null,
   "id": "3885c1ff-181f-41aa-b76e-7b8f9475c886",
   "metadata": {},
   "outputs": [],
   "source": []
  },
  {
   "cell_type": "code",
   "execution_count": 34,
   "id": "9de91472-339d-42a8-8711-9a54b0b8dadd",
   "metadata": {},
   "outputs": [
    {
     "name": "stdin",
     "output_type": "stream",
     "text": [
      " 10 40 20 \n"
     ]
    },
    {
     "name": "stdout",
     "output_type": "stream",
     "text": [
      "a = 10, b = 40, c = 20\n",
      "40 is biggest\n"
     ]
    }
   ],
   "source": [
    "a, b, c = map(int, input().split())\n",
    "print(f\"a = {a}, b = {b}, c = {c}\")\n",
    "\n",
    "if a>=b and a>=c:  # False --> b > a, c > a\n",
    "    print(f\"{a} is biggest\")\n",
    "elif b>=a and b>=c:\n",
    "    print(f\"{b} is biggest\")\n",
    "else:\n",
    "    print(f\"{c} is biggest\")"
   ]
  },
  {
   "cell_type": "code",
   "execution_count": 42,
   "id": "7ab7f7b3-e12a-490e-a6ba-221211d493f1",
   "metadata": {},
   "outputs": [
    {
     "name": "stdin",
     "output_type": "stream",
     "text": [
      " 5 3 9\n"
     ]
    },
    {
     "name": "stdout",
     "output_type": "stream",
     "text": [
      "a = 5, b = 3, c = 9\n",
      "9 is biggest\n"
     ]
    }
   ],
   "source": [
    "a, b, c = map(int, input().split())\n",
    "print(f\"a = {a}, b = {b}, c = {c}\")\n",
    "\n",
    "if a>=b and a>=c:  # False --> b > a, c > a\n",
    "    print(f\"{a} is biggest\")\n",
    "elif b>=c:\n",
    "    print(f\"{b} is biggest\")\n",
    "else:\n",
    "    print(f\"{c} is biggest\")"
   ]
  },
  {
   "cell_type": "markdown",
   "id": "11363ca6-f389-4a1c-8ce2-735173e8047e",
   "metadata": {},
   "source": [
    "#### Loops \n",
    "\n",
    "    for, while"
   ]
  },
  {
   "cell_type": "markdown",
   "id": "8e2cff26-2be5-49e5-a419-6f935b460bab",
   "metadata": {},
   "source": [
    "    Repeatation "
   ]
  },
  {
   "cell_type": "code",
   "execution_count": 45,
   "id": "42ab848b-271c-49b9-ab54-72ba079472b3",
   "metadata": {},
   "outputs": [
    {
     "name": "stdout",
     "output_type": "stream",
     "text": [
      "will do something\n",
      "next statement\n"
     ]
    }
   ],
   "source": [
    "cond = True\n",
    "if cond:\n",
    "    print('will do something')\n",
    "\n",
    "print('next statement')"
   ]
  },
  {
   "cell_type": "code",
   "execution_count": 46,
   "id": "96fef6d1-230c-4688-a09b-0412c4cdc616",
   "metadata": {},
   "outputs": [
    {
     "name": "stdout",
     "output_type": "stream",
     "text": [
      "next statement\n"
     ]
    }
   ],
   "source": [
    "cond = False\n",
    "if cond:\n",
    "    print('will do something')\n",
    "\n",
    "print('next statement')"
   ]
  },
  {
   "cell_type": "code",
   "execution_count": 50,
   "id": "493523a5-d839-4ee0-9f9a-96f5f1c14c43",
   "metadata": {},
   "outputs": [
    {
     "name": "stdout",
     "output_type": "stream",
     "text": [
      "next statement\n"
     ]
    }
   ],
   "source": [
    "cond = False\n",
    "\n",
    "while cond:\n",
    "    print('will do something')\n",
    "\n",
    "print('next statement')"
   ]
  },
  {
   "cell_type": "raw",
   "id": "11b07c1f-1f84-4a21-a886-98600de5895b",
   "metadata": {},
   "source": [
    "import time \n",
    "# Esc + ii \n",
    "cond = 1\n",
    "\n",
    "while cond:\n",
    "    print('will do something')\n",
    "    time.sleep(1) \n",
    "    \n",
    "print('next statement')"
   ]
  },
  {
   "cell_type": "code",
   "execution_count": 54,
   "id": "cbb0ec98-080a-481c-b6ab-6c57d221f10d",
   "metadata": {},
   "outputs": [
    {
     "name": "stdout",
     "output_type": "stream",
     "text": [
      "Hello World! Times 1\n",
      "Hello World! Times 2\n",
      "Hello World! Times 3\n",
      "Hello World! Times 4\n",
      "next statement\n"
     ]
    }
   ],
   "source": [
    "var = 1\n",
    "while var < 5: # var = 4 ? 4 < 5 -> True\n",
    "    print(f\"Hello World! Times {var}\") # Hello World! Times 4\n",
    "    var += 1 # var = var + 1 -> var = 5\n",
    "\n",
    "print('next statement')\n",
    "\n",
    "# # Hello World! Times 1"
   ]
  },
  {
   "cell_type": "code",
   "execution_count": 55,
   "id": "7474a60d-6fa7-4492-a63e-5d75765cdfc2",
   "metadata": {},
   "outputs": [
    {
     "name": "stdout",
     "output_type": "stream",
     "text": [
      "!dlroW olleH"
     ]
    }
   ],
   "source": [
    "statement = \"Hello World!\"\n",
    "while statement:\n",
    "    print(statement[-1], end=\"\")\n",
    "    statement = statement[:-1]\n",
    "    "
   ]
  },
  {
   "cell_type": "code",
   "execution_count": 56,
   "id": "f1da8079-1f6d-4d16-ba5c-3c27fae1fcdc",
   "metadata": {},
   "outputs": [
    {
     "name": "stdout",
     "output_type": "stream",
     "text": [
      "1 - Hello World!\n",
      "3 - Hello World!\n",
      "5 - Hello World!\n",
      "7 - Hello World!\n",
      "9 - Hello World!\n"
     ]
    }
   ],
   "source": [
    "i = 1\n",
    "while i <= 10:\n",
    "    print(f\"{i} - Hello World!\")\n",
    "    i += 2\n"
   ]
  },
  {
   "cell_type": "code",
   "execution_count": 57,
   "id": "d04b85cd-bd91-4bab-9e62-92925145b25c",
   "metadata": {},
   "outputs": [
    {
     "name": "stdout",
     "output_type": "stream",
     "text": [
      "1 - Hello world!\n",
      "2 - Hello world!\n",
      "4 - Hello world!\n",
      "8 - Hello world!\n",
      "16 - Hello world!\n",
      "32 - Hello world!\n",
      "64 - Hello world!\n"
     ]
    }
   ],
   "source": [
    "c = 1\n",
    "while c <= 100:\n",
    "    print(f\"{c} - Hello world!\")\n",
    "    c *= 2"
   ]
  },
  {
   "cell_type": "code",
   "execution_count": null,
   "id": "afb8f41b-7799-4bae-9bc7-08b1f30246d6",
   "metadata": {},
   "outputs": [],
   "source": [
    "c = 123456\n",
    "while c:\n",
    "    print(c%10, end=\"\")\n",
    "    c //= 10"
   ]
  }
 ],
 "metadata": {
  "kernelspec": {
   "display_name": "Python [conda env:base] *",
   "language": "python",
   "name": "conda-base-py"
  },
  "language_info": {
   "codemirror_mode": {
    "name": "ipython",
    "version": 3
   },
   "file_extension": ".py",
   "mimetype": "text/x-python",
   "name": "python",
   "nbconvert_exporter": "python",
   "pygments_lexer": "ipython3",
   "version": "3.12.7"
  }
 },
 "nbformat": 4,
 "nbformat_minor": 5
}
