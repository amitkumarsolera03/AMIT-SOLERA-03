{
 "cells": [
  {
   "cell_type": "markdown",
   "id": "438b63c7-7c1f-4cb1-adc1-f007adc1eb93",
   "metadata": {},
   "source": [
    "# any doubt ?"
   ]
  },
  {
   "cell_type": "code",
   "execution_count": 1,
   "id": "60cc28ca-6539-40d5-8766-5c5b8eae349f",
   "metadata": {},
   "outputs": [
    {
     "data": {
      "text/plain": [
       "'__main__'"
      ]
     },
     "execution_count": 1,
     "metadata": {},
     "output_type": "execute_result"
    }
   ],
   "source": [
    "__name__"
   ]
  },
  {
   "cell_type": "code",
   "execution_count": null,
   "id": "e7c0adec-9dff-4c41-921b-266bdd4ec305",
   "metadata": {},
   "outputs": [],
   "source": [
    "init 0 # shutdown\n",
    "# INIT global"
   ]
  },
  {
   "cell_type": "code",
   "execution_count": 2,
   "id": "f44aac75-661f-4896-9cc7-075c99309400",
   "metadata": {},
   "outputs": [],
   "source": [
    "def add(x, y):\n",
    "    return x + y\n",
    "\n",
    "def sub(x, y):\n",
    "    return x + y\n",
    "\n",
    "def mul(x, y):\n",
    "    return x * y\n",
    "\n",
    "x, y = 5, 10\n",
    "# glboal variable "
   ]
  },
  {
   "cell_type": "markdown",
   "id": "e1c7dd43-3e95-4aa6-a3a6-c0d79486f0ca",
   "metadata": {},
   "source": [
    "    Built-in Scope\n",
    "\n",
    "        Global Scope / Module Scope / Main Scope\n",
    "\n",
    "            Non Local / Nested function scope\n",
    "\n",
    "                Local Scope \n",
    "        "
   ]
  },
  {
   "cell_type": "code",
   "execution_count": 4,
   "id": "a13da877-4d0a-43cf-84b5-a474c4b804e2",
   "metadata": {},
   "outputs": [],
   "source": [
    "def func():\n",
    "    print = 'ha ha'\n",
    "    print('hello world')"
   ]
  },
  {
   "cell_type": "code",
   "execution_count": 5,
   "id": "d693cc87-63ac-4cd5-9be6-1ec2c784d26f",
   "metadata": {},
   "outputs": [
    {
     "name": "stdout",
     "output_type": "stream",
     "text": [
      "hello\n"
     ]
    }
   ],
   "source": [
    "print('hello')"
   ]
  },
  {
   "cell_type": "code",
   "execution_count": 6,
   "id": "71d76738-37bf-45de-89aa-133cebadf9c7",
   "metadata": {},
   "outputs": [
    {
     "ename": "TypeError",
     "evalue": "'str' object is not callable",
     "output_type": "error",
     "traceback": [
      "\u001b[0;31m---------------------------------------------------------------------------\u001b[0m",
      "\u001b[0;31mTypeError\u001b[0m                                 Traceback (most recent call last)",
      "Cell \u001b[0;32mIn[6], line 1\u001b[0m\n\u001b[0;32m----> 1\u001b[0m func()\n",
      "Cell \u001b[0;32mIn[4], line 3\u001b[0m, in \u001b[0;36mfunc\u001b[0;34m()\u001b[0m\n\u001b[1;32m      1\u001b[0m \u001b[38;5;28;01mdef\u001b[39;00m \u001b[38;5;21mfunc\u001b[39m():\n\u001b[1;32m      2\u001b[0m     \u001b[38;5;28mprint\u001b[39m \u001b[38;5;241m=\u001b[39m \u001b[38;5;124m'\u001b[39m\u001b[38;5;124mha ha\u001b[39m\u001b[38;5;124m'\u001b[39m\n\u001b[0;32m----> 3\u001b[0m     \u001b[38;5;28mprint\u001b[39m(\u001b[38;5;124m'\u001b[39m\u001b[38;5;124mhello world\u001b[39m\u001b[38;5;124m'\u001b[39m)\n",
      "\u001b[0;31mTypeError\u001b[0m: 'str' object is not callable"
     ]
    }
   ],
   "source": [
    "func()"
   ]
  },
  {
   "cell_type": "code",
   "execution_count": 7,
   "id": "3cbec5af-95ff-4ca3-b56f-139f6086f561",
   "metadata": {},
   "outputs": [
    {
     "name": "stdout",
     "output_type": "stream",
     "text": [
      "hello world\n"
     ]
    }
   ],
   "source": [
    "print('hello world')"
   ]
  },
  {
   "cell_type": "code",
   "execution_count": 8,
   "id": "2ef3b685-3b9a-48f1-9171-a9a3730db183",
   "metadata": {},
   "outputs": [
    {
     "name": "stdout",
     "output_type": "stream",
     "text": [
      "30\n"
     ]
    }
   ],
   "source": [
    "x = 10\n",
    "def func():\n",
    "    global x\n",
    "    x += 20\n",
    "\n",
    "func()\n",
    "print(x) # global"
   ]
  },
  {
   "cell_type": "code",
   "execution_count": 9,
   "id": "bd0f6b8d-8486-41c7-9c5b-751ad4b11335",
   "metadata": {},
   "outputs": [],
   "source": [
    "def func(x):\n",
    "    def inner_func():\n",
    "        x += 10\n",
    "        print('inner x ', x)\n",
    "    print('func x ', x)\n",
    "    inner_func()"
   ]
  },
  {
   "cell_type": "code",
   "execution_count": 10,
   "id": "902deaf5-3184-40e6-bbc3-ddd0f9c454b0",
   "metadata": {},
   "outputs": [
    {
     "name": "stdout",
     "output_type": "stream",
     "text": [
      "func x  10\n"
     ]
    },
    {
     "ename": "UnboundLocalError",
     "evalue": "cannot access local variable 'x' where it is not associated with a value",
     "output_type": "error",
     "traceback": [
      "\u001b[0;31m---------------------------------------------------------------------------\u001b[0m",
      "\u001b[0;31mUnboundLocalError\u001b[0m                         Traceback (most recent call last)",
      "Cell \u001b[0;32mIn[10], line 2\u001b[0m\n\u001b[1;32m      1\u001b[0m x \u001b[38;5;241m=\u001b[39m \u001b[38;5;241m100\u001b[39m \u001b[38;5;66;03m# global scope \u001b[39;00m\n\u001b[0;32m----> 2\u001b[0m func(\u001b[38;5;241m10\u001b[39m)\n",
      "Cell \u001b[0;32mIn[9], line 6\u001b[0m, in \u001b[0;36mfunc\u001b[0;34m(x)\u001b[0m\n\u001b[1;32m      4\u001b[0m     \u001b[38;5;28mprint\u001b[39m(\u001b[38;5;124m'\u001b[39m\u001b[38;5;124minner x \u001b[39m\u001b[38;5;124m'\u001b[39m, x)\n\u001b[1;32m      5\u001b[0m \u001b[38;5;28mprint\u001b[39m(\u001b[38;5;124m'\u001b[39m\u001b[38;5;124mfunc x \u001b[39m\u001b[38;5;124m'\u001b[39m, x)\n\u001b[0;32m----> 6\u001b[0m inner_func()\n",
      "Cell \u001b[0;32mIn[9], line 3\u001b[0m, in \u001b[0;36mfunc.<locals>.inner_func\u001b[0;34m()\u001b[0m\n\u001b[1;32m      2\u001b[0m \u001b[38;5;28;01mdef\u001b[39;00m \u001b[38;5;21minner_func\u001b[39m():\n\u001b[0;32m----> 3\u001b[0m     x \u001b[38;5;241m+\u001b[39m\u001b[38;5;241m=\u001b[39m \u001b[38;5;241m10\u001b[39m\n\u001b[1;32m      4\u001b[0m     \u001b[38;5;28mprint\u001b[39m(\u001b[38;5;124m'\u001b[39m\u001b[38;5;124minner x \u001b[39m\u001b[38;5;124m'\u001b[39m, x)\n",
      "\u001b[0;31mUnboundLocalError\u001b[0m: cannot access local variable 'x' where it is not associated with a value"
     ]
    }
   ],
   "source": [
    "x = 100 # global scope \n",
    "func(10)\n",
    "# func(10)\n",
    "# func.local\n",
    "#     x = 10\n",
    "#     inner_func -> defination\n",
    "#     func x 10 # non local\n",
    "#     inner_func.local\n",
    "#        # local scope\n",
    "         # x = x + 10   # Scope Resolve -> local --> non local --> global ---> built-in"
   ]
  },
  {
   "cell_type": "code",
   "execution_count": 11,
   "id": "3a67ce12-0fcc-4a64-8185-9e8d91a731c5",
   "metadata": {},
   "outputs": [],
   "source": [
    "def func(x):\n",
    "    def inner_func():\n",
    "        nonlocal x\n",
    "        x += 10\n",
    "        print('inner x ', x)\n",
    "    print('func x ', x)\n",
    "    inner_func()"
   ]
  },
  {
   "cell_type": "code",
   "execution_count": 12,
   "id": "dae808f8-21eb-4223-bd70-9b92163acd5a",
   "metadata": {},
   "outputs": [
    {
     "name": "stdout",
     "output_type": "stream",
     "text": [
      "func x  10\n",
      "inner x  20\n"
     ]
    }
   ],
   "source": [
    "func(10)"
   ]
  },
  {
   "cell_type": "code",
   "execution_count": 14,
   "id": "2c129845-686b-44cf-aabe-4252733adb96",
   "metadata": {},
   "outputs": [
    {
     "name": "stdout",
     "output_type": "stream",
     "text": [
      "inner x  20\n",
      "func x  20\n"
     ]
    }
   ],
   "source": [
    "\n",
    "def func(x):\n",
    "    # x = 20 # nonlocal\n",
    "    def inner_func():\n",
    "        nonlocal x\n",
    "        x += 10\n",
    "        print('inner x ', x) # 20\n",
    "    inner_func()\n",
    "    print('func x ', x) # 20\n",
    "\n",
    "\n",
    "func(10)"
   ]
  },
  {
   "cell_type": "code",
   "execution_count": 15,
   "id": "989e872d-f1e2-4e6a-a27d-9ca11edbce86",
   "metadata": {},
   "outputs": [
    {
     "name": "stdout",
     "output_type": "stream",
     "text": [
      "inner x  110\n",
      "func x  10\n"
     ]
    }
   ],
   "source": [
    "\n",
    "def func(x):\n",
    "    # x = 10 # nonlocal\n",
    "    def inner_func():\n",
    "        global x\n",
    "        x += 10\n",
    "        print('inner x ', x) # 110\n",
    "    inner_func()\n",
    "    print('func x ', x) # 10\n",
    "\n",
    "x = 100 # x = 110\n",
    "func(10) "
   ]
  },
  {
   "cell_type": "code",
   "execution_count": 16,
   "id": "640fea9c-fa5f-4d8a-be01-63eb713ecc81",
   "metadata": {},
   "outputs": [
    {
     "name": "stdout",
     "output_type": "stream",
     "text": [
      "110\n"
     ]
    }
   ],
   "source": [
    "print(x)"
   ]
  },
  {
   "cell_type": "code",
   "execution_count": 19,
   "id": "2bb99202-12f4-461f-b842-7e01c5230460",
   "metadata": {},
   "outputs": [
    {
     "data": {
      "text/plain": [
       "<function __main__.func(x)>"
      ]
     },
     "execution_count": 19,
     "metadata": {},
     "output_type": "execute_result"
    }
   ],
   "source": [
    "func # reffering to function "
   ]
  },
  {
   "cell_type": "code",
   "execution_count": 20,
   "id": "3b588012-b0d5-4c9c-8c85-5aaef650846f",
   "metadata": {},
   "outputs": [
    {
     "name": "stdout",
     "output_type": "stream",
     "text": [
      "inner x  120\n",
      "func x  10\n"
     ]
    }
   ],
   "source": [
    "func(10)"
   ]
  },
  {
   "cell_type": "code",
   "execution_count": 21,
   "id": "9fff3446-2292-4f21-8850-4b7fcf02b790",
   "metadata": {},
   "outputs": [],
   "source": [
    "def hello():\n",
    "    print('hello world')\n",
    "\n",
    "# hello  --> function <--- hi\n",
    "\n",
    "hi = hello"
   ]
  },
  {
   "cell_type": "code",
   "execution_count": 22,
   "id": "325d2770-07ea-4ae9-b2a9-1eb6519ca341",
   "metadata": {},
   "outputs": [
    {
     "name": "stdout",
     "output_type": "stream",
     "text": [
      "hello world\n"
     ]
    }
   ],
   "source": [
    "hi()"
   ]
  },
  {
   "cell_type": "code",
   "execution_count": 23,
   "id": "e9f31ef8-dda7-44da-bdbe-62a8b6003783",
   "metadata": {},
   "outputs": [
    {
     "data": {
      "text/plain": [
       "True"
      ]
     },
     "execution_count": 23,
     "metadata": {},
     "output_type": "execute_result"
    }
   ],
   "source": [
    "hi is hello"
   ]
  },
  {
   "cell_type": "code",
   "execution_count": 24,
   "id": "028f6f2d-49b4-47d6-988c-af2410c3b212",
   "metadata": {},
   "outputs": [
    {
     "name": "stdout",
     "output_type": "stream",
     "text": [
      "5346096000 5346096000\n"
     ]
    }
   ],
   "source": [
    "print(id(hi), id(hello))"
   ]
  },
  {
   "cell_type": "code",
   "execution_count": 25,
   "id": "45e94a32-77bb-46c8-9549-78a1897cf5ba",
   "metadata": {},
   "outputs": [
    {
     "name": "stdout",
     "output_type": "stream",
     "text": [
      "<function hello at 0x13ea6f380>\n",
      "<function hello at 0x13ea6f380>\n"
     ]
    }
   ],
   "source": [
    "print(hi)\n",
    "print(hello)"
   ]
  },
  {
   "cell_type": "code",
   "execution_count": 26,
   "id": "6e69432a-4b46-4b8e-991e-a6acc1dbff68",
   "metadata": {},
   "outputs": [],
   "source": [
    "def hi():\n",
    "    def hello():\n",
    "        print('hello')\n",
    "    return hello\n",
    "# Closures"
   ]
  },
  {
   "cell_type": "code",
   "execution_count": 28,
   "id": "cb607a8a-01b5-4959-9814-d4fa8fefbd7e",
   "metadata": {},
   "outputs": [],
   "source": [
    "p = print"
   ]
  },
  {
   "cell_type": "code",
   "execution_count": 29,
   "id": "c67b0d9b-9112-4c99-9540-23023237edf3",
   "metadata": {},
   "outputs": [
    {
     "name": "stdout",
     "output_type": "stream",
     "text": [
      "hello\n"
     ]
    }
   ],
   "source": [
    "p('hello')"
   ]
  },
  {
   "cell_type": "code",
   "execution_count": 30,
   "id": "2db1dc5f-4a84-4714-b008-28d2c7f88bb6",
   "metadata": {},
   "outputs": [
    {
     "name": "stdout",
     "output_type": "stream",
     "text": [
      "x 10\n",
      "y 20\n",
      "x + y 30\n"
     ]
    }
   ],
   "source": [
    "def func():\n",
    "    x = 10\n",
    "    y = 20\n",
    "    print('x', x)\n",
    "    print('y', y)\n",
    "    print('x + y', x+y)\n",
    "\n",
    "func()"
   ]
  },
  {
   "cell_type": "markdown",
   "id": "bcb4ccf4-0f1f-47f5-9d13-b44be8aae016",
   "metadata": {},
   "source": [
    "# Closures \n",
    "\n",
    "    something which is about close but not closed yet \n",
    "\n",
    "    storing state of variable into a nonlocal scope \n",
    "\n",
    "    a function which contains a function defination inside it and return inner function "
   ]
  },
  {
   "cell_type": "code",
   "execution_count": 17,
   "id": "f070ceee-4385-4fb1-8ce3-cfaad907c9fa",
   "metadata": {},
   "outputs": [],
   "source": [
    "def outer(name):\n",
    "    def inner():\n",
    "        print(\"Hello My name is \", name)\n",
    "    return inner"
   ]
  },
  {
   "cell_type": "code",
   "execution_count": 31,
   "id": "bb31cb93-78fd-4acd-8938-89b834f0aba9",
   "metadata": {},
   "outputs": [],
   "source": [
    "func = outer(\"Sachin yadav\")\n",
    "# outer.local\n",
    "#    name = \"Sachin Yadav\"\n",
    "#    inner --> function outer.local.<inner>() # defination\n",
    "# func = inner  --> function outer.local.<inner>()"
   ]
  },
  {
   "cell_type": "code",
   "execution_count": 32,
   "id": "c85f6501-b6e0-4403-b489-a1aa120718ff",
   "metadata": {},
   "outputs": [
    {
     "name": "stdout",
     "output_type": "stream",
     "text": [
      "Hello My name is  Sachin yadav\n"
     ]
    }
   ],
   "source": [
    "func()\n",
    "# we have trapped outer.local scope inside inner scope "
   ]
  },
  {
   "cell_type": "code",
   "execution_count": 39,
   "id": "6fffbce5-26ed-40a8-a5d9-3e4709f9c002",
   "metadata": {},
   "outputs": [],
   "source": [
    "def count():\n",
    "    x = 0\n",
    "    def hello():\n",
    "        nonlocal x\n",
    "        x += 1\n",
    "        print(f\"{x}. hello World!\")\n",
    "    return hello"
   ]
  },
  {
   "cell_type": "code",
   "execution_count": 40,
   "id": "edc0defa-f434-4b90-a876-826f87b04188",
   "metadata": {},
   "outputs": [],
   "source": [
    "hi = count()"
   ]
  },
  {
   "cell_type": "code",
   "execution_count": 41,
   "id": "24695ae6-185e-40f1-8681-456ca02d5be5",
   "metadata": {},
   "outputs": [
    {
     "data": {
      "text/plain": [
       "<function __main__.count.<locals>.hello()>"
      ]
     },
     "execution_count": 41,
     "metadata": {},
     "output_type": "execute_result"
    }
   ],
   "source": [
    "hi"
   ]
  },
  {
   "cell_type": "code",
   "execution_count": 42,
   "id": "c7dd91d2-410b-4c42-bd7c-493ad14ebe92",
   "metadata": {},
   "outputs": [
    {
     "name": "stdout",
     "output_type": "stream",
     "text": [
      "1. hello World!\n"
     ]
    }
   ],
   "source": [
    "hi()"
   ]
  },
  {
   "cell_type": "code",
   "execution_count": 43,
   "id": "e27d85e3-193d-4345-9c1a-193a27e2fb5e",
   "metadata": {},
   "outputs": [
    {
     "name": "stdout",
     "output_type": "stream",
     "text": [
      "2. hello World!\n"
     ]
    }
   ],
   "source": [
    "hi()"
   ]
  },
  {
   "cell_type": "code",
   "execution_count": 44,
   "id": "828064a9-7230-42e0-813e-966a4c8c71ce",
   "metadata": {},
   "outputs": [
    {
     "name": "stdout",
     "output_type": "stream",
     "text": [
      "3. hello World!\n"
     ]
    }
   ],
   "source": [
    "hi()"
   ]
  },
  {
   "cell_type": "code",
   "execution_count": 45,
   "id": "196e0b15-e12f-450b-914f-a6a2fdfcff5b",
   "metadata": {},
   "outputs": [],
   "source": [
    "def author(name):\n",
    "    #name = \"Sachin\")\n",
    "    def hello():\n",
    "        print(\"Author\", name)\n",
    "        print(\"hello world!\")\n",
    "    return hello"
   ]
  },
  {
   "cell_type": "code",
   "execution_count": 46,
   "id": "f59426bc-954f-4c01-b12f-090ce8f89e80",
   "metadata": {},
   "outputs": [],
   "source": [
    "func = author(\"Sachin\")"
   ]
  },
  {
   "cell_type": "code",
   "execution_count": 47,
   "id": "bda9ec57-a167-4645-8b09-1d09d4b125c0",
   "metadata": {},
   "outputs": [
    {
     "name": "stdout",
     "output_type": "stream",
     "text": [
      "Author Sachin\n",
      "hello world!\n"
     ]
    }
   ],
   "source": [
    "func()"
   ]
  },
  {
   "cell_type": "markdown",
   "id": "c83faf69-ea44-4c7f-b993-6467a433f4f8",
   "metadata": {},
   "source": [
    "## Decorators\n",
    "\n",
    "    special functions in python which can add extra features to an exiting function just like inheritance in oops\n",
    "\n",
    "\n",
    "    a function which take function as argument, defines a function inside body, and returns the inner function"
   ]
  },
  {
   "cell_type": "code",
   "execution_count": 48,
   "id": "aeb2a099-bd02-49fd-a7a1-082b2368da52",
   "metadata": {},
   "outputs": [],
   "source": [
    "def new_hello(old_hello):\n",
    "    def dec_hello():\n",
    "        print('_'*100)\n",
    "        old_hello()\n",
    "        print('_'*100)\n",
    "    return dec_hello"
   ]
  },
  {
   "cell_type": "code",
   "execution_count": 49,
   "id": "f24986cf-3827-4a7f-ac04-ce8fc619867f",
   "metadata": {},
   "outputs": [
    {
     "name": "stdout",
     "output_type": "stream",
     "text": [
      "hello world!\n"
     ]
    }
   ],
   "source": [
    "def hello():\n",
    "    print(\"hello world!\")\n",
    "\n",
    "hello()"
   ]
  },
  {
   "cell_type": "code",
   "execution_count": 52,
   "id": "819430f7-7eed-4ee4-bcd8-76e4e59ebaa0",
   "metadata": {},
   "outputs": [
    {
     "data": {
      "text/plain": [
       "<function __main__.new_hello.<locals>.dec_hello()>"
      ]
     },
     "execution_count": 52,
     "metadata": {},
     "output_type": "execute_result"
    }
   ],
   "source": [
    "hi = new_hello(hello)\n",
    "# new_hello.local\n",
    "#    old_hello --> __main__.hello()\n",
    "#    dec_hello --> __main__.new_hello.<locals>.dec_hello()\n",
    "# hi ---> __main__.new_hello.<locals>.dec_hello()\n",
    "hi"
   ]
  },
  {
   "cell_type": "code",
   "execution_count": 53,
   "id": "b6aea317-80ab-485b-a566-87c305ce53ce",
   "metadata": {},
   "outputs": [
    {
     "name": "stdout",
     "output_type": "stream",
     "text": [
      "____________________________________________________________________________________________________\n",
      "hello world!\n",
      "____________________________________________________________________________________________________\n"
     ]
    }
   ],
   "source": [
    "hi()#\n",
    "# "
   ]
  },
  {
   "cell_type": "code",
   "execution_count": 61,
   "id": "5d5c89ae-3476-4413-97b4-31f12ee6f176",
   "metadata": {},
   "outputs": [],
   "source": [
    "def hello(name):\n",
    "    print(f\"hello user {name}, welcome to decorators\".center(100))\n",
    "#hello()"
   ]
  },
  {
   "cell_type": "code",
   "execution_count": 62,
   "id": "83544439-bddc-44a5-aa93-2c111099995b",
   "metadata": {},
   "outputs": [
    {
     "name": "stdout",
     "output_type": "stream",
     "text": [
      "----------------------------------------------------------------------------------------------------\n"
     ]
    },
    {
     "ename": "TypeError",
     "evalue": "hello() missing 1 required positional argument: 'name'",
     "output_type": "error",
     "traceback": [
      "\u001b[0;31m---------------------------------------------------------------------------\u001b[0m",
      "\u001b[0;31mTypeError\u001b[0m                                 Traceback (most recent call last)",
      "Cell \u001b[0;32mIn[62], line 10\u001b[0m\n\u001b[1;32m      7\u001b[0m     \u001b[38;5;28;01mreturn\u001b[39;00m inner\n\u001b[1;32m      9\u001b[0m hi \u001b[38;5;241m=\u001b[39m outer(hello)\n\u001b[0;32m---> 10\u001b[0m hi()\n",
      "Cell \u001b[0;32mIn[62], line 5\u001b[0m, in \u001b[0;36mouter.<locals>.inner\u001b[0;34m()\u001b[0m\n\u001b[1;32m      3\u001b[0m \u001b[38;5;28;01mdef\u001b[39;00m \u001b[38;5;21minner\u001b[39m():\n\u001b[1;32m      4\u001b[0m     \u001b[38;5;28mprint\u001b[39m(\u001b[38;5;124m'\u001b[39m\u001b[38;5;124m-\u001b[39m\u001b[38;5;124m'\u001b[39m\u001b[38;5;241m*\u001b[39m\u001b[38;5;241m100\u001b[39m)\n\u001b[0;32m----> 5\u001b[0m     func() \u001b[38;5;66;03m# old function --> hello()\u001b[39;00m\n\u001b[1;32m      6\u001b[0m     \u001b[38;5;28mprint\u001b[39m(\u001b[38;5;124m'\u001b[39m\u001b[38;5;124m-\u001b[39m\u001b[38;5;124m'\u001b[39m\u001b[38;5;241m*\u001b[39m\u001b[38;5;241m100\u001b[39m)\n",
      "\u001b[0;31mTypeError\u001b[0m: hello() missing 1 required positional argument: 'name'"
     ]
    }
   ],
   "source": [
    "def outer(func):\n",
    "    # func = hello\n",
    "    def inner():\n",
    "        print('-'*100)\n",
    "        func() # old function --> hello()\n",
    "        print('-'*100)\n",
    "    return inner\n",
    "\n",
    "hi = outer(hello)\n",
    "hi()"
   ]
  },
  {
   "cell_type": "code",
   "execution_count": 64,
   "id": "8a0268d3-5e61-440a-bc36-cc810648623d",
   "metadata": {},
   "outputs": [
    {
     "name": "stdout",
     "output_type": "stream",
     "text": [
      "----------------------------------------------------------------------------------------------------\n",
      "                           hello user sachin yadav, welcome to decorators                           \n",
      "----------------------------------------------------------------------------------------------------\n",
      "----------------------------------------------------------------------------------------------------\n",
      "                           hello user sachin yadav, welcome to decorators                           \n",
      "----------------------------------------------------------------------------------------------------\n"
     ]
    }
   ],
   "source": [
    "def hello(name):\n",
    "    print(f\"hello user {name}, welcome to decorators\".center(100))\n",
    "\n",
    "\n",
    "def outer(func):\n",
    "    # func = hello\n",
    "    def inner(name):\n",
    "        print('-'*100)\n",
    "        func(name) # old function --> hello(name)\n",
    "        print('-'*100)\n",
    "    return inner\n",
    "\n",
    "hi = outer(hello)\n",
    "hi('sachin yadav')\n",
    "\n",
    "@outer\n",
    "def greet(name):\n",
    "     print(f\"hello user {name}, welcome to decorators\".center(100))\n",
    "\n",
    "greet('sachin yadav')"
   ]
  },
  {
   "cell_type": "code",
   "execution_count": null,
   "id": "13573143-2605-4f79-b309-d432094bab2d",
   "metadata": {},
   "outputs": [],
   "source": []
  },
  {
   "cell_type": "code",
   "execution_count": null,
   "id": "691089a8-eaa4-48af-94a4-0035e51f7a4d",
   "metadata": {},
   "outputs": [],
   "source": []
  },
  {
   "cell_type": "code",
   "execution_count": 54,
   "id": "441417f7-6c58-4451-94a7-990e0eec8ce5",
   "metadata": {},
   "outputs": [],
   "source": [
    "def decorate(func):\n",
    "    def wrapper(*args, **kwargs): # packing\n",
    "        print('-'*100)\n",
    "        # before function calling\n",
    "        ret = func(*args, **kwargs) # unpacking\n",
    "        # after function calling\n",
    "        print('-'*100)\n",
    "        return ret\n",
    "    return wrapper"
   ]
  },
  {
   "cell_type": "code",
   "execution_count": 65,
   "id": "a4e8f174-c6b3-4128-a14c-790504309511",
   "metadata": {},
   "outputs": [
    {
     "name": "stdout",
     "output_type": "stream",
     "text": [
      "----------------------------------------------------------------------------------------------------\n",
      "x =  10\n",
      "y =  50\n",
      "x + y =  60\n",
      "----------------------------------------------------------------------------------------------------\n",
      "answer =  60\n"
     ]
    }
   ],
   "source": [
    "@decorate  # add = decorate(add)\n",
    "def add(x, y):\n",
    "    print('x = ', x)\n",
    "    print('y = ', y)\n",
    "    print('x + y = ', x + y)\n",
    "    return x + y\n",
    "\n",
    "ans = add(10, 50) # add(10, 50)#\n",
    "print('answer = ', ans)"
   ]
  },
  {
   "cell_type": "code",
   "execution_count": null,
   "id": "a2e38856-5b8a-4aae-af27-a2a22a7949dc",
   "metadata": {},
   "outputs": [],
   "source": []
  },
  {
   "cell_type": "code",
   "execution_count": 56,
   "id": "d4609ef4-5bac-4593-bbe1-99ae8048ff9a",
   "metadata": {},
   "outputs": [
    {
     "name": "stdout",
     "output_type": "stream",
     "text": [
      "----------------------------------------------------------------------------------------------------\n",
      "hello world!\n",
      "----------------------------------------------------------------------------------------------------\n"
     ]
    }
   ],
   "source": [
    "hello = decorate(hello)\n",
    "hello()"
   ]
  },
  {
   "cell_type": "code",
   "execution_count": 66,
   "id": "cdb783d1-5c72-4364-8d31-6633669129ed",
   "metadata": {},
   "outputs": [],
   "source": [
    "def decorate(func):\n",
    "    def wrapper(*args, **kwargs): # packing\n",
    "        print('-'*100)\n",
    "        # before function calling\n",
    "        ret = func(*args, **kwargs) # unpacking\n",
    "        # after function calling\n",
    "        print('-'*100)\n",
    "        return ret\n",
    "    return wrapper"
   ]
  },
  {
   "cell_type": "markdown",
   "id": "59953bd4-9f2c-46bd-a0cc-96bdd064ebcc",
   "metadata": {},
   "source": [
    "### use \n",
    "# caching"
   ]
  },
  {
   "cell_type": "code",
   "execution_count": 68,
   "id": "0eda8412-326a-4364-8a30-1148892f38ea",
   "metadata": {},
   "outputs": [],
   "source": [
    "def home():\n",
    "    html = \"\"\"\n",
    "    <h1> Hello World! this is home page</h1>\n",
    "    <p> to understand use of decorator </p>\n",
    "    \"\"\"\n",
    "    return html\n",
    "\n",
    "def contact():\n",
    "    html = \"\"\"\n",
    "        <h1>Grras Solutions</h1>\n",
    "        <p> ph no . 123567888 </p>\n",
    "        <p> email abcd@def.com </p>\n",
    "        <p> address : jaipur </p>\n",
    "    \"\"\"\n",
    "    return html"
   ]
  },
  {
   "cell_type": "code",
   "execution_count": 72,
   "id": "3d1fe048-9304-4f54-b432-90f086ef7803",
   "metadata": {},
   "outputs": [
    {
     "name": "stdout",
     "output_type": "stream",
     "text": [
      "\n",
      "        <h1>Grras Solutions</h1>\n",
      "        <p> ph no . 123567888 </p>\n",
      "        <p> email abcd@def.com </p>\n",
      "        <p> address : jaipur </p>\n",
      "    \n"
     ]
    }
   ],
   "source": [
    "\n",
    "ans = contact()\n",
    "print(ans)"
   ]
  },
  {
   "cell_type": "markdown",
   "id": "d647825e-661a-46a8-b9e8-a55a74ed1807",
   "metadata": {},
   "source": [
    "website -> req --> server ---> response --> browser --> type --> render --> show"
   ]
  },
  {
   "cell_type": "markdown",
   "id": "a1a60898-4daf-4494-ac10-4c51a423b027",
   "metadata": {},
   "source": [
    "# Response \n",
    "\n",
    "    # Header  -> meta information\n",
    "\n",
    "    # Body  -> data\n",
    "    "
   ]
  },
  {
   "cell_type": "code",
   "execution_count": 73,
   "id": "80088b82-7ce3-4757-8cb4-7b801dcf7013",
   "metadata": {},
   "outputs": [
    {
     "data": {
      "text/plain": [
       "80"
      ]
     },
     "execution_count": 73,
     "metadata": {},
     "output_type": "execute_result"
    }
   ],
   "source": [
    "len(\"\"\"<h1> Hello World! this is home page</h1>\n",
    "<p> to understand use of decorator </p>\"\"\")"
   ]
  },
  {
   "cell_type": "raw",
   "id": "0edf89a1-2e99-41be-94f2-3e482717e17e",
   "metadata": {},
   "source": [
    "Content-type: text/html\n",
    "Content-length: 80\n",
    "encoding: utf-8\n",
    "\n",
    "<h1> Hello World! this is home page</h1>\n",
    "<p> to understand use of decorator </p>"
   ]
  },
  {
   "cell_type": "markdown",
   "id": "62aa0bd9-ceec-4ae6-bca6-530cac8885eb",
   "metadata": {},
   "source": [
    "charset --> ascii --> a-z A-Z 0-9 !@#$%^&*(\n",
    "hindi, english -> UTF-8\n",
    "a -> a ? "
   ]
  },
  {
   "cell_type": "markdown",
   "id": "25bb4cef-7a1e-4f66-8d8e-74bdb16c68ed",
   "metadata": {},
   "source": [
    "    data --> bytes --> decode --> symbols"
   ]
  },
  {
   "cell_type": "code",
   "execution_count": 79,
   "id": "007a5eaf-6043-4e7b-9c97-acf6f86af2f1",
   "metadata": {},
   "outputs": [],
   "source": [
    "def add_header(func):\n",
    "    def wrapper(*args, **kwargs):\n",
    "        content = func(*args, **kwargs)\n",
    "        resp = f\"\"\"Content-type: text/html\n",
    "Content-length: {len(content)}\n",
    "encoding: utf-8\n",
    "\n",
    "        {content}\n",
    "        \"\"\"\n",
    "        return resp\n",
    "    return wrapper"
   ]
  },
  {
   "cell_type": "code",
   "execution_count": 80,
   "id": "e6573e69-648b-49e6-9b77-75c13f4a500d",
   "metadata": {},
   "outputs": [],
   "source": [
    "@add_header\n",
    "def home():\n",
    "    html = \"\"\"\n",
    "    <h1> Hello World! this is home page</h1>\n",
    "    <p> to understand use of decorator </p>\n",
    "    \"\"\"\n",
    "    return html\n",
    "    \n",
    "@add_header\n",
    "def contact():\n",
    "    html = \"\"\"\n",
    "        <h1>Grras Solutions</h1>\n",
    "        <p> ph no . 123567888 </p>\n",
    "        <p> email abcd@def.com </p>\n",
    "        <p> address : jaipur </p>\n",
    "    \"\"\"\n",
    "    return html"
   ]
  },
  {
   "cell_type": "code",
   "execution_count": 81,
   "id": "008e860a-c390-41e3-85da-9af0e1f3b452",
   "metadata": {},
   "outputs": [
    {
     "name": "stdout",
     "output_type": "stream",
     "text": [
      "Content-type: text/html\n",
      "Content-length: 94\n",
      "encoding: utf-8\n",
      "\n",
      "        \n",
      "    <h1> Hello World! this is home page</h1>\n",
      "    <p> to understand use of decorator </p>\n",
      "    \n",
      "        \n"
     ]
    }
   ],
   "source": [
    "print(home())"
   ]
  },
  {
   "cell_type": "code",
   "execution_count": 82,
   "id": "30a39803-9106-46b8-93c7-892319b8a15d",
   "metadata": {},
   "outputs": [
    {
     "name": "stdout",
     "output_type": "stream",
     "text": [
      "Content-type: text/html\n",
      "Content-length: 143\n",
      "encoding: utf-8\n",
      "\n",
      "        \n",
      "        <h1>Grras Solutions</h1>\n",
      "        <p> ph no . 123567888 </p>\n",
      "        <p> email abcd@def.com </p>\n",
      "        <p> address : jaipur </p>\n",
      "    \n",
      "        \n"
     ]
    }
   ],
   "source": [
    "print(contact())"
   ]
  },
  {
   "cell_type": "markdown",
   "id": "725f90dc-c100-4b92-9fa1-092909c001a3",
   "metadata": {},
   "source": [
    "## Recursion \n",
    "\n",
    "    when a function call itself known as recursion "
   ]
  },
  {
   "cell_type": "code",
   "execution_count": 98,
   "id": "2a108774-2ff2-4a6c-abdd-7aff44631ea4",
   "metadata": {},
   "outputs": [],
   "source": [
    "def func(seq):\n",
    "    if seq:\n",
    "        print(seq[-1], end=\"\")\n",
    "        func(seq[:-1])\n",
    "    return"
   ]
  },
  {
   "cell_type": "code",
   "execution_count": 99,
   "id": "acba2fd7-cdcc-488f-91dd-14a47f79dd86",
   "metadata": {},
   "outputs": [
    {
     "name": "stdout",
     "output_type": "stream",
     "text": [
      "olleh"
     ]
    }
   ],
   "source": [
    "func('hello')"
   ]
  },
  {
   "cell_type": "code",
   "execution_count": null,
   "id": "5a267d06-7355-4631-9d81-7fbdd3e3f544",
   "metadata": {},
   "outputs": [],
   "source": [
    "# func('hello')\n",
    "#    seq='hello'\n",
    "#    func('hell')\n",
    "#       seq='hell'\n",
    "#       func('hel')\n",
    "#           seq='hel'\n",
    "#           func('he')\n",
    "#                seq='he'\n",
    "#                func('h')\n",
    "#                    seq='h'\n",
    "#                    func('')\n",
    "#                       seq=''\n",
    "#                       return None"
   ]
  },
  {
   "cell_type": "code",
   "execution_count": null,
   "id": "0715d550-64dd-4961-b315-79e266a1ad7a",
   "metadata": {},
   "outputs": [],
   "source": []
  },
  {
   "cell_type": "markdown",
   "id": "d1879a54-c92d-4e99-953d-76ca27a1f791",
   "metadata": {},
   "source": [
    "olleh"
   ]
  },
  {
   "cell_type": "code",
   "execution_count": 88,
   "id": "ffbb58e8-203e-4795-a600-7f6c66b6aade",
   "metadata": {},
   "outputs": [],
   "source": [
    "import time"
   ]
  },
  {
   "cell_type": "code",
   "execution_count": 95,
   "id": "8f59b652-29b1-4ccb-be4f-91969113837a",
   "metadata": {},
   "outputs": [],
   "source": [
    "def hello(c):\n",
    "    c += 1\n",
    "    print(f\"\\r{c:>5}\", end=\"\")\n",
    "    time.sleep(0.05)\n",
    "    hello(c)"
   ]
  },
  {
   "cell_type": "code",
   "execution_count": 96,
   "id": "70c762ed-5d92-4763-adfa-4d402b1a78ed",
   "metadata": {},
   "outputs": [
    {
     "name": "stdout",
     "output_type": "stream",
     "text": [
      " 2976"
     ]
    },
    {
     "ename": "RecursionError",
     "evalue": "maximum recursion depth exceeded",
     "output_type": "error",
     "traceback": [
      "\u001b[0;31m---------------------------------------------------------------------------\u001b[0m",
      "\u001b[0;31mRecursionError\u001b[0m                            Traceback (most recent call last)",
      "Cell \u001b[0;32mIn[96], line 1\u001b[0m\n\u001b[0;32m----> 1\u001b[0m hello(\u001b[38;5;241m0\u001b[39m)\n",
      "Cell \u001b[0;32mIn[95], line 5\u001b[0m, in \u001b[0;36mhello\u001b[0;34m(c)\u001b[0m\n\u001b[1;32m      3\u001b[0m \u001b[38;5;28mprint\u001b[39m(\u001b[38;5;124mf\u001b[39m\u001b[38;5;124m\"\u001b[39m\u001b[38;5;130;01m\\r\u001b[39;00m\u001b[38;5;132;01m{\u001b[39;00mc\u001b[38;5;132;01m:\u001b[39;00m\u001b[38;5;124m>5\u001b[39m\u001b[38;5;132;01m}\u001b[39;00m\u001b[38;5;124m\"\u001b[39m, end\u001b[38;5;241m=\u001b[39m\u001b[38;5;124m\"\u001b[39m\u001b[38;5;124m\"\u001b[39m)\n\u001b[1;32m      4\u001b[0m time\u001b[38;5;241m.\u001b[39msleep(\u001b[38;5;241m0.05\u001b[39m)\n\u001b[0;32m----> 5\u001b[0m hello(c)\n",
      "Cell \u001b[0;32mIn[95], line 5\u001b[0m, in \u001b[0;36mhello\u001b[0;34m(c)\u001b[0m\n\u001b[1;32m      3\u001b[0m \u001b[38;5;28mprint\u001b[39m(\u001b[38;5;124mf\u001b[39m\u001b[38;5;124m\"\u001b[39m\u001b[38;5;130;01m\\r\u001b[39;00m\u001b[38;5;132;01m{\u001b[39;00mc\u001b[38;5;132;01m:\u001b[39;00m\u001b[38;5;124m>5\u001b[39m\u001b[38;5;132;01m}\u001b[39;00m\u001b[38;5;124m\"\u001b[39m, end\u001b[38;5;241m=\u001b[39m\u001b[38;5;124m\"\u001b[39m\u001b[38;5;124m\"\u001b[39m)\n\u001b[1;32m      4\u001b[0m time\u001b[38;5;241m.\u001b[39msleep(\u001b[38;5;241m0.05\u001b[39m)\n\u001b[0;32m----> 5\u001b[0m hello(c)\n",
      "    \u001b[0;31m[... skipping similar frames: hello at line 5 (2973 times)]\u001b[0m\n",
      "Cell \u001b[0;32mIn[95], line 5\u001b[0m, in \u001b[0;36mhello\u001b[0;34m(c)\u001b[0m\n\u001b[1;32m      3\u001b[0m \u001b[38;5;28mprint\u001b[39m(\u001b[38;5;124mf\u001b[39m\u001b[38;5;124m\"\u001b[39m\u001b[38;5;130;01m\\r\u001b[39;00m\u001b[38;5;132;01m{\u001b[39;00mc\u001b[38;5;132;01m:\u001b[39;00m\u001b[38;5;124m>5\u001b[39m\u001b[38;5;132;01m}\u001b[39;00m\u001b[38;5;124m\"\u001b[39m, end\u001b[38;5;241m=\u001b[39m\u001b[38;5;124m\"\u001b[39m\u001b[38;5;124m\"\u001b[39m)\n\u001b[1;32m      4\u001b[0m time\u001b[38;5;241m.\u001b[39msleep(\u001b[38;5;241m0.05\u001b[39m)\n\u001b[0;32m----> 5\u001b[0m hello(c)\n",
      "Cell \u001b[0;32mIn[95], line 3\u001b[0m, in \u001b[0;36mhello\u001b[0;34m(c)\u001b[0m\n\u001b[1;32m      1\u001b[0m \u001b[38;5;28;01mdef\u001b[39;00m \u001b[38;5;21mhello\u001b[39m(c):\n\u001b[1;32m      2\u001b[0m     c \u001b[38;5;241m+\u001b[39m\u001b[38;5;241m=\u001b[39m \u001b[38;5;241m1\u001b[39m\n\u001b[0;32m----> 3\u001b[0m     \u001b[38;5;28mprint\u001b[39m(\u001b[38;5;124mf\u001b[39m\u001b[38;5;124m\"\u001b[39m\u001b[38;5;130;01m\\r\u001b[39;00m\u001b[38;5;132;01m{\u001b[39;00mc\u001b[38;5;132;01m:\u001b[39;00m\u001b[38;5;124m>5\u001b[39m\u001b[38;5;132;01m}\u001b[39;00m\u001b[38;5;124m\"\u001b[39m, end\u001b[38;5;241m=\u001b[39m\u001b[38;5;124m\"\u001b[39m\u001b[38;5;124m\"\u001b[39m)\n\u001b[1;32m      4\u001b[0m     time\u001b[38;5;241m.\u001b[39msleep(\u001b[38;5;241m0.05\u001b[39m)\n\u001b[1;32m      5\u001b[0m     hello(c)\n",
      "File \u001b[0;32m/opt/anaconda3/lib/python3.12/site-packages/ipykernel/iostream.py:649\u001b[0m, in \u001b[0;36mOutStream.write\u001b[0;34m(self, string)\u001b[0m\n\u001b[1;32m    646\u001b[0m     msg \u001b[38;5;241m=\u001b[39m \u001b[38;5;124m\"\u001b[39m\u001b[38;5;124mI/O operation on closed file\u001b[39m\u001b[38;5;124m\"\u001b[39m\n\u001b[1;32m    647\u001b[0m     \u001b[38;5;28;01mraise\u001b[39;00m \u001b[38;5;167;01mValueError\u001b[39;00m(msg)\n\u001b[0;32m--> 649\u001b[0m is_child \u001b[38;5;241m=\u001b[39m \u001b[38;5;129;01mnot\u001b[39;00m \u001b[38;5;28mself\u001b[39m\u001b[38;5;241m.\u001b[39m_is_master_process()\n\u001b[1;32m    650\u001b[0m \u001b[38;5;66;03m# only touch the buffer in the IO thread to avoid races\u001b[39;00m\n\u001b[1;32m    651\u001b[0m \u001b[38;5;28;01mwith\u001b[39;00m \u001b[38;5;28mself\u001b[39m\u001b[38;5;241m.\u001b[39m_buffer_lock:\n",
      "\u001b[0;31mRecursionError\u001b[0m: maximum recursion depth exceeded"
     ]
    }
   ],
   "source": [
    "hello(0)"
   ]
  },
  {
   "cell_type": "code",
   "execution_count": null,
   "id": "defec357-2245-4719-b8e0-3268bea3e97a",
   "metadata": {},
   "outputs": [],
   "source": []
  },
  {
   "cell_type": "code",
   "execution_count": 83,
   "id": "2188170c-7134-42cc-bf8c-e4d4d801d386",
   "metadata": {},
   "outputs": [],
   "source": [
    "def hello():\n",
    "    print(\"hello world!\")\n",
    "    hello() # recursion hello calls hello"
   ]
  },
  {
   "cell_type": "code",
   "execution_count": 85,
   "id": "1e0de554-9ec4-4708-9547-ffae58938c82",
   "metadata": {},
   "outputs": [],
   "source": [
    "import sys"
   ]
  },
  {
   "cell_type": "code",
   "execution_count": 86,
   "id": "2937abe1-3140-4b44-bea0-be8a42c22485",
   "metadata": {},
   "outputs": [
    {
     "data": {
      "text/plain": [
       "3000"
      ]
     },
     "execution_count": 86,
     "metadata": {},
     "output_type": "execute_result"
    }
   ],
   "source": [
    "sys.getrecursionlimit()"
   ]
  },
  {
   "cell_type": "code",
   "execution_count": null,
   "id": "6aae0df3-f864-4704-8600-b378e3a84575",
   "metadata": {},
   "outputs": [],
   "source": [
    "hello()\n",
    "# hello()\n",
    "#  hello.local\n",
    "#      hello()\n",
    "#      hello.local\n",
    "#          hello()\n",
    "#          ....\n",
    "\n",
    "# while True: print('hello')"
   ]
  },
  {
   "cell_type": "code",
   "execution_count": null,
   "id": "de03df86-af63-4164-8a4d-21e9fdc4b46d",
   "metadata": {},
   "outputs": [],
   "source": []
  },
  {
   "cell_type": "code",
   "execution_count": 101,
   "id": "fd5ba496-bc13-4784-99fd-f5dc65b28a0c",
   "metadata": {},
   "outputs": [],
   "source": [
    "def hello(num):\n",
    "    if num:\n",
    "        ret = num + hello(num-1)\n",
    "        print(num, end=\" \")\n",
    "    return num"
   ]
  },
  {
   "cell_type": "raw",
   "id": "8f15b0ad-612d-40d8-a522-abca284ba8d7",
   "metadata": {},
   "source": [
    "\n",
    "\n",
    "1 2 3 4 5 \n",
    "\n",
    "ans = 5"
   ]
  },
  {
   "cell_type": "raw",
   "id": "916c90ba-ccc4-4ffd-8714-88c0cbc28708",
   "metadata": {},
   "source": [
    "hello(5)\n",
    "    num=5\n",
    "    ret = 5 + hello(4) -> ?\n",
    "\n",
    "hello(4)\n",
    "    num=4\n",
    "    ret = 4 + hello(3) -> ?\n",
    "\n",
    "hello(3)\n",
    "    num=3\n",
    "    ret = 3 + hello(2) -> ?\n",
    "\n",
    "hello(2)\n",
    "    num=2\n",
    "    ret = 2 + hello(1) -> ?\n",
    "\n",
    "hello(1):\n",
    "    num=1\n",
    "    ret = 1 + hello(0) -> ?\n",
    "\n",
    "hello(0)\n",
    "    num = 0\n",
    "    return 0"
   ]
  },
  {
   "cell_type": "code",
   "execution_count": 102,
   "id": "6624691d-daf2-449c-afbe-28a179bb829d",
   "metadata": {},
   "outputs": [
    {
     "name": "stdout",
     "output_type": "stream",
     "text": [
      "1 2 3 4 5 5\n"
     ]
    }
   ],
   "source": [
    "ans = hello(5)\n",
    "print(ans)"
   ]
  },
  {
   "cell_type": "code",
   "execution_count": 103,
   "id": "1eda18e2-edc4-4cf6-9b9c-393f27be71d9",
   "metadata": {},
   "outputs": [],
   "source": [
    "def hello(num):\n",
    "    if num:\n",
    "        ret = num + hello(num-1)\n",
    "        print(num, end=\" \")\n",
    "        return ret\n",
    "    return num"
   ]
  },
  {
   "cell_type": "code",
   "execution_count": 105,
   "id": "3fcc73cf-e35a-4a66-87a1-97d131cc58f2",
   "metadata": {},
   "outputs": [
    {
     "name": "stdout",
     "output_type": "stream",
     "text": [
      "1 2 3 4 5 \n",
      " 15\n"
     ]
    }
   ],
   "source": [
    "ans = hello(5)\n",
    "print('\\n', ans)"
   ]
  },
  {
   "cell_type": "code",
   "execution_count": 106,
   "id": "04705a2b-aa25-4980-a04e-6941d9592721",
   "metadata": {},
   "outputs": [],
   "source": [
    "def is_prime(num):\n",
    "    \"recursive code for prime\""
   ]
  },
  {
   "cell_type": "raw",
   "id": "45460ac1-fd9e-493f-89e0-1fb0b53aa1f0",
   "metadata": {},
   "source": [
    "5! = 5*4! # 5! = 120\n",
    "4! = 4*3!  # 4! = 24\n",
    "3! = 3*2! # 3! = 6\n",
    "2! = 2*1!  # 2! = 2\n",
    "1! = 1"
   ]
  },
  {
   "cell_type": "code",
   "execution_count": 107,
   "id": "ac437ada-fb0d-433b-864c-c1b1ff321424",
   "metadata": {},
   "outputs": [
    {
     "name": "stdout",
     "output_type": "stream",
     "text": [
      "120\n"
     ]
    }
   ],
   "source": [
    "def fact(num):\n",
    "    if num <= 1:\n",
    "        return 1\n",
    "    return num*fact(num-1)\n",
    "\n",
    "print(fact(5))"
   ]
  },
  {
   "cell_type": "code",
   "execution_count": 109,
   "id": "9a7c8ff7-5ee0-4420-8fec-7c5acff5e4f7",
   "metadata": {},
   "outputs": [
    {
     "name": "stdout",
     "output_type": "stream",
     "text": [
      "610\n"
     ]
    }
   ],
   "source": [
    "def fab(n):\n",
    "    if n <= 1:\n",
    "        return n\n",
    "    return fab(n-1) + fab(n-2)\n",
    "print(fab(15))"
   ]
  },
  {
   "cell_type": "code",
   "execution_count": 113,
   "id": "5ae51955-a332-48f6-9b49-101c3e4a9bb5",
   "metadata": {},
   "outputs": [
    {
     "data": {
      "text/plain": [
       "1751950009.577616"
      ]
     },
     "execution_count": 113,
     "metadata": {},
     "output_type": "execute_result"
    }
   ],
   "source": [
    "import time\n",
    "time.time()"
   ]
  },
  {
   "cell_type": "code",
   "execution_count": 121,
   "id": "0534c9b9-3922-4d07-9287-4259eff203f0",
   "metadata": {},
   "outputs": [],
   "source": [
    "def timer(func):\n",
    "    def get_time(*args, **kwargs):\n",
    "        start = time.time() # seconds\n",
    "        ret = func(*args, **kwargs)\n",
    "        end = time.time()\n",
    "        print(f\"\\r{func} executed in {end-start:.2f} seconds\".center(100), end=\"\")\n",
    "        return ret\n",
    "    return get_time"
   ]
  },
  {
   "cell_type": "code",
   "execution_count": 124,
   "id": "2e2b8187-c4eb-4aed-a8bd-6d8649d88a68",
   "metadata": {},
   "outputs": [],
   "source": [
    "def fab(n):\n",
    "    if n>1:\n",
    "        return fab(n-1) + fab(n-2)\n",
    "    return n"
   ]
  },
  {
   "cell_type": "code",
   "execution_count": 132,
   "id": "133abfb4-4284-4eb7-907c-cdeff852440b",
   "metadata": {},
   "outputs": [],
   "source": [
    "@timer\n",
    "def get_fab(n):\n",
    "    time.sleep(1)\n",
    "    return fab(n)"
   ]
  },
  {
   "cell_type": "code",
   "execution_count": 134,
   "id": "12d35d03-27cc-4bcb-a0c4-3efcf6a13306",
   "metadata": {},
   "outputs": [
    {
     "name": "stdout",
     "output_type": "stream",
     "text": [
      "<function get_fab at 0x3015eca40> executed in 8.47 seconds                     "
     ]
    },
    {
     "data": {
      "text/plain": [
       "102334155"
      ]
     },
     "execution_count": 134,
     "metadata": {},
     "output_type": "execute_result"
    }
   ],
   "source": [
    "get_fab(40)\n",
    "# how we can make fab function run faster \n",
    "# hint caching"
   ]
  },
  {
   "cell_type": "code",
   "execution_count": null,
   "id": "56040a13-16b7-42aa-8859-4e211316c142",
   "metadata": {},
   "outputs": [],
   "source": [
    "  0 1 1 2 3 5 8 13\n",
    "# 1 2 3 4 5 6 7 8  fab(50) -> fab(49)  + fab(48)"
   ]
  },
  {
   "cell_type": "markdown",
   "id": "0e22e9b3-fd2b-4912-8e28-138e9559f907",
   "metadata": {},
   "source": [
    "fab(5)\n",
    "    fab(4) + fab(3) # replace\n",
    "\n",
    "    fab(3) + fab(2)    + fab(2) + fab(1)"
   ]
  },
  {
   "cell_type": "markdown",
   "id": "d1c76d44-f0da-450f-b838-68866355d455",
   "metadata": {},
   "source": [
    "### OOPs "
   ]
  },
  {
   "cell_type": "code",
   "execution_count": null,
   "id": "20080fd5-9ecc-4404-b9b2-2358b280e2cf",
   "metadata": {},
   "outputs": [],
   "source": []
  }
 ],
 "metadata": {
  "kernelspec": {
   "display_name": "Python [conda env:base] *",
   "language": "python",
   "name": "conda-base-py"
  },
  "language_info": {
   "codemirror_mode": {
    "name": "ipython",
    "version": 3
   },
   "file_extension": ".py",
   "mimetype": "text/x-python",
   "name": "python",
   "nbconvert_exporter": "python",
   "pygments_lexer": "ipython3",
   "version": "3.12.7"
  }
 },
 "nbformat": 4,
 "nbformat_minor": 5
}
