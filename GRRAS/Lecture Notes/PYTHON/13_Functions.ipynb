{
 "cells": [
  {
   "cell_type": "code",
   "execution_count": 12,
   "id": "575af645-c0f6-439b-9c9c-5f8a1179b395",
   "metadata": {},
   "outputs": [],
   "source": [
    "def validate_password(password):\n",
    "    return True"
   ]
  },
  {
   "cell_type": "code",
   "execution_count": 3,
   "id": "bbb652ee-789d-42e4-80e9-d3bcbdc6423f",
   "metadata": {},
   "outputs": [],
   "source": [
    "def is_even(num):\n",
    "    return num%2==0 # 13 % 2 -> 1"
   ]
  },
  {
   "cell_type": "code",
   "execution_count": 4,
   "id": "1dad1408-a249-4721-8815-acb63a4797fc",
   "metadata": {},
   "outputs": [
    {
     "name": "stdout",
     "output_type": "stream",
     "text": [
      "False\n"
     ]
    }
   ],
   "source": [
    "ans = is_even(13)\n",
    "print(ans)"
   ]
  },
  {
   "cell_type": "code",
   "execution_count": 5,
   "id": "b1f61871-9c39-4aa4-aa85-5318232e36bf",
   "metadata": {},
   "outputs": [],
   "source": [
    "names = [ 'ram', 'shyam', 'hari', 'jhon', 'alice', 'vincent', 'michael']"
   ]
  },
  {
   "cell_type": "code",
   "execution_count": 9,
   "id": "19d5a0c3-d8e8-46b5-ab9b-dd680d0b9b16",
   "metadata": {},
   "outputs": [
    {
     "name": "stdout",
     "output_type": "stream",
     "text": [
      "ram   shyam   hari   jhon   alice   vincent   michael   "
     ]
    }
   ],
   "source": [
    "for i in range(len(names)):\n",
    "    print(names[i], end=\"   \")"
   ]
  },
  {
   "cell_type": "code",
   "execution_count": 7,
   "id": "2d17e9be-3f9f-4adf-9d3d-86f6fac75bd0",
   "metadata": {},
   "outputs": [
    {
     "data": {
      "text/plain": [
       "[0, 1, 2, 3, 4, 5, 6]"
      ]
     },
     "execution_count": 7,
     "metadata": {},
     "output_type": "execute_result"
    }
   ],
   "source": [
    "list(range(len(names)))"
   ]
  },
  {
   "cell_type": "code",
   "execution_count": null,
   "id": "74d99e01-a1e1-4741-8507-59b743afea10",
   "metadata": {},
   "outputs": [],
   "source": []
  },
  {
   "cell_type": "code",
   "execution_count": 11,
   "id": "5b934ade-75a7-45e8-94e4-ac316eae4286",
   "metadata": {},
   "outputs": [
    {
     "name": "stdout",
     "output_type": "stream",
     "text": [
      "['ram', 'hari', 'alice', 'michael']\n",
      "['shyam', 'jhon', 'vincent']\n"
     ]
    }
   ],
   "source": [
    "t1 = [ names[i] for i in range(len(names)) if is_even(i) ]\n",
    "t2 = [ names[i] for i in range(len(names)) if not is_even(i) ]\n",
    "print(t1)\n",
    "print(t2)"
   ]
  },
  {
   "cell_type": "markdown",
   "id": "f941408e-3a14-4e6b-99e7-b26fcd0857a6",
   "metadata": {},
   "source": [
    "## Tic Tac Toe \n",
    "\n",
    "    print board \n",
    "\n",
    "    game over \n",
    "\n",
    "    main "
   ]
  },
  {
   "cell_type": "markdown",
   "id": "3afc2f88-a9ab-4fef-b530-6faa7c358d69",
   "metadata": {},
   "source": [
    "## Functions \n",
    "\n",
    "    a smaller piece of code to execute a specific task \n",
    "\n",
    "    to resue the code\n",
    "\n",
    "    moduler programming - we can break a big into sub problems which can be solved by smaller smaller functions\n",
    "\n",
    "    easy debugging\n",
    "\n",
    "    "
   ]
  },
  {
   "cell_type": "code",
   "execution_count": 13,
   "id": "d6a38bd8-71be-4213-a0d7-bde73f02b5e7",
   "metadata": {},
   "outputs": [
    {
     "name": "stdout",
     "output_type": "stream",
     "text": [
      "Help on built-in function print in module builtins:\n",
      "\n",
      "print(*args, sep=' ', end='\\n', file=None, flush=False)\n",
      "    Prints the values to a stream, or to sys.stdout by default.\n",
      "\n",
      "    sep\n",
      "      string inserted between values, default a space.\n",
      "    end\n",
      "      string appended after the last value, default a newline.\n",
      "    file\n",
      "      a file-like object (stream); defaults to the current sys.stdout.\n",
      "    flush\n",
      "      whether to forcibly flush the stream.\n",
      "\n"
     ]
    }
   ],
   "source": [
    "help(print)"
   ]
  },
  {
   "cell_type": "code",
   "execution_count": 19,
   "id": "cdc818c1-d2b7-4074-83c9-cc63d24909b0",
   "metadata": {},
   "outputs": [
    {
     "ename": "TypeError",
     "evalue": "hello() takes 0 positional arguments but 1 was given",
     "output_type": "error",
     "traceback": [
      "\u001b[0;31m---------------------------------------------------------------------------\u001b[0m",
      "\u001b[0;31mTypeError\u001b[0m                                 Traceback (most recent call last)",
      "Cell \u001b[0;32mIn[19], line 1\u001b[0m\n\u001b[0;32m----> 1\u001b[0m hello(\u001b[38;5;124m'\u001b[39m\u001b[38;5;124msachin\u001b[39m\u001b[38;5;124m'\u001b[39m)\n",
      "\u001b[0;31mTypeError\u001b[0m: hello() takes 0 positional arguments but 1 was given"
     ]
    }
   ],
   "source": [
    "hello('sachin')"
   ]
  },
  {
   "cell_type": "code",
   "execution_count": 14,
   "id": "33ca8b35-59c6-4ac8-98c4-a296e2a642b0",
   "metadata": {},
   "outputs": [],
   "source": [
    "def hello(): # signature\n",
    "    print(\"hello world!\")"
   ]
  },
  {
   "cell_type": "code",
   "execution_count": 15,
   "id": "f4a199f2-d289-44f3-a095-4c877c346486",
   "metadata": {},
   "outputs": [
    {
     "name": "stdout",
     "output_type": "stream",
     "text": [
      "hello world!\n"
     ]
    }
   ],
   "source": [
    "hello()"
   ]
  },
  {
   "cell_type": "code",
   "execution_count": 17,
   "id": "0c57ffa6-20d9-4f36-9dcc-107bfa0b9877",
   "metadata": {},
   "outputs": [
    {
     "name": "stdout",
     "output_type": "stream",
     "text": [
      "hello world!\n",
      "hello world!\n",
      "hello world!\n",
      "hello world!\n",
      "hello world!\n"
     ]
    }
   ],
   "source": [
    "for _ in range(5):\n",
    "    hello()"
   ]
  },
  {
   "cell_type": "code",
   "execution_count": 18,
   "id": "13e2ad4b-86bb-4d78-ba20-ec1ac86f00c5",
   "metadata": {},
   "outputs": [
    {
     "name": "stdout",
     "output_type": "stream",
     "text": [
      "Help on function hello in module __main__:\n",
      "\n",
      "hello()\n",
      "\n"
     ]
    }
   ],
   "source": [
    "help(hello)"
   ]
  },
  {
   "cell_type": "markdown",
   "id": "a3e77e08-8881-4c98-99c2-fd2c1a17bdc0",
   "metadata": {},
   "source": [
    "#### function \n",
    "\n",
    "    1. defination of function \n",
    "    2. calling of a function "
   ]
  },
  {
   "cell_type": "code",
   "execution_count": 23,
   "id": "d9774a14-4f17-4ad3-9840-d689f29858b6",
   "metadata": {},
   "outputs": [
    {
     "name": "stdout",
     "output_type": "stream",
     "text": [
      "Prints the values to a stream, or to sys.stdout by default.\n",
      "\n",
      "  sep\n",
      "    string inserted between values, default a space.\n",
      "  end\n",
      "    string appended after the last value, default a newline.\n",
      "  file\n",
      "    a file-like object (stream); defaults to the current sys.stdout.\n",
      "  flush\n",
      "    whether to forcibly flush the stream.\n"
     ]
    }
   ],
   "source": [
    "print(print.__doc__)"
   ]
  },
  {
   "cell_type": "code",
   "execution_count": 24,
   "id": "947e7459-a33b-475e-9ffd-8c0a13a9d336",
   "metadata": {},
   "outputs": [
    {
     "name": "stdout",
     "output_type": "stream",
     "text": [
      "\n",
      "        greets with hello world! message\n",
      "    \n"
     ]
    }
   ],
   "source": [
    "print(hello.__doc__)"
   ]
  },
  {
   "cell_type": "code",
   "execution_count": 21,
   "id": "357f9b0e-4780-4546-b2f3-883fc9a4fb77",
   "metadata": {},
   "outputs": [
    {
     "name": "stdout",
     "output_type": "stream",
     "text": [
      "Hello World!\n",
      "Help on function hello in module __main__:\n",
      "\n",
      "hello()\n",
      "    greets with hello world! message\n",
      "\n"
     ]
    }
   ],
   "source": [
    "def hello():\n",
    "    \"\"\"\n",
    "        greets with hello world! message\n",
    "    \"\"\"\n",
    "    print(\"Hello World!\")\n",
    "\n",
    "hello()\n",
    "help(hello) # __doc__"
   ]
  },
  {
   "cell_type": "code",
   "execution_count": 25,
   "id": "9d547209-685c-4545-99ad-2659efdd5f8c",
   "metadata": {},
   "outputs": [
    {
     "name": "stdout",
     "output_type": "stream",
     "text": [
      "Hello World!\n",
      "hello returns the value  None\n"
     ]
    }
   ],
   "source": [
    "var = hello() # None\n",
    "\n",
    "print(\"hello returns the value \", var)\n",
    "# Hello World!\n",
    "# hello returns the value None"
   ]
  },
  {
   "cell_type": "markdown",
   "id": "e82cb3da-cda5-4581-a68d-5be0ee4a6b9e",
   "metadata": {},
   "source": [
    "syntax:\n",
    "\n",
    "    def func_name(arg1, arg2, ...):\n",
    "        \"\"\"\n",
    "            doc string\n",
    "        \"\"\"\n",
    "        st-1\n",
    "        st-2\n",
    "        ...\n",
    "        st-n\n",
    "        return value"
   ]
  },
  {
   "cell_type": "code",
   "execution_count": 28,
   "id": "24d29c72-f2c0-4c8b-acb5-aeeb82e0c0a2",
   "metadata": {},
   "outputs": [
    {
     "name": "stdout",
     "output_type": "stream",
     "text": [
      "Hello World!\n",
      "Hello World!\n"
     ]
    }
   ],
   "source": [
    "def hello():\n",
    "    \"\"\"\n",
    "        returns a greeting message Hello World!\n",
    "    \"\"\"\n",
    "    return \"Hello World!\"\n",
    "\n",
    "print(hello())\n",
    "\n",
    "var = hello()\n",
    "print(var)"
   ]
  },
  {
   "cell_type": "code",
   "execution_count": 27,
   "id": "174f3ff6-999d-488d-b1ec-e49f9bc9e275",
   "metadata": {},
   "outputs": [
    {
     "name": "stdout",
     "output_type": "stream",
     "text": [
      "what will be the output\n"
     ]
    }
   ],
   "source": [
    "hello()\n",
    "# \"Hello World!\"\n",
    "print('what will be the output')"
   ]
  },
  {
   "cell_type": "code",
   "execution_count": null,
   "id": "55f99eb3-dfd0-4e89-8d92-18ccdfd3008a",
   "metadata": {},
   "outputs": [],
   "source": []
  },
  {
   "cell_type": "markdown",
   "id": "b1e0fa3f-1b32-40d0-afce-79f1b16f3814",
   "metadata": {},
   "source": [
    "\n",
    "    arguments / parameters\n",
    "\n",
    "        formal arguments / formal parameters   ---> at the time defination\n",
    "\n",
    "        actual arguments / actual parameters   ---> at the time of calling "
   ]
  },
  {
   "cell_type": "code",
   "execution_count": 47,
   "id": "c3f4d6b3-af75-47a9-ba99-57e10f6f1c02",
   "metadata": {},
   "outputs": [],
   "source": [
    "def hello(name):\n",
    "    \"\"\"\n",
    "        grettes user name with hello message\n",
    "    \"\"\"\n",
    "    print(\"\\n\", \"_\"*100)\n",
    "    name = name.strip().title()\n",
    "    temp = \"|\"+f\"Hello {name:>20}, welcome to python functions.\".center(98)+\"|\"\n",
    "    print(temp)\n",
    "    print(\"\\n\", \"_\"*100)"
   ]
  },
  {
   "cell_type": "code",
   "execution_count": 48,
   "id": "f6b3b499-8bbe-40db-b8f7-e842de7e47bf",
   "metadata": {},
   "outputs": [
    {
     "name": "stdout",
     "output_type": "stream",
     "text": [
      "\n",
      " ____________________________________________________________________________________________________\n",
      "|                     Hello         Sachin Yadav, welcome to python functions.                     |\n",
      "\n",
      " ____________________________________________________________________________________________________\n"
     ]
    }
   ],
   "source": [
    "hello('sachin yadav') # actual parameters "
   ]
  },
  {
   "cell_type": "code",
   "execution_count": 49,
   "id": "719a5896-1546-439e-8b2a-11f4c30e31ba",
   "metadata": {},
   "outputs": [
    {
     "data": {
      "text/plain": [
       "['ram', 'shyam', 'hari', 'jhon', 'alice', 'vincent', 'michael']"
      ]
     },
     "execution_count": 49,
     "metadata": {},
     "output_type": "execute_result"
    }
   ],
   "source": [
    "names"
   ]
  },
  {
   "cell_type": "code",
   "execution_count": 50,
   "id": "4785703e-8207-4dd8-b067-f94895999c15",
   "metadata": {},
   "outputs": [
    {
     "name": "stdout",
     "output_type": "stream",
     "text": [
      "\n",
      " ____________________________________________________________________________________________________\n",
      "|                     Hello                  Ram, welcome to python functions.                     |\n",
      "\n",
      " ____________________________________________________________________________________________________\n",
      "\n",
      " ____________________________________________________________________________________________________\n",
      "|                     Hello                Shyam, welcome to python functions.                     |\n",
      "\n",
      " ____________________________________________________________________________________________________\n",
      "\n",
      " ____________________________________________________________________________________________________\n",
      "|                     Hello                 Hari, welcome to python functions.                     |\n",
      "\n",
      " ____________________________________________________________________________________________________\n",
      "\n",
      " ____________________________________________________________________________________________________\n",
      "|                     Hello                 Jhon, welcome to python functions.                     |\n",
      "\n",
      " ____________________________________________________________________________________________________\n",
      "\n",
      " ____________________________________________________________________________________________________\n",
      "|                     Hello                Alice, welcome to python functions.                     |\n",
      "\n",
      " ____________________________________________________________________________________________________\n",
      "\n",
      " ____________________________________________________________________________________________________\n",
      "|                     Hello              Vincent, welcome to python functions.                     |\n",
      "\n",
      " ____________________________________________________________________________________________________\n",
      "\n",
      " ____________________________________________________________________________________________________\n",
      "|                     Hello              Michael, welcome to python functions.                     |\n",
      "\n",
      " ____________________________________________________________________________________________________\n"
     ]
    }
   ],
   "source": [
    "for name in names:\n",
    "    hello(name)"
   ]
  },
  {
   "cell_type": "raw",
   "id": "b167e9ac-4c9c-4e22-b149-6b81dccded84",
   "metadata": {},
   "source": [
    "\n",
    "  --- --- ---\n",
    " | x | 0 | X |\n",
    "  --- --- ---\n",
    " | x | 0 | X |\n",
    "  --- --- ---\n",
    " | x | 0 | X |\n",
    "  --- --- ---"
   ]
  },
  {
   "cell_type": "code",
   "execution_count": 58,
   "id": "dc57acce-639f-49a4-81d3-a32f8732676f",
   "metadata": {},
   "outputs": [
    {
     "name": "stdout",
     "output_type": "stream",
     "text": [
      " --- --- --- \n",
      "| X | O | X |\n",
      " --- --- --- \n",
      "| X | O | X |\n",
      " --- --- --- \n",
      "| X | O | X |\n",
      "\n"
     ]
    }
   ],
   "source": [
    "pat = \"\"\" --- --- --- \n",
    "|{:^3}|{:^3}|{:^3}|\n",
    "\"\"\" * 3\n",
    "\n",
    "print(pat.format(*([\"X\", \"O\", \"X\"]*3)))"
   ]
  },
  {
   "cell_type": "code",
   "execution_count": 54,
   "id": "4c8df77a-b417-45c3-9e18-6aee67289fc0",
   "metadata": {},
   "outputs": [
    {
     "name": "stdout",
     "output_type": "stream",
     "text": [
      " --- --- --- \n",
      "| X | O | X |\n",
      "\n"
     ]
    }
   ],
   "source": [
    "print(pat.format(\"X\", \"O\", \"X\"))"
   ]
  },
  {
   "cell_type": "code",
   "execution_count": 64,
   "id": "8b84fd02-7e61-489a-b8b0-a36a5c8ebd45",
   "metadata": {},
   "outputs": [],
   "source": [
    "def print_board(values):\n",
    "    \"\"\"\n",
    "        will print a tic tac board by filling values in it\n",
    "\n",
    "        values contains 9 symbols for 9 positions sequentially\n",
    "    \"\"\"\n",
    "    pat = \"\"\"\n",
    "                 --- --- --- \n",
    "                |{:^3}|{:^3}|{:^3}|\"\"\" * 3\n",
    "    fill_pat = pat.format(*values)\n",
    "    print(fill_pat)\n",
    "    print(\"                 --- --- --- \")"
   ]
  },
  {
   "cell_type": "code",
   "execution_count": 65,
   "id": "477b952b-ba2d-47d5-a294-880cd1afb79d",
   "metadata": {},
   "outputs": [
    {
     "name": "stdout",
     "output_type": "stream",
     "text": [
      "\n",
      "                 --- --- --- \n",
      "                | 1 | 2 | 3 |\n",
      "                 --- --- --- \n",
      "                | 4 | 5 | 6 |\n",
      "                 --- --- --- \n",
      "                | 7 | 8 | 9 |\n",
      "                 --- --- --- \n"
     ]
    }
   ],
   "source": [
    "print_board([1, 2, 3, 4, 5, 6, 7, 8,9 ])"
   ]
  },
  {
   "cell_type": "code",
   "execution_count": 66,
   "id": "a10501df-0616-4de6-97ec-711015997fed",
   "metadata": {},
   "outputs": [],
   "source": [
    "data = [ \"X\", \"0\", \" \", \"X\", \"0\", \" \", \"X\", \" \", \"X\"]\n",
    "\n",
    "data = [\n",
    "    [\"X\", \"0\", \" \"],\n",
    "    [\"X\", \"0\", \" \"],\n",
    "    [\"X\", \" \", \"0\"]\n",
    "]"
   ]
  },
  {
   "cell_type": "code",
   "execution_count": 67,
   "id": "39058fd8-6ef5-492c-9489-812c9d50849a",
   "metadata": {},
   "outputs": [],
   "source": [
    "def print_board(values):\n",
    "    \"\"\"\n",
    "        values nested list where each row contains 3 symbols\n",
    "    \"\"\"\n",
    "    pat = \"\"\"\n",
    "                 ___ ___ ___ \n",
    "                |{:^3}|{:^3}|{:^3}|\n",
    "                 --- --- --- \n",
    "                |{:^3}|{:^3}|{:^3}|\n",
    "                 --- --- --- \n",
    "                |{:^3}|{:^3}|{:^3}|\n",
    "                 --- --- --- \n",
    "    \"\"\"\n",
    "    fill_pat = pat.format(\n",
    "        values[0][0], values[0][1], values[0][2],\n",
    "        values[1][0], values[1][1], values[1][2],\n",
    "        values[2][0], values[2][1], values[2][2],\n",
    "    )\n",
    "    print(fill_pat)\n",
    "    "
   ]
  },
  {
   "cell_type": "code",
   "execution_count": 68,
   "id": "e09b426c-6964-479a-aeb0-1e5b1f4e21c7",
   "metadata": {},
   "outputs": [
    {
     "name": "stdout",
     "output_type": "stream",
     "text": [
      "\n",
      "                 ___ ___ ___ \n",
      "                | X | 0 |   |\n",
      "                 --- --- --- \n",
      "                | X | 0 |   |\n",
      "                 --- --- --- \n",
      "                | X |   | 0 |\n",
      "                 --- --- --- \n",
      "    \n"
     ]
    }
   ],
   "source": [
    "print_board(data)"
   ]
  },
  {
   "cell_type": "code",
   "execution_count": 69,
   "id": "f3261b81-4653-43c5-83c9-23afd9fb7646",
   "metadata": {},
   "outputs": [],
   "source": [
    "data = [\n",
    "    [\"X\", \"0\", \"X\"],\n",
    "    [\"X\", \"0\", \" \"],\n",
    "    [\" \", \" \", \"0\"]\n",
    "]"
   ]
  },
  {
   "cell_type": "code",
   "execution_count": 70,
   "id": "3978c7b4-4c9d-4dbc-a2e2-c188f23d3cd0",
   "metadata": {},
   "outputs": [
    {
     "name": "stdout",
     "output_type": "stream",
     "text": [
      "\n",
      "                 ___ ___ ___ \n",
      "                | X | 0 | X |\n",
      "                 --- --- --- \n",
      "                | X | 0 |   |\n",
      "                 --- --- --- \n",
      "                |   |   | 0 |\n",
      "                 --- --- --- \n",
      "    \n"
     ]
    }
   ],
   "source": [
    "print_board(data)"
   ]
  },
  {
   "cell_type": "code",
   "execution_count": 71,
   "id": "577f2609-224f-4316-9585-10d1aea87697",
   "metadata": {},
   "outputs": [
    {
     "name": "stdout",
     "output_type": "stream",
     "text": [
      "\n",
      "                 ___ ___ ___ \n",
      "                |   | 0 | X |\n",
      "                 --- --- --- \n",
      "                | X |   |   |\n",
      "                 --- --- --- \n",
      "                |   | X | 0 |\n",
      "                 --- --- --- \n",
      "    \n"
     ]
    }
   ],
   "source": [
    "data = [\n",
    "    [\" \", \"0\", \"X\"],\n",
    "    [\"X\", \" \", \" \"],\n",
    "    [\" \", \"X\", \"0\"]\n",
    "]\n",
    "print_board(data)"
   ]
  },
  {
   "cell_type": "markdown",
   "id": "06ef1fa6-8e42-48b5-ad36-25170b4c8a61",
   "metadata": {},
   "source": [
    "#### we define 4 type of function \n",
    "\n",
    "    1. with no arguments with not return type \n",
    "    2. with no arguments with return type\n",
    "    3. with arguments without return type\n",
    "    4. with argumetns with return type"
   ]
  },
  {
   "cell_type": "code",
   "execution_count": 76,
   "id": "1474ebba-405f-485c-b898-896fef35a979",
   "metadata": {},
   "outputs": [
    {
     "data": {
      "text/plain": [
       "False"
      ]
     },
     "execution_count": 76,
     "metadata": {},
     "output_type": "execute_result"
    }
   ],
   "source": [
    "type(1.2) is int"
   ]
  },
  {
   "cell_type": "code",
   "execution_count": 88,
   "id": "dad9fa37-fc81-4bc3-a5b0-bb93460ed00f",
   "metadata": {},
   "outputs": [
    {
     "name": "stdout",
     "output_type": "stream",
     "text": [
      "127 % 2 = 1\n",
      "127 % 3 = 1\n",
      "127 % 4 = 3\n",
      "127 % 5 = 2\n",
      "127 % 6 = 1\n",
      "127 % 7 = 1\n",
      "127 % 8 = 7\n",
      "127 % 9 = 1\n",
      "127 % 10 = 7\n",
      "127 % 11 = 6\n",
      "127 % 12 = 7\n",
      "127 % 13 = 10\n",
      "127 % 14 = 1\n",
      "127 % 15 = 7\n",
      "127 % 16 = 15\n",
      "127 % 17 = 8\n",
      "127 % 18 = 1\n",
      "127 % 19 = 13\n",
      "127 % 20 = 7\n",
      "127 % 21 = 1\n",
      "127 % 22 = 17\n",
      "127 % 23 = 12\n",
      "127 % 24 = 7\n",
      "127 % 25 = 2\n",
      "127 % 26 = 23\n",
      "127 % 27 = 19\n",
      "127 % 28 = 15\n",
      "127 % 29 = 11\n",
      "127 % 30 = 7\n",
      "127 % 31 = 3\n",
      "127 % 32 = 31\n",
      "127 % 33 = 28\n",
      "127 % 34 = 25\n",
      "127 % 35 = 22\n",
      "127 % 36 = 19\n",
      "127 % 37 = 16\n",
      "127 % 38 = 13\n",
      "127 % 39 = 10\n",
      "127 % 40 = 7\n",
      "127 % 41 = 4\n",
      "127 % 42 = 1\n",
      "127 % 43 = 41\n",
      "127 % 44 = 39\n",
      "127 % 45 = 37\n",
      "127 % 46 = 35\n",
      "127 % 47 = 33\n",
      "127 % 48 = 31\n",
      "127 % 49 = 29\n",
      "127 % 50 = 27\n",
      "127 % 51 = 25\n",
      "127 % 52 = 23\n",
      "127 % 53 = 21\n",
      "127 % 54 = 19\n",
      "127 % 55 = 17\n",
      "127 % 56 = 15\n",
      "127 % 57 = 13\n",
      "127 % 58 = 11\n",
      "127 % 59 = 9\n",
      "127 % 60 = 7\n",
      "127 % 61 = 5\n",
      "127 % 62 = 3\n",
      "127 % 63 = 1\n",
      "127 % 64 = 63\n",
      "127 % 65 = 62\n",
      "127 % 66 = 61\n",
      "127 % 67 = 60\n",
      "127 % 68 = 59\n",
      "127 % 69 = 58\n",
      "127 % 70 = 57\n",
      "127 % 71 = 56\n",
      "127 % 72 = 55\n",
      "127 % 73 = 54\n",
      "127 % 74 = 53\n",
      "127 % 75 = 52\n",
      "127 % 76 = 51\n",
      "127 % 77 = 50\n",
      "127 % 78 = 49\n",
      "127 % 79 = 48\n",
      "127 % 80 = 47\n",
      "127 % 81 = 46\n",
      "127 % 82 = 45\n",
      "127 % 83 = 44\n",
      "127 % 84 = 43\n",
      "127 % 85 = 42\n",
      "127 % 86 = 41\n",
      "127 % 87 = 40\n",
      "127 % 88 = 39\n",
      "127 % 89 = 38\n",
      "127 % 90 = 37\n",
      "127 % 91 = 36\n",
      "127 % 92 = 35\n",
      "127 % 93 = 34\n",
      "127 % 94 = 33\n",
      "127 % 95 = 32\n",
      "127 % 96 = 31\n",
      "127 % 97 = 30\n",
      "127 % 98 = 29\n",
      "127 % 99 = 28\n",
      "127 % 100 = 27\n",
      "127 % 101 = 26\n",
      "127 % 102 = 25\n",
      "127 % 103 = 24\n",
      "127 % 104 = 23\n",
      "127 % 105 = 22\n",
      "127 % 106 = 21\n",
      "127 % 107 = 20\n",
      "127 % 108 = 19\n",
      "127 % 109 = 18\n",
      "127 % 110 = 17\n",
      "127 % 111 = 16\n",
      "127 % 112 = 15\n",
      "127 % 113 = 14\n",
      "127 % 114 = 13\n",
      "127 % 115 = 12\n",
      "127 % 116 = 11\n",
      "127 % 117 = 10\n",
      "127 % 118 = 9\n",
      "127 % 119 = 8\n",
      "127 % 120 = 7\n",
      "127 % 121 = 6\n",
      "127 % 122 = 5\n",
      "127 % 123 = 4\n",
      "127 % 124 = 3\n",
      "127 % 125 = 2\n",
      "127 % 126 = 1\n"
     ]
    }
   ],
   "source": [
    "num = 127\n",
    "for val in range(2, num):\n",
    "    print(f\"{num} % {val} = {num%val}\")"
   ]
  },
  {
   "cell_type": "code",
   "execution_count": 103,
   "id": "228af985-30a7-44c9-a24a-196cef890829",
   "metadata": {},
   "outputs": [],
   "source": [
    "def is_prime(num):\n",
    "    \"\"\"\n",
    "        return True if num is prime else return False\n",
    "    \"\"\"\n",
    "    if not (num > 1 and type(num) is int):\n",
    "        return False\n",
    "    \n",
    "    if num % 2 == 0:\n",
    "        return False\n",
    "    \n",
    "    if num in [2, 3, 5, 7, 11]:\n",
    "        return True\n",
    " \n",
    "    for val in range(2, num//2):\n",
    "        if num % val == 0:\n",
    "            return False\n",
    "    \n",
    "    return True\n",
    "    "
   ]
  },
  {
   "cell_type": "code",
   "execution_count": 104,
   "id": "876d8a84-a1a0-4e8b-aba7-21b71cbd7912",
   "metadata": {},
   "outputs": [
    {
     "data": {
      "text/plain": [
       "False"
      ]
     },
     "execution_count": 104,
     "metadata": {},
     "output_type": "execute_result"
    }
   ],
   "source": [
    "is_prime(9)"
   ]
  },
  {
   "cell_type": "markdown",
   "id": "c9d378b2-ee76-4fd0-bdd3-9b374431aac0",
   "metadata": {},
   "source": [
    "write a function to return square sum of given numbers"
   ]
  },
  {
   "cell_type": "code",
   "execution_count": 107,
   "id": "90baa5d6-c6d6-42a5-b8ce-db63b0451daa",
   "metadata": {},
   "outputs": [
    {
     "name": "stdout",
     "output_type": "stream",
     "text": [
      "140\n"
     ]
    }
   ],
   "source": [
    "def square_sum(nums):\n",
    "    \"\"\"\n",
    "        function which returns square sum of all given numbers in list nums\n",
    "    \"\"\"\n",
    "    result = 0\n",
    "    for value in nums:\n",
    "        result += value ** 2\n",
    "    # your code goes here\n",
    "    return result\n",
    "nums = [ 1, 2, 3, 4, 5, 6, 7]\n",
    "s = square_sum(nums)\n",
    "print(s) # 55"
   ]
  },
  {
   "cell_type": "code",
   "execution_count": 109,
   "id": "c4dbaa30-f173-4e32-a0c8-dad9d04684c7",
   "metadata": {},
   "outputs": [
    {
     "name": "stdout",
     "output_type": "stream",
     "text": [
      "55\n"
     ]
    }
   ],
   "source": [
    "def square_sum(nums):\n",
    "    \"\"\"\n",
    "        function which returns square sum of all given numbers in list nums\n",
    "    \"\"\"\n",
    "    return sum([var**2 for var in nums])\n",
    "nums = [ 1, 2, 3, 4, 5]\n",
    "s = square_sum(nums)\n",
    "print(s) # 55"
   ]
  },
  {
   "cell_type": "code",
   "execution_count": 110,
   "id": "26549051-54be-4971-9a62-6226e5ccf1e4",
   "metadata": {},
   "outputs": [],
   "source": [
    "def func(arg1, arg2):\n",
    "    print(f\"arg1 = {arg1}\")\n",
    "    print(f\"arg2 = {arg2}\")\n",
    "    return arg1 + arg2"
   ]
  },
  {
   "cell_type": "code",
   "execution_count": 111,
   "id": "029a7689-50d3-4882-a800-293f14686239",
   "metadata": {},
   "outputs": [
    {
     "name": "stdout",
     "output_type": "stream",
     "text": [
      "arg1 = 10\n",
      "arg2 = 20\n"
     ]
    }
   ],
   "source": [
    "s = func(10, 20)"
   ]
  },
  {
   "cell_type": "code",
   "execution_count": 112,
   "id": "ad6051be-d785-4f21-9748-8aef46692d8b",
   "metadata": {},
   "outputs": [
    {
     "name": "stdout",
     "output_type": "stream",
     "text": [
      "30\n"
     ]
    }
   ],
   "source": [
    "print(s)"
   ]
  },
  {
   "cell_type": "markdown",
   "id": "bb52368d-7047-4b81-b853-9c072d131d10",
   "metadata": {},
   "source": [
    "## type of arguments in python functions \n",
    "\n",
    "    1. positional arguments\n",
    "    2. default arguments / keyword arguments\n",
    "    3. variable length arguments\n",
    "    4. variable length keyword arguments"
   ]
  },
  {
   "cell_type": "markdown",
   "id": "f35dc7bd-6b7d-41fe-b1ef-0c3e5a40f229",
   "metadata": {},
   "source": [
    "# Positional Arguments \n",
    "\n",
    "     Compulsory Arguments"
   ]
  },
  {
   "cell_type": "code",
   "execution_count": 113,
   "id": "a767f1b7-a9a9-4700-b84a-9c59a0fc4516",
   "metadata": {},
   "outputs": [],
   "source": [
    "# positional\n",
    "def hello(name):\n",
    "    print(\"hello my name is\", name)"
   ]
  },
  {
   "cell_type": "code",
   "execution_count": 118,
   "id": "07ff92fe-d6f2-4d52-8ef8-2ad6809859c2",
   "metadata": {},
   "outputs": [
    {
     "name": "stdout",
     "output_type": "stream",
     "text": [
      "hello my name is sachin yadav\n"
     ]
    }
   ],
   "source": [
    "hello(\"sachin yadav\") # positional calling"
   ]
  },
  {
   "cell_type": "code",
   "execution_count": 117,
   "id": "0108f208-2600-4f43-be5e-ba329f92dcdc",
   "metadata": {},
   "outputs": [
    {
     "name": "stdout",
     "output_type": "stream",
     "text": [
      "hello my name is sachin yadav\n"
     ]
    }
   ],
   "source": [
    "hello(name=\"sachin yadav\") # keyword calling"
   ]
  },
  {
   "cell_type": "code",
   "execution_count": 119,
   "id": "c6df0165-de12-4b80-b417-875df871f13e",
   "metadata": {},
   "outputs": [
    {
     "ename": "TypeError",
     "evalue": "hello() got an unexpected keyword argument 'username'",
     "output_type": "error",
     "traceback": [
      "\u001b[0;31m---------------------------------------------------------------------------\u001b[0m",
      "\u001b[0;31mTypeError\u001b[0m                                 Traceback (most recent call last)",
      "Cell \u001b[0;32mIn[119], line 1\u001b[0m\n\u001b[0;32m----> 1\u001b[0m hello(username\u001b[38;5;241m=\u001b[39m\u001b[38;5;124m'\u001b[39m\u001b[38;5;124msachin yadav\u001b[39m\u001b[38;5;124m'\u001b[39m)\n",
      "\u001b[0;31mTypeError\u001b[0m: hello() got an unexpected keyword argument 'username'"
     ]
    }
   ],
   "source": [
    "hello(username='sachin yadav')"
   ]
  },
  {
   "cell_type": "code",
   "execution_count": 116,
   "id": "c259c353-c63e-4e74-a2c4-95432a6d9df0",
   "metadata": {},
   "outputs": [
    {
     "ename": "TypeError",
     "evalue": "hello() takes 1 positional argument but 2 were given",
     "output_type": "error",
     "traceback": [
      "\u001b[0;31m---------------------------------------------------------------------------\u001b[0m",
      "\u001b[0;31mTypeError\u001b[0m                                 Traceback (most recent call last)",
      "Cell \u001b[0;32mIn[116], line 1\u001b[0m\n\u001b[0;32m----> 1\u001b[0m hello(\u001b[38;5;124m'\u001b[39m\u001b[38;5;124mhi\u001b[39m\u001b[38;5;124m'\u001b[39m, \u001b[38;5;124m'\u001b[39m\u001b[38;5;124mbye\u001b[39m\u001b[38;5;124m'\u001b[39m)\n",
      "\u001b[0;31mTypeError\u001b[0m: hello() takes 1 positional argument but 2 were given"
     ]
    }
   ],
   "source": [
    "hello('hi', 'bye')"
   ]
  },
  {
   "cell_type": "code",
   "execution_count": 115,
   "id": "8095ab5f-59c8-47e7-a63a-1b0c4e7d56a9",
   "metadata": {},
   "outputs": [
    {
     "name": "stdout",
     "output_type": "stream",
     "text": [
      "hello my name is sachin\n"
     ]
    }
   ],
   "source": [
    "hello('sachin')"
   ]
  },
  {
   "cell_type": "code",
   "execution_count": 114,
   "id": "d7bfb958-26d6-462c-a3d0-a58d1d17766c",
   "metadata": {},
   "outputs": [
    {
     "ename": "TypeError",
     "evalue": "hello() missing 1 required positional argument: 'name'",
     "output_type": "error",
     "traceback": [
      "\u001b[0;31m---------------------------------------------------------------------------\u001b[0m",
      "\u001b[0;31mTypeError\u001b[0m                                 Traceback (most recent call last)",
      "Cell \u001b[0;32mIn[114], line 1\u001b[0m\n\u001b[0;32m----> 1\u001b[0m hello()\n",
      "\u001b[0;31mTypeError\u001b[0m: hello() missing 1 required positional argument: 'name'"
     ]
    }
   ],
   "source": [
    "hello()"
   ]
  },
  {
   "cell_type": "code",
   "execution_count": null,
   "id": "d24c17bb-af7f-4e2d-a662-ea83a7252fbf",
   "metadata": {},
   "outputs": [],
   "source": []
  },
  {
   "cell_type": "code",
   "execution_count": 130,
   "id": "86fa7c7b-e1ce-403f-b2f4-e4f0fee2649e",
   "metadata": {},
   "outputs": [],
   "source": [
    "names = [\"A\", \"B\", \"C\", \"D\"]\n",
    "maths = [70, 80, 90, 78]\n",
    "phys =  [78, 89, 90, 40]\n",
    "chem =  [78, 87, 67, 89]"
   ]
  },
  {
   "cell_type": "code",
   "execution_count": 152,
   "id": "c2c5d3cd-5bc0-498f-bb0e-a35b78e8ca5a",
   "metadata": {},
   "outputs": [
    {
     "name": "stdout",
     "output_type": "stream",
     "text": [
      "_____________________________________________________________\n",
      "|              A               | 70  | 78  | 78  |  75.333  |\n",
      "_____________________________________________________________\n",
      "|              B               | 80  | 89  | 87  |  85.333  |\n",
      "_____________________________________________________________\n",
      "|              C               | 90  | 90  | 67  |  82.333  |\n",
      "_____________________________________________________________\n",
      "|              D               | 78  | 40  | 89  |  69.000  |\n",
      "_____________________________________________________________\n"
     ]
    }
   ],
   "source": [
    "for n, m, p, c in zip(names, maths, phys, chem):\n",
    "    per = (p+c+m)/3\n",
    "    temp = \"|{:^30}|{:^5}|{:^5}|{:^5}|{:^10.3f}|\"\n",
    "    w = 61\n",
    "    print(\"_\"*w)\n",
    "    print(temp.format(n, m, p, c, per))\n",
    "print(\"_\"*w)"
   ]
  },
  {
   "cell_type": "code",
   "execution_count": 147,
   "id": "e4c52cf2-f23b-4e79-95d9-4e999b19ec76",
   "metadata": {},
   "outputs": [
    {
     "name": "stdout",
     "output_type": "stream",
     "text": [
      "    1 one   ek   \n",
      "    2 two   do   \n",
      "    3 three teen \n",
      "    4 four  chaar\n"
     ]
    }
   ],
   "source": [
    "a = ('one', 'two', 'three', 'four')\n",
    "b = (1, 2, 3, 4, 5)\n",
    "c = ('ek', 'do', 'teen', 'chaar')\n",
    "\n",
    "for e, n, h in zip(a, b, c):\n",
    "    print(f\"{n:>5} {e:<5} {h:<5}\")"
   ]
  },
  {
   "cell_type": "code",
   "execution_count": 145,
   "id": "83be748b-6482-478b-9ca8-b6ba4f4d3388",
   "metadata": {},
   "outputs": [
    {
     "data": {
      "text/plain": [
       "[('one', 1, 'ek'),\n",
       " ('two', 2, 'do'),\n",
       " ('three', 3, 'teen'),\n",
       " ('four', 4, 'chaar')]"
      ]
     },
     "execution_count": 145,
     "metadata": {},
     "output_type": "execute_result"
    }
   ],
   "source": [
    " list( zip(a, b, c))"
   ]
  },
  {
   "cell_type": "code",
   "execution_count": 138,
   "id": "e3751a72-d535-4351-9269-f6bc496fcdd9",
   "metadata": {},
   "outputs": [
    {
     "name": "stdout",
     "output_type": "stream",
     "text": [
      "A get 75.33%\n",
      "B get 85.33%\n",
      "C get 82.33%\n",
      "D get 69.00%\n"
     ]
    }
   ],
   "source": [
    "for i in range(len(names)):\n",
    "    n, m, p, c =  names[i], maths[i], phys[i], chem[i]\n",
    "    pr = ((m+p+c)/3)\n",
    "    print(f\"{n} get {pr:.2f}%\")"
   ]
  },
  {
   "cell_type": "code",
   "execution_count": 128,
   "id": "a51acb16-4938-4c1c-be5b-d3db77873a0d",
   "metadata": {},
   "outputs": [],
   "source": [
    "def biggest(a, b, c):\n",
    "    \"\"\"\n",
    "        returns biggest among a, b, c\n",
    "    \"\"\"\n",
    "    print(*[\"=\".join(val) for val in zip(\"abc\", map(str,(a,b,c)))], sep=\"\\n\")\n",
    "    big = a\n",
    "    if a > b and a > c:\n",
    "        big = a\n",
    "    elif b > c:\n",
    "        big = b\n",
    "    else:\n",
    "        big = c\n",
    "    return big "
   ]
  },
  {
   "cell_type": "code",
   "execution_count": 127,
   "id": "99ef041c-8724-4761-a58c-ce6d8aaa536a",
   "metadata": {},
   "outputs": [
    {
     "name": "stdout",
     "output_type": "stream",
     "text": [
      "a=10\n",
      "b=20\n",
      "c=15\n"
     ]
    }
   ],
   "source": [
    "val = biggest(10, 20, 15)"
   ]
  },
  {
   "cell_type": "code",
   "execution_count": null,
   "id": "b2237071-1ef5-4bb3-89e6-912e5415ae7e",
   "metadata": {},
   "outputs": [],
   "source": [
    "print(val)"
   ]
  }
 ],
 "metadata": {
  "kernelspec": {
   "display_name": "Python [conda env:base] *",
   "language": "python",
   "name": "conda-base-py"
  },
  "language_info": {
   "codemirror_mode": {
    "name": "ipython",
    "version": 3
   },
   "file_extension": ".py",
   "mimetype": "text/x-python",
   "name": "python",
   "nbconvert_exporter": "python",
   "pygments_lexer": "ipython3",
   "version": "3.12.7"
  }
 },
 "nbformat": 4,
 "nbformat_minor": 5
}
