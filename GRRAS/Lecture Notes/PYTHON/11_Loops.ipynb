{
 "cells": [
  {
   "cell_type": "markdown",
   "id": "e564e54a-668d-4408-ac86-11f7d8553a58",
   "metadata": {},
   "source": [
    "## Any Doubt ?"
   ]
  },
  {
   "cell_type": "markdown",
   "id": "ea90ea0a-2799-44b7-b174-ea2b397b3344",
   "metadata": {},
   "source": [
    "ques 5, 16, 18, "
   ]
  },
  {
   "cell_type": "code",
   "execution_count": 1,
   "id": "c17a7b5d-ddde-492e-ba26-681ab30e7863",
   "metadata": {},
   "outputs": [
    {
     "name": "stdin",
     "output_type": "stream",
     "text": [
      "num:  6.2345\n"
     ]
    }
   ],
   "source": [
    "num = input(\"num: \")"
   ]
  },
  {
   "cell_type": "code",
   "execution_count": 3,
   "id": "8ffe88c5-d38f-4236-9f71-5a4487428909",
   "metadata": {},
   "outputs": [
    {
     "data": {
      "text/plain": [
       "'2345'"
      ]
     },
     "execution_count": 3,
     "metadata": {},
     "output_type": "execute_result"
    }
   ],
   "source": [
    "num.split('.')[-1]"
   ]
  },
  {
   "cell_type": "code",
   "execution_count": 4,
   "id": "17ac97d0-ff78-4ae4-86a8-9173a934f9ed",
   "metadata": {},
   "outputs": [
    {
     "data": {
      "text/plain": [
       "False"
      ]
     },
     "execution_count": 4,
     "metadata": {},
     "output_type": "execute_result"
    }
   ],
   "source": [
    "1 in [ (12, 1, 2), (5, 6, 7)]\n"
   ]
  },
  {
   "cell_type": "code",
   "execution_count": 8,
   "id": "6a149587-0c7d-415e-8a95-10b67bdc1599",
   "metadata": {},
   "outputs": [],
   "source": [
    "season = {\n",
    "    1: 'winter',\n",
    "    2: 'winter'\n",
    "}"
   ]
  },
  {
   "cell_type": "code",
   "execution_count": 9,
   "id": "92193596-07e3-4a7b-8b5e-53b8bc6b0433",
   "metadata": {},
   "outputs": [
    {
     "data": {
      "text/plain": [
       "'winter'"
      ]
     },
     "execution_count": 9,
     "metadata": {},
     "output_type": "execute_result"
    }
   ],
   "source": [
    "season.get(1, 'invalid month')"
   ]
  },
  {
   "cell_type": "markdown",
   "id": "e7c04cc2-ebb2-4e15-b6bc-ad178ea0523f",
   "metadata": {},
   "source": [
    "6.Write a Python Program to input \n",
    "\n",
    "electricity unit charges and calculate total electricity bill according to \n",
    "\n",
    "the given condition: \n",
    "\n",
    " For first 50 units Rs. 0.50/unit \n",
    " \n",
    " For next 100 units Rs. 0.75/unit \n",
    " \n",
    " For next 100 units Rs. 1.20/unit\n",
    " \n",
    " For unit above 250 Rs. 1.50/unit \n",
    " \n",
    " An additional surcharge of 20% is added to the bill "
   ]
  },
  {
   "cell_type": "markdown",
   "id": "19820cdb-1926-4efc-aa8f-f1c77442d0f4",
   "metadata": {},
   "source": [
    "example:\n",
    "\n",
    "    total = 350 units \n",
    "\n",
    "    50 * 0.5 -> 25\n",
    "\n",
    "    remaining = 300 units\n",
    "\n",
    "    100 * 0.75 -> 75\n",
    "\n",
    "    remaining = 200\n",
    "\n",
    "        100 * 1.20 -> 120 \n",
    "    \n",
    "    remaining 100\n",
    "\n",
    "        100 * 1.50 --> 150\n",
    "\n",
    "    total_bill = 25 + 75 + 120 + 150 = 370\n",
    "\n",
    "    370 * 20 /100->  74\n",
    "\n",
    "    Final bill = 444 rs \n",
    "    "
   ]
  },
  {
   "cell_type": "code",
   "execution_count": 15,
   "id": "6dcecfa5-3911-43c8-89e1-3d5d785b8951",
   "metadata": {},
   "outputs": [
    {
     "data": {
      "text/plain": [
       "3"
      ]
     },
     "execution_count": 15,
     "metadata": {},
     "output_type": "execute_result"
    }
   ],
   "source": [
    "150 // 50"
   ]
  },
  {
   "cell_type": "code",
   "execution_count": 13,
   "id": "404b18f5-98a7-4f5c-9fde-8a260b6cc09f",
   "metadata": {},
   "outputs": [
    {
     "data": {
      "text/plain": [
       "25"
      ]
     },
     "execution_count": 13,
     "metadata": {},
     "output_type": "execute_result"
    }
   ],
   "source": [
    "75 % 50 "
   ]
  },
  {
   "cell_type": "code",
   "execution_count": 12,
   "id": "34cfa514-0ae9-46c6-a273-56ee7d00adf2",
   "metadata": {},
   "outputs": [
    {
     "data": {
      "text/plain": [
       "0"
      ]
     },
     "execution_count": 12,
     "metadata": {},
     "output_type": "execute_result"
    }
   ],
   "source": [
    "45 // 50"
   ]
  },
  {
   "cell_type": "code",
   "execution_count": 11,
   "id": "e2a1f5ea-fb61-4318-b800-52e74e9fe0a7",
   "metadata": {},
   "outputs": [
    {
     "data": {
      "text/plain": [
       "1"
      ]
     },
     "execution_count": 11,
     "metadata": {},
     "output_type": "execute_result"
    }
   ],
   "source": [
    "75 // 50"
   ]
  },
  {
   "cell_type": "code",
   "execution_count": 10,
   "id": "95e9430d-9345-4af2-955a-cf27b2f49079",
   "metadata": {},
   "outputs": [
    {
     "name": "stdin",
     "output_type": "stream",
     "text": [
      "enter units:  350\n"
     ]
    },
    {
     "name": "stdout",
     "output_type": "stream",
     "text": [
      "You have to pay: 444.0\n"
     ]
    }
   ],
   "source": [
    "units = int(input('enter units: '))\n",
    "# 25, 75, 200, 350\n",
    "\n",
    "if units <= 50:\n",
    "    # 50 unit or less\n",
    "    bill = units * 0.5\n",
    "elif units <= 150: \n",
    "    # 120 units -> first 50 * 0.5 + remaing * 0.75\n",
    "    bill = 0.5 * 50 + (units-50)*0.75\n",
    "elif units <= 250:\n",
    "    bill = 0.5 * 50 + 100 * 0.75 + (units-150) * 1.20\n",
    "else:\n",
    "    bill = 0.5 * 50 + 100 * .75 + 100 * 1.20 + (units-250)*1.50\n",
    "\n",
    "total_bill = bill + (bill * 20/100)\n",
    "print(f\"You have to pay: {total_bill}\")"
   ]
  },
  {
   "cell_type": "code",
   "execution_count": 21,
   "id": "cee5950f-ed62-4853-ae33-d9da65926a80",
   "metadata": {},
   "outputs": [
    {
     "data": {
      "text/plain": [
       "3"
      ]
     },
     "execution_count": 21,
     "metadata": {},
     "output_type": "execute_result"
    }
   ],
   "source": [
    "123 % 10 # %10 last digit "
   ]
  },
  {
   "cell_type": "code",
   "execution_count": 18,
   "id": "07c4e107-a4e8-4d39-800f-3c8f3d737578",
   "metadata": {},
   "outputs": [
    {
     "data": {
      "text/plain": [
       "1234.5"
      ]
     },
     "execution_count": 18,
     "metadata": {},
     "output_type": "execute_result"
    }
   ],
   "source": [
    "12345 / 10"
   ]
  },
  {
   "cell_type": "code",
   "execution_count": 22,
   "id": "e66c5466-97cf-4c38-8918-27f294fc4ebe",
   "metadata": {},
   "outputs": [
    {
     "data": {
      "text/plain": [
       "1234"
      ]
     },
     "execution_count": 22,
     "metadata": {},
     "output_type": "execute_result"
    }
   ],
   "source": [
    "12345 // 10 # strip last digit"
   ]
  },
  {
   "cell_type": "code",
   "execution_count": 26,
   "id": "77abd62c-e9db-4115-8d9d-9499d8540142",
   "metadata": {},
   "outputs": [
    {
     "data": {
      "text/plain": [
       "123456"
      ]
     },
     "execution_count": 26,
     "metadata": {},
     "output_type": "execute_result"
    }
   ],
   "source": [
    "12345 * 10 + 6"
   ]
  },
  {
   "cell_type": "code",
   "execution_count": 24,
   "id": "66684f28-6adf-4c52-9509-b77abd1b1c7a",
   "metadata": {},
   "outputs": [
    {
     "name": "stdout",
     "output_type": "stream",
     "text": [
      "6543210\n"
     ]
    }
   ],
   "source": [
    "c = 123456\n",
    "while c: # c = 0\n",
    "    print(c%10, end=\"\") # 1%10 -> 1\n",
    "    c //= 10 # 123456 // 1 -> 0 <- c\n",
    "\n",
    "print(c) \n",
    "# ouput = 654321"
   ]
  },
  {
   "cell_type": "code",
   "execution_count": null,
   "id": "fc5d8ef8-0e59-4d51-b69e-b6e4d9c63a20",
   "metadata": {},
   "outputs": [],
   "source": [
    "num = 123\n",
    "temp = num # temp = 123\n",
    "rev = 0\n",
    "\n",
    "ld = temp % 10 # 3\n",
    "rev = rev * 10 + ld # rev = 3\n",
    "temp = temp // 10 # temp = 12\n",
    "\n",
    "ld = temp % 10 # 2\n",
    "rev = rev * 10 + ld # rev = 32\n",
    "temp = temp // 10 # temp = 1\n",
    "\n",
    "ld = temp % 10 # 1\n",
    "rev = rev * 10 + ld # rev = 321\n",
    "temp = temp // 10 # temp = 0\n",
    "\n",
    "321"
   ]
  },
  {
   "cell_type": "code",
   "execution_count": 27,
   "id": "a93e9728-ce14-4877-8297-727fcdb3b48d",
   "metadata": {},
   "outputs": [],
   "source": [
    "def reverse_num(num):\n",
    "    temp = num\n",
    "    rev = 0\n",
    "    while temp:\n",
    "        ld = temp % 10\n",
    "        rev = rev * 10 + ld\n",
    "        temp = temp // 10\n",
    "    return rev"
   ]
  },
  {
   "cell_type": "code",
   "execution_count": 28,
   "id": "eae79972-602d-4a9a-ab99-5723d720f074",
   "metadata": {},
   "outputs": [
    {
     "name": "stdin",
     "output_type": "stream",
     "text": [
      "enter a int number:  12345\n"
     ]
    },
    {
     "name": "stdout",
     "output_type": "stream",
     "text": [
      "12345 54321\n"
     ]
    }
   ],
   "source": [
    "n = int(input(\"enter a int number: \"))\n",
    "nn = reverse_num(n)\n",
    "\n",
    "print(n, nn)"
   ]
  },
  {
   "cell_type": "code",
   "execution_count": 29,
   "id": "dae07064-5350-4b4a-960c-66764cd1f0c0",
   "metadata": {},
   "outputs": [
    {
     "name": "stdout",
     "output_type": "stream",
     "text": [
      "1\n",
      "2\n",
      "3\n",
      "4\n",
      "5\n",
      "6\n",
      "7\n",
      "8\n",
      "9\n",
      "10\n"
     ]
    }
   ],
   "source": [
    "c = 1\n",
    "while c <= 10:\n",
    "    print(c)\n",
    "    c += 1\n"
   ]
  },
  {
   "cell_type": "code",
   "execution_count": 31,
   "id": "93375811-daa2-4f09-bd25-c55f7af3d077",
   "metadata": {},
   "outputs": [
    {
     "name": "stdout",
     "output_type": "stream",
     "text": [
      "10 9 8 7 6 5 4 3 2 1 "
     ]
    }
   ],
   "source": [
    "counter = 10\n",
    "while counter > 0:\n",
    "    print(counter, end=' ')\n",
    "    counter -= 1"
   ]
  },
  {
   "cell_type": "code",
   "execution_count": 43,
   "id": "4b0b59aa-3228-4e4d-bbed-fa40919a3ead",
   "metadata": {},
   "outputs": [],
   "source": [
    "data = [\n",
    "    [\"sachin\", 50, 70, 60], # idx -> 0 --> max -> 180  # sum = 180\n",
    "    [\"rajat\", 80, 76, 80], # idx -> 1  --> max -> 236  # sum = 236\n",
    "    [\"rahul\", 90, 45, 60], # idx -> 1, max -> 236  # sum = 195\n",
    "    [\"nidhi\", 10, 20, 30], # idx -> 1, max -> 236 # sum = 60\n",
    "    [\"simran\", 90, 90, 90] #\n",
    "]\n",
    "\n",
    "# print toppers name without using any python built-in functions \n"
   ]
  },
  {
   "cell_type": "markdown",
   "id": "60b8cc69-ed0f-4190-b113-ac5a2995d574",
   "metadata": {},
   "source": [
    "Second highest number name "
   ]
  },
  {
   "cell_type": "code",
   "execution_count": 44,
   "id": "5bb4ee9b-274c-40fe-a2b3-d31f0abab1f0",
   "metadata": {},
   "outputs": [
    {
     "name": "stdout",
     "output_type": "stream",
     "text": [
      "Simran has scored highest number 270\n"
     ]
    }
   ],
   "source": [
    "max_ = 0\n",
    "idx = 0\n",
    "\n",
    "i = 0\n",
    "while i < len(data):\n",
    "    item = data[i]\n",
    "    sum_ = sum(item[-3:])\n",
    "    if sum_ > max_:\n",
    "        max_ = sum_\n",
    "        idx = i\n",
    "    i += 1\n",
    "\n",
    "name = data[idx][0].title()\n",
    "print(f\"{name} has scored highest number {max_}\")"
   ]
  },
  {
   "cell_type": "code",
   "execution_count": 40,
   "id": "f0f04a4f-617c-48cd-8df2-60a720939291",
   "metadata": {},
   "outputs": [
    {
     "data": {
      "text/plain": [
       "236"
      ]
     },
     "execution_count": 40,
     "metadata": {},
     "output_type": "execute_result"
    }
   ],
   "source": [
    "max_"
   ]
  },
  {
   "cell_type": "code",
   "execution_count": null,
   "id": "54b7890c-30ff-499b-bff0-b9371252b315",
   "metadata": {},
   "outputs": [],
   "source": []
  },
  {
   "cell_type": "code",
   "execution_count": null,
   "id": "74146413-2a69-4120-957a-c1a35771d13c",
   "metadata": {},
   "outputs": [],
   "source": []
  },
  {
   "cell_type": "code",
   "execution_count": 34,
   "id": "19ed9bb7-56a6-4a05-a276-fdfb5a57788f",
   "metadata": {},
   "outputs": [
    {
     "data": {
      "text/plain": [
       "['sachin', 50, 70, 60]"
      ]
     },
     "execution_count": 34,
     "metadata": {},
     "output_type": "execute_result"
    }
   ],
   "source": [
    "max_ = 0\n",
    "idx = 0\n",
    "\n",
    "item = data[0] # item =  [\"sachin\", 50, 70, 60]\n",
    "sum_ = sum(item[-3:]) # 180\n",
    "\n",
    "if sum_ > max_:\n",
    "    max_ = sum_ # 180\n",
    "    idx = 0\n",
    "    \n",
    "item = data[१] # item =   [\"rajat\", 80, 76, 80]\n",
    "sum_ = sum(item[-3:]) # २३६ 236\n",
    "\n",
    "if sum_ > max_:\n",
    "    max_ = sum_ # 236\n",
    "    idx = 1\n",
    "\n"
   ]
  },
  {
   "cell_type": "markdown",
   "id": "25dc98c2-498e-4507-b58a-4d09956242e5",
   "metadata": {},
   "source": [
    "### loop \n",
    "\n",
    "    repeat statements untill condition is False\n",
    "\n",
    "        while cond:\n",
    "            st-1\n",
    "            st-2\n",
    "\n",
    "    we can use break statement to stop loop without reaching condition False"
   ]
  },
  {
   "cell_type": "code",
   "execution_count": 48,
   "id": "e189d0ed-0eca-4664-bc2d-83f4a35e7bcc",
   "metadata": {},
   "outputs": [
    {
     "name": "stdout",
     "output_type": "stream",
     "text": [
      "rock paper scissor\n"
     ]
    },
    {
     "name": "stdin",
     "output_type": "stream",
     "text": [
      "\n",
      "do you want to continues yes/no:  yes\n"
     ]
    },
    {
     "name": "stdout",
     "output_type": "stream",
     "text": [
      "rock paper scissor\n"
     ]
    },
    {
     "name": "stdin",
     "output_type": "stream",
     "text": [
      "\n",
      "do you want to continues yes/no:  no\n"
     ]
    }
   ],
   "source": [
    "# game rock paper scissor\n",
    "\n",
    "while True:\n",
    "    print('rock paper scissor')\n",
    "    ch = input(\"\\ndo you want to continues yes/no: \").strip().lower()\n",
    "    if ch not in [\"yes\", \"y\", \"yep\", \"yo\" ]:\n",
    "        break"
   ]
  },
  {
   "cell_type": "code",
   "execution_count": 47,
   "id": "f178bb25-df6e-4e7b-96f9-d23e86fcd8a0",
   "metadata": {},
   "outputs": [
    {
     "name": "stdout",
     "output_type": "stream",
     "text": [
      "hello\n"
     ]
    },
    {
     "ename": "SyntaxError",
     "evalue": "'break' outside loop (1408912557.py, line 2)",
     "output_type": "error",
     "traceback": [
      "\u001b[0;36m  Cell \u001b[0;32mIn[47], line 2\u001b[0;36m\u001b[0m\n\u001b[0;31m    break\u001b[0m\n\u001b[0m    ^\u001b[0m\n\u001b[0;31mSyntaxError\u001b[0m\u001b[0;31m:\u001b[0m 'break' outside loop\n"
     ]
    }
   ],
   "source": [
    "print('hello')\n",
    "break\n",
    "print('world!')"
   ]
  },
  {
   "cell_type": "code",
   "execution_count": 49,
   "id": "2b5b4572-f550-4a30-a84c-2720f1de4aee",
   "metadata": {},
   "outputs": [],
   "source": [
    "while True:\n",
    "    break \n",
    "    print(\"hello world\")\n",
    "\n",
    "# "
   ]
  },
  {
   "cell_type": "code",
   "execution_count": 50,
   "id": "c33be801-23c6-449c-bf60-993f567a06bc",
   "metadata": {},
   "outputs": [
    {
     "name": "stdout",
     "output_type": "stream",
     "text": [
      "Hello world times! 1\n"
     ]
    }
   ],
   "source": [
    "c = 1\n",
    "while c <= 10:\n",
    "    print(f\"Hello world times! {c}\")\n",
    "    c += 1\n",
    "    break\n",
    "    "
   ]
  },
  {
   "cell_type": "code",
   "execution_count": 51,
   "id": "2c0b692a-e217-4c9f-8411-2b635ae6def6",
   "metadata": {},
   "outputs": [
    {
     "name": "stdout",
     "output_type": "stream",
     "text": [
      "Hello world times! 1\n",
      "Hello world times! 2\n",
      "Hello world times! 3\n",
      "Hello world times! 4\n"
     ]
    }
   ],
   "source": [
    "c = 1\n",
    "while c <= 10: # 4 <= 10\n",
    "    print(f\"Hello world times! {c}\") # hello world times! 4\n",
    "    c += 1 # c = 5\n",
    "    if c >= 5: # 5 >= 5\n",
    "        break\n",
    "# "
   ]
  },
  {
   "cell_type": "markdown",
   "id": "cdddf967-d42c-4615-9619-14ab5dcc120e",
   "metadata": {},
   "source": [
    "c % 2 -> 1 if c is odd else 0 if c is even"
   ]
  },
  {
   "cell_type": "code",
   "execution_count": 56,
   "id": "276c3293-a38e-4c5a-af2d-4656e1b62679",
   "metadata": {},
   "outputs": [
    {
     "name": "stdout",
     "output_type": "stream",
     "text": [
      "hello world times! 1\n"
     ]
    }
   ],
   "source": [
    "c = 1\n",
    "while c <= 10: # 4\n",
    "    if c % 2:\n",
    "        print(f\"hello world times! {c}\") # 1\n",
    "    elif c == 5:\n",
    "        break\n",
    "    else:\n",
    "        c += 1\n",
    "    c += 1 # 6\n"
   ]
  },
  {
   "cell_type": "code",
   "execution_count": 57,
   "id": "4ea5fad9-8c47-4041-93aa-b310e9107c5e",
   "metadata": {},
   "outputs": [
    {
     "name": "stdout",
     "output_type": "stream",
     "text": [
      "hello world times! 1\n",
      "hello world times! 3\n",
      "hello world times! 5\n",
      "hello world times! 7\n",
      "hello world times! 9\n"
     ]
    }
   ],
   "source": [
    "c = 1\n",
    "while c <= 10: # 4\n",
    "    if c % 2:\n",
    "        print(f\"hello world times! {c}\") # 1\n",
    "    elif c == 5:\n",
    "        break\n",
    "\n",
    "    c += 1 # 6\n"
   ]
  },
  {
   "cell_type": "markdown",
   "id": "c430411e-e5b9-47af-803b-454357d32158",
   "metadata": {},
   "source": [
    "# continue\n",
    "\n",
    "    skip some of portion of loop code and go to next turn use continue "
   ]
  },
  {
   "cell_type": "code",
   "execution_count": 60,
   "id": "98686265-942d-4551-bf84-9b5dcab768a8",
   "metadata": {},
   "outputs": [
    {
     "name": "stdout",
     "output_type": "stream",
     "text": [
      "3 hello world\n",
      "5 hello world\n",
      "7 hello world\n",
      "9 hello world\n",
      "11 hello world\n"
     ]
    }
   ],
   "source": [
    "c = 1\n",
    "while c <= 10:\n",
    "    c+=2\n",
    "    print(f\"{c} hello world\")\n",
    "    continue\n",
    "    print(f\"{c} hello world\")\n",
    "    c += 1"
   ]
  },
  {
   "cell_type": "code",
   "execution_count": 62,
   "id": "0419d94b-160e-4d78-af3f-f9bfae18b001",
   "metadata": {},
   "outputs": [
    {
     "name": "stdout",
     "output_type": "stream",
     "text": [
      "hello world 2\n",
      "hello world 4\n",
      "next statement\n"
     ]
    }
   ],
   "source": [
    "c = 1 \n",
    "while c <= 10: # c = 5\n",
    "    if c%2==0:\n",
    "        print(f'hello world {c}') # 2, 4\n",
    "    elif c%5==0:\n",
    "        break\n",
    "    else:\n",
    "        c += 1\n",
    "        continue\n",
    "    c += 1\n",
    "\n",
    "print('next statement')"
   ]
  },
  {
   "cell_type": "code",
   "execution_count": 67,
   "id": "8413ebad-5b5d-4ebc-90c8-3627295bc0b5",
   "metadata": {},
   "outputs": [
    {
     "name": "stdout",
     "output_type": "stream",
     "text": [
      "1 + 2 + 3 + 4 + 5 + 6 + 7 + 8 + 9 + 10  = 55.\n"
     ]
    }
   ],
   "source": [
    "# frist 10 nums sum\n",
    "import time\n",
    "num = 1\n",
    "sum_ = 0\n",
    "st = \"\"\n",
    "while num <= 10:\n",
    "    st += f\"{num} + \"\n",
    "    print(f\"\\r{st}\", end=\"\")\n",
    "    time.sleep(0.1)\n",
    "    sum_ += num\n",
    "    num += 1\n",
    "else:\n",
    "    print(f\"\\r{st[:-2]} = {sum_}.\")"
   ]
  },
  {
   "cell_type": "markdown",
   "id": "0797fa76-9621-4de1-bbd0-b956d552ee87",
   "metadata": {},
   "source": [
    "    while cond:\n",
    "        st-1\n",
    "        st-2\n",
    "        st-3\n",
    "    else:\n",
    "        st-4"
   ]
  },
  {
   "cell_type": "code",
   "execution_count": 69,
   "id": "7f64619d-0eeb-463b-8528-89c627858029",
   "metadata": {},
   "outputs": [
    {
     "name": "stdout",
     "output_type": "stream",
     "text": [
      "i will run after loop\n"
     ]
    }
   ],
   "source": [
    "while False:\n",
    "    pass\n",
    "\n",
    "print('i will run after loop')"
   ]
  },
  {
   "cell_type": "code",
   "execution_count": 68,
   "id": "ff3e1eae-c740-466f-a971-2676eef4abe6",
   "metadata": {},
   "outputs": [],
   "source": [
    "while True:\n",
    "    break\n",
    "else:\n",
    "    print(\"it will run if loop conditon become False\")"
   ]
  },
  {
   "cell_type": "code",
   "execution_count": 71,
   "id": "bb24fb33-175a-4ea5-b291-c5983a1ca9e8",
   "metadata": {},
   "outputs": [
    {
     "name": "stdout",
     "output_type": "stream",
     "text": [
      "hello world! 1\n",
      "hello world! 2\n",
      "hello world! 4\n",
      "hello world! 8\n",
      "loops are interesting\n"
     ]
    }
   ],
   "source": [
    "c = 1 \n",
    "while c <= 10: # 8\n",
    "    print(f\"hello world! {c}\") # 1, 2, 4, 8\n",
    "    c *= 2 # 16\n",
    "    if c % 2 == 0:\n",
    "        continue\n",
    "    else:\n",
    "        break\n",
    "else:\n",
    "    print(\"loops are interesting\")"
   ]
  },
  {
   "cell_type": "code",
   "execution_count": 75,
   "id": "ee17b269-c077-40ea-820a-60a438f20618",
   "metadata": {},
   "outputs": [
    {
     "name": "stdout",
     "output_type": "stream",
     "text": [
      "computer random guess  20 = 30   "
     ]
    }
   ],
   "source": [
    "import random\n",
    "import time\n",
    "c = 1\n",
    "while c <= 20:\n",
    "    com_guess = random.randint(1, 50)\n",
    "    print(f\"\\rcomputer random guess {c:>3} = {com_guess:<5}\", end=\"\")\n",
    "    time.sleep(1)\n",
    "    c += 1"
   ]
  },
  {
   "cell_type": "markdown",
   "id": "6e0ae880-bb44-4265-befd-82f82c41b057",
   "metadata": {},
   "source": [
    "## Guessing Game\n",
    "\n",
    "    ask user-1 to select 1 random number between 1-50\n",
    "\n",
    "    user-2 will get 5 chances to guess the user1's gueesed number \n",
    "\n",
    "        give hints after each incorrect guess like your guess is too low or your guess is too big \n",
    "\n",
    "    if user-2 able to get correct guess in any 5 chances print congratulations to user-2\n",
    "    else print you such a looser message for user-2\n"
   ]
  },
  {
   "cell_type": "markdown",
   "id": "de00ec9d-bcb6-4fdd-bbb0-6485600b00a1",
   "metadata": {},
   "source": [
    "# nested loop "
   ]
  },
  {
   "cell_type": "code",
   "execution_count": 76,
   "id": "c7bad796-f1fd-45ea-9c14-21e02a295d55",
   "metadata": {},
   "outputs": [
    {
     "name": "stdout",
     "output_type": "stream",
     "text": [
      "*\n",
      "**\n",
      "***\n",
      "****\n",
      "*****\n",
      "******\n",
      "*******\n",
      "********\n",
      "*********\n",
      "**********\n"
     ]
    }
   ],
   "source": [
    "row = 1\n",
    "while row <= 10: # row = 3\n",
    "    col = 0  # col = 0\n",
    "    while col < row: # row = 3, col = 3\n",
    "        print(\"*\", end=\"\")\n",
    "        col += 1\n",
    "    print()\n",
    "    row += 1 # row = 3"
   ]
  },
  {
   "cell_type": "code",
   "execution_count": 84,
   "id": "7c16e65e-f211-40e2-9e6b-844344785f6b",
   "metadata": {},
   "outputs": [
    {
     "name": "stdout",
     "output_type": "stream",
     "text": [
      "***********\n"
     ]
    }
   ],
   "source": [
    "print(\"*\"*num)"
   ]
  },
  {
   "cell_type": "code",
   "execution_count": 92,
   "id": "c1acf564-053e-4190-8a07-56fa3e802207",
   "metadata": {},
   "outputs": [
    {
     "name": "stdout",
     "output_type": "stream",
     "text": [
      "          \n",
      "         *\n",
      "        **\n",
      "       ***\n",
      "      ****\n",
      "     *****\n",
      "    ******\n",
      "   *******\n",
      "  ********\n",
      " *********\n",
      "**********\n"
     ]
    }
   ],
   "source": [
    "print(*[ (\"*\"*i).rjust(10) for i in range(11) ], sep='\\n')"
   ]
  },
  {
   "cell_type": "code",
   "execution_count": 89,
   "id": "580ae1d4-39e9-4c1c-b6af-087d7648161b",
   "metadata": {},
   "outputs": [
    {
     "name": "stdout",
     "output_type": "stream",
     "text": [
      "          \n",
      "         *\n",
      "        **\n",
      "       ***\n",
      "      ****\n",
      "     *****\n",
      "    ******\n",
      "   *******\n",
      "  ********\n",
      " *********\n",
      "**********\n"
     ]
    }
   ],
   "source": [
    "for i in range(11):\n",
    "    print((\"*\"*i).rjust(10))"
   ]
  },
  {
   "cell_type": "code",
   "execution_count": 87,
   "id": "fca43944-df45-42ea-889c-41d12f418f75",
   "metadata": {},
   "outputs": [
    {
     "name": "stdout",
     "output_type": "stream",
     "text": [
      "         *\n",
      "        **\n",
      "       ***\n",
      "      ****\n",
      "     *****\n",
      "    ******\n",
      "   *******\n",
      "  ********\n",
      " *********\n",
      "**********\n"
     ]
    }
   ],
   "source": [
    "row = 1\n",
    "while row <= 10:\n",
    "    print((\"*\"*row).rjust(10))\n",
    "    row += 1"
   ]
  },
  {
   "cell_type": "code",
   "execution_count": 85,
   "id": "549d2d17-c4a7-44c6-8ecd-c7ce4c6a7d7c",
   "metadata": {},
   "outputs": [
    {
     "name": "stdout",
     "output_type": "stream",
     "text": [
      "*\n",
      "**\n",
      "***\n",
      "****\n",
      "*****\n",
      "******\n",
      "*******\n",
      "********\n",
      "*********\n",
      "**********\n"
     ]
    }
   ],
   "source": [
    "row = 1\n",
    "while row <= 10:\n",
    "    print(\"*\"*row)\n",
    "    row += 1"
   ]
  },
  {
   "cell_type": "code",
   "execution_count": 83,
   "id": "87074ec3-f615-48be-8ac0-e4baaaa5b8aa",
   "metadata": {},
   "outputs": [
    {
     "name": "stdout",
     "output_type": "stream",
     "text": [
      "         *\n",
      "        **\n",
      "       ***\n",
      "      ****\n",
      "     *****\n",
      "    ******\n",
      "   *******\n",
      "  ********\n",
      " *********\n",
      "**********\n"
     ]
    }
   ],
   "source": [
    "row = 1\n",
    "while row <= 10: # row = 3\n",
    "    col = 10  # col = 0\n",
    "    while col > row: # row = 3, col = 3\n",
    "        print(\" \", end=\"\")\n",
    "        col -= 1\n",
    "    col = 0\n",
    "    while col < row:\n",
    "        print(\"*\", end=\"\")\n",
    "        col += 1\n",
    "    print()\n",
    "    row += 1 # row = 3"
   ]
  },
  {
   "cell_type": "markdown",
   "id": "7eb75195-be7e-480c-becd-147dbbaf7f1b",
   "metadata": {},
   "source": [
    "# Functions \n",
    "\n",
    "    guess game + assignment"
   ]
  },
  {
   "cell_type": "code",
   "execution_count": null,
   "id": "1ac6738a-b25a-45c5-81fb-3ed3712ad412",
   "metadata": {},
   "outputs": [],
   "source": []
  }
 ],
 "metadata": {
  "kernelspec": {
   "display_name": "Python [conda env:base] *",
   "language": "python",
   "name": "conda-base-py"
  },
  "language_info": {
   "codemirror_mode": {
    "name": "ipython",
    "version": 3
   },
   "file_extension": ".py",
   "mimetype": "text/x-python",
   "name": "python",
   "nbconvert_exporter": "python",
   "pygments_lexer": "ipython3",
   "version": "3.12.7"
  }
 },
 "nbformat": 4,
 "nbformat_minor": 5
}
