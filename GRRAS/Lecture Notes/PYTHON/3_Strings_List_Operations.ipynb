{
 "cells": [
  {
   "cell_type": "markdown",
   "id": "180c013c-da48-4a96-a1d4-6eb931bc1e53",
   "metadata": {},
   "source": [
    " PEP-8"
   ]
  },
  {
   "cell_type": "markdown",
   "id": "4e002090-4a60-47db-99fd-236ac8948ff2",
   "metadata": {},
   "source": [
    "Escapse Sequences"
   ]
  },
  {
   "cell_type": "markdown",
   "id": "c73bf7c2-47d9-437c-a510-e70ef8f93bc4",
   "metadata": {},
   "source": [
    "# Strings \n",
    "\n",
    "    collection of UTF-8 characters \n",
    "\n",
    "\n",
    "    name = 'sachin'\n",
    "    country = \"India\"\n",
    "    "
   ]
  },
  {
   "cell_type": "markdown",
   "id": "8a9e2c9f-6c26-4c39-95dc-90d67381dc1f",
   "metadata": {},
   "source": [
    "    Escapse Sequence \n",
    "\n",
    "        \"hello \\u+1F60A\""
   ]
  },
  {
   "cell_type": "code",
   "execution_count": 11,
   "id": "57f74d09-ca15-47b0-95c5-e8f7a1a28e04",
   "metadata": {},
   "outputs": [
    {
     "name": "stdout",
     "output_type": "stream",
     "text": [
      "hello þ\n"
     ]
    }
   ],
   "source": [
    "print(\"hello \\u00FE\")"
   ]
  },
  {
   "cell_type": "markdown",
   "id": "b575fef1-7597-4600-b95b-e279e4f28fa6",
   "metadata": {},
   "source": [
    "    he didn't say that \"she is beautiful.\""
   ]
  },
  {
   "cell_type": "code",
   "execution_count": 13,
   "id": "57a14212-31a9-4e0b-90b4-73ae96de414d",
   "metadata": {},
   "outputs": [
    {
     "ename": "SyntaxError",
     "evalue": "unterminated string literal (detected at line 1) (2751908147.py, line 1)",
     "output_type": "error",
     "traceback": [
      "\u001b[0;36m  Cell \u001b[0;32mIn[13], line 1\u001b[0;36m\u001b[0m\n\u001b[0;31m    s = 'he didn't say that \"she is beautiful.\"'\u001b[0m\n\u001b[0m                                               ^\u001b[0m\n\u001b[0;31mSyntaxError\u001b[0m\u001b[0;31m:\u001b[0m unterminated string literal (detected at line 1)\n"
     ]
    }
   ],
   "source": [
    "s = 'he didn't say that \"she is beautiful.\"'"
   ]
  },
  {
   "cell_type": "code",
   "execution_count": 14,
   "id": "f7574244-138e-49e8-8fc2-bb5bab296a85",
   "metadata": {},
   "outputs": [
    {
     "name": "stdout",
     "output_type": "stream",
     "text": [
      "he didn't say that \"she is beautiful.\"\n"
     ]
    }
   ],
   "source": [
    "s = 'he didn\\'t say that \"she is beautiful.\"'\n",
    "\n",
    "print(s)"
   ]
  },
  {
   "cell_type": "markdown",
   "id": "d106e61e-bb13-402b-9a0f-2b46148ca6ce",
   "metadata": {},
   "source": [
    "    escape sequence \\n represents new line "
   ]
  },
  {
   "cell_type": "markdown",
   "id": "f97a7617-37f9-4bf0-ad73-86e6d9f41d23",
   "metadata": {},
   "source": [
    "    \"\\n\"  new line\n",
    "    \"\\t\"  tab space (4 space)\n",
    "    \"\\r\"  carriage return\n",
    "    \"\\'\"  insert single quote in string\n",
    "    \"\\\"\"  insert double quote in string\n",
    "\n",
    "    \n",
    "    "
   ]
  },
  {
   "cell_type": "code",
   "execution_count": 15,
   "id": "ffd2dfeb-c152-43fe-bb5c-1f52b683385e",
   "metadata": {},
   "outputs": [
    {
     "name": "stdout",
     "output_type": "stream",
     "text": [
      "escape sequence \n",
      " represents new line\n"
     ]
    }
   ],
   "source": [
    "s = \"escape sequence \\n represents new line\"\n",
    "\n",
    "print(s)"
   ]
  },
  {
   "cell_type": "code",
   "execution_count": 16,
   "id": "7eb2e562-015c-49e7-a4ea-fc14a3dc1fb9",
   "metadata": {},
   "outputs": [
    {
     "name": "stdout",
     "output_type": "stream",
     "text": [
      "escape sequence \\n represents new line\n"
     ]
    }
   ],
   "source": [
    "s = \"escape sequence \\\\n represents new line\"\n",
    "\n",
    "print(s)"
   ]
  },
  {
   "cell_type": "code",
   "execution_count": 17,
   "id": "99120ef9-5fee-4905-b624-d0aec254185f",
   "metadata": {},
   "outputs": [
    {
     "ename": "SyntaxError",
     "evalue": "(unicode error) 'unicodeescape' codec can't decode bytes in position 2-3: truncated \\UXXXXXXXX escape (1273965912.py, line 1)",
     "output_type": "error",
     "traceback": [
      "\u001b[0;36m  Cell \u001b[0;32mIn[17], line 1\u001b[0;36m\u001b[0m\n\u001b[0;31m    path = \"C:\\Users\\sachin\\Desktop\\DS_Jun_25\"\u001b[0m\n\u001b[0m           ^\u001b[0m\n\u001b[0;31mSyntaxError\u001b[0m\u001b[0;31m:\u001b[0m (unicode error) 'unicodeescape' codec can't decode bytes in position 2-3: truncated \\UXXXXXXXX escape\n"
     ]
    }
   ],
   "source": [
    "path = \"C:\\Users\\sachin\\Desktop\\DS_Jun_25\"\n",
    "print(path)"
   ]
  },
  {
   "cell_type": "code",
   "execution_count": 18,
   "id": "d2241a04-cffe-464b-b123-502c8ba1f15c",
   "metadata": {},
   "outputs": [
    {
     "name": "stdout",
     "output_type": "stream",
     "text": [
      "C:\\Users\\sachin\\Desktop\\DS_Jun_25\n"
     ]
    }
   ],
   "source": [
    "path = \"C:\\\\Users\\\\sachin\\\\Desktop\\\\DS_Jun_25\"\n",
    "print(path)"
   ]
  },
  {
   "cell_type": "markdown",
   "id": "831b2bb4-152c-46fd-813e-8d2cc4723f8b",
   "metadata": {},
   "source": [
    "    dir - all methods of a class\n",
    "\n",
    "    help - print help of any object/function/method/class\n",
    "\n",
    "    id - prints unique of of an object\n",
    "\n",
    "    type - prints class of an object"
   ]
  },
  {
   "cell_type": "code",
   "execution_count": 19,
   "id": "2e547b30-7322-416e-9e1f-19084fc2dec1",
   "metadata": {},
   "outputs": [
    {
     "name": "stdout",
     "output_type": "stream",
     "text": [
      "  hEllO wOrLd   4949814576 <class 'str'>\n",
      "['__add__', '__class__', '__contains__', '__delattr__', '__dir__', '__doc__', '__eq__', '__format__', '__ge__', '__getattribute__', '__getitem__', '__getnewargs__', '__getstate__', '__gt__', '__hash__', '__init__', '__init_subclass__', '__iter__', '__le__', '__len__', '__lt__', '__mod__', '__mul__', '__ne__', '__new__', '__reduce__', '__reduce_ex__', '__repr__', '__rmod__', '__rmul__', '__setattr__', '__sizeof__', '__str__', '__subclasshook__', 'capitalize', 'casefold', 'center', 'count', 'encode', 'endswith', 'expandtabs', 'find', 'format', 'format_map', 'index', 'isalnum', 'isalpha', 'isascii', 'isdecimal', 'isdigit', 'isidentifier', 'islower', 'isnumeric', 'isprintable', 'isspace', 'istitle', 'isupper', 'join', 'ljust', 'lower', 'lstrip', 'maketrans', 'partition', 'removeprefix', 'removesuffix', 'replace', 'rfind', 'rindex', 'rjust', 'rpartition', 'rsplit', 'rstrip', 'split', 'splitlines', 'startswith', 'strip', 'swapcase', 'title', 'translate', 'upper', 'zfill']\n",
      "Help on built-in function upper:\n",
      "\n",
      "upper() method of builtins.str instance\n",
      "    Return a copy of the string converted to uppercase.\n",
      "\n"
     ]
    }
   ],
   "source": [
    "x = \"  hEllO wOrLd  \"\n",
    "\n",
    "print(x, id(x), type(x))\n",
    "print(dir(x))\n",
    "help(x.upper)"
   ]
  },
  {
   "cell_type": "code",
   "execution_count": 20,
   "id": "1e73263b-3939-436b-bceb-0349578a6fe3",
   "metadata": {},
   "outputs": [],
   "source": [
    "s = \"hello\""
   ]
  },
  {
   "cell_type": "code",
   "execution_count": 21,
   "id": "dd32fa9c-3815-44b8-9eb6-0567c6d7a08c",
   "metadata": {},
   "outputs": [
    {
     "name": "stdout",
     "output_type": "stream",
     "text": [
      "['__add__', '__class__', '__contains__', '__delattr__', '__dir__', '__doc__', '__eq__', '__format__', '__ge__', '__getattribute__', '__getitem__', '__getnewargs__', '__getstate__', '__gt__', '__hash__', '__init__', '__init_subclass__', '__iter__', '__le__', '__len__', '__lt__', '__mod__', '__mul__', '__ne__', '__new__', '__reduce__', '__reduce_ex__', '__repr__', '__rmod__', '__rmul__', '__setattr__', '__sizeof__', '__str__', '__subclasshook__', 'capitalize', 'casefold', 'center', 'count', 'encode', 'endswith', 'expandtabs', 'find', 'format', 'format_map', 'index', 'isalnum', 'isalpha', 'isascii', 'isdecimal', 'isdigit', 'isidentifier', 'islower', 'isnumeric', 'isprintable', 'isspace', 'istitle', 'isupper', 'join', 'ljust', 'lower', 'lstrip', 'maketrans', 'partition', 'removeprefix', 'removesuffix', 'replace', 'rfind', 'rindex', 'rjust', 'rpartition', 'rsplit', 'rstrip', 'split', 'splitlines', 'startswith', 'strip', 'swapcase', 'title', 'translate', 'upper', 'zfill']\n"
     ]
    }
   ],
   "source": [
    "print(dir(s))"
   ]
  },
  {
   "cell_type": "code",
   "execution_count": 22,
   "id": "7ec74f9f-754c-4b73-8c41-89d8776c5949",
   "metadata": {},
   "outputs": [
    {
     "data": {
      "text/plain": [
       "<function str.upper()>"
      ]
     },
     "execution_count": 22,
     "metadata": {},
     "output_type": "execute_result"
    }
   ],
   "source": [
    "s.upper"
   ]
  },
  {
   "cell_type": "code",
   "execution_count": 23,
   "id": "5c6b9598-dc37-49ef-83f1-2ef74868e301",
   "metadata": {},
   "outputs": [
    {
     "name": "stdout",
     "output_type": "stream",
     "text": [
      "Help on built-in function upper:\n",
      "\n",
      "upper() method of builtins.str instance\n",
      "    Return a copy of the string converted to uppercase.\n",
      "\n"
     ]
    }
   ],
   "source": [
    "help(s.upper)  # print documentation"
   ]
  },
  {
   "cell_type": "code",
   "execution_count": 24,
   "id": "a492ec75-3397-4de6-aa6e-3316ef581fed",
   "metadata": {},
   "outputs": [
    {
     "ename": "NameError",
     "evalue": "name 'upper' is not defined",
     "output_type": "error",
     "traceback": [
      "\u001b[0;31m---------------------------------------------------------------------------\u001b[0m",
      "\u001b[0;31mNameError\u001b[0m                                 Traceback (most recent call last)",
      "Cell \u001b[0;32mIn[24], line 1\u001b[0m\n\u001b[0;32m----> 1\u001b[0m upper\n",
      "\u001b[0;31mNameError\u001b[0m: name 'upper' is not defined"
     ]
    }
   ],
   "source": [
    "upper"
   ]
  },
  {
   "cell_type": "code",
   "execution_count": 27,
   "id": "f8e5ccbe-3bd3-417a-a032-2443e74b2bdb",
   "metadata": {},
   "outputs": [
    {
     "name": "stdout",
     "output_type": "stream",
     "text": [
      "['__add__', '__class__', '__contains__', '__delattr__', '__dir__', '__doc__', '__eq__', '__format__', '__ge__', '__getattribute__', '__getitem__', '__getnewargs__', '__getstate__', '__gt__', '__hash__', '__init__', '__init_subclass__', '__iter__', '__le__', '__len__', '__lt__', '__mod__', '__mul__', '__ne__', '__new__', '__reduce__', '__reduce_ex__', '__repr__', '__rmod__', '__rmul__', '__setattr__', '__sizeof__', '__str__', '__subclasshook__', 'capitalize', 'casefold', 'center', 'count', 'encode', 'endswith', 'expandtabs', 'find', 'format', 'format_map', 'index', 'isalnum', 'isalpha', 'isascii', 'isdecimal', 'isdigit', 'isidentifier', 'islower', 'isnumeric', 'isprintable', 'isspace', 'istitle', 'isupper', 'join', 'ljust', 'lower', 'lstrip', 'maketrans', 'partition', 'removeprefix', 'removesuffix', 'replace', 'rfind', 'rindex', 'rjust', 'rpartition', 'rsplit', 'rstrip', 'split', 'splitlines', 'startswith', 'strip', 'swapcase', 'title', 'translate', 'upper', 'zfill']\n"
     ]
    }
   ],
   "source": [
    "print(dir(str))"
   ]
  },
  {
   "cell_type": "code",
   "execution_count": 25,
   "id": "a843e085-b83c-435b-80c4-0ed7ff2f34cc",
   "metadata": {},
   "outputs": [
    {
     "name": "stdout",
     "output_type": "stream",
     "text": [
      "Help on method_descriptor:\n",
      "\n",
      "capitalize(self, /) unbound builtins.str method\n",
      "    Return a capitalized version of the string.\n",
      "\n",
      "    More specifically, make the first character have upper case and the rest lower\n",
      "    case.\n",
      "\n"
     ]
    }
   ],
   "source": [
    "help(str.capitalize)"
   ]
  },
  {
   "cell_type": "code",
   "execution_count": 30,
   "id": "e1092012-b9ed-4100-821e-47cc0e42d4ab",
   "metadata": {},
   "outputs": [
    {
     "data": {
      "text/plain": [
       "False"
      ]
     },
     "execution_count": 30,
     "metadata": {},
     "output_type": "execute_result"
    }
   ],
   "source": [
    "\"hello\" == \"Hello\""
   ]
  },
  {
   "cell_type": "code",
   "execution_count": 28,
   "id": "f3e2dc71-25d2-43f5-a593-41718b4cfb4f",
   "metadata": {},
   "outputs": [],
   "source": [
    "s = \"heLLo wORlD!\""
   ]
  },
  {
   "cell_type": "code",
   "execution_count": 29,
   "id": "c9957389-4ce6-442c-8eea-202b1463d0ad",
   "metadata": {},
   "outputs": [
    {
     "name": "stdout",
     "output_type": "stream",
     "text": [
      "Hello world!\n"
     ]
    }
   ],
   "source": [
    "ns = s.capitalize()\n",
    "print(ns)"
   ]
  },
  {
   "cell_type": "markdown",
   "id": "59cfa039-5a22-4c6d-a73f-b8ee5860ca98",
   "metadata": {},
   "source": [
    "## Case related funcitons\n",
    "\n",
    "\n",
    "    str.capitalize - first charcter capital rest small case letters\n",
    "\n",
    "    str.upper - all letters in upper case \n",
    "\n",
    "    str.lower - all letters in lower case\n",
    "\n",
    "    str.swapcase - lower case letters into upper case and upper case letter into lowercase\n",
    "\n",
    "    str.title   - First letter of each word become capital rest remains lower case "
   ]
  },
  {
   "cell_type": "code",
   "execution_count": 31,
   "id": "7fc0682e-b19e-4c58-9396-40659578f433",
   "metadata": {},
   "outputs": [
    {
     "name": "stdout",
     "output_type": "stream",
     "text": [
      "  original hELLo World\n",
      "capitalize Hello world\n",
      "     upper HELLO WORLD\n",
      "     lower hello world\n",
      "  swapcase HellO wORLD\n",
      "     title Hello World\n"
     ]
    }
   ],
   "source": [
    "s = \"hELLo World\"\n",
    "\n",
    "print(\"  original\", s)\n",
    "print(\"capitalize\", s.capitalize())\n",
    "print(\"     upper\", s.upper())\n",
    "print(\"     lower\", s.lower())\n",
    "print(\"  swapcase\", s.swapcase())\n",
    "print(\"     title\", s.title())"
   ]
  },
  {
   "cell_type": "markdown",
   "id": "496c2f8a-b98e-4e41-b3c4-6456c0efc542",
   "metadata": {},
   "source": [
    "# String justification\n",
    "\n",
    "    "
   ]
  },
  {
   "cell_type": "markdown",
   "id": "2cdc6742-a67b-448a-bff8-50ccc1de604f",
   "metadata": {},
   "source": [
    "    Table \n",
    "\n",
    "        name         country     age\n",
    "\n",
    "        jhon          UK          35\n",
    "\n",
    "        radheshyam   India        20\n",
    "\n",
    "        sam           US          120"
   ]
  },
  {
   "cell_type": "code",
   "execution_count": 32,
   "id": "7955e061-73c6-4ae0-a7fa-9731e53f3e99",
   "metadata": {},
   "outputs": [
    {
     "name": "stdout",
     "output_type": "stream",
     "text": [
      "Name Country Age\n",
      "Jhon UK 35\n",
      "Radheshyam India 20\n",
      "Sam US 120\n"
     ]
    }
   ],
   "source": [
    "print(\"Name Country Age\")\n",
    "print(\"Jhon UK 35\")\n",
    "print(\"Radheshyam India 20\")\n",
    "print(\"Sam US 120\")"
   ]
  },
  {
   "cell_type": "raw",
   "id": "d8500024-8219-4a53-945d-c73d801fb01a",
   "metadata": {},
   "source": [
    "|    <---50--->  | <-- 50 country --> | <-- 5 --> |\n",
    "\n",
    "\n",
    "|Jhon-------------|    left justify       <     str.ljust(width, fillchar=\"-\")\n",
    "|       Jhon      |    center justify     ^     str.center(width)\n",
    "|             Jhon|    right justify      >     str.rjust(width)"
   ]
  },
  {
   "cell_type": "code",
   "execution_count": 33,
   "id": "84f084ae-9c80-4c5f-9741-2694593de86b",
   "metadata": {},
   "outputs": [
    {
     "name": "stdout",
     "output_type": "stream",
     "text": [
      "Help on built-in function rjust:\n",
      "\n",
      "rjust(width, fillchar=' ', /) method of builtins.str instance\n",
      "    Return a right-justified string of length width.\n",
      "\n",
      "    Padding is done using the specified fill character (default is a space).\n",
      "\n"
     ]
    }
   ],
   "source": [
    "s = \"Jhon\"\n",
    "help(s.rjust)"
   ]
  },
  {
   "cell_type": "code",
   "execution_count": 37,
   "id": "83cc4828-8d23-4e4c-8c7f-c74d627626de",
   "metadata": {},
   "outputs": [
    {
     "name": "stdout",
     "output_type": "stream",
     "text": [
      "Jhon      'Jhon     '\n"
     ]
    }
   ],
   "source": [
    "s = \"Jhon     \"\n",
    "print(s, repr(s))\n",
    "# repr(object)  --> print raw representation of an object"
   ]
  },
  {
   "cell_type": "code",
   "execution_count": 38,
   "id": "56e9c09d-69ac-49ca-ab37-da86cb337e40",
   "metadata": {},
   "outputs": [
    {
     "name": "stdout",
     "output_type": "stream",
     "text": [
      "hello world\n",
      "\t\tThis is Awesome.\n",
      "Ha Ha Ha\n"
     ]
    }
   ],
   "source": [
    "s = \"hello world\\n\\t\\tThis is Awesome.\\nHa Ha Ha\"\n",
    "print(s)"
   ]
  },
  {
   "cell_type": "code",
   "execution_count": 39,
   "id": "c71b64c6-d5a7-401a-ba0c-77000097735b",
   "metadata": {},
   "outputs": [
    {
     "name": "stdout",
     "output_type": "stream",
     "text": [
      "'hello world\\n\\t\\tThis is Awesome.\\nHa Ha Ha'\n"
     ]
    }
   ],
   "source": [
    "print(repr(s))"
   ]
  },
  {
   "cell_type": "code",
   "execution_count": 40,
   "id": "310a9f0b-7270-45c7-bc5c-34bfc704b4bd",
   "metadata": {},
   "outputs": [
    {
     "name": "stdout",
     "output_type": "stream",
     "text": [
      "'Jhon'\n",
      "'Jhon                                              '\n",
      "'                       Jhon                       '\n",
      "'                                              Jhon'\n"
     ]
    }
   ],
   "source": [
    "s = \"Jhon\"\n",
    "w = 50\n",
    "\n",
    "print(repr(s))\n",
    "print(repr(s.ljust(50)))\n",
    "print(repr(s.center(50)))\n",
    "print(repr(s.rjust(50)))"
   ]
  },
  {
   "cell_type": "code",
   "execution_count": 41,
   "id": "c55a0c2d-2ccf-451d-80fd-6ea9a917b946",
   "metadata": {},
   "outputs": [
    {
     "name": "stdout",
     "output_type": "stream",
     "text": [
      "'Jhon'\n",
      "'Jhon----------------------------------------------'\n",
      "'-----------------------Jhon-----------------------'\n",
      "'----------------------------------------------Jhon'\n"
     ]
    }
   ],
   "source": [
    "s = \"Jhon\"\n",
    "w = 50\n",
    "fc = \"-\"\n",
    "\n",
    "print(repr(s))\n",
    "print(repr(s.ljust(w, fc)))\n",
    "print(repr(s.center(w, fc)))\n",
    "print(repr(s.rjust(w, fc)))"
   ]
  },
  {
   "cell_type": "code",
   "execution_count": 42,
   "id": "0debc57d-1560-460c-b8a7-22811062daab",
   "metadata": {},
   "outputs": [
    {
     "name": "stdout",
     "output_type": "stream",
     "text": [
      "'Jhon'\n",
      "'Jhon______________________________________________'\n",
      "'_______________________Jhon_______________________'\n",
      "'______________________________________________Jhon'\n"
     ]
    }
   ],
   "source": [
    "s = \"Jhon\"\n",
    "w = 50\n",
    "fc = \"_\"\n",
    "\n",
    "print(repr(s))\n",
    "print(repr(s.ljust(w, fc)))\n",
    "print(repr(s.center(w, fc)))\n",
    "print(repr(s.rjust(w, fc)))"
   ]
  },
  {
   "cell_type": "code",
   "execution_count": 46,
   "id": "afffc631-5077-41cc-8dce-7403bc9ff5bb",
   "metadata": {},
   "outputs": [
    {
     "name": "stdout",
     "output_type": "stream",
     "text": [
      "                                          Time Remaining 0                                          "
     ]
    }
   ],
   "source": [
    "import time \n",
    "seconds = 300\n",
    "for second in range(seconds+1):\n",
    "    print(\"\\r\"+f\"Time Remaining {seconds-second}\".center(100), end=\"\")\n",
    "    time.sleep(1)"
   ]
  },
  {
   "cell_type": "code",
   "execution_count": 48,
   "id": "49c09070-47e5-41d3-a6de-e15868c717df",
   "metadata": {},
   "outputs": [
    {
     "name": "stdout",
     "output_type": "stream",
     "text": [
      "Jhon lives in country UK and is 25 years old\n"
     ]
    }
   ],
   "source": [
    "name = \"Jhon\"\n",
    "country = \"UK\"\n",
    "age = 25\n",
    "\n",
    "# {name} lives in country {nation} and is {age} years old \n",
    "print(\"%s lives in country %s and is %d years old\"%(name, country, age))"
   ]
  },
  {
   "cell_type": "code",
   "execution_count": 53,
   "id": "3f7d5f93-9f43-4cf1-b7bf-4f551f7ec8fe",
   "metadata": {},
   "outputs": [
    {
     "name": "stdout",
     "output_type": "stream",
     "text": [
      "Jhon lives in country UK and is 25 years old\n",
      "Radheshyam lives in country India and is 28 years old\n"
     ]
    }
   ],
   "source": [
    "name = \"Jhon\"\n",
    "country = \"UK\"\n",
    "age = 25\n",
    "\n",
    "# {name} lives in country {nation} and is {age} years old \n",
    "info = \"%s lives in country %s and is %d years old\"\n",
    "print(info%(name, country, age))\n",
    "\n",
    "print(info%(\"Radheshyam\", \"India\", 28))"
   ]
  },
  {
   "cell_type": "code",
   "execution_count": 57,
   "id": "0b352d71-c2a5-4d17-bbb0-8c211aa433eb",
   "metadata": {},
   "outputs": [
    {
     "name": "stdout",
     "output_type": "stream",
     "text": [
      "{} lives in country {} and is {} years old. {} is a awesome person.\n",
      "Jhon lives in country UK and is 25 years old. Jhon is a awesome person.\n",
      "Radheshyam lives in country India and is 28 years old. Radheshyam is a awesome person.\n"
     ]
    }
   ],
   "source": [
    "name = \"Jhon\"\n",
    "country = \"UK\"\n",
    "age = 25\n",
    "\n",
    "# {name} lives in country {nation} and is {age} years old. {name} is a awesome person. \n",
    "info = \"{} lives in country {} and is {} years old. {} is a awesome person.\"\n",
    "#       0                    1         2\n",
    "\n",
    "print(info)\n",
    "print(info.format(name, country, age, name))\n",
    "#                   0      1       2\n",
    "\n",
    "print(info.format(\"Radheshyam\", \"India\", 28, \"Radheshyam\"))"
   ]
  },
  {
   "cell_type": "code",
   "execution_count": 58,
   "id": "c872cd32-cbb5-4173-b8ec-85a5879e7b46",
   "metadata": {},
   "outputs": [
    {
     "name": "stdout",
     "output_type": "stream",
     "text": [
      "{0} lives in country {1} and is {2} years old. {0} is a awesome person.\n",
      "Jhon lives in country UK and is 25 years old. Jhon is a awesome person.\n",
      "Radheshyam lives in country India and is 28 years old. Radheshyam is a awesome person.\n"
     ]
    }
   ],
   "source": [
    "name = \"Jhon\"\n",
    "country = \"UK\"\n",
    "age = 25\n",
    "\n",
    "# {name} lives in country {nation} and is {age} years old. {name} is a awesome person. \n",
    "info = \"{0} lives in country {1} and is {2} years old. {0} is a awesome person.\"\n",
    "#       0                    1         2\n",
    "\n",
    "print(info)\n",
    "print(info.format(name, country, age))\n",
    "#                   0      1       2\n",
    "\n",
    "print(info.format(\"Radheshyam\", \"India\", 28))"
   ]
  },
  {
   "cell_type": "code",
   "execution_count": 61,
   "id": "c4fb042e-5c30-4c88-8bfc-563b4fc63a58",
   "metadata": {},
   "outputs": [
    {
     "name": "stdout",
     "output_type": "stream",
     "text": [
      "{username} lives in country {nation} and is {age} years old. {username} is a awesome person.\n",
      "Jhon lives in country UK and is 25 years old. Jhon is a awesome person.\n",
      "Radheshyam lives in country India and is 28 years old. Radheshyam is a awesome person.\n"
     ]
    }
   ],
   "source": [
    "name = \"Jhon\"\n",
    "country = \"UK\"\n",
    "age = 25\n",
    "\n",
    "# {name} lives in country {nation} and is {age} years old. {name} is a awesome person. \n",
    "info = \"{username} lives in country {nation} and is {age} years old. {username} is a awesome person.\"\n",
    "#       0                    1         2\n",
    "\n",
    "print(info)\n",
    "print(info.format(username=name, nation=country, age=age))\n",
    "#                   0      1       2\n",
    "\n",
    "print(info.format(username=\"Radheshyam\", nation=\"India\", age=28))"
   ]
  },
  {
   "cell_type": "code",
   "execution_count": 64,
   "id": "02b831ef-f0bb-43ee-b739-8078d6c02d11",
   "metadata": {},
   "outputs": [
    {
     "name": "stdout",
     "output_type": "stream",
     "text": [
      "Jhon lives in country UK and is 25 years old. Jhon is a awesome person.\n"
     ]
    }
   ],
   "source": [
    "name = \"Jhon\"\n",
    "country = \"UK\"\n",
    "age = 25\n",
    "\n",
    "\n",
    "print(f\"{name} lives in country {country} and is {age} years old. {name} is a awesome person.\")"
   ]
  },
  {
   "cell_type": "markdown",
   "id": "6262bc3b-0ce7-4a11-8aaf-3e09702fc66a",
   "metadata": {},
   "source": [
    "# F-string\n",
    "\n",
    "    f\"{var}\""
   ]
  },
  {
   "cell_type": "markdown",
   "id": "9383a8e7-75c0-4061-ad8b-62526bb1824f",
   "metadata": {},
   "source": [
    "### String Formatting \n",
    "\n",
    "\n",
    "    C-style \n",
    "\n",
    "        type identifier  \n",
    "\n",
    "            int - %d\n",
    "            str - %s\n",
    "            float - %f"
   ]
  },
  {
   "cell_type": "code",
   "execution_count": null,
   "id": "8a91c4ed-3546-4f8a-b2ca-45b1835ea44b",
   "metadata": {},
   "outputs": [],
   "source": [
    "name = \"Jhon\"\n",
    "country = \"UK\"\n",
    "age = 25\n",
    "\n",
    "template = \"|Name|Country|Age|\"\n",
    "\n",
    "print(\"|{}|{}|{}|\")"
   ]
  },
  {
   "cell_type": "code",
   "execution_count": 69,
   "id": "83f3e9af-56cf-4d28-a9bc-6e00a7001ca0",
   "metadata": {},
   "outputs": [
    {
     "name": "stdout",
     "output_type": "stream",
     "text": [
      "['Jhon', 'Radheshyam', 'Hari', 'Michael', 'Alice']\n",
      "Jhon\n",
      "Hari\n"
     ]
    }
   ],
   "source": [
    "names = [ \"Jhon\", \"Radheshyam\", \"Hari\", \"Michael\", \"Alice\" ]\n",
    "#           0          1           2        3         4\n",
    "print(names)\n",
    "\n",
    "print(names[0]) # indexing\n",
    "print(names[2])"
   ]
  },
  {
   "cell_type": "code",
   "execution_count": 70,
   "id": "61f217f2-19aa-4ca8-b481-dd5364b19274",
   "metadata": {},
   "outputs": [
    {
     "name": "stdout",
     "output_type": "stream",
     "text": [
      "Jhon\n",
      "Radheshyam\n",
      "Hari\n",
      "Michael\n",
      "Alice\n"
     ]
    }
   ],
   "source": [
    "for item in names:\n",
    "    print(item)"
   ]
  },
  {
   "cell_type": "code",
   "execution_count": 72,
   "id": "f02926d2-4784-43a8-a72c-dcb4824156fd",
   "metadata": {},
   "outputs": [
    {
     "name": "stdout",
     "output_type": "stream",
     "text": [
      "let's use justification '        Jhon        ' in string formatting.\n",
      "let's use justification '     Radheshyam     ' in string formatting.\n",
      "let's use justification '        Hari        ' in string formatting.\n",
      "let's use justification '      Michael       ' in string formatting.\n",
      "let's use justification '       Alice        ' in string formatting.\n"
     ]
    }
   ],
   "source": [
    "names = [ \"Jhon\", \"Radheshyam\", \"Hari\", \"Michael\", \"Alice\" ]\n",
    "\n",
    "for name in names:\n",
    "    print(f\"let's use justification '{name.center(20)}' in string formatting.\")"
   ]
  },
  {
   "cell_type": "code",
   "execution_count": 73,
   "id": "385855ec-ebbb-4ebf-9d74-c846a64cf1dc",
   "metadata": {},
   "outputs": [
    {
     "name": "stdout",
     "output_type": "stream",
     "text": [
      "let's use justification '                Jhon' in string formatting.\n",
      "let's use justification '          Radheshyam' in string formatting.\n",
      "let's use justification '                Hari' in string formatting.\n",
      "let's use justification '             Michael' in string formatting.\n",
      "let's use justification '               Alice' in string formatting.\n"
     ]
    }
   ],
   "source": [
    "names = [ \"Jhon\", \"Radheshyam\", \"Hari\", \"Michael\", \"Alice\" ]\n",
    "\n",
    "for name in names:\n",
    "    print(f\"let's use justification '{name.rjust(20)}' in string formatting.\")"
   ]
  },
  {
   "cell_type": "code",
   "execution_count": 74,
   "id": "eee64584-9096-43e6-8c11-fcca3f21a8aa",
   "metadata": {},
   "outputs": [
    {
     "name": "stdout",
     "output_type": "stream",
     "text": [
      "let's use justification 'Jhon                ' in string formatting.\n",
      "let's use justification 'Radheshyam          ' in string formatting.\n",
      "let's use justification 'Hari                ' in string formatting.\n",
      "let's use justification 'Michael             ' in string formatting.\n",
      "let's use justification 'Alice               ' in string formatting.\n"
     ]
    }
   ],
   "source": [
    "names = [ \"Jhon\", \"Radheshyam\", \"Hari\", \"Michael\", \"Alice\" ]\n",
    "\n",
    "for name in names:\n",
    "    print(f\"let's use justification '{name.ljust(20)}' in string formatting.\")"
   ]
  },
  {
   "cell_type": "code",
   "execution_count": 75,
   "id": "49654b76-bcc3-466f-bc7c-9446b5d0bc99",
   "metadata": {},
   "outputs": [
    {
     "name": "stdout",
     "output_type": "stream",
     "text": [
      "let's use justification 'Jhon                ' in string formatting.\n",
      "let's use justification 'Radheshyam          ' in string formatting.\n",
      "let's use justification 'Hari                ' in string formatting.\n",
      "let's use justification 'Michael             ' in string formatting.\n",
      "let's use justification 'Alice               ' in string formatting.\n"
     ]
    }
   ],
   "source": [
    "names = [ \"Jhon\", \"Radheshyam\", \"Hari\", \"Michael\", \"Alice\" ]\n",
    "\n",
    "for name in names:\n",
    "    print(f\"let's use justification '{name:<20}' in string formatting.\")"
   ]
  },
  {
   "cell_type": "code",
   "execution_count": 76,
   "id": "5150bd5c-290e-4c78-a420-3b673b252e16",
   "metadata": {},
   "outputs": [
    {
     "name": "stdout",
     "output_type": "stream",
     "text": [
      "let's use justification '                Jhon' in string formatting.\n",
      "let's use justification '          Radheshyam' in string formatting.\n",
      "let's use justification '                Hari' in string formatting.\n",
      "let's use justification '             Michael' in string formatting.\n",
      "let's use justification '               Alice' in string formatting.\n"
     ]
    }
   ],
   "source": [
    "names = [ \"Jhon\", \"Radheshyam\", \"Hari\", \"Michael\", \"Alice\" ]\n",
    "\n",
    "for name in names:\n",
    "    print(f\"let's use justification '{name:>20}' in string formatting.\")"
   ]
  },
  {
   "cell_type": "code",
   "execution_count": 77,
   "id": "823d3dd7-0e58-4ff3-aa27-2c2f93a428da",
   "metadata": {},
   "outputs": [
    {
     "name": "stdout",
     "output_type": "stream",
     "text": [
      "let's use justification '        Jhon        ' in string formatting.\n",
      "let's use justification '     Radheshyam     ' in string formatting.\n",
      "let's use justification '        Hari        ' in string formatting.\n",
      "let's use justification '      Michael       ' in string formatting.\n",
      "let's use justification '       Alice        ' in string formatting.\n"
     ]
    }
   ],
   "source": [
    "names = [ \"Jhon\", \"Radheshyam\", \"Hari\", \"Michael\", \"Alice\" ]\n",
    "\n",
    "for name in names:\n",
    "    print(f\"let's use justification '{name:^20}' in string formatting.\")"
   ]
  },
  {
   "cell_type": "code",
   "execution_count": 82,
   "id": "d3648a77-413c-4775-89e3-aeeafcee6ec0",
   "metadata": {},
   "outputs": [
    {
     "name": "stdout",
     "output_type": "stream",
     "text": [
      "10 20\n"
     ]
    }
   ],
   "source": [
    "x, y = 10, 20\n",
    "print(x, y)"
   ]
  },
  {
   "cell_type": "code",
   "execution_count": 81,
   "id": "83f6fda4-6efd-44a2-b47d-06cd9f99a28e",
   "metadata": {},
   "outputs": [
    {
     "name": "stdout",
     "output_type": "stream",
     "text": [
      "Jhon Us 20\n"
     ]
    }
   ],
   "source": [
    "# tuple unpacking \n",
    "name, country, age = \"Jhon\", \"Us\", 20\n",
    "print(name, country, age)"
   ]
  },
  {
   "cell_type": "code",
   "execution_count": 78,
   "id": "b459feb7-9c17-41c9-9e57-e8923e062d26",
   "metadata": {},
   "outputs": [],
   "source": [
    "data = [\n",
    "    [ \"Name\", \"Country\", \"age\"],\n",
    "    [\"jhon\",\"UK\", 35],\n",
    "    [\"radheshyam\", \"india\", 20],\n",
    "    [\"sam\", \"us\", 120]\n",
    "]"
   ]
  },
  {
   "cell_type": "code",
   "execution_count": 79,
   "id": "cd7b5538-203f-48e6-b225-92c8d7d2de43",
   "metadata": {},
   "outputs": [
    {
     "name": "stdout",
     "output_type": "stream",
     "text": [
      "['Name', 'Country', 'age']\n",
      "['jhon', 'UK', 35]\n",
      "['radheshyam', 'india', 20]\n",
      "['sam', 'us', 120]\n"
     ]
    }
   ],
   "source": [
    "for item in data:\n",
    "    print(item) # item = ?"
   ]
  },
  {
   "cell_type": "code",
   "execution_count": 83,
   "id": "2248ef07-a132-41a9-a378-9dbf5abede7f",
   "metadata": {},
   "outputs": [
    {
     "name": "stdout",
     "output_type": "stream",
     "text": [
      "Name Country age\n",
      "jhon UK 35\n",
      "radheshyam india 20\n",
      "sam us 120\n"
     ]
    }
   ],
   "source": [
    "for name, country, age in data:\n",
    "    print(name, country, age) # item = ?"
   ]
  },
  {
   "cell_type": "code",
   "execution_count": 85,
   "id": "a6741787-9f5b-45b7-9058-cfe3da0a9d18",
   "metadata": {},
   "outputs": [
    {
     "data": {
      "text/plain": [
       "'----------'"
      ]
     },
     "execution_count": 85,
     "metadata": {},
     "output_type": "execute_result"
    }
   ],
   "source": [
    "\"-\"*10"
   ]
  },
  {
   "cell_type": "raw",
   "id": "4da25bb5-23e3-4038-9446-e58b6fbe1d17",
   "metadata": {},
   "source": [
    "______________________________ (74)\n",
    "|name (50)|country(20)|age(5)|\n",
    "_______________________________ (74)"
   ]
  },
  {
   "cell_type": "code",
   "execution_count": 91,
   "id": "ca72223c-4285-40d0-bc10-19e7351477b4",
   "metadata": {},
   "outputs": [
    {
     "name": "stdout",
     "output_type": "stream",
     "text": [
      "_________________________________________________\n",
      "|        Jhon        |         Us         | 20  |\n",
      "-------------------------------------------------\n"
     ]
    }
   ],
   "source": [
    "name, country, age = \"Jhon\", \"Us\", \"20\"\n",
    "print(\"_\"*49)\n",
    "print(f\"|{name:^20}|{country:^20}|{age:^5}|\")\n",
    "print(\"-\"*49)"
   ]
  },
  {
   "cell_type": "code",
   "execution_count": 92,
   "id": "350dec0f-b194-4f00-a56d-2bc44c4d11e3",
   "metadata": {},
   "outputs": [
    {
     "name": "stdout",
     "output_type": "stream",
     "text": [
      "_________________________________________________\n",
      "|        Name        |      Country       | age |\n",
      "-------------------------------------------------\n",
      "|        jhon        |         UK         | 35  |\n",
      "-------------------------------------------------\n",
      "|     radheshyam     |       india        | 20  |\n",
      "-------------------------------------------------\n",
      "|        sam         |         us         | 120 |\n",
      "-------------------------------------------------\n"
     ]
    }
   ],
   "source": [
    "data = [\n",
    "    [ \"Name\", \"Country\", \"age\"],\n",
    "    [\"jhon\",\"UK\", 35],\n",
    "    [\"radheshyam\", \"india\", 20],\n",
    "    [\"sam\", \"us\", 120]\n",
    "]\n",
    "\n",
    "print(\"_\"*49)\n",
    "for name, country, age in data:\n",
    "    print(f\"|{name:^20}|{country:^20}|{age:^5}|\")\n",
    "    print(\"-\"*49)"
   ]
  },
  {
   "cell_type": "code",
   "execution_count": null,
   "id": "b3f80ea5-64b0-471e-9ddc-f5e551e7e07c",
   "metadata": {},
   "outputs": [],
   "source": []
  }
 ],
 "metadata": {
  "kernelspec": {
   "display_name": "Python [conda env:base] *",
   "language": "python",
   "name": "conda-base-py"
  },
  "language_info": {
   "codemirror_mode": {
    "name": "ipython",
    "version": 3
   },
   "file_extension": ".py",
   "mimetype": "text/x-python",
   "name": "python",
   "nbconvert_exporter": "python",
   "pygments_lexer": "ipython3",
   "version": "3.12.7"
  }
 },
 "nbformat": 4,
 "nbformat_minor": 5
}
