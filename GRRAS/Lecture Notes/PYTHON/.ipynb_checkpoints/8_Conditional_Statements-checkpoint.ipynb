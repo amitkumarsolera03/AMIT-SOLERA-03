{
 "cells": [
  {
   "cell_type": "code",
   "execution_count": 1,
   "id": "f992039b-c4e6-4aa9-9af4-530cb2d1a274",
   "metadata": {},
   "outputs": [],
   "source": [
    "s = \"ABC123!@#\""
   ]
  },
  {
   "cell_type": "code",
   "execution_count": 5,
   "id": "f99eb4d0-90d3-419b-9663-da37172971ec",
   "metadata": {},
   "outputs": [],
   "source": [
    "s = \"india is beautiful country\""
   ]
  },
  {
   "cell_type": "code",
   "execution_count": 7,
   "id": "611afdbc-673f-4413-8977-f8f963e883a2",
   "metadata": {},
   "outputs": [
    {
     "data": {
      "text/plain": [
       "True"
      ]
     },
     "execution_count": 7,
     "metadata": {},
     "output_type": "execute_result"
    }
   ],
   "source": [
    "s.endswith('country')"
   ]
  },
  {
   "cell_type": "code",
   "execution_count": 6,
   "id": "fa56210c-05ba-40d6-ab89-bc0eede362be",
   "metadata": {},
   "outputs": [
    {
     "data": {
      "text/plain": [
       "True"
      ]
     },
     "execution_count": 6,
     "metadata": {},
     "output_type": "execute_result"
    }
   ],
   "source": [
    "s.startswith('india')"
   ]
  },
  {
   "cell_type": "code",
   "execution_count": 10,
   "id": "5023a85f-1a87-4b1c-b18a-843eb17b2a92",
   "metadata": {},
   "outputs": [],
   "source": [
    "name = \"sachin\""
   ]
  },
  {
   "cell_type": "code",
   "execution_count": 11,
   "id": "05626573-f88c-4cd1-a557-afc6baea2549",
   "metadata": {},
   "outputs": [
    {
     "ename": "SyntaxError",
     "evalue": "invalid decimal literal (1199318745.py, line 1)",
     "output_type": "error",
     "traceback": [
      "\u001b[0;36m  Cell \u001b[0;32mIn[11], line 1\u001b[0;36m\u001b[0m\n\u001b[0;31m    1name = \"sachin\"\u001b[0m\n\u001b[0m    ^\u001b[0m\n\u001b[0;31mSyntaxError\u001b[0m\u001b[0;31m:\u001b[0m invalid decimal literal\n"
     ]
    }
   ],
   "source": [
    "1name = \"sachin\""
   ]
  },
  {
   "cell_type": "code",
   "execution_count": 12,
   "id": "7e49b6fd-5444-457e-91a5-5a02a37a355e",
   "metadata": {},
   "outputs": [
    {
     "ename": "SyntaxError",
     "evalue": "cannot assign to literal here. Maybe you meant '==' instead of '='? (1698048325.py, line 1)",
     "output_type": "error",
     "traceback": [
      "\u001b[0;36m  Cell \u001b[0;32mIn[12], line 1\u001b[0;36m\u001b[0m\n\u001b[0;31m    3 = \"hello\"\u001b[0m\n\u001b[0m    ^\u001b[0m\n\u001b[0;31mSyntaxError\u001b[0m\u001b[0;31m:\u001b[0m cannot assign to literal here. Maybe you meant '==' instead of '='?\n"
     ]
    }
   ],
   "source": [
    "3 = \"hello\""
   ]
  },
  {
   "cell_type": "code",
   "execution_count": 13,
   "id": "29930af3-fc22-46ce-bf10-c0afc0e4274b",
   "metadata": {},
   "outputs": [
    {
     "ename": "SyntaxError",
     "evalue": "invalid syntax (2938389522.py, line 1)",
     "output_type": "error",
     "traceback": [
      "\u001b[0;36m  Cell \u001b[0;32mIn[13], line 1\u001b[0;36m\u001b[0m\n\u001b[0;31m    $x = 10\u001b[0m\n\u001b[0m    ^\u001b[0m\n\u001b[0;31mSyntaxError\u001b[0m\u001b[0;31m:\u001b[0m invalid syntax\n"
     ]
    }
   ],
   "source": [
    "$x = 10"
   ]
  },
  {
   "cell_type": "markdown",
   "id": "63bb8a61-cf25-4e87-9574-9cebbb56342f",
   "metadata": {},
   "source": [
    "    0-9a-zA-Z  isalnum\n",
    "\n",
    "    a-zA-Z     isalpha"
   ]
  },
  {
   "cell_type": "code",
   "execution_count": 4,
   "id": "f254320b-6ea5-4b33-9724-29f748f1df8e",
   "metadata": {},
   "outputs": [
    {
     "name": "stdout",
     "output_type": "stream",
     "text": [
      "isalnum\n",
      "isalpha\n",
      "isascii\n",
      "isdecimal\n",
      "isdigit\n",
      "isidentifier\n",
      "islower\n",
      "isnumeric\n",
      "isprintable\n",
      "isspace\n",
      "istitle\n",
      "isupper\n"
     ]
    }
   ],
   "source": [
    "print(*[m for m in dir(s) if m.startswith('is')], sep=\"\\n\")"
   ]
  },
  {
   "cell_type": "code",
   "execution_count": 14,
   "id": "da6225f6-7961-4ff5-86a2-da950c56879c",
   "metadata": {},
   "outputs": [
    {
     "data": {
      "text/plain": [
       "'india is beautiful country'"
      ]
     },
     "execution_count": 14,
     "metadata": {},
     "output_type": "execute_result"
    }
   ],
   "source": [
    "s"
   ]
  },
  {
   "cell_type": "code",
   "execution_count": 15,
   "id": "2e345056-7f9f-48c4-b8e9-05203fa63f08",
   "metadata": {},
   "outputs": [],
   "source": [
    "s = \"ABC123!@#\""
   ]
  },
  {
   "cell_type": "markdown",
   "id": "ca0518ef-7057-4ad6-8607-b1ab133defd3",
   "metadata": {},
   "source": [
    "`range(start, end, step)` - to generate numbers sequentially"
   ]
  },
  {
   "cell_type": "raw",
   "id": "cc42e703-46b7-49da-8d7c-0597f1435230",
   "metadata": {},
   "source": [
    "                  start\n",
    "-inf ..... -3 -2 -1 0 1 2 3 4 .... inf"
   ]
  },
  {
   "cell_type": "markdown",
   "id": "1be4d69e-121a-4e4a-8c71-0322f2e5c3dc",
   "metadata": {},
   "source": [
    "    egar objects - they store data at time of creation or assignment\n",
    "    x = 5\n",
    "    s = \"sachin\"\n",
    "    lang = [ 1, 2, 3, 4]\n",
    "    d = {'one': 1, 'two': 2 }"
   ]
  },
  {
   "cell_type": "markdown",
   "id": "91e98d8f-9aaf-44ad-b436-db17d53018fb",
   "metadata": {},
   "source": [
    "    lazy objects -> iterators and generators \n",
    "\n",
    "        memory efficient, fast, only provides/generate values at time of action"
   ]
  },
  {
   "cell_type": "code",
   "execution_count": 37,
   "id": "f6f3cb41-ee06-437a-8d5b-362a75417957",
   "metadata": {},
   "outputs": [
    {
     "name": "stdout",
     "output_type": "stream",
     "text": [
      "range(1, 10000001)\n"
     ]
    },
    {
     "data": {
      "text/plain": [
       "48"
      ]
     },
     "execution_count": 37,
     "metadata": {},
     "output_type": "execute_result"
    }
   ],
   "source": [
    "v = range(1, 10000001)\n",
    "print(v)\n",
    "sys.getsizeof(v)"
   ]
  },
  {
   "cell_type": "code",
   "execution_count": 38,
   "id": "e40d25e1-4c99-4636-a777-cf995c99c068",
   "metadata": {},
   "outputs": [
    {
     "name": "stdout",
     "output_type": "stream",
     "text": [
      "[1, 2, 3, 4, 5, 6, 7, 8, 9, 10, 11, 12, 13, 14, 15, 16, 17, 18, 19, 20, 21, 22, 23, 24, 25, 26, 27, 28, 29, 30, 31, 32, 33, 34, 35, 36, 37, 38, 39, 40, 41, 42, 43, 44, 45, 46, 47, 48, 49, 50, 51, 52, 53, 54, 55, 56, 57, 58, 59, 60, 61, 62, 63, 64, 65, 66, 67, 68, 69, 70, 71, 72, 73, 74, 75, 76, 77, 78, 79, 80, 81, 82, 83, 84, 85, 86, 87, 88, 89, 90, 91, 92, 93, 94, 95, 96, 97, 98, 99, 100, 101, 102, 103, 104, 105, 106, 107, 108, 109, 110, 111, 112, 113, 114, 115, 116, 117, 118, 119, 120, 121, 122, 123, 124, 125, 126, 127, 128, 129, 130, 131, 132, 133, 134, 135, 136, 137, 138, 139, 140, 141, 142, 143, 144, 145, 146, 147, 148, 149, 150, 151, 152, 153, 154, 155, 156, 157, 158, 159, 160, 161, 162, 163, 164, 165, 166, 167, 168, 169, 170, 171, 172, 173, 174, 175, 176, 177, 178, 179, 180, 181, 182, 183, 184, 185, 186, 187, 188, 189, 190, 191, 192, 193, 194, 195, 196, 197, 198, 199, 200, 201, 202, 203, 204, 205, 206, 207, 208, 209, 210, 211, 212, 213, 214, 215, 216, 217, 218, 219, 220, 221, 222, 223, 224, 225, 226, 227, 228, 229, 230, 231, 232, 233, 234, 235, 236, 237, 238, 239, 240, 241, 242, 243, 244, 245, 246, 247, 248, 249, 250, 251, 252, 253, 254, 255, 256, 257, 258, 259, 260, 261, 262, 263, 264, 265, 266, 267, 268, 269, 270, 271, 272, 273, 274, 275, 276, 277, 278, 279, 280, 281, 282, 283, 284, 285, 286, 287, 288, 289, 290, 291, 292, 293, 294, 295, 296, 297, 298, 299, 300, 301, 302, 303, 304, 305, 306, 307, 308, 309, 310, 311, 312, 313, 314, 315, 316, 317, 318, 319, 320, 321, 322, 323, 324, 325, 326, 327, 328, 329, 330, 331, 332, 333, 334, 335, 336, 337, 338, 339, 340, 341, 342, 343, 344, 345, 346, 347, 348, 349, 350, 351, 352, 353, 354, 355, 356, 357, 358, 359, 360, 361, 362, 363, 364, 365, 366, 367, 368, 369, 370, 371, 372, 373, 374, 375, 376, 377, 378, 379, 380, 381, 382, 383, 384, 385, 386, 387, 388, 389, 390, 391, 392, 393, 394, 395, 396, 397, 398, 399, 400, 401, 402, 403, 404, 405, 406, 407, 408, 409, 410, 411, 412, 413, 414, 415, 416, 417, 418, 419, 420, 421, 422, 423, 424, 425, 426, 427, 428, 429, 430, 431, 432, 433, 434, 435, 436, 437, 438, 439, 440, 441, 442, 443, 444, 445, 446, 447, 448, 449, 450, 451, 452, 453, 454, 455, 456, 457, 458, 459, 460, 461, 462, 463, 464, 465, 466, 467, 468, 469, 470, 471, 472, 473, 474, 475, 476, 477, 478, 479, 480, 481, 482, 483, 484, 485, 486, 487, 488, 489, 490, 491, 492, 493, 494, 495, 496, 497, 498, 499, 500, 501, 502, 503, 504, 505, 506, 507, 508, 509, 510, 511, 512, 513, 514, 515, 516, 517, 518, 519, 520, 521, 522, 523, 524, 525, 526, 527, 528, 529, 530, 531, 532, 533, 534, 535, 536, 537, 538, 539, 540, 541, 542, 543, 544, 545, 546, 547, 548, 549, 550, 551, 552, 553, 554, 555, 556, 557, 558, 559, 560, 561, 562, 563, 564, 565, 566, 567, 568, 569, 570, 571, 572, 573, 574, 575, 576, 577, 578, 579, 580, 581, 582, 583, 584, 585, 586, 587, 588, 589, 590, 591, 592, 593, 594, 595, 596, 597, 598, 599, 600, 601, 602, 603, 604, 605, 606, 607, 608, 609, 610, 611, 612, 613, 614, 615, 616, 617, 618, 619, 620, 621, 622, 623, 624, 625, 626, 627, 628, 629, 630, 631, 632, 633, 634, 635, 636, 637, 638, 639, 640, 641, 642, 643, 644, 645, 646, 647, 648, 649, 650, 651, 652, 653, 654, 655, 656, 657, 658, 659, 660, 661, 662, 663, 664, 665, 666, 667, 668, 669, 670, 671, 672, 673, 674, 675, 676, 677, 678, 679, 680, 681, 682, 683, 684, 685, 686, 687, 688, 689, 690, 691, 692, 693, 694, 695, 696, 697, 698, 699, 700, 701, 702, 703, 704, 705, 706, 707, 708, 709, 710, 711, 712, 713, 714, 715, 716, 717, 718, 719, 720, 721, 722, 723, 724, 725, 726, 727, 728, 729, 730, 731, 732, 733, 734, 735, 736, 737, 738, 739, 740, 741, 742, 743, 744, 745, 746, 747, 748, 749, 750, 751, 752, 753, 754, 755, 756, 757, 758, 759, 760, 761, 762, 763, 764, 765, 766, 767, 768, 769, 770, 771, 772, 773, 774, 775, 776, 777, 778, 779, 780, 781, 782, 783, 784, 785, 786, 787, 788, 789, 790, 791, 792, 793, 794, 795, 796, 797, 798, 799, 800, 801, 802, 803, 804, 805, 806, 807, 808, 809, 810, 811, 812, 813, 814, 815, 816, 817, 818, 819, 820, 821, 822, 823, 824, 825, 826, 827, 828, 829, 830, 831, 832, 833, 834, 835, 836, 837, 838, 839, 840, 841, 842, 843, 844, 845, 846, 847, 848, 849, 850, 851, 852, 853, 854, 855, 856, 857, 858, 859, 860, 861, 862, 863, 864, 865, 866, 867, 868, 869, 870, 871, 872, 873, 874, 875, 876, 877, 878, 879, 880, 881, 882, 883, 884, 885, 886, 887, 888, 889, 890, 891, 892, 893, 894, 895, 896, 897, 898, 899, 900, 901, 902, 903, 904, 905, 906, 907, 908, 909, 910, 911, 912, 913, 914, 915, 916, 917, 918, 919, 920, 921, 922, 923, 924, 925, 926, 927, 928, 929, 930, 931, 932, 933, 934, 935, 936, 937, 938, 939, 940, 941, 942, 943, 944, 945, 946, 947, 948, 949, 950, 951, 952, 953, 954, 955, 956, 957, 958, 959, 960, 961, 962, 963, 964, 965, 966, 967, 968, 969, 970, 971, 972, 973, 974, 975, 976, 977, 978, 979, 980, 981, 982, 983, 984, 985, 986, 987, 988, 989, 990, 991, 992, 993, 994, 995, 996, 997, 998, 999, 1000]\n",
      "8056\n"
     ]
    }
   ],
   "source": [
    "import numpy as np\n",
    "import sys\n",
    "\n",
    "data = list(np.arange(1, 1001))\n",
    "print(data)\n",
    "print(sys.getsizeof(data))"
   ]
  },
  {
   "cell_type": "code",
   "execution_count": 32,
   "id": "4c83c104-1be4-4f3f-93a3-44b3e650003d",
   "metadata": {},
   "outputs": [
    {
     "name": "stdout",
     "output_type": "stream",
     "text": [
      "1\n"
     ]
    },
    {
     "name": "stdin",
     "output_type": "stream",
     "text": [
      " \n"
     ]
    },
    {
     "name": "stdout",
     "output_type": "stream",
     "text": [
      "2\n"
     ]
    },
    {
     "name": "stdin",
     "output_type": "stream",
     "text": [
      " \n"
     ]
    },
    {
     "name": "stdout",
     "output_type": "stream",
     "text": [
      "3\n"
     ]
    },
    {
     "name": "stdin",
     "output_type": "stream",
     "text": [
      " \n"
     ]
    },
    {
     "name": "stdout",
     "output_type": "stream",
     "text": [
      "4\n"
     ]
    },
    {
     "name": "stdin",
     "output_type": "stream",
     "text": [
      " \n"
     ]
    },
    {
     "name": "stdout",
     "output_type": "stream",
     "text": [
      "5\n"
     ]
    },
    {
     "ename": "KeyboardInterrupt",
     "evalue": "Interrupted by user",
     "output_type": "error",
     "traceback": [
      "\u001b[0;31m---------------------------------------------------------------------------\u001b[0m",
      "\u001b[0;31mKeyboardInterrupt\u001b[0m                         Traceback (most recent call last)",
      "Cell \u001b[0;32mIn[32], line 3\u001b[0m\n\u001b[1;32m      1\u001b[0m \u001b[38;5;28;01mfor\u001b[39;00m value \u001b[38;5;129;01min\u001b[39;00m data:\n\u001b[1;32m      2\u001b[0m     \u001b[38;5;28mprint\u001b[39m(value)\n\u001b[0;32m----> 3\u001b[0m     \u001b[38;5;28minput\u001b[39m()\n",
      "File \u001b[0;32m/opt/anaconda3/lib/python3.12/site-packages/ipykernel/kernelbase.py:1262\u001b[0m, in \u001b[0;36mKernel.raw_input\u001b[0;34m(self, prompt)\u001b[0m\n\u001b[1;32m   1260\u001b[0m     msg \u001b[38;5;241m=\u001b[39m \u001b[38;5;124m\"\u001b[39m\u001b[38;5;124mraw_input was called, but this frontend does not support input requests.\u001b[39m\u001b[38;5;124m\"\u001b[39m\n\u001b[1;32m   1261\u001b[0m     \u001b[38;5;28;01mraise\u001b[39;00m StdinNotImplementedError(msg)\n\u001b[0;32m-> 1262\u001b[0m \u001b[38;5;28;01mreturn\u001b[39;00m \u001b[38;5;28mself\u001b[39m\u001b[38;5;241m.\u001b[39m_input_request(\n\u001b[1;32m   1263\u001b[0m     \u001b[38;5;28mstr\u001b[39m(prompt),\n\u001b[1;32m   1264\u001b[0m     \u001b[38;5;28mself\u001b[39m\u001b[38;5;241m.\u001b[39m_parent_ident[\u001b[38;5;124m\"\u001b[39m\u001b[38;5;124mshell\u001b[39m\u001b[38;5;124m\"\u001b[39m],\n\u001b[1;32m   1265\u001b[0m     \u001b[38;5;28mself\u001b[39m\u001b[38;5;241m.\u001b[39mget_parent(\u001b[38;5;124m\"\u001b[39m\u001b[38;5;124mshell\u001b[39m\u001b[38;5;124m\"\u001b[39m),\n\u001b[1;32m   1266\u001b[0m     password\u001b[38;5;241m=\u001b[39m\u001b[38;5;28;01mFalse\u001b[39;00m,\n\u001b[1;32m   1267\u001b[0m )\n",
      "File \u001b[0;32m/opt/anaconda3/lib/python3.12/site-packages/ipykernel/kernelbase.py:1305\u001b[0m, in \u001b[0;36mKernel._input_request\u001b[0;34m(self, prompt, ident, parent, password)\u001b[0m\n\u001b[1;32m   1302\u001b[0m \u001b[38;5;28;01mexcept\u001b[39;00m \u001b[38;5;167;01mKeyboardInterrupt\u001b[39;00m:\n\u001b[1;32m   1303\u001b[0m     \u001b[38;5;66;03m# re-raise KeyboardInterrupt, to truncate traceback\u001b[39;00m\n\u001b[1;32m   1304\u001b[0m     msg \u001b[38;5;241m=\u001b[39m \u001b[38;5;124m\"\u001b[39m\u001b[38;5;124mInterrupted by user\u001b[39m\u001b[38;5;124m\"\u001b[39m\n\u001b[0;32m-> 1305\u001b[0m     \u001b[38;5;28;01mraise\u001b[39;00m \u001b[38;5;167;01mKeyboardInterrupt\u001b[39;00m(msg) \u001b[38;5;28;01mfrom\u001b[39;00m \u001b[38;5;28;01mNone\u001b[39;00m\n\u001b[1;32m   1306\u001b[0m \u001b[38;5;28;01mexcept\u001b[39;00m \u001b[38;5;167;01mException\u001b[39;00m:\n\u001b[1;32m   1307\u001b[0m     \u001b[38;5;28mself\u001b[39m\u001b[38;5;241m.\u001b[39mlog\u001b[38;5;241m.\u001b[39mwarning(\u001b[38;5;124m\"\u001b[39m\u001b[38;5;124mInvalid Message:\u001b[39m\u001b[38;5;124m\"\u001b[39m, exc_info\u001b[38;5;241m=\u001b[39m\u001b[38;5;28;01mTrue\u001b[39;00m)\n",
      "\u001b[0;31mKeyboardInterrupt\u001b[0m: Interrupted by user"
     ]
    }
   ],
   "source": [
    "for value in data:\n",
    "    print(value)\n",
    "    input()"
   ]
  },
  {
   "cell_type": "code",
   "execution_count": 26,
   "id": "1d4015f8-9ffd-4d17-b949-3c68c7a7c56a",
   "metadata": {},
   "outputs": [
    {
     "data": {
      "text/plain": [
       "range(0, 5)"
      ]
     },
     "execution_count": 26,
     "metadata": {},
     "output_type": "execute_result"
    }
   ],
   "source": [
    "range(5) # "
   ]
  },
  {
   "cell_type": "code",
   "execution_count": 16,
   "id": "52bec661-e285-4344-92ab-9058b58db9c9",
   "metadata": {},
   "outputs": [
    {
     "data": {
      "text/plain": [
       "False"
      ]
     },
     "execution_count": 16,
     "metadata": {},
     "output_type": "execute_result"
    }
   ],
   "source": [
    "s[0].isdigit()"
   ]
  },
  {
   "cell_type": "code",
   "execution_count": 17,
   "id": "8f852fde-828a-4cc6-a156-8bc78f19695a",
   "metadata": {},
   "outputs": [
    {
     "data": {
      "text/plain": [
       "False"
      ]
     },
     "execution_count": 17,
     "metadata": {},
     "output_type": "execute_result"
    }
   ],
   "source": [
    "s[1].isdigit()"
   ]
  },
  {
   "cell_type": "code",
   "execution_count": 18,
   "id": "35260aa6-822e-4953-801a-41e14a64b5dc",
   "metadata": {},
   "outputs": [
    {
     "data": {
      "text/plain": [
       "False"
      ]
     },
     "execution_count": 18,
     "metadata": {},
     "output_type": "execute_result"
    }
   ],
   "source": [
    "s[2].isdigit()"
   ]
  },
  {
   "cell_type": "code",
   "execution_count": 19,
   "id": "fe5c5e63-1f60-4855-8047-c0d28ed3f6cd",
   "metadata": {},
   "outputs": [
    {
     "data": {
      "text/plain": [
       "True"
      ]
     },
     "execution_count": 19,
     "metadata": {},
     "output_type": "execute_result"
    }
   ],
   "source": [
    "s[3].isdigit()"
   ]
  },
  {
   "cell_type": "code",
   "execution_count": 20,
   "id": "b898cd4c-aee1-49a3-a11f-cb320784d640",
   "metadata": {},
   "outputs": [
    {
     "data": {
      "text/plain": [
       "True"
      ]
     },
     "execution_count": 20,
     "metadata": {},
     "output_type": "execute_result"
    }
   ],
   "source": [
    "s[4].isdigit()"
   ]
  },
  {
   "cell_type": "code",
   "execution_count": 21,
   "id": "a49546bf-bfe1-4675-8547-ac9099156d03",
   "metadata": {},
   "outputs": [
    {
     "data": {
      "text/plain": [
       "True"
      ]
     },
     "execution_count": 21,
     "metadata": {},
     "output_type": "execute_result"
    }
   ],
   "source": [
    "s[5].isdigit()"
   ]
  },
  {
   "cell_type": "code",
   "execution_count": 22,
   "id": "6f3832cb-76af-40ce-a7da-050e4b78c28a",
   "metadata": {},
   "outputs": [
    {
     "data": {
      "text/plain": [
       "False"
      ]
     },
     "execution_count": 22,
     "metadata": {},
     "output_type": "execute_result"
    }
   ],
   "source": [
    "s[6].isdigit()"
   ]
  },
  {
   "cell_type": "code",
   "execution_count": 23,
   "id": "0b7fd037-84b1-469c-a119-a556155f2538",
   "metadata": {},
   "outputs": [
    {
     "data": {
      "text/plain": [
       "False"
      ]
     },
     "execution_count": 23,
     "metadata": {},
     "output_type": "execute_result"
    }
   ],
   "source": [
    "s[7].isdigit()"
   ]
  },
  {
   "cell_type": "code",
   "execution_count": 24,
   "id": "045d75c2-c65c-42e6-ae84-eb60a72dad23",
   "metadata": {},
   "outputs": [
    {
     "data": {
      "text/plain": [
       "False"
      ]
     },
     "execution_count": 24,
     "metadata": {},
     "output_type": "execute_result"
    }
   ],
   "source": [
    "s[8].isdigit()"
   ]
  },
  {
   "cell_type": "code",
   "execution_count": 25,
   "id": "6165752c-05a0-49ee-ab94-1e94d4e07a67",
   "metadata": {},
   "outputs": [
    {
     "ename": "IndexError",
     "evalue": "string index out of range",
     "output_type": "error",
     "traceback": [
      "\u001b[0;31m---------------------------------------------------------------------------\u001b[0m",
      "\u001b[0;31mIndexError\u001b[0m                                Traceback (most recent call last)",
      "Cell \u001b[0;32mIn[25], line 1\u001b[0m\n\u001b[0;32m----> 1\u001b[0m s[\u001b[38;5;241m9\u001b[39m]\u001b[38;5;241m.\u001b[39misdigit()\n",
      "\u001b[0;31mIndexError\u001b[0m: string index out of range"
     ]
    }
   ],
   "source": [
    "s[9].isdigit()"
   ]
  },
  {
   "cell_type": "code",
   "execution_count": 39,
   "id": "d1800faa-2152-478b-900f-15296b1854ad",
   "metadata": {},
   "outputs": [
    {
     "name": "stdout",
     "output_type": "stream",
     "text": [
      "1\n"
     ]
    },
    {
     "name": "stdin",
     "output_type": "stream",
     "text": [
      " \n"
     ]
    },
    {
     "name": "stdout",
     "output_type": "stream",
     "text": [
      "2\n"
     ]
    },
    {
     "name": "stdin",
     "output_type": "stream",
     "text": [
      " \n"
     ]
    },
    {
     "name": "stdout",
     "output_type": "stream",
     "text": [
      "3\n"
     ]
    },
    {
     "name": "stdin",
     "output_type": "stream",
     "text": [
      " \n"
     ]
    },
    {
     "name": "stdout",
     "output_type": "stream",
     "text": [
      "4\n"
     ]
    },
    {
     "name": "stdin",
     "output_type": "stream",
     "text": [
      " \n"
     ]
    },
    {
     "name": "stdout",
     "output_type": "stream",
     "text": [
      "5\n"
     ]
    },
    {
     "name": "stdin",
     "output_type": "stream",
     "text": [
      " \n"
     ]
    },
    {
     "name": "stdout",
     "output_type": "stream",
     "text": [
      "6\n"
     ]
    },
    {
     "name": "stdin",
     "output_type": "stream",
     "text": [
      " \n"
     ]
    },
    {
     "name": "stdout",
     "output_type": "stream",
     "text": [
      "7\n"
     ]
    },
    {
     "name": "stdin",
     "output_type": "stream",
     "text": [
      " \n"
     ]
    },
    {
     "name": "stdout",
     "output_type": "stream",
     "text": [
      "8\n"
     ]
    },
    {
     "name": "stdin",
     "output_type": "stream",
     "text": [
      " \n"
     ]
    },
    {
     "name": "stdout",
     "output_type": "stream",
     "text": [
      "9\n"
     ]
    },
    {
     "name": "stdin",
     "output_type": "stream",
     "text": [
      " \n"
     ]
    },
    {
     "name": "stdout",
     "output_type": "stream",
     "text": [
      "10\n"
     ]
    },
    {
     "name": "stdin",
     "output_type": "stream",
     "text": [
      " \n"
     ]
    }
   ],
   "source": [
    "v = range(1, 11)\n",
    "\n",
    "for var in v:\n",
    "    print(var)\n",
    "    input()\n",
    "    "
   ]
  },
  {
   "cell_type": "markdown",
   "id": "41a159f5-8df9-4649-950c-0281afa5491e",
   "metadata": {},
   "source": [
    "`range(10)` - 0 1 2 3 4 5 6 7 8 9 "
   ]
  },
  {
   "cell_type": "code",
   "execution_count": 41,
   "id": "c44b1dd0-c6f0-4d0a-ab4a-ffbea5da58ad",
   "metadata": {},
   "outputs": [
    {
     "name": "stdout",
     "output_type": "stream",
     "text": [
      "0 1 2 3 4 5 6 7 8 9\n"
     ]
    }
   ],
   "source": [
    "print(*range(10))"
   ]
  },
  {
   "cell_type": "code",
   "execution_count": 42,
   "id": "05d9d511-74a6-4114-a0e9-49eb82a95486",
   "metadata": {},
   "outputs": [
    {
     "name": "stdout",
     "output_type": "stream",
     "text": [
      "0 1 2 3 4\n"
     ]
    }
   ],
   "source": [
    "print(*range(5))"
   ]
  },
  {
   "cell_type": "markdown",
   "id": "233210b2-cca6-4900-9536-c4bc94673856",
   "metadata": {},
   "source": [
    "`range(1, 10)` - 1 2 3 4 5 6 7 8 9 "
   ]
  },
  {
   "cell_type": "code",
   "execution_count": 43,
   "id": "bf217036-634c-4d40-b787-294064004e49",
   "metadata": {},
   "outputs": [
    {
     "name": "stdout",
     "output_type": "stream",
     "text": [
      "1 2 3 4 5 6 7 8 9\n"
     ]
    }
   ],
   "source": [
    "print(*range(1, 10))"
   ]
  },
  {
   "cell_type": "code",
   "execution_count": 44,
   "id": "3ad6da7c-1495-4ade-8c98-874987c678a3",
   "metadata": {},
   "outputs": [
    {
     "name": "stdout",
     "output_type": "stream",
     "text": [
      "10 11 12 13 14 15 16 17 18 19 20\n"
     ]
    }
   ],
   "source": [
    "print(*range(10, 21))"
   ]
  },
  {
   "cell_type": "markdown",
   "id": "4a1c76f9-000a-44d2-8ff9-34bc0d795766",
   "metadata": {},
   "source": [
    "`range(1, 11, 2)` - 1 3 5 7 9"
   ]
  },
  {
   "cell_type": "code",
   "execution_count": 45,
   "id": "29385c16-1cca-4c6c-8919-805258e6b365",
   "metadata": {},
   "outputs": [
    {
     "name": "stdout",
     "output_type": "stream",
     "text": [
      "1 3 5 7 9\n"
     ]
    }
   ],
   "source": [
    "print(*range(1, 11, 2))"
   ]
  },
  {
   "cell_type": "code",
   "execution_count": 48,
   "id": "59b1dfbb-4b85-40d4-9911-fe62e6c55ec0",
   "metadata": {},
   "outputs": [
    {
     "name": "stdin",
     "output_type": "stream",
     "text": [
      "Enter number:  13\n"
     ]
    },
    {
     "name": "stdout",
     "output_type": "stream",
     "text": [
      "13\n",
      "26\n",
      "39\n",
      "52\n",
      "65\n",
      "78\n",
      "91\n",
      "104\n",
      "117\n",
      "130\n"
     ]
    }
   ],
   "source": [
    "num = int(input(\"Enter number: \"))\n",
    "#print(*range(5, 51, 5)\n",
    "print(*range(num, num*10+1, num), sep=\"\\n\")"
   ]
  },
  {
   "cell_type": "code",
   "execution_count": 49,
   "id": "0e477f7c-cd67-42d3-9392-754ea8f9d2b5",
   "metadata": {},
   "outputs": [
    {
     "name": "stdout",
     "output_type": "stream",
     "text": [
      "\n"
     ]
    }
   ],
   "source": [
    "print(*range(10, 1, 2))"
   ]
  },
  {
   "cell_type": "code",
   "execution_count": 50,
   "id": "c01773c9-0c5c-4eb8-91dd-a8061a86e31e",
   "metadata": {},
   "outputs": [
    {
     "name": "stdout",
     "output_type": "stream",
     "text": [
      "10 8 6 4 2\n"
     ]
    }
   ],
   "source": [
    "print(*range(10, 1, -2))"
   ]
  },
  {
   "cell_type": "code",
   "execution_count": 51,
   "id": "bd6cb291-c8c6-4393-bb24-2487d75b19bc",
   "metadata": {},
   "outputs": [],
   "source": [
    "s = \"ABC123!@#\""
   ]
  },
  {
   "cell_type": "markdown",
   "id": "4f612b20-7baa-4cc4-9bbd-df65c00dd9d2",
   "metadata": {},
   "source": [
    "`Sequential Programming`\n",
    "\n",
    "    print(\"hello\")\n",
    "    name = input(\"enter name: \")\n",
    "    print(\"Welome user\", name, \"to python world\")\n",
    "    x = 10\n",
    "    y = 20\n",
    "    print(x + y)\n",
    "\n",
    "    "
   ]
  },
  {
   "cell_type": "markdown",
   "id": "676af6ec-1036-4c2d-9ff8-ef7da378d0ee",
   "metadata": {},
   "source": [
    "Selection Statement \n",
    "\n",
    "    Decision Statement\n",
    "\n",
    "\n",
    "    Pseudo Code ? Ruff code \n",
    "\n",
    "        should not depend on language\n",
    "\n",
    "    condition -> any statement which returns True or False \n",
    "\n",
    "    indendation -> space before a statement, you should use 4 white space (TAB)\n",
    "\n",
    "    st-1            st1;\n",
    "    st-2            st2;\n",
    "    st-3            st3;\n",
    "    IF cond         IF (COND){\n",
    "        st-4        st4;\n",
    "        st-5        st5;}\n",
    "    ELSE            ELSE{\n",
    "        st-6        st6;\n",
    "        st-7        st7;}\n",
    "    st-8            st8;\n",
    "    st-9            st9;"
   ]
  },
  {
   "cell_type": "code",
   "execution_count": 59,
   "id": "9c1f1c47-8558-4621-aa8d-7e40eb52df2a",
   "metadata": {},
   "outputs": [
    {
     "name": "stdout",
     "output_type": "stream",
     "text": [
      "START\n",
      "hello\n",
      "run this if cond is false\n",
      "part of ELSE\n",
      "world!\n",
      "END\n"
     ]
    }
   ],
   "source": [
    "print(\"START\")\n",
    "print(\"hello\")\n",
    "if False:\n",
    "    print(\"run this if cond is true\")\n",
    "    print(\"I am part of IF\")\n",
    "else:\n",
    "    print(\"run this if cond is false\")\n",
    "    print(\"part of ELSE\")\n",
    "print(\"world!\")\n",
    "print(\"END\")"
   ]
  },
  {
   "cell_type": "code",
   "execution_count": 65,
   "id": "f9f96e24-2450-47fc-8f69-ec2d35cde72f",
   "metadata": {},
   "outputs": [
    {
     "name": "stdin",
     "output_type": "stream",
     "text": [
      " ········\n"
     ]
    },
    {
     "data": {
      "text/plain": [
       "'df'"
      ]
     },
     "execution_count": 65,
     "metadata": {},
     "output_type": "execute_result"
    }
   ],
   "source": [
    "from getpass import getpass\n",
    "getpass()"
   ]
  },
  {
   "cell_type": "code",
   "execution_count": 60,
   "id": "1ce9f946-a0e6-4160-a7eb-32e5051d80cb",
   "metadata": {},
   "outputs": [],
   "source": [
    "data = {\n",
    "    \"sachin\": {\"password\": \"qwerty\", \"city\": \"jaipur\", \"country\": \"india\"},\n",
    "    \"rajat\": {\"password\": \"xyzpq\", \"city\": \"ganganagar\", \"country\": \"india\"}\n",
    "}"
   ]
  },
  {
   "cell_type": "code",
   "execution_count": 70,
   "id": "eb7160ed-3ede-44cd-8f1a-fe5195d95920",
   "metadata": {},
   "outputs": [
    {
     "name": "stdin",
     "output_type": "stream",
     "text": [
      "password :  ········\n"
     ]
    }
   ],
   "source": [
    "from getpass import getpass\n",
    "password = getpass(\"password : \")"
   ]
  },
  {
   "cell_type": "code",
   "execution_count": 75,
   "id": "dfb8f54b-c975-4725-825b-ad3b0a6f2971",
   "metadata": {},
   "outputs": [
    {
     "name": "stdin",
     "output_type": "stream",
     "text": [
      "password:  ········\n"
     ]
    },
    {
     "data": {
      "text/plain": [
       "'reddat'"
      ]
     },
     "execution_count": 75,
     "metadata": {},
     "output_type": "execute_result"
    }
   ],
   "source": [
    "getpass.getpass(\"password: \")"
   ]
  },
  {
   "cell_type": "code",
   "execution_count": 76,
   "id": "a8391db3-6ac1-428b-a483-2448a6ede387",
   "metadata": {},
   "outputs": [
    {
     "name": "stdin",
     "output_type": "stream",
     "text": [
      "Enter your username:  sachin\n",
      "Enter your password:  ········\n"
     ]
    }
   ],
   "source": [
    "username = input(\"Enter your username: \").strip().lower()\n",
    "password = getpass.getpass(\"Enter your password: \")"
   ]
  },
  {
   "cell_type": "code",
   "execution_count": null,
   "id": "65490781-0ac5-4643-b4e2-aee7e435bf4d",
   "metadata": {},
   "outputs": [],
   "source": []
  },
  {
   "cell_type": "code",
   "execution_count": 56,
   "id": "41f511fa-b63a-4ff2-977f-f3868bfe9643",
   "metadata": {},
   "outputs": [
    {
     "name": "stdout",
     "output_type": "stream",
     "text": [
      "0 A False\n",
      "1 B False\n",
      "2 C False\n",
      "3 1 True\n",
      "4 2 True\n",
      "5 3 True\n",
      "6 ! False\n",
      "7 @ False\n",
      "8 # False\n"
     ]
    }
   ],
   "source": [
    "ans = 0\n",
    "#         2 3 4 .. 8\n",
    "for i in range(len(s)):\n",
    "    if s[i].isdigit()\n",
    "    # i = 2\n",
    "    print(i, s[i], s[i].isdigit())\n",
    "    #     2, C"
   ]
  },
  {
   "cell_type": "code",
   "execution_count": 77,
   "id": "fbc92ea6-7bdd-4ace-8410-1a8312653e1b",
   "metadata": {},
   "outputs": [],
   "source": [
    "d = { 'a': 1, 'b': 2 }"
   ]
  },
  {
   "cell_type": "code",
   "execution_count": 78,
   "id": "85059033-f216-4405-ba6a-00d956d5a890",
   "metadata": {},
   "outputs": [
    {
     "data": {
      "text/plain": [
       "True"
      ]
     },
     "execution_count": 78,
     "metadata": {},
     "output_type": "execute_result"
    }
   ],
   "source": [
    "'a' in d  # default operation are based on keys"
   ]
  },
  {
   "cell_type": "code",
   "execution_count": 79,
   "id": "4a12e944-45b0-4f11-abca-4376554e41d3",
   "metadata": {},
   "outputs": [
    {
     "data": {
      "text/plain": [
       "True"
      ]
     },
     "execution_count": 79,
     "metadata": {},
     "output_type": "execute_result"
    }
   ],
   "source": [
    "'a' in d.keys()"
   ]
  },
  {
   "cell_type": "code",
   "execution_count": 81,
   "id": "d1ab29ed-b986-49b6-b4b7-f9c43f995c22",
   "metadata": {},
   "outputs": [
    {
     "data": {
      "text/plain": [
       "True"
      ]
     },
     "execution_count": 81,
     "metadata": {},
     "output_type": "execute_result"
    }
   ],
   "source": [
    "'sachin' in data"
   ]
  },
  {
   "cell_type": "code",
   "execution_count": 88,
   "id": "9743afcd-5304-43fa-9300-2727176fc77d",
   "metadata": {},
   "outputs": [
    {
     "data": {
      "text/plain": [
       "'qwerty'"
      ]
     },
     "execution_count": 88,
     "metadata": {},
     "output_type": "execute_result"
    }
   ],
   "source": [
    "username = \"sachin\"\n",
    "data[username].get(\"password\")"
   ]
  },
  {
   "cell_type": "code",
   "execution_count": 87,
   "id": "7316253e-5cdf-4e87-9f79-7b55d470a558",
   "metadata": {},
   "outputs": [
    {
     "data": {
      "text/plain": [
       "'qwerty'"
      ]
     },
     "execution_count": 87,
     "metadata": {},
     "output_type": "execute_result"
    }
   ],
   "source": [
    "username = \"sachin\"\n",
    "data[username][\"password\"]"
   ]
  },
  {
   "cell_type": "code",
   "execution_count": 89,
   "id": "6766e140-e30c-403b-b750-4864268daa65",
   "metadata": {},
   "outputs": [
    {
     "ename": "TypeError",
     "evalue": "'sachin' is an invalid keyword argument for print()",
     "output_type": "error",
     "traceback": [
      "\u001b[0;31m---------------------------------------------------------------------------\u001b[0m",
      "\u001b[0;31mTypeError\u001b[0m                                 Traceback (most recent call last)",
      "Cell \u001b[0;32mIn[89], line 1\u001b[0m\n\u001b[0;32m----> 1\u001b[0m \u001b[38;5;28mprint\u001b[39m(\u001b[38;5;241m*\u001b[39m\u001b[38;5;241m*\u001b[39mdata)\n",
      "\u001b[0;31mTypeError\u001b[0m: 'sachin' is an invalid keyword argument for print()"
     ]
    }
   ],
   "source": []
  },
  {
   "cell_type": "code",
   "execution_count": 93,
   "id": "ec04dc26-797f-4a90-aacb-9c70c7c22829",
   "metadata": {},
   "outputs": [
    {
     "name": "stdin",
     "output_type": "stream",
     "text": [
      "Enter your username:  rajat\n",
      "Enter your password:  ········\n"
     ]
    },
    {
     "name": "stdout",
     "output_type": "stream",
     "text": [
      "{'password': 'xyzpq', 'city': 'ganganagar', 'country': 'india'}\n"
     ]
    }
   ],
   "source": [
    "data = {\n",
    "    \"sachin\": {\"password\": \"qwerty\", \"city\": \"jaipur\", \"country\": \"india\"},\n",
    "    \"rajat\": {\"password\": \"xyzpq\", \"city\": \"ganganagar\", \"country\": \"india\"}\n",
    "}\n",
    "\n",
    "username = input(\"Enter your username: \").strip().lower()\n",
    "\n",
    "if username in data:\n",
    "    password = getpass.getpass(\"Enter your password: \")\n",
    "    if password == data[username][\"password\"]:\n",
    "        print(data[username])\n",
    "    else:\n",
    "        print(\"Incorrect Password! Try Again\")\n",
    "else:\n",
    "    print(\"No user found! please signup to create new account!\")"
   ]
  },
  {
   "cell_type": "markdown",
   "id": "2c1877f9-2172-41e4-96f3-d80d6167c1ee",
   "metadata": {},
   "source": [
    "## Selection \n",
    "\n",
    "    we can decide which block of code to execute on will (cond)"
   ]
  },
  {
   "cell_type": "markdown",
   "id": "8b65c80c-c6aa-4b25-b2f3-17e27c6d7dca",
   "metadata": {},
   "source": [
    "Idendation"
   ]
  },
  {
   "cell_type": "code",
   "execution_count": 95,
   "id": "b6b2a9cc-f3f9-4820-87f5-bf9bf63874aa",
   "metadata": {},
   "outputs": [
    {
     "ename": "IndentationError",
     "evalue": "unexpected indent (1382545831.py, line 2)",
     "output_type": "error",
     "traceback": [
      "\u001b[0;36m  Cell \u001b[0;32mIn[95], line 2\u001b[0;36m\u001b[0m\n\u001b[0;31m    print(\"welcome to python\")\u001b[0m\n\u001b[0m    ^\u001b[0m\n\u001b[0;31mIndentationError\u001b[0m\u001b[0;31m:\u001b[0m unexpected indent\n"
     ]
    }
   ],
   "source": [
    "print(\"hello world!\")\n",
    " print(\"welcome to python\")\n",
    "print(\"ha ha ha\")"
   ]
  },
  {
   "cell_type": "code",
   "execution_count": 96,
   "id": "4a383ce9-7f5b-474e-99cd-6b131a7f01c2",
   "metadata": {},
   "outputs": [
    {
     "name": "stdout",
     "output_type": "stream",
     "text": [
      "hello world!\n",
      "welcome to python\n",
      "ha ha ha\n"
     ]
    }
   ],
   "source": [
    "print(\"hello world!\")\n",
    "print(\"welcome to python\")\n",
    "print(\"ha ha ha\")"
   ]
  },
  {
   "cell_type": "code",
   "execution_count": 103,
   "id": "b5037a45-3075-4dfb-98a0-7055b15158cc",
   "metadata": {},
   "outputs": [
    {
     "name": "stdout",
     "output_type": "stream",
     "text": [
      "learning slowly slowly\n"
     ]
    }
   ],
   "source": [
    "if None:\n",
    "    print(\"ohh! I didn't see that\")\n",
    "else:\n",
    "    print(\"learning slowly slowly\")"
   ]
  },
  {
   "cell_type": "markdown",
   "id": "76e3534f-8ee1-4d90-98f1-af4ac33350a1",
   "metadata": {},
   "source": [
    "    hello world\n",
    "    learning slowly slowly"
   ]
  },
  {
   "cell_type": "code",
   "execution_count": 104,
   "id": "fe16b235-edc9-459d-854f-280a098c4550",
   "metadata": {},
   "outputs": [
    {
     "name": "stdout",
     "output_type": "stream",
     "text": [
      "hello world\n",
      "learning slowly slowly\n"
     ]
    }
   ],
   "source": [
    "if print(\"hello world\"):\n",
    "    print(\"ohh! I didn't see that\")\n",
    "else:\n",
    "    print(\"learning slowly slowly\")"
   ]
  },
  {
   "cell_type": "code",
   "execution_count": null,
   "id": "4835b578-9ec1-4099-88f2-56556743572f",
   "metadata": {},
   "outputs": [],
   "source": []
  },
  {
   "cell_type": "code",
   "execution_count": 102,
   "id": "f854d056-bf3d-4d01-ad50-f29c7f3a402c",
   "metadata": {},
   "outputs": [
    {
     "name": "stdout",
     "output_type": "stream",
     "text": [
      "hello\n",
      "hi\n",
      "raam raam\n"
     ]
    }
   ],
   "source": [
    "if 22/7:\n",
    "    print(\"hello\")\n",
    "    print('hi')\n",
    "    print(\"raam raam\")"
   ]
  },
  {
   "cell_type": "code",
   "execution_count": 101,
   "id": "733dfe09-7b7f-45c9-8631-db0402331756",
   "metadata": {},
   "outputs": [],
   "source": [
    "if 6-6*4+18:\n",
    "    print(\"hello\")\n",
    "    print('hi')\n",
    "    print(\"raam raam\")"
   ]
  },
  {
   "cell_type": "code",
   "execution_count": 109,
   "id": "975aaa13-6c84-4371-86ce-31ced619dc4d",
   "metadata": {},
   "outputs": [
    {
     "ename": "IndentationError",
     "evalue": "unindent does not match any outer indentation level (<string>, line 4)",
     "output_type": "error",
     "traceback": [
      "\u001b[0;36m  File \u001b[0;32m<string>:4\u001b[0;36m\u001b[0m\n\u001b[0;31m    print(\"bye\")\u001b[0m\n\u001b[0m                 ^\u001b[0m\n\u001b[0;31mIndentationError\u001b[0m\u001b[0;31m:\u001b[0m unindent does not match any outer indentation level\n"
     ]
    }
   ],
   "source": [
    "if True:\n",
    "    print('hello')\n",
    "    if False:\n",
    "     print(\"bye\") \n",
    "    else:\n",
    "     print(\"good bye\")\n",
    "else:\n",
    "   print(\"awesome\")"
   ]
  },
  {
   "cell_type": "code",
   "execution_count": 111,
   "id": "6ff91ca3-c30a-4529-8dfb-11115e7d262c",
   "metadata": {},
   "outputs": [
    {
     "ename": "IndentationError",
     "evalue": "unindent does not match any outer indentation level (<string>, line 3)",
     "output_type": "error",
     "traceback": [
      "\u001b[0;36m  File \u001b[0;32m<string>:3\u001b[0;36m\u001b[0m\n\u001b[0;31m    print(\"This is a block of code defined by indendation\")\u001b[0m\n\u001b[0m                                                           ^\u001b[0m\n\u001b[0;31mIndentationError\u001b[0m\u001b[0;31m:\u001b[0m unindent does not match any outer indentation level\n"
     ]
    }
   ],
   "source": [
    "\n",
    "if True:\n",
    "    print(\"Hello World!\")\n",
    "   print(\"This is a block of code defined by indendation\")\n",
    "\n",
    "print(\"END\")"
   ]
  },
  {
   "cell_type": "code",
   "execution_count": 112,
   "id": "af680b55-10cf-448a-94ad-b624d3ce41e6",
   "metadata": {},
   "outputs": [
    {
     "name": "stdout",
     "output_type": "stream",
     "text": [
      "Hello World!\n",
      "This is a block of code defined by indendation\n",
      "END\n"
     ]
    }
   ],
   "source": [
    "\n",
    "if True:\n",
    "    print(\"Hello World!\")\n",
    "    print(\"This is a block of code defined by indendation\")\n",
    "\n",
    "print(\"END\")"
   ]
  },
  {
   "cell_type": "markdown",
   "id": "9dafc333-2ab1-467e-aab8-f82c3f49b594",
   "metadata": {},
   "source": [
    "    if - else   if cond is true run if block else run else-block "
   ]
  },
  {
   "cell_type": "markdown",
   "id": "5c9cb4db-561f-45bb-88f7-32a973302346",
   "metadata": {},
   "source": [
    "    if elif else"
   ]
  },
  {
   "cell_type": "raw",
   "id": "5b13ab56-8138-4ef9-8728-6bc0a18b29ba",
   "metadata": {},
   "source": [
    "if cond1:\n",
    "    st-1\n",
    "    st-2\n",
    "elif cond2:\n",
    "    st-3\n",
    "    st-4\n",
    "elif cond3:\n",
    "    st-x\n",
    "    st-y\n",
    "else:\n",
    "    st-5\n",
    "    st-6"
   ]
  },
  {
   "cell_type": "code",
   "execution_count": 113,
   "id": "50d3afd1-86c5-4757-9c2b-af95a8fbe0d0",
   "metadata": {},
   "outputs": [
    {
     "name": "stdout",
     "output_type": "stream",
     "text": [
      "only this will run\n"
     ]
    }
   ],
   "source": [
    "if True:\n",
    "    print(\"only this will run\")\n",
    "elif True:\n",
    "    print(\"will I run\")\n",
    "elif True:\n",
    "    print(\"should I run ?\")\n",
    "else:\n",
    "    print(\"if nothing runs I am here to save you\")"
   ]
  },
  {
   "cell_type": "code",
   "execution_count": 114,
   "id": "02c35567-d05e-409a-8e9d-73d18d2c9dd2",
   "metadata": {},
   "outputs": [
    {
     "name": "stdout",
     "output_type": "stream",
     "text": [
      "will I run\n"
     ]
    }
   ],
   "source": [
    "if False:\n",
    "    print(\"only this will run\")\n",
    "elif True:\n",
    "    print(\"will I run\")\n",
    "elif True:\n",
    "    print(\"should I run ?\")\n",
    "else:\n",
    "    print(\"if nothing runs I am here to save you\")"
   ]
  },
  {
   "cell_type": "code",
   "execution_count": 115,
   "id": "6db95c83-3f6a-43b2-8970-b6ef7d8a180e",
   "metadata": {},
   "outputs": [
    {
     "name": "stdout",
     "output_type": "stream",
     "text": [
      "should I run ?\n"
     ]
    }
   ],
   "source": [
    "if False:\n",
    "    print(\"only this will run\")\n",
    "elif False:\n",
    "    print(\"will I run\")\n",
    "elif True:\n",
    "    print(\"should I run ?\")\n",
    "else:\n",
    "    print(\"if nothing runs I am here to save you\")"
   ]
  },
  {
   "cell_type": "code",
   "execution_count": 116,
   "id": "8ce4246a-8a42-47f5-8e43-f796612d05c4",
   "metadata": {},
   "outputs": [
    {
     "name": "stdout",
     "output_type": "stream",
     "text": [
      "if nothing runs I am here to save you\n"
     ]
    }
   ],
   "source": [
    "if False:\n",
    "    print(\"only this will run\")\n",
    "elif False:\n",
    "    print(\"will I run\")\n",
    "elif False:\n",
    "    print(\"should I run ?\")\n",
    "else:\n",
    "    print(\"if nothing runs I am here to save you\")"
   ]
  },
  {
   "cell_type": "code",
   "execution_count": 119,
   "id": "51a4ddfc-1bcc-42cb-96b9-b869ee2b93c5",
   "metadata": {},
   "outputs": [
    {
     "name": "stdout",
     "output_type": "stream",
     "text": [
      "There are 3 digits in string ABC123!@#\n"
     ]
    }
   ],
   "source": [
    "s = \"ABC123!@#\"\n",
    "\n",
    "count = 0\n",
    "for i in range(len(s)):\n",
    "    if s[i].isdigit():\n",
    "        count += 1\n",
    "\n",
    "print(f\"There are {count} digits in string {s}\")"
   ]
  },
  {
   "cell_type": "code",
   "execution_count": null,
   "id": "6a4015b9-1258-4848-84e0-08bef7bcd646",
   "metadata": {},
   "outputs": [],
   "source": []
  }
 ],
 "metadata": {
  "kernelspec": {
   "display_name": "Python [conda env:base] *",
   "language": "python",
   "name": "conda-base-py"
  },
  "language_info": {
   "codemirror_mode": {
    "name": "ipython",
    "version": 3
   },
   "file_extension": ".py",
   "mimetype": "text/x-python",
   "name": "python",
   "nbconvert_exporter": "python",
   "pygments_lexer": "ipython3",
   "version": "3.12.7"
  }
 },
 "nbformat": 4,
 "nbformat_minor": 5
}
