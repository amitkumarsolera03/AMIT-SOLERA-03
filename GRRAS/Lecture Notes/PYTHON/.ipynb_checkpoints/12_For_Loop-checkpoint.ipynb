{
 "cells": [
  {
   "cell_type": "markdown",
   "id": "9326c1a6-ef71-4260-8634-856f2af73354",
   "metadata": {},
   "source": [
    "## Guess Game "
   ]
  },
  {
   "cell_type": "markdown",
   "id": "242c8341-a830-49d9-a5fa-b9ae5cd483b6",
   "metadata": {},
   "source": [
    "## Any doubt ? "
   ]
  },
  {
   "cell_type": "markdown",
   "id": "1a489559-1572-4a80-bab8-7a053513d943",
   "metadata": {},
   "source": [
    "# For Loop\n",
    "\n",
    "    for loop is used to iterate each item from collection type object [str, list, tuple, dict, set, frozenset]"
   ]
  },
  {
   "cell_type": "code",
   "execution_count": 1,
   "id": "75fbdbf7-1ef3-48b0-8245-41db96779534",
   "metadata": {},
   "outputs": [],
   "source": [
    "uses = [\n",
    "    \"scripting\", \"web development\", \"desktop/mobile application\",\n",
    "    \"data science\", \"ML\", \"DL\", \"Gen/AI\", \n",
    "    \"automation testing\", \"hacking\"\n",
    "]"
   ]
  },
  {
   "cell_type": "code",
   "execution_count": 6,
   "id": "750d3ce7-c4e3-49fc-8362-8069392bcdca",
   "metadata": {},
   "outputs": [
    {
     "name": "stdout",
     "output_type": "stream",
     "text": [
      "Pyhton can be used as scripting language.\n",
      "Pyhton can be used as web development language.\n",
      "Pyhton can be used as desktop/mobile application language.\n",
      "Pyhton can be used as data science language.\n",
      "Pyhton can be used as ML language.\n",
      "Pyhton can be used as DL language.\n",
      "Pyhton can be used as Gen/AI language.\n",
      "Pyhton can be used as automation testing language.\n",
      "Pyhton can be used as hacking language.\n"
     ]
    }
   ],
   "source": [
    "# we can iterate a list using while\n",
    "i = 0\n",
    "while i < len(uses):\n",
    "    print(f\"Pyhton can be used as {uses[i]} language.\")\n",
    "    i += 1"
   ]
  },
  {
   "cell_type": "code",
   "execution_count": 10,
   "id": "0a9f96af-970f-4ddb-a858-230afcaf413f",
   "metadata": {},
   "outputs": [
    {
     "name": "stdout",
     "output_type": "stream",
     "text": [
      "hello\n",
      "hi\n",
      "bye\n"
     ]
    }
   ],
   "source": [
    "t = ('hello', 'hi', 'bye')\n",
    "\n",
    "i = 0 # initialize loop variable\n",
    "while i < len(t): # loop condition \n",
    "    print(t[i]) # body\n",
    "    i += 1 # increment / decrement loop variable"
   ]
  },
  {
   "cell_type": "code",
   "execution_count": 8,
   "id": "8995211a-42b4-421e-a47b-ed4377a5498c",
   "metadata": {},
   "outputs": [
    {
     "name": "stdout",
     "output_type": "stream",
     "text": [
      "h e l l o   w o r l d ! "
     ]
    }
   ],
   "source": [
    "s = \"hello world!\"\n",
    "\n",
    "i = 0\n",
    "while i < len(s):\n",
    "    print(s[i], end=\" \")\n",
    "    i += 1"
   ]
  },
  {
   "cell_type": "markdown",
   "id": "f50bd962-3332-43d4-88b8-ed7d6b11d986",
   "metadata": {},
   "source": [
    "    dict.get(key) -> value\n",
    "    dict[key] -> value"
   ]
  },
  {
   "cell_type": "code",
   "execution_count": 11,
   "id": "fe53066e-2107-4d16-b56d-19c3cbb4dbca",
   "metadata": {},
   "outputs": [
    {
     "name": "stdout",
     "output_type": "stream",
     "text": [
      "1\n",
      "2\n",
      "3\n",
      "hello\n",
      "hi\n"
     ]
    }
   ],
   "source": [
    "s = { 1, 2, 3, 'hi', 'hello' }\n",
    "# unordered data types \n",
    "tp = list(s)\n",
    "i = 0\n",
    "while i<len(tp):\n",
    "    print(tp[i])\n",
    "    i += 1"
   ]
  },
  {
   "cell_type": "code",
   "execution_count": 12,
   "id": "39bb3b33-f7d2-464a-8104-4d5a771d0e84",
   "metadata": {},
   "outputs": [],
   "source": [
    "d = {\n",
    "    'name': 'sachin',\n",
    "    'class': 'cs-A',\n",
    "    'course': 'b.tech',\n",
    "    'roll no': 1234\n",
    "}"
   ]
  },
  {
   "cell_type": "code",
   "execution_count": 13,
   "id": "237daaf6-7adc-4d53-b080-6baddddbcb18",
   "metadata": {},
   "outputs": [
    {
     "name": "stdout",
     "output_type": "stream",
     "text": [
      "{'name': 'sachin', 'class': 'cs-A', 'course': 'b.tech', 'roll no': 1234}\n"
     ]
    }
   ],
   "source": [
    "print(d)"
   ]
  },
  {
   "cell_type": "code",
   "execution_count": 18,
   "id": "1e7bc766-4a86-44da-b5a1-989b0a46374c",
   "metadata": {},
   "outputs": [],
   "source": [
    "def iterate(seq):\n",
    "    \"\"\"\n",
    "        will print each item from given seq\n",
    "    \"\"\"\n",
    "    i = 0\n",
    "    while i < len(seq):\n",
    "        print(seq[i])\n",
    "        i += 1"
   ]
  },
  {
   "cell_type": "code",
   "execution_count": 22,
   "id": "ac11c59d-27c1-4821-bd1e-e8aafbf56071",
   "metadata": {},
   "outputs": [
    {
     "name": "stdout",
     "output_type": "stream",
     "text": [
      "|                name = sachin              |\n",
      "|               class = cs-A                |\n",
      "|              course = b.tech              |\n",
      "|             roll no = 1234                |\n"
     ]
    }
   ],
   "source": [
    "keys = list(d.keys())\n",
    "\n",
    "i = 0\n",
    "while i < len(keys):\n",
    "    key = keys[i]\n",
    "    print(f\"|{key:>20} = {d[key]:<20}|\")\n",
    "    i += 1"
   ]
  },
  {
   "cell_type": "code",
   "execution_count": 17,
   "id": "143337db-75ef-4fe8-97e7-8f1cfbfa4d3d",
   "metadata": {},
   "outputs": [
    {
     "data": {
      "text/plain": [
       "'name'"
      ]
     },
     "execution_count": 17,
     "metadata": {},
     "output_type": "execute_result"
    }
   ],
   "source": [
    "keys[0]"
   ]
  },
  {
   "cell_type": "code",
   "execution_count": 19,
   "id": "61cc2f3e-e12a-4acc-8037-44918441f8da",
   "metadata": {},
   "outputs": [
    {
     "name": "stdout",
     "output_type": "stream",
     "text": [
      "name\n",
      "class\n",
      "course\n",
      "roll no\n"
     ]
    }
   ],
   "source": [
    "iterate(keys)"
   ]
  },
  {
   "cell_type": "code",
   "execution_count": 20,
   "id": "28cc73fa-41c3-4627-98df-a57e14a1a647",
   "metadata": {},
   "outputs": [
    {
     "name": "stdout",
     "output_type": "stream",
     "text": [
      "h\n",
      "e\n",
      "l\n",
      "l\n",
      "o\n",
      " \n",
      "w\n",
      "o\n",
      "r\n",
      "l\n",
      "d\n"
     ]
    }
   ],
   "source": [
    "iterate('hello world')"
   ]
  },
  {
   "cell_type": "code",
   "execution_count": 21,
   "id": "82b0f5ef-c790-46e0-9e45-a7ecd5d404df",
   "metadata": {},
   "outputs": [
    {
     "name": "stdout",
     "output_type": "stream",
     "text": [
      "1\n",
      "2\n",
      "3\n",
      "4\n"
     ]
    }
   ],
   "source": [
    "iterate([1, 2, 3, 4])"
   ]
  },
  {
   "cell_type": "markdown",
   "id": "267c3d45-6559-4aad-9e60-82dcd5672092",
   "metadata": {},
   "source": [
    "## For is used for iterations "
   ]
  },
  {
   "cell_type": "markdown",
   "id": "c12cda8d-3943-43f3-9f53-033800d7cf67",
   "metadata": {},
   "source": [
    "    for item in collection:\n",
    "        body"
   ]
  },
  {
   "cell_type": "code",
   "execution_count": 23,
   "id": "ef03f5e9-5db5-4731-9f13-bc1e8d6e1000",
   "metadata": {},
   "outputs": [
    {
     "name": "stdout",
     "output_type": "stream",
     "text": [
      "h e l l o   w o r l d ! "
     ]
    }
   ],
   "source": [
    "s = \"hello world!\"\n",
    "for ch in s: # \"hello world!\", ch = 'e'\n",
    "    print(ch, end=\" \") # h e ..."
   ]
  },
  {
   "cell_type": "markdown",
   "id": "f600ab2c-f2f8-4a12-b0b3-f211195c9a86",
   "metadata": {},
   "source": [
    "count no of vowels in a string ?"
   ]
  },
  {
   "cell_type": "code",
   "execution_count": 24,
   "id": "3d457fab-22e8-4d6a-bf9e-54197878e1aa",
   "metadata": {},
   "outputs": [
    {
     "name": "stdin",
     "output_type": "stream",
     "text": [
      "Enter string:  python is awesome\n"
     ]
    },
    {
     "name": "stdout",
     "output_type": "stream",
     "text": [
      "python is awesome contains 6 vowels.\n"
     ]
    }
   ],
   "source": [
    "vow = [ 'a', 'e', 'i', 'o', 'u']\n",
    "count = 0 \n",
    "string = input(\"Enter string: \").strip().lower()\n",
    "# string = \"python is awesome\"\n",
    "\n",
    "for ch in string:\n",
    "    if ch in vow:\n",
    "        count += 1\n",
    "else:\n",
    "    # if loop does not exit with break \n",
    "    print(f\"{string} contains {count} vowels.\")"
   ]
  },
  {
   "cell_type": "code",
   "execution_count": 25,
   "id": "c66977f5-9260-4aa8-bab2-da402787494b",
   "metadata": {},
   "outputs": [
    {
     "name": "stdout",
     "output_type": "stream",
     "text": [
      "h e l l o "
     ]
    }
   ],
   "source": [
    "st = \"hello\"\n",
    "# \"h\", \"e\", \"l\", \"l\", \"o\"\n",
    "#  0    1    2    3    4\n",
    "for x in st: # stop iteration \n",
    "    # x = \"o\"\n",
    "    print(x, end=\" \")\n",
    "\n",
    "# h e l l o"
   ]
  },
  {
   "cell_type": "code",
   "execution_count": 26,
   "id": "4a544ff4-71a5-4242-8ecb-9fc6558fa6d1",
   "metadata": {},
   "outputs": [
    {
     "name": "stdout",
     "output_type": "stream",
     "text": [
      "JAVA\n",
      "C\n",
      "C++\n",
      "RUBY\n",
      "PERL\n",
      "this is called iteration\n"
     ]
    }
   ],
   "source": [
    "lang = [ \"java\", \"c\", \"c++\", \"ruby\", \"perl\" ]\n",
    "#           0     1      2      3       4\n",
    "\n",
    "for var in lang: # var = \"perl\"\n",
    "    print(var.upper()) # JAVA C C++ RUBY PERL\n",
    "\n",
    "print(\"this is called iteration\")"
   ]
  },
  {
   "cell_type": "code",
   "execution_count": 27,
   "id": "5081d8fb-b6e7-4b86-ab6c-27597bd79a52",
   "metadata": {},
   "outputs": [
    {
     "name": "stdout",
     "output_type": "stream",
     "text": [
      "JAVA C C++ RUBY PERL \n",
      "this is called iteration\n"
     ]
    }
   ],
   "source": [
    "lang = [ \"java\", \"c\", \"c++\", \"ruby\", \"perl\" ]\n",
    "#           0     1      2      3       4\n",
    "for var in lang: # var = \"perl\"\n",
    "    print(var.upper(), end=\" \") # JAVA C C++ RUBY PERL\n",
    "\n",
    "print(\"\\nthis is called iteration\")"
   ]
  },
  {
   "cell_type": "markdown",
   "id": "91fb58f7-2e54-4225-bfad-94227d5dc479",
   "metadata": {},
   "source": [
    "    item  in  seq ? "
   ]
  },
  {
   "cell_type": "code",
   "execution_count": 28,
   "id": "86bfc962-2de0-44ed-9de1-229058b5ad0b",
   "metadata": {},
   "outputs": [
    {
     "data": {
      "text/plain": [
       "['java', 'c', 'c++', 'ruby', 'perl']"
      ]
     },
     "execution_count": 28,
     "metadata": {},
     "output_type": "execute_result"
    }
   ],
   "source": [
    "lang"
   ]
  },
  {
   "cell_type": "code",
   "execution_count": 30,
   "id": "1ee22c97-dfdb-4a96-b071-bcb54f37560c",
   "metadata": {},
   "outputs": [
    {
     "name": "stdin",
     "output_type": "stream",
     "text": [
      "enter language:  c++\n"
     ]
    },
    {
     "name": "stdout",
     "output_type": "stream",
     "text": [
      "c++ exists in lang\n"
     ]
    }
   ],
   "source": [
    "lang = ['java', 'c', 'c++', 'ruby', 'perl']\n",
    "\n",
    "key = input(\"enter language: \").strip().lower()\n",
    "for item in lang:\n",
    "    if item == key:\n",
    "        print(f\"{key} exists in lang\")\n",
    "        break\n",
    "else:\n",
    "    print(f\"{key} does not exists in lang\")"
   ]
  },
  {
   "cell_type": "code",
   "execution_count": 31,
   "id": "7871feca-fac7-448d-af2f-a12f8292306e",
   "metadata": {},
   "outputs": [
    {
     "name": "stdin",
     "output_type": "stream",
     "text": [
      "enter language:  php\n"
     ]
    },
    {
     "name": "stdout",
     "output_type": "stream",
     "text": [
      "php does not exists in lang\n"
     ]
    }
   ],
   "source": [
    "lang = ['java', 'c', 'c++', 'ruby', 'perl']\n",
    "\n",
    "key = input(\"enter language: \").strip().lower()\n",
    "for item in lang:\n",
    "    if item == key:\n",
    "        print(f\"{key} exists in lang\")\n",
    "        break\n",
    "else:\n",
    "    print(f\"{key} does not exists in lang\")"
   ]
  },
  {
   "cell_type": "code",
   "execution_count": 32,
   "id": "24ea5602-bc8e-44ce-96d3-4e6761c9b440",
   "metadata": {},
   "outputs": [],
   "source": [
    "def is_in(seq, key):\n",
    "    flag = False\n",
    "    for item in seq:\n",
    "        if item == key:\n",
    "            flag = True\n",
    "            break\n",
    "    return flag"
   ]
  },
  {
   "cell_type": "code",
   "execution_count": 34,
   "id": "d7f55b59-c9f0-4994-92c1-adf2c9e91891",
   "metadata": {},
   "outputs": [
    {
     "data": {
      "text/plain": [
       "True"
      ]
     },
     "execution_count": 34,
     "metadata": {},
     "output_type": "execute_result"
    }
   ],
   "source": [
    "is_in(lang, 'java')"
   ]
  },
  {
   "cell_type": "code",
   "execution_count": 35,
   "id": "b9f4e5d9-3674-479f-a72a-2f9ba74213b8",
   "metadata": {},
   "outputs": [
    {
     "data": {
      "text/plain": [
       "True"
      ]
     },
     "execution_count": 35,
     "metadata": {},
     "output_type": "execute_result"
    }
   ],
   "source": [
    "is_in(lang, 'c++')"
   ]
  },
  {
   "cell_type": "code",
   "execution_count": 36,
   "id": "12e220bc-1216-405e-8b51-ecb12264373d",
   "metadata": {},
   "outputs": [
    {
     "data": {
      "text/plain": [
       "False"
      ]
     },
     "execution_count": 36,
     "metadata": {},
     "output_type": "execute_result"
    }
   ],
   "source": [
    "is_in(lang, 'php')"
   ]
  },
  {
   "cell_type": "code",
   "execution_count": 37,
   "id": "4ed73696-d6fc-45b6-8c0a-4acd46ab8575",
   "metadata": {},
   "outputs": [
    {
     "name": "stdout",
     "output_type": "stream",
     "text": [
      "h\n",
      "e\n",
      "l\n",
      "l\n",
      "o\n",
      " \n",
      "w\n",
      "o\n",
      "r\n",
      "l\n",
      "d\n"
     ]
    }
   ],
   "source": [
    "for ch in 'hello world':\n",
    "    print(ch)"
   ]
  },
  {
   "cell_type": "code",
   "execution_count": 38,
   "id": "d91dcd09-bf0f-48a7-b1b8-64f8406e893b",
   "metadata": {},
   "outputs": [
    {
     "name": "stdout",
     "output_type": "stream",
     "text": [
      "1\n",
      "2\n",
      "6\n",
      "8\n"
     ]
    }
   ],
   "source": [
    "for x in [1, 2, 6, 8]:\n",
    "    print(x)"
   ]
  },
  {
   "cell_type": "code",
   "execution_count": 39,
   "id": "3ec28e4f-58ac-40a6-9c7b-301b271ae3e2",
   "metadata": {},
   "outputs": [
    {
     "name": "stdout",
     "output_type": "stream",
     "text": [
      "55\n"
     ]
    }
   ],
   "source": [
    "sum_ = 0\n",
    "nums = [1, 2, 3, 4, 5, 6,7, 8, 9, 10]\n",
    "\n",
    "for n in nums:\n",
    "    sum_ = sum_ + n\n",
    "\n",
    "print(sum_)"
   ]
  },
  {
   "cell_type": "code",
   "execution_count": 40,
   "id": "ffe4721e-8c6c-42dc-9ab9-9caaeed152ca",
   "metadata": {},
   "outputs": [
    {
     "name": "stdout",
     "output_type": "stream",
     "text": [
      "java\n",
      "c\n",
      "c++\n"
     ]
    }
   ],
   "source": [
    "for t in ('java', 'c', 'c++'):\n",
    "    print(t)"
   ]
  },
  {
   "cell_type": "code",
   "execution_count": 43,
   "id": "d5aea304-f058-468f-929f-0b43840050dd",
   "metadata": {},
   "outputs": [
    {
     "name": "stdout",
     "output_type": "stream",
     "text": [
      "1\n",
      "2\n",
      "3\n",
      "hi\n",
      "hello\n",
      "4\n",
      "6.7\n"
     ]
    }
   ],
   "source": [
    "col = {'hi', 'hello', 1, 2, 3, 4, 6.7}\n",
    "\n",
    "for v in col:\n",
    "    print(v)"
   ]
  },
  {
   "cell_type": "code",
   "execution_count": 44,
   "id": "198ae30f-2608-43e5-bda1-d4d7a8db563b",
   "metadata": {},
   "outputs": [],
   "source": [
    "# dict \n",
    "\n",
    "data = {\n",
    "    'name': 'python',\n",
    "    'father': 'guido van rossum',\n",
    "    'build year': 1994,\n",
    "    'type': 'programming language'\n",
    "}\n",
    "# default we iteratre over keys in dictionary"
   ]
  },
  {
   "cell_type": "code",
   "execution_count": 48,
   "id": "a544c924-0c37-424a-bdd7-7efe4261ae97",
   "metadata": {},
   "outputs": [
    {
     "name": "stdout",
     "output_type": "stream",
     "text": [
      "name \t\t\t\t python\n",
      "father \t\t\t\t guido van rossum\n",
      "build year \t\t\t\t 1994\n",
      "type \t\t\t\t programming language\n"
     ]
    }
   ],
   "source": [
    "for key in data:\n",
    "    print(key, '\\t\\t\\t\\t', data[key]) # ?"
   ]
  },
  {
   "cell_type": "code",
   "execution_count": 49,
   "id": "ba8eef0e-a176-4da0-90b2-16661fb02a81",
   "metadata": {},
   "outputs": [
    {
     "data": {
      "text/plain": [
       "{'name': 'python',\n",
       " 'father': 'guido van rossum',\n",
       " 'build year': 1994,\n",
       " 'type': 'programming language'}"
      ]
     },
     "execution_count": 49,
     "metadata": {},
     "output_type": "execute_result"
    }
   ],
   "source": [
    "data"
   ]
  },
  {
   "cell_type": "code",
   "execution_count": 50,
   "id": "18596a4b-9b0f-4c43-999d-dd23293675d7",
   "metadata": {},
   "outputs": [
    {
     "name": "stdout",
     "output_type": "stream",
     "text": [
      "name\n",
      "father\n",
      "build year\n",
      "type\n"
     ]
    }
   ],
   "source": [
    "for key in data.keys():\n",
    "    print(key)"
   ]
  },
  {
   "cell_type": "code",
   "execution_count": 51,
   "id": "e332b04e-4648-42f5-b76a-f4616769fc16",
   "metadata": {},
   "outputs": [
    {
     "name": "stdout",
     "output_type": "stream",
     "text": [
      "python\n",
      "guido van rossum\n",
      "1994\n",
      "programming language\n"
     ]
    }
   ],
   "source": [
    "for value in data.values():\n",
    "    print(value)"
   ]
  },
  {
   "cell_type": "code",
   "execution_count": 52,
   "id": "b3a561d3-e0ab-435b-bb83-ce60005e8b83",
   "metadata": {},
   "outputs": [
    {
     "data": {
      "text/plain": [
       "{'name': 'sachin', 'class': 'cs-A', 'course': 'b.tech', 'roll no': 1234}"
      ]
     },
     "execution_count": 52,
     "metadata": {},
     "output_type": "execute_result"
    }
   ],
   "source": [
    "d"
   ]
  },
  {
   "cell_type": "code",
   "execution_count": 55,
   "id": "5b6e5699-cf7a-41a7-b0aa-516a8b132ef3",
   "metadata": {},
   "outputs": [
    {
     "name": "stdout",
     "output_type": "stream",
     "text": [
      "name python\n"
     ]
    }
   ],
   "source": [
    "x, y = ('name', 'python') # tuple unpacking \n",
    "print(x, y)"
   ]
  },
  {
   "cell_type": "code",
   "execution_count": 54,
   "id": "22ed58cc-56d0-489d-a037-995c9cace73b",
   "metadata": {},
   "outputs": [
    {
     "name": "stdout",
     "output_type": "stream",
     "text": [
      "('name', 'python')\n",
      "('father', 'guido van rossum')\n",
      "('build year', 1994)\n",
      "('type', 'programming language')\n"
     ]
    }
   ],
   "source": [
    "for item in data.items(): #(key, value)\n",
    "    print(item)"
   ]
  },
  {
   "cell_type": "code",
   "execution_count": 64,
   "id": "23358ba7-d587-45b7-ac3c-219bd59da0fe",
   "metadata": {},
   "outputs": [
    {
     "data": {
      "text/plain": [
       "254"
      ]
     },
     "execution_count": 64,
     "metadata": {},
     "output_type": "execute_result"
    }
   ],
   "source": [
    "sum([   67, 89, 98])"
   ]
  },
  {
   "cell_type": "code",
   "execution_count": 65,
   "id": "db7843d5-0623-44e5-aeae-fc3ebdb4aa10",
   "metadata": {},
   "outputs": [
    {
     "name": "stdout",
     "output_type": "stream",
     "text": [
      "shruti is the topper with marks 254\n"
     ]
    }
   ],
   "source": [
    "data = [\n",
    "    ['sachin', 67, 54, 78],\n",
    "    ['rajat', 67, 87, 98],\n",
    "    ['nidhi', 56, 76, 56],\n",
    "    ['kushal', 66, 77, 88],\n",
    "    ['yadvendra', 70, 87, 67],\n",
    "    ['simran', 45, 67, 89],\n",
    "    ['ravi', 56, 78, 65],\n",
    "    ['shruti', 67, 89, 98]\n",
    "]\n",
    "\n",
    "max_ = 0\n",
    "topper = None\n",
    "\n",
    "for item in data:\n",
    "    # item = ['shruti', 67, 89, 98]\n",
    "    marks = sum(item[-3:]) # marks = 254\n",
    "    if marks > max_:\n",
    "        max_ = marks # max_ = 254\n",
    "        topper = item[0] # topper = 'shruti'\n",
    "\n",
    "print(f\"{topper} is the topper with marks {max_}\")"
   ]
  },
  {
   "cell_type": "code",
   "execution_count": 68,
   "id": "778b3a9a-be76-41f1-b26e-15a7df530467",
   "metadata": {},
   "outputs": [
    {
     "name": "stdout",
     "output_type": "stream",
     "text": [
      "jhon is tallest with height 180 cm \n"
     ]
    }
   ],
   "source": [
    "info = [\n",
    "    ('ram', 160),\n",
    "    ('shyam', 170),\n",
    "    ('hari', 150),\n",
    "    ('ali', 171),\n",
    "    ('jhon', 180),\n",
    "    ('alice', 140)\n",
    "]\n",
    "\n",
    "tallest = None\n",
    "max_height = 0\n",
    "\n",
    "for name, height in info:\n",
    "    if height > max_height:\n",
    "        max_height = height\n",
    "        tallest = name\n",
    "\n",
    "print(f\"{tallest} is tallest with height {max_height} cm \")"
   ]
  },
  {
   "cell_type": "code",
   "execution_count": 70,
   "id": "9d16d776-63f5-4e1f-9bc7-8d1a0e5e7a72",
   "metadata": {},
   "outputs": [],
   "source": [
    "info = (\n",
    "    ('python', ('guido van rossum', 1994) ),\n",
    "    ('c++', ('bjarne stroupstrup', 1979) ),\n",
    "    ('java', ('james gosling', 1991) ),\n",
    "    ('c', ('dennis ritchie', 1970 ) )\n",
    ")\n",
    "\n",
    "# Python was developed by Guido Van Rossum and publically launched in year 1994.\n",
    "# C++ was developed by Bjarne Stroupstrup and publically launched in year 1979."
   ]
  },
  {
   "cell_type": "code",
   "execution_count": 75,
   "id": "91fe846b-0271-4f0c-b909-bc6449df9504",
   "metadata": {},
   "outputs": [
    {
     "name": "stdout",
     "output_type": "stream",
     "text": [
      "    python was developed by guido van rossum     and publically launched in year 1994.\n",
      "       c++ was developed by bjarne stroupstrup   and publically launched in year 1979.\n",
      "      java was developed by james gosling        and publically launched in year 1991.\n",
      "         c was developed by dennis ritchie       and publically launched in year 1970.\n"
     ]
    }
   ],
   "source": [
    "temp = \"{:>10} was developed by {:<20} and publically launched in year {}.\"\n",
    "\n",
    "for lang, (author, year) in info:\n",
    "    print(temp.format(lang, author, year)) \n",
    "   "
   ]
  },
  {
   "cell_type": "code",
   "execution_count": 76,
   "id": "0f596372-c3c8-4e6f-96ad-adeee61d3145",
   "metadata": {},
   "outputs": [
    {
     "data": {
      "text/plain": [
       "{'name': 'sachin', 'class': 'cs-A', 'course': 'b.tech', 'roll no': 1234}"
      ]
     },
     "execution_count": 76,
     "metadata": {},
     "output_type": "execute_result"
    }
   ],
   "source": [
    "d"
   ]
  },
  {
   "cell_type": "code",
   "execution_count": 78,
   "id": "19e0ebb6-1a1d-4d1f-9b16-d4a5a61fd63c",
   "metadata": {},
   "outputs": [
    {
     "name": "stdout",
     "output_type": "stream",
     "text": [
      "      name = sachin\n",
      "     class = cs-A\n",
      "    course = b.tech\n",
      "   roll no = 1234\n"
     ]
    }
   ],
   "source": [
    "for k, v in d.items():\n",
    "    print(f\"{k:>10} = {v}\")"
   ]
  },
  {
   "cell_type": "code",
   "execution_count": 80,
   "id": "606198b1-728b-44a0-9932-a80f21942c46",
   "metadata": {},
   "outputs": [],
   "source": [
    "data = dict(info)"
   ]
  },
  {
   "cell_type": "code",
   "execution_count": 81,
   "id": "6bc0b5ca-93e3-4ee7-b83b-137fc101fb99",
   "metadata": {},
   "outputs": [
    {
     "data": {
      "text/plain": [
       "{'python': ('guido van rossum', 1994),\n",
       " 'c++': ('bjarne stroupstrup', 1979),\n",
       " 'java': ('james gosling', 1991),\n",
       " 'c': ('dennis ritchie', 1970)}"
      ]
     },
     "execution_count": 81,
     "metadata": {},
     "output_type": "execute_result"
    }
   ],
   "source": [
    "data"
   ]
  },
  {
   "cell_type": "code",
   "execution_count": 82,
   "id": "28af6c28-077d-439c-afb6-3f36caae3dd0",
   "metadata": {},
   "outputs": [
    {
     "name": "stdout",
     "output_type": "stream",
     "text": [
      "    python was developed by guido van rossum     and publically launched in year 1994.\n",
      "       c++ was developed by bjarne stroupstrup   and publically launched in year 1979.\n",
      "      java was developed by james gosling        and publically launched in year 1991.\n",
      "         c was developed by dennis ritchie       and publically launched in year 1970.\n"
     ]
    }
   ],
   "source": [
    "temp = \"{:>10} was developed by {:<20} and publically launched in year {}.\"\n",
    "\n",
    "for lang, (author, year) in data.items():\n",
    "    print(temp.format(lang, author, year)) \n",
    "   "
   ]
  },
  {
   "cell_type": "markdown",
   "id": "94b3e0f8-09bf-4086-b329-c0c474bf84ed",
   "metadata": {},
   "source": [
    "# for\n",
    "        str, list, tuple, set, fronzenset, dict"
   ]
  },
  {
   "cell_type": "markdown",
   "id": "8463b56e-47ad-41c4-843b-7dbd479c6ddc",
   "metadata": {},
   "source": [
    "### List comprehension"
   ]
  },
  {
   "cell_type": "code",
   "execution_count": 84,
   "id": "a31f3f3b-5604-4a4f-a92a-d086c76ea7d5",
   "metadata": {},
   "outputs": [
    {
     "name": "stdout",
     "output_type": "stream",
     "text": [
      "[1, 2, 3, 4, 5]\n",
      "[1, 4, 9, 16, 25]\n"
     ]
    }
   ],
   "source": [
    "nums = [ 1, 2, 3, 4, 5]\n",
    "\n",
    "sq_nums = []\n",
    "for num in nums:\n",
    "    sq_nums.append(num**2)\n",
    "\n",
    "print(nums)\n",
    "print(sq_nums)"
   ]
  },
  {
   "cell_type": "code",
   "execution_count": 86,
   "id": "263b888b-fddd-49e8-98a5-b46b7736d364",
   "metadata": {},
   "outputs": [
    {
     "name": "stdout",
     "output_type": "stream",
     "text": [
      "bye\n"
     ]
    }
   ],
   "source": [
    "print(\"hello\") if 0 else print(\"bye\")"
   ]
  },
  {
   "cell_type": "code",
   "execution_count": 90,
   "id": "c1c8c04c-ffb1-44dd-8bcc-7cc2b496d9fb",
   "metadata": {},
   "outputs": [
    {
     "name": "stdout",
     "output_type": "stream",
     "text": [
      "[1, 2, 3, 4, 5]\n",
      "[1, 4, 9, 16, 25]\n"
     ]
    }
   ],
   "source": [
    "nums = [ 1, 2, 3, 4, 5]\n",
    "\n",
    "sq_nums = []\n",
    "for num in nums:\n",
    "    sq_nums.append(num**2)\n",
    "\n",
    "print(nums)\n",
    "print(sq_nums)"
   ]
  },
  {
   "cell_type": "code",
   "execution_count": 91,
   "id": "8f1d8158-15e4-4644-b0df-e1eae88a68e4",
   "metadata": {},
   "outputs": [
    {
     "data": {
      "text/plain": [
       "[1, 4, 9, 16, 25]"
      ]
     },
     "execution_count": 91,
     "metadata": {},
     "output_type": "execute_result"
    }
   ],
   "source": [
    "nums = [1, 2, 3, 4, 5]\n",
    "sq_nums = [ num**2 for num in nums ]\n",
    "# List comprehension\n",
    "sq_nums"
   ]
  },
  {
   "cell_type": "code",
   "execution_count": 100,
   "id": "c118d04b-8de8-4e7a-b39a-116ede1d5873",
   "metadata": {},
   "outputs": [
    {
     "name": "stdout",
     "output_type": "stream",
     "text": [
      "0 hello world!\n",
      "1 hello world!\n",
      "2 hello world!\n",
      "3 hello world!\n",
      "4 hello world!\n"
     ]
    }
   ],
   "source": [
    "for _ in range(5): # range(5) -> 0, 1, 2, 3, 4, 5\n",
    "    print(f'{_} hello world!')"
   ]
  },
  {
   "cell_type": "code",
   "execution_count": 92,
   "id": "413d5db4-33ae-4ee3-846f-ef55ac9c3090",
   "metadata": {},
   "outputs": [],
   "source": [
    "import random "
   ]
  },
  {
   "cell_type": "code",
   "execution_count": 101,
   "id": "caf34e34-4fb0-4b84-9a46-32999780b671",
   "metadata": {},
   "outputs": [
    {
     "data": {
      "text/plain": [
       "[16, 15, 17, 10, 7, 2, 7, 2, 11, 20]"
      ]
     },
     "execution_count": 101,
     "metadata": {},
     "output_type": "execute_result"
    }
   ],
   "source": [
    "nums = [ random.randint(1, 20) for _ in range(10) ]\n",
    "nums"
   ]
  },
  {
   "cell_type": "code",
   "execution_count": 105,
   "id": "87269f6e-22d0-4ccd-88b2-297d46af50a0",
   "metadata": {},
   "outputs": [
    {
     "data": {
      "text/plain": [
       "[16, 10, 2, 2, 20]"
      ]
     },
     "execution_count": 105,
     "metadata": {},
     "output_type": "execute_result"
    }
   ],
   "source": [
    "eves = [ x for x in nums if x % 2 == 0]\n",
    "eves"
   ]
  },
  {
   "cell_type": "code",
   "execution_count": 103,
   "id": "0d9b1c53-af17-4679-a7ac-3bcf8ee3b6ba",
   "metadata": {},
   "outputs": [
    {
     "data": {
      "text/plain": [
       "[16, 10, 2, 2, 20]"
      ]
     },
     "execution_count": 103,
     "metadata": {},
     "output_type": "execute_result"
    }
   ],
   "source": [
    "even_num = []\n",
    "for x in nums:\n",
    "    if x%2==0:\n",
    "        even_num.append(x)\n",
    "even_num"
   ]
  },
  {
   "cell_type": "markdown",
   "id": "7f666209-c6fa-4310-a5a7-e7fd44358394",
   "metadata": {},
   "source": [
    "zip, enumerate\n",
    "\n",
    "functions in python"
   ]
  },
  {
   "cell_type": "code",
   "execution_count": 106,
   "id": "88b704a2-e657-40f6-91dc-0dc6257043bc",
   "metadata": {},
   "outputs": [
    {
     "name": "stdout",
     "output_type": "stream",
     "text": [
      "1\n",
      "9\n",
      "25\n",
      "49\n",
      "81\n"
     ]
    }
   ],
   "source": [
    "for var in range(1, 11, 2): # [1, 3, 5, 7, 9]\n",
    "    print(var**2)"
   ]
  },
  {
   "cell_type": "code",
   "execution_count": 107,
   "id": "b98b2373-41d2-4fa2-beba-3b4140aa9259",
   "metadata": {},
   "outputs": [
    {
     "name": "stdout",
     "output_type": "stream",
     "text": [
      "*\n",
      "**\n",
      "***\n",
      "****\n",
      "*****\n",
      "******\n",
      "*******\n",
      "********\n",
      "*********\n",
      "**********\n"
     ]
    }
   ],
   "source": [
    "for col in range(1, 11): # [1, 2, 3, ... 10]\n",
    "    print(\"*\"*col)"
   ]
  },
  {
   "cell_type": "code",
   "execution_count": 108,
   "id": "48c9f350-a6b6-4047-93aa-b5042f059cc6",
   "metadata": {},
   "outputs": [
    {
     "name": "stdout",
     "output_type": "stream",
     "text": [
      "           *\n",
      "          **\n",
      "         ***\n",
      "        ****\n",
      "       *****\n",
      "      ******\n",
      "     *******\n",
      "    ********\n",
      "   *********\n",
      "  **********\n"
     ]
    }
   ],
   "source": [
    "for col in range(1, 11): # [1, 2, 3, ... 10]\n",
    "    print( \" \"*(11-col), \"*\"*col )"
   ]
  },
  {
   "cell_type": "code",
   "execution_count": null,
   "id": "46a4e5d2-d9fd-4a5a-8a3c-e5124070fab9",
   "metadata": {},
   "outputs": [],
   "source": []
  }
 ],
 "metadata": {
  "kernelspec": {
   "display_name": "Python [conda env:base] *",
   "language": "python",
   "name": "conda-base-py"
  },
  "language_info": {
   "codemirror_mode": {
    "name": "ipython",
    "version": 3
   },
   "file_extension": ".py",
   "mimetype": "text/x-python",
   "name": "python",
   "nbconvert_exporter": "python",
   "pygments_lexer": "ipython3",
   "version": "3.12.7"
  }
 },
 "nbformat": 4,
 "nbformat_minor": 5
}
