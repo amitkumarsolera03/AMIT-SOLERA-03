{
 "cells": [
  {
   "cell_type": "markdown",
   "id": "8598a92a-4bd1-41e9-a11f-788060a6abe6",
   "metadata": {},
   "source": [
    "## List \n",
    "\n",
    "    A collection of objects\n",
    "    Ordered Data Type \n",
    "    Mutable Data Type\n",
    "    It can homogenous or hetrogenous \n",
    "    "
   ]
  },
  {
   "cell_type": "markdown",
   "id": "0a929657-37ff-4561-a9ac-eb310c716ce5",
   "metadata": {},
   "source": [
    "    x[]  - Indexing / Slicing \n",
    "\n",
    "    [] - Empty List"
   ]
  },
  {
   "cell_type": "code",
   "execution_count": 4,
   "id": "74fc4336-765f-4f06-9d54-5036207dc674",
   "metadata": {},
   "outputs": [
    {
     "name": "stdout",
     "output_type": "stream",
     "text": [
      "10 hello ['java', 'c++']\n",
      "10 hello ['java', 'c++']\n",
      "\n"
     ]
    }
   ],
   "source": [
    "x = 10\n",
    "y = \"hello\"\n",
    "z = [\"java\", \"c++\"]\n",
    "\n",
    "print(x, y, z)\n",
    "# print( \"10\", \"hello\", \"['java', 'c++']\", sep=\" \", end=\"\\n\")\n",
    "# print(\" \".join([\"10\", \"hello\", \"['java', 'c++']\", end=\"\\n)\n",
    "\n",
    "print(\"10 hello ['java', 'c++']\\n\")"
   ]
  },
  {
   "cell_type": "code",
   "execution_count": 6,
   "id": "05cdb117-c9df-47e1-a8b0-8d46b76ca639",
   "metadata": {},
   "outputs": [
    {
     "name": "stdout",
     "output_type": "stream",
     "text": [
      "hello\n",
      "world\t\tthis is basics\n",
      "'hello\\nworld\\t\\tthis is basics'\n",
      "'hello\\nworld\\t\\tthis is basics'\n"
     ]
    }
   ],
   "source": [
    "s = \"hello\\nworld\\t\\tthis is basics\"\n",
    "\n",
    "print(s.__str__()) # ___str__ string representation of an object\n",
    "\n",
    "print(repr(s)) # Raw print \n",
    "\n",
    "print(s.__repr__())"
   ]
  },
  {
   "cell_type": "code",
   "execution_count": 13,
   "id": "a4b4de7c-bc6b-4d48-b437-097df4bbc2d3",
   "metadata": {},
   "outputs": [],
   "source": [
    "class Student:\n",
    "    def __init__(self, roll_no, name):\n",
    "        self.roll_no = roll_no\n",
    "        self.name = name\n",
    "    def get_info(self):\n",
    "        print(f\"Name : {self.name}\")\n",
    "        print(f\"Roll no: {self.roll_no}\")\n",
    "    def __str__(self):\n",
    "        return f\"I am a student object.\""
   ]
  },
  {
   "cell_type": "code",
   "execution_count": 14,
   "id": "f74d73f6-47c7-46aa-aed3-6a81fbdd9786",
   "metadata": {},
   "outputs": [],
   "source": [
    "s1 = Student(1001, \"Sachin Yadav\")"
   ]
  },
  {
   "cell_type": "code",
   "execution_count": 15,
   "id": "a103d58b-9398-4b9b-8579-caa1be703800",
   "metadata": {},
   "outputs": [
    {
     "name": "stdout",
     "output_type": "stream",
     "text": [
      "I am a student object.\n"
     ]
    }
   ],
   "source": [
    "print(s1)"
   ]
  },
  {
   "cell_type": "code",
   "execution_count": 18,
   "id": "a092aede-129e-4eb4-af48-7c3c5e8392a6",
   "metadata": {},
   "outputs": [
    {
     "name": "stdout",
     "output_type": "stream",
     "text": [
      "['java', 'c', 'c++']\n"
     ]
    }
   ],
   "source": [
    "data = list([\"java\", \"c\", \"c++\"])\n",
    "print(data)"
   ]
  },
  {
   "cell_type": "markdown",
   "id": "af8d43d3-6971-4b75-baf0-961017e6a0e9",
   "metadata": {},
   "source": [
    "[] --> list()"
   ]
  },
  {
   "cell_type": "code",
   "execution_count": null,
   "id": "f21725b6-b884-49ea-9ec2-994b0af18c6d",
   "metadata": {},
   "outputs": [],
   "source": [
    "x = 10\n",
    "\n",
    "x = int(10)"
   ]
  },
  {
   "cell_type": "code",
   "execution_count": 16,
   "id": "6b82ef81-19d3-4dd6-aadf-c0ea09015f7f",
   "metadata": {},
   "outputs": [
    {
     "name": "stdout",
     "output_type": "stream",
     "text": [
      "Roll No: 1001\tName: Sachin Yadav\n"
     ]
    }
   ],
   "source": [
    "class Student:\n",
    "    def __init__(self, roll_no, name):\n",
    "        self.roll_no = roll_no\n",
    "        self.name = name\n",
    "    def get_info(self):\n",
    "        print(f\"Name : {self.name}\")\n",
    "        print(f\"Roll no: {self.roll_no}\")\n",
    "    def __str__(self):\n",
    "        return f\"Roll No: {self.roll_no}\\tName: {self.name}\"\n",
    "\n",
    "s1 = Student(1001, \"Sachin Yadav\")  # []\n",
    "print(s1)"
   ]
  },
  {
   "cell_type": "code",
   "execution_count": 17,
   "id": "08b52077-3755-48de-86a3-d0d23375c7c9",
   "metadata": {},
   "outputs": [
    {
     "name": "stdout",
     "output_type": "stream",
     "text": [
      "Name : Sachin Yadav\n",
      "Roll no: 1001\n"
     ]
    }
   ],
   "source": [
    "s1.get_info()"
   ]
  },
  {
   "cell_type": "code",
   "execution_count": 2,
   "id": "04936380-0867-4a56-8d3d-61ae6ac94d2e",
   "metadata": {},
   "outputs": [
    {
     "name": "stdout",
     "output_type": "stream",
     "text": [
      "10\n",
      "10\n",
      "10\n"
     ]
    }
   ],
   "source": [
    "x = 10\n",
    "\n",
    "print(x) # print -> string represetnation of an object \n",
    "print(int.__str__(x))\n",
    "print(x.__str__())\n",
    "#  __str__  "
   ]
  },
  {
   "cell_type": "code",
   "execution_count": null,
   "id": "6be5a9ed-48c1-42f4-b906-ee9417fcedd3",
   "metadata": {},
   "outputs": [],
   "source": []
  },
  {
   "cell_type": "code",
   "execution_count": null,
   "id": "8a8db4e8-719c-4b7b-9242-75522a8a8e9c",
   "metadata": {},
   "outputs": [],
   "source": []
  },
  {
   "cell_type": "code",
   "execution_count": 1,
   "id": "01252ac6-634b-4123-8554-fce26f257f78",
   "metadata": {},
   "outputs": [
    {
     "name": "stdout",
     "output_type": "stream",
     "text": [
      "[] <class 'list'>\n",
      "4500776192\n",
      "['__add__', '__class__', '__class_getitem__', '__contains__', '__delattr__', '__delitem__', '__dir__', '__doc__', '__eq__', '__format__', '__ge__', '__getattribute__', '__getitem__', '__getstate__', '__gt__', '__hash__', '__iadd__', '__imul__', '__init__', '__init_subclass__', '__iter__', '__le__', '__len__', '__lt__', '__mul__', '__ne__', '__new__', '__reduce__', '__reduce_ex__', '__repr__', '__reversed__', '__rmul__', '__setattr__', '__setitem__', '__sizeof__', '__str__', '__subclasshook__', 'append', 'clear', 'copy', 'count', 'extend', 'index', 'insert', 'pop', 'remove', 'reverse', 'sort']\n"
     ]
    }
   ],
   "source": [
    "# representation / Structure\n",
    "\n",
    "data = []\n",
    "\n",
    "print(data, type(data))\n",
    "print(id(data))\n",
    "print(dir(data))"
   ]
  },
  {
   "cell_type": "markdown",
   "id": "223766ba-81bb-4170-9903-f2501e64dd47",
   "metadata": {},
   "source": [
    "# List\n",
    "\n",
    "    To add items to list\n",
    "\n",
    "\n",
    "    list.append(item) - add item at the end of list\n",
    "\n",
    "    list.insert(loc, item) - add item at specific index loc\n",
    "\n",
    "    list.extend(iterables) - add each item from iterable (collection) at the end of list"
   ]
  },
  {
   "cell_type": "markdown",
   "id": "d0a28975-fb2e-400f-99df-262e1bb6dea6",
   "metadata": {},
   "source": [
    "\"\" or ''"
   ]
  },
  {
   "cell_type": "code",
   "execution_count": 22,
   "id": "b854f828-0b27-4f6f-80ca-3497d914d3da",
   "metadata": {},
   "outputs": [
    {
     "name": "stdout",
     "output_type": "stream",
     "text": [
      "['java', 'c', 'c++']\n"
     ]
    }
   ],
   "source": [
    "lang = [ \"java\", 'c' ]\n",
    "\n",
    "lang.append(\"c++\")\n",
    "\n",
    "print(lang)"
   ]
  },
  {
   "cell_type": "code",
   "execution_count": 23,
   "id": "0960502a-0577-45fc-aeae-ac18b716787e",
   "metadata": {},
   "outputs": [],
   "source": [
    "lang.append(\"python\")"
   ]
  },
  {
   "cell_type": "code",
   "execution_count": 24,
   "id": "b6509193-1fcd-4891-9bbd-98f01f25eeaa",
   "metadata": {},
   "outputs": [
    {
     "name": "stdout",
     "output_type": "stream",
     "text": [
      "['java', 'c', 'c++', 'python']\n"
     ]
    }
   ],
   "source": [
    "print(lang)\n",
    "   0       1    2        3"
   ]
  },
  {
   "cell_type": "code",
   "execution_count": 25,
   "id": "d11a4457-165a-40b4-9664-36da4fe60f68",
   "metadata": {},
   "outputs": [],
   "source": [
    "lang.insert(0, \"bash\")"
   ]
  },
  {
   "cell_type": "code",
   "execution_count": 27,
   "id": "b9cf8129-28a8-405b-b1e9-6ff5e526c4df",
   "metadata": {},
   "outputs": [
    {
     "name": "stdout",
     "output_type": "stream",
     "text": [
      "['bash', 'java', 'c', 'c++', 'python']\n"
     ]
    }
   ],
   "source": [
    "print(lang)\n",
    "#  0       1      2     3       4"
   ]
  },
  {
   "cell_type": "code",
   "execution_count": 28,
   "id": "8b1e4b09-83d6-44a4-881d-4bbaaeba020a",
   "metadata": {},
   "outputs": [],
   "source": [
    "lang.insert(2, \"javascript\") "
   ]
  },
  {
   "cell_type": "code",
   "execution_count": 29,
   "id": "b7445486-7fac-4671-96d0-14d5aa6f94f2",
   "metadata": {},
   "outputs": [
    {
     "name": "stdout",
     "output_type": "stream",
     "text": [
      "['bash', 'java', 'javascript', 'c', 'c++', 'python']\n"
     ]
    }
   ],
   "source": [
    "print(lang)"
   ]
  },
  {
   "cell_type": "code",
   "execution_count": 30,
   "id": "aed2c575-1262-4b6f-bd5e-8977e89d883c",
   "metadata": {},
   "outputs": [],
   "source": [
    "name = [ \"sachin\", \"rajat\" ]"
   ]
  },
  {
   "cell_type": "code",
   "execution_count": 31,
   "id": "f35af5f3-5787-4023-ab14-5139e6d724cb",
   "metadata": {},
   "outputs": [],
   "source": [
    "name.extend(\"rahul\")\n",
    "# list.extend(iterable)"
   ]
  },
  {
   "cell_type": "code",
   "execution_count": 34,
   "id": "72fa8426-07ab-49e4-b14f-1be8b78f8692",
   "metadata": {},
   "outputs": [
    {
     "name": "stdout",
     "output_type": "stream",
     "text": [
      "['sachin', 'rajat', 'r', 'a', 'h', 'u', 'l']\n"
     ]
    }
   ],
   "source": [
    "print(name)"
   ]
  },
  {
   "cell_type": "code",
   "execution_count": null,
   "id": "dba5008f-9716-46e2-9904-372bfe116f46",
   "metadata": {},
   "outputs": [],
   "source": []
  },
  {
   "cell_type": "code",
   "execution_count": 32,
   "id": "bac241fc-8ee7-4b61-b6c8-e2a5df906c40",
   "metadata": {},
   "outputs": [
    {
     "name": "stdout",
     "output_type": "stream",
     "text": [
      "[1, 2, 3, 4, 5, 6]\n"
     ]
    }
   ],
   "source": [
    "nums = [1, 2, 3, 4, 5]\n",
    "\n",
    "nums.append(6)\n",
    "print(nums)"
   ]
  },
  {
   "cell_type": "code",
   "execution_count": 33,
   "id": "b769d580-06ef-4792-b139-cb07dd8917c3",
   "metadata": {},
   "outputs": [
    {
     "ename": "TypeError",
     "evalue": "'int' object is not iterable",
     "output_type": "error",
     "traceback": [
      "\u001b[0;31m---------------------------------------------------------------------------\u001b[0m",
      "\u001b[0;31mTypeError\u001b[0m                                 Traceback (most recent call last)",
      "Cell \u001b[0;32mIn[33], line 1\u001b[0m\n\u001b[0;32m----> 1\u001b[0m nums\u001b[38;5;241m.\u001b[39mextend(\u001b[38;5;241m7\u001b[39m)\n\u001b[1;32m      2\u001b[0m \u001b[38;5;28mprint\u001b[39m(nums)\n",
      "\u001b[0;31mTypeError\u001b[0m: 'int' object is not iterable"
     ]
    }
   ],
   "source": [
    "nums.extend(7)\n",
    "print(nums)"
   ]
  },
  {
   "cell_type": "code",
   "execution_count": 35,
   "id": "e67f526e-19da-46d7-9183-7a9d515555c2",
   "metadata": {},
   "outputs": [
    {
     "data": {
      "text/plain": [
       "['bash', 'java', 'javascript', 'c', 'c++', 'python']"
      ]
     },
     "execution_count": 35,
     "metadata": {},
     "output_type": "execute_result"
    }
   ],
   "source": [
    "lang"
   ]
  },
  {
   "cell_type": "code",
   "execution_count": 36,
   "id": "0d68ed0f-b36c-4e80-8fec-2cd6354aaa75",
   "metadata": {},
   "outputs": [],
   "source": [
    "lang = ['bash', 'java', 'javascript', 'c', 'c++', 'python']"
   ]
  },
  {
   "cell_type": "code",
   "execution_count": 37,
   "id": "278bacbc-4789-41ab-89d9-fa17ded8e732",
   "metadata": {},
   "outputs": [],
   "source": [
    "lang.extend([ \"html\", \"css\", \"bootstrap\"])"
   ]
  },
  {
   "cell_type": "code",
   "execution_count": 38,
   "id": "7fa75705-984f-43c0-b4ce-379751c1202c",
   "metadata": {},
   "outputs": [
    {
     "name": "stdout",
     "output_type": "stream",
     "text": [
      "['bash', 'java', 'javascript', 'c', 'c++', 'python', 'html', 'css', 'bootstrap']\n"
     ]
    }
   ],
   "source": [
    "print(lang)"
   ]
  },
  {
   "cell_type": "markdown",
   "id": "b05f1642-e224-4322-847c-b010b3a2a9b2",
   "metadata": {},
   "source": [
    "## Methods to remove elements from a list\n",
    "\n",
    "\n",
    "    item = list.pop(loc)  - delete item from index loc and return the item\n",
    "\n",
    "    list.remove(item) - search and delete first occurence of item from list "
   ]
  },
  {
   "cell_type": "code",
   "execution_count": 39,
   "id": "2a982177-c459-4df2-8b55-2c34700f6a33",
   "metadata": {},
   "outputs": [
    {
     "name": "stdout",
     "output_type": "stream",
     "text": [
      "['bash', 'java', 'javascript', 'c', 'c++', 'python', 'html', 'css', 'bootstrap']\n"
     ]
    }
   ],
   "source": [
    "# reverser of append\n",
    "print(lang)"
   ]
  },
  {
   "cell_type": "code",
   "execution_count": 41,
   "id": "4d30600b-3143-49c1-8d62-bd215045c607",
   "metadata": {},
   "outputs": [
    {
     "name": "stdout",
     "output_type": "stream",
     "text": [
      "bootstrap has been removed from list ['bash', 'java', 'javascript', 'c', 'c++', 'python', 'html', 'css']\n"
     ]
    }
   ],
   "source": [
    "item = lang.pop() # by default last value   list.pop(lang)\n",
    "print(f\"{item} has been removed from list {lang}\")"
   ]
  },
  {
   "cell_type": "code",
   "execution_count": 42,
   "id": "06e2df3d-ff14-4093-b357-1f14c34b9f85",
   "metadata": {},
   "outputs": [
    {
     "data": {
      "text/plain": [
       "['bash', 'java', 'javascript', 'c', 'c++', 'python', 'html', 'css']"
      ]
     },
     "execution_count": 42,
     "metadata": {},
     "output_type": "execute_result"
    }
   ],
   "source": [
    "lang"
   ]
  },
  {
   "cell_type": "code",
   "execution_count": 43,
   "id": "967fe43d-d2ff-4d44-88ff-9831279fa20d",
   "metadata": {},
   "outputs": [
    {
     "name": "stdout",
     "output_type": "stream",
     "text": [
      "java\n"
     ]
    }
   ],
   "source": [
    "item = lang.pop(1)\n",
    "\n",
    "print(item)"
   ]
  },
  {
   "cell_type": "code",
   "execution_count": 44,
   "id": "88b346a2-d765-482f-af17-77ce54e0644c",
   "metadata": {},
   "outputs": [
    {
     "name": "stdout",
     "output_type": "stream",
     "text": [
      "['bash', 'javascript', 'c', 'c++', 'python', 'html', 'css']\n"
     ]
    }
   ],
   "source": [
    "print(lang)"
   ]
  },
  {
   "cell_type": "code",
   "execution_count": 45,
   "id": "30b36fa1-db95-45d3-83ef-7ae767a60ed9",
   "metadata": {},
   "outputs": [
    {
     "name": "stdout",
     "output_type": "stream",
     "text": [
      "['bash', 'python', 'javascript', 'c', 'c++', 'python', 'html', 'css', 'python']\n"
     ]
    }
   ],
   "source": [
    "lang.append(\"python\")\n",
    "lang.insert(1, \"python\")\n",
    "print(lang)"
   ]
  },
  {
   "cell_type": "code",
   "execution_count": 46,
   "id": "8d6b9b6e-8c13-4472-b10f-57fd1c609777",
   "metadata": {},
   "outputs": [
    {
     "ename": "ValueError",
     "evalue": "list.remove(x): x not in list",
     "output_type": "error",
     "traceback": [
      "\u001b[0;31m---------------------------------------------------------------------------\u001b[0m",
      "\u001b[0;31mValueError\u001b[0m                                Traceback (most recent call last)",
      "Cell \u001b[0;32mIn[46], line 1\u001b[0m\n\u001b[0;32m----> 1\u001b[0m lang\u001b[38;5;241m.\u001b[39mremove(\u001b[38;5;124m\"\u001b[39m\u001b[38;5;124mPython\u001b[39m\u001b[38;5;124m\"\u001b[39m)\n",
      "\u001b[0;31mValueError\u001b[0m: list.remove(x): x not in list"
     ]
    }
   ],
   "source": [
    "lang.remove(\"Python\")"
   ]
  },
  {
   "cell_type": "code",
   "execution_count": 47,
   "id": "748276f2-1d54-4ad3-8089-596ad0007c1c",
   "metadata": {},
   "outputs": [
    {
     "data": {
      "text/plain": [
       "False"
      ]
     },
     "execution_count": 47,
     "metadata": {},
     "output_type": "execute_result"
    }
   ],
   "source": [
    "\"Python\" in lang"
   ]
  },
  {
   "cell_type": "code",
   "execution_count": 48,
   "id": "c8c63958-68b5-4fa8-b107-bada375782e6",
   "metadata": {},
   "outputs": [
    {
     "data": {
      "text/plain": [
       "True"
      ]
     },
     "execution_count": 48,
     "metadata": {},
     "output_type": "execute_result"
    }
   ],
   "source": [
    "\"python\" in lang"
   ]
  },
  {
   "cell_type": "code",
   "execution_count": 49,
   "id": "ab1a0e8d-7fd7-4770-89b3-21c150d7be5f",
   "metadata": {},
   "outputs": [
    {
     "name": "stdout",
     "output_type": "stream",
     "text": [
      "['bash', 'python', 'javascript', 'c', 'c++', 'python', 'html', 'css', 'python']\n"
     ]
    }
   ],
   "source": [
    "print(lang)"
   ]
  },
  {
   "cell_type": "code",
   "execution_count": 50,
   "id": "e4ec0fad-8b1e-4e58-8d75-a91e23c8702f",
   "metadata": {},
   "outputs": [],
   "source": [
    "lang.remove(\"python\")"
   ]
  },
  {
   "cell_type": "code",
   "execution_count": 51,
   "id": "ab475926-fae5-42d0-b93d-9a4fa073cbc6",
   "metadata": {},
   "outputs": [
    {
     "name": "stdout",
     "output_type": "stream",
     "text": [
      "['bash', 'javascript', 'c', 'c++', 'python', 'html', 'css', 'python']\n"
     ]
    }
   ],
   "source": [
    "print(lang)"
   ]
  },
  {
   "cell_type": "markdown",
   "id": "5e782b2d-c017-4022-90d9-795ddff639b0",
   "metadata": {},
   "source": [
    "# list.count()"
   ]
  },
  {
   "cell_type": "code",
   "execution_count": 52,
   "id": "9f3f8983-d89e-4f9b-b7fb-267d383e1821",
   "metadata": {},
   "outputs": [
    {
     "name": "stdout",
     "output_type": "stream",
     "text": [
      "0\n"
     ]
    }
   ],
   "source": [
    "c = lang.count(\"Python\")\n",
    "\n",
    "print(c)"
   ]
  },
  {
   "cell_type": "code",
   "execution_count": 53,
   "id": "5081f3bd-d4c3-4189-86cb-dbca44b01d4c",
   "metadata": {},
   "outputs": [
    {
     "data": {
      "text/plain": [
       "['bash', 'javascript', 'c', 'c++', 'python', 'html', 'css', 'python']"
      ]
     },
     "execution_count": 53,
     "metadata": {},
     "output_type": "execute_result"
    }
   ],
   "source": [
    "lang"
   ]
  },
  {
   "cell_type": "code",
   "execution_count": 54,
   "id": "40758c45-ddfe-470d-a295-b0aa1333dd7d",
   "metadata": {},
   "outputs": [
    {
     "name": "stdout",
     "output_type": "stream",
     "text": [
      "2\n"
     ]
    }
   ],
   "source": [
    "c = lang.count(\"python\")\n",
    "print(c)"
   ]
  },
  {
   "cell_type": "code",
   "execution_count": 55,
   "id": "5ff6b15f-7340-420d-bb44-f9301ade6e5e",
   "metadata": {},
   "outputs": [],
   "source": [
    "for _ in range(c):\n",
    "    lang.remove('python')"
   ]
  },
  {
   "cell_type": "code",
   "execution_count": 56,
   "id": "fa1f5805-198b-4e45-b772-63059a76988b",
   "metadata": {},
   "outputs": [
    {
     "data": {
      "text/plain": [
       "['bash', 'javascript', 'c', 'c++', 'html', 'css']"
      ]
     },
     "execution_count": 56,
     "metadata": {},
     "output_type": "execute_result"
    }
   ],
   "source": [
    "lang"
   ]
  },
  {
   "cell_type": "code",
   "execution_count": 57,
   "id": "ec217fde-5f6e-4497-ab0b-d18a314de1b8",
   "metadata": {},
   "outputs": [
    {
     "name": "stdout",
     "output_type": "stream",
     "text": [
      "['append', 'clear', 'copy', 'count', 'extend', 'index', 'insert', 'pop', 'remove', 'reverse', 'sort']\n"
     ]
    }
   ],
   "source": [
    "print(dir(list)[-11:])"
   ]
  },
  {
   "cell_type": "code",
   "execution_count": 58,
   "id": "9132e3cc-8246-492d-8b48-8e982ef4ab5d",
   "metadata": {},
   "outputs": [],
   "source": [
    "lang.clear()\n",
    "# remove all items from a list "
   ]
  },
  {
   "cell_type": "code",
   "execution_count": 59,
   "id": "2015179b-6445-4991-b840-8df0a9d47b0c",
   "metadata": {},
   "outputs": [
    {
     "name": "stdout",
     "output_type": "stream",
     "text": [
      "[]\n"
     ]
    }
   ],
   "source": [
    "print(lang)"
   ]
  },
  {
   "cell_type": "code",
   "execution_count": 66,
   "id": "e22243c1-210f-48e1-8e26-6103a094e8d9",
   "metadata": {},
   "outputs": [
    {
     "name": "stdout",
     "output_type": "stream",
     "text": [
      "Time Remaining :   294 seconds."
     ]
    },
    {
     "ename": "KeyboardInterrupt",
     "evalue": "",
     "output_type": "error",
     "traceback": [
      "\u001b[0;31m---------------------------------------------------------------------------\u001b[0m",
      "\u001b[0;31mKeyboardInterrupt\u001b[0m                         Traceback (most recent call last)",
      "Cell \u001b[0;32mIn[66], line 5\u001b[0m\n\u001b[1;32m      3\u001b[0m \u001b[38;5;28;01mfor\u001b[39;00m sec \u001b[38;5;129;01min\u001b[39;00m \u001b[38;5;28mrange\u001b[39m(total\u001b[38;5;241m+\u001b[39m\u001b[38;5;241m1\u001b[39m):\n\u001b[1;32m      4\u001b[0m     \u001b[38;5;28mprint\u001b[39m(\u001b[38;5;124mf\u001b[39m\u001b[38;5;124m\"\u001b[39m\u001b[38;5;130;01m\\r\u001b[39;00m\u001b[38;5;124mTime Remaining : \u001b[39m\u001b[38;5;132;01m{\u001b[39;00mtotal\u001b[38;5;241m-\u001b[39msec\u001b[38;5;132;01m:\u001b[39;00m\u001b[38;5;124m>5\u001b[39m\u001b[38;5;132;01m}\u001b[39;00m\u001b[38;5;124m seconds.\u001b[39m\u001b[38;5;124m\"\u001b[39m, end\u001b[38;5;241m=\u001b[39m\u001b[38;5;124m\"\u001b[39m\u001b[38;5;124m\"\u001b[39m)\n\u001b[0;32m----> 5\u001b[0m     time\u001b[38;5;241m.\u001b[39msleep(\u001b[38;5;241m1\u001b[39m)\n",
      "\u001b[0;31mKeyboardInterrupt\u001b[0m: "
     ]
    }
   ],
   "source": [
    "import time \n",
    "total = 300\n",
    "for sec in range(total+1):\n",
    "    print(f\"\\rTime Remaining : {total-sec:>5} seconds.\", end=\"\")\n",
    "    time.sleep(1)"
   ]
  },
  {
   "cell_type": "markdown",
   "id": "ad34ca8c-c11d-4bda-aa38-ac73d73157b8",
   "metadata": {},
   "source": [
    "#### List \n",
    "\n",
    "    append \n",
    "    insert\n",
    "    extend\n",
    "    pop\n",
    "    remove\n",
    "    count\n",
    "    clear\n",
    "    "
   ]
  },
  {
   "cell_type": "markdown",
   "id": "fe0b8ed9-c0d8-4a63-b824-a5466102984b",
   "metadata": {},
   "source": [
    "# copy  ? \n",
    "\n",
    "    shallow copy vs deep copy "
   ]
  },
  {
   "cell_type": "code",
   "execution_count": 67,
   "id": "ffa688a7-985a-4cc8-86c5-969b777d0e99",
   "metadata": {},
   "outputs": [],
   "source": [
    "lang = [ \"java\", \"c\", \"c++\" ]"
   ]
  },
  {
   "cell_type": "code",
   "execution_count": 68,
   "id": "edc07308-9b57-4924-a144-2997a7d07e8b",
   "metadata": {},
   "outputs": [],
   "source": [
    "old_lang = lang # this is not a copy operation "
   ]
  },
  {
   "cell_type": "code",
   "execution_count": 69,
   "id": "a102df69-0f87-452b-9cbe-ad63e91e9768",
   "metadata": {},
   "outputs": [
    {
     "name": "stdout",
     "output_type": "stream",
     "text": [
      "['java', 'c', 'c++']\n",
      "['java', 'c', 'c++']\n"
     ]
    }
   ],
   "source": [
    "print(lang)\n",
    "print(old_lang)"
   ]
  },
  {
   "cell_type": "code",
   "execution_count": 70,
   "id": "55e79ef4-dd1a-40b9-9269-b505a8ea7004",
   "metadata": {},
   "outputs": [],
   "source": [
    "lang.append(\"python\")\n",
    "lang.extend([\"ruby\", \"perl\", \"php\"])"
   ]
  },
  {
   "cell_type": "code",
   "execution_count": 71,
   "id": "091b8c94-0eb7-4a4d-a20b-c6bfd41113b3",
   "metadata": {},
   "outputs": [
    {
     "name": "stdout",
     "output_type": "stream",
     "text": [
      "['java', 'c', 'c++', 'python', 'ruby', 'perl', 'php']\n"
     ]
    }
   ],
   "source": [
    "print(lang)"
   ]
  },
  {
   "cell_type": "code",
   "execution_count": 72,
   "id": "4652e4ab-2a18-4bf5-b1c6-56523ce9f865",
   "metadata": {},
   "outputs": [
    {
     "name": "stdout",
     "output_type": "stream",
     "text": [
      "['java', 'c', 'c++', 'python', 'ruby', 'perl', 'php']\n"
     ]
    }
   ],
   "source": [
    "print(old_lang)"
   ]
  },
  {
   "cell_type": "code",
   "execution_count": 73,
   "id": "0bed78bc-60a4-43de-a3d8-367e1da61f82",
   "metadata": {},
   "outputs": [
    {
     "name": "stdout",
     "output_type": "stream",
     "text": [
      "6404499072\n",
      "6404499072\n"
     ]
    }
   ],
   "source": [
    "print(id(lang))\n",
    "print(id(old_lang))"
   ]
  },
  {
   "cell_type": "markdown",
   "id": "ea456fbf-9540-4205-b43c-71c822244b8d",
   "metadata": {},
   "source": [
    "lang ---> object list\n",
    "\n",
    "old_lang = lang # id copy not data                    \n",
    "                    \n",
    "        lang, old_lang --->    id ->6404499072   ---> list([ \"java\", \"c\", \"c++\", \"python\", \"ruby\", \"perl\", \"php\" ])"
   ]
  },
  {
   "cell_type": "code",
   "execution_count": 74,
   "id": "9327eedb-580f-4b4b-abc9-863d6907c0df",
   "metadata": {},
   "outputs": [
    {
     "data": {
      "text/plain": [
       "True"
      ]
     },
     "execution_count": 74,
     "metadata": {},
     "output_type": "execute_result"
    }
   ],
   "source": [
    "lang is old_lang"
   ]
  },
  {
   "cell_type": "code",
   "execution_count": 75,
   "id": "075b4948-2f1f-4350-a624-08c7e948edb8",
   "metadata": {},
   "outputs": [
    {
     "name": "stdout",
     "output_type": "stream",
     "text": [
      "False\n",
      "6404474560 6404477824\n"
     ]
    }
   ],
   "source": [
    "lang = [ \"java\", \"c\", \"c++\" ]\n",
    "\n",
    "old_lang = lang.copy() # \n",
    "\n",
    "print(lang is old_lang)\n",
    "print(id(lang), id(old_lang))\n",
    "\n",
    "    # lang--->    id ->  6404499072   ---> list([ \"java\", \"c\", \"c++\", \"python\", \"ruby\", \"perl\", \"php\" ])\n",
    "    # old_lang --> id -> 6404477824     ---> list([ \"java\", \"c\", \"c++\" ])"
   ]
  },
  {
   "cell_type": "code",
   "execution_count": 76,
   "id": "cde16847-cd7c-4ba3-bc63-c7686ddfa275",
   "metadata": {},
   "outputs": [],
   "source": [
    "lang.append(\"python\")"
   ]
  },
  {
   "cell_type": "code",
   "execution_count": 78,
   "id": "496f4bc9-4e91-4b4b-b4bc-695594186331",
   "metadata": {},
   "outputs": [],
   "source": [
    "lang.extend([\"ruby\", \"perl\", \"php\"])"
   ]
  },
  {
   "cell_type": "code",
   "execution_count": 80,
   "id": "af04fa2d-2b7d-409c-a775-48833bb1c9f1",
   "metadata": {},
   "outputs": [
    {
     "name": "stdout",
     "output_type": "stream",
     "text": [
      "['java', 'c', 'c++', 'python', 'ruby', 'perl', 'php']\n"
     ]
    }
   ],
   "source": [
    "print(lang)"
   ]
  },
  {
   "cell_type": "code",
   "execution_count": 81,
   "id": "648c6cfa-4aa6-4357-b9ca-4a57457b2548",
   "metadata": {},
   "outputs": [
    {
     "name": "stdout",
     "output_type": "stream",
     "text": [
      "['java', 'c', 'c++']\n"
     ]
    }
   ],
   "source": [
    "print(old_lang)"
   ]
  },
  {
   "cell_type": "markdown",
   "id": "237b6f69-2604-4fae-8b57-b89c7f3940bd",
   "metadata": {},
   "source": [
    "# replace "
   ]
  },
  {
   "cell_type": "code",
   "execution_count": 87,
   "id": "613aa2da-3710-4683-b009-f843af1192e2",
   "metadata": {},
   "outputs": [],
   "source": [
    "data = [ \"temp\", 32]\n",
    "#         0       1"
   ]
  },
  {
   "cell_type": "code",
   "execution_count": 90,
   "id": "568b24c3-24ab-4064-adcf-49bcd8d0004b",
   "metadata": {},
   "outputs": [],
   "source": [
    "data[1] = 27 # update / replace"
   ]
  },
  {
   "cell_type": "code",
   "execution_count": 91,
   "id": "5644bcb6-ace4-457a-b582-e1e551de52ca",
   "metadata": {},
   "outputs": [
    {
     "name": "stdout",
     "output_type": "stream",
     "text": [
      "['temp', 27]\n"
     ]
    }
   ],
   "source": [
    "print(data)"
   ]
  },
  {
   "cell_type": "code",
   "execution_count": null,
   "id": "75b10781-ce46-4a6a-8a3e-8334c9ca1b51",
   "metadata": {},
   "outputs": [],
   "source": []
  },
  {
   "cell_type": "code",
   "execution_count": 93,
   "id": "e748a291-a21c-45bf-8a19-553c26ff0273",
   "metadata": {},
   "outputs": [],
   "source": [
    "data = [\n",
    "    [\"sachin\", 1001, \"data science\", 10000, 3000],\n",
    "    [\"jatin\", 1121, \"linux\", 5000, 1000],\n",
    "    [\"seema\", 1234, \"Cloud\", 15000, 10000]\n",
    "]"
   ]
  },
  {
   "cell_type": "code",
   "execution_count": 94,
   "id": "191261e8-5bba-4789-a8ed-c4040ef870ad",
   "metadata": {},
   "outputs": [],
   "source": [
    "old_data = data.copy()"
   ]
  },
  {
   "cell_type": "code",
   "execution_count": 95,
   "id": "b813cfca-ff29-476b-976f-3a41b1be6a8d",
   "metadata": {},
   "outputs": [],
   "source": [
    "data.append([\"ravi\", 1111, \"Data analytics\", 17000, 7000])"
   ]
  },
  {
   "cell_type": "code",
   "execution_count": 96,
   "id": "71239730-a7a0-4852-b337-92d93f6bb8f6",
   "metadata": {},
   "outputs": [
    {
     "name": "stdout",
     "output_type": "stream",
     "text": [
      "[['sachin', 1001, 'data science', 10000, 3000], ['jatin', 1121, 'linux', 5000, 1000], ['seema', 1234, 'Cloud', 15000, 10000], ['ravi', 1111, 'Data analytics', 17000, 7000]]\n"
     ]
    }
   ],
   "source": [
    "print(data)"
   ]
  },
  {
   "cell_type": "code",
   "execution_count": 97,
   "id": "c1dc6f1d-fbeb-4262-9c34-1e8ceec91a5b",
   "metadata": {},
   "outputs": [
    {
     "name": "stdout",
     "output_type": "stream",
     "text": [
      "[['sachin', 1001, 'data science', 10000, 3000], ['jatin', 1121, 'linux', 5000, 1000], ['seema', 1234, 'Cloud', 15000, 10000]]\n"
     ]
    }
   ],
   "source": [
    "print(old_data)"
   ]
  },
  {
   "cell_type": "code",
   "execution_count": 98,
   "id": "309b17dd-1298-486c-81dc-c8da1d18cf5d",
   "metadata": {},
   "outputs": [
    {
     "data": {
      "text/plain": [
       "[['sachin', 1001, 'data science', 10000, 3000],\n",
       " ['jatin', 1121, 'linux', 5000, 1000],\n",
       " ['seema', 1234, 'Cloud', 15000, 10000],\n",
       " ['ravi', 1111, 'Data analytics', 17000, 7000]]"
      ]
     },
     "execution_count": 98,
     "metadata": {},
     "output_type": "execute_result"
    }
   ],
   "source": [
    "data"
   ]
  },
  {
   "cell_type": "code",
   "execution_count": 104,
   "id": "e4652def-aeeb-46a8-925e-20db837ddcf9",
   "metadata": {},
   "outputs": [
    {
     "data": {
      "text/plain": [
       "['sachin', 1001, 'data science', 10000, 3000]"
      ]
     },
     "execution_count": 104,
     "metadata": {},
     "output_type": "execute_result"
    }
   ],
   "source": [
    "data[0] # list"
   ]
  },
  {
   "cell_type": "code",
   "execution_count": 105,
   "id": "eb3991d0-f7ff-4b2d-bb9c-0560ccf78709",
   "metadata": {},
   "outputs": [
    {
     "name": "stdout",
     "output_type": "stream",
     "text": [
      "data science\n"
     ]
    }
   ],
   "source": [
    "info = data[0]\n",
    "print(info[2])"
   ]
  },
  {
   "cell_type": "code",
   "execution_count": 107,
   "id": "94aa4053-a779-46c1-9f99-de9db9a8eeef",
   "metadata": {},
   "outputs": [
    {
     "data": {
      "text/plain": [
       "'data science'"
      ]
     },
     "execution_count": 107,
     "metadata": {},
     "output_type": "execute_result"
    }
   ],
   "source": [
    "data[0][2]"
   ]
  },
  {
   "cell_type": "code",
   "execution_count": 108,
   "id": "2b3d2fd3-08db-4bbf-aa70-5a454f549ebd",
   "metadata": {},
   "outputs": [
    {
     "data": {
      "text/plain": [
       "'s'"
      ]
     },
     "execution_count": 108,
     "metadata": {},
     "output_type": "execute_result"
    }
   ],
   "source": [
    "data[0][2][5] # ?\n",
    "# 's'"
   ]
  },
  {
   "cell_type": "code",
   "execution_count": 111,
   "id": "6bd83086-e6fd-4ddf-8431-8668fe5b84e1",
   "metadata": {},
   "outputs": [
    {
     "data": {
      "text/plain": [
       "'t'"
      ]
     },
     "execution_count": 111,
     "metadata": {},
     "output_type": "execute_result"
    }
   ],
   "source": [
    "data[3][2][10]"
   ]
  },
  {
   "cell_type": "code",
   "execution_count": 119,
   "id": "3abe2bc6-c4b1-42e2-8da0-1bfd65795805",
   "metadata": {},
   "outputs": [],
   "source": [
    "data = [['sachin', 1001, 'data science', 10000, 3000],\n",
    " ['jatin', 1121, 'linux', 5000, 1000],\n",
    " ['seema', 1234, 'Cloud', 15000, 10000],\n",
    " ['ravi', 1111, 'Data analytics', 17000, 7000]]\n",
    "\n",
    "old_data = data.copy()"
   ]
  },
  {
   "cell_type": "code",
   "execution_count": 120,
   "id": "472bdcb5-a3db-48ed-b1ce-c6e536cd7562",
   "metadata": {},
   "outputs": [
    {
     "name": "stdout",
     "output_type": "stream",
     "text": [
      "False\n"
     ]
    }
   ],
   "source": [
    "print(data is old_data)"
   ]
  },
  {
   "cell_type": "code",
   "execution_count": 121,
   "id": "0bd22c5d-c67e-4dba-8ad3-21513094ba07",
   "metadata": {},
   "outputs": [],
   "source": [
    "data[0][4] = 8000"
   ]
  },
  {
   "cell_type": "code",
   "execution_count": 122,
   "id": "49677573-616c-4fc3-8594-a85e8e7d3320",
   "metadata": {},
   "outputs": [
    {
     "data": {
      "text/plain": [
       "[['sachin', 1001, 'data science', 10000, 8000],\n",
       " ['jatin', 1121, 'linux', 5000, 1000],\n",
       " ['seema', 1234, 'Cloud', 15000, 10000],\n",
       " ['ravi', 1111, 'Data analytics', 17000, 7000]]"
      ]
     },
     "execution_count": 122,
     "metadata": {},
     "output_type": "execute_result"
    }
   ],
   "source": [
    "data"
   ]
  },
  {
   "cell_type": "code",
   "execution_count": 123,
   "id": "32c99920-f185-4e45-be76-a11d56945b42",
   "metadata": {},
   "outputs": [
    {
     "data": {
      "text/plain": [
       "[['sachin', 1001, 'data science', 10000, 8000],\n",
       " ['jatin', 1121, 'linux', 5000, 1000],\n",
       " ['seema', 1234, 'Cloud', 15000, 10000],\n",
       " ['ravi', 1111, 'Data analytics', 17000, 7000]]"
      ]
     },
     "execution_count": 123,
     "metadata": {},
     "output_type": "execute_result"
    }
   ],
   "source": [
    "old_data"
   ]
  },
  {
   "cell_type": "markdown",
   "id": "958fd0ff-1aa5-43b9-b2f1-250f218aab8c",
   "metadata": {},
   "source": [
    "### sort "
   ]
  },
  {
   "cell_type": "code",
   "execution_count": 126,
   "id": "6af6b3f3-de71-4ecb-bf36-83dbce834a69",
   "metadata": {},
   "outputs": [],
   "source": [
    "import random"
   ]
  },
  {
   "cell_type": "code",
   "execution_count": 133,
   "id": "1d2d4aea-639f-4579-a5e5-f54fcdf73176",
   "metadata": {},
   "outputs": [
    {
     "data": {
      "text/plain": [
       "4"
      ]
     },
     "execution_count": 133,
     "metadata": {},
     "output_type": "execute_result"
    }
   ],
   "source": [
    "random.randint(1, 10)"
   ]
  },
  {
   "cell_type": "code",
   "execution_count": 136,
   "id": "8a69eb4f-2689-4bfc-bdb8-f276d5c78aea",
   "metadata": {},
   "outputs": [
    {
     "data": {
      "text/plain": [
       "6"
      ]
     },
     "execution_count": 136,
     "metadata": {},
     "output_type": "execute_result"
    }
   ],
   "source": [
    "len([1, 2, 3, 4, 5, 66])"
   ]
  },
  {
   "cell_type": "code",
   "execution_count": 135,
   "id": "958729ce-627a-47c4-ad89-498b784036c2",
   "metadata": {},
   "outputs": [
    {
     "data": {
      "text/plain": [
       "6"
      ]
     },
     "execution_count": 135,
     "metadata": {},
     "output_type": "execute_result"
    }
   ],
   "source": [
    "len(\"sachin\")"
   ]
  },
  {
   "cell_type": "code",
   "execution_count": 134,
   "id": "a91e09b0-0cad-4f1e-a964-ba594f6a57c0",
   "metadata": {},
   "outputs": [],
   "source": [
    "names = [ \"sachin\", \"rajat\", \"nidhi\", \"kushal\", \"yadvendra\", \"simran\", \"ravi\"]"
   ]
  },
  {
   "cell_type": "code",
   "execution_count": 147,
   "id": "fb5da6e9-cf35-4ff3-9c66-00def5fe7ef8",
   "metadata": {},
   "outputs": [
    {
     "name": "stdout",
     "output_type": "stream",
     "text": [
      "spinning bottle....... -->      rajat"
     ]
    }
   ],
   "source": [
    "import time\n",
    "for _ in range(100):\n",
    "    print(f\"\\rspinning bottle....... --> {random.choice(names):>10}\", end=\"\")\n",
    "    time.sleep(0.01)"
   ]
  },
  {
   "cell_type": "code",
   "execution_count": 143,
   "id": "8c8920c9-ce1c-4a57-bf0b-61d6df82f10b",
   "metadata": {},
   "outputs": [
    {
     "data": {
      "text/plain": [
       "'nidhi'"
      ]
     },
     "execution_count": 143,
     "metadata": {},
     "output_type": "execute_result"
    }
   ],
   "source": [
    "random.choice(names)"
   ]
  },
  {
   "cell_type": "code",
   "execution_count": 141,
   "id": "077a406d-4cb7-45a1-9e20-80d9fbefc105",
   "metadata": {},
   "outputs": [
    {
     "name": "stdout",
     "output_type": "stream",
     "text": [
      "simran\n"
     ]
    }
   ],
   "source": [
    "ri = random.randint(0, len(names)-1)\n",
    "print(names[ri])"
   ]
  },
  {
   "cell_type": "code",
   "execution_count": 124,
   "id": "8323dd82-02e1-4806-8815-5adce936978b",
   "metadata": {},
   "outputs": [],
   "source": [
    "import random\n",
    "\n",
    "data = [ random.randint(1, 100) for _ in range(10)] # list_comprenshion"
   ]
  },
  {
   "cell_type": "code",
   "execution_count": 148,
   "id": "2c511d11-b4ee-45ac-ac6f-323354a2ce3f",
   "metadata": {},
   "outputs": [
    {
     "name": "stdout",
     "output_type": "stream",
     "text": [
      "[53, 72, 89, 31, 81, 73, 12, 53, 89, 89]\n"
     ]
    }
   ],
   "source": [
    "print(data)"
   ]
  },
  {
   "cell_type": "code",
   "execution_count": 149,
   "id": "9d8b8e96-c2c9-48c9-a73f-56110d4417a7",
   "metadata": {},
   "outputs": [],
   "source": [
    "data.sort()"
   ]
  },
  {
   "cell_type": "code",
   "execution_count": 150,
   "id": "fec0655e-1d45-4048-8800-ecbcc926edcb",
   "metadata": {},
   "outputs": [
    {
     "data": {
      "text/plain": [
       "[12, 31, 53, 53, 72, 73, 81, 89, 89, 89]"
      ]
     },
     "execution_count": 150,
     "metadata": {},
     "output_type": "execute_result"
    }
   ],
   "source": [
    "data\n"
   ]
  },
  {
   "cell_type": "code",
   "execution_count": 151,
   "id": "6a0c7b50-33e5-4d68-b550-c6efbd9424bb",
   "metadata": {},
   "outputs": [],
   "source": [
    "import random\n",
    "\n",
    "data = [ random.randint(1, 100) for _ in range(10)] # list_comprenshion"
   ]
  },
  {
   "cell_type": "code",
   "execution_count": 152,
   "id": "a95ec965-110b-41e9-a767-7fad5f985ef9",
   "metadata": {},
   "outputs": [
    {
     "name": "stdout",
     "output_type": "stream",
     "text": [
      "[89, 16, 48, 90, 76, 5, 80, 79, 20, 24]\n"
     ]
    }
   ],
   "source": [
    "print(data)"
   ]
  },
  {
   "cell_type": "code",
   "execution_count": 153,
   "id": "430019ba-94ae-4f86-8d44-e0d048819b40",
   "metadata": {},
   "outputs": [
    {
     "name": "stdout",
     "output_type": "stream",
     "text": [
      "Help on method_descriptor:\n",
      "\n",
      "sort(self, /, *, key=None, reverse=False) unbound builtins.list method\n",
      "    Sort the list in ascending order and return None.\n",
      "\n",
      "    The sort is in-place (i.e. the list itself is modified) and stable (i.e. the\n",
      "    order of two equal elements is maintained).\n",
      "\n",
      "    If a key function is given, apply it once to each list item and sort them,\n",
      "    ascending or descending, according to their function values.\n",
      "\n",
      "    The reverse flag can be set to sort in descending order.\n",
      "\n"
     ]
    }
   ],
   "source": [
    "help(list.sort)"
   ]
  },
  {
   "cell_type": "code",
   "execution_count": 154,
   "id": "44013189-da40-454d-a00a-642fb005d361",
   "metadata": {},
   "outputs": [],
   "source": [
    "data.sort(reverse=True)"
   ]
  },
  {
   "cell_type": "code",
   "execution_count": 155,
   "id": "e739b231-f6bd-4994-8d9a-1beb4428178b",
   "metadata": {},
   "outputs": [
    {
     "name": "stdout",
     "output_type": "stream",
     "text": [
      "[90, 89, 80, 79, 76, 48, 24, 20, 16, 5]\n"
     ]
    }
   ],
   "source": [
    "print(data)"
   ]
  },
  {
   "cell_type": "code",
   "execution_count": 167,
   "id": "229647f0-ffd7-4695-8744-da1dcf0911c6",
   "metadata": {},
   "outputs": [],
   "source": [
    "from operator import itemgetter"
   ]
  },
  {
   "cell_type": "code",
   "execution_count": 168,
   "id": "fd780e25-8aa0-40c9-b832-c4852eb5f2ed",
   "metadata": {},
   "outputs": [],
   "source": [
    "nums = [ 1, 6, 4, 8, 9]"
   ]
  },
  {
   "cell_type": "code",
   "execution_count": 169,
   "id": "4f94850c-47e1-4ea1-92e1-2386e7151c99",
   "metadata": {},
   "outputs": [],
   "source": [
    "func = itemgetter(2)"
   ]
  },
  {
   "cell_type": "code",
   "execution_count": 170,
   "id": "ec9000c7-97a4-47fc-880c-f12e42729637",
   "metadata": {},
   "outputs": [
    {
     "data": {
      "text/plain": [
       "4"
      ]
     },
     "execution_count": 170,
     "metadata": {},
     "output_type": "execute_result"
    }
   ],
   "source": [
    "func(nums)"
   ]
  },
  {
   "cell_type": "code",
   "execution_count": 171,
   "id": "5a7c48b9-5165-4bab-946f-ec7a582c141d",
   "metadata": {},
   "outputs": [
    {
     "data": {
      "text/plain": [
       "'c'"
      ]
     },
     "execution_count": 171,
     "metadata": {},
     "output_type": "execute_result"
    }
   ],
   "source": [
    "func(\"sachin\")"
   ]
  },
  {
   "cell_type": "code",
   "execution_count": 172,
   "id": "e3711f6d-ff36-4f9d-8595-f0ddf68d3184",
   "metadata": {},
   "outputs": [
    {
     "data": {
      "text/plain": [
       "'data science'"
      ]
     },
     "execution_count": 172,
     "metadata": {},
     "output_type": "execute_result"
    }
   ],
   "source": [
    "func(['sachin', 1001, 'data science', 10000, 3000])"
   ]
  },
  {
   "cell_type": "code",
   "execution_count": 163,
   "id": "3d97d77c-8067-4479-8379-ce23a0fb91ae",
   "metadata": {},
   "outputs": [],
   "source": [
    "data = [\n",
    "    ['sachin', 1001, 'data science', 10000, 3000],\n",
    "    ['jatin', 1121, 'linux', 5000, 1000],\n",
    "    ['seema', 1234, 'Cloud', 15000, 10000],\n",
    "    ['ravi', 1111, 'Data analytics', 17000, 7000]]\n",
    "\n"
   ]
  },
  {
   "cell_type": "code",
   "execution_count": 164,
   "id": "0b3cb488-a66f-4177-8597-41cdd6e57a20",
   "metadata": {},
   "outputs": [],
   "source": [
    "data.sort() # ? "
   ]
  },
  {
   "cell_type": "code",
   "execution_count": 166,
   "id": "290e25b5-cc28-4645-acca-a7bfaead32b9",
   "metadata": {},
   "outputs": [
    {
     "data": {
      "text/plain": [
       "[['jatin', 1121, 'linux', 5000, 1000],\n",
       " ['ravi', 1111, 'Data analytics', 17000, 7000],\n",
       " ['sachin', 1001, 'data science', 10000, 3000],\n",
       " ['seema', 1234, 'Cloud', 15000, 10000]]"
      ]
     },
     "execution_count": 166,
     "metadata": {},
     "output_type": "execute_result"
    }
   ],
   "source": [
    "data # ? "
   ]
  },
  {
   "cell_type": "code",
   "execution_count": 173,
   "id": "285b28b2-7156-43ed-b26b-e6b1155870a6",
   "metadata": {},
   "outputs": [],
   "source": [
    "from operator import itemgetter\n",
    "data.sort(reverse=True, key=itemgetter(4))"
   ]
  },
  {
   "cell_type": "code",
   "execution_count": 174,
   "id": "54c93d92-2c52-4eb3-8e82-0feda79ad36a",
   "metadata": {},
   "outputs": [
    {
     "data": {
      "text/plain": [
       "[['seema', 1234, 'Cloud', 15000, 10000],\n",
       " ['ravi', 1111, 'Data analytics', 17000, 7000],\n",
       " ['sachin', 1001, 'data science', 10000, 3000],\n",
       " ['jatin', 1121, 'linux', 5000, 1000]]"
      ]
     },
     "execution_count": 174,
     "metadata": {},
     "output_type": "execute_result"
    }
   ],
   "source": [
    "data"
   ]
  },
  {
   "cell_type": "code",
   "execution_count": 161,
   "id": "0bf5a45a-2ebb-4091-9c1a-b31fd2e5c748",
   "metadata": {},
   "outputs": [
    {
     "data": {
      "text/plain": [
       "'A'"
      ]
     },
     "execution_count": 161,
     "metadata": {},
     "output_type": "execute_result"
    }
   ],
   "source": [
    "chr(65)"
   ]
  },
  {
   "cell_type": "code",
   "execution_count": 162,
   "id": "ae2a5b96-2716-48e1-991f-696a1cfefa47",
   "metadata": {},
   "outputs": [
    {
     "data": {
      "text/plain": [
       "'a'"
      ]
     },
     "execution_count": 162,
     "metadata": {},
     "output_type": "execute_result"
    }
   ],
   "source": [
    "chr(97)"
   ]
  },
  {
   "cell_type": "code",
   "execution_count": 160,
   "id": "23213c96-8de2-40e3-bdf2-3647dfa7bbb1",
   "metadata": {},
   "outputs": [
    {
     "name": "stdout",
     "output_type": "stream",
     "text": [
      "['Sachin', 'ghyan shyam', 'ram', 'shyam']\n"
     ]
    }
   ],
   "source": [
    "exp = [\"ram\", \"shyam\", \"ghyan shyam\", \"Sachin\" ]\n",
    "\n",
    "exp.sort()\n",
    "\n",
    "print(exp)"
   ]
  },
  {
   "cell_type": "code",
   "execution_count": 158,
   "id": "6cabc0eb-36d5-47b5-8f79-877f24101d60",
   "metadata": {},
   "outputs": [
    {
     "ename": "TypeError",
     "evalue": "'<' not supported between instances of 'str' and 'int'",
     "output_type": "error",
     "traceback": [
      "\u001b[0;31m---------------------------------------------------------------------------\u001b[0m",
      "\u001b[0;31mTypeError\u001b[0m                                 Traceback (most recent call last)",
      "Cell \u001b[0;32mIn[158], line 2\u001b[0m\n\u001b[1;32m      1\u001b[0m exp \u001b[38;5;241m=\u001b[39m [ \u001b[38;5;241m1\u001b[39m, \u001b[38;5;241m2\u001b[39m, \u001b[38;5;124m'\u001b[39m\u001b[38;5;124mhi\u001b[39m\u001b[38;5;124m'\u001b[39m, \u001b[38;5;124m'\u001b[39m\u001b[38;5;124mbye\u001b[39m\u001b[38;5;124m'\u001b[39m]\n\u001b[0;32m----> 2\u001b[0m exp\u001b[38;5;241m.\u001b[39msort()\n\u001b[1;32m      3\u001b[0m \u001b[38;5;28mprint\u001b[39m(exp)\n",
      "\u001b[0;31mTypeError\u001b[0m: '<' not supported between instances of 'str' and 'int'"
     ]
    }
   ],
   "source": [
    "exp = [ 1, 2, 'hi', 'bye']\n",
    "exp.sort()\n",
    "print(exp)"
   ]
  },
  {
   "cell_type": "code",
   "execution_count": null,
   "id": "0fb29ee4-ff5d-4320-97a6-9a7d96ff040c",
   "metadata": {},
   "outputs": [],
   "source": []
  }
 ],
 "metadata": {
  "kernelspec": {
   "display_name": "Python [conda env:base] *",
   "language": "python",
   "name": "conda-base-py"
  },
  "language_info": {
   "codemirror_mode": {
    "name": "ipython",
    "version": 3
   },
   "file_extension": ".py",
   "mimetype": "text/x-python",
   "name": "python",
   "nbconvert_exporter": "python",
   "pygments_lexer": "ipython3",
   "version": "3.12.7"
  }
 },
 "nbformat": 4,
 "nbformat_minor": 5
}
