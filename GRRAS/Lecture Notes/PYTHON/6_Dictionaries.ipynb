{
 "cells": [
  {
   "cell_type": "markdown",
   "id": "2e917308-45e5-41e7-a9f9-268e868a5ca2",
   "metadata": {},
   "source": [
    "# Indexing and Slicing \n",
    "\n",
    "    Ordered collection supports indexing and slicing "
   ]
  },
  {
   "cell_type": "code",
   "execution_count": 1,
   "id": "f594549d-f1e4-406b-8707-deb3f34e26ff",
   "metadata": {},
   "outputs": [],
   "source": [
    "s = \"Hello World!\""
   ]
  },
  {
   "cell_type": "code",
   "execution_count": 3,
   "id": "8eabe843-256f-47c4-86d2-99885b3d74fd",
   "metadata": {},
   "outputs": [
    {
     "name": "stdout",
     "output_type": "stream",
     "text": [
      "12\n"
     ]
    }
   ],
   "source": [
    "n = len(s)  # n - no of values in a collection\n",
    "print(n)"
   ]
  },
  {
   "cell_type": "markdown",
   "id": "03aa0cac-bc80-4f75-afbb-b583add25260",
   "metadata": {},
   "source": [
    "indexing range - 0 to n-1"
   ]
  },
  {
   "cell_type": "code",
   "execution_count": 4,
   "id": "6708d0bf-5e44-4820-b133-81652d1ab33b",
   "metadata": {},
   "outputs": [
    {
     "name": "stdout",
     "output_type": "stream",
     "text": [
      "(0, 'H')\n",
      "(1, 'e')\n",
      "(2, 'l')\n",
      "(3, 'l')\n",
      "(4, 'o')\n",
      "(5, ' ')\n",
      "(6, 'W')\n",
      "(7, 'o')\n",
      "(8, 'r')\n",
      "(9, 'l')\n",
      "(10, 'd')\n",
      "(11, '!')\n"
     ]
    }
   ],
   "source": [
    "s = \"Hello World!\"\n",
    "print(*enumerate(s), sep=\"\\n\")"
   ]
  },
  {
   "cell_type": "code",
   "execution_count": 5,
   "id": "17f855c1-ce67-4d22-8c5c-88e47dc42979",
   "metadata": {},
   "outputs": [
    {
     "name": "stdout",
     "output_type": "stream",
     "text": [
      "W\n"
     ]
    }
   ],
   "source": [
    "c = s[6]\n",
    "print(c)"
   ]
  },
  {
   "cell_type": "code",
   "execution_count": 6,
   "id": "6d9c4400-ee93-4f1e-b5ee-2b20ccc8ef3b",
   "metadata": {},
   "outputs": [
    {
     "ename": "KeyboardInterrupt",
     "evalue": "",
     "output_type": "error",
     "traceback": [
      "\u001b[0;31m---------------------------------------------------------------------------\u001b[0m",
      "\u001b[0;31mKeyboardInterrupt\u001b[0m                         Traceback (most recent call last)",
      "Cell \u001b[0;32mIn[6], line 1\u001b[0m\n\u001b[0;32m----> 1\u001b[0m \u001b[38;5;28;01mwhile\u001b[39;00m \u001b[38;5;28;01mTrue\u001b[39;00m:\n\u001b[1;32m      2\u001b[0m     \u001b[38;5;28;01mpass\u001b[39;00m\n",
      "\u001b[0;31mKeyboardInterrupt\u001b[0m: "
     ]
    }
   ],
   "source": [
    "while True:\n",
    "    pass\n",
    "\n",
    "# Keyboard Interrupt - ctrl + c\n",
    "# ESC + II  - Interrupt"
   ]
  },
  {
   "cell_type": "code",
   "execution_count": 7,
   "id": "4dd47ba8-76d9-42c0-98fc-7bc784dd5faf",
   "metadata": {},
   "outputs": [
    {
     "name": "stdout",
     "output_type": "stream",
     "text": [
      "Hello World!\n"
     ]
    }
   ],
   "source": [
    "print(\"Hello World!\")"
   ]
  },
  {
   "cell_type": "code",
   "execution_count": 9,
   "id": "2cc9987a-7272-4d4c-af8d-c7c719b78bc5",
   "metadata": {},
   "outputs": [
    {
     "name": "stdout",
     "output_type": "stream",
     "text": [
      "12\n"
     ]
    }
   ],
   "source": [
    "s = \"Hello World!\"\n",
    "print(len(s))"
   ]
  },
  {
   "cell_type": "code",
   "execution_count": 12,
   "id": "613e8afe-9c18-4b1d-a29e-b99e23597f34",
   "metadata": {},
   "outputs": [
    {
     "name": "stdout",
     "output_type": "stream",
     "text": [
      "!\n"
     ]
    }
   ],
   "source": [
    "c = s[len(s)-1] #s[11]\n",
    "print(c)"
   ]
  },
  {
   "cell_type": "markdown",
   "id": "b948cfed-7db5-4d52-a480-2a9a5a927097",
   "metadata": {},
   "source": [
    "    left to right indexing positive indexing - 0 to n-1\n",
    "\n",
    "    right to left indexing negative indexing - -1 to -n"
   ]
  },
  {
   "cell_type": "code",
   "execution_count": 13,
   "id": "0ae23fba-4b38-43a4-9f06-d2ce51922dea",
   "metadata": {},
   "outputs": [
    {
     "data": {
      "text/plain": [
       "'!'"
      ]
     },
     "execution_count": 13,
     "metadata": {},
     "output_type": "execute_result"
    }
   ],
   "source": [
    "s[-1]"
   ]
  },
  {
   "cell_type": "code",
   "execution_count": 14,
   "id": "30d3a003-2e29-4eed-953d-8c46b812eb65",
   "metadata": {},
   "outputs": [
    {
     "data": {
      "text/plain": [
       "'r'"
      ]
     },
     "execution_count": 14,
     "metadata": {},
     "output_type": "execute_result"
    }
   ],
   "source": [
    "s[-4]"
   ]
  },
  {
   "cell_type": "code",
   "execution_count": 15,
   "id": "2ddb72b3-2826-4209-bbe2-ea212a7aeb34",
   "metadata": {},
   "outputs": [
    {
     "data": {
      "text/plain": [
       "'r'"
      ]
     },
     "execution_count": 15,
     "metadata": {},
     "output_type": "execute_result"
    }
   ],
   "source": [
    "s[8]"
   ]
  },
  {
   "cell_type": "code",
   "execution_count": 19,
   "id": "d7a95f07-fef7-4fc6-884e-42877ee1211d",
   "metadata": {},
   "outputs": [],
   "source": [
    "#          -11    -10   -9      -8      -7     -6        -5     -4       -3      -2            -1   \n",
    "lang = [ \"java\", \"c\", \"c++\", \"ruby\", \"perl\", \"python\", \"php\", \"bash\", \"ruby\", \"javascript\", \"swift\" ]\n",
    "#           0     1     2      3        4       5        6       7      8          9          1o"
   ]
  },
  {
   "cell_type": "code",
   "execution_count": 18,
   "id": "92d5ce6d-1e5c-4142-860e-d5be76318d2d",
   "metadata": {},
   "outputs": [
    {
     "name": "stdout",
     "output_type": "stream",
     "text": [
      "python\n"
     ]
    }
   ],
   "source": [
    "print(lang[5])"
   ]
  },
  {
   "cell_type": "code",
   "execution_count": 17,
   "id": "fccb0ada-4d69-4c55-83da-9fae05f4358b",
   "metadata": {},
   "outputs": [
    {
     "name": "stdout",
     "output_type": "stream",
     "text": [
      "ruby\n"
     ]
    }
   ],
   "source": [
    "print(lang[-3]) # ? "
   ]
  },
  {
   "cell_type": "markdown",
   "id": "9010607d-1609-488e-b077-69f0bc26b39e",
   "metadata": {},
   "source": [
    "# Slicing \n",
    "\n",
    "    sub sequence of a sequence \n",
    "\n",
    "    iterable   sequence   collection list"
   ]
  },
  {
   "cell_type": "code",
   "execution_count": 21,
   "id": "2b467989-ce04-4c15-86f0-670c22a21ebc",
   "metadata": {},
   "outputs": [],
   "source": [
    "s = \"hello world! my name is sachin, and I am learning python.\""
   ]
  },
  {
   "cell_type": "code",
   "execution_count": 28,
   "id": "27c035b8-c390-4ec8-8119-f2daed606b44",
   "metadata": {},
   "outputs": [
    {
     "name": "stdout",
     "output_type": "stream",
     "text": [
      "sachin\n"
     ]
    }
   ],
   "source": [
    "start = 24; end = 29\n",
    "ns = \"\"\n",
    "for i in range(start, end+1):\n",
    "    ns = ns + s[i]\n",
    "print(ns)"
   ]
  },
  {
   "cell_type": "code",
   "execution_count": 27,
   "id": "889af8bd-526f-4ade-a886-8bfd0004b079",
   "metadata": {},
   "outputs": [
    {
     "data": {
      "text/plain": [
       "'sachin'"
      ]
     },
     "execution_count": 27,
     "metadata": {},
     "output_type": "execute_result"
    }
   ],
   "source": [
    "s[24]+s[25]+s[26]+s[27]+s[28]+s[29]"
   ]
  },
  {
   "cell_type": "code",
   "execution_count": 23,
   "id": "4819d490-420f-409f-9343-30cb5bd0bcad",
   "metadata": {},
   "outputs": [
    {
     "name": "stdout",
     "output_type": "stream",
     "text": [
      "Help on built-in function index:\n",
      "\n",
      "index(...) method of builtins.str instance\n",
      "    S.index(sub[, start[, end]]) -> int\n",
      "\n",
      "    Return the lowest index in S where substring sub is found,\n",
      "    such that sub is contained within S[start:end].  Optional\n",
      "    arguments start and end are interpreted as in slice notation.\n",
      "\n",
      "    Raises ValueError when the substring is not found.\n",
      "\n"
     ]
    }
   ],
   "source": [
    "help(s.index)"
   ]
  },
  {
   "cell_type": "code",
   "execution_count": 24,
   "id": "7ca004a5-47fb-44ac-bc48-cef8352b2beb",
   "metadata": {},
   "outputs": [
    {
     "data": {
      "text/plain": [
       "24"
      ]
     },
     "execution_count": 24,
     "metadata": {},
     "output_type": "execute_result"
    }
   ],
   "source": [
    "s.index('s', 23)"
   ]
  },
  {
   "cell_type": "code",
   "execution_count": 29,
   "id": "3c962e46-bbdd-4609-adea-ad05e63fc2be",
   "metadata": {},
   "outputs": [],
   "source": [
    "s = \"hello world! my name is sachin, and I am learning python.\""
   ]
  },
  {
   "cell_type": "markdown",
   "id": "9a625b81-5919-4fe9-97e1-cb807857514a",
   "metadata": {},
   "source": [
    "    obj[ix]  -> indexing\n",
    "\n",
    "    obj[start:end:step] -> Slicing \n",
    "\n",
    "        step = 1 is default"
   ]
  },
  {
   "cell_type": "code",
   "execution_count": 31,
   "id": "8d0afc42-629f-4c44-a894-286dbe267504",
   "metadata": {},
   "outputs": [
    {
     "data": {
      "text/plain": [
       "'sachin'"
      ]
     },
     "execution_count": 31,
     "metadata": {},
     "output_type": "execute_result"
    }
   ],
   "source": [
    "s[24:30]"
   ]
  },
  {
   "cell_type": "code",
   "execution_count": 32,
   "id": "9048e25c-685f-4082-b63d-ab50dc0e104d",
   "metadata": {},
   "outputs": [],
   "source": [
    "s = \"Hello World!\""
   ]
  },
  {
   "cell_type": "code",
   "execution_count": 34,
   "id": "b3761ee6-de0a-4484-b884-6afc88137053",
   "metadata": {},
   "outputs": [
    {
     "data": {
      "text/plain": [
       "'ello '"
      ]
     },
     "execution_count": 34,
     "metadata": {},
     "output_type": "execute_result"
    }
   ],
   "source": [
    "s[1:6]"
   ]
  },
  {
   "cell_type": "code",
   "execution_count": 40,
   "id": "d19ce366-0afc-43b0-bf49-7ded0ca9634c",
   "metadata": {},
   "outputs": [
    {
     "data": {
      "text/plain": [
       "'World'"
      ]
     },
     "execution_count": 40,
     "metadata": {},
     "output_type": "execute_result"
    }
   ],
   "source": [
    "s[6:11:1]"
   ]
  },
  {
   "cell_type": "code",
   "execution_count": 35,
   "id": "b3345104-657c-4480-911f-bd3cb9062cd5",
   "metadata": {},
   "outputs": [
    {
     "data": {
      "text/plain": [
       "'World'"
      ]
     },
     "execution_count": 35,
     "metadata": {},
     "output_type": "execute_result"
    }
   ],
   "source": [
    "s[6:11]  # 6, 7, 8, 9, 10"
   ]
  },
  {
   "cell_type": "markdown",
   "id": "36bcca8d-b4ba-45ef-a54f-5b3cecd10d45",
   "metadata": {},
   "source": [
    "    default slicing happens from left to right "
   ]
  },
  {
   "cell_type": "code",
   "execution_count": 36,
   "id": "a02cf4c7-de41-499b-8796-80f7913254c5",
   "metadata": {},
   "outputs": [],
   "source": [
    "s = \"Hello World!\""
   ]
  },
  {
   "cell_type": "code",
   "execution_count": 41,
   "id": "246e7533-144c-44cf-8825-8c4aaa262994",
   "metadata": {},
   "outputs": [
    {
     "data": {
      "text/plain": [
       "''"
      ]
     },
     "execution_count": 41,
     "metadata": {},
     "output_type": "execute_result"
    }
   ],
   "source": [
    "s[4:0:1]"
   ]
  },
  {
   "cell_type": "code",
   "execution_count": 38,
   "id": "efc4c234-699e-47cf-95a3-17c252edc833",
   "metadata": {},
   "outputs": [
    {
     "data": {
      "text/plain": [
       "''"
      ]
     },
     "execution_count": 38,
     "metadata": {},
     "output_type": "execute_result"
    }
   ],
   "source": [
    "s[4:0] # 4, 5, 6, ... ? "
   ]
  },
  {
   "cell_type": "code",
   "execution_count": 39,
   "id": "b190289c-453e-46fb-9a14-16d0d8ecb114",
   "metadata": {},
   "outputs": [
    {
     "data": {
      "text/plain": [
       "'World'"
      ]
     },
     "execution_count": 39,
     "metadata": {},
     "output_type": "execute_result"
    }
   ],
   "source": [
    "s[-6:-1:1]"
   ]
  },
  {
   "cell_type": "code",
   "execution_count": 37,
   "id": "06fe1741-3946-4876-a8b1-8937a5bc7bb9",
   "metadata": {},
   "outputs": [
    {
     "data": {
      "text/plain": [
       "'World'"
      ]
     },
     "execution_count": 37,
     "metadata": {},
     "output_type": "execute_result"
    }
   ],
   "source": [
    "s[-6:-1]"
   ]
  },
  {
   "cell_type": "code",
   "execution_count": 42,
   "id": "b8ee002d-e98e-47c1-a07a-1cec394eca4f",
   "metadata": {},
   "outputs": [],
   "source": [
    "s = \"Hello World!\""
   ]
  },
  {
   "cell_type": "code",
   "execution_count": 48,
   "id": "a5b0600f-ee9b-4f9c-91d6-617444361f76",
   "metadata": {},
   "outputs": [
    {
     "data": {
      "text/plain": [
       "'Hello Worl'"
      ]
     },
     "execution_count": 48,
     "metadata": {},
     "output_type": "execute_result"
    }
   ],
   "source": [
    "s[:-2]"
   ]
  },
  {
   "cell_type": "code",
   "execution_count": 47,
   "id": "874200b1-56bb-499a-8786-2d28b3d47fc9",
   "metadata": {},
   "outputs": [
    {
     "data": {
      "text/plain": [
       "'Hello World'"
      ]
     },
     "execution_count": 47,
     "metadata": {},
     "output_type": "execute_result"
    }
   ],
   "source": [
    "s[:-1]"
   ]
  },
  {
   "cell_type": "code",
   "execution_count": 46,
   "id": "f21730c8-cd08-41a0-89df-65679d436669",
   "metadata": {},
   "outputs": [
    {
     "data": {
      "text/plain": [
       "'Hello W'"
      ]
     },
     "execution_count": 46,
     "metadata": {},
     "output_type": "execute_result"
    }
   ],
   "source": [
    "s[:-5]"
   ]
  },
  {
   "cell_type": "code",
   "execution_count": 45,
   "id": "b70bdd18-3bef-40de-b4c5-b1fc0bbadd7b",
   "metadata": {},
   "outputs": [
    {
     "data": {
      "text/plain": [
       "'World!'"
      ]
     },
     "execution_count": 45,
     "metadata": {},
     "output_type": "execute_result"
    }
   ],
   "source": [
    "s[-6:]"
   ]
  },
  {
   "cell_type": "code",
   "execution_count": 43,
   "id": "c6806773-a467-4491-bcf0-431c77ec619e",
   "metadata": {},
   "outputs": [
    {
     "data": {
      "text/plain": [
       "'Hello'"
      ]
     },
     "execution_count": 43,
     "metadata": {},
     "output_type": "execute_result"
    }
   ],
   "source": [
    "s[:5]"
   ]
  },
  {
   "cell_type": "code",
   "execution_count": 44,
   "id": "14b20547-d8a1-49d8-b01e-311f64b0c678",
   "metadata": {},
   "outputs": [
    {
     "data": {
      "text/plain": [
       "'World!'"
      ]
     },
     "execution_count": 44,
     "metadata": {},
     "output_type": "execute_result"
    }
   ],
   "source": [
    "s[6:]"
   ]
  },
  {
   "cell_type": "markdown",
   "id": "c4d02d11-febd-4d16-a871-8194855e5f1d",
   "metadata": {},
   "source": [
    "`seq[:n]` - to access first n elements of a sequence \n",
    "\n",
    "`seq[-n:]` - to access last n elements of a sequence\n",
    "\n",
    "`seq[:-n]` - to discard last n elements of a sequence\n",
    "\n",
    "`seq[n:]` - to discard first n elements of a sequence"
   ]
  },
  {
   "cell_type": "code",
   "execution_count": 52,
   "id": "6107b41b-8f5e-4a36-91d8-54b3412e2d75",
   "metadata": {},
   "outputs": [],
   "source": [
    "#          -11    -10   -9      -8      -7     -6        -5     -4       -3      -2            -1   \n",
    "lang = [ \"java\", \"c\", \"c++\", \"ruby\", \"perl\", \"python\", \"php\", \"bash\", \"ruby\", \"javascript\", \"swift\" ]\n",
    "#           0     1     2      3        4       5        6       7      8          9          1o"
   ]
  },
  {
   "cell_type": "markdown",
   "id": "58cd584e-3abd-4d1c-b842-944f7a89ac64",
   "metadata": {},
   "source": [
    "`Slicing always returns a new sub-sequence`"
   ]
  },
  {
   "cell_type": "code",
   "execution_count": 58,
   "id": "d26e0f98-8867-404f-ab74-f07e0fd3f2ef",
   "metadata": {},
   "outputs": [
    {
     "name": "stdout",
     "output_type": "stream",
     "text": [
      "False\n"
     ]
    }
   ],
   "source": [
    "old_lang = lang[:] # copy \n",
    "\n",
    "print(lang is old_lang)"
   ]
  },
  {
   "cell_type": "code",
   "execution_count": 57,
   "id": "67be0667-f02f-4eaf-8648-d328536a838c",
   "metadata": {},
   "outputs": [
    {
     "name": "stdout",
     "output_type": "stream",
     "text": [
      "['java', 'c', 'c++', 'ruby', 'perl', 'python', 'php', 'bash', 'ruby', 'javascript', 'swift']\n"
     ]
    }
   ],
   "source": [
    "print(lang[:])"
   ]
  },
  {
   "cell_type": "code",
   "execution_count": 56,
   "id": "960778fa-f2cd-49f7-8065-f6bcfb23ce20",
   "metadata": {},
   "outputs": [
    {
     "name": "stdout",
     "output_type": "stream",
     "text": [
      "[]\n"
     ]
    }
   ],
   "source": [
    "print(lang[-8:2])"
   ]
  },
  {
   "cell_type": "code",
   "execution_count": 55,
   "id": "60497474-6c04-420c-b79f-43be0e7687c2",
   "metadata": {},
   "outputs": [
    {
     "name": "stdout",
     "output_type": "stream",
     "text": [
      "['c++', 'ruby', 'perl', 'python', 'php', 'bash', 'ruby']\n"
     ]
    }
   ],
   "source": [
    "print(lang[-9:9])"
   ]
  },
  {
   "cell_type": "code",
   "execution_count": 54,
   "id": "b4cf1aa8-19aa-4c65-acc8-10c8272a3de7",
   "metadata": {},
   "outputs": [
    {
     "name": "stdout",
     "output_type": "stream",
     "text": [
      "['ruby', 'perl', 'python', 'php', 'bash', 'ruby']\n"
     ]
    }
   ],
   "source": [
    "print(lang[-8: -2]) # ?"
   ]
  },
  {
   "cell_type": "code",
   "execution_count": 53,
   "id": "d1be9376-9e20-4504-a51f-81346b8864ca",
   "metadata": {},
   "outputs": [
    {
     "name": "stdout",
     "output_type": "stream",
     "text": [
      "['ruby', 'perl', 'python', 'php', 'bash', 'ruby', 'javascript', 'swift']\n"
     ]
    }
   ],
   "source": [
    "print(lang[3:])"
   ]
  },
  {
   "cell_type": "code",
   "execution_count": 59,
   "id": "b554febc-f214-4a2c-a652-879d52785ff6",
   "metadata": {},
   "outputs": [],
   "source": [
    "# seq[start:end:step]"
   ]
  },
  {
   "cell_type": "markdown",
   "id": "f51cbdb2-035a-48bd-8659-e1cd0992bb12",
   "metadata": {},
   "source": [
    "\n",
    "    -12   -11   -10  -9  -8  -7  -6  -5  -4  -3  -2  -1  \n",
    "     H      e     l   l   o       W   o   r   l   d   !\n",
    "     0      1     2   3   4   5   6   7   8   9   19  11"
   ]
  },
  {
   "cell_type": "code",
   "execution_count": 61,
   "id": "d45c80da-8fb9-4477-91e4-b59c40a69b7a",
   "metadata": {},
   "outputs": [],
   "source": [
    "s = \"Hello World!\""
   ]
  },
  {
   "cell_type": "code",
   "execution_count": 69,
   "id": "28784a85-57e0-456a-b5ad-0899820a3044",
   "metadata": {},
   "outputs": [
    {
     "data": {
      "text/plain": [
       "'dlro'"
      ]
     },
     "execution_count": 69,
     "metadata": {},
     "output_type": "execute_result"
    }
   ],
   "source": [
    "s[-2:-6:-1]"
   ]
  },
  {
   "cell_type": "code",
   "execution_count": 68,
   "id": "5965e4be-431f-44dd-8477-04d9fa6ef46a",
   "metadata": {},
   "outputs": [
    {
     "data": {
      "text/plain": [
       "' olleH'"
      ]
     },
     "execution_count": 68,
     "metadata": {},
     "output_type": "execute_result"
    }
   ],
   "source": [
    "s[5::-1]"
   ]
  },
  {
   "cell_type": "code",
   "execution_count": 63,
   "id": "c4b9a33c-37c8-414e-ae65-1e1bd0d0380d",
   "metadata": {},
   "outputs": [
    {
     "data": {
      "text/plain": [
       "'HloWrd'"
      ]
     },
     "execution_count": 63,
     "metadata": {},
     "output_type": "execute_result"
    }
   ],
   "source": [
    "s[::2]"
   ]
  },
  {
   "cell_type": "code",
   "execution_count": 72,
   "id": "6e2703ea-c8da-458d-b4e6-327aa0be3c75",
   "metadata": {},
   "outputs": [
    {
     "data": {
      "text/plain": [
       "'olleh'"
      ]
     },
     "execution_count": 72,
     "metadata": {},
     "output_type": "execute_result"
    }
   ],
   "source": [
    "\"hello\"[::-1]"
   ]
  },
  {
   "cell_type": "code",
   "execution_count": 62,
   "id": "946c82e7-1e18-47b7-b9c0-ade61c23f863",
   "metadata": {},
   "outputs": [
    {
     "data": {
      "text/plain": [
       "'el o'"
      ]
     },
     "execution_count": 62,
     "metadata": {},
     "output_type": "execute_result"
    }
   ],
   "source": [
    "s[1:9:2]"
   ]
  },
  {
   "cell_type": "code",
   "execution_count": 64,
   "id": "edca1082-f31b-4cfc-8c35-158c9eadb2ba",
   "metadata": {},
   "outputs": [],
   "source": [
    "#          -11    -10   -9      -8      -7     -6        -5     -4       -3      -2            -1   \n",
    "lang = [ \"java\", \"c\", \"c++\", \"ruby\", \"perl\", \"python\", \"php\", \"bash\", \"ruby\", \"javascript\", \"swift\" ]\n",
    "#           0     1     2      3        4       5        6       7      8          9          1o"
   ]
  },
  {
   "cell_type": "code",
   "execution_count": 71,
   "id": "339c6d88-24a3-45ef-8acb-4924024bdd4f",
   "metadata": {},
   "outputs": [
    {
     "data": {
      "text/plain": [
       "['swift',\n",
       " 'javascript',\n",
       " 'ruby',\n",
       " 'bash',\n",
       " 'php',\n",
       " 'python',\n",
       " 'perl',\n",
       " 'ruby',\n",
       " 'c++',\n",
       " 'c',\n",
       " 'java']"
      ]
     },
     "execution_count": 71,
     "metadata": {},
     "output_type": "execute_result"
    }
   ],
   "source": [
    "lang[::-1]"
   ]
  },
  {
   "cell_type": "code",
   "execution_count": 70,
   "id": "482c52ad-375b-42db-b304-2b07ae7bfa46",
   "metadata": {},
   "outputs": [
    {
     "data": {
      "text/plain": [
       "['swift', 'ruby', 'php', 'perl', 'c++', 'java']"
      ]
     },
     "execution_count": 70,
     "metadata": {},
     "output_type": "execute_result"
    }
   ],
   "source": [
    "lang[::-2]"
   ]
  },
  {
   "cell_type": "code",
   "execution_count": 67,
   "id": "c57fd672-f21b-470a-a4b1-5b2c8fa907d1",
   "metadata": {},
   "outputs": [
    {
     "data": {
      "text/plain": [
       "['python', 'perl', 'ruby', 'c++']"
      ]
     },
     "execution_count": 67,
     "metadata": {},
     "output_type": "execute_result"
    }
   ],
   "source": [
    "lang[5:1:-1]"
   ]
  },
  {
   "cell_type": "code",
   "execution_count": 66,
   "id": "f79daf55-641b-43b9-92da-fa50345f5406",
   "metadata": {},
   "outputs": [
    {
     "data": {
      "text/plain": [
       "[]"
      ]
     },
     "execution_count": 66,
     "metadata": {},
     "output_type": "execute_result"
    }
   ],
   "source": [
    "lang[1:5:-1]"
   ]
  },
  {
   "cell_type": "code",
   "execution_count": 65,
   "id": "ec4385e3-215d-4b80-821f-898c9a9f3784",
   "metadata": {},
   "outputs": [
    {
     "data": {
      "text/plain": [
       "['c', 'perl', 'bash']"
      ]
     },
     "execution_count": 65,
     "metadata": {},
     "output_type": "execute_result"
    }
   ],
   "source": [
    "lang[1:10:3]"
   ]
  },
  {
   "cell_type": "code",
   "execution_count": 74,
   "id": "13cf8f02-82a9-4421-be16-08779b7aae95",
   "metadata": {},
   "outputs": [
    {
     "name": "stdout",
     "output_type": "stream",
     "text": [
      "We will start in     0 seconds."
     ]
    }
   ],
   "source": [
    "import time\n",
    "end = 300\n",
    "for i in range(end+1):\n",
    "    print(f\"\\rWe will start in {end-i:>5} seconds.\", end=\"\")\n",
    "    time.sleep(1)"
   ]
  },
  {
   "cell_type": "markdown",
   "id": "996ee80b-705d-43b5-a689-79b49ff538bd",
   "metadata": {},
   "source": [
    "# Tuple\n",
    "\n",
    "    an immutable list \n",
    "\n",
    "    static collection type "
   ]
  },
  {
   "cell_type": "code",
   "execution_count": 75,
   "id": "6fdcb7c2-29c3-4e28-bee8-3900e67311f3",
   "metadata": {},
   "outputs": [],
   "source": [
    "lang = (\"java\", \"c\", \"c++\", \"python\")"
   ]
  },
  {
   "cell_type": "code",
   "execution_count": 78,
   "id": "2877a813-9fef-44eb-a830-acf93c426f51",
   "metadata": {},
   "outputs": [
    {
     "name": "stdout",
     "output_type": "stream",
     "text": [
      "<class 'tuple'>\n",
      "5373458160\n",
      "('java', 'c', 'c++', 'python')\n"
     ]
    }
   ],
   "source": [
    "print(type(lang))\n",
    "print(id(lang))\n",
    "print(lang)"
   ]
  },
  {
   "cell_type": "code",
   "execution_count": 77,
   "id": "56ef65b1-aebf-48e1-9437-f9bd89e7a9cb",
   "metadata": {},
   "outputs": [
    {
     "name": "stdout",
     "output_type": "stream",
     "text": [
      "['__add__', '__class__', '__class_getitem__', '__contains__', '__delattr__', '__dir__', '__doc__', '__eq__', '__format__', '__ge__', '__getattribute__', '__getitem__', '__getnewargs__', '__getstate__', '__gt__', '__hash__', '__init__', '__init_subclass__', '__iter__', '__le__', '__len__', '__lt__', '__mul__', '__ne__', '__new__', '__reduce__', '__reduce_ex__', '__repr__', '__rmul__', '__setattr__', '__sizeof__', '__str__', '__subclasshook__', 'count', 'index']\n"
     ]
    }
   ],
   "source": [
    "print(dir(tuple))"
   ]
  },
  {
   "cell_type": "code",
   "execution_count": 79,
   "id": "4aebfb69-c883-437c-b698-06f0f3c8a939",
   "metadata": {},
   "outputs": [
    {
     "name": "stdout",
     "output_type": "stream",
     "text": [
      "('java', 'c', 'c++', 'python', 'java', 'c', 'c++', 'python')\n"
     ]
    }
   ],
   "source": [
    "lang = lang + lang\n",
    "print(lang)"
   ]
  },
  {
   "cell_type": "code",
   "execution_count": 80,
   "id": "b3787529-651d-4575-ad41-dc05010f71b7",
   "metadata": {},
   "outputs": [
    {
     "name": "stdout",
     "output_type": "stream",
     "text": [
      "5374721856\n"
     ]
    }
   ],
   "source": [
    "print(id(lang))"
   ]
  },
  {
   "cell_type": "code",
   "execution_count": 81,
   "id": "4a2c2ff0-0151-4c0f-85ae-7996ede66f9d",
   "metadata": {},
   "outputs": [],
   "source": [
    "lang = (\"java\", \"c\", \"c++\", \"python\")"
   ]
  },
  {
   "cell_type": "code",
   "execution_count": 82,
   "id": "c237e2c8-aa39-4431-bbfd-8fd4f620b92d",
   "metadata": {},
   "outputs": [
    {
     "data": {
      "text/plain": [
       "'java'"
      ]
     },
     "execution_count": 82,
     "metadata": {},
     "output_type": "execute_result"
    }
   ],
   "source": [
    "lang[0]"
   ]
  },
  {
   "cell_type": "code",
   "execution_count": 83,
   "id": "dd713c92-8d13-4332-b88a-7501c598c878",
   "metadata": {},
   "outputs": [
    {
     "data": {
      "text/plain": [
       "('python', 'c++', 'c', 'java')"
      ]
     },
     "execution_count": 83,
     "metadata": {},
     "output_type": "execute_result"
    }
   ],
   "source": [
    "lang[::-1]"
   ]
  },
  {
   "cell_type": "code",
   "execution_count": 84,
   "id": "971118cc-4e2d-492f-9fc6-3da2224f9d84",
   "metadata": {},
   "outputs": [
    {
     "ename": "TypeError",
     "evalue": "'tuple' object does not support item assignment",
     "output_type": "error",
     "traceback": [
      "\u001b[0;31m---------------------------------------------------------------------------\u001b[0m",
      "\u001b[0;31mTypeError\u001b[0m                                 Traceback (most recent call last)",
      "Cell \u001b[0;32mIn[84], line 1\u001b[0m\n\u001b[0;32m----> 1\u001b[0m lang[\u001b[38;5;241m0\u001b[39m] \u001b[38;5;241m=\u001b[39m \u001b[38;5;124m\"\u001b[39m\u001b[38;5;124mruby\u001b[39m\u001b[38;5;124m\"\u001b[39m\n",
      "\u001b[0;31mTypeError\u001b[0m: 'tuple' object does not support item assignment"
     ]
    }
   ],
   "source": [
    "lang[0] = \"ruby\" # ? "
   ]
  },
  {
   "cell_type": "markdown",
   "id": "3af60496-33f8-4c71-9489-36ab56317998",
   "metadata": {},
   "source": [
    "# Dictionary \n",
    "\n",
    "    hash map type in python\n",
    "\n",
    "    mutable collection of key and value pairs, where keys are immutable types and values can be any object\n",
    "\n",
    "    unordered data type \n",
    "\n",
    "    keys are unique in a dictionary"
   ]
  },
  {
   "cell_type": "code",
   "execution_count": 90,
   "id": "8615db87-87a0-4b07-ad7c-1bc88a40e58f",
   "metadata": {},
   "outputs": [],
   "source": [
    "data = {\n",
    "    'name': 'sachin',\n",
    "    'course': 'python',\n",
    "    'fees': 10000,\n",
    "    'fees submitted': 3000\n",
    "    }"
   ]
  },
  {
   "cell_type": "code",
   "execution_count": 91,
   "id": "c00c570a-7b49-4802-90da-39420eb8e1e5",
   "metadata": {},
   "outputs": [
    {
     "name": "stdout",
     "output_type": "stream",
     "text": [
      "<class 'dict'>\n",
      "5950400000\n"
     ]
    }
   ],
   "source": [
    "print(type(data))\n",
    "print(id(data))"
   ]
  },
  {
   "cell_type": "code",
   "execution_count": 92,
   "id": "04680065-dc7d-40c7-bbaf-b97f98a73cf7",
   "metadata": {},
   "outputs": [
    {
     "name": "stdout",
     "output_type": "stream",
     "text": [
      "{'name': 'sachin', 'course': 'python', 'fees': 10000, 'fees submitted': 3000}\n"
     ]
    }
   ],
   "source": [
    "print(data)"
   ]
  },
  {
   "cell_type": "code",
   "execution_count": 93,
   "id": "93bed382-5ff0-44da-9975-35b051f31165",
   "metadata": {},
   "outputs": [
    {
     "data": {
      "text/plain": [
       "'sachin'"
      ]
     },
     "execution_count": 93,
     "metadata": {},
     "output_type": "execute_result"
    }
   ],
   "source": [
    "data['name']"
   ]
  },
  {
   "cell_type": "code",
   "execution_count": 94,
   "id": "cd1e6f1f-b759-41b7-80fc-da8911ad086a",
   "metadata": {},
   "outputs": [
    {
     "data": {
      "text/plain": [
       "10000"
      ]
     },
     "execution_count": 94,
     "metadata": {},
     "output_type": "execute_result"
    }
   ],
   "source": [
    "data['fees']"
   ]
  },
  {
   "cell_type": "code",
   "execution_count": 95,
   "id": "5f395141-311f-43ca-abb6-9da27310986f",
   "metadata": {},
   "outputs": [
    {
     "name": "stdout",
     "output_type": "stream",
     "text": [
      "7000\n"
     ]
    }
   ],
   "source": [
    "rf = data['fees'] - data['fees submitted']\n",
    "print(rf)"
   ]
  },
  {
   "cell_type": "markdown",
   "id": "9e4262a6-d70e-4683-ae66-c26e1658cf9c",
   "metadata": {},
   "source": [
    "    x = x + 10\n",
    "    x += 10"
   ]
  },
  {
   "cell_type": "code",
   "execution_count": 99,
   "id": "dc9d6f29-efb6-4e6f-903d-f30939888d18",
   "metadata": {},
   "outputs": [],
   "source": [
    "# write a code to deposit 2000 rs of fee of student sachin\n",
    "\n",
    "data['fees submitted'] = data[\"fees submitted\"] + 2000\n"
   ]
  },
  {
   "cell_type": "code",
   "execution_count": 100,
   "id": "27f6e100-d12f-4a82-93ce-c9d77b54b3ff",
   "metadata": {},
   "outputs": [
    {
     "name": "stdout",
     "output_type": "stream",
     "text": [
      "{'name': 'sachin', 'course': 'python', 'fees': 10000, 'fees submitted': 5000}\n"
     ]
    }
   ],
   "source": [
    "print(data)"
   ]
  },
  {
   "cell_type": "code",
   "execution_count": 101,
   "id": "71bdcd6d-db80-438a-ab82-c4573b17857d",
   "metadata": {},
   "outputs": [
    {
     "name": "stdin",
     "output_type": "stream",
     "text": [
      "Enter amount :  3000\n"
     ]
    },
    {
     "name": "stdout",
     "output_type": "stream",
     "text": [
      "{'name': 'sachin', 'course': 'python', 'fees': 10000, 'fees submitted': 8000}\n"
     ]
    }
   ],
   "source": [
    "amount = int(input(\"Enter amount : \"))\n",
    "\n",
    "data[\"fees submitted\"] += amount\n",
    "\n",
    "print(data)"
   ]
  },
  {
   "cell_type": "code",
   "execution_count": 102,
   "id": "081eda0d-984e-4d85-a1d6-aa33caea32d8",
   "metadata": {},
   "outputs": [
    {
     "name": "stdout",
     "output_type": "stream",
     "text": [
      "30\n"
     ]
    }
   ],
   "source": [
    "var = 10\n",
    "\n",
    "var = var + 20\n",
    "\n",
    "print(var)"
   ]
  },
  {
   "cell_type": "code",
   "execution_count": 103,
   "id": "449ddad8-0510-4602-875f-be092c3e2c95",
   "metadata": {},
   "outputs": [
    {
     "name": "stdout",
     "output_type": "stream",
     "text": [
      "30\n"
     ]
    }
   ],
   "source": [
    "var = 10\n",
    "\n",
    "var +=  20 # var = var + 20\n",
    "\n",
    "print(var)"
   ]
  },
  {
   "cell_type": "code",
   "execution_count": 104,
   "id": "ec22c8d1-20f2-4cd0-96eb-e1a4fe4d71eb",
   "metadata": {},
   "outputs": [],
   "source": [
    "var = 10"
   ]
  },
  {
   "cell_type": "code",
   "execution_count": 106,
   "id": "a5ca459a-ab64-4e14-badc-7911ed00e453",
   "metadata": {},
   "outputs": [],
   "source": [
    "var += 20"
   ]
  },
  {
   "cell_type": "code",
   "execution_count": 107,
   "id": "c99f6882-aac3-4404-90a0-acd57a93de74",
   "metadata": {},
   "outputs": [
    {
     "name": "stdout",
     "output_type": "stream",
     "text": [
      "50\n"
     ]
    }
   ],
   "source": [
    "print(var)"
   ]
  },
  {
   "cell_type": "code",
   "execution_count": 108,
   "id": "c571420b-8a8a-4443-af4c-78eb605c4979",
   "metadata": {},
   "outputs": [
    {
     "data": {
      "text/plain": [
       "{'name': 'sachin', 'course': 'python', 'fees': 10000, 'fees submitted': 8000}"
      ]
     },
     "execution_count": 108,
     "metadata": {},
     "output_type": "execute_result"
    }
   ],
   "source": [
    "data"
   ]
  },
  {
   "cell_type": "code",
   "execution_count": 110,
   "id": "a1824825-f442-4f13-9c8d-a7ac1c4fc48e",
   "metadata": {},
   "outputs": [
    {
     "name": "stdout",
     "output_type": "stream",
     "text": [
      "{'name': 'sachin', 'course': 'python', 'fees': 10000, 'fees submitted': 11000}\n"
     ]
    }
   ],
   "source": [
    "data['fees submitted'] += 2000\n",
    "\n",
    "print(data)"
   ]
  },
  {
   "cell_type": "code",
   "execution_count": 111,
   "id": "213c1eb3-6aa3-4630-af1d-b5ff26e25069",
   "metadata": {},
   "outputs": [
    {
     "name": "stdout",
     "output_type": "stream",
     "text": [
      "['__class__', '__class_getitem__', '__contains__', '__delattr__', '__delitem__', '__dir__', '__doc__', '__eq__', '__format__', '__ge__', '__getattribute__', '__getitem__', '__getstate__', '__gt__', '__hash__', '__init__', '__init_subclass__', '__ior__', '__iter__', '__le__', '__len__', '__lt__', '__ne__', '__new__', '__or__', '__reduce__', '__reduce_ex__', '__repr__', '__reversed__', '__ror__', '__setattr__', '__setitem__', '__sizeof__', '__str__', '__subclasshook__', 'clear', 'copy', 'fromkeys', 'get', 'items', 'keys', 'pop', 'popitem', 'setdefault', 'update', 'values']\n"
     ]
    }
   ],
   "source": [
    "print(dir(dict))"
   ]
  },
  {
   "cell_type": "code",
   "execution_count": null,
   "id": "50d03c05-c256-4a66-9180-19aad2a31c71",
   "metadata": {},
   "outputs": [],
   "source": []
  },
  {
   "cell_type": "code",
   "execution_count": 118,
   "id": "90ab5773-7a88-4342-844f-0c038a401845",
   "metadata": {},
   "outputs": [
    {
     "name": "stdout",
     "output_type": "stream",
     "text": [
      "{}\n"
     ]
    }
   ],
   "source": [
    "d = { \"name\": \"samsung\", \"price\": 50000, \"qty\": 10}\n",
    "dd = d.copy()\n",
    "\n",
    "d.clear()\n",
    "print(d)"
   ]
  },
  {
   "cell_type": "code",
   "execution_count": 119,
   "id": "063d0f93-2d3c-4f3e-af3f-26733e5608e3",
   "metadata": {},
   "outputs": [
    {
     "name": "stdout",
     "output_type": "stream",
     "text": [
      "{'name': 'samsung', 'price': 50000, 'qty': 10}\n"
     ]
    }
   ],
   "source": [
    "print(dd)"
   ]
  },
  {
   "cell_type": "code",
   "execution_count": 113,
   "id": "31a955ba-631b-4507-8432-168165f01be1",
   "metadata": {},
   "outputs": [
    {
     "name": "stdout",
     "output_type": "stream",
     "text": [
      "['clear', 'copy', 'fromkeys', 'get', 'items', 'keys', 'pop', 'popitem', 'setdefault', 'update', 'values']\n"
     ]
    }
   ],
   "source": [
    "print(dir(dict)[-11:])"
   ]
  },
  {
   "cell_type": "code",
   "execution_count": 114,
   "id": "6e8bb1a9-50bc-4e75-899d-5175f13602b1",
   "metadata": {},
   "outputs": [],
   "source": [
    "data = {\"x\": 10, \"y\": 20}"
   ]
  },
  {
   "cell_type": "code",
   "execution_count": 115,
   "id": "30f50c30-6c8b-4b6b-899b-2a58047de18f",
   "metadata": {},
   "outputs": [
    {
     "name": "stdout",
     "output_type": "stream",
     "text": [
      "{'x': 10, 'y': 20}\n"
     ]
    }
   ],
   "source": [
    "print(data)"
   ]
  },
  {
   "cell_type": "code",
   "execution_count": 116,
   "id": "6a29fe13-afb7-4a4f-a4ed-de02dbe67cdf",
   "metadata": {},
   "outputs": [],
   "source": [
    "data.clear()"
   ]
  },
  {
   "cell_type": "code",
   "execution_count": 117,
   "id": "2b47b5c2-1ab3-4341-a37f-c1abdb0a41c7",
   "metadata": {},
   "outputs": [
    {
     "name": "stdout",
     "output_type": "stream",
     "text": [
      "{}\n"
     ]
    }
   ],
   "source": [
    "print(data)"
   ]
  },
  {
   "cell_type": "code",
   "execution_count": 120,
   "id": "085ad6ed-6550-45ab-8eee-8718d5199741",
   "metadata": {},
   "outputs": [
    {
     "name": "stdout",
     "output_type": "stream",
     "text": [
      "['clear', 'copy', 'fromkeys', 'get', 'items', 'keys', 'pop', 'popitem', 'setdefault', 'update', 'values']\n"
     ]
    }
   ],
   "source": [
    "print(dir(dict)[-11:])"
   ]
  },
  {
   "cell_type": "code",
   "execution_count": 122,
   "id": "f6b5c805-c61f-4fe4-96df-a2ca47394b3e",
   "metadata": {},
   "outputs": [
    {
     "name": "stdout",
     "output_type": "stream",
     "text": [
      "{'title': None, 'author': None, 'price': None, 'isbn': None, 'publication': None, 'qty': None}\n"
     ]
    }
   ],
   "source": [
    "keys = [\"title\", \"author\", \"price\", \"isbn\", \"publication\", \"qty\"]\n",
    "\n",
    "book1 = dict.fromkeys(keys)\n",
    "print(book1)"
   ]
  },
  {
   "cell_type": "code",
   "execution_count": 123,
   "id": "ef81206d-0ca6-48a3-9033-ef22b9403ee4",
   "metadata": {},
   "outputs": [],
   "source": [
    "book = {\n",
    "    \"title\": \"wings on fire\",\n",
    "    \"price\": 800,\n",
    "    \"author\": \"APJ kalam\",\n",
    "    \"isbn\": 1892334546566,\n",
    "    \"publication\": \"awesome book\",\n",
    "    \"qty\": 50\n",
    "}"
   ]
  },
  {
   "cell_type": "code",
   "execution_count": 125,
   "id": "48dface1-49d2-4500-af84-59cc22cb553c",
   "metadata": {},
   "outputs": [
    {
     "name": "stdout",
     "output_type": "stream",
     "text": [
      "{'title': 'wings on fire', 'price': 800, 'author': 'APJ kalam', 'isbn': 1892334546566, 'publication': 'awesome book', 'qty': 50}\n"
     ]
    }
   ],
   "source": [
    "print(book)"
   ]
  },
  {
   "cell_type": "code",
   "execution_count": 126,
   "id": "db555334-b4ea-403e-997c-9fab047e5d4f",
   "metadata": {},
   "outputs": [
    {
     "name": "stdout",
     "output_type": "stream",
     "text": [
      "APJ kalam\n"
     ]
    }
   ],
   "source": [
    "value = book[\"author\"]\n",
    "\n",
    "print(value)"
   ]
  },
  {
   "cell_type": "code",
   "execution_count": 127,
   "id": "066d866e-22b6-4912-996b-a29b89242029",
   "metadata": {},
   "outputs": [
    {
     "ename": "KeyError",
     "evalue": "'desc'",
     "output_type": "error",
     "traceback": [
      "\u001b[0;31m---------------------------------------------------------------------------\u001b[0m",
      "\u001b[0;31mKeyError\u001b[0m                                  Traceback (most recent call last)",
      "Cell \u001b[0;32mIn[127], line 1\u001b[0m\n\u001b[0;32m----> 1\u001b[0m value \u001b[38;5;241m=\u001b[39m book[\u001b[38;5;124m\"\u001b[39m\u001b[38;5;124mdesc\u001b[39m\u001b[38;5;124m\"\u001b[39m]\n\u001b[1;32m      2\u001b[0m \u001b[38;5;28mprint\u001b[39m(value)\n",
      "\u001b[0;31mKeyError\u001b[0m: 'desc'"
     ]
    }
   ],
   "source": [
    "value = book[\"desc\"]\n",
    "print(value)"
   ]
  },
  {
   "cell_type": "code",
   "execution_count": 128,
   "id": "444fd4b9-9411-4aa3-a224-5b7b46230290",
   "metadata": {},
   "outputs": [
    {
     "data": {
      "text/plain": [
       "{'title': 'wings on fire',\n",
       " 'price': 800,\n",
       " 'author': 'APJ kalam',\n",
       " 'isbn': 1892334546566,\n",
       " 'publication': 'awesome book',\n",
       " 'qty': 50}"
      ]
     },
     "execution_count": 128,
     "metadata": {},
     "output_type": "execute_result"
    }
   ],
   "source": [
    "book"
   ]
  },
  {
   "cell_type": "code",
   "execution_count": 138,
   "id": "719129f4-7057-499c-9852-7e474b564e7c",
   "metadata": {},
   "outputs": [
    {
     "name": "stdin",
     "output_type": "stream",
     "text": [
      "what information you want about book:  description\n"
     ]
    },
    {
     "name": "stdout",
     "output_type": "stream",
     "text": [
      "Not Found\n"
     ]
    }
   ],
   "source": [
    "key = input(\"what information you want about book: \").strip().lower()\n",
    "value = book.get(key, \"Not Found\")\n",
    "print(value)"
   ]
  },
  {
   "cell_type": "code",
   "execution_count": 131,
   "id": "f5a8bb95-a307-49d9-bd76-01c89837d7a3",
   "metadata": {},
   "outputs": [
    {
     "name": "stdout",
     "output_type": "stream",
     "text": [
      "APJ kalam\n"
     ]
    }
   ],
   "source": [
    "value = book.get('author')\n",
    "print(value)"
   ]
  },
  {
   "cell_type": "code",
   "execution_count": 132,
   "id": "5eaead13-92a2-4cdc-8b40-5b4621368a3b",
   "metadata": {},
   "outputs": [
    {
     "name": "stdout",
     "output_type": "stream",
     "text": [
      "None\n"
     ]
    }
   ],
   "source": [
    "value = book.get('descrption')\n",
    "print(value)"
   ]
  },
  {
   "cell_type": "markdown",
   "id": "91fded1b-036f-4d48-873f-483a492d1b67",
   "metadata": {},
   "source": [
    "\n",
    "    dict.keys() -> returns keys as a list kind of object\n",
    "\n",
    "    dict.values() -> returns values as a list kind of object\n",
    "\n",
    "\n",
    "    dict.items() -> returns key-value pairs as a tuple inside a list kind of object"
   ]
  },
  {
   "cell_type": "code",
   "execution_count": 140,
   "id": "b172a401-ca3c-4060-a603-5e6d261db1a3",
   "metadata": {},
   "outputs": [
    {
     "data": {
      "text/plain": [
       "{'title': 'wings on fire',\n",
       " 'price': 800,\n",
       " 'author': 'APJ kalam',\n",
       " 'isbn': 1892334546566,\n",
       " 'publication': 'awesome book',\n",
       " 'qty': 50}"
      ]
     },
     "execution_count": 140,
     "metadata": {},
     "output_type": "execute_result"
    }
   ],
   "source": [
    "book"
   ]
  },
  {
   "cell_type": "code",
   "execution_count": 142,
   "id": "3a1cc985-5885-41a9-9366-e0f48f4362b7",
   "metadata": {},
   "outputs": [
    {
     "name": "stdout",
     "output_type": "stream",
     "text": [
      "['title', 'price', 'author', 'isbn', 'publication', 'qty']\n"
     ]
    }
   ],
   "source": [
    "keys = list(book.keys())\n",
    "print(keys)"
   ]
  },
  {
   "cell_type": "code",
   "execution_count": 143,
   "id": "9edf6a36-2a58-4ffe-b6b5-2da31b13446f",
   "metadata": {},
   "outputs": [
    {
     "name": "stdout",
     "output_type": "stream",
     "text": [
      "['wings on fire', 800, 'APJ kalam', 1892334546566, 'awesome book', 50]\n"
     ]
    }
   ],
   "source": [
    "values = list(book.values())\n",
    "print(values)"
   ]
  },
  {
   "cell_type": "code",
   "execution_count": 144,
   "id": "01cb5eb6-04cf-44f4-9d20-b3e7a73f1a35",
   "metadata": {},
   "outputs": [
    {
     "name": "stdout",
     "output_type": "stream",
     "text": [
      "[('title', 'wings on fire'), ('price', 800), ('author', 'APJ kalam'), ('isbn', 1892334546566), ('publication', 'awesome book'), ('qty', 50)]\n"
     ]
    }
   ],
   "source": [
    "items = list(book.items())\n",
    "print(items)"
   ]
  },
  {
   "cell_type": "code",
   "execution_count": 147,
   "id": "7f758504-cd0b-4597-b4a8-7bb6c561cc02",
   "metadata": {},
   "outputs": [
    {
     "name": "stdout",
     "output_type": "stream",
     "text": [
      "               Title = Wings On Fire       \n",
      "               Price = 800                 \n",
      "              Author = Apj Kalam           \n",
      "                Isbn = 1892334546566       \n",
      "         Publication = Awesome Book        \n",
      "                 Qty = 50                  \n"
     ]
    }
   ],
   "source": [
    "for key, value in book.items():\n",
    "    print(f\"{key.title():>20} = {str(value).title():<20}\")"
   ]
  },
  {
   "cell_type": "code",
   "execution_count": 149,
   "id": "380a2076-555c-4cf5-96de-9eda2fae0b8f",
   "metadata": {},
   "outputs": [
    {
     "name": "stdout",
     "output_type": "stream",
     "text": [
      "clear copy fromkeys get items keys pop popitem setdefault update values\n"
     ]
    }
   ],
   "source": [
    "print(*dir(dict)[-11:])"
   ]
  },
  {
   "cell_type": "code",
   "execution_count": 150,
   "id": "776aa20f-7730-437f-8aee-fc6c6efa96ca",
   "metadata": {},
   "outputs": [
    {
     "data": {
      "text/plain": [
       "{'title': 'wings on fire',\n",
       " 'price': 800,\n",
       " 'author': 'APJ kalam',\n",
       " 'isbn': 1892334546566,\n",
       " 'publication': 'awesome book',\n",
       " 'qty': 50}"
      ]
     },
     "execution_count": 150,
     "metadata": {},
     "output_type": "execute_result"
    }
   ],
   "source": [
    "book"
   ]
  },
  {
   "cell_type": "code",
   "execution_count": 151,
   "id": "fdbbbd9e-ac3b-45bd-9d76-73912945fdbf",
   "metadata": {},
   "outputs": [],
   "source": [
    "book.update(publication=\"Aashirwad\")"
   ]
  },
  {
   "cell_type": "code",
   "execution_count": 152,
   "id": "c2762a4d-d3c3-4e52-a220-69843f9a44f8",
   "metadata": {},
   "outputs": [
    {
     "data": {
      "text/plain": [
       "{'title': 'wings on fire',\n",
       " 'price': 800,\n",
       " 'author': 'APJ kalam',\n",
       " 'isbn': 1892334546566,\n",
       " 'publication': 'Aashirwad',\n",
       " 'qty': 50}"
      ]
     },
     "execution_count": 152,
     "metadata": {},
     "output_type": "execute_result"
    }
   ],
   "source": [
    "book"
   ]
  },
  {
   "cell_type": "code",
   "execution_count": 153,
   "id": "170ea8f7-9f93-494d-9e6d-aa0202765250",
   "metadata": {},
   "outputs": [],
   "source": [
    "book.update(price=1000, qty=30)"
   ]
  },
  {
   "cell_type": "code",
   "execution_count": 154,
   "id": "5e22da87-0a99-4b31-a1ce-babfa6fa927e",
   "metadata": {},
   "outputs": [
    {
     "data": {
      "text/plain": [
       "{'title': 'wings on fire',\n",
       " 'price': 1000,\n",
       " 'author': 'APJ kalam',\n",
       " 'isbn': 1892334546566,\n",
       " 'publication': 'Aashirwad',\n",
       " 'qty': 30}"
      ]
     },
     "execution_count": 154,
     "metadata": {},
     "output_type": "execute_result"
    }
   ],
   "source": [
    "book"
   ]
  },
  {
   "cell_type": "code",
   "execution_count": 155,
   "id": "9f8db1db-36c9-44df-a67c-b2badbe345ee",
   "metadata": {},
   "outputs": [],
   "source": [
    "book.update( [ ('description', 'a book about dreams' ), ('isbn', 12345) ] )"
   ]
  },
  {
   "cell_type": "code",
   "execution_count": 156,
   "id": "c7f9d83c-90f2-4211-9480-da234c9cb9ed",
   "metadata": {},
   "outputs": [
    {
     "data": {
      "text/plain": [
       "{'title': 'wings on fire',\n",
       " 'price': 1000,\n",
       " 'author': 'APJ kalam',\n",
       " 'isbn': 12345,\n",
       " 'publication': 'Aashirwad',\n",
       " 'qty': 30,\n",
       " 'description': 'a book about dreams'}"
      ]
     },
     "execution_count": 156,
     "metadata": {},
     "output_type": "execute_result"
    }
   ],
   "source": [
    "book"
   ]
  },
  {
   "cell_type": "code",
   "execution_count": 157,
   "id": "35e903d6-7298-4387-ad4a-a1a00fc35b21",
   "metadata": {},
   "outputs": [
    {
     "data": {
      "text/plain": [
       "{'title': 'wings on fire',\n",
       " 'price': 1000,\n",
       " 'author': 'APJ kalam',\n",
       " 'isbn': 12345,\n",
       " 'publication': 'Aashirwad',\n",
       " 'qty': 30,\n",
       " 'description': 'a book about dreams'}"
      ]
     },
     "execution_count": 157,
     "metadata": {},
     "output_type": "execute_result"
    }
   ],
   "source": [
    "book"
   ]
  },
  {
   "cell_type": "code",
   "execution_count": 159,
   "id": "faf36cdd-e25a-4036-b646-3c7c977f17fe",
   "metadata": {},
   "outputs": [],
   "source": [
    "pair = book.pop('isbn')"
   ]
  },
  {
   "cell_type": "code",
   "execution_count": 162,
   "id": "ca49d6db-f915-4950-9df2-78869e42d540",
   "metadata": {},
   "outputs": [
    {
     "data": {
      "text/plain": [
       "'item does not exists'"
      ]
     },
     "execution_count": 162,
     "metadata": {},
     "output_type": "execute_result"
    }
   ],
   "source": [
    "book.pop('akdlakjf', 'item does not exists')"
   ]
  },
  {
   "cell_type": "code",
   "execution_count": 163,
   "id": "c59fc286-edc9-4e2b-be86-b96885f7c152",
   "metadata": {},
   "outputs": [],
   "source": [
    "data = [ 1, 2, 3, 4, 5 ]"
   ]
  },
  {
   "cell_type": "code",
   "execution_count": 164,
   "id": "93f1db9e-98e8-4014-9208-c83a1daf0ae3",
   "metadata": {},
   "outputs": [
    {
     "name": "stdout",
     "output_type": "stream",
     "text": [
      "[1, 2, 4, 5]\n"
     ]
    }
   ],
   "source": [
    "del data[2]\n",
    "print(data)"
   ]
  },
  {
   "cell_type": "code",
   "execution_count": 165,
   "id": "7f41e744-4aa9-46aa-b4a3-f330c8f8fbe6",
   "metadata": {},
   "outputs": [
    {
     "data": {
      "text/plain": [
       "{'title': 'wings on fire',\n",
       " 'price': 1000,\n",
       " 'author': 'APJ kalam',\n",
       " 'publication': 'Aashirwad',\n",
       " 'qty': 30,\n",
       " 'description': 'a book about dreams'}"
      ]
     },
     "execution_count": 165,
     "metadata": {},
     "output_type": "execute_result"
    }
   ],
   "source": [
    "book"
   ]
  },
  {
   "cell_type": "code",
   "execution_count": 167,
   "id": "b9d12878-cf8c-4f50-bc95-285f3049b6f3",
   "metadata": {},
   "outputs": [],
   "source": [
    "del book['title']"
   ]
  },
  {
   "cell_type": "code",
   "execution_count": 168,
   "id": "9d239d45-983e-40c3-8733-f45cd0de2a09",
   "metadata": {},
   "outputs": [
    {
     "data": {
      "text/plain": [
       "{'price': 1000,\n",
       " 'author': 'APJ kalam',\n",
       " 'publication': 'Aashirwad',\n",
       " 'qty': 30,\n",
       " 'description': 'a book about dreams'}"
      ]
     },
     "execution_count": 168,
     "metadata": {},
     "output_type": "execute_result"
    }
   ],
   "source": [
    "book"
   ]
  },
  {
   "cell_type": "code",
   "execution_count": 169,
   "id": "370b2f16-1d1e-4ad0-919b-31c8b25c93e6",
   "metadata": {},
   "outputs": [],
   "source": [
    "book['qty'] = None"
   ]
  },
  {
   "cell_type": "code",
   "execution_count": 170,
   "id": "a66ee28c-0f3d-4c19-a9bd-45d988d8b6a3",
   "metadata": {},
   "outputs": [
    {
     "data": {
      "text/plain": [
       "{'price': 1000,\n",
       " 'author': 'APJ kalam',\n",
       " 'publication': 'Aashirwad',\n",
       " 'qty': None,\n",
       " 'description': 'a book about dreams'}"
      ]
     },
     "execution_count": 170,
     "metadata": {},
     "output_type": "execute_result"
    }
   ],
   "source": [
    "book"
   ]
  },
  {
   "cell_type": "code",
   "execution_count": 171,
   "id": "569f9d22-f0da-43f6-bbc9-faa16a173c7e",
   "metadata": {},
   "outputs": [
    {
     "name": "stdout",
     "output_type": "stream",
     "text": [
      "['clear', 'copy', 'fromkeys', 'get', 'items', 'keys', 'pop', 'popitem', 'setdefault', 'update', 'values']\n"
     ]
    }
   ],
   "source": [
    "print(dir(dict)[-11:])"
   ]
  },
  {
   "cell_type": "markdown",
   "id": "83e3fc66-f17e-472e-9698-956070916285",
   "metadata": {},
   "source": [
    "Operators"
   ]
  },
  {
   "cell_type": "code",
   "execution_count": null,
   "id": "5b87deb0-0265-4b90-a1cd-4d424df5692f",
   "metadata": {},
   "outputs": [],
   "source": []
  }
 ],
 "metadata": {
  "kernelspec": {
   "display_name": "Python [conda env:base] *",
   "language": "python",
   "name": "conda-base-py"
  },
  "language_info": {
   "codemirror_mode": {
    "name": "ipython",
    "version": 3
   },
   "file_extension": ".py",
   "mimetype": "text/x-python",
   "name": "python",
   "nbconvert_exporter": "python",
   "pygments_lexer": "ipython3",
   "version": "3.12.7"
  }
 },
 "nbformat": 4,
 "nbformat_minor": 5
}
