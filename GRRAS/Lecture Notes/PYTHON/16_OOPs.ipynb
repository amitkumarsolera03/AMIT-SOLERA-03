{
 "cells": [
  {
   "cell_type": "markdown",
   "id": "c365b4e1-e6a7-45dd-a3f1-f3248593d6a7",
   "metadata": {},
   "source": [
    "## Doubt ?"
   ]
  },
  {
   "cell_type": "markdown",
   "id": "149c15f5-10fa-4d86-9471-6ffa7929825d",
   "metadata": {},
   "source": [
    "Decorators \n",
    "\n",
    "python functions which take function as argument and define a function in it's body and also returns the inner function which is wrapper to decorate a given function"
   ]
  },
  {
   "cell_type": "markdown",
   "id": "a319d45c-4605-446b-81ab-5e9f0d0adc1b",
   "metadata": {},
   "source": [
    "website --> authentication\n",
    "\n",
    "    messages -> is_login ? \n"
   ]
  },
  {
   "cell_type": "code",
   "execution_count": 12,
   "id": "bcf62e10-007f-47e5-bdcd-95f47846bb1d",
   "metadata": {},
   "outputs": [],
   "source": [
    "def is_login(func):\n",
    "    def wrapper(user): # decorative function which add extra functionality to existing func function (ex. hello, show_messages)\n",
    "        print(\"check if user logged in or not\")\n",
    "        if user:\n",
    "            func(user) # the function which we are decorating\n",
    "        else:\n",
    "            print(\"please login first to continue\")\n",
    "    return wrapper"
   ]
  },
  {
   "cell_type": "code",
   "execution_count": 16,
   "id": "55150466-aa07-4d8f-a501-0f518b2b3ae7",
   "metadata": {},
   "outputs": [],
   "source": [
    "@is_login\n",
    "def hello(name):\n",
    "    print(\"hello user\", name, 'welcome to python')"
   ]
  },
  {
   "cell_type": "code",
   "execution_count": 18,
   "id": "ae390543-7dd2-484d-847e-9674dddf49ef",
   "metadata": {},
   "outputs": [
    {
     "name": "stdout",
     "output_type": "stream",
     "text": [
      "check if user logged in or not\n",
      "hello user Sachin welcome to python\n"
     ]
    }
   ],
   "source": [
    "hello('Sachin')"
   ]
  },
  {
   "cell_type": "code",
   "execution_count": 13,
   "id": "399089e6-cabb-4c4a-aa50-bf9b10c06389",
   "metadata": {},
   "outputs": [],
   "source": [
    "@is_login\n",
    "def show_messages(user):\n",
    "    print('fetch user data from database')\n",
    "    print('render the data to fill in HTML/javascript code')\n",
    "    print('return the response to the user')"
   ]
  },
  {
   "cell_type": "code",
   "execution_count": 14,
   "id": "61b65d6f-0351-4dc6-81bf-aae703412ca9",
   "metadata": {},
   "outputs": [
    {
     "name": "stdout",
     "output_type": "stream",
     "text": [
      "check if user logged in or not\n",
      "please login first to continue\n"
     ]
    }
   ],
   "source": [
    "show_messages(False)"
   ]
  },
  {
   "cell_type": "code",
   "execution_count": 15,
   "id": "aa07a8a4-d618-42d9-a3d4-388202f84659",
   "metadata": {},
   "outputs": [
    {
     "name": "stdout",
     "output_type": "stream",
     "text": [
      "check if user logged in or not\n",
      "fetch user data from database\n",
      "render the data to fill in HTML/javascript code\n",
      "return the response to the user\n"
     ]
    }
   ],
   "source": [
    "show_messages(True)"
   ]
  },
  {
   "cell_type": "markdown",
   "id": "2d3eb8b9-c826-4c59-9558-3f3617c8947f",
   "metadata": {},
   "source": [
    "# Object Oriented Programming\n",
    "\n",
    "    object\n",
    "\n",
    "    class\n",
    "\n",
    "    methods\n",
    "\n",
    "    constructors\n",
    "\n",
    "    polymorphism\n",
    "\n",
    "    inheritance\n",
    "\n",
    "    operator overloading"
   ]
  },
  {
   "cell_type": "markdown",
   "id": "70fa879e-13f3-40cc-a9da-6571a183082e",
   "metadata": {},
   "source": [
    "### how functional programming works \n",
    "\n",
    "\n",
    "    def show_data(information):\n",
    "        print('code to show information')\n",
    "\n",
    "    def update_data(information):\n",
    "        print('code to update information')\n",
    "\n",
    "    info = [ {'name':'sachin', 'course':'python', ...}, {...}, {...}, {...} ]"
   ]
  },
  {
   "cell_type": "markdown",
   "id": "52b10c94-3d6a-44f3-ae5b-c95db280bcf7",
   "metadata": {},
   "source": [
    "    student\n",
    "    \n",
    "    employess\n",
    "    \n",
    "    classes \n",
    "    \n",
    "    accounts  student\n",
    "              employees\n",
    "    \n",
    "    student boards\n",
    "    \n",
    "    employes boards"
   ]
  },
  {
   "cell_type": "markdown",
   "id": "8c7437ed-df99-42a0-a2b2-2f5d0f1a9622",
   "metadata": {},
   "source": [
    "issues with functional programming\n",
    "\n",
    "    code management why because data and operations are seprate in functional programming\n",
    "\n",
    "    security - as data is not private \n",
    "\n",
    "    code mantinance - add features quickly into the code to create a new version without changing the old version which really really hectic and time consuming \n",
    "\n",
    "    "
   ]
  },
  {
   "cell_type": "markdown",
   "id": "22dfd6a7-ba40-45ff-a7c9-5ccf7f12fc3f",
   "metadata": {},
   "source": [
    "## Object Oriented Programming\n",
    "\n",
    "    data + operations -> class / object\n",
    "\n",
    "    Scope at class level - public, private, protected \n",
    "\n",
    "    Inheritance, Polymorphism -> to use existing code to add new features \n",
    "\n",
    "    \n",
    "    "
   ]
  },
  {
   "cell_type": "markdown",
   "id": "1d5f8e3b-bd6e-496b-9ec6-719f2d519103",
   "metadata": {},
   "source": [
    "OOPs is a way of writting code in a particular way\n",
    "\n",
    "    PEP-8 - Standard coding style\n",
    "\n",
    "    SOP - Standard Operating Procedure\n",
    "\n",
    "    "
   ]
  },
  {
   "cell_type": "markdown",
   "id": "73c71a06-51cf-4458-bac4-a3dff38c5a5d",
   "metadata": {},
   "source": [
    "    object --> instance of class\n",
    "\n",
    "        object oriented programming"
   ]
  },
  {
   "cell_type": "markdown",
   "id": "64c03183-7367-406a-ad46-3d9636f85a66",
   "metadata": {},
   "source": [
    "    function works on glboal variables / data\n",
    "    \n",
    "    methods class functions which works on object attributes"
   ]
  },
  {
   "cell_type": "markdown",
   "id": "eb32994f-0fac-4285-9ec3-3f2208332c39",
   "metadata": {},
   "source": [
    "    student -> \n",
    "    \n",
    "        attributes : name, address, ph, parents, course, fees, roll_no, ...\n",
    "        methods : get_details, fees_submit, update_details, ...\n",
    "\n",
    "    employess -> attributes name, addres, ph, parents, skills, salary, dept, ...\n",
    "\n",
    "    ..."
   ]
  },
  {
   "cell_type": "markdown",
   "id": "41a747da-8950-462d-9fb3-16ef1332d498",
   "metadata": {},
   "source": [
    "class diagram\n",
    "\n",
    "    attributes : name, course, fees, due_fees, ph_no\n",
    "    methods: get_details, update_details, get_due_fees, submit_fees"
   ]
  },
  {
   "cell_type": "markdown",
   "id": "d241fadd-c3a1-4abc-a23b-4db091e9c150",
   "metadata": {},
   "source": [
    "### Object \n",
    "\n",
    "    a real time entity which can be defined by set of attributes, which we can store in computer memory \n",
    "\n",
    "    instance of class\n",
    "\n",
    "### Class\n",
    "\n",
    "    Blue print of an object \n",
    "\n",
    "    defines attributes and methods of an object \n",
    "\n",
    "    "
   ]
  },
  {
   "cell_type": "markdown",
   "id": "51c107d1-53d7-4ca8-88ab-4e1fc2697e30",
   "metadata": {},
   "source": [
    "    type -> data type\n",
    "\n",
    "        list --> [1, 2,3, 4], append, insert, pop, extend"
   ]
  },
  {
   "cell_type": "code",
   "execution_count": 20,
   "id": "73d6bc71-3719-4c25-ac9a-ba3848863b33",
   "metadata": {},
   "outputs": [],
   "source": [
    "class A:\n",
    "    pass"
   ]
  },
  {
   "cell_type": "code",
   "execution_count": 24,
   "id": "b381007a-0e4f-4b60-9a11-9a456736fc99",
   "metadata": {},
   "outputs": [
    {
     "name": "stdout",
     "output_type": "stream",
     "text": [
      "<class 'type'> <class '__main__.A'>\n"
     ]
    }
   ],
   "source": [
    "print(type(A), A)"
   ]
  },
  {
   "cell_type": "code",
   "execution_count": 25,
   "id": "ba20afee-2d85-4a96-aab9-5dd79751f1bc",
   "metadata": {},
   "outputs": [],
   "source": [
    "x = A() # process of creation of instance "
   ]
  },
  {
   "cell_type": "code",
   "execution_count": 27,
   "id": "bf17c63b-efce-4a21-a3c4-8989eb376e25",
   "metadata": {},
   "outputs": [
    {
     "name": "stdout",
     "output_type": "stream",
     "text": [
      "<class '__main__.A'> <__main__.A object at 0x3102eb9e0>\n"
     ]
    }
   ],
   "source": [
    "print(type(x), x)"
   ]
  },
  {
   "cell_type": "code",
   "execution_count": 28,
   "id": "12e0212a-c078-41ae-92c0-ab46eb0830c0",
   "metadata": {},
   "outputs": [],
   "source": [
    "x = A() # object --> dict type {'attr': 'value'}\n",
    "y = A()"
   ]
  },
  {
   "cell_type": "code",
   "execution_count": 29,
   "id": "06e2e06d-8544-402f-a5d1-0d9839d1b126",
   "metadata": {},
   "outputs": [
    {
     "name": "stdout",
     "output_type": "stream",
     "text": [
      "<__main__.A object at 0x3102eaed0> 13156396752\n",
      "<__main__.A object at 0x3102eb9e0> 13156399584\n"
     ]
    }
   ],
   "source": [
    "print(x, id(x))\n",
    "print(y, id(y))"
   ]
  },
  {
   "cell_type": "code",
   "execution_count": 38,
   "id": "c1f6894e-1c15-4219-a7ab-2bdc826aad7b",
   "metadata": {},
   "outputs": [],
   "source": [
    "class Student:\n",
    "    \"\"\"\n",
    "        Student class documentation\n",
    "\n",
    "        attribute: name, course, course_fees, sub_fees, ph_no\n",
    "        methods: update_details, get_details, submit_fess\n",
    "    \"\"\"\n",
    "    def update_details(self, name, course, course_fees, ph_no):\n",
    "        self.name = name\n",
    "        self.course = course\n",
    "        self.coruse_fees = course_fees\n",
    "        self.ph_no = ph_no\n",
    "    def get_details(self):\n",
    "        for key, value in self.__dict__.items():\n",
    "            print(f\"{key:>20} = {value}\")"
   ]
  },
  {
   "cell_type": "code",
   "execution_count": 39,
   "id": "5dd448da-2e2b-4e92-ad3d-a9a2ddfe72a7",
   "metadata": {},
   "outputs": [],
   "source": [
    "a = Student()"
   ]
  },
  {
   "cell_type": "code",
   "execution_count": 40,
   "id": "f2991cbb-1454-491c-b4af-31f4fede3eb5",
   "metadata": {},
   "outputs": [],
   "source": [
    "a.update_details('sachin', 'python', 40000, \"123456789\")"
   ]
  },
  {
   "cell_type": "code",
   "execution_count": 42,
   "id": "b5f2ed96-c26a-42f4-8470-bb8b75d9c9e9",
   "metadata": {},
   "outputs": [
    {
     "name": "stdout",
     "output_type": "stream",
     "text": [
      "                name = sachin\n",
      "              course = python\n",
      "         coruse_fees = 40000\n",
      "               ph_no = 123456789\n"
     ]
    }
   ],
   "source": [
    "Student.get_details(a)"
   ]
  },
  {
   "cell_type": "code",
   "execution_count": 41,
   "id": "9854dfa9-9ae2-4a85-aacb-c15f366b5e19",
   "metadata": {},
   "outputs": [
    {
     "name": "stdout",
     "output_type": "stream",
     "text": [
      "                name = sachin\n",
      "              course = python\n",
      "         coruse_fees = 40000\n",
      "               ph_no = 123456789\n"
     ]
    }
   ],
   "source": [
    "a.get_details()\n",
    "# Student.get_details(a)"
   ]
  },
  {
   "cell_type": "code",
   "execution_count": null,
   "id": "02c89e5c-b59b-4d5d-8534-914a8f8d6eec",
   "metadata": {},
   "outputs": [],
   "source": []
  }
 ],
 "metadata": {
  "kernelspec": {
   "display_name": "Python [conda env:base] *",
   "language": "python",
   "name": "conda-base-py"
  },
  "language_info": {
   "codemirror_mode": {
    "name": "ipython",
    "version": 3
   },
   "file_extension": ".py",
   "mimetype": "text/x-python",
   "name": "python",
   "nbconvert_exporter": "python",
   "pygments_lexer": "ipython3",
   "version": "3.12.7"
  }
 },
 "nbformat": 4,
 "nbformat_minor": 5
}
