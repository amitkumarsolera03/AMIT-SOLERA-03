{
 "cells": [
  {
   "cell_type": "code",
   "execution_count": 4,
   "id": "0848d679-a4d9-4587-a863-947203d4d191",
   "metadata": {},
   "outputs": [
    {
     "name": "stdout",
     "output_type": "stream",
     "text": [
      "Hello World!\n"
     ]
    }
   ],
   "source": [
    "print(\"Hello World!\")\n",
    "# cell\n",
    "# ctrl + Enter  -> Run current cell code\n",
    "# shift + Enter -> Run current cell code and Open a new cell below current cell"
   ]
  },
  {
   "cell_type": "markdown",
   "id": "9e0af251-85fb-4b8c-a881-30b2ac5bbcc4",
   "metadata": {},
   "source": [
    "# Main heading\n",
    "\n",
    "## Sub heading\n",
    "\n",
    "### sub sub Heading\n",
    "\n",
    "#### h4\n",
    "\n",
    "##### h5\n",
    "\n",
    "###### h6\n",
    "\n",
    "\n",
    "<p style=\"color:red;\"> Hello World!</p>\n",
    "\n",
    "\n",
    "this is a pragraph "
   ]
  },
  {
   "cell_type": "raw",
   "id": "7df504ba-41f5-4db8-b825-81627427923e",
   "metadata": {},
   "source": [
    "print(Hello World!)\n",
    "\n",
    "# this code will produce syntax error because we have not wrapped Hello World! in quotes"
   ]
  },
  {
   "cell_type": "code",
   "execution_count": 8,
   "id": "71cd5508-0efc-4bed-9af2-15e9ca2e6e2e",
   "metadata": {},
   "outputs": [
    {
     "name": "stdout",
     "output_type": "stream",
     "text": [
      "We will Resume in 1 secondsss"
     ]
    }
   ],
   "source": [
    "import time\n",
    "\n",
    "sleep_time = 5*60\n",
    "\n",
    "for i in range(sleep_time):\n",
    "    print(f\"\\rWe will Resume in {sleep_time - i} seconds\", end=\"\")\n",
    "    time.sleep(1)"
   ]
  },
  {
   "cell_type": "markdown",
   "id": "7fd842fc-f356-44e6-851b-117567ab4a14",
   "metadata": {},
   "source": [
    "# Data Types \n",
    "\n",
    "    What is Data Type ? \n",
    "\n",
    "        Data --> Information\n",
    "\n",
    "        Type --> Catogry of Information\n",
    "\n",
    "            Type --> Storage / Operation\n",
    "\n",
    "        Type --> Class  \n",
    "\n",
    "\n",
    "            numbers , Strings, List"
   ]
  },
  {
   "cell_type": "code",
   "execution_count": null,
   "id": "203d44ec-f451-4d76-ab32-1cb3029caf28",
   "metadata": {},
   "outputs": [],
   "source": [
    "sys.getsizeof"
   ]
  },
  {
   "cell_type": "code",
   "execution_count": null,
   "id": "476eab8a-15f4-48e3-9e89-6cd88daaeac2",
   "metadata": {},
   "outputs": [],
   "source": [
    "int x; # 2 byte -32768 to 32767\n",
    "long int y; # 4 byte -65000 to 65000"
   ]
  },
  {
   "cell_type": "code",
   "execution_count": 12,
   "id": "770c4452-02c1-4f2c-b5be-a044cfc698c7",
   "metadata": {},
   "outputs": [
    {
     "name": "stdout",
     "output_type": "stream",
     "text": [
      "28\n",
      "68\n"
     ]
    }
   ],
   "source": [
    "import os\n",
    "import sys\n",
    "\n",
    "x = 10\n",
    "\n",
    "print(sys.getsizeof(x))\n",
    "\n",
    "y = 128648364236462374638276482618496384762378462874613278647893126487326746246713243287784327843432432\n",
    "\n",
    "print(sys.getsizeof(y))"
   ]
  },
  {
   "cell_type": "markdown",
   "id": "806da641-4e0a-4b21-9ae6-c76f3dee6e0d",
   "metadata": {},
   "source": [
    "#### Data Types \n",
    "\n",
    "    1, 2, 5, 10  ---> int\n",
    "\n",
    "    3.14, 4.56667 --> float\n",
    "\n",
    "    5+6j --> complex\n",
    "\n",
    "    1. Numbers - int, float, complex"
   ]
  },
  {
   "cell_type": "code",
   "execution_count": 13,
   "id": "bb63a1d5-5305-401d-a0aa-84cfc797010e",
   "metadata": {},
   "outputs": [
    {
     "name": "stdout",
     "output_type": "stream",
     "text": [
      "1234\n"
     ]
    }
   ],
   "source": [
    "number = 1234\n",
    "\n",
    "print(number)"
   ]
  },
  {
   "cell_type": "code",
   "execution_count": null,
   "id": "9fc9e09c-0d95-4aff-80d2-a25f9066fdc5",
   "metadata": {},
   "outputs": [],
   "source": []
  }
 ],
 "metadata": {
  "kernelspec": {
   "display_name": "Python 3 (ipykernel)",
   "language": "python",
   "name": "python3"
  },
  "language_info": {
   "codemirror_mode": {
    "name": "ipython",
    "version": 3
   },
   "file_extension": ".py",
   "mimetype": "text/x-python",
   "name": "python",
   "nbconvert_exporter": "python",
   "pygments_lexer": "ipython3",
   "version": "3.13.3"
  }
 },
 "nbformat": 4,
 "nbformat_minor": 5
}
