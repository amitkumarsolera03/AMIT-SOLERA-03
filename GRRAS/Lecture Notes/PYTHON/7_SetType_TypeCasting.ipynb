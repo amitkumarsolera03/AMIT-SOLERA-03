{
 "cells": [
  {
   "cell_type": "markdown",
   "id": "98981f3b-3592-468c-b224-a1ddc4a1e6fc",
   "metadata": {},
   "source": [
    "## Any doubt ? "
   ]
  },
  {
   "cell_type": "markdown",
   "id": "6ca751b4-0606-4522-8bef-edceeaddfc85",
   "metadata": {},
   "source": [
    "## Data Type \n",
    "\n",
    "    Numbers - int, float, complex\n",
    "    String - single or multi-line\n",
    "    List - ordered collection of items\n",
    "    Tuple - immutable collection\n",
    "    Dictionary - key-value pairs\n",
    "    Set - Unique collection Item"
   ]
  },
  {
   "cell_type": "markdown",
   "id": "3debf94d-fa31-47e5-8c9f-26a529441ede",
   "metadata": {},
   "source": [
    "## Dictionary \n",
    "\n",
    "    hashable key-value pair collection\n",
    "    mutable\n",
    "    unordered\n",
    "    keys immutable and unique"
   ]
  },
  {
   "cell_type": "code",
   "execution_count": 1,
   "id": "845500bf-c8df-4548-8726-a57832d77979",
   "metadata": {},
   "outputs": [],
   "source": [
    "data = {\n",
    "    'name': 'jhon',\n",
    "    'country': 'us',\n",
    "    'name': 'sara',\n",
    "    'country': 'aus',\n",
    "    'name': 'alice',\n",
    "    'country': 'uk'\n",
    "}"
   ]
  },
  {
   "cell_type": "code",
   "execution_count": 2,
   "id": "8225699e-387e-432e-932e-15778cf3c80e",
   "metadata": {},
   "outputs": [
    {
     "name": "stdout",
     "output_type": "stream",
     "text": [
      "{'name': 'alice', 'country': 'uk'}\n"
     ]
    }
   ],
   "source": [
    "print(data)"
   ]
  },
  {
   "cell_type": "code",
   "execution_count": 3,
   "id": "3d87a3d1-a816-4138-979f-16c884a43466",
   "metadata": {},
   "outputs": [
    {
     "name": "stdout",
     "output_type": "stream",
     "text": [
      "alice\n"
     ]
    }
   ],
   "source": [
    "value = data.get('name')\n",
    "print(value)"
   ]
  },
  {
   "cell_type": "code",
   "execution_count": 4,
   "id": "d006ed30-48ca-4fec-b231-21593b9ac4a8",
   "metadata": {},
   "outputs": [
    {
     "name": "stdout",
     "output_type": "stream",
     "text": [
      "None\n"
     ]
    }
   ],
   "source": [
    "value = data.get('age')\n",
    "print(value)"
   ]
  },
  {
   "cell_type": "code",
   "execution_count": 5,
   "id": "0964123c-94c1-49df-ae2c-874ce71bc4e2",
   "metadata": {},
   "outputs": [],
   "source": [
    "data['age'] = 25"
   ]
  },
  {
   "cell_type": "code",
   "execution_count": 6,
   "id": "dbc49e0a-4cc9-4344-89e9-b170b79e633b",
   "metadata": {},
   "outputs": [
    {
     "name": "stdout",
     "output_type": "stream",
     "text": [
      "{'name': 'alice', 'country': 'uk', 'age': 25}\n"
     ]
    }
   ],
   "source": [
    "print(data)"
   ]
  },
  {
   "cell_type": "code",
   "execution_count": 7,
   "id": "2c09e6bc-660a-4b08-9e8b-717786dcd03a",
   "metadata": {},
   "outputs": [],
   "source": [
    "data.update(name='vincent')"
   ]
  },
  {
   "cell_type": "code",
   "execution_count": 8,
   "id": "a8cc86c9-cc2b-4ebe-8ac7-8b20f93963f0",
   "metadata": {},
   "outputs": [
    {
     "name": "stdout",
     "output_type": "stream",
     "text": [
      "{'name': 'vincent', 'country': 'uk', 'age': 25}\n"
     ]
    }
   ],
   "source": [
    "print(data)"
   ]
  },
  {
   "cell_type": "code",
   "execution_count": 9,
   "id": "e7c3de30-5203-469f-a520-6c0a376ea2aa",
   "metadata": {},
   "outputs": [
    {
     "name": "stdout",
     "output_type": "stream",
     "text": [
      "vincent\n"
     ]
    }
   ],
   "source": [
    "value = data.setdefault('name', \"\")\n",
    "print(value)\n"
   ]
  },
  {
   "cell_type": "code",
   "execution_count": 10,
   "id": "dd8df38e-d5ad-4403-bc5d-3bdf41fc45d0",
   "metadata": {},
   "outputs": [
    {
     "name": "stdout",
     "output_type": "stream",
     "text": [
      "\n"
     ]
    }
   ],
   "source": [
    "value = data.setdefault('address', \"\")\n",
    "print(value)"
   ]
  },
  {
   "cell_type": "code",
   "execution_count": 11,
   "id": "1f5a6445-9b57-4720-8915-7eca7edf472b",
   "metadata": {},
   "outputs": [
    {
     "data": {
      "text/plain": [
       "{'name': 'vincent', 'country': 'uk', 'age': 25, 'address': ''}"
      ]
     },
     "execution_count": 11,
     "metadata": {},
     "output_type": "execute_result"
    }
   ],
   "source": [
    "data"
   ]
  },
  {
   "cell_type": "code",
   "execution_count": 13,
   "id": "08f21795-efed-46f1-a4b3-a2d27229b780",
   "metadata": {},
   "outputs": [
    {
     "name": "stdout",
     "output_type": "stream",
     "text": [
      "('address', '')\n"
     ]
    }
   ],
   "source": [
    "pair = data.popitem()\n",
    "print(pair)"
   ]
  },
  {
   "cell_type": "code",
   "execution_count": 15,
   "id": "874b5be9-272d-4ff9-940a-d2b13955cd92",
   "metadata": {},
   "outputs": [
    {
     "name": "stdout",
     "output_type": "stream",
     "text": [
      "clear\n",
      "copy\n",
      "fromkeys\n",
      "get\n",
      "items\n",
      "keys\n",
      "pop\n",
      "popitem\n",
      "setdefault\n",
      "update\n",
      "values\n"
     ]
    }
   ],
   "source": [
    "print(*dir(dict)[-11:], sep=\"\\n\")"
   ]
  },
  {
   "cell_type": "markdown",
   "id": "b91231c1-5207-4d46-9897-29852749b03a",
   "metadata": {},
   "source": [
    "# Tuple Unpacking "
   ]
  },
  {
   "cell_type": "code",
   "execution_count": 17,
   "id": "17695f38-24b8-4cb7-8811-ab79050470e2",
   "metadata": {},
   "outputs": [
    {
     "name": "stdout",
     "output_type": "stream",
     "text": [
      "x = 1\n",
      "y = 2\n"
     ]
    }
   ],
   "source": [
    "x, y = 1, 2\n",
    "\n",
    "print(f\"x = {x}\")\n",
    "print(f\"y = {y}\")"
   ]
  },
  {
   "cell_type": "code",
   "execution_count": 16,
   "id": "0d9d10a2-c45c-4925-a8fa-f65489d451b3",
   "metadata": {},
   "outputs": [],
   "source": [
    "x = 1, 2, 3, 4"
   ]
  },
  {
   "cell_type": "code",
   "execution_count": 20,
   "id": "a09893b7-72d6-4a98-8714-e64de5886119",
   "metadata": {},
   "outputs": [
    {
     "ename": "TypeError",
     "evalue": "can only concatenate tuple (not \"int\") to tuple",
     "output_type": "error",
     "traceback": [
      "\u001b[0;31m---------------------------------------------------------------------------\u001b[0m",
      "\u001b[0;31mTypeError\u001b[0m                                 Traceback (most recent call last)",
      "Cell \u001b[0;32mIn[20], line 4\u001b[0m\n\u001b[1;32m      1\u001b[0m x  \u001b[38;5;241m=\u001b[39m \u001b[38;5;241m1\u001b[39m,  \u001b[38;5;66;03m# x = (1,)\u001b[39;00m\n\u001b[1;32m      2\u001b[0m y \u001b[38;5;241m=\u001b[39m \u001b[38;5;241m2\u001b[39m \u001b[38;5;66;03m# y = 2 \u001b[39;00m\n\u001b[0;32m----> 4\u001b[0m r \u001b[38;5;241m=\u001b[39m x \u001b[38;5;241m+\u001b[39m y\n\u001b[1;32m      5\u001b[0m \u001b[38;5;28mprint\u001b[39m(r)\n",
      "\u001b[0;31mTypeError\u001b[0m: can only concatenate tuple (not \"int\") to tuple"
     ]
    }
   ],
   "source": [
    "x  = 1,  # x = (1,)\n",
    "y = 2 # y = 2 \n",
    "\n",
    "r = x + y\n",
    "print(r)"
   ]
  },
  {
   "cell_type": "code",
   "execution_count": 21,
   "id": "92bd973e-7b18-4fc8-9df0-b65465b927b4",
   "metadata": {},
   "outputs": [
    {
     "name": "stdout",
     "output_type": "stream",
     "text": [
      "(1, 2, 3, 4) <class 'tuple'>\n"
     ]
    }
   ],
   "source": [
    "x = 1, 2, 3, 4\n",
    "\n",
    "print(x, type(x))"
   ]
  },
  {
   "cell_type": "code",
   "execution_count": null,
   "id": "c451a9f7-5ab9-4a5f-8ac1-0c3db566d522",
   "metadata": {},
   "outputs": [],
   "source": [
    "x, y = 1, 2\n",
    "# x, y = (1, 2)"
   ]
  },
  {
   "cell_type": "code",
   "execution_count": 22,
   "id": "c21150bc-5fa9-4e84-8515-734215a16c2e",
   "metadata": {},
   "outputs": [
    {
     "name": "stdout",
     "output_type": "stream",
     "text": [
      "1 2 3\n"
     ]
    }
   ],
   "source": [
    "x, y, z = (1, 2, 3)\n",
    "\n",
    "print(x, y, z)"
   ]
  },
  {
   "cell_type": "code",
   "execution_count": 23,
   "id": "76eade27-227a-43c8-bb34-893c819b9c55",
   "metadata": {},
   "outputs": [],
   "source": [
    "data = [\n",
    "    (\"iphone 16\", 50000),\n",
    "    (\"samsumng\", 45000)\n",
    "]"
   ]
  },
  {
   "cell_type": "code",
   "execution_count": 24,
   "id": "f72ba7ca-e76a-4192-88bc-f6f8034d4a21",
   "metadata": {},
   "outputs": [],
   "source": [
    "((item1,price1), (item2, price2)) = data"
   ]
  },
  {
   "cell_type": "code",
   "execution_count": 26,
   "id": "1bc16bc9-f592-4b55-96bc-7acb1ffcf8e1",
   "metadata": {},
   "outputs": [
    {
     "name": "stdout",
     "output_type": "stream",
     "text": [
      "iphone 16\n",
      "50000\n"
     ]
    }
   ],
   "source": [
    "print(item1)\n",
    "print(price1)"
   ]
  },
  {
   "cell_type": "code",
   "execution_count": 27,
   "id": "53576258-98c7-4ca7-9b10-66e9610697de",
   "metadata": {},
   "outputs": [
    {
     "data": {
      "text/plain": [
       "(1, 2, 3, 4)"
      ]
     },
     "execution_count": 27,
     "metadata": {},
     "output_type": "execute_result"
    }
   ],
   "source": [
    "1, 2, 3, 4"
   ]
  },
  {
   "cell_type": "code",
   "execution_count": 29,
   "id": "d6bc84fb-d8b6-4fc2-afca-862a58819b4e",
   "metadata": {},
   "outputs": [
    {
     "name": "stdout",
     "output_type": "stream",
     "text": [
      "(1, 2, 3, 4)\n",
      "1 2 3 4\n"
     ]
    }
   ],
   "source": [
    "print((1, 2, 3, 4))\n",
    "print(1, 2, 3, 4)"
   ]
  },
  {
   "cell_type": "markdown",
   "id": "6eb9cbe6-7273-4e04-a6be-fea6ab3b364c",
   "metadata": {},
   "source": [
    "    *iterable - unpack iterable"
   ]
  },
  {
   "cell_type": "code",
   "execution_count": 30,
   "id": "d3d8f7ec-93f8-4e0d-b70b-b76a39d2d76f",
   "metadata": {},
   "outputs": [
    {
     "name": "stdout",
     "output_type": "stream",
     "text": [
      "(1, 2, 3, 4)\n"
     ]
    }
   ],
   "source": [
    "t = (1, 2, 3, 4)\n",
    "\n",
    "print(t)"
   ]
  },
  {
   "cell_type": "code",
   "execution_count": 31,
   "id": "d33d6b0b-798f-4ffc-86da-57c232786215",
   "metadata": {},
   "outputs": [
    {
     "name": "stdout",
     "output_type": "stream",
     "text": [
      "1 2 3 4\n"
     ]
    }
   ],
   "source": [
    "print(*t)\n",
    "# print(1, 2, 3, 4)"
   ]
  },
  {
   "cell_type": "code",
   "execution_count": 32,
   "id": "ffac53bc-9fc3-4552-b992-0303072bc37d",
   "metadata": {},
   "outputs": [],
   "source": [
    "names = [\"java\", \"c\", \"c++\", \"ruby\", \"perl\"]"
   ]
  },
  {
   "cell_type": "code",
   "execution_count": 35,
   "id": "afc66b4d-2053-4f65-bb7f-75c7bb715661",
   "metadata": {},
   "outputs": [
    {
     "name": "stdout",
     "output_type": "stream",
     "text": [
      "java\t|\tc\t|\tc++\t|\truby\t|\tperl\n",
      "java\t|\tc\t|\tc++\t|\truby\t|\tperl\n",
      "\n"
     ]
    }
   ],
   "source": [
    "print(*names, sep=\"\\t|\\t\")\n",
    "# print(\"java\", \"c\", \"c++\", \"ruby\", \"perl\", sep=\"\\t|\\t\")\n",
    "print(\"java\\t|\\tc\\t|\\tc++\\t|\\truby\\t|\\tperl\\n\")"
   ]
  },
  {
   "cell_type": "code",
   "execution_count": 40,
   "id": "ec7b6834-b991-4c34-b686-42db72ac44dd",
   "metadata": {},
   "outputs": [
    {
     "name": "stdout",
     "output_type": "stream",
     "text": [
      "clear\n",
      "copy\n",
      "fromkeys\n",
      "get\n",
      "items\n",
      "keys\n",
      "pop\n",
      "popitem\n",
      "setdefault\n",
      "update\n",
      "values\n"
     ]
    }
   ],
   "source": [
    "print(*dir(dict)[-11:], sep=\"\\n\")"
   ]
  },
  {
   "cell_type": "code",
   "execution_count": 41,
   "id": "59f56433-de4d-4c6e-8396-291ef5fc6803",
   "metadata": {},
   "outputs": [
    {
     "ename": "TypeError",
     "evalue": "unhashable type: 'list'",
     "output_type": "error",
     "traceback": [
      "\u001b[0;31m---------------------------------------------------------------------------\u001b[0m",
      "\u001b[0;31mTypeError\u001b[0m                                 Traceback (most recent call last)",
      "Cell \u001b[0;32mIn[41], line 1\u001b[0m\n\u001b[0;32m----> 1\u001b[0m d \u001b[38;5;241m=\u001b[39m {\n\u001b[1;32m      2\u001b[0m     (\u001b[38;5;124m\"\u001b[39m\u001b[38;5;124mx\u001b[39m\u001b[38;5;124m\"\u001b[39m, \u001b[38;5;124m\"\u001b[39m\u001b[38;5;124my\u001b[39m\u001b[38;5;124m\"\u001b[39m) : [\u001b[38;5;241m45\u001b[39m, \u001b[38;5;241m65\u001b[39m],\n\u001b[1;32m      3\u001b[0m     \u001b[38;5;124m\"\u001b[39m\u001b[38;5;124mpos\u001b[39m\u001b[38;5;124m\"\u001b[39m: \u001b[38;5;124m\"\u001b[39m\u001b[38;5;124mcenter\u001b[39m\u001b[38;5;124m\"\u001b[39m,\n\u001b[1;32m      4\u001b[0m     [\u001b[38;5;124m\"\u001b[39m\u001b[38;5;124mname\u001b[39m\u001b[38;5;124m\"\u001b[39m, \u001b[38;5;124m\"\u001b[39m\u001b[38;5;124mdirection\u001b[39m\u001b[38;5;124m\"\u001b[39m] : [\u001b[38;5;124m\"\u001b[39m\u001b[38;5;124mvector\u001b[39m\u001b[38;5;124m\"\u001b[39m, \u001b[38;5;124m\"\u001b[39m\u001b[38;5;124mleft to right\u001b[39m\u001b[38;5;124m\"\u001b[39m]\n\u001b[1;32m      5\u001b[0m }\n",
      "\u001b[0;31mTypeError\u001b[0m: unhashable type: 'list'"
     ]
    }
   ],
   "source": [
    "d = {\n",
    "    (\"x\", \"y\") : [45, 65],\n",
    "    \"pos\": \"center\",\n",
    "    [\"name\", \"direction\"] : [\"vector\", \"left to right\"]\n",
    "}"
   ]
  },
  {
   "cell_type": "code",
   "execution_count": 42,
   "id": "47c3a566-9f95-4f0d-9433-10e9351a1ae7",
   "metadata": {},
   "outputs": [],
   "source": [
    "d = {\n",
    "    (\"x\", \"y\") : [45, 65],\n",
    "    \"pos\": \"center\",\n",
    "    (\"name\", \"direction\") : [\"vector\", \"left to right\"]\n",
    "}"
   ]
  },
  {
   "cell_type": "code",
   "execution_count": 43,
   "id": "9a4dbe1d-edfa-43fa-ab0d-a8a10e5bcba7",
   "metadata": {},
   "outputs": [
    {
     "name": "stdout",
     "output_type": "stream",
     "text": [
      "{('x', 'y'): [45, 65], 'pos': 'center', ('name', 'direction'): ['vector', 'left to right']}\n"
     ]
    }
   ],
   "source": [
    "print(d)"
   ]
  },
  {
   "cell_type": "code",
   "execution_count": 44,
   "id": "d20aad5d-79c1-4db4-9ea4-f94291378bab",
   "metadata": {},
   "outputs": [],
   "source": [
    "nums = {\n",
    "    'one': 'ek',\n",
    "    'two': 'do',\n",
    "    'three': 'teen'\n",
    "}"
   ]
  },
  {
   "cell_type": "code",
   "execution_count": 45,
   "id": "99fead41-5a5c-4b03-9c16-b497ce70eb2d",
   "metadata": {},
   "outputs": [
    {
     "data": {
      "text/plain": [
       "'teen'"
      ]
     },
     "execution_count": 45,
     "metadata": {},
     "output_type": "execute_result"
    }
   ],
   "source": [
    "nums['three']"
   ]
  },
  {
   "cell_type": "code",
   "execution_count": 46,
   "id": "52c6f012-ee8c-4306-8d87-e9d161292f8d",
   "metadata": {},
   "outputs": [],
   "source": [
    "day = {\n",
    "    0: 'sunday',\n",
    "    1: 'monday',\n",
    "    2: 'tuesday'\n",
    "}"
   ]
  },
  {
   "cell_type": "code",
   "execution_count": 47,
   "id": "02f59669-fc30-48a7-96d1-08edceb17dc0",
   "metadata": {},
   "outputs": [
    {
     "data": {
      "text/plain": [
       "'tuesday'"
      ]
     },
     "execution_count": 47,
     "metadata": {},
     "output_type": "execute_result"
    }
   ],
   "source": [
    "day[2]"
   ]
  },
  {
   "cell_type": "markdown",
   "id": "2bbe8d08-0402-40a8-8b15-722644d72a18",
   "metadata": {},
   "source": [
    "# Set \n",
    "\n",
    "  collection of unique hashable items   \n",
    "\n",
    "  mutable data type \n",
    "\n",
    "  unordered data type \n",
    "  "
   ]
  },
  {
   "cell_type": "code",
   "execution_count": 48,
   "id": "8aedd429-bd80-451e-b4d8-e40c40b2d46c",
   "metadata": {},
   "outputs": [],
   "source": [
    "s = {1, 2, 3, 4, 5, 4, 3, 2, 1, 2, 3, 4, 5, 6, 7, 8, 9, 4, 3, 2, 1 }"
   ]
  },
  {
   "cell_type": "code",
   "execution_count": 49,
   "id": "e385c273-8009-4982-a151-72ac6f134177",
   "metadata": {},
   "outputs": [
    {
     "name": "stdout",
     "output_type": "stream",
     "text": [
      "{1, 2, 3, 4, 5, 6, 7, 8, 9}\n",
      "<class 'set'>\n"
     ]
    }
   ],
   "source": [
    "print(s)\n",
    "print(type(s))"
   ]
  },
  {
   "cell_type": "code",
   "execution_count": 52,
   "id": "6538b847-676d-464e-b10e-1110ff4cd362",
   "metadata": {},
   "outputs": [],
   "source": [
    "s = {'a', 'b', 'c', 'd', 'a', 'b', 'a', 'b', 'A', 'B', 'A', 'B'}"
   ]
  },
  {
   "cell_type": "code",
   "execution_count": 53,
   "id": "9fc50510-9e3b-4acb-b1c7-98bfe81022bd",
   "metadata": {},
   "outputs": [
    {
     "name": "stdout",
     "output_type": "stream",
     "text": [
      "{'c', 'B', 'a', 'd', 'A', 'b'}\n"
     ]
    }
   ],
   "source": [
    "print(s)"
   ]
  },
  {
   "cell_type": "markdown",
   "id": "4e7e2475-5159-42d0-a96c-406be19d0556",
   "metadata": {},
   "source": [
    "#### Set Theory\n",
    "\n",
    "    s1.insersection(s2)  - common elements between two sets\n",
    "\n",
    "    s1.union(s2) - merging two sets into one\n",
    "\n",
    "    s1.difference(s2) - unique items s1 which are not present in s2"
   ]
  },
  {
   "cell_type": "code",
   "execution_count": 58,
   "id": "6f8cacc0-18de-4857-a851-9cb0db259571",
   "metadata": {},
   "outputs": [
    {
     "name": "stdout",
     "output_type": "stream",
     "text": [
      "add\n",
      "clear\n",
      "copy\n",
      "difference\n",
      "difference_update\n",
      "discard\n",
      "intersection\n",
      "intersection_update\n",
      "isdisjoint\n",
      "issubset\n",
      "issuperset\n",
      "pop\n",
      "remove\n",
      "symmetric_difference\n",
      "symmetric_difference_update\n",
      "union\n",
      "update\n"
     ]
    }
   ],
   "source": [
    "print(*dir(set)[-17:], sep=\"\\n\")"
   ]
  },
  {
   "cell_type": "code",
   "execution_count": 59,
   "id": "75ac5495-a8e3-44ee-b689-e380a68f88d5",
   "metadata": {},
   "outputs": [],
   "source": [
    "s1 = {1, 2, 3, 4, 5}"
   ]
  },
  {
   "cell_type": "code",
   "execution_count": 60,
   "id": "368db438-07cb-487e-94a9-3dda437e82f4",
   "metadata": {},
   "outputs": [],
   "source": [
    "s1.add(10)"
   ]
  },
  {
   "cell_type": "code",
   "execution_count": 61,
   "id": "dc561c82-9e70-49f5-ab1d-09ae7461270c",
   "metadata": {},
   "outputs": [
    {
     "name": "stdout",
     "output_type": "stream",
     "text": [
      "{1, 2, 3, 4, 5, 10}\n"
     ]
    }
   ],
   "source": [
    "print(s1)"
   ]
  },
  {
   "cell_type": "code",
   "execution_count": 66,
   "id": "4dd6cf6a-0a09-4b08-96e9-78004c0de896",
   "metadata": {},
   "outputs": [],
   "source": [
    "s1.update([5, 121, 34, 1111])"
   ]
  },
  {
   "cell_type": "code",
   "execution_count": 67,
   "id": "f3b20558-c1f8-4cf0-aa41-28347f6500b1",
   "metadata": {},
   "outputs": [
    {
     "name": "stdout",
     "output_type": "stream",
     "text": [
      "{34, 3, 4, 5, 10, 1111, 121}\n"
     ]
    }
   ],
   "source": [
    "print(s1)"
   ]
  },
  {
   "cell_type": "code",
   "execution_count": 68,
   "id": "4bbd6c7b-60de-4f58-babc-d7107b928753",
   "metadata": {},
   "outputs": [
    {
     "data": {
      "text/plain": [
       "3"
      ]
     },
     "execution_count": 68,
     "metadata": {},
     "output_type": "execute_result"
    }
   ],
   "source": [
    "s1.pop()"
   ]
  },
  {
   "cell_type": "code",
   "execution_count": 69,
   "id": "b9c2c959-e1cd-4131-af15-7216ccb61131",
   "metadata": {},
   "outputs": [
    {
     "data": {
      "text/plain": [
       "4"
      ]
     },
     "execution_count": 69,
     "metadata": {},
     "output_type": "execute_result"
    }
   ],
   "source": [
    "s1.pop()"
   ]
  },
  {
   "cell_type": "code",
   "execution_count": 70,
   "id": "1745a4b7-00e7-40e4-b58e-4eaafc1ab9dd",
   "metadata": {},
   "outputs": [],
   "source": [
    "s1.remove(10)"
   ]
  },
  {
   "cell_type": "code",
   "execution_count": 71,
   "id": "4e5efe07-f0fc-4295-83f9-d9f52e501754",
   "metadata": {},
   "outputs": [
    {
     "data": {
      "text/plain": [
       "{5, 34, 121, 1111}"
      ]
     },
     "execution_count": 71,
     "metadata": {},
     "output_type": "execute_result"
    }
   ],
   "source": [
    "s1"
   ]
  },
  {
   "cell_type": "code",
   "execution_count": 72,
   "id": "c2f3c575-eff5-4e20-8fb4-61ac7f355f5e",
   "metadata": {},
   "outputs": [
    {
     "ename": "KeyError",
     "evalue": "1",
     "output_type": "error",
     "traceback": [
      "\u001b[0;31m---------------------------------------------------------------------------\u001b[0m",
      "\u001b[0;31mKeyError\u001b[0m                                  Traceback (most recent call last)",
      "Cell \u001b[0;32mIn[72], line 1\u001b[0m\n\u001b[0;32m----> 1\u001b[0m s1\u001b[38;5;241m.\u001b[39mremove(\u001b[38;5;241m1\u001b[39m)\n",
      "\u001b[0;31mKeyError\u001b[0m: 1"
     ]
    }
   ],
   "source": [
    "s1.remove(1)"
   ]
  },
  {
   "cell_type": "code",
   "execution_count": 73,
   "id": "c8963b64-8102-4214-b4c7-b9ebbacd58d3",
   "metadata": {},
   "outputs": [
    {
     "data": {
      "text/plain": [
       "{5, 34, 121, 1111}"
      ]
     },
     "execution_count": 73,
     "metadata": {},
     "output_type": "execute_result"
    }
   ],
   "source": [
    "s1"
   ]
  },
  {
   "cell_type": "code",
   "execution_count": 74,
   "id": "73d0085a-befc-4b16-84cc-52068f9c8a7d",
   "metadata": {},
   "outputs": [],
   "source": [
    "s1.discard(5)"
   ]
  },
  {
   "cell_type": "code",
   "execution_count": 75,
   "id": "af070f3e-151b-4cf4-b6de-a0432bc1eb7a",
   "metadata": {},
   "outputs": [
    {
     "data": {
      "text/plain": [
       "{34, 121, 1111}"
      ]
     },
     "execution_count": 75,
     "metadata": {},
     "output_type": "execute_result"
    }
   ],
   "source": [
    "s1"
   ]
  },
  {
   "cell_type": "code",
   "execution_count": 76,
   "id": "0c85c2a3-246f-45fc-a1ba-e98c4e423973",
   "metadata": {},
   "outputs": [],
   "source": [
    "s1.discard(1)"
   ]
  },
  {
   "cell_type": "code",
   "execution_count": 77,
   "id": "f1d48552-f3b7-4236-80e1-caad5fdd8995",
   "metadata": {},
   "outputs": [
    {
     "data": {
      "text/plain": [
       "{34, 121, 1111}"
      ]
     },
     "execution_count": 77,
     "metadata": {},
     "output_type": "execute_result"
    }
   ],
   "source": [
    "s1"
   ]
  },
  {
   "cell_type": "code",
   "execution_count": 78,
   "id": "59e59b22-b920-4195-bfe8-c0e4ea511d20",
   "metadata": {},
   "outputs": [],
   "source": [
    "s2 = s1.copy()"
   ]
  },
  {
   "cell_type": "code",
   "execution_count": 79,
   "id": "be329bc8-503a-4d42-99fe-fc26826908c0",
   "metadata": {},
   "outputs": [],
   "source": [
    "s1.add(100)"
   ]
  },
  {
   "cell_type": "code",
   "execution_count": 80,
   "id": "8b81139f-05e1-4ff5-9bfb-1210ae048354",
   "metadata": {},
   "outputs": [
    {
     "data": {
      "text/plain": [
       "{34, 100, 121, 1111}"
      ]
     },
     "execution_count": 80,
     "metadata": {},
     "output_type": "execute_result"
    }
   ],
   "source": [
    "s1"
   ]
  },
  {
   "cell_type": "code",
   "execution_count": 81,
   "id": "912c19e5-7374-4843-bdde-e07518803339",
   "metadata": {},
   "outputs": [
    {
     "data": {
      "text/plain": [
       "{34, 121, 1111}"
      ]
     },
     "execution_count": 81,
     "metadata": {},
     "output_type": "execute_result"
    }
   ],
   "source": [
    "s2"
   ]
  },
  {
   "cell_type": "code",
   "execution_count": 82,
   "id": "750fcb19-2552-4012-bd3e-78b5213f708c",
   "metadata": {},
   "outputs": [],
   "source": [
    "s2.clear()"
   ]
  },
  {
   "cell_type": "code",
   "execution_count": 83,
   "id": "08a652ec-06b2-4472-a92f-9a95a470e240",
   "metadata": {},
   "outputs": [
    {
     "data": {
      "text/plain": [
       "set()"
      ]
     },
     "execution_count": 83,
     "metadata": {},
     "output_type": "execute_result"
    }
   ],
   "source": [
    "s2"
   ]
  },
  {
   "cell_type": "code",
   "execution_count": 84,
   "id": "114e328e-5c17-451f-bc10-66d46d4ca193",
   "metadata": {},
   "outputs": [
    {
     "name": "stdout",
     "output_type": "stream",
     "text": [
      "<class 'dict'>\n"
     ]
    }
   ],
   "source": [
    "s = {}\n",
    "print(type(s))"
   ]
  },
  {
   "cell_type": "code",
   "execution_count": 85,
   "id": "63e3767f-5ca8-4898-b423-f076b2b9a04f",
   "metadata": {},
   "outputs": [],
   "source": [
    "s = set()"
   ]
  },
  {
   "cell_type": "code",
   "execution_count": 86,
   "id": "775911c4-298b-40c5-8976-3464dbb5049b",
   "metadata": {},
   "outputs": [
    {
     "data": {
      "text/plain": [
       "set()"
      ]
     },
     "execution_count": 86,
     "metadata": {},
     "output_type": "execute_result"
    }
   ],
   "source": [
    "s"
   ]
  },
  {
   "cell_type": "code",
   "execution_count": 87,
   "id": "a0fe2647-1b85-4514-b56f-c66460e33bc2",
   "metadata": {},
   "outputs": [
    {
     "name": "stdout",
     "output_type": "stream",
     "text": [
      "0 <class 'int'>\n",
      "0.0 <class 'float'>\n",
      "0j <class 'complex'>\n",
      " <class 'str'>\n",
      "[] <class 'list'>\n",
      "() <class 'tuple'>\n",
      "{} <class 'dict'>\n",
      "set() <class 'set'>\n"
     ]
    }
   ],
   "source": [
    "x = int()\n",
    "print(x, type(x))\n",
    "\n",
    "x = float()\n",
    "print(x, type(x))\n",
    "\n",
    "x = complex()\n",
    "print(x, type(x))\n",
    "\n",
    "x = str()\n",
    "print(x, type(x))\n",
    "\n",
    "x = list()\n",
    "print(x, type(x))\n",
    "\n",
    "x = tuple()\n",
    "print(x, type(x))\n",
    "\n",
    "x = dict()\n",
    "print(x, type(x))\n",
    "\n",
    "x = set()\n",
    "print(x, type(x))"
   ]
  },
  {
   "cell_type": "code",
   "execution_count": 89,
   "id": "1f3ada9f-aff8-41d0-81ef-6cb98918a403",
   "metadata": {},
   "outputs": [],
   "source": [
    "hindi = {\"ram\", \"shyam\", \"ghyansham\", \"hari mohan\", \"ali\", \"javed\"}\n",
    "english = {\"ram\", \"hari mohan\", \"javed\", \"dhruvik\", \"jatin\", \"seema\"}"
   ]
  },
  {
   "cell_type": "code",
   "execution_count": 91,
   "id": "5c7220b9-8736-48da-a4f7-7199170278a1",
   "metadata": {},
   "outputs": [],
   "source": [
    "hi_only = hindi.difference(english)\n",
    "en_only = english.difference(hindi)"
   ]
  },
  {
   "cell_type": "code",
   "execution_count": 92,
   "id": "974de353-6ec7-4870-80da-54db173051e9",
   "metadata": {},
   "outputs": [
    {
     "name": "stdout",
     "output_type": "stream",
     "text": [
      "{'shyam', 'ali', 'ghyansham'}\n",
      "{'jatin', 'seema', 'dhruvik'}\n"
     ]
    }
   ],
   "source": [
    "print(hi_only)\n",
    "print(en_only)"
   ]
  },
  {
   "cell_type": "code",
   "execution_count": 94,
   "id": "becc622a-ef43-4703-ae65-58cac5673209",
   "metadata": {},
   "outputs": [],
   "source": [
    "common = hindi.intersection(english)"
   ]
  },
  {
   "cell_type": "code",
   "execution_count": 95,
   "id": "caa9b42d-83ca-4599-ad27-cd9095d9ac7a",
   "metadata": {},
   "outputs": [
    {
     "data": {
      "text/plain": [
       "{'hari mohan', 'javed', 'ram'}"
      ]
     },
     "execution_count": 95,
     "metadata": {},
     "output_type": "execute_result"
    }
   ],
   "source": [
    "common"
   ]
  },
  {
   "cell_type": "code",
   "execution_count": 96,
   "id": "d684d12b-fd61-45b3-8342-ea5531c5d390",
   "metadata": {},
   "outputs": [],
   "source": [
    "data = hindi.union(english)"
   ]
  },
  {
   "cell_type": "code",
   "execution_count": 97,
   "id": "dd9620cc-ec43-4dcd-8c81-5cd253aef97c",
   "metadata": {},
   "outputs": [
    {
     "data": {
      "text/plain": [
       "{'ali',\n",
       " 'dhruvik',\n",
       " 'ghyansham',\n",
       " 'hari mohan',\n",
       " 'jatin',\n",
       " 'javed',\n",
       " 'ram',\n",
       " 'seema',\n",
       " 'shyam'}"
      ]
     },
     "execution_count": 97,
     "metadata": {},
     "output_type": "execute_result"
    }
   ],
   "source": [
    "data"
   ]
  },
  {
   "cell_type": "code",
   "execution_count": 105,
   "id": "35fedf31-32ca-4cb2-8b7a-6a93b2d43cda",
   "metadata": {},
   "outputs": [],
   "source": [
    "s1 = {1, 2, 3, 4, 5}\n",
    "s2 = {4, 5, 6, 7, 8}"
   ]
  },
  {
   "cell_type": "code",
   "execution_count": 106,
   "id": "8516e826-7d6b-4aba-8826-e5dabc9fbbc0",
   "metadata": {},
   "outputs": [
    {
     "data": {
      "text/plain": [
       "{1, 2, 3}"
      ]
     },
     "execution_count": 106,
     "metadata": {},
     "output_type": "execute_result"
    }
   ],
   "source": [
    "s1.difference(s2)"
   ]
  },
  {
   "cell_type": "code",
   "execution_count": 107,
   "id": "fb61aa62-81d4-4faa-a7df-99f110da7b39",
   "metadata": {},
   "outputs": [],
   "source": [
    "s1.difference_update(s2)"
   ]
  },
  {
   "cell_type": "code",
   "execution_count": 108,
   "id": "8b5ac2e3-6caa-4237-a47b-7cbb641683f4",
   "metadata": {},
   "outputs": [
    {
     "data": {
      "text/plain": [
       "{1, 2, 3}"
      ]
     },
     "execution_count": 108,
     "metadata": {},
     "output_type": "execute_result"
    }
   ],
   "source": [
    "s1"
   ]
  },
  {
   "cell_type": "code",
   "execution_count": 100,
   "id": "d4102057-6de8-4bc5-902d-0098a031351b",
   "metadata": {},
   "outputs": [
    {
     "name": "stdout",
     "output_type": "stream",
     "text": [
      "{1, 2, 3, 4, 5}\n",
      "{4, 5, 6, 7, 8}\n",
      "{1, 2, 3}\n"
     ]
    }
   ],
   "source": [
    "s3 = s1.difference(s2) # new set which contains items present in s1 not in s2\n",
    "print(s1)\n",
    "print(s2)\n",
    "print(s3)"
   ]
  },
  {
   "cell_type": "code",
   "execution_count": 101,
   "id": "d167dd7b-ad29-4f4f-b699-2acddf0fa135",
   "metadata": {},
   "outputs": [],
   "source": [
    "s1.difference_update(s2)"
   ]
  },
  {
   "cell_type": "code",
   "execution_count": 102,
   "id": "52d77b30-e9e9-4997-ba44-dc93ad8301e1",
   "metadata": {},
   "outputs": [
    {
     "data": {
      "text/plain": [
       "{1, 2, 3}"
      ]
     },
     "execution_count": 102,
     "metadata": {},
     "output_type": "execute_result"
    }
   ],
   "source": [
    "s1"
   ]
  },
  {
   "cell_type": "code",
   "execution_count": 103,
   "id": "dfabc1dd-b053-4f27-81c7-6faa794c81f7",
   "metadata": {},
   "outputs": [
    {
     "name": "stdout",
     "output_type": "stream",
     "text": [
      "['add', 'clear', 'copy', 'difference', 'difference_update', 'discard', 'intersection', 'intersection_update', 'isdisjoint', 'issubset', 'issuperset', 'pop', 'remove', 'symmetric_difference', 'symmetric_difference_update', 'union', 'update']\n"
     ]
    }
   ],
   "source": [
    "print(dir(set)[-17:])"
   ]
  },
  {
   "cell_type": "code",
   "execution_count": 109,
   "id": "53fdf4f1-997e-422b-a068-0277f25bda50",
   "metadata": {},
   "outputs": [
    {
     "name": "stdout",
     "output_type": "stream",
     "text": [
      "None\n"
     ]
    }
   ],
   "source": [
    "s1 = {1, 2, 3, 4, 5}\n",
    "s2 = {4, 5, 6, 7, 8, 1}\n",
    "\n",
    "s1 = s1.intersection_update(s2)\n",
    "# s1 = {1, 4, 5}\n",
    "# s1 = None\n",
    "print(s1)"
   ]
  },
  {
   "cell_type": "code",
   "execution_count": 110,
   "id": "f35af83e-f66e-467f-8cee-761353c496d0",
   "metadata": {},
   "outputs": [
    {
     "name": "stdout",
     "output_type": "stream",
     "text": [
      "{1, 4, 5}\n"
     ]
    }
   ],
   "source": [
    "s1 = {1, 2, 3, 4, 5}\n",
    "s2 = {4, 5, 6, 7, 8, 1}\n",
    "\n",
    "s1.intersection_update(s2)\n",
    "# s1 = {1, 4, 5}\n",
    "print(s1)"
   ]
  },
  {
   "cell_type": "code",
   "execution_count": 111,
   "id": "799ea30f-dde8-4c3a-8b12-cd361aa68481",
   "metadata": {},
   "outputs": [],
   "source": [
    "num = [ 1, 2, 3, 4, 5]"
   ]
  },
  {
   "cell_type": "code",
   "execution_count": 112,
   "id": "e6f131eb-e54f-4931-a0e0-44380af089fb",
   "metadata": {},
   "outputs": [],
   "source": [
    "num.append(10)\n",
    "# None"
   ]
  },
  {
   "cell_type": "code",
   "execution_count": 113,
   "id": "8558437b-dd86-46c8-931f-0154446eecf6",
   "metadata": {},
   "outputs": [
    {
     "data": {
      "text/plain": [
       "2"
      ]
     },
     "execution_count": 113,
     "metadata": {},
     "output_type": "execute_result"
    }
   ],
   "source": [
    "num.pop(1)\n",
    "# 2"
   ]
  },
  {
   "cell_type": "code",
   "execution_count": 114,
   "id": "305d3671-58cc-4019-b35b-14e036dcf23f",
   "metadata": {},
   "outputs": [
    {
     "name": "stdout",
     "output_type": "stream",
     "text": [
      "1\n"
     ]
    }
   ],
   "source": [
    "item = num.pop(0)\n",
    "\n",
    "print(item)"
   ]
  },
  {
   "cell_type": "code",
   "execution_count": 115,
   "id": "16b2489a-514a-45a8-afb1-521e8058f154",
   "metadata": {},
   "outputs": [
    {
     "name": "stdout",
     "output_type": "stream",
     "text": [
      "None\n"
     ]
    }
   ],
   "source": [
    "item = num.append(100)\n",
    "print(item)"
   ]
  },
  {
   "cell_type": "code",
   "execution_count": 116,
   "id": "787c713a-f6db-40ae-b287-5b2f09ed8b76",
   "metadata": {},
   "outputs": [
    {
     "data": {
      "text/plain": [
       "[3, 4, 5, 10, 100]"
      ]
     },
     "execution_count": 116,
     "metadata": {},
     "output_type": "execute_result"
    }
   ],
   "source": [
    "num"
   ]
  },
  {
   "cell_type": "markdown",
   "id": "dbb80918-1cb5-459c-a8bc-6569d0b89f17",
   "metadata": {},
   "source": [
    "    function return value "
   ]
  },
  {
   "cell_type": "markdown",
   "id": "b6d7b860-1b3c-4912-9ed1-5e24787c410e",
   "metadata": {},
   "source": [
    "    joint disjoint \n",
    "    "
   ]
  },
  {
   "attachments": {
    "11f3108c-ad23-4759-9686-2a1986cf2cd2.png": {
     "image/png": "[encoded data removed]"
    }
   },
   "cell_type": "markdown",
   "id": "d8185c9c-f0ef-4a1a-afb2-1f7d36e52d35",
   "metadata": {},
   "source": [
    "![image.png](attachment:11f3108c-ad23-4759-9686-2a1986cf2cd2.png)"
   ]
  },
  {
   "cell_type": "code",
   "execution_count": 119,
   "id": "c17b7e4f-56c1-4aac-8434-99543e879666",
   "metadata": {},
   "outputs": [],
   "source": [
    "a = {1, 2, 3, 4 }\n",
    "b = {5, 6, 7, 8 }\n",
    "\n",
    "c = a.union(b)"
   ]
  },
  {
   "cell_type": "code",
   "execution_count": 122,
   "id": "7d77c8a1-59a0-45ec-8799-44a0ba5dfd87",
   "metadata": {},
   "outputs": [
    {
     "name": "stdout",
     "output_type": "stream",
     "text": [
      "False\n",
      "False\n",
      "True\n"
     ]
    }
   ],
   "source": [
    "print(a.issuperset(b)) # False\n",
    "print(a.issuperset(c)) # False\n",
    "print(c.issuperset(a)) # True"
   ]
  },
  {
   "cell_type": "code",
   "execution_count": 120,
   "id": "4c1a7473-61e0-4928-846d-836e5e69d6d4",
   "metadata": {},
   "outputs": [
    {
     "name": "stdout",
     "output_type": "stream",
     "text": [
      "True\n"
     ]
    }
   ],
   "source": [
    "v = a.isdisjoint(b)\n",
    "print(v)"
   ]
  },
  {
   "cell_type": "code",
   "execution_count": 121,
   "id": "19f37f62-9440-4b8c-ad06-0733df23aa7f",
   "metadata": {},
   "outputs": [
    {
     "name": "stdout",
     "output_type": "stream",
     "text": [
      "False\n"
     ]
    }
   ],
   "source": [
    "print(a.isdisjoint(c))"
   ]
  },
  {
   "cell_type": "code",
   "execution_count": 124,
   "id": "2429a6c4-d735-48b5-834a-d9b887824f0d",
   "metadata": {},
   "outputs": [
    {
     "name": "stdout",
     "output_type": "stream",
     "text": [
      "add\n",
      "clear\n",
      "copy\n",
      "difference\n",
      "difference_update\n",
      "discard\n",
      "intersection\n",
      "intersection_update\n",
      "isdisjoint\n",
      "issubset\n",
      "issuperset\n",
      "pop\n",
      "remove\n",
      "symmetric_difference\n",
      "symmetric_difference_update\n",
      "union\n",
      "update\n"
     ]
    }
   ],
   "source": [
    "print(*dir(set)[-17:], sep=\"\\n\")"
   ]
  },
  {
   "cell_type": "code",
   "execution_count": 125,
   "id": "35319c5e-48ca-4827-8f86-2ea7f050574c",
   "metadata": {},
   "outputs": [
    {
     "data": {
      "text/plain": [
       "{'ali', 'ghyansham', 'hari mohan', 'javed', 'ram', 'shyam'}"
      ]
     },
     "execution_count": 125,
     "metadata": {},
     "output_type": "execute_result"
    }
   ],
   "source": [
    "hindi"
   ]
  },
  {
   "cell_type": "code",
   "execution_count": 126,
   "id": "54a8b672-89f1-40b0-ac0f-dbb9bcfd9b68",
   "metadata": {},
   "outputs": [
    {
     "data": {
      "text/plain": [
       "{'dhruvik', 'hari mohan', 'jatin', 'javed', 'ram', 'seema'}"
      ]
     },
     "execution_count": 126,
     "metadata": {},
     "output_type": "execute_result"
    }
   ],
   "source": [
    "english"
   ]
  },
  {
   "cell_type": "code",
   "execution_count": 127,
   "id": "88a0f632-e014-4e99-b4a4-bc99df241452",
   "metadata": {},
   "outputs": [],
   "source": [
    "ans = hindi.symmetric_difference(english)"
   ]
  },
  {
   "cell_type": "code",
   "execution_count": 128,
   "id": "e5dc9580-f668-4d17-9714-342e35611134",
   "metadata": {},
   "outputs": [
    {
     "name": "stdout",
     "output_type": "stream",
     "text": [
      "{'jatin', 'dhruvik', 'shyam', 'ghyansham', 'seema', 'ali'}\n"
     ]
    }
   ],
   "source": [
    "print(ans)"
   ]
  },
  {
   "cell_type": "markdown",
   "id": "88f3552b-e003-47ab-86bc-18f048b93b5a",
   "metadata": {},
   "source": [
    "    unique collection items "
   ]
  },
  {
   "cell_type": "markdown",
   "id": "0fa70af8-27e4-4b0a-a5ba-a8ea376a738a",
   "metadata": {},
   "source": [
    "# Type \n",
    "\n",
    "    Boolean - True, False\n",
    "\n",
    "    Null type - None"
   ]
  },
  {
   "cell_type": "code",
   "execution_count": 130,
   "id": "be6f37b4-b4c8-4d43-9e06-2bfc336e25f3",
   "metadata": {},
   "outputs": [
    {
     "name": "stdout",
     "output_type": "stream",
     "text": [
      "True <class 'bool'>\n"
     ]
    }
   ],
   "source": [
    "a = True\n",
    "print(a, type(a))"
   ]
  },
  {
   "cell_type": "code",
   "execution_count": 132,
   "id": "a515fb93-c959-4dd5-9d52-e1f0cab130fc",
   "metadata": {},
   "outputs": [
    {
     "name": "stdout",
     "output_type": "stream",
     "text": [
      "False <class 'bool'>\n"
     ]
    }
   ],
   "source": [
    "b = False\n",
    "print(b, type(b))"
   ]
  },
  {
   "cell_type": "code",
   "execution_count": 133,
   "id": "63359bca-9ff8-4483-be92-f464755ba4d8",
   "metadata": {},
   "outputs": [
    {
     "data": {
      "text/plain": [
       "False"
      ]
     },
     "execution_count": 133,
     "metadata": {},
     "output_type": "execute_result"
    }
   ],
   "source": [
    "bool(None)"
   ]
  },
  {
   "cell_type": "code",
   "execution_count": 134,
   "id": "97e7fc30-1826-4f7b-88f3-b348fc7b0c71",
   "metadata": {},
   "outputs": [
    {
     "data": {
      "text/plain": [
       "False"
      ]
     },
     "execution_count": 134,
     "metadata": {},
     "output_type": "execute_result"
    }
   ],
   "source": [
    "bool(0)"
   ]
  },
  {
   "cell_type": "code",
   "execution_count": 135,
   "id": "33d610d6-2767-4036-8540-bf59e3cb6553",
   "metadata": {},
   "outputs": [
    {
     "data": {
      "text/plain": [
       "True"
      ]
     },
     "execution_count": 135,
     "metadata": {},
     "output_type": "execute_result"
    }
   ],
   "source": [
    "bool(1)"
   ]
  },
  {
   "cell_type": "code",
   "execution_count": 136,
   "id": "d0fd7f0f-1882-4c9f-a0e7-3e8fe8206f97",
   "metadata": {},
   "outputs": [
    {
     "data": {
      "text/plain": [
       "True"
      ]
     },
     "execution_count": 136,
     "metadata": {},
     "output_type": "execute_result"
    }
   ],
   "source": [
    "bool(-100)"
   ]
  },
  {
   "cell_type": "code",
   "execution_count": 137,
   "id": "5322437b-0725-4808-a049-2640339625ba",
   "metadata": {},
   "outputs": [
    {
     "data": {
      "text/plain": [
       "False"
      ]
     },
     "execution_count": 137,
     "metadata": {},
     "output_type": "execute_result"
    }
   ],
   "source": [
    "bool(0.0)"
   ]
  },
  {
   "cell_type": "code",
   "execution_count": 138,
   "id": "c979c7e6-01c0-41dc-b952-5b9c3117607f",
   "metadata": {},
   "outputs": [
    {
     "data": {
      "text/plain": [
       "True"
      ]
     },
     "execution_count": 138,
     "metadata": {},
     "output_type": "execute_result"
    }
   ],
   "source": [
    "bool(0.001)"
   ]
  },
  {
   "cell_type": "code",
   "execution_count": 139,
   "id": "58a7bc4a-70b5-472f-921f-04ce68a1d196",
   "metadata": {},
   "outputs": [
    {
     "data": {
      "text/plain": [
       "True"
      ]
     },
     "execution_count": 139,
     "metadata": {},
     "output_type": "execute_result"
    }
   ],
   "source": [
    "bool(\" \")"
   ]
  },
  {
   "cell_type": "code",
   "execution_count": 140,
   "id": "287f3494-c1f8-4b0e-a8cd-87cd3ab6709e",
   "metadata": {},
   "outputs": [
    {
     "data": {
      "text/plain": [
       "True"
      ]
     },
     "execution_count": 140,
     "metadata": {},
     "output_type": "execute_result"
    }
   ],
   "source": [
    "bool(\"abcd\")"
   ]
  },
  {
   "cell_type": "code",
   "execution_count": 141,
   "id": "8b185aa6-135b-42ca-a0d2-14562b54829e",
   "metadata": {},
   "outputs": [
    {
     "data": {
      "text/plain": [
       "False"
      ]
     },
     "execution_count": 141,
     "metadata": {},
     "output_type": "execute_result"
    }
   ],
   "source": [
    "bool(\"\")"
   ]
  },
  {
   "cell_type": "markdown",
   "id": "2a27a7ee-06f6-4e64-ae54-d4d646359447",
   "metadata": {},
   "source": [
    "empty objects considered False"
   ]
  },
  {
   "cell_type": "markdown",
   "id": "0cf99cfd-35e0-462f-ab93-9a994e26984a",
   "metadata": {},
   "source": [
    "# Type Conversion"
   ]
  },
  {
   "cell_type": "code",
   "execution_count": 142,
   "id": "3c69321e-8fbe-43ac-b006-cfd8d03e917b",
   "metadata": {},
   "outputs": [
    {
     "name": "stdout",
     "output_type": "stream",
     "text": [
      "234\n"
     ]
    }
   ],
   "source": [
    "s = \"234\"\n",
    "\n",
    "x = int(s)\n",
    "\n",
    "print(x)"
   ]
  },
  {
   "cell_type": "code",
   "execution_count": 143,
   "id": "1eca7b0d-61ba-4c49-9200-7fd13d9f01c5",
   "metadata": {},
   "outputs": [],
   "source": [
    "lang = [ 1, 2, 3, 4]"
   ]
  },
  {
   "cell_type": "code",
   "execution_count": 144,
   "id": "323d7999-6a68-4c33-bd60-503fa48f57a7",
   "metadata": {},
   "outputs": [
    {
     "name": "stdout",
     "output_type": "stream",
     "text": [
      "(1, 2, 3, 4)\n"
     ]
    }
   ],
   "source": [
    "t = tuple(lang)\n",
    "print(t)"
   ]
  },
  {
   "cell_type": "code",
   "execution_count": 150,
   "id": "ee2c22bf-a45a-4d9f-acee-85a9eccf820e",
   "metadata": {},
   "outputs": [],
   "source": [
    "lang = [\n",
    "    [\"java\", \"most used language in industry\"],\n",
    "    [\"python\", \"easy to use and kind of ML domain\"],\n",
    "    [\"c\", \"old is gold\"]\n",
    "]"
   ]
  },
  {
   "cell_type": "code",
   "execution_count": 151,
   "id": "cc6a3f2b-7766-4e15-8913-fbee64fa721b",
   "metadata": {},
   "outputs": [
    {
     "name": "stdout",
     "output_type": "stream",
     "text": [
      "{'java': 'most used language in industry', 'python': 'easy to use and kind of ML domain', 'c': 'old is gold'}\n"
     ]
    }
   ],
   "source": [
    "d = dict(lang)\n",
    "print(d)"
   ]
  },
  {
   "cell_type": "code",
   "execution_count": 145,
   "id": "8abb58df-fce9-4093-a61b-423a19ff4f81",
   "metadata": {},
   "outputs": [
    {
     "ename": "TypeError",
     "evalue": "cannot convert dictionary update sequence element #0 to a sequence",
     "output_type": "error",
     "traceback": [
      "\u001b[0;31m---------------------------------------------------------------------------\u001b[0m",
      "\u001b[0;31mTypeError\u001b[0m                                 Traceback (most recent call last)",
      "Cell \u001b[0;32mIn[145], line 3\u001b[0m\n\u001b[1;32m      1\u001b[0m lang \u001b[38;5;241m=\u001b[39m [ \u001b[38;5;241m1\u001b[39m, \u001b[38;5;241m1\u001b[39m, \u001b[38;5;241m1\u001b[39m, \u001b[38;5;241m1\u001b[39m, \u001b[38;5;241m1\u001b[39m, \u001b[38;5;241m1\u001b[39m, \u001b[38;5;241m2\u001b[39m, \u001b[38;5;241m2\u001b[39m, \u001b[38;5;241m1\u001b[39m, \u001b[38;5;241m1\u001b[39m ,\u001b[38;5;241m2\u001b[39m ]\n\u001b[0;32m----> 3\u001b[0m d \u001b[38;5;241m=\u001b[39m \u001b[38;5;28mdict\u001b[39m(lang)\n",
      "\u001b[0;31mTypeError\u001b[0m: cannot convert dictionary update sequence element #0 to a sequence"
     ]
    }
   ],
   "source": [
    "lang = [ 1, 1, 1, 1, 1, 1, 2, 2, 1, 1 ,2 ]\n",
    "\n",
    "d = dict(lang)"
   ]
  },
  {
   "cell_type": "code",
   "execution_count": 152,
   "id": "06c5b760-3193-45fb-ba37-a4b83f4f7255",
   "metadata": {},
   "outputs": [],
   "source": [
    "data = [\n",
    "    (\"iphone\", [15, 70000]),\n",
    "    (\"one plus\", [100, 35000]),\n",
    "    (\"samsung\", [60, 50000])\n",
    "]"
   ]
  },
  {
   "cell_type": "code",
   "execution_count": 153,
   "id": "ad639655-6af6-4bb9-bc95-72671a4b874e",
   "metadata": {},
   "outputs": [
    {
     "name": "stdout",
     "output_type": "stream",
     "text": [
      "{'iphone': [15, 70000], 'one plus': [100, 35000], 'samsung': [60, 50000]}\n"
     ]
    }
   ],
   "source": [
    "info = dict(data)\n",
    "print(info)"
   ]
  },
  {
   "cell_type": "code",
   "execution_count": 154,
   "id": "48153ffb-01b6-469c-bfdc-4772a93d2c12",
   "metadata": {},
   "outputs": [
    {
     "data": {
      "text/plain": [
       "{'one': 'ek', 'two': 'do', 'three': 'teen'}"
      ]
     },
     "execution_count": 154,
     "metadata": {},
     "output_type": "execute_result"
    }
   ],
   "source": [
    "nums"
   ]
  },
  {
   "cell_type": "code",
   "execution_count": 155,
   "id": "9033ed0b-73af-420a-97e3-be394faa5ae0",
   "metadata": {},
   "outputs": [
    {
     "name": "stdout",
     "output_type": "stream",
     "text": [
      "['one', 'two', 'three']\n"
     ]
    }
   ],
   "source": [
    "# default -> keys \n",
    "x = list(nums)\n",
    "print(x) "
   ]
  },
  {
   "cell_type": "code",
   "execution_count": 156,
   "id": "de0ddcac-f76e-4550-ae03-e57c2f79bb9f",
   "metadata": {},
   "outputs": [
    {
     "data": {
      "text/plain": [
       "['one', 'two', 'three']"
      ]
     },
     "execution_count": 156,
     "metadata": {},
     "output_type": "execute_result"
    }
   ],
   "source": [
    "list(nums.keys())"
   ]
  },
  {
   "cell_type": "code",
   "execution_count": 157,
   "id": "cfe78ee7-e40e-4268-a8e4-94e407aff0e9",
   "metadata": {},
   "outputs": [
    {
     "data": {
      "text/plain": [
       "['ek', 'do', 'teen']"
      ]
     },
     "execution_count": 157,
     "metadata": {},
     "output_type": "execute_result"
    }
   ],
   "source": [
    "list(nums.values())"
   ]
  },
  {
   "cell_type": "code",
   "execution_count": 158,
   "id": "76ba1070-8f23-4268-b45a-b0407978e5bd",
   "metadata": {},
   "outputs": [
    {
     "data": {
      "text/plain": [
       "[('one', 'ek'), ('two', 'do'), ('three', 'teen')]"
      ]
     },
     "execution_count": 158,
     "metadata": {},
     "output_type": "execute_result"
    }
   ],
   "source": [
    "list(nums.items())"
   ]
  },
  {
   "cell_type": "code",
   "execution_count": 159,
   "id": "01be63b6-5845-4685-8808-27a565352e73",
   "metadata": {},
   "outputs": [
    {
     "name": "stdout",
     "output_type": "stream",
     "text": [
      "one is ek\n",
      "two is do\n",
      "three is teen\n"
     ]
    }
   ],
   "source": [
    "for key in nums:\n",
    "    print(f\"{key} is {nums[key]}\")"
   ]
  },
  {
   "cell_type": "code",
   "execution_count": 160,
   "id": "0bee4f7c-8290-4f13-ad72-1aaf58f8d675",
   "metadata": {},
   "outputs": [],
   "source": [
    "nums = [ 1, 2, 1, 1, 1, 1, ]"
   ]
  },
  {
   "cell_type": "code",
   "execution_count": 161,
   "id": "07acb12c-746e-4af0-9aef-f7f43180d6e5",
   "metadata": {},
   "outputs": [
    {
     "data": {
      "text/plain": [
       "{1, 2}"
      ]
     },
     "execution_count": 161,
     "metadata": {},
     "output_type": "execute_result"
    }
   ],
   "source": [
    "s = set(nums)\n",
    "s"
   ]
  },
  {
   "cell_type": "code",
   "execution_count": 162,
   "id": "ebc76f8e-dc10-4d8e-ba85-711e263c1d94",
   "metadata": {},
   "outputs": [
    {
     "data": {
      "text/plain": [
       "{'ali', 'ghyansham', 'hari mohan', 'javed', 'ram', 'shyam'}"
      ]
     },
     "execution_count": 162,
     "metadata": {},
     "output_type": "execute_result"
    }
   ],
   "source": [
    "hindi"
   ]
  },
  {
   "cell_type": "code",
   "execution_count": 163,
   "id": "4aa6d9e2-5442-4e6a-87e2-8a309c97ddfc",
   "metadata": {},
   "outputs": [],
   "source": [
    "l = list(s)"
   ]
  },
  {
   "cell_type": "code",
   "execution_count": 164,
   "id": "759ec12f-7caa-468d-aecf-37c736762316",
   "metadata": {},
   "outputs": [
    {
     "name": "stdout",
     "output_type": "stream",
     "text": [
      "[1, 2]\n"
     ]
    }
   ],
   "source": [
    "print(l)"
   ]
  },
  {
   "cell_type": "code",
   "execution_count": 166,
   "id": "51042fb2-bbcb-4486-bf0c-66d82f3eb724",
   "metadata": {},
   "outputs": [
    {
     "name": "stdout",
     "output_type": "stream",
     "text": [
      "['__abs__', '__add__', '__and__', '__bool__', '__ceil__', '__class__', '__delattr__', '__dir__', '__divmod__', '__doc__', '__eq__', '__float__', '__floor__', '__floordiv__', '__format__', '__ge__', '__getattribute__', '__getnewargs__', '__getstate__', '__gt__', '__hash__', '__index__', '__init__', '__init_subclass__', '__int__', '__invert__', '__le__', '__lshift__', '__lt__', '__mod__', '__mul__', '__ne__', '__neg__', '__new__', '__or__', '__pos__', '__pow__', '__radd__', '__rand__', '__rdivmod__', '__reduce__', '__reduce_ex__', '__repr__', '__rfloordiv__', '__rlshift__', '__rmod__', '__rmul__', '__ror__', '__round__', '__rpow__', '__rrshift__', '__rshift__', '__rsub__', '__rtruediv__', '__rxor__', '__setattr__', '__sizeof__', '__str__', '__sub__', '__subclasshook__', '__truediv__', '__trunc__', '__xor__', 'as_integer_ratio', 'bit_count', 'bit_length', 'conjugate', 'denominator', 'from_bytes', 'imag', 'is_integer', 'numerator', 'real', 'to_bytes']\n"
     ]
    }
   ],
   "source": [
    "print(dir(int))"
   ]
  },
  {
   "cell_type": "code",
   "execution_count": 167,
   "id": "2a440990-139b-4464-a76b-684fdd2f5ec7",
   "metadata": {},
   "outputs": [
    {
     "data": {
      "text/plain": [
       "11"
      ]
     },
     "execution_count": 167,
     "metadata": {},
     "output_type": "execute_result"
    }
   ],
   "source": [
    "5 + 6"
   ]
  },
  {
   "cell_type": "code",
   "execution_count": 168,
   "id": "85dc1d05-85be-4cc7-b400-a09f375d8ac3",
   "metadata": {},
   "outputs": [
    {
     "data": {
      "text/plain": [
       "-4"
      ]
     },
     "execution_count": 168,
     "metadata": {},
     "output_type": "execute_result"
    }
   ],
   "source": [
    "6 - 10 "
   ]
  },
  {
   "cell_type": "code",
   "execution_count": 169,
   "id": "2a3929a1-7974-4fbf-997e-6dd646650e4c",
   "metadata": {},
   "outputs": [
    {
     "data": {
      "text/plain": [
       "39.599999999999994"
      ]
     },
     "execution_count": 169,
     "metadata": {},
     "output_type": "execute_result"
    }
   ],
   "source": [
    "6 * 6.6"
   ]
  },
  {
   "cell_type": "code",
   "execution_count": 170,
   "id": "db0fd3ea-f8ea-4d4a-90b2-1bb434797012",
   "metadata": {},
   "outputs": [
    {
     "name": "stdout",
     "output_type": "stream",
     "text": [
      "3.142857142857143\n"
     ]
    }
   ],
   "source": [
    "a = 22 / 7 \n",
    "# true div\n",
    "print(a)"
   ]
  },
  {
   "cell_type": "code",
   "execution_count": 171,
   "id": "82f313a1-71c9-4a25-8c6b-be7b80b0aeb2",
   "metadata": {},
   "outputs": [],
   "source": [
    "# int division / floor divsion \n",
    "\n",
    "# float --> int [ floor value, round,  ceil value]"
   ]
  },
  {
   "cell_type": "code",
   "execution_count": 172,
   "id": "2619d2ca-e13b-4124-9dde-e3e11726f616",
   "metadata": {},
   "outputs": [],
   "source": [
    "import math"
   ]
  },
  {
   "cell_type": "code",
   "execution_count": 177,
   "id": "0f82711c-3b2b-43dc-865a-2d74025cc1e1",
   "metadata": {},
   "outputs": [
    {
     "data": {
      "text/plain": [
       "6"
      ]
     },
     "execution_count": 177,
     "metadata": {},
     "output_type": "execute_result"
    }
   ],
   "source": [
    "round(5.9)  #"
   ]
  },
  {
   "cell_type": "code",
   "execution_count": 179,
   "id": "acd407f4-2157-4cbe-9f4f-ba495def81dd",
   "metadata": {},
   "outputs": [
    {
     "data": {
      "text/plain": [
       "3"
      ]
     },
     "execution_count": 179,
     "metadata": {},
     "output_type": "execute_result"
    }
   ],
   "source": [
    "math.floor(3.99)"
   ]
  },
  {
   "cell_type": "code",
   "execution_count": 180,
   "id": "c5fa1905-6a69-43c3-97bd-2256122e03f9",
   "metadata": {},
   "outputs": [
    {
     "data": {
      "text/plain": [
       "4"
      ]
     },
     "execution_count": 180,
     "metadata": {},
     "output_type": "execute_result"
    }
   ],
   "source": [
    "math.ceil(3.1)"
   ]
  },
  {
   "cell_type": "code",
   "execution_count": 182,
   "id": "b3b19fb1-c1da-4fe2-a0fb-44d94e78e5ac",
   "metadata": {},
   "outputs": [
    {
     "name": "stdout",
     "output_type": "stream",
     "text": [
      "3\n"
     ]
    }
   ],
   "source": [
    "r = 22 // 7 \n",
    "\n",
    "print(r)"
   ]
  },
  {
   "cell_type": "code",
   "execution_count": 187,
   "id": "0cd5cb20-a965-45b2-a92a-daca6441861e",
   "metadata": {},
   "outputs": [
    {
     "name": "stdout",
     "output_type": "stream",
     "text": [
      "4.75\n",
      "4\n",
      "3\n"
     ]
    }
   ],
   "source": [
    "a = 19 / 4 # 4.75 \n",
    "b = 19 // 4 # 4\n",
    "c = 19 % 4 # 3 \n",
    "print(a)\n",
    "print(b)\n",
    "print(c)"
   ]
  },
  {
   "cell_type": "code",
   "execution_count": 188,
   "id": "2210478f-e8ac-40b8-8106-e1da55886cfc",
   "metadata": {},
   "outputs": [
    {
     "name": "stdout",
     "output_type": "stream",
     "text": [
      "2\n"
     ]
    }
   ],
   "source": [
    "r = 23 % 3\n",
    "print(r) # 2 "
   ]
  },
  {
   "cell_type": "code",
   "execution_count": 189,
   "id": "8b2d363a-d2ba-4c52-8171-7f3bdaba0de1",
   "metadata": {},
   "outputs": [
    {
     "name": "stdout",
     "output_type": "stream",
     "text": [
      "3\n"
     ]
    }
   ],
   "source": [
    "r = 45 % 7 \n",
    "print(r) # 3"
   ]
  },
  {
   "cell_type": "code",
   "execution_count": 190,
   "id": "da3ab298-3c31-47f1-a578-4a4a6ec355d7",
   "metadata": {},
   "outputs": [
    {
     "name": "stdout",
     "output_type": "stream",
     "text": [
      "5\n"
     ]
    }
   ],
   "source": [
    "r = 5 % 7\n",
    "print(r)"
   ]
  },
  {
   "cell_type": "code",
   "execution_count": 191,
   "id": "19c5e7ac-b71c-4efe-b663-0df390b56d0f",
   "metadata": {},
   "outputs": [
    {
     "data": {
      "text/plain": [
       "8"
      ]
     },
     "execution_count": 191,
     "metadata": {},
     "output_type": "execute_result"
    }
   ],
   "source": [
    "2 ** 3"
   ]
  },
  {
   "cell_type": "code",
   "execution_count": 192,
   "id": "d9e4c4a7-0b97-4d57-82f7-2c0db92cc9c2",
   "metadata": {},
   "outputs": [
    {
     "data": {
      "text/plain": [
       "81"
      ]
     },
     "execution_count": 192,
     "metadata": {},
     "output_type": "execute_result"
    }
   ],
   "source": [
    "3 ** 4"
   ]
  },
  {
   "cell_type": "code",
   "execution_count": 194,
   "id": "8e25be93-47aa-4691-a5f9-27be6edfbb8f",
   "metadata": {},
   "outputs": [
    {
     "data": {
      "text/plain": [
       "125"
      ]
     },
     "execution_count": 194,
     "metadata": {},
     "output_type": "execute_result"
    }
   ],
   "source": [
    "5 ** 3"
   ]
  },
  {
   "cell_type": "code",
   "execution_count": 195,
   "id": "d4277b17-5821-41ce-983e-df292d8fec79",
   "metadata": {},
   "outputs": [
    {
     "data": {
      "text/plain": [
       "'helloworld'"
      ]
     },
     "execution_count": 195,
     "metadata": {},
     "output_type": "execute_result"
    }
   ],
   "source": [
    "\"hello\" + \"world\""
   ]
  },
  {
   "cell_type": "code",
   "execution_count": 196,
   "id": "54d86600-a16b-44a7-8f02-331ab383fa36",
   "metadata": {},
   "outputs": [
    {
     "data": {
      "text/plain": [
       "'hello hello hello hello hello '"
      ]
     },
     "execution_count": 196,
     "metadata": {},
     "output_type": "execute_result"
    }
   ],
   "source": [
    "\"hello \"*5"
   ]
  },
  {
   "cell_type": "code",
   "execution_count": 197,
   "id": "c6971697-6482-48f8-bcd2-e613bff17863",
   "metadata": {},
   "outputs": [
    {
     "data": {
      "text/plain": [
       "[1, 2, 3, 4, 5, 6]"
      ]
     },
     "execution_count": 197,
     "metadata": {},
     "output_type": "execute_result"
    }
   ],
   "source": [
    "[ 1, 2, 3] + [4, 5, 6]"
   ]
  },
  {
   "cell_type": "code",
   "execution_count": 198,
   "id": "960735f2-c9cb-4053-b485-268906c6e5a0",
   "metadata": {},
   "outputs": [
    {
     "data": {
      "text/plain": [
       "(1, 2, 3, 4, 5, 'hi')"
      ]
     },
     "execution_count": 198,
     "metadata": {},
     "output_type": "execute_result"
    }
   ],
   "source": [
    "(1, 2, 3) + (4, 5, 'hi')"
   ]
  },
  {
   "cell_type": "code",
   "execution_count": 200,
   "id": "55eca731-f017-43ff-912f-174776bf186b",
   "metadata": {},
   "outputs": [
    {
     "data": {
      "text/plain": [
       "[1, 2, 3, 1, 2, 3, 1, 2, 3, 1, 2, 3]"
      ]
     },
     "execution_count": 200,
     "metadata": {},
     "output_type": "execute_result"
    }
   ],
   "source": [
    "[1, 2, 3] * 4"
   ]
  },
  {
   "cell_type": "code",
   "execution_count": 201,
   "id": "ddff8664-198e-4cc7-ab78-6cb6f167409b",
   "metadata": {},
   "outputs": [],
   "source": [
    "data = [ [0]*5 ]*5\n",
    "# [[0, 0, 0, 0, 0],\n",
    "#  [0, 0, 0, 0, 0],\n",
    "#  [0, 0, 0, 0, 0],\n",
    "#  [0, 0, 0, 0, 0],\n",
    "#  [0, 0, 0, 0, 0]]"
   ]
  },
  {
   "cell_type": "code",
   "execution_count": 202,
   "id": "c052bba2-78c8-4c91-b4e2-49542936e792",
   "metadata": {},
   "outputs": [
    {
     "data": {
      "text/plain": [
       "[[0, 0, 0, 0, 0],\n",
       " [0, 0, 0, 0, 0],\n",
       " [0, 0, 0, 0, 0],\n",
       " [0, 0, 0, 0, 0],\n",
       " [0, 0, 0, 0, 0]]"
      ]
     },
     "execution_count": 202,
     "metadata": {},
     "output_type": "execute_result"
    }
   ],
   "source": [
    "data"
   ]
  },
  {
   "cell_type": "code",
   "execution_count": 199,
   "id": "bb9d11e9-45c9-4cf2-a0a2-9f9705fbb330",
   "metadata": {},
   "outputs": [
    {
     "ename": "TypeError",
     "evalue": "unsupported operand type(s) for +: 'dict' and 'dict'",
     "output_type": "error",
     "traceback": [
      "\u001b[0;31m---------------------------------------------------------------------------\u001b[0m",
      "\u001b[0;31mTypeError\u001b[0m                                 Traceback (most recent call last)",
      "Cell \u001b[0;32mIn[199], line 1\u001b[0m\n\u001b[0;32m----> 1\u001b[0m {\u001b[38;5;241m1\u001b[39m:\u001b[38;5;241m2\u001b[39m, \u001b[38;5;241m2\u001b[39m:\u001b[38;5;241m3\u001b[39m} \u001b[38;5;241m+\u001b[39m {\u001b[38;5;241m4\u001b[39m:\u001b[38;5;241m5\u001b[39m, \u001b[38;5;241m6\u001b[39m:\u001b[38;5;241m7\u001b[39m}\n",
      "\u001b[0;31mTypeError\u001b[0m: unsupported operand type(s) for +: 'dict' and 'dict'"
     ]
    }
   ],
   "source": [
    "{1:2, 2:3} + {4:5, 6:7}"
   ]
  },
  {
   "cell_type": "markdown",
   "id": "088e4045-7e41-4f64-b598-e008e03b7dee",
   "metadata": {},
   "source": [
    "# Operators \n",
    "\n",
    "    Arithmatic Operators -  \n",
    "\n",
    "        +   plus              __add__\n",
    "        -   minus             __sub__\n",
    "        *   multiply          __mul__\n",
    "        /   true division     __truediv__\n",
    "        //  floor division    __floordiv__\n",
    "        %   modulas/remainder __mod__\n",
    "        **  exponent/ power   __pow__"
   ]
  },
  {
   "cell_type": "markdown",
   "id": "c36e4465-bada-4c83-acf8-d3f5adfd09f6",
   "metadata": {},
   "source": [
    "    Comparision \n",
    "\n",
    "        >  greater than   __ge__\n",
    "        <\n",
    "        <= \n",
    "        >=\n",
    "        ==\n",
    "        !="
   ]
  },
  {
   "cell_type": "markdown",
   "id": "7ac0c292-1198-4d4c-a69c-570511983cf4",
   "metadata": {},
   "source": [
    "membership \n",
    "\n",
    "    in\n",
    "\n",
    "    not in "
   ]
  },
  {
   "cell_type": "markdown",
   "id": "78136b11-178c-45b5-8192-50f05b2138d2",
   "metadata": {},
   "source": [
    "identity operators \n",
    "\n",
    "    is \n",
    "\n",
    "    is not "
   ]
  },
  {
   "cell_type": "markdown",
   "id": "a19779d6-8c19-4a68-9865-b36ea1ffd556",
   "metadata": {},
   "source": [
    "binary operators \n",
    "\n",
    "    >>\n",
    "    <<\n",
    "    &\n",
    "    |\n",
    "    ^"
   ]
  },
  {
   "cell_type": "markdown",
   "id": "62b6079f-554a-4598-9951-4f087b522b04",
   "metadata": {},
   "source": [
    "assignemnt \n",
    "\n",
    "        = \n",
    "\n",
    "        += \n",
    "        -=\n",
    "        *=\n",
    "        /=\n",
    "        ..."
   ]
  },
  {
   "cell_type": "code",
   "execution_count": null,
   "id": "d914ee3b-6540-4569-aa8e-9ab8f8bc23d3",
   "metadata": {},
   "outputs": [],
   "source": []
  }
 ],
 "metadata": {
  "kernelspec": {
   "display_name": "Python [conda env:base] *",
   "language": "python",
   "name": "conda-base-py"
  },
  "language_info": {
   "codemirror_mode": {
    "name": "ipython",
    "version": 3
   },
   "file_extension": ".py",
   "mimetype": "text/x-python",
   "name": "python",
   "nbconvert_exporter": "python",
   "pygments_lexer": "ipython3",
   "version": "3.12.7"
  }
 },
 "nbformat": 4,
 "nbformat_minor": 5
}
