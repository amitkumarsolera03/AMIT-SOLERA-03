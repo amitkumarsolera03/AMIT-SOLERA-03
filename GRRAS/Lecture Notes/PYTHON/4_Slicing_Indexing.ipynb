{
 "cells": [
  {
   "cell_type": "code",
   "execution_count": 5,
   "id": "ce59ee59-422f-4c01-aed9-e54ec75925e0",
   "metadata": {},
   "outputs": [
    {
     "name": "stdout",
     "output_type": "stream",
     "text": [
      "Enter your name: "
     ]
    },
    {
     "name": "stdin",
     "output_type": "stream",
     "text": [
      " Sachin\n"
     ]
    },
    {
     "name": "stdout",
     "output_type": "stream",
     "text": [
      "Sachin\n"
     ]
    }
   ],
   "source": [
    "print(\"Enter your name: \", end=\"\")\n",
    "name = input() # \"sachin\"\n",
    "print(name)"
   ]
  },
  {
   "cell_type": "code",
   "execution_count": 7,
   "id": "29efbe3e-607c-4df4-b1d1-70170c3db139",
   "metadata": {},
   "outputs": [
    {
     "name": "stdin",
     "output_type": "stream",
     "text": [
      "Enter your name:  Sachin\n"
     ]
    },
    {
     "name": "stdout",
     "output_type": "stream",
     "text": [
      "Welcome! Sachin to the world of python.\n"
     ]
    }
   ],
   "source": [
    "name = input(\"Enter your name: \")\n",
    "print(f\"Welcome! {name} to the world of python.\")"
   ]
  },
  {
   "cell_type": "code",
   "execution_count": 8,
   "id": "87bb4269-7c12-454b-8721-79af00684d00",
   "metadata": {},
   "outputs": [
    {
     "name": "stdin",
     "output_type": "stream",
     "text": [
      "Enter value of X:  5\n",
      "Enter value of Y:  6\n"
     ]
    },
    {
     "name": "stdout",
     "output_type": "stream",
     "text": [
      "5 + 6 = 56\n"
     ]
    }
   ],
   "source": [
    "x = \"5\" # input(\"Enter value of X : \")\n",
    "y = \"6\" # input(\"Enter value of Y: \")\n",
    "\n",
    "result = \"56\" # x + y  # \"5\" + \"6\" -> \"56\"\n",
    "\n",
    "print(\"5 + 6 = 56\")\n",
    "#print(f\"{x} + {y} = {result}\")"
   ]
  },
  {
   "cell_type": "code",
   "execution_count": 9,
   "id": "4e3b433a-b4f6-49cf-a67f-c29322820d7b",
   "metadata": {},
   "outputs": [
    {
     "name": "stdin",
     "output_type": "stream",
     "text": [
      "Enter value of X :  5\n",
      "Enter value of Y:  6\n"
     ]
    },
    {
     "name": "stdout",
     "output_type": "stream",
     "text": [
      "5 + 6 = 56\n"
     ]
    }
   ],
   "source": [
    "x = input(\"Enter value of X : \")\n",
    "y = input(\"Enter value of Y: \")\n",
    "\n",
    "result = x + y \n",
    "\n",
    "print(f\"{x} + {y} = {result}\")"
   ]
  },
  {
   "cell_type": "code",
   "execution_count": null,
   "id": "2ff812bb-8462-4fe5-bbf4-f7166207db7c",
   "metadata": {},
   "outputs": [],
   "source": [
    "0"
   ]
  },
  {
   "cell_type": "markdown",
   "id": "a280b6bb-3f28-40f7-b1f6-96e23f2f0818",
   "metadata": {},
   "source": [
    "binary -   0 1    0b\n",
    "\n",
    "octal  -  0 1 2 3 4 5 6 7 0o\n",
    "\n",
    "decimal - 0 1 2 3 4 5 6 7 8 9 (int) 0d\n",
    "\n",
    "hexadecimal - 0-9 A B C D E F 0x\n"
   ]
  },
  {
   "cell_type": "markdown",
   "id": "c54565fc-23a8-477c-88fe-5db888bc7d7b",
   "metadata": {},
   "source": [
    "    binary to decimal \n",
    "    \n",
    "         32 16 8 4 2 1\n",
    "\n",
    "               1 1 0 1"
   ]
  },
  {
   "cell_type": "code",
   "execution_count": 12,
   "id": "135f359f-fd45-4ddf-bc8a-21d07c1b8e78",
   "metadata": {},
   "outputs": [
    {
     "name": "stdout",
     "output_type": "stream",
     "text": [
      "13\n"
     ]
    }
   ],
   "source": [
    "x = 0b1101\n",
    "print(x)"
   ]
  },
  {
   "cell_type": "code",
   "execution_count": 13,
   "id": "979a4b65-86d2-4df6-81c2-2b945802f742",
   "metadata": {},
   "outputs": [
    {
     "name": "stdout",
     "output_type": "stream",
     "text": [
      "83\n"
     ]
    }
   ],
   "source": [
    "xn= 0o123\n",
    "print(xn)"
   ]
  },
  {
   "cell_type": "code",
   "execution_count": 14,
   "id": "6ca3c421-9dbc-44fd-8591-76bf604ae8f6",
   "metadata": {},
   "outputs": [
    {
     "name": "stdout",
     "output_type": "stream",
     "text": [
      "4660\n"
     ]
    }
   ],
   "source": [
    "x = 0x1234\n",
    "print(x)"
   ]
  },
  {
   "cell_type": "markdown",
   "id": "af5c160f-1ae2-441e-b459-6c6fc7f02838",
   "metadata": {},
   "source": [
    "string "
   ]
  },
  {
   "cell_type": "code",
   "execution_count": 21,
   "id": "19c479bb-cc0e-4d56-9c70-bdc5db74d8e8",
   "metadata": {},
   "outputs": [
    {
     "name": "stdout",
     "output_type": "stream",
     "text": [
      "255\n"
     ]
    }
   ],
   "source": [
    "x = int(\"0xFF\", base=16)\n",
    "\n",
    "print(x)"
   ]
  },
  {
   "cell_type": "code",
   "execution_count": 19,
   "id": "64be2a38-77ad-465c-87b6-14a8f95e9d60",
   "metadata": {},
   "outputs": [
    {
     "name": "stdout",
     "output_type": "stream",
     "text": [
      "13 <class 'int'>\n"
     ]
    }
   ],
   "source": [
    "x = int(\"1101\", base=2)\n",
    "print(x, type(x))"
   ]
  },
  {
   "cell_type": "code",
   "execution_count": 18,
   "id": "b5a96358-b985-4741-a542-8b6c6f383988",
   "metadata": {},
   "outputs": [
    {
     "name": "stdout",
     "output_type": "stream",
     "text": [
      "1101 <class 'int'>\n"
     ]
    }
   ],
   "source": [
    "x = int(\"1101\")\n",
    "print(x, type(x))"
   ]
  },
  {
   "cell_type": "code",
   "execution_count": 17,
   "id": "5e8d5326-9e4f-4cf2-8cde-293838f7d1e4",
   "metadata": {},
   "outputs": [
    {
     "name": "stdout",
     "output_type": "stream",
     "text": [
      "123 <class 'int'>\n"
     ]
    }
   ],
   "source": [
    "x = int(\"123\")\n",
    "print(x, type(x))"
   ]
  },
  {
   "cell_type": "code",
   "execution_count": 15,
   "id": "70d490fd-6240-4f5a-85eb-8e8d0c023dd1",
   "metadata": {},
   "outputs": [
    {
     "name": "stdout",
     "output_type": "stream",
     "text": [
      "Help on class int in module builtins:\n",
      "\n",
      "class int(object)\n",
      " |  int([x]) -> integer\n",
      " |  int(x, base=10) -> integer\n",
      " |\n",
      " |  Convert a number or string to an integer, or return 0 if no arguments\n",
      " |  are given.  If x is a number, return x.__int__().  For floating-point\n",
      " |  numbers, this truncates towards zero.\n",
      " |\n",
      " |  If x is not a number or if base is given, then x must be a string,\n",
      " |  bytes, or bytearray instance representing an integer literal in the\n",
      " |  given base.  The literal can be preceded by '+' or '-' and be surrounded\n",
      " |  by whitespace.  The base defaults to 10.  Valid bases are 0 and 2-36.\n",
      " |  Base 0 means to interpret the base from the string as an integer literal.\n",
      " |  >>> int('0b100', base=0)\n",
      " |  4\n",
      " |\n",
      " |  Built-in subclasses:\n",
      " |      bool\n",
      " |\n",
      " |  Methods defined here:\n",
      " |\n",
      " |  __abs__(self, /)\n",
      " |      abs(self)\n",
      " |\n",
      " |  __add__(self, value, /)\n",
      " |      Return self+value.\n",
      " |\n",
      " |  __and__(self, value, /)\n",
      " |      Return self&value.\n",
      " |\n",
      " |  __bool__(self, /)\n",
      " |      True if self else False\n",
      " |\n",
      " |  __ceil__(...)\n",
      " |      Ceiling of an Integral returns itself.\n",
      " |\n",
      " |  __divmod__(self, value, /)\n",
      " |      Return divmod(self, value).\n",
      " |\n",
      " |  __eq__(self, value, /)\n",
      " |      Return self==value.\n",
      " |\n",
      " |  __float__(self, /)\n",
      " |      float(self)\n",
      " |\n",
      " |  __floor__(...)\n",
      " |      Flooring an Integral returns itself.\n",
      " |\n",
      " |  __floordiv__(self, value, /)\n",
      " |      Return self//value.\n",
      " |\n",
      " |  __format__(self, format_spec, /)\n",
      " |      Convert to a string according to format_spec.\n",
      " |\n",
      " |  __ge__(self, value, /)\n",
      " |      Return self>=value.\n",
      " |\n",
      " |  __getattribute__(self, name, /)\n",
      " |      Return getattr(self, name).\n",
      " |\n",
      " |  __getnewargs__(self, /)\n",
      " |\n",
      " |  __gt__(self, value, /)\n",
      " |      Return self>value.\n",
      " |\n",
      " |  __hash__(self, /)\n",
      " |      Return hash(self).\n",
      " |\n",
      " |  __index__(self, /)\n",
      " |      Return self converted to an integer, if self is suitable for use as an index into a list.\n",
      " |\n",
      " |  __int__(self, /)\n",
      " |      int(self)\n",
      " |\n",
      " |  __invert__(self, /)\n",
      " |      ~self\n",
      " |\n",
      " |  __le__(self, value, /)\n",
      " |      Return self<=value.\n",
      " |\n",
      " |  __lshift__(self, value, /)\n",
      " |      Return self<<value.\n",
      " |\n",
      " |  __lt__(self, value, /)\n",
      " |      Return self<value.\n",
      " |\n",
      " |  __mod__(self, value, /)\n",
      " |      Return self%value.\n",
      " |\n",
      " |  __mul__(self, value, /)\n",
      " |      Return self*value.\n",
      " |\n",
      " |  __ne__(self, value, /)\n",
      " |      Return self!=value.\n",
      " |\n",
      " |  __neg__(self, /)\n",
      " |      -self\n",
      " |\n",
      " |  __or__(self, value, /)\n",
      " |      Return self|value.\n",
      " |\n",
      " |  __pos__(self, /)\n",
      " |      +self\n",
      " |\n",
      " |  __pow__(self, value, mod=None, /)\n",
      " |      Return pow(self, value, mod).\n",
      " |\n",
      " |  __radd__(self, value, /)\n",
      " |      Return value+self.\n",
      " |\n",
      " |  __rand__(self, value, /)\n",
      " |      Return value&self.\n",
      " |\n",
      " |  __rdivmod__(self, value, /)\n",
      " |      Return divmod(value, self).\n",
      " |\n",
      " |  __repr__(self, /)\n",
      " |      Return repr(self).\n",
      " |\n",
      " |  __rfloordiv__(self, value, /)\n",
      " |      Return value//self.\n",
      " |\n",
      " |  __rlshift__(self, value, /)\n",
      " |      Return value<<self.\n",
      " |\n",
      " |  __rmod__(self, value, /)\n",
      " |      Return value%self.\n",
      " |\n",
      " |  __rmul__(self, value, /)\n",
      " |      Return value*self.\n",
      " |\n",
      " |  __ror__(self, value, /)\n",
      " |      Return value|self.\n",
      " |\n",
      " |  __round__(...)\n",
      " |      Rounding an Integral returns itself.\n",
      " |\n",
      " |      Rounding with an ndigits argument also returns an integer.\n",
      " |\n",
      " |  __rpow__(self, value, mod=None, /)\n",
      " |      Return pow(value, self, mod).\n",
      " |\n",
      " |  __rrshift__(self, value, /)\n",
      " |      Return value>>self.\n",
      " |\n",
      " |  __rshift__(self, value, /)\n",
      " |      Return self>>value.\n",
      " |\n",
      " |  __rsub__(self, value, /)\n",
      " |      Return value-self.\n",
      " |\n",
      " |  __rtruediv__(self, value, /)\n",
      " |      Return value/self.\n",
      " |\n",
      " |  __rxor__(self, value, /)\n",
      " |      Return value^self.\n",
      " |\n",
      " |  __sizeof__(self, /)\n",
      " |      Returns size in memory, in bytes.\n",
      " |\n",
      " |  __sub__(self, value, /)\n",
      " |      Return self-value.\n",
      " |\n",
      " |  __truediv__(self, value, /)\n",
      " |      Return self/value.\n",
      " |\n",
      " |  __trunc__(...)\n",
      " |      Truncating an Integral returns itself.\n",
      " |\n",
      " |  __xor__(self, value, /)\n",
      " |      Return self^value.\n",
      " |\n",
      " |  as_integer_ratio(self, /)\n",
      " |      Return a pair of integers, whose ratio is equal to the original int.\n",
      " |\n",
      " |      The ratio is in lowest terms and has a positive denominator.\n",
      " |\n",
      " |      >>> (10).as_integer_ratio()\n",
      " |      (10, 1)\n",
      " |      >>> (-10).as_integer_ratio()\n",
      " |      (-10, 1)\n",
      " |      >>> (0).as_integer_ratio()\n",
      " |      (0, 1)\n",
      " |\n",
      " |  bit_count(self, /)\n",
      " |      Number of ones in the binary representation of the absolute value of self.\n",
      " |\n",
      " |      Also known as the population count.\n",
      " |\n",
      " |      >>> bin(13)\n",
      " |      '0b1101'\n",
      " |      >>> (13).bit_count()\n",
      " |      3\n",
      " |\n",
      " |  bit_length(self, /)\n",
      " |      Number of bits necessary to represent self in binary.\n",
      " |\n",
      " |      >>> bin(37)\n",
      " |      '0b100101'\n",
      " |      >>> (37).bit_length()\n",
      " |      6\n",
      " |\n",
      " |  conjugate(...)\n",
      " |      Returns self, the complex conjugate of any int.\n",
      " |\n",
      " |  is_integer(self, /)\n",
      " |      Returns True. Exists for duck type compatibility with float.is_integer.\n",
      " |\n",
      " |  to_bytes(self, /, length=1, byteorder='big', *, signed=False)\n",
      " |      Return an array of bytes representing an integer.\n",
      " |\n",
      " |      length\n",
      " |        Length of bytes object to use.  An OverflowError is raised if the\n",
      " |        integer is not representable with the given number of bytes.  Default\n",
      " |        is length 1.\n",
      " |      byteorder\n",
      " |        The byte order used to represent the integer.  If byteorder is 'big',\n",
      " |        the most significant byte is at the beginning of the byte array.  If\n",
      " |        byteorder is 'little', the most significant byte is at the end of the\n",
      " |        byte array.  To request the native byte order of the host system, use\n",
      " |        `sys.byteorder' as the byte order value.  Default is to use 'big'.\n",
      " |      signed\n",
      " |        Determines whether two's complement is used to represent the integer.\n",
      " |        If signed is False and a negative integer is given, an OverflowError\n",
      " |        is raised.\n",
      " |\n",
      " |  ----------------------------------------------------------------------\n",
      " |  Class methods defined here:\n",
      " |\n",
      " |  from_bytes(bytes, byteorder='big', *, signed=False)\n",
      " |      Return the integer represented by the given array of bytes.\n",
      " |\n",
      " |      bytes\n",
      " |        Holds the array of bytes to convert.  The argument must either\n",
      " |        support the buffer protocol or be an iterable object producing bytes.\n",
      " |        Bytes and bytearray are examples of built-in objects that support the\n",
      " |        buffer protocol.\n",
      " |      byteorder\n",
      " |        The byte order used to represent the integer.  If byteorder is 'big',\n",
      " |        the most significant byte is at the beginning of the byte array.  If\n",
      " |        byteorder is 'little', the most significant byte is at the end of the\n",
      " |        byte array.  To request the native byte order of the host system, use\n",
      " |        `sys.byteorder' as the byte order value.  Default is to use 'big'.\n",
      " |      signed\n",
      " |        Indicates whether two's complement is used to represent the integer.\n",
      " |\n",
      " |  ----------------------------------------------------------------------\n",
      " |  Static methods defined here:\n",
      " |\n",
      " |  __new__(*args, **kwargs)\n",
      " |      Create and return a new object.  See help(type) for accurate signature.\n",
      " |\n",
      " |  ----------------------------------------------------------------------\n",
      " |  Data descriptors defined here:\n",
      " |\n",
      " |  denominator\n",
      " |      the denominator of a rational number in lowest terms\n",
      " |\n",
      " |  imag\n",
      " |      the imaginary part of a complex number\n",
      " |\n",
      " |  numerator\n",
      " |      the numerator of a rational number in lowest terms\n",
      " |\n",
      " |  real\n",
      " |      the real part of a complex number\n",
      "\n"
     ]
    }
   ],
   "source": [
    "help(int)"
   ]
  },
  {
   "cell_type": "code",
   "execution_count": null,
   "id": "7c722591-2096-49e0-8f6e-5cf7facd5309",
   "metadata": {},
   "outputs": [],
   "source": [
    "x = \"56\"\n",
    "y = int(x) # 56      \n",
    "\n",
    "print(x, type(x))\n",
    "print(y, type(y))"
   ]
  },
  {
   "cell_type": "code",
   "execution_count": 22,
   "id": "afbefa7c-aa28-4516-a5cc-cfd6f5ebac5a",
   "metadata": {},
   "outputs": [
    {
     "ename": "ValueError",
     "evalue": "invalid literal for int() with base 10: 'abcd'",
     "output_type": "error",
     "traceback": [
      "\u001b[0;31m---------------------------------------------------------------------------\u001b[0m",
      "\u001b[0;31mValueError\u001b[0m                                Traceback (most recent call last)",
      "Cell \u001b[0;32mIn[22], line 1\u001b[0m\n\u001b[0;32m----> 1\u001b[0m \u001b[38;5;28mint\u001b[39m(\u001b[38;5;124m\"\u001b[39m\u001b[38;5;124mabcd\u001b[39m\u001b[38;5;124m\"\u001b[39m)\n",
      "\u001b[0;31mValueError\u001b[0m: invalid literal for int() with base 10: 'abcd'"
     ]
    }
   ],
   "source": [
    "int(\"abcd\")"
   ]
  },
  {
   "cell_type": "code",
   "execution_count": 24,
   "id": "5ffd1592-04cc-4410-a0f9-7d1ce0418423",
   "metadata": {},
   "outputs": [
    {
     "name": "stdin",
     "output_type": "stream",
     "text": [
      "Enter num1:  5.6\n"
     ]
    },
    {
     "ename": "ValueError",
     "evalue": "invalid literal for int() with base 10: '5.6'",
     "output_type": "error",
     "traceback": [
      "\u001b[0;31m---------------------------------------------------------------------------\u001b[0m",
      "\u001b[0;31mValueError\u001b[0m                                Traceback (most recent call last)",
      "Cell \u001b[0;32mIn[24], line 1\u001b[0m\n\u001b[0;32m----> 1\u001b[0m num1 \u001b[38;5;241m=\u001b[39m \u001b[38;5;28mint\u001b[39m( \u001b[38;5;28minput\u001b[39m(\u001b[38;5;124m\"\u001b[39m\u001b[38;5;124mEnter num1: \u001b[39m\u001b[38;5;124m\"\u001b[39m) )\n\u001b[1;32m      2\u001b[0m num2 \u001b[38;5;241m=\u001b[39m \u001b[38;5;28mint\u001b[39m( \u001b[38;5;28minput\u001b[39m(\u001b[38;5;124m\"\u001b[39m\u001b[38;5;124mEnter num2: \u001b[39m\u001b[38;5;124m\"\u001b[39m) )\n\u001b[1;32m      4\u001b[0m result \u001b[38;5;241m=\u001b[39m num1 \u001b[38;5;241m+\u001b[39m num2 \n",
      "\u001b[0;31mValueError\u001b[0m: invalid literal for int() with base 10: '5.6'"
     ]
    }
   ],
   "source": [
    "num1 = int( input(\"Enter num1: \") )\n",
    "num2 = int( input(\"Enter num2: \") )\n",
    "\n",
    "result = num1 + num2 \n",
    "\n",
    "print(f\"{num1} + {num2} = {result}\")"
   ]
  },
  {
   "cell_type": "code",
   "execution_count": 23,
   "id": "2bf44ab2-79dd-49d5-8c99-89704afd8325",
   "metadata": {},
   "outputs": [
    {
     "name": "stdin",
     "output_type": "stream",
     "text": [
      "Enter num1:  5\n",
      "Enter num2:  6\n"
     ]
    },
    {
     "name": "stdout",
     "output_type": "stream",
     "text": [
      "5 + 6 = 11\n"
     ]
    }
   ],
   "source": [
    "num1 = int( input(\"Enter num1: \") )\n",
    "num2 = int( input(\"Enter num2: \") )\n",
    "\n",
    "result = num1 + num2 \n",
    "\n",
    "print(f\"{num1} + {num2} = {result}\")"
   ]
  },
  {
   "cell_type": "markdown",
   "id": "9b2b5db9-d10d-4e7b-9efd-0ccada7d3fa2",
   "metadata": {},
   "source": [
    "    write a code to take username as input and it's birth year as input\n",
    "    then write a greeting message \n",
    "\n",
    "    \"   sAcHin Yadav   \"  ---> \"Sachin Yadav\"\n",
    "\n",
    "        Hello! {username} you are {age} years old.\n"
   ]
  },
  {
   "cell_type": "code",
   "execution_count": 30,
   "id": "c3f99555-d2cc-42de-8496-f06da0b6ca0b",
   "metadata": {},
   "outputs": [
    {
     "data": {
      "text/plain": [
       "'Sachin Yadav'"
      ]
     },
     "execution_count": 30,
     "metadata": {},
     "output_type": "execute_result"
    }
   ],
   "source": [
    "\"         \\n    \\t    Sachin Yadav    \\n \\t     \".strip()"
   ]
  },
  {
   "cell_type": "code",
   "execution_count": 31,
   "id": "5a8aef22-397f-4e28-8761-ba0223c6e3db",
   "metadata": {},
   "outputs": [
    {
     "data": {
      "text/plain": [
       "'sachin'"
      ]
     },
     "execution_count": 31,
     "metadata": {},
     "output_type": "execute_result"
    }
   ],
   "source": [
    "\"-_*sachin%$#%^\".strip(\"-_*%$#^\")"
   ]
  },
  {
   "cell_type": "code",
   "execution_count": 28,
   "id": "31c6725e-d27f-49bf-8550-a1a02692f743",
   "metadata": {},
   "outputs": [
    {
     "data": {
      "text/plain": [
       "'sachin yadav'"
      ]
     },
     "execution_count": 28,
     "metadata": {},
     "output_type": "execute_result"
    }
   ],
   "source": [
    "\"------sachin yadav-----\".strip(\"-\")"
   ]
  },
  {
   "cell_type": "code",
   "execution_count": 32,
   "id": "818eb12b-030d-4da4-8c3d-44895ff742b8",
   "metadata": {},
   "outputs": [
    {
     "data": {
      "text/plain": [
       "'Sachin-----Yadav'"
      ]
     },
     "execution_count": 32,
     "metadata": {},
     "output_type": "execute_result"
    }
   ],
   "source": [
    "\"-----Sachin-----Yadav-----\".strip(\"-\")"
   ]
  },
  {
   "cell_type": "code",
   "execution_count": 27,
   "id": "9e4a0943-c36e-4512-9d2e-8bd517af8f42",
   "metadata": {},
   "outputs": [
    {
     "name": "stdout",
     "output_type": "stream",
     "text": [
      "Help on method_descriptor:\n",
      "\n",
      "strip(self, chars=None, /) unbound builtins.str method\n",
      "    Return a copy of the string with leading and trailing whitespace removed.\n",
      "\n",
      "    If chars is given and not None, remove characters in chars instead.\n",
      "\n"
     ]
    }
   ],
   "source": [
    "help(str.strip)"
   ]
  },
  {
   "cell_type": "code",
   "execution_count": 26,
   "id": "112d9208-77bb-4c31-bde5-8adfdf8f3357",
   "metadata": {},
   "outputs": [
    {
     "data": {
      "text/plain": [
       "'     Sachin Yadav   '"
      ]
     },
     "execution_count": 26,
     "metadata": {},
     "output_type": "execute_result"
    }
   ],
   "source": [
    "\"     sAcHIn YadAv   \".title()"
   ]
  },
  {
   "cell_type": "code",
   "execution_count": 25,
   "id": "2a5e624e-6ff8-4a60-bbd4-803a57f32f7f",
   "metadata": {},
   "outputs": [
    {
     "name": "stdout",
     "output_type": "stream",
     "text": [
      "['__add__', '__class__', '__contains__', '__delattr__', '__dir__', '__doc__', '__eq__', '__format__', '__ge__', '__getattribute__', '__getitem__', '__getnewargs__', '__getstate__', '__gt__', '__hash__', '__init__', '__init_subclass__', '__iter__', '__le__', '__len__', '__lt__', '__mod__', '__mul__', '__ne__', '__new__', '__reduce__', '__reduce_ex__', '__repr__', '__rmod__', '__rmul__', '__setattr__', '__sizeof__', '__str__', '__subclasshook__', 'capitalize', 'casefold', 'center', 'count', 'encode', 'endswith', 'expandtabs', 'find', 'format', 'format_map', 'index', 'isalnum', 'isalpha', 'isascii', 'isdecimal', 'isdigit', 'isidentifier', 'islower', 'isnumeric', 'isprintable', 'isspace', 'istitle', 'isupper', 'join', 'ljust', 'lower', 'lstrip', 'maketrans', 'partition', 'removeprefix', 'removesuffix', 'replace', 'rfind', 'rindex', 'rjust', 'rpartition', 'rsplit', 'rstrip', 'split', 'splitlines', 'startswith', 'strip', 'swapcase', 'title', 'translate', 'upper', 'zfill']\n"
     ]
    }
   ],
   "source": [
    "print(dir(str))"
   ]
  },
  {
   "cell_type": "markdown",
   "id": "bc238aa7-68f1-41fd-861d-868571315e93",
   "metadata": {},
   "source": [
    "    name \n",
    "            spaces ? is there any function which can remove spaces from begning and end of string\n",
    "\n",
    "            convert name to title case \n",
    "\n",
    "            "
   ]
  },
  {
   "cell_type": "code",
   "execution_count": 36,
   "id": "2c1813f6-f229-442b-b69c-c456ce465c8c",
   "metadata": {},
   "outputs": [
    {
     "ename": "AttributeError",
     "evalue": "'int' object has no attribute 'strip'",
     "output_type": "error",
     "traceback": [
      "\u001b[0;31m---------------------------------------------------------------------------\u001b[0m",
      "\u001b[0;31mAttributeError\u001b[0m                            Traceback (most recent call last)",
      "Cell \u001b[0;32mIn[36], line 3\u001b[0m\n\u001b[1;32m      1\u001b[0m x  \u001b[38;5;241m=\u001b[39m \u001b[38;5;241m10\u001b[39m\n\u001b[0;32m----> 3\u001b[0m x\u001b[38;5;241m.\u001b[39mstrip()\n",
      "\u001b[0;31mAttributeError\u001b[0m: 'int' object has no attribute 'strip'"
     ]
    }
   ],
   "source": [
    "x  = 10\n",
    "\n",
    "x.strip()"
   ]
  },
  {
   "cell_type": "code",
   "execution_count": 37,
   "id": "d451d649-a6de-4d09-9d67-d80a880109ca",
   "metadata": {},
   "outputs": [
    {
     "name": "stdin",
     "output_type": "stream",
     "text": [
      "Etner your name:      sAcHin yAdav \n"
     ]
    },
    {
     "name": "stdout",
     "output_type": "stream",
     "text": [
      "Sachin Yadav\n"
     ]
    }
   ],
   "source": [
    "name = input(\"Etner your name: \").strip().title()\n",
    "print(name)\n",
    "\n",
    "# 1996 age ? 2025 - 1996"
   ]
  },
  {
   "cell_type": "code",
   "execution_count": 35,
   "id": "d32c4fa0-1462-488b-91c8-42235f09f74d",
   "metadata": {},
   "outputs": [
    {
     "name": "stdin",
     "output_type": "stream",
     "text": [
      "Enter your name:       sAcHin yAdAv \n"
     ]
    },
    {
     "name": "stdout",
     "output_type": "stream",
     "text": [
      "Sachin Yadav\n"
     ]
    }
   ],
   "source": [
    "name = input(\"Enter your name: \")\n",
    "# name = \"    sAcHin yAdAv \"\n",
    "name = name.strip()\n",
    "# name = \"sAcHin yAdAv\"\n",
    "name = name.title()\n",
    "# name = \"Sachin Yadav\"\n",
    "\n",
    "print(name)\n"
   ]
  },
  {
   "cell_type": "code",
   "execution_count": 39,
   "id": "4345cf8f-0b2d-4e5e-a0a6-63b882d7aa7e",
   "metadata": {},
   "outputs": [],
   "source": [
    "import datetime\n",
    "# standard "
   ]
  },
  {
   "cell_type": "code",
   "execution_count": 41,
   "id": "7b152153-e6a9-48fa-9015-97bcc0d3ab47",
   "metadata": {},
   "outputs": [
    {
     "name": "stdout",
     "output_type": "stream",
     "text": [
      "2025-06-20 09:20:54.941567\n"
     ]
    }
   ],
   "source": [
    "date = datetime.datetime.now()\n",
    "\n",
    "print(date)"
   ]
  },
  {
   "cell_type": "code",
   "execution_count": 43,
   "id": "9674f6ca-e569-49e1-a0bf-3fb55ee4d824",
   "metadata": {},
   "outputs": [
    {
     "data": {
      "text/plain": [
       "2025"
      ]
     },
     "execution_count": 43,
     "metadata": {},
     "output_type": "execute_result"
    }
   ],
   "source": [
    "date.year"
   ]
  },
  {
   "cell_type": "code",
   "execution_count": 44,
   "id": "9cfb236d-4354-43b9-8d74-8f010a9225dd",
   "metadata": {},
   "outputs": [
    {
     "data": {
      "text/plain": [
       "6"
      ]
     },
     "execution_count": 44,
     "metadata": {},
     "output_type": "execute_result"
    }
   ],
   "source": [
    "date.month"
   ]
  },
  {
   "cell_type": "code",
   "execution_count": 45,
   "id": "c737a02e-2fac-4833-a66b-79aec3f38298",
   "metadata": {},
   "outputs": [
    {
     "data": {
      "text/plain": [
       "20"
      ]
     },
     "execution_count": 45,
     "metadata": {},
     "output_type": "execute_result"
    }
   ],
   "source": [
    "date.day"
   ]
  },
  {
   "cell_type": "code",
   "execution_count": 46,
   "id": "cbe0f9ed-d96d-46b4-816a-51a75f4e4475",
   "metadata": {},
   "outputs": [
    {
     "data": {
      "text/plain": [
       "9"
      ]
     },
     "execution_count": 46,
     "metadata": {},
     "output_type": "execute_result"
    }
   ],
   "source": [
    "date.hour"
   ]
  },
  {
   "cell_type": "code",
   "execution_count": 47,
   "id": "6b76dc1b-fb20-496c-bd83-f254da71bf9c",
   "metadata": {},
   "outputs": [
    {
     "data": {
      "text/plain": [
       "20"
      ]
     },
     "execution_count": 47,
     "metadata": {},
     "output_type": "execute_result"
    }
   ],
   "source": [
    "date.minute"
   ]
  },
  {
   "cell_type": "code",
   "execution_count": 38,
   "id": "85b83a05-a5dd-4cd3-97ec-a73b6d726131",
   "metadata": {},
   "outputs": [
    {
     "name": "stdin",
     "output_type": "stream",
     "text": [
      "Enter your name:     sACHIN YADAV \n",
      "Enter birth year:  1996\n"
     ]
    },
    {
     "name": "stdout",
     "output_type": "stream",
     "text": [
      "Hello! Sachin Yadav, you are 29 years old.\n"
     ]
    }
   ],
   "source": [
    "name = input(\"Enter your name: \").strip().title()\n",
    "birth_year = int(input(\"Enter birth year: \"))\n",
    "current_year = 2025\n",
    "age = current_year - birth_year\n",
    "print(f\"Hello! {name}, you are {age} years old.\")"
   ]
  },
  {
   "cell_type": "markdown",
   "id": "70d4500a-61f8-408c-a8bb-9971d9ddd9b6",
   "metadata": {},
   "source": [
    "strip \n",
    "\n",
    "lstrip\n",
    "\n",
    "rstrip"
   ]
  },
  {
   "cell_type": "code",
   "execution_count": 49,
   "id": "4e7eb8f1-74ee-43f9-8efa-810a97e7e05a",
   "metadata": {},
   "outputs": [
    {
     "name": "stdout",
     "output_type": "stream",
     "text": [
      "Hello World!-----\n"
     ]
    }
   ],
   "source": [
    "s = \"-----Hello World!-----\"\n",
    "print(s.lstrip(\"-\"))\n"
   ]
  },
  {
   "cell_type": "markdown",
   "id": "97a7733c-6215-477f-8ae8-faa1ffaef8e0",
   "metadata": {},
   "source": [
    "# string \n",
    "\n",
    "    words \n",
    "\n",
    "    \"I am liking this product but please make it affordable ?\""
   ]
  },
  {
   "cell_type": "code",
   "execution_count": 50,
   "id": "f55cb6ec-6768-40c4-8a7d-e3a3d3fdfd26",
   "metadata": {},
   "outputs": [],
   "source": [
    "st = \"I am liking this product but please make it affordable ?\"\n",
    "\n",
    "words = st.split()"
   ]
  },
  {
   "cell_type": "code",
   "execution_count": 51,
   "id": "797849d3-454f-4b3a-8861-dbfaf3087282",
   "metadata": {},
   "outputs": [
    {
     "name": "stdout",
     "output_type": "stream",
     "text": [
      "['I', 'am', 'liking', 'this', 'product', 'but', 'please', 'make', 'it', 'affordable', '?']\n"
     ]
    }
   ],
   "source": [
    "print(words)"
   ]
  },
  {
   "cell_type": "code",
   "execution_count": 52,
   "id": "44147234-2ad6-4cc2-8050-e01c656cb848",
   "metadata": {},
   "outputs": [],
   "source": [
    "s = [ \"hello\", \"my\", \"name\", \"is\", \"sachin\"]"
   ]
  },
  {
   "cell_type": "code",
   "execution_count": null,
   "id": "c7c4bd61-18de-47bc-b9cd-a5002377aeb7",
   "metadata": {},
   "outputs": [],
   "source": []
  },
  {
   "cell_type": "code",
   "execution_count": 53,
   "id": "5397bea4-2a0c-4602-a351-3617b2551b6b",
   "metadata": {},
   "outputs": [
    {
     "name": "stdout",
     "output_type": "stream",
     "text": [
      "hello my name is sachin\n"
     ]
    }
   ],
   "source": [
    "st = \" \".join(s)\n",
    "print(st)"
   ]
  },
  {
   "cell_type": "code",
   "execution_count": 54,
   "id": "191cc299-0a46-4ea4-b0b1-6cb93d73357b",
   "metadata": {},
   "outputs": [
    {
     "name": "stdout",
     "output_type": "stream",
     "text": [
      "['sachin', 29, 'india', 'jaiput']\n"
     ]
    }
   ],
   "source": [
    "user = [\"sachin\", 29, \"india\", \"jaiput\"]\n",
    "print(user)"
   ]
  },
  {
   "cell_type": "markdown",
   "id": "2d4ffef7-9d3c-4393-a08d-d458b08808dd",
   "metadata": {},
   "source": [
    "# List\n",
    "\n",
    "    collection of items or objects\n",
    "\n",
    "    it can contain homogenious or hetrogenious objects \n",
    "\n",
    "    mutalbe data type \n",
    "\n",
    "    ordered data type / sequential \n",
    "\n",
    "    \n",
    "    "
   ]
  },
  {
   "cell_type": "code",
   "execution_count": 55,
   "id": "64897492-22be-4c52-9ada-084e2ec01e84",
   "metadata": {},
   "outputs": [
    {
     "name": "stdout",
     "output_type": "stream",
     "text": [
      "Jhon\n",
      "UK\n",
      "35\n"
     ]
    }
   ],
   "source": [
    "item = [ \"Jhon\", \"UK\", 35]\n",
    "#          0       1    2 \n",
    "\n",
    "print(item[0]) # indexing --> accesing item using it's position\n",
    "print(item[1])\n",
    "print(item[2])"
   ]
  },
  {
   "cell_type": "code",
   "execution_count": 57,
   "id": "264baebd-a0c6-402f-99cc-4f139328b978",
   "metadata": {},
   "outputs": [
    {
     "name": "stdout",
     "output_type": "stream",
     "text": [
      "------------------------------------------------\n",
      "|        Name        |      Country       | age |\n",
      "\n",
      "------------------------------------------------\n",
      "|        jhon        |         UK         | 35  |\n",
      "\n",
      "------------------------------------------------\n",
      "|     radheshyam     |       india        | 20  |\n",
      "\n",
      "------------------------------------------------\n",
      "|        sam         |         us         | 120 |\n",
      "\n"
     ]
    }
   ],
   "source": [
    "# print(\"_\"*49)\n",
    "# print(f\"|{name:^20}|{country:^20}|{age:^5}|\")\n",
    "\n",
    "temp = \"\"\"------------------------------------------------\n",
    "|{:^20}|{:^20}|{:^5}|\n",
    "\"\"\"\n",
    "\n",
    "\n",
    "data = [\n",
    "    [ \"Name\", \"Country\", \"age\"],\n",
    "    [\"jhon\",\"UK\", 35],\n",
    "    [\"radheshyam\", \"india\", 20],\n",
    "    [\"sam\", \"us\", 120]\n",
    "]\n",
    "\n",
    "for item in data: # item = [\"jhon\", \"UK\", 35]\n",
    "    print(temp.format(item[0], item[1], item[2]))"
   ]
  },
  {
   "cell_type": "code",
   "execution_count": 58,
   "id": "66875398-2360-48a6-b871-362ccdc916a3",
   "metadata": {},
   "outputs": [
    {
     "name": "stdout",
     "output_type": "stream",
     "text": [
      "_________________________________________________\n",
      "|        Name        |      Country       | age |\n",
      "-------------------------------------------------\n",
      "|        jhon        |         UK         | 35  |\n",
      "-------------------------------------------------\n",
      "|     radheshyam     |       india        | 20  |\n",
      "-------------------------------------------------\n",
      "|        sam         |         us         | 120 |\n",
      "-------------------------------------------------\n"
     ]
    }
   ],
   "source": [
    "data = [\n",
    "    [ \"Name\", \"Country\", \"age\"],\n",
    "    [\"jhon\",\"UK\", 35],\n",
    "    [\"radheshyam\", \"india\", 20],\n",
    "    [\"sam\", \"us\", 120]\n",
    "]\n",
    "\n",
    "print(\"_\"*49)\n",
    "for name, country, age in data:\n",
    "    print(f\"|{name:^20}|{country:^20}|{age:^5}|\")\n",
    "    print(\"-\"*49)"
   ]
  },
  {
   "cell_type": "code",
   "execution_count": 61,
   "id": "b5f2f9ee-11ce-4506-95cf-fad0381bb22f",
   "metadata": {},
   "outputs": [
    {
     "name": "stdout",
     "output_type": "stream",
     "text": [
      "name = {}  country = {}  age = {}\n",
      "name = sachin  country = india  age = 29\n"
     ]
    }
   ],
   "source": [
    "s = \"name = {}  country = {}  age = {}\"\n",
    "print(s)\n",
    "\n",
    "print(s.format(\"sachin\", \"india\", 29 ))"
   ]
  },
  {
   "cell_type": "markdown",
   "id": "3afa837d-09fa-4fde-9941-6b76e4b04846",
   "metadata": {},
   "source": [
    "# Collection\n",
    "\n",
    "    insertion - adding new items to a collection\n",
    "\n",
    "    deletion - removing items from collection \n",
    "\n",
    "    rearrange - chainging positions of items in acending or deceding order \n",
    "\n",
    "    replace"
   ]
  },
  {
   "cell_type": "markdown",
   "id": "6a80a5b7-c5b9-4d56-a88f-f4fba3446dd8",
   "metadata": {},
   "source": [
    "# List \n",
    "\n",
    "      Insertion \n",
    "\n",
    "        adding single item or value to a list \n",
    "        \n",
    "              Begning - list.insert(0, item)\n",
    "\n",
    "              End - list.append(item) # add at the end\n",
    "\n",
    "              In-between - list.insert(loc, item)\n",
    "        "
   ]
  },
  {
   "cell_type": "code",
   "execution_count": 62,
   "id": "0ef3bf79-68b3-448a-be8b-5f31a5addb8a",
   "metadata": {},
   "outputs": [
    {
     "name": "stdout",
     "output_type": "stream",
     "text": [
      "['__add__', '__class__', '__class_getitem__', '__contains__', '__delattr__', '__delitem__', '__dir__', '__doc__', '__eq__', '__format__', '__ge__', '__getattribute__', '__getitem__', '__getstate__', '__gt__', '__hash__', '__iadd__', '__imul__', '__init__', '__init_subclass__', '__iter__', '__le__', '__len__', '__lt__', '__mul__', '__ne__', '__new__', '__reduce__', '__reduce_ex__', '__repr__', '__reversed__', '__rmul__', '__setattr__', '__setitem__', '__sizeof__', '__str__', '__subclasshook__', 'append', 'clear', 'copy', 'count', 'extend', 'index', 'insert', 'pop', 'remove', 'reverse', 'sort']\n"
     ]
    }
   ],
   "source": [
    "print(dir(list))"
   ]
  },
  {
   "cell_type": "code",
   "execution_count": 63,
   "id": "05d551d4-be21-4624-af52-89032b6361b9",
   "metadata": {},
   "outputs": [],
   "source": [
    "language = [ \"java\", \"c\", \"c++\"]"
   ]
  },
  {
   "cell_type": "code",
   "execution_count": 64,
   "id": "2e2c48ad-dbde-4142-bcbe-24a274ce11f9",
   "metadata": {},
   "outputs": [],
   "source": [
    "language.append(\"html\") # ns = s.operation()"
   ]
  },
  {
   "cell_type": "code",
   "execution_count": 65,
   "id": "b4b80d1c-572e-477f-b2a9-49492d1a5778",
   "metadata": {},
   "outputs": [
    {
     "name": "stdout",
     "output_type": "stream",
     "text": [
      "['java', 'c', 'c++', 'html']\n"
     ]
    }
   ],
   "source": [
    "print(language)"
   ]
  },
  {
   "cell_type": "code",
   "execution_count": 66,
   "id": "62283a61-ac0c-40d8-af39-7af099c3e89e",
   "metadata": {},
   "outputs": [],
   "source": [
    "nl = language.append(\"css\")"
   ]
  },
  {
   "cell_type": "code",
   "execution_count": 67,
   "id": "4dab8385-101c-4514-b634-1c265b6bf017",
   "metadata": {},
   "outputs": [
    {
     "name": "stdout",
     "output_type": "stream",
     "text": [
      "None\n"
     ]
    }
   ],
   "source": [
    "print(nl)  # None "
   ]
  },
  {
   "cell_type": "code",
   "execution_count": null,
   "id": "70300557-cc80-4d8c-832c-ef044a9b349b",
   "metadata": {},
   "outputs": [],
   "source": [
    "name = input().strip().title()\n",
    "\n",
    "# name = \"Sachin Yadav\""
   ]
  },
  {
   "cell_type": "code",
   "execution_count": 68,
   "id": "015299ba-eca7-4867-b96a-71f61f33f235",
   "metadata": {},
   "outputs": [
    {
     "name": "stdout",
     "output_type": "stream",
     "text": [
      "hello world!\n",
      "return value of print is  None\n"
     ]
    }
   ],
   "source": [
    "info = print(\"hello world!\")\n",
    "\n",
    "\n",
    "print(\"return value of print is \", info)"
   ]
  },
  {
   "cell_type": "code",
   "execution_count": 69,
   "id": "ae562381-bc8d-44cf-af0e-1697378b582d",
   "metadata": {},
   "outputs": [
    {
     "name": "stdout",
     "output_type": "stream",
     "text": [
      "hello world\n"
     ]
    }
   ],
   "source": [
    "print(\"hello world\")"
   ]
  },
  {
   "cell_type": "code",
   "execution_count": 70,
   "id": "c0bafb43-d8db-40bd-8afe-71a85b372ba6",
   "metadata": {},
   "outputs": [
    {
     "name": "stdin",
     "output_type": "stream",
     "text": [
      "Enter your name :  sachin\n"
     ]
    },
    {
     "name": "stdout",
     "output_type": "stream",
     "text": [
      "hello your name : \n"
     ]
    }
   ],
   "source": [
    "input(\"Enter your name : \")\n",
    "\n",
    "print(\"hello your name : \")"
   ]
  },
  {
   "cell_type": "code",
   "execution_count": 71,
   "id": "33cc4aba-5a92-41de-b4b9-0132487cbdff",
   "metadata": {},
   "outputs": [
    {
     "name": "stdin",
     "output_type": "stream",
     "text": [
      " 489574\n"
     ]
    },
    {
     "name": "stdout",
     "output_type": "stream",
     "text": [
      "<class 'str'>\n"
     ]
    }
   ],
   "source": [
    "name = input()\n",
    "\n",
    "print(type(name))"
   ]
  },
  {
   "cell_type": "code",
   "execution_count": 72,
   "id": "754e7f10-941f-4a49-acea-7c4affcc8d7e",
   "metadata": {},
   "outputs": [
    {
     "name": "stdout",
     "output_type": "stream",
     "text": [
      "hello world\n"
     ]
    }
   ],
   "source": [
    "s = \"hello world\"\n",
    "\n",
    "s.upper()\n",
    "# \"HELLO WORLD\"\n",
    "print(s)"
   ]
  },
  {
   "cell_type": "code",
   "execution_count": 73,
   "id": "ec366cd5-8fd4-4623-b856-cb763e70f26c",
   "metadata": {},
   "outputs": [
    {
     "name": "stdout",
     "output_type": "stream",
     "text": [
      "HELLO WORLD\n"
     ]
    }
   ],
   "source": [
    "s = \"hello world\"\n",
    "\n",
    "s = s.upper()\n",
    "# \"HELLO WORLD\"\n",
    "print(s)"
   ]
  },
  {
   "cell_type": "code",
   "execution_count": 74,
   "id": "127d5096-cf08-4a8e-8c53-1dca7173edc9",
   "metadata": {},
   "outputs": [
    {
     "name": "stdin",
     "output_type": "stream",
     "text": [
      "      helllo.   \n"
     ]
    },
    {
     "data": {
      "text/plain": [
       "'helllo.'"
      ]
     },
     "execution_count": 74,
     "metadata": {},
     "output_type": "execute_result"
    }
   ],
   "source": [
    "input().strip()"
   ]
  },
  {
   "cell_type": "code",
   "execution_count": 75,
   "id": "7875926b-d084-4dd8-bf9d-3ccfd466b888",
   "metadata": {},
   "outputs": [
    {
     "name": "stdout",
     "output_type": "stream",
     "text": [
      "     Hello World     \n"
     ]
    },
    {
     "ename": "AttributeError",
     "evalue": "'NoneType' object has no attribute 'strip'",
     "output_type": "error",
     "traceback": [
      "\u001b[0;31m---------------------------------------------------------------------------\u001b[0m",
      "\u001b[0;31mAttributeError\u001b[0m                            Traceback (most recent call last)",
      "Cell \u001b[0;32mIn[75], line 1\u001b[0m\n\u001b[0;32m----> 1\u001b[0m \u001b[38;5;28mprint\u001b[39m(\u001b[38;5;124m\"\u001b[39m\u001b[38;5;124m     Hello World     \u001b[39m\u001b[38;5;124m\"\u001b[39m)\u001b[38;5;241m.\u001b[39mstrip()\n",
      "\u001b[0;31mAttributeError\u001b[0m: 'NoneType' object has no attribute 'strip'"
     ]
    }
   ],
   "source": [
    "print(\"     Hello World     \").strip()\n",
    "\n",
    "# None.strip()"
   ]
  },
  {
   "cell_type": "code",
   "execution_count": 76,
   "id": "e3993bf0-a087-40c9-b50b-f88bf04dccf0",
   "metadata": {},
   "outputs": [
    {
     "ename": "AttributeError",
     "evalue": "'NoneType' object has no attribute 'strip'",
     "output_type": "error",
     "traceback": [
      "\u001b[0;31m---------------------------------------------------------------------------\u001b[0m",
      "\u001b[0;31mAttributeError\u001b[0m                            Traceback (most recent call last)",
      "Cell \u001b[0;32mIn[76], line 1\u001b[0m\n\u001b[0;32m----> 1\u001b[0m \u001b[38;5;28;01mNone\u001b[39;00m\u001b[38;5;241m.\u001b[39mstrip()\n",
      "\u001b[0;31mAttributeError\u001b[0m: 'NoneType' object has no attribute 'strip'"
     ]
    }
   ],
   "source": [
    "None.strip()"
   ]
  },
  {
   "cell_type": "code",
   "execution_count": 78,
   "id": "11f05458-8420-4eeb-8ec1-2e45aefbec56",
   "metadata": {},
   "outputs": [
    {
     "name": "stdin",
     "output_type": "stream",
     "text": [
      "number :      4567\n"
     ]
    },
    {
     "name": "stdout",
     "output_type": "stream",
     "text": [
      "4567 <class 'int'>\n"
     ]
    }
   ],
   "source": [
    "s = int(input(\"number : \").strip())\n",
    "\n",
    "print(s, type(s))"
   ]
  },
  {
   "cell_type": "code",
   "execution_count": 80,
   "id": "01c55761-23e2-426f-b74a-76629b1695ff",
   "metadata": {},
   "outputs": [
    {
     "name": "stdin",
     "output_type": "stream",
     "text": [
      "number :     4567\n"
     ]
    },
    {
     "ename": "AttributeError",
     "evalue": "'int' object has no attribute 'strip'",
     "output_type": "error",
     "traceback": [
      "\u001b[0;31m---------------------------------------------------------------------------\u001b[0m",
      "\u001b[0;31mAttributeError\u001b[0m                            Traceback (most recent call last)",
      "Cell \u001b[0;32mIn[80], line 1\u001b[0m\n\u001b[0;32m----> 1\u001b[0m s \u001b[38;5;241m=\u001b[39m \u001b[38;5;28mint\u001b[39m(\u001b[38;5;28minput\u001b[39m(\u001b[38;5;124m\"\u001b[39m\u001b[38;5;124mnumber : \u001b[39m\u001b[38;5;124m\"\u001b[39m))\u001b[38;5;241m.\u001b[39mstrip()\n\u001b[1;32m      3\u001b[0m \u001b[38;5;28mprint\u001b[39m(s, \u001b[38;5;28mtype\u001b[39m(s))\n",
      "\u001b[0;31mAttributeError\u001b[0m: 'int' object has no attribute 'strip'"
     ]
    }
   ],
   "source": [
    "s = int(input(\"number : \")).strip()\n",
    "\n",
    "print(s, type(s))"
   ]
  },
  {
   "cell_type": "code",
   "execution_count": 81,
   "id": "cc78874c-83cd-4562-af6b-15572071a873",
   "metadata": {},
   "outputs": [
    {
     "ename": "AttributeError",
     "evalue": "'int' object has no attribute 'strip'",
     "output_type": "error",
     "traceback": [
      "\u001b[0;31m---------------------------------------------------------------------------\u001b[0m",
      "\u001b[0;31mAttributeError\u001b[0m                            Traceback (most recent call last)",
      "Cell \u001b[0;32mIn[81], line 1\u001b[0m\n\u001b[0;32m----> 1\u001b[0m (\u001b[38;5;241m5\u001b[39m)\u001b[38;5;241m.\u001b[39mstrip()\n",
      "\u001b[0;31mAttributeError\u001b[0m: 'int' object has no attribute 'strip'"
     ]
    }
   ],
   "source": [
    "(5).strip()"
   ]
  },
  {
   "cell_type": "code",
   "execution_count": 79,
   "id": "5ba4b16a-b44d-464a-ab5e-a544b9bdfb39",
   "metadata": {},
   "outputs": [
    {
     "data": {
      "text/plain": [
       "4567"
      ]
     },
     "execution_count": 79,
     "metadata": {},
     "output_type": "execute_result"
    }
   ],
   "source": [
    "int(\"     4567\")"
   ]
  },
  {
   "cell_type": "code",
   "execution_count": 84,
   "id": "f42c1061-af4c-4334-b5f6-7b6d4b4dbaab",
   "metadata": {},
   "outputs": [
    {
     "name": "stdout",
     "output_type": "stream",
     "text": [
      "Help on method_descriptor:\n",
      "\n",
      "strip(self, chars=None, /) unbound builtins.str method\n",
      "    Return a copy of the string with leading and trailing whitespace removed.\n",
      "\n",
      "    If chars is given and not None, remove characters in chars instead.\n",
      "\n"
     ]
    }
   ],
   "source": [
    "help(str.strip)"
   ]
  },
  {
   "cell_type": "code",
   "execution_count": 83,
   "id": "b6cab402-2ab5-4984-a825-b5b65bda53db",
   "metadata": {},
   "outputs": [
    {
     "name": "stdout",
     "output_type": "stream",
     "text": [
      "Help on method_descriptor:\n",
      "\n",
      "append(self, object, /) unbound builtins.list method\n",
      "    Append object to the end of the list.\n",
      "\n"
     ]
    }
   ],
   "source": [
    "help(list.append)"
   ]
  },
  {
   "cell_type": "code",
   "execution_count": 85,
   "id": "d2fb4bca-6dab-4e6f-be5c-185151a97afa",
   "metadata": {},
   "outputs": [
    {
     "name": "stdout",
     "output_type": "stream",
     "text": [
      "None\n"
     ]
    }
   ],
   "source": [
    "names = [\"sachin\", \"rajat\", \"nidhi\", \"amishi\"]\n",
    "\n",
    "# names =  [\"sachin\", \"rajat\", \"nidhi\", \"amishi\", \"simran\"]\n",
    "names = names.append(\"simran\") #\n",
    "# names = None\n",
    "\n",
    "print(names)"
   ]
  },
  {
   "cell_type": "code",
   "execution_count": 86,
   "id": "d59a2f2b-cf01-4e18-85f1-10a136dbf8fc",
   "metadata": {},
   "outputs": [],
   "source": [
    "names = [\"sachin\", \"rajat\", \"nidhi\", \"amishi\"]\n",
    "\n",
    "names.append(\"simran\")"
   ]
  },
  {
   "cell_type": "code",
   "execution_count": 87,
   "id": "a544e77c-0c98-44fb-b407-2b4be259743a",
   "metadata": {},
   "outputs": [
    {
     "name": "stdout",
     "output_type": "stream",
     "text": [
      "['sachin', 'rajat', 'nidhi', 'amishi', 'simran']\n"
     ]
    }
   ],
   "source": [
    "print(names)"
   ]
  },
  {
   "cell_type": "code",
   "execution_count": 88,
   "id": "c2577556-5831-4842-9bf4-8069fbfea501",
   "metadata": {},
   "outputs": [
    {
     "name": "stdout",
     "output_type": "stream",
     "text": [
      "hello world! when funciton does not return anything\n"
     ]
    },
    {
     "name": "stdin",
     "output_type": "stream",
     "text": [
      "return a string by taking input from user 456789\n"
     ]
    }
   ],
   "source": [
    "print(\"hello world! when funciton does not return anything\")\n",
    "name = input(\"return a string by taking input from user\")\n",
    "\n",
    "data = [1, 2, 3, 4]\n",
    "data.append(5) # append does not return anything\n",
    "\n",
    "s = \"hello\"\n",
    "\n",
    "ns = s.upper()"
   ]
  },
  {
   "cell_type": "code",
   "execution_count": 90,
   "id": "05ad90e9-4c77-4099-ba1b-85b40c1fe250",
   "metadata": {},
   "outputs": [
    {
     "name": "stdout",
     "output_type": "stream",
     "text": [
      "append\n",
      "clear\n",
      "copy\n",
      "count\n",
      "extend\n",
      "index\n",
      "insert\n",
      "pop\n",
      "remove\n",
      "reverse\n",
      "sort\n"
     ]
    }
   ],
   "source": [
    "print(*dir(list)[-11:], sep=\"\\n\")"
   ]
  }
 ],
 "metadata": {
  "kernelspec": {
   "display_name": "Python [conda env:base] *",
   "language": "python",
   "name": "conda-base-py"
  },
  "language_info": {
   "codemirror_mode": {
    "name": "ipython",
    "version": 3
   },
   "file_extension": ".py",
   "mimetype": "text/x-python",
   "name": "python",
   "nbconvert_exporter": "python",
   "pygments_lexer": "ipython3",
   "version": "3.12.7"
  }
 },
 "nbformat": 4,
 "nbformat_minor": 5
}
