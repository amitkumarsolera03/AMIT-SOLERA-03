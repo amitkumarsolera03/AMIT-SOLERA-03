{
 "cells": [
  {
   "cell_type": "markdown",
   "id": "42259302-99e4-4da2-aa01-aec7bd037998",
   "metadata": {},
   "source": [
    "### Any Dobut "
   ]
  },
  {
   "cell_type": "code",
   "execution_count": 4,
   "id": "f5a5fd67-9856-4cba-8b0f-92ce03578060",
   "metadata": {},
   "outputs": [],
   "source": [
    "class Demo:\n",
    "    \"\"\"\n",
    "        Bind data and operations together in single entity\n",
    "        \n",
    "        Attributes: set of features to define a real time entity in a computer memory\n",
    "\n",
    "        Methods: function bind with object data to perform action on entity data\n",
    "    \"\"\"\n",
    "    def info(self):\n",
    "        print(self, type(self), id(self))\n",
    "        "
   ]
  },
  {
   "cell_type": "code",
   "execution_count": 5,
   "id": "cb281fee-1bf9-4ca4-b918-299e627ea557",
   "metadata": {},
   "outputs": [],
   "source": [
    "x = Demo()\n",
    "y = Demo()"
   ]
  },
  {
   "cell_type": "code",
   "execution_count": 8,
   "id": "c1fd3209-f54a-450a-8942-ab51b8b46c17",
   "metadata": {},
   "outputs": [
    {
     "name": "stdout",
     "output_type": "stream",
     "text": [
      "x-> <__main__.Demo object at 0x13f9f4e60> <class '__main__.Demo'> 5362372192\n",
      "<__main__.Demo object at 0x13f9f4e60> <class '__main__.Demo'> 5362372192\n"
     ]
    }
   ],
   "source": [
    "print(\"x->\", x, type(x), id(x))\n",
    "x.info() # Demo.info(x)"
   ]
  },
  {
   "cell_type": "code",
   "execution_count": 9,
   "id": "2b2914fe-44c9-4c65-9f73-b84a0e18370f",
   "metadata": {},
   "outputs": [
    {
     "name": "stdout",
     "output_type": "stream",
     "text": [
      "y-> <__main__.Demo object at 0x13f9f4ec0> <class '__main__.Demo'> 5362372288\n",
      "<__main__.Demo object at 0x13f9f4ec0> <class '__main__.Demo'> 5362372288\n"
     ]
    }
   ],
   "source": [
    "print(\"y->\", y, type(y), id(y))\n",
    "y.info() # Demo.info(y)"
   ]
  },
  {
   "cell_type": "code",
   "execution_count": 12,
   "id": "a4cc118b-6ecc-412c-a879-f01253bef964",
   "metadata": {},
   "outputs": [],
   "source": [
    "class Demo:\n",
    "    def get_info(self):\n",
    "        print(f\"Hello my name is {self.name}, and I am a Demo class object\")"
   ]
  },
  {
   "cell_type": "code",
   "execution_count": 13,
   "id": "0820dd8f-cb83-493a-b763-f34c39c6adce",
   "metadata": {},
   "outputs": [],
   "source": [
    "x = Demo() # object creation"
   ]
  },
  {
   "cell_type": "code",
   "execution_count": 16,
   "id": "471fda61-d926-4531-a4fa-a407ebe19ba9",
   "metadata": {},
   "outputs": [],
   "source": [
    "x.name = \"Sachin Yadav\" # public variable\n",
    "# obj.attr = value"
   ]
  },
  {
   "cell_type": "code",
   "execution_count": 17,
   "id": "ba1a1da1-d97d-4fde-979f-e49d36b42354",
   "metadata": {},
   "outputs": [
    {
     "name": "stdout",
     "output_type": "stream",
     "text": [
      "Hello my name is Sachin Yadav, and I am a Demo class object\n"
     ]
    }
   ],
   "source": [
    "x.get_info() # Demo.get_info(x)"
   ]
  },
  {
   "cell_type": "code",
   "execution_count": 19,
   "id": "17dfea43-071b-408e-8f1e-0526888a635b",
   "metadata": {},
   "outputs": [
    {
     "name": "stdout",
     "output_type": "stream",
     "text": [
      "Sachin Yadav\n"
     ]
    }
   ],
   "source": [
    "print(x.name)\n",
    "x.name = \"Rahul\""
   ]
  },
  {
   "cell_type": "code",
   "execution_count": 20,
   "id": "16658a1d-4163-4078-b0bf-a10bbd119987",
   "metadata": {},
   "outputs": [
    {
     "name": "stdout",
     "output_type": "stream",
     "text": [
      "Hello my name is Rahul, and I am a Demo class object\n"
     ]
    }
   ],
   "source": [
    "x.get_info()"
   ]
  },
  {
   "cell_type": "markdown",
   "id": "305e7a35-86ff-450c-bce6-4c0b4d89d57e",
   "metadata": {},
   "source": [
    "Instantiation\n",
    "\n",
    "        A process creation of an object in OOPs \n",
    "\n",
    "\n",
    "        instance = object = self"
   ]
  },
  {
   "cell_type": "code",
   "execution_count": 22,
   "id": "68f59dac-90a9-4b75-9053-381300cb25ea",
   "metadata": {},
   "outputs": [
    {
     "name": "stdout",
     "output_type": "stream",
     "text": [
      "30\n"
     ]
    },
    {
     "data": {
      "text/plain": [
       "30"
      ]
     },
     "execution_count": 22,
     "metadata": {},
     "output_type": "execute_result"
    }
   ],
   "source": [
    "a = 10\n",
    "b = 20 \n",
    "\n",
    "print(a + b)  # a -> int, b -> int\n",
    "\n",
    "int.__add__(a, b)"
   ]
  },
  {
   "cell_type": "code",
   "execution_count": null,
   "id": "a35db9d6-7f00-4378-8a99-773499897b00",
   "metadata": {},
   "outputs": [],
   "source": []
  },
  {
   "cell_type": "markdown",
   "id": "5e3dc16d-69b1-4c1a-a655-229e2ce4abcd",
   "metadata": {},
   "source": [
    "## OOPs\n",
    "\n",
    "    Constructors\n",
    "\n",
    "        Special Methods (Magic Methods) which creates and initilize inital or default attributes to a newly created\n",
    "        object/instance at time of Instantiation\n",
    "\n",
    "        __new__  -> create empty object in computer memory and assign a unique id to that object \n",
    "\n",
    "        __init__ -> used to initilize default or initial attributes to a object at the time creation \n",
    "\n",
    "        constructors invokes automatically whenever a new object is being created"
   ]
  },
  {
   "cell_type": "code",
   "execution_count": 23,
   "id": "84585d0f-6c9d-457c-bcc7-f113325073d6",
   "metadata": {},
   "outputs": [],
   "source": [
    "class Demo:\n",
    "    def __init__(self):\n",
    "        print(\"Object is being initlized\")\n",
    "        self.name = \"Demo object\"\n",
    "    def info(self):\n",
    "        print(f\"Name = {self.name}\")"
   ]
  },
  {
   "cell_type": "code",
   "execution_count": 33,
   "id": "2d4aae69-51ec-431b-b0f5-fee75e944aa4",
   "metadata": {},
   "outputs": [
    {
     "ename": "TypeError",
     "evalue": "Demo.__init__() takes 1 positional argument but 2 were given",
     "output_type": "error",
     "traceback": [
      "\u001b[0;31m---------------------------------------------------------------------------\u001b[0m",
      "\u001b[0;31mTypeError\u001b[0m                                 Traceback (most recent call last)",
      "Cell \u001b[0;32mIn[33], line 1\u001b[0m\n\u001b[0;32m----> 1\u001b[0m x \u001b[38;5;241m=\u001b[39m Demo(\u001b[38;5;124m'\u001b[39m\u001b[38;5;124msachin\u001b[39m\u001b[38;5;124m'\u001b[39m) \u001b[38;5;66;03m# __init__(x, 'sachin')\u001b[39;00m\n\u001b[1;32m      2\u001b[0m y \u001b[38;5;241m=\u001b[39m Demo(\u001b[38;5;124m'\u001b[39m\u001b[38;5;124mdhruv\u001b[39m\u001b[38;5;124m'\u001b[39m)\n\u001b[1;32m      4\u001b[0m x\u001b[38;5;241m.\u001b[39minfo()\n",
      "\u001b[0;31mTypeError\u001b[0m: Demo.__init__() takes 1 positional argument but 2 were given"
     ]
    }
   ],
   "source": [
    "x = Demo('sachin') # __init__(x, 'sachin')\n",
    "y = Demo('dhruv')\n",
    "\n",
    "x.info()\n",
    "y.info()"
   ]
  },
  {
   "cell_type": "code",
   "execution_count": 28,
   "id": "630f2cae-25cf-4e2f-973b-d3df10f8a6a1",
   "metadata": {},
   "outputs": [
    {
     "name": "stdout",
     "output_type": "stream",
     "text": [
      "Object is being initlized\n",
      "Object is being initlized\n"
     ]
    }
   ],
   "source": [
    "x = Demo()\n",
    "y = Demo()"
   ]
  },
  {
   "cell_type": "code",
   "execution_count": 30,
   "id": "e81dd236-9b77-4eb2-9a1f-c140ca89f62b",
   "metadata": {},
   "outputs": [
    {
     "name": "stdout",
     "output_type": "stream",
     "text": [
      "Name = Demo object\n",
      "Name = Demo object\n"
     ]
    }
   ],
   "source": [
    "x.info()\n",
    "y.info()"
   ]
  },
  {
   "cell_type": "code",
   "execution_count": 31,
   "id": "77861e64-31b2-4786-b41e-639b9f6dc981",
   "metadata": {},
   "outputs": [],
   "source": [
    "x.name = \"Sachin\" # dynamic binding"
   ]
  },
  {
   "cell_type": "code",
   "execution_count": 32,
   "id": "f5364512-f8cd-4c5f-8645-50f192457763",
   "metadata": {},
   "outputs": [
    {
     "name": "stdout",
     "output_type": "stream",
     "text": [
      "Name = Sachin\n",
      "Name = Demo object\n"
     ]
    }
   ],
   "source": [
    "x.info()\n",
    "y.info()"
   ]
  },
  {
   "cell_type": "code",
   "execution_count": 39,
   "id": "642325e1-4236-4dcf-8d6f-02acfa374813",
   "metadata": {},
   "outputs": [],
   "source": [
    "class Person:\n",
    "    def __init__(self, name, country):\n",
    "        # self -> object self.name, self.country ---> instance attributes\n",
    "        # name, country -> local variables\n",
    "        self.name = name\n",
    "        self.country = country\n",
    "    def info(self):\n",
    "        print(f\"Name: {self.name}\")\n",
    "        print(f\"Country: {self.country}\")\n",
    "        "
   ]
  },
  {
   "cell_type": "code",
   "execution_count": 40,
   "id": "e5505531-0f30-4b30-8872-8de3186afb35",
   "metadata": {},
   "outputs": [],
   "source": [
    "p1 = Person(\"Sachin\", \"India\")\n",
    "# Person.__init__(p1, \"Sachin\", \"India\") # p1.name = \"Sachin\" p1.country=\"India\"\n",
    "p2 = Person(\"Dhruv\", \"Pakishtan\")\n",
    "# Person.__init__(p2, \"Dhruv\", \"Pakishtan\") # p2.name = \"Dhurv\" p2.country=\"Pakishtan\""
   ]
  },
  {
   "cell_type": "code",
   "execution_count": 41,
   "id": "447f5850-6a1f-47ea-bcca-007bce112fcf",
   "metadata": {},
   "outputs": [
    {
     "name": "stdout",
     "output_type": "stream",
     "text": [
      "Name: Sachin\n",
      "Country: India\n"
     ]
    }
   ],
   "source": [
    "p1.info() \n",
    "# Person.info(p1) # p1.name, p1.country"
   ]
  },
  {
   "cell_type": "code",
   "execution_count": 42,
   "id": "f057f494-72b7-4d68-8c26-089d97d5e186",
   "metadata": {},
   "outputs": [
    {
     "name": "stdout",
     "output_type": "stream",
     "text": [
      "Name: Dhruv\n",
      "Country: Pakishtan\n"
     ]
    }
   ],
   "source": [
    "p2.info()"
   ]
  },
  {
   "cell_type": "code",
   "execution_count": 45,
   "id": "2e3c9375-3ec8-40ef-8894-bddd0a28aa45",
   "metadata": {},
   "outputs": [
    {
     "data": {
      "text/plain": [
       "'<__main__.Person object at 0x17638bd70>'"
      ]
     },
     "execution_count": 45,
     "metadata": {},
     "output_type": "execute_result"
    }
   ],
   "source": [
    "str(p1)\n",
    "# "
   ]
  },
  {
   "cell_type": "code",
   "execution_count": 43,
   "id": "825a79a7-d482-43de-ad7e-c038ee8826d7",
   "metadata": {},
   "outputs": [
    {
     "name": "stdout",
     "output_type": "stream",
     "text": [
      "<__main__.Person object at 0x17638bd70>\n"
     ]
    }
   ],
   "source": [
    "print(p1) # standard output\n",
    "# "
   ]
  },
  {
   "cell_type": "code",
   "execution_count": 44,
   "id": "58920fcc-8636-43f5-976e-8a355f458f11",
   "metadata": {},
   "outputs": [
    {
     "data": {
      "text/plain": [
       "<__main__.Person at 0x17638bd70>"
      ]
     },
     "execution_count": 44,
     "metadata": {},
     "output_type": "execute_result"
    }
   ],
   "source": [
    "p1 # raw output / cell output"
   ]
  },
  {
   "cell_type": "markdown",
   "id": "81d91dce-324e-4aee-98a8-3a09528a51f6",
   "metadata": {},
   "source": [
    "# Inheritance\n",
    "\n",
    "    when a child class inherits properties of parent class"
   ]
  },
  {
   "cell_type": "markdown",
   "id": "42c9dde5-3033-4948-abd3-e4ed3fe70598",
   "metadata": {},
   "source": [
    "Super parent -> Object"
   ]
  },
  {
   "cell_type": "code",
   "execution_count": 49,
   "id": "89de3b05-dcdd-4843-96bd-0c035fb60298",
   "metadata": {},
   "outputs": [],
   "source": [
    "# class Demo(object)\n",
    "class Demo:\n",
    "    pass"
   ]
  },
  {
   "cell_type": "code",
   "execution_count": 50,
   "id": "816640a8-f653-4437-a24c-ebeab0c7419c",
   "metadata": {},
   "outputs": [
    {
     "name": "stdout",
     "output_type": "stream",
     "text": [
      "['__class__', '__delattr__', '__dict__', '__dir__', '__doc__', '__eq__', '__format__', '__ge__', '__getattribute__', '__getstate__', '__gt__', '__hash__', '__init__', '__init_subclass__', '__le__', '__lt__', '__module__', '__ne__', '__new__', '__reduce__', '__reduce_ex__', '__repr__', '__setattr__', '__sizeof__', '__str__', '__subclasshook__', '__weakref__']\n"
     ]
    }
   ],
   "source": [
    "print(dir(Demo))"
   ]
  },
  {
   "cell_type": "code",
   "execution_count": 51,
   "id": "47b555ac-790a-47d9-a13b-15786197be1f",
   "metadata": {},
   "outputs": [
    {
     "name": "stdout",
     "output_type": "stream",
     "text": [
      "<__main__.Demo object at 0x176389c10>\n"
     ]
    }
   ],
   "source": [
    "a = Demo()\n",
    "print(a)"
   ]
  },
  {
   "cell_type": "code",
   "execution_count": 52,
   "id": "67f650c8-9644-4acb-8450-84cf3c5eec82",
   "metadata": {},
   "outputs": [
    {
     "data": {
      "text/plain": [
       "False"
      ]
     },
     "execution_count": 52,
     "metadata": {},
     "output_type": "execute_result"
    }
   ],
   "source": [
    "issubclass(int, type)"
   ]
  },
  {
   "cell_type": "code",
   "execution_count": 53,
   "id": "3721f253-f87e-48a4-818f-565dcd9667ce",
   "metadata": {},
   "outputs": [
    {
     "data": {
      "text/plain": [
       "False"
      ]
     },
     "execution_count": 53,
     "metadata": {},
     "output_type": "execute_result"
    }
   ],
   "source": [
    "issubclass(Demo, type)"
   ]
  },
  {
   "cell_type": "code",
   "execution_count": 54,
   "id": "eb562708-c2ee-4f2f-89cb-6fad9dcff952",
   "metadata": {},
   "outputs": [
    {
     "data": {
      "text/plain": [
       "True"
      ]
     },
     "execution_count": 54,
     "metadata": {},
     "output_type": "execute_result"
    }
   ],
   "source": [
    "issubclass(int, object)"
   ]
  },
  {
   "cell_type": "code",
   "execution_count": 55,
   "id": "6faf0ed9-523a-4774-8c0d-34cd6552f03a",
   "metadata": {},
   "outputs": [
    {
     "data": {
      "text/plain": [
       "True"
      ]
     },
     "execution_count": 55,
     "metadata": {},
     "output_type": "execute_result"
    }
   ],
   "source": [
    "issubclass(Demo, object)"
   ]
  },
  {
   "cell_type": "markdown",
   "id": "0e87e814-2dec-4630-be0e-c29077f8eee9",
   "metadata": {},
   "source": [
    "# Inheritance"
   ]
  },
  {
   "cell_type": "code",
   "execution_count": 56,
   "id": "34fd2c6e-4704-4982-9b42-4d5df777208f",
   "metadata": {},
   "outputs": [],
   "source": [
    "class Parent:\n",
    "    def hello(self):\n",
    "        print(\"Hello world! I am your parent\")\n",
    "class Child(Parent):\n",
    "    pass"
   ]
  },
  {
   "cell_type": "code",
   "execution_count": 57,
   "id": "36fdb0a2-b9d7-456a-af00-98e4fdbffc17",
   "metadata": {},
   "outputs": [
    {
     "name": "stdout",
     "output_type": "stream",
     "text": [
      "Hello world! I am your parent\n"
     ]
    }
   ],
   "source": [
    "c = Child()\n",
    "c.hello()"
   ]
  },
  {
   "cell_type": "markdown",
   "id": "cfc57aba-b03a-4660-9c27-6b28058f5af2",
   "metadata": {},
   "source": [
    "    overwrite  -> at same place/memory/address we changed the value\n",
    "\n",
    "    override  --> we create new object and refer new object whenever asked"
   ]
  },
  {
   "cell_type": "markdown",
   "id": "5db0bb08-93c3-45dd-bd0e-8a8eadb8e12e",
   "metadata": {},
   "source": [
    "## Over-ride\n",
    "\n",
    "    child class can over-ride parent class methods"
   ]
  },
  {
   "cell_type": "code",
   "execution_count": 69,
   "id": "e4e510a7-9a3b-4ceb-b987-06c5c5194bbc",
   "metadata": {},
   "outputs": [],
   "source": [
    "class Papa:\n",
    "    def house(self):\n",
    "        print(\"a kothi\")\n",
    "    def bike(self):\n",
    "        print(\"a bike splendra\")\n",
    "        \n",
    "class Child(Papa):\n",
    "    def bike(self): # ? \n",
    "        print(\"royal enfield\")\n",
    "        super().bike()"
   ]
  },
  {
   "cell_type": "code",
   "execution_count": 70,
   "id": "d000e9c6-caf6-42e4-9f71-77fb61ccdd90",
   "metadata": {},
   "outputs": [],
   "source": [
    "x = Child() # MRO -> method resolution order"
   ]
  },
  {
   "cell_type": "code",
   "execution_count": 71,
   "id": "7a7e0087-370c-43d5-bf37-658c942882ba",
   "metadata": {},
   "outputs": [
    {
     "name": "stdout",
     "output_type": "stream",
     "text": [
      "a kothi\n"
     ]
    }
   ],
   "source": [
    "x.house()"
   ]
  },
  {
   "cell_type": "code",
   "execution_count": 72,
   "id": "0cdb9e94-1720-41f5-92c4-f5869ca8ec90",
   "metadata": {},
   "outputs": [
    {
     "name": "stdout",
     "output_type": "stream",
     "text": [
      "royal enfield\n",
      "a bike splendra\n"
     ]
    }
   ],
   "source": [
    "x.bike() # ? child class --> parent class "
   ]
  },
  {
   "cell_type": "markdown",
   "id": "7e5dc920-b017-41fe-b796-e0476ea49ab9",
   "metadata": {},
   "source": [
    "### Type of Inheritance \n",
    "\n",
    "    Single Level Inheritance\n",
    "\n",
    "        single parent single child \n",
    "\n",
    "    Multi Level Inheritance \n",
    "\n",
    "        grand parent -> parent -> child \n",
    "\n",
    "    Hierarchical Inheritance \n",
    "\n",
    "        childe inherits from multiple parents \n",
    "\n",
    "    Multiple Inheritance\n",
    "\n",
    "        Single parents multiple childs\n",
    "\n",
    "    Hybrid \n",
    "\n",
    "        any combination above two or more inheritances "
   ]
  },
  {
   "attachments": {
    "e725cd27-7d8a-431e-b67e-29bda7b40e3b.png": {
     "image/png": "[encoded data removed]"
    }
   },
   "cell_type": "markdown",
   "id": "bbbc373e-06ea-4953-9cf9-81e0b4021e99",
   "metadata": {},
   "source": [
    "![image.png](attachment:e725cd27-7d8a-431e-b67e-29bda7b40e3b.png)"
   ]
  },
  {
   "cell_type": "code",
   "execution_count": 74,
   "id": "00654172-257a-481a-93c3-efb545fdb7ae",
   "metadata": {},
   "outputs": [],
   "source": [
    "# Single Level inheritance\n",
    "class A:\n",
    "    def hello(self):\n",
    "        print(\"hello from A\")\n",
    "\n",
    "class B(A):\n",
    "    def hi(self):\n",
    "        print(\"hi from B\")"
   ]
  },
  {
   "cell_type": "code",
   "execution_count": 75,
   "id": "f273bce0-12ed-47fd-8224-93526d1891e1",
   "metadata": {},
   "outputs": [
    {
     "name": "stdout",
     "output_type": "stream",
     "text": [
      "hello from A\n",
      "hi from B\n"
     ]
    }
   ],
   "source": [
    "x = B()\n",
    "x.hello() # parent\n",
    "x.hi()"
   ]
  },
  {
   "cell_type": "code",
   "execution_count": 76,
   "id": "d9d22ccb-2dcd-4375-afc6-ff754b6d2bbe",
   "metadata": {},
   "outputs": [],
   "source": [
    "# multi-leve\n",
    "class Dada:\n",
    "    def cycle(self):\n",
    "        print(\"vintage cycle\")\n",
    "    def kothi(self):\n",
    "        print(\"a luxury house in village\")\n",
    "class Papa(Dada):\n",
    "    def bike(self):\n",
    "        print(\"a bike to ride around\")\n",
    "    def house(self):\n",
    "        print(\"a house in city\")\n",
    "class Beta(Papa):\n",
    "    def car(self):\n",
    "        print(\"a comfort ride on car\")"
   ]
  },
  {
   "cell_type": "code",
   "execution_count": 77,
   "id": "0a3a4851-0d09-40d0-b864-b654165c7c18",
   "metadata": {},
   "outputs": [],
   "source": [
    "x = Beta()"
   ]
  },
  {
   "cell_type": "code",
   "execution_count": 78,
   "id": "3f9aca50-b79c-41c0-b997-746d16c8fc6d",
   "metadata": {},
   "outputs": [
    {
     "name": "stdout",
     "output_type": "stream",
     "text": [
      "vintage cycle\n",
      "a luxury house in village\n",
      "a bike to ride around\n",
      "a house in city\n",
      "a comfort ride on car\n"
     ]
    }
   ],
   "source": [
    "x.cycle()\n",
    "x.kothi()\n",
    "x.bike()\n",
    "x.house()\n",
    "x.car()"
   ]
  },
  {
   "cell_type": "markdown",
   "id": "97b14ac8-8049-4947-81d5-c93153832b32",
   "metadata": {},
   "source": [
    "# Multiple Inheritance\n",
    "\n",
    "    more then 1 parent"
   ]
  },
  {
   "cell_type": "code",
   "execution_count": 101,
   "id": "50e75a00-d203-45e0-8e00-cea75b4da423",
   "metadata": {},
   "outputs": [],
   "source": [
    "class A:\n",
    "    def hello(self):\n",
    "        print(\"hello world\")\n",
    "\n",
    "class B:\n",
    "    def hello(self):\n",
    "        print(\"hi world!\")\n",
    "\n",
    "class C(A, B):\n",
    "   def hi(self):\n",
    "       A.hello(self)\n",
    "       B.hello(self)\n",
    "       print('kuch bhi kar skte')\n",
    "\n",
    "# x.hello()  # "
   ]
  },
  {
   "cell_type": "code",
   "execution_count": 102,
   "id": "96f38b99-8991-43f9-9c78-5e1c147b9451",
   "metadata": {},
   "outputs": [],
   "source": [
    "x = C()"
   ]
  },
  {
   "cell_type": "code",
   "execution_count": 103,
   "id": "a425651b-db96-4129-9d96-531673f27aa1",
   "metadata": {},
   "outputs": [
    {
     "name": "stdout",
     "output_type": "stream",
     "text": [
      "hello world\n"
     ]
    }
   ],
   "source": [
    "x.hello()"
   ]
  },
  {
   "cell_type": "code",
   "execution_count": 104,
   "id": "f059ee1e-d326-440d-928a-5fe1aa1771d3",
   "metadata": {},
   "outputs": [
    {
     "name": "stdout",
     "output_type": "stream",
     "text": [
      "hello world\n",
      "hi world!\n",
      "kuch bhi kar skte\n"
     ]
    }
   ],
   "source": [
    "x.hi()"
   ]
  },
  {
   "cell_type": "code",
   "execution_count": 86,
   "id": "0912ea30-a46a-4e8b-8d19-1d7a695be04e",
   "metadata": {},
   "outputs": [],
   "source": [
    "class Papa:\n",
    "    def pocket_money(self):\n",
    "        print(\"source of our income\")\n",
    "    def change_channel(self):\n",
    "        print(\"put india vs england test match on tv\")\n",
    "\n",
    "class Mummy:\n",
    "    def food(self):\n",
    "        print(\"source of healthy food and love\")\n",
    "    def change_channel(self):\n",
    "        print(\"saas bhi kabhi bahu thi\")"
   ]
  },
  {
   "cell_type": "code",
   "execution_count": 107,
   "id": "6b72cdcc-ddce-41bd-a6fb-870f309c4f74",
   "metadata": {},
   "outputs": [],
   "source": [
    "class Beta(Papa,  Mummy):\n",
    "    pass\n",
    "# MRO"
   ]
  },
  {
   "cell_type": "code",
   "execution_count": 108,
   "id": "e75b728b-167b-4ed8-9809-304c1ce4e07c",
   "metadata": {},
   "outputs": [
    {
     "name": "stdout",
     "output_type": "stream",
     "text": [
      "put india vs england test match on tv\n",
      "source of our income\n",
      "source of healthy food and love\n"
     ]
    }
   ],
   "source": [
    "b = Beta()\n",
    "b.change_channel()\n",
    "b.pocket_money()\n",
    "b.food()"
   ]
  },
  {
   "cell_type": "markdown",
   "id": "be67e733-95d2-411c-9601-481209def9d2",
   "metadata": {},
   "source": [
    "# MRO"
   ]
  },
  {
   "cell_type": "markdown",
   "id": "fe5f779b-5759-4184-9d81-bd1ce1479f0d",
   "metadata": {},
   "source": [
    "### Object Representation"
   ]
  },
  {
   "cell_type": "code",
   "execution_count": 109,
   "id": "29a7e5df-7464-4e1f-9bdf-5118e9b0e19d",
   "metadata": {},
   "outputs": [],
   "source": [
    "class A:\n",
    "    pass"
   ]
  },
  {
   "cell_type": "code",
   "execution_count": 110,
   "id": "3a73e5be-89fb-47c4-aca8-47d189b19f53",
   "metadata": {},
   "outputs": [
    {
     "name": "stdout",
     "output_type": "stream",
     "text": [
      "<__main__.A object at 0x1767dce90>\n"
     ]
    },
    {
     "data": {
      "text/plain": [
       "<__main__.A at 0x1767dce90>"
      ]
     },
     "execution_count": 110,
     "metadata": {},
     "output_type": "execute_result"
    }
   ],
   "source": [
    "x = A()\n",
    "print(x) # __str__\n",
    "x # __repr__"
   ]
  },
  {
   "cell_type": "code",
   "execution_count": 111,
   "id": "5fb69d39-b7bb-46f5-b81b-808c2450bb9a",
   "metadata": {},
   "outputs": [
    {
     "data": {
      "text/plain": [
       "9"
      ]
     },
     "execution_count": 111,
     "metadata": {},
     "output_type": "execute_result"
    }
   ],
   "source": [
    "import random\n",
    "\n",
    "random.randint(1, 10)"
   ]
  },
  {
   "cell_type": "code",
   "execution_count": 112,
   "id": "251bd28a-8256-4099-a130-240d3cee00ed",
   "metadata": {},
   "outputs": [
    {
     "data": {
      "text/plain": [
       "'c'"
      ]
     },
     "execution_count": 112,
     "metadata": {},
     "output_type": "execute_result"
    }
   ],
   "source": [
    "random.choice(['a', 'b', 'c', 'd'])"
   ]
  },
  {
   "cell_type": "code",
   "execution_count": 123,
   "id": "8f1d489e-51a6-4b3c-a135-71423410ee86",
   "metadata": {},
   "outputs": [],
   "source": [
    "class Person:\n",
    "    def __init__(self, name):\n",
    "        self.name = name\n",
    "        self.height = random.randint(120, 250)\n",
    "        self.color = random.choice(['fair', 'dark', 'brown'])\n",
    "        self.iq = random.choice(['dumb', 'smart', 'average', 'god gifted'])\n",
    "    def info(self):\n",
    "        print(\"_\"*100)\n",
    "        for key, value in self.__dict__.items():\n",
    "            key = key.lower().title()\n",
    "            value = str(value).lower().title()\n",
    "            print(f\"{key:>20} = {value}\".center(100))\n",
    "        print(\"_\"*100)\n",
    "    def __str__(self):\n",
    "        return f\"a object {self.name} of class person\""
   ]
  },
  {
   "cell_type": "code",
   "execution_count": 124,
   "id": "518c88b4-6d40-4688-83fc-82283ca3956a",
   "metadata": {},
   "outputs": [],
   "source": [
    "p1 = Person(\"Dhruv\")"
   ]
  },
  {
   "cell_type": "code",
   "execution_count": 125,
   "id": "c1829864-25af-491c-a2fb-ea84e0cd1aa6",
   "metadata": {},
   "outputs": [
    {
     "name": "stdout",
     "output_type": "stream",
     "text": [
      "____________________________________________________________________________________________________\n",
      "                                                    Name = Dhruv                                    \n",
      "                                                   Height = 132                                     \n",
      "                                                   Color = Dark                                     \n",
      "                                                     Iq = Average                                   \n",
      "____________________________________________________________________________________________________\n"
     ]
    }
   ],
   "source": [
    "p1.info()"
   ]
  },
  {
   "cell_type": "code",
   "execution_count": 126,
   "id": "005afc23-10d3-4103-9c8d-589581d0a076",
   "metadata": {},
   "outputs": [
    {
     "name": "stdout",
     "output_type": "stream",
     "text": [
      "a object Dhruv of class person\n"
     ]
    }
   ],
   "source": [
    "print(p1)"
   ]
  },
  {
   "cell_type": "code",
   "execution_count": 117,
   "id": "341aa4cf-7116-4c53-b7f5-c051a8f79dc8",
   "metadata": {},
   "outputs": [
    {
     "data": {
      "text/plain": [
       "232"
      ]
     },
     "execution_count": 117,
     "metadata": {},
     "output_type": "execute_result"
    }
   ],
   "source": [
    "p1.height"
   ]
  },
  {
   "cell_type": "code",
   "execution_count": 127,
   "id": "b55db31a-f434-45cd-9932-26f74b4f5dc1",
   "metadata": {},
   "outputs": [],
   "source": [
    "# function overloading\n",
    "\n",
    "def add(x, y=0, z=0):\n",
    "    return x + y + z"
   ]
  },
  {
   "cell_type": "code",
   "execution_count": 128,
   "id": "226e8e03-395d-42d5-950e-256e28151aef",
   "metadata": {},
   "outputs": [
    {
     "data": {
      "text/plain": [
       "1"
      ]
     },
     "execution_count": 128,
     "metadata": {},
     "output_type": "execute_result"
    }
   ],
   "source": [
    "add(1)"
   ]
  },
  {
   "cell_type": "code",
   "execution_count": 129,
   "id": "d1017e08-7c14-4112-baa8-8eded2b3cb7b",
   "metadata": {},
   "outputs": [
    {
     "data": {
      "text/plain": [
       "3"
      ]
     },
     "execution_count": 129,
     "metadata": {},
     "output_type": "execute_result"
    }
   ],
   "source": [
    "add(1, 2)"
   ]
  },
  {
   "cell_type": "code",
   "execution_count": 130,
   "id": "a13dd9e6-5f44-4a60-b065-8e0e93d64755",
   "metadata": {},
   "outputs": [
    {
     "data": {
      "text/plain": [
       "6"
      ]
     },
     "execution_count": 130,
     "metadata": {},
     "output_type": "execute_result"
    }
   ],
   "source": [
    "add(1, 2, 3)"
   ]
  },
  {
   "cell_type": "markdown",
   "id": "e0a3d820-fcc8-4187-8c25-ddf021dc3e8f",
   "metadata": {},
   "source": [
    "## Polymorphism\n",
    "\n",
    "    Operator Overloading\n",
    "    "
   ]
  },
  {
   "cell_type": "markdown",
   "id": "2ec348e0-9349-4f7a-a129-b85424e7b795",
   "metadata": {},
   "source": [
    "operators \n",
    "\n",
    "\n",
    "    __add__\n",
    "\n",
    "    __mul__\n",
    "\n",
    "\n",
    "    ..."
   ]
  },
  {
   "cell_type": "code",
   "execution_count": 135,
   "id": "8e5e5c6c-70e5-42ff-a8ab-2edda613e962",
   "metadata": {},
   "outputs": [],
   "source": [
    "class Vector:\n",
    "    def __init__(self, x, y):\n",
    "        self.x = x\n",
    "        self.y = y\n",
    "    def __str__(self):\n",
    "        return f\"Vector({self.x}, {self.y})\"\n",
    "    def __add__(self, other):\n",
    "        x = self.x + other.x # 4 + (-1) -> 3\n",
    "        y = self.y + other.y # 5 + 3 -> 8\n",
    "        return Vector(x, y)"
   ]
  },
  {
   "cell_type": "code",
   "execution_count": 136,
   "id": "ba8cca05-c7ab-46b3-b668-8f8e08a5a216",
   "metadata": {},
   "outputs": [],
   "source": [
    "v1 = Vector(4, 5)\n",
    "v2 = Vector(-1, 3)"
   ]
  },
  {
   "cell_type": "code",
   "execution_count": 137,
   "id": "5654ac07-c943-4434-9af3-6678816fad1c",
   "metadata": {},
   "outputs": [
    {
     "name": "stdout",
     "output_type": "stream",
     "text": [
      "Vector(4, 5)\n",
      "Vector(-1, 3)\n"
     ]
    }
   ],
   "source": [
    "print(v1)\n",
    "print(v2)"
   ]
  },
  {
   "cell_type": "code",
   "execution_count": 141,
   "id": "5757bdee-c9e6-43a6-822f-2d6de244807f",
   "metadata": {},
   "outputs": [
    {
     "name": "stdout",
     "output_type": "stream",
     "text": [
      "Vector(4, 5)\n",
      "Vector(-1, 3)\n",
      "Vector(3, 8)\n"
     ]
    }
   ],
   "source": [
    "v3 = v1 + v2\n",
    "print(v1)\n",
    "print(v2)\n",
    "print(v3)"
   ]
  },
  {
   "cell_type": "markdown",
   "id": "68ec412b-700e-4ab2-8c31-494f20272407",
   "metadata": {},
   "source": [
    "### Encapsulation\n",
    "\n",
    "    binding data and functions together in a single scope known as class "
   ]
  },
  {
   "cell_type": "code",
   "execution_count": 142,
   "id": "88d40752-04c7-4669-bb50-a6ad2edecb0e",
   "metadata": {},
   "outputs": [
    {
     "name": "stdout",
     "output_type": "stream",
     "text": [
      "hello world\n"
     ]
    }
   ],
   "source": [
    "print('hello world')"
   ]
  },
  {
   "cell_type": "markdown",
   "id": "13f4aa30-6914-4828-a476-c580036dd1e6",
   "metadata": {},
   "source": [
    "### Abstraction\n",
    "\n",
    "    Hiding Implementaiton details while showing essential information\n",
    "\n",
    "        private    \n",
    "        protected\n",
    "        public"
   ]
  },
  {
   "cell_type": "markdown",
   "id": "9e157db6-12fd-409f-b2f9-769db0d6e34f",
   "metadata": {},
   "source": [
    "    __var - private variables"
   ]
  },
  {
   "cell_type": "code",
   "execution_count": 147,
   "id": "db2b872e-36b9-403e-a300-f92a600087f7",
   "metadata": {},
   "outputs": [],
   "source": [
    "class Person:\n",
    "    def __init__(self, name):\n",
    "        self.__name = name.strip().title()\n",
    "        # __var -> private\n",
    "    def __str__(self):\n",
    "        return self.__name"
   ]
  },
  {
   "cell_type": "code",
   "execution_count": 148,
   "id": "069aebda-5b75-451c-80f9-d83d6e4b910b",
   "metadata": {},
   "outputs": [],
   "source": [
    "p1 = Person(\"sachin yadav\") # global "
   ]
  },
  {
   "cell_type": "code",
   "execution_count": 149,
   "id": "f79082f5-b514-4599-9855-1932da86ddb5",
   "metadata": {},
   "outputs": [
    {
     "name": "stdout",
     "output_type": "stream",
     "text": [
      "Sachin Yadav\n"
     ]
    }
   ],
   "source": [
    "print(p1)"
   ]
  },
  {
   "cell_type": "markdown",
   "id": "73417b9b-8099-46c2-98a7-1f0c9b7c652f",
   "metadata": {},
   "source": [
    "`Name Mangling`"
   ]
  },
  {
   "cell_type": "code",
   "execution_count": 150,
   "id": "5fa5ce94-4e9b-47f3-8540-026f6ddd6599",
   "metadata": {},
   "outputs": [
    {
     "ename": "AttributeError",
     "evalue": "'Person' object has no attribute '__name'",
     "output_type": "error",
     "traceback": [
      "\u001b[0;31m---------------------------------------------------------------------------\u001b[0m",
      "\u001b[0;31mAttributeError\u001b[0m                            Traceback (most recent call last)",
      "Cell \u001b[0;32mIn[150], line 1\u001b[0m\n\u001b[0;32m----> 1\u001b[0m p1\u001b[38;5;241m.\u001b[39m__name\n",
      "\u001b[0;31mAttributeError\u001b[0m: 'Person' object has no attribute '__name'"
     ]
    }
   ],
   "source": [
    "p1.__name # ? direct public access denied "
   ]
  },
  {
   "cell_type": "code",
   "execution_count": null,
   "id": "afc0d382-c1fd-4d17-b00d-d1522be41d93",
   "metadata": {},
   "outputs": [],
   "source": []
  }
 ],
 "metadata": {
  "kernelspec": {
   "display_name": "Python [conda env:base] *",
   "language": "python",
   "name": "conda-base-py"
  },
  "language_info": {
   "codemirror_mode": {
    "name": "ipython",
    "version": 3
   },
   "file_extension": ".py",
   "mimetype": "text/x-python",
   "name": "python",
   "nbconvert_exporter": "python",
   "pygments_lexer": "ipython3",
   "version": "3.12.7"
  }
 },
 "nbformat": 4,
 "nbformat_minor": 5
}
