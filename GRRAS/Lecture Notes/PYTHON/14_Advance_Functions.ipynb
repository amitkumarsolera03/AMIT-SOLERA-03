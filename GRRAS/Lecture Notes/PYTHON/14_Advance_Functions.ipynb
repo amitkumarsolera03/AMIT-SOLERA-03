{
 "cells": [
  {
   "cell_type": "markdown",
   "id": "8f67eb00-f30f-4171-ac7f-3de024066af0",
   "metadata": {},
   "source": [
    "## Functions \n",
    "\n",
    "    type of arguments\n",
    "\n",
    "    scope\n",
    "\n",
    "    recursion \n",
    "    \n",
    "    generator\n",
    "\n",
    "    closure and decorts "
   ]
  },
  {
   "cell_type": "markdown",
   "id": "4266b362-c061-4c08-8bd1-33945882f425",
   "metadata": {},
   "source": [
    "    function ia a package of code invoke by name"
   ]
  },
  {
   "cell_type": "code",
   "execution_count": 1,
   "id": "fbddb52f-3087-483b-9c07-a6af9c330c60",
   "metadata": {},
   "outputs": [],
   "source": [
    "def func(arg1, arg2):\n",
    "    print('arg1 ', arg1)\n",
    "    print('arg2 ', arg2)\n",
    "    return arg1 + arg2"
   ]
  },
  {
   "cell_type": "code",
   "execution_count": 2,
   "id": "99cef55c-f9db-4a3c-ad43-0d5de4102f5c",
   "metadata": {},
   "outputs": [
    {
     "name": "stdout",
     "output_type": "stream",
     "text": [
      "arg1  hello\n",
      "arg2  world\n"
     ]
    }
   ],
   "source": [
    "value = func(\"hello\", \"world\")\n",
    "# arg1  hello\n",
    "# arg2  world"
   ]
  },
  {
   "cell_type": "code",
   "execution_count": 3,
   "id": "777e942b-5f79-4e04-8377-def5b7f48553",
   "metadata": {},
   "outputs": [
    {
     "name": "stdout",
     "output_type": "stream",
     "text": [
      "helloworld\n"
     ]
    }
   ],
   "source": [
    "print(value)"
   ]
  },
  {
   "cell_type": "markdown",
   "id": "cd518763-af1c-467f-86d3-0a73be740ded",
   "metadata": {},
   "source": [
    "### Type of arguments in function\n",
    "\n",
    "    1. Positional Arguments  - def func(arg1, arg2, ...): pass\n",
    "    2. Keyword Arguments / Default Arguments - def func(arg1=10): pass \n",
    "    3. Variable length positional arguments - def func(*args): pass\n",
    "    4. Variable length keyword arguments - def func(**kwargs): pass"
   ]
  },
  {
   "cell_type": "code",
   "execution_count": 4,
   "id": "31e00860-6102-40fe-ad25-7ab3497adafa",
   "metadata": {},
   "outputs": [],
   "source": [
    "def func(arg1, arg2):\n",
    "    pass"
   ]
  },
  {
   "cell_type": "code",
   "execution_count": 5,
   "id": "2f6c18cb-e31b-402d-92d1-29a56543ea7d",
   "metadata": {},
   "outputs": [],
   "source": [
    "func(1, 2) # -> func(arg1=1, arg=2)"
   ]
  },
  {
   "cell_type": "code",
   "execution_count": 8,
   "id": "81bf3a0d-57eb-4e61-be58-d685690e6f05",
   "metadata": {},
   "outputs": [
    {
     "ename": "TypeError",
     "evalue": "func() takes 2 positional arguments but 3 were given",
     "output_type": "error",
     "traceback": [
      "\u001b[0;31m---------------------------------------------------------------------------\u001b[0m",
      "\u001b[0;31mTypeError\u001b[0m                                 Traceback (most recent call last)",
      "Cell \u001b[0;32mIn[8], line 1\u001b[0m\n\u001b[0;32m----> 1\u001b[0m func(\u001b[38;5;241m1\u001b[39m, \u001b[38;5;241m2\u001b[39m, \u001b[38;5;241m3\u001b[39m)\n",
      "\u001b[0;31mTypeError\u001b[0m: func() takes 2 positional arguments but 3 were given"
     ]
    }
   ],
   "source": [
    "func(1, 2, 3)"
   ]
  },
  {
   "cell_type": "code",
   "execution_count": 11,
   "id": "c0489278-4217-46e0-a765-05d84b13bc17",
   "metadata": {},
   "outputs": [],
   "source": [
    "#        0, 1, 2\n",
    "def func(a, b, c):\n",
    "    print(f\"value of a = {a}\")\n",
    "    print(f\"value of b = {b}\")\n",
    "    print(f\"value of c = {c}\")\n",
    "    "
   ]
  },
  {
   "cell_type": "code",
   "execution_count": 12,
   "id": "98eaf36d-985d-4e43-9ad6-fd765b1c3ccd",
   "metadata": {},
   "outputs": [
    {
     "name": "stdout",
     "output_type": "stream",
     "text": [
      "value of a = 1\n",
      "value of b = 2\n",
      "value of c = 3\n"
     ]
    }
   ],
   "source": [
    "#     0, 1, 2\n",
    "func(1, 2, 3)"
   ]
  },
  {
   "cell_type": "code",
   "execution_count": 13,
   "id": "c273d7f3-f9e3-436a-92cb-2df18b72483a",
   "metadata": {},
   "outputs": [
    {
     "name": "stdout",
     "output_type": "stream",
     "text": [
      "value of a = 1\n",
      "value of b = 2\n",
      "value of c = 3\n"
     ]
    }
   ],
   "source": [
    "func(1, 2, c=3) # "
   ]
  },
  {
   "cell_type": "code",
   "execution_count": 15,
   "id": "f75ff1f5-5dce-4cb2-994c-e1420070131b",
   "metadata": {},
   "outputs": [
    {
     "ename": "TypeError",
     "evalue": "func() got multiple values for argument 'b'",
     "output_type": "error",
     "traceback": [
      "\u001b[0;31m---------------------------------------------------------------------------\u001b[0m",
      "\u001b[0;31mTypeError\u001b[0m                                 Traceback (most recent call last)",
      "Cell \u001b[0;32mIn[15], line 1\u001b[0m\n\u001b[0;32m----> 1\u001b[0m func(\u001b[38;5;241m1\u001b[39m, \u001b[38;5;241m3\u001b[39m, b\u001b[38;5;241m=\u001b[39m\u001b[38;5;241m2\u001b[39m)\n",
      "\u001b[0;31mTypeError\u001b[0m: func() got multiple values for argument 'b'"
     ]
    }
   ],
   "source": [
    "func(1, 3, b=2) # ? "
   ]
  },
  {
   "cell_type": "code",
   "execution_count": 14,
   "id": "38186e34-f86a-42dc-a681-fc79d39ee33e",
   "metadata": {},
   "outputs": [
    {
     "ename": "SyntaxError",
     "evalue": "positional argument follows keyword argument (47005182.py, line 2)",
     "output_type": "error",
     "traceback": [
      "\u001b[0;36m  Cell \u001b[0;32mIn[14], line 2\u001b[0;36m\u001b[0m\n\u001b[0;31m    func(1, c=3, 5)\u001b[0m\n\u001b[0m                  ^\u001b[0m\n\u001b[0;31mSyntaxError\u001b[0m\u001b[0;31m:\u001b[0m positional argument follows keyword argument\n"
     ]
    }
   ],
   "source": [
    "#    0, ?, ???  syntax keyword arugment should not follow positional argument\n",
    "func(1, c=3, 5) "
   ]
  },
  {
   "cell_type": "markdown",
   "id": "0b845bcc-e597-4825-891d-d081b9dcc81d",
   "metadata": {},
   "source": [
    "## keyword arugments\n",
    "\n",
    "    Default Arguments"
   ]
  },
  {
   "cell_type": "code",
   "execution_count": 27,
   "id": "18e62552-30d2-4542-b17a-78a4465548b8",
   "metadata": {},
   "outputs": [],
   "source": [
    "def square_sum(nums, sum_=0):\n",
    "    for value in nums:\n",
    "        sum_ += value**2\n",
    "    return sum_"
   ]
  },
  {
   "cell_type": "code",
   "execution_count": 28,
   "id": "44e42c25-b061-4e47-b475-3151ce99d8b0",
   "metadata": {},
   "outputs": [],
   "source": [
    "n1 = [1, 2, 3, 4]\n",
    "n2 = [5, 6, 7, 8]"
   ]
  },
  {
   "cell_type": "code",
   "execution_count": 29,
   "id": "caccb1da-8b2f-4a15-ac81-9962efad7b0f",
   "metadata": {},
   "outputs": [
    {
     "name": "stdout",
     "output_type": "stream",
     "text": [
      "30\n"
     ]
    }
   ],
   "source": [
    "r1 = square_sum(n1)\n",
    "print(r1)"
   ]
  },
  {
   "cell_type": "code",
   "execution_count": 30,
   "id": "de3c9735-de08-40cd-a039-1d6504f88c87",
   "metadata": {},
   "outputs": [
    {
     "name": "stdout",
     "output_type": "stream",
     "text": [
      "204\n"
     ]
    }
   ],
   "source": [
    "r2 = square_sum(n2, sum_=r1)\n",
    "print(r2)"
   ]
  },
  {
   "cell_type": "code",
   "execution_count": 31,
   "id": "13131fb5-6d28-4c1b-8297-da69aadda1a1",
   "metadata": {},
   "outputs": [
    {
     "name": "stdout",
     "output_type": "stream",
     "text": [
      "204\n"
     ]
    }
   ],
   "source": [
    "print(square_sum(range(1, 9)))"
   ]
  },
  {
   "cell_type": "code",
   "execution_count": 18,
   "id": "f2fcfd40-cad9-45fa-942d-d560ee1aeb9b",
   "metadata": {},
   "outputs": [],
   "source": [
    "def func(x, y=10):\n",
    "    \"\"\"\n",
    "        x positional argument which will be required at the calling of function\n",
    "        y default keyword argument which is optional to pass at the calling of function\n",
    "    \"\"\"\n",
    "    print('value of x : ', x)\n",
    "    print('value of y : ', y)\n",
    "    return x + y"
   ]
  },
  {
   "cell_type": "code",
   "execution_count": 23,
   "id": "aff3ee90-ee17-4430-a6ad-b3092dd456c2",
   "metadata": {},
   "outputs": [
    {
     "name": "stdout",
     "output_type": "stream",
     "text": [
      "value of x :  30\n",
      "value of y :  20\n",
      "50\n"
     ]
    }
   ],
   "source": [
    "res = func(y=20, x=30)\n",
    "print(res)"
   ]
  },
  {
   "cell_type": "code",
   "execution_count": 22,
   "id": "3eb5fd21-eed0-431a-a76e-e6488a7a64a9",
   "metadata": {},
   "outputs": [
    {
     "name": "stdout",
     "output_type": "stream",
     "text": [
      "value of x :  10\n",
      "value of y :  20\n",
      "30\n"
     ]
    }
   ],
   "source": [
    "res = func(10, y=20)\n",
    "print(res)"
   ]
  },
  {
   "cell_type": "code",
   "execution_count": 20,
   "id": "bd2d2e8c-48fd-48d6-9e83-877869b0e5f2",
   "metadata": {},
   "outputs": [
    {
     "name": "stdout",
     "output_type": "stream",
     "text": [
      "value of x :  5\n",
      "value of y :  25\n",
      "result :  30\n"
     ]
    }
   ],
   "source": [
    "#     func(x, y=10)\n",
    "res = func(5, 25)\n",
    "print('result : ', res)"
   ]
  },
  {
   "cell_type": "code",
   "execution_count": 19,
   "id": "979ee5ee-28e0-419b-8661-9667b4f13a43",
   "metadata": {},
   "outputs": [
    {
     "name": "stdout",
     "output_type": "stream",
     "text": [
      "value of x :  10\n",
      "value of y :  10\n",
      "result :  20\n"
     ]
    }
   ],
   "source": [
    "#     func(x, y=10)\n",
    "res = func(10)\n",
    "print('result : ', res)"
   ]
  },
  {
   "cell_type": "markdown",
   "id": "a5dacb84-7aff-45b2-9717-c6e6a450176a",
   "metadata": {},
   "source": [
    "### Variable Lenth positional arguments"
   ]
  },
  {
   "cell_type": "code",
   "execution_count": 32,
   "id": "2b965bc9-8f5e-4eda-86f3-67a22d5af0c7",
   "metadata": {},
   "outputs": [],
   "source": [
    "def add(x, y):\n",
    "    return x + y"
   ]
  },
  {
   "cell_type": "code",
   "execution_count": 34,
   "id": "a64da8ce-f996-49e2-8d8a-b54963b3dd1d",
   "metadata": {},
   "outputs": [
    {
     "ename": "TypeError",
     "evalue": "add() takes 2 positional arguments but 6 were given",
     "output_type": "error",
     "traceback": [
      "\u001b[0;31m---------------------------------------------------------------------------\u001b[0m",
      "\u001b[0;31mTypeError\u001b[0m                                 Traceback (most recent call last)",
      "Cell \u001b[0;32mIn[34], line 1\u001b[0m\n\u001b[0;32m----> 1\u001b[0m add(\u001b[38;5;241m1\u001b[39m, \u001b[38;5;241m2\u001b[39m, \u001b[38;5;241m3\u001b[39m, \u001b[38;5;241m4\u001b[39m, \u001b[38;5;241m5\u001b[39m, \u001b[38;5;241m6\u001b[39m)\n",
      "\u001b[0;31mTypeError\u001b[0m: add() takes 2 positional arguments but 6 were given"
     ]
    }
   ],
   "source": [
    "add(1, 2, 3, 4, 5, 6) # ?"
   ]
  },
  {
   "cell_type": "code",
   "execution_count": 35,
   "id": "521df8ba-8ad9-49ea-8797-b1b5e7d66e7e",
   "metadata": {},
   "outputs": [
    {
     "data": {
      "text/plain": [
       "(1, 2, 3)"
      ]
     },
     "execution_count": 35,
     "metadata": {},
     "output_type": "execute_result"
    }
   ],
   "source": [
    "1, 2, 3"
   ]
  },
  {
   "cell_type": "code",
   "execution_count": 38,
   "id": "9859d5ae-ba2d-45fe-a3a0-41cba37da69b",
   "metadata": {},
   "outputs": [],
   "source": [
    "def add(*args):\n",
    "    \"\"\"\n",
    "        *args : it accepts multiple values comma seprated and store them as a tuple in variable args\n",
    "\n",
    "        *args packs multiple positional arguments given to a function into a tuple named as args\n",
    "    \"\"\"\n",
    "    print(args, type(args))"
   ]
  },
  {
   "cell_type": "code",
   "execution_count": 46,
   "id": "34e33da6-477c-4d61-9986-6a2dfee149ca",
   "metadata": {},
   "outputs": [
    {
     "name": "stdout",
     "output_type": "stream",
     "text": [
      "(1, 2, 3, 4) <class 'tuple'>\n"
     ]
    }
   ],
   "source": [
    "add(1, 2, 3, 4)"
   ]
  },
  {
   "cell_type": "code",
   "execution_count": 47,
   "id": "e9b6cc2d-b0f6-47ea-8426-1eee081314f6",
   "metadata": {},
   "outputs": [
    {
     "ename": "TypeError",
     "evalue": "add() got an unexpected keyword argument 'args'",
     "output_type": "error",
     "traceback": [
      "\u001b[0;31m---------------------------------------------------------------------------\u001b[0m",
      "\u001b[0;31mTypeError\u001b[0m                                 Traceback (most recent call last)",
      "Cell \u001b[0;32mIn[47], line 1\u001b[0m\n\u001b[0;32m----> 1\u001b[0m add(args\u001b[38;5;241m=\u001b[39m(\u001b[38;5;241m1\u001b[39m, \u001b[38;5;241m2\u001b[39m, \u001b[38;5;241m3\u001b[39m, \u001b[38;5;241m4\u001b[39m))\n",
      "\u001b[0;31mTypeError\u001b[0m: add() got an unexpected keyword argument 'args'"
     ]
    }
   ],
   "source": [
    "add(args=(1, 2, 3, 4))"
   ]
  },
  {
   "cell_type": "code",
   "execution_count": 48,
   "id": "8f05a628-d2ca-4ae8-95b7-a740ba847bea",
   "metadata": {},
   "outputs": [
    {
     "ename": "TypeError",
     "evalue": "add() got an unexpected keyword argument 'a'",
     "output_type": "error",
     "traceback": [
      "\u001b[0;31m---------------------------------------------------------------------------\u001b[0m",
      "\u001b[0;31mTypeError\u001b[0m                                 Traceback (most recent call last)",
      "Cell \u001b[0;32mIn[48], line 1\u001b[0m\n\u001b[0;32m----> 1\u001b[0m add(\u001b[38;5;241m1\u001b[39m, \u001b[38;5;241m2\u001b[39m, \u001b[38;5;241m3\u001b[39m, a\u001b[38;5;241m=\u001b[39m\u001b[38;5;241m10\u001b[39m)\n",
      "\u001b[0;31mTypeError\u001b[0m: add() got an unexpected keyword argument 'a'"
     ]
    }
   ],
   "source": [
    "add(1, 2, 3, a=10)"
   ]
  },
  {
   "cell_type": "code",
   "execution_count": 49,
   "id": "a484d77b-6a0c-42c7-9950-45bf7e09d9ab",
   "metadata": {},
   "outputs": [
    {
     "name": "stdout",
     "output_type": "stream",
     "text": [
      "('hello', 'hi', 1, 2, 3) <class 'tuple'>\n"
     ]
    }
   ],
   "source": [
    "add('hello', 'hi', 1, 2, 3)"
   ]
  },
  {
   "cell_type": "code",
   "execution_count": 50,
   "id": "974327d1-c228-4505-ad66-f865b1fe1db1",
   "metadata": {},
   "outputs": [
    {
     "name": "stdout",
     "output_type": "stream",
     "text": [
      "(1, 2, 3, 4, 5, 6, 7, 8, 9, 10) <class 'tuple'>\n"
     ]
    }
   ],
   "source": [
    "add(1, 2, 3, 4, 5, 6, 7, 8, 9, 10)"
   ]
  },
  {
   "cell_type": "code",
   "execution_count": 41,
   "id": "f79679e8-a4ee-4d64-bd50-b357bcdbb343",
   "metadata": {},
   "outputs": [
    {
     "name": "stdout",
     "output_type": "stream",
     "text": [
      "(1, 2, 3) <class 'tuple'>\n"
     ]
    }
   ],
   "source": [
    "add(1, 2, 3)"
   ]
  },
  {
   "cell_type": "code",
   "execution_count": 40,
   "id": "b5f2eba0-ad12-4ed2-acf5-2032067d33c1",
   "metadata": {},
   "outputs": [
    {
     "name": "stdout",
     "output_type": "stream",
     "text": [
      "(1,) <class 'tuple'>\n"
     ]
    }
   ],
   "source": [
    "add(1)"
   ]
  },
  {
   "cell_type": "code",
   "execution_count": 39,
   "id": "6b8ef120-4b3b-4672-af67-4ede09bbe26e",
   "metadata": {},
   "outputs": [
    {
     "name": "stdout",
     "output_type": "stream",
     "text": [
      "() <class 'tuple'>\n"
     ]
    }
   ],
   "source": [
    "add() # nothing ? "
   ]
  },
  {
   "cell_type": "code",
   "execution_count": 51,
   "id": "f51dc84c-19fc-4ad4-a497-f322283ed95e",
   "metadata": {},
   "outputs": [],
   "source": [
    "def add(*vals):\n",
    "    # vals = (arg1, arg2, ....)\n",
    "    return sum(vals)"
   ]
  },
  {
   "cell_type": "code",
   "execution_count": 52,
   "id": "2c67f11a-062a-4d58-817b-9d4ea43eadda",
   "metadata": {},
   "outputs": [
    {
     "data": {
      "text/plain": [
       "3"
      ]
     },
     "execution_count": 52,
     "metadata": {},
     "output_type": "execute_result"
    }
   ],
   "source": [
    "add(1, 2)"
   ]
  },
  {
   "cell_type": "code",
   "execution_count": 53,
   "id": "220e1aa7-db0e-487e-aa5e-fa7db50b204d",
   "metadata": {},
   "outputs": [
    {
     "data": {
      "text/plain": [
       "0"
      ]
     },
     "execution_count": 53,
     "metadata": {},
     "output_type": "execute_result"
    }
   ],
   "source": [
    "add()"
   ]
  },
  {
   "cell_type": "code",
   "execution_count": 54,
   "id": "dd8205f3-aec0-44b0-8190-4048e1ede372",
   "metadata": {},
   "outputs": [
    {
     "data": {
      "text/plain": [
       "1"
      ]
     },
     "execution_count": 54,
     "metadata": {},
     "output_type": "execute_result"
    }
   ],
   "source": [
    "add(1)"
   ]
  },
  {
   "cell_type": "code",
   "execution_count": 55,
   "id": "de096b2e-7877-453b-b9f7-8926aef92687",
   "metadata": {},
   "outputs": [
    {
     "data": {
      "text/plain": [
       "3"
      ]
     },
     "execution_count": 55,
     "metadata": {},
     "output_type": "execute_result"
    }
   ],
   "source": [
    "add(1, 2)"
   ]
  },
  {
   "cell_type": "code",
   "execution_count": 56,
   "id": "bac30d1e-1c70-430b-9c7a-29550448a074",
   "metadata": {},
   "outputs": [
    {
     "data": {
      "text/plain": [
       "10"
      ]
     },
     "execution_count": 56,
     "metadata": {},
     "output_type": "execute_result"
    }
   ],
   "source": [
    "add(1, 2, 3, 4)"
   ]
  },
  {
   "cell_type": "code",
   "execution_count": 59,
   "id": "5c583c44-82e6-4060-b900-510a908c37e3",
   "metadata": {},
   "outputs": [
    {
     "data": {
      "text/plain": [
       "10"
      ]
     },
     "execution_count": 59,
     "metadata": {},
     "output_type": "execute_result"
    }
   ],
   "source": [
    "add(*[1, 2, 3, 4])\n",
    "\n",
    "# function calling print(*values) - we are unpacking values\n",
    "# function defination def add(*values) - we are packing values into a tuple"
   ]
  },
  {
   "cell_type": "code",
   "execution_count": 58,
   "id": "e4d0b8e2-ec14-4aa2-a629-9afab01ecda7",
   "metadata": {},
   "outputs": [
    {
     "ename": "TypeError",
     "evalue": "unsupported operand type(s) for +: 'int' and 'list'",
     "output_type": "error",
     "traceback": [
      "\u001b[0;31m---------------------------------------------------------------------------\u001b[0m",
      "\u001b[0;31mTypeError\u001b[0m                                 Traceback (most recent call last)",
      "Cell \u001b[0;32mIn[58], line 1\u001b[0m\n\u001b[0;32m----> 1\u001b[0m add([\u001b[38;5;241m1\u001b[39m, \u001b[38;5;241m2\u001b[39m, \u001b[38;5;241m3\u001b[39m, \u001b[38;5;241m4\u001b[39m])\n",
      "Cell \u001b[0;32mIn[51], line 3\u001b[0m, in \u001b[0;36madd\u001b[0;34m(*vals)\u001b[0m\n\u001b[1;32m      1\u001b[0m \u001b[38;5;28;01mdef\u001b[39;00m \u001b[38;5;21madd\u001b[39m(\u001b[38;5;241m*\u001b[39mvals):\n\u001b[1;32m      2\u001b[0m     \u001b[38;5;66;03m# vals = (arg1, arg2, ....)\u001b[39;00m\n\u001b[0;32m----> 3\u001b[0m     \u001b[38;5;28;01mreturn\u001b[39;00m \u001b[38;5;28msum\u001b[39m(vals)\n",
      "\u001b[0;31mTypeError\u001b[0m: unsupported operand type(s) for +: 'int' and 'list'"
     ]
    }
   ],
   "source": [
    "add([1, 2, 3, 4]) # vals=( [1, 2, 3, 4], )"
   ]
  },
  {
   "cell_type": "code",
   "execution_count": 62,
   "id": "8c59a079-7411-4193-acf2-0aa7f751eac5",
   "metadata": {},
   "outputs": [],
   "source": [
    "def sq_sum(*args, sum_=0):\n",
    "    \"\"\"\n",
    "        return square sum of all values in args tuple\n",
    "    \"\"\"\n",
    "    for val in args:\n",
    "        sum_ += val**2\n",
    "    return sum_"
   ]
  },
  {
   "cell_type": "code",
   "execution_count": 63,
   "id": "67662354-49da-4f23-a9e9-f38dd95e4efd",
   "metadata": {},
   "outputs": [
    {
     "name": "stdout",
     "output_type": "stream",
     "text": [
      "55\n"
     ]
    }
   ],
   "source": [
    "res = sq_sum(1, 2, 3, 4, 5)\n",
    "\n",
    "print(res) # 55"
   ]
  },
  {
   "cell_type": "code",
   "execution_count": 64,
   "id": "ca4278bc-9c0b-4e97-bf97-a988da24bef4",
   "metadata": {},
   "outputs": [],
   "source": [
    "res = sq_sum(*[6, 7, 8, 9, 10], sum_=res)"
   ]
  },
  {
   "cell_type": "code",
   "execution_count": 65,
   "id": "6c7212be-4b3a-49db-b007-a53623b34233",
   "metadata": {},
   "outputs": [
    {
     "name": "stdout",
     "output_type": "stream",
     "text": [
      "385\n"
     ]
    }
   ],
   "source": [
    "print(res)"
   ]
  },
  {
   "cell_type": "code",
   "execution_count": 66,
   "id": "c979e554-94e3-439e-86f8-9b63c796cdd9",
   "metadata": {},
   "outputs": [
    {
     "name": "stdout",
     "output_type": "stream",
     "text": [
      "385\n"
     ]
    }
   ],
   "source": [
    "res = sq_sum(*range(1, 10), sum_=100)\n",
    "# res = sq_sum(1, 2, 3, 4, 5, 6, 7, 8, 9, sum_=100)\n",
    "print(res)"
   ]
  },
  {
   "cell_type": "code",
   "execution_count": 69,
   "id": "9e22e146-8ae0-42fa-94f7-1ca505e9ba3b",
   "metadata": {},
   "outputs": [
    {
     "name": "stdout",
     "output_type": "stream",
     "text": [
      "Help on built-in function print in module builtins:\n",
      "\n",
      "print(*args, sep=' ', end='\\n', file=None, flush=False)\n",
      "    Prints the values to a stream, or to sys.stdout by default.\n",
      "\n",
      "    sep\n",
      "      string inserted between values, default a space.\n",
      "    end\n",
      "      string appended after the last value, default a newline.\n",
      "    file\n",
      "      a file-like object (stream); defaults to the current sys.stdout.\n",
      "    flush\n",
      "      whether to forcibly flush the stream.\n",
      "\n"
     ]
    }
   ],
   "source": [
    "help(print)"
   ]
  },
  {
   "cell_type": "code",
   "execution_count": 67,
   "id": "5adad7fa-2177-4ffb-9dcd-c7b11b9b2404",
   "metadata": {},
   "outputs": [],
   "source": [
    "import sys"
   ]
  },
  {
   "cell_type": "code",
   "execution_count": 68,
   "id": "2a4d8526-1823-40f5-98c3-2abe3ab08509",
   "metadata": {},
   "outputs": [
    {
     "name": "stdout",
     "output_type": "stream",
     "text": [
      "hello world! this function is used to print on defalut stadard output"
     ]
    },
    {
     "data": {
      "text/plain": [
       "56"
      ]
     },
     "execution_count": 68,
     "metadata": {},
     "output_type": "execute_result"
    }
   ],
   "source": [
    "sys.stdout.write(\"hello world! \")\n",
    "sys.stdout.write(\"this function is used to print on defalut stadard output\")"
   ]
  },
  {
   "cell_type": "code",
   "execution_count": 70,
   "id": "2c780940-57d7-4af5-82fd-e92c6d653234",
   "metadata": {},
   "outputs": [],
   "source": [
    "def myprint(*objs, sep=\" \", end=\"\\n\"):\n",
    "    # objs = (list, int, float, dict, ... )\n",
    "    objs = [ str(obj) for obj in objs ] # [ obj.__str__() for obj in objs ]\n",
    "    res = sep.join(objs) + end\n",
    "    sys.stdout.write(res)"
   ]
  },
  {
   "cell_type": "code",
   "execution_count": 71,
   "id": "29f63ecc-d92d-4ff4-b90f-93a231b0ff5d",
   "metadata": {},
   "outputs": [
    {
     "name": "stdout",
     "output_type": "stream",
     "text": [
      "hello hi bye\n",
      "hello hi bye\n"
     ]
    }
   ],
   "source": [
    "print('hello', 'hi', 'bye')\n",
    "myprint('hello', 'hi', 'bye')"
   ]
  },
  {
   "cell_type": "code",
   "execution_count": 72,
   "id": "51db89bd-f271-461b-a274-1ef8468410e3",
   "metadata": {},
   "outputs": [
    {
     "name": "stdout",
     "output_type": "stream",
     "text": [
      "1\n",
      "['hi', 'bye']\n",
      "2\n",
      "3\n"
     ]
    }
   ],
   "source": [
    "print(*[1, ['hi', 'bye'], 2, 3], sep='\\n')"
   ]
  },
  {
   "cell_type": "code",
   "execution_count": 73,
   "id": "91a17ea7-287c-4190-9402-59e523e7d6fa",
   "metadata": {},
   "outputs": [
    {
     "name": "stdout",
     "output_type": "stream",
     "text": [
      "1\n",
      "['hi', 'bye']\n",
      "2\n",
      "3\n"
     ]
    }
   ],
   "source": [
    "myprint(*[1, ['hi', 'bye'], 2, 3], sep='\\n')"
   ]
  },
  {
   "cell_type": "code",
   "execution_count": 74,
   "id": "cacfd7a5-965e-40be-a805-1a55d6db503c",
   "metadata": {},
   "outputs": [
    {
     "data": {
      "text/plain": [
       "'hello hi'"
      ]
     },
     "execution_count": 74,
     "metadata": {},
     "output_type": "execute_result"
    }
   ],
   "source": [
    "\" \".join(['hello', 'hi'])"
   ]
  },
  {
   "cell_type": "code",
   "execution_count": 75,
   "id": "052060ca-e5a6-41f8-bb4b-b0b81513f245",
   "metadata": {},
   "outputs": [
    {
     "data": {
      "text/plain": [
       "'a-b-c-d'"
      ]
     },
     "execution_count": 75,
     "metadata": {},
     "output_type": "execute_result"
    }
   ],
   "source": [
    "\"-\".join('abcd')"
   ]
  },
  {
   "cell_type": "code",
   "execution_count": 76,
   "id": "e33f90e7-f13c-4e16-b641-09ffb92d72f9",
   "metadata": {},
   "outputs": [
    {
     "name": "stdout",
     "output_type": "stream",
     "text": [
      "hello\thi\tbye\t1\t2\t3\n"
     ]
    }
   ],
   "source": [
    "def myprint(*objs, sep=\" \", end=\"\\n\"):\n",
    "    # objs = ('hello', 'hi', 'bye', 1, 2, 3), sep='\\t', end='\\n'\n",
    "    objs = [ str(obj) for obj in objs ]\n",
    "    # objs = [ 'hello', 'hi', 'bye', '1', '2', '3' ]\n",
    "    res = sep.join(objs) + end\n",
    "    # res = '\\t'.join(['hello', 'hi', 'bye', '1', '2', '3' ]) + '\\n'\n",
    "    # res = \"hello\\thi\\tbye\\t1\\t2\\t3\\n\"\n",
    "    sys.stdout.write(res)\n",
    "\n",
    "print('hello', 'hi', 'bye', 1, 2, 3, sep='\\t')"
   ]
  },
  {
   "cell_type": "markdown",
   "id": "d71ef740-e6a6-4ded-a492-b9517f58955d",
   "metadata": {},
   "source": [
    "## variable length keyword arguments"
   ]
  },
  {
   "cell_type": "code",
   "execution_count": 78,
   "id": "4b8aebba-14d7-4400-8396-72ed8ba2d337",
   "metadata": {},
   "outputs": [],
   "source": [
    "def func(**kwargs):\n",
    "    \"\"\"\n",
    "        **kwargs become a dictionary which will combine keyword arguments\n",
    "    \"\"\"\n",
    "    print(kwargs, type(kwargs))\n",
    "    "
   ]
  },
  {
   "cell_type": "code",
   "execution_count": 82,
   "id": "7413a65c-b556-4b2b-80f6-a84838700d4f",
   "metadata": {},
   "outputs": [
    {
     "name": "stdout",
     "output_type": "stream",
     "text": [
      "{'name': 'sachin', 'age': 29, 'country': 'india'} <class 'dict'>\n"
     ]
    }
   ],
   "source": [
    "func(name='sachin', age=29, country='india')"
   ]
  },
  {
   "cell_type": "code",
   "execution_count": 81,
   "id": "6a05df1c-62d3-43dc-8800-2f0eeae10eae",
   "metadata": {},
   "outputs": [
    {
     "name": "stdout",
     "output_type": "stream",
     "text": [
      "{'x': 10, 'y': 20} <class 'dict'>\n"
     ]
    }
   ],
   "source": [
    "func(x=10, y=20)"
   ]
  },
  {
   "cell_type": "code",
   "execution_count": 79,
   "id": "5850269e-3abf-44a7-bb33-894e8c6e803f",
   "metadata": {},
   "outputs": [
    {
     "name": "stdout",
     "output_type": "stream",
     "text": [
      "{} <class 'dict'>\n"
     ]
    }
   ],
   "source": [
    "func()"
   ]
  },
  {
   "cell_type": "code",
   "execution_count": 80,
   "id": "767e07d9-b348-40e3-b788-20128c777ead",
   "metadata": {},
   "outputs": [
    {
     "ename": "TypeError",
     "evalue": "func() takes 0 positional arguments but 3 were given",
     "output_type": "error",
     "traceback": [
      "\u001b[0;31m---------------------------------------------------------------------------\u001b[0m",
      "\u001b[0;31mTypeError\u001b[0m                                 Traceback (most recent call last)",
      "Cell \u001b[0;32mIn[80], line 1\u001b[0m\n\u001b[0;32m----> 1\u001b[0m func(\u001b[38;5;241m1\u001b[39m, \u001b[38;5;241m2\u001b[39m, \u001b[38;5;241m3\u001b[39m)\n",
      "\u001b[0;31mTypeError\u001b[0m: func() takes 0 positional arguments but 3 were given"
     ]
    }
   ],
   "source": [
    "func(1, 2, 3)"
   ]
  },
  {
   "cell_type": "code",
   "execution_count": 88,
   "id": "62c15dc6-6188-47b3-9431-e0c3e58294e7",
   "metadata": {},
   "outputs": [],
   "source": [
    "def func(pos, *args, sep='\\t', **kwargs):\n",
    "    print(\"positional: \", pos)\n",
    "    print(\"args : \", args)\n",
    "    print(\"default sep : \", repr(sep))\n",
    "    print(\"kwargs: \", kwargs)"
   ]
  },
  {
   "cell_type": "code",
   "execution_count": 92,
   "id": "04a85c3f-c345-43e3-95d9-426a47d9d0d4",
   "metadata": {},
   "outputs": [
    {
     "name": "stdout",
     "output_type": "stream",
     "text": [
      "positional:  1\n",
      "args :  (2, 3, 4)\n",
      "default sep :  ' '\n",
      "kwargs:  {'x': 10, 'y': 20}\n"
     ]
    }
   ],
   "source": [
    "func(1, 2, 3, 4, sep=\" \", x=10, y=20)"
   ]
  },
  {
   "cell_type": "code",
   "execution_count": 91,
   "id": "0ea87a69-7d80-4ace-a002-072afd26151e",
   "metadata": {},
   "outputs": [
    {
     "name": "stdout",
     "output_type": "stream",
     "text": [
      "positional:  1\n",
      "args :  (2, 3, 4, 5)\n",
      "default sep :  '\\n'\n",
      "kwargs:  {}\n"
     ]
    }
   ],
   "source": [
    "func(1, 2, 3, 4, 5, sep=\"\\n\")"
   ]
  },
  {
   "cell_type": "code",
   "execution_count": 90,
   "id": "aa52cbe7-ee0a-4e89-bdf9-a9d3341fe01a",
   "metadata": {},
   "outputs": [
    {
     "name": "stdout",
     "output_type": "stream",
     "text": [
      "positional:  10\n",
      "args :  (20, 30, 40)\n",
      "default sep :  '\\t'\n",
      "kwargs:  {}\n"
     ]
    }
   ],
   "source": [
    "func(10, 20, 30, 40)"
   ]
  },
  {
   "cell_type": "code",
   "execution_count": 93,
   "id": "6cc37e23-c358-44b6-bff9-403d833ef53a",
   "metadata": {},
   "outputs": [
    {
     "name": "stdout",
     "output_type": "stream",
     "text": [
      "positional:  10\n",
      "args :  ()\n",
      "default sep :  '\\t'\n",
      "kwargs:  {}\n"
     ]
    }
   ],
   "source": [
    "func(10)"
   ]
  },
  {
   "cell_type": "markdown",
   "id": "5f53aeaf-808d-41e9-b2e5-85c52f97a3a1",
   "metadata": {},
   "source": [
    "## Scope \n",
    "\n",
    "    visiblility "
   ]
  },
  {
   "cell_type": "markdown",
   "id": "8237b1e2-b89c-4747-8ade-f1141a9b5285",
   "metadata": {},
   "source": [
    "    GRRAS \n",
    "\n",
    "        5 - Labs 5 - class\n",
    "\n",
    "            single class --> Scope\n",
    "\n",
    "                variable \n",
    "                    trainer - sachin\n",
    "                    students - a, b, c, d, ..."
   ]
  },
  {
   "cell_type": "code",
   "execution_count": 94,
   "id": "ae6de41f-ea6c-4c6a-9c30-9f464cafcc32",
   "metadata": {},
   "outputs": [],
   "source": [
    "x = 10\n",
    "\n",
    "def func(x):\n",
    "    x += 20\n",
    "    print('inner value of x is ', x)"
   ]
  },
  {
   "cell_type": "code",
   "execution_count": 95,
   "id": "8659affe-5c3b-4efb-91e3-d5681741e0a7",
   "metadata": {},
   "outputs": [
    {
     "name": "stdout",
     "output_type": "stream",
     "text": [
      "before calling x is  10\n",
      "inner value of x is  30\n",
      "after calling x is  10\n"
     ]
    }
   ],
   "source": [
    "print('before calling x is ', x) # ? \n",
    "func(x)  # ? inner\n",
    "print('after calling x is ', x) # ?"
   ]
  },
  {
   "cell_type": "markdown",
   "id": "9c5e5497-f460-474e-9106-15a416305a8e",
   "metadata": {},
   "source": [
    "    each value of varaibles depends on it's scope "
   ]
  },
  {
   "cell_type": "code",
   "execution_count": 96,
   "id": "fdfbb74b-bef8-4aae-b9b3-1f99d2763d20",
   "metadata": {},
   "outputs": [],
   "source": [
    "x = [1 ,2, ]\n",
    "y = [1, 2]"
   ]
  },
  {
   "cell_type": "markdown",
   "id": "5df0eb1d-181a-4c44-aa00-82bd07bff123",
   "metadata": {},
   "source": [
    "    main() <- entry point of your code "
   ]
  },
  {
   "cell_type": "code",
   "execution_count": 97,
   "id": "4d280d57-4587-414f-bc27-716ee8056596",
   "metadata": {},
   "outputs": [
    {
     "data": {
      "text/plain": [
       "'__main__'"
      ]
     },
     "execution_count": 97,
     "metadata": {},
     "output_type": "execute_result"
    }
   ],
   "source": [
    "__name__ # scope name"
   ]
  },
  {
   "cell_type": "markdown",
   "id": "31964114-1200-40b5-9312-4e10e8196ea1",
   "metadata": {},
   "source": [
    "    Scope \n",
    "\n",
    "        main scope / global scope?\n",
    "\n",
    "        function scope \n",
    "\n",
    "        object scope \n",
    "\n",
    "        class scope "
   ]
  },
  {
   "cell_type": "code",
   "execution_count": 100,
   "id": "efdc3181-29c5-4612-ae86-0452170e438c",
   "metadata": {},
   "outputs": [
    {
     "data": {
      "text/plain": [
       "map"
      ]
     },
     "execution_count": 100,
     "metadata": {},
     "output_type": "execute_result"
    }
   ],
   "source": [
    "map"
   ]
  },
  {
   "cell_type": "code",
   "execution_count": 103,
   "id": "7f9e9efe-a299-44a0-a550-243d6c2bf5e4",
   "metadata": {},
   "outputs": [],
   "source": [
    "def func():\n",
    "    # every function has it's own scope\n",
    "    xyz = 'inside function scope'\n",
    "    print(xyz)"
   ]
  },
  {
   "cell_type": "code",
   "execution_count": 104,
   "id": "c147d818-303e-40c0-bbb3-1be9d3e6f195",
   "metadata": {},
   "outputs": [
    {
     "name": "stdout",
     "output_type": "stream",
     "text": [
      "inside function scope\n"
     ]
    }
   ],
   "source": [
    "func()"
   ]
  },
  {
   "cell_type": "code",
   "execution_count": 105,
   "id": "ce807906-4305-4127-a37e-9ad05c1d38fe",
   "metadata": {},
   "outputs": [
    {
     "ename": "NameError",
     "evalue": "name 'xyz' is not defined",
     "output_type": "error",
     "traceback": [
      "\u001b[0;31m---------------------------------------------------------------------------\u001b[0m",
      "\u001b[0;31mNameError\u001b[0m                                 Traceback (most recent call last)",
      "Cell \u001b[0;32mIn[105], line 1\u001b[0m\n\u001b[0;32m----> 1\u001b[0m \u001b[38;5;28mprint\u001b[39m(xyz)\n",
      "\u001b[0;31mNameError\u001b[0m: name 'xyz' is not defined"
     ]
    }
   ],
   "source": [
    "print(xyz) # global"
   ]
  },
  {
   "cell_type": "code",
   "execution_count": null,
   "id": "646781e3-c62a-48da-85ca-74c47ba1f451",
   "metadata": {},
   "outputs": [],
   "source": []
  },
  {
   "cell_type": "code",
   "execution_count": 101,
   "id": "c98f5e39-c638-4100-8bf7-a15dc4a5a4e5",
   "metadata": {},
   "outputs": [
    {
     "name": "stdout",
     "output_type": "stream",
     "text": [
      "1\n",
      "4\n",
      "9\n",
      "16\n",
      "25\n"
     ]
    }
   ],
   "source": [
    "for jadu in range(1, 6):\n",
    "    print(jadu**2)"
   ]
  },
  {
   "cell_type": "code",
   "execution_count": 102,
   "id": "91e170fd-8471-4990-beaa-0c0a79dc36e7",
   "metadata": {},
   "outputs": [
    {
     "name": "stdout",
     "output_type": "stream",
     "text": [
      "5\n"
     ]
    }
   ],
   "source": [
    "print(jadu) # Name Error "
   ]
  },
  {
   "cell_type": "code",
   "execution_count": null,
   "id": "c4743805-973c-4cd9-9a86-b7686720257a",
   "metadata": {},
   "outputs": [],
   "source": [
    "for var in range(10):\n",
    "    # x = 10  inside scode of for\n",
    "    x = 10"
   ]
  },
  {
   "cell_type": "code",
   "execution_count": null,
   "id": "bee2ce7b-aa06-4b10-8093-2edb4a9bcb20",
   "metadata": {},
   "outputs": [],
   "source": [
    "x = 10 # global variable\n"
   ]
  },
  {
   "cell_type": "markdown",
   "id": "2b55c029-95dc-4520-8b1f-c6eae4a2dad8",
   "metadata": {},
   "source": [
    "Built-in (Python) (print, input, map, ... ?)\n",
    "\n",
    "    Global (Module/Main)\n",
    "\n",
    "            Enclosing function locals\n",
    "\n",
    "                Local (function)\n",
    "        "
   ]
  },
  {
   "cell_type": "markdown",
   "id": "d4407ff4-8b33-474f-b3b9-5c35d0d6645f",
   "metadata": {},
   "source": [
    "call by value <- function scope\n",
    "\n",
    "call by refrence <- global scope "
   ]
  },
  {
   "cell_type": "code",
   "execution_count": 106,
   "id": "59a824de-26dd-4ef1-ad90-f4a4a99976aa",
   "metadata": {},
   "outputs": [
    {
     "name": "stdout",
     "output_type": "stream",
     "text": [
      "20\n"
     ]
    }
   ],
   "source": [
    "x = 10 # global varible\n",
    "\n",
    "def func(x):\n",
    "    # x is local to function\n",
    "    x += 10 # changing local argument\n",
    "    print(x) # local \n",
    "\n",
    "func(x) "
   ]
  },
  {
   "cell_type": "code",
   "execution_count": 107,
   "id": "b246a281-26b0-4892-bf41-6fa29d3599d8",
   "metadata": {},
   "outputs": [
    {
     "name": "stdout",
     "output_type": "stream",
     "text": [
      "10\n"
     ]
    }
   ],
   "source": [
    "print(x)"
   ]
  },
  {
   "cell_type": "code",
   "execution_count": 110,
   "id": "1af6dd94-b67d-4a27-b15d-3986fb5ad060",
   "metadata": {},
   "outputs": [],
   "source": [
    "x, y = 10, 20 # global variables\n",
    "\n",
    "\n",
    "def func():\n",
    "    x = 100 # local function variables \n",
    "    y = 200\n",
    "    print('x: ', x)\n",
    "    print('y: ', y)"
   ]
  },
  {
   "cell_type": "code",
   "execution_count": 111,
   "id": "f508dbaa-439f-42eb-96f0-f213bea25263",
   "metadata": {},
   "outputs": [
    {
     "name": "stdout",
     "output_type": "stream",
     "text": [
      "x:  100\n",
      "y:  200\n"
     ]
    }
   ],
   "source": [
    "func()"
   ]
  },
  {
   "cell_type": "code",
   "execution_count": 112,
   "id": "c4f38fef-6f5e-4a4c-8de1-ff13832e31a1",
   "metadata": {},
   "outputs": [
    {
     "name": "stdout",
     "output_type": "stream",
     "text": [
      "10 20\n"
     ]
    }
   ],
   "source": [
    "print(x, y)"
   ]
  },
  {
   "cell_type": "code",
   "execution_count": 113,
   "id": "1e8ed038-1e70-4fc4-a30d-1ac1b494dc94",
   "metadata": {},
   "outputs": [
    {
     "ename": "NameError",
     "evalue": "name 'name' is not defined",
     "output_type": "error",
     "traceback": [
      "\u001b[0;31m---------------------------------------------------------------------------\u001b[0m",
      "\u001b[0;31mNameError\u001b[0m                                 Traceback (most recent call last)",
      "Cell \u001b[0;32mIn[113], line 1\u001b[0m\n\u001b[0;32m----> 1\u001b[0m name\n",
      "\u001b[0;31mNameError\u001b[0m: name 'name' is not defined"
     ]
    }
   ],
   "source": [
    "name"
   ]
  },
  {
   "cell_type": "code",
   "execution_count": 114,
   "id": "83842886-ef8d-478d-81b9-9d5ce42b1583",
   "metadata": {},
   "outputs": [],
   "source": [
    "def func():\n",
    "    name = 'hello'"
   ]
  },
  {
   "cell_type": "code",
   "execution_count": 115,
   "id": "a6ecb47f-691d-480c-befb-ff9e5ba39056",
   "metadata": {},
   "outputs": [],
   "source": [
    "func()"
   ]
  },
  {
   "cell_type": "code",
   "execution_count": 116,
   "id": "d7ced4fd-f609-4557-808a-86061d1fa2fb",
   "metadata": {},
   "outputs": [
    {
     "ename": "NameError",
     "evalue": "name 'name' is not defined",
     "output_type": "error",
     "traceback": [
      "\u001b[0;31m---------------------------------------------------------------------------\u001b[0m",
      "\u001b[0;31mNameError\u001b[0m                                 Traceback (most recent call last)",
      "Cell \u001b[0;32mIn[116], line 1\u001b[0m\n\u001b[0;32m----> 1\u001b[0m name\n",
      "\u001b[0;31mNameError\u001b[0m: name 'name' is not defined"
     ]
    }
   ],
   "source": [
    "name"
   ]
  },
  {
   "cell_type": "markdown",
   "id": "d12caf19-3615-406b-985b-cef638ca01a7",
   "metadata": {},
   "source": [
    "    global variable\n",
    "\n",
    "    local variable "
   ]
  },
  {
   "cell_type": "code",
   "execution_count": 8,
   "id": "e83be2e9-ec34-42dd-b5ec-c929c85e5139",
   "metadata": {},
   "outputs": [
    {
     "name": "stdout",
     "output_type": "stream",
     "text": [
      "sachin\n"
     ]
    }
   ],
   "source": [
    "print(name) # local == global"
   ]
  },
  {
   "cell_type": "code",
   "execution_count": 7,
   "id": "8ee6b520-4f81-4416-8b78-f1f2cd9a0c4f",
   "metadata": {},
   "outputs": [
    {
     "name": "stdout",
     "output_type": "stream",
     "text": [
      "inner x is  20\n",
      "outer  10\n"
     ]
    }
   ],
   "source": [
    "x = 10\n",
    "\n",
    "def func(x):\n",
    "    # x = 10\n",
    "    x += 10\n",
    "    # x = 20 # local scope\n",
    "    print('inner x is ', x) # 20\n",
    "\n",
    "func(x) # func(10) # global \n",
    "print('outer ', x) # 10"
   ]
  },
  {
   "cell_type": "code",
   "execution_count": null,
   "id": "d6647377-d0a1-4cb2-9a5c-8f4b9f104ced",
   "metadata": {},
   "outputs": [],
   "source": []
  },
  {
   "cell_type": "code",
   "execution_count": 5,
   "id": "1551276b-dff8-4001-9399-c1d3b80f35f0",
   "metadata": {},
   "outputs": [],
   "source": [
    "name = 'sachin'"
   ]
  },
  {
   "cell_type": "code",
   "execution_count": 9,
   "id": "4201afe5-117c-4876-bcbf-22014e4b8df4",
   "metadata": {},
   "outputs": [],
   "source": [
    "def hello():\n",
    "    print(\"Hello World! My name is \", name)\n",
    "    # name -> resolution \n",
    "    # first we look into local scope (current scope known as local scope)\n",
    "    # second we look into higher scope (non local, global)"
   ]
  },
  {
   "cell_type": "code",
   "execution_count": 11,
   "id": "7c5fbb46-0bca-42d8-b7f4-171f86b5760b",
   "metadata": {},
   "outputs": [
    {
     "name": "stdout",
     "output_type": "stream",
     "text": [
      "Hello World! My name is  sachin\n"
     ]
    }
   ],
   "source": [
    "hello() # global  --> hello (local scope)\n",
    "# Error! Name error name not defined\n",
    "# Hello World! My name is sachin"
   ]
  },
  {
   "cell_type": "markdown",
   "id": "969d2fc4-c1bb-4720-8f3b-4f21488ca70a",
   "metadata": {},
   "source": [
    "### Scoping \n",
    "\n",
    "    we can access outer scope data inside inner scope \n",
    "\n",
    "        global variables can be accessed inside local scope but can not be changed inside local scope "
   ]
  },
  {
   "cell_type": "code",
   "execution_count": 14,
   "id": "09278315-9626-40fc-9f1f-8bb0eaa030d7",
   "metadata": {},
   "outputs": [],
   "source": [
    "def hello():\n",
    "    x += 20 # local x = x + 20\n",
    "    # do we have local x variable ? no\n",
    "    # x + 20 I have to use global x, x = 30 ? \n",
    "    print('inner value of x is ', x)"
   ]
  },
  {
   "cell_type": "code",
   "execution_count": 15,
   "id": "4b9cbe49-6b3b-4e0b-b433-2904ef6d5586",
   "metadata": {},
   "outputs": [
    {
     "name": "stdout",
     "output_type": "stream",
     "text": [
      "before calling x is :  10\n"
     ]
    },
    {
     "ename": "UnboundLocalError",
     "evalue": "cannot access local variable 'x' where it is not associated with a value",
     "output_type": "error",
     "traceback": [
      "\u001b[0;31m---------------------------------------------------------------------------\u001b[0m",
      "\u001b[0;31mUnboundLocalError\u001b[0m                         Traceback (most recent call last)",
      "Cell \u001b[0;32mIn[15], line 4\u001b[0m\n\u001b[1;32m      1\u001b[0m x \u001b[38;5;241m=\u001b[39m \u001b[38;5;241m10\u001b[39m\n\u001b[1;32m      2\u001b[0m \u001b[38;5;28mprint\u001b[39m(\u001b[38;5;124m'\u001b[39m\u001b[38;5;124mbefore calling x is : \u001b[39m\u001b[38;5;124m'\u001b[39m, x) \u001b[38;5;66;03m# global\u001b[39;00m\n\u001b[0;32m----> 4\u001b[0m hello() \u001b[38;5;66;03m# local \u001b[39;00m\n\u001b[1;32m      6\u001b[0m \u001b[38;5;28mprint\u001b[39m(\u001b[38;5;124m'\u001b[39m\u001b[38;5;124mafter calling x is : \u001b[39m\u001b[38;5;124m'\u001b[39m, x)\n",
      "Cell \u001b[0;32mIn[14], line 2\u001b[0m, in \u001b[0;36mhello\u001b[0;34m()\u001b[0m\n\u001b[1;32m      1\u001b[0m \u001b[38;5;28;01mdef\u001b[39;00m \u001b[38;5;21mhello\u001b[39m():\n\u001b[0;32m----> 2\u001b[0m     x \u001b[38;5;241m+\u001b[39m\u001b[38;5;241m=\u001b[39m \u001b[38;5;241m20\u001b[39m \u001b[38;5;66;03m# local x = x + 20\u001b[39;00m\n\u001b[1;32m      3\u001b[0m     \u001b[38;5;66;03m# do we have local x variable ? no\u001b[39;00m\n\u001b[1;32m      4\u001b[0m     \u001b[38;5;66;03m# x + 20 I have to use global x, x = 30 ? \u001b[39;00m\n\u001b[1;32m      5\u001b[0m     \u001b[38;5;28mprint\u001b[39m(\u001b[38;5;124m'\u001b[39m\u001b[38;5;124minner value of x is \u001b[39m\u001b[38;5;124m'\u001b[39m, x)\n",
      "\u001b[0;31mUnboundLocalError\u001b[0m: cannot access local variable 'x' where it is not associated with a value"
     ]
    }
   ],
   "source": [
    "x = 10\n",
    "print('before calling x is : ', x) # global\n",
    "\n",
    "hello() # local \n",
    "\n",
    "print('after calling x is : ', x) # global "
   ]
  },
  {
   "cell_type": "code",
   "execution_count": 16,
   "id": "48dfc68e-5ba2-4037-80e8-e0e19e9aa3a2",
   "metadata": {},
   "outputs": [],
   "source": [
    "x = 10"
   ]
  },
  {
   "cell_type": "code",
   "execution_count": 18,
   "id": "51737d4c-8dad-4a8c-9139-ceda49047e2a",
   "metadata": {},
   "outputs": [],
   "source": [
    "def change():\n",
    "    global x\n",
    "    x += 20\n",
    "    print('inner x ', x)"
   ]
  },
  {
   "cell_type": "code",
   "execution_count": 19,
   "id": "614e5c42-d935-4fcb-9410-1ba1318c92a8",
   "metadata": {},
   "outputs": [
    {
     "name": "stdout",
     "output_type": "stream",
     "text": [
      "before global x 30\n",
      "inner x  50\n",
      "after global x 50\n"
     ]
    }
   ],
   "source": [
    "x = 30\n",
    "print('before global x', x)\n",
    "change()\n",
    "print('after global x', x)"
   ]
  },
  {
   "cell_type": "code",
   "execution_count": 22,
   "id": "e3aa44c6-d1eb-4f11-b6df-a64c43c4acb6",
   "metadata": {},
   "outputs": [],
   "source": [
    "#globals()  #-> dictionary which stores all glboal varaibles"
   ]
  },
  {
   "cell_type": "code",
   "execution_count": 24,
   "id": "9c46c077-b7aa-4f3f-b350-3c58ebfafbd6",
   "metadata": {},
   "outputs": [],
   "source": [
    "#locals() # -> dictionary which store all local variables"
   ]
  },
  {
   "cell_type": "code",
   "execution_count": 25,
   "id": "7136f5b3-8404-4d13-ba58-dea7b13294f9",
   "metadata": {},
   "outputs": [
    {
     "data": {
      "text/plain": [
       "True"
      ]
     },
     "execution_count": 25,
     "metadata": {},
     "output_type": "execute_result"
    }
   ],
   "source": [
    "globals() == locals()"
   ]
  },
  {
   "cell_type": "code",
   "execution_count": 27,
   "id": "cc2e377b-4756-46cd-8c26-3779ac1ecfe2",
   "metadata": {},
   "outputs": [],
   "source": [
    "def func():\n",
    "    res = globals() == locals()\n",
    "    print(res)"
   ]
  },
  {
   "cell_type": "code",
   "execution_count": 28,
   "id": "756a9598-dd10-4176-bc73-dbd58c10a38c",
   "metadata": {},
   "outputs": [
    {
     "name": "stdout",
     "output_type": "stream",
     "text": [
      "False\n"
     ]
    }
   ],
   "source": [
    "func()"
   ]
  },
  {
   "cell_type": "markdown",
   "id": "235a03b9-9d00-4651-97e2-046c30f5893b",
   "metadata": {},
   "source": [
    "    how to change global variable inside local scope without using global statement "
   ]
  },
  {
   "cell_type": "code",
   "execution_count": 30,
   "id": "2e824398-f244-4419-b6b8-8d62d531a2ac",
   "metadata": {},
   "outputs": [],
   "source": [
    "def func1():\n",
    "    def func2():\n",
    "        def func3():\n",
    "            def func4():\n",
    "                pass\n",
    "                "
   ]
  },
  {
   "cell_type": "code",
   "execution_count": null,
   "id": "ccb99fbf-b1cb-4b00-87f2-2026760a8181",
   "metadata": {},
   "outputs": [],
   "source": []
  },
  {
   "cell_type": "code",
   "execution_count": null,
   "id": "58a9736f-7e05-42d7-a7f9-7e03b5e7a655",
   "metadata": {},
   "outputs": [],
   "source": []
  },
  {
   "cell_type": "code",
   "execution_count": null,
   "id": "4c0e5eba-ef9a-4451-92d3-5013ee826b80",
   "metadata": {},
   "outputs": [],
   "source": []
  },
  {
   "cell_type": "code",
   "execution_count": 29,
   "id": "4e49b47c-e8de-417d-82ff-83ac46b32b8f",
   "metadata": {},
   "outputs": [],
   "source": [
    "def outer(x):\n",
    "    def inner(x):\n",
    "        x += 20\n",
    "        print('inner x is ', x)\n",
    "    inner(x)\n",
    "    print('outer x is ', x)"
   ]
  },
  {
   "cell_type": "code",
   "execution_count": 32,
   "id": "1764ea21-9d15-43dc-84e0-090d2f4752e5",
   "metadata": {},
   "outputs": [
    {
     "name": "stdout",
     "output_type": "stream",
     "text": [
      "before 100\n",
      "inner x is  130\n",
      "outer x is  110\n",
      "after 100\n"
     ]
    }
   ],
   "source": [
    "x = 100\n",
    "print('before', x) # global\n",
    "outer(x+10)\n",
    "print('after', x) # global"
   ]
  },
  {
   "cell_type": "code",
   "execution_count": null,
   "id": "bd3ae318-eaab-4c24-919d-b52248a10b9c",
   "metadata": {},
   "outputs": [],
   "source": []
  },
  {
   "cell_type": "code",
   "execution_count": null,
   "id": "f432923a-e06f-4b4b-b8cc-2f46d88f0515",
   "metadata": {},
   "outputs": [],
   "source": []
  },
  {
   "cell_type": "code",
   "execution_count": null,
   "id": "fede0966-d50d-42ed-b928-670336089d83",
   "metadata": {},
   "outputs": [],
   "source": []
  },
  {
   "cell_type": "code",
   "execution_count": null,
   "id": "9cc79777-bbbc-46a9-95f7-46b079560c6b",
   "metadata": {},
   "outputs": [],
   "source": []
  },
  {
   "cell_type": "code",
   "execution_count": null,
   "id": "b78b7209-1756-4abc-9e07-40524ce7469e",
   "metadata": {},
   "outputs": [],
   "source": []
  },
  {
   "cell_type": "markdown",
   "id": "3f9e4b07-74b5-40c4-8660-c8b7ebb9c1fa",
   "metadata": {},
   "source": [
    "### Recursion\n",
    "### Decorators /Closure\n",
    "### Generators \n",
    "### OOPs"
   ]
  },
  {
   "cell_type": "code",
   "execution_count": null,
   "id": "367c3e8b-376f-419b-9546-f3881c39d57f",
   "metadata": {},
   "outputs": [],
   "source": []
  }
 ],
 "metadata": {
  "kernelspec": {
   "display_name": "Python [conda env:base] *",
   "language": "python",
   "name": "conda-base-py"
  },
  "language_info": {
   "codemirror_mode": {
    "name": "ipython",
    "version": 3
   },
   "file_extension": ".py",
   "mimetype": "text/x-python",
   "name": "python",
   "nbconvert_exporter": "python",
   "pygments_lexer": "ipython3",
   "version": "3.12.7"
  }
 },
 "nbformat": 4,
 "nbformat_minor": 5
}
