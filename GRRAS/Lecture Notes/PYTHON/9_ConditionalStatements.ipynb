{
 "cells": [
  {
   "cell_type": "code",
   "execution_count": 1,
   "id": "3641e487-d963-484f-8f9d-d4114d83565a",
   "metadata": {},
   "outputs": [],
   "source": [
    "def search(seq, key):\n",
    "    \"\"\"\n",
    "        Linear Search, Binary Search\n",
    "    \"\"\"\n",
    "    for item in seq:\n",
    "        if item == key:\n",
    "            return True\n",
    "    return False"
   ]
  },
  {
   "cell_type": "code",
   "execution_count": 4,
   "id": "3929f273-19c9-4215-a13c-e1d5c898d4d3",
   "metadata": {},
   "outputs": [
    {
     "data": {
      "text/plain": [
       "True"
      ]
     },
     "execution_count": 4,
     "metadata": {},
     "output_type": "execute_result"
    }
   ],
   "source": [
    "nums = [ 4, 5, 6, 7, 3, 5, 7, 8]\n",
    "item = 6\n",
    "\n",
    "search(nums, item)"
   ]
  },
  {
   "cell_type": "code",
   "execution_count": 5,
   "id": "3e55a128-fcee-477b-9554-ab2586f1f8ce",
   "metadata": {},
   "outputs": [
    {
     "data": {
      "text/plain": [
       "True"
      ]
     },
     "execution_count": 5,
     "metadata": {},
     "output_type": "execute_result"
    }
   ],
   "source": [
    "item in nums"
   ]
  },
  {
   "cell_type": "code",
   "execution_count": 6,
   "id": "db38a384-40c3-444f-972b-4fa446c5a93f",
   "metadata": {},
   "outputs": [
    {
     "data": {
      "text/plain": [
       "True"
      ]
     },
     "execution_count": 6,
     "metadata": {},
     "output_type": "execute_result"
    }
   ],
   "source": [
    "item = 100\n",
    "item not in nums"
   ]
  },
  {
   "cell_type": "markdown",
   "id": "2f0700df-07be-4cad-a40c-40b059f07020",
   "metadata": {},
   "source": [
    "## mutable \n",
    "\n",
    "    orginal object can be changes \n",
    "    \n",
    "## immutable \n",
    "\n",
    "    we need to create a new object perform any operation "
   ]
  },
  {
   "cell_type": "code",
   "execution_count": 7,
   "id": "ebd0641f-62c7-4f53-be93-0dd087b5af8c",
   "metadata": {},
   "outputs": [],
   "source": [
    "lang = [ 1, 2, 3, 4, 5]\n",
    "\n",
    "old_lang = lang # lang[:], lang.copy(), copy.copy(lang)"
   ]
  },
  {
   "cell_type": "code",
   "execution_count": 8,
   "id": "e9cab9b4-e7a0-4a45-bc2d-8d6f1744118e",
   "metadata": {},
   "outputs": [],
   "source": [
    "lang.append(100)"
   ]
  },
  {
   "cell_type": "code",
   "execution_count": 9,
   "id": "48393542-5b49-44d2-83c7-67251cac9dd5",
   "metadata": {},
   "outputs": [
    {
     "name": "stdout",
     "output_type": "stream",
     "text": [
      "[1, 2, 3, 4, 5, 100]\n"
     ]
    }
   ],
   "source": [
    "print(old_lang)"
   ]
  },
  {
   "cell_type": "code",
   "execution_count": 10,
   "id": "b608c589-5913-45c9-8355-d52acc4bde65",
   "metadata": {},
   "outputs": [
    {
     "name": "stdout",
     "output_type": "stream",
     "text": [
      "4953183104\n",
      "4953183104\n"
     ]
    }
   ],
   "source": [
    "print(id(lang))\n",
    "print(id(old_lang))"
   ]
  },
  {
   "cell_type": "code",
   "execution_count": 11,
   "id": "22dd8736-5efc-4ae7-a188-fa081b033691",
   "metadata": {},
   "outputs": [
    {
     "name": "stdout",
     "output_type": "stream",
     "text": [
      "both objects are same\n"
     ]
    }
   ],
   "source": [
    "if id(lang) == id(old_lang):\n",
    "    print('both objects are same')\n",
    "else:\n",
    "    print('both objects are different')"
   ]
  },
  {
   "cell_type": "code",
   "execution_count": 12,
   "id": "bd2870e3-9001-4cfa-b3d0-848f429a55c7",
   "metadata": {},
   "outputs": [],
   "source": [
    "def is_same(lang, old_lang):\n",
    "    if id(lang) == id(old_lang):\n",
    "        print('both objects are same')\n",
    "    else:\n",
    "        print('both objects are different')"
   ]
  },
  {
   "cell_type": "code",
   "execution_count": 21,
   "id": "aeef3b71-3960-49a9-845d-e466be72a5f1",
   "metadata": {},
   "outputs": [],
   "source": [
    "x = [\"java\", \"c\"]\n",
    "y = [\"java\", \"c\"]\n",
    "z = x"
   ]
  },
  {
   "cell_type": "code",
   "execution_count": 22,
   "id": "4e45b614-f4b6-49e8-bf67-1a8ac5210ac7",
   "metadata": {},
   "outputs": [
    {
     "name": "stdout",
     "output_type": "stream",
     "text": [
      "both objects are different\n"
     ]
    }
   ],
   "source": [
    "is_same(x, y)"
   ]
  },
  {
   "cell_type": "code",
   "execution_count": 24,
   "id": "a47dc8d9-e0aa-4901-aaa3-acc3cf40580b",
   "metadata": {},
   "outputs": [
    {
     "name": "stdout",
     "output_type": "stream",
     "text": [
      "both objects are same\n"
     ]
    }
   ],
   "source": [
    "is_same(x, z)"
   ]
  },
  {
   "cell_type": "code",
   "execution_count": 27,
   "id": "56217cc7-62b5-4be6-a968-de3fce868d9a",
   "metadata": {},
   "outputs": [
    {
     "name": "stdout",
     "output_type": "stream",
     "text": [
      "['java', 'c']\n",
      "['java', 'c']\n"
     ]
    }
   ],
   "source": [
    "print(x)\n",
    "print(y)"
   ]
  },
  {
   "cell_type": "code",
   "execution_count": 25,
   "id": "62d5b6eb-62fc-441d-aa08-5c3b5a7e3738",
   "metadata": {},
   "outputs": [
    {
     "data": {
      "text/plain": [
       "False"
      ]
     },
     "execution_count": 25,
     "metadata": {},
     "output_type": "execute_result"
    }
   ],
   "source": [
    "x is y # does not compare values it compares id's"
   ]
  },
  {
   "cell_type": "code",
   "execution_count": 26,
   "id": "a269a117-5b1f-4454-891b-0ceb9e163293",
   "metadata": {},
   "outputs": [
    {
     "data": {
      "text/plain": [
       "True"
      ]
     },
     "execution_count": 26,
     "metadata": {},
     "output_type": "execute_result"
    }
   ],
   "source": [
    "x is z"
   ]
  },
  {
   "cell_type": "code",
   "execution_count": 28,
   "id": "681d57e9-cad6-4714-bd8b-576bd122cbe0",
   "metadata": {},
   "outputs": [],
   "source": [
    "x = ('java', 'c')\n",
    "y = ('java', 'c')"
   ]
  },
  {
   "cell_type": "code",
   "execution_count": 29,
   "id": "5dba8410-33c0-4595-a35e-c871edf94c81",
   "metadata": {},
   "outputs": [
    {
     "data": {
      "text/plain": [
       "False"
      ]
     },
     "execution_count": 29,
     "metadata": {},
     "output_type": "execute_result"
    }
   ],
   "source": [
    "x is y"
   ]
  },
  {
   "cell_type": "code",
   "execution_count": 30,
   "id": "be37af01-1a67-457c-9b58-935bb5f6f7ec",
   "metadata": {},
   "outputs": [],
   "source": [
    "x = (1, [1, 2], 3)"
   ]
  },
  {
   "cell_type": "code",
   "execution_count": 31,
   "id": "cee2323e-a62c-47a5-9dd5-99c46a567883",
   "metadata": {},
   "outputs": [],
   "source": [
    "x[1].append(3)"
   ]
  },
  {
   "cell_type": "code",
   "execution_count": 32,
   "id": "c8e288db-6527-4be1-b600-8876a0984b18",
   "metadata": {},
   "outputs": [
    {
     "name": "stdout",
     "output_type": "stream",
     "text": [
      "(1, [1, 2, 3], 3)\n"
     ]
    }
   ],
   "source": [
    "print(x)"
   ]
  },
  {
   "cell_type": "markdown",
   "id": "120b3688-0a88-4776-9c55-e3d5ea33939c",
   "metadata": {},
   "source": [
    "# Operators\n",
    "\n",
    "    Airthmatic - +, -, *, /, //, %, **\n",
    "\n",
    "    Comparision - >, <, <=, >=, ==, != \n",
    "\n",
    "    Binary Operators - ~, !, <<, >>, & ...\n",
    "\n",
    "    Membership Operators - in, not in \n",
    "\n",
    "    Identity Operators - is, is not\n",
    "\n",
    "    Logical Operators -\n",
    "\n",
    "        or\n",
    "\n",
    "        and\n",
    "\n",
    "        not\n",
    "\n",
    "    "
   ]
  },
  {
   "cell_type": "markdown",
   "id": "c3190222-8a84-4fd0-80e4-4fe7d2df7ef5",
   "metadata": {},
   "source": [
    "    Unary Operators \n",
    "\n",
    "        1 operator 1 operand\n",
    "\n",
    "            ++, --, ~num\n",
    "\n",
    "    Binary Operators\n",
    "\n",
    "        1 operator 2 operand \n",
    "\n",
    "            4 + 5, a is b\n",
    "\n",
    "    Ternary Operators \n",
    "\n",
    "        2 operators 3 operands \n",
    "\n",
    "            cond ? v1 : v2\n",
    "\n",
    "            v1 if cond else v2"
   ]
  },
  {
   "cell_type": "markdown",
   "id": "164d4bd4-cd66-45ed-8081-df6390eefc71",
   "metadata": {},
   "source": [
    "# OR \n",
    "\n",
    "    if one of two operands is True than condition is True"
   ]
  },
  {
   "cell_type": "code",
   "execution_count": 38,
   "id": "6fcd1d11-bae0-489a-a31d-998eabcd8617",
   "metadata": {},
   "outputs": [
    {
     "name": "stdout",
     "output_type": "stream",
     "text": [
      "1 True\n"
     ]
    }
   ],
   "source": [
    "ans = 1 or 0\n",
    "print(ans, bool(ans))"
   ]
  },
  {
   "cell_type": "code",
   "execution_count": 37,
   "id": "2a369d41-45d6-49ef-a7c7-c4f7c2d0f3ff",
   "metadata": {},
   "outputs": [
    {
     "name": "stdout",
     "output_type": "stream",
     "text": [
      "0\n"
     ]
    }
   ],
   "source": [
    "ans = None or 0\n",
    "print(ans)"
   ]
  },
  {
   "cell_type": "code",
   "execution_count": 33,
   "id": "197334db-d112-43ef-8aa7-215145097a55",
   "metadata": {},
   "outputs": [
    {
     "name": "stdout",
     "output_type": "stream",
     "text": [
      "True\n"
     ]
    }
   ],
   "source": [
    "ans = True or False\n",
    "print(ans)"
   ]
  },
  {
   "cell_type": "code",
   "execution_count": 34,
   "id": "1bc153ec-4a08-4ac2-bc43-e861bfeea86d",
   "metadata": {},
   "outputs": [
    {
     "name": "stdout",
     "output_type": "stream",
     "text": [
      "True\n"
     ]
    }
   ],
   "source": [
    "ans = False or True \n",
    "print(ans)"
   ]
  },
  {
   "cell_type": "code",
   "execution_count": 40,
   "id": "0c530727-8099-4c77-b8e1-1b295e51630f",
   "metadata": {},
   "outputs": [
    {
     "name": "stdout",
     "output_type": "stream",
     "text": [
      "True\n"
     ]
    }
   ],
   "source": [
    "ans = True or True\n",
    "print(ans)"
   ]
  },
  {
   "cell_type": "code",
   "execution_count": 42,
   "id": "39454967-636e-45c6-ab8f-f3d58e3ba50e",
   "metadata": {},
   "outputs": [
    {
     "name": "stdout",
     "output_type": "stream",
     "text": [
      "False\n"
     ]
    }
   ],
   "source": [
    "ans = False or False\n",
    "print(ans)"
   ]
  },
  {
   "cell_type": "markdown",
   "id": "d77dbfc4-0277-4800-a237-f727a6f987e4",
   "metadata": {},
   "source": [
    "    True or True   ---> True\n",
    "    True or False  ---> True\n",
    "    False or True  ---> True\n",
    "    False or False ---> False"
   ]
  },
  {
   "cell_type": "markdown",
   "id": "2fa5b4ee-b623-4637-ace9-5828798f766e",
   "metadata": {},
   "source": [
    "### and\n",
    "\n",
    "    both conditions / operands needs be True to get True otherwise False"
   ]
  },
  {
   "cell_type": "code",
   "execution_count": 43,
   "id": "1426ecd7-26fb-47c9-95a7-cbdd91b6209b",
   "metadata": {},
   "outputs": [
    {
     "data": {
      "text/plain": [
       "True"
      ]
     },
     "execution_count": 43,
     "metadata": {},
     "output_type": "execute_result"
    }
   ],
   "source": [
    "True and True "
   ]
  },
  {
   "cell_type": "code",
   "execution_count": 44,
   "id": "20419d87-f3f4-4fbb-bb4b-9a9fa14fcc19",
   "metadata": {},
   "outputs": [
    {
     "data": {
      "text/plain": [
       "False"
      ]
     },
     "execution_count": 44,
     "metadata": {},
     "output_type": "execute_result"
    }
   ],
   "source": [
    "False and True"
   ]
  },
  {
   "cell_type": "code",
   "execution_count": 45,
   "id": "255be978-656a-4c7c-9760-3dc595efac27",
   "metadata": {},
   "outputs": [
    {
     "data": {
      "text/plain": [
       "False"
      ]
     },
     "execution_count": 45,
     "metadata": {},
     "output_type": "execute_result"
    }
   ],
   "source": [
    "True and False"
   ]
  },
  {
   "cell_type": "code",
   "execution_count": 46,
   "id": "4e698bdc-65fd-4bb9-a67f-359b83ecda4e",
   "metadata": {},
   "outputs": [
    {
     "data": {
      "text/plain": [
       "False"
      ]
     },
     "execution_count": 46,
     "metadata": {},
     "output_type": "execute_result"
    }
   ],
   "source": [
    "False and False "
   ]
  },
  {
   "cell_type": "markdown",
   "id": "134e322c-4ce7-4965-8fa5-1e813b9823c0",
   "metadata": {},
   "source": [
    "    True and True    ---> True\n",
    "    True and False   ---> False\n",
    "    False and True   ---> False\n",
    "    False and False  ---> False"
   ]
  },
  {
   "cell_type": "markdown",
   "id": "b355c7a8-3124-4335-966a-b65b513dfd84",
   "metadata": {},
   "source": [
    "# not\n",
    "\n",
    "    if operand if True than not will give False else True"
   ]
  },
  {
   "cell_type": "code",
   "execution_count": 47,
   "id": "b92dbd68-231b-478f-85a6-b390d9ee8a24",
   "metadata": {},
   "outputs": [
    {
     "data": {
      "text/plain": [
       "False"
      ]
     },
     "execution_count": 47,
     "metadata": {},
     "output_type": "execute_result"
    }
   ],
   "source": [
    "not True"
   ]
  },
  {
   "cell_type": "code",
   "execution_count": 48,
   "id": "303a8c40-371e-4620-9d41-883cb77ec941",
   "metadata": {},
   "outputs": [
    {
     "data": {
      "text/plain": [
       "True"
      ]
     },
     "execution_count": 48,
     "metadata": {},
     "output_type": "execute_result"
    }
   ],
   "source": [
    "not False"
   ]
  },
  {
   "cell_type": "code",
   "execution_count": 49,
   "id": "4413af5f-f132-4080-895f-7d3ccc95e7d0",
   "metadata": {},
   "outputs": [
    {
     "data": {
      "text/plain": [
       "False"
      ]
     },
     "execution_count": 49,
     "metadata": {},
     "output_type": "execute_result"
    }
   ],
   "source": [
    "not 1"
   ]
  },
  {
   "cell_type": "code",
   "execution_count": 50,
   "id": "6182612b-6cce-4239-b4ed-e8b833b9e19c",
   "metadata": {},
   "outputs": [
    {
     "data": {
      "text/plain": [
       "True"
      ]
     },
     "execution_count": 50,
     "metadata": {},
     "output_type": "execute_result"
    }
   ],
   "source": [
    "not None"
   ]
  },
  {
   "cell_type": "code",
   "execution_count": 51,
   "id": "8d533d76-4f5a-4764-9e28-8c66c2961649",
   "metadata": {},
   "outputs": [
    {
     "data": {
      "text/plain": [
       "False"
      ]
     },
     "execution_count": 51,
     "metadata": {},
     "output_type": "execute_result"
    }
   ],
   "source": [
    "not \" \""
   ]
  },
  {
   "cell_type": "code",
   "execution_count": 52,
   "id": "ae654d53-7f4c-4d79-b8e9-bf960f112784",
   "metadata": {},
   "outputs": [
    {
     "data": {
      "text/plain": [
       "True"
      ]
     },
     "execution_count": 52,
     "metadata": {},
     "output_type": "execute_result"
    }
   ],
   "source": [
    "not \"\""
   ]
  },
  {
   "cell_type": "code",
   "execution_count": 53,
   "id": "77605209-9229-471b-ace4-4c52ed6b0dc5",
   "metadata": {},
   "outputs": [
    {
     "name": "stdout",
     "output_type": "stream",
     "text": [
      "False False\n"
     ]
    }
   ],
   "source": [
    "ans  = False and print(\"hello world!\")\n",
    "\n",
    "print(ans, bool(ans))"
   ]
  },
  {
   "cell_type": "code",
   "execution_count": 54,
   "id": "511d2b8b-c7a9-480a-951c-35c740e4d145",
   "metadata": {},
   "outputs": [
    {
     "name": "stdout",
     "output_type": "stream",
     "text": [
      "hello world!\n",
      "None False\n"
     ]
    }
   ],
   "source": [
    "ans  = True and print(\"hello world!\")\n",
    "\n",
    "print(ans, bool(ans))"
   ]
  },
  {
   "cell_type": "markdown",
   "id": "8a8de5a7-5101-4426-a9a0-438541af8667",
   "metadata": {},
   "source": [
    "each value in python can be True or False -- bool(value)"
   ]
  },
  {
   "cell_type": "code",
   "execution_count": 55,
   "id": "df6c0c2f-8a61-4113-8210-e4a5e49a445f",
   "metadata": {},
   "outputs": [
    {
     "name": "stdout",
     "output_type": "stream",
     "text": [
      "hi\n",
      "True\n",
      "hello\n"
     ]
    }
   ],
   "source": [
    "ans = 0 or 'hi'\n",
    "\n",
    "print(ans)\n",
    "print(bool('hi'))\n",
    "if 'hi':\n",
    "    print('hello')\n",
    "else:\n",
    "    print('bye')"
   ]
  },
  {
   "cell_type": "code",
   "execution_count": 56,
   "id": "efe1a5dd-e670-4d6c-a2d1-7c301071ef99",
   "metadata": {},
   "outputs": [
    {
     "data": {
      "text/plain": [
       "0"
      ]
     },
     "execution_count": 56,
     "metadata": {},
     "output_type": "execute_result"
    }
   ],
   "source": [
    "0 and 1"
   ]
  },
  {
   "cell_type": "code",
   "execution_count": 57,
   "id": "7c9944e7-321a-43b2-be2d-05f335b8aad2",
   "metadata": {},
   "outputs": [
    {
     "data": {
      "text/plain": [
       "100"
      ]
     },
     "execution_count": 57,
     "metadata": {},
     "output_type": "execute_result"
    }
   ],
   "source": [
    "1 and 100 # why not 1 ? "
   ]
  },
  {
   "cell_type": "markdown",
   "id": "d90f9a5d-4bc9-4bb0-9d5f-075c96999b1b",
   "metadata": {},
   "source": [
    "    False - 0, None, \"\", [], any empty object"
   ]
  },
  {
   "cell_type": "code",
   "execution_count": 58,
   "id": "ca08e8b9-0839-43ef-9a2c-8536f9624f78",
   "metadata": {},
   "outputs": [
    {
     "data": {
      "text/plain": [
       "False"
      ]
     },
     "execution_count": 58,
     "metadata": {},
     "output_type": "execute_result"
    }
   ],
   "source": [
    "bool(0)"
   ]
  },
  {
   "cell_type": "code",
   "execution_count": 59,
   "id": "4c0a9fce-abdd-40d2-9a71-7741097dc5a8",
   "metadata": {},
   "outputs": [
    {
     "data": {
      "text/plain": [
       "True"
      ]
     },
     "execution_count": 59,
     "metadata": {},
     "output_type": "execute_result"
    }
   ],
   "source": [
    "bool(1)"
   ]
  },
  {
   "cell_type": "code",
   "execution_count": 60,
   "id": "2fa9da62-2840-4a34-bad3-5130ccca4137",
   "metadata": {},
   "outputs": [
    {
     "data": {
      "text/plain": [
       "False"
      ]
     },
     "execution_count": 60,
     "metadata": {},
     "output_type": "execute_result"
    }
   ],
   "source": [
    "bool(0.0)"
   ]
  },
  {
   "cell_type": "markdown",
   "id": "8632da7b-413d-4e86-ae13-eed1bfdd9b23",
   "metadata": {},
   "source": [
    "### Conditional Statements\n",
    "\n",
    "    If - Else "
   ]
  },
  {
   "cell_type": "markdown",
   "id": "9a2066ee-834e-4bd1-9b42-2b24ec05ee57",
   "metadata": {},
   "source": [
    "    Warlus Operator "
   ]
  },
  {
   "cell_type": "markdown",
   "id": "ca360378-bd7e-436b-a252-445ea3f0c15a",
   "metadata": {},
   "source": [
    "    assignment is not supported in conditional statements "
   ]
  },
  {
   "cell_type": "markdown",
   "id": "f13c8eea-da2b-41c0-893c-ee06a6aa01af",
   "metadata": {},
   "source": [
    "`:=` assignment in coditional statements"
   ]
  },
  {
   "cell_type": "code",
   "execution_count": 66,
   "id": "16fb7ee7-b331-45ba-b0df-87b28e7d823e",
   "metadata": {},
   "outputs": [
    {
     "name": "stdout",
     "output_type": "stream",
     "text": [
      "20 is big\n"
     ]
    }
   ],
   "source": [
    "a = 10\n",
    "b = 20\n",
    "\n",
    "if a > b:\n",
    "    print(a, 'is big')\n",
    "else:\n",
    "    print(b, 'is big')"
   ]
  },
  {
   "cell_type": "code",
   "execution_count": 68,
   "id": "cdd1a77b-6865-49f7-98c7-a31891c90379",
   "metadata": {},
   "outputs": [
    {
     "name": "stdout",
     "output_type": "stream",
     "text": [
      "30 is big\n"
     ]
    }
   ],
   "source": [
    "if (a:=30) > (b:=20):\n",
    "    print(a, 'is big')\n",
    "else:\n",
    "    print(b, 'is big')"
   ]
  },
  {
   "cell_type": "code",
   "execution_count": 65,
   "id": "3a4e679a-36f4-45af-a038-963aadfd0c89",
   "metadata": {},
   "outputs": [
    {
     "ename": "SyntaxError",
     "evalue": "invalid syntax. Maybe you meant '==' or ':=' instead of '='? (2562391338.py, line 1)",
     "output_type": "error",
     "traceback": [
      "\u001b[0;36m  Cell \u001b[0;32mIn[65], line 1\u001b[0;36m\u001b[0m\n\u001b[0;31m    if (a = 10) > (b=20):\u001b[0m\n\u001b[0m        ^\u001b[0m\n\u001b[0;31mSyntaxError\u001b[0m\u001b[0;31m:\u001b[0m invalid syntax. Maybe you meant '==' or ':=' instead of '='?\n"
     ]
    }
   ],
   "source": [
    "if (a = 10) > (b=20):\n",
    "    pass"
   ]
  },
  {
   "cell_type": "code",
   "execution_count": 64,
   "id": "8455f882-1079-4920-96f7-2b589c076005",
   "metadata": {},
   "outputs": [
    {
     "name": "stdin",
     "output_type": "stream",
     "text": [
      " 10\n",
      " 100\n"
     ]
    },
    {
     "name": "stdout",
     "output_type": "stream",
     "text": [
      "100 is greater than 10\n"
     ]
    }
   ],
   "source": [
    "x = int(input())\n",
    "y = int(input())\n",
    "\n",
    "if x > y :\n",
    "    print(f\"{x} is greater than {y}\")\n",
    "else:\n",
    "    print(f\"{y} is greater than {x}\")"
   ]
  },
  {
   "cell_type": "code",
   "execution_count": 62,
   "id": "b164676d-6ad1-49e6-ad5d-4a32cc625313",
   "metadata": {},
   "outputs": [
    {
     "name": "stdin",
     "output_type": "stream",
     "text": [
      " no\n"
     ]
    }
   ],
   "source": []
  },
  {
   "cell_type": "markdown",
   "id": "9f0e19f3-8c06-4d3f-b81f-e9bc42b4ab1d",
   "metadata": {},
   "source": [
    "hints \n",
    "\n",
    "    input, getpass, time, print, conditonal, dict, list, str\n",
    "    "
   ]
  },
  {
   "cell_type": "markdown",
   "id": "6f0715a1-43a7-4fc7-886e-aa4e25fa373d",
   "metadata": {},
   "source": [
    "## Game rock-paper-scissor\n",
    "    player-1   and player-2 \n",
    "\n",
    "        player choice - [ 'rock', 'paper', 'scissor' ]\n",
    "\n",
    "\n",
    "    input: \n",
    "        player1 name : Sachin\n",
    "        player2 name : Rajat\n",
    "\n",
    "        Sachin choose one [rock, paper, scissor]: ........(scissor)\n",
    "        Rajat  choose one [rock, paper, scissor]: ........(paper)\n",
    "    output:\n",
    "\n",
    "        Sachin has won the game after 2 seconds delay "
   ]
  },
  {
   "cell_type": "code",
   "execution_count": 69,
   "id": "3fba2765-f919-420c-bc56-7be3ab89647e",
   "metadata": {},
   "outputs": [
    {
     "name": "stdout",
     "output_type": "stream",
     "text": [
      "We will resume in     0 seconds."
     ]
    }
   ],
   "source": [
    "import time\n",
    "resume = 300\n",
    "for i in range(resume+1):\n",
    "    print(f\"\\rWe will resume in {resume-i:>5} seconds.\", end=\"\")\n",
    "    time.sleep(1)"
   ]
  },
  {
   "cell_type": "markdown",
   "id": "d2426499-96e4-4dc2-aec6-ead07cb9e945",
   "metadata": {},
   "source": [
    "### Conditional statement \n",
    "\n",
    "    Pseudo code \n",
    "\n",
    "        ruff following common programing syntax "
   ]
  },
  {
   "cell_type": "markdown",
   "id": "b7922d2e-54c5-471e-bb96-b083f14844d6",
   "metadata": {},
   "source": [
    "    biggest among three "
   ]
  },
  {
   "cell_type": "markdown",
   "id": "72935904-27c7-4024-8231-3203c789724e",
   "metadata": {},
   "source": [
    "    sum, max, min"
   ]
  },
  {
   "cell_type": "code",
   "execution_count": 70,
   "id": "093be4d7-3481-49ce-af72-d3d2cdd801f9",
   "metadata": {},
   "outputs": [
    {
     "name": "stdout",
     "output_type": "stream",
     "text": [
      "The history saving thread hit an unexpected error (OperationalError('attempt to write a readonly database')).History will not be written to the database.\n"
     ]
    },
    {
     "name": "stdin",
     "output_type": "stream",
     "text": [
      "num1:  34\n",
      "num2: 65\n",
      "num3: 20\n"
     ]
    },
    {
     "name": "stdout",
     "output_type": "stream",
     "text": [
      "[34, 65, 20]\n",
      "65 biggest among three\n"
     ]
    }
   ],
   "source": [
    "nums = [ int(input(\"num1: \")), int(input(\"num2:\")), int(input(\"num3:\")) ]\n",
    "\n",
    "print(nums)\n",
    "\n",
    "print(max(nums), 'biggest among three')"
   ]
  },
  {
   "cell_type": "code",
   "execution_count": 73,
   "id": "90394edd-bdfb-4013-80fc-5db317610f94",
   "metadata": {},
   "outputs": [
    {
     "name": "stdin",
     "output_type": "stream",
     "text": [
      "num 1:  10 \n",
      "num 2:  30\n",
      "num 3:  50\n"
     ]
    },
    {
     "name": "stdout",
     "output_type": "stream",
     "text": [
      "50 is biggest\n"
     ]
    }
   ],
   "source": [
    "a = int(input(\"num 1: \")) # 10\n",
    "b = int(input(\"num 2: \")) # 20\n",
    "c = int(input(\"num 3: \")) # 15\n",
    "\n",
    "# conditional statements ?\n",
    "if a > b:\n",
    "    if a > c:\n",
    "        print(f\"{a} is biggest\")\n",
    "    else:\n",
    "        print(f\"{c} is biggest\")\n",
    "elif b > c:\n",
    "    print(f\"{b} is biggest\")\n",
    "else:\n",
    "    print(f\"{c} is biggest\")\n",
    "    "
   ]
  },
  {
   "cell_type": "code",
   "execution_count": 74,
   "id": "4dd2a7d9-ec21-4eae-9168-f7fa4069d78b",
   "metadata": {},
   "outputs": [
    {
     "name": "stdin",
     "output_type": "stream",
     "text": [
      "num 1:  4\n",
      "num 2:  5\n",
      "num 3:  2\n"
     ]
    },
    {
     "name": "stdout",
     "output_type": "stream",
     "text": [
      "5 is biggest\n"
     ]
    }
   ],
   "source": [
    "a = int(input(\"num 1: \")) # 10\n",
    "b = int(input(\"num 2: \")) # 20\n",
    "c = int(input(\"num 3: \")) # 5\n",
    "\n",
    "# conditional statements ?\n",
    "if a > b and a > c:\n",
    "    print(f\"{a} is biggest\")\n",
    "elif b > c:\n",
    "    print(f\"{b} is biggest\")\n",
    "else:\n",
    "    print(f\"{c} is biggest\")\n",
    "    "
   ]
  },
  {
   "cell_type": "markdown",
   "id": "5d53b4bd-ba9f-4d6a-9b8a-0e689d8ad7ff",
   "metadata": {},
   "source": [
    "## write a code to print wheather a given numb is postive or negative or zero\n",
    "\n",
    "    input: 10\n",
    "    output: positive \n",
    "\n",
    "    input: -5\n",
    "    output: negative\n",
    "\n",
    "    input: 0\n",
    "    output: zero"
   ]
  },
  {
   "cell_type": "code",
   "execution_count": 79,
   "id": "2fe09a55-2c6f-43d4-b4ec-dd2da23032c4",
   "metadata": {},
   "outputs": [
    {
     "name": "stdin",
     "output_type": "stream",
     "text": [
      "number:  0\n"
     ]
    },
    {
     "name": "stdout",
     "output_type": "stream",
     "text": [
      "zero\n"
     ]
    }
   ],
   "source": [
    "num = int(input(\"number: \"))\n",
    "\n",
    "if num == 0:\n",
    "    print(\"zero\")\n",
    "else:\n",
    "    # negative or num positive\n",
    "    if num > 0:\n",
    "        print(\"positive\")\n",
    "    else:\n",
    "        print(\"negative\")"
   ]
  },
  {
   "cell_type": "code",
   "execution_count": 80,
   "id": "8c0c3be8-c253-4d91-a4eb-b634a9606d64",
   "metadata": {},
   "outputs": [
    {
     "name": "stdin",
     "output_type": "stream",
     "text": [
      "number:  10\n"
     ]
    },
    {
     "name": "stdout",
     "output_type": "stream",
     "text": [
      "positive\n"
     ]
    }
   ],
   "source": [
    "num = int(input(\"number: \"))\n",
    "\n",
    "if num == 0:\n",
    "    print(\"zero\")\n",
    "elif num > 0:\n",
    "    print(\"positive\")\n",
    "else:\n",
    "    print(\"negative\")"
   ]
  },
  {
   "cell_type": "code",
   "execution_count": 83,
   "id": "68eb6139-de91-4d3a-9429-e780ec651d4c",
   "metadata": {},
   "outputs": [
    {
     "data": {
      "text/plain": [
       "86.66666666666667"
      ]
     },
     "execution_count": 83,
     "metadata": {},
     "output_type": "execute_result"
    }
   ],
   "source": [
    "( (80 + 85 + 95) / 300 ) * 100"
   ]
  },
  {
   "cell_type": "markdown",
   "id": "720602fe-f439-434f-a84a-6baa2edbc5b7",
   "metadata": {},
   "source": [
    "### write a code to print grade of a student \n",
    "\n",
    "    rules \n",
    "\n",
    "        per > 95 --> A++\n",
    "        per > 90 --> A\n",
    "        per > 85 --> B++\n",
    "        per > 80 --> B\n",
    "        per > 75 --> C++\n",
    "        per > 70 --> C\n",
    "        per > 60 --> D\n",
    "        otherwise Fail \n",
    "\n",
    "    total subjects 3\n",
    "\n",
    "    input:   (1-100)\n",
    "    \n",
    "        sub-1: 80      \n",
    "        sub-2: 85\n",
    "        sub-3: 95\n",
    "\n",
    "    output:\n",
    "        you got 86.66 % marks hence your grade is  B++ "
   ]
  },
  {
   "cell_type": "code",
   "execution_count": null,
   "id": "4025d537-c5d9-4e2a-9cfd-cb9001b9b60c",
   "metadata": {},
   "outputs": [],
   "source": []
  }
 ],
 "metadata": {
  "kernelspec": {
   "display_name": "Python [conda env:base] *",
   "language": "python",
   "name": "conda-base-py"
  },
  "language_info": {
   "codemirror_mode": {
    "name": "ipython",
    "version": 3
   },
   "file_extension": ".py",
   "mimetype": "text/x-python",
   "name": "python",
   "nbconvert_exporter": "python",
   "pygments_lexer": "ipython3",
   "version": "3.12.7"
  }
 },
 "nbformat": 4,
 "nbformat_minor": 5
}
