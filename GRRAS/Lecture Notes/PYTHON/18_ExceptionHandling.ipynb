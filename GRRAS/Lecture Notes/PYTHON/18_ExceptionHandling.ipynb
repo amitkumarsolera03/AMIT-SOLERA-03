{
 "cells": [
  {
   "cell_type": "markdown",
   "id": "7b6dd451-c73d-42bf-8dea-511d4c4b081c",
   "metadata": {},
   "source": [
    "# Doubt "
   ]
  },
  {
   "cell_type": "code",
   "execution_count": 4,
   "id": "4d8f587d-0149-405e-bc4b-19fb010202cc",
   "metadata": {},
   "outputs": [
    {
     "name": "stdout",
     "output_type": "stream",
     "text": [
      "D\n",
      "B\n",
      "A\n"
     ]
    }
   ],
   "source": [
    "class A:\n",
    "    def method(self):\n",
    "        print(\"A\")\n",
    "   \n",
    "class B(A):\n",
    "    def method(self):\n",
    "        print(\"B\")\n",
    "        super().method()\n",
    "       \n",
    "class C:\n",
    "    def method(self):\n",
    "        print(\"C\")\n",
    "        # super().method()\n",
    "       \n",
    "class D(B, C):\n",
    "    def method(self):\n",
    "        print(\"D\")\n",
    "        super().method()\n",
    "       \n",
    "obj = D()\n",
    "obj.method()"
   ]
  },
  {
   "cell_type": "code",
   "execution_count": 5,
   "id": "dcf32eb9-4b8d-4fa2-ab75-54762116a6eb",
   "metadata": {},
   "outputs": [
    {
     "data": {
      "text/plain": [
       "(__main__.D, __main__.B, __main__.A, __main__.C, object)"
      ]
     },
     "execution_count": 5,
     "metadata": {},
     "output_type": "execute_result"
    }
   ],
   "source": [
    "D.__mro__"
   ]
  },
  {
   "cell_type": "code",
   "execution_count": 6,
   "id": "51c7df19-fd76-488b-8946-9e13e00d6c40",
   "metadata": {},
   "outputs": [
    {
     "name": "stdout",
     "output_type": "stream",
     "text": [
      "(<class '__main__.D'>, <class '__main__.B'>, <class '__main__.C'>, <class '__main__.A'>, <class 'object'>)\n",
      "D\n",
      "B\n",
      "C\n",
      "A\n"
     ]
    }
   ],
   "source": [
    "class A:\n",
    "    def method(self):\n",
    "        print(\"A\")\n",
    "   \n",
    "class B(A):\n",
    "    def method(self):\n",
    "        print(\"B\")\n",
    "        super().method()\n",
    "       \n",
    "class C(A):\n",
    "    def method(self):\n",
    "        print(\"C\")\n",
    "        super().method()\n",
    "       \n",
    "class D(B, C):\n",
    "    def method(self):\n",
    "        print(\"D\")\n",
    "        super().method()\n",
    "print(D.__mro__)\n",
    "obj = D()\n",
    "obj.method()"
   ]
  },
  {
   "cell_type": "code",
   "execution_count": 3,
   "id": "a14657bb-0fa2-4ca4-9102-22b10b8b5dfb",
   "metadata": {},
   "outputs": [
    {
     "data": {
      "text/plain": [
       "(__main__.D, __main__.B, __main__.C, __main__.A, object)"
      ]
     },
     "execution_count": 3,
     "metadata": {},
     "output_type": "execute_result"
    }
   ],
   "source": [
    "D.__mro__"
   ]
  },
  {
   "cell_type": "code",
   "execution_count": 9,
   "id": "9c90d0ec-8dab-4fce-810e-57fa236951a9",
   "metadata": {},
   "outputs": [
    {
     "name": "stdout",
     "output_type": "stream",
     "text": [
      "Help on method_descriptor:\n",
      "\n",
      "append(self, object, /) unbound builtins.list method\n",
      "    Append object to the end of the list.\n",
      "\n",
      "[1, 2, 3, 4]\n"
     ]
    }
   ],
   "source": [
    "help(list.append)\n",
    "l = [ 1, 2, 3]\n",
    "list.append(l, 4)\n",
    "print(l)"
   ]
  },
  {
   "cell_type": "code",
   "execution_count": 10,
   "id": "b67edd74-33d9-4461-9e0c-3271c62d2409",
   "metadata": {},
   "outputs": [
    {
     "name": "stdout",
     "output_type": "stream",
     "text": [
      "Help on built-in function append:\n",
      "\n",
      "append(object, /) method of builtins.list instance\n",
      "    Append object to the end of the list.\n",
      "\n",
      "[1, 2, 3, 4]\n"
     ]
    }
   ],
   "source": [
    "l = [ 1, 2, 3]\n",
    "help(l.append)\n",
    "l.append(4)\n",
    "print(l)"
   ]
  },
  {
   "cell_type": "code",
   "execution_count": 22,
   "id": "502df4a0-ccc1-43e5-ab3d-8b8708d205db",
   "metadata": {},
   "outputs": [],
   "source": [
    "class Demo:\n",
    "    def __init__(self, name, age=10):\n",
    "        self.__name = name\n",
    "        self.age = age # \n",
    "        #name -> local argument\n",
    "        # self.__name -> private object attribute\n",
    "    def set_name(self, new_name):\n",
    "        self.__name = new_name\n",
    "    def __str__(self):\n",
    "        return self.__name.strip().upper()"
   ]
  },
  {
   "cell_type": "code",
   "execution_count": 23,
   "id": "1058fe4d-bc9d-454a-8e4c-247e44c04764",
   "metadata": {},
   "outputs": [
    {
     "name": "stdout",
     "output_type": "stream",
     "text": [
      "SACHIN YADAV\n"
     ]
    }
   ],
   "source": [
    "a  = Demo(\"Sachin Yadav\")\n",
    "print(a) # a.__str__()"
   ]
  },
  {
   "cell_type": "code",
   "execution_count": 24,
   "id": "4c1d1a5c-651c-4d63-8559-ecf6f8e1cfdb",
   "metadata": {},
   "outputs": [
    {
     "data": {
      "text/plain": [
       "10"
      ]
     },
     "execution_count": 24,
     "metadata": {},
     "output_type": "execute_result"
    }
   ],
   "source": [
    "a.age"
   ]
  },
  {
   "cell_type": "code",
   "execution_count": 25,
   "id": "a4951c0e-0fdf-49eb-8535-5607838389bb",
   "metadata": {},
   "outputs": [],
   "source": [
    "a.age = 29"
   ]
  },
  {
   "cell_type": "code",
   "execution_count": 26,
   "id": "c067d43e-b4b9-4106-b9c3-509d12e257db",
   "metadata": {},
   "outputs": [
    {
     "name": "stdout",
     "output_type": "stream",
     "text": [
      "29\n"
     ]
    }
   ],
   "source": [
    "print(a.age)"
   ]
  },
  {
   "cell_type": "code",
   "execution_count": 28,
   "id": "8272e935-efe2-468d-8fbd-b2c4e664f20e",
   "metadata": {},
   "outputs": [],
   "source": [
    "a.set_name('rahul')"
   ]
  },
  {
   "cell_type": "code",
   "execution_count": 29,
   "id": "13451109-e68a-4024-a8ab-78f5442dd6a1",
   "metadata": {},
   "outputs": [
    {
     "name": "stdout",
     "output_type": "stream",
     "text": [
      "RAHUL\n"
     ]
    }
   ],
   "source": [
    "print(a)"
   ]
  },
  {
   "cell_type": "code",
   "execution_count": 27,
   "id": "a3ae49c8-9dae-4640-a035-1f5e9ceb43a1",
   "metadata": {},
   "outputs": [
    {
     "ename": "AttributeError",
     "evalue": "'Demo' object has no attribute '__name'",
     "output_type": "error",
     "traceback": [
      "\u001b[0;31m---------------------------------------------------------------------------\u001b[0m",
      "\u001b[0;31mAttributeError\u001b[0m                            Traceback (most recent call last)",
      "Cell \u001b[0;32mIn[27], line 1\u001b[0m\n\u001b[0;32m----> 1\u001b[0m a\u001b[38;5;241m.\u001b[39m__name\n",
      "\u001b[0;31mAttributeError\u001b[0m: 'Demo' object has no attribute '__name'"
     ]
    }
   ],
   "source": [
    "a.__name"
   ]
  },
  {
   "cell_type": "markdown",
   "id": "09afef0c-026a-4044-8b89-a864926c927d",
   "metadata": {},
   "source": [
    "getter   settr"
   ]
  },
  {
   "cell_type": "markdown",
   "id": "05484a73-cf1d-4ea5-afe2-745d01b5725b",
   "metadata": {},
   "source": [
    "## OOPs \n",
    "\n",
    "    class methods, static methods\n",
    "\n",
    "    Meta Class, abstract methods, \n",
    "\n",
    "    "
   ]
  },
  {
   "cell_type": "markdown",
   "id": "274e9f6a-b198-4399-9354-f30948f850f7",
   "metadata": {},
   "source": [
    "### Exception Handling "
   ]
  },
  {
   "cell_type": "code",
   "execution_count": 31,
   "id": "07a3c4de-4a98-42f8-82dd-071df11ef0ad",
   "metadata": {},
   "outputs": [
    {
     "ename": "SyntaxError",
     "evalue": "incomplete input (1028029194.py, line 1)",
     "output_type": "error",
     "traceback": [
      "\u001b[0;36m  Cell \u001b[0;32mIn[31], line 1\u001b[0;36m\u001b[0m\n\u001b[0;31m    print(\"hello world\"\u001b[0m\n\u001b[0m                       ^\u001b[0m\n\u001b[0;31mSyntaxError\u001b[0m\u001b[0;31m:\u001b[0m incomplete input\n"
     ]
    }
   ],
   "source": [
    "print(\"hello world\""
   ]
  },
  {
   "cell_type": "code",
   "execution_count": 32,
   "id": "da0e2fed-ae57-455b-bdac-f85f6be49ce7",
   "metadata": {},
   "outputs": [],
   "source": [
    "def div(a, b):\n",
    "    return a / b"
   ]
  },
  {
   "cell_type": "code",
   "execution_count": 33,
   "id": "61928a5f-b869-438a-b7d6-be756b99bc49",
   "metadata": {},
   "outputs": [
    {
     "data": {
      "text/plain": [
       "0.5"
      ]
     },
     "execution_count": 33,
     "metadata": {},
     "output_type": "execute_result"
    }
   ],
   "source": [
    "div(5, 10)"
   ]
  },
  {
   "cell_type": "code",
   "execution_count": 35,
   "id": "e4204e49-3425-485f-b1e9-bb55fb145e46",
   "metadata": {},
   "outputs": [],
   "source": [
    "def func():\n",
    "    return 0\n",
    "    return 1\n",
    "    return 2"
   ]
  },
  {
   "cell_type": "code",
   "execution_count": 36,
   "id": "a4ba69e1-2b45-4f27-b518-392bdb8c8a13",
   "metadata": {},
   "outputs": [],
   "source": [
    "ans = func()"
   ]
  },
  {
   "cell_type": "code",
   "execution_count": 37,
   "id": "e60f4d4d-cc72-4b53-9901-3a9e936f0be5",
   "metadata": {},
   "outputs": [
    {
     "name": "stdout",
     "output_type": "stream",
     "text": [
      "0\n"
     ]
    }
   ],
   "source": [
    "print(ans)"
   ]
  },
  {
   "cell_type": "code",
   "execution_count": 34,
   "id": "7305e475-e771-43cf-a101-6242b9f1249d",
   "metadata": {},
   "outputs": [
    {
     "ename": "ZeroDivisionError",
     "evalue": "division by zero",
     "output_type": "error",
     "traceback": [
      "\u001b[0;31m---------------------------------------------------------------------------\u001b[0m",
      "\u001b[0;31mZeroDivisionError\u001b[0m                         Traceback (most recent call last)",
      "Cell \u001b[0;32mIn[34], line 1\u001b[0m\n\u001b[0;32m----> 1\u001b[0m div(\u001b[38;5;241m1\u001b[39m, \u001b[38;5;241m0\u001b[39m)\n",
      "Cell \u001b[0;32mIn[32], line 2\u001b[0m, in \u001b[0;36mdiv\u001b[0;34m(a, b)\u001b[0m\n\u001b[1;32m      1\u001b[0m \u001b[38;5;28;01mdef\u001b[39;00m \u001b[38;5;21mdiv\u001b[39m(a, b):\n\u001b[0;32m----> 2\u001b[0m     \u001b[38;5;28;01mreturn\u001b[39;00m a \u001b[38;5;241m/\u001b[39m b\n",
      "\u001b[0;31mZeroDivisionError\u001b[0m: division by zero"
     ]
    }
   ],
   "source": [
    "div(1, 0)"
   ]
  },
  {
   "cell_type": "markdown",
   "id": "48a1e298-a262-4995-9866-4bb23a1ea505",
   "metadata": {},
   "source": [
    "# Error \n",
    "\n",
    "\n",
    "    Run time Error     / Logical Error  --> Exception\n",
    "\n",
    "    Compile time Error / Syntax Error"
   ]
  },
  {
   "cell_type": "markdown",
   "id": "a0c54174-d3a4-4535-82ee-e9e0654f2ff0",
   "metadata": {},
   "source": [
    "## Exception Handle"
   ]
  },
  {
   "cell_type": "markdown",
   "id": "d89cb4bc-bc10-40e7-9b51-fafdac24f496",
   "metadata": {},
   "source": [
    "    Developer \n",
    "    \n",
    "        --> code maintain\n",
    "\n",
    "        --> Unit testing \n",
    "\n",
    "    Quality Analyst / Automation Testing "
   ]
  },
  {
   "cell_type": "code",
   "execution_count": 38,
   "id": "8a54a009-ab23-4c4d-b3ef-ea81a288497a",
   "metadata": {},
   "outputs": [],
   "source": [
    "def div(a, b):\n",
    "    if b!= 0:\n",
    "        return a/b\n",
    "    return 'inf'"
   ]
  },
  {
   "cell_type": "code",
   "execution_count": 39,
   "id": "4409b755-25dc-4fea-8c37-648c93cc6da1",
   "metadata": {},
   "outputs": [
    {
     "data": {
      "text/plain": [
       "0.5"
      ]
     },
     "execution_count": 39,
     "metadata": {},
     "output_type": "execute_result"
    }
   ],
   "source": [
    "div(5, 10)"
   ]
  },
  {
   "cell_type": "code",
   "execution_count": 40,
   "id": "622097de-725f-4c55-b04d-b864d95390c5",
   "metadata": {},
   "outputs": [
    {
     "data": {
      "text/plain": [
       "'inf'"
      ]
     },
     "execution_count": 40,
     "metadata": {},
     "output_type": "execute_result"
    }
   ],
   "source": [
    "div(5, 0)"
   ]
  },
  {
   "cell_type": "code",
   "execution_count": 42,
   "id": "896e3c1a-60a6-4d04-afcf-444dc5b14ee9",
   "metadata": {},
   "outputs": [
    {
     "ename": "TypeError",
     "evalue": "unsupported operand type(s) for ** or pow(): 'str' and 'int'",
     "output_type": "error",
     "traceback": [
      "\u001b[0;31m---------------------------------------------------------------------------\u001b[0m",
      "\u001b[0;31mTypeError\u001b[0m                                 Traceback (most recent call last)",
      "Cell \u001b[0;32mIn[42], line 1\u001b[0m\n\u001b[0;32m----> 1\u001b[0m (div(\u001b[38;5;241m5\u001b[39m, \u001b[38;5;241m0\u001b[39m) \u001b[38;5;241m*\u001b[39m \u001b[38;5;241m10\u001b[39m)\u001b[38;5;241m*\u001b[39m\u001b[38;5;241m*\u001b[39m\u001b[38;5;241m2\u001b[39m\n",
      "\u001b[0;31mTypeError\u001b[0m: unsupported operand type(s) for ** or pow(): 'str' and 'int'"
     ]
    }
   ],
   "source": [
    "(div(5, 0) * 10)**2"
   ]
  },
  {
   "cell_type": "code",
   "execution_count": 43,
   "id": "e827cdc8-6df5-4700-abbb-e02e8de4cc83",
   "metadata": {},
   "outputs": [
    {
     "name": "stdout",
     "output_type": "stream",
     "text": [
      "hello world\n"
     ]
    }
   ],
   "source": [
    "try:\n",
    "    # code to execute\n",
    "    # if error occures then execute except block\n",
    "    print('hello world')\n",
    "except:\n",
    "    print(\"!Somethig went wrong\")"
   ]
  },
  {
   "cell_type": "code",
   "execution_count": 45,
   "id": "5fca4cc0-7b80-4e6d-9d4e-7df5f32b0ad8",
   "metadata": {},
   "outputs": [
    {
     "ename": "ValueError",
     "evalue": "could not convert string to float: 'jadu'",
     "output_type": "error",
     "traceback": [
      "\u001b[0;31m---------------------------------------------------------------------------\u001b[0m",
      "\u001b[0;31mValueError\u001b[0m                                Traceback (most recent call last)",
      "Cell \u001b[0;32mIn[45], line 1\u001b[0m\n\u001b[0;32m----> 1\u001b[0m \u001b[38;5;28mfloat\u001b[39m(\u001b[38;5;124m'\u001b[39m\u001b[38;5;124mjadu\u001b[39m\u001b[38;5;124m'\u001b[39m)\n",
      "\u001b[0;31mValueError\u001b[0m: could not convert string to float: 'jadu'"
     ]
    }
   ],
   "source": [
    "float('jadu')"
   ]
  },
  {
   "cell_type": "code",
   "execution_count": 48,
   "id": "6c5f193b-4e0f-469b-b9f2-77918fe4ca2d",
   "metadata": {},
   "outputs": [
    {
     "name": "stdout",
     "output_type": "stream",
     "text": [
      "hello world\n"
     ]
    },
    {
     "name": "stdin",
     "output_type": "stream",
     "text": [
      "a:  5\n",
      "b:  2.5\n"
     ]
    },
    {
     "name": "stdout",
     "output_type": "stream",
     "text": [
      "!Somethig went wrong\n"
     ]
    }
   ],
   "source": [
    "try:\n",
    "    # code to execute\n",
    "    # if error occures then execute except block\n",
    "    print('hello world')\n",
    "    a = float(input('a: ')) # ValueError\n",
    "    b = float(input('b: ')) # ValueError\n",
    "    r = a / b # ZeroDivisionError\n",
    "    print(\"result: \", result) # NameError - result not defined\n",
    "except:\n",
    "    print(\"!Somethig went wrong\")"
   ]
  },
  {
   "cell_type": "code",
   "execution_count": 52,
   "id": "371270aa-7c7c-4acf-9316-821676f25890",
   "metadata": {},
   "outputs": [
    {
     "name": "stdout",
     "output_type": "stream",
     "text": [
      "hello world\n",
      "!Somethig went wrong\n",
      "Interrupted by user\n"
     ]
    },
    {
     "name": "stdin",
     "output_type": "stream",
     "text": [
      "a:  \n"
     ]
    }
   ],
   "source": [
    "try:\n",
    "    # code to execute\n",
    "    # if error occures then execute except block\n",
    "    print('hello world')\n",
    "    a = float(input('a: ')) # ValueError\n",
    "    b = float(input('b: ')) # ValueError\n",
    "    r = a / b # ZeroDivisionError\n",
    "    print(\"result: \", result) # NameError - result not defined\n",
    "except BaseException as err:\n",
    "    print(\"!Somethig went wrong\")\n",
    "    print(err)"
   ]
  },
  {
   "cell_type": "code",
   "execution_count": 54,
   "id": "efb7c469-fdb4-42e3-9276-8c3b56c7e2a4",
   "metadata": {},
   "outputs": [
    {
     "ename": "ModuleNotFoundError",
     "evalue": "No module named 'sachin'",
     "output_type": "error",
     "traceback": [
      "\u001b[0;31m---------------------------------------------------------------------------\u001b[0m",
      "\u001b[0;31mModuleNotFoundError\u001b[0m                       Traceback (most recent call last)",
      "Cell \u001b[0;32mIn[54], line 1\u001b[0m\n\u001b[0;32m----> 1\u001b[0m \u001b[38;5;28;01mimport\u001b[39;00m \u001b[38;5;21;01msachin\u001b[39;00m\n",
      "\u001b[0;31mModuleNotFoundError\u001b[0m: No module named 'sachin'"
     ]
    }
   ],
   "source": [
    "import sachin"
   ]
  },
  {
   "cell_type": "code",
   "execution_count": 55,
   "id": "a9b02c94-8e4b-4878-997f-5fc8c85559eb",
   "metadata": {},
   "outputs": [
    {
     "name": "stdout",
     "output_type": "stream",
     "text": [
      "Writing example1.py\n"
     ]
    }
   ],
   "source": [
    "%%writefile example1.py\n",
    "try:\n",
    "    # code to execute\n",
    "    # if error occures then execute except block\n",
    "    print('hello world')\n",
    "    a = float(input('a: ')) # ValueError\n",
    "    b = float(input('b: ')) # ValueError\n",
    "    r = a / b # ZeroDivisionError\n",
    "    print(\"result: \", result) # NameError - result not defined\n",
    "except Exception as err:\n",
    "    print(\"!Somethig went wrong\")\n",
    "    print(err)"
   ]
  },
  {
   "cell_type": "code",
   "execution_count": 57,
   "id": "0e6a9f23-019b-47d3-9c8d-35a95c5f9b2e",
   "metadata": {},
   "outputs": [
    {
     "name": "stdout",
     "output_type": "stream",
     "text": [
      "hello world\n",
      "a: ^C\n",
      "Traceback (most recent call last):\n",
      "  File \"/Users/sachin/Library/CloudStorage/OneDrive-SharedLibraries-GrrasSolutionPvt.Ltd/Py_dsml_Internship_02 - Live Class 📺/Classcode/Python Code/example1.py\", line 5, in <module>\n",
      "    a = float(input('a: ')) # ValueError\n",
      "              ^^^^^^^^^^^^\n",
      "KeyboardInterrupt\n"
     ]
    }
   ],
   "source": [
    "!python example1.py"
   ]
  },
  {
   "cell_type": "code",
   "execution_count": 56,
   "id": "2bc49c21-e7c4-4c62-8dad-b5106adf6cf0",
   "metadata": {},
   "outputs": [
    {
     "name": "stdout",
     "output_type": "stream",
     "text": [
      "hello world!\n"
     ]
    }
   ],
   "source": [
    "!python hello.py"
   ]
  },
  {
   "cell_type": "markdown",
   "id": "eed40c3c-ee15-4f21-ba14-6982013798cf",
   "metadata": {},
   "source": [
    "## Error classes \n",
    "\n",
    "Exception hierarchy\n",
    "The class hierarchy for built-in exceptions is:\n",
    "\n",
    "    BaseException\n",
    "     ├── BaseExceptionGroup\n",
    "     ├── GeneratorExit\n",
    "     ├── KeyboardInterrupt\n",
    "     ├── SystemExit\n",
    "     └── Exception\n",
    "          ├── ArithmeticError\n",
    "          │    ├── FloatingPointError\n",
    "          │    ├── OverflowError\n",
    "          │    └── ZeroDivisionError\n",
    "          ├── AssertionError\n",
    "          ├── AttributeError\n",
    "          ├── BufferError\n",
    "          ├── EOFError\n",
    "          ├── ExceptionGroup [BaseExceptionGroup]\n",
    "          ├── ImportError\n",
    "          │    └── ModuleNotFoundError\n",
    "          ├── LookupError\n",
    "          │    ├── IndexError\n",
    "          │    └── KeyError\n",
    "          ├── MemoryError\n",
    "          ├── NameError\n",
    "          │    └── UnboundLocalError\n",
    "          ├── OSError\n",
    "          │    ├── BlockingIOError\n",
    "          │    ├── ChildProcessError\n",
    "          │    ├── ConnectionError\n",
    "          │    │    ├── BrokenPipeError\n",
    "          │    │    ├── ConnectionAbortedError\n",
    "          │    │    ├── ConnectionRefusedError\n",
    "          │    │    └── ConnectionResetError\n",
    "          │    ├── FileExistsError\n",
    "          │    ├── FileNotFoundError\n",
    "          │    ├── InterruptedError\n",
    "          │    ├── IsADirectoryError\n",
    "          │    ├── NotADirectoryError\n",
    "          │    ├── PermissionError\n",
    "          │    ├── ProcessLookupError\n",
    "          │    └── TimeoutError\n",
    "          ├── ReferenceError\n",
    "          ├── RuntimeError\n",
    "          │    ├── NotImplementedError\n",
    "          │    ├── PythonFinalizationError\n",
    "          │    └── RecursionError\n",
    "          ├── StopAsyncIteration\n",
    "          ├── StopIteration\n",
    "          ├── SyntaxError\n",
    "          │    └── IndentationError\n",
    "          │         └── TabError\n",
    "          ├── SystemError\n",
    "          ├── TypeError\n",
    "          ├── ValueError\n",
    "          │    └── UnicodeError\n",
    "          │         ├── UnicodeDecodeError\n",
    "          │         ├── UnicodeEncodeError\n",
    "          │         └── UnicodeTranslateError\n",
    "          └── Warning\n",
    "               ├── BytesWarning\n",
    "               ├── DeprecationWarning\n",
    "               ├── EncodingWarning\n",
    "               ├── FutureWarning\n",
    "               ├── ImportWarning\n",
    "               ├── PendingDeprecationWarning\n",
    "               ├── ResourceWarning\n",
    "               ├── RuntimeWarning\n",
    "               ├── SyntaxWarning\n",
    "               ├── UnicodeWarning\n",
    "               └── UserWarning"
   ]
  },
  {
   "cell_type": "code",
   "execution_count": 58,
   "id": "d272c76f-4893-431d-99e1-df4dc591b07a",
   "metadata": {},
   "outputs": [
    {
     "name": "stdout",
     "output_type": "stream",
     "text": [
      "hello world\n"
     ]
    },
    {
     "name": "stdin",
     "output_type": "stream",
     "text": [
      "a:  hello\n"
     ]
    },
    {
     "name": "stdout",
     "output_type": "stream",
     "text": [
      "!Somethig went wrong\n",
      "could not convert string to float: 'hello'\n"
     ]
    }
   ],
   "source": [
    "try:\n",
    "    # code to execute\n",
    "    # if error occures then execute except block\n",
    "    print('hello world')\n",
    "    a = float(input('a: ')) # ValueError\n",
    "    b = float(input('b: ')) # ValueError\n",
    "    r = a / b # ZeroDivisionError\n",
    "    print(\"result: \", result) # NameError - result not defined\n",
    "except Exception as err:\n",
    "    print(\"!Somethig went wrong\")\n",
    "    print(err)\n",
    "except ValueError as err:\n",
    "    print(\"Error!!Bhai dekh k input de, number input dena string nahi\")\n",
    "    print(err)"
   ]
  },
  {
   "cell_type": "code",
   "execution_count": 60,
   "id": "dc740200-6a98-4e57-a72d-ed4b819467b2",
   "metadata": {},
   "outputs": [
    {
     "name": "stdout",
     "output_type": "stream",
     "text": [
      "hello world\n"
     ]
    },
    {
     "name": "stdin",
     "output_type": "stream",
     "text": [
      "a:  3.4\n",
      "b:  0\n"
     ]
    },
    {
     "name": "stdout",
     "output_type": "stream",
     "text": [
      "Error! waah Aryabhatt ki aaulad zero se divide karne chale ho\n",
      "float division by zero\n"
     ]
    }
   ],
   "source": [
    "try:\n",
    "    # code to execute\n",
    "    # if error occures then execute except block\n",
    "    print('hello world')\n",
    "    a = float(input('a: ')) # ValueError\n",
    "    b = float(input('b: ')) # ValueError\n",
    "    r = a / b # ZeroDivisionError\n",
    "    print(\"result: \", result) # NameError - result not defined\n",
    "except ValueError as err:\n",
    "    print(\"Error!!Bhai dekh k input de, number input dena string nahi\")\n",
    "    print(err)\n",
    "except ZeroDivisionError as err:\n",
    "    print(\"Error! waah Aryabhatt ki aaulad zero se divide karne chale ho\")\n",
    "    print(err)\n",
    "except Exception as err:\n",
    "    print(\"!Somethig went wrong\")\n",
    "    print(err)\n"
   ]
  },
  {
   "cell_type": "code",
   "execution_count": 61,
   "id": "2129e71e-38b5-4485-a963-7d27a9169682",
   "metadata": {},
   "outputs": [
    {
     "name": "stdout",
     "output_type": "stream",
     "text": [
      "hello world\n"
     ]
    },
    {
     "name": "stdin",
     "output_type": "stream",
     "text": [
      "a:  22\n",
      "b:  7\n"
     ]
    },
    {
     "name": "stdout",
     "output_type": "stream",
     "text": [
      "result:  3.142857142857143\n",
      "This will run only if there is no exception occures in try block\n"
     ]
    }
   ],
   "source": [
    "try:\n",
    "    # code to execute\n",
    "    # if error occures then execute except block\n",
    "    print('hello world')\n",
    "    a = float(input('a: ')) # ValueError\n",
    "    b = float(input('b: ')) # ValueError\n",
    "    r = a / b # ZeroDivisionError\n",
    "    print(\"result: \", r) # NameError - result not defined\n",
    "except ValueError as err:\n",
    "    print(\"Error!!Bhai dekh k input de, number input dena string nahi\")\n",
    "    print(err)\n",
    "except ZeroDivisionError as err:\n",
    "    print(\"Error! waah Aryabhatt ki aaulad zero se divide karne chale ho\")\n",
    "    print(err)\n",
    "except Exception as err:\n",
    "    print(\"!Somethig went wrong\")\n",
    "    print(err)\n",
    "else:\n",
    "    print(\"This will run only if there is no exception occures in try block\")"
   ]
  },
  {
   "cell_type": "code",
   "execution_count": 62,
   "id": "aecb08b7-9088-46bb-831b-e33718d7fe89",
   "metadata": {},
   "outputs": [
    {
     "name": "stdout",
     "output_type": "stream",
     "text": [
      "hello world\n"
     ]
    },
    {
     "name": "stdin",
     "output_type": "stream",
     "text": [
      "a:  fjdksl;\n"
     ]
    },
    {
     "name": "stdout",
     "output_type": "stream",
     "text": [
      "Error!!Bhai dekh k input de, number input dena string nahi\n",
      "could not convert string to float: 'fjdksl;'\n"
     ]
    }
   ],
   "source": [
    "try:\n",
    "    # code to execute\n",
    "    # if error occures then execute except block\n",
    "    print('hello world')\n",
    "    a = float(input('a: ')) # ValueError\n",
    "    b = float(input('b: ')) # ValueError\n",
    "    r = a / b # ZeroDivisionError\n",
    "    print(\"result: \", r) # NameError - result not defined\n",
    "except ValueError as err:\n",
    "    print(\"Error!!Bhai dekh k input de, number input dena string nahi\")\n",
    "    print(err)\n",
    "except ZeroDivisionError as err:\n",
    "    print(\"Error! waah Aryabhatt ki aaulad zero se divide karne chale ho\")\n",
    "    print(err)\n",
    "except Exception as err:\n",
    "    print(\"!Somethig went wrong\")\n",
    "    print(err)\n",
    "else:\n",
    "    print(\"This will run only if there is no exception occures in try block\")"
   ]
  },
  {
   "cell_type": "code",
   "execution_count": 64,
   "id": "097dae52-b83a-4d2d-ba32-5a025fd4adce",
   "metadata": {},
   "outputs": [
    {
     "name": "stdout",
     "output_type": "stream",
     "text": [
      "hello world\n"
     ]
    },
    {
     "name": "stdin",
     "output_type": "stream",
     "text": [
      "a:  jkjh\n"
     ]
    },
    {
     "name": "stdout",
     "output_type": "stream",
     "text": [
      "Error!!Bhai dekh k input de, number input dena string nahi\n",
      "could not convert string to float: 'jkjh'\n",
      "I will run no matter what, errors comes error goes\n"
     ]
    }
   ],
   "source": [
    "try:\n",
    "    # code to execute\n",
    "    # if error occures then execute except block\n",
    "    print('hello world')\n",
    "    a = float(input('a: ')) # ValueError\n",
    "    b = float(input('b: ')) # ValueError\n",
    "    r = a / b # ZeroDivisionError\n",
    "    print(\"result: \", r) # NameError - result not defined\n",
    "except ValueError as err:\n",
    "    print(\"Error!!Bhai dekh k input de, number input dena string nahi\")\n",
    "    print(err)\n",
    "except ZeroDivisionError as err:\n",
    "    print(\"Error! waah Aryabhatt ki aaulad zero se divide karne chale ho\")\n",
    "    print(err)\n",
    "except Exception as err:\n",
    "    print(\"!Somethig went wrong\")\n",
    "    print(err)\n",
    "else:\n",
    "    print(\"This will run only if there is no exception occures in try block\")\n",
    "finally:\n",
    "    print(\"I will run no matter what, errors comes error goes\")"
   ]
  },
  {
   "cell_type": "code",
   "execution_count": 68,
   "id": "c9d41a20-14e5-431a-85dc-f0eed3b9d13c",
   "metadata": {},
   "outputs": [],
   "source": [
    "def func(a, b):\n",
    "    try:\n",
    "        r = a / b\n",
    "        return r # function exit \n",
    "    except TypeError as error:\n",
    "        print(\"!Error!please check both arguments are numbers.\")\n",
    "        return 0\n",
    "    except ZeroDivisionError as error:\n",
    "        print(\"!Error!hey man be kind don't try to divide by zero\")\n",
    "        return 0\n",
    "    else:\n",
    "        print(f\"Good lab if you divde {a} by {b} you get {r}\")\n",
    "        return r\n",
    "    finally:\n",
    "        print(\"!ohh! finally we can finish exception handling\")\n",
    "        return 123"
   ]
  },
  {
   "cell_type": "code",
   "execution_count": 69,
   "id": "4248c589-61f8-42e6-b996-61df151908a5",
   "metadata": {},
   "outputs": [
    {
     "name": "stdout",
     "output_type": "stream",
     "text": [
      "!ohh! finally we can finish exception handling\n",
      "123\n"
     ]
    }
   ],
   "source": [
    "r = func(5, 6)\n",
    "print(r)"
   ]
  },
  {
   "cell_type": "code",
   "execution_count": 70,
   "id": "b7ecc143-8535-4b1e-9863-f822323520de",
   "metadata": {},
   "outputs": [],
   "source": [
    "def func(a, b):\n",
    "    try:\n",
    "        r = a / b\n",
    "    except TypeError as error:\n",
    "        print(\"!Error!please check both arguments are numbers.\")\n",
    "        return 0\n",
    "    except ZeroDivisionError as error:\n",
    "        print(\"!Error!hey man be kind don't try to divide by zero\")\n",
    "        return 0\n",
    "    else:\n",
    "        print(f\"Good lad if you divde {a} by {b} you get {r}\")\n",
    "        return r\n",
    "    finally:\n",
    "        print(\"!ohh! finally we can finish exception handling\")\n",
    "        "
   ]
  },
  {
   "cell_type": "code",
   "execution_count": 71,
   "id": "1ca63332-45c4-47a1-949f-0f9b0ced61ba",
   "metadata": {},
   "outputs": [
    {
     "name": "stdout",
     "output_type": "stream",
     "text": [
      "Good lab if you divde 5 by 6 you get 0.8333333333333334\n",
      "!ohh! finally we can finish exception handling\n",
      "0.8333333333333334\n"
     ]
    }
   ],
   "source": [
    "r = func(5, 6)\n",
    "print(r) # None ? 0.8"
   ]
  },
  {
   "cell_type": "markdown",
   "id": "6e70dc99-0ad1-43be-84b6-bb77b93e1580",
   "metadata": {},
   "source": [
    "### to make exception happen\n",
    "\n",
    "    raise ErrorClass(error_message)"
   ]
  },
  {
   "cell_type": "code",
   "execution_count": 72,
   "id": "f2278b19-e16a-4b92-92bd-60a4dd59a973",
   "metadata": {},
   "outputs": [
    {
     "ename": "FileExistsError",
     "evalue": "this file alreay exists",
     "output_type": "error",
     "traceback": [
      "\u001b[0;31m---------------------------------------------------------------------------\u001b[0m",
      "\u001b[0;31mFileExistsError\u001b[0m                           Traceback (most recent call last)",
      "Cell \u001b[0;32mIn[72], line 1\u001b[0m\n\u001b[0;32m----> 1\u001b[0m \u001b[38;5;28;01mraise\u001b[39;00m \u001b[38;5;167;01mFileExistsError\u001b[39;00m(\u001b[38;5;124m'\u001b[39m\u001b[38;5;124mthis file alreay exists\u001b[39m\u001b[38;5;124m'\u001b[39m)\n",
      "\u001b[0;31mFileExistsError\u001b[0m: this file alreay exists"
     ]
    }
   ],
   "source": [
    "raise FileExistsError('this file alreay exists')"
   ]
  },
  {
   "cell_type": "code",
   "execution_count": 78,
   "id": "655757db-884f-4c40-9618-321f9b80eda3",
   "metadata": {},
   "outputs": [],
   "source": [
    "def div(a, b):\n",
    "    if b <= 0:\n",
    "        raise ZeroDivisionError('b is zero')\n",
    "    return a / b"
   ]
  },
  {
   "cell_type": "code",
   "execution_count": 79,
   "id": "5e95e783-4699-4191-9090-c397ab2a877d",
   "metadata": {},
   "outputs": [
    {
     "ename": "ZeroDivisionError",
     "evalue": "b is zero",
     "output_type": "error",
     "traceback": [
      "\u001b[0;31m---------------------------------------------------------------------------\u001b[0m",
      "\u001b[0;31mZeroDivisionError\u001b[0m                         Traceback (most recent call last)",
      "Cell \u001b[0;32mIn[79], line 1\u001b[0m\n\u001b[0;32m----> 1\u001b[0m div(\u001b[38;5;241m5\u001b[39m, \u001b[38;5;241m-\u001b[39m\u001b[38;5;241m10\u001b[39m)\n",
      "Cell \u001b[0;32mIn[78], line 3\u001b[0m, in \u001b[0;36mdiv\u001b[0;34m(a, b)\u001b[0m\n\u001b[1;32m      1\u001b[0m \u001b[38;5;28;01mdef\u001b[39;00m \u001b[38;5;21mdiv\u001b[39m(a, b):\n\u001b[1;32m      2\u001b[0m     \u001b[38;5;28;01mif\u001b[39;00m b \u001b[38;5;241m<\u001b[39m\u001b[38;5;241m=\u001b[39m \u001b[38;5;241m0\u001b[39m:\n\u001b[0;32m----> 3\u001b[0m         \u001b[38;5;28;01mraise\u001b[39;00m \u001b[38;5;167;01mZeroDivisionError\u001b[39;00m(\u001b[38;5;124m'\u001b[39m\u001b[38;5;124mb is zero\u001b[39m\u001b[38;5;124m'\u001b[39m)\n\u001b[1;32m      4\u001b[0m     \u001b[38;5;28;01mreturn\u001b[39;00m a \u001b[38;5;241m/\u001b[39m b\n",
      "\u001b[0;31mZeroDivisionError\u001b[0m: b is zero"
     ]
    }
   ],
   "source": [
    "div(5, -10)"
   ]
  },
  {
   "cell_type": "markdown",
   "id": "fcb46447-420d-4571-a558-3d40a9c641fc",
   "metadata": {},
   "source": [
    "#### Custom Exception Class"
   ]
  },
  {
   "cell_type": "code",
   "execution_count": 80,
   "id": "7ffa7fad-39aa-48da-a386-6443f31758eb",
   "metadata": {},
   "outputs": [],
   "source": [
    "class MyError(Exception):\n",
    "    def __init__(self, *arg, **kwargs):\n",
    "        super().__init__(*arg, **kwargs)\n",
    "        self.do_this()\n",
    "        self.do_that()\n",
    "    def do_this(self):\n",
    "        print(\"if my error comes do this first\")\n",
    "    def do_that(self):\n",
    "        print(\"do that also if my error occures\")"
   ]
  },
  {
   "cell_type": "code",
   "execution_count": 81,
   "id": "00d94850-d73c-4fcc-b038-826e46b15657",
   "metadata": {},
   "outputs": [
    {
     "name": "stdout",
     "output_type": "stream",
     "text": [
      "if my error comes do this first\n",
      "do that also if my error occures\n"
     ]
    },
    {
     "ename": "MyError",
     "evalue": "just for fun",
     "output_type": "error",
     "traceback": [
      "\u001b[0;31m---------------------------------------------------------------------------\u001b[0m",
      "\u001b[0;31mMyError\u001b[0m                                   Traceback (most recent call last)",
      "Cell \u001b[0;32mIn[81], line 1\u001b[0m\n\u001b[0;32m----> 1\u001b[0m \u001b[38;5;28;01mraise\u001b[39;00m MyError(\u001b[38;5;124m'\u001b[39m\u001b[38;5;124mjust for fun\u001b[39m\u001b[38;5;124m'\u001b[39m)\n",
      "\u001b[0;31mMyError\u001b[0m: just for fun"
     ]
    }
   ],
   "source": [
    "raise MyError('just for fun')"
   ]
  },
  {
   "cell_type": "code",
   "execution_count": 87,
   "id": "cf56c241-a3e4-4d74-b10d-4991a2f652bc",
   "metadata": {},
   "outputs": [],
   "source": [
    "def add(a, b):\n",
    "    \"\"\"\n",
    "        return sum of a and b even if a and b is negative\n",
    "    \"\"\"\n",
    "    return abs(a) + abs(b)"
   ]
  },
  {
   "cell_type": "code",
   "execution_count": 89,
   "id": "3a4d9943-d34d-4898-a990-9b171d225753",
   "metadata": {},
   "outputs": [],
   "source": [
    "# testing\n",
    "\n",
    "assert add(4,5) == 9, \"Test case 1 failed not able add positive number\"\n",
    "\n",
    "assert add(-4, 5) == 9, \"case negative nunmber addition not working fine\"\n"
   ]
  },
  {
   "cell_type": "code",
   "execution_count": 94,
   "id": "428a1670-1ced-4e49-ba48-161104a003c1",
   "metadata": {},
   "outputs": [],
   "source": [
    "assert True, \"no error\""
   ]
  },
  {
   "cell_type": "code",
   "execution_count": 92,
   "id": "0f25e881-9b64-4867-854d-789f608c7c25",
   "metadata": {},
   "outputs": [
    {
     "ename": "AssertionError",
     "evalue": "assertion error some test case failed",
     "output_type": "error",
     "traceback": [
      "\u001b[0;31m---------------------------------------------------------------------------\u001b[0m",
      "\u001b[0;31mAssertionError\u001b[0m                            Traceback (most recent call last)",
      "Cell \u001b[0;32mIn[92], line 1\u001b[0m\n\u001b[0;32m----> 1\u001b[0m \u001b[38;5;28;01massert\u001b[39;00m \u001b[38;5;28;01mFalse\u001b[39;00m, \u001b[38;5;124m\"\u001b[39m\u001b[38;5;124massertion error some test case failed\u001b[39m\u001b[38;5;124m\"\u001b[39m\n",
      "\u001b[0;31mAssertionError\u001b[0m: assertion error some test case failed"
     ]
    }
   ],
   "source": [
    "assert False, \"assertion error some test case failed\""
   ]
  },
  {
   "cell_type": "markdown",
   "id": "aa6a88a1-f8f8-4dd3-869b-38b21fcd487e",
   "metadata": {},
   "source": [
    "## Doubt ? "
   ]
  },
  {
   "cell_type": "markdown",
   "id": "3152b2dd-ee9e-43aa-816d-631280e7a3e6",
   "metadata": {},
   "source": [
    "temproray ?\n",
    "\n",
    "    files manage -> tuff file --> bytes / text, serilzations (YAML, XML, JSON, HD5, ...)\n",
    "\n",
    "    database --> efficient --> CURD "
   ]
  },
  {
   "cell_type": "markdown",
   "id": "8d875f2b-170a-48fa-af83-469c09fd9886",
   "metadata": {},
   "source": [
    "### 4-5\n",
    "\n",
    "Data Collection \n",
    "\n",
    "    Database --> Data Engineer, Database Admin\n",
    "    APIs -->  Application Programming Interface    Front End (html, css, js) <------> Backend (node js, python)\n",
    "    Web Scrapping --> \n",
    "    data sources  --> public domain\n",
    "    EXCEL, CSV, HD5, parquet ???\n",
    "    \n",
    "    microservices "
   ]
  },
  {
   "cell_type": "markdown",
   "id": "6aeb7b9e-8a09-4435-af6a-609587571238",
   "metadata": {},
   "source": [
    "lambda, map, filter, reduce"
   ]
  },
  {
   "cell_type": "markdown",
   "id": "04052445-bcc8-4a67-a145-d437dd01694c",
   "metadata": {},
   "source": [
    "map --> generate"
   ]
  },
  {
   "cell_type": "code",
   "execution_count": 96,
   "id": "bad6f5cb-cc4a-4c78-9fa4-d7e990a47e43",
   "metadata": {},
   "outputs": [
    {
     "name": "stdout",
     "output_type": "stream",
     "text": [
      "[49, 4, 9]\n"
     ]
    }
   ],
   "source": [
    "def square(num):\n",
    "    return num**2\n",
    "\n",
    "nums = [4, 7, 2, 3, 6]\n",
    "\n",
    "exp = map(square, nums)\n",
    "# exp -> map<square, nums>\n",
    "nums.pop(0)\n",
    "nums.pop()\n",
    "# nums = [ 7, 2, 3 ]\n",
    "result = list(exp)\n",
    "print(result)\n",
    "# [16, 49, 4, 9, 36]"
   ]
  },
  {
   "cell_type": "markdown",
   "id": "1b7f679e-0d92-49f8-a94a-e199e8f5a9d4",
   "metadata": {},
   "source": [
    "### Lambda \n",
    "\n",
    "    Anonymous function or inline function \n",
    "\n",
    "    Lazy in nature \n",
    "\n",
    "    syntax\n",
    "\n",
    "        func = lambda arg1, arg2, ... : return_statement"
   ]
  },
  {
   "cell_type": "code",
   "execution_count": 98,
   "id": "f1bd18a5-0644-438b-a03a-5f66a0b7e4d1",
   "metadata": {},
   "outputs": [
    {
     "name": "stdout",
     "output_type": "stream",
     "text": [
      "4\n"
     ]
    }
   ],
   "source": [
    "def square(x):\n",
    "    return x**2\n",
    "\n",
    "ans = square(2)\n",
    "print(ans)"
   ]
  },
  {
   "cell_type": "code",
   "execution_count": 99,
   "id": "012cbca4-326d-4dd3-9164-5a28bae97200",
   "metadata": {},
   "outputs": [],
   "source": [
    "sq = lambda x: x**2\n",
    "# lambda arg: return"
   ]
  },
  {
   "cell_type": "code",
   "execution_count": 100,
   "id": "0ba88494-9b05-4024-8811-e6661be6d860",
   "metadata": {},
   "outputs": [
    {
     "name": "stdout",
     "output_type": "stream",
     "text": [
      "4\n"
     ]
    }
   ],
   "source": [
    "ans = sq(2)\n",
    "print(ans)"
   ]
  },
  {
   "cell_type": "code",
   "execution_count": 101,
   "id": "e3f3b180-9508-4c3d-81a4-5a697ff412c2",
   "metadata": {},
   "outputs": [
    {
     "name": "stdout",
     "output_type": "stream",
     "text": [
      "<function square at 0x14725f920>\n",
      "<function <lambda> at 0x147854b80>\n"
     ]
    }
   ],
   "source": [
    "print(square)\n",
    "print(sq)"
   ]
  },
  {
   "cell_type": "code",
   "execution_count": 102,
   "id": "49f85f40-06b5-4f52-9d2a-27131c2ed499",
   "metadata": {},
   "outputs": [
    {
     "data": {
      "text/plain": [
       "4"
      ]
     },
     "execution_count": 102,
     "metadata": {},
     "output_type": "execute_result"
    }
   ],
   "source": [
    "(lambda x: x**2)(2)"
   ]
  },
  {
   "cell_type": "code",
   "execution_count": null,
   "id": "6716924d-a4e3-4b43-87e2-827c0b3d4801",
   "metadata": {},
   "outputs": [],
   "source": []
  },
  {
   "cell_type": "code",
   "execution_count": 103,
   "id": "3762d06c-e0ee-4211-9c8f-9d1e49a26a44",
   "metadata": {},
   "outputs": [
    {
     "data": {
      "text/plain": [
       "[1, 4, 9, 16, 25]"
      ]
     },
     "execution_count": 103,
     "metadata": {},
     "output_type": "execute_result"
    }
   ],
   "source": [
    "list(map(lambda x:x**2, [1, 2, 3, 4, 5]))"
   ]
  },
  {
   "cell_type": "code",
   "execution_count": 104,
   "id": "60126cb7-e86f-441b-b1d0-31e1a71fc868",
   "metadata": {},
   "outputs": [],
   "source": [
    "def add(a, b):\n",
    "    return a + b"
   ]
  },
  {
   "cell_type": "code",
   "execution_count": 105,
   "id": "ff7f2fe5-4d61-4af8-8568-c0a71df2f39f",
   "metadata": {},
   "outputs": [],
   "source": [
    "f = lambda a, b : a + b"
   ]
  },
  {
   "cell_type": "code",
   "execution_count": 106,
   "id": "90bac1ab-95b9-47b2-9bd3-bd22cb5387d9",
   "metadata": {},
   "outputs": [
    {
     "data": {
      "text/plain": [
       "3"
      ]
     },
     "execution_count": 106,
     "metadata": {},
     "output_type": "execute_result"
    }
   ],
   "source": [
    "f(1, 2)"
   ]
  },
  {
   "cell_type": "code",
   "execution_count": 107,
   "id": "95e75800-4ada-4ae8-91f0-1f2569f71ad3",
   "metadata": {},
   "outputs": [],
   "source": [
    "def greatest(a, b, c):\n",
    "    if a>b and a > c:\n",
    "        return a\n",
    "    elif b>c:\n",
    "        return b\n",
    "    else:\n",
    "        return c"
   ]
  },
  {
   "cell_type": "code",
   "execution_count": 109,
   "id": "28a1b28e-900b-4d44-be7b-e517231713fe",
   "metadata": {},
   "outputs": [
    {
     "data": {
      "text/plain": [
       "15"
      ]
     },
     "execution_count": 109,
     "metadata": {},
     "output_type": "execute_result"
    }
   ],
   "source": [
    "greatest(4, 15, 6)"
   ]
  },
  {
   "cell_type": "code",
   "execution_count": 111,
   "id": "8dfea269-5144-4673-86e0-af7de09c1525",
   "metadata": {},
   "outputs": [
    {
     "data": {
      "text/plain": [
       "'bye'"
      ]
     },
     "execution_count": 111,
     "metadata": {},
     "output_type": "execute_result"
    }
   ],
   "source": [
    "'hi' if False else 'bye'"
   ]
  },
  {
   "cell_type": "code",
   "execution_count": 113,
   "id": "cb408caf-c954-4cbc-b478-a2ddc89e1684",
   "metadata": {},
   "outputs": [],
   "source": [
    "def f(cond1, cond2):\n",
    "    if cond1:\n",
    "        return 'hi'\n",
    "    else:\n",
    "        if cond2:\n",
    "            return 'bye bye'\n",
    "        else:\n",
    "            return 'are you getting it ?'"
   ]
  },
  {
   "cell_type": "code",
   "execution_count": 114,
   "id": "8cf0d14a-26ad-4bd2-8529-560fddb01c99",
   "metadata": {},
   "outputs": [
    {
     "data": {
      "text/plain": [
       "'are you getting it ?'"
      ]
     },
     "execution_count": 114,
     "metadata": {},
     "output_type": "execute_result"
    }
   ],
   "source": [
    "f(False, False)"
   ]
  },
  {
   "cell_type": "code",
   "execution_count": 115,
   "id": "9b655de3-b14b-4831-a7df-8ff60b897f8f",
   "metadata": {},
   "outputs": [
    {
     "data": {
      "text/plain": [
       "'are you getting it ?'"
      ]
     },
     "execution_count": 115,
     "metadata": {},
     "output_type": "execute_result"
    }
   ],
   "source": [
    "'hi' if False else 'bye bye' if False else 'are you getting it ?'"
   ]
  },
  {
   "cell_type": "code",
   "execution_count": 116,
   "id": "a96487ed-700d-4d1a-aaf7-431456ec5f39",
   "metadata": {},
   "outputs": [],
   "source": [
    "def greatest(a, b, c):\n",
    "    if a>b and a > c:\n",
    "        return a\n",
    "    elif b>c:\n",
    "        return b\n",
    "    else:\n",
    "        return c"
   ]
  },
  {
   "cell_type": "code",
   "execution_count": 117,
   "id": "be6780d7-dcdf-4d9f-bece-5104e4d0eecd",
   "metadata": {},
   "outputs": [],
   "source": [
    "great = lambda a,b,c: a if a>b and a>c else b if b>c else c"
   ]
  },
  {
   "cell_type": "code",
   "execution_count": 118,
   "id": "66e58d83-9e37-4220-a9b5-e5c776b74532",
   "metadata": {},
   "outputs": [
    {
     "data": {
      "text/plain": [
       "3"
      ]
     },
     "execution_count": 118,
     "metadata": {},
     "output_type": "execute_result"
    }
   ],
   "source": [
    "great(1, 2,3 )"
   ]
  },
  {
   "cell_type": "code",
   "execution_count": 119,
   "id": "fa3761d9-d61f-4b69-9ff6-b7c89d7329eb",
   "metadata": {},
   "outputs": [
    {
     "data": {
      "text/plain": [
       "3"
      ]
     },
     "execution_count": 119,
     "metadata": {},
     "output_type": "execute_result"
    }
   ],
   "source": [
    "great(1, 3, 2)"
   ]
  },
  {
   "cell_type": "code",
   "execution_count": 120,
   "id": "d80fb2d6-97a0-4791-ab0a-bff097ef9297",
   "metadata": {},
   "outputs": [
    {
     "data": {
      "text/plain": [
       "3"
      ]
     },
     "execution_count": 120,
     "metadata": {},
     "output_type": "execute_result"
    }
   ],
   "source": [
    "great(3, 2, 1)"
   ]
  },
  {
   "cell_type": "markdown",
   "id": "36d3404f-01d3-4675-b2c2-0916a5b15f00",
   "metadata": {},
   "source": [
    "# file handing\n",
    "\n",
    "## Database \n",
    "\n",
    "### APIs"
   ]
  },
  {
   "cell_type": "code",
   "execution_count": null,
   "id": "50dd63a9-2351-444d-8b28-2480b2cb7ef8",
   "metadata": {},
   "outputs": [],
   "source": []
  }
 ],
 "metadata": {
  "kernelspec": {
   "display_name": "Python [conda env:base] *",
   "language": "python",
   "name": "conda-base-py"
  },
  "language_info": {
   "codemirror_mode": {
    "name": "ipython",
    "version": 3
   },
   "file_extension": ".py",
   "mimetype": "text/x-python",
   "name": "python",
   "nbconvert_exporter": "python",
   "pygments_lexer": "ipython3",
   "version": "3.12.7"
  }
 },
 "nbformat": 4,
 "nbformat_minor": 5
}
