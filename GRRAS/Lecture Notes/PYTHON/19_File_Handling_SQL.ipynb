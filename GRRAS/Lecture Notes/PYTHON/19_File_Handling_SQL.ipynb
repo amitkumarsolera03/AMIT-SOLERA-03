{
 "cells": [
  {
   "cell_type": "code",
   "execution_count": 40,
   "id": "1333d85a-740b-4f8c-ab5b-83717518fe85",
   "metadata": {},
   "outputs": [],
   "source": [
    "class A:\n",
    "    __count = 0\n",
    "    info = \"This is a Class variable shared accross all objects\"\n",
    "    def __init__(self, name):\n",
    "        A.__count += 1\n",
    "        self.name = name\n",
    "    def instance_method(self):\n",
    "        print(\"this is a instance can be called using instance of class A\")\n",
    "        print(\"Name =\", self.name) # self -> {'name': 'sachin yadav' }\n",
    "        print(\"info = \", self.info) # ? cls.info -> A.info\n",
    "        self.info = \"new info\" # object attribute \n",
    "        # {'name': 'sachin yadav', 'info': 'new info' }\n",
    "    @classmethod\n",
    "    def class_method(cls):\n",
    "        print(\"this is a class method, can be called using object or class\")\n",
    "        print(f\"info = {cls.info}\")\n",
    "    @classmethod\n",
    "    def update_info(cls, new_info):\n",
    "        cls.info = new_info\n",
    "    @staticmethod\n",
    "    def author():\n",
    "        print(\"it does not have access to class or object attributes\")\n",
    "        print(\"This class is written by Sachin Yadav\")\n",
    "    @classmethod\n",
    "    def no_of_objects(cls):\n",
    "        return cls.__count\n",
    "    @classmethod\n",
    "    def get_info(cls):\n",
    "        return cls.info\n",
    "        \n",
    "    "
   ]
  },
  {
   "cell_type": "code",
   "execution_count": 41,
   "id": "6ab264c5-31f6-49e9-a2bc-7ed3fcbf03aa",
   "metadata": {},
   "outputs": [
    {
     "name": "stdout",
     "output_type": "stream",
     "text": [
      "it does not have access to class or object attributes\n",
      "This class is written by Sachin Yadav\n"
     ]
    }
   ],
   "source": [
    "A.author()"
   ]
  },
  {
   "cell_type": "code",
   "execution_count": 42,
   "id": "e3e9c46e-a9da-4ee4-9514-9e5e0f4f0ba0",
   "metadata": {},
   "outputs": [
    {
     "data": {
      "text/plain": [
       "0"
      ]
     },
     "execution_count": 42,
     "metadata": {},
     "output_type": "execute_result"
    }
   ],
   "source": [
    "A.no_of_objects()"
   ]
  },
  {
   "cell_type": "code",
   "execution_count": 43,
   "id": "5bfb2f29-6c3e-459a-a5e4-2c9390012e56",
   "metadata": {},
   "outputs": [
    {
     "ename": "TypeError",
     "evalue": "A.instance_method() missing 1 required positional argument: 'self'",
     "output_type": "error",
     "traceback": [
      "\u001b[0;31m---------------------------------------------------------------------------\u001b[0m",
      "\u001b[0;31mTypeError\u001b[0m                                 Traceback (most recent call last)",
      "Cell \u001b[0;32mIn[43], line 1\u001b[0m\n\u001b[0;32m----> 1\u001b[0m A\u001b[38;5;241m.\u001b[39minstance_method()\n",
      "\u001b[0;31mTypeError\u001b[0m: A.instance_method() missing 1 required positional argument: 'self'"
     ]
    }
   ],
   "source": [
    "A.instance_method()"
   ]
  },
  {
   "cell_type": "code",
   "execution_count": 44,
   "id": "ba14b59f-a1ac-4e2e-934a-62aed04e50a9",
   "metadata": {},
   "outputs": [],
   "source": [
    "x = A('sachin yadav')\n",
    "y = A('rajat goyal')"
   ]
  },
  {
   "cell_type": "code",
   "execution_count": 45,
   "id": "a07d63c7-b83b-4c1f-8d84-47c9b0057f45",
   "metadata": {},
   "outputs": [
    {
     "data": {
      "text/plain": [
       "2"
      ]
     },
     "execution_count": 45,
     "metadata": {},
     "output_type": "execute_result"
    }
   ],
   "source": [
    "A.no_of_objects()"
   ]
  },
  {
   "cell_type": "code",
   "execution_count": 46,
   "id": "811b466a-2086-4931-8bcf-3bb69c90b1a7",
   "metadata": {},
   "outputs": [
    {
     "data": {
      "text/plain": [
       "2"
      ]
     },
     "execution_count": 46,
     "metadata": {},
     "output_type": "execute_result"
    }
   ],
   "source": [
    "x.no_of_objects()"
   ]
  },
  {
   "cell_type": "code",
   "execution_count": 47,
   "id": "54ce23c1-8a15-4d58-be31-c2500db2a75e",
   "metadata": {},
   "outputs": [
    {
     "name": "stdout",
     "output_type": "stream",
     "text": [
      "this is a instance can be called using instance of class A\n",
      "Name = sachin yadav\n",
      "info =  This is a Class variable shared accross all objects\n"
     ]
    }
   ],
   "source": [
    "x.instance_method()"
   ]
  },
  {
   "cell_type": "code",
   "execution_count": 48,
   "id": "bb52765c-3b6e-4283-9f8a-7007833a64ee",
   "metadata": {},
   "outputs": [
    {
     "name": "stdout",
     "output_type": "stream",
     "text": [
      "this is a instance can be called using instance of class A\n",
      "Name = sachin yadav\n",
      "info =  new info\n"
     ]
    }
   ],
   "source": [
    "x.instance_method()"
   ]
  },
  {
   "cell_type": "code",
   "execution_count": 49,
   "id": "b4f8b94a-c558-477b-b42e-bc2a0ce051cf",
   "metadata": {},
   "outputs": [
    {
     "name": "stdout",
     "output_type": "stream",
     "text": [
      "this is a instance can be called using instance of class A\n",
      "Name = rajat goyal\n",
      "info =  This is a Class variable shared accross all objects\n"
     ]
    }
   ],
   "source": [
    "y.instance_method()"
   ]
  },
  {
   "cell_type": "code",
   "execution_count": 50,
   "id": "edffc5b7-1ddd-4ce3-9fef-4460d54d42cd",
   "metadata": {},
   "outputs": [],
   "source": [
    "z = A('rahul')\n"
   ]
  },
  {
   "cell_type": "code",
   "execution_count": 51,
   "id": "dd6bce2e-4c77-4abc-b537-15cd86260ae2",
   "metadata": {},
   "outputs": [
    {
     "data": {
      "text/plain": [
       "3"
      ]
     },
     "execution_count": 51,
     "metadata": {},
     "output_type": "execute_result"
    }
   ],
   "source": [
    "x.no_of_objects()"
   ]
  },
  {
   "cell_type": "code",
   "execution_count": 52,
   "id": "1d4324f9-7e60-4dca-ad45-85495969cb8b",
   "metadata": {},
   "outputs": [
    {
     "name": "stdout",
     "output_type": "stream",
     "text": [
      "this is a instance can be called using instance of class A\n",
      "Name = sachin yadav\n",
      "info =  new info\n"
     ]
    }
   ],
   "source": [
    "x.instance_method()"
   ]
  },
  {
   "cell_type": "code",
   "execution_count": 53,
   "id": "2c176c8f-d8fe-4608-b0e1-ea060ab066b6",
   "metadata": {},
   "outputs": [
    {
     "data": {
      "text/plain": [
       "'This is a Class variable shared accross all objects'"
      ]
     },
     "execution_count": 53,
     "metadata": {},
     "output_type": "execute_result"
    }
   ],
   "source": [
    "A.info"
   ]
  },
  {
   "cell_type": "code",
   "execution_count": 54,
   "id": "af19efd2-2952-4ce8-9812-d6f94d8e7081",
   "metadata": {},
   "outputs": [
    {
     "data": {
      "text/plain": [
       "'new info'"
      ]
     },
     "execution_count": 54,
     "metadata": {},
     "output_type": "execute_result"
    }
   ],
   "source": [
    "x.info"
   ]
  },
  {
   "cell_type": "code",
   "execution_count": 55,
   "id": "22c83ddc-8b79-4422-b67f-545a3765e980",
   "metadata": {},
   "outputs": [
    {
     "name": "stdout",
     "output_type": "stream",
     "text": [
      "it does not have access to class or object attributes\n",
      "This class is written by Sachin Yadav\n"
     ]
    }
   ],
   "source": [
    "A.author()"
   ]
  },
  {
   "cell_type": "code",
   "execution_count": 56,
   "id": "0f874975-adfe-451c-9fb6-475fbc509bdf",
   "metadata": {},
   "outputs": [
    {
     "name": "stdout",
     "output_type": "stream",
     "text": [
      "it does not have access to class or object attributes\n",
      "This class is written by Sachin Yadav\n"
     ]
    }
   ],
   "source": [
    "x.author()"
   ]
  },
  {
   "cell_type": "code",
   "execution_count": 57,
   "id": "53d5f689-10e7-48d4-92e7-17aa93dc70b0",
   "metadata": {},
   "outputs": [
    {
     "data": {
      "text/plain": [
       "'This is a Class variable shared accross all objects'"
      ]
     },
     "execution_count": 57,
     "metadata": {},
     "output_type": "execute_result"
    }
   ],
   "source": [
    "A.info"
   ]
  },
  {
   "cell_type": "code",
   "execution_count": 58,
   "id": "6047acad-4caa-49b3-add5-35535427da92",
   "metadata": {},
   "outputs": [],
   "source": [
    "A.update_info(\"can we go next topic\")"
   ]
  },
  {
   "cell_type": "code",
   "execution_count": 60,
   "id": "e6961253-70fc-4c49-b355-ce7b19f540a9",
   "metadata": {},
   "outputs": [
    {
     "data": {
      "text/plain": [
       "'can we go next topic'"
      ]
     },
     "execution_count": 60,
     "metadata": {},
     "output_type": "execute_result"
    }
   ],
   "source": [
    "x.get_info()"
   ]
  },
  {
   "cell_type": "code",
   "execution_count": 61,
   "id": "07e85611-968b-4e97-a963-ab266f9d8f0f",
   "metadata": {},
   "outputs": [
    {
     "data": {
      "text/plain": [
       "'can we go next topic'"
      ]
     },
     "execution_count": 61,
     "metadata": {},
     "output_type": "execute_result"
    }
   ],
   "source": [
    "y.get_info()"
   ]
  },
  {
   "cell_type": "code",
   "execution_count": 62,
   "id": "02963aa6-0015-4842-9044-58e1b78c7874",
   "metadata": {},
   "outputs": [
    {
     "data": {
      "text/plain": [
       "'can we go next topic'"
      ]
     },
     "execution_count": 62,
     "metadata": {},
     "output_type": "execute_result"
    }
   ],
   "source": [
    "z.get_info()"
   ]
  },
  {
   "cell_type": "markdown",
   "id": "1b33f5df-9f87-4405-b1e9-84238caa026b",
   "metadata": {},
   "source": [
    "### File Handling "
   ]
  },
  {
   "cell_type": "markdown",
   "id": "5078bba4-d7ce-44e8-a884-0e26faa84ef3",
   "metadata": {},
   "source": [
    "    what is file handing and why we use ? "
   ]
  },
  {
   "cell_type": "markdown",
   "id": "0cc4fffc-f51e-4de1-af3b-110a3cacfa6f",
   "metadata": {},
   "source": [
    "    Text File --> Encoding (UTF-8, ascii, ....) Human readable files \n",
    "\n",
    "    Binary Files --> Bytes --> special encoding\n",
    "\n",
    "    "
   ]
  },
  {
   "cell_type": "markdown",
   "id": "291fec9f-307c-451d-b240-371c4adf61e2",
   "metadata": {},
   "source": [
    "    Files --> persistenc collection of data\n",
    "\n",
    "\n",
    "    "
   ]
  },
  {
   "cell_type": "markdown",
   "id": "f20bbb6f-bf1a-4a8c-8125-ffd8abae7b9d",
   "metadata": {},
   "source": [
    "    file_obj = open(\"file path\", \"mode\")\n",
    "\n",
    "    file_obj.read(5)\n",
    "\n",
    "    file_obj.write('information as string')\n",
    "\n",
    "    file_obj.flush() # enforce file obj to write data into HDD from RAM\n",
    "\n",
    "    file_obj.close()  # flush and close file\n",
    "    "
   ]
  },
  {
   "cell_type": "markdown",
   "id": "129f1521-c43c-414a-80d8-a25f315c2b34",
   "metadata": {},
   "source": [
    "    Data Types ---> RAM \n",
    "\n",
    "            Buffer --> 2 MB\n",
    "            \n",
    "    content write file --> RAM --> Flush ---> HDD/SDD\n",
    "\n",
    "                "
   ]
  },
  {
   "cell_type": "markdown",
   "id": "a2932c95-cc86-42f5-808e-1b44548255e4",
   "metadata": {},
   "source": [
    "File Path\n",
    "\n",
    "    Absolute Path          and            Relative Path\n",
    "\n",
    "    root directory                         PWD\n",
    "\n",
    "        C:\\, D:\\, E:\\                      Desktop/class_code\n",
    "\n",
    "     # path ->  C:\\\\users\\\\sachin\\\\Desktop\\\\classcode\\\\filehandling\\\\info.txt  (absolute path)\n",
    "     # pwd  ->  C:\\\\users\\\\sachin\\\\Desktop\\\\classcode\n",
    "     # path ->   filehandling\\\\info.txt      (relative path)\n",
    "\n",
    "     # /users/sachin/Desktop/classcode/filehandling/info.txt - absolute\n",
    "     # filehandling/info.txt"
   ]
  },
  {
   "cell_type": "code",
   "execution_count": 63,
   "id": "030e0cc8-6b68-4764-a943-5f26532587d2",
   "metadata": {},
   "outputs": [
    {
     "ename": "FileNotFoundError",
     "evalue": "[Errno 2] No such file or directory: '/abcd/def/jadu.txt'",
     "output_type": "error",
     "traceback": [
      "\u001b[0;31m---------------------------------------------------------------------------\u001b[0m",
      "\u001b[0;31mFileNotFoundError\u001b[0m                         Traceback (most recent call last)",
      "Cell \u001b[0;32mIn[63], line 1\u001b[0m\n\u001b[0;32m----> 1\u001b[0m fp \u001b[38;5;241m=\u001b[39m \u001b[38;5;28mopen\u001b[39m(\u001b[38;5;124m'\u001b[39m\u001b[38;5;124m/abcd/def/jadu.txt\u001b[39m\u001b[38;5;124m'\u001b[39m)\n",
      "File \u001b[0;32m/opt/anaconda3/lib/python3.12/site-packages/IPython/core/interactiveshell.py:324\u001b[0m, in \u001b[0;36m_modified_open\u001b[0;34m(file, *args, **kwargs)\u001b[0m\n\u001b[1;32m    317\u001b[0m \u001b[38;5;28;01mif\u001b[39;00m file \u001b[38;5;129;01min\u001b[39;00m {\u001b[38;5;241m0\u001b[39m, \u001b[38;5;241m1\u001b[39m, \u001b[38;5;241m2\u001b[39m}:\n\u001b[1;32m    318\u001b[0m     \u001b[38;5;28;01mraise\u001b[39;00m \u001b[38;5;167;01mValueError\u001b[39;00m(\n\u001b[1;32m    319\u001b[0m         \u001b[38;5;124mf\u001b[39m\u001b[38;5;124m\"\u001b[39m\u001b[38;5;124mIPython won\u001b[39m\u001b[38;5;124m'\u001b[39m\u001b[38;5;124mt let you open fd=\u001b[39m\u001b[38;5;132;01m{\u001b[39;00mfile\u001b[38;5;132;01m}\u001b[39;00m\u001b[38;5;124m by default \u001b[39m\u001b[38;5;124m\"\u001b[39m\n\u001b[1;32m    320\u001b[0m         \u001b[38;5;124m\"\u001b[39m\u001b[38;5;124mas it is likely to crash IPython. If you know what you are doing, \u001b[39m\u001b[38;5;124m\"\u001b[39m\n\u001b[1;32m    321\u001b[0m         \u001b[38;5;124m\"\u001b[39m\u001b[38;5;124myou can use builtins\u001b[39m\u001b[38;5;124m'\u001b[39m\u001b[38;5;124m open.\u001b[39m\u001b[38;5;124m\"\u001b[39m\n\u001b[1;32m    322\u001b[0m     )\n\u001b[0;32m--> 324\u001b[0m \u001b[38;5;28;01mreturn\u001b[39;00m io_open(file, \u001b[38;5;241m*\u001b[39margs, \u001b[38;5;241m*\u001b[39m\u001b[38;5;241m*\u001b[39mkwargs)\n",
      "\u001b[0;31mFileNotFoundError\u001b[0m: [Errno 2] No such file or directory: '/abcd/def/jadu.txt'"
     ]
    }
   ],
   "source": [
    "fp = open('/abcd/def/jadu.txt')"
   ]
  },
  {
   "cell_type": "code",
   "execution_count": 69,
   "id": "33b2cdfc-5a4b-4a7b-91aa-724bd4a4dc4f",
   "metadata": {},
   "outputs": [],
   "source": [
    "from pathlib import Path"
   ]
  },
  {
   "cell_type": "code",
   "execution_count": 70,
   "id": "8e02d82a-7da0-4e4a-8d03-357502652c31",
   "metadata": {},
   "outputs": [],
   "source": [
    "file = Path(\"/abcd/def/jadu.txt\")"
   ]
  },
  {
   "cell_type": "code",
   "execution_count": 71,
   "id": "95cb1678-95b6-40c8-985e-cbe645b01544",
   "metadata": {},
   "outputs": [
    {
     "data": {
      "text/plain": [
       "False"
      ]
     },
     "execution_count": 71,
     "metadata": {},
     "output_type": "execute_result"
    }
   ],
   "source": [
    "file.is_file()"
   ]
  },
  {
   "cell_type": "code",
   "execution_count": 73,
   "id": "3f10a6d3-7c02-4f9b-8776-630fd4e19262",
   "metadata": {},
   "outputs": [
    {
     "data": {
      "text/plain": [
       "False"
      ]
     },
     "execution_count": 73,
     "metadata": {},
     "output_type": "execute_result"
    }
   ],
   "source": [
    "file.exists()"
   ]
  },
  {
   "cell_type": "code",
   "execution_count": 74,
   "id": "359a02c8-a704-4dda-99f4-a97ffe213a1f",
   "metadata": {},
   "outputs": [
    {
     "data": {
      "text/plain": [
       "False"
      ]
     },
     "execution_count": 74,
     "metadata": {},
     "output_type": "execute_result"
    }
   ],
   "source": [
    "file.is_dir()"
   ]
  },
  {
   "cell_type": "code",
   "execution_count": 76,
   "id": "92ecc44b-e2fb-43e1-91e1-1be6eb288944",
   "metadata": {},
   "outputs": [
    {
     "data": {
      "text/plain": [
       "PosixPath('/abcd/def')"
      ]
     },
     "execution_count": 76,
     "metadata": {},
     "output_type": "execute_result"
    }
   ],
   "source": [
    "file.parent"
   ]
  },
  {
   "cell_type": "markdown",
   "id": "ee675f71-85ee-40cd-9676-729550dab2d6",
   "metadata": {},
   "source": [
    "# Path\n",
    "\n",
    "    Workdir \n",
    "\n",
    "\n",
    "    BankApplication\n",
    "        README.md - project document\n",
    "        requirements.txt - dependencies (third party library)\n",
    "\n",
    "        templates\n",
    "            *.html\n",
    "        static\n",
    "            css\n",
    "                *.css\n",
    "            js\n",
    "                *js\n",
    "        app.py\n",
    "        config.yml\n",
    "        logs\n",
    "            access_log.txt\n",
    "            security_logs.txt\n",
    "            performace_logs.txt   profiling "
   ]
  },
  {
   "cell_type": "markdown",
   "id": "0218a9c1-c7c3-40d8-b1fb-fe9984487933",
   "metadata": {},
   "source": [
    "    filepath --> make sure path is valid and exists"
   ]
  },
  {
   "cell_type": "markdown",
   "id": "c46d7608-50e0-4b97-aed2-096f4e9766de",
   "metadata": {},
   "source": [
    "    mode\n",
    "\n",
    "        read\n",
    "\n",
    "        write \n",
    "        "
   ]
  },
  {
   "cell_type": "code",
   "execution_count": 77,
   "id": "6e5f9aec-6194-476e-ae77-101ccc72f89e",
   "metadata": {},
   "outputs": [
    {
     "name": "stdout",
     "output_type": "stream",
     "text": [
      "Help on function open in module _io:\n",
      "\n",
      "open(file, mode='r', buffering=-1, encoding=None, errors=None, newline=None, closefd=True, opener=None)\n",
      "    Open file and return a stream.  Raise OSError upon failure.\n",
      "\n",
      "    file is either a text or byte string giving the name (and the path\n",
      "    if the file isn't in the current working directory) of the file to\n",
      "    be opened or an integer file descriptor of the file to be\n",
      "    wrapped. (If a file descriptor is given, it is closed when the\n",
      "    returned I/O object is closed, unless closefd is set to False.)\n",
      "\n",
      "    mode is an optional string that specifies the mode in which the file\n",
      "    is opened. It defaults to 'r' which means open for reading in text\n",
      "    mode.  Other common values are 'w' for writing (truncating the file if\n",
      "    it already exists), 'x' for creating and writing to a new file, and\n",
      "    'a' for appending (which on some Unix systems, means that all writes\n",
      "    append to the end of the file regardless of the current seek position).\n",
      "    In text mode, if encoding is not specified the encoding used is platform\n",
      "    dependent: locale.getencoding() is called to get the current locale encoding.\n",
      "    (For reading and writing raw bytes use binary mode and leave encoding\n",
      "    unspecified.) The available modes are:\n",
      "\n",
      "    ========= ===============================================================\n",
      "    Character Meaning\n",
      "    --------- ---------------------------------------------------------------\n",
      "    'r'       open for reading (default)\n",
      "    'w'       open for writing, truncating the file first\n",
      "    'x'       create a new file and open it for writing\n",
      "    'a'       open for writing, appending to the end of the file if it exists\n",
      "    'b'       binary mode\n",
      "    't'       text mode (default)\n",
      "    '+'       open a disk file for updating (reading and writing)\n",
      "    ========= ===============================================================\n",
      "\n",
      "    The default mode is 'rt' (open for reading text). For binary random\n",
      "    access, the mode 'w+b' opens and truncates the file to 0 bytes, while\n",
      "    'r+b' opens the file without truncation. The 'x' mode implies 'w' and\n",
      "    raises an `FileExistsError` if the file already exists.\n",
      "\n",
      "    Python distinguishes between files opened in binary and text modes,\n",
      "    even when the underlying operating system doesn't. Files opened in\n",
      "    binary mode (appending 'b' to the mode argument) return contents as\n",
      "    bytes objects without any decoding. In text mode (the default, or when\n",
      "    't' is appended to the mode argument), the contents of the file are\n",
      "    returned as strings, the bytes having been first decoded using a\n",
      "    platform-dependent encoding or using the specified encoding if given.\n",
      "\n",
      "    buffering is an optional integer used to set the buffering policy.\n",
      "    Pass 0 to switch buffering off (only allowed in binary mode), 1 to select\n",
      "    line buffering (only usable in text mode), and an integer > 1 to indicate\n",
      "    the size of a fixed-size chunk buffer.  When no buffering argument is\n",
      "    given, the default buffering policy works as follows:\n",
      "\n",
      "    * Binary files are buffered in fixed-size chunks; the size of the buffer\n",
      "      is chosen using a heuristic trying to determine the underlying device's\n",
      "      \"block size\" and falling back on `io.DEFAULT_BUFFER_SIZE`.\n",
      "      On many systems, the buffer will typically be 4096 or 8192 bytes long.\n",
      "\n",
      "    * \"Interactive\" text files (files for which isatty() returns True)\n",
      "      use line buffering.  Other text files use the policy described above\n",
      "      for binary files.\n",
      "\n",
      "    encoding is the name of the encoding used to decode or encode the\n",
      "    file. This should only be used in text mode. The default encoding is\n",
      "    platform dependent, but any encoding supported by Python can be\n",
      "    passed.  See the codecs module for the list of supported encodings.\n",
      "\n",
      "    errors is an optional string that specifies how encoding errors are to\n",
      "    be handled---this argument should not be used in binary mode. Pass\n",
      "    'strict' to raise a ValueError exception if there is an encoding error\n",
      "    (the default of None has the same effect), or pass 'ignore' to ignore\n",
      "    errors. (Note that ignoring encoding errors can lead to data loss.)\n",
      "    See the documentation for codecs.register or run 'help(codecs.Codec)'\n",
      "    for a list of the permitted encoding error strings.\n",
      "\n",
      "    newline controls how universal newlines works (it only applies to text\n",
      "    mode). It can be None, '', '\\n', '\\r', and '\\r\\n'.  It works as\n",
      "    follows:\n",
      "\n",
      "    * On input, if newline is None, universal newlines mode is\n",
      "      enabled. Lines in the input can end in '\\n', '\\r', or '\\r\\n', and\n",
      "      these are translated into '\\n' before being returned to the\n",
      "      caller. If it is '', universal newline mode is enabled, but line\n",
      "      endings are returned to the caller untranslated. If it has any of\n",
      "      the other legal values, input lines are only terminated by the given\n",
      "      string, and the line ending is returned to the caller untranslated.\n",
      "\n",
      "    * On output, if newline is None, any '\\n' characters written are\n",
      "      translated to the system default line separator, os.linesep. If\n",
      "      newline is '' or '\\n', no translation takes place. If newline is any\n",
      "      of the other legal values, any '\\n' characters written are translated\n",
      "      to the given string.\n",
      "\n",
      "    If closefd is False, the underlying file descriptor will be kept open\n",
      "    when the file is closed. This does not work when a file name is given\n",
      "    and must be True in that case.\n",
      "\n",
      "    A custom opener can be used by passing a callable as *opener*. The\n",
      "    underlying file descriptor for the file object is then obtained by\n",
      "    calling *opener* with (*file*, *flags*). *opener* must return an open\n",
      "    file descriptor (passing os.open as *opener* results in functionality\n",
      "    similar to passing None).\n",
      "\n",
      "    open() returns a file object whose type depends on the mode, and\n",
      "    through which the standard file operations such as reading and writing\n",
      "    are performed. When open() is used to open a file in a text mode ('w',\n",
      "    'r', 'wt', 'rt', etc.), it returns a TextIOWrapper. When used to open\n",
      "    a file in a binary mode, the returned class varies: in read binary\n",
      "    mode, it returns a BufferedReader; in write binary and append binary\n",
      "    modes, it returns a BufferedWriter, and in read/write mode, it returns\n",
      "    a BufferedRandom.\n",
      "\n",
      "    It is also possible to use a string or bytearray as a file for both\n",
      "    reading and writing. For strings StringIO can be used like a file\n",
      "    opened in a text mode, and for bytes a BytesIO can be used like a file\n",
      "    opened in a binary mode.\n",
      "\n"
     ]
    }
   ],
   "source": [
    "help(open)"
   ]
  },
  {
   "cell_type": "code",
   "execution_count": 78,
   "id": "cbd93a74-7d7b-4c5a-9e08-1a9b66290f2a",
   "metadata": {},
   "outputs": [
    {
     "name": "stdout",
     "output_type": "stream",
     "text": [
      "Overwriting hello.txt\n"
     ]
    }
   ],
   "source": [
    "%%writefile hello.txt\n",
    "Hello World! this is a sample file\n",
    "this is second line\n",
    "let's learn file handling in python"
   ]
  },
  {
   "cell_type": "code",
   "execution_count": 80,
   "id": "d05fc282-8543-4c15-b793-c5c3042875e9",
   "metadata": {},
   "outputs": [
    {
     "name": "stdout",
     "output_type": "stream",
     "text": [
      "Hello World! this is a sample file\n",
      "this is second line\n",
      "let's learn file handling in python\n"
     ]
    }
   ],
   "source": [
    "!cat hello.txt\n",
    "# type hello.txt if cat does not work"
   ]
  },
  {
   "cell_type": "code",
   "execution_count": 81,
   "id": "87abc9a8-13f3-4fb1-b252-6e6cd9d0ef79",
   "metadata": {},
   "outputs": [
    {
     "name": "stdout",
     "output_type": "stream",
     "text": [
      "Hello World! this is a sample file\n",
      "this is second line\n"
     ]
    }
   ],
   "source": [
    "!head -n 2 hello.txt"
   ]
  },
  {
   "cell_type": "code",
   "execution_count": 82,
   "id": "8177c186-23b4-4116-be88-47ad9cd6113c",
   "metadata": {},
   "outputs": [
    {
     "name": "stdout",
     "output_type": "stream",
     "text": [
      "let's learn file handling in python\n"
     ]
    }
   ],
   "source": [
    "!tail -n 1 hello.txt"
   ]
  },
  {
   "cell_type": "code",
   "execution_count": 83,
   "id": "35eca633-fdf2-40c1-8d6c-b1fd3cc19c66",
   "metadata": {},
   "outputs": [
    {
     "name": "stdout",
     "output_type": "stream",
     "text": [
      "Hello World! this is a sample file\n",
      "\n"
     ]
    }
   ],
   "source": [
    "fp = open('hello.txt') # mode = 'r'\n",
    "\n",
    "first_line = fp.readline() \n",
    "print(first_line)"
   ]
  },
  {
   "cell_type": "code",
   "execution_count": 84,
   "id": "303c1f9d-5993-488f-a010-6ad1d172c10e",
   "metadata": {},
   "outputs": [
    {
     "name": "stdout",
     "output_type": "stream",
     "text": [
      "this is second line\n",
      "\n"
     ]
    }
   ],
   "source": [
    "second_line = fp.readline()\n",
    "print(second_line)"
   ]
  },
  {
   "cell_type": "code",
   "execution_count": 85,
   "id": "6dd95a76-7531-4cea-95e2-f1fb73f789fe",
   "metadata": {},
   "outputs": [
    {
     "name": "stdout",
     "output_type": "stream",
     "text": [
      "let's learn file handling in python\n",
      "\n"
     ]
    }
   ],
   "source": [
    "third_line = fp.readline()\n",
    "print(third_line)"
   ]
  },
  {
   "cell_type": "code",
   "execution_count": 86,
   "id": "5c9d6d22-62d4-4798-943f-c9ac4c60eab0",
   "metadata": {},
   "outputs": [
    {
     "data": {
      "text/plain": [
       "''"
      ]
     },
     "execution_count": 86,
     "metadata": {},
     "output_type": "execute_result"
    }
   ],
   "source": [
    "fp.readline()"
   ]
  },
  {
   "cell_type": "code",
   "execution_count": 87,
   "id": "13c0f517-4ba4-4f56-be77-d90fdac44413",
   "metadata": {},
   "outputs": [
    {
     "data": {
      "text/plain": [
       "91"
      ]
     },
     "execution_count": 87,
     "metadata": {},
     "output_type": "execute_result"
    }
   ],
   "source": [
    "fp.tell()"
   ]
  },
  {
   "cell_type": "code",
   "execution_count": 88,
   "id": "147a0181-a087-45af-985a-7e83411075d3",
   "metadata": {},
   "outputs": [
    {
     "data": {
      "text/plain": [
       "73"
      ]
     },
     "execution_count": 88,
     "metadata": {},
     "output_type": "execute_result"
    }
   ],
   "source": [
    "fp.seek(fp.tell()-18)"
   ]
  },
  {
   "cell_type": "code",
   "execution_count": 89,
   "id": "4b64ca08-65cb-4a5a-8ccd-f2d136b692d0",
   "metadata": {},
   "outputs": [
    {
     "data": {
      "text/plain": [
       "73"
      ]
     },
     "execution_count": 89,
     "metadata": {},
     "output_type": "execute_result"
    }
   ],
   "source": [
    "fp.tell()"
   ]
  },
  {
   "cell_type": "code",
   "execution_count": 90,
   "id": "6bbea892-7474-4343-bee8-dfb7160f6f8e",
   "metadata": {},
   "outputs": [
    {
     "data": {
      "text/plain": [
       "'andling in python\\n'"
      ]
     },
     "execution_count": 90,
     "metadata": {},
     "output_type": "execute_result"
    }
   ],
   "source": [
    "fp.readline()"
   ]
  },
  {
   "cell_type": "code",
   "execution_count": 91,
   "id": "375c5f3d-37c6-4437-9730-d95ac7d159ce",
   "metadata": {},
   "outputs": [
    {
     "data": {
      "text/plain": [
       "0"
      ]
     },
     "execution_count": 91,
     "metadata": {},
     "output_type": "execute_result"
    }
   ],
   "source": [
    "fp.seek(0)"
   ]
  },
  {
   "cell_type": "code",
   "execution_count": 92,
   "id": "bd07474e-b19d-4a8e-8016-f8ec1a68d6ea",
   "metadata": {},
   "outputs": [],
   "source": [
    "lines = fp.readlines()"
   ]
  },
  {
   "cell_type": "code",
   "execution_count": 93,
   "id": "eff07d30-c897-4776-8a2f-5026fdc737c9",
   "metadata": {},
   "outputs": [
    {
     "data": {
      "text/plain": [
       "91"
      ]
     },
     "execution_count": 93,
     "metadata": {},
     "output_type": "execute_result"
    }
   ],
   "source": [
    "fp.tell()"
   ]
  },
  {
   "cell_type": "code",
   "execution_count": 94,
   "id": "0fbf57be-55ef-429e-bf80-3778c52520de",
   "metadata": {},
   "outputs": [
    {
     "data": {
      "text/plain": [
       "['Hello World! this is a sample file\\n',\n",
       " 'this is second line\\n',\n",
       " \"let's learn file handling in python\\n\"]"
      ]
     },
     "execution_count": 94,
     "metadata": {},
     "output_type": "execute_result"
    }
   ],
   "source": [
    "lines"
   ]
  },
  {
   "cell_type": "code",
   "execution_count": 95,
   "id": "9ca57415-8445-46f8-a376-ae372705905a",
   "metadata": {},
   "outputs": [
    {
     "data": {
      "text/plain": [
       "[]"
      ]
     },
     "execution_count": 95,
     "metadata": {},
     "output_type": "execute_result"
    }
   ],
   "source": [
    "fp.readlines()"
   ]
  },
  {
   "cell_type": "code",
   "execution_count": 96,
   "id": "f807f2a1-9b97-431d-976c-8b6b9d75d41e",
   "metadata": {},
   "outputs": [
    {
     "data": {
      "text/plain": [
       "0"
      ]
     },
     "execution_count": 96,
     "metadata": {},
     "output_type": "execute_result"
    }
   ],
   "source": [
    "fp.seek(0)"
   ]
  },
  {
   "cell_type": "code",
   "execution_count": 97,
   "id": "b8ee1f1b-a152-4395-93bf-b7df41e48916",
   "metadata": {},
   "outputs": [
    {
     "name": "stdout",
     "output_type": "stream",
     "text": [
      "Hello World! this is a sample file\n",
      "\n",
      "this is second line\n",
      "\n",
      "let's learn file handling in python\n",
      "\n"
     ]
    }
   ],
   "source": [
    "for line in fp.readlines():\n",
    "    print(line)"
   ]
  },
  {
   "cell_type": "code",
   "execution_count": 98,
   "id": "8cac2a16-2ae7-4064-8ad7-5e5ebcabc5a7",
   "metadata": {},
   "outputs": [
    {
     "data": {
      "text/plain": [
       "0"
      ]
     },
     "execution_count": 98,
     "metadata": {},
     "output_type": "execute_result"
    }
   ],
   "source": [
    "fp.seek(0)"
   ]
  },
  {
   "cell_type": "code",
   "execution_count": 99,
   "id": "f228dddd-b4cc-40d9-8916-c748a81b13c9",
   "metadata": {},
   "outputs": [
    {
     "name": "stdout",
     "output_type": "stream",
     "text": [
      "'Hello World! this is a sample file\\n'\n",
      "'this is second line\\n'\n",
      "\"let's learn file handling in python\\n\"\n"
     ]
    }
   ],
   "source": [
    "for line in fp:\n",
    "    print(repr(line))"
   ]
  },
  {
   "cell_type": "code",
   "execution_count": 100,
   "id": "5b086c16-7bb7-4706-9240-0cc344f2ea1c",
   "metadata": {},
   "outputs": [],
   "source": [
    "fp.close()"
   ]
  },
  {
   "cell_type": "markdown",
   "id": "759a05e6-6256-4471-96bd-f504c1eed277",
   "metadata": {},
   "source": [
    "    'r' --> 'rt'\n",
    "    \n",
    "    'w' --> 'wt'\n",
    "    \n",
    "    'x' --> 'xt'\n",
    "\n",
    "    'rw' --> 'rwt'\n",
    "\n",
    "    'rwb' \n",
    "\n",
    "    'r+' --> read or write \n",
    "\n",
    "    'w+' --> write or read"
   ]
  },
  {
   "cell_type": "markdown",
   "id": "957e07d4-573e-41e8-8711-797ef53ef93c",
   "metadata": {},
   "source": [
    "Help on function open in module _io:\n",
    "\n",
    "open(file, mode='r', buffering=-1, encoding=None, errors=None, newline=None, closefd=True, opener=None)\n",
    "    Open file and return a stream.  Raise OSError upon failure.\n",
    "\n",
    "    file is either a text or byte string giving the name (and the path\n",
    "    if the file isn't in the current working directory) of the file to\n",
    "    be opened or an integer file descriptor of the file to be\n",
    "    wrapped. (If a file descriptor is given, it is closed when the\n",
    "    returned I/O object is closed, unless closefd is set to False.)\n",
    "\n",
    "    mode is an optional string that specifies the mode in which the file\n",
    "    is opened. It defaults to 'r' which means open for reading in text\n",
    "    mode.  Other common values are 'w' for writing (truncating the file if\n",
    "    it already exists), 'x' for creating and writing to a new file, and\n",
    "    'a' for appending (which on some Unix systems, means that all writes\n",
    "    append to the end of the file regardless of the current seek position).\n",
    "    In text mode, if encoding is not specified the encoding used is platform\n",
    "    dependent: locale.getencoding() is called to get the current locale encoding.\n",
    "    (For reading and writing raw bytes use binary mode and leave encoding\n",
    "    unspecified.) The available modes are:\n",
    "\n",
    "    ========= ===============================================================\n",
    "    Character Meaning\n",
    "    --------- ---------------------------------------------------------------\n",
    "    'r'       open for reading (default)\n",
    "    'w'       open for writing, truncating the file first\n",
    "    'x'       create a new file and open it for writing\n",
    "    'a'       open for writing, appending to the end of the file if it exists\n",
    "    'b'       binary mode\n",
    "    't'       text mode (default)\n",
    "    '+'       open a disk file for updating (reading and writing)\n",
    "    ========= ===============================================================\n",
    "\n",
    "    The default mode is 'rt' (open for reading text). For binary random\n",
    "    access, the mode 'w+b' opens and truncates the file to 0 bytes, while\n",
    "    'r+b' opens the file without truncation. The 'x' mode implies 'w' and\n",
    "    raises an `FileExistsError` if the file already exists.\n",
    "\n",
    "    Python distinguishes between files opened in binary and text modes,\n",
    "    even when the underlying operating system doesn't. Files opened in\n",
    "    binary mode (appending 'b' to the mode argument) return contents as\n",
    "    bytes objects without any decoding. In text mode (the default, or when\n",
    "    't' is appended to the mode argument), the contents of the file are\n",
    "    returned as strings, the bytes having been first decoded using a\n",
    "    platform-dependent encoding or using the specified encoding if given.\n",
    "\n",
    "    buffering is an optional integer used to set the buffering policy.\n",
    "    Pass 0 to switch buffering off (only allowed in binary mode), 1 to select\n",
    "    line buffering (only usable in text mode), and an integer > 1 to indicate\n",
    "    the size of a fixed-size chunk buffer.  When no buffering argument is\n",
    "    given, the default buffering policy works as follows:\n",
    "\n",
    "    * Binary files are buffered in fixed-size chunks; the size of the buffer\n",
    "      is chosen using a heuristic trying to determine the underlying device's\n",
    "      \"block size\" and falling back on `io.DEFAULT_BUFFER_SIZE`.\n",
    "      On many systems, the buffer will typically be 4096 or 8192 bytes long.\n",
    "\n",
    "    * \"Interactive\" text files (files for which isatty() returns True)\n",
    "      use line buffering.  Other text files use the policy described above\n",
    "      for binary files.\n",
    "\n",
    "    encoding is the name of the encoding used to decode or encode the\n",
    "    file. This should only be used in text mode. The default encoding is\n",
    "    platform dependent, but any encoding supported by Python can be\n",
    "    passed.  See the codecs module for the list of supported encodings.\n",
    "\n",
    "    errors is an optional string that specifies how encoding errors are to\n",
    "    be handled---this argument should not be used in binary mode. Pass\n",
    "    'strict' to raise a ValueError exception if there is an encoding error\n",
    "    (the default of None has the same effect), or pass 'ignore' to ignore\n",
    "    errors. (Note that ignoring encoding errors can lead to data loss.)\n",
    "    See the documentation for codecs.register or run 'help(codecs.Codec)'\n",
    "    for a list of the permitted encoding error strings.\n",
    "\n",
    "    newline controls how universal newlines works (it only applies to text\n",
    "    mode). It can be None, '', '\\n', '\\r', and '\\r\\n'.  It works as\n",
    "    follows:\n",
    "\n",
    "    * On input, if newline is None, universal newlines mode is\n",
    "      enabled. Lines in the input can end in '\\n', '\\r', or '\\r\\n', and\n",
    "      these are translated into '\\n' before being returned to the\n",
    "      caller. If it is '', universal newline mode is enabled, but line\n",
    "      endings are returned to the caller untranslated. If it has any of\n",
    "      the other legal values, input lines are only terminated by the given\n",
    "      string, and the line ending is returned to the caller untranslated.\n",
    "\n",
    "    * On output, if newline is None, any '\\n' characters written are\n",
    "      translated to the system default line separator, os.linesep. If\n",
    "      newline is '' or '\\n', no translation takes place. If newline is any\n",
    "      of the other legal values, any '\\n' characters written are translated\n",
    "      to the given string.\n",
    "\n",
    "    If closefd is False, the underlying file descriptor will be kept open\n",
    "    when the file is closed. This does not work when a file name is given\n",
    "    and must be True in that case.\n",
    "\n",
    "    A custom opener can be used by passing a callable as *opener*. The\n",
    "    underlying file descriptor for the file object is then obtained by\n",
    "    calling *opener* with (*file*, *flags*). *opener* must return an open\n",
    "    file descriptor (passing os.open as *opener* results in functionality\n",
    "    similar to passing None).\n",
    "\n",
    "    open() returns a file object whose type depends on the mode, and\n",
    "    through which the standard file operations such as reading and writing\n",
    "    are performed. When open() is used to open a file in a text mode ('w',\n",
    "    'r', 'wt', 'rt', etc.), it returns a TextIOWrapper. When used to open\n",
    "    a file in a binary mode, the returned class varies: in read binary\n",
    "    mode, it returns a BufferedReader; in write binary and append binary\n",
    "    modes, it returns a BufferedWriter, and in read/write mode, it returns\n",
    "    a BufferedRandom.\n",
    "\n",
    "    It is also possible to use a string or bytearray as a file for both\n",
    "    reading and writing. For strings StringIO can be used like a file\n",
    "    opened in a text mode, and for bytes a BytesIO can be used like a file\n",
    "    opened in a binary mode.\n",
    "\n",
    "\n",
    "Click to add a cell."
   ]
  },
  {
   "cell_type": "code",
   "execution_count": 101,
   "id": "167c6f29-1ef5-4490-9111-513317b3345d",
   "metadata": {},
   "outputs": [
    {
     "name": "stdout",
     "output_type": "stream",
     "text": [
      "Hello World! this is a sample file\n",
      "this is second line\n",
      "let's learn file handling in python\n"
     ]
    }
   ],
   "source": [
    "!cat hello.txt"
   ]
  },
  {
   "cell_type": "code",
   "execution_count": 111,
   "id": "cc9bc8fb-1448-4b3a-964a-75c921d31632",
   "metadata": {},
   "outputs": [],
   "source": [
    "new_content= \"\"\"S.no\\tName\\tMaths\\tPhys\\tChem\n",
    "1\\tSachin\\t87\\t90\\t75\n",
    "2\\tSimran\\t80\\t95\\t70\n",
    "3\\tRajat\\t80\\t80\\t80\"\"\""
   ]
  },
  {
   "cell_type": "code",
   "execution_count": 103,
   "id": "7497dabf-5540-4a01-9207-d20307322297",
   "metadata": {},
   "outputs": [],
   "source": [
    "fp = open(\"hello.txt\", \"w\")\n",
    "fp.write(new_content)\n",
    "fp.close()"
   ]
  },
  {
   "cell_type": "code",
   "execution_count": 104,
   "id": "edc98e41-5e53-44a1-aa8d-bbb6a4a5e289",
   "metadata": {},
   "outputs": [
    {
     "name": "stdout",
     "output_type": "stream",
     "text": [
      "S.no\tName\tMaths\tPhys\tChem\n",
      "1\tSachin\t87\t90\t75\n",
      "2\tSimran\t80\t95\t70\n",
      "3\tRajat\t80\t80\t80"
     ]
    }
   ],
   "source": [
    "!cat hello.txt"
   ]
  },
  {
   "cell_type": "code",
   "execution_count": 105,
   "id": "2e9d7c2c-7f67-42cd-949b-bea346c5cbdf",
   "metadata": {},
   "outputs": [
    {
     "ename": "FileExistsError",
     "evalue": "[Errno 17] File exists: 'hello.txt'",
     "output_type": "error",
     "traceback": [
      "\u001b[0;31m---------------------------------------------------------------------------\u001b[0m",
      "\u001b[0;31mFileExistsError\u001b[0m                           Traceback (most recent call last)",
      "Cell \u001b[0;32mIn[105], line 1\u001b[0m\n\u001b[0;32m----> 1\u001b[0m fp \u001b[38;5;241m=\u001b[39m \u001b[38;5;28mopen\u001b[39m(\u001b[38;5;124m\"\u001b[39m\u001b[38;5;124mhello.txt\u001b[39m\u001b[38;5;124m\"\u001b[39m, \u001b[38;5;124m\"\u001b[39m\u001b[38;5;124mx\u001b[39m\u001b[38;5;124m\"\u001b[39m) \u001b[38;5;66;03m# x opens new file for writting\u001b[39;00m\n\u001b[1;32m      2\u001b[0m fp\u001b[38;5;241m.\u001b[39mwrite(new_content)\n\u001b[1;32m      3\u001b[0m fp\u001b[38;5;241m.\u001b[39mclose()\n",
      "File \u001b[0;32m/opt/anaconda3/lib/python3.12/site-packages/IPython/core/interactiveshell.py:324\u001b[0m, in \u001b[0;36m_modified_open\u001b[0;34m(file, *args, **kwargs)\u001b[0m\n\u001b[1;32m    317\u001b[0m \u001b[38;5;28;01mif\u001b[39;00m file \u001b[38;5;129;01min\u001b[39;00m {\u001b[38;5;241m0\u001b[39m, \u001b[38;5;241m1\u001b[39m, \u001b[38;5;241m2\u001b[39m}:\n\u001b[1;32m    318\u001b[0m     \u001b[38;5;28;01mraise\u001b[39;00m \u001b[38;5;167;01mValueError\u001b[39;00m(\n\u001b[1;32m    319\u001b[0m         \u001b[38;5;124mf\u001b[39m\u001b[38;5;124m\"\u001b[39m\u001b[38;5;124mIPython won\u001b[39m\u001b[38;5;124m'\u001b[39m\u001b[38;5;124mt let you open fd=\u001b[39m\u001b[38;5;132;01m{\u001b[39;00mfile\u001b[38;5;132;01m}\u001b[39;00m\u001b[38;5;124m by default \u001b[39m\u001b[38;5;124m\"\u001b[39m\n\u001b[1;32m    320\u001b[0m         \u001b[38;5;124m\"\u001b[39m\u001b[38;5;124mas it is likely to crash IPython. If you know what you are doing, \u001b[39m\u001b[38;5;124m\"\u001b[39m\n\u001b[1;32m    321\u001b[0m         \u001b[38;5;124m\"\u001b[39m\u001b[38;5;124myou can use builtins\u001b[39m\u001b[38;5;124m'\u001b[39m\u001b[38;5;124m open.\u001b[39m\u001b[38;5;124m\"\u001b[39m\n\u001b[1;32m    322\u001b[0m     )\n\u001b[0;32m--> 324\u001b[0m \u001b[38;5;28;01mreturn\u001b[39;00m io_open(file, \u001b[38;5;241m*\u001b[39margs, \u001b[38;5;241m*\u001b[39m\u001b[38;5;241m*\u001b[39mkwargs)\n",
      "\u001b[0;31mFileExistsError\u001b[0m: [Errno 17] File exists: 'hello.txt'"
     ]
    }
   ],
   "source": [
    "fp = open(\"hello.txt\", \"x\") # x opens new file for writting\n",
    "fp.write(new_content)\n",
    "fp.close()"
   ]
  },
  {
   "cell_type": "code",
   "execution_count": 106,
   "id": "763edbef-a24d-4a24-92be-0202ef37f9ce",
   "metadata": {},
   "outputs": [],
   "source": [
    "def write_content(path, content):\n",
    "    try:\n",
    "        fp = open(path, 'x')\n",
    "        fp.write(content)\n",
    "        fp.close()\n",
    "    except FileExistsError:\n",
    "        ch = input(\"File already Exists do you want to overwrite ?\")\n",
    "        if ch.lower().strip() in ['y', 'yes', 'yep', 'yo', 'yo yo']:\n",
    "            fp = open(path, 'w')\n",
    "            fp.write(content)\n",
    "            fp.close()\n",
    "        else:\n",
    "            print(\"exiting function without writing content to file\")"
   ]
  },
  {
   "cell_type": "code",
   "execution_count": 108,
   "id": "7140d660-a1e8-4e03-8028-0d963b4b6c6c",
   "metadata": {},
   "outputs": [
    {
     "name": "stdout",
     "output_type": "stream",
     "text": [
      "S.no\tName\tMaths\tPhys\tChem\n",
      "1\tSachin\t87\t90\t75\n",
      "2\tSimran\t80\t95\t70\n",
      "3\tRajat\t80\t80\t80\n"
     ]
    }
   ],
   "source": [
    "print(new_content)"
   ]
  },
  {
   "cell_type": "code",
   "execution_count": 109,
   "id": "bef33efa-f8ad-4980-8a98-bc783670858f",
   "metadata": {},
   "outputs": [
    {
     "name": "stdin",
     "output_type": "stream",
     "text": [
      "File already Exists do you want to overwrite ? no\n"
     ]
    },
    {
     "name": "stdout",
     "output_type": "stream",
     "text": [
      "exiting function without writing content to file\n"
     ]
    }
   ],
   "source": [
    "write_content('hello.txt', new_content)"
   ]
  },
  {
   "cell_type": "code",
   "execution_count": 112,
   "id": "d7396c73-2475-4146-8381-2c01367e4375",
   "metadata": {},
   "outputs": [
    {
     "name": "stdout",
     "output_type": "stream",
     "text": [
      "S.no\tName\tMaths\tPhys\tChem\n",
      "1\tSachin\t87\t90\t75\n",
      "2\tSimran\t80\t95\t70\n",
      "3\tRajat\t80\t80\t80\n",
      "4\tRavi\t80\t90\t100\n"
     ]
    }
   ],
   "source": [
    "new_content += \"\\n4\\tRavi\\t80\\t90\\t100\"\n",
    "print(new_content)"
   ]
  },
  {
   "cell_type": "code",
   "execution_count": 113,
   "id": "dbcdeca2-108b-494b-a220-18108c5966af",
   "metadata": {},
   "outputs": [
    {
     "name": "stdin",
     "output_type": "stream",
     "text": [
      "File already Exists do you want to overwrite ? yes\n"
     ]
    }
   ],
   "source": [
    "write_content('hello.txt', new_content)"
   ]
  },
  {
   "cell_type": "code",
   "execution_count": 114,
   "id": "0b7d37a1-08ab-499a-a39f-37d21cc138fb",
   "metadata": {},
   "outputs": [
    {
     "name": "stdout",
     "output_type": "stream",
     "text": [
      "S.no\tName\tMaths\tPhys\tChem\n",
      "1\tSachin\t87\t90\t75\n",
      "2\tSimran\t80\t95\t70\n",
      "3\tRajat\t80\t80\t80\n",
      "4\tRavi\t80\t90\t100"
     ]
    }
   ],
   "source": [
    "!cat hello.txt"
   ]
  },
  {
   "cell_type": "code",
   "execution_count": 115,
   "id": "1d94a904-de84-4a71-b739-1461b8f92bd3",
   "metadata": {},
   "outputs": [],
   "source": [
    "write_content('student.tsv', new_content)"
   ]
  },
  {
   "cell_type": "code",
   "execution_count": 116,
   "id": "31e1c27d-ae7a-4484-af7d-297645cd023a",
   "metadata": {},
   "outputs": [
    {
     "name": "stdout",
     "output_type": "stream",
     "text": [
      "S.no\tName\tMaths\tPhys\tChem\n",
      "1\tSachin\t87\t90\t75\n",
      "2\tSimran\t80\t95\t70\n",
      "3\tRajat\t80\t80\t80\n",
      "4\tRavi\t80\t90\t100"
     ]
    }
   ],
   "source": [
    "!cat student.tsv"
   ]
  },
  {
   "cell_type": "markdown",
   "id": "c29fbf70-a385-4915-a5d8-a5dae874c5a5",
   "metadata": {},
   "source": [
    "    r(default) w x t(default) b + \n",
    "\n",
    "    a -> append"
   ]
  },
  {
   "cell_type": "code",
   "execution_count": 117,
   "id": "9494a645-92a4-4342-8f5d-7b52fb3cfeca",
   "metadata": {},
   "outputs": [
    {
     "ename": "TypeError",
     "evalue": "write() argument must be str, not dict",
     "output_type": "error",
     "traceback": [
      "\u001b[0;31m---------------------------------------------------------------------------\u001b[0m",
      "\u001b[0;31mTypeError\u001b[0m                                 Traceback (most recent call last)",
      "Cell \u001b[0;32mIn[117], line 2\u001b[0m\n\u001b[1;32m      1\u001b[0m fp \u001b[38;5;241m=\u001b[39m \u001b[38;5;28mopen\u001b[39m(\u001b[38;5;124m'\u001b[39m\u001b[38;5;124mabcd.txt\u001b[39m\u001b[38;5;124m'\u001b[39m, \u001b[38;5;124m'\u001b[39m\u001b[38;5;124mw\u001b[39m\u001b[38;5;124m'\u001b[39m)\n\u001b[0;32m----> 2\u001b[0m fp\u001b[38;5;241m.\u001b[39mwrite({\u001b[38;5;124m'\u001b[39m\u001b[38;5;124mname\u001b[39m\u001b[38;5;124m'\u001b[39m: \u001b[38;5;124m'\u001b[39m\u001b[38;5;124msachin\u001b[39m\u001b[38;5;124m'\u001b[39m, \u001b[38;5;124m'\u001b[39m\u001b[38;5;124mage\u001b[39m\u001b[38;5;124m'\u001b[39m: \u001b[38;5;241m29\u001b[39m})\n\u001b[1;32m      3\u001b[0m fp\u001b[38;5;241m.\u001b[39mclose()\n",
      "\u001b[0;31mTypeError\u001b[0m: write() argument must be str, not dict"
     ]
    }
   ],
   "source": [
    "fp = open('abcd.txt', 'w')\n",
    "fp.write({'name': 'sachin', 'age': 29})\n",
    "fp.close()"
   ]
  },
  {
   "cell_type": "code",
   "execution_count": 119,
   "id": "3430e17a-9289-4894-8bac-646eac439c5f",
   "metadata": {},
   "outputs": [
    {
     "data": {
      "text/plain": [
       "'shashank\\t60\\t70\\t80'"
      ]
     },
     "execution_count": 119,
     "metadata": {},
     "output_type": "execute_result"
    }
   ],
   "source": [
    "\"\\t\".join(map(str, ['shashank', 60, 70, 80]))"
   ]
  },
  {
   "cell_type": "code",
   "execution_count": 128,
   "id": "1b0b19cc-173c-479a-b434-70d8868031d8",
   "metadata": {},
   "outputs": [],
   "source": [
    "def add_record(path, content):\n",
    "    # [ \"name\", maths, chem, phys]\n",
    "    content = \"\\n\"+\"\\t\".join(map(str, content))\n",
    "    fp = open(path, \"a\")\n",
    "    fp.write(content)\n",
    "    fp.close()\n",
    "    print('content updated successfully')\n",
    "\n",
    "# with -> context manager \n",
    "def show_record(path):\n",
    "    with open(path) as fp:\n",
    "        for line in fp:\n",
    "            print(line, end=\"\")\n",
    "        \n",
    "        "
   ]
  },
  {
   "cell_type": "code",
   "execution_count": 129,
   "id": "4c5c156e-fe08-4bfd-9735-48d8e9cb2d1d",
   "metadata": {},
   "outputs": [
    {
     "name": "stdout",
     "output_type": "stream",
     "text": [
      "content updated successfully\n"
     ]
    }
   ],
   "source": [
    "add_record('hello.txt', [5, 'shashank', 60, 70, 80])"
   ]
  },
  {
   "cell_type": "code",
   "execution_count": 130,
   "id": "03650425-ba11-4caf-a892-cc3abf863da5",
   "metadata": {},
   "outputs": [
    {
     "name": "stdout",
     "output_type": "stream",
     "text": [
      "S.no\tName\tMaths\tPhys\tChem\n",
      "1\tSachin\t87\t90\t75\n",
      "2\tSimran\t80\t95\t70\n",
      "3\tRajat\t80\t80\t80\n",
      "4\tRavi\t80\t90\t100\n",
      "\n",
      "5\tshashank\t60\t70\t80"
     ]
    }
   ],
   "source": [
    "show_record('hello.txt')"
   ]
  },
  {
   "cell_type": "markdown",
   "id": "3f6c1d71-1e83-4be9-a701-a04ac77f4af3",
   "metadata": {},
   "source": [
    "##  find topper from hello.txt and print it's name with percentage"
   ]
  },
  {
   "cell_type": "markdown",
   "id": "e4bfdc2e-c98f-4136-8486-5441181e62c4",
   "metadata": {},
   "source": [
    "# Serilzatoin and databases"
   ]
  },
  {
   "cell_type": "code",
   "execution_count": 131,
   "id": "c4a225b6-8120-44c3-8802-6995146cce5d",
   "metadata": {},
   "outputs": [
    {
     "name": "stdout",
     "output_type": "stream",
     "text": [
      "Time Remaining:     0 seconds."
     ]
    }
   ],
   "source": [
    "import time\n",
    "sleep_time  = 10 * 60\n",
    "\n",
    "for i in range(sleep_time+1):\n",
    "    time.sleep(1)\n",
    "    print(f\"\\rTime Remaining: {sleep_time-i:>5} seconds.\", end=\"\")"
   ]
  },
  {
   "cell_type": "markdown",
   "id": "bc68abeb-710c-4689-bb82-5279d5c51613",
   "metadata": {},
   "source": [
    "Serialization --> Data Types / object convert into bytes / text\n",
    "\n",
    "De-Serialization --> Text/bytes read and convert into Data Type / object"
   ]
  },
  {
   "cell_type": "code",
   "execution_count": 149,
   "id": "075587d3-892f-4dab-b5cc-17854e98a39a",
   "metadata": {},
   "outputs": [
    {
     "name": "stdout",
     "output_type": "stream",
     "text": [
      "0 hello\n",
      "1 hi\n",
      "2 bye\n",
      "3 good bye\n"
     ]
    }
   ],
   "source": [
    "x = ['hello', 'hi', 'bye', 'good bye']\n",
    "\n",
    "for i, item in enumerate(x): #, start=100):\n",
    "    print(i, item)"
   ]
  },
  {
   "cell_type": "code",
   "execution_count": null,
   "id": "d8480734-f022-43e0-864b-abee3895d33d",
   "metadata": {},
   "outputs": [],
   "source": []
  },
  {
   "cell_type": "code",
   "execution_count": 164,
   "id": "57848dcb-83a9-4df7-9eca-6702406fa151",
   "metadata": {},
   "outputs": [],
   "source": [
    "def display_records(records, per, hear):\n",
    "    print(*records, round(per, 2), sep='\\t')"
   ]
  },
  {
   "cell_type": "code",
   "execution_count": 184,
   "id": "bfa25e2f-f65d-495e-ae40-66708cea919a",
   "metadata": {},
   "outputs": [],
   "source": [
    "def get_topper(file, sep=\"\\t\", header=True, print_info=False):\n",
    "    print_header = False\n",
    "    topper_name = None\n",
    "    max_per = 0\n",
    "    with open(file) as fp:\n",
    "        if header:\n",
    "            # to skip header\n",
    "            header = fp.readline()\n",
    "        for record in fp:\n",
    "            if record.strip() == \"\":\n",
    "                # to skip blank lines\n",
    "                continue\n",
    "            record = record.strip().split(sep)\n",
    "            record[2:] = map(float, record[-3:]) # de-serialization\n",
    "            per = sum(record[-3:])/3\n",
    "            if print_info:\n",
    "                if not print_header:\n",
    "                    print(header) if header else None\n",
    "                    print_header = True\n",
    "                temp = \"{:>3}.\\t{:<10}\\t{:<5}\\t{:<5}\\t{:<5}\\t{:<5}\"\n",
    "                print('-'*55)\n",
    "                print(temp.format(*record, round(per, 2)))\n",
    "            if per > max_per:\n",
    "                max_per = per\n",
    "                topper_name = record[1]\n",
    "    return topper_name, max_per\n",
    "            #print(repr(record), per)\n",
    "            "
   ]
  },
  {
   "cell_type": "code",
   "execution_count": 185,
   "id": "a0432ce5-b4da-4c68-8616-f0e878ec5ad1",
   "metadata": {},
   "outputs": [
    {
     "name": "stdout",
     "output_type": "stream",
     "text": [
      "S.no\tName\tMaths\tPhys\tChem\n",
      "\n",
      "-------------------------------------------------------\n",
      "  1.\tSachin    \t87.0 \t90.0 \t75.0 \t84.0 \n",
      "-------------------------------------------------------\n",
      "  2.\tSimran    \t80.0 \t95.0 \t70.0 \t81.67\n",
      "-------------------------------------------------------\n",
      "  3.\tRajat     \t80.0 \t80.0 \t80.0 \t80.0 \n",
      "-------------------------------------------------------\n",
      "  4.\tRavi      \t80.0 \t90.0 \t100.0\t90.0 \n",
      "-------------------------------------------------------\n",
      "  5.\tshashank  \t60.0 \t70.0 \t80.0 \t70.0 \n"
     ]
    }
   ],
   "source": [
    "ans = get_topper('hello.txt', print_info=True)"
   ]
  },
  {
   "cell_type": "code",
   "execution_count": 186,
   "id": "53280068-ebe8-4d09-8891-f28b53afb141",
   "metadata": {},
   "outputs": [
    {
     "name": "stdout",
     "output_type": "stream",
     "text": [
      "Overwriting student.data\n"
     ]
    }
   ],
   "source": [
    "%%writefile student.data\n",
    "1,Ravi,70,80,90\n",
    "2,Sachin,90,79,90"
   ]
  },
  {
   "cell_type": "code",
   "execution_count": 188,
   "id": "d39a8e53-85c4-4173-a56f-2201ec38fc34",
   "metadata": {},
   "outputs": [
    {
     "name": "stdout",
     "output_type": "stream",
     "text": [
      "-------------------------------------------------------\n",
      "  1.\tRavi      \t70.0 \t80.0 \t90.0 \t80.0 \n",
      "-------------------------------------------------------\n",
      "  2.\tSachin    \t90.0 \t79.0 \t90.0 \t86.33\n"
     ]
    }
   ],
   "source": [
    "ans = get_topper('student.data', print_info=True, sep=',', header=False)"
   ]
  },
  {
   "cell_type": "code",
   "execution_count": 189,
   "id": "2a8b4b74-969d-41ca-a99b-937aa8aa12b3",
   "metadata": {},
   "outputs": [
    {
     "data": {
      "text/plain": [
       "('Sachin', 86.33333333333333)"
      ]
     },
     "execution_count": 189,
     "metadata": {},
     "output_type": "execute_result"
    }
   ],
   "source": [
    "ans"
   ]
  },
  {
   "cell_type": "markdown",
   "id": "69843286-8861-4838-a466-74049bb8bba4",
   "metadata": {},
   "source": [
    "### Serilization \n",
    "\n",
    "    JSON, YAML, pickle"
   ]
  },
  {
   "cell_type": "code",
   "execution_count": 193,
   "id": "4c4de256-8a40-4a35-89c4-ea51c7df9de2",
   "metadata": {},
   "outputs": [],
   "source": [
    "import json\n",
    "import random"
   ]
  },
  {
   "cell_type": "code",
   "execution_count": 194,
   "id": "5513e46e-753d-4cc4-84a8-b591f1817b1c",
   "metadata": {},
   "outputs": [],
   "source": [
    "names = [\"Sachin Yadav\", \"Rajat Goyal\", \"Shubham Goyal\", \"Ayush Gupta\", \"Simran Grover\", \"Nidhi Sharma\", \"Ravi Goswami\"]"
   ]
  },
  {
   "cell_type": "code",
   "execution_count": 201,
   "id": "ac00adfd-adbe-4370-935b-2384b50d5607",
   "metadata": {},
   "outputs": [],
   "source": [
    "data = [\n",
    "    {'name': name, 'physics': random.randint(60, 100), 'maths': random.randint(60, 100), 'chem': random.randint(60, 100)}\n",
    "        for name in names\n",
    "    \n",
    "]"
   ]
  },
  {
   "cell_type": "code",
   "execution_count": 202,
   "id": "d570a4dd-b5aa-48dc-a49b-dd4792a88ff4",
   "metadata": {},
   "outputs": [],
   "source": [
    "with open('student.data', 'w') as fp:\n",
    "    fp.write(\"sno,name,physics,maths,chem\")\n",
    "    for sno, rec in enumerate(data, start=1):\n",
    "        line = f\"\\n{sno},{rec['name']},{rec['physics']},{rec['maths']},{rec['chem']}\"\n",
    "        fp.write(line)"
   ]
  },
  {
   "cell_type": "code",
   "execution_count": 203,
   "id": "de618614-d49c-4a68-853e-c07427358523",
   "metadata": {},
   "outputs": [
    {
     "name": "stdout",
     "output_type": "stream",
     "text": [
      "sno,name,physics,maths,chem\n",
      "1,Sachin Yadav,89,74,69\n",
      "2,Rajat Goyal,96,61,75\n",
      "3,Shubham Goyal,63,93,63\n",
      "4,Ayush Gupta,80,93,62\n",
      "5,Simran Grover,77,92,60\n",
      "6,Nidhi Sharma,71,65,78\n",
      "7,Ravi Goswami,77,68,86"
     ]
    }
   ],
   "source": [
    "!cat student.data"
   ]
  },
  {
   "cell_type": "code",
   "execution_count": 204,
   "id": "998705ac-543f-4cf1-83b7-4ad12f9e0444",
   "metadata": {},
   "outputs": [
    {
     "name": "stdout",
     "output_type": "stream",
     "text": [
      "sno,name,physics,maths,chem\n",
      "\n",
      "-------------------------------------------------------\n",
      "  1.\tSachin Yadav\t89.0 \t74.0 \t69.0 \t77.33\n",
      "-------------------------------------------------------\n",
      "  2.\tRajat Goyal\t96.0 \t61.0 \t75.0 \t77.33\n",
      "-------------------------------------------------------\n",
      "  3.\tShubham Goyal\t63.0 \t93.0 \t63.0 \t73.0 \n",
      "-------------------------------------------------------\n",
      "  4.\tAyush Gupta\t80.0 \t93.0 \t62.0 \t78.33\n",
      "-------------------------------------------------------\n",
      "  5.\tSimran Grover\t77.0 \t92.0 \t60.0 \t76.33\n",
      "-------------------------------------------------------\n",
      "  6.\tNidhi Sharma\t71.0 \t65.0 \t78.0 \t71.33\n",
      "-------------------------------------------------------\n",
      "  7.\tRavi Goswami\t77.0 \t68.0 \t86.0 \t77.0 \n"
     ]
    }
   ],
   "source": [
    "ans = get_topper('student.data', header=True, sep=\",\", print_info=True)"
   ]
  },
  {
   "cell_type": "code",
   "execution_count": 205,
   "id": "595db78a-e06c-486f-8bfb-3caf21ada3b0",
   "metadata": {},
   "outputs": [
    {
     "data": {
      "text/plain": [
       "('Ayush Gupta', 78.33333333333333)"
      ]
     },
     "execution_count": 205,
     "metadata": {},
     "output_type": "execute_result"
    }
   ],
   "source": [
    "ans"
   ]
  },
  {
   "cell_type": "code",
   "execution_count": 197,
   "id": "d515611b-b680-474a-84a9-177c7a6d8100",
   "metadata": {},
   "outputs": [
    {
     "data": {
      "text/plain": [
       "[{'name': 'Sachin Yadav', 'physics': 93, 'maths': 65, 'chem': 71},\n",
       " {'name': 'Rajat Goyal', 'physics': 85, 'maths': 99, 'chem': 72},\n",
       " {'name': 'Shubham Goyal', 'physics': 93, 'maths': 62, 'chem': 96},\n",
       " {'name': 'Ayush Gupta', 'physics': 81, 'maths': 85, 'chem': 77},\n",
       " {'name': 'Simran Grover', 'physics': 77, 'maths': 72, 'chem': 76},\n",
       " {'name': 'Nidhi Sharma', 'physics': 85, 'maths': 83, 'chem': 77},\n",
       " {'name': 'Ravi Goswami', 'physics': 98, 'maths': 98, 'chem': 63}]"
      ]
     },
     "execution_count": 197,
     "metadata": {},
     "output_type": "execute_result"
    }
   ],
   "source": [
    "data"
   ]
  },
  {
   "cell_type": "markdown",
   "id": "e5da0f9c-d645-4298-ab0f-01631acc2423",
   "metadata": {},
   "source": [
    "    dumps(obj) --> string / bytes representation of that object\n",
    "    dump(obj, file) --> write object into file\n",
    "\n",
    "\n",
    "    loads(string) --> object\n",
    "    load(fp) ---> object\n",
    "\n",
    "    "
   ]
  },
  {
   "cell_type": "code",
   "execution_count": 206,
   "id": "00fa0221-0612-4ca8-a724-358b1cfca8f4",
   "metadata": {},
   "outputs": [],
   "source": [
    "import json"
   ]
  },
  {
   "cell_type": "code",
   "execution_count": 207,
   "id": "35ede3ad-d252-4f0b-9931-72d3a7db3ce6",
   "metadata": {},
   "outputs": [
    {
     "data": {
      "text/plain": [
       "[{'name': 'Sachin Yadav', 'physics': 89, 'maths': 74, 'chem': 69},\n",
       " {'name': 'Rajat Goyal', 'physics': 96, 'maths': 61, 'chem': 75},\n",
       " {'name': 'Shubham Goyal', 'physics': 63, 'maths': 93, 'chem': 63},\n",
       " {'name': 'Ayush Gupta', 'physics': 80, 'maths': 93, 'chem': 62},\n",
       " {'name': 'Simran Grover', 'physics': 77, 'maths': 92, 'chem': 60},\n",
       " {'name': 'Nidhi Sharma', 'physics': 71, 'maths': 65, 'chem': 78},\n",
       " {'name': 'Ravi Goswami', 'physics': 77, 'maths': 68, 'chem': 86}]"
      ]
     },
     "execution_count": 207,
     "metadata": {},
     "output_type": "execute_result"
    }
   ],
   "source": [
    "data"
   ]
  },
  {
   "cell_type": "code",
   "execution_count": 209,
   "id": "330a1756-7c02-49a2-806c-0c01c7d5651d",
   "metadata": {},
   "outputs": [
    {
     "name": "stdout",
     "output_type": "stream",
     "text": [
      "<class 'list'>\n"
     ]
    }
   ],
   "source": [
    "print(type(data))"
   ]
  },
  {
   "cell_type": "code",
   "execution_count": 210,
   "id": "2ab456b2-8382-4e7d-bd9c-4d884d00711d",
   "metadata": {},
   "outputs": [
    {
     "name": "stdout",
     "output_type": "stream",
     "text": [
      "<class 'str'>\n"
     ]
    }
   ],
   "source": [
    "st = json.dumps(data)\n",
    "print(type(st))"
   ]
  },
  {
   "cell_type": "code",
   "execution_count": 211,
   "id": "517e2bc4-dea4-4f9e-83cc-3aa3fa3c59bf",
   "metadata": {},
   "outputs": [
    {
     "data": {
      "text/plain": [
       "'[{\"name\": \"Sachin Yadav\", \"physics\": 89, \"maths\": 74, \"chem\": 69}, {\"name\": \"Rajat Goyal\", \"physics\": 96, \"maths\": 61, \"chem\": 75}, {\"name\": \"Shubham Goyal\", \"physics\": 63, \"maths\": 93, \"chem\": 63}, {\"name\": \"Ayush Gupta\", \"physics\": 80, \"maths\": 93, \"chem\": 62}, {\"name\": \"Simran Grover\", \"physics\": 77, \"maths\": 92, \"chem\": 60}, {\"name\": \"Nidhi Sharma\", \"physics\": 71, \"maths\": 65, \"chem\": 78}, {\"name\": \"Ravi Goswami\", \"physics\": 77, \"maths\": 68, \"chem\": 86}]'"
      ]
     },
     "execution_count": 211,
     "metadata": {},
     "output_type": "execute_result"
    }
   ],
   "source": [
    "st"
   ]
  },
  {
   "cell_type": "markdown",
   "id": "66e6ae95-4730-43f4-9f85-8a0f3f60e1ce",
   "metadata": {},
   "source": [
    "JSON data type\n",
    "\n",
    "    json type       python type \n",
    "    \n",
    "        int             int\n",
    "        float           float\n",
    "\n",
    "        string          string\n",
    "\n",
    "        array           list, tuple\n",
    "\n",
    "        map              dict\n",
    "\n",
    "        true             True\n",
    "\n",
    "        false            False\n",
    "\n",
    "        null             None\n",
    "\n",
    "        "
   ]
  },
  {
   "cell_type": "code",
   "execution_count": 219,
   "id": "c0f692db-bf9a-49cb-8f83-8256bb868e4d",
   "metadata": {},
   "outputs": [
    {
     "data": {
      "text/plain": [
       "'{\"int\": 5, \"float\": 10.5, \"string\": \"hello world\", \"list\": [1, 2, 3], \"tuple\": [1, 2, 3]}'"
      ]
     },
     "execution_count": 219,
     "metadata": {},
     "output_type": "execute_result"
    }
   ],
   "source": [
    "d = {    'int':     5, 'float': 10.5, 'string': 'hello world', \n",
    "     \n",
    "      'list': [1, 2, 3, ], 'tuple': (1, 2, 3)}\n",
    "\n",
    "json.dumps(d)"
   ]
  },
  {
   "cell_type": "code",
   "execution_count": 220,
   "id": "4b7ff5cf-0a61-4381-858c-17350a350517",
   "metadata": {},
   "outputs": [
    {
     "data": {
      "text/plain": [
       "[{'name': 'Sachin Yadav', 'physics': 89, 'maths': 74, 'chem': 69},\n",
       " {'name': 'Rajat Goyal', 'physics': 96, 'maths': 61, 'chem': 75},\n",
       " {'name': 'Shubham Goyal', 'physics': 63, 'maths': 93, 'chem': 63},\n",
       " {'name': 'Ayush Gupta', 'physics': 80, 'maths': 93, 'chem': 62},\n",
       " {'name': 'Simran Grover', 'physics': 77, 'maths': 92, 'chem': 60},\n",
       " {'name': 'Nidhi Sharma', 'physics': 71, 'maths': 65, 'chem': 78},\n",
       " {'name': 'Ravi Goswami', 'physics': 77, 'maths': 68, 'chem': 86}]"
      ]
     },
     "execution_count": 220,
     "metadata": {},
     "output_type": "execute_result"
    }
   ],
   "source": [
    "data"
   ]
  },
  {
   "cell_type": "code",
   "execution_count": 221,
   "id": "b0e7a117-0341-4fdb-970d-d1ea0205e5df",
   "metadata": {},
   "outputs": [],
   "source": [
    "with open('student.json', 'w') as fp:\n",
    "    json.dump(data, fp)"
   ]
  },
  {
   "cell_type": "code",
   "execution_count": 222,
   "id": "7ed9ad28-3b33-48aa-9262-9e25ae4cbe1a",
   "metadata": {},
   "outputs": [
    {
     "name": "stdout",
     "output_type": "stream",
     "text": [
      "[{\"name\": \"Sachin Yadav\", \"physics\": 89, \"maths\": 74, \"chem\": 69}, {\"name\": \"Rajat Goyal\", \"physics\": 96, \"maths\": 61, \"chem\": 75}, {\"name\": \"Shubham Goyal\", \"physics\": 63, \"maths\": 93, \"chem\": 63}, {\"name\": \"Ayush Gupta\", \"physics\": 80, \"maths\": 93, \"chem\": 62}, {\"name\": \"Simran Grover\", \"physics\": 77, \"maths\": 92, \"chem\": 60}, {\"name\": \"Nidhi Sharma\", \"physics\": 71, \"maths\": 65, \"chem\": 78}, {\"name\": \"Ravi Goswami\", \"physics\": 77, \"maths\": 68, \"chem\": 86}]"
     ]
    }
   ],
   "source": [
    "!cat student.json"
   ]
  },
  {
   "cell_type": "code",
   "execution_count": null,
   "id": "3756b4c5-aced-4e11-a6a3-d39083e895f4",
   "metadata": {},
   "outputs": [],
   "source": []
  },
  {
   "cell_type": "code",
   "execution_count": 223,
   "id": "f5923b6e-d1e6-4fcf-b4ad-c7b70a279d8f",
   "metadata": {},
   "outputs": [],
   "source": [
    "with open('student.json') as fp:\n",
    "    info = json.load(fp)"
   ]
  },
  {
   "cell_type": "code",
   "execution_count": 225,
   "id": "d849d790-c4b5-4b4b-9b95-25749eb923cc",
   "metadata": {},
   "outputs": [
    {
     "name": "stdout",
     "output_type": "stream",
     "text": [
      "<class 'list'>\n"
     ]
    }
   ],
   "source": [
    "print(type(info))"
   ]
  },
  {
   "cell_type": "code",
   "execution_count": 226,
   "id": "521d4678-62f4-4912-8a7d-b4afc3d8c9b5",
   "metadata": {},
   "outputs": [
    {
     "data": {
      "text/plain": [
       "[{'name': 'Sachin Yadav', 'physics': 89, 'maths': 74, 'chem': 69},\n",
       " {'name': 'Rajat Goyal', 'physics': 96, 'maths': 61, 'chem': 75},\n",
       " {'name': 'Shubham Goyal', 'physics': 63, 'maths': 93, 'chem': 63},\n",
       " {'name': 'Ayush Gupta', 'physics': 80, 'maths': 93, 'chem': 62},\n",
       " {'name': 'Simran Grover', 'physics': 77, 'maths': 92, 'chem': 60},\n",
       " {'name': 'Nidhi Sharma', 'physics': 71, 'maths': 65, 'chem': 78},\n",
       " {'name': 'Ravi Goswami', 'physics': 77, 'maths': 68, 'chem': 86}]"
      ]
     },
     "execution_count": 226,
     "metadata": {},
     "output_type": "execute_result"
    }
   ],
   "source": [
    "info"
   ]
  },
  {
   "cell_type": "markdown",
   "id": "791b9be6-725b-4fbd-8da5-bfe4f77a26e9",
   "metadata": {},
   "source": [
    "### JSON provides cross language support "
   ]
  },
  {
   "cell_type": "code",
   "execution_count": 5,
   "id": "a1396698-0f37-4205-99d0-08bc4f998c08",
   "metadata": {},
   "outputs": [],
   "source": [
    "class User:\n",
    "    __acc_no = 1000\n",
    "    def __init__(self, name):\n",
    "        self.__name = name\n",
    "        self.__acc_no = self.get_account_number()\n",
    "    @classmethod\n",
    "    def get_account_number(cls):\n",
    "        cls.__acc_no += 1\n",
    "        return cls.__acc_no\n",
    "    def __str__(self):\n",
    "        return f\"Name = {self.__name}\\nAcc No. = {self.__acc_no}\""
   ]
  },
  {
   "cell_type": "code",
   "execution_count": 231,
   "id": "c2bd67a2-d1a8-4b2d-84ac-4e9a4bd7a039",
   "metadata": {},
   "outputs": [],
   "source": [
    "u1 = User('sachin')\n",
    "u2 = User('rajat')"
   ]
  },
  {
   "cell_type": "code",
   "execution_count": 232,
   "id": "e549d0bd-c58e-49ce-ab43-13784bd23c88",
   "metadata": {},
   "outputs": [
    {
     "name": "stdout",
     "output_type": "stream",
     "text": [
      "Name = sachin\n",
      "Acc No. = 1001\n",
      "Name = rajat\n",
      "Acc No. = 1002\n"
     ]
    }
   ],
   "source": [
    "print(u1)\n",
    "print(u2)"
   ]
  },
  {
   "cell_type": "code",
   "execution_count": 233,
   "id": "4368380d-600a-45a4-a6aa-79fd1fc7af05",
   "metadata": {},
   "outputs": [],
   "source": [
    "u3 = User(\"rahul\")"
   ]
  },
  {
   "cell_type": "code",
   "execution_count": 234,
   "id": "2cc08b6b-d1a2-48a0-9fae-cb0792e87345",
   "metadata": {},
   "outputs": [
    {
     "name": "stdout",
     "output_type": "stream",
     "text": [
      "Name = rahul\n",
      "Acc No. = 1003\n"
     ]
    }
   ],
   "source": [
    "print(u3)"
   ]
  },
  {
   "cell_type": "code",
   "execution_count": 235,
   "id": "1e982f35-9e9f-4066-bd49-d18cd57ca7a6",
   "metadata": {},
   "outputs": [
    {
     "ename": "TypeError",
     "evalue": "Object of type User is not JSON serializable",
     "output_type": "error",
     "traceback": [
      "\u001b[0;31m---------------------------------------------------------------------------\u001b[0m",
      "\u001b[0;31mTypeError\u001b[0m                                 Traceback (most recent call last)",
      "Cell \u001b[0;32mIn[235], line 1\u001b[0m\n\u001b[0;32m----> 1\u001b[0m json\u001b[38;5;241m.\u001b[39mdumps(u3)\n",
      "File \u001b[0;32m/opt/anaconda3/lib/python3.12/json/__init__.py:231\u001b[0m, in \u001b[0;36mdumps\u001b[0;34m(obj, skipkeys, ensure_ascii, check_circular, allow_nan, cls, indent, separators, default, sort_keys, **kw)\u001b[0m\n\u001b[1;32m    226\u001b[0m \u001b[38;5;66;03m# cached encoder\u001b[39;00m\n\u001b[1;32m    227\u001b[0m \u001b[38;5;28;01mif\u001b[39;00m (\u001b[38;5;129;01mnot\u001b[39;00m skipkeys \u001b[38;5;129;01mand\u001b[39;00m ensure_ascii \u001b[38;5;129;01mand\u001b[39;00m\n\u001b[1;32m    228\u001b[0m     check_circular \u001b[38;5;129;01mand\u001b[39;00m allow_nan \u001b[38;5;129;01mand\u001b[39;00m\n\u001b[1;32m    229\u001b[0m     \u001b[38;5;28mcls\u001b[39m \u001b[38;5;129;01mis\u001b[39;00m \u001b[38;5;28;01mNone\u001b[39;00m \u001b[38;5;129;01mand\u001b[39;00m indent \u001b[38;5;129;01mis\u001b[39;00m \u001b[38;5;28;01mNone\u001b[39;00m \u001b[38;5;129;01mand\u001b[39;00m separators \u001b[38;5;129;01mis\u001b[39;00m \u001b[38;5;28;01mNone\u001b[39;00m \u001b[38;5;129;01mand\u001b[39;00m\n\u001b[1;32m    230\u001b[0m     default \u001b[38;5;129;01mis\u001b[39;00m \u001b[38;5;28;01mNone\u001b[39;00m \u001b[38;5;129;01mand\u001b[39;00m \u001b[38;5;129;01mnot\u001b[39;00m sort_keys \u001b[38;5;129;01mand\u001b[39;00m \u001b[38;5;129;01mnot\u001b[39;00m kw):\n\u001b[0;32m--> 231\u001b[0m     \u001b[38;5;28;01mreturn\u001b[39;00m _default_encoder\u001b[38;5;241m.\u001b[39mencode(obj)\n\u001b[1;32m    232\u001b[0m \u001b[38;5;28;01mif\u001b[39;00m \u001b[38;5;28mcls\u001b[39m \u001b[38;5;129;01mis\u001b[39;00m \u001b[38;5;28;01mNone\u001b[39;00m:\n\u001b[1;32m    233\u001b[0m     \u001b[38;5;28mcls\u001b[39m \u001b[38;5;241m=\u001b[39m JSONEncoder\n",
      "File \u001b[0;32m/opt/anaconda3/lib/python3.12/json/encoder.py:200\u001b[0m, in \u001b[0;36mJSONEncoder.encode\u001b[0;34m(self, o)\u001b[0m\n\u001b[1;32m    196\u001b[0m         \u001b[38;5;28;01mreturn\u001b[39;00m encode_basestring(o)\n\u001b[1;32m    197\u001b[0m \u001b[38;5;66;03m# This doesn't pass the iterator directly to ''.join() because the\u001b[39;00m\n\u001b[1;32m    198\u001b[0m \u001b[38;5;66;03m# exceptions aren't as detailed.  The list call should be roughly\u001b[39;00m\n\u001b[1;32m    199\u001b[0m \u001b[38;5;66;03m# equivalent to the PySequence_Fast that ''.join() would do.\u001b[39;00m\n\u001b[0;32m--> 200\u001b[0m chunks \u001b[38;5;241m=\u001b[39m \u001b[38;5;28mself\u001b[39m\u001b[38;5;241m.\u001b[39miterencode(o, _one_shot\u001b[38;5;241m=\u001b[39m\u001b[38;5;28;01mTrue\u001b[39;00m)\n\u001b[1;32m    201\u001b[0m \u001b[38;5;28;01mif\u001b[39;00m \u001b[38;5;129;01mnot\u001b[39;00m \u001b[38;5;28misinstance\u001b[39m(chunks, (\u001b[38;5;28mlist\u001b[39m, \u001b[38;5;28mtuple\u001b[39m)):\n\u001b[1;32m    202\u001b[0m     chunks \u001b[38;5;241m=\u001b[39m \u001b[38;5;28mlist\u001b[39m(chunks)\n",
      "File \u001b[0;32m/opt/anaconda3/lib/python3.12/json/encoder.py:258\u001b[0m, in \u001b[0;36mJSONEncoder.iterencode\u001b[0;34m(self, o, _one_shot)\u001b[0m\n\u001b[1;32m    253\u001b[0m \u001b[38;5;28;01melse\u001b[39;00m:\n\u001b[1;32m    254\u001b[0m     _iterencode \u001b[38;5;241m=\u001b[39m _make_iterencode(\n\u001b[1;32m    255\u001b[0m         markers, \u001b[38;5;28mself\u001b[39m\u001b[38;5;241m.\u001b[39mdefault, _encoder, \u001b[38;5;28mself\u001b[39m\u001b[38;5;241m.\u001b[39mindent, floatstr,\n\u001b[1;32m    256\u001b[0m         \u001b[38;5;28mself\u001b[39m\u001b[38;5;241m.\u001b[39mkey_separator, \u001b[38;5;28mself\u001b[39m\u001b[38;5;241m.\u001b[39mitem_separator, \u001b[38;5;28mself\u001b[39m\u001b[38;5;241m.\u001b[39msort_keys,\n\u001b[1;32m    257\u001b[0m         \u001b[38;5;28mself\u001b[39m\u001b[38;5;241m.\u001b[39mskipkeys, _one_shot)\n\u001b[0;32m--> 258\u001b[0m \u001b[38;5;28;01mreturn\u001b[39;00m _iterencode(o, \u001b[38;5;241m0\u001b[39m)\n",
      "File \u001b[0;32m/opt/anaconda3/lib/python3.12/json/encoder.py:180\u001b[0m, in \u001b[0;36mJSONEncoder.default\u001b[0;34m(self, o)\u001b[0m\n\u001b[1;32m    161\u001b[0m \u001b[38;5;28;01mdef\u001b[39;00m \u001b[38;5;21mdefault\u001b[39m(\u001b[38;5;28mself\u001b[39m, o):\n\u001b[1;32m    162\u001b[0m \u001b[38;5;250m    \u001b[39m\u001b[38;5;124;03m\"\"\"Implement this method in a subclass such that it returns\u001b[39;00m\n\u001b[1;32m    163\u001b[0m \u001b[38;5;124;03m    a serializable object for ``o``, or calls the base implementation\u001b[39;00m\n\u001b[1;32m    164\u001b[0m \u001b[38;5;124;03m    (to raise a ``TypeError``).\u001b[39;00m\n\u001b[0;32m   (...)\u001b[0m\n\u001b[1;32m    178\u001b[0m \n\u001b[1;32m    179\u001b[0m \u001b[38;5;124;03m    \"\"\"\u001b[39;00m\n\u001b[0;32m--> 180\u001b[0m     \u001b[38;5;28;01mraise\u001b[39;00m \u001b[38;5;167;01mTypeError\u001b[39;00m(\u001b[38;5;124mf\u001b[39m\u001b[38;5;124m'\u001b[39m\u001b[38;5;124mObject of type \u001b[39m\u001b[38;5;132;01m{\u001b[39;00mo\u001b[38;5;241m.\u001b[39m\u001b[38;5;18m__class__\u001b[39m\u001b[38;5;241m.\u001b[39m\u001b[38;5;18m__name__\u001b[39m\u001b[38;5;132;01m}\u001b[39;00m\u001b[38;5;124m \u001b[39m\u001b[38;5;124m'\u001b[39m\n\u001b[1;32m    181\u001b[0m                     \u001b[38;5;124mf\u001b[39m\u001b[38;5;124m'\u001b[39m\u001b[38;5;124mis not JSON serializable\u001b[39m\u001b[38;5;124m'\u001b[39m)\n",
      "\u001b[0;31mTypeError\u001b[0m: Object of type User is not JSON serializable"
     ]
    }
   ],
   "source": [
    "json.dumps(u3)"
   ]
  },
  {
   "cell_type": "code",
   "execution_count": 236,
   "id": "919f10c4-add6-4b21-a319-50b5ff6eb274",
   "metadata": {},
   "outputs": [],
   "source": [
    "import pickle"
   ]
  },
  {
   "cell_type": "code",
   "execution_count": 237,
   "id": "5640fbff-8978-423e-a5f3-2f3d10ca624e",
   "metadata": {},
   "outputs": [
    {
     "data": {
      "text/plain": [
       "b'\\x80\\x04\\x95\\t\\x00\\x00\\x00\\x00\\x00\\x00\\x00\\x8c\\x05hello\\x94.'"
      ]
     },
     "execution_count": 237,
     "metadata": {},
     "output_type": "execute_result"
    }
   ],
   "source": [
    "pickle.dumps('hello')"
   ]
  },
  {
   "cell_type": "code",
   "execution_count": 242,
   "id": "da890015-b813-49e8-8fed-081d3e28cf3b",
   "metadata": {},
   "outputs": [],
   "source": [
    "obj = { 'name': 'sachin', 'language': ['hindi', 'english'] }\n",
    "with open('hello', 'wb') as fp:\n",
    "    pickle.dump(obj, fp)"
   ]
  },
  {
   "cell_type": "code",
   "execution_count": 243,
   "id": "7bf06059-2388-4656-acf9-32b247d23db2",
   "metadata": {},
   "outputs": [
    {
     "name": "stdout",
     "output_type": "stream",
     "text": [
      "�\u0004�6\u0000\u0000\u0000\u0000\u0000\u0000\u0000}�(�\u0004name��\u0006sachin�language�]�(�\u0005hindi��\u0007english�eu."
     ]
    }
   ],
   "source": [
    "!cat hello"
   ]
  },
  {
   "cell_type": "code",
   "execution_count": 244,
   "id": "83a034b2-5258-4d9e-9047-7e04f8c9a41a",
   "metadata": {},
   "outputs": [],
   "source": [
    "with open('hello', 'rb') as fp:\n",
    "    x = pickle.load(fp)"
   ]
  },
  {
   "cell_type": "code",
   "execution_count": 245,
   "id": "4521d8d6-fd4a-43e7-8f29-d2c51bad148e",
   "metadata": {},
   "outputs": [
    {
     "data": {
      "text/plain": [
       "dict"
      ]
     },
     "execution_count": 245,
     "metadata": {},
     "output_type": "execute_result"
    }
   ],
   "source": [
    "type(x)"
   ]
  },
  {
   "cell_type": "code",
   "execution_count": 246,
   "id": "bd2b659f-f82e-44bd-93d0-e5311efdfd8c",
   "metadata": {},
   "outputs": [
    {
     "data": {
      "text/plain": [
       "{'name': 'sachin', 'language': ['hindi', 'english']}"
      ]
     },
     "execution_count": 246,
     "metadata": {},
     "output_type": "execute_result"
    }
   ],
   "source": [
    "x"
   ]
  },
  {
   "cell_type": "code",
   "execution_count": 247,
   "id": "dcf51539-2822-4314-a10e-59c1f9efadfa",
   "metadata": {},
   "outputs": [
    {
     "data": {
      "text/plain": [
       "__main__.User"
      ]
     },
     "execution_count": 247,
     "metadata": {},
     "output_type": "execute_result"
    }
   ],
   "source": [
    "User"
   ]
  },
  {
   "cell_type": "code",
   "execution_count": 250,
   "id": "fe636a57-2f6a-4fed-9942-25fdf1d05478",
   "metadata": {},
   "outputs": [],
   "source": [
    "with open(\"user.pkl\", \"wb\") as fp:\n",
    "    pickle.dump(User, fp)"
   ]
  },
  {
   "cell_type": "code",
   "execution_count": 251,
   "id": "872edd5d-7957-4cda-9bca-d6f27d704148",
   "metadata": {},
   "outputs": [],
   "source": [
    "users = [ u1, u2, u3]"
   ]
  },
  {
   "cell_type": "code",
   "execution_count": 252,
   "id": "356c1206-a6ac-4830-9cf4-8f7349cc74f2",
   "metadata": {},
   "outputs": [],
   "source": [
    "with open('user_data.pkl', 'wb') as fp:\n",
    "    pickle.dump(users, fp)"
   ]
  },
  {
   "cell_type": "code",
   "execution_count": 3,
   "id": "c033613f-b0c3-47cd-b106-b6cc30ed580d",
   "metadata": {},
   "outputs": [],
   "source": [
    "import pickle"
   ]
  },
  {
   "cell_type": "code",
   "execution_count": 6,
   "id": "249974af-d29e-4d05-a1c3-d8c20393c935",
   "metadata": {},
   "outputs": [],
   "source": [
    "with open(\"user.pkl\", \"rb\") as fp:\n",
    "    User = pickle.load(fp)"
   ]
  },
  {
   "cell_type": "code",
   "execution_count": 7,
   "id": "9f78edd4-8062-45fb-932c-1cdbb64001fa",
   "metadata": {},
   "outputs": [
    {
     "data": {
      "text/plain": [
       "__main__.User"
      ]
     },
     "execution_count": 7,
     "metadata": {},
     "output_type": "execute_result"
    }
   ],
   "source": [
    "User"
   ]
  },
  {
   "cell_type": "code",
   "execution_count": 8,
   "id": "e2570c35-ad06-45a1-88c8-1e697db15f83",
   "metadata": {},
   "outputs": [],
   "source": [
    "u4 = User('simran')"
   ]
  },
  {
   "cell_type": "code",
   "execution_count": 9,
   "id": "222bc135-f836-4f61-bde2-3778f642751f",
   "metadata": {},
   "outputs": [
    {
     "name": "stdout",
     "output_type": "stream",
     "text": [
      "Name = simran\n",
      "Acc No. = 1001\n"
     ]
    }
   ],
   "source": [
    "print(u4)"
   ]
  },
  {
   "cell_type": "code",
   "execution_count": 10,
   "id": "0f598baf-7e6a-4f78-8284-c9b311c13fc5",
   "metadata": {},
   "outputs": [],
   "source": [
    "users = pickle.load(open('user_data.pkl', 'rb'))"
   ]
  },
  {
   "cell_type": "code",
   "execution_count": 11,
   "id": "9077cb49-158f-4b12-a815-7e6ca557c688",
   "metadata": {},
   "outputs": [
    {
     "data": {
      "text/plain": [
       "[<__main__.User at 0x1652e3740>,\n",
       " <__main__.User at 0x1652e3950>,\n",
       " <__main__.User at 0x164a282f0>]"
      ]
     },
     "execution_count": 11,
     "metadata": {},
     "output_type": "execute_result"
    }
   ],
   "source": [
    "users"
   ]
  },
  {
   "cell_type": "code",
   "execution_count": 12,
   "id": "1fd741c0-8e74-4ff7-9bd5-310931a7b281",
   "metadata": {},
   "outputs": [
    {
     "name": "stdout",
     "output_type": "stream",
     "text": [
      "Name = sachin\n",
      "Acc No. = 1001\n",
      "Name = rajat\n",
      "Acc No. = 1002\n",
      "Name = rahul\n",
      "Acc No. = 1003\n"
     ]
    }
   ],
   "source": [
    "for u in users:\n",
    "    print(u)"
   ]
  },
  {
   "cell_type": "markdown",
   "id": "5ccfa75d-fa22-44a4-b19a-9f5cd7ecd280",
   "metadata": {},
   "source": [
    "why pickle instead of JSON ? "
   ]
  },
  {
   "cell_type": "markdown",
   "id": "cafc3296-6b6a-4dc7-9794-5efa41396800",
   "metadata": {},
   "source": [
    "    JSON does not support all python types [tuple, complex, set, custom object]\n",
    "\n",
    "    Pickle --> support all python types "
   ]
  },
  {
   "cell_type": "code",
   "execution_count": 13,
   "id": "0c927bee-b76e-4ac7-b35c-f6bf190ade17",
   "metadata": {},
   "outputs": [],
   "source": [
    "s = { 1, 2, 3}"
   ]
  },
  {
   "cell_type": "code",
   "execution_count": 14,
   "id": "60a94d30-575b-498b-b9d5-830087219138",
   "metadata": {},
   "outputs": [],
   "source": [
    "import json"
   ]
  },
  {
   "cell_type": "raw",
   "id": "5f8c0b06-7796-41cf-9984-b0ec20987e2d",
   "metadata": {},
   "source": [
    "json.dumps(s)"
   ]
  },
  {
   "cell_type": "code",
   "execution_count": 16,
   "id": "7fcaa367-f265-41c9-9cce-5450af07404e",
   "metadata": {},
   "outputs": [
    {
     "data": {
      "text/plain": [
       "b'\\x80\\x04\\x95\\x0b\\x00\\x00\\x00\\x00\\x00\\x00\\x00\\x8f\\x94(K\\x01K\\x02K\\x03\\x90.'"
      ]
     },
     "execution_count": 16,
     "metadata": {},
     "output_type": "execute_result"
    }
   ],
   "source": [
    "pickle.dumps(s)"
   ]
  },
  {
   "cell_type": "markdown",
   "id": "4c985ec6-bc2c-4f08-8e05-d662d23e7a57",
   "metadata": {},
   "source": [
    "### Database"
   ]
  },
  {
   "cell_type": "code",
   "execution_count": 17,
   "id": "eab508c1-0fd7-412b-87c8-eba51972a469",
   "metadata": {},
   "outputs": [
    {
     "name": "stdout",
     "output_type": "stream",
     "text": [
      "We will start in    14 seconds."
     ]
    },
    {
     "ename": "KeyboardInterrupt",
     "evalue": "",
     "output_type": "error",
     "traceback": [
      "\u001b[0;31m---------------------------------------------------------------------------\u001b[0m",
      "\u001b[0;31mKeyboardInterrupt\u001b[0m                         Traceback (most recent call last)",
      "Cell \u001b[0;32mIn[17], line 7\u001b[0m\n\u001b[1;32m      5\u001b[0m \u001b[38;5;28;01mfor\u001b[39;00m i \u001b[38;5;129;01min\u001b[39;00m \u001b[38;5;28mrange\u001b[39m(sleep_time\u001b[38;5;241m+\u001b[39m\u001b[38;5;241m1\u001b[39m):\n\u001b[1;32m      6\u001b[0m     \u001b[38;5;28mprint\u001b[39m(\u001b[38;5;124mf\u001b[39m\u001b[38;5;124m\"\u001b[39m\u001b[38;5;130;01m\\r\u001b[39;00m\u001b[38;5;124mWe will start in \u001b[39m\u001b[38;5;132;01m{\u001b[39;00msleep_time\u001b[38;5;241m-\u001b[39mi\u001b[38;5;132;01m:\u001b[39;00m\u001b[38;5;124m>5\u001b[39m\u001b[38;5;132;01m}\u001b[39;00m\u001b[38;5;124m seconds.\u001b[39m\u001b[38;5;124m\"\u001b[39m, end\u001b[38;5;241m=\u001b[39m\u001b[38;5;124m\"\u001b[39m\u001b[38;5;124m\"\u001b[39m)\n\u001b[0;32m----> 7\u001b[0m     time\u001b[38;5;241m.\u001b[39msleep(\u001b[38;5;241m1\u001b[39m)\n",
      "\u001b[0;31mKeyboardInterrupt\u001b[0m: "
     ]
    }
   ],
   "source": [
    "import time\n",
    "\n",
    "sleep_time = 15*60\n",
    "\n",
    "for i in range(sleep_time+1):\n",
    "    print(f\"\\rWe will start in {sleep_time-i:>5} seconds.\", end=\"\")\n",
    "    time.sleep(1)"
   ]
  },
  {
   "cell_type": "code",
   "execution_count": 18,
   "id": "6fbf8437-71cb-40a0-bd90-ad4e36f2e06d",
   "metadata": {},
   "outputs": [
    {
     "name": "stdout",
     "output_type": "stream",
     "text": [
      "Cloning into 'Datasets'...\n",
      "remote: Enumerating objects: 70, done.\u001b[K\n",
      "remote: Counting objects: 100% (70/70), done.\u001b[K\n",
      "remote: Compressing objects: 100% (61/61), done.\u001b[K\n",
      "remote: Total 70 (delta 13), reused 62 (delta 9), pack-reused 0 (from 0)\u001b[K\n",
      "Receiving objects: 100% (70/70), 40.21 MiB | 408.00 KiB/s, done.\n",
      "Resolving deltas: 100% (13/13), done.\n"
     ]
    }
   ],
   "source": [
    "!git clone https://github.com/sachinyadav3496/Datasets"
   ]
  },
  {
   "cell_type": "markdown",
   "id": "556ca44a-0261-44d2-bbb6-0dfd8a9f7f09",
   "metadata": {},
   "source": [
    "Datbases\n",
    "\n",
    "    Effiencet programs to manage data in files "
   ]
  },
  {
   "cell_type": "markdown",
   "id": "06aba0b2-0356-45b1-824b-4019b04d86a8",
   "metadata": {},
   "source": [
    "SQL\n",
    "\n",
    "    Structure Query Language  \n",
    "\n",
    "\n",
    "    Tabular data\n",
    "\n",
    "        fix no of columns which represents attributes of an entity \n",
    "\n",
    "        each row represents an instance or object "
   ]
  },
  {
   "cell_type": "markdown",
   "id": "e91afa89-a99b-4c8b-84ec-1639d4214aa2",
   "metadata": {},
   "source": [
    "    roll_no (pk) name   phy    chem   math\n",
    "\n",
    "    1      sachin  90   80  70             tuple / record / row \n",
    "    2"
   ]
  },
  {
   "cell_type": "markdown",
   "id": "c93bcf7c-5697-4fe9-a2b2-419053633da0",
   "metadata": {},
   "source": [
    "Database Server\n",
    "\n",
    "    multiple databases and users\n",
    "\n",
    "    mariadb --> Xampp\n",
    "\n",
    "    "
   ]
  },
  {
   "cell_type": "markdown",
   "id": "406a10ff-bda4-461a-b6dc-c53a4232ae56",
   "metadata": {},
   "source": [
    "SQL server \n",
    "\n",
    "    Terminal Acess - mysql -u root -p \n",
    "\n",
    "    IDE / Workbench - SQL queries\n",
    "\n",
    "    Language - Python\n",
    "    "
   ]
  },
  {
   "cell_type": "markdown",
   "id": "3deb5a07-b674-4f49-9ca2-84cfe9b654c1",
   "metadata": {},
   "source": [
    "Database server\n",
    "\n",
    "    Student   --> Database / Schema\n",
    "\n",
    "        info -> roll_no int, name varchar(100), address varchar(100), ph_no varchar(10), ...\n",
    "        fees --> roll_no int (fk info.roll_no), total_fees float, rem_fees float\n",
    "        courses --> ...\n",
    "        \n",
    "\n",
    "    Bank\n",
    "\n",
    "    Blog\n"
   ]
  },
  {
   "cell_type": "code",
   "execution_count": 21,
   "id": "294c36fe-a35c-416d-aa05-2c75346b47b9",
   "metadata": {},
   "outputs": [
    {
     "name": "stdout",
     "output_type": "stream",
     "text": [
      "Assignment-2-WED.docx      Database3.txt\n",
      "\u001b[34mdatabase\u001b[m\u001b[m                   DBMS.docx\n",
      "database_project.txt       exercise-Building-SQL.docx\n",
      "database_quiz.pdf          exercise-ERD-to-SQL-2.docx\n",
      "Database1.txt              RAT 3 V2.docx\n",
      "Database2.txt              \u001b[34mTEST_DATABASES\u001b[m\u001b[m\n"
     ]
    }
   ],
   "source": [
    "!ls Datasets/database/"
   ]
  },
  {
   "cell_type": "code",
   "execution_count": 22,
   "id": "db27e5a8-5c19-48b6-adcc-6e9b5b96fb27",
   "metadata": {},
   "outputs": [
    {
     "name": "stdout",
     "output_type": "stream",
     "text": [
      "----> log into database ( in case of error make sure your database is running at localhost on port number 3306)\n",
      "\n"
     ]
    },
    {
     "name": "stdin",
     "output_type": "stream",
     "text": [
      " \n"
     ]
    },
    {
     "name": "stdout",
     "output_type": "stream",
     "text": [
      "\n",
      "\n"
     ]
    },
    {
     "name": "stdin",
     "output_type": "stream",
     "text": [
      " \n"
     ]
    },
    {
     "name": "stdout",
     "output_type": "stream",
     "text": [
      "#mysql -u root -p \n",
      "\n"
     ]
    },
    {
     "name": "stdin",
     "output_type": "stream",
     "text": [
      " \n"
     ]
    },
    {
     "name": "stdout",
     "output_type": "stream",
     "text": [
      "\n",
      "\n"
     ]
    },
    {
     "name": "stdin",
     "output_type": "stream",
     "text": [
      " \n"
     ]
    },
    {
     "name": "stdout",
     "output_type": "stream",
     "text": [
      "----> full command  mysql --host hostname --port 3306 --user username --database dbname -p \n",
      "\n"
     ]
    },
    {
     "name": "stdin",
     "output_type": "stream",
     "text": [
      " \n"
     ]
    },
    {
     "name": "stdout",
     "output_type": "stream",
     "text": [
      "\n",
      "\n"
     ]
    },
    {
     "name": "stdin",
     "output_type": "stream",
     "text": [
      " \n"
     ]
    },
    {
     "name": "stdout",
     "output_type": "stream",
     "text": [
      "---> for creating a database \n",
      "\n"
     ]
    },
    {
     "name": "stdin",
     "output_type": "stream",
     "text": [
      " \n"
     ]
    },
    {
     "name": "stdout",
     "output_type": "stream",
     "text": [
      "\n",
      "\n"
     ]
    },
    {
     "name": "stdin",
     "output_type": "stream",
     "text": [
      " \n"
     ]
    },
    {
     "name": "stdout",
     "output_type": "stream",
     "text": [
      "#CREATE DATABASE student CHARACTER SET utf8;\n",
      "\n"
     ]
    },
    {
     "name": "stdin",
     "output_type": "stream",
     "text": [
      " \n"
     ]
    },
    {
     "name": "stdout",
     "output_type": "stream",
     "text": [
      "\n",
      "\n"
     ]
    },
    {
     "ename": "KeyboardInterrupt",
     "evalue": "Interrupted by user",
     "output_type": "error",
     "traceback": [
      "\u001b[0;31m---------------------------------------------------------------------------\u001b[0m",
      "\u001b[0;31mKeyboardInterrupt\u001b[0m                         Traceback (most recent call last)",
      "Cell \u001b[0;32mIn[22], line 5\u001b[0m\n\u001b[1;32m      3\u001b[0m \u001b[38;5;28;01mfor\u001b[39;00m line \u001b[38;5;129;01min\u001b[39;00m file:\n\u001b[1;32m      4\u001b[0m     \u001b[38;5;28mprint\u001b[39m(line)\n\u001b[0;32m----> 5\u001b[0m     \u001b[38;5;28minput\u001b[39m()\n",
      "File \u001b[0;32m/opt/anaconda3/lib/python3.12/site-packages/ipykernel/kernelbase.py:1262\u001b[0m, in \u001b[0;36mKernel.raw_input\u001b[0;34m(self, prompt)\u001b[0m\n\u001b[1;32m   1260\u001b[0m     msg \u001b[38;5;241m=\u001b[39m \u001b[38;5;124m\"\u001b[39m\u001b[38;5;124mraw_input was called, but this frontend does not support input requests.\u001b[39m\u001b[38;5;124m\"\u001b[39m\n\u001b[1;32m   1261\u001b[0m     \u001b[38;5;28;01mraise\u001b[39;00m StdinNotImplementedError(msg)\n\u001b[0;32m-> 1262\u001b[0m \u001b[38;5;28;01mreturn\u001b[39;00m \u001b[38;5;28mself\u001b[39m\u001b[38;5;241m.\u001b[39m_input_request(\n\u001b[1;32m   1263\u001b[0m     \u001b[38;5;28mstr\u001b[39m(prompt),\n\u001b[1;32m   1264\u001b[0m     \u001b[38;5;28mself\u001b[39m\u001b[38;5;241m.\u001b[39m_parent_ident[\u001b[38;5;124m\"\u001b[39m\u001b[38;5;124mshell\u001b[39m\u001b[38;5;124m\"\u001b[39m],\n\u001b[1;32m   1265\u001b[0m     \u001b[38;5;28mself\u001b[39m\u001b[38;5;241m.\u001b[39mget_parent(\u001b[38;5;124m\"\u001b[39m\u001b[38;5;124mshell\u001b[39m\u001b[38;5;124m\"\u001b[39m),\n\u001b[1;32m   1266\u001b[0m     password\u001b[38;5;241m=\u001b[39m\u001b[38;5;28;01mFalse\u001b[39;00m,\n\u001b[1;32m   1267\u001b[0m )\n",
      "File \u001b[0;32m/opt/anaconda3/lib/python3.12/site-packages/ipykernel/kernelbase.py:1305\u001b[0m, in \u001b[0;36mKernel._input_request\u001b[0;34m(self, prompt, ident, parent, password)\u001b[0m\n\u001b[1;32m   1302\u001b[0m \u001b[38;5;28;01mexcept\u001b[39;00m \u001b[38;5;167;01mKeyboardInterrupt\u001b[39;00m:\n\u001b[1;32m   1303\u001b[0m     \u001b[38;5;66;03m# re-raise KeyboardInterrupt, to truncate traceback\u001b[39;00m\n\u001b[1;32m   1304\u001b[0m     msg \u001b[38;5;241m=\u001b[39m \u001b[38;5;124m\"\u001b[39m\u001b[38;5;124mInterrupted by user\u001b[39m\u001b[38;5;124m\"\u001b[39m\n\u001b[0;32m-> 1305\u001b[0m     \u001b[38;5;28;01mraise\u001b[39;00m \u001b[38;5;167;01mKeyboardInterrupt\u001b[39;00m(msg) \u001b[38;5;28;01mfrom\u001b[39;00m \u001b[38;5;28;01mNone\u001b[39;00m\n\u001b[1;32m   1306\u001b[0m \u001b[38;5;28;01mexcept\u001b[39;00m \u001b[38;5;167;01mException\u001b[39;00m:\n\u001b[1;32m   1307\u001b[0m     \u001b[38;5;28mself\u001b[39m\u001b[38;5;241m.\u001b[39mlog\u001b[38;5;241m.\u001b[39mwarning(\u001b[38;5;124m\"\u001b[39m\u001b[38;5;124mInvalid Message:\u001b[39m\u001b[38;5;124m\"\u001b[39m, exc_info\u001b[38;5;241m=\u001b[39m\u001b[38;5;28;01mTrue\u001b[39;00m)\n",
      "\u001b[0;31mKeyboardInterrupt\u001b[0m: Interrupted by user"
     ]
    },
    {
     "name": "stdin",
     "output_type": "stream",
     "text": [
      " \n"
     ]
    }
   ],
   "source": [
    "path = \"Datasets/database/Database1.txt\"\n",
    "with open(path) as file:\n",
    "    for line in file:\n",
    "        print(line)\n",
    "        input()"
   ]
  },
  {
   "cell_type": "markdown",
   "id": "4d348ff1-8014-4a3f-92cb-0a3aa217583d",
   "metadata": {},
   "source": [
    "#### connectors \n",
    "\n",
    "    install approprite connector library "
   ]
  },
  {
   "cell_type": "code",
   "execution_count": 23,
   "id": "d66b3c83-fe8c-41bf-b99d-2c03df424654",
   "metadata": {},
   "outputs": [
    {
     "name": "stdout",
     "output_type": "stream",
     "text": [
      "Requirement already satisfied: pymysql in /opt/anaconda3/lib/python3.12/site-packages (1.1.1)\n"
     ]
    }
   ],
   "source": [
    "!pip install pymysql "
   ]
  },
  {
   "cell_type": "code",
   "execution_count": 24,
   "id": "2628ec2f-a428-4a5a-b290-ce01b06b9c78",
   "metadata": {},
   "outputs": [],
   "source": [
    "import pymysql"
   ]
  },
  {
   "cell_type": "code",
   "execution_count": 26,
   "id": "4c13e974-fae2-4fa9-b834-7cbe1f774218",
   "metadata": {},
   "outputs": [],
   "source": [
    "HOSTNAME = \"localhost\" # \"127.0.0.1\"\n",
    "PORT = 3306\n",
    "USER = \"root\"\n",
    "PASSWORD = \"\"\n",
    "\n",
    "DEFAULT_SCHEMA=\"student\" # optional"
   ]
  },
  {
   "cell_type": "code",
   "execution_count": 27,
   "id": "2d2e9a90-bb5f-4978-a2da-926a17caba47",
   "metadata": {},
   "outputs": [],
   "source": [
    "con = pymysql.connect(host=HOSTNAME, port=PORT, user=USER, password=PASSWORD)"
   ]
  },
  {
   "cell_type": "code",
   "execution_count": 28,
   "id": "7acc5af1-a8a1-406f-962e-373d1cd71e10",
   "metadata": {},
   "outputs": [],
   "source": [
    "cur = con.cursor()"
   ]
  },
  {
   "cell_type": "markdown",
   "id": "c1754620-a56a-4836-9869-2720415bc098",
   "metadata": {},
   "source": [
    "`cur.execute(sql_command)`"
   ]
  },
  {
   "cell_type": "code",
   "execution_count": 29,
   "id": "1628ed32-c824-469a-be5c-8c02ba194abb",
   "metadata": {},
   "outputs": [
    {
     "data": {
      "text/plain": [
       "5"
      ]
     },
     "execution_count": 29,
     "metadata": {},
     "output_type": "execute_result"
    }
   ],
   "source": [
    "cur.execute(\"SHOW DATABASES\")"
   ]
  },
  {
   "cell_type": "code",
   "execution_count": 30,
   "id": "3c0655c3-d873-41e8-873a-714661d8fc96",
   "metadata": {},
   "outputs": [],
   "source": [
    "databases = cur.fetchall()"
   ]
  },
  {
   "cell_type": "code",
   "execution_count": 31,
   "id": "42af4705-fd09-4ff7-b504-cfa5676fc541",
   "metadata": {},
   "outputs": [
    {
     "data": {
      "text/plain": [
       "(('information_schema',),\n",
       " ('mysql',),\n",
       " ('performance_schema',),\n",
       " ('phpmyadmin',),\n",
       " ('test',))"
      ]
     },
     "execution_count": 31,
     "metadata": {},
     "output_type": "execute_result"
    }
   ],
   "source": [
    "databases"
   ]
  },
  {
   "cell_type": "code",
   "execution_count": 34,
   "id": "fa6e854d-aece-476e-aae5-e4119856c660",
   "metadata": {},
   "outputs": [
    {
     "name": "stdout",
     "output_type": "stream",
     "text": [
      "  hello   \n"
     ]
    }
   ],
   "source": [
    "x = 10\n",
    "print(f\"{'hello':^{x}}\")"
   ]
  },
  {
   "cell_type": "code",
   "execution_count": 68,
   "id": "c5b5166e-aaef-434b-85b5-7f0f5ab09fe6",
   "metadata": {},
   "outputs": [],
   "source": [
    "def run_command(cur, command, col_width=20):\n",
    "    cur.execute(command)\n",
    "    # ( (col1, col2, ..., coln), (col1, col2, ...,coln), ... (p1, p2, p3))\n",
    "    result = cur.fetchall()\n",
    "    # sql command result fetch\n",
    "    for row in result:\n",
    "        row = list(map(str, row))\n",
    "        cols = len(row)\n",
    "        width = cols * col_width + cols*2\n",
    "        print('-'*width)\n",
    "        temp = \"{:^{w}}|\"*cols\n",
    "        print(\"|\", temp.format(*row, w=col_width))\n",
    "    print('-'*width)\n",
    "        "
   ]
  },
  {
   "cell_type": "code",
   "execution_count": 46,
   "id": "2cf210fd-eb16-4163-b574-867ca86228c4",
   "metadata": {},
   "outputs": [
    {
     "name": "stdout",
     "output_type": "stream",
     "text": [
      "----------------------\n",
      "|  information_schema |\n",
      "----------------------\n",
      "|        mysql        |\n",
      "----------------------\n",
      "|  performance_schema |\n",
      "----------------------\n",
      "|      phpmyadmin     |\n",
      "----------------------\n",
      "|         test        |\n",
      "----------------------\n"
     ]
    }
   ],
   "source": [
    "run_command(cur, \"SHOW DATABASES\")"
   ]
  },
  {
   "cell_type": "code",
   "execution_count": 48,
   "id": "e490488c-2f7e-4c53-96be-2e380eedbdfc",
   "metadata": {},
   "outputs": [
    {
     "data": {
      "text/plain": [
       "1"
      ]
     },
     "execution_count": 48,
     "metadata": {},
     "output_type": "execute_result"
    }
   ],
   "source": [
    "command = \"CREATE DATABASE student CHARSET utf8\"\n",
    "cur.execute(command)"
   ]
  },
  {
   "cell_type": "code",
   "execution_count": 49,
   "id": "1563e768-0844-46c8-8011-e6490374d268",
   "metadata": {},
   "outputs": [
    {
     "name": "stdout",
     "output_type": "stream",
     "text": [
      "----------------------\n",
      "|  information_schema |\n",
      "----------------------\n",
      "|        mysql        |\n",
      "----------------------\n",
      "|  performance_schema |\n",
      "----------------------\n",
      "|      phpmyadmin     |\n",
      "----------------------\n",
      "|       student       |\n",
      "----------------------\n",
      "|         test        |\n",
      "----------------------\n"
     ]
    }
   ],
   "source": [
    "run_command(cur, \"SHOW DATABASES\")"
   ]
  },
  {
   "cell_type": "code",
   "execution_count": 52,
   "id": "02fde11f-c874-484c-a455-5c19d78c482d",
   "metadata": {},
   "outputs": [
    {
     "data": {
      "text/plain": [
       "0"
      ]
     },
     "execution_count": 52,
     "metadata": {},
     "output_type": "execute_result"
    }
   ],
   "source": [
    "cur.execute(\"USE student\")"
   ]
  },
  {
   "cell_type": "code",
   "execution_count": null,
   "id": "94643aa7-9d67-4e97-971f-7972f6fb1521",
   "metadata": {},
   "outputs": [],
   "source": [
    "HOSTNAME = \"localhost\" # \"127.0.0.1\"\n",
    "PORT = 3306\n",
    "USER = \"root\"\n",
    "PASSWORD = \"\"\n",
    "\n",
    "DEFAULT_SCHEMA=\"student\" # optional"
   ]
  },
  {
   "cell_type": "code",
   "execution_count": 53,
   "id": "54fb07be-c098-4cfd-9f33-1109f0309f90",
   "metadata": {},
   "outputs": [],
   "source": [
    "con = pymysql.connect(host=HOSTNAME, port=PORT, user=USER, password=PASSWORD, database=DEFAULT_SCHEMA)"
   ]
  },
  {
   "cell_type": "code",
   "execution_count": 54,
   "id": "943884a6-84a5-4a25-8640-3045da2b0d2c",
   "metadata": {},
   "outputs": [],
   "source": [
    "cur = con.cursor()"
   ]
  },
  {
   "cell_type": "code",
   "execution_count": 56,
   "id": "de26108f-bc55-49cb-8b46-1eb149f2ca85",
   "metadata": {},
   "outputs": [],
   "source": [
    "con.commit()"
   ]
  },
  {
   "cell_type": "markdown",
   "id": "96c7e540-16fa-4347-96e7-53b27bb77138",
   "metadata": {},
   "source": [
    "### SQL\n",
    "\n",
    "    DDL - Data Defination Language\n",
    "\n",
    "        create\n",
    "        drop\n",
    "        truncate\n",
    "        ...\n",
    "    \n",
    "    DML - Data Manipulation language\n",
    "\n",
    "        insert\n",
    "        update\n",
    "        remove\n",
    "        delete\n",
    "\n",
    "    DQL - Data Query langauge\n",
    "\n",
    "        select\n",
    "\n",
    "    DCL - Data Control Language\n",
    "\n",
    "        grant\n",
    "        revoke\n",
    "\n",
    "    TCL - Transacation Control Language\n",
    "\n",
    "        roll-back\n",
    "        commit\n",
    "\n",
    "    "
   ]
  },
  {
   "cell_type": "markdown",
   "id": "82efd3c7-cf7b-44b8-904c-c17da99bf486",
   "metadata": {},
   "source": [
    "student\n",
    "\n",
    "    roll_no int(pk), name varchar(100), ph_no varchar(13)\n",
    "\n",
    "fees \n",
    "\n",
    "    roll_no int(fk student.roll_no), total int, rem int\n"
   ]
  },
  {
   "cell_type": "code",
   "execution_count": 58,
   "id": "5de5e07f-6c32-4fba-aae8-95232958e67e",
   "metadata": {},
   "outputs": [],
   "source": [
    "command = \"CREATE TABLE student(roll_no INT, name VARCHAR(100), ph_no VARCHAR(13))\""
   ]
  },
  {
   "cell_type": "code",
   "execution_count": 59,
   "id": "88451ca8-cbce-4229-81a7-7709f0c16f12",
   "metadata": {},
   "outputs": [],
   "source": [
    "cur.execute(command)\n",
    "con.commit()"
   ]
  },
  {
   "cell_type": "code",
   "execution_count": 60,
   "id": "bc4c3674-2159-4f82-896d-ee44d676ef31",
   "metadata": {},
   "outputs": [],
   "source": [
    "command = \"DROP TABLE student\"\n",
    "cur.execute(command)\n",
    "con.commit()\n",
    "# TRUNCATE --> Data DELETE but will not delete DEFINATED "
   ]
  },
  {
   "cell_type": "code",
   "execution_count": 72,
   "id": "351abe55-9d00-4397-a770-ea6a5d393733",
   "metadata": {},
   "outputs": [],
   "source": [
    "command = \"CREATE OR REPLACE TABLE student(roll_no INT PRIMARY KEY AUTO_INCREMENT, name VARCHAR(100) NOT NULL, ph_no VARCHAR(13))\""
   ]
  },
  {
   "cell_type": "code",
   "execution_count": 73,
   "id": "ae14c581-a5bc-4e59-b64d-016591a41e53",
   "metadata": {},
   "outputs": [
    {
     "data": {
      "text/plain": [
       "0"
      ]
     },
     "execution_count": 73,
     "metadata": {},
     "output_type": "execute_result"
    }
   ],
   "source": [
    "cur.execute(command)"
   ]
  },
  {
   "cell_type": "code",
   "execution_count": 74,
   "id": "66ca26a6-b7d5-4d6e-98a0-0ac010a5f81f",
   "metadata": {},
   "outputs": [],
   "source": [
    "con.commit()"
   ]
  },
  {
   "cell_type": "raw",
   "id": "ffd9e9df-93aa-4727-aa46-cf870f114060",
   "metadata": {},
   "source": [
    "cur1 = con.cursor()\n",
    "cur2 = con.cursor()\n",
    "cur3 = con.curor()\n",
    "# parallel processing - "
   ]
  },
  {
   "cell_type": "code",
   "execution_count": 65,
   "id": "a8681a34-db1d-4e54-bce1-bbb31e60cb95",
   "metadata": {},
   "outputs": [
    {
     "data": {
      "text/plain": [
       "3"
      ]
     },
     "execution_count": 65,
     "metadata": {},
     "output_type": "execute_result"
    }
   ],
   "source": [
    "cur.execute('DESC student')"
   ]
  },
  {
   "cell_type": "code",
   "execution_count": 66,
   "id": "4c9b460a-f079-4ade-a299-7e20bdc46f6c",
   "metadata": {},
   "outputs": [
    {
     "data": {
      "text/plain": [
       "(('roll_no', 'int(11)', 'NO', 'PRI', None, ''),\n",
       " ('name', 'varchar(100)', 'NO', '', None, ''),\n",
       " ('ph_no', 'varchar(13)', 'YES', '', None, ''))"
      ]
     },
     "execution_count": 66,
     "metadata": {},
     "output_type": "execute_result"
    }
   ],
   "source": [
    "cur.fetchall()"
   ]
  },
  {
   "cell_type": "code",
   "execution_count": 75,
   "id": "f368df0a-d5a9-46b5-80ab-8685d653ea56",
   "metadata": {},
   "outputs": [
    {
     "name": "stdout",
     "output_type": "stream",
     "text": [
      "------------------------------------------------------------------------------------------------------------------------------------\n",
      "|       roll_no       |      int(11)       |         NO         |        PRI         |        None        |   auto_increment   |\n",
      "------------------------------------------------------------------------------------------------------------------------------------\n",
      "|         name        |    varchar(100)    |         NO         |                    |        None        |                    |\n",
      "------------------------------------------------------------------------------------------------------------------------------------\n",
      "|        ph_no        |    varchar(13)     |        YES         |                    |        None        |                    |\n",
      "------------------------------------------------------------------------------------------------------------------------------------\n"
     ]
    }
   ],
   "source": [
    "run_command(cur, \"DESC student\")"
   ]
  },
  {
   "cell_type": "code",
   "execution_count": 78,
   "id": "60c0c243-64b3-45c7-a023-8e715f5be2bb",
   "metadata": {},
   "outputs": [],
   "source": [
    "command = \"INSERT INTO student (roll_no, name, ph_no) VALUES (1001, 'sachin yadav', '1234567890')\" "
   ]
  },
  {
   "cell_type": "code",
   "execution_count": 79,
   "id": "017a899a-27fe-4b82-badb-d556b228c2ec",
   "metadata": {},
   "outputs": [],
   "source": [
    "cur.execute(command)\n",
    "con.commit()"
   ]
  },
  {
   "cell_type": "code",
   "execution_count": 80,
   "id": "4b27181f-651f-406e-99da-1cc58a8ed6da",
   "metadata": {},
   "outputs": [
    {
     "name": "stdout",
     "output_type": "stream",
     "text": [
      "------------------------------------------------------------------\n",
      "|         1001        |    sachin yadav    |     1234567890     |\n",
      "------------------------------------------------------------------\n"
     ]
    }
   ],
   "source": [
    "command = \"SELECT * FROM student\"\n",
    "\n",
    "run_command(cur, command)"
   ]
  },
  {
   "cell_type": "code",
   "execution_count": 82,
   "id": "1422574f-1db0-48fa-8a1f-45a661af2d89",
   "metadata": {},
   "outputs": [],
   "source": [
    "command = \"INSERT INTO student (name, ph_no) VALUES ('Rajat Goyal', '445544556767'), ('Ravi Swami', '38498349349')\" "
   ]
  },
  {
   "cell_type": "code",
   "execution_count": 83,
   "id": "44dff11f-be0b-423e-9599-f4f16d1d7ca1",
   "metadata": {},
   "outputs": [],
   "source": [
    "cur.execute(command)\n",
    "con.commit()"
   ]
  },
  {
   "cell_type": "code",
   "execution_count": 84,
   "id": "96faac70-5814-479d-8f5b-0e43e47458da",
   "metadata": {},
   "outputs": [
    {
     "name": "stdout",
     "output_type": "stream",
     "text": [
      "------------------------------------------------------------------\n",
      "|         1001        |    sachin yadav    |     1234567890     |\n",
      "------------------------------------------------------------------\n",
      "|         1002        |    Rajat Goyal     |    445544556767    |\n",
      "------------------------------------------------------------------\n",
      "|         1003        |     Ravi Swami     |    38498349349     |\n",
      "------------------------------------------------------------------\n"
     ]
    }
   ],
   "source": [
    "command = \"SELECT * FROM student\"\n",
    "\n",
    "run_command(cur, command)"
   ]
  },
  {
   "cell_type": "code",
   "execution_count": 85,
   "id": "4f7a87dd-aad6-413f-a1f8-a1cfb80877e4",
   "metadata": {},
   "outputs": [],
   "source": [
    "# UPDATE\n",
    "command = \"UPDATE student SET ph_no = '9782131159' WHERE roll_no = 1001\""
   ]
  },
  {
   "cell_type": "code",
   "execution_count": 86,
   "id": "b3c5adda-9095-43f2-954b-9b1a14800d36",
   "metadata": {},
   "outputs": [],
   "source": [
    "cur.execute(command)\n",
    "con.commit()"
   ]
  },
  {
   "cell_type": "code",
   "execution_count": 87,
   "id": "04a92794-04c9-4985-b145-c8dd2da0e4c9",
   "metadata": {},
   "outputs": [
    {
     "name": "stdout",
     "output_type": "stream",
     "text": [
      "------------------------------------------------------------------\n",
      "|         1001        |    sachin yadav    |     9782131159     |\n",
      "------------------------------------------------------------------\n",
      "|         1002        |    Rajat Goyal     |    445544556767    |\n",
      "------------------------------------------------------------------\n",
      "|         1003        |     Ravi Swami     |    38498349349     |\n",
      "------------------------------------------------------------------\n"
     ]
    }
   ],
   "source": [
    "command = \"SELECT * FROM student\"\n",
    "\n",
    "run_command(cur, command)"
   ]
  },
  {
   "cell_type": "markdown",
   "id": "21aca5aa-0e0e-4884-b4ab-7de7c58a961d",
   "metadata": {},
   "source": [
    "    one to one\n",
    "    one to many\n",
    "    many to many\n",
    "\n",
    "\n",
    "    roll_no pk student ---> fees.roll no pk fk(student.roll_no)   one to one \n",
    "\n",
    "    roll_no pk student ---> course.roll_no fk(student.roll_no)    one to many \n",
    "\n",
    "    trainer_course trainer_id, courser_id  ---> course.course_id              many to one\n",
    "\n",
    "    running_courses st_id, course_id ----> fees_table course_id, st_id       many to many"
   ]
  },
  {
   "cell_type": "code",
   "execution_count": null,
   "id": "1d9444c4-e19a-4bb7-8e3f-467820ab23f0",
   "metadata": {},
   "outputs": [],
   "source": [
    "CONSTRAINT `fk_student` FOREIGN KEY (sid) REFERENCES student(sid) "
   ]
  },
  {
   "cell_type": "code",
   "execution_count": 102,
   "id": "abc2e75f-f86d-40b9-94ed-c610fd1c9c05",
   "metadata": {},
   "outputs": [],
   "source": [
    "command = \"CREATE OR REPLACE TABLE course(cid INT PRIMARY KEY AUTO_INCREMENT, sid INT, name VARCHAR(100), CONSTRAINT `fk_st`\\\n",
    "FOREIGN KEY (sid) REFERENCES  student(roll_no) ON UPDATE CASCADE ON DELETE CASCADE)\""
   ]
  },
  {
   "cell_type": "code",
   "execution_count": 103,
   "id": "7745fad1-31af-40ec-9bbd-ea079683c028",
   "metadata": {},
   "outputs": [],
   "source": [
    "cur.execute(command)\n",
    "con.commit()"
   ]
  },
  {
   "cell_type": "code",
   "execution_count": 104,
   "id": "8a9367a7-22dc-4192-b7c6-bac11e952022",
   "metadata": {},
   "outputs": [
    {
     "name": "stdout",
     "output_type": "stream",
     "text": [
      "------------------------------------------------------------------------------------------------------------------------------------\n",
      "|         cid         |      int(11)       |         NO         |        PRI         |        None        |   auto_increment   |\n",
      "------------------------------------------------------------------------------------------------------------------------------------\n",
      "|         sid         |      int(11)       |        YES         |        MUL         |        None        |                    |\n",
      "------------------------------------------------------------------------------------------------------------------------------------\n",
      "|         name        |    varchar(100)    |        YES         |                    |        None        |                    |\n",
      "------------------------------------------------------------------------------------------------------------------------------------\n"
     ]
    }
   ],
   "source": [
    "run_command(cur, \"DESC course\")"
   ]
  },
  {
   "cell_type": "code",
   "execution_count": 105,
   "id": "8cda9aa8-f7db-487a-86d9-8728db19ee94",
   "metadata": {},
   "outputs": [],
   "source": [
    "command = \"INSERT INTO course VALUES (1, 1001, 'python')\"\n",
    "cur.execute(command)\n",
    "con.commit()"
   ]
  },
  {
   "cell_type": "code",
   "execution_count": 106,
   "id": "8cdd51ac-3f6a-4513-85ba-49a5f97408b6",
   "metadata": {},
   "outputs": [],
   "source": [
    "command = \"INSERT INTO course(sid, name) VALUES (1001, 'data science')\"\n",
    "cur.execute(command)\n",
    "con.commit()"
   ]
  },
  {
   "cell_type": "code",
   "execution_count": 108,
   "id": "92614147-bf3b-4722-9a9a-c52e67158588",
   "metadata": {},
   "outputs": [
    {
     "name": "stdout",
     "output_type": "stream",
     "text": [
      "------------------------------------------------------------------\n",
      "|          1          |        1001        |       python       |\n",
      "------------------------------------------------------------------\n",
      "|          2          |        1001        |    data science    |\n",
      "------------------------------------------------------------------\n"
     ]
    }
   ],
   "source": [
    "command = \"SELECT * FROM course\"\n",
    "\n",
    "run_command(cur, command)"
   ]
  },
  {
   "cell_type": "code",
   "execution_count": 111,
   "id": "cf33bbc3-7d4c-4bbb-a82f-e4cc31db30f8",
   "metadata": {},
   "outputs": [],
   "source": [
    "command = \"DELETE FROM course WHERE cid=2\"\n",
    "cur.execute(command)\n",
    "con.commit()"
   ]
  },
  {
   "cell_type": "code",
   "execution_count": 112,
   "id": "6f24883b-47bf-4a8e-8493-1b0630e4885e",
   "metadata": {},
   "outputs": [
    {
     "name": "stdout",
     "output_type": "stream",
     "text": [
      "------------------------------------------------------------------\n",
      "|          1          |        1001        |       python       |\n",
      "------------------------------------------------------------------\n"
     ]
    }
   ],
   "source": [
    "command = \"SELECT * FROM course\"\n",
    "\n",
    "run_command(cur, command)"
   ]
  },
  {
   "cell_type": "code",
   "execution_count": 113,
   "id": "08c68741-4ceb-49b3-a6bb-36810fc9c2a2",
   "metadata": {},
   "outputs": [
    {
     "name": "stdout",
     "output_type": "stream",
     "text": [
      "--------------------------------------------\n",
      "|         1001        |    sachin yadav    |\n",
      "--------------------------------------------\n",
      "|         1002        |    Rajat Goyal     |\n",
      "--------------------------------------------\n",
      "|         1003        |     Ravi Swami     |\n",
      "--------------------------------------------\n"
     ]
    }
   ],
   "source": [
    "command = \"SELECT roll_no, name FROM student\"\n",
    "run_command(cur, command)"
   ]
  },
  {
   "cell_type": "markdown",
   "id": "27e02c40-4666-4210-9609-26773105fb72",
   "metadata": {},
   "source": [
    "# JOINs \n",
    "\n",
    "    Inner JOIN --> common records / intersection\n",
    "\n",
    "    Left JOIN --> all data of left table and common data of right "
   ]
  },
  {
   "cell_type": "code",
   "execution_count": 120,
   "id": "88057c57-db6b-43e5-a3d4-d00c4de732d8",
   "metadata": {},
   "outputs": [],
   "source": [
    "command = \"SELECT t1.roll_no as `ROLL NUM`, t1.name as `STUDENT NAME`, t2.name as COURSE FROM student as t1 JOIN course as t2 ON t1.roll_no=t2.sid\""
   ]
  },
  {
   "cell_type": "code",
   "execution_count": 121,
   "id": "ab3ac07e-7199-4d6d-bf8e-8aca1f5375ae",
   "metadata": {},
   "outputs": [
    {
     "name": "stdout",
     "output_type": "stream",
     "text": [
      "------------------------------------------------------------------\n",
      "|         1001        |    sachin yadav    |       python       |\n",
      "------------------------------------------------------------------\n"
     ]
    }
   ],
   "source": [
    "run_command(cur, command)"
   ]
  },
  {
   "cell_type": "code",
   "execution_count": 122,
   "id": "3046369f-af6e-4974-b012-238589fe7802",
   "metadata": {},
   "outputs": [],
   "source": [
    "command = \"SELECT t1.roll_no as `ROLL NUM`, t1.name as `STUDENT NAME`, t2.name as COURSE FROM student as t1 LEFT JOIN course as t2 ON t1.roll_no=t2.sid\""
   ]
  },
  {
   "cell_type": "code",
   "execution_count": 123,
   "id": "03029462-1be0-4bc6-ae97-1188a5bbd740",
   "metadata": {},
   "outputs": [
    {
     "name": "stdout",
     "output_type": "stream",
     "text": [
      "------------------------------------------------------------------\n",
      "|         1001        |    sachin yadav    |       python       |\n",
      "------------------------------------------------------------------\n",
      "|         1002        |    Rajat Goyal     |        None        |\n",
      "------------------------------------------------------------------\n",
      "|         1003        |     Ravi Swami     |        None        |\n",
      "------------------------------------------------------------------\n"
     ]
    }
   ],
   "source": [
    "run_command(cur, command)"
   ]
  },
  {
   "cell_type": "code",
   "execution_count": 124,
   "id": "1e198ba5-db72-4a48-a8e2-bd8668c7a31a",
   "metadata": {},
   "outputs": [],
   "source": [
    "command = \"INSERT INTO course(sid, name) VALUES (1001, 'data science'), (1002, 'linux')\"\n",
    "cur.execute(command)\n",
    "con.commit()"
   ]
  },
  {
   "cell_type": "code",
   "execution_count": 125,
   "id": "9fda9480-b5d5-468c-b02f-770b74b8560d",
   "metadata": {},
   "outputs": [
    {
     "name": "stdout",
     "output_type": "stream",
     "text": [
      "------------------------------------------------------------------\n",
      "|         1001        |    sachin yadav    |       python       |\n",
      "------------------------------------------------------------------\n",
      "|         1001        |    sachin yadav    |    data science    |\n",
      "------------------------------------------------------------------\n",
      "|         1002        |    Rajat Goyal     |       linux        |\n",
      "------------------------------------------------------------------\n",
      "|         1003        |     Ravi Swami     |        None        |\n",
      "------------------------------------------------------------------\n"
     ]
    }
   ],
   "source": [
    "command = \"SELECT t1.roll_no as `ROLL NUM`, t1.name as `STUDENT NAME`, t2.name as COURSE FROM student as t1 LEFT JOIN course as t2 ON t1.roll_no=t2.sid\"\n",
    "run_command(cur, command)"
   ]
  },
  {
   "cell_type": "markdown",
   "id": "62a81a22-5901-4690-885e-67f2258135d1",
   "metadata": {},
   "source": [
    "Assignment \n",
    "\n",
    "    Database-1\n",
    "    Database-2\n",
    "    Database-3"
   ]
  },
  {
   "cell_type": "code",
   "execution_count": null,
   "id": "a084d3a3-1093-4b57-87e5-8b371be80156",
   "metadata": {},
   "outputs": [],
   "source": []
  }
 ],
 "metadata": {
  "kernelspec": {
   "display_name": "Python [conda env:base] *",
   "language": "python",
   "name": "conda-base-py"
  },
  "language_info": {
   "codemirror_mode": {
    "name": "ipython",
    "version": 3
   },
   "file_extension": ".py",
   "mimetype": "text/x-python",
   "name": "python",
   "nbconvert_exporter": "python",
   "pygments_lexer": "ipython3",
   "version": "3.12.7"
  }
 },
 "nbformat": 4,
 "nbformat_minor": 5
}
