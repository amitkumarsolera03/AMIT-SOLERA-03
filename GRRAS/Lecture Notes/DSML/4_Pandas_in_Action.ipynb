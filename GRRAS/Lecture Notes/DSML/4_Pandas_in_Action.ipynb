{
 "cells": [
  {
   "cell_type": "code",
   "execution_count": 1,
   "id": "575994f4-0878-4f83-bb38-8842f998578d",
   "metadata": {},
   "outputs": [
    {
     "data": {
      "text/plain": [
       "'{\"A\": 100, \"B\": 200, \"C\": 1000}'"
      ]
     },
     "execution_count": 1,
     "metadata": {},
     "output_type": "execute_result"
    }
   ],
   "source": [
    "import json\n",
    "import pickle\n",
    "\n",
    "data = {'A': 100, 'B': 200, 'C': 1000}\n",
    "json.dumps(data) # serialize data.json"
   ]
  },
  {
   "cell_type": "code",
   "execution_count": 2,
   "id": "09494115-690e-4d21-b18f-cc0a6ac8f44d",
   "metadata": {},
   "outputs": [
    {
     "data": {
      "text/plain": [
       "b'\\x80\\x04\\x95\\x18\\x00\\x00\\x00\\x00\\x00\\x00\\x00}\\x94(\\x8c\\x01A\\x94Kd\\x8c\\x01B\\x94K\\xc8\\x8c\\x01C\\x94M\\xe8\\x03u.'"
      ]
     },
     "execution_count": 2,
     "metadata": {},
     "output_type": "execute_result"
    }
   ],
   "source": [
    "pickle.dumps(data) # serialize data.pkl"
   ]
  },
  {
   "cell_type": "markdown",
   "id": "f27885cf-e82e-4196-beae-325fedc7e216",
   "metadata": {},
   "source": [
    "structured\n",
    "\n",
    "            tabular data with fix no rows and columns - sql tables, csv, tsv, excel sheets, ...\n",
    "\n",
    "semi-structured\n",
    "\n",
    "            name     salary     address     education \n",
    "            sachin    50         jaipur      graduate\n",
    "            rajat     100        ganganagar  NULL\n",
    " \n",
    "            data has some structure in it but consistency can be gaurenteed - JSON, XML, YML, pickle\n",
    "            \n",
    "                {\"name\": \"sachin\", \"salary\": 50, \"address\": \"jaipur\", \"education\": \"graduate\"}\n",
    "                \n",
    "                {\"name\": \"rajat\", \"salary\": 100, \"address\": \"ganganagar\" }\n",
    "                \n",
    "                {\"name\": \"kushal\", \"slalary: 70, \"address\": \"udaipur\", \"education\": \"masters\", \"job\": \"devops engineer\", \"gender\": \"male\" }\n",
    "\n",
    "\n",
    "Unstructured Data\n",
    "\n",
    "        Raw files where visible structure/type/format not available in data\n",
    "\n",
    "        video, images, log data, text files, email files, ...\n",
    "            "
   ]
  },
  {
   "cell_type": "markdown",
   "id": "0b3df441-21a3-45c6-8b44-6aac103ad939",
   "metadata": {},
   "source": [
    "### Pandas \n",
    "\n",
    "    Library of python to collection, process, analyze, and visualize the data \n",
    "\n",
    "\n",
    "structured type sources data \n",
    "    \n",
    "    SQL query\n",
    "    CSV / TSV    - Name,Salary,Address,Education,..."
   ]
  },
  {
   "cell_type": "code",
   "execution_count": 3,
   "id": "b5516836-79f1-4377-bfb1-b99ce1477ffd",
   "metadata": {},
   "outputs": [],
   "source": [
    "import numpy as np # base \n",
    "import pandas as pd # abstract\n",
    "import matplotlib as mpl\n",
    "import matplotlib.pyplot as plt # base\n",
    "import seaborn as sns "
   ]
  },
  {
   "cell_type": "code",
   "execution_count": 4,
   "id": "64df0d5b-58eb-4c30-8c61-5d34429d14ba",
   "metadata": {},
   "outputs": [
    {
     "name": "stdout",
     "output_type": "stream",
     "text": [
      "numpy version       1.26.4\n",
      "pandas version      2.2.2\n",
      "matplotlib version  3.9.2\n",
      "seaborn version     0.13.2\n"
     ]
    }
   ],
   "source": [
    "print(\"numpy version      \", np.__version__)\n",
    "print(\"pandas version     \", pd.__version__)\n",
    "print(\"matplotlib version \", mpl.__version__)\n",
    "print(\"seaborn version    \", sns.__version__)"
   ]
  },
  {
   "cell_type": "code",
   "execution_count": 5,
   "id": "4b14b075-fa2f-4d4e-aeeb-e0af76ee87d7",
   "metadata": {},
   "outputs": [
    {
     "data": {
      "text/plain": [
       "'2.2.2'"
      ]
     },
     "execution_count": 5,
     "metadata": {},
     "output_type": "execute_result"
    }
   ],
   "source": [
    "pd.__version__"
   ]
  },
  {
   "cell_type": "markdown",
   "id": "0650dcf4-a03c-421d-b31f-8f477f414a8d",
   "metadata": {},
   "source": [
    "## Pandas Data Type\n",
    "\n",
    "    1. Series - 1D Array Object, Homogenous\n",
    "    2. Data Frame - 2D spreadsheet like object"
   ]
  },
  {
   "cell_type": "markdown",
   "id": "d51a7ce0-2111-4bea-9646-d68b8e6abd35",
   "metadata": {},
   "source": [
    "### Series represent single feature/attribute/column\n"
   ]
  },
  {
   "cell_type": "code",
   "execution_count": 6,
   "id": "9e277741-414a-4197-aed9-b1e7fd85fed9",
   "metadata": {},
   "outputs": [],
   "source": [
    "heights = np.random.randint(140, 170, 10)"
   ]
  },
  {
   "cell_type": "code",
   "execution_count": 7,
   "id": "d9321f7b-000d-49e6-9685-dc9cf1e0ca07",
   "metadata": {},
   "outputs": [
    {
     "data": {
      "text/plain": [
       "array([155, 157, 144, 148, 156, 163, 147, 156, 156, 154])"
      ]
     },
     "execution_count": 7,
     "metadata": {},
     "output_type": "execute_result"
    }
   ],
   "source": [
    "heights"
   ]
  },
  {
   "cell_type": "code",
   "execution_count": 8,
   "id": "17979596-cc4e-4a3b-b181-973f56984f0e",
   "metadata": {},
   "outputs": [],
   "source": [
    "heights = pd.Series(heights)"
   ]
  },
  {
   "cell_type": "code",
   "execution_count": 9,
   "id": "dfa9cb17-82d0-487b-9cbd-eef4490536cd",
   "metadata": {},
   "outputs": [
    {
     "data": {
      "text/plain": [
       "0    155\n",
       "1    157\n",
       "2    144\n",
       "3    148\n",
       "4    156\n",
       "5    163\n",
       "6    147\n",
       "7    156\n",
       "8    156\n",
       "9    154\n",
       "dtype: int64"
      ]
     },
     "execution_count": 9,
     "metadata": {},
     "output_type": "execute_result"
    }
   ],
   "source": [
    "heights\n",
    "# along side data series also contains row indexs with lables"
   ]
  },
  {
   "cell_type": "code",
   "execution_count": 10,
   "id": "ef5572ca-3556-4939-a5c0-844299484cdf",
   "metadata": {},
   "outputs": [],
   "source": [
    "heights.name = \"Height\""
   ]
  },
  {
   "cell_type": "code",
   "execution_count": 11,
   "id": "eaf43976-337d-4a2c-b246-2f6c3fbdafab",
   "metadata": {},
   "outputs": [
    {
     "data": {
      "text/plain": [
       "0    155\n",
       "1    157\n",
       "2    144\n",
       "3    148\n",
       "4    156\n",
       "5    163\n",
       "6    147\n",
       "7    156\n",
       "8    156\n",
       "9    154\n",
       "Name: Height, dtype: int64"
      ]
     },
     "execution_count": 11,
     "metadata": {},
     "output_type": "execute_result"
    }
   ],
   "source": [
    "heights # name \n",
    "# cell output"
   ]
  },
  {
   "cell_type": "code",
   "execution_count": 12,
   "id": "b40a6130-3f43-4b57-8b07-969068f2c2e8",
   "metadata": {},
   "outputs": [
    {
     "name": "stdout",
     "output_type": "stream",
     "text": [
      "0    155\n",
      "1    157\n",
      "2    144\n",
      "3    148\n",
      "4    156\n",
      "5    163\n",
      "6    147\n",
      "7    156\n",
      "8    156\n",
      "9    154\n",
      "Name: Height, dtype: int64\n"
     ]
    }
   ],
   "source": [
    "print(heights)\n",
    "# standard"
   ]
  },
  {
   "cell_type": "code",
   "execution_count": 13,
   "id": "0c4abb28-24ce-4f00-91a9-6fb114b074e6",
   "metadata": {},
   "outputs": [
    {
     "data": {
      "text/plain": [
       "0    155\n",
       "1    157\n",
       "2    144\n",
       "3    148\n",
       "4    156\n",
       "5    163\n",
       "6    147\n",
       "7    156\n",
       "8    156\n",
       "9    154\n",
       "Name: Height, dtype: int64"
      ]
     },
     "execution_count": 13,
     "metadata": {},
     "output_type": "execute_result"
    }
   ],
   "source": [
    "heights"
   ]
  },
  {
   "cell_type": "code",
   "execution_count": 14,
   "id": "8c3bdac5-c89d-49fb-8405-9a761d942925",
   "metadata": {},
   "outputs": [
    {
     "data": {
      "text/plain": [
       "163"
      ]
     },
     "execution_count": 14,
     "metadata": {},
     "output_type": "execute_result"
    }
   ],
   "source": [
    "heights[5]"
   ]
  },
  {
   "cell_type": "code",
   "execution_count": 15,
   "id": "2dee7320-1f39-4795-b643-984217ecca77",
   "metadata": {},
   "outputs": [
    {
     "data": {
      "text/plain": [
       "0    155\n",
       "1    157\n",
       "2    144\n",
       "Name: Height, dtype: int64"
      ]
     },
     "execution_count": 15,
     "metadata": {},
     "output_type": "execute_result"
    }
   ],
   "source": [
    "heights[:3]"
   ]
  },
  {
   "cell_type": "code",
   "execution_count": 16,
   "id": "18f66cff-1098-44e4-b212-8df069e22913",
   "metadata": {},
   "outputs": [],
   "source": [
    "heights[:3] += 5"
   ]
  },
  {
   "cell_type": "code",
   "execution_count": 17,
   "id": "28539db5-4aee-4d51-bc40-912bb4171772",
   "metadata": {},
   "outputs": [
    {
     "data": {
      "text/plain": [
       "0    160\n",
       "1    162\n",
       "2    149\n",
       "3    148\n",
       "4    156\n",
       "5    163\n",
       "6    147\n",
       "7    156\n",
       "8    156\n",
       "9    154\n",
       "Name: Height, dtype: int64"
      ]
     },
     "execution_count": 17,
     "metadata": {},
     "output_type": "execute_result"
    }
   ],
   "source": [
    "heights"
   ]
  },
  {
   "cell_type": "code",
   "execution_count": 18,
   "id": "9c6f0a5f-5e26-48df-a0cf-f2a86a450678",
   "metadata": {},
   "outputs": [
    {
     "data": {
      "text/plain": [
       "0    80.0\n",
       "1    81.0\n",
       "2    74.5\n",
       "3    74.0\n",
       "4    78.0\n",
       "5    81.5\n",
       "6    73.5\n",
       "7    78.0\n",
       "8    78.0\n",
       "9    77.0\n",
       "Name: Height, dtype: float64"
      ]
     },
     "execution_count": 18,
     "metadata": {},
     "output_type": "execute_result"
    }
   ],
   "source": [
    "heights / 2"
   ]
  },
  {
   "cell_type": "code",
   "execution_count": 19,
   "id": "5a621fca-337c-4aec-aa2c-3c3431d3d072",
   "metadata": {},
   "outputs": [],
   "source": [
    "weight = pd.Series(np.random.randint(55, 90, 10))"
   ]
  },
  {
   "cell_type": "code",
   "execution_count": 20,
   "id": "a52f79bf-c17c-4703-a9ff-cd445c2b1ad6",
   "metadata": {},
   "outputs": [
    {
     "data": {
      "text/plain": [
       "0    58\n",
       "1    87\n",
       "2    75\n",
       "3    88\n",
       "4    78\n",
       "5    60\n",
       "6    75\n",
       "7    68\n",
       "8    68\n",
       "9    89\n",
       "dtype: int64"
      ]
     },
     "execution_count": 20,
     "metadata": {},
     "output_type": "execute_result"
    }
   ],
   "source": [
    "weight"
   ]
  },
  {
   "cell_type": "code",
   "execution_count": 21,
   "id": "26884cbd-48ed-45f2-81fc-23f107f36584",
   "metadata": {},
   "outputs": [
    {
     "data": {
      "text/plain": [
       "0    160\n",
       "1    162\n",
       "2    149\n",
       "3    148\n",
       "4    156\n",
       "5    163\n",
       "6    147\n",
       "7    156\n",
       "8    156\n",
       "9    154\n",
       "Name: Height, dtype: int64"
      ]
     },
     "execution_count": 21,
     "metadata": {},
     "output_type": "execute_result"
    }
   ],
   "source": [
    "heights"
   ]
  },
  {
   "cell_type": "code",
   "execution_count": 22,
   "id": "e445664d-b397-41f0-9f3a-2006fa59190f",
   "metadata": {},
   "outputs": [
    {
     "data": {
      "text/plain": [
       "0    218\n",
       "1    249\n",
       "2    224\n",
       "3    236\n",
       "4    234\n",
       "5    223\n",
       "6    222\n",
       "7    224\n",
       "8    224\n",
       "9    243\n",
       "dtype: int64"
      ]
     },
     "execution_count": 22,
     "metadata": {},
     "output_type": "execute_result"
    }
   ],
   "source": [
    "heights + weight"
   ]
  },
  {
   "cell_type": "code",
   "execution_count": 23,
   "id": "ec4f6704-10a0-4daf-a094-a8499bb4e90f",
   "metadata": {},
   "outputs": [
    {
     "data": {
      "text/plain": [
       "dtype('int64')"
      ]
     },
     "execution_count": 23,
     "metadata": {},
     "output_type": "execute_result"
    }
   ],
   "source": [
    "heights.dtypes"
   ]
  },
  {
   "cell_type": "code",
   "execution_count": 24,
   "id": "f0917ab5-b1e1-47ad-a6a6-9cb769b40370",
   "metadata": {},
   "outputs": [
    {
     "data": {
      "text/plain": [
       "1"
      ]
     },
     "execution_count": 24,
     "metadata": {},
     "output_type": "execute_result"
    }
   ],
   "source": [
    "heights.ndim"
   ]
  },
  {
   "cell_type": "code",
   "execution_count": 25,
   "id": "5722caaf-3802-4ef8-8752-8bc1edc8a501",
   "metadata": {},
   "outputs": [
    {
     "data": {
      "text/plain": [
       "array([160, 162, 149, 148, 156, 163, 147, 156, 156, 154])"
      ]
     },
     "execution_count": 25,
     "metadata": {},
     "output_type": "execute_result"
    }
   ],
   "source": [
    "heights.to_numpy()"
   ]
  },
  {
   "cell_type": "code",
   "execution_count": 26,
   "id": "e532f0d4-fef0-40fd-983c-9794a4df7581",
   "metadata": {},
   "outputs": [
    {
     "data": {
      "text/plain": [
       "[160, 162, 149, 148, 156, 163, 147, 156, 156, 154]"
      ]
     },
     "execution_count": 26,
     "metadata": {},
     "output_type": "execute_result"
    }
   ],
   "source": [
    "heights.to_list()"
   ]
  },
  {
   "cell_type": "code",
   "execution_count": 27,
   "id": "12c42f72-54cd-4176-800a-dc3747d8b305",
   "metadata": {},
   "outputs": [
    {
     "data": {
      "text/plain": [
       "'{\"0\":160,\"1\":162,\"2\":149,\"3\":148,\"4\":156,\"5\":163,\"6\":147,\"7\":156,\"8\":156,\"9\":154}'"
      ]
     },
     "execution_count": 27,
     "metadata": {},
     "output_type": "execute_result"
    }
   ],
   "source": [
    "heights.to_json()"
   ]
  },
  {
   "cell_type": "code",
   "execution_count": 28,
   "id": "69c64262-3f82-448a-90e9-dc133cb5e96c",
   "metadata": {},
   "outputs": [],
   "source": [
    "heights.to_pickle('height.pkl')"
   ]
  },
  {
   "cell_type": "code",
   "execution_count": 29,
   "id": "8faff6ea-4080-412d-84e4-4c8c18631a0c",
   "metadata": {},
   "outputs": [
    {
     "name": "stdout",
     "output_type": "stream",
     "text": [
      "�\u0005��\u0002\u0000\u0000\u0000\u0000\u0000\u0000�\u0012pandas.core.series��\u0006Series���)��}�(�\u0004_mgr��\u001e",
      "pandas.core.internals.managers��\u0012SingleBlockManager���)��(]��\u0018pandas.core.indexes.base��\n",
      "_new_Index����\u0019pandas.core.indexes.range��\n",
      "RangeIndex���}�(�\u0004name�N�\u0005start�K\u0000�\u0004stop�K\n",
      "�\u0004step�K\u0001u��R�a]��\u0012numpy.core.numeric��\u000b",
      "_frombuffer���(�P\u0000\u0000\u0000\u0000\u0000\u0000\u0000�\u0000\u0000\u0000\u0000\u0000\u0000\u0000�\u0000\u0000\u0000\u0000\u0000\u0000\u0000�\u0000\u0000\u0000\u0000\u0000\u0000\u0000�\u0000\u0000\u0000\u0000\u0000\u0000\u0000�\u0000\u0000\u0000\u0000\u0000\u0000\u0000�\u0000\u0000\u0000\u0000\u0000\u0000\u0000�\u0000\u0000\u0000\u0000\u0000\u0000\u0000�\u0000\u0000\u0000\u0000\u0000\u0000\u0000�\u0000\u0000\u0000\u0000\u0000\u0000\u0000�\u0000\u0000\u0000\u0000\u0000\u0000\u0000��\u0005numpy��\u0005dtype����\u0002i8�����R�(K\u0003�\u0001<�NNNJ����J����K\u0000t�bK\n",
      "h\u0010}�(h\u0012Nh\u0013K\u0000h\u0014K\n",
      "h\u0015K\u0001u��R�a}��\u00060.14.1�}�(�\u0004axes�h\n",
      "�\u0006blocks�]�}�(�\u0006values�h(mgr_locs�builtins��\u0005slice���K\u0000K\n",
      "K\u0001��R�uaust�b�\u0004_typ��\u0006series��\t_metadata�]��\u0005_name�a�\u0005attrs�}��\u0006_flags�}��\u0017allows_duplicate_labels��sh@�\u0006Height�ub."
     ]
    }
   ],
   "source": [
    "!cat height.pkl"
   ]
  },
  {
   "cell_type": "code",
   "execution_count": 30,
   "id": "86ba65f5-d842-4935-879a-7ef13c3d38d7",
   "metadata": {},
   "outputs": [],
   "source": [
    "h = pd.read_pickle('height.pkl')"
   ]
  },
  {
   "cell_type": "code",
   "execution_count": 31,
   "id": "3d495419-79e2-48d8-82f1-59d41d67ce23",
   "metadata": {},
   "outputs": [
    {
     "data": {
      "text/plain": [
       "0    160\n",
       "1    162\n",
       "2    149\n",
       "3    148\n",
       "4    156\n",
       "5    163\n",
       "6    147\n",
       "7    156\n",
       "8    156\n",
       "9    154\n",
       "Name: Height, dtype: int64"
      ]
     },
     "execution_count": 31,
     "metadata": {},
     "output_type": "execute_result"
    }
   ],
   "source": [
    "h"
   ]
  },
  {
   "cell_type": "code",
   "execution_count": null,
   "id": "d65e3f12-0d64-49b9-afb9-850761b80caa",
   "metadata": {},
   "outputs": [],
   "source": []
  },
  {
   "cell_type": "code",
   "execution_count": 32,
   "id": "8c865336-13a5-45e4-a702-73fb19a476b7",
   "metadata": {},
   "outputs": [],
   "source": [
    "d = np.random.choice(list(\"ABCDEFGHIJKL\"), 10, replace=False)\n",
    "# population -> sample replace -> allow duplicate"
   ]
  },
  {
   "cell_type": "markdown",
   "id": "8a9e5d4e-0b6d-48fc-833f-700cdbe2149e",
   "metadata": {},
   "source": [
    "heights.index\n",
    "\n",
    "# Series -> \n",
    "\n",
    "        RangeIndex(traditional indexing i.e. 0 to n-1)\n",
    "\n",
    "        LabelIndex - each row will be a unique label to identify object/observation"
   ]
  },
  {
   "cell_type": "code",
   "execution_count": 33,
   "id": "182a4ba6-af52-4e0c-8fbb-60c443340074",
   "metadata": {},
   "outputs": [
    {
     "data": {
      "text/plain": [
       "RangeIndex(start=0, stop=10, step=1)"
      ]
     },
     "execution_count": 33,
     "metadata": {},
     "output_type": "execute_result"
    }
   ],
   "source": [
    "heights.index"
   ]
  },
  {
   "cell_type": "code",
   "execution_count": 34,
   "id": "6ea66ce8-bfc3-4092-bb63-8c30d9113a49",
   "metadata": {},
   "outputs": [],
   "source": [
    "heights.index = d"
   ]
  },
  {
   "cell_type": "code",
   "execution_count": 35,
   "id": "f6a2fa4f-ffca-4d90-8d5f-17aeac633511",
   "metadata": {},
   "outputs": [],
   "source": [
    "names = [\"rajat\", \"kushal\", \"michael\", \"nidhi\", \"vincent\", \"fran\", \"shivanki\", \"shruti\", \"simran\", \"ravi\"]"
   ]
  },
  {
   "cell_type": "code",
   "execution_count": 36,
   "id": "5057597f-a278-47fa-8195-7d3d2aa2b95d",
   "metadata": {},
   "outputs": [],
   "source": [
    "heights.index = names"
   ]
  },
  {
   "cell_type": "code",
   "execution_count": 37,
   "id": "6ee87de0-464b-49bb-9a3c-0c4c76694bea",
   "metadata": {},
   "outputs": [
    {
     "data": {
      "text/plain": [
       "rajat       160\n",
       "kushal      162\n",
       "michael     149\n",
       "nidhi       148\n",
       "vincent     156\n",
       "fran        163\n",
       "shivanki    147\n",
       "shruti      156\n",
       "simran      156\n",
       "ravi        154\n",
       "Name: Height, dtype: int64"
      ]
     },
     "execution_count": 37,
     "metadata": {},
     "output_type": "execute_result"
    }
   ],
   "source": [
    "heights"
   ]
  },
  {
   "cell_type": "code",
   "execution_count": 38,
   "id": "1f446e7d-f028-416b-aacb-5d3ccd0ff701",
   "metadata": {},
   "outputs": [
    {
     "data": {
      "text/plain": [
       "kushal    162\n",
       "nidhi     148\n",
       "fran      163\n",
       "Name: Height, dtype: int64"
      ]
     },
     "execution_count": 38,
     "metadata": {},
     "output_type": "execute_result"
    }
   ],
   "source": [
    "heights[\"kushal\": \"shivanki\":2]"
   ]
  },
  {
   "cell_type": "code",
   "execution_count": 39,
   "id": "12ae3c0f-4cbc-430a-9f7c-1ed3df91f5c9",
   "metadata": {},
   "outputs": [
    {
     "data": {
      "text/plain": [
       "149"
      ]
     },
     "execution_count": 39,
     "metadata": {},
     "output_type": "execute_result"
    }
   ],
   "source": [
    "heights['michael']"
   ]
  },
  {
   "cell_type": "code",
   "execution_count": 40,
   "id": "59863393-9c50-4548-b27a-a42499533894",
   "metadata": {},
   "outputs": [
    {
     "data": {
      "text/plain": [
       "156"
      ]
     },
     "execution_count": 40,
     "metadata": {},
     "output_type": "execute_result"
    }
   ],
   "source": [
    "heights['shruti']"
   ]
  },
  {
   "cell_type": "code",
   "execution_count": 41,
   "id": "b46b1408-dca9-46e5-b7e5-84c167843550",
   "metadata": {},
   "outputs": [
    {
     "data": {
      "text/plain": [
       "kushal     162\n",
       "michael    149\n",
       "nidhi      148\n",
       "vincent    156\n",
       "fran       163\n",
       "Name: Height, dtype: int64"
      ]
     },
     "execution_count": 41,
     "metadata": {},
     "output_type": "execute_result"
    }
   ],
   "source": [
    "heights[1:6]"
   ]
  },
  {
   "cell_type": "code",
   "execution_count": 42,
   "id": "b14dcd1a-d26c-4cad-b199-51a00e412506",
   "metadata": {},
   "outputs": [],
   "source": [
    "np.random.shuffle(names) # to shuffle data randomly"
   ]
  },
  {
   "cell_type": "code",
   "execution_count": 43,
   "id": "a4160a9b-d3cb-4719-8643-736c32e81278",
   "metadata": {},
   "outputs": [
    {
     "data": {
      "text/plain": [
       "['fran',\n",
       " 'michael',\n",
       " 'shruti',\n",
       " 'ravi',\n",
       " 'kushal',\n",
       " 'vincent',\n",
       " 'simran',\n",
       " 'nidhi',\n",
       " 'shivanki',\n",
       " 'rajat']"
      ]
     },
     "execution_count": 43,
     "metadata": {},
     "output_type": "execute_result"
    }
   ],
   "source": [
    "names"
   ]
  },
  {
   "cell_type": "code",
   "execution_count": 44,
   "id": "4c8ce540-76e2-4b65-897b-cd0920fdd668",
   "metadata": {},
   "outputs": [],
   "source": [
    "weight.index = names"
   ]
  },
  {
   "cell_type": "code",
   "execution_count": 45,
   "id": "d8c67095-8673-43f2-a464-bcc86d4d03ef",
   "metadata": {},
   "outputs": [],
   "source": [
    "names[0] = \"shubham\""
   ]
  },
  {
   "cell_type": "code",
   "execution_count": 46,
   "id": "e654dd4b-23e2-42d6-b293-8481f2959293",
   "metadata": {},
   "outputs": [],
   "source": [
    "weight.index = names"
   ]
  },
  {
   "cell_type": "code",
   "execution_count": 47,
   "id": "f2d3fbe9-559b-4270-9e1c-d89fccb8b2f2",
   "metadata": {},
   "outputs": [
    {
     "data": {
      "text/plain": [
       "shubham     58\n",
       "michael     87\n",
       "shruti      75\n",
       "ravi        88\n",
       "kushal      78\n",
       "vincent     60\n",
       "simran      75\n",
       "nidhi       68\n",
       "shivanki    68\n",
       "rajat       89\n",
       "dtype: int64"
      ]
     },
     "execution_count": 47,
     "metadata": {},
     "output_type": "execute_result"
    }
   ],
   "source": [
    "weight"
   ]
  },
  {
   "cell_type": "code",
   "execution_count": 48,
   "id": "77436450-3d43-44b8-8145-d999699c6d42",
   "metadata": {},
   "outputs": [
    {
     "data": {
      "text/plain": [
       "rajat       160\n",
       "kushal      162\n",
       "michael     149\n",
       "nidhi       148\n",
       "vincent     156\n",
       "fran        163\n",
       "shivanki    147\n",
       "shruti      156\n",
       "simran      156\n",
       "ravi        154\n",
       "Name: Height, dtype: int64"
      ]
     },
     "execution_count": 48,
     "metadata": {},
     "output_type": "execute_result"
    }
   ],
   "source": [
    "heights"
   ]
  },
  {
   "cell_type": "code",
   "execution_count": 49,
   "id": "21a68d8d-7cf9-4786-8e75-b6d669f9aec7",
   "metadata": {},
   "outputs": [
    {
     "data": {
      "text/plain": [
       "fran          NaN\n",
       "kushal      240.0\n",
       "michael     236.0\n",
       "nidhi       216.0\n",
       "rajat       249.0\n",
       "ravi        242.0\n",
       "shivanki    215.0\n",
       "shruti      231.0\n",
       "shubham       NaN\n",
       "simran      231.0\n",
       "vincent     216.0\n",
       "dtype: float64"
      ]
     },
     "execution_count": 49,
     "metadata": {},
     "output_type": "execute_result"
    }
   ],
   "source": [
    "heights + weight # 1 A(75 + 157)  B(75 + 159)\n",
    "# according to label"
   ]
  },
  {
   "cell_type": "code",
   "execution_count": 50,
   "id": "c90d4cf7-f6ca-4e41-8fed-542bfad187cd",
   "metadata": {},
   "outputs": [
    {
     "data": {
      "text/plain": [
       "rajat       160\n",
       "kushal      162\n",
       "michael     149\n",
       "nidhi       148\n",
       "vincent     156\n",
       "fran        163\n",
       "shivanki    147\n",
       "shruti      156\n",
       "simran      156\n",
       "ravi        154\n",
       "Name: Height, dtype: int64"
      ]
     },
     "execution_count": 50,
     "metadata": {},
     "output_type": "execute_result"
    }
   ],
   "source": [
    "heights"
   ]
  },
  {
   "cell_type": "code",
   "execution_count": 51,
   "id": "4681dc5a-6295-4dd8-8679-e67ae7cd3a4e",
   "metadata": {},
   "outputs": [
    {
     "data": {
      "text/plain": [
       "155.1"
      ]
     },
     "execution_count": 51,
     "metadata": {},
     "output_type": "execute_result"
    }
   ],
   "source": [
    "heights.mean()"
   ]
  },
  {
   "cell_type": "code",
   "execution_count": 52,
   "id": "bf0eaa5f-8743-446d-8cef-9802dfbbc9e9",
   "metadata": {},
   "outputs": [
    {
     "data": {
      "text/plain": [
       "156.0"
      ]
     },
     "execution_count": 52,
     "metadata": {},
     "output_type": "execute_result"
    }
   ],
   "source": [
    "heights.median()"
   ]
  },
  {
   "cell_type": "code",
   "execution_count": 53,
   "id": "9447c190-c7d9-4edd-82c4-33ba9728d105",
   "metadata": {},
   "outputs": [
    {
     "data": {
      "text/plain": [
       "5.685263601823773"
      ]
     },
     "execution_count": 53,
     "metadata": {},
     "output_type": "execute_result"
    }
   ],
   "source": [
    "heights.std()"
   ]
  },
  {
   "cell_type": "code",
   "execution_count": 54,
   "id": "da67d21a-949f-4ff1-8a40-e3b4431e8e4e",
   "metadata": {},
   "outputs": [
    {
     "data": {
      "text/plain": [
       "32.32222222222222"
      ]
     },
     "execution_count": 54,
     "metadata": {},
     "output_type": "execute_result"
    }
   ],
   "source": [
    "heights.var()"
   ]
  },
  {
   "cell_type": "code",
   "execution_count": 55,
   "id": "552eadc4-fba2-4591-8c9a-0ec6ae89ef1b",
   "metadata": {},
   "outputs": [
    {
     "data": {
      "text/plain": [
       "0.25    150.25\n",
       "0.50    156.00\n",
       "0.75    159.00\n",
       "Name: Height, dtype: float64"
      ]
     },
     "execution_count": 55,
     "metadata": {},
     "output_type": "execute_result"
    }
   ],
   "source": [
    "heights.quantile([0.25, 0.5, 0.75]) # q2"
   ]
  },
  {
   "cell_type": "code",
   "execution_count": 56,
   "id": "942ba76b-0c47-4e64-a87c-47455b034a17",
   "metadata": {},
   "outputs": [
    {
     "data": {
      "text/plain": [
       "count     10.000000\n",
       "mean     155.100000\n",
       "std        5.685264\n",
       "min      147.000000\n",
       "25%      150.250000\n",
       "50%      156.000000\n",
       "75%      159.000000\n",
       "max      163.000000\n",
       "Name: Height, dtype: float64"
      ]
     },
     "execution_count": 56,
     "metadata": {},
     "output_type": "execute_result"
    }
   ],
   "source": [
    "heights.describe()\n",
    "# stats"
   ]
  },
  {
   "cell_type": "code",
   "execution_count": 57,
   "id": "31d9fbc8-9cee-4de1-9bc7-f6567c0b26e6",
   "metadata": {},
   "outputs": [
    {
     "data": {
      "text/plain": [
       "163"
      ]
     },
     "execution_count": 57,
     "metadata": {},
     "output_type": "execute_result"
    }
   ],
   "source": [
    "heights.max()"
   ]
  },
  {
   "cell_type": "code",
   "execution_count": 58,
   "id": "e2ad404a-4cbd-4d0b-a3e7-d6e7213f53d7",
   "metadata": {},
   "outputs": [
    {
     "data": {
      "text/plain": [
       "147"
      ]
     },
     "execution_count": 58,
     "metadata": {},
     "output_type": "execute_result"
    }
   ],
   "source": [
    "heights.min()"
   ]
  },
  {
   "cell_type": "code",
   "execution_count": 59,
   "id": "a14a5e5c-6a51-4841-9715-a260fc83289b",
   "metadata": {},
   "outputs": [
    {
     "data": {
      "text/plain": [
       "5"
      ]
     },
     "execution_count": 59,
     "metadata": {},
     "output_type": "execute_result"
    }
   ],
   "source": [
    "heights.argmax() # 6th value"
   ]
  },
  {
   "cell_type": "code",
   "execution_count": 62,
   "id": "60d80380-d5f4-4b99-93f6-d212ef4ef220",
   "metadata": {},
   "outputs": [],
   "source": [
    "s = pd.Series([50, 60, 80, 90], index=[2, 1, 0, 4])"
   ]
  },
  {
   "cell_type": "code",
   "execution_count": 63,
   "id": "8fc8ecd6-bb09-4f1d-ab77-5da57e87a5d8",
   "metadata": {},
   "outputs": [
    {
     "data": {
      "text/plain": [
       "2    50\n",
       "1    60\n",
       "0    80\n",
       "4    90\n",
       "dtype: int64"
      ]
     },
     "execution_count": 63,
     "metadata": {},
     "output_type": "execute_result"
    }
   ],
   "source": [
    "s"
   ]
  },
  {
   "cell_type": "code",
   "execution_count": 64,
   "id": "d0a554f7-762d-4e70-94f8-85595884a4fa",
   "metadata": {},
   "outputs": [
    {
     "data": {
      "text/plain": [
       "80"
      ]
     },
     "execution_count": 64,
     "metadata": {},
     "output_type": "execute_result"
    }
   ],
   "source": [
    "s[0] # confusion hi confusion hai ? "
   ]
  },
  {
   "cell_type": "markdown",
   "id": "77c5483c-e751-4e7d-9279-9a640301cf5c",
   "metadata": {},
   "source": [
    "##### indexing \n",
    "\n",
    "    height[label] --> Direct Indexing you should you labels\n",
    "            note: do not use above method because it's ambiguios\n",
    "\n",
    "    height.iloc[idx] -> traditional indexes which range from 0 to n-1\n",
    "    height.loc[label] -> label based indexes"
   ]
  },
  {
   "cell_type": "code",
   "execution_count": 65,
   "id": "c1b25bfa-da47-4219-8f5a-abee313af60f",
   "metadata": {},
   "outputs": [
    {
     "data": {
      "text/plain": [
       "2    50\n",
       "1    60\n",
       "0    80\n",
       "4    90\n",
       "dtype: int64"
      ]
     },
     "execution_count": 65,
     "metadata": {},
     "output_type": "execute_result"
    }
   ],
   "source": [
    "s"
   ]
  },
  {
   "cell_type": "code",
   "execution_count": 68,
   "id": "3a949897-f48f-428e-9333-436241336838",
   "metadata": {},
   "outputs": [
    {
     "data": {
      "text/plain": [
       "90"
      ]
     },
     "execution_count": 68,
     "metadata": {},
     "output_type": "execute_result"
    }
   ],
   "source": [
    "s.iloc[3] # ?"
   ]
  },
  {
   "cell_type": "code",
   "execution_count": 69,
   "id": "4b1be78c-bb55-409e-98b7-fee1c265fd76",
   "metadata": {},
   "outputs": [
    {
     "ename": "KeyError",
     "evalue": "3",
     "output_type": "error",
     "traceback": [
      "\u001b[0;31m---------------------------------------------------------------------------\u001b[0m",
      "\u001b[0;31mKeyError\u001b[0m                                  Traceback (most recent call last)",
      "File \u001b[0;32m/opt/anaconda3/lib/python3.12/site-packages/pandas/core/indexes/base.py:3805\u001b[0m, in \u001b[0;36mIndex.get_loc\u001b[0;34m(self, key)\u001b[0m\n\u001b[1;32m   3804\u001b[0m \u001b[38;5;28;01mtry\u001b[39;00m:\n\u001b[0;32m-> 3805\u001b[0m     \u001b[38;5;28;01mreturn\u001b[39;00m \u001b[38;5;28mself\u001b[39m\u001b[38;5;241m.\u001b[39m_engine\u001b[38;5;241m.\u001b[39mget_loc(casted_key)\n\u001b[1;32m   3806\u001b[0m \u001b[38;5;28;01mexcept\u001b[39;00m \u001b[38;5;167;01mKeyError\u001b[39;00m \u001b[38;5;28;01mas\u001b[39;00m err:\n",
      "File \u001b[0;32mindex.pyx:167\u001b[0m, in \u001b[0;36mpandas._libs.index.IndexEngine.get_loc\u001b[0;34m()\u001b[0m\n",
      "File \u001b[0;32mindex.pyx:196\u001b[0m, in \u001b[0;36mpandas._libs.index.IndexEngine.get_loc\u001b[0;34m()\u001b[0m\n",
      "File \u001b[0;32mpandas/_libs/hashtable_class_helper.pxi:2606\u001b[0m, in \u001b[0;36mpandas._libs.hashtable.Int64HashTable.get_item\u001b[0;34m()\u001b[0m\n",
      "File \u001b[0;32mpandas/_libs/hashtable_class_helper.pxi:2630\u001b[0m, in \u001b[0;36mpandas._libs.hashtable.Int64HashTable.get_item\u001b[0;34m()\u001b[0m\n",
      "\u001b[0;31mKeyError\u001b[0m: 3",
      "\nThe above exception was the direct cause of the following exception:\n",
      "\u001b[0;31mKeyError\u001b[0m                                  Traceback (most recent call last)",
      "Cell \u001b[0;32mIn[69], line 1\u001b[0m\n\u001b[0;32m----> 1\u001b[0m s\u001b[38;5;241m.\u001b[39mloc[\u001b[38;5;241m3\u001b[39m]\n",
      "File \u001b[0;32m/opt/anaconda3/lib/python3.12/site-packages/pandas/core/indexing.py:1191\u001b[0m, in \u001b[0;36m_LocationIndexer.__getitem__\u001b[0;34m(self, key)\u001b[0m\n\u001b[1;32m   1189\u001b[0m maybe_callable \u001b[38;5;241m=\u001b[39m com\u001b[38;5;241m.\u001b[39mapply_if_callable(key, \u001b[38;5;28mself\u001b[39m\u001b[38;5;241m.\u001b[39mobj)\n\u001b[1;32m   1190\u001b[0m maybe_callable \u001b[38;5;241m=\u001b[39m \u001b[38;5;28mself\u001b[39m\u001b[38;5;241m.\u001b[39m_check_deprecated_callable_usage(key, maybe_callable)\n\u001b[0;32m-> 1191\u001b[0m \u001b[38;5;28;01mreturn\u001b[39;00m \u001b[38;5;28mself\u001b[39m\u001b[38;5;241m.\u001b[39m_getitem_axis(maybe_callable, axis\u001b[38;5;241m=\u001b[39maxis)\n",
      "File \u001b[0;32m/opt/anaconda3/lib/python3.12/site-packages/pandas/core/indexing.py:1431\u001b[0m, in \u001b[0;36m_LocIndexer._getitem_axis\u001b[0;34m(self, key, axis)\u001b[0m\n\u001b[1;32m   1429\u001b[0m \u001b[38;5;66;03m# fall thru to straight lookup\u001b[39;00m\n\u001b[1;32m   1430\u001b[0m \u001b[38;5;28mself\u001b[39m\u001b[38;5;241m.\u001b[39m_validate_key(key, axis)\n\u001b[0;32m-> 1431\u001b[0m \u001b[38;5;28;01mreturn\u001b[39;00m \u001b[38;5;28mself\u001b[39m\u001b[38;5;241m.\u001b[39m_get_label(key, axis\u001b[38;5;241m=\u001b[39maxis)\n",
      "File \u001b[0;32m/opt/anaconda3/lib/python3.12/site-packages/pandas/core/indexing.py:1381\u001b[0m, in \u001b[0;36m_LocIndexer._get_label\u001b[0;34m(self, label, axis)\u001b[0m\n\u001b[1;32m   1379\u001b[0m \u001b[38;5;28;01mdef\u001b[39;00m \u001b[38;5;21m_get_label\u001b[39m(\u001b[38;5;28mself\u001b[39m, label, axis: AxisInt):\n\u001b[1;32m   1380\u001b[0m     \u001b[38;5;66;03m# GH#5567 this will fail if the label is not present in the axis.\u001b[39;00m\n\u001b[0;32m-> 1381\u001b[0m     \u001b[38;5;28;01mreturn\u001b[39;00m \u001b[38;5;28mself\u001b[39m\u001b[38;5;241m.\u001b[39mobj\u001b[38;5;241m.\u001b[39mxs(label, axis\u001b[38;5;241m=\u001b[39maxis)\n",
      "File \u001b[0;32m/opt/anaconda3/lib/python3.12/site-packages/pandas/core/generic.py:4301\u001b[0m, in \u001b[0;36mNDFrame.xs\u001b[0;34m(self, key, axis, level, drop_level)\u001b[0m\n\u001b[1;32m   4299\u001b[0m             new_index \u001b[38;5;241m=\u001b[39m index[loc]\n\u001b[1;32m   4300\u001b[0m \u001b[38;5;28;01melse\u001b[39;00m:\n\u001b[0;32m-> 4301\u001b[0m     loc \u001b[38;5;241m=\u001b[39m index\u001b[38;5;241m.\u001b[39mget_loc(key)\n\u001b[1;32m   4303\u001b[0m     \u001b[38;5;28;01mif\u001b[39;00m \u001b[38;5;28misinstance\u001b[39m(loc, np\u001b[38;5;241m.\u001b[39mndarray):\n\u001b[1;32m   4304\u001b[0m         \u001b[38;5;28;01mif\u001b[39;00m loc\u001b[38;5;241m.\u001b[39mdtype \u001b[38;5;241m==\u001b[39m np\u001b[38;5;241m.\u001b[39mbool_:\n",
      "File \u001b[0;32m/opt/anaconda3/lib/python3.12/site-packages/pandas/core/indexes/base.py:3812\u001b[0m, in \u001b[0;36mIndex.get_loc\u001b[0;34m(self, key)\u001b[0m\n\u001b[1;32m   3807\u001b[0m     \u001b[38;5;28;01mif\u001b[39;00m \u001b[38;5;28misinstance\u001b[39m(casted_key, \u001b[38;5;28mslice\u001b[39m) \u001b[38;5;129;01mor\u001b[39;00m (\n\u001b[1;32m   3808\u001b[0m         \u001b[38;5;28misinstance\u001b[39m(casted_key, abc\u001b[38;5;241m.\u001b[39mIterable)\n\u001b[1;32m   3809\u001b[0m         \u001b[38;5;129;01mand\u001b[39;00m \u001b[38;5;28many\u001b[39m(\u001b[38;5;28misinstance\u001b[39m(x, \u001b[38;5;28mslice\u001b[39m) \u001b[38;5;28;01mfor\u001b[39;00m x \u001b[38;5;129;01min\u001b[39;00m casted_key)\n\u001b[1;32m   3810\u001b[0m     ):\n\u001b[1;32m   3811\u001b[0m         \u001b[38;5;28;01mraise\u001b[39;00m InvalidIndexError(key)\n\u001b[0;32m-> 3812\u001b[0m     \u001b[38;5;28;01mraise\u001b[39;00m \u001b[38;5;167;01mKeyError\u001b[39;00m(key) \u001b[38;5;28;01mfrom\u001b[39;00m \u001b[38;5;21;01merr\u001b[39;00m\n\u001b[1;32m   3813\u001b[0m \u001b[38;5;28;01mexcept\u001b[39;00m \u001b[38;5;167;01mTypeError\u001b[39;00m:\n\u001b[1;32m   3814\u001b[0m     \u001b[38;5;66;03m# If we have a listlike key, _check_indexing_error will raise\u001b[39;00m\n\u001b[1;32m   3815\u001b[0m     \u001b[38;5;66;03m#  InvalidIndexError. Otherwise we fall through and re-raise\u001b[39;00m\n\u001b[1;32m   3816\u001b[0m     \u001b[38;5;66;03m#  the TypeError.\u001b[39;00m\n\u001b[1;32m   3817\u001b[0m     \u001b[38;5;28mself\u001b[39m\u001b[38;5;241m.\u001b[39m_check_indexing_error(key)\n",
      "\u001b[0;31mKeyError\u001b[0m: 3"
     ]
    }
   ],
   "source": [
    "s.loc[3] # ? "
   ]
  },
  {
   "cell_type": "code",
   "execution_count": 66,
   "id": "f50038c3-00cc-417b-ab86-fbd81b830989",
   "metadata": {},
   "outputs": [
    {
     "data": {
      "text/plain": [
       "50"
      ]
     },
     "execution_count": 66,
     "metadata": {},
     "output_type": "execute_result"
    }
   ],
   "source": [
    "s.iloc[0] # indexes"
   ]
  },
  {
   "cell_type": "code",
   "execution_count": 67,
   "id": "20dd4efd-7e55-48eb-bfcb-acc6217c41be",
   "metadata": {},
   "outputs": [
    {
     "data": {
      "text/plain": [
       "80"
      ]
     },
     "execution_count": 67,
     "metadata": {},
     "output_type": "execute_result"
    }
   ],
   "source": [
    "s.loc[0] # index labels"
   ]
  },
  {
   "cell_type": "code",
   "execution_count": null,
   "id": "414e53b8-70c5-4c14-83af-31f4873a924b",
   "metadata": {},
   "outputs": [],
   "source": []
  },
  {
   "cell_type": "code",
   "execution_count": 60,
   "id": "55a73db6-cf1a-479f-8c84-6512a7b96910",
   "metadata": {},
   "outputs": [
    {
     "name": "stderr",
     "output_type": "stream",
     "text": [
      "/var/folders/92/77wzzgtd3b31048n9sf_9_qm0000gn/T/ipykernel_95893/933617435.py:1: FutureWarning: Series.__getitem__ treating keys as positions is deprecated. In a future version, integer keys will always be treated as labels (consistent with DataFrame behavior). To access a value by position, use `ser.iloc[pos]`\n",
      "  heights[5]\n"
     ]
    },
    {
     "data": {
      "text/plain": [
       "163"
      ]
     },
     "execution_count": 60,
     "metadata": {},
     "output_type": "execute_result"
    }
   ],
   "source": [
    "heights[5]"
   ]
  },
  {
   "cell_type": "code",
   "execution_count": 70,
   "id": "4105c497-9003-4c9b-b824-773c207f2cc7",
   "metadata": {},
   "outputs": [
    {
     "data": {
      "text/plain": [
       "rajat       160\n",
       "kushal      162\n",
       "michael     149\n",
       "nidhi       148\n",
       "vincent     156\n",
       "fran        163\n",
       "shivanki    147\n",
       "shruti      156\n",
       "simran      156\n",
       "ravi        154\n",
       "Name: Height, dtype: int64"
      ]
     },
     "execution_count": 70,
     "metadata": {},
     "output_type": "execute_result"
    }
   ],
   "source": [
    "heights"
   ]
  },
  {
   "cell_type": "code",
   "execution_count": 73,
   "id": "54824fa8-1359-43d4-b9fd-7be44671d73d",
   "metadata": {},
   "outputs": [
    {
     "data": {
      "text/plain": [
       "kushal     162\n",
       "michael    149\n",
       "Name: Height, dtype: int64"
      ]
     },
     "execution_count": 73,
     "metadata": {},
     "output_type": "execute_result"
    }
   ],
   "source": [
    "heights.iloc[1:3]"
   ]
  },
  {
   "cell_type": "code",
   "execution_count": 77,
   "id": "1f7bab66-0e1f-4a00-8f53-27bd83889a7d",
   "metadata": {},
   "outputs": [
    {
     "data": {
      "text/plain": [
       "nidhi       148\n",
       "vincent     156\n",
       "fran        163\n",
       "shivanki    147\n",
       "shruti      156\n",
       "Name: Height, dtype: int64"
      ]
     },
     "execution_count": 77,
     "metadata": {},
     "output_type": "execute_result"
    }
   ],
   "source": [
    "heights.loc['nidhi':'shruti']"
   ]
  },
  {
   "cell_type": "code",
   "execution_count": 81,
   "id": "e73dcd51-044c-4d6a-af53-5416529eedda",
   "metadata": {},
   "outputs": [
    {
     "data": {
      "text/plain": [
       "rajat       160\n",
       "kushal      162\n",
       "michael     149\n",
       "nidhi       148\n",
       "vincent     156\n",
       "fran        163\n",
       "shivanki    147\n",
       "shruti      156\n",
       "simran      156\n",
       "ravi        154\n",
       "Name: Height, dtype: int64"
      ]
     },
     "execution_count": 81,
     "metadata": {},
     "output_type": "execute_result"
    }
   ],
   "source": [
    "heights.T"
   ]
  },
  {
   "cell_type": "code",
   "execution_count": 80,
   "id": "7d9baaa3-268b-48d7-be90-10bb2813afd6",
   "metadata": {},
   "outputs": [
    {
     "name": "stdout",
     "output_type": "stream",
     "text": [
      "T,  abs,  add,  add_prefix,  add_suffix,  agg,  aggregate,  align,  all,  any,  apply,  argmax,  argmin,  argsort,  array,  asfreq,  asof,  astype,  at,  at_time,  attrs,  autocorr,  axes,  backfill,  between,  between_time,  bfill,  bool,  case_when,  clip,  combine,  combine_first,  compare,  convert_dtypes,  copy,  corr,  count,  cov,  cummax,  cummin,  cumprod,  cumsum,  describe,  diff,  div,  divide,  divmod,  dot,  drop,  drop_duplicates,  droplevel,  dropna,  dtype,  dtypes,  duplicated,  empty,  eq,  equals,  ewm,  expanding,  explode,  factorize,  ffill,  fillna,  filter,  first,  first_valid_index,  flags,  floordiv,  fran,  ge,  get,  groupby,  gt,  hasnans,  head,  hist,  iat,  idxmax,  idxmin,  iloc,  index,  infer_objects,  info,  interpolate,  is_monotonic_decreasing,  is_monotonic_increasing,  is_unique,  isin,  isna,  isnull,  item,  items,  keys,  kurt,  kurtosis,  kushal,  last,  last_valid_index,  le,  list,  loc,  lt,  map,  mask,  max,  mean,  median,  memory_usage,  michael,  min,  mod,  mode,  mul,  multiply,  name,  nbytes,  ndim,  ne,  nidhi,  nlargest,  notna,  notnull,  nsmallest,  nunique,  pad,  pct_change,  pipe,  plot,  pop,  pow,  prod,  product,  quantile,  radd,  rajat,  rank,  ravel,  ravi,  rdiv,  rdivmod,  reindex,  reindex_like,  rename,  rename_axis,  reorder_levels,  repeat,  replace,  resample,  reset_index,  rfloordiv,  rmod,  rmul,  rolling,  round,  rpow,  rsub,  rtruediv,  sample,  searchsorted,  sem,  set_axis,  set_flags,  shape,  shift,  shivanki,  shruti,  simran,  size,  skew,  sort_index,  sort_values,  squeeze,  std,  struct,  sub,  subtract,  sum,  swapaxes,  swaplevel,  tail,  take,  to_clipboard,  to_csv,  to_dict,  to_excel,  to_frame,  to_hdf,  to_json,  to_latex,  to_list,  to_markdown,  to_numpy,  to_period,  to_pickle,  to_sql,  to_string,  to_timestamp,  to_xarray,  transform,  transpose,  truediv,  truncate,  tz_convert,  tz_localize,  unique,  unstack,  update,  value_counts,  values,  var,  view,  vincent,  where,  xs,  "
     ]
    }
   ],
   "source": [
    "for method in dir(heights):\n",
    "    if method.startswith('_'):\n",
    "        continue\n",
    "    print(method, end=\",  \")"
   ]
  },
  {
   "cell_type": "code",
   "execution_count": 94,
   "id": "83d1a9c8-b997-4830-8e4a-97efd3e380c2",
   "metadata": {},
   "outputs": [
    {
     "data": {
      "text/plain": [
       "rajat       25600\n",
       "kushal      26244\n",
       "michael     22201\n",
       "nidhi       21904\n",
       "vincent     24336\n",
       "fran        26569\n",
       "shivanki    21609\n",
       "shruti      24336\n",
       "simran      24336\n",
       "ravi        23716\n",
       "Name: Height, dtype: int64"
      ]
     },
     "execution_count": 94,
     "metadata": {},
     "output_type": "execute_result"
    }
   ],
   "source": [
    "def sq(v):\n",
    "    return v**2\n",
    "\n",
    "heights.apply(sq)"
   ]
  },
  {
   "cell_type": "code",
   "execution_count": 95,
   "id": "247ec41a-11b6-451d-9318-0d6b3331f7a5",
   "metadata": {},
   "outputs": [
    {
     "data": {
      "text/plain": [
       "rajat       25600\n",
       "kushal      26244\n",
       "michael     22201\n",
       "nidhi       21904\n",
       "vincent     24336\n",
       "fran        26569\n",
       "shivanki    21609\n",
       "shruti      24336\n",
       "simran      24336\n",
       "ravi        23716\n",
       "Name: Height, dtype: int64"
      ]
     },
     "execution_count": 95,
     "metadata": {},
     "output_type": "execute_result"
    }
   ],
   "source": [
    "heights.apply(lambda v:v**2)"
   ]
  },
  {
   "cell_type": "code",
   "execution_count": 93,
   "id": "3de54c34-6064-4a1b-9742-e2de66d5b218",
   "metadata": {},
   "outputs": [
    {
     "data": {
      "text/plain": [
       "rajat       16.0\n",
       "kushal      16.2\n",
       "michael     14.9\n",
       "nidhi       14.8\n",
       "vincent     15.6\n",
       "fran        16.3\n",
       "shivanki    14.7\n",
       "shruti      15.6\n",
       "simran      15.6\n",
       "ravi        15.4\n",
       "Name: Height, dtype: float64"
      ]
     },
     "execution_count": 93,
     "metadata": {},
     "output_type": "execute_result"
    }
   ],
   "source": [
    "heights.apply(lambda value: value/10 ) # map(str, [1, 2, 3 , 4])"
   ]
  },
  {
   "cell_type": "code",
   "execution_count": 85,
   "id": "972ed99c-6341-4522-b252-46e14bd27305",
   "metadata": {},
   "outputs": [
    {
     "data": {
      "text/plain": [
       "rajat       160\n",
       "kushal      162\n",
       "michael     149\n",
       "nidhi       148\n",
       "vincent     156\n",
       "fran        163\n",
       "shivanki    147\n",
       "shruti      156\n",
       "simran      156\n",
       "ravi        154\n",
       "Name: Height, dtype: int64"
      ]
     },
     "execution_count": 85,
     "metadata": {},
     "output_type": "execute_result"
    }
   ],
   "source": [
    "heights"
   ]
  },
  {
   "cell_type": "code",
   "execution_count": 86,
   "id": "f54fc3ae-23fd-42bb-b2c6-a5366bbc47d7",
   "metadata": {},
   "outputs": [
    {
     "data": {
      "text/plain": [
       "kushal     162\n",
       "michael    149\n",
       "nidhi      148\n",
       "vincent    156\n",
       "fran       163\n",
       "Name: Height, dtype: int64"
      ]
     },
     "execution_count": 86,
     "metadata": {},
     "output_type": "execute_result"
    }
   ],
   "source": [
    "heights.loc['kushal': 'fran'] # we are trying select multiple values"
   ]
  },
  {
   "cell_type": "code",
   "execution_count": 87,
   "id": "c1b78463-38a7-4b0e-92a3-784d146f00ce",
   "metadata": {},
   "outputs": [
    {
     "data": {
      "text/plain": [
       "kushal     162\n",
       "michael    149\n",
       "nidhi      148\n",
       "vincent    156\n",
       "fran       163\n",
       "Name: Height, dtype: int64"
      ]
     },
     "execution_count": 87,
     "metadata": {},
     "output_type": "execute_result"
    }
   ],
   "source": [
    "heights.iloc[1:6] # slow in execution "
   ]
  },
  {
   "cell_type": "code",
   "execution_count": 92,
   "id": "8ffe40e1-db20-4866-aeeb-e8d3a503b73f",
   "metadata": {},
   "outputs": [
    {
     "data": {
      "text/plain": [
       "147"
      ]
     },
     "execution_count": 92,
     "metadata": {},
     "output_type": "execute_result"
    }
   ],
   "source": [
    "heights.iat[6]"
   ]
  },
  {
   "cell_type": "markdown",
   "id": "d3dff457-b103-48d3-a419-4799f7bccac6",
   "metadata": {},
   "source": [
    "indexing / slicing \n",
    "\n",
    "    [index]   [start:end:step]"
   ]
  },
  {
   "cell_type": "code",
   "execution_count": 91,
   "id": "60e9b38d-e0eb-4a9c-bfa4-fbe2f0740a2d",
   "metadata": {},
   "outputs": [
    {
     "name": "stdout",
     "output_type": "stream",
     "text": [
      "759 ns ± 3.77 ns per loop (mean ± std. dev. of 7 runs, 1,000,000 loops each)\n"
     ]
    }
   ],
   "source": [
    "%%timeit\n",
    "heights.at['nidhi']"
   ]
  },
  {
   "cell_type": "code",
   "execution_count": 90,
   "id": "fed6dfeb-48cc-4aa3-81ec-80ca65fe3f0c",
   "metadata": {},
   "outputs": [
    {
     "name": "stdout",
     "output_type": "stream",
     "text": [
      "2.02 μs ± 9.16 ns per loop (mean ± std. dev. of 7 runs, 100,000 loops each)\n"
     ]
    }
   ],
   "source": [
    "%%timeit\n",
    "heights.loc['nidhi']"
   ]
  },
  {
   "cell_type": "code",
   "execution_count": 89,
   "id": "664c8e15-b87d-4b75-a0f0-56d577d7bad6",
   "metadata": {},
   "outputs": [
    {
     "data": {
      "text/plain": [
       "148"
      ]
     },
     "execution_count": 89,
     "metadata": {},
     "output_type": "execute_result"
    }
   ],
   "source": [
    "heights.loc['nidhi']"
   ]
  },
  {
   "cell_type": "code",
   "execution_count": 88,
   "id": "31274ea2-28d0-4b11-a22b-abee00abd45c",
   "metadata": {},
   "outputs": [
    {
     "data": {
      "text/plain": [
       "148"
      ]
     },
     "execution_count": 88,
     "metadata": {},
     "output_type": "execute_result"
    }
   ],
   "source": [
    "# at and loc    iat and iloc\n",
    "heights.at['nidhi']"
   ]
  },
  {
   "cell_type": "code",
   "execution_count": 84,
   "id": "d10873c0-e847-4062-bfb9-a231dd4894bd",
   "metadata": {},
   "outputs": [
    {
     "name": "stderr",
     "output_type": "stream",
     "text": [
      "/var/folders/92/77wzzgtd3b31048n9sf_9_qm0000gn/T/ipykernel_95893/2653495146.py:1: FutureWarning: Series.__getitem__ treating keys as positions is deprecated. In a future version, integer keys will always be treated as labels (consistent with DataFrame behavior). To access a value by position, use `ser.iloc[pos]`\n",
      "  heights[heights.argsort()]\n"
     ]
    },
    {
     "data": {
      "text/plain": [
       "shivanki    147\n",
       "nidhi       148\n",
       "michael     149\n",
       "ravi        154\n",
       "vincent     156\n",
       "shruti      156\n",
       "simran      156\n",
       "rajat       160\n",
       "kushal      162\n",
       "fran        163\n",
       "Name: Height, dtype: int64"
      ]
     },
     "execution_count": 84,
     "metadata": {},
     "output_type": "execute_result"
    }
   ],
   "source": [
    "heights[heights.argsort()]"
   ]
  },
  {
   "cell_type": "code",
   "execution_count": 100,
   "id": "91cdb665-9a1c-4f37-a5b8-7d06959d5531",
   "metadata": {},
   "outputs": [],
   "source": [
    "heights = heights.astype(float)"
   ]
  },
  {
   "cell_type": "code",
   "execution_count": 105,
   "id": "8686012a-aa97-4533-9b7b-f7e0645ec2e5",
   "metadata": {},
   "outputs": [
    {
     "data": {
      "text/plain": [
       "3.141592653589793"
      ]
     },
     "execution_count": 105,
     "metadata": {},
     "output_type": "execute_result"
    }
   ],
   "source": [
    "np.pi"
   ]
  },
  {
   "cell_type": "code",
   "execution_count": 106,
   "id": "40d4887c-24f1-47c4-9fb0-a72c9cf28a4b",
   "metadata": {},
   "outputs": [
    {
     "data": {
      "text/plain": [
       "nan"
      ]
     },
     "execution_count": 106,
     "metadata": {},
     "output_type": "execute_result"
    }
   ],
   "source": [
    "np.nan"
   ]
  },
  {
   "cell_type": "code",
   "execution_count": 107,
   "id": "138d4417-93d4-4e9b-9fd4-b32dabb6c520",
   "metadata": {},
   "outputs": [
    {
     "data": {
      "text/plain": [
       "inf"
      ]
     },
     "execution_count": 107,
     "metadata": {},
     "output_type": "execute_result"
    }
   ],
   "source": [
    "np.inf"
   ]
  },
  {
   "cell_type": "code",
   "execution_count": 104,
   "id": "5ccd98f4-fe48-4da2-96b2-f057cc9fc133",
   "metadata": {},
   "outputs": [],
   "source": [
    "heights.loc[['kushal', 'vincent', 'ravi']] = np.nan"
   ]
  },
  {
   "cell_type": "markdown",
   "id": "32796173-fa1a-4513-b2cd-afd4ec7f11a4",
   "metadata": {},
   "source": [
    "$$\\bar x \\pm \\sigma$$"
   ]
  },
  {
   "cell_type": "code",
   "execution_count": 118,
   "id": "6cd5be01-43ce-4e1b-86f5-67aa341f1251",
   "metadata": {},
   "outputs": [
    {
     "data": {
      "text/plain": [
       "array([154.15633236, 154.18117847, 155.29739826])"
      ]
     },
     "execution_count": 118,
     "metadata": {},
     "output_type": "execute_result"
    }
   ],
   "source": [
    "np.random.uniform(heights.mean()-heights.std(), heights.mean()+heights.std(), 3)"
   ]
  },
  {
   "cell_type": "markdown",
   "id": "23ef0708-ee34-4c37-892c-a2bd7cd3c4d1",
   "metadata": {},
   "source": [
    "#### Missing Values \n",
    "\n",
    "    replace them with central tendency - mean/median/mode\n",
    "    \n",
    "    replace them with random values around center - mean±sigma\n",
    "\n",
    "    replace them with arbitary value\n",
    "\n",
    "    forward fill  / backward fill ->  \n",
    "        \n",
    "            4 5 6 NA 7 8 9 NA 10 11 12 NA 13        \n",
    "    ffill   4 5 6 6 7 8 9 9 10 11 12 12 13\n",
    "    \n",
    "            4 5 6 NA 7 8 9 NA 10 11 12 NA 13 \n",
    "    bfill   4 5 6 7 7 8 9 10 10 11 12 13\n",
    "\n",
    "            male female male NA female male NA female male\n",
    "\n",
    "    ML predictive models  \n",
    "    \n",
    "#### Outliers\n",
    "\n",
    "    Remove outliers\n",
    "\n",
    "    Fill values of outliers using same as above"
   ]
  },
  {
   "cell_type": "code",
   "execution_count": 116,
   "id": "62a192da-0da4-4552-a8da-e36e881194e4",
   "metadata": {},
   "outputs": [
    {
     "data": {
      "text/plain": [
       "rajat       160.0\n",
       "michael     149.0\n",
       "nidhi       148.0\n",
       "fran        163.0\n",
       "shivanki    147.0\n",
       "shruti      156.0\n",
       "simran      156.0\n",
       "Name: Height, dtype: float64"
      ]
     },
     "execution_count": 116,
     "metadata": {},
     "output_type": "execute_result"
    }
   ],
   "source": [
    "heights.loc[~heights.isna()] # non NA values"
   ]
  },
  {
   "cell_type": "code",
   "execution_count": 115,
   "id": "91684547-8400-4539-8be6-448f3c348178",
   "metadata": {},
   "outputs": [
    {
     "data": {
      "text/plain": [
       "kushal    NaN\n",
       "vincent   NaN\n",
       "ravi      NaN\n",
       "Name: Height, dtype: float64"
      ]
     },
     "execution_count": 115,
     "metadata": {},
     "output_type": "execute_result"
    }
   ],
   "source": [
    "heights.loc[heights.isna()] # NA values"
   ]
  },
  {
   "cell_type": "code",
   "execution_count": 117,
   "id": "07654514-6ad9-4184-ba54-607f92ea7581",
   "metadata": {},
   "outputs": [
    {
     "data": {
      "text/plain": [
       "3"
      ]
     },
     "execution_count": 117,
     "metadata": {},
     "output_type": "execute_result"
    }
   ],
   "source": [
    "n = heights.isna().sum()\n",
    "n"
   ]
  },
  {
   "cell_type": "code",
   "execution_count": 119,
   "id": "621ebd89-aa49-4733-b1e3-eee0c5a56161",
   "metadata": {},
   "outputs": [],
   "source": [
    "# heights.loc[heights.isna()] = heights.mean()\n",
    "# heights.loc[heights.isna()] = heights.median()\n",
    "rv = np.random.uniform(heights.mean()-heights.std(), heights.mean()+heights.std(), heights.isna().sum())\n",
    "heights.loc[heights.isna()] = rv"
   ]
  },
  {
   "cell_type": "code",
   "execution_count": 120,
   "id": "0bcd6ca8-9a8e-4be3-84bc-00c6d0d27cb2",
   "metadata": {},
   "outputs": [
    {
     "data": {
      "text/plain": [
       "rajat       160.000000\n",
       "kushal      159.431758\n",
       "michael     149.000000\n",
       "nidhi       148.000000\n",
       "vincent     158.554191\n",
       "fran        163.000000\n",
       "shivanki    147.000000\n",
       "shruti      156.000000\n",
       "simran      156.000000\n",
       "ravi        155.501051\n",
       "Name: Height, dtype: float64"
      ]
     },
     "execution_count": 120,
     "metadata": {},
     "output_type": "execute_result"
    }
   ],
   "source": [
    "heights"
   ]
  },
  {
   "cell_type": "code",
   "execution_count": 121,
   "id": "fcbf95ed-3369-4bfc-a0e2-1f4e23109141",
   "metadata": {},
   "outputs": [],
   "source": [
    "heights.loc[['kushal', 'vincent', 'ravi']] = np.nan"
   ]
  },
  {
   "cell_type": "code",
   "execution_count": 122,
   "id": "c6e1ffed-17b2-4c73-995f-6a6c565b9799",
   "metadata": {},
   "outputs": [
    {
     "data": {
      "text/plain": [
       "rajat       160.0\n",
       "kushal        NaN\n",
       "michael     149.0\n",
       "nidhi       148.0\n",
       "vincent       NaN\n",
       "fran        163.0\n",
       "shivanki    147.0\n",
       "shruti      156.0\n",
       "simran      156.0\n",
       "ravi          NaN\n",
       "Name: Height, dtype: float64"
      ]
     },
     "execution_count": 122,
     "metadata": {},
     "output_type": "execute_result"
    }
   ],
   "source": [
    "heights"
   ]
  },
  {
   "cell_type": "code",
   "execution_count": 125,
   "id": "23a16069-d2a2-41c4-9515-37aaa88b4652",
   "metadata": {},
   "outputs": [
    {
     "data": {
      "text/plain": [
       "rajat       160.0\n",
       "kushal      156.0\n",
       "michael     149.0\n",
       "nidhi       148.0\n",
       "vincent     156.0\n",
       "fran        163.0\n",
       "shivanki    147.0\n",
       "shruti      156.0\n",
       "simran      156.0\n",
       "ravi        156.0\n",
       "Name: Height, dtype: float64"
      ]
     },
     "execution_count": 125,
     "metadata": {},
     "output_type": "execute_result"
    }
   ],
   "source": [
    "heights.fillna(heights.median())"
   ]
  },
  {
   "cell_type": "code",
   "execution_count": 126,
   "id": "e3117043-2c70-4156-b0bd-a885f121b7a6",
   "metadata": {},
   "outputs": [
    {
     "data": {
      "text/plain": [
       "rajat       160.0\n",
       "kushal        0.0\n",
       "michael     149.0\n",
       "nidhi       148.0\n",
       "vincent       0.0\n",
       "fran        163.0\n",
       "shivanki    147.0\n",
       "shruti      156.0\n",
       "simran      156.0\n",
       "ravi          0.0\n",
       "Name: Height, dtype: float64"
      ]
     },
     "execution_count": 126,
     "metadata": {},
     "output_type": "execute_result"
    }
   ],
   "source": [
    "heights.fillna(0)"
   ]
  },
  {
   "cell_type": "code",
   "execution_count": 127,
   "id": "49602df6-2f00-45df-a782-22cbd646b72d",
   "metadata": {},
   "outputs": [
    {
     "data": {
      "text/plain": [
       "rajat       160.0\n",
       "kushal        NaN\n",
       "michael     149.0\n",
       "nidhi       148.0\n",
       "vincent       NaN\n",
       "fran        163.0\n",
       "shivanki    147.0\n",
       "shruti      156.0\n",
       "simran      156.0\n",
       "ravi          NaN\n",
       "Name: Height, dtype: float64"
      ]
     },
     "execution_count": 127,
     "metadata": {},
     "output_type": "execute_result"
    }
   ],
   "source": [
    "heights"
   ]
  },
  {
   "cell_type": "code",
   "execution_count": 130,
   "id": "8fe46ef9-a42c-430b-a193-dd17f2e4a520",
   "metadata": {},
   "outputs": [
    {
     "data": {
      "text/plain": [
       "rajat       160.0\n",
       "kushal      149.0\n",
       "michael     149.0\n",
       "nidhi       148.0\n",
       "vincent     163.0\n",
       "fran        163.0\n",
       "shivanki    147.0\n",
       "shruti      156.0\n",
       "simran      156.0\n",
       "ravi          NaN\n",
       "Name: Height, dtype: float64"
      ]
     },
     "execution_count": 130,
     "metadata": {},
     "output_type": "execute_result"
    }
   ],
   "source": [
    "heights.bfill()"
   ]
  },
  {
   "cell_type": "code",
   "execution_count": 129,
   "id": "aec2cd4f-19aa-4784-ae5d-065c4fff5d1b",
   "metadata": {},
   "outputs": [
    {
     "data": {
      "text/plain": [
       "rajat       160.0\n",
       "kushal      160.0\n",
       "michael     149.0\n",
       "nidhi       148.0\n",
       "vincent     148.0\n",
       "fran        163.0\n",
       "shivanki    147.0\n",
       "shruti      156.0\n",
       "simran      156.0\n",
       "ravi        156.0\n",
       "Name: Height, dtype: float64"
      ]
     },
     "execution_count": 129,
     "metadata": {},
     "output_type": "execute_result"
    }
   ],
   "source": [
    "heights.ffill()"
   ]
  },
  {
   "cell_type": "code",
   "execution_count": 128,
   "id": "8d57d68a-f520-429d-9ba7-820647af0e7b",
   "metadata": {},
   "outputs": [
    {
     "name": "stderr",
     "output_type": "stream",
     "text": [
      "/var/folders/92/77wzzgtd3b31048n9sf_9_qm0000gn/T/ipykernel_95893/2636970392.py:1: FutureWarning: Series.fillna with 'method' is deprecated and will raise in a future version. Use obj.ffill() or obj.bfill() instead.\n",
      "  heights.fillna(method='ffill')\n"
     ]
    },
    {
     "data": {
      "text/plain": [
       "rajat       160.0\n",
       "kushal      160.0\n",
       "michael     149.0\n",
       "nidhi       148.0\n",
       "vincent     148.0\n",
       "fran        163.0\n",
       "shivanki    147.0\n",
       "shruti      156.0\n",
       "simran      156.0\n",
       "ravi        156.0\n",
       "Name: Height, dtype: float64"
      ]
     },
     "execution_count": 128,
     "metadata": {},
     "output_type": "execute_result"
    }
   ],
   "source": [
    "heights.fillna(method='ffill')"
   ]
  },
  {
   "cell_type": "code",
   "execution_count": 133,
   "id": "b2395d11-3913-4348-9ffe-8b9c5f6f734e",
   "metadata": {},
   "outputs": [
    {
     "name": "stderr",
     "output_type": "stream",
     "text": [
      "100%|████████████████████████████████████████████████████████████████████████████████████████████████| 600/600 [10:04<00:00,  1.01s/it]\n"
     ]
    }
   ],
   "source": [
    "from tqdm import tqdm\n",
    "import time\n",
    "break_time = 10*60\n",
    "\n",
    "for i in tqdm(range(break_time)):\n",
    "    time.sleep(1)"
   ]
  },
  {
   "cell_type": "code",
   "execution_count": null,
   "id": "fe31708d-82c3-40c5-89d5-86ab5085b78e",
   "metadata": {},
   "outputs": [],
   "source": []
  },
  {
   "cell_type": "code",
   "execution_count": null,
   "id": "08e48b01-4686-4c72-ae2b-42d75ea9f09d",
   "metadata": {},
   "outputs": [],
   "source": []
  },
  {
   "cell_type": "code",
   "execution_count": 97,
   "id": "4e39ea25-edfd-4e43-bf93-9492cb393d24",
   "metadata": {},
   "outputs": [
    {
     "name": "stdout",
     "output_type": "stream",
     "text": [
      "T\n",
      "abs\n",
      "add\n",
      "add_prefix\n",
      "add_suffix\n",
      "agg\n",
      "aggregate\n",
      "align\n",
      "all\n",
      "any\n",
      "apply\n",
      "argmax\n",
      "argmin\n",
      "argsort\n",
      "array\n",
      "asfreq\n",
      "asof\n",
      "astype\n",
      "at\n",
      "at_time\n",
      "attrs\n",
      "autocorr\n",
      "axes\n",
      "backfill\n",
      "between\n",
      "between_time\n",
      "bfill\n",
      "bool\n",
      "case_when\n",
      "clip\n",
      "combine\n",
      "combine_first\n",
      "compare\n",
      "convert_dtypes\n",
      "copy\n",
      "corr\n",
      "count\n",
      "cov\n",
      "cummax\n",
      "cummin\n",
      "cumprod\n",
      "cumsum\n",
      "describe\n",
      "diff\n",
      "div\n",
      "divide\n",
      "divmod\n",
      "dot\n",
      "drop\n",
      "drop_duplicates\n",
      "droplevel\n",
      "dropna\n",
      "dtype\n",
      "dtypes\n",
      "duplicated\n",
      "empty\n",
      "eq\n",
      "equals\n",
      "ewm\n",
      "expanding\n",
      "explode\n",
      "factorize\n",
      "ffill\n",
      "fillna\n",
      "filter\n",
      "first\n",
      "first_valid_index\n",
      "flags\n",
      "floordiv\n",
      "fran\n",
      "ge\n",
      "get\n",
      "groupby\n",
      "gt\n",
      "hasnans\n",
      "head\n",
      "hist\n",
      "iat\n",
      "idxmax\n",
      "idxmin\n",
      "iloc\n",
      "index\n",
      "infer_objects\n",
      "info\n",
      "interpolate\n",
      "is_monotonic_decreasing\n",
      "is_monotonic_increasing\n",
      "is_unique\n",
      "isin\n",
      "isna\n",
      "isnull\n",
      "item\n",
      "items\n",
      "keys\n",
      "kurt\n",
      "kurtosis\n",
      "kushal\n",
      "last\n",
      "last_valid_index\n",
      "le\n",
      "list\n",
      "loc\n",
      "lt\n",
      "map\n",
      "mask\n",
      "max\n",
      "mean\n",
      "median\n",
      "memory_usage\n",
      "michael\n",
      "min\n",
      "mod\n",
      "mode\n",
      "mul\n",
      "multiply\n",
      "name\n",
      "nbytes\n",
      "ndim\n",
      "ne\n",
      "nidhi\n",
      "nlargest\n",
      "notna\n",
      "notnull\n",
      "nsmallest\n",
      "nunique\n",
      "pad\n",
      "pct_change\n",
      "pipe\n",
      "plot\n",
      "pop\n",
      "pow\n",
      "prod\n",
      "product\n",
      "quantile\n",
      "radd\n",
      "rajat\n",
      "rank\n",
      "ravel\n",
      "ravi\n",
      "rdiv\n",
      "rdivmod\n",
      "reindex\n",
      "reindex_like\n",
      "rename\n",
      "rename_axis\n",
      "reorder_levels\n",
      "repeat\n",
      "replace\n",
      "resample\n",
      "reset_index\n",
      "rfloordiv\n",
      "rmod\n",
      "rmul\n",
      "rolling\n",
      "round\n",
      "rpow\n",
      "rsub\n",
      "rtruediv\n",
      "sample\n",
      "searchsorted\n",
      "sem\n",
      "set_axis\n",
      "set_flags\n",
      "shape\n",
      "shift\n",
      "shivanki\n",
      "shruti\n",
      "simran\n",
      "size\n",
      "skew\n",
      "sort_index\n",
      "sort_values\n",
      "squeeze\n",
      "std\n",
      "struct\n",
      "sub\n",
      "subtract\n",
      "sum\n",
      "swapaxes\n",
      "swaplevel\n",
      "tail\n",
      "take\n",
      "to_clipboard\n",
      "to_csv\n",
      "to_dict\n",
      "to_excel\n",
      "to_frame\n",
      "to_hdf\n",
      "to_json\n",
      "to_latex\n",
      "to_list\n",
      "to_markdown\n",
      "to_numpy\n",
      "to_period\n",
      "to_pickle\n",
      "to_sql\n",
      "to_string\n",
      "to_timestamp\n",
      "to_xarray\n",
      "transform\n",
      "transpose\n",
      "truediv\n",
      "truncate\n",
      "tz_convert\n",
      "tz_localize\n",
      "unique\n",
      "unstack\n",
      "update\n",
      "value_counts\n",
      "values\n",
      "var\n",
      "view\n",
      "vincent\n",
      "where\n",
      "xs\n"
     ]
    }
   ],
   "source": [
    "print(*[m for m in dir(heights) if not m.startswith('_')], sep=\"\\n\")"
   ]
  },
  {
   "cell_type": "code",
   "execution_count": 134,
   "id": "cc6d89c5-b01c-4352-93d8-e43db9018ace",
   "metadata": {},
   "outputs": [
    {
     "data": {
      "text/plain": [
       "rajat       160.0\n",
       "kushal        NaN\n",
       "michael     149.0\n",
       "nidhi       148.0\n",
       "vincent       NaN\n",
       "fran        163.0\n",
       "shivanki    147.0\n",
       "shruti      156.0\n",
       "simran      156.0\n",
       "ravi          NaN\n",
       "Name: Height, dtype: float64"
      ]
     },
     "execution_count": 134,
     "metadata": {},
     "output_type": "execute_result"
    }
   ],
   "source": [
    "heights"
   ]
  },
  {
   "cell_type": "code",
   "execution_count": 137,
   "id": "273f0cca-f271-496a-a63f-2d3482265fb0",
   "metadata": {},
   "outputs": [],
   "source": [
    "heights.sort_values(ascending=False, inplace=True)"
   ]
  },
  {
   "cell_type": "code",
   "execution_count": 138,
   "id": "00c512d4-abd8-412b-aec8-02ca3f47b41a",
   "metadata": {},
   "outputs": [
    {
     "data": {
      "text/plain": [
       "fran        163.0\n",
       "rajat       160.0\n",
       "shruti      156.0\n",
       "simran      156.0\n",
       "michael     149.0\n",
       "nidhi       148.0\n",
       "shivanki    147.0\n",
       "kushal        NaN\n",
       "vincent       NaN\n",
       "ravi          NaN\n",
       "Name: Height, dtype: float64"
      ]
     },
     "execution_count": 138,
     "metadata": {},
     "output_type": "execute_result"
    }
   ],
   "source": [
    "heights"
   ]
  },
  {
   "cell_type": "code",
   "execution_count": 140,
   "id": "71e9e800-b742-4e27-bef9-2728fbecf663",
   "metadata": {},
   "outputs": [
    {
     "data": {
      "text/plain": [
       "fran        163.0\n",
       "kushal        NaN\n",
       "michael     149.0\n",
       "nidhi       148.0\n",
       "rajat       160.0\n",
       "ravi          NaN\n",
       "shivanki    147.0\n",
       "shruti      156.0\n",
       "simran      156.0\n",
       "vincent       NaN\n",
       "Name: Height, dtype: float64"
      ]
     },
     "execution_count": 140,
     "metadata": {},
     "output_type": "execute_result"
    }
   ],
   "source": [
    "heights.sort_index()"
   ]
  },
  {
   "cell_type": "code",
   "execution_count": 143,
   "id": "7523d976-29c6-4e41-a503-d9f2f94d7224",
   "metadata": {},
   "outputs": [],
   "source": [
    "idx = np.random.choice(['male', 'female'],  10)\n",
    "heights.index = pd.CategoricalIndex(idx)"
   ]
  },
  {
   "cell_type": "code",
   "execution_count": 144,
   "id": "2434b2ca-9552-4c30-8abf-1632d60c9ae6",
   "metadata": {},
   "outputs": [
    {
     "data": {
      "text/plain": [
       "female    163.0\n",
       "female    160.0\n",
       "female    156.0\n",
       "male      156.0\n",
       "male      149.0\n",
       "female    148.0\n",
       "male      147.0\n",
       "male        NaN\n",
       "male        NaN\n",
       "male        NaN\n",
       "Name: Height, dtype: float64"
      ]
     },
     "execution_count": 144,
     "metadata": {},
     "output_type": "execute_result"
    }
   ],
   "source": [
    "heights"
   ]
  },
  {
   "cell_type": "code",
   "execution_count": 145,
   "id": "b200a568-9cb3-41c3-bc59-8b35728809e1",
   "metadata": {},
   "outputs": [],
   "source": [
    "heights[heights.isna()] = [155, 145, 165]"
   ]
  },
  {
   "cell_type": "code",
   "execution_count": 146,
   "id": "5b39daaa-8814-474d-b943-a00d03d9d588",
   "metadata": {},
   "outputs": [
    {
     "data": {
      "text/plain": [
       "female    163.0\n",
       "female    160.0\n",
       "female    156.0\n",
       "male      156.0\n",
       "male      149.0\n",
       "female    148.0\n",
       "male      147.0\n",
       "male      155.0\n",
       "male      145.0\n",
       "male      165.0\n",
       "Name: Height, dtype: float64"
      ]
     },
     "execution_count": 146,
     "metadata": {},
     "output_type": "execute_result"
    }
   ],
   "source": [
    "heights"
   ]
  },
  {
   "cell_type": "code",
   "execution_count": 149,
   "id": "bb52dbe7-345e-432f-a305-48abcfc3c31e",
   "metadata": {},
   "outputs": [
    {
     "data": {
      "text/plain": [
       "male    156.0\n",
       "male    149.0\n",
       "male    147.0\n",
       "male    155.0\n",
       "male    145.0\n",
       "male    165.0\n",
       "Name: Height, dtype: float64"
      ]
     },
     "execution_count": 149,
     "metadata": {},
     "output_type": "execute_result"
    }
   ],
   "source": [
    "m = heights.loc['male'] # group-1\n",
    "m"
   ]
  },
  {
   "cell_type": "code",
   "execution_count": 150,
   "id": "70930508-6fdd-4373-8829-0e124c17b79f",
   "metadata": {},
   "outputs": [
    {
     "data": {
      "text/plain": [
       "female    163.0\n",
       "female    160.0\n",
       "female    156.0\n",
       "female    148.0\n",
       "Name: Height, dtype: float64"
      ]
     },
     "execution_count": 150,
     "metadata": {},
     "output_type": "execute_result"
    }
   ],
   "source": [
    "f = heights.loc['female'] # group-2\n",
    "f"
   ]
  },
  {
   "cell_type": "code",
   "execution_count": 151,
   "id": "7550765f-23eb-4e75-bf28-e3d6bee1ab4c",
   "metadata": {},
   "outputs": [
    {
     "data": {
      "text/plain": [
       "152.83333333333334"
      ]
     },
     "execution_count": 151,
     "metadata": {},
     "output_type": "execute_result"
    }
   ],
   "source": [
    "m.mean()"
   ]
  },
  {
   "cell_type": "code",
   "execution_count": 152,
   "id": "f993f4d1-f40a-4473-9c50-f8d6cc7efd88",
   "metadata": {},
   "outputs": [
    {
     "data": {
      "text/plain": [
       "156.75"
      ]
     },
     "execution_count": 152,
     "metadata": {},
     "output_type": "execute_result"
    }
   ],
   "source": [
    "f.mean()"
   ]
  },
  {
   "cell_type": "code",
   "execution_count": 159,
   "id": "982dc239-3ad9-476c-9e5e-c5d50ebea4a0",
   "metadata": {},
   "outputs": [
    {
     "data": {
      "text/plain": [
       "0      male\n",
       "1    female\n",
       "2    female\n",
       "3    female\n",
       "4      male\n",
       "5      male\n",
       "6    female\n",
       "dtype: object"
      ]
     },
     "execution_count": 159,
     "metadata": {},
     "output_type": "execute_result"
    }
   ],
   "source": [
    "s = pd.Series(['male', 'female', 'female', 'female', 'male','male', 'female'])\n",
    "s"
   ]
  },
  {
   "cell_type": "code",
   "execution_count": 160,
   "id": "949f0b44-082d-4452-bf0d-716a4ba07418",
   "metadata": {},
   "outputs": [
    {
     "data": {
      "text/plain": [
       "0    M\n",
       "1    F\n",
       "2    F\n",
       "3    F\n",
       "4    M\n",
       "5    M\n",
       "6    F\n",
       "dtype: object"
      ]
     },
     "execution_count": 160,
     "metadata": {},
     "output_type": "execute_result"
    }
   ],
   "source": [
    "s.apply(lambda v:v[0].upper())"
   ]
  },
  {
   "cell_type": "code",
   "execution_count": 161,
   "id": "02ee0342-c4ed-4b0a-a7a5-882a537c5963",
   "metadata": {},
   "outputs": [
    {
     "data": {
      "text/plain": [
       "0      male\n",
       "1    female\n",
       "2    female\n",
       "3    female\n",
       "4      male\n",
       "5      male\n",
       "6    female\n",
       "dtype: object"
      ]
     },
     "execution_count": 161,
     "metadata": {},
     "output_type": "execute_result"
    }
   ],
   "source": [
    "s"
   ]
  },
  {
   "cell_type": "code",
   "execution_count": 163,
   "id": "63f7f0df-a6a0-4f70-909d-a2c6e6e53f5f",
   "metadata": {},
   "outputs": [
    {
     "data": {
      "text/plain": [
       "0    1\n",
       "1    2\n",
       "2    2\n",
       "3    2\n",
       "4    1\n",
       "5    1\n",
       "6    2\n",
       "dtype: int64"
      ]
     },
     "execution_count": 163,
     "metadata": {},
     "output_type": "execute_result"
    }
   ],
   "source": [
    "s.map({'male': 1, 'female': 2})"
   ]
  },
  {
   "cell_type": "code",
   "execution_count": 166,
   "id": "34f98c76-87f4-4ade-a77b-9d54eaf432ae",
   "metadata": {},
   "outputs": [],
   "source": [
    "weight.iloc[[1, 4, 2, 7]] = np.nan"
   ]
  },
  {
   "cell_type": "code",
   "execution_count": 167,
   "id": "60bf726e-d184-46b5-a304-867a9b55bba3",
   "metadata": {},
   "outputs": [
    {
     "data": {
      "text/plain": [
       "shubham     58.0\n",
       "michael      NaN\n",
       "shruti       NaN\n",
       "ravi        88.0\n",
       "kushal       NaN\n",
       "vincent     60.0\n",
       "simran      75.0\n",
       "nidhi        NaN\n",
       "shivanki    68.0\n",
       "rajat       89.0\n",
       "dtype: float64"
      ]
     },
     "execution_count": 167,
     "metadata": {},
     "output_type": "execute_result"
    }
   ],
   "source": [
    "weight"
   ]
  },
  {
   "cell_type": "code",
   "execution_count": 168,
   "id": "7f934feb-af43-4dca-a62e-98c455204ee3",
   "metadata": {},
   "outputs": [
    {
     "data": {
      "text/plain": [
       "shubham     58.0\n",
       "ravi        88.0\n",
       "vincent     60.0\n",
       "simran      75.0\n",
       "shivanki    68.0\n",
       "rajat       89.0\n",
       "dtype: float64"
      ]
     },
     "execution_count": 168,
     "metadata": {},
     "output_type": "execute_result"
    }
   ],
   "source": [
    "weight.dropna() # form Transform"
   ]
  },
  {
   "cell_type": "code",
   "execution_count": 169,
   "id": "1216c8a8-2eee-466c-8de0-fedb38f0e372",
   "metadata": {},
   "outputs": [
    {
     "data": {
      "text/plain": [
       "73.0"
      ]
     },
     "execution_count": 169,
     "metadata": {},
     "output_type": "execute_result"
    }
   ],
   "source": [
    "weight.mean()"
   ]
  },
  {
   "cell_type": "markdown",
   "id": "dd87142d-462b-4490-a981-a6ceaf0a5661",
   "metadata": {},
   "source": [
    "#### Data Preprocessing\n",
    "\n",
    "    Transformation / Engineer\n",
    "\n",
    "        apply, fillna, map, groupby, ffill, bfill, dropna\n",
    "        \n",
    "        convert one form of data to another form\n",
    "\n",
    "            male, female --> 1, 2\n",
    "\n",
    "        groupby\n",
    "        \n",
    "            male -> group-1\n",
    "            female -> group-2\n",
    "\n",
    "    Aggrigation\n",
    "\n",
    "            summary functions which used to describe data in few points\n",
    "\n",
    "            sum, max, min, std, var, mean, median, ..."
   ]
  },
  {
   "cell_type": "code",
   "execution_count": 173,
   "id": "3d200a26-3da9-4d0f-9d98-4664a98dd953",
   "metadata": {},
   "outputs": [
    {
     "name": "stderr",
     "output_type": "stream",
     "text": [
      "/var/folders/92/77wzzgtd3b31048n9sf_9_qm0000gn/T/ipykernel_95893/142251453.py:1: FutureWarning: The default of observed=False is deprecated and will be changed to True in a future version of pandas. Pass observed=False to retain current behavior or observed=True to adopt the future default and silence this warning.\n",
      "  obj = heights.groupby(level=0) #\n"
     ]
    },
    {
     "data": {
      "text/plain": [
       "<pandas.core.groupby.generic.SeriesGroupBy object at 0x169e80b60>"
      ]
     },
     "execution_count": 173,
     "metadata": {},
     "output_type": "execute_result"
    }
   ],
   "source": [
    "obj = heights.groupby(level=0) # \n",
    "# groupby obj\n",
    "obj"
   ]
  },
  {
   "cell_type": "code",
   "execution_count": 174,
   "id": "0c516d2f-c38a-4f9e-98b8-94eb32933189",
   "metadata": {},
   "outputs": [
    {
     "data": {
      "text/plain": [
       "female    163.0\n",
       "female    160.0\n",
       "female    156.0\n",
       "male      156.0\n",
       "male      149.0\n",
       "female    148.0\n",
       "male      147.0\n",
       "male      155.0\n",
       "male      145.0\n",
       "male      165.0\n",
       "Name: Height, dtype: float64"
      ]
     },
     "execution_count": 174,
     "metadata": {},
     "output_type": "execute_result"
    }
   ],
   "source": [
    "heights"
   ]
  },
  {
   "cell_type": "code",
   "execution_count": 175,
   "id": "c098d021-7855-440b-8e8d-b5140c7ac500",
   "metadata": {},
   "outputs": [
    {
     "data": {
      "text/plain": [
       "{'female': ['female', 'female', 'female', 'female'], 'male': ['male', 'male', 'male', 'male', 'male', 'male']}"
      ]
     },
     "execution_count": 175,
     "metadata": {},
     "output_type": "execute_result"
    }
   ],
   "source": [
    "obj.groups\n",
    "# lazy\n",
    "# {'group label1': [i1, i3, i10, ...], 'group2': [i0, i11, i15....] }"
   ]
  },
  {
   "cell_type": "code",
   "execution_count": 177,
   "id": "704d5da1-c924-489c-87b6-1fb0db233535",
   "metadata": {},
   "outputs": [
    {
     "data": {
      "text/plain": [
       "CategoricalIndex(['female', 'female', 'female', 'female'], categories=['female', 'male'], ordered=False, dtype='category')"
      ]
     },
     "execution_count": 177,
     "metadata": {},
     "output_type": "execute_result"
    }
   ],
   "source": [
    "ix = obj.groups['female'] # female group indexes\n",
    "ix"
   ]
  },
  {
   "cell_type": "markdown",
   "id": "a09edfa3-a709-4c01-8dbd-5c64a9acdc21",
   "metadata": {},
   "source": [
    "`series.groupby(level=0).agg()`"
   ]
  },
  {
   "cell_type": "code",
   "execution_count": 180,
   "id": "3aadd24c-acfc-4318-9ece-115e11ef1889",
   "metadata": {},
   "outputs": [
    {
     "data": {
      "text/plain": [
       "female    163.0\n",
       "female    160.0\n",
       "female    156.0\n",
       "male      156.0\n",
       "male      149.0\n",
       "female    148.0\n",
       "male      147.0\n",
       "male      155.0\n",
       "male      145.0\n",
       "male      165.0\n",
       "Name: Height, dtype: float64"
      ]
     },
     "execution_count": 180,
     "metadata": {},
     "output_type": "execute_result"
    }
   ],
   "source": [
    "heights"
   ]
  },
  {
   "cell_type": "code",
   "execution_count": 182,
   "id": "700a4ee2-7042-4437-85ec-bbbe63454cdb",
   "metadata": {},
   "outputs": [],
   "source": [
    "import warnings\n",
    "warnings.filterwarnings(action='ignore')"
   ]
  },
  {
   "cell_type": "code",
   "execution_count": 183,
   "id": "43c13975-efaf-4a81-9d2c-81f43b997d6c",
   "metadata": {},
   "outputs": [
    {
     "data": {
      "text/plain": [
       "female    156.750000\n",
       "male      152.833333\n",
       "Name: Height, dtype: float64"
      ]
     },
     "execution_count": 183,
     "metadata": {},
     "output_type": "execute_result"
    }
   ],
   "source": [
    "heights.groupby(level=0).mean()\n",
    "# group -> male.mean(), female.mean()"
   ]
  },
  {
   "cell_type": "code",
   "execution_count": 188,
   "id": "7eb63601-63d2-41b2-ad6b-87fb390e8292",
   "metadata": {},
   "outputs": [
    {
     "data": {
      "text/html": [
       "<div>\n",
       "<style scoped>\n",
       "    .dataframe tbody tr th:only-of-type {\n",
       "        vertical-align: middle;\n",
       "    }\n",
       "\n",
       "    .dataframe tbody tr th {\n",
       "        vertical-align: top;\n",
       "    }\n",
       "\n",
       "    .dataframe thead th {\n",
       "        text-align: right;\n",
       "    }\n",
       "</style>\n",
       "<table border=\"1\" class=\"dataframe\">\n",
       "  <thead>\n",
       "    <tr style=\"text-align: right;\">\n",
       "      <th></th>\n",
       "      <th>count</th>\n",
       "      <th>mean</th>\n",
       "      <th>std</th>\n",
       "      <th>min</th>\n",
       "      <th>25%</th>\n",
       "      <th>50%</th>\n",
       "      <th>75%</th>\n",
       "      <th>max</th>\n",
       "    </tr>\n",
       "  </thead>\n",
       "  <tbody>\n",
       "    <tr>\n",
       "      <th>female</th>\n",
       "      <td>4.0</td>\n",
       "      <td>156.750000</td>\n",
       "      <td>6.500000</td>\n",
       "      <td>148.0</td>\n",
       "      <td>154.0</td>\n",
       "      <td>158.0</td>\n",
       "      <td>160.75</td>\n",
       "      <td>163.0</td>\n",
       "    </tr>\n",
       "    <tr>\n",
       "      <th>male</th>\n",
       "      <td>6.0</td>\n",
       "      <td>152.833333</td>\n",
       "      <td>7.386925</td>\n",
       "      <td>145.0</td>\n",
       "      <td>147.5</td>\n",
       "      <td>152.0</td>\n",
       "      <td>155.75</td>\n",
       "      <td>165.0</td>\n",
       "    </tr>\n",
       "  </tbody>\n",
       "</table>\n",
       "</div>"
      ],
      "text/plain": [
       "        count        mean       std    min    25%    50%     75%    max\n",
       "female    4.0  156.750000  6.500000  148.0  154.0  158.0  160.75  163.0\n",
       "male      6.0  152.833333  7.386925  145.0  147.5  152.0  155.75  165.0"
      ]
     },
     "execution_count": 188,
     "metadata": {},
     "output_type": "execute_result"
    }
   ],
   "source": [
    "heights.groupby(level=0).describe() # aggregate"
   ]
  },
  {
   "cell_type": "code",
   "execution_count": 191,
   "id": "31352251-08b7-457c-9bcf-4885b37ca820",
   "metadata": {},
   "outputs": [
    {
     "data": {
      "text/plain": [
       "<Axes: >"
      ]
     },
     "execution_count": 191,
     "metadata": {},
     "output_type": "execute_result"
    },
    {
     "data": {
      "image/png": "[encoded data removed]",
      "text/plain": [
       "<Figure size 640x480 with 1 Axes>"
      ]
     },
     "metadata": {},
     "output_type": "display_data"
    }
   ],
   "source": [
    "heights.hist()"
   ]
  },
  {
   "cell_type": "markdown",
   "id": "e96aca3b-d08d-487b-9152-c5de912d8c36",
   "metadata": {},
   "source": [
    "### Data Frame"
   ]
  },
  {
   "cell_type": "markdown",
   "id": "ccc3134e-9a89-43ea-b062-73a1d3b10fff",
   "metadata": {},
   "source": [
    "    data -> files csv files\n",
    "\n",
    "    sklearn, seaborn --> contains sample datasets "
   ]
  },
  {
   "cell_type": "code",
   "execution_count": 193,
   "id": "3e508a57-9845-4620-9d9d-56d52762d09d",
   "metadata": {},
   "outputs": [],
   "source": [
    "In [2]: df = pd.DataFrame(\n",
    "   ...:     {\n",
    "   ...:         \"Name\": [\n",
    "   ...:             \"Braund, Mr. Owen Harris\",\n",
    "   ...:             \"Allen, Mr. William Henry\",\n",
    "   ...:             \"Bonnell, Miss. Elizabeth\",\n",
    "   ...:         ],\n",
    "   ...:         \"Age\": [22, 35, 58],\n",
    "   ...:         \"Sex\": [\"male\", \"male\", \"female\"],\n",
    "   ...:     }\n",
    "   ...: )\n"
   ]
  },
  {
   "cell_type": "code",
   "execution_count": 194,
   "id": "e72c2380-b361-43bf-a952-71b72a6b4993",
   "metadata": {},
   "outputs": [
    {
     "data": {
      "text/html": [
       "<div>\n",
       "<style scoped>\n",
       "    .dataframe tbody tr th:only-of-type {\n",
       "        vertical-align: middle;\n",
       "    }\n",
       "\n",
       "    .dataframe tbody tr th {\n",
       "        vertical-align: top;\n",
       "    }\n",
       "\n",
       "    .dataframe thead th {\n",
       "        text-align: right;\n",
       "    }\n",
       "</style>\n",
       "<table border=\"1\" class=\"dataframe\">\n",
       "  <thead>\n",
       "    <tr style=\"text-align: right;\">\n",
       "      <th></th>\n",
       "      <th>Name</th>\n",
       "      <th>Age</th>\n",
       "      <th>Sex</th>\n",
       "    </tr>\n",
       "  </thead>\n",
       "  <tbody>\n",
       "    <tr>\n",
       "      <th>0</th>\n",
       "      <td>Braund, Mr. Owen Harris</td>\n",
       "      <td>22</td>\n",
       "      <td>male</td>\n",
       "    </tr>\n",
       "    <tr>\n",
       "      <th>1</th>\n",
       "      <td>Allen, Mr. William Henry</td>\n",
       "      <td>35</td>\n",
       "      <td>male</td>\n",
       "    </tr>\n",
       "    <tr>\n",
       "      <th>2</th>\n",
       "      <td>Bonnell, Miss. Elizabeth</td>\n",
       "      <td>58</td>\n",
       "      <td>female</td>\n",
       "    </tr>\n",
       "  </tbody>\n",
       "</table>\n",
       "</div>"
      ],
      "text/plain": [
       "                       Name  Age     Sex\n",
       "0   Braund, Mr. Owen Harris   22    male\n",
       "1  Allen, Mr. William Henry   35    male\n",
       "2  Bonnell, Miss. Elizabeth   58  female"
      ]
     },
     "execution_count": 194,
     "metadata": {},
     "output_type": "execute_result"
    }
   ],
   "source": [
    "df"
   ]
  },
  {
   "cell_type": "code",
   "execution_count": 195,
   "id": "29f4fcf2-864e-449a-97a7-8467ff77d038",
   "metadata": {},
   "outputs": [
    {
     "data": {
      "text/plain": [
       "Index(['Name', 'Age', 'Sex'], dtype='object')"
      ]
     },
     "execution_count": 195,
     "metadata": {},
     "output_type": "execute_result"
    }
   ],
   "source": [
    "df.columns # axis-1 index"
   ]
  },
  {
   "cell_type": "code",
   "execution_count": 196,
   "id": "f0d300be-4023-47d6-9d6b-ec4f6211222b",
   "metadata": {},
   "outputs": [
    {
     "data": {
      "text/plain": [
       "RangeIndex(start=0, stop=3, step=1)"
      ]
     },
     "execution_count": 196,
     "metadata": {},
     "output_type": "execute_result"
    }
   ],
   "source": [
    "df.index # axis-0 index"
   ]
  },
  {
   "cell_type": "code",
   "execution_count": 202,
   "id": "dfca7913-a874-4a21-bde2-4ff4c9dd8fea",
   "metadata": {},
   "outputs": [
    {
     "data": {
      "text/html": [
       "<div>\n",
       "<style scoped>\n",
       "    .dataframe tbody tr th:only-of-type {\n",
       "        vertical-align: middle;\n",
       "    }\n",
       "\n",
       "    .dataframe tbody tr th {\n",
       "        vertical-align: top;\n",
       "    }\n",
       "\n",
       "    .dataframe thead th {\n",
       "        text-align: right;\n",
       "    }\n",
       "</style>\n",
       "<table border=\"1\" class=\"dataframe\">\n",
       "  <thead>\n",
       "    <tr style=\"text-align: right;\">\n",
       "      <th></th>\n",
       "      <th>Name</th>\n",
       "      <th>Age</th>\n",
       "      <th>Sex</th>\n",
       "    </tr>\n",
       "  </thead>\n",
       "  <tbody>\n",
       "    <tr>\n",
       "      <th>1</th>\n",
       "      <td>Allen, Mr. William Henry</td>\n",
       "      <td>35</td>\n",
       "      <td>male</td>\n",
       "    </tr>\n",
       "    <tr>\n",
       "      <th>2</th>\n",
       "      <td>Bonnell, Miss. Elizabeth</td>\n",
       "      <td>58</td>\n",
       "      <td>female</td>\n",
       "    </tr>\n",
       "  </tbody>\n",
       "</table>\n",
       "</div>"
      ],
      "text/plain": [
       "                       Name  Age     Sex\n",
       "1  Allen, Mr. William Henry   35    male\n",
       "2  Bonnell, Miss. Elizabeth   58  female"
      ]
     },
     "execution_count": 202,
     "metadata": {},
     "output_type": "execute_result"
    }
   ],
   "source": [
    "df[-2:] # slicing throgh rows"
   ]
  },
  {
   "cell_type": "code",
   "execution_count": 203,
   "id": "04c7a523-3593-4d53-82f9-28ca087ba235",
   "metadata": {},
   "outputs": [
    {
     "data": {
      "text/html": [
       "<div>\n",
       "<style scoped>\n",
       "    .dataframe tbody tr th:only-of-type {\n",
       "        vertical-align: middle;\n",
       "    }\n",
       "\n",
       "    .dataframe tbody tr th {\n",
       "        vertical-align: top;\n",
       "    }\n",
       "\n",
       "    .dataframe thead th {\n",
       "        text-align: right;\n",
       "    }\n",
       "</style>\n",
       "<table border=\"1\" class=\"dataframe\">\n",
       "  <thead>\n",
       "    <tr style=\"text-align: right;\">\n",
       "      <th></th>\n",
       "      <th>Name</th>\n",
       "      <th>Sex</th>\n",
       "    </tr>\n",
       "  </thead>\n",
       "  <tbody>\n",
       "    <tr>\n",
       "      <th>0</th>\n",
       "      <td>Braund, Mr. Owen Harris</td>\n",
       "      <td>male</td>\n",
       "    </tr>\n",
       "    <tr>\n",
       "      <th>1</th>\n",
       "      <td>Allen, Mr. William Henry</td>\n",
       "      <td>male</td>\n",
       "    </tr>\n",
       "    <tr>\n",
       "      <th>2</th>\n",
       "      <td>Bonnell, Miss. Elizabeth</td>\n",
       "      <td>female</td>\n",
       "    </tr>\n",
       "  </tbody>\n",
       "</table>\n",
       "</div>"
      ],
      "text/plain": [
       "                       Name     Sex\n",
       "0   Braund, Mr. Owen Harris    male\n",
       "1  Allen, Mr. William Henry    male\n",
       "2  Bonnell, Miss. Elizabeth  female"
      ]
     },
     "execution_count": 203,
     "metadata": {},
     "output_type": "execute_result"
    }
   ],
   "source": [
    "df[[\"Name\", \"Sex\"]]"
   ]
  },
  {
   "cell_type": "code",
   "execution_count": 204,
   "id": "d996c4dd-f187-40ed-b5e6-857c176f12a1",
   "metadata": {},
   "outputs": [
    {
     "data": {
      "text/html": [
       "<div>\n",
       "<style scoped>\n",
       "    .dataframe tbody tr th:only-of-type {\n",
       "        vertical-align: middle;\n",
       "    }\n",
       "\n",
       "    .dataframe tbody tr th {\n",
       "        vertical-align: top;\n",
       "    }\n",
       "\n",
       "    .dataframe thead th {\n",
       "        text-align: right;\n",
       "    }\n",
       "</style>\n",
       "<table border=\"1\" class=\"dataframe\">\n",
       "  <thead>\n",
       "    <tr style=\"text-align: right;\">\n",
       "      <th></th>\n",
       "      <th>Name</th>\n",
       "      <th>Age</th>\n",
       "      <th>Sex</th>\n",
       "    </tr>\n",
       "  </thead>\n",
       "  <tbody>\n",
       "    <tr>\n",
       "      <th>0</th>\n",
       "      <td>Braund, Mr. Owen Harris</td>\n",
       "      <td>22</td>\n",
       "      <td>male</td>\n",
       "    </tr>\n",
       "    <tr>\n",
       "      <th>1</th>\n",
       "      <td>Allen, Mr. William Henry</td>\n",
       "      <td>35</td>\n",
       "      <td>male</td>\n",
       "    </tr>\n",
       "    <tr>\n",
       "      <th>2</th>\n",
       "      <td>Bonnell, Miss. Elizabeth</td>\n",
       "      <td>58</td>\n",
       "      <td>female</td>\n",
       "    </tr>\n",
       "  </tbody>\n",
       "</table>\n",
       "</div>"
      ],
      "text/plain": [
       "                       Name  Age     Sex\n",
       "0   Braund, Mr. Owen Harris   22    male\n",
       "1  Allen, Mr. William Henry   35    male\n",
       "2  Bonnell, Miss. Elizabeth   58  female"
      ]
     },
     "execution_count": 204,
     "metadata": {},
     "output_type": "execute_result"
    }
   ],
   "source": [
    "df"
   ]
  },
  {
   "cell_type": "code",
   "execution_count": 205,
   "id": "304b591a-540d-48e6-8ecd-83ce015a02f6",
   "metadata": {},
   "outputs": [
    {
     "data": {
      "text/html": [
       "<div>\n",
       "<style scoped>\n",
       "    .dataframe tbody tr th:only-of-type {\n",
       "        vertical-align: middle;\n",
       "    }\n",
       "\n",
       "    .dataframe tbody tr th {\n",
       "        vertical-align: top;\n",
       "    }\n",
       "\n",
       "    .dataframe thead th {\n",
       "        text-align: right;\n",
       "    }\n",
       "</style>\n",
       "<table border=\"1\" class=\"dataframe\">\n",
       "  <thead>\n",
       "    <tr style=\"text-align: right;\">\n",
       "      <th></th>\n",
       "      <th>Name</th>\n",
       "      <th>Age</th>\n",
       "      <th>Sex</th>\n",
       "    </tr>\n",
       "  </thead>\n",
       "  <tbody>\n",
       "    <tr>\n",
       "      <th>0</th>\n",
       "      <td>Braund, Mr. Owen Harris</td>\n",
       "      <td>22</td>\n",
       "      <td>male</td>\n",
       "    </tr>\n",
       "    <tr>\n",
       "      <th>2</th>\n",
       "      <td>Bonnell, Miss. Elizabeth</td>\n",
       "      <td>58</td>\n",
       "      <td>female</td>\n",
       "    </tr>\n",
       "  </tbody>\n",
       "</table>\n",
       "</div>"
      ],
      "text/plain": [
       "                       Name  Age     Sex\n",
       "0   Braund, Mr. Owen Harris   22    male\n",
       "2  Bonnell, Miss. Elizabeth   58  female"
      ]
     },
     "execution_count": 205,
     "metadata": {},
     "output_type": "execute_result"
    }
   ],
   "source": [
    "df.loc[[0, 2], ]"
   ]
  },
  {
   "cell_type": "code",
   "execution_count": 207,
   "id": "4e75c610-583b-4856-9153-38d5eebfeef5",
   "metadata": {},
   "outputs": [
    {
     "data": {
      "text/html": [
       "<div>\n",
       "<style scoped>\n",
       "    .dataframe tbody tr th:only-of-type {\n",
       "        vertical-align: middle;\n",
       "    }\n",
       "\n",
       "    .dataframe tbody tr th {\n",
       "        vertical-align: top;\n",
       "    }\n",
       "\n",
       "    .dataframe thead th {\n",
       "        text-align: right;\n",
       "    }\n",
       "</style>\n",
       "<table border=\"1\" class=\"dataframe\">\n",
       "  <thead>\n",
       "    <tr style=\"text-align: right;\">\n",
       "      <th></th>\n",
       "      <th>Name</th>\n",
       "      <th>Age</th>\n",
       "    </tr>\n",
       "  </thead>\n",
       "  <tbody>\n",
       "    <tr>\n",
       "      <th>0</th>\n",
       "      <td>Braund, Mr. Owen Harris</td>\n",
       "      <td>22</td>\n",
       "    </tr>\n",
       "    <tr>\n",
       "      <th>1</th>\n",
       "      <td>Allen, Mr. William Henry</td>\n",
       "      <td>35</td>\n",
       "    </tr>\n",
       "    <tr>\n",
       "      <th>2</th>\n",
       "      <td>Bonnell, Miss. Elizabeth</td>\n",
       "      <td>58</td>\n",
       "    </tr>\n",
       "  </tbody>\n",
       "</table>\n",
       "</div>"
      ],
      "text/plain": [
       "                       Name  Age\n",
       "0   Braund, Mr. Owen Harris   22\n",
       "1  Allen, Mr. William Henry   35\n",
       "2  Bonnell, Miss. Elizabeth   58"
      ]
     },
     "execution_count": 207,
     "metadata": {},
     "output_type": "execute_result"
    }
   ],
   "source": [
    "df.loc[:, [\"Name\", \"Age\"]]"
   ]
  },
  {
   "cell_type": "code",
   "execution_count": 208,
   "id": "fee24a8a-62c8-4dcb-a583-8fb454397747",
   "metadata": {},
   "outputs": [
    {
     "data": {
      "text/html": [
       "<div>\n",
       "<style scoped>\n",
       "    .dataframe tbody tr th:only-of-type {\n",
       "        vertical-align: middle;\n",
       "    }\n",
       "\n",
       "    .dataframe tbody tr th {\n",
       "        vertical-align: top;\n",
       "    }\n",
       "\n",
       "    .dataframe thead th {\n",
       "        text-align: right;\n",
       "    }\n",
       "</style>\n",
       "<table border=\"1\" class=\"dataframe\">\n",
       "  <thead>\n",
       "    <tr style=\"text-align: right;\">\n",
       "      <th></th>\n",
       "      <th>Name</th>\n",
       "      <th>Age</th>\n",
       "      <th>Sex</th>\n",
       "    </tr>\n",
       "  </thead>\n",
       "  <tbody>\n",
       "    <tr>\n",
       "      <th>0</th>\n",
       "      <td>Braund, Mr. Owen Harris</td>\n",
       "      <td>22</td>\n",
       "      <td>male</td>\n",
       "    </tr>\n",
       "    <tr>\n",
       "      <th>1</th>\n",
       "      <td>Allen, Mr. William Henry</td>\n",
       "      <td>35</td>\n",
       "      <td>male</td>\n",
       "    </tr>\n",
       "    <tr>\n",
       "      <th>2</th>\n",
       "      <td>Bonnell, Miss. Elizabeth</td>\n",
       "      <td>58</td>\n",
       "      <td>female</td>\n",
       "    </tr>\n",
       "  </tbody>\n",
       "</table>\n",
       "</div>"
      ],
      "text/plain": [
       "                       Name  Age     Sex\n",
       "0   Braund, Mr. Owen Harris   22    male\n",
       "1  Allen, Mr. William Henry   35    male\n",
       "2  Bonnell, Miss. Elizabeth   58  female"
      ]
     },
     "execution_count": 208,
     "metadata": {},
     "output_type": "execute_result"
    }
   ],
   "source": [
    "df"
   ]
  },
  {
   "cell_type": "markdown",
   "id": "bafdf58c-7a37-4d3c-969d-08943316994a",
   "metadata": {},
   "source": [
    "    df.loc[rownames, colnames]\n",
    "    df.iloc[rowindexes, colindexes]"
   ]
  },
  {
   "cell_type": "code",
   "execution_count": 209,
   "id": "a633a4ae-e5ce-45ad-ac64-4eeff92059c0",
   "metadata": {},
   "outputs": [
    {
     "data": {
      "text/html": [
       "<div>\n",
       "<style scoped>\n",
       "    .dataframe tbody tr th:only-of-type {\n",
       "        vertical-align: middle;\n",
       "    }\n",
       "\n",
       "    .dataframe tbody tr th {\n",
       "        vertical-align: top;\n",
       "    }\n",
       "\n",
       "    .dataframe thead th {\n",
       "        text-align: right;\n",
       "    }\n",
       "</style>\n",
       "<table border=\"1\" class=\"dataframe\">\n",
       "  <thead>\n",
       "    <tr style=\"text-align: right;\">\n",
       "      <th></th>\n",
       "      <th>Name</th>\n",
       "      <th>Sex</th>\n",
       "    </tr>\n",
       "  </thead>\n",
       "  <tbody>\n",
       "    <tr>\n",
       "      <th>0</th>\n",
       "      <td>Braund, Mr. Owen Harris</td>\n",
       "      <td>male</td>\n",
       "    </tr>\n",
       "    <tr>\n",
       "      <th>2</th>\n",
       "      <td>Bonnell, Miss. Elizabeth</td>\n",
       "      <td>female</td>\n",
       "    </tr>\n",
       "  </tbody>\n",
       "</table>\n",
       "</div>"
      ],
      "text/plain": [
       "                       Name     Sex\n",
       "0   Braund, Mr. Owen Harris    male\n",
       "2  Bonnell, Miss. Elizabeth  female"
      ]
     },
     "execution_count": 209,
     "metadata": {},
     "output_type": "execute_result"
    }
   ],
   "source": [
    "df.loc[[0, 2], [\"Name\", \"Sex\"]] # output ? "
   ]
  },
  {
   "cell_type": "code",
   "execution_count": 210,
   "id": "b48f31da-67c9-4460-b11a-098b5d1538f7",
   "metadata": {},
   "outputs": [],
   "source": [
    "df.iloc[2, 1] = 50"
   ]
  },
  {
   "cell_type": "code",
   "execution_count": 211,
   "id": "43a0ae4b-1832-45e4-a936-4327153539b4",
   "metadata": {},
   "outputs": [
    {
     "data": {
      "text/html": [
       "<div>\n",
       "<style scoped>\n",
       "    .dataframe tbody tr th:only-of-type {\n",
       "        vertical-align: middle;\n",
       "    }\n",
       "\n",
       "    .dataframe tbody tr th {\n",
       "        vertical-align: top;\n",
       "    }\n",
       "\n",
       "    .dataframe thead th {\n",
       "        text-align: right;\n",
       "    }\n",
       "</style>\n",
       "<table border=\"1\" class=\"dataframe\">\n",
       "  <thead>\n",
       "    <tr style=\"text-align: right;\">\n",
       "      <th></th>\n",
       "      <th>Name</th>\n",
       "      <th>Age</th>\n",
       "      <th>Sex</th>\n",
       "    </tr>\n",
       "  </thead>\n",
       "  <tbody>\n",
       "    <tr>\n",
       "      <th>0</th>\n",
       "      <td>Braund, Mr. Owen Harris</td>\n",
       "      <td>22</td>\n",
       "      <td>male</td>\n",
       "    </tr>\n",
       "    <tr>\n",
       "      <th>1</th>\n",
       "      <td>Allen, Mr. William Henry</td>\n",
       "      <td>35</td>\n",
       "      <td>male</td>\n",
       "    </tr>\n",
       "    <tr>\n",
       "      <th>2</th>\n",
       "      <td>Bonnell, Miss. Elizabeth</td>\n",
       "      <td>50</td>\n",
       "      <td>female</td>\n",
       "    </tr>\n",
       "  </tbody>\n",
       "</table>\n",
       "</div>"
      ],
      "text/plain": [
       "                       Name  Age     Sex\n",
       "0   Braund, Mr. Owen Harris   22    male\n",
       "1  Allen, Mr. William Henry   35    male\n",
       "2  Bonnell, Miss. Elizabeth   50  female"
      ]
     },
     "execution_count": 211,
     "metadata": {},
     "output_type": "execute_result"
    }
   ],
   "source": [
    "df"
   ]
  },
  {
   "cell_type": "code",
   "execution_count": 213,
   "id": "890c4015-2186-4b3f-aed5-5a5b77f768e2",
   "metadata": {},
   "outputs": [],
   "source": [
    "df.loc[0, \"Age\"] = 30"
   ]
  },
  {
   "cell_type": "code",
   "execution_count": 214,
   "id": "e8627778-56c7-4f27-b4d9-a1d2dee77715",
   "metadata": {},
   "outputs": [
    {
     "data": {
      "text/html": [
       "<div>\n",
       "<style scoped>\n",
       "    .dataframe tbody tr th:only-of-type {\n",
       "        vertical-align: middle;\n",
       "    }\n",
       "\n",
       "    .dataframe tbody tr th {\n",
       "        vertical-align: top;\n",
       "    }\n",
       "\n",
       "    .dataframe thead th {\n",
       "        text-align: right;\n",
       "    }\n",
       "</style>\n",
       "<table border=\"1\" class=\"dataframe\">\n",
       "  <thead>\n",
       "    <tr style=\"text-align: right;\">\n",
       "      <th></th>\n",
       "      <th>Name</th>\n",
       "      <th>Age</th>\n",
       "      <th>Sex</th>\n",
       "    </tr>\n",
       "  </thead>\n",
       "  <tbody>\n",
       "    <tr>\n",
       "      <th>0</th>\n",
       "      <td>Braund, Mr. Owen Harris</td>\n",
       "      <td>30</td>\n",
       "      <td>male</td>\n",
       "    </tr>\n",
       "    <tr>\n",
       "      <th>1</th>\n",
       "      <td>Allen, Mr. William Henry</td>\n",
       "      <td>35</td>\n",
       "      <td>male</td>\n",
       "    </tr>\n",
       "    <tr>\n",
       "      <th>2</th>\n",
       "      <td>Bonnell, Miss. Elizabeth</td>\n",
       "      <td>50</td>\n",
       "      <td>female</td>\n",
       "    </tr>\n",
       "  </tbody>\n",
       "</table>\n",
       "</div>"
      ],
      "text/plain": [
       "                       Name  Age     Sex\n",
       "0   Braund, Mr. Owen Harris   30    male\n",
       "1  Allen, Mr. William Henry   35    male\n",
       "2  Bonnell, Miss. Elizabeth   50  female"
      ]
     },
     "execution_count": 214,
     "metadata": {},
     "output_type": "execute_result"
    }
   ],
   "source": [
    "df"
   ]
  },
  {
   "cell_type": "code",
   "execution_count": 215,
   "id": "2eb51be9-5a89-4afb-8651-a6a05edf643c",
   "metadata": {},
   "outputs": [
    {
     "data": {
      "text/plain": [
       "0    30\n",
       "1    35\n",
       "2    50\n",
       "Name: Age, dtype: int64"
      ]
     },
     "execution_count": 215,
     "metadata": {},
     "output_type": "execute_result"
    }
   ],
   "source": [
    "df[\"Age\"] # Series"
   ]
  },
  {
   "cell_type": "code",
   "execution_count": 216,
   "id": "9b9c8a72-9d13-4db7-8c0c-ea463d775a64",
   "metadata": {},
   "outputs": [
    {
     "data": {
      "text/html": [
       "<div>\n",
       "<style scoped>\n",
       "    .dataframe tbody tr th:only-of-type {\n",
       "        vertical-align: middle;\n",
       "    }\n",
       "\n",
       "    .dataframe tbody tr th {\n",
       "        vertical-align: top;\n",
       "    }\n",
       "\n",
       "    .dataframe thead th {\n",
       "        text-align: right;\n",
       "    }\n",
       "</style>\n",
       "<table border=\"1\" class=\"dataframe\">\n",
       "  <thead>\n",
       "    <tr style=\"text-align: right;\">\n",
       "      <th></th>\n",
       "      <th>Age</th>\n",
       "    </tr>\n",
       "  </thead>\n",
       "  <tbody>\n",
       "    <tr>\n",
       "      <th>0</th>\n",
       "      <td>30</td>\n",
       "    </tr>\n",
       "    <tr>\n",
       "      <th>1</th>\n",
       "      <td>35</td>\n",
       "    </tr>\n",
       "    <tr>\n",
       "      <th>2</th>\n",
       "      <td>50</td>\n",
       "    </tr>\n",
       "  </tbody>\n",
       "</table>\n",
       "</div>"
      ],
      "text/plain": [
       "   Age\n",
       "0   30\n",
       "1   35\n",
       "2   50"
      ]
     },
     "execution_count": 216,
     "metadata": {},
     "output_type": "execute_result"
    }
   ],
   "source": [
    "df[[\"Age\"]] # DataFrame"
   ]
  },
  {
   "cell_type": "code",
   "execution_count": 217,
   "id": "da90a0ce-c81b-41cb-aca3-63b463a81faf",
   "metadata": {},
   "outputs": [
    {
     "data": {
      "text/html": [
       "<div>\n",
       "<style scoped>\n",
       "    .dataframe tbody tr th:only-of-type {\n",
       "        vertical-align: middle;\n",
       "    }\n",
       "\n",
       "    .dataframe tbody tr th {\n",
       "        vertical-align: top;\n",
       "    }\n",
       "\n",
       "    .dataframe thead th {\n",
       "        text-align: right;\n",
       "    }\n",
       "</style>\n",
       "<table border=\"1\" class=\"dataframe\">\n",
       "  <thead>\n",
       "    <tr style=\"text-align: right;\">\n",
       "      <th></th>\n",
       "      <th>Name</th>\n",
       "      <th>Age</th>\n",
       "      <th>Sex</th>\n",
       "    </tr>\n",
       "  </thead>\n",
       "  <tbody>\n",
       "    <tr>\n",
       "      <th>0</th>\n",
       "      <td>Braund, Mr. Owen Harris</td>\n",
       "      <td>30</td>\n",
       "      <td>male</td>\n",
       "    </tr>\n",
       "    <tr>\n",
       "      <th>1</th>\n",
       "      <td>Allen, Mr. William Henry</td>\n",
       "      <td>35</td>\n",
       "      <td>male</td>\n",
       "    </tr>\n",
       "    <tr>\n",
       "      <th>2</th>\n",
       "      <td>Bonnell, Miss. Elizabeth</td>\n",
       "      <td>50</td>\n",
       "      <td>female</td>\n",
       "    </tr>\n",
       "  </tbody>\n",
       "</table>\n",
       "</div>"
      ],
      "text/plain": [
       "                       Name  Age     Sex\n",
       "0   Braund, Mr. Owen Harris   30    male\n",
       "1  Allen, Mr. William Henry   35    male\n",
       "2  Bonnell, Miss. Elizabeth   50  female"
      ]
     },
     "execution_count": 217,
     "metadata": {},
     "output_type": "execute_result"
    }
   ],
   "source": [
    "df"
   ]
  },
  {
   "cell_type": "code",
   "execution_count": 219,
   "id": "2df918d8-acde-49a5-b7f0-2964f76efbd0",
   "metadata": {},
   "outputs": [],
   "source": [
    "df[\"Salary\"] = [50, 40, 30]"
   ]
  },
  {
   "cell_type": "code",
   "execution_count": 221,
   "id": "2b7c13a0-5628-4e17-ac66-eea22ec9cf29",
   "metadata": {},
   "outputs": [
    {
     "data": {
      "text/html": [
       "<div>\n",
       "<style scoped>\n",
       "    .dataframe tbody tr th:only-of-type {\n",
       "        vertical-align: middle;\n",
       "    }\n",
       "\n",
       "    .dataframe tbody tr th {\n",
       "        vertical-align: top;\n",
       "    }\n",
       "\n",
       "    .dataframe thead th {\n",
       "        text-align: right;\n",
       "    }\n",
       "</style>\n",
       "<table border=\"1\" class=\"dataframe\">\n",
       "  <thead>\n",
       "    <tr style=\"text-align: right;\">\n",
       "      <th></th>\n",
       "      <th>Name</th>\n",
       "      <th>Age</th>\n",
       "      <th>Sex</th>\n",
       "      <th>Salary</th>\n",
       "    </tr>\n",
       "  </thead>\n",
       "  <tbody>\n",
       "    <tr>\n",
       "      <th>0</th>\n",
       "      <td>Braund, Mr. Owen Harris</td>\n",
       "      <td>30</td>\n",
       "      <td>male</td>\n",
       "      <td>50</td>\n",
       "    </tr>\n",
       "    <tr>\n",
       "      <th>1</th>\n",
       "      <td>Allen, Mr. William Henry</td>\n",
       "      <td>35</td>\n",
       "      <td>male</td>\n",
       "      <td>40</td>\n",
       "    </tr>\n",
       "    <tr>\n",
       "      <th>2</th>\n",
       "      <td>Bonnell, Miss. Elizabeth</td>\n",
       "      <td>50</td>\n",
       "      <td>female</td>\n",
       "      <td>30</td>\n",
       "    </tr>\n",
       "  </tbody>\n",
       "</table>\n",
       "</div>"
      ],
      "text/plain": [
       "                       Name  Age     Sex  Salary\n",
       "0   Braund, Mr. Owen Harris   30    male      50\n",
       "1  Allen, Mr. William Henry   35    male      40\n",
       "2  Bonnell, Miss. Elizabeth   50  female      30"
      ]
     },
     "execution_count": 221,
     "metadata": {},
     "output_type": "execute_result"
    }
   ],
   "source": [
    "df"
   ]
  },
  {
   "cell_type": "code",
   "execution_count": 220,
   "id": "8b241104-c155-4b95-aabc-cac4e1732826",
   "metadata": {},
   "outputs": [
    {
     "data": {
      "text/plain": [
       "Name      Braund, Mr. Owen Harris\n",
       "Age                            50\n",
       "Sex                          male\n",
       "Salary                         50\n",
       "dtype: object"
      ]
     },
     "execution_count": 220,
     "metadata": {},
     "output_type": "execute_result"
    }
   ],
   "source": [
    "df.max() # default operation -> column wise"
   ]
  },
  {
   "cell_type": "code",
   "execution_count": 222,
   "id": "76378019-bd23-417d-9af3-04bfed1a0058",
   "metadata": {},
   "outputs": [
    {
     "data": {
      "text/plain": [
       "Age       50\n",
       "Salary    50\n",
       "dtype: int64"
      ]
     },
     "execution_count": 222,
     "metadata": {},
     "output_type": "execute_result"
    }
   ],
   "source": [
    "df[[\"Age\", \"Salary\"]].max()"
   ]
  },
  {
   "cell_type": "code",
   "execution_count": 223,
   "id": "3d9da4c3-79a8-4a70-bed8-689eef41afcc",
   "metadata": {},
   "outputs": [
    {
     "data": {
      "text/html": [
       "<div>\n",
       "<style scoped>\n",
       "    .dataframe tbody tr th:only-of-type {\n",
       "        vertical-align: middle;\n",
       "    }\n",
       "\n",
       "    .dataframe tbody tr th {\n",
       "        vertical-align: top;\n",
       "    }\n",
       "\n",
       "    .dataframe thead th {\n",
       "        text-align: right;\n",
       "    }\n",
       "</style>\n",
       "<table border=\"1\" class=\"dataframe\">\n",
       "  <thead>\n",
       "    <tr style=\"text-align: right;\">\n",
       "      <th></th>\n",
       "      <th>Name</th>\n",
       "      <th>Age</th>\n",
       "      <th>Sex</th>\n",
       "      <th>Salary</th>\n",
       "    </tr>\n",
       "  </thead>\n",
       "  <tbody>\n",
       "    <tr>\n",
       "      <th>0</th>\n",
       "      <td>Braund, Mr. Owen Harris</td>\n",
       "      <td>30</td>\n",
       "      <td>male</td>\n",
       "      <td>50</td>\n",
       "    </tr>\n",
       "    <tr>\n",
       "      <th>1</th>\n",
       "      <td>Allen, Mr. William Henry</td>\n",
       "      <td>35</td>\n",
       "      <td>male</td>\n",
       "      <td>40</td>\n",
       "    </tr>\n",
       "    <tr>\n",
       "      <th>2</th>\n",
       "      <td>Bonnell, Miss. Elizabeth</td>\n",
       "      <td>50</td>\n",
       "      <td>female</td>\n",
       "      <td>30</td>\n",
       "    </tr>\n",
       "  </tbody>\n",
       "</table>\n",
       "</div>"
      ],
      "text/plain": [
       "                       Name  Age     Sex  Salary\n",
       "0   Braund, Mr. Owen Harris   30    male      50\n",
       "1  Allen, Mr. William Henry   35    male      40\n",
       "2  Bonnell, Miss. Elizabeth   50  female      30"
      ]
     },
     "execution_count": 223,
     "metadata": {},
     "output_type": "execute_result"
    }
   ],
   "source": [
    "df"
   ]
  },
  {
   "cell_type": "code",
   "execution_count": 225,
   "id": "70d85641-4b83-44b5-bd6f-eadd04299393",
   "metadata": {},
   "outputs": [
    {
     "data": {
      "text/plain": [
       "Age       38.333333\n",
       "Salary    40.000000\n",
       "dtype: float64"
      ]
     },
     "execution_count": 225,
     "metadata": {},
     "output_type": "execute_result"
    }
   ],
   "source": [
    "df.mean(numeric_only=True) # default -> column"
   ]
  },
  {
   "cell_type": "code",
   "execution_count": 226,
   "id": "c48f8e63-98c6-4d55-999e-47e75877d3f4",
   "metadata": {},
   "outputs": [
    {
     "data": {
      "text/html": [
       "<div>\n",
       "<style scoped>\n",
       "    .dataframe tbody tr th:only-of-type {\n",
       "        vertical-align: middle;\n",
       "    }\n",
       "\n",
       "    .dataframe tbody tr th {\n",
       "        vertical-align: top;\n",
       "    }\n",
       "\n",
       "    .dataframe thead th {\n",
       "        text-align: right;\n",
       "    }\n",
       "</style>\n",
       "<table border=\"1\" class=\"dataframe\">\n",
       "  <thead>\n",
       "    <tr style=\"text-align: right;\">\n",
       "      <th></th>\n",
       "      <th>Age</th>\n",
       "      <th>Salary</th>\n",
       "    </tr>\n",
       "  </thead>\n",
       "  <tbody>\n",
       "    <tr>\n",
       "      <th>count</th>\n",
       "      <td>3.000000</td>\n",
       "      <td>3.0</td>\n",
       "    </tr>\n",
       "    <tr>\n",
       "      <th>mean</th>\n",
       "      <td>38.333333</td>\n",
       "      <td>40.0</td>\n",
       "    </tr>\n",
       "    <tr>\n",
       "      <th>std</th>\n",
       "      <td>10.408330</td>\n",
       "      <td>10.0</td>\n",
       "    </tr>\n",
       "    <tr>\n",
       "      <th>min</th>\n",
       "      <td>30.000000</td>\n",
       "      <td>30.0</td>\n",
       "    </tr>\n",
       "    <tr>\n",
       "      <th>25%</th>\n",
       "      <td>32.500000</td>\n",
       "      <td>35.0</td>\n",
       "    </tr>\n",
       "    <tr>\n",
       "      <th>50%</th>\n",
       "      <td>35.000000</td>\n",
       "      <td>40.0</td>\n",
       "    </tr>\n",
       "    <tr>\n",
       "      <th>75%</th>\n",
       "      <td>42.500000</td>\n",
       "      <td>45.0</td>\n",
       "    </tr>\n",
       "    <tr>\n",
       "      <th>max</th>\n",
       "      <td>50.000000</td>\n",
       "      <td>50.0</td>\n",
       "    </tr>\n",
       "  </tbody>\n",
       "</table>\n",
       "</div>"
      ],
      "text/plain": [
       "             Age  Salary\n",
       "count   3.000000     3.0\n",
       "mean   38.333333    40.0\n",
       "std    10.408330    10.0\n",
       "min    30.000000    30.0\n",
       "25%    32.500000    35.0\n",
       "50%    35.000000    40.0\n",
       "75%    42.500000    45.0\n",
       "max    50.000000    50.0"
      ]
     },
     "execution_count": 226,
     "metadata": {},
     "output_type": "execute_result"
    }
   ],
   "source": [
    "df.describe()"
   ]
  },
  {
   "cell_type": "code",
   "execution_count": 227,
   "id": "59821406-2e52-4a72-b489-7e4c2525ec35",
   "metadata": {},
   "outputs": [
    {
     "data": {
      "text/html": [
       "<div>\n",
       "<style scoped>\n",
       "    .dataframe tbody tr th:only-of-type {\n",
       "        vertical-align: middle;\n",
       "    }\n",
       "\n",
       "    .dataframe tbody tr th {\n",
       "        vertical-align: top;\n",
       "    }\n",
       "\n",
       "    .dataframe thead th {\n",
       "        text-align: right;\n",
       "    }\n",
       "</style>\n",
       "<table border=\"1\" class=\"dataframe\">\n",
       "  <thead>\n",
       "    <tr style=\"text-align: right;\">\n",
       "      <th></th>\n",
       "      <th>Name</th>\n",
       "      <th>Age</th>\n",
       "      <th>Sex</th>\n",
       "      <th>Salary</th>\n",
       "    </tr>\n",
       "  </thead>\n",
       "  <tbody>\n",
       "    <tr>\n",
       "      <th>0</th>\n",
       "      <td>Braund, Mr. Owen Harris</td>\n",
       "      <td>30</td>\n",
       "      <td>male</td>\n",
       "      <td>50</td>\n",
       "    </tr>\n",
       "    <tr>\n",
       "      <th>1</th>\n",
       "      <td>Allen, Mr. William Henry</td>\n",
       "      <td>35</td>\n",
       "      <td>male</td>\n",
       "      <td>40</td>\n",
       "    </tr>\n",
       "    <tr>\n",
       "      <th>2</th>\n",
       "      <td>Bonnell, Miss. Elizabeth</td>\n",
       "      <td>50</td>\n",
       "      <td>female</td>\n",
       "      <td>30</td>\n",
       "    </tr>\n",
       "  </tbody>\n",
       "</table>\n",
       "</div>"
      ],
      "text/plain": [
       "                       Name  Age     Sex  Salary\n",
       "0   Braund, Mr. Owen Harris   30    male      50\n",
       "1  Allen, Mr. William Henry   35    male      40\n",
       "2  Bonnell, Miss. Elizabeth   50  female      30"
      ]
     },
     "execution_count": 227,
     "metadata": {},
     "output_type": "execute_result"
    }
   ],
   "source": [
    "df"
   ]
  },
  {
   "cell_type": "code",
   "execution_count": 230,
   "id": "64562623-7d9d-42f3-b3ca-108eba6d4604",
   "metadata": {},
   "outputs": [],
   "source": [
    "d = pd.DataFrame(\n",
    "     np.random.randint(50, 100, (5, 3)),\n",
    "    columns=[\"maths\", \"phys\", \"chem\"],\n",
    "    index=[\"vincent\", \"fran\", \"alice\", \"tapan\", \"shashank\"]\n",
    ")"
   ]
  },
  {
   "cell_type": "code",
   "execution_count": 231,
   "id": "e15bc9ec-8c3a-40ea-9360-bb0b09b1b4ff",
   "metadata": {},
   "outputs": [
    {
     "data": {
      "text/html": [
       "<div>\n",
       "<style scoped>\n",
       "    .dataframe tbody tr th:only-of-type {\n",
       "        vertical-align: middle;\n",
       "    }\n",
       "\n",
       "    .dataframe tbody tr th {\n",
       "        vertical-align: top;\n",
       "    }\n",
       "\n",
       "    .dataframe thead th {\n",
       "        text-align: right;\n",
       "    }\n",
       "</style>\n",
       "<table border=\"1\" class=\"dataframe\">\n",
       "  <thead>\n",
       "    <tr style=\"text-align: right;\">\n",
       "      <th></th>\n",
       "      <th>maths</th>\n",
       "      <th>phys</th>\n",
       "      <th>chem</th>\n",
       "    </tr>\n",
       "  </thead>\n",
       "  <tbody>\n",
       "    <tr>\n",
       "      <th>vincent</th>\n",
       "      <td>98</td>\n",
       "      <td>76</td>\n",
       "      <td>89</td>\n",
       "    </tr>\n",
       "    <tr>\n",
       "      <th>fran</th>\n",
       "      <td>95</td>\n",
       "      <td>73</td>\n",
       "      <td>70</td>\n",
       "    </tr>\n",
       "    <tr>\n",
       "      <th>alice</th>\n",
       "      <td>97</td>\n",
       "      <td>89</td>\n",
       "      <td>78</td>\n",
       "    </tr>\n",
       "    <tr>\n",
       "      <th>tapan</th>\n",
       "      <td>78</td>\n",
       "      <td>94</td>\n",
       "      <td>87</td>\n",
       "    </tr>\n",
       "    <tr>\n",
       "      <th>shashank</th>\n",
       "      <td>90</td>\n",
       "      <td>65</td>\n",
       "      <td>81</td>\n",
       "    </tr>\n",
       "  </tbody>\n",
       "</table>\n",
       "</div>"
      ],
      "text/plain": [
       "          maths  phys  chem\n",
       "vincent      98    76    89\n",
       "fran         95    73    70\n",
       "alice        97    89    78\n",
       "tapan        78    94    87\n",
       "shashank     90    65    81"
      ]
     },
     "execution_count": 231,
     "metadata": {},
     "output_type": "execute_result"
    }
   ],
   "source": [
    "d"
   ]
  },
  {
   "cell_type": "code",
   "execution_count": 233,
   "id": "a336153d-13d5-4db8-95f8-904660558457",
   "metadata": {},
   "outputs": [
    {
     "data": {
      "text/plain": [
       "maths    458\n",
       "phys     397\n",
       "chem     405\n",
       "dtype: int64"
      ]
     },
     "execution_count": 233,
     "metadata": {},
     "output_type": "execute_result"
    }
   ],
   "source": [
    "d.sum() # axis=0 (verical, column wise sum)"
   ]
  },
  {
   "cell_type": "code",
   "execution_count": 234,
   "id": "cbe40bb9-c6fa-4c93-8810-9d90c1bb2c57",
   "metadata": {},
   "outputs": [
    {
     "data": {
      "text/plain": [
       "vincent     263\n",
       "fran        238\n",
       "alice       264\n",
       "tapan       259\n",
       "shashank    236\n",
       "dtype: int64"
      ]
     },
     "execution_count": 234,
     "metadata": {},
     "output_type": "execute_result"
    }
   ],
   "source": [
    "d.sum(axis=1) # horizontal, row wise sum"
   ]
  },
  {
   "cell_type": "markdown",
   "id": "a2b6faa4-5477-4e1c-a545-a301d2e53ff6",
   "metadata": {},
   "source": [
    "# Data Sources \n",
    "\n",
    "    company - data provide (SQL tables, csv files)\n",
    "\n",
    "    Student\n",
    "\n",
    "        Libraries data sources - tensorflow, sklearn, seaborn, ...\n",
    "\n",
    "        Open Source Data Plateforms - kaggle, amazon, UCI ML library, google ?"
   ]
  },
  {
   "cell_type": "markdown",
   "id": "fc53cc72-674e-4db1-8427-c0c79411631f",
   "metadata": {},
   "source": [
    "Data Science / ML engineers / GEN AI / python developer \n",
    "\n",
    "    80-90 % data preforcessing \n",
    "\n",
    "    core skills \n",
    "\n",
    "        Programming - expert / python  APIs, deploy\n",
    "\n",
    "        SQL \n",
    "\n",
    "        Data Engineering - Data Preprocessing  Pandas experts / numpy \n",
    "\n",
    "        Data Analysis - EDA      Data Analytics - Tablue / PowerBI / Excel\n",
    "\n",
    "        Feature Engineering \n",
    "\n",
    "        Data Modeling \n",
    "\n",
    "        ML - supervise, unsupervise, semisupervise, reinforcement, deeplearning, nn, transforms, llm, gen-ai\n",
    "\n",
    "        "
   ]
  },
  {
   "cell_type": "code",
   "execution_count": 242,
   "id": "c46bb190-a274-4b81-a4ec-e1b901d7aac7",
   "metadata": {},
   "outputs": [
    {
     "name": "stdout",
     "output_type": "stream",
     "text": [
      "deliveries.csv matches.csv    orange_cap.csv purple_cap.csv\n"
     ]
    }
   ],
   "source": [
    "!ls archive"
   ]
  },
  {
   "cell_type": "code",
   "execution_count": 249,
   "id": "f794b5b3-f55f-461d-b28f-994c886236e4",
   "metadata": {},
   "outputs": [],
   "source": [
    "def head(path, n=5):\n",
    "    with open(path) as fp:\n",
    "        i = 1\n",
    "        for line in fp.readlines():\n",
    "            if i == n:\n",
    "                break\n",
    "            print(line, end=\"\")\n",
    "            i += 1"
   ]
  },
  {
   "cell_type": "code",
   "execution_count": 252,
   "id": "bb28f26d-2820-47a6-932f-33f95f362670",
   "metadata": {},
   "outputs": [
    {
     "name": "stdout",
     "output_type": "stream",
     "text": [
      "match_id,date,venue,team1,team2,stage,toss_winner,toss_decision,first_ings_score,first_ings_wkts,second_ings_score,second_ings_wkts,match_result,match_winner,wb_runs,wb_wickets,balls_left,player_of_the_match,top_scorer,highscore,best_bowling,best_bowling_figure\n",
      "1,\"March 22,2025\",\"Eden Gardens, Kolkata\",KKR,RCB,League,RCB,Bowl,174,8,177,3,completed,RCB,,7,22,Krunal Pandya,Virat Kohli,59,Krunal Pandya,3--29\n",
      "2,\"March 23,2025\",\"Rajiv Gandhi International Stadium, Hyderabad\",SRH,RR,League,RR,Bowl,286,6,242,6,completed,SRH,44,,0,Ishan Kishan,Ishan Kishan,106,Tushar Deshpande,3--44\n",
      "3,\"March 23,2025\",\"MA Chidambaram Stadium, Chennai\",CSK,MI,League,CSK,Bowl,155,9,158,6,completed,CSK,,4,5,Noor Ahmad,Rachin Ravindra,65,Noor Ahmad,4--18\n",
      "4,\"March 24,2025\",\"ACA-VDCA Cricket Stadium, Vishakhapatnam\",DC,LSG,League,DC,Bowl,209,8,211,9,completed,DC,,1,3,Ashutosh Sharma,Nicholas Pooran,75,Mitchell Starc,3--42\n"
     ]
    }
   ],
   "source": [
    "!head -n 5 archive/matches.csv"
   ]
  },
  {
   "cell_type": "code",
   "execution_count": 251,
   "id": "ffae190d-ff31-47b3-a892-0e4abab11a4f",
   "metadata": {},
   "outputs": [
    {
     "name": "stdout",
     "output_type": "stream",
     "text": [
      "match_id,date,venue,team1,team2,stage,toss_winner,toss_decision,first_ings_score,first_ings_wkts,second_ings_score,second_ings_wkts,match_result,match_winner,wb_runs,wb_wickets,balls_left,player_of_the_match,top_scorer,highscore,best_bowling,best_bowling_figure\n",
      "1,\"March 22,2025\",\"Eden Gardens, Kolkata\",KKR,RCB,League,RCB,Bowl,174,8,177,3,completed,RCB,,7,22,Krunal Pandya,Virat Kohli,59,Krunal Pandya,3--29\n",
      "2,\"March 23,2025\",\"Rajiv Gandhi International Stadium, Hyderabad\",SRH,RR,League,RR,Bowl,286,6,242,6,completed,SRH,44,,0,Ishan Kishan,Ishan Kishan,106,Tushar Deshpande,3--44\n",
      "3,\"March 23,2025\",\"MA Chidambaram Stadium, Chennai\",CSK,MI,League,CSK,Bowl,155,9,158,6,completed,CSK,,4,5,Noor Ahmad,Rachin Ravindra,65,Noor Ahmad,4--18\n"
     ]
    }
   ],
   "source": [
    "head(\"archive/matches.csv\")\n",
    "# sep - ;, \\t, "
   ]
  },
  {
   "cell_type": "code",
   "execution_count": 259,
   "id": "018b3bca-17f2-40f8-a80c-d4989353e16d",
   "metadata": {},
   "outputs": [],
   "source": [
    "df = pd.read_csv(\"archive/matches.csv\", sep=\",\", index_col=0) # skip_rows"
   ]
  },
  {
   "cell_type": "code",
   "execution_count": 261,
   "id": "06cd3794-21c1-4b70-b226-fa0db0b72e28",
   "metadata": {},
   "outputs": [
    {
     "data": {
      "text/html": [
       "<div>\n",
       "<style scoped>\n",
       "    .dataframe tbody tr th:only-of-type {\n",
       "        vertical-align: middle;\n",
       "    }\n",
       "\n",
       "    .dataframe tbody tr th {\n",
       "        vertical-align: top;\n",
       "    }\n",
       "\n",
       "    .dataframe thead th {\n",
       "        text-align: right;\n",
       "    }\n",
       "</style>\n",
       "<table border=\"1\" class=\"dataframe\">\n",
       "  <thead>\n",
       "    <tr style=\"text-align: right;\">\n",
       "      <th></th>\n",
       "      <th>date</th>\n",
       "      <th>venue</th>\n",
       "      <th>team1</th>\n",
       "      <th>team2</th>\n",
       "      <th>stage</th>\n",
       "      <th>toss_winner</th>\n",
       "      <th>toss_decision</th>\n",
       "      <th>first_ings_score</th>\n",
       "      <th>first_ings_wkts</th>\n",
       "      <th>second_ings_score</th>\n",
       "      <th>...</th>\n",
       "      <th>match_result</th>\n",
       "      <th>match_winner</th>\n",
       "      <th>wb_runs</th>\n",
       "      <th>wb_wickets</th>\n",
       "      <th>balls_left</th>\n",
       "      <th>player_of_the_match</th>\n",
       "      <th>top_scorer</th>\n",
       "      <th>highscore</th>\n",
       "      <th>best_bowling</th>\n",
       "      <th>best_bowling_figure</th>\n",
       "    </tr>\n",
       "    <tr>\n",
       "      <th>match_id</th>\n",
       "      <th></th>\n",
       "      <th></th>\n",
       "      <th></th>\n",
       "      <th></th>\n",
       "      <th></th>\n",
       "      <th></th>\n",
       "      <th></th>\n",
       "      <th></th>\n",
       "      <th></th>\n",
       "      <th></th>\n",
       "      <th></th>\n",
       "      <th></th>\n",
       "      <th></th>\n",
       "      <th></th>\n",
       "      <th></th>\n",
       "      <th></th>\n",
       "      <th></th>\n",
       "      <th></th>\n",
       "      <th></th>\n",
       "      <th></th>\n",
       "      <th></th>\n",
       "    </tr>\n",
       "  </thead>\n",
       "  <tbody>\n",
       "    <tr>\n",
       "      <th>1</th>\n",
       "      <td>March 22,2025</td>\n",
       "      <td>Eden Gardens, Kolkata</td>\n",
       "      <td>KKR</td>\n",
       "      <td>RCB</td>\n",
       "      <td>League</td>\n",
       "      <td>RCB</td>\n",
       "      <td>Bowl</td>\n",
       "      <td>174.0</td>\n",
       "      <td>8.0</td>\n",
       "      <td>177.0</td>\n",
       "      <td>...</td>\n",
       "      <td>completed</td>\n",
       "      <td>RCB</td>\n",
       "      <td>NaN</td>\n",
       "      <td>7</td>\n",
       "      <td>22.0</td>\n",
       "      <td>Krunal Pandya</td>\n",
       "      <td>Virat Kohli</td>\n",
       "      <td>59.0</td>\n",
       "      <td>Krunal Pandya</td>\n",
       "      <td>3--29</td>\n",
       "    </tr>\n",
       "    <tr>\n",
       "      <th>2</th>\n",
       "      <td>March 23,2025</td>\n",
       "      <td>Rajiv Gandhi International Stadium, Hyderabad</td>\n",
       "      <td>SRH</td>\n",
       "      <td>RR</td>\n",
       "      <td>League</td>\n",
       "      <td>RR</td>\n",
       "      <td>Bowl</td>\n",
       "      <td>286.0</td>\n",
       "      <td>6.0</td>\n",
       "      <td>242.0</td>\n",
       "      <td>...</td>\n",
       "      <td>completed</td>\n",
       "      <td>SRH</td>\n",
       "      <td>44</td>\n",
       "      <td>NaN</td>\n",
       "      <td>0.0</td>\n",
       "      <td>Ishan Kishan</td>\n",
       "      <td>Ishan Kishan</td>\n",
       "      <td>106.0</td>\n",
       "      <td>Tushar Deshpande</td>\n",
       "      <td>3--44</td>\n",
       "    </tr>\n",
       "    <tr>\n",
       "      <th>3</th>\n",
       "      <td>March 23,2025</td>\n",
       "      <td>MA Chidambaram Stadium, Chennai</td>\n",
       "      <td>CSK</td>\n",
       "      <td>MI</td>\n",
       "      <td>League</td>\n",
       "      <td>CSK</td>\n",
       "      <td>Bowl</td>\n",
       "      <td>155.0</td>\n",
       "      <td>9.0</td>\n",
       "      <td>158.0</td>\n",
       "      <td>...</td>\n",
       "      <td>completed</td>\n",
       "      <td>CSK</td>\n",
       "      <td>NaN</td>\n",
       "      <td>4</td>\n",
       "      <td>5.0</td>\n",
       "      <td>Noor Ahmad</td>\n",
       "      <td>Rachin Ravindra</td>\n",
       "      <td>65.0</td>\n",
       "      <td>Noor Ahmad</td>\n",
       "      <td>4--18</td>\n",
       "    </tr>\n",
       "    <tr>\n",
       "      <th>4</th>\n",
       "      <td>March 24,2025</td>\n",
       "      <td>ACA-VDCA Cricket Stadium, Vishakhapatnam</td>\n",
       "      <td>DC</td>\n",
       "      <td>LSG</td>\n",
       "      <td>League</td>\n",
       "      <td>DC</td>\n",
       "      <td>Bowl</td>\n",
       "      <td>209.0</td>\n",
       "      <td>8.0</td>\n",
       "      <td>211.0</td>\n",
       "      <td>...</td>\n",
       "      <td>completed</td>\n",
       "      <td>DC</td>\n",
       "      <td>NaN</td>\n",
       "      <td>1</td>\n",
       "      <td>3.0</td>\n",
       "      <td>Ashutosh Sharma</td>\n",
       "      <td>Nicholas Pooran</td>\n",
       "      <td>75.0</td>\n",
       "      <td>Mitchell Starc</td>\n",
       "      <td>3--42</td>\n",
       "    </tr>\n",
       "    <tr>\n",
       "      <th>5</th>\n",
       "      <td>March 25,2025</td>\n",
       "      <td>Narendra Modi Stadium, Ahmedabad</td>\n",
       "      <td>GT</td>\n",
       "      <td>PBKS</td>\n",
       "      <td>League</td>\n",
       "      <td>GT</td>\n",
       "      <td>Bowl</td>\n",
       "      <td>243.0</td>\n",
       "      <td>5.0</td>\n",
       "      <td>232.0</td>\n",
       "      <td>...</td>\n",
       "      <td>completed</td>\n",
       "      <td>PBKS</td>\n",
       "      <td>11</td>\n",
       "      <td>NaN</td>\n",
       "      <td>0.0</td>\n",
       "      <td>Shreyas Iyer</td>\n",
       "      <td>Shreyas Iyer</td>\n",
       "      <td>97.0</td>\n",
       "      <td>Sai Kishore</td>\n",
       "      <td>3--30</td>\n",
       "    </tr>\n",
       "  </tbody>\n",
       "</table>\n",
       "<p>5 rows × 21 columns</p>\n",
       "</div>"
      ],
      "text/plain": [
       "                   date                                          venue team1  \\\n",
       "match_id                                                                       \n",
       "1         March 22,2025                          Eden Gardens, Kolkata   KKR   \n",
       "2         March 23,2025  Rajiv Gandhi International Stadium, Hyderabad   SRH   \n",
       "3         March 23,2025                MA Chidambaram Stadium, Chennai   CSK   \n",
       "4         March 24,2025       ACA-VDCA Cricket Stadium, Vishakhapatnam    DC   \n",
       "5         March 25,2025               Narendra Modi Stadium, Ahmedabad    GT   \n",
       "\n",
       "         team2   stage toss_winner toss_decision  first_ings_score  \\\n",
       "match_id                                                             \n",
       "1          RCB  League         RCB          Bowl             174.0   \n",
       "2           RR  League          RR          Bowl             286.0   \n",
       "3           MI  League         CSK          Bowl             155.0   \n",
       "4          LSG  League          DC          Bowl             209.0   \n",
       "5         PBKS  League          GT          Bowl             243.0   \n",
       "\n",
       "          first_ings_wkts  second_ings_score  ...  match_result match_winner  \\\n",
       "match_id                                      ...                              \n",
       "1                     8.0              177.0  ...     completed          RCB   \n",
       "2                     6.0              242.0  ...     completed          SRH   \n",
       "3                     9.0              158.0  ...     completed          CSK   \n",
       "4                     8.0              211.0  ...     completed           DC   \n",
       "5                     5.0              232.0  ...     completed         PBKS   \n",
       "\n",
       "         wb_runs wb_wickets balls_left  player_of_the_match       top_scorer  \\\n",
       "match_id                                                                       \n",
       "1            NaN          7       22.0        Krunal Pandya      Virat Kohli   \n",
       "2             44        NaN        0.0         Ishan Kishan     Ishan Kishan   \n",
       "3            NaN          4        5.0           Noor Ahmad  Rachin Ravindra   \n",
       "4            NaN          1        3.0      Ashutosh Sharma  Nicholas Pooran   \n",
       "5             11        NaN        0.0         Shreyas Iyer     Shreyas Iyer   \n",
       "\n",
       "         highscore      best_bowling best_bowling_figure  \n",
       "match_id                                                  \n",
       "1             59.0     Krunal Pandya               3--29  \n",
       "2            106.0  Tushar Deshpande               3--44  \n",
       "3             65.0        Noor Ahmad               4--18  \n",
       "4             75.0    Mitchell Starc               3--42  \n",
       "5             97.0       Sai Kishore               3--30  \n",
       "\n",
       "[5 rows x 21 columns]"
      ]
     },
     "execution_count": 261,
     "metadata": {},
     "output_type": "execute_result"
    }
   ],
   "source": [
    "# Meta Data\n",
    "\n",
    "# Acutal Data\n",
    "df.head()"
   ]
  },
  {
   "cell_type": "code",
   "execution_count": 262,
   "id": "055254ee-844b-4b6a-a2ad-e2c6bf9ab880",
   "metadata": {},
   "outputs": [
    {
     "data": {
      "text/plain": [
       "Index(['date', 'venue', 'team1', 'team2', 'stage', 'toss_winner',\n",
       "       'toss_decision', 'first_ings_score', 'first_ings_wkts',\n",
       "       'second_ings_score', 'second_ings_wkts', 'match_result', 'match_winner',\n",
       "       'wb_runs', 'wb_wickets', 'balls_left', 'player_of_the_match',\n",
       "       'top_scorer', 'highscore', 'best_bowling', 'best_bowling_figure'],\n",
       "      dtype='object')"
      ]
     },
     "execution_count": 262,
     "metadata": {},
     "output_type": "execute_result"
    }
   ],
   "source": [
    "df.columns"
   ]
  },
  {
   "cell_type": "code",
   "execution_count": 263,
   "id": "d68767f6-6964-4822-a213-0daf2f940865",
   "metadata": {},
   "outputs": [
    {
     "data": {
      "text/plain": [
       "date                    object\n",
       "venue                   object\n",
       "team1                   object\n",
       "team2                   object\n",
       "stage                   object\n",
       "toss_winner             object\n",
       "toss_decision           object\n",
       "first_ings_score       float64\n",
       "first_ings_wkts        float64\n",
       "second_ings_score      float64\n",
       "second_ings_wkts       float64\n",
       "match_result            object\n",
       "match_winner            object\n",
       "wb_runs                 object\n",
       "wb_wickets              object\n",
       "balls_left             float64\n",
       "player_of_the_match     object\n",
       "top_scorer              object\n",
       "highscore              float64\n",
       "best_bowling            object\n",
       "best_bowling_figure     object\n",
       "dtype: object"
      ]
     },
     "execution_count": 263,
     "metadata": {},
     "output_type": "execute_result"
    }
   ],
   "source": [
    "df.dtypes"
   ]
  },
  {
   "cell_type": "code",
   "execution_count": 264,
   "id": "9477d598-4dcf-4c05-9534-dbd1117ab85f",
   "metadata": {},
   "outputs": [],
   "source": [
    "# most of the time top scorer"
   ]
  },
  {
   "cell_type": "code",
   "execution_count": 267,
   "id": "ad7cd2e5-8870-42bf-8a90-facb531e072e",
   "metadata": {},
   "outputs": [
    {
     "data": {
      "text/plain": [
       "top_scorer\n",
       "Virat Kohli         4\n",
       "Nicholas Pooran     4\n",
       "KL Rahul            3\n",
       "Sai Sudarshan       3\n",
       "Ryan Rickelton      3\n",
       "Ishan Kishan        3\n",
       "Shubman Gill        3\n",
       "Yashasvi Jaiswal    3\n",
       "Mitchell Marsh      2\n",
       "Dewald Brevis       2\n",
       "Name: count, dtype: int64"
      ]
     },
     "execution_count": 267,
     "metadata": {},
     "output_type": "execute_result"
    }
   ],
   "source": [
    "df['top_scorer'].value_counts()[:10]"
   ]
  },
  {
   "cell_type": "code",
   "execution_count": 268,
   "id": "944f2659-7204-414d-8a33-ab4788049c09",
   "metadata": {},
   "outputs": [
    {
     "data": {
      "text/plain": [
       "<Axes: xlabel='top_scorer'>"
      ]
     },
     "execution_count": 268,
     "metadata": {},
     "output_type": "execute_result"
    },
    {
     "data": {
      "image/png": "[encoded data removed]",
      "text/plain": [
       "<Figure size 640x480 with 1 Axes>"
      ]
     },
     "metadata": {},
     "output_type": "display_data"
    }
   ],
   "source": [
    "df['top_scorer'].value_counts()[:10].plot(kind=\"bar\")"
   ]
  },
  {
   "cell_type": "code",
   "execution_count": 269,
   "id": "8ca92269-aae0-4a39-b181-f93ed1f80eaf",
   "metadata": {},
   "outputs": [
    {
     "data": {
      "text/plain": [
       "Index(['date', 'venue', 'team1', 'team2', 'stage', 'toss_winner',\n",
       "       'toss_decision', 'first_ings_score', 'first_ings_wkts',\n",
       "       'second_ings_score', 'second_ings_wkts', 'match_result', 'match_winner',\n",
       "       'wb_runs', 'wb_wickets', 'balls_left', 'player_of_the_match',\n",
       "       'top_scorer', 'highscore', 'best_bowling', 'best_bowling_figure'],\n",
       "      dtype='object')"
      ]
     },
     "execution_count": 269,
     "metadata": {},
     "output_type": "execute_result"
    }
   ],
   "source": [
    "df.columns"
   ]
  },
  {
   "cell_type": "code",
   "execution_count": 270,
   "id": "3e568bcd-4a4b-4205-870c-82e206763831",
   "metadata": {},
   "outputs": [
    {
     "data": {
      "text/plain": [
       "<Axes: xlabel='match_id'>"
      ]
     },
     "execution_count": 270,
     "metadata": {},
     "output_type": "execute_result"
    },
    {
     "data": {
      "image/png": "[encoded data removed]",
      "text/plain": [
       "<Figure size 640x480 with 1 Axes>"
      ]
     },
     "metadata": {},
     "output_type": "display_data"
    }
   ],
   "source": [
    "df[\"first_ings_score\"].plot()"
   ]
  },
  {
   "cell_type": "code",
   "execution_count": 236,
   "id": "534312a3-0e67-4e5f-b4ce-c52c00c04d47",
   "metadata": {},
   "outputs": [],
   "source": [
    "import seaborn as sns"
   ]
  },
  {
   "cell_type": "code",
   "execution_count": 240,
   "id": "ceb49bfd-1d18-421c-899e-ec8fac8ccde4",
   "metadata": {},
   "outputs": [
    {
     "name": "stdout",
     "output_type": "stream",
     "text": [
      "['anagrams', 'anscombe', 'attention', 'brain_networks', 'car_crashes', 'diamonds', 'dots', 'dowjones', 'exercise', 'flights', 'fmri', 'geyser', 'glue', 'healthexp', 'iris', 'mpg', 'penguins', 'planets', 'seaice', 'taxis', 'tips', 'titanic']\n"
     ]
    }
   ],
   "source": [
    "print(sns.get_dataset_names())"
   ]
  },
  {
   "cell_type": "code",
   "execution_count": 271,
   "id": "3bf41d5a-b900-4c56-8638-97301170a9bc",
   "metadata": {},
   "outputs": [],
   "source": [
    "mpg = sns.load_dataset('mpg') # internet "
   ]
  },
  {
   "cell_type": "code",
   "execution_count": 272,
   "id": "203aa455-eec4-4c88-ba94-e775f9ccefa1",
   "metadata": {},
   "outputs": [
    {
     "data": {
      "text/html": [
       "<div>\n",
       "<style scoped>\n",
       "    .dataframe tbody tr th:only-of-type {\n",
       "        vertical-align: middle;\n",
       "    }\n",
       "\n",
       "    .dataframe tbody tr th {\n",
       "        vertical-align: top;\n",
       "    }\n",
       "\n",
       "    .dataframe thead th {\n",
       "        text-align: right;\n",
       "    }\n",
       "</style>\n",
       "<table border=\"1\" class=\"dataframe\">\n",
       "  <thead>\n",
       "    <tr style=\"text-align: right;\">\n",
       "      <th></th>\n",
       "      <th>mpg</th>\n",
       "      <th>cylinders</th>\n",
       "      <th>displacement</th>\n",
       "      <th>horsepower</th>\n",
       "      <th>weight</th>\n",
       "      <th>acceleration</th>\n",
       "      <th>model_year</th>\n",
       "      <th>origin</th>\n",
       "      <th>name</th>\n",
       "    </tr>\n",
       "  </thead>\n",
       "  <tbody>\n",
       "    <tr>\n",
       "      <th>0</th>\n",
       "      <td>18.0</td>\n",
       "      <td>8</td>\n",
       "      <td>307.0</td>\n",
       "      <td>130.0</td>\n",
       "      <td>3504</td>\n",
       "      <td>12.0</td>\n",
       "      <td>70</td>\n",
       "      <td>usa</td>\n",
       "      <td>chevrolet chevelle malibu</td>\n",
       "    </tr>\n",
       "    <tr>\n",
       "      <th>1</th>\n",
       "      <td>15.0</td>\n",
       "      <td>8</td>\n",
       "      <td>350.0</td>\n",
       "      <td>165.0</td>\n",
       "      <td>3693</td>\n",
       "      <td>11.5</td>\n",
       "      <td>70</td>\n",
       "      <td>usa</td>\n",
       "      <td>buick skylark 320</td>\n",
       "    </tr>\n",
       "    <tr>\n",
       "      <th>2</th>\n",
       "      <td>18.0</td>\n",
       "      <td>8</td>\n",
       "      <td>318.0</td>\n",
       "      <td>150.0</td>\n",
       "      <td>3436</td>\n",
       "      <td>11.0</td>\n",
       "      <td>70</td>\n",
       "      <td>usa</td>\n",
       "      <td>plymouth satellite</td>\n",
       "    </tr>\n",
       "    <tr>\n",
       "      <th>3</th>\n",
       "      <td>16.0</td>\n",
       "      <td>8</td>\n",
       "      <td>304.0</td>\n",
       "      <td>150.0</td>\n",
       "      <td>3433</td>\n",
       "      <td>12.0</td>\n",
       "      <td>70</td>\n",
       "      <td>usa</td>\n",
       "      <td>amc rebel sst</td>\n",
       "    </tr>\n",
       "    <tr>\n",
       "      <th>4</th>\n",
       "      <td>17.0</td>\n",
       "      <td>8</td>\n",
       "      <td>302.0</td>\n",
       "      <td>140.0</td>\n",
       "      <td>3449</td>\n",
       "      <td>10.5</td>\n",
       "      <td>70</td>\n",
       "      <td>usa</td>\n",
       "      <td>ford torino</td>\n",
       "    </tr>\n",
       "  </tbody>\n",
       "</table>\n",
       "</div>"
      ],
      "text/plain": [
       "    mpg  cylinders  displacement  horsepower  weight  acceleration  \\\n",
       "0  18.0          8         307.0       130.0    3504          12.0   \n",
       "1  15.0          8         350.0       165.0    3693          11.5   \n",
       "2  18.0          8         318.0       150.0    3436          11.0   \n",
       "3  16.0          8         304.0       150.0    3433          12.0   \n",
       "4  17.0          8         302.0       140.0    3449          10.5   \n",
       "\n",
       "   model_year origin                       name  \n",
       "0          70    usa  chevrolet chevelle malibu  \n",
       "1          70    usa          buick skylark 320  \n",
       "2          70    usa         plymouth satellite  \n",
       "3          70    usa              amc rebel sst  \n",
       "4          70    usa                ford torino  "
      ]
     },
     "execution_count": 272,
     "metadata": {},
     "output_type": "execute_result"
    }
   ],
   "source": [
    "mpg.head()"
   ]
  },
  {
   "cell_type": "code",
   "execution_count": 273,
   "id": "1842a3ea-3098-4c4c-86d0-8599edd3f31d",
   "metadata": {},
   "outputs": [],
   "source": [
    "# Exploratory Data Analysis\n",
    "# ML - 20%  80% -> Data Analysis\n",
    "# EDA - projects mon / visualization types of plot  histogram, bar, line plot, pie, .."
   ]
  },
  {
   "cell_type": "code",
   "execution_count": 274,
   "id": "cfe8f919-3428-4aa3-ad7b-040607a46c63",
   "metadata": {},
   "outputs": [],
   "source": [
    "tip = sns.load_dataset('tips')"
   ]
  },
  {
   "cell_type": "code",
   "execution_count": 275,
   "id": "f6b524d1-0f57-449f-852d-80d34230bb15",
   "metadata": {},
   "outputs": [
    {
     "data": {
      "text/html": [
       "<div>\n",
       "<style scoped>\n",
       "    .dataframe tbody tr th:only-of-type {\n",
       "        vertical-align: middle;\n",
       "    }\n",
       "\n",
       "    .dataframe tbody tr th {\n",
       "        vertical-align: top;\n",
       "    }\n",
       "\n",
       "    .dataframe thead th {\n",
       "        text-align: right;\n",
       "    }\n",
       "</style>\n",
       "<table border=\"1\" class=\"dataframe\">\n",
       "  <thead>\n",
       "    <tr style=\"text-align: right;\">\n",
       "      <th></th>\n",
       "      <th>total_bill</th>\n",
       "      <th>tip</th>\n",
       "      <th>sex</th>\n",
       "      <th>smoker</th>\n",
       "      <th>day</th>\n",
       "      <th>time</th>\n",
       "      <th>size</th>\n",
       "    </tr>\n",
       "  </thead>\n",
       "  <tbody>\n",
       "    <tr>\n",
       "      <th>0</th>\n",
       "      <td>16.99</td>\n",
       "      <td>1.01</td>\n",
       "      <td>Female</td>\n",
       "      <td>No</td>\n",
       "      <td>Sun</td>\n",
       "      <td>Dinner</td>\n",
       "      <td>2</td>\n",
       "    </tr>\n",
       "    <tr>\n",
       "      <th>1</th>\n",
       "      <td>10.34</td>\n",
       "      <td>1.66</td>\n",
       "      <td>Male</td>\n",
       "      <td>No</td>\n",
       "      <td>Sun</td>\n",
       "      <td>Dinner</td>\n",
       "      <td>3</td>\n",
       "    </tr>\n",
       "    <tr>\n",
       "      <th>2</th>\n",
       "      <td>21.01</td>\n",
       "      <td>3.50</td>\n",
       "      <td>Male</td>\n",
       "      <td>No</td>\n",
       "      <td>Sun</td>\n",
       "      <td>Dinner</td>\n",
       "      <td>3</td>\n",
       "    </tr>\n",
       "    <tr>\n",
       "      <th>3</th>\n",
       "      <td>23.68</td>\n",
       "      <td>3.31</td>\n",
       "      <td>Male</td>\n",
       "      <td>No</td>\n",
       "      <td>Sun</td>\n",
       "      <td>Dinner</td>\n",
       "      <td>2</td>\n",
       "    </tr>\n",
       "    <tr>\n",
       "      <th>4</th>\n",
       "      <td>24.59</td>\n",
       "      <td>3.61</td>\n",
       "      <td>Female</td>\n",
       "      <td>No</td>\n",
       "      <td>Sun</td>\n",
       "      <td>Dinner</td>\n",
       "      <td>4</td>\n",
       "    </tr>\n",
       "  </tbody>\n",
       "</table>\n",
       "</div>"
      ],
      "text/plain": [
       "   total_bill   tip     sex smoker  day    time  size\n",
       "0       16.99  1.01  Female     No  Sun  Dinner     2\n",
       "1       10.34  1.66    Male     No  Sun  Dinner     3\n",
       "2       21.01  3.50    Male     No  Sun  Dinner     3\n",
       "3       23.68  3.31    Male     No  Sun  Dinner     2\n",
       "4       24.59  3.61  Female     No  Sun  Dinner     4"
      ]
     },
     "execution_count": 275,
     "metadata": {},
     "output_type": "execute_result"
    }
   ],
   "source": [
    "tip.head()"
   ]
  },
  {
   "cell_type": "code",
   "execution_count": 277,
   "id": "6e3e7a56-fedc-4e4d-92dd-3d81176b54c8",
   "metadata": {},
   "outputs": [
    {
     "data": {
      "text/html": [
       "<div>\n",
       "<style scoped>\n",
       "    .dataframe tbody tr th:only-of-type {\n",
       "        vertical-align: middle;\n",
       "    }\n",
       "\n",
       "    .dataframe tbody tr th {\n",
       "        vertical-align: top;\n",
       "    }\n",
       "\n",
       "    .dataframe thead th {\n",
       "        text-align: right;\n",
       "    }\n",
       "</style>\n",
       "<table border=\"1\" class=\"dataframe\">\n",
       "  <thead>\n",
       "    <tr style=\"text-align: right;\">\n",
       "      <th></th>\n",
       "      <th>mpg</th>\n",
       "      <th>cylinders</th>\n",
       "      <th>displacement</th>\n",
       "      <th>horsepower</th>\n",
       "      <th>weight</th>\n",
       "      <th>acceleration</th>\n",
       "      <th>model_year</th>\n",
       "      <th>origin</th>\n",
       "      <th>name</th>\n",
       "    </tr>\n",
       "  </thead>\n",
       "  <tbody>\n",
       "    <tr>\n",
       "      <th>0</th>\n",
       "      <td>18.0</td>\n",
       "      <td>8</td>\n",
       "      <td>307.0</td>\n",
       "      <td>130.0</td>\n",
       "      <td>3504</td>\n",
       "      <td>12.0</td>\n",
       "      <td>70</td>\n",
       "      <td>usa</td>\n",
       "      <td>chevrolet chevelle malibu</td>\n",
       "    </tr>\n",
       "    <tr>\n",
       "      <th>1</th>\n",
       "      <td>15.0</td>\n",
       "      <td>8</td>\n",
       "      <td>350.0</td>\n",
       "      <td>165.0</td>\n",
       "      <td>3693</td>\n",
       "      <td>11.5</td>\n",
       "      <td>70</td>\n",
       "      <td>usa</td>\n",
       "      <td>buick skylark 320</td>\n",
       "    </tr>\n",
       "    <tr>\n",
       "      <th>2</th>\n",
       "      <td>18.0</td>\n",
       "      <td>8</td>\n",
       "      <td>318.0</td>\n",
       "      <td>150.0</td>\n",
       "      <td>3436</td>\n",
       "      <td>11.0</td>\n",
       "      <td>70</td>\n",
       "      <td>usa</td>\n",
       "      <td>plymouth satellite</td>\n",
       "    </tr>\n",
       "    <tr>\n",
       "      <th>3</th>\n",
       "      <td>16.0</td>\n",
       "      <td>8</td>\n",
       "      <td>304.0</td>\n",
       "      <td>150.0</td>\n",
       "      <td>3433</td>\n",
       "      <td>12.0</td>\n",
       "      <td>70</td>\n",
       "      <td>usa</td>\n",
       "      <td>amc rebel sst</td>\n",
       "    </tr>\n",
       "    <tr>\n",
       "      <th>4</th>\n",
       "      <td>17.0</td>\n",
       "      <td>8</td>\n",
       "      <td>302.0</td>\n",
       "      <td>140.0</td>\n",
       "      <td>3449</td>\n",
       "      <td>10.5</td>\n",
       "      <td>70</td>\n",
       "      <td>usa</td>\n",
       "      <td>ford torino</td>\n",
       "    </tr>\n",
       "  </tbody>\n",
       "</table>\n",
       "</div>"
      ],
      "text/plain": [
       "    mpg  cylinders  displacement  horsepower  weight  acceleration  \\\n",
       "0  18.0          8         307.0       130.0    3504          12.0   \n",
       "1  15.0          8         350.0       165.0    3693          11.5   \n",
       "2  18.0          8         318.0       150.0    3436          11.0   \n",
       "3  16.0          8         304.0       150.0    3433          12.0   \n",
       "4  17.0          8         302.0       140.0    3449          10.5   \n",
       "\n",
       "   model_year origin                       name  \n",
       "0          70    usa  chevrolet chevelle malibu  \n",
       "1          70    usa          buick skylark 320  \n",
       "2          70    usa         plymouth satellite  \n",
       "3          70    usa              amc rebel sst  \n",
       "4          70    usa                ford torino  "
      ]
     },
     "execution_count": 277,
     "metadata": {},
     "output_type": "execute_result"
    }
   ],
   "source": [
    "mpg.head()"
   ]
  },
  {
   "cell_type": "markdown",
   "id": "bc1d6507-124f-4422-a7ae-0f210435f845",
   "metadata": {},
   "source": [
    "group by - Transformation\n",
    "\n",
    "aggregation - Numerical summary"
   ]
  },
  {
   "cell_type": "code",
   "execution_count": 278,
   "id": "f20d8448-27a4-4ede-ac8b-478d2e98de8b",
   "metadata": {},
   "outputs": [
    {
     "data": {
      "text/html": [
       "<div>\n",
       "<style scoped>\n",
       "    .dataframe tbody tr th:only-of-type {\n",
       "        vertical-align: middle;\n",
       "    }\n",
       "\n",
       "    .dataframe tbody tr th {\n",
       "        vertical-align: top;\n",
       "    }\n",
       "\n",
       "    .dataframe thead th {\n",
       "        text-align: right;\n",
       "    }\n",
       "</style>\n",
       "<table border=\"1\" class=\"dataframe\">\n",
       "  <thead>\n",
       "    <tr style=\"text-align: right;\">\n",
       "      <th></th>\n",
       "      <th>total_bill</th>\n",
       "      <th>tip</th>\n",
       "      <th>sex</th>\n",
       "      <th>smoker</th>\n",
       "      <th>day</th>\n",
       "      <th>time</th>\n",
       "      <th>size</th>\n",
       "    </tr>\n",
       "  </thead>\n",
       "  <tbody>\n",
       "    <tr>\n",
       "      <th>0</th>\n",
       "      <td>16.99</td>\n",
       "      <td>1.01</td>\n",
       "      <td>Female</td>\n",
       "      <td>No</td>\n",
       "      <td>Sun</td>\n",
       "      <td>Dinner</td>\n",
       "      <td>2</td>\n",
       "    </tr>\n",
       "    <tr>\n",
       "      <th>1</th>\n",
       "      <td>10.34</td>\n",
       "      <td>1.66</td>\n",
       "      <td>Male</td>\n",
       "      <td>No</td>\n",
       "      <td>Sun</td>\n",
       "      <td>Dinner</td>\n",
       "      <td>3</td>\n",
       "    </tr>\n",
       "    <tr>\n",
       "      <th>2</th>\n",
       "      <td>21.01</td>\n",
       "      <td>3.50</td>\n",
       "      <td>Male</td>\n",
       "      <td>No</td>\n",
       "      <td>Sun</td>\n",
       "      <td>Dinner</td>\n",
       "      <td>3</td>\n",
       "    </tr>\n",
       "    <tr>\n",
       "      <th>3</th>\n",
       "      <td>23.68</td>\n",
       "      <td>3.31</td>\n",
       "      <td>Male</td>\n",
       "      <td>No</td>\n",
       "      <td>Sun</td>\n",
       "      <td>Dinner</td>\n",
       "      <td>2</td>\n",
       "    </tr>\n",
       "    <tr>\n",
       "      <th>4</th>\n",
       "      <td>24.59</td>\n",
       "      <td>3.61</td>\n",
       "      <td>Female</td>\n",
       "      <td>No</td>\n",
       "      <td>Sun</td>\n",
       "      <td>Dinner</td>\n",
       "      <td>4</td>\n",
       "    </tr>\n",
       "  </tbody>\n",
       "</table>\n",
       "</div>"
      ],
      "text/plain": [
       "   total_bill   tip     sex smoker  day    time  size\n",
       "0       16.99  1.01  Female     No  Sun  Dinner     2\n",
       "1       10.34  1.66    Male     No  Sun  Dinner     3\n",
       "2       21.01  3.50    Male     No  Sun  Dinner     3\n",
       "3       23.68  3.31    Male     No  Sun  Dinner     2\n",
       "4       24.59  3.61  Female     No  Sun  Dinner     4"
      ]
     },
     "execution_count": 278,
     "metadata": {},
     "output_type": "execute_result"
    }
   ],
   "source": [
    "tip.head()\n",
    "# bill, tip depends on day or not "
   ]
  },
  {
   "cell_type": "code",
   "execution_count": 279,
   "id": "180f1557-9eaf-4d64-b722-197f513b4443",
   "metadata": {},
   "outputs": [],
   "source": [
    "# sun -> Data Frame -> summeriance, mon -> Data Frame"
   ]
  },
  {
   "cell_type": "code",
   "execution_count": 281,
   "id": "6a9dc49b-72d7-44d2-82dd-69c445362094",
   "metadata": {},
   "outputs": [
    {
     "data": {
      "text/plain": [
       "4"
      ]
     },
     "execution_count": 281,
     "metadata": {},
     "output_type": "execute_result"
    }
   ],
   "source": [
    "tip['day'].nunique()"
   ]
  },
  {
   "cell_type": "code",
   "execution_count": 282,
   "id": "7e15eed1-7859-4bd8-ac61-6638cbe87864",
   "metadata": {},
   "outputs": [
    {
     "data": {
      "text/plain": [
       "['Sun', 'Sat', 'Thur', 'Fri']\n",
       "Categories (4, object): ['Thur', 'Fri', 'Sat', 'Sun']"
      ]
     },
     "execution_count": 282,
     "metadata": {},
     "output_type": "execute_result"
    }
   ],
   "source": [
    "tip['day'].unique()"
   ]
  },
  {
   "cell_type": "code",
   "execution_count": 284,
   "id": "913d0005-faed-4047-a9e5-db47d5ae4800",
   "metadata": {},
   "outputs": [
    {
     "data": {
      "text/html": [
       "<div>\n",
       "<style scoped>\n",
       "    .dataframe tbody tr th:only-of-type {\n",
       "        vertical-align: middle;\n",
       "    }\n",
       "\n",
       "    .dataframe tbody tr th {\n",
       "        vertical-align: top;\n",
       "    }\n",
       "\n",
       "    .dataframe thead th {\n",
       "        text-align: right;\n",
       "    }\n",
       "</style>\n",
       "<table border=\"1\" class=\"dataframe\">\n",
       "  <thead>\n",
       "    <tr style=\"text-align: right;\">\n",
       "      <th></th>\n",
       "      <th>total_bill</th>\n",
       "      <th>tip</th>\n",
       "    </tr>\n",
       "    <tr>\n",
       "      <th>day</th>\n",
       "      <th></th>\n",
       "      <th></th>\n",
       "    </tr>\n",
       "  </thead>\n",
       "  <tbody>\n",
       "    <tr>\n",
       "      <th>Thur</th>\n",
       "      <td>17.682742</td>\n",
       "      <td>2.771452</td>\n",
       "    </tr>\n",
       "    <tr>\n",
       "      <th>Fri</th>\n",
       "      <td>17.151579</td>\n",
       "      <td>2.734737</td>\n",
       "    </tr>\n",
       "    <tr>\n",
       "      <th>Sat</th>\n",
       "      <td>20.441379</td>\n",
       "      <td>2.993103</td>\n",
       "    </tr>\n",
       "    <tr>\n",
       "      <th>Sun</th>\n",
       "      <td>21.410000</td>\n",
       "      <td>3.255132</td>\n",
       "    </tr>\n",
       "  </tbody>\n",
       "</table>\n",
       "</div>"
      ],
      "text/plain": [
       "      total_bill       tip\n",
       "day                       \n",
       "Thur   17.682742  2.771452\n",
       "Fri    17.151579  2.734737\n",
       "Sat    20.441379  2.993103\n",
       "Sun    21.410000  3.255132"
      ]
     },
     "execution_count": 284,
     "metadata": {},
     "output_type": "execute_result"
    }
   ],
   "source": [
    "tip.groupby(\"day\")[[\"total_bill\", \"tip\"]].mean()"
   ]
  },
  {
   "cell_type": "code",
   "execution_count": 285,
   "id": "7a440fe5-43a8-488b-9282-6009396daa8a",
   "metadata": {},
   "outputs": [
    {
     "data": {
      "text/html": [
       "<div>\n",
       "<style scoped>\n",
       "    .dataframe tbody tr th:only-of-type {\n",
       "        vertical-align: middle;\n",
       "    }\n",
       "\n",
       "    .dataframe tbody tr th {\n",
       "        vertical-align: top;\n",
       "    }\n",
       "\n",
       "    .dataframe thead th {\n",
       "        text-align: right;\n",
       "    }\n",
       "</style>\n",
       "<table border=\"1\" class=\"dataframe\">\n",
       "  <thead>\n",
       "    <tr style=\"text-align: right;\">\n",
       "      <th></th>\n",
       "      <th>total_bill</th>\n",
       "      <th>tip</th>\n",
       "    </tr>\n",
       "    <tr>\n",
       "      <th>sex</th>\n",
       "      <th></th>\n",
       "      <th></th>\n",
       "    </tr>\n",
       "  </thead>\n",
       "  <tbody>\n",
       "    <tr>\n",
       "      <th>Male</th>\n",
       "      <td>20.744076</td>\n",
       "      <td>3.089618</td>\n",
       "    </tr>\n",
       "    <tr>\n",
       "      <th>Female</th>\n",
       "      <td>18.056897</td>\n",
       "      <td>2.833448</td>\n",
       "    </tr>\n",
       "  </tbody>\n",
       "</table>\n",
       "</div>"
      ],
      "text/plain": [
       "        total_bill       tip\n",
       "sex                         \n",
       "Male     20.744076  3.089618\n",
       "Female   18.056897  2.833448"
      ]
     },
     "execution_count": 285,
     "metadata": {},
     "output_type": "execute_result"
    }
   ],
   "source": [
    "tip.groupby(\"sex\")[[\"total_bill\", \"tip\"]].mean()"
   ]
  },
  {
   "cell_type": "code",
   "execution_count": 289,
   "id": "0352a263-a982-4914-ab12-631b99663aca",
   "metadata": {},
   "outputs": [
    {
     "data": {
      "text/html": [
       "<div>\n",
       "<style scoped>\n",
       "    .dataframe tbody tr th:only-of-type {\n",
       "        vertical-align: middle;\n",
       "    }\n",
       "\n",
       "    .dataframe tbody tr th {\n",
       "        vertical-align: top;\n",
       "    }\n",
       "\n",
       "    .dataframe thead tr th {\n",
       "        text-align: left;\n",
       "    }\n",
       "\n",
       "    .dataframe thead tr:last-of-type th {\n",
       "        text-align: right;\n",
       "    }\n",
       "</style>\n",
       "<table border=\"1\" class=\"dataframe\">\n",
       "  <thead>\n",
       "    <tr>\n",
       "      <th></th>\n",
       "      <th colspan=\"4\" halign=\"left\">total_bill</th>\n",
       "      <th>tip</th>\n",
       "    </tr>\n",
       "    <tr>\n",
       "      <th></th>\n",
       "      <th>mean</th>\n",
       "      <th>median</th>\n",
       "      <th>min</th>\n",
       "      <th>max</th>\n",
       "      <th>mean</th>\n",
       "    </tr>\n",
       "    <tr>\n",
       "      <th>smoker</th>\n",
       "      <th></th>\n",
       "      <th></th>\n",
       "      <th></th>\n",
       "      <th></th>\n",
       "      <th></th>\n",
       "    </tr>\n",
       "  </thead>\n",
       "  <tbody>\n",
       "    <tr>\n",
       "      <th>Yes</th>\n",
       "      <td>20.756344</td>\n",
       "      <td>17.92</td>\n",
       "      <td>3.07</td>\n",
       "      <td>50.81</td>\n",
       "      <td>3.008710</td>\n",
       "    </tr>\n",
       "    <tr>\n",
       "      <th>No</th>\n",
       "      <td>19.188278</td>\n",
       "      <td>17.59</td>\n",
       "      <td>7.25</td>\n",
       "      <td>48.33</td>\n",
       "      <td>2.991854</td>\n",
       "    </tr>\n",
       "  </tbody>\n",
       "</table>\n",
       "</div>"
      ],
      "text/plain": [
       "       total_bill                           tip\n",
       "             mean median   min    max      mean\n",
       "smoker                                         \n",
       "Yes     20.756344  17.92  3.07  50.81  3.008710\n",
       "No      19.188278  17.59  7.25  48.33  2.991854"
      ]
     },
     "execution_count": 289,
     "metadata": {},
     "output_type": "execute_result"
    }
   ],
   "source": [
    "tip.groupby(\"smoker\").agg({\n",
    "    \"total_bill\": [ \"mean\", \"median\", \"min\", \"max\"],\n",
    "    \"tip\": [\"mean\"]\n",
    "})"
   ]
  },
  {
   "cell_type": "code",
   "execution_count": 290,
   "id": "c626fb2b-5aeb-4a33-8109-0804ca492b3a",
   "metadata": {},
   "outputs": [
    {
     "data": {
      "text/html": [
       "<div>\n",
       "<style scoped>\n",
       "    .dataframe tbody tr th:only-of-type {\n",
       "        vertical-align: middle;\n",
       "    }\n",
       "\n",
       "    .dataframe tbody tr th {\n",
       "        vertical-align: top;\n",
       "    }\n",
       "\n",
       "    .dataframe thead th {\n",
       "        text-align: right;\n",
       "    }\n",
       "</style>\n",
       "<table border=\"1\" class=\"dataframe\">\n",
       "  <thead>\n",
       "    <tr style=\"text-align: right;\">\n",
       "      <th></th>\n",
       "      <th>total_bill</th>\n",
       "      <th>tip</th>\n",
       "      <th>sex</th>\n",
       "      <th>smoker</th>\n",
       "      <th>day</th>\n",
       "      <th>time</th>\n",
       "      <th>size</th>\n",
       "    </tr>\n",
       "  </thead>\n",
       "  <tbody>\n",
       "    <tr>\n",
       "      <th>0</th>\n",
       "      <td>16.99</td>\n",
       "      <td>1.01</td>\n",
       "      <td>Female</td>\n",
       "      <td>No</td>\n",
       "      <td>Sun</td>\n",
       "      <td>Dinner</td>\n",
       "      <td>2</td>\n",
       "    </tr>\n",
       "    <tr>\n",
       "      <th>1</th>\n",
       "      <td>10.34</td>\n",
       "      <td>1.66</td>\n",
       "      <td>Male</td>\n",
       "      <td>No</td>\n",
       "      <td>Sun</td>\n",
       "      <td>Dinner</td>\n",
       "      <td>3</td>\n",
       "    </tr>\n",
       "    <tr>\n",
       "      <th>2</th>\n",
       "      <td>21.01</td>\n",
       "      <td>3.50</td>\n",
       "      <td>Male</td>\n",
       "      <td>No</td>\n",
       "      <td>Sun</td>\n",
       "      <td>Dinner</td>\n",
       "      <td>3</td>\n",
       "    </tr>\n",
       "    <tr>\n",
       "      <th>3</th>\n",
       "      <td>23.68</td>\n",
       "      <td>3.31</td>\n",
       "      <td>Male</td>\n",
       "      <td>No</td>\n",
       "      <td>Sun</td>\n",
       "      <td>Dinner</td>\n",
       "      <td>2</td>\n",
       "    </tr>\n",
       "    <tr>\n",
       "      <th>4</th>\n",
       "      <td>24.59</td>\n",
       "      <td>3.61</td>\n",
       "      <td>Female</td>\n",
       "      <td>No</td>\n",
       "      <td>Sun</td>\n",
       "      <td>Dinner</td>\n",
       "      <td>4</td>\n",
       "    </tr>\n",
       "  </tbody>\n",
       "</table>\n",
       "</div>"
      ],
      "text/plain": [
       "   total_bill   tip     sex smoker  day    time  size\n",
       "0       16.99  1.01  Female     No  Sun  Dinner     2\n",
       "1       10.34  1.66    Male     No  Sun  Dinner     3\n",
       "2       21.01  3.50    Male     No  Sun  Dinner     3\n",
       "3       23.68  3.31    Male     No  Sun  Dinner     2\n",
       "4       24.59  3.61  Female     No  Sun  Dinner     4"
      ]
     },
     "execution_count": 290,
     "metadata": {},
     "output_type": "execute_result"
    }
   ],
   "source": [
    "tip.head()"
   ]
  },
  {
   "cell_type": "code",
   "execution_count": 293,
   "id": "e68835cb-33df-4186-847a-1b8a30727aab",
   "metadata": {},
   "outputs": [
    {
     "data": {
      "image/png": "[encoded data removed]",
      "text/plain": [
       "<Figure size 640x480 with 1 Axes>"
      ]
     },
     "metadata": {},
     "output_type": "display_data"
    }
   ],
   "source": [
    "tip[\"total_bill\"].hist(bins=30, ec=\"gold\")\n",
    "plt.show()"
   ]
  },
  {
   "cell_type": "code",
   "execution_count": 291,
   "id": "505d1689-7226-4f12-8ae6-1bc5503f45d8",
   "metadata": {},
   "outputs": [
    {
     "data": {
      "image/png": "[encoded data removed]",
      "text/plain": [
       "<Figure size 640x480 with 1 Axes>"
      ]
     },
     "metadata": {},
     "output_type": "display_data"
    }
   ],
   "source": [
    "plt.hist(tip[\"total_bill\"], bins=30, ec='gold')\n",
    "plt.show()"
   ]
  },
  {
   "cell_type": "markdown",
   "id": "b01854b9-8db8-4f98-88f7-ee13b267d6e1",
   "metadata": {},
   "source": [
    "    R language         "
   ]
  },
  {
   "cell_type": "code",
   "execution_count": 295,
   "id": "8983209b-1f0b-4968-9f0c-efe28df9b785",
   "metadata": {},
   "outputs": [
    {
     "data": {
      "image/png": "[encoded data removed]",
      "text/plain": [
       "<Figure size 640x480 with 1 Axes>"
      ]
     },
     "metadata": {},
     "output_type": "display_data"
    }
   ],
   "source": [
    "sns.histplot(data=tip, x=\"total_bill\", bins=30)\n",
    "plt.show()"
   ]
  },
  {
   "cell_type": "code",
   "execution_count": 296,
   "id": "549c1673-d4b2-4d31-a611-12900e9ed2bb",
   "metadata": {},
   "outputs": [
    {
     "data": {
      "image/png": "[encoded data removed]",
      "text/plain": [
       "<Figure size 640x480 with 1 Axes>"
      ]
     },
     "metadata": {},
     "output_type": "display_data"
    }
   ],
   "source": [
    "sns.histplot(data=tip, x=\"sex\", y=\"total_bill\", bins=30)\n",
    "plt.show()"
   ]
  },
  {
   "cell_type": "code",
   "execution_count": 297,
   "id": "c2fe69cd-9794-4065-9243-c857be0e6076",
   "metadata": {},
   "outputs": [
    {
     "data": {
      "image/png": "[encoded data removed]",
      "text/plain": [
       "<Figure size 640x480 with 1 Axes>"
      ]
     },
     "metadata": {},
     "output_type": "display_data"
    }
   ],
   "source": [
    "sns.histplot(data=tip, y=\"sex\", x=\"total_bill\", bins=30)\n",
    "plt.show()"
   ]
  },
  {
   "cell_type": "code",
   "execution_count": 298,
   "id": "1a009b8f-245c-4f94-a82a-b897c54c5d82",
   "metadata": {},
   "outputs": [
    {
     "data": {
      "text/plain": [
       "<Axes: xlabel='total_bill'>"
      ]
     },
     "execution_count": 298,
     "metadata": {},
     "output_type": "execute_result"
    },
    {
     "data": {
      "image/png": "[encoded data removed]",
      "text/plain": [
       "<Figure size 640x480 with 1 Axes>"
      ]
     },
     "metadata": {},
     "output_type": "display_data"
    }
   ],
   "source": [
    "sns.boxplot(data=tip, x=\"total_bill\")"
   ]
  },
  {
   "cell_type": "code",
   "execution_count": null,
   "id": "e0a1749d-2988-4964-86fd-11b3ed70ba4a",
   "metadata": {},
   "outputs": [],
   "source": []
  }
 ],
 "metadata": {
  "kernelspec": {
   "display_name": "Python [conda env:base] *",
   "language": "python",
   "name": "conda-base-py"
  },
  "language_info": {
   "codemirror_mode": {
    "name": "ipython",
    "version": 3
   },
   "file_extension": ".py",
   "mimetype": "text/x-python",
   "name": "python",
   "nbconvert_exporter": "python",
   "pygments_lexer": "ipython3",
   "version": "3.12.7"
  }
 },
 "nbformat": 4,
 "nbformat_minor": 5
}
