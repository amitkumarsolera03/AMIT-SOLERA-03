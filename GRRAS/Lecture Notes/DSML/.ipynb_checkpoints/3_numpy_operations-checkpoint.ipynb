{
 "cells": [
  {
   "cell_type": "markdown",
   "id": "8321f10b-cccc-42ad-9781-bbd819458472",
   "metadata": {},
   "source": [
    "    we should never create .py with the same as standard or third party modules\n",
    "\n",
    "**note** do not create files like\n",
    "\n",
    "            time.py, numpy.py, pandas.py, os.py, getpass.py ..."
   ]
  },
  {
   "cell_type": "code",
   "execution_count": 3,
   "id": "5388d07f-e309-4a9c-89aa-8c2e7bcdb464",
   "metadata": {},
   "outputs": [
    {
     "data": {
      "text/plain": [
       "['/Users/sachin/Library/CloudStorage/OneDrive-SharedLibraries-GrrasSolutionPvt.Ltd/DSML_June_Internship_02 - Live Class 📺/Class Code/Stats',\n",
       " '/opt/anaconda3/lib/python312.zip',\n",
       " '/opt/anaconda3/lib/python3.12',\n",
       " '/opt/anaconda3/lib/python3.12/lib-dynload',\n",
       " '',\n",
       " '/opt/anaconda3/lib/python3.12/site-packages',\n",
       " '/opt/anaconda3/lib/python3.12/site-packages/aeosa',\n",
       " '/opt/anaconda3/lib/python3.12/site-packages/setuptools/_vendor']"
      ]
     },
     "execution_count": 3,
     "metadata": {},
     "output_type": "execute_result"
    }
   ],
   "source": [
    "import sys\n",
    "# Desktop/mycustommodules/ *.py\n",
    "# sys.path.append(\"/user/sachin/Desktop/mycustommodules/mymodules.py\")\n",
    "sys.path # PATH "
   ]
  },
  {
   "cell_type": "code",
   "execution_count": 2,
   "id": "b5a0324e-57d1-4eea-8765-e3a577ea80c7",
   "metadata": {},
   "outputs": [
    {
     "name": "stdout",
     "output_type": "stream",
     "text": [
      "Collecting uv\n",
      "  Downloading uv-0.8.0-py3-none-macosx_11_0_arm64.whl.metadata (11 kB)\n",
      "Downloading uv-0.8.0-py3-none-macosx_11_0_arm64.whl (16.6 MB)\n",
      "\u001b[2K   \u001b[90m━━━━━━━━━━━━━━━━━━━━━━━━━━━━━━━━━━━━━━━━\u001b[0m \u001b[32m16.6/16.6 MB\u001b[0m \u001b[31m734.3 kB/s\u001b[0m eta \u001b[36m0:00:00\u001b[0m00:01\u001b[0m00:01\u001b[0m\n",
      "\u001b[?25hInstalling collected packages: uv\n",
      "Successfully installed uv-0.8.0\n"
     ]
    }
   ],
   "source": [
    "!pip install uv"
   ]
  },
  {
   "cell_type": "markdown",
   "id": "17f257f8-0586-4ee8-885f-322619766cb1",
   "metadata": {},
   "source": [
    "import time\n",
    "\n",
    "    first of all python look in current directory for a file time.py\n",
    "\n",
    "    if no time.py found than look into directories defined by PYTHONPATH\n",
    "\n",
    "        [\"c:\\users\\programfiles\\anaconda\\scripts\", \"...]"
   ]
  },
  {
   "cell_type": "code",
   "execution_count": 7,
   "id": "273d0bcf-02ff-4fa0-b2e2-ad9b68af2fdc",
   "metadata": {},
   "outputs": [
    {
     "name": "stdout",
     "output_type": "stream",
     "text": [
      "Overwriting mymodule.py\n"
     ]
    }
   ],
   "source": [
    "%%writefile mymodule.py\n",
    "\"\"\"\n",
    "Mymodule module\n",
    "\n",
    "    mymodule is demo module to tell how we create python modules\n",
    "\n",
    "Classes:\n",
    "    class A: \n",
    "        which contains some methods to process data\n",
    "        foo() - read and analyze data \n",
    "        bar() - write result data\n",
    "\n",
    "Functions:\n",
    "    read_dir_files(dir_path, ext=\".csv\") \n",
    "        - recursively reads all .csv files and create a single dataframe\n",
    "\n",
    "\"\"\"\n",
    "import time\n",
    "import os\n",
    "...\n",
    "\n",
    "GLOBAL_VAR = \"some config variables\"\n",
    "...\n",
    "\n",
    "class A:\n",
    "    \"\"\"doc string of A\"\"\"\n",
    "    def __init__(self):\n",
    "        pass\n",
    "    def foo(self):\n",
    "        print(\"calling foo method\")\n",
    "    def bar(self):\n",
    "        print(\"calling bar method\")\n",
    "\n",
    "def read_dir_files(dir_path, ext=\".csv\"):\n",
    "    \"\"\"read and create a single dataframe\"\"\"\n",
    "    print(\"inside read directory files function\")\n",
    "\n",
    "# import mymodule \n",
    "# mymodule.__name__ ==> __name__ = \"mymodule\"    [ as a module ]\n",
    "# python mymodule.py ==> __name__ = \"__main__\"   [ as a script ]\n",
    "\n",
    "print(\"value of __name__ is \", __name__)\n",
    "\n",
    "if __name__ == \"__main__\":\n",
    "    # below code will execute if we run mymodule.py\n",
    "    dir_path = \"data/\"\n",
    "    df = read_dir_files(dir_path)\n",
    "    obj = A()\n",
    "    obj.foo()\n",
    "    obj.bar()\n"
   ]
  },
  {
   "cell_type": "markdown",
   "id": "0225fe14-4e38-4164-8124-55ff7b503953",
   "metadata": {},
   "source": [
    "!operating_system command"
   ]
  },
  {
   "cell_type": "code",
   "execution_count": 8,
   "id": "67dbaf2b-2e3b-4f12-a211-a44df5048bcc",
   "metadata": {},
   "outputs": [
    {
     "name": "stdout",
     "output_type": "stream",
     "text": [
      "value of __name__ is  __main__\n",
      "inside read directory files function\n",
      "calling foo method\n",
      "calling bar method\n"
     ]
    }
   ],
   "source": [
    "!python mymodule.py"
   ]
  },
  {
   "cell_type": "code",
   "execution_count": 11,
   "id": "f944cea5-3e7e-40ea-8417-b4dc7db49822",
   "metadata": {},
   "outputs": [],
   "source": [
    "import mymodule as md"
   ]
  },
  {
   "cell_type": "code",
   "execution_count": 12,
   "id": "7e2fae1e-4c2c-4269-96d8-7038c45ba00e",
   "metadata": {},
   "outputs": [
    {
     "name": "stdout",
     "output_type": "stream",
     "text": [
      "inside read directory files function\n"
     ]
    }
   ],
   "source": [
    "md.read_dir_files('somedir')"
   ]
  },
  {
   "cell_type": "code",
   "execution_count": 13,
   "id": "63a099e3-c586-4461-adc4-5af1dec9047c",
   "metadata": {},
   "outputs": [
    {
     "name": "stdout",
     "output_type": "stream",
     "text": [
      "calling foo method\n",
      "calling bar method\n"
     ]
    }
   ],
   "source": [
    "from mymodule import A\n",
    "obj = A()\n",
    "obj.foo()\n",
    "obj.bar()"
   ]
  },
  {
   "cell_type": "markdown",
   "id": "041e4c0e-7fc2-49f2-ad07-04ba3925b627",
   "metadata": {},
   "source": [
    "## Numpy "
   ]
  },
  {
   "cell_type": "code",
   "execution_count": 24,
   "id": "f7a4d0c0-c84f-4705-b968-4c39b0d39145",
   "metadata": {},
   "outputs": [],
   "source": [
    "import numpy as np\n",
    "import matplotlib.pyplot as plt"
   ]
  },
  {
   "cell_type": "markdown",
   "id": "3c9a03b6-a001-49da-89f5-cd2b2e62bfcf",
   "metadata": {},
   "source": [
    "### Arrays \n",
    "\n",
    "    Scaler - 0 dim \n",
    "    Vector / 1d Array - 1 dim\n",
    "    Matric / 2d Array - 2 dim\n",
    "    nd array"
   ]
  },
  {
   "cell_type": "code",
   "execution_count": 22,
   "id": "5423fada-20fc-410b-9523-dbe0f7aaac41",
   "metadata": {},
   "outputs": [
    {
     "data": {
      "text/plain": [
       "3.141592653589793"
      ]
     },
     "execution_count": 22,
     "metadata": {},
     "output_type": "execute_result"
    }
   ],
   "source": [
    "np.pi"
   ]
  },
  {
   "cell_type": "code",
   "execution_count": 34,
   "id": "4e5bf453-0d91-4061-8c1c-773527a80be7",
   "metadata": {},
   "outputs": [],
   "source": [
    "angles = np.arange(0, 361, 15)\n",
    "rad_ang = np.radians(angles)"
   ]
  },
  {
   "cell_type": "code",
   "execution_count": 39,
   "id": "3aa39b8a-2981-4e11-93b0-0e79084af11e",
   "metadata": {},
   "outputs": [
    {
     "data": {
      "text/plain": [
       "array([0.        , 0.10649467, 0.21298933, 0.319484  , 0.42597866,\n",
       "       0.53247333, 0.638968  , 0.74546266, 0.85195733, 0.958452  ,\n",
       "       1.06494666, 1.17144133, 1.27793599, 1.38443066, 1.49092533,\n",
       "       1.59741999, 1.70391466, 1.81040933, 1.91690399, 2.02339866,\n",
       "       2.12989332, 2.23638799, 2.34288266, 2.44937732, 2.55587199,\n",
       "       2.66236666, 2.76886132, 2.87535599, 2.98185065, 3.08834532,\n",
       "       3.19483999, 3.30133465, 3.40782932, 3.51432399, 3.62081865,\n",
       "       3.72731332, 3.83380798, 3.94030265, 4.04679732, 4.15329198,\n",
       "       4.25978665, 4.36628132, 4.47277598, 4.57927065, 4.68576531,\n",
       "       4.79225998, 4.89875465, 5.00524931, 5.11174398, 5.21823864,\n",
       "       5.32473331, 5.43122798, 5.53772264, 5.64421731, 5.75071198,\n",
       "       5.85720664, 5.96370131, 6.07019597, 6.17669064, 6.28318531])"
      ]
     },
     "execution_count": 39,
     "metadata": {},
     "output_type": "execute_result"
    }
   ],
   "source": [
    "rads"
   ]
  },
  {
   "cell_type": "code",
   "execution_count": 229,
   "id": "69feb11b-909b-4c30-bce7-59bd5fd80d14",
   "metadata": {},
   "outputs": [
    {
     "data": {
      "image/png": "[encoded data removed]",
      "text/plain": [
       "<Figure size 768x576 with 1 Axes>"
      ]
     },
     "metadata": {},
     "output_type": "display_data"
    }
   ],
   "source": [
    "rads = np.linspace(0, 2*np.pi, 60)\n",
    "\n",
    "sin = np.sin(rads)\n",
    "cos = np.cos(rads)\n",
    "\n",
    "plt.figure(dpi=120)\n",
    "plt.plot(rads, sin, 'r--', label=\"sin\") \n",
    "plt.plot(rads, cos, 'b:', label=\"cos\")\n",
    "\n",
    "plt.title(\"sin vs cos\")\n",
    "plt.xlabel(\"angle in Deg\")\n",
    "plt.ylabel(\"sin/cos values\")\n",
    "\n",
    "angles = np.arange(0, 361, 15)\n",
    "rad_ang = np.radians(angles)\n",
    "plt.xticks(rad_ang, angles, rotation=90) # (values, labels)\n",
    "\n",
    "#plt.xticks(np.arange(0, 6.1, .5))\n",
    "#plt.xticks(np.arange(0, 6.1, .5), [chr(65+i) for i in range(13)])\n",
    "\n",
    "#plt.yticks(np.arange(-1, 1.1, .1))\n",
    "#plt.yticks([-1, 0, 1], ['low', 'medium', 'high'])\n",
    "plt.legend(loc=\"upper right\")\n",
    "plt.grid()\n",
    "plt.show()"
   ]
  },
  {
   "cell_type": "markdown",
   "id": "614a9ae9-56b6-46b4-b9fa-b0cd34e6b3aa",
   "metadata": {},
   "source": [
    "    array attributes \n",
    "\n",
    "        a.ndim\n",
    "        a.size\n",
    "        a.shape\n",
    "\n",
    "    how to create array\n",
    "\n",
    "        np.zeros\n",
    "        np.ones\n",
    "        np.eye\n",
    "        np.random.uniform\n",
    "        np.random.randint\n",
    "        np.random.random\n",
    "        np.random.normal\n",
    "        np.linspace\n",
    "        "
   ]
  },
  {
   "cell_type": "code",
   "execution_count": 17,
   "id": "cfdaf71e-f087-4759-8356-6850850810ba",
   "metadata": {},
   "outputs": [
    {
     "data": {
      "text/plain": [
       "array([14, 22, 30, 14, 47, 34, 14, 35, 13, 42, 46, 11, 29, 45, 35, 17, 44,\n",
       "       41, 34, 22])"
      ]
     },
     "execution_count": 17,
     "metadata": {},
     "output_type": "execute_result"
    }
   ],
   "source": [
    "data = np.random.randint(10, 50, 20)\n",
    "data"
   ]
  },
  {
   "cell_type": "code",
   "execution_count": 19,
   "id": "d7b2ebbc-0067-4d7d-83e7-e171424a6075",
   "metadata": {},
   "outputs": [
    {
     "data": {
      "text/plain": [
       "1"
      ]
     },
     "execution_count": 19,
     "metadata": {},
     "output_type": "execute_result"
    }
   ],
   "source": [
    "data.ndim # no axes "
   ]
  },
  {
   "cell_type": "code",
   "execution_count": 20,
   "id": "49dd66c5-e4d7-4192-ab62-95df20069050",
   "metadata": {},
   "outputs": [
    {
     "data": {
      "text/plain": [
       "(20,)"
      ]
     },
     "execution_count": 20,
     "metadata": {},
     "output_type": "execute_result"
    }
   ],
   "source": [
    "data.shape # orientation of data in array"
   ]
  },
  {
   "cell_type": "code",
   "execution_count": 21,
   "id": "336427d4-25e6-4272-b9eb-1ece21c8939b",
   "metadata": {},
   "outputs": [
    {
     "data": {
      "text/plain": [
       "20"
      ]
     },
     "execution_count": 21,
     "metadata": {},
     "output_type": "execute_result"
    }
   ],
   "source": [
    "data.size # no of items"
   ]
  },
  {
   "cell_type": "markdown",
   "id": "eda35e93-62b1-480f-b18b-492e60a045ed",
   "metadata": {},
   "source": [
    "## Operation"
   ]
  },
  {
   "cell_type": "code",
   "execution_count": 50,
   "id": "ed36bd9d-26ed-4677-a560-c540bbe919b1",
   "metadata": {},
   "outputs": [
    {
     "name": "stdout",
     "output_type": "stream",
     "text": [
      "[14 22 30 14 47 34 14 35 13 42 46 11 29 45 35 17 44 41 34 22]\n"
     ]
    }
   ],
   "source": [
    "print(data)"
   ]
  },
  {
   "cell_type": "code",
   "execution_count": 47,
   "id": "cc6df71d-b09f-467b-8bb5-f5b6e874d166",
   "metadata": {},
   "outputs": [
    {
     "data": {
      "text/plain": [
       "589"
      ]
     },
     "execution_count": 47,
     "metadata": {},
     "output_type": "execute_result"
    }
   ],
   "source": [
    "data.sum()"
   ]
  },
  {
   "cell_type": "code",
   "execution_count": 48,
   "id": "ad7914b7-cf2b-41a2-886d-fe991998281c",
   "metadata": {},
   "outputs": [
    {
     "data": {
      "text/plain": [
       "47"
      ]
     },
     "execution_count": 48,
     "metadata": {},
     "output_type": "execute_result"
    }
   ],
   "source": [
    "data.max()"
   ]
  },
  {
   "cell_type": "code",
   "execution_count": 49,
   "id": "c3e4ecf6-ea0d-49ad-85db-e84cd9707489",
   "metadata": {},
   "outputs": [
    {
     "data": {
      "text/plain": [
       "11"
      ]
     },
     "execution_count": 49,
     "metadata": {},
     "output_type": "execute_result"
    }
   ],
   "source": [
    "data.min() # minimum"
   ]
  },
  {
   "cell_type": "code",
   "execution_count": 51,
   "id": "40bbacef-2c20-4ba2-bdf3-cf90b20a66db",
   "metadata": {},
   "outputs": [
    {
     "data": {
      "text/plain": [
       "12.294205952398878"
      ]
     },
     "execution_count": 51,
     "metadata": {},
     "output_type": "execute_result"
    }
   ],
   "source": [
    "data.std()  # standard deviation"
   ]
  },
  {
   "cell_type": "code",
   "execution_count": 52,
   "id": "6f5a0e78-a08c-49b2-a439-4c049755f5d6",
   "metadata": {},
   "outputs": [
    {
     "data": {
      "text/plain": [
       "151.14749999999998"
      ]
     },
     "execution_count": 52,
     "metadata": {},
     "output_type": "execute_result"
    }
   ],
   "source": [
    "data.var() # variance"
   ]
  },
  {
   "cell_type": "code",
   "execution_count": 54,
   "id": "5d9a8b18-fc6d-4f57-95c1-62e8b2cd78a3",
   "metadata": {},
   "outputs": [
    {
     "data": {
      "text/plain": [
       "16.25"
      ]
     },
     "execution_count": 54,
     "metadata": {},
     "output_type": "execute_result"
    }
   ],
   "source": [
    "np.quantile(data, 0.25) # q1"
   ]
  },
  {
   "cell_type": "code",
   "execution_count": 55,
   "id": "de191619-320b-4865-9d6a-e6bae974cc6a",
   "metadata": {},
   "outputs": [
    {
     "data": {
      "text/plain": [
       "32.0"
      ]
     },
     "execution_count": 55,
     "metadata": {},
     "output_type": "execute_result"
    }
   ],
   "source": [
    "np.median(data)"
   ]
  },
  {
   "cell_type": "code",
   "execution_count": 56,
   "id": "cd83f310-e498-4213-8007-e7d080a5c3c2",
   "metadata": {},
   "outputs": [
    {
     "data": {
      "text/plain": [
       "32.0"
      ]
     },
     "execution_count": 56,
     "metadata": {},
     "output_type": "execute_result"
    }
   ],
   "source": [
    "np.quantile(data, 0.50)"
   ]
  },
  {
   "cell_type": "code",
   "execution_count": 57,
   "id": "58a93f14-0a71-45ae-82c3-2e8b1ef301cc",
   "metadata": {},
   "outputs": [
    {
     "data": {
      "text/plain": [
       "29.45"
      ]
     },
     "execution_count": 57,
     "metadata": {},
     "output_type": "execute_result"
    }
   ],
   "source": [
    "np.mean(data)"
   ]
  },
  {
   "cell_type": "code",
   "execution_count": 58,
   "id": "d6ec7f2a-3a2d-4751-ba15-e2d292f883d9",
   "metadata": {},
   "outputs": [
    {
     "data": {
      "text/plain": [
       "array([3.80735492, 4.45943162, 4.9068906 , 3.80735492, 5.55458885,\n",
       "       5.08746284, 3.80735492, 5.12928302, 3.70043972, 5.39231742,\n",
       "       5.52356196, 3.45943162, 4.857981  , 5.4918531 , 5.12928302,\n",
       "       4.08746284, 5.45943162, 5.357552  , 5.08746284, 4.45943162])"
      ]
     },
     "execution_count": 58,
     "metadata": {},
     "output_type": "execute_result"
    }
   ],
   "source": [
    "np.log2(data)"
   ]
  },
  {
   "cell_type": "code",
   "execution_count": 61,
   "id": "4df32de9-3cfa-465c-9065-aa13615ee995",
   "metadata": {},
   "outputs": [],
   "source": [
    "data.sort() # inplace\n",
    "# data = data.sort()"
   ]
  },
  {
   "cell_type": "code",
   "execution_count": 62,
   "id": "e1e3d80f-6a05-4459-ae7c-8f2055560289",
   "metadata": {},
   "outputs": [
    {
     "data": {
      "text/plain": [
       "array([11, 13, 14, 14, 14, 17, 22, 22, 29, 30, 34, 34, 35, 35, 41, 42, 44,\n",
       "       45, 46, 47])"
      ]
     },
     "execution_count": 62,
     "metadata": {},
     "output_type": "execute_result"
    }
   ],
   "source": [
    "data"
   ]
  },
  {
   "cell_type": "code",
   "execution_count": null,
   "id": "313edbec-4d8c-4b85-90a1-1b33459149e9",
   "metadata": {},
   "outputs": [],
   "source": [
    "x = np.linspace(0.1, 1000, 100)\n",
    "\n"
   ]
  },
  {
   "cell_type": "code",
   "execution_count": 67,
   "id": "76e551a4-82b9-4edd-a974-0aae2e8670ae",
   "metadata": {},
   "outputs": [
    {
     "data": {
      "text/plain": [
       "[<matplotlib.lines.Line2D at 0x17fe206b0>]"
      ]
     },
     "execution_count": 67,
     "metadata": {},
     "output_type": "execute_result"
    },
    {
     "data": {
      "image/png": "[encoded data removed]",
      "text/plain": [
       "<Figure size 640x480 with 1 Axes>"
      ]
     },
     "metadata": {},
     "output_type": "display_data"
    }
   ],
   "source": [
    "x = np.linspace(0.1, 1000, 100)\n",
    "plt.plot(x, np.log2(x))\n",
    "plt.plot(x, np.log(x))\n"
   ]
  },
  {
   "cell_type": "code",
   "execution_count": 59,
   "id": "5586fbaa-e61a-4a15-9002-7f4b41e232a3",
   "metadata": {},
   "outputs": [
    {
     "data": {
      "text/plain": [
       "array([1.20260428e+06, 3.58491285e+09, 1.06864746e+13, 1.20260428e+06,\n",
       "       2.58131289e+20, 5.83461743e+14, 1.20260428e+06, 1.58601345e+15,\n",
       "       4.42413392e+05, 1.73927494e+18, 9.49611942e+19, 5.98741417e+04,\n",
       "       3.93133430e+12, 3.49342711e+19, 1.58601345e+15, 2.41549528e+07,\n",
       "       1.28516001e+19, 6.39843494e+17, 5.83461743e+14, 3.58491285e+09])"
      ]
     },
     "execution_count": 59,
     "metadata": {},
     "output_type": "execute_result"
    }
   ],
   "source": [
    "np.exp(data)"
   ]
  },
  {
   "cell_type": "markdown",
   "id": "13902ec4-68cd-4297-a607-b7bb498739b6",
   "metadata": {},
   "source": [
    "## reshaping"
   ]
  },
  {
   "cell_type": "code",
   "execution_count": 68,
   "id": "5580b7bb-f62e-45b9-9428-06bffc70bbaf",
   "metadata": {},
   "outputs": [
    {
     "data": {
      "text/plain": [
       "array([11, 13, 14, 14, 14, 17, 22, 22, 29, 30, 34, 34, 35, 35, 41, 42, 44,\n",
       "       45, 46, 47])"
      ]
     },
     "execution_count": 68,
     "metadata": {},
     "output_type": "execute_result"
    }
   ],
   "source": [
    "data"
   ]
  },
  {
   "cell_type": "code",
   "execution_count": 69,
   "id": "a1db3c75-ef5c-4c77-8523-d30c4a99344a",
   "metadata": {},
   "outputs": [
    {
     "data": {
      "text/plain": [
       "(20,)"
      ]
     },
     "execution_count": 69,
     "metadata": {},
     "output_type": "execute_result"
    }
   ],
   "source": [
    "data.shape"
   ]
  },
  {
   "cell_type": "markdown",
   "id": "eab2433f-7377-42df-8f31-f8e96e68f4f3",
   "metadata": {},
   "source": [
    "m*n = 20"
   ]
  },
  {
   "cell_type": "code",
   "execution_count": 70,
   "id": "fb270f4e-903b-4eea-a805-f48a9a53ff7e",
   "metadata": {},
   "outputs": [
    {
     "data": {
      "text/plain": [
       "array([[11, 13, 14, 14, 14],\n",
       "       [17, 22, 22, 29, 30],\n",
       "       [34, 34, 35, 35, 41],\n",
       "       [42, 44, 45, 46, 47]])"
      ]
     },
     "execution_count": 70,
     "metadata": {},
     "output_type": "execute_result"
    }
   ],
   "source": [
    "new_data = data.reshape(4, 5)\n",
    "new_data"
   ]
  },
  {
   "cell_type": "code",
   "execution_count": 71,
   "id": "366678ee-5c4b-42d8-bdb2-165db37067b9",
   "metadata": {},
   "outputs": [
    {
     "data": {
      "text/plain": [
       "(4, 5)"
      ]
     },
     "execution_count": 71,
     "metadata": {},
     "output_type": "execute_result"
    }
   ],
   "source": [
    "new_data.shape"
   ]
  },
  {
   "cell_type": "code",
   "execution_count": 73,
   "id": "5e817e8d-a7f3-4206-b203-92e06bf327ed",
   "metadata": {},
   "outputs": [
    {
     "data": {
      "text/plain": [
       "2"
      ]
     },
     "execution_count": 73,
     "metadata": {},
     "output_type": "execute_result"
    }
   ],
   "source": [
    "new_data.ndim"
   ]
  },
  {
   "cell_type": "code",
   "execution_count": 76,
   "id": "b2480126-d84a-4047-a663-ff3ba35dde9e",
   "metadata": {},
   "outputs": [],
   "source": [
    "d3 = data.reshape(5, 2, 2)"
   ]
  },
  {
   "cell_type": "code",
   "execution_count": 77,
   "id": "b85227bc-3d2c-40f6-8746-61612db2936e",
   "metadata": {},
   "outputs": [
    {
     "data": {
      "text/plain": [
       "array([[[11, 13],\n",
       "        [14, 14]],\n",
       "\n",
       "       [[14, 17],\n",
       "        [22, 22]],\n",
       "\n",
       "       [[29, 30],\n",
       "        [34, 34]],\n",
       "\n",
       "       [[35, 35],\n",
       "        [41, 42]],\n",
       "\n",
       "       [[44, 45],\n",
       "        [46, 47]]])"
      ]
     },
     "execution_count": 77,
     "metadata": {},
     "output_type": "execute_result"
    }
   ],
   "source": [
    "d3"
   ]
  },
  {
   "cell_type": "code",
   "execution_count": 78,
   "id": "ffab7cfd-f7d6-43d6-afc0-9205481e9e77",
   "metadata": {},
   "outputs": [
    {
     "data": {
      "text/plain": [
       "(5, 2, 2)"
      ]
     },
     "execution_count": 78,
     "metadata": {},
     "output_type": "execute_result"
    }
   ],
   "source": [
    "d3.shape"
   ]
  },
  {
   "cell_type": "code",
   "execution_count": 80,
   "id": "d2821d8e-8789-4220-80c0-057bca87178b",
   "metadata": {},
   "outputs": [],
   "source": [
    "d3_c = d3.flatten() # nd array convert 1d array create a copy\n",
    "# view   copy"
   ]
  },
  {
   "cell_type": "code",
   "execution_count": 81,
   "id": "b3ff3952-a8a8-4497-ad74-1a2882532757",
   "metadata": {},
   "outputs": [
    {
     "data": {
      "text/plain": [
       "array([11, 13, 14, 14, 14, 17, 22, 22, 29, 30, 34, 34, 35, 35, 41, 42, 44,\n",
       "       45, 46, 47])"
      ]
     },
     "execution_count": 81,
     "metadata": {},
     "output_type": "execute_result"
    }
   ],
   "source": [
    "d3_c "
   ]
  },
  {
   "cell_type": "code",
   "execution_count": 82,
   "id": "8ea5e228-8990-42c6-8d46-377c9799cb74",
   "metadata": {},
   "outputs": [],
   "source": [
    "d3_c[:3] = 0"
   ]
  },
  {
   "cell_type": "code",
   "execution_count": 83,
   "id": "125b8038-15cc-45ef-90cb-b987dd3296d3",
   "metadata": {},
   "outputs": [
    {
     "data": {
      "text/plain": [
       "array([ 0,  0,  0, 14, 14, 17, 22, 22, 29, 30, 34, 34, 35, 35, 41, 42, 44,\n",
       "       45, 46, 47])"
      ]
     },
     "execution_count": 83,
     "metadata": {},
     "output_type": "execute_result"
    }
   ],
   "source": [
    "d3_c"
   ]
  },
  {
   "cell_type": "code",
   "execution_count": 84,
   "id": "7acbafb0-95ab-4f03-b763-a631ad086f10",
   "metadata": {},
   "outputs": [
    {
     "data": {
      "text/plain": [
       "array([[[11, 13],\n",
       "        [14, 14]],\n",
       "\n",
       "       [[14, 17],\n",
       "        [22, 22]],\n",
       "\n",
       "       [[29, 30],\n",
       "        [34, 34]],\n",
       "\n",
       "       [[35, 35],\n",
       "        [41, 42]],\n",
       "\n",
       "       [[44, 45],\n",
       "        [46, 47]]])"
      ]
     },
     "execution_count": 84,
     "metadata": {},
     "output_type": "execute_result"
    }
   ],
   "source": [
    "d3"
   ]
  },
  {
   "cell_type": "code",
   "execution_count": 86,
   "id": "648a1362-ae04-4761-99a8-bf900f7cefe4",
   "metadata": {},
   "outputs": [],
   "source": [
    "d3_v = d3.ravel() # nd array convert 1 D array creates a view"
   ]
  },
  {
   "cell_type": "code",
   "execution_count": 87,
   "id": "ee60f0c8-485a-4fed-ab50-b9a7664a2097",
   "metadata": {},
   "outputs": [
    {
     "data": {
      "text/plain": [
       "array([11, 13, 14, 14, 14, 17, 22, 22, 29, 30, 34, 34, 35, 35, 41, 42, 44,\n",
       "       45, 46, 47])"
      ]
     },
     "execution_count": 87,
     "metadata": {},
     "output_type": "execute_result"
    }
   ],
   "source": [
    "d3_v"
   ]
  },
  {
   "cell_type": "code",
   "execution_count": 88,
   "id": "7247a18e-e9d6-45cf-a426-03b90302e29d",
   "metadata": {},
   "outputs": [],
   "source": [
    "d3_v[:3] = 0"
   ]
  },
  {
   "cell_type": "code",
   "execution_count": 89,
   "id": "f37b102b-ca1b-4073-9f8f-5a58dc6ced16",
   "metadata": {},
   "outputs": [
    {
     "data": {
      "text/plain": [
       "array([ 0,  0,  0, 14, 14, 17, 22, 22, 29, 30, 34, 34, 35, 35, 41, 42, 44,\n",
       "       45, 46, 47])"
      ]
     },
     "execution_count": 89,
     "metadata": {},
     "output_type": "execute_result"
    }
   ],
   "source": [
    "d3_v"
   ]
  },
  {
   "cell_type": "code",
   "execution_count": 90,
   "id": "3ae06275-ddd8-42c0-92d2-64ef1213e846",
   "metadata": {},
   "outputs": [
    {
     "data": {
      "text/plain": [
       "array([[[ 0,  0],\n",
       "        [ 0, 14]],\n",
       "\n",
       "       [[14, 17],\n",
       "        [22, 22]],\n",
       "\n",
       "       [[29, 30],\n",
       "        [34, 34]],\n",
       "\n",
       "       [[35, 35],\n",
       "        [41, 42]],\n",
       "\n",
       "       [[44, 45],\n",
       "        [46, 47]]])"
      ]
     },
     "execution_count": 90,
     "metadata": {},
     "output_type": "execute_result"
    }
   ],
   "source": [
    "d3"
   ]
  },
  {
   "cell_type": "code",
   "execution_count": 91,
   "id": "24d4e730-7ac7-43f1-8cc2-2a66d33fef81",
   "metadata": {},
   "outputs": [],
   "source": [
    "# jaipur, delhi  merge"
   ]
  },
  {
   "cell_type": "code",
   "execution_count": 92,
   "id": "59120fa8-25b5-48f5-ac1c-c535c139dc60",
   "metadata": {},
   "outputs": [],
   "source": [
    "a = np.random.randint(1, 10, 20).reshape(5, 4)\n",
    "b = np.random.randint(10, 50, 40).reshape(10, 4)"
   ]
  },
  {
   "cell_type": "code",
   "execution_count": 93,
   "id": "98653cb5-2293-4b2b-bd8d-72834e99a2d4",
   "metadata": {},
   "outputs": [
    {
     "data": {
      "text/plain": [
       "array([[4, 6, 2, 9],\n",
       "       [6, 8, 4, 5],\n",
       "       [5, 6, 8, 5],\n",
       "       [6, 1, 7, 7],\n",
       "       [9, 2, 2, 8]])"
      ]
     },
     "execution_count": 93,
     "metadata": {},
     "output_type": "execute_result"
    }
   ],
   "source": [
    "a # jaipur"
   ]
  },
  {
   "cell_type": "code",
   "execution_count": 94,
   "id": "91e1c1ad-c239-440d-8ee4-10b5767ed288",
   "metadata": {},
   "outputs": [
    {
     "data": {
      "text/plain": [
       "array([[48, 46, 14, 40],\n",
       "       [27, 48, 26, 22],\n",
       "       [29, 19, 26, 45],\n",
       "       [23, 48, 21, 41],\n",
       "       [33, 21, 44, 24],\n",
       "       [25, 19, 36, 36],\n",
       "       [19, 30, 32, 29],\n",
       "       [30, 46, 33, 42],\n",
       "       [14, 21, 11, 36],\n",
       "       [13, 43, 23, 11]])"
      ]
     },
     "execution_count": 94,
     "metadata": {},
     "output_type": "execute_result"
    }
   ],
   "source": [
    "b # delhi sales"
   ]
  },
  {
   "cell_type": "code",
   "execution_count": 97,
   "id": "9afc86c4-ea76-40a1-9845-aa7292a15778",
   "metadata": {},
   "outputs": [
    {
     "data": {
      "text/plain": [
       "(5, 4)"
      ]
     },
     "execution_count": 97,
     "metadata": {},
     "output_type": "execute_result"
    }
   ],
   "source": [
    "a.shape"
   ]
  },
  {
   "cell_type": "code",
   "execution_count": 98,
   "id": "6dc1eac4-5494-4d5b-9f28-e78975267a41",
   "metadata": {},
   "outputs": [
    {
     "data": {
      "text/plain": [
       "(10, 4)"
      ]
     },
     "execution_count": 98,
     "metadata": {},
     "output_type": "execute_result"
    }
   ],
   "source": [
    "b.shape"
   ]
  },
  {
   "cell_type": "code",
   "execution_count": 99,
   "id": "1cd326ba-0cad-4d68-a3a3-bfe3cf4006b0",
   "metadata": {},
   "outputs": [],
   "source": [
    "c = np.vstack( (a, b,) ) # "
   ]
  },
  {
   "cell_type": "code",
   "execution_count": 100,
   "id": "34eb7080-212f-4400-9b8e-b9b12790aad0",
   "metadata": {},
   "outputs": [
    {
     "data": {
      "text/plain": [
       "(15, 4)"
      ]
     },
     "execution_count": 100,
     "metadata": {},
     "output_type": "execute_result"
    }
   ],
   "source": [
    "c.shape"
   ]
  },
  {
   "cell_type": "code",
   "execution_count": 101,
   "id": "8742c555-111d-42c9-83f1-d805b233cab8",
   "metadata": {},
   "outputs": [
    {
     "data": {
      "text/plain": [
       "array([[ 4,  6,  2,  9],\n",
       "       [ 6,  8,  4,  5],\n",
       "       [ 5,  6,  8,  5],\n",
       "       [ 6,  1,  7,  7],\n",
       "       [ 9,  2,  2,  8],\n",
       "       [48, 46, 14, 40],\n",
       "       [27, 48, 26, 22],\n",
       "       [29, 19, 26, 45],\n",
       "       [23, 48, 21, 41],\n",
       "       [33, 21, 44, 24],\n",
       "       [25, 19, 36, 36],\n",
       "       [19, 30, 32, 29],\n",
       "       [30, 46, 33, 42],\n",
       "       [14, 21, 11, 36],\n",
       "       [13, 43, 23, 11]])"
      ]
     },
     "execution_count": 101,
     "metadata": {},
     "output_type": "execute_result"
    }
   ],
   "source": [
    "c"
   ]
  },
  {
   "cell_type": "code",
   "execution_count": 102,
   "id": "15cff872-0249-4dad-b356-807b74f5727a",
   "metadata": {},
   "outputs": [
    {
     "data": {
      "text/plain": [
       "array([[81, 50, 84],\n",
       "       [63, 94, 64],\n",
       "       [94, 64, 62],\n",
       "       [56, 77, 70],\n",
       "       [56, 67, 76],\n",
       "       [67, 91, 80],\n",
       "       [77, 55, 50],\n",
       "       [75, 59, 88],\n",
       "       [54, 92, 52],\n",
       "       [67, 84, 66]])"
      ]
     },
     "execution_count": 102,
     "metadata": {},
     "output_type": "execute_result"
    }
   ],
   "source": [
    "imp = np.random.randint(50, 100, 30).reshape(-1, 3)\n",
    "imp"
   ]
  },
  {
   "cell_type": "code",
   "execution_count": 103,
   "id": "45c0d13e-a8a2-4ef1-a417-935ee3c897fc",
   "metadata": {},
   "outputs": [
    {
     "data": {
      "text/plain": [
       "array([[83, 60],\n",
       "       [73, 75],\n",
       "       [69, 70],\n",
       "       [53, 93],\n",
       "       [71, 92],\n",
       "       [87, 56],\n",
       "       [88, 80],\n",
       "       [81, 65],\n",
       "       [80, 51],\n",
       "       [83, 98]])"
      ]
     },
     "execution_count": 103,
     "metadata": {},
     "output_type": "execute_result"
    }
   ],
   "source": [
    "no_imp = np.random.randint(50, 100, 20).reshape(10, -1)\n",
    "no_imp"
   ]
  },
  {
   "cell_type": "code",
   "execution_count": 104,
   "id": "2484712c-ef05-4fff-aecf-f6f32e2a6630",
   "metadata": {},
   "outputs": [],
   "source": [
    "marks = np.hstack((imp, no_imp))"
   ]
  },
  {
   "cell_type": "code",
   "execution_count": 105,
   "id": "f4bd676b-2b21-46f9-a000-627a2b85e27f",
   "metadata": {},
   "outputs": [
    {
     "data": {
      "text/plain": [
       "array([[81, 50, 84, 83, 60],\n",
       "       [63, 94, 64, 73, 75],\n",
       "       [94, 64, 62, 69, 70],\n",
       "       [56, 77, 70, 53, 93],\n",
       "       [56, 67, 76, 71, 92],\n",
       "       [67, 91, 80, 87, 56],\n",
       "       [77, 55, 50, 88, 80],\n",
       "       [75, 59, 88, 81, 65],\n",
       "       [54, 92, 52, 80, 51],\n",
       "       [67, 84, 66, 83, 98]])"
      ]
     },
     "execution_count": 105,
     "metadata": {},
     "output_type": "execute_result"
    }
   ],
   "source": [
    "marks"
   ]
  },
  {
   "cell_type": "markdown",
   "id": "ff3d6c06-84cb-44e1-ad9f-6c8f770b4b50",
   "metadata": {},
   "source": [
    "# Operations \n",
    "\n",
    "    element wise \n",
    "\n",
    "    matrix operation"
   ]
  },
  {
   "cell_type": "code",
   "execution_count": 110,
   "id": "9b454202-8455-42f8-91de-5899d10f5b11",
   "metadata": {},
   "outputs": [
    {
     "data": {
      "text/plain": [
       "array([[4, 6, 2, 9],\n",
       "       [6, 8, 4, 5],\n",
       "       [5, 6, 8, 5],\n",
       "       [6, 1, 7, 7],\n",
       "       [9, 2, 2, 8]])"
      ]
     },
     "execution_count": 110,
     "metadata": {},
     "output_type": "execute_result"
    }
   ],
   "source": [
    "a"
   ]
  },
  {
   "cell_type": "code",
   "execution_count": 111,
   "id": "5648c8bd-9206-43d0-a29d-e3718c58dd4c",
   "metadata": {},
   "outputs": [
    {
     "data": {
      "text/plain": [
       "array([[20, 30, 10, 45],\n",
       "       [30, 40, 20, 25],\n",
       "       [25, 30, 40, 25],\n",
       "       [30,  5, 35, 35],\n",
       "       [45, 10, 10, 40]])"
      ]
     },
     "execution_count": 111,
     "metadata": {},
     "output_type": "execute_result"
    }
   ],
   "source": [
    "a*5"
   ]
  },
  {
   "cell_type": "markdown",
   "id": "5720a6bf-9c7b-4695-ad19-5ecfaf370dd1",
   "metadata": {},
   "source": [
    "    a shape \n",
    "            5, 4\n",
    "    mul        4"
   ]
  },
  {
   "cell_type": "code",
   "execution_count": 123,
   "id": "6a22770f-ff62-4b9d-b8c2-57392cf7ec7a",
   "metadata": {},
   "outputs": [
    {
     "data": {
      "text/plain": [
       "(5, 4)"
      ]
     },
     "execution_count": 123,
     "metadata": {},
     "output_type": "execute_result"
    }
   ],
   "source": [
    "a.shape"
   ]
  },
  {
   "cell_type": "code",
   "execution_count": 122,
   "id": "e7e03cd4-cea5-41e9-ac79-e192e06660e5",
   "metadata": {},
   "outputs": [
    {
     "name": "stdout",
     "output_type": "stream",
     "text": [
      "(4,)\n"
     ]
    },
    {
     "data": {
      "text/plain": [
       "array([10, 20, 30, 40])"
      ]
     },
     "execution_count": 122,
     "metadata": {},
     "output_type": "execute_result"
    }
   ],
   "source": [
    "b = np.array([10, 20, 30, 40])\n",
    "print(b.shape)\n",
    "b"
   ]
  },
  {
   "cell_type": "code",
   "execution_count": 115,
   "id": "6d9535bd-e49b-410d-96a7-059e07cef7e4",
   "metadata": {},
   "outputs": [
    {
     "data": {
      "text/plain": [
       "array([[4, 6, 2, 9],\n",
       "       [6, 8, 4, 5],\n",
       "       [5, 6, 8, 5],\n",
       "       [6, 1, 7, 7],\n",
       "       [9, 2, 2, 8]])"
      ]
     },
     "execution_count": 115,
     "metadata": {},
     "output_type": "execute_result"
    }
   ],
   "source": [
    "a"
   ]
  },
  {
   "cell_type": "markdown",
   "id": "c98c5e51-817a-4b09-8a6e-9caaa2258af7",
   "metadata": {},
   "source": [
    "    \n",
    "    # ? b -> \n",
    "    [[10, 20, 30, 40],\n",
    "    [10, 20, 30, 40],\n",
    "    [10, 20, 30, 40],\n",
    "    [10, 20, 30, 40],\n",
    "    [10, 20, 30, 40]]"
   ]
  },
  {
   "cell_type": "code",
   "execution_count": 117,
   "id": "f197a588-d51b-446a-b0f9-50fd15fb517f",
   "metadata": {},
   "outputs": [
    {
     "data": {
      "text/plain": [
       "array([[ 40, 120,  60, 360],\n",
       "       [ 60, 160, 120, 200],\n",
       "       [ 50, 120, 240, 200],\n",
       "       [ 60,  20, 210, 280],\n",
       "       [ 90,  40,  60, 320]])"
      ]
     },
     "execution_count": 117,
     "metadata": {},
     "output_type": "execute_result"
    }
   ],
   "source": [
    "a*b"
   ]
  },
  {
   "cell_type": "code",
   "execution_count": 128,
   "id": "ea23d4ec-5852-4a77-990f-e80915d781b8",
   "metadata": {},
   "outputs": [
    {
     "data": {
      "text/plain": [
       "array([[10],\n",
       "       [20],\n",
       "       [30],\n",
       "       [40],\n",
       "       [50]])"
      ]
     },
     "execution_count": 128,
     "metadata": {},
     "output_type": "execute_result"
    }
   ],
   "source": [
    "b = np.array([10, 20, 30, 40, 50]).reshape(5, 1)\n",
    "b"
   ]
  },
  {
   "cell_type": "code",
   "execution_count": 129,
   "id": "2657baa2-983c-4d05-9a32-422d32257b8f",
   "metadata": {},
   "outputs": [
    {
     "data": {
      "text/plain": [
       "array([[4, 6, 2, 9],\n",
       "       [6, 8, 4, 5],\n",
       "       [5, 6, 8, 5],\n",
       "       [6, 1, 7, 7],\n",
       "       [9, 2, 2, 8]])"
      ]
     },
     "execution_count": 129,
     "metadata": {},
     "output_type": "execute_result"
    }
   ],
   "source": [
    "a"
   ]
  },
  {
   "cell_type": "markdown",
   "id": "7a471042-1e92-401a-a937-5af0070f7db3",
   "metadata": {},
   "source": [
    "shape should be same if we are doing element wise operation"
   ]
  },
  {
   "cell_type": "code",
   "execution_count": 130,
   "id": "2aaa39ed-3e48-45a6-a135-f175028e1810",
   "metadata": {},
   "outputs": [
    {
     "name": "stdout",
     "output_type": "stream",
     "text": [
      "(5, 1)\n",
      "(5, 4)\n"
     ]
    },
    {
     "data": {
      "text/plain": [
       "array([[ 40,  60,  20,  90],\n",
       "       [120, 160,  80, 100],\n",
       "       [150, 180, 240, 150],\n",
       "       [240,  40, 280, 280],\n",
       "       [450, 100, 100, 400]])"
      ]
     },
     "execution_count": 130,
     "metadata": {},
     "output_type": "execute_result"
    }
   ],
   "source": [
    "\n",
    "print(b.shape)\n",
    "print(a.shape)\n",
    "b * a"
   ]
  },
  {
   "cell_type": "raw",
   "id": "3f51891a-0c6c-4262-bd5a-3ffcf5cea4af",
   "metadata": {},
   "source": [
    "a = [\n",
    "    [a00, a01, a02],\n",
    "    [a10, a11, a12],\n",
    "]\n",
    "\n",
    "b = [\n",
    "    [b00, b01],\n",
    "    [b10, b11],\n",
    "    [b20, b21]\n",
    "]\n",
    "\n",
    "a.dot(b) # dot product a.b (matrix multiplication)\n",
    "a m*n    b n*k    r = mxk\n",
    "\n",
    "r = [\n",
    "    [ a00*b00+a01*b10+a02*b20    a00*b01+a01*b11+a02*b21],\n",
    "    [ a10*b00+a11*b10+a12*b20    a10*b01+a11*b11+a12*b21]\n",
    "]"
   ]
  },
  {
   "cell_type": "code",
   "execution_count": 133,
   "id": "6707f8e9-e906-4d40-83ef-e0008d3905df",
   "metadata": {},
   "outputs": [
    {
     "name": "stdout",
     "output_type": "stream",
     "text": [
      "(2, 3)\n",
      "(3, 2)\n"
     ]
    }
   ],
   "source": [
    "a = np.array([\n",
    "    [1, 2, 3],\n",
    "    [4, 5, 6]\n",
    "])\n",
    "print(a.shape)\n",
    "b = np.array([\n",
    "    [1, 2],\n",
    "    [3, 4],\n",
    "    [5, 6]\n",
    "])\n",
    "print(b.shape)"
   ]
  },
  {
   "cell_type": "code",
   "execution_count": 135,
   "id": "e2b7178d-7041-4d91-b41b-c5885d754232",
   "metadata": {},
   "outputs": [
    {
     "data": {
      "text/plain": [
       "array([[22, 28],\n",
       "       [49, 64]])"
      ]
     },
     "execution_count": 135,
     "metadata": {},
     "output_type": "execute_result"
    }
   ],
   "source": [
    "# mat multiplication --> A mxn   B nxk\n",
    "r = a.dot(b) \n",
    "#r = np.matmul(a, b)\n",
    "r"
   ]
  },
  {
   "cell_type": "code",
   "execution_count": 136,
   "id": "c360ee4d-13d5-4b4e-8df8-fe269769b63f",
   "metadata": {},
   "outputs": [
    {
     "data": {
      "text/plain": [
       "array([[1, 2, 3],\n",
       "       [4, 5, 6]])"
      ]
     },
     "execution_count": 136,
     "metadata": {},
     "output_type": "execute_result"
    }
   ],
   "source": [
    "a"
   ]
  },
  {
   "cell_type": "code",
   "execution_count": 148,
   "id": "89aca43c-a142-43f3-9c08-73ae0a55eca0",
   "metadata": {},
   "outputs": [],
   "source": [
    "a = np.random.randint(50, 100, 15)\n",
    "b = np.random.randint(50, 100, 15)"
   ]
  },
  {
   "cell_type": "code",
   "execution_count": 149,
   "id": "2b48d60a-15bb-4b33-93ac-8a2bfd14bc2f",
   "metadata": {},
   "outputs": [
    {
     "data": {
      "text/plain": [
       "array([99, 54, 82, 90, 67, 61, 96, 66, 88, 95, 59, 87, 81, 64, 66])"
      ]
     },
     "execution_count": 149,
     "metadata": {},
     "output_type": "execute_result"
    }
   ],
   "source": [
    "a\n",
    "# a and b are related using indexes"
   ]
  },
  {
   "cell_type": "code",
   "execution_count": 150,
   "id": "3d0176c3-eb5f-4b2f-9019-ffb305f87b66",
   "metadata": {},
   "outputs": [
    {
     "data": {
      "text/plain": [
       "array([85, 97, 67, 99, 56, 85, 97, 88, 81, 72, 53, 82, 88, 80, 89])"
      ]
     },
     "execution_count": 150,
     "metadata": {},
     "output_type": "execute_result"
    }
   ],
   "source": [
    "b"
   ]
  },
  {
   "cell_type": "code",
   "execution_count": 151,
   "id": "5e9afa23-4afa-43c2-b731-3ec48a936517",
   "metadata": {},
   "outputs": [
    {
     "data": {
      "text/plain": [
       "array([99, 54, 82, 90, 67, 61, 96, 66, 88, 95, 59, 87, 81, 64, 66])"
      ]
     },
     "execution_count": 151,
     "metadata": {},
     "output_type": "execute_result"
    }
   ],
   "source": [
    "a"
   ]
  },
  {
   "cell_type": "code",
   "execution_count": 152,
   "id": "00a86595-b9e8-499a-8844-c069987f4458",
   "metadata": {},
   "outputs": [
    {
     "data": {
      "text/plain": [
       "array([85, 97, 67, 99, 56, 85, 97, 88, 81, 72, 53, 82, 88, 80, 89])"
      ]
     },
     "execution_count": 152,
     "metadata": {},
     "output_type": "execute_result"
    }
   ],
   "source": [
    "b"
   ]
  },
  {
   "cell_type": "code",
   "execution_count": 154,
   "id": "53116722-c261-4094-abb0-7ea8d55719ce",
   "metadata": {},
   "outputs": [
    {
     "data": {
      "text/plain": [
       "array([ 1, 10,  5, 13,  7, 14,  4, 12,  2, 11,  8,  3,  9,  6,  0])"
      ]
     },
     "execution_count": 154,
     "metadata": {},
     "output_type": "execute_result"
    }
   ],
   "source": [
    "idx = a.argsort() # indexes in sorted order\n",
    "idx"
   ]
  },
  {
   "cell_type": "code",
   "execution_count": 155,
   "id": "ea55eba4-4ada-4720-9899-1fb219fefc57",
   "metadata": {},
   "outputs": [
    {
     "data": {
      "text/plain": [
       "array([54, 59, 61, 64, 66, 66, 67, 81, 82, 87, 88, 90, 95, 96, 99])"
      ]
     },
     "execution_count": 155,
     "metadata": {},
     "output_type": "execute_result"
    }
   ],
   "source": [
    "a[idx]"
   ]
  },
  {
   "cell_type": "code",
   "execution_count": 157,
   "id": "067d0203-cfb5-4681-a249-1669d86da9b2",
   "metadata": {},
   "outputs": [
    {
     "data": {
      "text/plain": [
       "array([97, 53, 85, 80, 88, 89, 56, 88, 67, 82, 81, 99, 72, 97, 85])"
      ]
     },
     "execution_count": 157,
     "metadata": {},
     "output_type": "execute_result"
    }
   ],
   "source": [
    "b[idx]"
   ]
  },
  {
   "cell_type": "code",
   "execution_count": 156,
   "id": "916c4257-6b2e-4aff-9edb-f5a19d2d61d8",
   "metadata": {},
   "outputs": [
    {
     "data": {
      "text/plain": [
       "array([ 1, 10,  5, 13,  7, 14,  4, 12,  2, 11,  8,  3,  9,  6,  0])"
      ]
     },
     "execution_count": 156,
     "metadata": {},
     "output_type": "execute_result"
    }
   ],
   "source": [
    "idx"
   ]
  },
  {
   "cell_type": "code",
   "execution_count": 140,
   "id": "3e1b23ec-882c-40eb-946a-5d3341680ec1",
   "metadata": {},
   "outputs": [
    {
     "data": {
      "text/plain": [
       "array([27, 15, 28, 71, 88, 60, 29, 45, 41, 97, 68, 48, 42, 35, 78])"
      ]
     },
     "execution_count": 140,
     "metadata": {},
     "output_type": "execute_result"
    }
   ],
   "source": [
    "a # maths\n",
    "# b # chem"
   ]
  },
  {
   "cell_type": "code",
   "execution_count": 141,
   "id": "442ce086-fd1d-4571-aa06-dd134f38c346",
   "metadata": {},
   "outputs": [],
   "source": [
    "#a.sort() # array sort inplace"
   ]
  },
  {
   "cell_type": "code",
   "execution_count": 158,
   "id": "ce7dde6c-4876-49d5-8c20-f34ca3c5c487",
   "metadata": {},
   "outputs": [
    {
     "data": {
      "text/plain": [
       "array([99, 54, 82, 90, 67, 61, 96, 66, 88, 95, 59, 87, 81, 64, 66])"
      ]
     },
     "execution_count": 158,
     "metadata": {},
     "output_type": "execute_result"
    }
   ],
   "source": [
    "a"
   ]
  },
  {
   "cell_type": "markdown",
   "id": "b8ec6e13-781f-42c0-a91a-497cf8a40c43",
   "metadata": {},
   "source": [
    "# indexing and slicing "
   ]
  },
  {
   "cell_type": "code",
   "execution_count": 165,
   "id": "0a2f466f-7aa9-49da-8a59-86edf2857f94",
   "metadata": {},
   "outputs": [
    {
     "data": {
      "text/plain": [
       "array([99, 54, 82, 90, 67, 61, 96, 66, 88, 95, 59, 87, 81, 64, 66])"
      ]
     },
     "execution_count": 165,
     "metadata": {},
     "output_type": "execute_result"
    }
   ],
   "source": [
    "a"
   ]
  },
  {
   "cell_type": "code",
   "execution_count": 166,
   "id": "4a8b6130-1d63-43c1-8324-5da2b57373c6",
   "metadata": {},
   "outputs": [
    {
     "data": {
      "text/plain": [
       "61"
      ]
     },
     "execution_count": 166,
     "metadata": {},
     "output_type": "execute_result"
    }
   ],
   "source": [
    "a[5]"
   ]
  },
  {
   "cell_type": "code",
   "execution_count": 167,
   "id": "3a1e05ce-2d27-44bc-9aa2-c148630931b2",
   "metadata": {},
   "outputs": [
    {
     "data": {
      "text/plain": [
       "array([54, 82, 90, 67])"
      ]
     },
     "execution_count": 167,
     "metadata": {},
     "output_type": "execute_result"
    }
   ],
   "source": [
    "a[1:5]"
   ]
  },
  {
   "cell_type": "code",
   "execution_count": 168,
   "id": "4a384918-e468-4329-be1c-58c217650ed6",
   "metadata": {},
   "outputs": [
    {
     "data": {
      "text/plain": [
       "array([59, 88, 96])"
      ]
     },
     "execution_count": 168,
     "metadata": {},
     "output_type": "execute_result"
    }
   ],
   "source": [
    "a[-5:-10:-2]# ? slicing --> blank array blank list -5:-10:2 --> start <= end -> []"
   ]
  },
  {
   "cell_type": "code",
   "execution_count": 170,
   "id": "0c024210-53a9-4fbd-9814-bbdd470b60f7",
   "metadata": {},
   "outputs": [
    {
     "data": {
      "text/plain": [
       "array([1, 0, 0, 4, 5, 6])"
      ]
     },
     "execution_count": 170,
     "metadata": {},
     "output_type": "execute_result"
    }
   ],
   "source": [
    "d = np.array([ 1, 2, 3, 4, 5, 6])\n",
    "\n",
    "d[1:3] = 0\n",
    "d"
   ]
  },
  {
   "cell_type": "code",
   "execution_count": 173,
   "id": "08e55a19-d065-434c-91b0-00bd78472085",
   "metadata": {},
   "outputs": [],
   "source": [
    "b = np.array([1, 2, 3 ,4 , 5])"
   ]
  },
  {
   "cell_type": "code",
   "execution_count": 178,
   "id": "79c9d5a4-b424-431e-bffa-a31f5957dd08",
   "metadata": {},
   "outputs": [
    {
     "data": {
      "text/plain": [
       "array([1, 2, 5])"
      ]
     },
     "execution_count": 178,
     "metadata": {},
     "output_type": "execute_result"
    }
   ],
   "source": [
    "b[[0, 1, 4]] # selective indexing"
   ]
  },
  {
   "cell_type": "code",
   "execution_count": 179,
   "id": "c571ab70-bc6e-4773-84d6-56bb63a9f294",
   "metadata": {},
   "outputs": [
    {
     "data": {
      "text/plain": [
       "array([2, 5])"
      ]
     },
     "execution_count": 179,
     "metadata": {},
     "output_type": "execute_result"
    }
   ],
   "source": [
    "b[[False, True, False, False, True]]"
   ]
  },
  {
   "cell_type": "code",
   "execution_count": 180,
   "id": "254da435-3b51-42e9-ad7d-eb8dd17611ad",
   "metadata": {},
   "outputs": [
    {
     "data": {
      "text/plain": [
       "array([99, 54, 82, 90, 67, 61, 96, 66, 88, 95, 59, 87, 81, 64, 66])"
      ]
     },
     "execution_count": 180,
     "metadata": {},
     "output_type": "execute_result"
    }
   ],
   "source": [
    "a"
   ]
  },
  {
   "cell_type": "markdown",
   "id": "2530d7d7-c6af-4780-b6fb-9ef53a888ddf",
   "metadata": {},
   "source": [
    "# boolean indexing"
   ]
  },
  {
   "cell_type": "code",
   "execution_count": 181,
   "id": "d7109ed6-a7fc-4afc-8716-28b1ed37e89e",
   "metadata": {},
   "outputs": [
    {
     "data": {
      "text/plain": [
       "array([99, 82, 90, 96, 88, 95, 87, 81])"
      ]
     },
     "execution_count": 181,
     "metadata": {},
     "output_type": "execute_result"
    }
   ],
   "source": [
    "a[a>70]  # element wise "
   ]
  },
  {
   "cell_type": "code",
   "execution_count": 183,
   "id": "fcb26617-4228-421a-b631-4c4cef04bb36",
   "metadata": {},
   "outputs": [
    {
     "data": {
      "text/plain": [
       "array([54, 67, 61, 66, 59, 64, 66])"
      ]
     },
     "execution_count": 183,
     "metadata": {},
     "output_type": "execute_result"
    }
   ],
   "source": [
    "a[~(a>70)] # not condition"
   ]
  },
  {
   "cell_type": "code",
   "execution_count": 184,
   "id": "56ce3a43-467b-487e-a4d6-24ba4d7541d4",
   "metadata": {},
   "outputs": [
    {
     "data": {
      "text/plain": [
       "array([67, 61, 66, 64, 66])"
      ]
     },
     "execution_count": 184,
     "metadata": {},
     "output_type": "execute_result"
    }
   ],
   "source": [
    "a[(a>60)&(a<80)]"
   ]
  },
  {
   "cell_type": "code",
   "execution_count": 185,
   "id": "61cd44e3-a425-46df-84ac-2ce85b8df66d",
   "metadata": {},
   "outputs": [
    {
     "data": {
      "text/plain": [
       "array([99, 54, 82, 90, 96, 88, 95, 59, 87, 81])"
      ]
     },
     "execution_count": 185,
     "metadata": {},
     "output_type": "execute_result"
    }
   ],
   "source": [
    "a[(a<60)|(a>80)]"
   ]
  },
  {
   "cell_type": "code",
   "execution_count": 196,
   "id": "c8528fba-aa57-49f4-8a4b-973c280990de",
   "metadata": {},
   "outputs": [],
   "source": [
    "a = np.random.randint(50, 100, (10, 5))"
   ]
  },
  {
   "cell_type": "code",
   "execution_count": 197,
   "id": "3c63b627-5620-44ef-a5b1-6294601c4022",
   "metadata": {},
   "outputs": [
    {
     "data": {
      "text/plain": [
       "array([[63, 98, 55, 50, 53],\n",
       "       [94, 91, 64, 57, 87],\n",
       "       [84, 69, 60, 77, 81],\n",
       "       [73, 74, 58, 69, 60],\n",
       "       [59, 62, 58, 60, 77],\n",
       "       [78, 71, 66, 58, 75],\n",
       "       [97, 86, 81, 99, 99],\n",
       "       [98, 89, 99, 55, 77],\n",
       "       [56, 77, 51, 79, 95],\n",
       "       [71, 91, 79, 90, 97]])"
      ]
     },
     "execution_count": 197,
     "metadata": {},
     "output_type": "execute_result"
    }
   ],
   "source": [
    "a"
   ]
  },
  {
   "cell_type": "markdown",
   "id": "391798be-d3dd-4bc1-9069-a92fd3ba25f4",
   "metadata": {},
   "source": [
    "a[]  # a[axis-0, axis-1]"
   ]
  },
  {
   "cell_type": "code",
   "execution_count": 198,
   "id": "dac4c763-85b4-4bc9-a0eb-185f9934164e",
   "metadata": {
    "scrolled": true
   },
   "outputs": [
    {
     "data": {
      "text/plain": [
       "array([[63, 98, 55, 50, 53],\n",
       "       [94, 91, 64, 57, 87],\n",
       "       [84, 69, 60, 77, 81],\n",
       "       [73, 74, 58, 69, 60],\n",
       "       [59, 62, 58, 60, 77],\n",
       "       [78, 71, 66, 58, 75],\n",
       "       [97, 86, 81, 99, 99],\n",
       "       [98, 89, 99, 55, 77],\n",
       "       [56, 77, 51, 79, 95],\n",
       "       [71, 91, 79, 90, 97]])"
      ]
     },
     "execution_count": 198,
     "metadata": {},
     "output_type": "execute_result"
    }
   ],
   "source": [
    "a\n",
    "# each row represent student marks\n",
    "# each column is a different subject"
   ]
  },
  {
   "cell_type": "code",
   "execution_count": 199,
   "id": "1bebaf6b-c961-4eb0-90f6-2da4d3427efd",
   "metadata": {},
   "outputs": [
    {
     "data": {
      "text/plain": [
       "array([773, 808, 671, 694, 801])"
      ]
     },
     "execution_count": 199,
     "metadata": {},
     "output_type": "execute_result"
    }
   ],
   "source": [
    "a.sum(axis=0)  #column wise sum\n",
    "# subject wise sum"
   ]
  },
  {
   "cell_type": "code",
   "execution_count": 200,
   "id": "6a16f8bb-2231-4e5b-8bc6-c26f30427c24",
   "metadata": {},
   "outputs": [
    {
     "data": {
      "text/plain": [
       "array([319, 393, 371, 334, 316, 348, 462, 418, 358, 428])"
      ]
     },
     "execution_count": 200,
     "metadata": {},
     "output_type": "execute_result"
    }
   ],
   "source": [
    "a.sum(axis=1)"
   ]
  },
  {
   "cell_type": "code",
   "execution_count": 202,
   "id": "e41968be-800f-40df-ab52-c5706756bfb7",
   "metadata": {},
   "outputs": [],
   "source": [
    "per = (a.sum(axis=1) / 500)*100"
   ]
  },
  {
   "cell_type": "code",
   "execution_count": 203,
   "id": "a61aa382-64dc-499a-8f79-958f1d01c07c",
   "metadata": {},
   "outputs": [
    {
     "data": {
      "text/plain": [
       "array([63.8, 78.6, 74.2, 66.8, 63.2, 69.6, 92.4, 83.6, 71.6, 85.6])"
      ]
     },
     "execution_count": 203,
     "metadata": {},
     "output_type": "execute_result"
    }
   ],
   "source": [
    "per"
   ]
  },
  {
   "cell_type": "code",
   "execution_count": 205,
   "id": "72ef7692-69e8-4d64-bfdc-4a3532e65383",
   "metadata": {},
   "outputs": [
    {
     "data": {
      "text/plain": [
       "array([97, 86, 81, 99, 99])"
      ]
     },
     "execution_count": 205,
     "metadata": {},
     "output_type": "execute_result"
    }
   ],
   "source": [
    "a[np.argmax(per)]"
   ]
  },
  {
   "cell_type": "code",
   "execution_count": 206,
   "id": "b95e3c16-8ca6-45db-8e13-708eedf62492",
   "metadata": {},
   "outputs": [
    {
     "data": {
      "text/plain": [
       "array([59, 62, 58, 60, 77])"
      ]
     },
     "execution_count": 206,
     "metadata": {},
     "output_type": "execute_result"
    }
   ],
   "source": [
    "a[np.argmin(a.sum(axis=1))] # marks of lowest percentage student"
   ]
  },
  {
   "cell_type": "code",
   "execution_count": 207,
   "id": "ecd79980-1fc9-45c9-89cb-812896005439",
   "metadata": {},
   "outputs": [
    {
     "data": {
      "text/plain": [
       "array([[63, 98, 55, 50, 53],\n",
       "       [94, 91, 64, 57, 87],\n",
       "       [84, 69, 60, 77, 81],\n",
       "       [73, 74, 58, 69, 60],\n",
       "       [59, 62, 58, 60, 77],\n",
       "       [78, 71, 66, 58, 75],\n",
       "       [97, 86, 81, 99, 99],\n",
       "       [98, 89, 99, 55, 77],\n",
       "       [56, 77, 51, 79, 95],\n",
       "       [71, 91, 79, 90, 97]])"
      ]
     },
     "execution_count": 207,
     "metadata": {},
     "output_type": "execute_result"
    }
   ],
   "source": [
    "a"
   ]
  },
  {
   "cell_type": "code",
   "execution_count": 208,
   "id": "c933d153-1c2e-445d-a405-f66a78dd80b8",
   "metadata": {},
   "outputs": [
    {
     "data": {
      "text/plain": [
       "74.94"
      ]
     },
     "execution_count": 208,
     "metadata": {},
     "output_type": "execute_result"
    }
   ],
   "source": [
    "np.mean(a)"
   ]
  },
  {
   "cell_type": "code",
   "execution_count": 209,
   "id": "1f94e11a-f194-4070-a8e3-cc0d06269192",
   "metadata": {},
   "outputs": [
    {
     "data": {
      "text/plain": [
       "array([63.8, 78.6, 74.2, 66.8, 63.2, 69.6, 92.4, 83.6, 71.6, 85.6])"
      ]
     },
     "execution_count": 209,
     "metadata": {},
     "output_type": "execute_result"
    }
   ],
   "source": [
    "np.mean(a, axis=1)"
   ]
  },
  {
   "cell_type": "code",
   "execution_count": 212,
   "id": "f11982ee-bb20-4792-9943-eb43cc439b28",
   "metadata": {},
   "outputs": [
    {
     "data": {
      "text/plain": [
       "array([97, 86, 81, 99, 99])"
      ]
     },
     "execution_count": 212,
     "metadata": {},
     "output_type": "execute_result"
    }
   ],
   "source": [
    "a[np.argmax(np.mean(a, axis=1))]"
   ]
  },
  {
   "cell_type": "code",
   "execution_count": 213,
   "id": "66ed71af-8fc1-4f04-aa5e-2bd67c8a1ed6",
   "metadata": {},
   "outputs": [
    {
     "data": {
      "text/plain": [
       "array([77.3, 80.8, 67.1, 69.4, 80.1])"
      ]
     },
     "execution_count": 213,
     "metadata": {},
     "output_type": "execute_result"
    }
   ],
   "source": [
    "np.mean(a, axis=0)"
   ]
  },
  {
   "cell_type": "markdown",
   "id": "af7cd1cf-d78d-4678-921f-69b12e941a46",
   "metadata": {},
   "source": [
    "    000000000000000000\n",
    "    000000000000000000\n",
    "    000011111111110000\n",
    "    000011111000000000\n",
    "    000011111000000000\n",
    "    000011111000000000\n",
    "    000011111111110000\n",
    "    000000000111110000\n",
    "    000000000111110000\n",
    "    000000000111110000\n",
    "    000011111111110000\n",
    "    000000000000000000\n",
    "    000000000000000000"
   ]
  },
  {
   "cell_type": "code",
   "execution_count": null,
   "id": "f8d4268e-c405-499d-8d9b-f7c5a9844cf7",
   "metadata": {},
   "outputs": [],
   "source": []
  },
  {
   "cell_type": "markdown",
   "id": "6b5c4962-a973-4c73-a53c-a1ff8f5567cc",
   "metadata": {},
   "source": [
    "    task \n",
    "\n",
    "        np.array --> dtype uint8\n",
    "\n",
    "            1 -> 255\n",
    "\n",
    "        plt.imshow(arr, cmap='binary')\n",
    "        plt.imsave('myimg.jpg', arr)\n",
    "        plt.show()\n"
   ]
  },
  {
   "cell_type": "markdown",
   "id": "e1c1b65f-c8e8-4b17-af1d-53a7f8f40a17",
   "metadata": {},
   "source": [
    "### Pandas and types of plot"
   ]
  },
  {
   "cell_type": "markdown",
   "id": "f6a1d021-e8a8-47c6-99b7-cff701fa04e8",
   "metadata": {},
   "source": [
    "Pandas\n",
    "\n",
    "     A python library for data engineering\n",
    "\n",
    "     1. Series -  1D array type object represent single variable / feature / column\n",
    "\n",
    "     2. DataFrame - 2D spredsheet like object / tabular data / column wise collection series \n",
    "\n",
    "     3. Pannel - 3D / collection of DataFrame"
   ]
  },
  {
   "cell_type": "code",
   "execution_count": 214,
   "id": "576efc42-1fff-481b-8ff2-821e4bfcd57b",
   "metadata": {},
   "outputs": [],
   "source": [
    "import pandas as pd"
   ]
  },
  {
   "cell_type": "markdown",
   "id": "03004e16-834f-42e0-83e6-7686f9d03519",
   "metadata": {},
   "source": [
    "data \n",
    "\n",
    "    row -> custmores\n",
    "\n",
    "        time    day   bill    tip    no of people   ..."
   ]
  },
  {
   "cell_type": "code",
   "execution_count": 215,
   "id": "c86fdb96-fa7a-4399-a3c5-7bbfec8b8d68",
   "metadata": {},
   "outputs": [],
   "source": [
    "student = {\n",
    "    \"names\": [ \"ram\", \"alice\", \"bob\", \"michael\", \"vincent\" ],\n",
    "    \"gender\": [\"male\", \"female\", \"male\", \"male\", \"female\" ],\n",
    "    \"height\": [150, 160, 170, 155, 180, ]\n",
    "}"
   ]
  },
  {
   "cell_type": "code",
   "execution_count": 216,
   "id": "75bad2fa-e668-4b01-81bb-b923ba95f66c",
   "metadata": {},
   "outputs": [],
   "source": [
    "df = pd.DataFrame(student)"
   ]
  },
  {
   "cell_type": "code",
   "execution_count": 217,
   "id": "bac7a2ea-7aac-4694-bce3-4d8830de2403",
   "metadata": {},
   "outputs": [
    {
     "data": {
      "text/html": [
       "<div>\n",
       "<style scoped>\n",
       "    .dataframe tbody tr th:only-of-type {\n",
       "        vertical-align: middle;\n",
       "    }\n",
       "\n",
       "    .dataframe tbody tr th {\n",
       "        vertical-align: top;\n",
       "    }\n",
       "\n",
       "    .dataframe thead th {\n",
       "        text-align: right;\n",
       "    }\n",
       "</style>\n",
       "<table border=\"1\" class=\"dataframe\">\n",
       "  <thead>\n",
       "    <tr style=\"text-align: right;\">\n",
       "      <th></th>\n",
       "      <th>names</th>\n",
       "      <th>gender</th>\n",
       "      <th>height</th>\n",
       "    </tr>\n",
       "  </thead>\n",
       "  <tbody>\n",
       "    <tr>\n",
       "      <th>0</th>\n",
       "      <td>ram</td>\n",
       "      <td>male</td>\n",
       "      <td>150</td>\n",
       "    </tr>\n",
       "    <tr>\n",
       "      <th>1</th>\n",
       "      <td>alice</td>\n",
       "      <td>female</td>\n",
       "      <td>160</td>\n",
       "    </tr>\n",
       "    <tr>\n",
       "      <th>2</th>\n",
       "      <td>bob</td>\n",
       "      <td>male</td>\n",
       "      <td>170</td>\n",
       "    </tr>\n",
       "    <tr>\n",
       "      <th>3</th>\n",
       "      <td>michael</td>\n",
       "      <td>male</td>\n",
       "      <td>155</td>\n",
       "    </tr>\n",
       "    <tr>\n",
       "      <th>4</th>\n",
       "      <td>vincent</td>\n",
       "      <td>female</td>\n",
       "      <td>180</td>\n",
       "    </tr>\n",
       "  </tbody>\n",
       "</table>\n",
       "</div>"
      ],
      "text/plain": [
       "     names  gender  height\n",
       "0      ram    male     150\n",
       "1    alice  female     160\n",
       "2      bob    male     170\n",
       "3  michael    male     155\n",
       "4  vincent  female     180"
      ]
     },
     "execution_count": 217,
     "metadata": {},
     "output_type": "execute_result"
    }
   ],
   "source": [
    "df"
   ]
  },
  {
   "cell_type": "code",
   "execution_count": 218,
   "id": "7e5980ee-32c3-44cd-b66b-7904db3ac0f2",
   "metadata": {},
   "outputs": [
    {
     "data": {
      "text/plain": [
       "names     object\n",
       "gender    object\n",
       "height     int64\n",
       "dtype: object"
      ]
     },
     "execution_count": 218,
     "metadata": {},
     "output_type": "execute_result"
    }
   ],
   "source": [
    "df.dtypes"
   ]
  },
  {
   "cell_type": "code",
   "execution_count": 219,
   "id": "2477ca5a-e027-4259-85d3-04619afe025d",
   "metadata": {},
   "outputs": [
    {
     "data": {
      "text/plain": [
       "(5, 3)"
      ]
     },
     "execution_count": 219,
     "metadata": {},
     "output_type": "execute_result"
    }
   ],
   "source": [
    "df.shape"
   ]
  },
  {
   "cell_type": "code",
   "execution_count": 220,
   "id": "14b480d0-1090-48fc-ab35-3170b6639eb0",
   "metadata": {},
   "outputs": [
    {
     "data": {
      "text/plain": [
       "0        ram\n",
       "1      alice\n",
       "2        bob\n",
       "3    michael\n",
       "4    vincent\n",
       "Name: names, dtype: object"
      ]
     },
     "execution_count": 220,
     "metadata": {},
     "output_type": "execute_result"
    }
   ],
   "source": [
    "df.names"
   ]
  },
  {
   "cell_type": "code",
   "execution_count": 221,
   "id": "3b109e0c-9a74-4ea7-8426-daf31cdce124",
   "metadata": {},
   "outputs": [
    {
     "data": {
      "text/html": [
       "<div>\n",
       "<style scoped>\n",
       "    .dataframe tbody tr th:only-of-type {\n",
       "        vertical-align: middle;\n",
       "    }\n",
       "\n",
       "    .dataframe tbody tr th {\n",
       "        vertical-align: top;\n",
       "    }\n",
       "\n",
       "    .dataframe thead th {\n",
       "        text-align: right;\n",
       "    }\n",
       "</style>\n",
       "<table border=\"1\" class=\"dataframe\">\n",
       "  <thead>\n",
       "    <tr style=\"text-align: right;\">\n",
       "      <th></th>\n",
       "      <th>names</th>\n",
       "      <th>gender</th>\n",
       "      <th>height</th>\n",
       "    </tr>\n",
       "  </thead>\n",
       "  <tbody>\n",
       "    <tr>\n",
       "      <th>0</th>\n",
       "      <td>ram</td>\n",
       "      <td>male</td>\n",
       "      <td>150</td>\n",
       "    </tr>\n",
       "    <tr>\n",
       "      <th>1</th>\n",
       "      <td>alice</td>\n",
       "      <td>female</td>\n",
       "      <td>160</td>\n",
       "    </tr>\n",
       "    <tr>\n",
       "      <th>2</th>\n",
       "      <td>bob</td>\n",
       "      <td>male</td>\n",
       "      <td>170</td>\n",
       "    </tr>\n",
       "    <tr>\n",
       "      <th>3</th>\n",
       "      <td>michael</td>\n",
       "      <td>male</td>\n",
       "      <td>155</td>\n",
       "    </tr>\n",
       "    <tr>\n",
       "      <th>4</th>\n",
       "      <td>vincent</td>\n",
       "      <td>female</td>\n",
       "      <td>180</td>\n",
       "    </tr>\n",
       "  </tbody>\n",
       "</table>\n",
       "</div>"
      ],
      "text/plain": [
       "     names  gender  height\n",
       "0      ram    male     150\n",
       "1    alice  female     160\n",
       "2      bob    male     170\n",
       "3  michael    male     155\n",
       "4  vincent  female     180"
      ]
     },
     "execution_count": 221,
     "metadata": {},
     "output_type": "execute_result"
    }
   ],
   "source": [
    "df"
   ]
  },
  {
   "cell_type": "code",
   "execution_count": 222,
   "id": "5f8b351f-ec85-48d4-b6c4-87d532b3badd",
   "metadata": {},
   "outputs": [
    {
     "data": {
      "text/html": [
       "<div>\n",
       "<style scoped>\n",
       "    .dataframe tbody tr th:only-of-type {\n",
       "        vertical-align: middle;\n",
       "    }\n",
       "\n",
       "    .dataframe tbody tr th {\n",
       "        vertical-align: top;\n",
       "    }\n",
       "\n",
       "    .dataframe thead th {\n",
       "        text-align: right;\n",
       "    }\n",
       "</style>\n",
       "<table border=\"1\" class=\"dataframe\">\n",
       "  <thead>\n",
       "    <tr style=\"text-align: right;\">\n",
       "      <th></th>\n",
       "      <th>names</th>\n",
       "      <th>gender</th>\n",
       "      <th>height</th>\n",
       "    </tr>\n",
       "  </thead>\n",
       "  <tbody>\n",
       "    <tr>\n",
       "      <th>2</th>\n",
       "      <td>bob</td>\n",
       "      <td>male</td>\n",
       "      <td>170</td>\n",
       "    </tr>\n",
       "    <tr>\n",
       "      <th>4</th>\n",
       "      <td>vincent</td>\n",
       "      <td>female</td>\n",
       "      <td>180</td>\n",
       "    </tr>\n",
       "  </tbody>\n",
       "</table>\n",
       "</div>"
      ],
      "text/plain": [
       "     names  gender  height\n",
       "2      bob    male     170\n",
       "4  vincent  female     180"
      ]
     },
     "execution_count": 222,
     "metadata": {},
     "output_type": "execute_result"
    }
   ],
   "source": [
    "df[df['height']>160]"
   ]
  },
  {
   "cell_type": "code",
   "execution_count": 223,
   "id": "69950f6f-ca0c-4b43-9578-a42f598201a3",
   "metadata": {},
   "outputs": [
    {
     "data": {
      "text/html": [
       "<div>\n",
       "<style scoped>\n",
       "    .dataframe tbody tr th:only-of-type {\n",
       "        vertical-align: middle;\n",
       "    }\n",
       "\n",
       "    .dataframe tbody tr th {\n",
       "        vertical-align: top;\n",
       "    }\n",
       "\n",
       "    .dataframe thead th {\n",
       "        text-align: right;\n",
       "    }\n",
       "</style>\n",
       "<table border=\"1\" class=\"dataframe\">\n",
       "  <thead>\n",
       "    <tr style=\"text-align: right;\">\n",
       "      <th></th>\n",
       "      <th>names</th>\n",
       "      <th>gender</th>\n",
       "      <th>height</th>\n",
       "    </tr>\n",
       "  </thead>\n",
       "  <tbody>\n",
       "    <tr>\n",
       "      <th>0</th>\n",
       "      <td>ram</td>\n",
       "      <td>male</td>\n",
       "      <td>150</td>\n",
       "    </tr>\n",
       "    <tr>\n",
       "      <th>1</th>\n",
       "      <td>alice</td>\n",
       "      <td>female</td>\n",
       "      <td>160</td>\n",
       "    </tr>\n",
       "    <tr>\n",
       "      <th>2</th>\n",
       "      <td>bob</td>\n",
       "      <td>male</td>\n",
       "      <td>170</td>\n",
       "    </tr>\n",
       "    <tr>\n",
       "      <th>3</th>\n",
       "      <td>michael</td>\n",
       "      <td>male</td>\n",
       "      <td>155</td>\n",
       "    </tr>\n",
       "    <tr>\n",
       "      <th>4</th>\n",
       "      <td>vincent</td>\n",
       "      <td>female</td>\n",
       "      <td>180</td>\n",
       "    </tr>\n",
       "  </tbody>\n",
       "</table>\n",
       "</div>"
      ],
      "text/plain": [
       "     names  gender  height\n",
       "0      ram    male     150\n",
       "1    alice  female     160\n",
       "2      bob    male     170\n",
       "3  michael    male     155\n",
       "4  vincent  female     180"
      ]
     },
     "execution_count": 223,
     "metadata": {},
     "output_type": "execute_result"
    }
   ],
   "source": [
    "df"
   ]
  },
  {
   "cell_type": "code",
   "execution_count": 224,
   "id": "8795dd9c-8c5c-4bdc-aabb-3b8337ad774c",
   "metadata": {},
   "outputs": [
    {
     "data": {
      "text/plain": [
       "<Axes: >"
      ]
     },
     "execution_count": 224,
     "metadata": {},
     "output_type": "execute_result"
    },
    {
     "data": {
      "image/png": "[encoded data removed]",
      "text/plain": [
       "<Figure size 640x480 with 1 Axes>"
      ]
     },
     "metadata": {},
     "output_type": "display_data"
    }
   ],
   "source": [
    "df['height'].plot()"
   ]
  },
  {
   "cell_type": "code",
   "execution_count": null,
   "id": "2acc6930-122e-4a71-afa0-d339f5b582f7",
   "metadata": {},
   "outputs": [],
   "source": []
  }
 ],
 "metadata": {
  "kernelspec": {
   "display_name": "Python [conda env:base] *",
   "language": "python",
   "name": "conda-base-py"
  },
  "language_info": {
   "codemirror_mode": {
    "name": "ipython",
    "version": 3
   },
   "file_extension": ".py",
   "mimetype": "text/x-python",
   "name": "python",
   "nbconvert_exporter": "python",
   "pygments_lexer": "ipython3",
   "version": "3.12.7"
  }
 },
 "nbformat": 4,
 "nbformat_minor": 5
}
