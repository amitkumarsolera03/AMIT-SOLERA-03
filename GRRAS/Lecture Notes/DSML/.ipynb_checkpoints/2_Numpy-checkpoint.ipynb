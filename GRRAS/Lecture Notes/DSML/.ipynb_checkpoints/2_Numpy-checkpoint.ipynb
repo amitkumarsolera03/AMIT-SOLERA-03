{
 "cells": [
  {
   "cell_type": "markdown",
   "id": "8840b13e-5e94-4041-8138-cd5f4d34bf27",
   "metadata": {},
   "source": [
    "# Numpy\n",
    "\n",
    "    numerical python \n",
    "\n",
    "    widely used library for statistical purpose\n",
    "\n",
    "    fast access and manipulation numerical data"
   ]
  },
  {
   "cell_type": "markdown",
   "id": "5426bd75-e1fb-44fa-9022-41256111fcd6",
   "metadata": {},
   "source": [
    "Anaconda -> depedencies \n",
    "\n",
    "    numpy\n",
    "    pandas\n",
    "    matplotlib\n",
    "    seaborn\n",
    "    sklearn --> version --> "
   ]
  },
  {
   "cell_type": "markdown",
   "id": "70a0b125-235a-494f-a8b4-df7b4515059c",
   "metadata": {},
   "source": [
    "base environment"
   ]
  },
  {
   "cell_type": "code",
   "execution_count": 3,
   "id": "bad972d6-45f7-4835-b71d-e802b63c2097",
   "metadata": {},
   "outputs": [],
   "source": [
    "!pip freeze > requirements.txt"
   ]
  },
  {
   "cell_type": "code",
   "execution_count": 1,
   "id": "26f2623e-57d1-42ec-ba24-c5e900698661",
   "metadata": {},
   "outputs": [],
   "source": [
    "# pip install numpy==1.24.0\n",
    "# pip install uv\n",
    "# uv install numpy (Rust)"
   ]
  },
  {
   "cell_type": "markdown",
   "id": "9e6e5347-0621-4319-8f0f-745517dc727c",
   "metadata": {},
   "source": [
    "base --> 100s of packages ? \n",
    "\n",
    "new env --> numpy, pandas, sklearn, tensorflow, langchain\n",
    "#### pip freeze > requirements.txt\n",
    "\n",
    "#### deploy pip install -r requiremnts.txt"
   ]
  },
  {
   "cell_type": "markdown",
   "id": "5cdb5779-fc61-4151-821e-517d2dc9b8f1",
   "metadata": {},
   "source": [
    "Dependencies \n",
    "\n",
    "    version packages are depedent on each other\n",
    "\n",
    "        numpy \n",
    "\n",
    "            pandas, matplotlib, seaborn, sklearn"
   ]
  },
  {
   "cell_type": "markdown",
   "id": "bd903dab-d86f-4093-ba9e-e62a51a469ca",
   "metadata": {},
   "source": [
    "## Numpy \n",
    "\n",
    "    it provides numerical array in python\n",
    "\n",
    "https://numpy.org/doc/stable/user/absolute_beginners.html"
   ]
  },
  {
   "cell_type": "markdown",
   "id": "f87c3cd2-ae0e-40a9-b39b-c05e26437bb6",
   "metadata": {},
   "source": [
    "numerical data --> list --> we do not have statistical "
   ]
  },
  {
   "cell_type": "markdown",
   "id": "20fe0421-587a-415b-bc90-4122d4366ab8",
   "metadata": {},
   "source": [
    "Arrays \n",
    "\n",
    "    diff b/w array and list ? \n",
    "\n",
    "        array homogenous --> numbers"
   ]
  },
  {
   "cell_type": "markdown",
   "id": "75a401fd-1ad2-47e9-964f-1f26d86d3de1",
   "metadata": {},
   "source": [
    "# Scaler values \n",
    "\n",
    "    single observation \n",
    "\n",
    "    x = 10   dim zero array\n",
    "\n",
    "# Vectors / 1D array\n",
    "\n",
    "    collection of scalers value\n",
    "\n",
    "    column / attribute / features \n",
    "\n",
    "    height = [ 160, 170, 180, 190, .... ]\n",
    "\n",
    "# Matrix / 2D array\n",
    "\n",
    "    collection of vectors \n",
    "\n",
    "    data = [\n",
    "        [150, 50],\n",
    "        [180, 90],\n",
    "        ...\n",
    "    ]\n",
    "\n",
    "    data = [ \n",
    "        [ 140, 160, 180, 190, ...],\n",
    "        [ 80, 60, 85, 90, ....]\n",
    "        ]\n",
    "\n",
    "# n-d array / Tensors\n",
    "\n",
    "    collection  n-1 D arrays "
   ]
  },
  {
   "cell_type": "markdown",
   "id": "1967b1e9-bcc5-4fbf-9029-4229fc28690c",
   "metadata": {},
   "source": [
    "    height   weight  test1    test2   test 3\n",
    "\n",
    "\n",
    "    140     60 80  90   79\n",
    "    ..."
   ]
  },
  {
   "cell_type": "raw",
   "id": "fef7687e-9068-4e45-8828-e3ccacdf7848",
   "metadata": {},
   "source": [
    "Sales july                n     %profit\n",
    "      samsung --> 60k     10     20\n",
    "     vivo     --> 50k     50     40\n",
    "     apple    --> 50k     5      10"
   ]
  },
  {
   "cell_type": "raw",
   "id": "a7bbd0c9-92d7-4d69-b0a6-accdd7b844c3",
   "metadata": {},
   "source": [
    "data = [\n",
    "    [\n",
    "        [60, 10, 20],\n",
    "        [50, 50, 40],\n",
    "        [50, 5, 10 ]\n",
    "    ], # jan\n",
    "    [\n",
    "        [60, 10, 20],\n",
    "        [50, 50, 40],\n",
    "        [50, 5, 10 ]\n",
    "    ], # feb\n",
    "    [[]],\n",
    "    ....\n",
    "]"
   ]
  },
  {
   "cell_type": "markdown",
   "id": "af057112-cb24-44de-b3e9-6aa640ebafbf",
   "metadata": {},
   "source": [
    "2D --> tablular "
   ]
  },
  {
   "cell_type": "code",
   "execution_count": 4,
   "id": "92d8fb10-0b58-4311-8503-ab835a76efa2",
   "metadata": {},
   "outputs": [
    {
     "name": "stdout",
     "output_type": "stream",
     "text": [
      "1.26.4\n"
     ]
    }
   ],
   "source": [
    "import numpy as np\n",
    "print(np.__version__)"
   ]
  },
  {
   "cell_type": "code",
   "execution_count": 6,
   "id": "3079cffd-2c6a-4e2e-a9aa-ec965d4a903b",
   "metadata": {},
   "outputs": [],
   "source": [
    "a = np.array(5) # scaler"
   ]
  },
  {
   "cell_type": "code",
   "execution_count": 7,
   "id": "ffceee34-975b-4783-b05c-c733f0652bf9",
   "metadata": {},
   "outputs": [
    {
     "name": "stdout",
     "output_type": "stream",
     "text": [
      "<class 'numpy.ndarray'>\n"
     ]
    }
   ],
   "source": [
    "print(type(a))"
   ]
  },
  {
   "cell_type": "code",
   "execution_count": 8,
   "id": "9d166224-71ea-4202-970c-680c6eb41cd6",
   "metadata": {},
   "outputs": [
    {
     "name": "stdout",
     "output_type": "stream",
     "text": [
      "['T', '__abs__', '__add__', '__and__', '__array__', '__array_finalize__', '__array_function__', '__array_interface__', '__array_prepare__', '__array_priority__', '__array_struct__', '__array_ufunc__', '__array_wrap__', '__bool__', '__buffer__', '__class__', '__class_getitem__', '__complex__', '__contains__', '__copy__', '__deepcopy__', '__delattr__', '__delitem__', '__dir__', '__divmod__', '__dlpack__', '__dlpack_device__', '__doc__', '__eq__', '__float__', '__floordiv__', '__format__', '__ge__', '__getattribute__', '__getitem__', '__getstate__', '__gt__', '__hash__', '__iadd__', '__iand__', '__ifloordiv__', '__ilshift__', '__imatmul__', '__imod__', '__imul__', '__index__', '__init__', '__init_subclass__', '__int__', '__invert__', '__ior__', '__ipow__', '__irshift__', '__isub__', '__iter__', '__itruediv__', '__ixor__', '__le__', '__len__', '__lshift__', '__lt__', '__matmul__', '__mod__', '__mul__', '__ne__', '__neg__', '__new__', '__or__', '__pos__', '__pow__', '__radd__', '__rand__', '__rdivmod__', '__reduce__', '__reduce_ex__', '__repr__', '__rfloordiv__', '__rlshift__', '__rmatmul__', '__rmod__', '__rmul__', '__ror__', '__rpow__', '__rrshift__', '__rshift__', '__rsub__', '__rtruediv__', '__rxor__', '__setattr__', '__setitem__', '__setstate__', '__sizeof__', '__str__', '__sub__', '__subclasshook__', '__truediv__', '__xor__', 'all', 'any', 'argmax', 'argmin', 'argpartition', 'argsort', 'astype', 'base', 'byteswap', 'choose', 'clip', 'compress', 'conj', 'conjugate', 'copy', 'ctypes', 'cumprod', 'cumsum', 'data', 'diagonal', 'dot', 'dtype', 'dump', 'dumps', 'fill', 'flags', 'flat', 'flatten', 'getfield', 'imag', 'item', 'itemset', 'itemsize', 'max', 'mean', 'min', 'nbytes', 'ndim', 'newbyteorder', 'nonzero', 'partition', 'prod', 'ptp', 'put', 'ravel', 'real', 'repeat', 'reshape', 'resize', 'round', 'searchsorted', 'setfield', 'setflags', 'shape', 'size', 'sort', 'squeeze', 'std', 'strides', 'sum', 'swapaxes', 'take', 'tobytes', 'tofile', 'tolist', 'tostring', 'trace', 'transpose', 'var', 'view']\n"
     ]
    }
   ],
   "source": [
    "print(dir(a))"
   ]
  },
  {
   "cell_type": "code",
   "execution_count": 10,
   "id": "8fd659c7-2feb-42c0-b8c8-f9eb32e6ebd3",
   "metadata": {},
   "outputs": [
    {
     "data": {
      "text/plain": [
       "0"
      ]
     },
     "execution_count": 10,
     "metadata": {},
     "output_type": "execute_result"
    }
   ],
   "source": [
    "a.ndim # "
   ]
  },
  {
   "cell_type": "code",
   "execution_count": 11,
   "id": "192b57db-d9c4-48fe-a0ab-46c83946e167",
   "metadata": {},
   "outputs": [
    {
     "data": {
      "text/plain": [
       "()"
      ]
     },
     "execution_count": 11,
     "metadata": {},
     "output_type": "execute_result"
    }
   ],
   "source": [
    "a.shape # orientation"
   ]
  },
  {
   "cell_type": "code",
   "execution_count": 17,
   "id": "d9b2708f-ee17-4cea-a95d-e80d30058905",
   "metadata": {},
   "outputs": [
    {
     "data": {
      "text/plain": [
       "40.0"
      ]
     },
     "execution_count": 17,
     "metadata": {},
     "output_type": "execute_result"
    }
   ],
   "source": [
    "(64*5)/8"
   ]
  },
  {
   "cell_type": "code",
   "execution_count": 15,
   "id": "a0907a72-6c38-462a-b971-38de3bd6fc4f",
   "metadata": {},
   "outputs": [
    {
     "data": {
      "text/plain": [
       "9223372036854775808"
      ]
     },
     "execution_count": 15,
     "metadata": {},
     "output_type": "execute_result"
    }
   ],
   "source": [
    "2**63"
   ]
  },
  {
   "cell_type": "code",
   "execution_count": 23,
   "id": "0a29ae6e-fb71-4758-8454-fda09e5cda37",
   "metadata": {},
   "outputs": [
    {
     "data": {
      "text/plain": [
       "128"
      ]
     },
     "execution_count": 23,
     "metadata": {},
     "output_type": "execute_result"
    }
   ],
   "source": [
    "2**7 # 1 bit sign +ive -ive  -127 to 128"
   ]
  },
  {
   "cell_type": "markdown",
   "id": "080bf2de-8e80-42f6-afed-d41bbedee75e",
   "metadata": {},
   "source": [
    "unsigned int \n"
   ]
  },
  {
   "cell_type": "code",
   "execution_count": 24,
   "id": "ddb3e913-506e-4a3e-a06e-7c3283b34aa1",
   "metadata": {},
   "outputs": [
    {
     "data": {
      "text/plain": [
       "256"
      ]
     },
     "execution_count": 24,
     "metadata": {},
     "output_type": "execute_result"
    }
   ],
   "source": [
    "2**8"
   ]
  },
  {
   "cell_type": "markdown",
   "id": "21e38bd0-4dbc-47cc-92e8-93359f48e0da",
   "metadata": {},
   "source": [
    "0-255"
   ]
  },
  {
   "cell_type": "code",
   "execution_count": 28,
   "id": "fb3175a8-7620-44e8-a827-cc5b7420e900",
   "metadata": {},
   "outputs": [
    {
     "name": "stderr",
     "output_type": "stream",
     "text": [
      "/var/folders/92/77wzzgtd3b31048n9sf_9_qm0000gn/T/ipykernel_87665/1943171730.py:1: DeprecationWarning: NumPy will stop allowing conversion of out-of-bound Python integers to integer arrays.  The conversion of 300 to uint8 will fail in the future.\n",
      "For the old behavior, usually:\n",
      "    np.array(value).astype(dtype)\n",
      "will give the desired result (the cast overflows).\n",
      "  a = np.array( [150, 160, 155, 175, 140, 300] , dtype=np.uint8)\n"
     ]
    }
   ],
   "source": [
    "a = np.array( [150, 160, 155, 175, 140, 300] , dtype=np.uint8)\n",
    "\n",
    "# memory \n",
    "# efficent "
   ]
  },
  {
   "cell_type": "code",
   "execution_count": 26,
   "id": "c5b7c413-4fd2-4aad-a075-c5dcafe62b1e",
   "metadata": {},
   "outputs": [
    {
     "data": {
      "text/plain": [
       "dtype('uint8')"
      ]
     },
     "execution_count": 26,
     "metadata": {},
     "output_type": "execute_result"
    }
   ],
   "source": [
    "a.dtype # homogenous"
   ]
  },
  {
   "cell_type": "code",
   "execution_count": 29,
   "id": "3ae56506-ed2e-4d5d-9f9d-1e86b16d82fa",
   "metadata": {},
   "outputs": [
    {
     "data": {
      "text/plain": [
       "array([150, 160, 155, 175, 140,  44], dtype=uint8)"
      ]
     },
     "execution_count": 29,
     "metadata": {},
     "output_type": "execute_result"
    }
   ],
   "source": [
    "a"
   ]
  },
  {
   "cell_type": "code",
   "execution_count": 30,
   "id": "ec587407-98ef-4b70-9525-027ced9e5940",
   "metadata": {},
   "outputs": [
    {
     "data": {
      "text/plain": [
       "6"
      ]
     },
     "execution_count": 30,
     "metadata": {},
     "output_type": "execute_result"
    }
   ],
   "source": [
    "a.size # no of items"
   ]
  },
  {
   "cell_type": "code",
   "execution_count": 31,
   "id": "7b3f2a99-2987-4e32-aa5a-2681db75e165",
   "metadata": {},
   "outputs": [
    {
     "data": {
      "text/plain": [
       "1"
      ]
     },
     "execution_count": 31,
     "metadata": {},
     "output_type": "execute_result"
    }
   ],
   "source": [
    "a.ndim # no axis"
   ]
  },
  {
   "cell_type": "code",
   "execution_count": 33,
   "id": "4fe509fe-42fc-434b-b3f7-00fec99d0293",
   "metadata": {},
   "outputs": [
    {
     "data": {
      "text/plain": [
       "155"
      ]
     },
     "execution_count": 33,
     "metadata": {},
     "output_type": "execute_result"
    }
   ],
   "source": [
    "a[2]"
   ]
  },
  {
   "cell_type": "code",
   "execution_count": 34,
   "id": "7332cd5a-0b54-426f-bee4-2dfc5117552e",
   "metadata": {},
   "outputs": [
    {
     "data": {
      "text/plain": [
       "array([150, 160, 155, 175, 140,  44], dtype=uint8)"
      ]
     },
     "execution_count": 34,
     "metadata": {},
     "output_type": "execute_result"
    }
   ],
   "source": [
    "a\n",
    "# 0 1 2 3  "
   ]
  },
  {
   "cell_type": "code",
   "execution_count": 35,
   "id": "99c74ae8-6625-4f75-af04-f34cf4403dce",
   "metadata": {},
   "outputs": [
    {
     "data": {
      "text/plain": [
       "array([150, 160, 155], dtype=uint8)"
      ]
     },
     "execution_count": 35,
     "metadata": {},
     "output_type": "execute_result"
    }
   ],
   "source": [
    "a[:3]"
   ]
  },
  {
   "cell_type": "code",
   "execution_count": 36,
   "id": "2252b9fa-7bb3-4543-8047-32fe46e9c374",
   "metadata": {},
   "outputs": [
    {
     "data": {
      "text/plain": [
       "array([175, 140,  44], dtype=uint8)"
      ]
     },
     "execution_count": 36,
     "metadata": {},
     "output_type": "execute_result"
    }
   ],
   "source": [
    "a[-3:]"
   ]
  },
  {
   "cell_type": "code",
   "execution_count": 37,
   "id": "ce21d3e9-6d72-4132-8b68-13defad0b41a",
   "metadata": {},
   "outputs": [
    {
     "data": {
      "text/plain": [
       "array([150, 160, 155, 175, 140,  44], dtype=uint8)"
      ]
     },
     "execution_count": 37,
     "metadata": {},
     "output_type": "execute_result"
    }
   ],
   "source": [
    "a"
   ]
  },
  {
   "cell_type": "code",
   "execution_count": 38,
   "id": "a75d4c1a-3d10-4689-a1c3-b7b96b24f5a0",
   "metadata": {},
   "outputs": [
    {
     "data": {
      "text/plain": [
       "array([160, 155, 175, 140], dtype=uint8)"
      ]
     },
     "execution_count": 38,
     "metadata": {},
     "output_type": "execute_result"
    }
   ],
   "source": [
    "a[1:5]"
   ]
  },
  {
   "cell_type": "code",
   "execution_count": 39,
   "id": "8d556a80-dfe5-466a-88c4-aa1087f3a4f4",
   "metadata": {},
   "outputs": [],
   "source": [
    "a[2:5] = 0"
   ]
  },
  {
   "cell_type": "code",
   "execution_count": 40,
   "id": "6e41a158-094e-4129-a8b4-b8e0dd1ff1bc",
   "metadata": {},
   "outputs": [
    {
     "data": {
      "text/plain": [
       "array([150, 160,   0,   0,   0,  44], dtype=uint8)"
      ]
     },
     "execution_count": 40,
     "metadata": {},
     "output_type": "execute_result"
    }
   ],
   "source": [
    "a"
   ]
  },
  {
   "cell_type": "code",
   "execution_count": 41,
   "id": "2d796f06-48ad-4680-92eb-c72acdf4c397",
   "metadata": {},
   "outputs": [],
   "source": [
    "b = a # does we copy data ? no, we are just creating a view "
   ]
  },
  {
   "cell_type": "code",
   "execution_count": 42,
   "id": "ca799748-a3a1-4e08-a66a-793e31aadd8f",
   "metadata": {},
   "outputs": [
    {
     "data": {
      "text/plain": [
       "array([150, 160,   0,   0,   0,  44], dtype=uint8)"
      ]
     },
     "execution_count": 42,
     "metadata": {},
     "output_type": "execute_result"
    }
   ],
   "source": [
    "b"
   ]
  },
  {
   "cell_type": "code",
   "execution_count": 43,
   "id": "35a38ccf-3fe5-42dc-93e8-d3af838c13dd",
   "metadata": {},
   "outputs": [
    {
     "data": {
      "text/plain": [
       "5239111824"
      ]
     },
     "execution_count": 43,
     "metadata": {},
     "output_type": "execute_result"
    }
   ],
   "source": [
    "id(a)\n"
   ]
  },
  {
   "cell_type": "code",
   "execution_count": 44,
   "id": "6064ebd4-efc1-428c-b852-bf950fbba240",
   "metadata": {
    "scrolled": true
   },
   "outputs": [
    {
     "data": {
      "text/plain": [
       "5239111824"
      ]
     },
     "execution_count": 44,
     "metadata": {},
     "output_type": "execute_result"
    }
   ],
   "source": [
    "id(b)"
   ]
  },
  {
   "cell_type": "code",
   "execution_count": 45,
   "id": "2db9f967-36d0-4bb7-a194-a20b378b4ef7",
   "metadata": {},
   "outputs": [],
   "source": [
    "a[0] = 100"
   ]
  },
  {
   "cell_type": "code",
   "execution_count": 46,
   "id": "bb864d03-67e2-47b0-9cf7-c95a72dd158c",
   "metadata": {},
   "outputs": [
    {
     "data": {
      "text/plain": [
       "array([100, 160,   0,   0,   0,  44], dtype=uint8)"
      ]
     },
     "execution_count": 46,
     "metadata": {},
     "output_type": "execute_result"
    }
   ],
   "source": [
    "a"
   ]
  },
  {
   "cell_type": "code",
   "execution_count": 47,
   "id": "8e470604-8716-4fdb-8502-ceb43b463edb",
   "metadata": {},
   "outputs": [
    {
     "data": {
      "text/plain": [
       "array([100, 160,   0,   0,   0,  44], dtype=uint8)"
      ]
     },
     "execution_count": 47,
     "metadata": {},
     "output_type": "execute_result"
    }
   ],
   "source": [
    "b"
   ]
  },
  {
   "cell_type": "code",
   "execution_count": 48,
   "id": "3c80c84f-deb6-41c9-9106-e31be79ff6a5",
   "metadata": {},
   "outputs": [],
   "source": [
    "b = a.copy() # shallow copy"
   ]
  },
  {
   "cell_type": "code",
   "execution_count": 49,
   "id": "f9736d3c-3303-40da-a45f-a5e4b1169e5d",
   "metadata": {},
   "outputs": [
    {
     "data": {
      "text/plain": [
       "array([100, 160,   0,   0,   0,  44], dtype=uint8)"
      ]
     },
     "execution_count": 49,
     "metadata": {},
     "output_type": "execute_result"
    }
   ],
   "source": [
    "b"
   ]
  },
  {
   "cell_type": "code",
   "execution_count": 50,
   "id": "41504222-be27-46e5-8a46-71d33814d2ce",
   "metadata": {},
   "outputs": [],
   "source": [
    "a[2:5] = [140, 145, 155]"
   ]
  },
  {
   "cell_type": "code",
   "execution_count": 51,
   "id": "146e2622-51e0-4977-9099-6633839b587c",
   "metadata": {},
   "outputs": [
    {
     "data": {
      "text/plain": [
       "array([100, 160, 140, 145, 155,  44], dtype=uint8)"
      ]
     },
     "execution_count": 51,
     "metadata": {},
     "output_type": "execute_result"
    }
   ],
   "source": [
    "a"
   ]
  },
  {
   "cell_type": "code",
   "execution_count": 52,
   "id": "bceeaf7a-1fa9-42a3-86f8-b426f4f31b98",
   "metadata": {},
   "outputs": [
    {
     "data": {
      "text/plain": [
       "array([100, 160,   0,   0,   0,  44], dtype=uint8)"
      ]
     },
     "execution_count": 52,
     "metadata": {},
     "output_type": "execute_result"
    }
   ],
   "source": [
    "b"
   ]
  },
  {
   "cell_type": "code",
   "execution_count": 53,
   "id": "634bc441-5092-4fe3-a76a-d3d895011eb2",
   "metadata": {},
   "outputs": [
    {
     "data": {
      "text/plain": [
       "1"
      ]
     },
     "execution_count": 53,
     "metadata": {},
     "output_type": "execute_result"
    }
   ],
   "source": [
    "a.ndim # no of dimensions no axis"
   ]
  },
  {
   "cell_type": "code",
   "execution_count": 54,
   "id": "9458f61f-6ad4-46bc-b055-4a57a1d070fe",
   "metadata": {},
   "outputs": [
    {
     "data": {
      "text/plain": [
       "6"
      ]
     },
     "execution_count": 54,
     "metadata": {},
     "output_type": "execute_result"
    }
   ],
   "source": [
    "a.size"
   ]
  },
  {
   "cell_type": "code",
   "execution_count": 55,
   "id": "8ac3d9f5-b692-448c-9803-7bf46bacbc05",
   "metadata": {},
   "outputs": [
    {
     "data": {
      "text/plain": [
       "(6,)"
      ]
     },
     "execution_count": 55,
     "metadata": {},
     "output_type": "execute_result"
    }
   ],
   "source": [
    "a.shape # (6, )"
   ]
  },
  {
   "cell_type": "markdown",
   "id": "55aad80e-c1bc-4c7b-919f-65d613f028ad",
   "metadata": {},
   "source": [
    "# 2 D array"
   ]
  },
  {
   "cell_type": "code",
   "execution_count": 71,
   "id": "13d62258-f439-4738-8e34-41c676be958b",
   "metadata": {},
   "outputs": [],
   "source": [
    "arr = np.array([\n",
    "    # 0 1 2\n",
    "    [1, 2, 3], # 0\n",
    "    [4, 5, 6], # 1\n",
    "    [7, 8, 9],\n",
    "    [10, 11, 12]# 2\n",
    "] )# , dtype=np.int16) default python dtype "
   ]
  },
  {
   "cell_type": "code",
   "execution_count": 78,
   "id": "ba41ad0e-d773-47d8-95d9-6f9dc3687482",
   "metadata": {},
   "outputs": [
    {
     "data": {
      "text/plain": [
       "array([[1, 3],\n",
       "       [7, 9]])"
      ]
     },
     "execution_count": 78,
     "metadata": {},
     "output_type": "execute_result"
    }
   ],
   "source": [
    "arr[::2, ::2]\n",
    "# [1,  3]\n",
    "# [7, 9]"
   ]
  },
  {
   "cell_type": "code",
   "execution_count": 77,
   "id": "b3737af6-80f2-4bfe-bbf1-16434ceaff18",
   "metadata": {},
   "outputs": [
    {
     "data": {
      "text/plain": [
       "array([[1, 2, 3],\n",
       "       [7, 8, 9]])"
      ]
     },
     "execution_count": 77,
     "metadata": {},
     "output_type": "execute_result"
    }
   ],
   "source": [
    "arr[::2, :] # slicing \n",
    "# [1, 2, 3]\n",
    "# [7, 8, 9]"
   ]
  },
  {
   "cell_type": "code",
   "execution_count": 76,
   "id": "354aeba0-b2b0-4d21-9a8c-67bd80873fb5",
   "metadata": {},
   "outputs": [
    {
     "data": {
      "text/plain": [
       "9"
      ]
     },
     "execution_count": 76,
     "metadata": {},
     "output_type": "execute_result"
    }
   ],
   "source": [
    "arr[2, 2] # to print 9 "
   ]
  },
  {
   "cell_type": "code",
   "execution_count": 72,
   "id": "96528fe1-26c7-4339-91c1-718ff97a50e7",
   "metadata": {},
   "outputs": [
    {
     "data": {
      "text/plain": [
       "5"
      ]
     },
     "execution_count": 72,
     "metadata": {},
     "output_type": "execute_result"
    }
   ],
   "source": [
    "arr[1, 1] # row-1  col-1"
   ]
  },
  {
   "cell_type": "code",
   "execution_count": 73,
   "id": "503be063-79f2-41c9-9fcd-933076a031c8",
   "metadata": {},
   "outputs": [
    {
     "data": {
      "text/plain": [
       "dtype('int64')"
      ]
     },
     "execution_count": 73,
     "metadata": {},
     "output_type": "execute_result"
    }
   ],
   "source": [
    "arr.dtype"
   ]
  },
  {
   "cell_type": "code",
   "execution_count": 74,
   "id": "8398c6ee-cba3-458c-9f7e-1a6603c33058",
   "metadata": {},
   "outputs": [
    {
     "data": {
      "text/plain": [
       "2"
      ]
     },
     "execution_count": 74,
     "metadata": {},
     "output_type": "execute_result"
    }
   ],
   "source": [
    "arr.ndim # axis 0 and axis 1"
   ]
  },
  {
   "cell_type": "markdown",
   "id": "d5e89918-73b5-4877-b2d4-6e4f7cd43efb",
   "metadata": {},
   "source": [
    "    jvm pvm <-- enviroment (suporting files)"
   ]
  },
  {
   "cell_type": "code",
   "execution_count": 75,
   "id": "36742b21-ce9f-4576-9903-9a0e3a42feb1",
   "metadata": {},
   "outputs": [
    {
     "data": {
      "text/plain": [
       "(4, 3)"
      ]
     },
     "execution_count": 75,
     "metadata": {},
     "output_type": "execute_result"
    }
   ],
   "source": [
    "arr.shape # 4 1D arrays each 1D array contains 3 item\n",
    "# 4 rows and 3 columns  4 observations , 3 features "
   ]
  },
  {
   "cell_type": "code",
   "execution_count": 79,
   "id": "ff309e65-0522-475f-a6f1-60d886c2f2d0",
   "metadata": {},
   "outputs": [
    {
     "data": {
      "text/plain": [
       "12"
      ]
     },
     "execution_count": 79,
     "metadata": {},
     "output_type": "execute_result"
    }
   ],
   "source": [
    "arr.size "
   ]
  },
  {
   "cell_type": "markdown",
   "id": "9c09d692-793a-4c33-bc1a-225266249cce",
   "metadata": {},
   "source": [
    "### Array creation"
   ]
  },
  {
   "cell_type": "code",
   "execution_count": 80,
   "id": "f5c70aef-2162-4455-83b5-46e5d88d471c",
   "metadata": {},
   "outputs": [
    {
     "name": "stdout",
     "output_type": "stream",
     "text": [
      "[1 2 3 4 5 6 7 8 9]\n"
     ]
    }
   ],
   "source": [
    "arr = np.arange(1, 10)\n",
    "print(arr)"
   ]
  },
  {
   "cell_type": "code",
   "execution_count": 81,
   "id": "e3ee8151-45e3-482e-ae7f-fae841458f7e",
   "metadata": {},
   "outputs": [
    {
     "name": "stdout",
     "output_type": "stream",
     "text": [
      "[10 12 14 16 18 20]\n"
     ]
    }
   ],
   "source": [
    "arr = np.arange(10, 21, 2)\n",
    "print(arr)"
   ]
  },
  {
   "cell_type": "code",
   "execution_count": 88,
   "id": "4af3df39-5f01-482b-8060-2b4c3cc1b1f8",
   "metadata": {},
   "outputs": [],
   "source": [
    "arr = np.arange(1.1, 10.1, .1)"
   ]
  },
  {
   "cell_type": "code",
   "execution_count": 89,
   "id": "b755505e-7e9d-4ac8-bd65-f6f7b2fa53c0",
   "metadata": {},
   "outputs": [
    {
     "name": "stdout",
     "output_type": "stream",
     "text": [
      "[ 1.1  1.2  1.3  1.4  1.5  1.6  1.7  1.8  1.9  2.   2.1  2.2  2.3  2.4\n",
      "  2.5  2.6  2.7  2.8  2.9  3.   3.1  3.2  3.3  3.4  3.5  3.6  3.7  3.8\n",
      "  3.9  4.   4.1  4.2  4.3  4.4  4.5  4.6  4.7  4.8  4.9  5.   5.1  5.2\n",
      "  5.3  5.4  5.5  5.6  5.7  5.8  5.9  6.   6.1  6.2  6.3  6.4  6.5  6.6\n",
      "  6.7  6.8  6.9  7.   7.1  7.2  7.3  7.4  7.5  7.6  7.7  7.8  7.9  8.\n",
      "  8.1  8.2  8.3  8.4  8.5  8.6  8.7  8.8  8.9  9.   9.1  9.2  9.3  9.4\n",
      "  9.5  9.6  9.7  9.8  9.9 10. ]\n"
     ]
    }
   ],
   "source": [
    "print(arr)"
   ]
  },
  {
   "cell_type": "code",
   "execution_count": 90,
   "id": "494558c6-db99-4f47-bdb9-9d1a4421d9f8",
   "metadata": {},
   "outputs": [
    {
     "data": {
      "text/plain": [
       "(90,)"
      ]
     },
     "execution_count": 90,
     "metadata": {},
     "output_type": "execute_result"
    }
   ],
   "source": [
    "arr.shape"
   ]
  },
  {
   "cell_type": "code",
   "execution_count": 86,
   "id": "243d4943-ea90-4f0f-830b-3fabbc3ab6e7",
   "metadata": {},
   "outputs": [
    {
     "data": {
      "text/plain": [
       "array([20. , 19.5, 19. , 18.5, 18. , 17.5, 17. , 16.5, 16. , 15.5, 15. ,\n",
       "       14.5, 14. , 13.5, 13. , 12.5, 12. , 11.5, 11. , 10.5, 10. ,  9.5,\n",
       "        9. ,  8.5,  8. ,  7.5,  7. ,  6.5,  6. ,  5.5,  5. ,  4.5,  4. ,\n",
       "        3.5,  3. ,  2.5,  2. ,  1.5])"
      ]
     },
     "execution_count": 86,
     "metadata": {},
     "output_type": "execute_result"
    }
   ],
   "source": [
    "np.arange(20, 1, -.5)"
   ]
  },
  {
   "cell_type": "markdown",
   "id": "c8254eaf-bb07-448b-9074-308b7a57c5bf",
   "metadata": {},
   "source": [
    "1 <---------> 10"
   ]
  },
  {
   "cell_type": "code",
   "execution_count": 87,
   "id": "088f62a5-50bd-482a-a470-8bc71f82fd75",
   "metadata": {},
   "outputs": [
    {
     "data": {
      "text/plain": [
       "array([ 1.,  4.,  7., 10.])"
      ]
     },
     "execution_count": 87,
     "metadata": {},
     "output_type": "execute_result"
    }
   ],
   "source": [
    "np.linspace(1, 10, 4)\n",
    "# linearly spaced values in a given range\n",
    "# AP --> linspace   distance - d"
   ]
  },
  {
   "cell_type": "code",
   "execution_count": 92,
   "id": "6db1b96f-3001-47a2-85a2-6e41a10c517c",
   "metadata": {},
   "outputs": [
    {
     "data": {
      "text/plain": [
       "array([ 1.        ,  1.1011236 ,  1.20224719,  1.30337079,  1.40449438,\n",
       "        1.50561798,  1.60674157,  1.70786517,  1.80898876,  1.91011236,\n",
       "        2.01123596,  2.11235955,  2.21348315,  2.31460674,  2.41573034,\n",
       "        2.51685393,  2.61797753,  2.71910112,  2.82022472,  2.92134831,\n",
       "        3.02247191,  3.12359551,  3.2247191 ,  3.3258427 ,  3.42696629,\n",
       "        3.52808989,  3.62921348,  3.73033708,  3.83146067,  3.93258427,\n",
       "        4.03370787,  4.13483146,  4.23595506,  4.33707865,  4.43820225,\n",
       "        4.53932584,  4.64044944,  4.74157303,  4.84269663,  4.94382022,\n",
       "        5.04494382,  5.14606742,  5.24719101,  5.34831461,  5.4494382 ,\n",
       "        5.5505618 ,  5.65168539,  5.75280899,  5.85393258,  5.95505618,\n",
       "        6.05617978,  6.15730337,  6.25842697,  6.35955056,  6.46067416,\n",
       "        6.56179775,  6.66292135,  6.76404494,  6.86516854,  6.96629213,\n",
       "        7.06741573,  7.16853933,  7.26966292,  7.37078652,  7.47191011,\n",
       "        7.57303371,  7.6741573 ,  7.7752809 ,  7.87640449,  7.97752809,\n",
       "        8.07865169,  8.17977528,  8.28089888,  8.38202247,  8.48314607,\n",
       "        8.58426966,  8.68539326,  8.78651685,  8.88764045,  8.98876404,\n",
       "        9.08988764,  9.19101124,  9.29213483,  9.39325843,  9.49438202,\n",
       "        9.59550562,  9.69662921,  9.79775281,  9.8988764 , 10.        ])"
      ]
     },
     "execution_count": 92,
     "metadata": {},
     "output_type": "execute_result"
    }
   ],
   "source": [
    "np.linspace(1, 10, 90)\n",
    "# min             max \n",
    "# 1                10    # 3 \n",
    "# 1     5          10"
   ]
  },
  {
   "cell_type": "code",
   "execution_count": 95,
   "id": "170b3ec6-dd6f-4fc6-b410-4b2de0519643",
   "metadata": {},
   "outputs": [
    {
     "data": {
      "text/plain": [
       "array([ 1. ,  5.5, 10. ])"
      ]
     },
     "execution_count": 95,
     "metadata": {},
     "output_type": "execute_result"
    }
   ],
   "source": [
    "np.linspace(1, 10, 3)"
   ]
  },
  {
   "cell_type": "code",
   "execution_count": 99,
   "id": "09473ff5-8232-4183-867d-b274282fceb0",
   "metadata": {},
   "outputs": [
    {
     "data": {
      "text/plain": [
       "array([0, 0, 0, 0, 0, 0, 0, 0, 0, 0])"
      ]
     },
     "execution_count": 99,
     "metadata": {},
     "output_type": "execute_result"
    }
   ],
   "source": [
    "np.zeros(10).astype(int)"
   ]
  },
  {
   "cell_type": "code",
   "execution_count": 100,
   "id": "60670ce5-8e32-44cc-9aba-9520e3e5876c",
   "metadata": {},
   "outputs": [
    {
     "data": {
      "text/plain": [
       "array([[1., 1., 1., 1., 1.],\n",
       "       [1., 1., 1., 1., 1.],\n",
       "       [1., 1., 1., 1., 1.],\n",
       "       [1., 1., 1., 1., 1.],\n",
       "       [1., 1., 1., 1., 1.],\n",
       "       [1., 1., 1., 1., 1.],\n",
       "       [1., 1., 1., 1., 1.],\n",
       "       [1., 1., 1., 1., 1.],\n",
       "       [1., 1., 1., 1., 1.],\n",
       "       [1., 1., 1., 1., 1.],\n",
       "       [1., 1., 1., 1., 1.],\n",
       "       [1., 1., 1., 1., 1.],\n",
       "       [1., 1., 1., 1., 1.],\n",
       "       [1., 1., 1., 1., 1.],\n",
       "       [1., 1., 1., 1., 1.],\n",
       "       [1., 1., 1., 1., 1.],\n",
       "       [1., 1., 1., 1., 1.],\n",
       "       [1., 1., 1., 1., 1.],\n",
       "       [1., 1., 1., 1., 1.],\n",
       "       [1., 1., 1., 1., 1.]])"
      ]
     },
     "execution_count": 100,
     "metadata": {},
     "output_type": "execute_result"
    }
   ],
   "source": [
    "np.ones(100).reshape(20, 5) # 2D"
   ]
  },
  {
   "cell_type": "code",
   "execution_count": 101,
   "id": "36e381f4-878f-4de6-86a7-f850ae4a2c50",
   "metadata": {},
   "outputs": [
    {
     "data": {
      "text/plain": [
       "array([[1., 0., 0., 0., 0.],\n",
       "       [0., 1., 0., 0., 0.],\n",
       "       [0., 0., 1., 0., 0.],\n",
       "       [0., 0., 0., 1., 0.],\n",
       "       [0., 0., 0., 0., 1.]])"
      ]
     },
     "execution_count": 101,
     "metadata": {},
     "output_type": "execute_result"
    }
   ],
   "source": [
    "np.eye(5)"
   ]
  },
  {
   "cell_type": "code",
   "execution_count": 103,
   "id": "60e1c4d1-aec4-4e7d-bb30-80f3dbedd0c8",
   "metadata": {},
   "outputs": [
    {
     "data": {
      "text/plain": [
       "array([[0.05070537, 0.61374158, 0.9334108 , 0.396072  , 0.7864855 ],\n",
       "       [0.81185051, 0.41011966, 0.84121279, 0.24432945, 0.81130259],\n",
       "       [0.17638099, 0.63512167, 0.31636613, 0.83489929, 0.40381469],\n",
       "       [0.19973991, 0.13083408, 0.65660441, 0.08537988, 0.88438712],\n",
       "       [0.69293389, 0.26451591, 0.91135056, 0.21927202, 0.84082267],\n",
       "       [0.59568056, 0.39125718, 0.41326098, 0.47780097, 0.28950469],\n",
       "       [0.18530124, 0.75613219, 0.536291  , 0.61257167, 0.65957491],\n",
       "       [0.1021472 , 0.80371421, 0.87717777, 0.64454285, 0.85963729],\n",
       "       [0.2507538 , 0.07407065, 0.76216289, 0.75033643, 0.90892608],\n",
       "       [0.14464306, 0.57908054, 0.55607445, 0.35983839, 0.11838223]])"
      ]
     },
     "execution_count": 103,
     "metadata": {},
     "output_type": "execute_result"
    }
   ],
   "source": [
    "np.random.random((10, 5)) # 0 - 1 uniform"
   ]
  },
  {
   "cell_type": "code",
   "execution_count": 104,
   "id": "31706ce9-a639-4b47-b10d-fe1ab71377c4",
   "metadata": {},
   "outputs": [
    {
     "data": {
      "text/plain": [
       "array([0.00957758, 0.12711233, 0.47330021, 0.40199188, 0.25750424,\n",
       "       0.42093773, 0.05434465, 0.55667227, 0.05581899, 0.17992839])"
      ]
     },
     "execution_count": 104,
     "metadata": {},
     "output_type": "execute_result"
    }
   ],
   "source": [
    "np.random.random(10)"
   ]
  },
  {
   "cell_type": "code",
   "execution_count": 108,
   "id": "690014e2-22f3-45f8-b28f-8d09b1108721",
   "metadata": {},
   "outputs": [],
   "source": [
    "arr = np.random.normal(50, 2, (2, 5,3))"
   ]
  },
  {
   "cell_type": "code",
   "execution_count": 109,
   "id": "79810503-2cbe-4569-a207-6915a3ef1c6c",
   "metadata": {},
   "outputs": [
    {
     "data": {
      "text/plain": [
       "3"
      ]
     },
     "execution_count": 109,
     "metadata": {},
     "output_type": "execute_result"
    }
   ],
   "source": [
    "arr.ndim"
   ]
  },
  {
   "cell_type": "code",
   "execution_count": 111,
   "id": "4b13a223-04a2-458e-8390-f343828851cb",
   "metadata": {},
   "outputs": [
    {
     "data": {
      "text/plain": [
       "(2, 5, 3)"
      ]
     },
     "execution_count": 111,
     "metadata": {},
     "output_type": "execute_result"
    }
   ],
   "source": [
    "arr.shape"
   ]
  },
  {
   "cell_type": "code",
   "execution_count": 110,
   "id": "aceb1ebb-92f8-4037-9a48-9076ce771af6",
   "metadata": {},
   "outputs": [
    {
     "data": {
      "text/plain": [
       "array([[[52.13226071, 50.22737279, 49.78072657],\n",
       "        [47.42332953, 52.99260135, 50.56895037],\n",
       "        [48.87438731, 50.42937055, 46.55423381],\n",
       "        [49.78821211, 49.77548178, 48.89941351],\n",
       "        [50.19940002, 49.16095296, 55.29411878]],\n",
       "\n",
       "       [[51.91711337, 50.65790542, 46.98271306],\n",
       "        [50.24528253, 49.74873843, 49.88251497],\n",
       "        [45.92642574, 47.68655178, 48.87942142],\n",
       "        [48.33662926, 46.73496517, 52.15915635],\n",
       "        [49.75437616, 49.31956707, 51.51760017]]])"
      ]
     },
     "execution_count": 110,
     "metadata": {},
     "output_type": "execute_result"
    }
   ],
   "source": [
    "arr"
   ]
  },
  {
   "cell_type": "markdown",
   "id": "5592f366-f65d-4679-93b0-acee07d91237",
   "metadata": {},
   "source": [
    "## Operations"
   ]
  },
  {
   "cell_type": "markdown",
   "id": "aeb9986a-df70-4f30-83df-99e5a3908f09",
   "metadata": {},
   "source": [
    "\n",
    "    numpy official tutorial \n",
    "\n",
    "    descrptive stats notbook\n",
    "\n",
    "    stats assignment "
   ]
  },
  {
   "cell_type": "code",
   "execution_count": null,
   "id": "4582c486-d8c2-4244-a070-86cba0c419cd",
   "metadata": {},
   "outputs": [],
   "source": []
  }
 ],
 "metadata": {
  "kernelspec": {
   "display_name": "Python [conda env:base] *",
   "language": "python",
   "name": "conda-base-py"
  },
  "language_info": {
   "codemirror_mode": {
    "name": "ipython",
    "version": 3
   },
   "file_extension": ".py",
   "mimetype": "text/x-python",
   "name": "python",
   "nbconvert_exporter": "python",
   "pygments_lexer": "ipython3",
   "version": "3.12.7"
  }
 },
 "nbformat": 4,
 "nbformat_minor": 5
}
