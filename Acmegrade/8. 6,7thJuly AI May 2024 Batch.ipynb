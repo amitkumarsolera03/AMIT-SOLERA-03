{
 "cells": [
  {
   "cell_type": "markdown",
   "id": "5c08fbd8",
   "metadata": {},
   "source": [
    "# Image Recognition using CNN on CIFAR-10 Dataset"
   ]
  },
  {
   "cell_type": "markdown",
   "id": "8dbe5229",
   "metadata": {},
   "source": [
    "In this project we will be using CIFAR-10 dataset. This dataset includes thousands of pictures of 10 different kinds of objects like airplanes, automobiles, birds and so on.\n",
    "\n",
    "Each image in the dataset includes a matching label so we know what kind of image it is.\n",
    "\n",
    "The images in the CIFAR-10 dataset are only 32x32 pixels."
   ]
  },
  {
   "cell_type": "code",
   "execution_count": 1,
   "id": "304d40ab",
   "metadata": {},
   "outputs": [
    {
     "name": "stderr",
     "output_type": "stream",
     "text": [
      "C:\\ProgramData\\Anaconda3\\lib\\site-packages\\scipy\\__init__.py:146: UserWarning: A NumPy version >=1.16.5 and <1.23.0 is required for this version of SciPy (detected version 1.26.4\n",
      "  warnings.warn(f\"A NumPy version >={np_minversion} and <{np_maxversion}\"\n"
     ]
    },
    {
     "name": "stdout",
     "output_type": "stream",
     "text": [
      "WARNING:tensorflow:From C:\\Users\\Mohit Tripathi\\AppData\\Roaming\\Python\\Python39\\site-packages\\keras\\src\\losses.py:2976: The name tf.losses.sparse_softmax_cross_entropy is deprecated. Please use tf.compat.v1.losses.sparse_softmax_cross_entropy instead.\n",
      "\n"
     ]
    }
   ],
   "source": [
    "import keras\n",
    "from keras.datasets import cifar10\n",
    "from keras.models import Sequential\n",
    "from keras.layers import Dense, Dropout, Flatten, Conv2D, MaxPooling2D\n",
    "from pathlib import Path\n",
    "from tensorflow.keras.utils import to_categorical"
   ]
  },
  {
   "cell_type": "markdown",
   "id": "a25aa8d9",
   "metadata": {},
   "source": [
    "Load the dataset"
   ]
  },
  {
   "cell_type": "code",
   "execution_count": 2,
   "id": "9845a0ea",
   "metadata": {},
   "outputs": [],
   "source": [
    "(X_train,y_train),(X_test, y_test)=cifar10.load_data()"
   ]
  },
  {
   "cell_type": "markdown",
   "id": "d790c28b",
   "metadata": {},
   "source": [
    "Normalize the data"
   ]
  },
  {
   "cell_type": "code",
   "execution_count": 3,
   "id": "e5e998d7",
   "metadata": {},
   "outputs": [],
   "source": [
    "X_train=X_train.astype('float32')\n",
    "X_test=X_test.astype('float32')\n",
    "X_train/=255.0\n",
    "X_test/=255.0"
   ]
  },
  {
   "cell_type": "markdown",
   "id": "632b642a",
   "metadata": {},
   "source": [
    "Convert class vectors to binary class matrices"
   ]
  },
  {
   "cell_type": "code",
   "execution_count": 4,
   "id": "4879e3f9",
   "metadata": {},
   "outputs": [],
   "source": [
    "y_train=to_categorical(y_train,10)\n",
    "y_test=to_categorical(y_test,10)"
   ]
  },
  {
   "cell_type": "code",
   "execution_count": 6,
   "id": "631e8901",
   "metadata": {},
   "outputs": [],
   "source": [
    "model=Sequential()\n",
    "model.add(Conv2D(32,(3,3),padding='same',input_shape=(32,32,3),activation='relu'))\n",
    "model.add(Conv2D(32,(3,3),activation='relu'))\n",
    "model.add(MaxPooling2D(pool_size=(2,2)))\n",
    "model.add(Dropout(0.25))\n",
    "\n",
    "model.add(Conv2D(64,(3,3),padding='same',activation='relu'))\n",
    "model.add(Conv2D(32,(3,3),activation='relu'))\n",
    "model.add(MaxPooling2D(pool_size=(2,2)))\n",
    "model.add(Dropout(0.25))\n",
    "\n",
    "model.add(Flatten())\n",
    "model.add(Dense(512, activation='relu'))\n",
    "model.add(Dropout(0.5))\n",
    "model.add(Dense(10,activation='softmax'))"
   ]
  },
  {
   "cell_type": "markdown",
   "id": "88cc4756",
   "metadata": {},
   "source": [
    "Compile the model"
   ]
  },
  {
   "cell_type": "code",
   "execution_count": 7,
   "id": "f129ceee",
   "metadata": {},
   "outputs": [
    {
     "name": "stdout",
     "output_type": "stream",
     "text": [
      "WARNING:tensorflow:From C:\\Users\\Mohit Tripathi\\AppData\\Roaming\\Python\\Python39\\site-packages\\keras\\src\\optimizers\\__init__.py:309: The name tf.train.Optimizer is deprecated. Please use tf.compat.v1.train.Optimizer instead.\n",
      "\n",
      "Model: \"sequential_1\"\n",
      "_________________________________________________________________\n",
      " Layer (type)                Output Shape              Param #   \n",
      "=================================================================\n",
      " conv2d_4 (Conv2D)           (None, 32, 32, 32)        896       \n",
      "                                                                 \n",
      " conv2d_5 (Conv2D)           (None, 30, 30, 32)        9248      \n",
      "                                                                 \n",
      " max_pooling2d_2 (MaxPoolin  (None, 15, 15, 32)        0         \n",
      " g2D)                                                            \n",
      "                                                                 \n",
      " dropout_2 (Dropout)         (None, 15, 15, 32)        0         \n",
      "                                                                 \n",
      " conv2d_6 (Conv2D)           (None, 15, 15, 64)        18496     \n",
      "                                                                 \n",
      " conv2d_7 (Conv2D)           (None, 13, 13, 32)        18464     \n",
      "                                                                 \n",
      " max_pooling2d_3 (MaxPoolin  (None, 6, 6, 32)          0         \n",
      " g2D)                                                            \n",
      "                                                                 \n",
      " dropout_3 (Dropout)         (None, 6, 6, 32)          0         \n",
      "                                                                 \n",
      " flatten (Flatten)           (None, 1152)              0         \n",
      "                                                                 \n",
      " dense (Dense)               (None, 512)               590336    \n",
      "                                                                 \n",
      " dropout_4 (Dropout)         (None, 512)               0         \n",
      "                                                                 \n",
      " dense_1 (Dense)             (None, 10)                5130      \n",
      "                                                                 \n",
      "=================================================================\n",
      "Total params: 642570 (2.45 MB)\n",
      "Trainable params: 642570 (2.45 MB)\n",
      "Non-trainable params: 0 (0.00 Byte)\n",
      "_________________________________________________________________\n"
     ]
    }
   ],
   "source": [
    "model.compile(\n",
    "    loss='categorical_crossentropy',\n",
    "    optimizer='adam',\n",
    "    metrics=['accuracy'])\n",
    "\n",
    "model.summary()"
   ]
  },
  {
   "cell_type": "code",
   "execution_count": 9,
   "id": "46f8c023",
   "metadata": {},
   "outputs": [
    {
     "name": "stdout",
     "output_type": "stream",
     "text": [
      "Epoch 1/15\n",
      "1563/1563 [==============================] - 92s 59ms/step - loss: 1.4789 - accuracy: 0.4612 - val_loss: 1.3217 - val_accuracy: 0.5138\n",
      "Epoch 2/15\n",
      "1563/1563 [==============================] - 76s 49ms/step - loss: 1.1675 - accuracy: 0.5836 - val_loss: 0.9721 - val_accuracy: 0.6515\n",
      "Epoch 3/15\n",
      "1563/1563 [==============================] - 69s 44ms/step - loss: 1.0303 - accuracy: 0.6377 - val_loss: 0.9128 - val_accuracy: 0.6818\n",
      "Epoch 4/15\n",
      "1563/1563 [==============================] - 67s 43ms/step - loss: 0.9461 - accuracy: 0.6670 - val_loss: 0.8547 - val_accuracy: 0.6968\n",
      "Epoch 5/15\n",
      "1563/1563 [==============================] - 79s 50ms/step - loss: 0.8835 - accuracy: 0.6877 - val_loss: 0.7953 - val_accuracy: 0.7214\n",
      "Epoch 6/15\n",
      "1563/1563 [==============================] - 105s 67ms/step - loss: 0.8476 - accuracy: 0.7020 - val_loss: 0.7707 - val_accuracy: 0.7373\n",
      "Epoch 7/15\n",
      "1563/1563 [==============================] - 89s 57ms/step - loss: 0.8157 - accuracy: 0.7135 - val_loss: 0.7699 - val_accuracy: 0.7403\n",
      "Epoch 8/15\n",
      "1563/1563 [==============================] - 70s 45ms/step - loss: 0.7845 - accuracy: 0.7253 - val_loss: 0.7640 - val_accuracy: 0.7386\n",
      "Epoch 9/15\n",
      "1563/1563 [==============================] - 66s 43ms/step - loss: 0.7597 - accuracy: 0.7326 - val_loss: 0.6993 - val_accuracy: 0.7596\n",
      "Epoch 10/15\n",
      "1563/1563 [==============================] - 88s 56ms/step - loss: 0.7430 - accuracy: 0.7399 - val_loss: 0.7107 - val_accuracy: 0.7571\n",
      "Epoch 11/15\n",
      "1563/1563 [==============================] - 81s 52ms/step - loss: 0.7201 - accuracy: 0.7447 - val_loss: 0.7014 - val_accuracy: 0.7603\n",
      "Epoch 12/15\n",
      "1563/1563 [==============================] - 75s 48ms/step - loss: 0.7071 - accuracy: 0.7529 - val_loss: 0.7474 - val_accuracy: 0.7475\n",
      "Epoch 13/15\n",
      "1563/1563 [==============================] - 76s 49ms/step - loss: 0.6930 - accuracy: 0.7585 - val_loss: 0.6897 - val_accuracy: 0.7661\n",
      "Epoch 14/15\n",
      "1563/1563 [==============================] - 59s 38ms/step - loss: 0.6745 - accuracy: 0.7615 - val_loss: 0.7155 - val_accuracy: 0.7538\n",
      "Epoch 15/15\n",
      "1563/1563 [==============================] - 64s 41ms/step - loss: 0.6623 - accuracy: 0.7664 - val_loss: 0.7047 - val_accuracy: 0.7593\n"
     ]
    },
    {
     "data": {
      "text/plain": [
       "<keras.src.callbacks.History at 0x25e1d751a30>"
      ]
     },
     "execution_count": 9,
     "metadata": {},
     "output_type": "execute_result"
    }
   ],
   "source": [
    "model.fit(\n",
    "    X_train,\n",
    "    y_train,\n",
    "    batch_size=32,\n",
    "    epochs=15,\n",
    "    validation_data=(X_test, y_test),\n",
    "    shuffle=True)"
   ]
  },
  {
   "cell_type": "markdown",
   "id": "bc0e4c46",
   "metadata": {},
   "source": [
    "Save the neural network architecture"
   ]
  },
  {
   "cell_type": "code",
   "execution_count": 10,
   "id": "c01e1a08",
   "metadata": {},
   "outputs": [
    {
     "data": {
      "text/plain": [
       "6352"
      ]
     },
     "execution_count": 10,
     "metadata": {},
     "output_type": "execute_result"
    }
   ],
   "source": [
    "model_structure=model.to_json()\n",
    "f=Path(\"model_structure.json\")\n",
    "f.write_text(model_structure)"
   ]
  },
  {
   "cell_type": "markdown",
   "id": "3f2dd699",
   "metadata": {},
   "source": [
    "Save the trained neural network weights"
   ]
  },
  {
   "cell_type": "code",
   "execution_count": 11,
   "id": "67781eff",
   "metadata": {},
   "outputs": [],
   "source": [
    "model.save_weights(\"model_weight.h5\")"
   ]
  },
  {
   "cell_type": "markdown",
   "id": "28dedb5e",
   "metadata": {},
   "source": [
    "Making Predictions on the images"
   ]
  },
  {
   "cell_type": "code",
   "execution_count": 12,
   "id": "656c3fd2",
   "metadata": {},
   "outputs": [],
   "source": [
    "from keras.models import model_from_json\n",
    "from pathlib import Path\n",
    "from keras.preprocessing import image\n",
    "import numpy as np"
   ]
  },
  {
   "cell_type": "code",
   "execution_count": 13,
   "id": "489d97e6",
   "metadata": {},
   "outputs": [],
   "source": [
    "class_labels=[\n",
    "    \"Planes\",\n",
    "    \"car\",\n",
    "    \"Bird\",\n",
    "    \"Cat\",\n",
    "    \"Deer\",\n",
    "    \"Dog\",\n",
    "    \"Frog\",\n",
    "    \"Horse\",\n",
    "    \"Boat\",\n",
    "    \"Truck\"\n",
    "]"
   ]
  },
  {
   "cell_type": "markdown",
   "id": "21610354",
   "metadata": {},
   "source": [
    "load the json file that contains the mdoel structure"
   ]
  },
  {
   "cell_type": "code",
   "execution_count": 14,
   "id": "0ddc06c6",
   "metadata": {},
   "outputs": [],
   "source": [
    "f=Path(\"model_structure.json\")\n",
    "model_structure=f.read_text()"
   ]
  },
  {
   "cell_type": "code",
   "execution_count": 15,
   "id": "3c5ce3fb",
   "metadata": {},
   "outputs": [],
   "source": [
    "model=model_from_json(model_structure)"
   ]
  },
  {
   "cell_type": "markdown",
   "id": "8cec5fb4",
   "metadata": {},
   "source": [
    "reload the model training weights"
   ]
  },
  {
   "cell_type": "code",
   "execution_count": 16,
   "id": "0e4d6213",
   "metadata": {},
   "outputs": [],
   "source": [
    "model.load_weights(\"model_weight.h5\")"
   ]
  },
  {
   "cell_type": "markdown",
   "id": "a09108c9",
   "metadata": {},
   "source": [
    "Load an image file to test"
   ]
  },
  {
   "cell_type": "code",
   "execution_count": 17,
   "id": "d8e2b943",
   "metadata": {},
   "outputs": [
    {
     "data": {
      "text/plain": [
       "<matplotlib.image.AxesImage at 0x25e430d4fd0>"
      ]
     },
     "execution_count": 17,
     "metadata": {},
     "output_type": "execute_result"
    },
    {
     "data": {
      "image/png": "[encoded data removed]",
      "text/plain": [
       "<Figure size 432x288 with 1 Axes>"
      ]
     },
     "metadata": {
      "needs_background": "light"
     },
     "output_type": "display_data"
    }
   ],
   "source": [
    "import matplotlib.pyplot as plt\n",
    "from tensorflow.keras.utils import load_img, img_to_array\n",
    "img=load_img(\"dog.png\",target_size=(32,32))\n",
    "plt.imshow(img)"
   ]
  },
  {
   "cell_type": "markdown",
   "id": "1009ed2d",
   "metadata": {},
   "source": [
    "Convert the image to a numpy array"
   ]
  },
  {
   "cell_type": "code",
   "execution_count": 18,
   "id": "b8e23343",
   "metadata": {},
   "outputs": [],
   "source": [
    "from tensorflow.keras.utils import img_to_array\n",
    "image_to_test=img_to_array(img)"
   ]
  },
  {
   "cell_type": "code",
   "execution_count": 19,
   "id": "32656f67",
   "metadata": {},
   "outputs": [],
   "source": [
    "list_of_images=np.expand_dims(image_to_test,axis=0)"
   ]
  },
  {
   "cell_type": "markdown",
   "id": "60cd8b7b",
   "metadata": {},
   "source": [
    "make predictions using the model"
   ]
  },
  {
   "cell_type": "code",
   "execution_count": 20,
   "id": "f5bfb6f7",
   "metadata": {},
   "outputs": [
    {
     "name": "stdout",
     "output_type": "stream",
     "text": [
      "1/1 [==============================] - 0s 277ms/step\n"
     ]
    }
   ],
   "source": [
    "results=model.predict(list_of_images)"
   ]
  },
  {
   "cell_type": "markdown",
   "id": "12f8bc52",
   "metadata": {},
   "source": [
    "since we are only testing one image, we only need to check the first result"
   ]
  },
  {
   "cell_type": "code",
   "execution_count": 21,
   "id": "246a9495",
   "metadata": {},
   "outputs": [],
   "source": [
    "single_result=results[0]"
   ]
  },
  {
   "cell_type": "markdown",
   "id": "16520f7b",
   "metadata": {},
   "source": [
    "We will get a likeliood score for all 10 possible classes. Find out which class has the highest score"
   ]
  },
  {
   "cell_type": "code",
   "execution_count": 22,
   "id": "befb52cb",
   "metadata": {},
   "outputs": [],
   "source": [
    "most_likely_class_index=int(np.argmax(single_result))\n",
    "class_likelihood=single_result[most_likely_class_index]"
   ]
  },
  {
   "cell_type": "markdown",
   "id": "ca8c2156",
   "metadata": {},
   "source": [
    "Get the name of the most likely class"
   ]
  },
  {
   "cell_type": "code",
   "execution_count": 23,
   "id": "c9f348dd",
   "metadata": {},
   "outputs": [],
   "source": [
    "class_label=class_labels[most_likely_class_index]"
   ]
  },
  {
   "cell_type": "markdown",
   "id": "d438792a",
   "metadata": {},
   "source": [
    "Print the result"
   ]
  },
  {
   "cell_type": "code",
   "execution_count": 24,
   "id": "edaaa9be",
   "metadata": {},
   "outputs": [
    {
     "name": "stdout",
     "output_type": "stream",
     "text": [
      "This is a image is a Dog likelihood: 1.000000\n"
     ]
    }
   ],
   "source": [
    "print(\"This is a image is a {} likelihood: {:2f}\".format(class_label, class_likelihood))"
   ]
  },
  {
   "cell_type": "markdown",
   "id": "48dfbd84",
   "metadata": {},
   "source": [
    "# Sentiment Classification using NLP and Classification Algorithm"
   ]
  },
  {
   "cell_type": "markdown",
   "id": "db68ef2a",
   "metadata": {},
   "source": [
    "Sentiment Analysis is a means to identofy the view or emotion behind a situation.\n",
    "\n",
    "It basically means to analyse and find the emotion or intent behind a piece of text or speech or any model of communication.\n",
    "\n",
    "This burger has a very bad taste- negative review\n",
    "\n",
    "I ordered this pizza today- nutral sentiment/review\n",
    "\n",
    "I love this cheese sandwich, its so delicious- positive review"
   ]
  },
  {
   "cell_type": "code",
   "execution_count": 40,
   "id": "a97f6e10",
   "metadata": {},
   "outputs": [],
   "source": [
    "import pandas as pd\n",
    "import matplotlib.pyplot as plt\n",
    "import seaborn as sns\n",
    "import re"
   ]
  },
  {
   "cell_type": "code",
   "execution_count": 41,
   "id": "c59e44a0",
   "metadata": {},
   "outputs": [],
   "source": [
    "import nltk\n",
    "from nltk.corpus import stopwords\n",
    "from nltk.stem import WordNetLemmatizer"
   ]
  },
  {
   "cell_type": "code",
   "execution_count": 42,
   "id": "44541c82",
   "metadata": {},
   "outputs": [],
   "source": [
    "from sklearn.feature_extraction.text import CountVectorizer\n",
    "from sklearn.model_selection import GridSearchCV\n",
    "from sklearn.ensemble import RandomForestClassifier"
   ]
  },
  {
   "cell_type": "code",
   "execution_count": 43,
   "id": "09e03df1",
   "metadata": {},
   "outputs": [],
   "source": [
    "from sklearn.metrics import accuracy_score, precision_score, recall_score, confusion_matrix, roc_curve\n",
    "from sklearn.metrics import classification_report, plot_confusion_matrix"
   ]
  },
  {
   "cell_type": "code",
   "execution_count": 44,
   "id": "0f84114e",
   "metadata": {},
   "outputs": [],
   "source": [
    "df_train=pd.read_csv(\"train.txt\",delimiter=\";\",names=['text','label'])\n",
    "df_val=pd.read_csv(\"val.txt\",delimiter=\";\",names=['text','label'])"
   ]
  },
  {
   "cell_type": "code",
   "execution_count": 45,
   "id": "dddbf34b",
   "metadata": {},
   "outputs": [],
   "source": [
    "df=pd.concat([df_train, df_val])\n",
    "df.reset_index(inplace=True, drop=True)"
   ]
  },
  {
   "cell_type": "code",
   "execution_count": 46,
   "id": "8ef00104",
   "metadata": {},
   "outputs": [
    {
     "name": "stdout",
     "output_type": "stream",
     "text": [
      "Shape of the dataframe:  (18000, 2)\n"
     ]
    },
    {
     "data": {
      "text/html": [
       "<div>\n",
       "<style scoped>\n",
       "    .dataframe tbody tr th:only-of-type {\n",
       "        vertical-align: middle;\n",
       "    }\n",
       "\n",
       "    .dataframe tbody tr th {\n",
       "        vertical-align: top;\n",
       "    }\n",
       "\n",
       "    .dataframe thead th {\n",
       "        text-align: right;\n",
       "    }\n",
       "</style>\n",
       "<table border=\"1\" class=\"dataframe\">\n",
       "  <thead>\n",
       "    <tr style=\"text-align: right;\">\n",
       "      <th></th>\n",
       "      <th>text</th>\n",
       "      <th>label</th>\n",
       "    </tr>\n",
       "  </thead>\n",
       "  <tbody>\n",
       "    <tr>\n",
       "      <th>17658</th>\n",
       "      <td>i said before i feel like a hypocrite advocati...</td>\n",
       "      <td>love</td>\n",
       "    </tr>\n",
       "    <tr>\n",
       "      <th>13023</th>\n",
       "      <td>i almost feel like i missed this month but whe...</td>\n",
       "      <td>sadness</td>\n",
       "    </tr>\n",
       "    <tr>\n",
       "      <th>12862</th>\n",
       "      <td>i feel melancholy always the period plus just ...</td>\n",
       "      <td>sadness</td>\n",
       "    </tr>\n",
       "    <tr>\n",
       "      <th>17724</th>\n",
       "      <td>i feel a strange type of peace with this go ar...</td>\n",
       "      <td>surprise</td>\n",
       "    </tr>\n",
       "    <tr>\n",
       "      <th>4878</th>\n",
       "      <td>i do meet that i do date will continue to be s...</td>\n",
       "      <td>anger</td>\n",
       "    </tr>\n",
       "  </tbody>\n",
       "</table>\n",
       "</div>"
      ],
      "text/plain": [
       "                                                    text     label\n",
       "17658  i said before i feel like a hypocrite advocati...      love\n",
       "13023  i almost feel like i missed this month but whe...   sadness\n",
       "12862  i feel melancholy always the period plus just ...   sadness\n",
       "17724  i feel a strange type of peace with this go ar...  surprise\n",
       "4878   i do meet that i do date will continue to be s...     anger"
      ]
     },
     "execution_count": 46,
     "metadata": {},
     "output_type": "execute_result"
    }
   ],
   "source": [
    "print(\"Shape of the dataframe: \",df.shape)\n",
    "df.sample(5)"
   ]
  },
  {
   "cell_type": "code",
   "execution_count": 47,
   "id": "4093c3e0",
   "metadata": {},
   "outputs": [
    {
     "data": {
      "text/plain": [
       "<AxesSubplot:xlabel='label', ylabel='count'>"
      ]
     },
     "execution_count": 47,
     "metadata": {},
     "output_type": "execute_result"
    },
    {
     "data": {
      "image/png": "[encoded data removed]",
      "text/plain": [
       "<Figure size 432x288 with 1 Axes>"
      ]
     },
     "metadata": {
      "needs_background": "light"
     },
     "output_type": "display_data"
    }
   ],
   "source": [
    "import warnings\n",
    "warnings.filterwarnings(\"ignore\")\n",
    "\n",
    "sns.countplot(df.label)"
   ]
  },
  {
   "cell_type": "markdown",
   "id": "a99c7b3c",
   "metadata": {},
   "source": [
    "Positve Sentiment- joy, love, surprise\n",
    "\n",
    "Negative sentiment- anger, sadness, fear\n",
    "\n",
    "Now we will create a custom encoder to convert categorical target labels to numerical i.e 0 and 1"
   ]
  },
  {
   "cell_type": "code",
   "execution_count": 48,
   "id": "3be4062e",
   "metadata": {},
   "outputs": [],
   "source": [
    "def custom_encoder(df):\n",
    "    df.replace(to_replace=\"surprise\",value=1, inplace=True)\n",
    "    df.replace(to_replace=\"love\",value=1, inplace=True)\n",
    "    df.replace(to_replace=\"joy\",value=1, inplace=True)\n",
    "    df.replace(to_replace=\"fear\",value=0, inplace=True)\n",
    "    df.replace(to_replace=\"anger\",value=0, inplace=True)\n",
    "    df.replace(to_replace=\"sadness\",value=0, inplace=True)"
   ]
  },
  {
   "cell_type": "code",
   "execution_count": 49,
   "id": "eec0af2d",
   "metadata": {},
   "outputs": [],
   "source": [
    "custom_encoder(df['label'])"
   ]
  },
  {
   "cell_type": "code",
   "execution_count": 50,
   "id": "349c76d3",
   "metadata": {},
   "outputs": [
    {
     "data": {
      "text/plain": [
       "<AxesSubplot:xlabel='label', ylabel='count'>"
      ]
     },
     "execution_count": 50,
     "metadata": {},
     "output_type": "execute_result"
    },
    {
     "data": {
      "image/png": "[encoded data removed]",
      "text/plain": [
       "<Figure size 432x288 with 1 Axes>"
      ]
     },
     "metadata": {
      "needs_background": "light"
     },
     "output_type": "display_data"
    }
   ],
   "source": [
    "sns.countplot(df.label)"
   ]
  },
  {
   "cell_type": "markdown",
   "id": "76e0b733",
   "metadata": {},
   "source": [
    "Preprocessing Steps\n",
    "\n",
    "Get rid of any characters apart from alphabets\n",
    "\n",
    "Convert the string to lowercase because Python is case-sensitive\n",
    "\n",
    "Check and remove the stopwords\n",
    "\n",
    "Perform lemmatization"
   ]
  },
  {
   "cell_type": "code",
   "execution_count": 51,
   "id": "28a0bcab",
   "metadata": {},
   "outputs": [],
   "source": [
    "lm=WordNetLemmatizer()"
   ]
  },
  {
   "cell_type": "code",
   "execution_count": 52,
   "id": "7026340e",
   "metadata": {},
   "outputs": [],
   "source": [
    "def text_transformation(df_col):\n",
    "    corpus=[]\n",
    "    for item in df_col:\n",
    "        new_item=re.sub('[^a-zA-Z]',' ',str(item))\n",
    "        new_item=new_item.lower()\n",
    "        new_item=new_item.split()\n",
    "        new_item=[lm.lemmatize(word) for word in new_item if word not in set(stopwords.words('english'))]\n",
    "        corpus.append(' '.join(str(x) for x in new_item))\n",
    "    return corpus"
   ]
  },
  {
   "cell_type": "code",
   "execution_count": 53,
   "id": "1f9307b0",
   "metadata": {},
   "outputs": [],
   "source": [
    "corpus=text_transformation(df['text'])"
   ]
  },
  {
   "cell_type": "code",
   "execution_count": 54,
   "id": "ba711885",
   "metadata": {},
   "outputs": [
    {
     "data": {
      "text/plain": [
       "['didnt feel humiliated',\n",
       " 'go feeling hopeless damned hopeful around someone care awake']"
      ]
     },
     "execution_count": 54,
     "metadata": {},
     "output_type": "execute_result"
    }
   ],
   "source": [
    "corpus[:2]"
   ]
  },
  {
   "cell_type": "code",
   "execution_count": 55,
   "id": "5ec16069",
   "metadata": {},
   "outputs": [],
   "source": [
    "cv=CountVectorizer(ngram_range=(1,2))\n",
    "traindata=cv.fit_transform(corpus)\n",
    "X=traindata\n",
    "y=df.label"
   ]
  },
  {
   "cell_type": "markdown",
   "id": "ada1b5cb",
   "metadata": {},
   "source": [
    "Now we will fit the data into grid search and view the best parameters using the best_params attribute"
   ]
  },
  {
   "cell_type": "code",
   "execution_count": 56,
   "id": "f2a9ccbf",
   "metadata": {},
   "outputs": [],
   "source": [
    "parameters={'max_features':('auto','sqrt'),\n",
    "            'n_estimators':[5,10],\n",
    "            'max_depth':[10,None],\n",
    "            'min_samples_split':[5],\n",
    "            'min_samples_leaf':[1],\n",
    "            'bootstrap':[True]\n",
    "           }"
   ]
  },
  {
   "cell_type": "code",
   "execution_count": 57,
   "id": "71df18cc",
   "metadata": {},
   "outputs": [
    {
     "data": {
      "text/plain": [
       "{'bootstrap': True,\n",
       " 'max_depth': None,\n",
       " 'max_features': 'auto',\n",
       " 'min_samples_leaf': 1,\n",
       " 'min_samples_split': 5,\n",
       " 'n_estimators': 10}"
      ]
     },
     "execution_count": 57,
     "metadata": {},
     "output_type": "execute_result"
    }
   ],
   "source": [
    "grid_search=GridSearchCV(RandomForestClassifier(), parameters, cv=5, return_train_score=True,n_jobs=-1)\n",
    "grid_search.fit(X,y)\n",
    "grid_search.best_params_"
   ]
  },
  {
   "cell_type": "markdown",
   "id": "196f04a4",
   "metadata": {},
   "source": [
    "We can view all the models and their respective parameters, mean test score and rank as GridSearch CV"
   ]
  },
  {
   "cell_type": "code",
   "execution_count": 58,
   "id": "e24b1849",
   "metadata": {},
   "outputs": [
    {
     "name": "stdout",
     "output_type": "stream",
     "text": [
      "Parameters:  {'bootstrap': True, 'max_depth': 10, 'max_features': 'auto', 'min_samples_leaf': 1, 'min_samples_split': 5, 'n_estimators': 5}\n",
      "Mean test Score:  0.594111111111111\n",
      "Rank:  [8 6 7 5 4 1 3 2]\n",
      "Parameters:  {'bootstrap': True, 'max_depth': 10, 'max_features': 'auto', 'min_samples_leaf': 1, 'min_samples_split': 5, 'n_estimators': 10}\n",
      "Mean test Score:  0.618\n",
      "Rank:  [8 6 7 5 4 1 3 2]\n",
      "Parameters:  {'bootstrap': True, 'max_depth': 10, 'max_features': 'sqrt', 'min_samples_leaf': 1, 'min_samples_split': 5, 'n_estimators': 5}\n",
      "Mean test Score:  0.6080555555555556\n",
      "Rank:  [8 6 7 5 4 1 3 2]\n",
      "Parameters:  {'bootstrap': True, 'max_depth': 10, 'max_features': 'sqrt', 'min_samples_leaf': 1, 'min_samples_split': 5, 'n_estimators': 10}\n",
      "Mean test Score:  0.6253333333333334\n",
      "Rank:  [8 6 7 5 4 1 3 2]\n",
      "Parameters:  {'bootstrap': True, 'max_depth': None, 'max_features': 'auto', 'min_samples_leaf': 1, 'min_samples_split': 5, 'n_estimators': 5}\n",
      "Mean test Score:  0.9166666666666666\n",
      "Rank:  [8 6 7 5 4 1 3 2]\n",
      "Parameters:  {'bootstrap': True, 'max_depth': None, 'max_features': 'auto', 'min_samples_leaf': 1, 'min_samples_split': 5, 'n_estimators': 10}\n",
      "Mean test Score:  0.9360000000000002\n",
      "Rank:  [8 6 7 5 4 1 3 2]\n",
      "Parameters:  {'bootstrap': True, 'max_depth': None, 'max_features': 'sqrt', 'min_samples_leaf': 1, 'min_samples_split': 5, 'n_estimators': 5}\n",
      "Mean test Score:  0.9177777777777777\n",
      "Rank:  [8 6 7 5 4 1 3 2]\n",
      "Parameters:  {'bootstrap': True, 'max_depth': None, 'max_features': 'sqrt', 'min_samples_leaf': 1, 'min_samples_split': 5, 'n_estimators': 10}\n",
      "Mean test Score:  0.9345555555555555\n",
      "Rank:  [8 6 7 5 4 1 3 2]\n"
     ]
    }
   ],
   "source": [
    "for i in range(8):\n",
    "    print('Parameters: ', grid_search.cv_results_['params'][i])\n",
    "    print('Mean test Score: ',grid_search.cv_results_['mean_test_score'][i])\n",
    "    print(\"Rank: \",grid_search.cv_results_['rank_test_score'])"
   ]
  },
  {
   "cell_type": "markdown",
   "id": "a43c55d5",
   "metadata": {},
   "source": [
    "Now we will choose the best parameter obtained from GridSearchCV and create a final random forest classifier model and then train our model."
   ]
  },
  {
   "cell_type": "code",
   "execution_count": 59,
   "id": "54046810",
   "metadata": {},
   "outputs": [
    {
     "data": {
      "text/plain": [
       "RandomForestClassifier(min_samples_split=5, n_estimators=10)"
      ]
     },
     "execution_count": 59,
     "metadata": {},
     "output_type": "execute_result"
    }
   ],
   "source": [
    "rfc= RandomForestClassifier(max_features=grid_search.best_params_['max_features'],\n",
    "                           max_depth=grid_search.best_params_['max_depth'],\n",
    "                           n_estimators=grid_search.best_params_['n_estimators'],\n",
    "                           min_samples_split=grid_search.best_params_['min_samples_split'],\n",
    "                           min_samples_leaf=grid_search.best_params_['min_samples_leaf'],\n",
    "                           bootstrap=grid_search.best_params_['bootstrap'])\n",
    "\n",
    "rfc.fit(X,y)"
   ]
  },
  {
   "cell_type": "markdown",
   "id": "dc2e7c69",
   "metadata": {},
   "source": [
    "Test Data Transformation"
   ]
  },
  {
   "cell_type": "code",
   "execution_count": 60,
   "id": "4f7aa5ec",
   "metadata": {},
   "outputs": [],
   "source": [
    "test_df=pd.read_csv('test.txt',delimiter=';',names=['text','label'])"
   ]
  },
  {
   "cell_type": "code",
   "execution_count": 61,
   "id": "d304e3c9",
   "metadata": {},
   "outputs": [],
   "source": [
    "X_test, y_test=test_df.text, test_df.label\n",
    "\n",
    "# encode the labels into two classes 0 and 1\n",
    "test_df= custom_encoder(y_test)\n",
    "\n",
    "# preprocessing of text\n",
    "test_corpus=text_transformation(X_test)\n",
    "\n",
    "# convert the text data into vectors\n",
    "testdata=cv.transform(test_corpus)\n",
    "\n",
    "#predict the target\n",
    "predictions=rfc.predict(testdata)"
   ]
  },
  {
   "cell_type": "markdown",
   "id": "6485a1ca",
   "metadata": {},
   "source": [
    "Model Evaluation\n",
    "\n",
    "We will evaluate our model using various metrics such as accuracy score, precision score, recall score confusion matrix."
   ]
  },
  {
   "cell_type": "code",
   "execution_count": 62,
   "id": "aa07dbc8",
   "metadata": {},
   "outputs": [
    {
     "name": "stdout",
     "output_type": "stream",
     "text": [
      "Accuracy Score: 0.947\n",
      "Precision Score: 0.9532293986636972\n",
      "Recall Score 0.9304347826086956\n",
      "--------------------------------------------------\n",
      "              precision    recall  f1-score   support\n",
      "\n",
      "           0       0.94      0.96      0.95      1080\n",
      "           1       0.95      0.93      0.94       920\n",
      "\n",
      "    accuracy                           0.95      2000\n",
      "   macro avg       0.95      0.95      0.95      2000\n",
      "weighted avg       0.95      0.95      0.95      2000\n",
      "\n"
     ]
    }
   ],
   "source": [
    "acc_score= accuracy_score(y_test, predictions)\n",
    "pre_score= precision_score(y_test, predictions)\n",
    "rec_score=recall_score(y_test, predictions)\n",
    "\n",
    "print('Accuracy Score:',acc_score)\n",
    "print(\"Precision Score:\",pre_score)\n",
    "print('Recall Score',rec_score)\n",
    "\n",
    "print(\"-\"*50)\n",
    "\n",
    "cr=classification_report(y_test, predictions)\n",
    "print(cr)"
   ]
  },
  {
   "cell_type": "markdown",
   "id": "196c38f7",
   "metadata": {},
   "source": [
    "ROC Curve- We will plot probability of the class using the predict_proba() method of random forest classifier and then we will plot the cureve"
   ]
  },
  {
   "cell_type": "code",
   "execution_count": 63,
   "id": "80238a12",
   "metadata": {},
   "outputs": [
    {
     "data": {
      "image/png": "[encoded data removed]",
      "text/plain": [
       "<Figure size 432x288 with 1 Axes>"
      ]
     },
     "metadata": {
      "needs_background": "light"
     },
     "output_type": "display_data"
    }
   ],
   "source": [
    "predictions_probability= rfc.predict_proba(testdata)\n",
    "fpr,tpr,thresholds=roc_curve(y_test, predictions_probability[:,1])\n",
    "\n",
    "plt.plot(fpr,tpr)\n",
    "plt.plot([0,1])\n",
    "plt.title('ROC Curve')\n",
    "plt.xlabel('False Positive Rate')\n",
    "plt.ylabel('True Positive Rate')\n",
    "plt.show()"
   ]
  },
  {
   "cell_type": "markdown",
   "id": "f823dd3e",
   "metadata": {},
   "source": [
    "As we cna see that our model performed very well in classifying the sentiments, with an accuracy score, precision score and recall score of approx 96%.\n",
    "\n",
    "Now we will check for custom input as well and let our model identify the sentiment of the input statement."
   ]
  },
  {
   "cell_type": "code",
   "execution_count": 64,
   "id": "1ccdd4be",
   "metadata": {},
   "outputs": [],
   "source": [
    "def expression_check(prediction_input):\n",
    "    if prediction_input==0:\n",
    "        print(\"Input statement has negative sentiment\")\n",
    "    elif prediction_input==1:\n",
    "        print(\"Input statement has positive sentiment\")\n",
    "    else:\n",
    "        print(\"Invalid Statement\")"
   ]
  },
  {
   "cell_type": "markdown",
   "id": "4916658e",
   "metadata": {},
   "source": [
    "Function to take the input statement and performs the same transformation as we did earlier"
   ]
  },
  {
   "cell_type": "code",
   "execution_count": 65,
   "id": "856a80da",
   "metadata": {},
   "outputs": [],
   "source": [
    "def sentiment_predictor(input):\n",
    "    input=text_transformation(input)\n",
    "    transformed_input=cv.transform(input)\n",
    "    prediction=rfc.predict(transformed_input)\n",
    "    expression_check(prediction)"
   ]
  },
  {
   "cell_type": "code",
   "execution_count": 66,
   "id": "7947f1d0",
   "metadata": {},
   "outputs": [],
   "source": [
    "input1=[\"Sometimes I just don't want to go out\"]\n",
    "input2=[\"I bought a new phone and it's so good\"]"
   ]
  },
  {
   "cell_type": "code",
   "execution_count": 67,
   "id": "a33b2da6",
   "metadata": {},
   "outputs": [
    {
     "name": "stdout",
     "output_type": "stream",
     "text": [
      "Input statement has negative sentiment\n",
      "Input statement has negative sentiment\n"
     ]
    }
   ],
   "source": [
    "sentiment_predictor(input1)\n",
    "sentiment_predictor(input2)"
   ]
  },
  {
   "cell_type": "markdown",
   "id": "ef0f5604",
   "metadata": {},
   "source": [
    "# Chatbot using NLP and Neural Networks in Python"
   ]
  },
  {
   "cell_type": "markdown",
   "id": "c25c9c4b",
   "metadata": {},
   "source": [
    "Tag means classes\n",
    "\n",
    "Patterns means what user is going to ask\n",
    "\n",
    "Response is chatbot response"
   ]
  },
  {
   "cell_type": "code",
   "execution_count": 68,
   "id": "58ddc5b5",
   "metadata": {},
   "outputs": [],
   "source": [
    "data={\"intents\":[\n",
    "    {\"tag\":\"greeting\",\n",
    "     \"patterns\":[\"Hello\",\"How are you?\",\"Hi There\",\"Hi\",\"What's up\"],\n",
    "     \"responses\":[\"Howdy Partner!\",\"Hello\",\"How are you doing?\",\"Greetings!\",\"How do you do\"]\n",
    "        },\n",
    "    {\"tag\":\"age\",\n",
    "     \"patterns\":[\"how old are you\",\"when is your birthday\",\"when was you born\"],\n",
    "     \"responses\":[\"I am 24 years old\",\"I was born in 1966\",\"My birthday is July 3rd and I was born in 1996\",\"03/07/1996\"]\n",
    "        },\n",
    "    {\"tag\":\"date\",\n",
    "     \"patterns\":[\"what are you doing this weekend\",\n",
    "                \"do you want to hangout sometime?\",\"what are your plans for this week\"],\n",
    "     \"responses\":[\"I am available this week\",\"I don't have any plans\",\"I am not busy\"]\n",
    "        },\n",
    "    {\"tag\":\"name\",\n",
    "     \"patterns\":[\"what's your name\",\"what are you called\",\"who are you\"],\n",
    "     \"responses\":[\"My name is Kippi\",\"I'm Kippi\",\"Kippi\"]\n",
    "        },\n",
    "    {\"tag\":\"goodbye\",\n",
    "     \"patterns\":[\"bye\",\"g2g\",\"see ya\",\"adios\",\"cya\"],\n",
    "     \"responses\":[\"It was nice speaking to you\",\"See you later\",\"Speak Soon\"]\n",
    "        },\n",
    "]}"
   ]
  },
  {
   "cell_type": "markdown",
   "id": "102dc54c",
   "metadata": {},
   "source": [
    "For each tag we created, we would specify patterns. Essentially this defines the different ways of how a user may pose a query to the chatbot.\n",
    "\n",
    "The chatbot would then take these patterns and use them as training data to determine what someone is asking and the chatbot response would be relevant to that qustion."
   ]
  },
  {
   "cell_type": "code",
   "execution_count": 69,
   "id": "a48792ae",
   "metadata": {},
   "outputs": [
    {
     "name": "stderr",
     "output_type": "stream",
     "text": [
      "[nltk_data] Downloading package punkt to C:\\Users\\Mohit\n",
      "[nltk_data]     Tripathi\\AppData\\Roaming\\nltk_data...\n",
      "[nltk_data]   Package punkt is already up-to-date!\n",
      "[nltk_data] Downloading package wordnet to C:\\Users\\Mohit\n",
      "[nltk_data]     Tripathi\\AppData\\Roaming\\nltk_data...\n",
      "[nltk_data]   Package wordnet is already up-to-date!\n"
     ]
    },
    {
     "data": {
      "text/plain": [
       "True"
      ]
     },
     "execution_count": 69,
     "metadata": {},
     "output_type": "execute_result"
    }
   ],
   "source": [
    "import json\n",
    "import string\n",
    "import random\n",
    "\n",
    "import nltk\n",
    "import numpy as np\n",
    "from nltk.stem import WordNetLemmatizer\n",
    "\n",
    "import tensorflow as tf\n",
    "from tensorflow.keras import Sequential\n",
    "from tensorflow.keras.layers import Dense,Dropout\n",
    "\n",
    "nltk.download(\"punkt\")\n",
    "nltk.download(\"wordnet\")"
   ]
  },
  {
   "cell_type": "markdown",
   "id": "c9a7aef5",
   "metadata": {},
   "source": [
    "In order to create our training data below steps to be followed\n",
    "\n",
    "Create a vocabulary of all the words used in the patterns\n",
    "\n",
    "Create a list of the classes- tage of ach intent\n",
    "\n",
    "Create a list of all the patterns within the intents file\n",
    "\n",
    "Create a list of all the associated tags to go with each patterns in the intents file.\n",
    "\n",
    "Initialising lemmatier to get stem of words"
   ]
  },
  {
   "cell_type": "code",
   "execution_count": 70,
   "id": "57b9ba37",
   "metadata": {},
   "outputs": [],
   "source": [
    "lemmatizer=WordNetLemmatizer()\n",
    "\n",
    "words=[]\n",
    "classes=[]\n",
    "doc_x=[]\n",
    "doc_y=[]"
   ]
  },
  {
   "cell_type": "markdown",
   "id": "b2c7b5b5",
   "metadata": {},
   "source": [
    "Loop through all the intents\n",
    "\n",
    "Tokenize each patter and append token to words, the patterns and the associated tag to their associated list"
   ]
  },
  {
   "cell_type": "code",
   "execution_count": 71,
   "id": "4984209c",
   "metadata": {},
   "outputs": [],
   "source": [
    "for intent in data[\"intents\"]:\n",
    "    for pattern in intent[\"patterns\"]:\n",
    "        tokens=nltk.word_tokenize(pattern)\n",
    "        words.extend(tokens)\n",
    "        doc_x.append(pattern)\n",
    "        doc_y.append(intent[\"tag\"])\n",
    "    if intent[\"tag\"] not in classes:\n",
    "        classes.append(intent[\"tag\"])"
   ]
  },
  {
   "cell_type": "markdown",
   "id": "54077e46",
   "metadata": {},
   "source": [
    "Lemmatize all the words in the vocab and convert them to lowercase"
   ]
  },
  {
   "cell_type": "code",
   "execution_count": 72,
   "id": "e830e9cc",
   "metadata": {},
   "outputs": [],
   "source": [
    "words=[lemmatizer.lemmatize(word.lower()) for word in words if word not in string.punctuation]"
   ]
  },
  {
   "cell_type": "markdown",
   "id": "5953e631",
   "metadata": {},
   "source": [
    "Sorting the vocab and classes in alphabeical order and taking the set to ensure no duplicates occur"
   ]
  },
  {
   "cell_type": "code",
   "execution_count": 73,
   "id": "6f6ef978",
   "metadata": {},
   "outputs": [],
   "source": [
    "words=sorted(set(words))\n",
    "classes=sorted(set(classes))"
   ]
  },
  {
   "cell_type": "code",
   "execution_count": 74,
   "id": "22ceae67",
   "metadata": {},
   "outputs": [
    {
     "name": "stdout",
     "output_type": "stream",
     "text": [
      "[\"'s\", 'adios', 'are', 'birthday', 'born', 'bye', 'called', 'cya', 'do', 'doing', 'for', 'g2g', 'hangout', 'hello', 'hi', 'how', 'is', 'name', 'old', 'plan', 'see', 'sometime', 'there', 'this', 'to', 'up', 'wa', 'want', 'week', 'weekend', 'what', 'when', 'who', 'ya', 'you', 'your']\n"
     ]
    }
   ],
   "source": [
    "print(words)"
   ]
  },
  {
   "cell_type": "code",
   "execution_count": 75,
   "id": "1b689840",
   "metadata": {},
   "outputs": [
    {
     "name": "stdout",
     "output_type": "stream",
     "text": [
      "['age', 'date', 'goodbye', 'greeting', 'name']\n"
     ]
    }
   ],
   "source": [
    "print(classes)"
   ]
  },
  {
   "cell_type": "code",
   "execution_count": 76,
   "id": "1042fc41",
   "metadata": {},
   "outputs": [
    {
     "name": "stdout",
     "output_type": "stream",
     "text": [
      "['Hello', 'How are you?', 'Hi There', 'Hi', \"What's up\", 'how old are you', 'when is your birthday', 'when was you born', 'what are you doing this weekend', 'do you want to hangout sometime?', 'what are your plans for this week', \"what's your name\", 'what are you called', 'who are you', 'bye', 'g2g', 'see ya', 'adios', 'cya']\n"
     ]
    }
   ],
   "source": [
    "print(doc_x)"
   ]
  },
  {
   "cell_type": "code",
   "execution_count": 77,
   "id": "7a4e2e3c",
   "metadata": {},
   "outputs": [
    {
     "name": "stdout",
     "output_type": "stream",
     "text": [
      "['greeting', 'greeting', 'greeting', 'greeting', 'greeting', 'age', 'age', 'age', 'date', 'date', 'date', 'name', 'name', 'name', 'goodbye', 'goodbye', 'goodbye', 'goodbye', 'goodbye']\n"
     ]
    }
   ],
   "source": [
    "print(doc_y)"
   ]
  },
  {
   "cell_type": "markdown",
   "id": "f95765d8",
   "metadata": {},
   "source": [
    "List for training data"
   ]
  },
  {
   "cell_type": "code",
   "execution_count": 78,
   "id": "23b04678",
   "metadata": {},
   "outputs": [],
   "source": [
    "training=[]\n",
    "out_empty=[0]*len(classes)\n",
    "\n",
    "# creating a bag of words model\n",
    "\n",
    "for idx, doc in enumerate(doc_x):\n",
    "    bow=[]\n",
    "    text=lemmatizer.lemmatize(doc.lower())\n",
    "    for word in words:\n",
    "        bow.append(1) if word in text else bow.append(0)\n",
    "    output_row=list(out_empty)\n",
    "    output_row[classes.index(doc_y[idx])]=1\n",
    "\n",
    "    training.append([bow, output_row])\n",
    "\n",
    "random.shuffle(training)\n",
    "\n",
    "training=np.array(training,dtype=object)\n",
    "\n",
    "train_X=np.array(list(training[:,0]))\n",
    "train_y=np.array(list(training[:,1]))"
   ]
  },
  {
   "cell_type": "markdown",
   "id": "222800f3",
   "metadata": {},
   "source": [
    "The model will look at the features and predict the tagasscoiated with the features and then will select an appropiate message/response from the tag."
   ]
  },
  {
   "cell_type": "code",
   "execution_count": 79,
   "id": "abdf1e2a",
   "metadata": {},
   "outputs": [],
   "source": [
    "input_shape=(len(train_X[0]),)\n",
    "output_shape=len(train_y[0])\n",
    "\n",
    "epochs=500"
   ]
  },
  {
   "cell_type": "code",
   "execution_count": 80,
   "id": "523f479c",
   "metadata": {},
   "outputs": [
    {
     "name": "stdout",
     "output_type": "stream",
     "text": [
      "Model: \"sequential_2\"\n",
      "_________________________________________________________________\n",
      " Layer (type)                Output Shape              Param #   \n",
      "=================================================================\n",
      " dense_2 (Dense)             (None, 128)               4736      \n",
      "                                                                 \n",
      " dropout_5 (Dropout)         (None, 128)               0         \n",
      "                                                                 \n",
      " dense_3 (Dense)             (None, 64)                8256      \n",
      "                                                                 \n",
      " dropout_6 (Dropout)         (None, 64)                0         \n",
      "                                                                 \n",
      " dense_4 (Dense)             (None, 5)                 325       \n",
      "                                                                 \n",
      "=================================================================\n",
      "Total params: 13317 (52.02 KB)\n",
      "Trainable params: 13317 (52.02 KB)\n",
      "Non-trainable params: 0 (0.00 Byte)\n",
      "_________________________________________________________________\n",
      "None\n"
     ]
    }
   ],
   "source": [
    "from tensorflow.keras.models import Sequential\n",
    "from tensorflow.keras.layers import Dense, Dropout\n",
    "\n",
    "# Create a Sequential model\n",
    "model = Sequential()\n",
    "model.add(Dense(128, input_shape=input_shape, activation='relu'))\n",
    "model.add(Dropout(0.5))\n",
    "model.add(Dense(64, activation='relu'))\n",
    "model.add(Dropout(0.3))\n",
    "model.add(Dense(output_shape, activation='softmax'))\n",
    "\n",
    "# Create the Adam optimizer with a specified learning rate\n",
    "adam = tf.keras.optimizers.Adam(learning_rate=0.01)\n",
    "\n",
    "# Compile the model using the Adam optimizer\n",
    "model.compile(loss='categorical_crossentropy',\n",
    "              optimizer=adam,\n",
    "              metrics=['accuracy'])\n",
    "\n",
    "print(model.summary())"
   ]
  },
  {
   "cell_type": "code",
   "execution_count": 81,
   "id": "e44ebaf6",
   "metadata": {},
   "outputs": [
    {
     "name": "stdout",
     "output_type": "stream",
     "text": [
      "Epoch 1/500\n",
      "1/1 [==============================] - 2s 2s/step - loss: 1.7044 - accuracy: 0.1053\n",
      "Epoch 2/500\n",
      "1/1 [==============================] - 0s 12ms/step - loss: 1.5705 - accuracy: 0.4211\n",
      "Epoch 3/500\n",
      "1/1 [==============================] - 0s 12ms/step - loss: 1.4044 - accuracy: 0.5263\n",
      "Epoch 4/500\n",
      "1/1 [==============================] - 0s 9ms/step - loss: 1.3147 - accuracy: 0.7368\n",
      "Epoch 5/500\n",
      "1/1 [==============================] - 0s 16ms/step - loss: 1.2359 - accuracy: 0.8421\n",
      "Epoch 6/500\n",
      "1/1 [==============================] - 0s 31ms/step - loss: 1.0652 - accuracy: 0.8947\n",
      "Epoch 7/500\n",
      "1/1 [==============================] - 0s 13ms/step - loss: 0.8716 - accuracy: 0.8947\n",
      "Epoch 8/500\n",
      "1/1 [==============================] - 0s 10ms/step - loss: 0.8219 - accuracy: 0.7895\n",
      "Epoch 9/500\n",
      "1/1 [==============================] - 0s 13ms/step - loss: 0.8857 - accuracy: 0.7895\n",
      "Epoch 10/500\n",
      "1/1 [==============================] - 0s 15ms/step - loss: 0.5903 - accuracy: 0.9474\n",
      "Epoch 11/500\n",
      "1/1 [==============================] - 0s 13ms/step - loss: 0.5231 - accuracy: 0.8421\n",
      "Epoch 12/500\n",
      "1/1 [==============================] - 0s 12ms/step - loss: 0.4969 - accuracy: 0.7895\n",
      "Epoch 13/500\n",
      "1/1 [==============================] - 0s 11ms/step - loss: 0.4099 - accuracy: 1.0000\n",
      "Epoch 14/500\n",
      "1/1 [==============================] - 0s 14ms/step - loss: 0.2838 - accuracy: 0.9474\n",
      "Epoch 15/500\n",
      "1/1 [==============================] - 0s 11ms/step - loss: 0.2675 - accuracy: 0.9474\n",
      "Epoch 16/500\n",
      "1/1 [==============================] - 0s 11ms/step - loss: 0.1384 - accuracy: 1.0000\n",
      "Epoch 17/500\n",
      "1/1 [==============================] - 0s 14ms/step - loss: 0.1714 - accuracy: 0.8947\n",
      "Epoch 18/500\n",
      "1/1 [==============================] - 0s 13ms/step - loss: 0.1858 - accuracy: 0.9474\n",
      "Epoch 19/500\n",
      "1/1 [==============================] - 0s 12ms/step - loss: 0.0280 - accuracy: 1.0000\n",
      "Epoch 20/500\n",
      "1/1 [==============================] - 0s 14ms/step - loss: 0.0734 - accuracy: 1.0000\n",
      "Epoch 21/500\n",
      "1/1 [==============================] - 0s 22ms/step - loss: 0.0854 - accuracy: 1.0000\n",
      "Epoch 22/500\n",
      "1/1 [==============================] - 0s 17ms/step - loss: 0.1283 - accuracy: 1.0000\n",
      "Epoch 23/500\n",
      "1/1 [==============================] - 0s 16ms/step - loss: 0.1000 - accuracy: 0.9474\n",
      "Epoch 24/500\n",
      "1/1 [==============================] - 0s 15ms/step - loss: 0.0747 - accuracy: 1.0000\n",
      "Epoch 25/500\n",
      "1/1 [==============================] - 0s 15ms/step - loss: 0.0683 - accuracy: 0.9474\n",
      "Epoch 26/500\n",
      "1/1 [==============================] - 0s 14ms/step - loss: 0.0474 - accuracy: 0.9474\n",
      "Epoch 27/500\n",
      "1/1 [==============================] - 0s 17ms/step - loss: 0.0682 - accuracy: 1.0000\n",
      "Epoch 28/500\n",
      "1/1 [==============================] - 0s 12ms/step - loss: 0.1934 - accuracy: 0.9474\n",
      "Epoch 29/500\n",
      "1/1 [==============================] - 0s 20ms/step - loss: 0.0404 - accuracy: 1.0000\n",
      "Epoch 30/500\n",
      "1/1 [==============================] - 0s 17ms/step - loss: 0.0046 - accuracy: 1.0000\n",
      "Epoch 31/500\n",
      "1/1 [==============================] - 0s 16ms/step - loss: 0.1368 - accuracy: 0.9474\n",
      "Epoch 32/500\n",
      "1/1 [==============================] - 0s 16ms/step - loss: 0.0248 - accuracy: 1.0000\n",
      "Epoch 33/500\n",
      "1/1 [==============================] - 0s 11ms/step - loss: 0.1282 - accuracy: 0.9474\n",
      "Epoch 34/500\n",
      "1/1 [==============================] - 0s 15ms/step - loss: 0.0469 - accuracy: 0.9474\n",
      "Epoch 35/500\n",
      "1/1 [==============================] - 0s 15ms/step - loss: 0.0197 - accuracy: 1.0000\n",
      "Epoch 36/500\n",
      "1/1 [==============================] - 0s 15ms/step - loss: 0.0620 - accuracy: 0.9474\n",
      "Epoch 37/500\n",
      "1/1 [==============================] - 0s 14ms/step - loss: 0.0085 - accuracy: 1.0000\n",
      "Epoch 38/500\n",
      "1/1 [==============================] - 0s 16ms/step - loss: 0.0015 - accuracy: 1.0000\n",
      "Epoch 39/500\n",
      "1/1 [==============================] - 0s 13ms/step - loss: 0.0011 - accuracy: 1.0000\n",
      "Epoch 40/500\n",
      "1/1 [==============================] - 0s 18ms/step - loss: 0.0307 - accuracy: 1.0000\n",
      "Epoch 41/500\n",
      "1/1 [==============================] - 0s 14ms/step - loss: 0.1716 - accuracy: 0.9474\n",
      "Epoch 42/500\n",
      "1/1 [==============================] - 0s 14ms/step - loss: 9.7820e-04 - accuracy: 1.0000\n",
      "Epoch 43/500\n",
      "1/1 [==============================] - 0s 20ms/step - loss: 0.0066 - accuracy: 1.0000\n",
      "Epoch 44/500\n",
      "1/1 [==============================] - 0s 16ms/step - loss: 0.0074 - accuracy: 1.0000\n",
      "Epoch 45/500\n",
      "1/1 [==============================] - 0s 14ms/step - loss: 0.0042 - accuracy: 1.0000\n",
      "Epoch 46/500\n",
      "1/1 [==============================] - 0s 9ms/step - loss: 0.0025 - accuracy: 1.0000\n",
      "Epoch 47/500\n",
      "1/1 [==============================] - 0s 11ms/step - loss: 1.3452e-04 - accuracy: 1.0000\n",
      "Epoch 48/500\n",
      "1/1 [==============================] - 0s 15ms/step - loss: 0.0575 - accuracy: 0.9474\n",
      "Epoch 49/500\n",
      "1/1 [==============================] - 0s 16ms/step - loss: 0.0035 - accuracy: 1.0000\n",
      "Epoch 50/500\n",
      "1/1 [==============================] - 0s 53ms/step - loss: 0.0021 - accuracy: 1.0000\n",
      "Epoch 51/500\n",
      "1/1 [==============================] - 0s 16ms/step - loss: 0.0068 - accuracy: 1.0000\n",
      "Epoch 52/500\n",
      "1/1 [==============================] - 0s 16ms/step - loss: 0.0097 - accuracy: 1.0000\n",
      "Epoch 53/500\n",
      "1/1 [==============================] - 0s 13ms/step - loss: 0.0012 - accuracy: 1.0000\n",
      "Epoch 54/500\n",
      "1/1 [==============================] - 0s 15ms/step - loss: 0.0506 - accuracy: 0.9474\n",
      "Epoch 55/500\n",
      "1/1 [==============================] - 0s 15ms/step - loss: 0.0787 - accuracy: 0.9474\n",
      "Epoch 56/500\n",
      "1/1 [==============================] - 0s 21ms/step - loss: 0.0048 - accuracy: 1.0000\n",
      "Epoch 57/500\n",
      "1/1 [==============================] - 0s 10ms/step - loss: 0.0386 - accuracy: 1.0000\n",
      "Epoch 58/500\n",
      "1/1 [==============================] - 0s 16ms/step - loss: 0.0016 - accuracy: 1.0000\n",
      "Epoch 59/500\n",
      "1/1 [==============================] - 0s 22ms/step - loss: 0.0032 - accuracy: 1.0000\n",
      "Epoch 60/500\n",
      "1/1 [==============================] - 0s 15ms/step - loss: 0.1223 - accuracy: 0.9474\n",
      "Epoch 61/500\n",
      "1/1 [==============================] - 0s 10ms/step - loss: 0.0010 - accuracy: 1.0000\n",
      "Epoch 62/500\n",
      "1/1 [==============================] - 0s 18ms/step - loss: 0.0171 - accuracy: 1.0000\n",
      "Epoch 63/500\n",
      "1/1 [==============================] - 0s 8ms/step - loss: 0.0085 - accuracy: 1.0000\n",
      "Epoch 64/500\n",
      "1/1 [==============================] - 0s 17ms/step - loss: 0.0011 - accuracy: 1.0000\n",
      "Epoch 65/500\n",
      "1/1 [==============================] - 0s 19ms/step - loss: 0.0161 - accuracy: 1.0000\n",
      "Epoch 66/500\n",
      "1/1 [==============================] - 0s 10ms/step - loss: 2.1479e-04 - accuracy: 1.0000\n",
      "Epoch 67/500\n",
      "1/1 [==============================] - 0s 20ms/step - loss: 9.7712e-04 - accuracy: 1.0000\n",
      "Epoch 68/500\n",
      "1/1 [==============================] - 0s 21ms/step - loss: 0.0122 - accuracy: 1.0000\n",
      "Epoch 69/500\n",
      "1/1 [==============================] - 0s 19ms/step - loss: 0.0025 - accuracy: 1.0000\n",
      "Epoch 70/500\n",
      "1/1 [==============================] - 0s 10ms/step - loss: 0.0096 - accuracy: 1.0000\n",
      "Epoch 71/500\n",
      "1/1 [==============================] - 0s 7ms/step - loss: 8.7246e-04 - accuracy: 1.0000\n",
      "Epoch 72/500\n",
      "1/1 [==============================] - 0s 11ms/step - loss: 0.0013 - accuracy: 1.0000\n",
      "Epoch 73/500\n",
      "1/1 [==============================] - 0s 18ms/step - loss: 0.0013 - accuracy: 1.0000\n",
      "Epoch 74/500\n",
      "1/1 [==============================] - 0s 10ms/step - loss: 0.0013 - accuracy: 1.0000\n",
      "Epoch 75/500\n",
      "1/1 [==============================] - 0s 14ms/step - loss: 0.0036 - accuracy: 1.0000\n",
      "Epoch 76/500\n",
      "1/1 [==============================] - 0s 17ms/step - loss: 6.6214e-04 - accuracy: 1.0000\n",
      "Epoch 77/500\n",
      "1/1 [==============================] - 0s 19ms/step - loss: 0.0011 - accuracy: 1.0000\n",
      "Epoch 78/500\n",
      "1/1 [==============================] - 0s 17ms/step - loss: 0.0025 - accuracy: 1.0000\n",
      "Epoch 79/500\n",
      "1/1 [==============================] - 0s 14ms/step - loss: 0.0058 - accuracy: 1.0000\n",
      "Epoch 80/500\n",
      "1/1 [==============================] - 0s 13ms/step - loss: 0.0047 - accuracy: 1.0000\n",
      "Epoch 81/500\n",
      "1/1 [==============================] - 0s 13ms/step - loss: 0.0542 - accuracy: 0.9474\n",
      "Epoch 82/500\n",
      "1/1 [==============================] - 0s 11ms/step - loss: 0.0598 - accuracy: 1.0000\n",
      "Epoch 83/500\n"
     ]
    },
    {
     "name": "stdout",
     "output_type": "stream",
     "text": [
      "1/1 [==============================] - 0s 13ms/step - loss: 0.0025 - accuracy: 1.0000\n",
      "Epoch 84/500\n",
      "1/1 [==============================] - 0s 8ms/step - loss: 0.0118 - accuracy: 1.0000\n",
      "Epoch 85/500\n",
      "1/1 [==============================] - 0s 10ms/step - loss: 0.0077 - accuracy: 1.0000\n",
      "Epoch 86/500\n",
      "1/1 [==============================] - 0s 12ms/step - loss: 0.0100 - accuracy: 1.0000\n",
      "Epoch 87/500\n",
      "1/1 [==============================] - 0s 15ms/step - loss: 3.7830e-04 - accuracy: 1.0000\n",
      "Epoch 88/500\n",
      "1/1 [==============================] - 0s 14ms/step - loss: 0.0031 - accuracy: 1.0000\n",
      "Epoch 89/500\n",
      "1/1 [==============================] - 0s 13ms/step - loss: 6.8802e-04 - accuracy: 1.0000\n",
      "Epoch 90/500\n",
      "1/1 [==============================] - 0s 18ms/step - loss: 0.0079 - accuracy: 1.0000\n",
      "Epoch 91/500\n",
      "1/1 [==============================] - 0s 5ms/step - loss: 0.0020 - accuracy: 1.0000\n",
      "Epoch 92/500\n",
      "1/1 [==============================] - 0s 6ms/step - loss: 0.0017 - accuracy: 1.0000\n",
      "Epoch 93/500\n",
      "1/1 [==============================] - 0s 15ms/step - loss: 4.8878e-04 - accuracy: 1.0000\n",
      "Epoch 94/500\n",
      "1/1 [==============================] - 0s 13ms/step - loss: 0.0025 - accuracy: 1.0000\n",
      "Epoch 95/500\n",
      "1/1 [==============================] - 0s 13ms/step - loss: 5.3659e-04 - accuracy: 1.0000\n",
      "Epoch 96/500\n",
      "1/1 [==============================] - 0s 2ms/step - loss: 0.0011 - accuracy: 1.0000\n",
      "Epoch 97/500\n",
      "1/1 [==============================] - 0s 10ms/step - loss: 0.0022 - accuracy: 1.0000\n",
      "Epoch 98/500\n",
      "1/1 [==============================] - 0s 16ms/step - loss: 0.0054 - accuracy: 1.0000\n",
      "Epoch 99/500\n",
      "1/1 [==============================] - 0s 14ms/step - loss: 0.0012 - accuracy: 1.0000\n",
      "Epoch 100/500\n",
      "1/1 [==============================] - 0s 14ms/step - loss: 0.0015 - accuracy: 1.0000\n",
      "Epoch 101/500\n",
      "1/1 [==============================] - 0s 11ms/step - loss: 0.0027 - accuracy: 1.0000\n",
      "Epoch 102/500\n",
      "1/1 [==============================] - 0s 6ms/step - loss: 0.0066 - accuracy: 1.0000\n",
      "Epoch 103/500\n",
      "1/1 [==============================] - 0s 9ms/step - loss: 0.0035 - accuracy: 1.0000\n",
      "Epoch 104/500\n",
      "1/1 [==============================] - 0s 9ms/step - loss: 1.2812e-04 - accuracy: 1.0000\n",
      "Epoch 105/500\n",
      "1/1 [==============================] - 0s 13ms/step - loss: 0.0102 - accuracy: 1.0000\n",
      "Epoch 106/500\n",
      "1/1 [==============================] - 0s 16ms/step - loss: 1.9904e-04 - accuracy: 1.0000\n",
      "Epoch 107/500\n",
      "1/1 [==============================] - 0s 17ms/step - loss: 3.9057e-04 - accuracy: 1.0000\n",
      "Epoch 108/500\n",
      "1/1 [==============================] - 0s 20ms/step - loss: 0.0056 - accuracy: 1.0000\n",
      "Epoch 109/500\n",
      "1/1 [==============================] - 0s 10ms/step - loss: 0.0010 - accuracy: 1.0000\n",
      "Epoch 110/500\n",
      "1/1 [==============================] - 0s 14ms/step - loss: 0.0010 - accuracy: 1.0000\n",
      "Epoch 111/500\n",
      "1/1 [==============================] - 0s 12ms/step - loss: 1.9936e-04 - accuracy: 1.0000\n",
      "Epoch 112/500\n",
      "1/1 [==============================] - 0s 13ms/step - loss: 0.0015 - accuracy: 1.0000\n",
      "Epoch 113/500\n",
      "1/1 [==============================] - 0s 10ms/step - loss: 0.0130 - accuracy: 1.0000\n",
      "Epoch 114/500\n",
      "1/1 [==============================] - 0s 10ms/step - loss: 0.0024 - accuracy: 1.0000\n",
      "Epoch 115/500\n",
      "1/1 [==============================] - 0s 13ms/step - loss: 3.6272e-04 - accuracy: 1.0000\n",
      "Epoch 116/500\n",
      "1/1 [==============================] - 0s 13ms/step - loss: 3.1276e-04 - accuracy: 1.0000\n",
      "Epoch 117/500\n",
      "1/1 [==============================] - 0s 13ms/step - loss: 7.7015e-05 - accuracy: 1.0000\n",
      "Epoch 118/500\n",
      "1/1 [==============================] - 0s 12ms/step - loss: 0.0298 - accuracy: 1.0000\n",
      "Epoch 119/500\n",
      "1/1 [==============================] - 0s 16ms/step - loss: 3.7309e-04 - accuracy: 1.0000\n",
      "Epoch 120/500\n",
      "1/1 [==============================] - 0s 13ms/step - loss: 2.5005e-04 - accuracy: 1.0000\n",
      "Epoch 121/500\n",
      "1/1 [==============================] - 0s 13ms/step - loss: 0.0034 - accuracy: 1.0000\n",
      "Epoch 122/500\n",
      "1/1 [==============================] - 0s 10ms/step - loss: 0.0037 - accuracy: 1.0000\n",
      "Epoch 123/500\n",
      "1/1 [==============================] - 0s 8ms/step - loss: 2.7515e-04 - accuracy: 1.0000\n",
      "Epoch 124/500\n",
      "1/1 [==============================] - 0s 11ms/step - loss: 0.0088 - accuracy: 1.0000\n",
      "Epoch 125/500\n",
      "1/1 [==============================] - 0s 5ms/step - loss: 2.4424e-04 - accuracy: 1.0000\n",
      "Epoch 126/500\n",
      "1/1 [==============================] - 0s 14ms/step - loss: 6.9200e-04 - accuracy: 1.0000\n",
      "Epoch 127/500\n",
      "1/1 [==============================] - 0s 13ms/step - loss: 3.4843e-05 - accuracy: 1.0000\n",
      "Epoch 128/500\n",
      "1/1 [==============================] - 0s 12ms/step - loss: 0.0010 - accuracy: 1.0000\n",
      "Epoch 129/500\n",
      "1/1 [==============================] - 0s 13ms/step - loss: 2.1411e-04 - accuracy: 1.0000\n",
      "Epoch 130/500\n",
      "1/1 [==============================] - 0s 10ms/step - loss: 1.5020e-04 - accuracy: 1.0000\n",
      "Epoch 131/500\n",
      "1/1 [==============================] - 0s 12ms/step - loss: 0.0016 - accuracy: 1.0000\n",
      "Epoch 132/500\n",
      "1/1 [==============================] - 0s 14ms/step - loss: 0.0022 - accuracy: 1.0000\n",
      "Epoch 133/500\n",
      "1/1 [==============================] - 0s 15ms/step - loss: 3.2126e-04 - accuracy: 1.0000\n",
      "Epoch 134/500\n",
      "1/1 [==============================] - 0s 15ms/step - loss: 2.2040e-05 - accuracy: 1.0000\n",
      "Epoch 135/500\n",
      "1/1 [==============================] - 0s 16ms/step - loss: 2.9226e-04 - accuracy: 1.0000\n",
      "Epoch 136/500\n",
      "1/1 [==============================] - 0s 13ms/step - loss: 1.2900e-04 - accuracy: 1.0000\n",
      "Epoch 137/500\n",
      "1/1 [==============================] - 0s 9ms/step - loss: 1.5658e-04 - accuracy: 1.0000\n",
      "Epoch 138/500\n",
      "1/1 [==============================] - 0s 6ms/step - loss: 6.2862e-04 - accuracy: 1.0000\n",
      "Epoch 139/500\n",
      "1/1 [==============================] - 0s 11ms/step - loss: 6.5902e-05 - accuracy: 1.0000\n",
      "Epoch 140/500\n",
      "1/1 [==============================] - 0s 10ms/step - loss: 2.6608e-04 - accuracy: 1.0000\n",
      "Epoch 141/500\n",
      "1/1 [==============================] - 0s 9ms/step - loss: 1.1120e-04 - accuracy: 1.0000\n",
      "Epoch 142/500\n",
      "1/1 [==============================] - 0s 10ms/step - loss: 4.4572e-04 - accuracy: 1.0000\n",
      "Epoch 143/500\n",
      "1/1 [==============================] - 0s 15ms/step - loss: 1.3463e-05 - accuracy: 1.0000\n",
      "Epoch 144/500\n",
      "1/1 [==============================] - 0s 14ms/step - loss: 2.9850e-04 - accuracy: 1.0000\n",
      "Epoch 145/500\n",
      "1/1 [==============================] - 0s 12ms/step - loss: 2.4765e-04 - accuracy: 1.0000\n",
      "Epoch 146/500\n",
      "1/1 [==============================] - 0s 13ms/step - loss: 4.7900e-04 - accuracy: 1.0000\n",
      "Epoch 147/500\n",
      "1/1 [==============================] - 0s 11ms/step - loss: 7.9140e-04 - accuracy: 1.0000\n",
      "Epoch 148/500\n",
      "1/1 [==============================] - 0s 14ms/step - loss: 1.5239e-04 - accuracy: 1.0000\n",
      "Epoch 149/500\n",
      "1/1 [==============================] - 0s 11ms/step - loss: 0.0062 - accuracy: 1.0000\n",
      "Epoch 150/500\n",
      "1/1 [==============================] - 0s 11ms/step - loss: 0.0027 - accuracy: 1.0000\n",
      "Epoch 151/500\n",
      "1/1 [==============================] - 0s 13ms/step - loss: 0.0030 - accuracy: 1.0000\n",
      "Epoch 152/500\n",
      "1/1 [==============================] - 0s 16ms/step - loss: 6.9890e-05 - accuracy: 1.0000\n",
      "Epoch 153/500\n",
      "1/1 [==============================] - 0s 16ms/step - loss: 3.1223e-05 - accuracy: 1.0000\n",
      "Epoch 154/500\n",
      "1/1 [==============================] - 0s 11ms/step - loss: 2.9104e-05 - accuracy: 1.0000\n",
      "Epoch 155/500\n",
      "1/1 [==============================] - 0s 16ms/step - loss: 0.0019 - accuracy: 1.0000\n",
      "Epoch 156/500\n",
      "1/1 [==============================] - 0s 17ms/step - loss: 1.5493e-04 - accuracy: 1.0000\n",
      "Epoch 157/500\n",
      "1/1 [==============================] - 0s 14ms/step - loss: 2.5795e-04 - accuracy: 1.0000\n",
      "Epoch 158/500\n",
      "1/1 [==============================] - 0s 11ms/step - loss: 8.9178e-04 - accuracy: 1.0000\n",
      "Epoch 159/500\n",
      "1/1 [==============================] - 0s 19ms/step - loss: 3.3520e-04 - accuracy: 1.0000\n",
      "Epoch 160/500\n",
      "1/1 [==============================] - 0s 13ms/step - loss: 3.0646e-04 - accuracy: 1.0000\n",
      "Epoch 161/500\n",
      "1/1 [==============================] - 0s 13ms/step - loss: 0.0033 - accuracy: 1.0000\n",
      "Epoch 162/500\n",
      "1/1 [==============================] - 0s 15ms/step - loss: 6.2510e-05 - accuracy: 1.0000\n",
      "Epoch 163/500\n"
     ]
    },
    {
     "name": "stdout",
     "output_type": "stream",
     "text": [
      "1/1 [==============================] - 0s 15ms/step - loss: 1.2098e-04 - accuracy: 1.0000\n",
      "Epoch 164/500\n",
      "1/1 [==============================] - 0s 11ms/step - loss: 0.0027 - accuracy: 1.0000\n",
      "Epoch 165/500\n",
      "1/1 [==============================] - 0s 15ms/step - loss: 1.7349e-04 - accuracy: 1.0000\n",
      "Epoch 166/500\n",
      "1/1 [==============================] - 0s 19ms/step - loss: 3.4408e-04 - accuracy: 1.0000\n",
      "Epoch 167/500\n",
      "1/1 [==============================] - 0s 15ms/step - loss: 1.4128e-04 - accuracy: 1.0000\n",
      "Epoch 168/500\n",
      "1/1 [==============================] - 0s 14ms/step - loss: 9.0480e-04 - accuracy: 1.0000\n",
      "Epoch 169/500\n",
      "1/1 [==============================] - 0s 14ms/step - loss: 8.7027e-04 - accuracy: 1.0000\n",
      "Epoch 170/500\n",
      "1/1 [==============================] - 0s 12ms/step - loss: 0.0021 - accuracy: 1.0000\n",
      "Epoch 171/500\n",
      "1/1 [==============================] - 0s 10ms/step - loss: 4.5740e-05 - accuracy: 1.0000\n",
      "Epoch 172/500\n",
      "1/1 [==============================] - 0s 8ms/step - loss: 3.4423e-05 - accuracy: 1.0000\n",
      "Epoch 173/500\n",
      "1/1 [==============================] - 0s 8ms/step - loss: 0.0023 - accuracy: 1.0000\n",
      "Epoch 174/500\n",
      "1/1 [==============================] - 0s 11ms/step - loss: 3.0364e-04 - accuracy: 1.0000\n",
      "Epoch 175/500\n",
      "1/1 [==============================] - 0s 6ms/step - loss: 0.0289 - accuracy: 1.0000\n",
      "Epoch 176/500\n",
      "1/1 [==============================] - 0s 15ms/step - loss: 7.3440e-04 - accuracy: 1.0000\n",
      "Epoch 177/500\n",
      "1/1 [==============================] - 0s 14ms/step - loss: 0.0017 - accuracy: 1.0000\n",
      "Epoch 178/500\n",
      "1/1 [==============================] - 0s 14ms/step - loss: 9.0306e-05 - accuracy: 1.0000\n",
      "Epoch 179/500\n",
      "1/1 [==============================] - 0s 15ms/step - loss: 4.1523e-04 - accuracy: 1.0000\n",
      "Epoch 180/500\n",
      "1/1 [==============================] - 0s 15ms/step - loss: 2.6135e-05 - accuracy: 1.0000\n",
      "Epoch 181/500\n",
      "1/1 [==============================] - 0s 14ms/step - loss: 3.0546e-04 - accuracy: 1.0000\n",
      "Epoch 182/500\n",
      "1/1 [==============================] - 0s 13ms/step - loss: 2.2393e-04 - accuracy: 1.0000\n",
      "Epoch 183/500\n",
      "1/1 [==============================] - 0s 12ms/step - loss: 7.4559e-04 - accuracy: 1.0000\n",
      "Epoch 184/500\n",
      "1/1 [==============================] - 0s 12ms/step - loss: 2.9756e-04 - accuracy: 1.0000\n",
      "Epoch 185/500\n",
      "1/1 [==============================] - 0s 10ms/step - loss: 4.8902e-04 - accuracy: 1.0000\n",
      "Epoch 186/500\n",
      "1/1 [==============================] - 0s 15ms/step - loss: 4.0502e-04 - accuracy: 1.0000\n",
      "Epoch 187/500\n",
      "1/1 [==============================] - 0s 8ms/step - loss: 4.2717e-05 - accuracy: 1.0000\n",
      "Epoch 188/500\n",
      "1/1 [==============================] - 0s 12ms/step - loss: 5.5411e-04 - accuracy: 1.0000\n",
      "Epoch 189/500\n",
      "1/1 [==============================] - 0s 11ms/step - loss: 6.5480e-04 - accuracy: 1.0000\n",
      "Epoch 190/500\n",
      "1/1 [==============================] - 0s 17ms/step - loss: 0.0027 - accuracy: 1.0000\n",
      "Epoch 191/500\n",
      "1/1 [==============================] - 0s 10ms/step - loss: 5.3455e-04 - accuracy: 1.0000\n",
      "Epoch 192/500\n",
      "1/1 [==============================] - 0s 11ms/step - loss: 4.8350e-05 - accuracy: 1.0000\n",
      "Epoch 193/500\n",
      "1/1 [==============================] - 0s 16ms/step - loss: 0.0012 - accuracy: 1.0000\n",
      "Epoch 194/500\n",
      "1/1 [==============================] - 0s 6ms/step - loss: 8.6965e-04 - accuracy: 1.0000\n",
      "Epoch 195/500\n",
      "1/1 [==============================] - 0s 9ms/step - loss: 0.0010 - accuracy: 1.0000\n",
      "Epoch 196/500\n",
      "1/1 [==============================] - 0s 10ms/step - loss: 4.7017e-04 - accuracy: 1.0000\n",
      "Epoch 197/500\n",
      "1/1 [==============================] - 0s 11ms/step - loss: 4.6588e-04 - accuracy: 1.0000\n",
      "Epoch 198/500\n",
      "1/1 [==============================] - 0s 16ms/step - loss: 0.0017 - accuracy: 1.0000\n",
      "Epoch 199/500\n",
      "1/1 [==============================] - 0s 11ms/step - loss: 2.1443e-04 - accuracy: 1.0000\n",
      "Epoch 200/500\n",
      "1/1 [==============================] - 0s 16ms/step - loss: 1.6867e-04 - accuracy: 1.0000\n",
      "Epoch 201/500\n",
      "1/1 [==============================] - 0s 9ms/step - loss: 3.3809e-04 - accuracy: 1.0000\n",
      "Epoch 202/500\n",
      "1/1 [==============================] - 0s 9ms/step - loss: 2.0605e-04 - accuracy: 1.0000\n",
      "Epoch 203/500\n",
      "1/1 [==============================] - 0s 10ms/step - loss: 0.0017 - accuracy: 1.0000\n",
      "Epoch 204/500\n",
      "1/1 [==============================] - 0s 13ms/step - loss: 0.0026 - accuracy: 1.0000\n",
      "Epoch 205/500\n",
      "1/1 [==============================] - 0s 11ms/step - loss: 1.2665e-04 - accuracy: 1.0000\n",
      "Epoch 206/500\n",
      "1/1 [==============================] - 0s 13ms/step - loss: 6.0533e-05 - accuracy: 1.0000\n",
      "Epoch 207/500\n",
      "1/1 [==============================] - 0s 8ms/step - loss: 1.9733e-04 - accuracy: 1.0000\n",
      "Epoch 208/500\n",
      "1/1 [==============================] - 0s 16ms/step - loss: 5.4587e-05 - accuracy: 1.0000\n",
      "Epoch 209/500\n",
      "1/1 [==============================] - 0s 14ms/step - loss: 2.7428e-04 - accuracy: 1.0000\n",
      "Epoch 210/500\n",
      "1/1 [==============================] - 0s 11ms/step - loss: 4.9267e-05 - accuracy: 1.0000\n",
      "Epoch 211/500\n",
      "1/1 [==============================] - 0s 10ms/step - loss: 3.9486e-04 - accuracy: 1.0000\n",
      "Epoch 212/500\n",
      "1/1 [==============================] - 0s 13ms/step - loss: 0.0012 - accuracy: 1.0000\n",
      "Epoch 213/500\n",
      "1/1 [==============================] - 0s 9ms/step - loss: 1.0266e-04 - accuracy: 1.0000\n",
      "Epoch 214/500\n",
      "1/1 [==============================] - 0s 12ms/step - loss: 1.0672e-05 - accuracy: 1.0000\n",
      "Epoch 215/500\n",
      "1/1 [==============================] - 0s 12ms/step - loss: 1.4343e-04 - accuracy: 1.0000\n",
      "Epoch 216/500\n",
      "1/1 [==============================] - 0s 8ms/step - loss: 3.3383e-05 - accuracy: 1.0000\n",
      "Epoch 217/500\n",
      "1/1 [==============================] - 0s 10ms/step - loss: 9.8233e-05 - accuracy: 1.0000\n",
      "Epoch 218/500\n",
      "1/1 [==============================] - 0s 14ms/step - loss: 0.0011 - accuracy: 1.0000\n",
      "Epoch 219/500\n",
      "1/1 [==============================] - 0s 12ms/step - loss: 2.0923e-05 - accuracy: 1.0000\n",
      "Epoch 220/500\n",
      "1/1 [==============================] - 0s 9ms/step - loss: 6.1235e-05 - accuracy: 1.0000\n",
      "Epoch 221/500\n",
      "1/1 [==============================] - 0s 9ms/step - loss: 8.1816e-04 - accuracy: 1.0000\n",
      "Epoch 222/500\n",
      "1/1 [==============================] - 0s 7ms/step - loss: 5.2143e-04 - accuracy: 1.0000\n",
      "Epoch 223/500\n",
      "1/1 [==============================] - 0s 14ms/step - loss: 6.9542e-05 - accuracy: 1.0000\n",
      "Epoch 224/500\n",
      "1/1 [==============================] - 0s 15ms/step - loss: 3.3637e-05 - accuracy: 1.0000\n",
      "Epoch 225/500\n",
      "1/1 [==============================] - 0s 15ms/step - loss: 1.1414e-04 - accuracy: 1.0000\n",
      "Epoch 226/500\n",
      "1/1 [==============================] - 0s 16ms/step - loss: 4.0325e-04 - accuracy: 1.0000\n",
      "Epoch 227/500\n",
      "1/1 [==============================] - 0s 0s/step - loss: 1.5074e-04 - accuracy: 1.0000\n",
      "Epoch 228/500\n",
      "1/1 [==============================] - 0s 9ms/step - loss: 4.1704e-05 - accuracy: 1.0000\n",
      "Epoch 229/500\n",
      "1/1 [==============================] - 0s 14ms/step - loss: 2.0547e-04 - accuracy: 1.0000\n",
      "Epoch 230/500\n",
      "1/1 [==============================] - 0s 13ms/step - loss: 0.0035 - accuracy: 1.0000\n",
      "Epoch 231/500\n",
      "1/1 [==============================] - 0s 12ms/step - loss: 3.6139e-06 - accuracy: 1.0000\n",
      "Epoch 232/500\n",
      "1/1 [==============================] - 0s 12ms/step - loss: 0.0057 - accuracy: 1.0000\n",
      "Epoch 233/500\n",
      "1/1 [==============================] - 0s 16ms/step - loss: 9.1269e-05 - accuracy: 1.0000\n",
      "Epoch 234/500\n",
      "1/1 [==============================] - 0s 15ms/step - loss: 4.9450e-04 - accuracy: 1.0000\n",
      "Epoch 235/500\n",
      "1/1 [==============================] - 0s 16ms/step - loss: 5.8438e-04 - accuracy: 1.0000\n",
      "Epoch 236/500\n",
      "1/1 [==============================] - 0s 12ms/step - loss: 1.5677e-04 - accuracy: 1.0000\n",
      "Epoch 237/500\n",
      "1/1 [==============================] - 0s 15ms/step - loss: 6.7065e-05 - accuracy: 1.0000\n",
      "Epoch 238/500\n",
      "1/1 [==============================] - 0s 14ms/step - loss: 3.2687e-04 - accuracy: 1.0000\n",
      "Epoch 239/500\n",
      "1/1 [==============================] - 0s 10ms/step - loss: 0.0012 - accuracy: 1.0000\n",
      "Epoch 240/500\n",
      "1/1 [==============================] - 0s 14ms/step - loss: 6.8494e-04 - accuracy: 1.0000\n",
      "Epoch 241/500\n",
      "1/1 [==============================] - 0s 12ms/step - loss: 1.5573e-04 - accuracy: 1.0000\n",
      "Epoch 242/500\n"
     ]
    },
    {
     "name": "stdout",
     "output_type": "stream",
     "text": [
      "1/1 [==============================] - 0s 14ms/step - loss: 0.0018 - accuracy: 1.0000\n",
      "Epoch 243/500\n",
      "1/1 [==============================] - 0s 16ms/step - loss: 0.0045 - accuracy: 1.0000\n",
      "Epoch 244/500\n",
      "1/1 [==============================] - 0s 15ms/step - loss: 6.3200e-05 - accuracy: 1.0000\n",
      "Epoch 245/500\n",
      "1/1 [==============================] - 0s 18ms/step - loss: 0.0065 - accuracy: 1.0000\n",
      "Epoch 246/500\n",
      "1/1 [==============================] - 0s 21ms/step - loss: 0.0186 - accuracy: 1.0000\n",
      "Epoch 247/500\n",
      "1/1 [==============================] - 0s 11ms/step - loss: 2.6655e-05 - accuracy: 1.0000\n",
      "Epoch 248/500\n",
      "1/1 [==============================] - 0s 14ms/step - loss: 1.1114e-04 - accuracy: 1.0000\n",
      "Epoch 249/500\n",
      "1/1 [==============================] - 0s 9ms/step - loss: 3.2265e-04 - accuracy: 1.0000\n",
      "Epoch 250/500\n",
      "1/1 [==============================] - 0s 14ms/step - loss: 4.2419e-04 - accuracy: 1.0000\n",
      "Epoch 251/500\n",
      "1/1 [==============================] - 0s 11ms/step - loss: 0.0339 - accuracy: 1.0000\n",
      "Epoch 252/500\n",
      "1/1 [==============================] - 0s 11ms/step - loss: 1.0320e-04 - accuracy: 1.0000\n",
      "Epoch 253/500\n",
      "1/1 [==============================] - 0s 12ms/step - loss: 3.1945e-04 - accuracy: 1.0000\n",
      "Epoch 254/500\n",
      "1/1 [==============================] - 0s 6ms/step - loss: 2.7924e-05 - accuracy: 1.0000\n",
      "Epoch 255/500\n",
      "1/1 [==============================] - 0s 16ms/step - loss: 3.1032e-04 - accuracy: 1.0000\n",
      "Epoch 256/500\n",
      "1/1 [==============================] - 0s 13ms/step - loss: 1.8532e-05 - accuracy: 1.0000\n",
      "Epoch 257/500\n",
      "1/1 [==============================] - 0s 10ms/step - loss: 5.5450e-05 - accuracy: 1.0000\n",
      "Epoch 258/500\n",
      "1/1 [==============================] - 0s 13ms/step - loss: 8.0715e-04 - accuracy: 1.0000\n",
      "Epoch 259/500\n",
      "1/1 [==============================] - 0s 16ms/step - loss: 0.0025 - accuracy: 1.0000\n",
      "Epoch 260/500\n",
      "1/1 [==============================] - 0s 12ms/step - loss: 9.0322e-05 - accuracy: 1.0000\n",
      "Epoch 261/500\n",
      "1/1 [==============================] - 0s 9ms/step - loss: 6.3261e-04 - accuracy: 1.0000\n",
      "Epoch 262/500\n",
      "1/1 [==============================] - 0s 11ms/step - loss: 1.4688e-04 - accuracy: 1.0000\n",
      "Epoch 263/500\n",
      "1/1 [==============================] - 0s 13ms/step - loss: 5.9840e-04 - accuracy: 1.0000\n",
      "Epoch 264/500\n",
      "1/1 [==============================] - 0s 10ms/step - loss: 2.7366e-04 - accuracy: 1.0000\n",
      "Epoch 265/500\n",
      "1/1 [==============================] - 0s 9ms/step - loss: 1.4988e-04 - accuracy: 1.0000\n",
      "Epoch 266/500\n",
      "1/1 [==============================] - 0s 6ms/step - loss: 2.5633e-05 - accuracy: 1.0000\n",
      "Epoch 267/500\n",
      "1/1 [==============================] - 0s 15ms/step - loss: 4.3955e-04 - accuracy: 1.0000\n",
      "Epoch 268/500\n",
      "1/1 [==============================] - 0s 7ms/step - loss: 1.7948e-04 - accuracy: 1.0000\n",
      "Epoch 269/500\n",
      "1/1 [==============================] - 0s 14ms/step - loss: 9.7668e-04 - accuracy: 1.0000\n",
      "Epoch 270/500\n",
      "1/1 [==============================] - 0s 10ms/step - loss: 6.7382e-06 - accuracy: 1.0000\n",
      "Epoch 271/500\n",
      "1/1 [==============================] - 0s 6ms/step - loss: 1.0885e-05 - accuracy: 1.0000\n",
      "Epoch 272/500\n",
      "1/1 [==============================] - 0s 16ms/step - loss: 0.0019 - accuracy: 1.0000\n",
      "Epoch 273/500\n",
      "1/1 [==============================] - 0s 11ms/step - loss: 5.3488e-04 - accuracy: 1.0000\n",
      "Epoch 274/500\n",
      "1/1 [==============================] - 0s 11ms/step - loss: 5.1922e-05 - accuracy: 1.0000\n",
      "Epoch 275/500\n",
      "1/1 [==============================] - 0s 13ms/step - loss: 2.2021e-05 - accuracy: 1.0000\n",
      "Epoch 276/500\n",
      "1/1 [==============================] - 0s 11ms/step - loss: 1.5519e-04 - accuracy: 1.0000\n",
      "Epoch 277/500\n",
      "1/1 [==============================] - 0s 6ms/step - loss: 1.5239e-05 - accuracy: 1.0000\n",
      "Epoch 278/500\n",
      "1/1 [==============================] - 0s 8ms/step - loss: 9.9090e-05 - accuracy: 1.0000\n",
      "Epoch 279/500\n",
      "1/1 [==============================] - 0s 8ms/step - loss: 1.3678e-04 - accuracy: 1.0000\n",
      "Epoch 280/500\n",
      "1/1 [==============================] - 0s 11ms/step - loss: 4.4938e-05 - accuracy: 1.0000\n",
      "Epoch 281/500\n",
      "1/1 [==============================] - 0s 21ms/step - loss: 1.0237e-04 - accuracy: 1.0000\n",
      "Epoch 282/500\n",
      "1/1 [==============================] - 0s 6ms/step - loss: 2.1689e-04 - accuracy: 1.0000\n",
      "Epoch 283/500\n",
      "1/1 [==============================] - 0s 8ms/step - loss: 2.8683e-05 - accuracy: 1.0000\n",
      "Epoch 284/500\n",
      "1/1 [==============================] - 0s 12ms/step - loss: 5.8153e-04 - accuracy: 1.0000\n",
      "Epoch 285/500\n",
      "1/1 [==============================] - 0s 11ms/step - loss: 1.1067e-05 - accuracy: 1.0000\n",
      "Epoch 286/500\n",
      "1/1 [==============================] - 0s 11ms/step - loss: 1.7121e-05 - accuracy: 1.0000\n",
      "Epoch 287/500\n",
      "1/1 [==============================] - 0s 13ms/step - loss: 1.3131e-05 - accuracy: 1.0000\n",
      "Epoch 288/500\n",
      "1/1 [==============================] - 0s 12ms/step - loss: 2.2712e-06 - accuracy: 1.0000\n",
      "Epoch 289/500\n",
      "1/1 [==============================] - 0s 12ms/step - loss: 3.6618e-04 - accuracy: 1.0000\n",
      "Epoch 290/500\n",
      "1/1 [==============================] - 0s 11ms/step - loss: 5.1802e-05 - accuracy: 1.0000\n",
      "Epoch 291/500\n",
      "1/1 [==============================] - 0s 13ms/step - loss: 5.8663e-06 - accuracy: 1.0000\n",
      "Epoch 292/500\n",
      "1/1 [==============================] - 0s 13ms/step - loss: 5.4941e-04 - accuracy: 1.0000\n",
      "Epoch 293/500\n",
      "1/1 [==============================] - 0s 14ms/step - loss: 9.3322e-05 - accuracy: 1.0000\n",
      "Epoch 294/500\n",
      "1/1 [==============================] - 0s 13ms/step - loss: 6.3505e-04 - accuracy: 1.0000\n",
      "Epoch 295/500\n",
      "1/1 [==============================] - 0s 16ms/step - loss: 8.3130e-06 - accuracy: 1.0000\n",
      "Epoch 296/500\n",
      "1/1 [==============================] - 0s 15ms/step - loss: 7.9875e-04 - accuracy: 1.0000\n",
      "Epoch 297/500\n",
      "1/1 [==============================] - 0s 12ms/step - loss: 8.0901e-05 - accuracy: 1.0000\n",
      "Epoch 298/500\n",
      "1/1 [==============================] - 0s 13ms/step - loss: 7.7848e-04 - accuracy: 1.0000\n",
      "Epoch 299/500\n",
      "1/1 [==============================] - 0s 12ms/step - loss: 3.0832e-04 - accuracy: 1.0000\n",
      "Epoch 300/500\n",
      "1/1 [==============================] - 0s 7ms/step - loss: 1.0013e-04 - accuracy: 1.0000\n",
      "Epoch 301/500\n",
      "1/1 [==============================] - 0s 19ms/step - loss: 1.5120e-05 - accuracy: 1.0000\n",
      "Epoch 302/500\n",
      "1/1 [==============================] - 0s 17ms/step - loss: 0.0012 - accuracy: 1.0000\n",
      "Epoch 303/500\n",
      "1/1 [==============================] - 0s 12ms/step - loss: 1.5667e-04 - accuracy: 1.0000\n",
      "Epoch 304/500\n",
      "1/1 [==============================] - 0s 12ms/step - loss: 9.7875e-05 - accuracy: 1.0000\n",
      "Epoch 305/500\n",
      "1/1 [==============================] - 0s 10ms/step - loss: 3.4234e-05 - accuracy: 1.0000\n",
      "Epoch 306/500\n",
      "1/1 [==============================] - 0s 10ms/step - loss: 3.0070e-05 - accuracy: 1.0000\n",
      "Epoch 307/500\n",
      "1/1 [==============================] - 0s 12ms/step - loss: 7.0205e-05 - accuracy: 1.0000\n",
      "Epoch 308/500\n",
      "1/1 [==============================] - 0s 7ms/step - loss: 9.0312e-05 - accuracy: 1.0000\n",
      "Epoch 309/500\n",
      "1/1 [==============================] - 0s 11ms/step - loss: 1.4919e-05 - accuracy: 1.0000\n",
      "Epoch 310/500\n",
      "1/1 [==============================] - 0s 12ms/step - loss: 0.0017 - accuracy: 1.0000\n",
      "Epoch 311/500\n",
      "1/1 [==============================] - 0s 13ms/step - loss: 5.2287e-04 - accuracy: 1.0000\n",
      "Epoch 312/500\n",
      "1/1 [==============================] - 0s 10ms/step - loss: 8.4875e-04 - accuracy: 1.0000\n",
      "Epoch 313/500\n",
      "1/1 [==============================] - 0s 12ms/step - loss: 8.3256e-06 - accuracy: 1.0000\n",
      "Epoch 314/500\n",
      "1/1 [==============================] - 0s 14ms/step - loss: 9.7966e-05 - accuracy: 1.0000\n",
      "Epoch 315/500\n",
      "1/1 [==============================] - 0s 14ms/step - loss: 0.0014 - accuracy: 1.0000\n",
      "Epoch 316/500\n",
      "1/1 [==============================] - 0s 11ms/step - loss: 7.8175e-05 - accuracy: 1.0000\n",
      "Epoch 317/500\n",
      "1/1 [==============================] - 0s 9ms/step - loss: 4.5487e-06 - accuracy: 1.0000\n",
      "Epoch 318/500\n",
      "1/1 [==============================] - 0s 11ms/step - loss: 9.0131e-05 - accuracy: 1.0000\n",
      "Epoch 319/500\n",
      "1/1 [==============================] - 0s 12ms/step - loss: 1.2809e-04 - accuracy: 1.0000\n",
      "Epoch 320/500\n",
      "1/1 [==============================] - 0s 7ms/step - loss: 4.0375e-05 - accuracy: 1.0000\n",
      "Epoch 321/500\n"
     ]
    },
    {
     "name": "stdout",
     "output_type": "stream",
     "text": [
      "1/1 [==============================] - 0s 9ms/step - loss: 7.4481e-05 - accuracy: 1.0000\n",
      "Epoch 322/500\n",
      "1/1 [==============================] - 0s 7ms/step - loss: 2.3440e-04 - accuracy: 1.0000\n",
      "Epoch 323/500\n",
      "1/1 [==============================] - 0s 11ms/step - loss: 0.0011 - accuracy: 1.0000\n",
      "Epoch 324/500\n",
      "1/1 [==============================] - 0s 14ms/step - loss: 0.0045 - accuracy: 1.0000\n",
      "Epoch 325/500\n",
      "1/1 [==============================] - 0s 14ms/step - loss: 6.2050e-06 - accuracy: 1.0000\n",
      "Epoch 326/500\n",
      "1/1 [==============================] - 0s 15ms/step - loss: 2.9614e-06 - accuracy: 1.0000\n",
      "Epoch 327/500\n",
      "1/1 [==============================] - 0s 15ms/step - loss: 3.7268e-06 - accuracy: 1.0000\n",
      "Epoch 328/500\n",
      "1/1 [==============================] - 0s 14ms/step - loss: 1.4561e-05 - accuracy: 1.0000\n",
      "Epoch 329/500\n",
      "1/1 [==============================] - 0s 12ms/step - loss: 2.8234e-06 - accuracy: 1.0000\n",
      "Epoch 330/500\n",
      "1/1 [==============================] - 0s 9ms/step - loss: 3.0241e-06 - accuracy: 1.0000\n",
      "Epoch 331/500\n",
      "1/1 [==============================] - 0s 12ms/step - loss: 6.0553e-04 - accuracy: 1.0000\n",
      "Epoch 332/500\n",
      "1/1 [==============================] - 0s 9ms/step - loss: 1.3110e-04 - accuracy: 1.0000\n",
      "Epoch 333/500\n",
      "1/1 [==============================] - 0s 11ms/step - loss: 6.4490e-04 - accuracy: 1.0000\n",
      "Epoch 334/500\n",
      "1/1 [==============================] - 0s 10ms/step - loss: 9.4741e-05 - accuracy: 1.0000\n",
      "Epoch 335/500\n",
      "1/1 [==============================] - 0s 13ms/step - loss: 0.0419 - accuracy: 0.9474\n",
      "Epoch 336/500\n",
      "1/1 [==============================] - 0s 5ms/step - loss: 5.3392e-06 - accuracy: 1.0000\n",
      "Epoch 337/500\n",
      "1/1 [==============================] - 0s 7ms/step - loss: 2.4450e-04 - accuracy: 1.0000\n",
      "Epoch 338/500\n",
      "1/1 [==============================] - 0s 11ms/step - loss: 4.9731e-05 - accuracy: 1.0000\n",
      "Epoch 339/500\n",
      "1/1 [==============================] - 0s 10ms/step - loss: 1.2314e-04 - accuracy: 1.0000\n",
      "Epoch 340/500\n",
      "1/1 [==============================] - 0s 13ms/step - loss: 9.9188e-06 - accuracy: 1.0000\n",
      "Epoch 341/500\n",
      "1/1 [==============================] - 0s 17ms/step - loss: 4.6692e-04 - accuracy: 1.0000\n",
      "Epoch 342/500\n",
      "1/1 [==============================] - 0s 22ms/step - loss: 3.6158e-04 - accuracy: 1.0000\n",
      "Epoch 343/500\n",
      "1/1 [==============================] - 0s 15ms/step - loss: 4.3319e-04 - accuracy: 1.0000\n",
      "Epoch 344/500\n",
      "1/1 [==============================] - 0s 10ms/step - loss: 6.1360e-06 - accuracy: 1.0000\n",
      "Epoch 345/500\n",
      "1/1 [==============================] - 0s 15ms/step - loss: 6.5498e-05 - accuracy: 1.0000\n",
      "Epoch 346/500\n",
      "1/1 [==============================] - 0s 9ms/step - loss: 0.0041 - accuracy: 1.0000\n",
      "Epoch 347/500\n",
      "1/1 [==============================] - 0s 10ms/step - loss: 1.6852e-04 - accuracy: 1.0000\n",
      "Epoch 348/500\n",
      "1/1 [==============================] - 0s 14ms/step - loss: 7.3810e-04 - accuracy: 1.0000\n",
      "Epoch 349/500\n",
      "1/1 [==============================] - 0s 13ms/step - loss: 5.7010e-04 - accuracy: 1.0000\n",
      "Epoch 350/500\n",
      "1/1 [==============================] - 0s 11ms/step - loss: 5.0657e-05 - accuracy: 1.0000\n",
      "Epoch 351/500\n",
      "1/1 [==============================] - 0s 10ms/step - loss: 0.0104 - accuracy: 1.0000\n",
      "Epoch 352/500\n",
      "1/1 [==============================] - 0s 11ms/step - loss: 4.3281e-05 - accuracy: 1.0000\n",
      "Epoch 353/500\n",
      "1/1 [==============================] - 0s 14ms/step - loss: 1.3762e-04 - accuracy: 1.0000\n",
      "Epoch 354/500\n",
      "1/1 [==============================] - 0s 12ms/step - loss: 4.2287e-06 - accuracy: 1.0000\n",
      "Epoch 355/500\n",
      "1/1 [==============================] - 0s 10ms/step - loss: 6.3060e-05 - accuracy: 1.0000\n",
      "Epoch 356/500\n",
      "1/1 [==============================] - 0s 7ms/step - loss: 2.8626e-05 - accuracy: 1.0000\n",
      "Epoch 357/500\n",
      "1/1 [==============================] - 0s 9ms/step - loss: 1.2378e-05 - accuracy: 1.0000\n",
      "Epoch 358/500\n",
      "1/1 [==============================] - 0s 15ms/step - loss: 4.3271e-05 - accuracy: 1.0000\n",
      "Epoch 359/500\n",
      "1/1 [==============================] - 0s 14ms/step - loss: 9.2415e-06 - accuracy: 1.0000\n",
      "Epoch 360/500\n",
      "1/1 [==============================] - 0s 12ms/step - loss: 1.3069e-05 - accuracy: 1.0000\n",
      "Epoch 361/500\n",
      "1/1 [==============================] - 0s 10ms/step - loss: 6.0384e-05 - accuracy: 1.0000\n",
      "Epoch 362/500\n",
      "1/1 [==============================] - 0s 11ms/step - loss: 0.0285 - accuracy: 1.0000\n",
      "Epoch 363/500\n",
      "1/1 [==============================] - 0s 0s/step - loss: 3.8397e-06 - accuracy: 1.0000\n",
      "Epoch 364/500\n",
      "1/1 [==============================] - 0s 8ms/step - loss: 6.4551e-05 - accuracy: 1.0000\n",
      "Epoch 365/500\n",
      "1/1 [==============================] - 0s 13ms/step - loss: 1.3294e-05 - accuracy: 1.0000\n",
      "Epoch 366/500\n",
      "1/1 [==============================] - 0s 6ms/step - loss: 0.0082 - accuracy: 1.0000\n",
      "Epoch 367/500\n",
      "1/1 [==============================] - 0s 10ms/step - loss: 0.0026 - accuracy: 1.0000\n",
      "Epoch 368/500\n",
      "1/1 [==============================] - 0s 14ms/step - loss: 1.4097e-05 - accuracy: 1.0000\n",
      "Epoch 369/500\n",
      "1/1 [==============================] - 0s 11ms/step - loss: 4.8696e-04 - accuracy: 1.0000\n",
      "Epoch 370/500\n",
      "1/1 [==============================] - 0s 12ms/step - loss: 4.8667e-04 - accuracy: 1.0000\n",
      "Epoch 371/500\n",
      "1/1 [==============================] - 0s 10ms/step - loss: 2.9443e-04 - accuracy: 1.0000\n",
      "Epoch 372/500\n",
      "1/1 [==============================] - 0s 11ms/step - loss: 0.0016 - accuracy: 1.0000\n",
      "Epoch 373/500\n",
      "1/1 [==============================] - 0s 13ms/step - loss: 1.0372e-04 - accuracy: 1.0000\n",
      "Epoch 374/500\n",
      "1/1 [==============================] - 0s 11ms/step - loss: 4.3100e-04 - accuracy: 1.0000\n",
      "Epoch 375/500\n",
      "1/1 [==============================] - 0s 11ms/step - loss: 0.0026 - accuracy: 1.0000\n",
      "Epoch 376/500\n",
      "1/1 [==============================] - 0s 10ms/step - loss: 0.0516 - accuracy: 0.9474\n",
      "Epoch 377/500\n",
      "1/1 [==============================] - 0s 10ms/step - loss: 3.4697e-05 - accuracy: 1.0000\n",
      "Epoch 378/500\n",
      "1/1 [==============================] - 0s 10ms/step - loss: 0.0420 - accuracy: 0.9474\n",
      "Epoch 379/500\n",
      "1/1 [==============================] - 0s 3ms/step - loss: 7.2858e-04 - accuracy: 1.0000\n",
      "Epoch 380/500\n",
      "1/1 [==============================] - 0s 10ms/step - loss: 2.7606e-06 - accuracy: 1.0000\n",
      "Epoch 381/500\n",
      "1/1 [==============================] - 0s 10ms/step - loss: 4.5915e-05 - accuracy: 1.0000\n",
      "Epoch 382/500\n",
      "1/1 [==============================] - 0s 7ms/step - loss: 3.4666e-05 - accuracy: 1.0000\n",
      "Epoch 383/500\n",
      "1/1 [==============================] - 0s 17ms/step - loss: 1.1030e-05 - accuracy: 1.0000\n",
      "Epoch 384/500\n",
      "1/1 [==============================] - 0s 11ms/step - loss: 1.9693e-05 - accuracy: 1.0000\n",
      "Epoch 385/500\n",
      "1/1 [==============================] - 0s 10ms/step - loss: 8.9417e-05 - accuracy: 1.0000\n",
      "Epoch 386/500\n",
      "1/1 [==============================] - 0s 13ms/step - loss: 7.3531e-06 - accuracy: 1.0000\n",
      "Epoch 387/500\n",
      "1/1 [==============================] - 0s 14ms/step - loss: 0.0012 - accuracy: 1.0000\n",
      "Epoch 388/500\n",
      "1/1 [==============================] - 0s 13ms/step - loss: 3.8884e-04 - accuracy: 1.0000\n",
      "Epoch 389/500\n",
      "1/1 [==============================] - 0s 13ms/step - loss: 5.0569e-06 - accuracy: 1.0000\n",
      "Epoch 390/500\n",
      "1/1 [==============================] - 0s 10ms/step - loss: 2.6540e-06 - accuracy: 1.0000\n",
      "Epoch 391/500\n",
      "1/1 [==============================] - 0s 13ms/step - loss: 5.2076e-07 - accuracy: 1.0000\n",
      "Epoch 392/500\n",
      "1/1 [==============================] - 0s 11ms/step - loss: 8.5657e-04 - accuracy: 1.0000\n",
      "Epoch 393/500\n",
      "1/1 [==============================] - 0s 12ms/step - loss: 5.7924e-05 - accuracy: 1.0000\n",
      "Epoch 394/500\n",
      "1/1 [==============================] - 0s 11ms/step - loss: 0.0032 - accuracy: 1.0000\n",
      "Epoch 395/500\n",
      "1/1 [==============================] - 0s 5ms/step - loss: 9.5051e-05 - accuracy: 1.0000\n",
      "Epoch 396/500\n",
      "1/1 [==============================] - 0s 12ms/step - loss: 7.4034e-06 - accuracy: 1.0000\n",
      "Epoch 397/500\n",
      "1/1 [==============================] - 0s 9ms/step - loss: 0.0077 - accuracy: 1.0000\n",
      "Epoch 398/500\n",
      "1/1 [==============================] - 0s 16ms/step - loss: 4.6678e-06 - accuracy: 1.0000\n",
      "Epoch 399/500\n",
      "1/1 [==============================] - 0s 16ms/step - loss: 5.9979e-06 - accuracy: 1.0000\n",
      "Epoch 400/500\n"
     ]
    },
    {
     "name": "stdout",
     "output_type": "stream",
     "text": [
      "1/1 [==============================] - 0s 13ms/step - loss: 0.0029 - accuracy: 1.0000\n",
      "Epoch 401/500\n",
      "1/1 [==============================] - 0s 10ms/step - loss: 5.7607e-05 - accuracy: 1.0000\n",
      "Epoch 402/500\n",
      "1/1 [==============================] - 0s 12ms/step - loss: 1.7712e-04 - accuracy: 1.0000\n",
      "Epoch 403/500\n",
      "1/1 [==============================] - 0s 11ms/step - loss: 1.4164e-04 - accuracy: 1.0000\n",
      "Epoch 404/500\n",
      "1/1 [==============================] - 0s 12ms/step - loss: 1.9144e-04 - accuracy: 1.0000\n",
      "Epoch 405/500\n",
      "1/1 [==============================] - 0s 13ms/step - loss: 2.0990e-05 - accuracy: 1.0000\n",
      "Epoch 406/500\n",
      "1/1 [==============================] - 0s 13ms/step - loss: 3.4256e-06 - accuracy: 1.0000\n",
      "Epoch 407/500\n",
      "1/1 [==============================] - 0s 9ms/step - loss: 1.8414e-04 - accuracy: 1.0000\n",
      "Epoch 408/500\n",
      "1/1 [==============================] - 0s 9ms/step - loss: 2.0201e-05 - accuracy: 1.0000\n",
      "Epoch 409/500\n",
      "1/1 [==============================] - 0s 16ms/step - loss: 4.9627e-06 - accuracy: 1.0000\n",
      "Epoch 410/500\n",
      "1/1 [==============================] - 0s 12ms/step - loss: 2.6312e-04 - accuracy: 1.0000\n",
      "Epoch 411/500\n",
      "1/1 [==============================] - 0s 13ms/step - loss: 3.1827e-05 - accuracy: 1.0000\n",
      "Epoch 412/500\n",
      "1/1 [==============================] - 0s 9ms/step - loss: 9.5926e-06 - accuracy: 1.0000\n",
      "Epoch 413/500\n",
      "1/1 [==============================] - 0s 8ms/step - loss: 7.9054e-07 - accuracy: 1.0000\n",
      "Epoch 414/500\n",
      "1/1 [==============================] - 0s 11ms/step - loss: 3.9451e-05 - accuracy: 1.0000\n",
      "Epoch 415/500\n",
      "1/1 [==============================] - 0s 17ms/step - loss: 0.0019 - accuracy: 1.0000\n",
      "Epoch 416/500\n",
      "1/1 [==============================] - 0s 11ms/step - loss: 4.9439e-06 - accuracy: 1.0000\n",
      "Epoch 417/500\n",
      "1/1 [==============================] - 0s 16ms/step - loss: 3.1370e-06 - accuracy: 1.0000\n",
      "Epoch 418/500\n",
      "1/1 [==============================] - 0s 10ms/step - loss: 0.0025 - accuracy: 1.0000\n",
      "Epoch 419/500\n",
      "1/1 [==============================] - 0s 12ms/step - loss: 1.7818e-06 - accuracy: 1.0000\n",
      "Epoch 420/500\n",
      "1/1 [==============================] - 0s 14ms/step - loss: 1.4417e-04 - accuracy: 1.0000\n",
      "Epoch 421/500\n",
      "1/1 [==============================] - 0s 9ms/step - loss: 3.1409e-04 - accuracy: 1.0000\n",
      "Epoch 422/500\n",
      "1/1 [==============================] - 0s 12ms/step - loss: 2.7711e-04 - accuracy: 1.0000\n",
      "Epoch 423/500\n",
      "1/1 [==============================] - 0s 14ms/step - loss: 1.7295e-04 - accuracy: 1.0000\n",
      "Epoch 424/500\n",
      "1/1 [==============================] - 0s 4ms/step - loss: 2.3236e-05 - accuracy: 1.0000\n",
      "Epoch 425/500\n",
      "1/1 [==============================] - 0s 7ms/step - loss: 1.9499e-04 - accuracy: 1.0000\n",
      "Epoch 426/500\n",
      "1/1 [==============================] - 0s 11ms/step - loss: 6.9372e-05 - accuracy: 1.0000\n",
      "Epoch 427/500\n",
      "1/1 [==============================] - 0s 12ms/step - loss: 1.9228e-04 - accuracy: 1.0000\n",
      "Epoch 428/500\n",
      "1/1 [==============================] - 0s 14ms/step - loss: 6.7821e-06 - accuracy: 1.0000\n",
      "Epoch 429/500\n",
      "1/1 [==============================] - 0s 10ms/step - loss: 4.4317e-04 - accuracy: 1.0000\n",
      "Epoch 430/500\n",
      "1/1 [==============================] - 0s 9ms/step - loss: 3.3082e-05 - accuracy: 1.0000\n",
      "Epoch 431/500\n",
      "1/1 [==============================] - 0s 10ms/step - loss: 0.0192 - accuracy: 1.0000\n",
      "Epoch 432/500\n",
      "1/1 [==============================] - 0s 13ms/step - loss: 8.3577e-04 - accuracy: 1.0000\n",
      "Epoch 433/500\n",
      "1/1 [==============================] - 0s 14ms/step - loss: 5.2858e-04 - accuracy: 1.0000\n",
      "Epoch 434/500\n",
      "1/1 [==============================] - 0s 9ms/step - loss: 3.1684e-06 - accuracy: 1.0000\n",
      "Epoch 435/500\n",
      "1/1 [==============================] - 0s 11ms/step - loss: 3.6901e-05 - accuracy: 1.0000\n",
      "Epoch 436/500\n",
      "1/1 [==============================] - 0s 12ms/step - loss: 1.1043e-06 - accuracy: 1.0000\n",
      "Epoch 437/500\n",
      "1/1 [==============================] - 0s 5ms/step - loss: 0.0028 - accuracy: 1.0000\n",
      "Epoch 438/500\n",
      "1/1 [==============================] - 0s 20ms/step - loss: 2.0633e-05 - accuracy: 1.0000\n",
      "Epoch 439/500\n",
      "1/1 [==============================] - 0s 4ms/step - loss: 4.5075e-04 - accuracy: 1.0000\n",
      "Epoch 440/500\n",
      "1/1 [==============================] - 0s 10ms/step - loss: 3.9408e-04 - accuracy: 1.0000\n",
      "Epoch 441/500\n",
      "1/1 [==============================] - 0s 16ms/step - loss: 1.5632e-04 - accuracy: 1.0000\n",
      "Epoch 442/500\n",
      "1/1 [==============================] - 0s 10ms/step - loss: 1.0031e-04 - accuracy: 1.0000\n",
      "Epoch 443/500\n",
      "1/1 [==============================] - 0s 19ms/step - loss: 1.2654e-04 - accuracy: 1.0000\n",
      "Epoch 444/500\n",
      "1/1 [==============================] - 0s 11ms/step - loss: 3.4274e-05 - accuracy: 1.0000\n",
      "Epoch 445/500\n",
      "1/1 [==============================] - 0s 12ms/step - loss: 8.0309e-07 - accuracy: 1.0000\n",
      "Epoch 446/500\n",
      "1/1 [==============================] - 0s 11ms/step - loss: 1.0733e-04 - accuracy: 1.0000\n",
      "Epoch 447/500\n",
      "1/1 [==============================] - 0s 10ms/step - loss: 0.0035 - accuracy: 1.0000\n",
      "Epoch 448/500\n",
      "1/1 [==============================] - 0s 9ms/step - loss: 3.5112e-04 - accuracy: 1.0000\n",
      "Epoch 449/500\n",
      "1/1 [==============================] - 0s 8ms/step - loss: 0.0038 - accuracy: 1.0000\n",
      "Epoch 450/500\n",
      "1/1 [==============================] - 0s 17ms/step - loss: 6.7796e-05 - accuracy: 1.0000\n",
      "Epoch 451/500\n",
      "1/1 [==============================] - 0s 14ms/step - loss: 2.8861e-06 - accuracy: 1.0000\n",
      "Epoch 452/500\n",
      "1/1 [==============================] - 0s 12ms/step - loss: 5.4838e-05 - accuracy: 1.0000\n",
      "Epoch 453/500\n",
      "1/1 [==============================] - 0s 10ms/step - loss: 1.1933e-05 - accuracy: 1.0000\n",
      "Epoch 454/500\n",
      "1/1 [==============================] - 0s 12ms/step - loss: 6.9016e-07 - accuracy: 1.0000\n",
      "Epoch 455/500\n",
      "1/1 [==============================] - 0s 8ms/step - loss: 5.2992e-05 - accuracy: 1.0000\n",
      "Epoch 456/500\n",
      "1/1 [==============================] - 0s 9ms/step - loss: 5.3330e-04 - accuracy: 1.0000\n",
      "Epoch 457/500\n",
      "1/1 [==============================] - 0s 11ms/step - loss: 1.8949e-04 - accuracy: 1.0000\n",
      "Epoch 458/500\n",
      "1/1 [==============================] - 0s 14ms/step - loss: 3.4158e-05 - accuracy: 1.0000\n",
      "Epoch 459/500\n",
      "1/1 [==============================] - 0s 6ms/step - loss: 1.1248e-04 - accuracy: 1.0000\n",
      "Epoch 460/500\n",
      "1/1 [==============================] - 0s 8ms/step - loss: 0.0103 - accuracy: 1.0000\n",
      "Epoch 461/500\n",
      "1/1 [==============================] - 0s 15ms/step - loss: 1.4890e-04 - accuracy: 1.0000\n",
      "Epoch 462/500\n",
      "1/1 [==============================] - 0s 10ms/step - loss: 0.0038 - accuracy: 1.0000\n",
      "Epoch 463/500\n",
      "1/1 [==============================] - 0s 7ms/step - loss: 4.1740e-05 - accuracy: 1.0000\n",
      "Epoch 464/500\n",
      "1/1 [==============================] - 0s 10ms/step - loss: 1.2002e-05 - accuracy: 1.0000\n",
      "Epoch 465/500\n",
      "1/1 [==============================] - 0s 11ms/step - loss: 2.6233e-05 - accuracy: 1.0000\n",
      "Epoch 466/500\n",
      "1/1 [==============================] - 0s 13ms/step - loss: 3.4260e-05 - accuracy: 1.0000\n",
      "Epoch 467/500\n",
      "1/1 [==============================] - 0s 17ms/step - loss: 2.4783e-06 - accuracy: 1.0000\n",
      "Epoch 468/500\n",
      "1/1 [==============================] - 0s 11ms/step - loss: 4.2592e-05 - accuracy: 1.0000\n",
      "Epoch 469/500\n",
      "1/1 [==============================] - 0s 12ms/step - loss: 7.6378e-05 - accuracy: 1.0000\n",
      "Epoch 470/500\n",
      "1/1 [==============================] - 0s 11ms/step - loss: 3.3664e-05 - accuracy: 1.0000\n",
      "Epoch 471/500\n",
      "1/1 [==============================] - 0s 18ms/step - loss: 2.9636e-04 - accuracy: 1.0000\n",
      "Epoch 472/500\n",
      "1/1 [==============================] - 0s 11ms/step - loss: 1.3338e-05 - accuracy: 1.0000\n",
      "Epoch 473/500\n",
      "1/1 [==============================] - 0s 13ms/step - loss: 3.7456e-04 - accuracy: 1.0000\n",
      "Epoch 474/500\n",
      "1/1 [==============================] - 0s 10ms/step - loss: 5.1636e-06 - accuracy: 1.0000\n",
      "Epoch 475/500\n",
      "1/1 [==============================] - 0s 11ms/step - loss: 7.1414e-05 - accuracy: 1.0000\n",
      "Epoch 476/500\n",
      "1/1 [==============================] - 0s 13ms/step - loss: 2.7494e-04 - accuracy: 1.0000\n",
      "Epoch 477/500\n",
      "1/1 [==============================] - 0s 8ms/step - loss: 1.6086e-05 - accuracy: 1.0000\n",
      "Epoch 478/500\n",
      "1/1 [==============================] - 0s 12ms/step - loss: 0.0560 - accuracy: 0.9474\n",
      "Epoch 479/500\n"
     ]
    },
    {
     "name": "stdout",
     "output_type": "stream",
     "text": [
      "1/1 [==============================] - 0s 6ms/step - loss: 1.0521e-05 - accuracy: 1.0000\n",
      "Epoch 480/500\n",
      "1/1 [==============================] - 0s 10ms/step - loss: 6.3062e-05 - accuracy: 1.0000\n",
      "Epoch 481/500\n",
      "1/1 [==============================] - 0s 11ms/step - loss: 2.1298e-04 - accuracy: 1.0000\n",
      "Epoch 482/500\n",
      "1/1 [==============================] - 0s 7ms/step - loss: 1.9136e-06 - accuracy: 1.0000\n",
      "Epoch 483/500\n",
      "1/1 [==============================] - 0s 11ms/step - loss: 6.9814e-05 - accuracy: 1.0000\n",
      "Epoch 484/500\n",
      "1/1 [==============================] - 0s 11ms/step - loss: 0.0125 - accuracy: 1.0000\n",
      "Epoch 485/500\n",
      "1/1 [==============================] - 0s 16ms/step - loss: 2.7458e-05 - accuracy: 1.0000\n",
      "Epoch 486/500\n",
      "1/1 [==============================] - 0s 17ms/step - loss: 1.3187e-05 - accuracy: 1.0000\n",
      "Epoch 487/500\n",
      "1/1 [==============================] - 0s 13ms/step - loss: 0.0337 - accuracy: 1.0000\n",
      "Epoch 488/500\n",
      "1/1 [==============================] - 0s 7ms/step - loss: 0.0371 - accuracy: 1.0000\n",
      "Epoch 489/500\n",
      "1/1 [==============================] - 0s 8ms/step - loss: 7.0256e-05 - accuracy: 1.0000\n",
      "Epoch 490/500\n",
      "1/1 [==============================] - 0s 13ms/step - loss: 2.1285e-05 - accuracy: 1.0000\n",
      "Epoch 491/500\n",
      "1/1 [==============================] - 0s 10ms/step - loss: 0.0961 - accuracy: 0.9474\n",
      "Epoch 492/500\n",
      "1/1 [==============================] - 0s 8ms/step - loss: 7.0271e-07 - accuracy: 1.0000\n",
      "Epoch 493/500\n",
      "1/1 [==============================] - 0s 12ms/step - loss: 4.1345e-06 - accuracy: 1.0000\n",
      "Epoch 494/500\n",
      "1/1 [==============================] - 0s 13ms/step - loss: 2.2356e-04 - accuracy: 1.0000\n",
      "Epoch 495/500\n",
      "1/1 [==============================] - 0s 11ms/step - loss: 1.1443e-05 - accuracy: 1.0000\n",
      "Epoch 496/500\n",
      "1/1 [==============================] - 0s 9ms/step - loss: 3.5987e-04 - accuracy: 1.0000\n",
      "Epoch 497/500\n",
      "1/1 [==============================] - 0s 7ms/step - loss: 1.7345e-04 - accuracy: 1.0000\n",
      "Epoch 498/500\n",
      "1/1 [==============================] - 0s 15ms/step - loss: 0.0014 - accuracy: 1.0000\n",
      "Epoch 499/500\n",
      "1/1 [==============================] - 0s 13ms/step - loss: 2.1960e-07 - accuracy: 1.0000\n",
      "Epoch 500/500\n",
      "1/1 [==============================] - 0s 11ms/step - loss: 0.0237 - accuracy: 1.0000\n"
     ]
    },
    {
     "data": {
      "text/plain": [
       "<keras.src.callbacks.History at 0x25e2574d310>"
      ]
     },
     "execution_count": 81,
     "metadata": {},
     "output_type": "execute_result"
    }
   ],
   "source": [
    "model.fit(x=train_X, y=train_y, epochs=500, verbose=1)"
   ]
  },
  {
   "cell_type": "code",
   "execution_count": 82,
   "id": "a404dbb9",
   "metadata": {},
   "outputs": [],
   "source": [
    "def clean_text(text):\n",
    "    tokens=nltk.word_tokenize(text)\n",
    "    tokens=[lemmatizer.lemmatize(word) for word in tokens]\n",
    "    return tokens\n",
    "\n",
    "def bag_of_words(text,vocab):\n",
    "    tokens=clean_text(text)\n",
    "    bow=[0]*len(vocab)\n",
    "    for w in tokens:\n",
    "        for idx, word in enumerate(vocab):\n",
    "            if word==w:\n",
    "                bow[idx]=1\n",
    "    return np.array(bow)"
   ]
  },
  {
   "cell_type": "code",
   "execution_count": 83,
   "id": "605acc2e",
   "metadata": {},
   "outputs": [],
   "source": [
    "def pred_class(text, vocab,labels):\n",
    "    bow=bag_of_words(text, vocab)\n",
    "    result=model.predict(np.array([bow]))[0]\n",
    "    thresh=0.2\n",
    "    y_pred=[[idx,res] for idx, res in enumerate(result) if res>thresh]\n",
    "\n",
    "    y_pred.sort(key=lambda x:x[1], reverse=True)\n",
    "    return_list=[]\n",
    "    for r in y_pred:\n",
    "        return_list.append(labels[r[0]])\n",
    "    return return_list\n",
    "\n",
    "def get_response(intents_list, intents_json):\n",
    "    tag=intents_list[0]\n",
    "    list_of_intents=intents_json[\"intents\"]\n",
    "    for i in list_of_intents:\n",
    "        if i[\"tag\"]==tag:\n",
    "            result=random.choice(i[\"responses\"])\n",
    "            break\n",
    "    return result"
   ]
  },
  {
   "cell_type": "markdown",
   "id": "dc6d0c9e",
   "metadata": {},
   "source": [
    "Running the chatbot"
   ]
  },
  {
   "cell_type": "code",
   "execution_count": null,
   "id": "a7381a7e",
   "metadata": {},
   "outputs": [
    {
     "name": "stdout",
     "output_type": "stream",
     "text": [
      "HELLO\n",
      "1/1 [==============================] - 0s 141ms/step\n",
      "Hello\n",
      "what is your name\n",
      "1/1 [==============================] - 0s 55ms/step\n",
      "I'm Kippi\n",
      "goodbye\n",
      "1/1 [==============================] - 0s 39ms/step\n",
      "How do you do\n"
     ]
    }
   ],
   "source": [
    "while True:\n",
    "    message=input(\"\")\n",
    "    intents=pred_class(message, words, classes)\n",
    "    result=get_response(intents,data)\n",
    "    print(result)"
   ]
  },
  {
   "cell_type": "code",
   "execution_count": null,
   "id": "b13cd9f2",
   "metadata": {},
   "outputs": [],
   "source": []
  }
 ],
 "metadata": {
  "kernelspec": {
   "display_name": "Python 3 (ipykernel)",
   "language": "python",
   "name": "python3"
  },
  "language_info": {
   "codemirror_mode": {
    "name": "ipython",
    "version": 3
   },
   "file_extension": ".py",
   "mimetype": "text/x-python",
   "name": "python",
   "nbconvert_exporter": "python",
   "pygments_lexer": "ipython3",
   "version": "3.9.12"
  }
 },
 "nbformat": 4,
 "nbformat_minor": 5
}
