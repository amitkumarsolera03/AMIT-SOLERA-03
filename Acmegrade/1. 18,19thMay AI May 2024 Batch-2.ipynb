{
 "cells": [
  {
   "cell_type": "markdown",
   "id": "0ca89968",
   "metadata": {},
   "source": [
    "# Python Programming"
   ]
  },
  {
   "cell_type": "markdown",
   "id": "f8417fd9",
   "metadata": {},
   "source": [
    "https://www.anaconda.com/download/"
   ]
  },
  {
   "cell_type": "markdown",
   "id": "d20d75a8",
   "metadata": {},
   "source": [
    "Python is a high-level, interpreted programming language known for its simplicity, readability, and versatility. It was created by Guido van Rossum and first released in 1991. Since then, Python has gained immense popularity and is used in a wide variety of applications, ranging from web development to scientific computing to artificial intelligence."
   ]
  },
  {
   "cell_type": "markdown",
   "id": "a7a866e8",
   "metadata": {},
   "source": [
    "Readability: Python's syntax is designed to be clean and easy to understand, which makes it a great language for beginners. The use of indentation to define block structures, rather than braces or keywords, contributes to its readability.\n",
    "\n",
    "Versatility: Python can be used for a wide range of tasks, including web development (e.g., Django, Flask), data analysis (e.g., Pandas, NumPy), machine learning (e.g., TensorFlow, PyTorch), automation, and more.\n",
    "\n",
    "Extensive Standard Library: Python comes with a rich standard library that provides modules and functions for a wide variety of tasks without the need for external libraries.\n",
    "\n",
    "Community Support: The Python community is large and active. This means that there are plenty of resources available for learning and troubleshooting, including tutorials, forums, and third-party packages.\n",
    "\n",
    "Dynamic Typing: Variables in Python are not bound to a specific data type, which makes the language more flexible.\n",
    "\n",
    "Interpreted Language: Python is an interpreted language, which means that it executes code line-by-line, making debugging and testing easier.\n",
    "\n",
    "Cross-Platform: Python is platform-independent, meaning it can run on various operating systems without modification.\n",
    "\n",
    "Integration: Python can easily integrate with other languages like C, C++, and Java, and it supports various data formats and databases.\n",
    "\n",
    "Growth in Data Science and AI: With the rise of data science, machine learning, and artificial intelligence, Python has become a go-to language because of its robust ecosystem of libraries and frameworks tailored for these domains.\n",
    "\n",
    "Open Source: Python is open-source, which means its source code is freely available. This allows for a large community of developers to contribute and improve the language."
   ]
  },
  {
   "cell_type": "markdown",
   "id": "3bc0c65d",
   "metadata": {},
   "source": [
    "# Data Types"
   ]
  },
  {
   "cell_type": "markdown",
   "id": "94264f06",
   "metadata": {},
   "source": [
    "In Python, variables are used to store data values. Unlike some other programming languages, Python doesn't require explicit declaration of a variable's data type. Instead, the type is determined dynamically when a value is assigned to a variable.\n",
    "\n",
    "Integers (int):\n",
    "\n",
    "These are whole numbers, without a decimal point."
   ]
  },
  {
   "cell_type": "code",
   "execution_count": 25,
   "id": "750d14c6",
   "metadata": {},
   "outputs": [
    {
     "name": "stdout",
     "output_type": "stream",
     "text": [
      "5\n",
      "<class 'int'>\n"
     ]
    }
   ],
   "source": [
    "x=5\n",
    "\n",
    "print(x)\n",
    "\n",
    "print(type(x))"
   ]
  },
  {
   "cell_type": "markdown",
   "id": "3198874e",
   "metadata": {},
   "source": [
    "Floating Point Numbers (float):\n",
    "\n",
    "These are numbers with a decimal point or numbers in exponential form."
   ]
  },
  {
   "cell_type": "code",
   "execution_count": 26,
   "id": "d2dcc8dc",
   "metadata": {},
   "outputs": [
    {
     "name": "stdout",
     "output_type": "stream",
     "text": [
      "3.14\n",
      "<class 'float'>\n"
     ]
    }
   ],
   "source": [
    "y = 3.14\n",
    "z = 2.5e3\n",
    "\n",
    "print(y)\n",
    "\n",
    "print(type(y))"
   ]
  },
  {
   "cell_type": "markdown",
   "id": "f4cb1e88",
   "metadata": {},
   "source": [
    "Strings (str):\n",
    "\n",
    "A sequence of characters enclosed within single ('), double (\"), or triple (''' or \"\"\") quotes."
   ]
  },
  {
   "cell_type": "code",
   "execution_count": 27,
   "id": "36616def",
   "metadata": {},
   "outputs": [
    {
     "name": "stdout",
     "output_type": "stream",
     "text": [
      "Python\n",
      "<class 'str'>\n"
     ]
    }
   ],
   "source": [
    "name = \"Python\"\n",
    "\n",
    "print(name)\n",
    "\n",
    "print(type(name))"
   ]
  },
  {
   "cell_type": "code",
   "execution_count": 28,
   "id": "a596a2b6",
   "metadata": {},
   "outputs": [
    {
     "name": "stdout",
     "output_type": "stream",
     "text": [
      "Python\n",
      "<class 'str'>\n"
     ]
    }
   ],
   "source": [
    "name = 'Python'\n",
    "\n",
    "print(name)\n",
    "\n",
    "print(type(name))"
   ]
  },
  {
   "cell_type": "markdown",
   "id": "c2255e8d",
   "metadata": {},
   "source": [
    "Booleans (bool):\n",
    "\n",
    "Represents either True or False."
   ]
  },
  {
   "cell_type": "code",
   "execution_count": 29,
   "id": "a815a623",
   "metadata": {},
   "outputs": [
    {
     "name": "stdout",
     "output_type": "stream",
     "text": [
      "True\n",
      "<class 'bool'>\n"
     ]
    }
   ],
   "source": [
    "is_active = True\n",
    "\n",
    "print(is_active)\n",
    "\n",
    "print(type(is_active))"
   ]
  },
  {
   "cell_type": "markdown",
   "id": "79c30ff5",
   "metadata": {},
   "source": [
    "# String Functions"
   ]
  },
  {
   "cell_type": "markdown",
   "id": "1fb069c1",
   "metadata": {},
   "source": [
    "capitalize():\n",
    "\n",
    "Returns the string with the first character capitalized."
   ]
  },
  {
   "cell_type": "code",
   "execution_count": 30,
   "id": "c3c47d6b",
   "metadata": {},
   "outputs": [
    {
     "data": {
      "text/plain": [
       "'Hello'"
      ]
     },
     "execution_count": 30,
     "metadata": {},
     "output_type": "execute_result"
    }
   ],
   "source": [
    "\"hello\".capitalize()"
   ]
  },
  {
   "cell_type": "markdown",
   "id": "2f90ed5a",
   "metadata": {},
   "source": [
    "lower():\n",
    "\n",
    "Converts all characters in the string to lowercase."
   ]
  },
  {
   "cell_type": "code",
   "execution_count": 31,
   "id": "31bc3a77",
   "metadata": {},
   "outputs": [
    {
     "data": {
      "text/plain": [
       "'hello'"
      ]
     },
     "execution_count": 31,
     "metadata": {},
     "output_type": "execute_result"
    }
   ],
   "source": [
    "\"HELLO\".lower()"
   ]
  },
  {
   "cell_type": "markdown",
   "id": "cb280db6",
   "metadata": {},
   "source": [
    "upper():\n",
    "\n",
    "Converts all characters in the string to uppercase."
   ]
  },
  {
   "cell_type": "code",
   "execution_count": 32,
   "id": "2c5590fc",
   "metadata": {},
   "outputs": [
    {
     "data": {
      "text/plain": [
       "'HELLO'"
      ]
     },
     "execution_count": 32,
     "metadata": {},
     "output_type": "execute_result"
    }
   ],
   "source": [
    "\"hello\".upper()"
   ]
  },
  {
   "cell_type": "markdown",
   "id": "76599da4",
   "metadata": {},
   "source": [
    "title():\n",
    "\n",
    "Converts the first character of each word to uppercase."
   ]
  },
  {
   "cell_type": "code",
   "execution_count": 33,
   "id": "1d84ca9b",
   "metadata": {},
   "outputs": [
    {
     "data": {
      "text/plain": [
       "'Hello World'"
      ]
     },
     "execution_count": 33,
     "metadata": {},
     "output_type": "execute_result"
    }
   ],
   "source": [
    "\"hello world\".title()"
   ]
  },
  {
   "cell_type": "markdown",
   "id": "087433d2",
   "metadata": {},
   "source": [
    "len() (a built-in function, not a method):\n",
    "\n",
    "Returns the length of the string."
   ]
  },
  {
   "cell_type": "code",
   "execution_count": 34,
   "id": "9165a26c",
   "metadata": {},
   "outputs": [
    {
     "data": {
      "text/plain": [
       "5"
      ]
     },
     "execution_count": 34,
     "metadata": {},
     "output_type": "execute_result"
    }
   ],
   "source": [
    "len(\"hello\")"
   ]
  },
  {
   "cell_type": "markdown",
   "id": "4f108048",
   "metadata": {},
   "source": [
    "strip():\n",
    "\n",
    "Removes leading and trailing whitespace."
   ]
  },
  {
   "cell_type": "code",
   "execution_count": 35,
   "id": "8a0d84fa",
   "metadata": {},
   "outputs": [
    {
     "data": {
      "text/plain": [
       "'hello'"
      ]
     },
     "execution_count": 35,
     "metadata": {},
     "output_type": "execute_result"
    }
   ],
   "source": [
    "\" hello \".strip()"
   ]
  },
  {
   "cell_type": "markdown",
   "id": "bbb5bf8b",
   "metadata": {},
   "source": [
    "lstrip():\n",
    "\n",
    "Removes leading whitespace."
   ]
  },
  {
   "cell_type": "code",
   "execution_count": 36,
   "id": "ad483aa2",
   "metadata": {},
   "outputs": [
    {
     "data": {
      "text/plain": [
       "'hello'"
      ]
     },
     "execution_count": 36,
     "metadata": {},
     "output_type": "execute_result"
    }
   ],
   "source": [
    "\" hello\".lstrip()"
   ]
  },
  {
   "cell_type": "markdown",
   "id": "d74f48d9",
   "metadata": {},
   "source": [
    "rstrip():\n",
    "\n",
    "Removes trailing whitespace."
   ]
  },
  {
   "cell_type": "code",
   "execution_count": 37,
   "id": "32f2da41",
   "metadata": {},
   "outputs": [
    {
     "data": {
      "text/plain": [
       "'hello'"
      ]
     },
     "execution_count": 37,
     "metadata": {},
     "output_type": "execute_result"
    }
   ],
   "source": [
    "\"hello \".rstrip()"
   ]
  },
  {
   "cell_type": "markdown",
   "id": "91945633",
   "metadata": {},
   "source": [
    "startswith(substring):\n",
    "\n",
    "Checks if the string starts with the given substring."
   ]
  },
  {
   "cell_type": "code",
   "execution_count": 38,
   "id": "a9f130a6",
   "metadata": {},
   "outputs": [
    {
     "data": {
      "text/plain": [
       "True"
      ]
     },
     "execution_count": 38,
     "metadata": {},
     "output_type": "execute_result"
    }
   ],
   "source": [
    "\"hello\".startswith(\"he\")"
   ]
  },
  {
   "cell_type": "markdown",
   "id": "197c43f3",
   "metadata": {},
   "source": [
    "endswith(substring):\n",
    "\n",
    "Checks if the string ends with the given substring."
   ]
  },
  {
   "cell_type": "code",
   "execution_count": 39,
   "id": "29660735",
   "metadata": {},
   "outputs": [
    {
     "data": {
      "text/plain": [
       "True"
      ]
     },
     "execution_count": 39,
     "metadata": {},
     "output_type": "execute_result"
    }
   ],
   "source": [
    "\"hello\".endswith(\"lo\")"
   ]
  },
  {
   "cell_type": "markdown",
   "id": "e799a66a",
   "metadata": {},
   "source": [
    "find(substring):\n",
    "\n",
    "Returns the index of the first occurrence of the substring, or -1 if not found."
   ]
  },
  {
   "cell_type": "code",
   "execution_count": 40,
   "id": "aa583c23",
   "metadata": {},
   "outputs": [
    {
     "data": {
      "text/plain": [
       "2"
      ]
     },
     "execution_count": 40,
     "metadata": {},
     "output_type": "execute_result"
    }
   ],
   "source": [
    "\"hello\".find(\"l\")"
   ]
  },
  {
   "cell_type": "code",
   "execution_count": 41,
   "id": "d63d7d98",
   "metadata": {},
   "outputs": [
    {
     "data": {
      "text/plain": [
       "-1"
      ]
     },
     "execution_count": 41,
     "metadata": {},
     "output_type": "execute_result"
    }
   ],
   "source": [
    "\"hello\".find(\"p\")"
   ]
  },
  {
   "cell_type": "markdown",
   "id": "cf482242",
   "metadata": {},
   "source": [
    "replace(old, new):\n",
    "\n",
    "Replaces occurrences of the old substring with the new substring."
   ]
  },
  {
   "cell_type": "code",
   "execution_count": 42,
   "id": "97170fc4",
   "metadata": {},
   "outputs": [
    {
     "data": {
      "text/plain": [
       "'herro'"
      ]
     },
     "execution_count": 42,
     "metadata": {},
     "output_type": "execute_result"
    }
   ],
   "source": [
    "\"hello\".replace(\"l\", \"r\")"
   ]
  },
  {
   "cell_type": "markdown",
   "id": "5725faaf",
   "metadata": {},
   "source": [
    "split(separator):\n",
    "\n",
    "Splits the string at each occurrence of the separator and returns a list of substrings."
   ]
  },
  {
   "cell_type": "code",
   "execution_count": 43,
   "id": "3cf7275e",
   "metadata": {},
   "outputs": [
    {
     "data": {
      "text/plain": [
       "['apple', 'banana', 'cherry']"
      ]
     },
     "execution_count": 43,
     "metadata": {},
     "output_type": "execute_result"
    }
   ],
   "source": [
    "\"apple,banana,cherry\".split(\",\")"
   ]
  },
  {
   "cell_type": "markdown",
   "id": "53839c79",
   "metadata": {},
   "source": [
    "join(iterable):\n",
    "\n",
    "Joins the items of the given iterable (e.g., a list) using the string as the delimiter."
   ]
  },
  {
   "cell_type": "code",
   "execution_count": 44,
   "id": "c7d39772",
   "metadata": {},
   "outputs": [
    {
     "data": {
      "text/plain": [
       "'apple banana cherry'"
      ]
     },
     "execution_count": 44,
     "metadata": {},
     "output_type": "execute_result"
    }
   ],
   "source": [
    "\" \".join([\"apple\", \"banana\", \"cherry\"])"
   ]
  },
  {
   "cell_type": "code",
   "execution_count": 45,
   "id": "77063e2f",
   "metadata": {},
   "outputs": [
    {
     "data": {
      "text/plain": [
       "'apple,banana,cherry'"
      ]
     },
     "execution_count": 45,
     "metadata": {},
     "output_type": "execute_result"
    }
   ],
   "source": [
    "\",\".join([\"apple\", \"banana\", \"cherry\"])"
   ]
  },
  {
   "cell_type": "markdown",
   "id": "ac39d2c1",
   "metadata": {},
   "source": [
    "isalpha():\n",
    "\n",
    "Checks if all characters in the string are alphabetic."
   ]
  },
  {
   "cell_type": "code",
   "execution_count": 46,
   "id": "20ada922",
   "metadata": {},
   "outputs": [
    {
     "data": {
      "text/plain": [
       "True"
      ]
     },
     "execution_count": 46,
     "metadata": {},
     "output_type": "execute_result"
    }
   ],
   "source": [
    "\"hello\".isalpha()"
   ]
  },
  {
   "cell_type": "code",
   "execution_count": 47,
   "id": "e61506c1",
   "metadata": {},
   "outputs": [
    {
     "data": {
      "text/plain": [
       "False"
      ]
     },
     "execution_count": 47,
     "metadata": {},
     "output_type": "execute_result"
    }
   ],
   "source": [
    "\"hello123\".isalpha()"
   ]
  },
  {
   "cell_type": "markdown",
   "id": "ca564e77",
   "metadata": {},
   "source": [
    "isdigit():\n",
    "\n",
    "Checks if all characters in the string are digits."
   ]
  },
  {
   "cell_type": "code",
   "execution_count": 48,
   "id": "621b8c8f",
   "metadata": {},
   "outputs": [
    {
     "data": {
      "text/plain": [
       "True"
      ]
     },
     "execution_count": 48,
     "metadata": {},
     "output_type": "execute_result"
    }
   ],
   "source": [
    "\"1234\".isdigit()"
   ]
  },
  {
   "cell_type": "markdown",
   "id": "2fe3391a",
   "metadata": {},
   "source": [
    "swapcase():\n",
    "\n",
    "Converts uppercase characters to lowercase and lowercase characters to uppercase."
   ]
  },
  {
   "cell_type": "code",
   "execution_count": 49,
   "id": "6358b39a",
   "metadata": {},
   "outputs": [
    {
     "data": {
      "text/plain": [
       "'HeLlO'"
      ]
     },
     "execution_count": 49,
     "metadata": {},
     "output_type": "execute_result"
    }
   ],
   "source": [
    "\"hElLo\".swapcase()"
   ]
  },
  {
   "cell_type": "markdown",
   "id": "69ba9203",
   "metadata": {},
   "source": [
    "The format() method in Python is used to format strings by inserting values at specified positions. It offers a way to embed arbitrary values into strings with defined format specifications."
   ]
  },
  {
   "cell_type": "markdown",
   "id": "08742c37",
   "metadata": {},
   "source": [
    "Positional Formatting:\n",
    "\n",
    "In this method, you use placeholders in the form of curly braces {} to indicate where the values should be inserted. The values to be inserted are passed as arguments to the format() method in the order they should replace the placeholders."
   ]
  },
  {
   "cell_type": "code",
   "execution_count": 51,
   "id": "9eb233fd",
   "metadata": {},
   "outputs": [
    {
     "name": "stdout",
     "output_type": "stream",
     "text": [
      "Hello, my name is Alice and I am 30 years old.\n"
     ]
    }
   ],
   "source": [
    "template = \"Hello, my name is {} and I am {} years old.\"\n",
    "formatted_string = template.format(\"Alice\", 30)\n",
    "print(formatted_string)"
   ]
  },
  {
   "cell_type": "code",
   "execution_count": 52,
   "id": "186039a6",
   "metadata": {},
   "outputs": [
    {
     "name": "stdout",
     "output_type": "stream",
     "text": [
      "Hello, my name is Alice and I am 30 years old. Did I mention my name is Alice?\n"
     ]
    }
   ],
   "source": [
    "template = \"Hello, my name is {0} and I am {1} years old. Did I mention my name is {0}?\"\n",
    "formatted_string = template.format(\"Alice\", 30)\n",
    "print(formatted_string)"
   ]
  },
  {
   "cell_type": "markdown",
   "id": "88ea8ade",
   "metadata": {},
   "source": [
    "Keyword Formatting:\n",
    "\n",
    "In this method, you use named placeholders in the string and then pass the values as keyword arguments to the format() method."
   ]
  },
  {
   "cell_type": "code",
   "execution_count": 53,
   "id": "868dc885",
   "metadata": {},
   "outputs": [
    {
     "name": "stdout",
     "output_type": "stream",
     "text": [
      "Hello, my name is Bob and I am 40 years old.\n"
     ]
    }
   ],
   "source": [
    "template = \"Hello, my name is {name} and I am {age} years old.\"\n",
    "formatted_string = template.format(name=\"Bob\", age=40)\n",
    "print(formatted_string)"
   ]
  },
  {
   "cell_type": "code",
   "execution_count": 54,
   "id": "d1ef89eb",
   "metadata": {},
   "outputs": [
    {
     "name": "stdout",
     "output_type": "stream",
     "text": [
      "3.14\n"
     ]
    }
   ],
   "source": [
    "formatted_number = \"{:.2f}\".format(3.14159)\n",
    "print(formatted_number)"
   ]
  },
  {
   "cell_type": "markdown",
   "id": "2d2a7ad9",
   "metadata": {},
   "source": [
    "# List"
   ]
  },
  {
   "cell_type": "markdown",
   "id": "8575f987",
   "metadata": {},
   "source": [
    "A list in Python is an ordered collection of items, which can be of any type. Lists are mutable, meaning that their content can be changed after creation. They are one of the most versatile and commonly used data structures in Python."
   ]
  },
  {
   "cell_type": "markdown",
   "id": "a1cd3e06",
   "metadata": {},
   "source": [
    "Properties of Lists:\n",
    "\n",
    "Ordered: Lists maintain the order of the elements based on their position or index.\n",
    "\n",
    "Mutable: Lists allow modification after creation, which means you can add, remove, or change items after the list is created.\n",
    "\n",
    "Heterogeneous: Lists can contain items of different data types, e.g., integers, strings, and other objects.\n",
    "\n",
    "Indexable: Each item in a list has an assigned index, starting from 0 for the first item."
   ]
  },
  {
   "cell_type": "code",
   "execution_count": 63,
   "id": "13f9e827",
   "metadata": {},
   "outputs": [
    {
     "name": "stdout",
     "output_type": "stream",
     "text": [
      "[1, 2, 3, 'Python', 3.14]\n",
      "<class 'list'>\n"
     ]
    }
   ],
   "source": [
    "my_list = [1, 2, 3, 'Python', 3.14]\n",
    "\n",
    "print(my_list)\n",
    "\n",
    "print(type(my_list))"
   ]
  },
  {
   "cell_type": "markdown",
   "id": "0dd03ad6",
   "metadata": {},
   "source": [
    "append(item):\n",
    "\n",
    "Adds an item to the end of the list."
   ]
  },
  {
   "cell_type": "code",
   "execution_count": 64,
   "id": "4c68cae5",
   "metadata": {},
   "outputs": [
    {
     "name": "stdout",
     "output_type": "stream",
     "text": [
      "[1, 2, 3, 'Python', 3.14, '200']\n"
     ]
    }
   ],
   "source": [
    "my_list.append(\"200\")\n",
    "\n",
    "print(my_list)"
   ]
  },
  {
   "cell_type": "markdown",
   "id": "27161014",
   "metadata": {},
   "source": [
    "extend(iterable):\n",
    "\n",
    "Adds all the items from the iterable (e.g., another list) to the end of the list."
   ]
  },
  {
   "cell_type": "code",
   "execution_count": 65,
   "id": "0d731586",
   "metadata": {},
   "outputs": [],
   "source": [
    "my_list.extend([40, 50, 60])"
   ]
  },
  {
   "cell_type": "code",
   "execution_count": 66,
   "id": "18f036c7",
   "metadata": {},
   "outputs": [
    {
     "data": {
      "text/plain": [
       "[1, 2, 3, 'Python', 3.14, '200', 40, 50, 60]"
      ]
     },
     "execution_count": 66,
     "metadata": {},
     "output_type": "execute_result"
    }
   ],
   "source": [
    "my_list"
   ]
  },
  {
   "cell_type": "markdown",
   "id": "f51b915d",
   "metadata": {},
   "source": [
    "insert(index, item):\n",
    "\n",
    "Inserts the item at the given index."
   ]
  },
  {
   "cell_type": "code",
   "execution_count": 67,
   "id": "95ef044d",
   "metadata": {},
   "outputs": [
    {
     "name": "stdout",
     "output_type": "stream",
     "text": [
      "[1, 300, 2, 3, 'Python', 3.14, '200', 40, 50, 60]\n"
     ]
    }
   ],
   "source": [
    "my_list.insert(1,300)\n",
    "\n",
    "print(my_list)"
   ]
  },
  {
   "cell_type": "markdown",
   "id": "2703c78c",
   "metadata": {},
   "source": [
    "remove(item):\n",
    "\n",
    "Removes the first occurrence of the item from the list."
   ]
  },
  {
   "cell_type": "code",
   "execution_count": 68,
   "id": "b4261365",
   "metadata": {},
   "outputs": [
    {
     "name": "stdout",
     "output_type": "stream",
     "text": [
      "[1, 300, 2, 3, 3.14, '200', 40, 50, 60]\n"
     ]
    }
   ],
   "source": [
    "my_list.remove('Python')\n",
    "\n",
    "print(my_list)"
   ]
  },
  {
   "cell_type": "markdown",
   "id": "5435ba28",
   "metadata": {},
   "source": [
    "pop(index=-1):\n",
    "\n",
    "Removes and returns the item at the given index. If no index is specified, it removes and returns the last item."
   ]
  },
  {
   "cell_type": "code",
   "execution_count": 69,
   "id": "0400be69",
   "metadata": {},
   "outputs": [
    {
     "name": "stdout",
     "output_type": "stream",
     "text": [
      "[1, 300, 2, 3, 3.14, '200', 40, 50]\n"
     ]
    }
   ],
   "source": [
    "my_list.pop()\n",
    "\n",
    "print(my_list)"
   ]
  },
  {
   "cell_type": "code",
   "execution_count": 70,
   "id": "5c8c71fe",
   "metadata": {},
   "outputs": [
    {
     "name": "stdout",
     "output_type": "stream",
     "text": [
      "[1, 2, 3, 3.14, '200', 40, 50]\n"
     ]
    }
   ],
   "source": [
    "my_list.pop(1)\n",
    "\n",
    "print(my_list)"
   ]
  },
  {
   "cell_type": "markdown",
   "id": "4b87d957",
   "metadata": {},
   "source": [
    "count(item):\n",
    "\n",
    "Counts the number of occurrences of the item in the list."
   ]
  },
  {
   "cell_type": "code",
   "execution_count": 71,
   "id": "d69b4083",
   "metadata": {},
   "outputs": [],
   "source": [
    "count_of_3 = my_list.count(3)"
   ]
  },
  {
   "cell_type": "code",
   "execution_count": 72,
   "id": "b8e89df3",
   "metadata": {},
   "outputs": [
    {
     "name": "stdout",
     "output_type": "stream",
     "text": [
      "1\n"
     ]
    }
   ],
   "source": [
    "print(count_of_3)"
   ]
  },
  {
   "cell_type": "code",
   "execution_count": 73,
   "id": "e514a4a8",
   "metadata": {},
   "outputs": [],
   "source": [
    "my_list1=[1, 2, 3, 3.14, 200, 40, 50]"
   ]
  },
  {
   "cell_type": "code",
   "execution_count": 74,
   "id": "a03c1c93",
   "metadata": {},
   "outputs": [],
   "source": [
    "my_list1.sort()"
   ]
  },
  {
   "cell_type": "code",
   "execution_count": 75,
   "id": "f07f3307",
   "metadata": {},
   "outputs": [
    {
     "data": {
      "text/plain": [
       "[1, 2, 3, 3.14, 40, 50, 200]"
      ]
     },
     "execution_count": 75,
     "metadata": {},
     "output_type": "execute_result"
    }
   ],
   "source": [
    "my_list1"
   ]
  },
  {
   "cell_type": "code",
   "execution_count": 76,
   "id": "1ae25c58",
   "metadata": {},
   "outputs": [
    {
     "data": {
      "text/plain": [
       "[200, 50, 40, 3.14, 3, 2, 1]"
      ]
     },
     "execution_count": 76,
     "metadata": {},
     "output_type": "execute_result"
    }
   ],
   "source": [
    "my_list1.sort(reverse=True)\n",
    "my_list1"
   ]
  },
  {
   "cell_type": "markdown",
   "id": "c7c3a444",
   "metadata": {},
   "source": [
    "# Tuples"
   ]
  },
  {
   "cell_type": "markdown",
   "id": "9cef3358",
   "metadata": {},
   "source": [
    "A tuple in Python is an ordered collection of items, similar to a list. However, unlike lists, tuples are immutable, meaning their content cannot be changed after creation. This immutability makes tuples suitable for representing fixed collections of items or for use as keys in dictionaries."
   ]
  },
  {
   "cell_type": "markdown",
   "id": "4f6eb331",
   "metadata": {},
   "source": [
    "Properties of Tuples:\n",
    "\n",
    "Ordered: Tuples maintain the order of elements based on their position or index.\n",
    "\n",
    "Immutable: Once a tuple is created, you can't modify its contents. This means you can't add, remove, or change items after the tuple is created.\n",
    "\n",
    "Heterogeneous: Tuples can contain items of different data types, e.g., integers, strings, and other objects.\n",
    "\n",
    "Indexable: Each item in a tuple has an assigned index, starting from 0 for the first item."
   ]
  },
  {
   "cell_type": "code",
   "execution_count": 77,
   "id": "aca73300",
   "metadata": {},
   "outputs": [
    {
     "name": "stdout",
     "output_type": "stream",
     "text": [
      "(1, 2, 3, 'Python', 3.14)\n",
      "<class 'tuple'>\n"
     ]
    }
   ],
   "source": [
    "my_tuple = (1, 2, 3, 'Python', 3.14)\n",
    "\n",
    "print(my_tuple)\n",
    "\n",
    "print(type(my_tuple))"
   ]
  },
  {
   "cell_type": "markdown",
   "id": "00f65b1a",
   "metadata": {},
   "source": [
    "count(item):\n",
    "\n",
    "Counts the number of occurrences of an item in the tuple."
   ]
  },
  {
   "cell_type": "code",
   "execution_count": 78,
   "id": "fdf964ad",
   "metadata": {},
   "outputs": [
    {
     "data": {
      "text/plain": [
       "1"
      ]
     },
     "execution_count": 78,
     "metadata": {},
     "output_type": "execute_result"
    }
   ],
   "source": [
    "my_tuple.count(3)"
   ]
  },
  {
   "cell_type": "markdown",
   "id": "b476d4e5",
   "metadata": {},
   "source": [
    "index(item):\n",
    "\n",
    "Returns the index of the first occurrence of an item in the tuple."
   ]
  },
  {
   "cell_type": "code",
   "execution_count": 80,
   "id": "3cb80c32",
   "metadata": {},
   "outputs": [
    {
     "data": {
      "text/plain": [
       "(1, 2, 3, 'Python', 3.14)"
      ]
     },
     "execution_count": 80,
     "metadata": {},
     "output_type": "execute_result"
    }
   ],
   "source": [
    "my_tuple"
   ]
  },
  {
   "cell_type": "code",
   "execution_count": 79,
   "id": "05e374ec",
   "metadata": {},
   "outputs": [
    {
     "data": {
      "text/plain": [
       "3"
      ]
     },
     "execution_count": 79,
     "metadata": {},
     "output_type": "execute_result"
    }
   ],
   "source": [
    "my_tuple.index('Python')"
   ]
  },
  {
   "cell_type": "markdown",
   "id": "a4998c08",
   "metadata": {},
   "source": [
    "len(tuple):\n",
    "\n",
    "Returns the number of items in the tuple."
   ]
  },
  {
   "cell_type": "code",
   "execution_count": 81,
   "id": "a46121a1",
   "metadata": {},
   "outputs": [
    {
     "data": {
      "text/plain": [
       "5"
      ]
     },
     "execution_count": 81,
     "metadata": {},
     "output_type": "execute_result"
    }
   ],
   "source": [
    "len(my_tuple)"
   ]
  },
  {
   "cell_type": "markdown",
   "id": "46e4557e",
   "metadata": {},
   "source": [
    "min(tuple):\n",
    "\n",
    "Returns the smallest item in the tuple."
   ]
  },
  {
   "cell_type": "code",
   "execution_count": 82,
   "id": "8b9cc8e7",
   "metadata": {},
   "outputs": [
    {
     "data": {
      "text/plain": [
       "1"
      ]
     },
     "execution_count": 82,
     "metadata": {},
     "output_type": "execute_result"
    }
   ],
   "source": [
    "min((1, 2, 3, 4, 5))"
   ]
  },
  {
   "cell_type": "markdown",
   "id": "99211347",
   "metadata": {},
   "source": [
    "sum(tuple):\n",
    "\n",
    "Returns the sum of all items in the tuple (only for numeric tuples)."
   ]
  },
  {
   "cell_type": "code",
   "execution_count": 83,
   "id": "b4172c0a",
   "metadata": {},
   "outputs": [
    {
     "data": {
      "text/plain": [
       "15"
      ]
     },
     "execution_count": 83,
     "metadata": {},
     "output_type": "execute_result"
    }
   ],
   "source": [
    "sum((1, 2, 3, 4, 5))"
   ]
  },
  {
   "cell_type": "markdown",
   "id": "07ff53fc",
   "metadata": {},
   "source": [
    "Concatenation:\n",
    "\n",
    "Joining two or more tuples."
   ]
  },
  {
   "cell_type": "code",
   "execution_count": 84,
   "id": "b22333e0",
   "metadata": {},
   "outputs": [
    {
     "data": {
      "text/plain": [
       "(1, 2, 3, 4, 5, 6)"
      ]
     },
     "execution_count": 84,
     "metadata": {},
     "output_type": "execute_result"
    }
   ],
   "source": [
    "(1, 2, 3) + (4, 5, 6)"
   ]
  },
  {
   "cell_type": "code",
   "execution_count": 85,
   "id": "e8e111fb",
   "metadata": {},
   "outputs": [
    {
     "data": {
      "text/plain": [
       "(1, 2, 3, 4, 'Python', 6)"
      ]
     },
     "execution_count": 85,
     "metadata": {},
     "output_type": "execute_result"
    }
   ],
   "source": [
    "(1, 2, 3) + (4, \"Python\", 6)"
   ]
  },
  {
   "cell_type": "code",
   "execution_count": 86,
   "id": "419b6d25",
   "metadata": {},
   "outputs": [
    {
     "data": {
      "text/plain": [
       "(1, 2, 3, 'Python', 3.14)"
      ]
     },
     "execution_count": 86,
     "metadata": {},
     "output_type": "execute_result"
    }
   ],
   "source": [
    "my_tuple"
   ]
  },
  {
   "cell_type": "code",
   "execution_count": 87,
   "id": "01dead74",
   "metadata": {},
   "outputs": [
    {
     "data": {
      "text/plain": [
       "3.14"
      ]
     },
     "execution_count": 87,
     "metadata": {},
     "output_type": "execute_result"
    }
   ],
   "source": [
    "my_tuple[-1]"
   ]
  },
  {
   "cell_type": "code",
   "execution_count": 88,
   "id": "2b44571c",
   "metadata": {},
   "outputs": [
    {
     "data": {
      "text/plain": [
       "('Python', 3.14)"
      ]
     },
     "execution_count": 88,
     "metadata": {},
     "output_type": "execute_result"
    }
   ],
   "source": [
    "my_tuple[3:]"
   ]
  },
  {
   "cell_type": "code",
   "execution_count": 89,
   "id": "0f372ad0",
   "metadata": {},
   "outputs": [
    {
     "data": {
      "text/plain": [
       "(1, 2, 3, 'Python')"
      ]
     },
     "execution_count": 89,
     "metadata": {},
     "output_type": "execute_result"
    }
   ],
   "source": [
    "my_tuple[:4]"
   ]
  },
  {
   "cell_type": "code",
   "execution_count": 90,
   "id": "1fe419b6",
   "metadata": {},
   "outputs": [
    {
     "data": {
      "text/plain": [
       "(3, 'Python', 3.14)"
      ]
     },
     "execution_count": 90,
     "metadata": {},
     "output_type": "execute_result"
    }
   ],
   "source": [
    "my_tuple[2:5]"
   ]
  },
  {
   "cell_type": "code",
   "execution_count": 91,
   "id": "8caaf85d",
   "metadata": {},
   "outputs": [],
   "source": [
    "# start:stop:step"
   ]
  },
  {
   "cell_type": "code",
   "execution_count": 92,
   "id": "095cc96b",
   "metadata": {},
   "outputs": [
    {
     "data": {
      "text/plain": [
       "(1, 2, 3, 'Python', 3.14)"
      ]
     },
     "execution_count": 92,
     "metadata": {},
     "output_type": "execute_result"
    }
   ],
   "source": [
    "my_tuple[:]"
   ]
  },
  {
   "cell_type": "code",
   "execution_count": 93,
   "id": "a62bb794",
   "metadata": {},
   "outputs": [
    {
     "data": {
      "text/plain": [
       "(1, 3, 3.14)"
      ]
     },
     "execution_count": 93,
     "metadata": {},
     "output_type": "execute_result"
    }
   ],
   "source": [
    "my_tuple[::2]"
   ]
  },
  {
   "cell_type": "markdown",
   "id": "4aed286f",
   "metadata": {},
   "source": [
    "# Dictionary"
   ]
  },
  {
   "cell_type": "markdown",
   "id": "7355dd17",
   "metadata": {},
   "source": [
    "A dictionary in Python is an unordered collection of key-value pairs, where each key must be unique. Dictionaries are mutable, allowing you to add, remove, and change entries after the dictionary is created."
   ]
  },
  {
   "cell_type": "code",
   "execution_count": 94,
   "id": "fa552b46",
   "metadata": {},
   "outputs": [
    {
     "name": "stdout",
     "output_type": "stream",
     "text": [
      "{'name': 'Alice', 'age': 30, 'city': 'New York'}\n",
      "<class 'dict'>\n"
     ]
    }
   ],
   "source": [
    "my_dict = {\n",
    "    \"name\": \"Alice\",\n",
    "    \"age\": 30,\n",
    "    \"city\": \"New York\"\n",
    "}\n",
    "\n",
    "print(my_dict)\n",
    "\n",
    "print(type(my_dict))"
   ]
  },
  {
   "cell_type": "markdown",
   "id": "664ff2c0",
   "metadata": {},
   "source": [
    "get(key, default=None):\n",
    "\n",
    "Returns the value for the given key if it exists, otherwise returns the default value."
   ]
  },
  {
   "cell_type": "code",
   "execution_count": 95,
   "id": "fef71212",
   "metadata": {},
   "outputs": [
    {
     "data": {
      "text/plain": [
       "'Alice'"
      ]
     },
     "execution_count": 95,
     "metadata": {},
     "output_type": "execute_result"
    }
   ],
   "source": [
    "my_dict.get(\"name\")"
   ]
  },
  {
   "cell_type": "code",
   "execution_count": 96,
   "id": "070f1914",
   "metadata": {},
   "outputs": [
    {
     "data": {
      "text/plain": [
       "'Alice'"
      ]
     },
     "execution_count": 96,
     "metadata": {},
     "output_type": "execute_result"
    }
   ],
   "source": [
    "my_dict[\"name\"]"
   ]
  },
  {
   "cell_type": "markdown",
   "id": "01ef5fe3",
   "metadata": {},
   "source": [
    "keys():\n",
    "\n",
    "Returns a view object displaying a list of all the keys in the dictionary."
   ]
  },
  {
   "cell_type": "code",
   "execution_count": 97,
   "id": "debf7ac3",
   "metadata": {},
   "outputs": [
    {
     "name": "stdout",
     "output_type": "stream",
     "text": [
      "dict_keys(['name', 'age', 'city'])\n"
     ]
    }
   ],
   "source": [
    "print(my_dict.keys())"
   ]
  },
  {
   "cell_type": "markdown",
   "id": "654ec54e",
   "metadata": {},
   "source": [
    "values():\n",
    "\n",
    "Returns a view object displaying a list of all the values in the dictionary."
   ]
  },
  {
   "cell_type": "code",
   "execution_count": 98,
   "id": "fad30d8d",
   "metadata": {},
   "outputs": [
    {
     "name": "stdout",
     "output_type": "stream",
     "text": [
      "{'name': 'Alice', 'age': 30, 'city': 'New York'}\n"
     ]
    },
    {
     "data": {
      "text/plain": [
       "dict_values(['Alice', 30, 'New York'])"
      ]
     },
     "execution_count": 98,
     "metadata": {},
     "output_type": "execute_result"
    }
   ],
   "source": [
    "\n",
    "print(my_dict)\n",
    "my_dict.values()"
   ]
  },
  {
   "cell_type": "markdown",
   "id": "f85d472b",
   "metadata": {},
   "source": [
    "items():\n",
    "\n",
    "Returns a view object displaying a list of the dictionary's key-value tuple pairs."
   ]
  },
  {
   "cell_type": "code",
   "execution_count": 99,
   "id": "bd4602bc",
   "metadata": {},
   "outputs": [
    {
     "data": {
      "text/plain": [
       "dict_items([('name', 'Alice'), ('age', 30), ('city', 'New York')])"
      ]
     },
     "execution_count": 99,
     "metadata": {},
     "output_type": "execute_result"
    }
   ],
   "source": [
    "my_dict.items()"
   ]
  },
  {
   "cell_type": "markdown",
   "id": "e8fd53a9",
   "metadata": {},
   "source": [
    "update(other_dict):\n",
    "\n",
    "Merges the dictionary with another dictionary or with an iterable of key-value pairs."
   ]
  },
  {
   "cell_type": "code",
   "execution_count": 100,
   "id": "3bd522b0",
   "metadata": {},
   "outputs": [
    {
     "data": {
      "text/plain": [
       "{'name': 'Alice', 'age': 30, 'city': 'New York', 'country': 'USA'}"
      ]
     },
     "execution_count": 100,
     "metadata": {},
     "output_type": "execute_result"
    }
   ],
   "source": [
    "my_dict.update({\"country\": \"USA\"})\n",
    "\n",
    "my_dict"
   ]
  },
  {
   "cell_type": "code",
   "execution_count": 101,
   "id": "014985ae",
   "metadata": {},
   "outputs": [
    {
     "data": {
      "text/plain": [
       "{'name': 'Alice', 'age': 40, 'city': 'New York', 'country': 'USA'}"
      ]
     },
     "execution_count": 101,
     "metadata": {},
     "output_type": "execute_result"
    }
   ],
   "source": [
    "my_dict.update({\"age\": 40})\n",
    "\n",
    "my_dict"
   ]
  },
  {
   "cell_type": "markdown",
   "id": "5922bc41",
   "metadata": {},
   "source": [
    "pop(key):\n",
    "\n",
    "Removes the item with the specified key and returns its value."
   ]
  },
  {
   "cell_type": "code",
   "execution_count": 102,
   "id": "a19f0b76",
   "metadata": {},
   "outputs": [
    {
     "data": {
      "text/plain": [
       "40"
      ]
     },
     "execution_count": 102,
     "metadata": {},
     "output_type": "execute_result"
    }
   ],
   "source": [
    "my_dict.pop(\"age\")"
   ]
  },
  {
   "cell_type": "code",
   "execution_count": 103,
   "id": "70bdbffa",
   "metadata": {},
   "outputs": [
    {
     "data": {
      "text/plain": [
       "{'name': 'Alice', 'city': 'New York', 'country': 'USA'}"
      ]
     },
     "execution_count": 103,
     "metadata": {},
     "output_type": "execute_result"
    }
   ],
   "source": [
    "my_dict"
   ]
  },
  {
   "cell_type": "markdown",
   "id": "fecec4b3",
   "metadata": {},
   "source": [
    "popitem():\n",
    "\n",
    "Removes and returns the last key-value pair as a tuple."
   ]
  },
  {
   "cell_type": "code",
   "execution_count": 104,
   "id": "ed36df87",
   "metadata": {},
   "outputs": [
    {
     "data": {
      "text/plain": [
       "('country', 'USA')"
      ]
     },
     "execution_count": 104,
     "metadata": {},
     "output_type": "execute_result"
    }
   ],
   "source": [
    "my_dict.popitem()"
   ]
  },
  {
   "cell_type": "markdown",
   "id": "e6252c48",
   "metadata": {},
   "source": [
    "clear():\n",
    "\n",
    "Removes all items from the dictionary."
   ]
  },
  {
   "cell_type": "code",
   "execution_count": 106,
   "id": "f8578d2d",
   "metadata": {},
   "outputs": [],
   "source": [
    "my_dict.clear()"
   ]
  },
  {
   "cell_type": "code",
   "execution_count": 107,
   "id": "f078d5ee",
   "metadata": {},
   "outputs": [
    {
     "data": {
      "text/plain": [
       "{}"
      ]
     },
     "execution_count": 107,
     "metadata": {},
     "output_type": "execute_result"
    }
   ],
   "source": [
    "my_dict"
   ]
  },
  {
   "cell_type": "markdown",
   "id": "a6537810",
   "metadata": {},
   "source": [
    "len(dict):\n",
    "\n",
    "Returns the number of items in the dictionary."
   ]
  },
  {
   "cell_type": "code",
   "execution_count": 108,
   "id": "247b33c1",
   "metadata": {},
   "outputs": [
    {
     "data": {
      "text/plain": [
       "3"
      ]
     },
     "execution_count": 108,
     "metadata": {},
     "output_type": "execute_result"
    }
   ],
   "source": [
    "my_dict = {\n",
    "    \"name\": \"Alice\",\n",
    "    \"age\": 30,\n",
    "    \"city\": \"New York\"\n",
    "}\n",
    "\n",
    "len(my_dict)"
   ]
  },
  {
   "cell_type": "markdown",
   "id": "17f4a407",
   "metadata": {},
   "source": [
    "in keyword:\n",
    "\n",
    "Checks if a key exists in the dictionary."
   ]
  },
  {
   "cell_type": "code",
   "execution_count": 109,
   "id": "a797ea4f",
   "metadata": {},
   "outputs": [
    {
     "data": {
      "text/plain": [
       "True"
      ]
     },
     "execution_count": 109,
     "metadata": {},
     "output_type": "execute_result"
    }
   ],
   "source": [
    "\"name\" in my_dict"
   ]
  },
  {
   "cell_type": "markdown",
   "id": "4363e5c2",
   "metadata": {},
   "source": [
    "not in keyword:\n",
    "\n",
    "Checks if a key does not exist in the dictionary."
   ]
  },
  {
   "cell_type": "code",
   "execution_count": 110,
   "id": "b63f17ca",
   "metadata": {},
   "outputs": [
    {
     "data": {
      "text/plain": [
       "True"
      ]
     },
     "execution_count": 110,
     "metadata": {},
     "output_type": "execute_result"
    }
   ],
   "source": [
    "\"height\" not in my_dict"
   ]
  },
  {
   "cell_type": "markdown",
   "id": "19c94e2f",
   "metadata": {},
   "source": [
    "# Sets"
   ]
  },
  {
   "cell_type": "markdown",
   "id": "19cde1a7",
   "metadata": {},
   "source": [
    "A set in Python is an unordered collection of unique items. Sets are similar to lists and dictionaries, but they don't have duplicate values and don't support indexing or slicing."
   ]
  },
  {
   "cell_type": "code",
   "execution_count": 111,
   "id": "44760251",
   "metadata": {},
   "outputs": [
    {
     "name": "stdout",
     "output_type": "stream",
     "text": [
      "{1, 2, 3, 4, 5}\n",
      "<class 'set'>\n"
     ]
    }
   ],
   "source": [
    "my_set = {1, 2, 3, 4, 5,1,2,3,4,5}\n",
    "\n",
    "print(my_set)\n",
    "\n",
    "print(type(my_set))"
   ]
  },
  {
   "cell_type": "code",
   "execution_count": 112,
   "id": "d8a12e20",
   "metadata": {},
   "outputs": [
    {
     "data": {
      "text/plain": [
       "{1, 2, 3, 4, 5}"
      ]
     },
     "execution_count": 112,
     "metadata": {},
     "output_type": "execute_result"
    }
   ],
   "source": [
    "my_set_from_list = set([1, 2, 2, 3, 4, 5])\n",
    "\n",
    "my_set_from_list"
   ]
  },
  {
   "cell_type": "markdown",
   "id": "2a31e966",
   "metadata": {},
   "source": [
    "add(element):\n",
    "\n",
    "Adds an element to the set."
   ]
  },
  {
   "cell_type": "code",
   "execution_count": 113,
   "id": "3e4e6538",
   "metadata": {},
   "outputs": [
    {
     "data": {
      "text/plain": [
       "{1, 2, 3, 4, 5, 6}"
      ]
     },
     "execution_count": 113,
     "metadata": {},
     "output_type": "execute_result"
    }
   ],
   "source": [
    "my_set.add(6)\n",
    "\n",
    "my_set"
   ]
  },
  {
   "cell_type": "markdown",
   "id": "ed379785",
   "metadata": {},
   "source": [
    "remove(element):\n",
    "\n",
    "Removes the specified element from the set. Raises a KeyError if the element is not found."
   ]
  },
  {
   "cell_type": "code",
   "execution_count": 114,
   "id": "507d931d",
   "metadata": {},
   "outputs": [],
   "source": [
    "my_set.remove(3)"
   ]
  },
  {
   "cell_type": "code",
   "execution_count": 115,
   "id": "7158c358",
   "metadata": {},
   "outputs": [
    {
     "data": {
      "text/plain": [
       "{1, 2, 4, 5, 6}"
      ]
     },
     "execution_count": 115,
     "metadata": {},
     "output_type": "execute_result"
    }
   ],
   "source": [
    "my_set"
   ]
  },
  {
   "cell_type": "markdown",
   "id": "e316ecfa",
   "metadata": {},
   "source": [
    "clear():\n",
    "\n",
    "Removes all elements from the set."
   ]
  },
  {
   "cell_type": "code",
   "execution_count": 116,
   "id": "b6cbb537",
   "metadata": {},
   "outputs": [],
   "source": [
    "my_set.clear()"
   ]
  },
  {
   "cell_type": "code",
   "execution_count": 117,
   "id": "7906f421",
   "metadata": {},
   "outputs": [
    {
     "name": "stdout",
     "output_type": "stream",
     "text": [
      "set()\n"
     ]
    }
   ],
   "source": [
    "print(my_set)"
   ]
  },
  {
   "cell_type": "markdown",
   "id": "32d03250",
   "metadata": {},
   "source": [
    "union(*others) or | operator:\n",
    "\n",
    "Returns a new set containing all elements from the original set and all elements from the other sets."
   ]
  },
  {
   "cell_type": "code",
   "execution_count": 118,
   "id": "93cd6b9d",
   "metadata": {},
   "outputs": [
    {
     "name": "stdout",
     "output_type": "stream",
     "text": [
      "{1, 2, 3, 4, 5, 6, 7, 8, 9}\n"
     ]
    }
   ],
   "source": [
    "my_set = {1, 2, 3, 4,5}\n",
    "\n",
    "set2= {4,5,6,7,8,9}\n",
    "\n",
    "new_set = my_set.union(set2)\n",
    "\n",
    "print(new_set)"
   ]
  },
  {
   "cell_type": "markdown",
   "id": "126e8967",
   "metadata": {},
   "source": [
    "intersection(*others) or & operator:\n",
    "\n",
    "Returns a new set containing all elements that are common to all sets."
   ]
  },
  {
   "cell_type": "code",
   "execution_count": 119,
   "id": "b2307792",
   "metadata": {},
   "outputs": [],
   "source": [
    "new_set = my_set.intersection(set2)"
   ]
  },
  {
   "cell_type": "code",
   "execution_count": 120,
   "id": "73812d84",
   "metadata": {},
   "outputs": [
    {
     "data": {
      "text/plain": [
       "{4, 5}"
      ]
     },
     "execution_count": 120,
     "metadata": {},
     "output_type": "execute_result"
    }
   ],
   "source": [
    "new_set"
   ]
  },
  {
   "cell_type": "markdown",
   "id": "54d47f27",
   "metadata": {},
   "source": [
    "len(set):\n",
    "\n",
    "Returns the number of elements in the set."
   ]
  },
  {
   "cell_type": "code",
   "execution_count": 121,
   "id": "de40b3c7",
   "metadata": {},
   "outputs": [
    {
     "data": {
      "text/plain": [
       "{1, 2, 3, 4, 5}"
      ]
     },
     "execution_count": 121,
     "metadata": {},
     "output_type": "execute_result"
    }
   ],
   "source": [
    "my_set"
   ]
  },
  {
   "cell_type": "code",
   "execution_count": 122,
   "id": "35397571",
   "metadata": {},
   "outputs": [
    {
     "data": {
      "text/plain": [
       "5"
      ]
     },
     "execution_count": 122,
     "metadata": {},
     "output_type": "execute_result"
    }
   ],
   "source": [
    " len(my_set)"
   ]
  },
  {
   "cell_type": "markdown",
   "id": "b2c57f54",
   "metadata": {},
   "source": [
    "# Conditional Statements"
   ]
  },
  {
   "cell_type": "markdown",
   "id": "550e7df1",
   "metadata": {},
   "source": [
    "Conditional statements allow you to execute specific blocks of code depending on certain conditions. The primary conditional statements in Python are if, elif, and else."
   ]
  },
  {
   "cell_type": "code",
   "execution_count": 123,
   "id": "f74aaeab",
   "metadata": {},
   "outputs": [
    {
     "name": "stdout",
     "output_type": "stream",
     "text": [
      "x is positive\n"
     ]
    }
   ],
   "source": [
    "x = 5\n",
    "if x > 0:\n",
    "    print(\"x is positive\")"
   ]
  },
  {
   "cell_type": "code",
   "execution_count": 124,
   "id": "fb86e67b",
   "metadata": {},
   "outputs": [
    {
     "name": "stdout",
     "output_type": "stream",
     "text": [
      "x is negative or zero\n"
     ]
    }
   ],
   "source": [
    "x = -5\n",
    "if x > 0:\n",
    "    print(\"x is positive\")\n",
    "else:\n",
    "    print(\"x is negative or zero\")"
   ]
  },
  {
   "cell_type": "code",
   "execution_count": 125,
   "id": "2fea5651",
   "metadata": {},
   "outputs": [
    {
     "name": "stdout",
     "output_type": "stream",
     "text": [
      "x is zero\n"
     ]
    }
   ],
   "source": [
    "x = 0\n",
    "if x > 0:\n",
    "    print(\"x is positive\")\n",
    "elif x < 0:\n",
    "    print(\"x is negative\")\n",
    "else:\n",
    "    print(\"x is zero\")"
   ]
  },
  {
   "cell_type": "markdown",
   "id": "0df028f0",
   "metadata": {},
   "source": [
    "# Loops"
   ]
  },
  {
   "cell_type": "markdown",
   "id": "a0cd43c1",
   "metadata": {},
   "source": [
    "Loops allow you to repeatedly execute a block of code as long as a condition is satisfied."
   ]
  },
  {
   "cell_type": "markdown",
   "id": "97b9013e",
   "metadata": {},
   "source": [
    "for Loop:\n",
    "\n",
    "The for loop in Python is used to iterate over a sequence (e.g., a list, tuple, string) or other iterable objects."
   ]
  },
  {
   "cell_type": "code",
   "execution_count": 126,
   "id": "61fc7c0a",
   "metadata": {},
   "outputs": [
    {
     "name": "stdout",
     "output_type": "stream",
     "text": [
      "apple\n",
      "banana\n",
      "cherry\n"
     ]
    }
   ],
   "source": [
    "fruits = [\"apple\", \"banana\", \"cherry\"]\n",
    "for fruit in fruits:\n",
    "    print(fruit)"
   ]
  },
  {
   "cell_type": "code",
   "execution_count": 127,
   "id": "770ad0cb",
   "metadata": {},
   "outputs": [
    {
     "data": {
      "text/plain": [
       "range(0, 5)"
      ]
     },
     "execution_count": 127,
     "metadata": {},
     "output_type": "execute_result"
    }
   ],
   "source": [
    "range(5)"
   ]
  },
  {
   "cell_type": "code",
   "execution_count": 128,
   "id": "7457ccc0",
   "metadata": {},
   "outputs": [
    {
     "data": {
      "text/plain": [
       "[0, 1, 2, 3, 4]"
      ]
     },
     "execution_count": 128,
     "metadata": {},
     "output_type": "execute_result"
    }
   ],
   "source": [
    "list(range(5))"
   ]
  },
  {
   "cell_type": "code",
   "execution_count": 129,
   "id": "0713483a",
   "metadata": {},
   "outputs": [
    {
     "name": "stdout",
     "output_type": "stream",
     "text": [
      "0\n",
      "1\n",
      "2\n",
      "3\n",
      "4\n"
     ]
    }
   ],
   "source": [
    "for i in range(5):\n",
    "    print(i)"
   ]
  },
  {
   "cell_type": "code",
   "execution_count": 130,
   "id": "55e92a47",
   "metadata": {},
   "outputs": [
    {
     "name": "stdout",
     "output_type": "stream",
     "text": [
      "0\n",
      "1\n",
      "2\n",
      "3\n",
      "4\n"
     ]
    }
   ],
   "source": [
    "for x in range(5):\n",
    "    print(x)"
   ]
  },
  {
   "cell_type": "markdown",
   "id": "2d862f93",
   "metadata": {},
   "source": [
    "while Loop:\n",
    "\n",
    "The while loop is used to execute a block of code repeatedly as long as a condition is true."
   ]
  },
  {
   "cell_type": "code",
   "execution_count": 133,
   "id": "56a7f8cc",
   "metadata": {},
   "outputs": [
    {
     "name": "stdout",
     "output_type": "stream",
     "text": [
      "0\n",
      "1\n",
      "2\n",
      "3\n",
      "4\n"
     ]
    }
   ],
   "source": [
    "count = 0\n",
    "while count < 5:\n",
    "    print(count)\n",
    "    #count=count+1\n",
    "    count+=1"
   ]
  },
  {
   "cell_type": "markdown",
   "id": "1c9d4da2",
   "metadata": {},
   "source": [
    "break:\n",
    "\n",
    "Exits the loop prematurely when a certain condition is met."
   ]
  },
  {
   "cell_type": "code",
   "execution_count": 134,
   "id": "65d9b0f5",
   "metadata": {},
   "outputs": [
    {
     "name": "stdout",
     "output_type": "stream",
     "text": [
      "0\n",
      "1\n",
      "2\n"
     ]
    }
   ],
   "source": [
    "for i in range(5):\n",
    "    if i == 3:\n",
    "        break\n",
    "    print(i)"
   ]
  },
  {
   "cell_type": "markdown",
   "id": "c7450296",
   "metadata": {},
   "source": [
    "continue:\n",
    "\n",
    "Skips the current iteration of the loop and continues with the next iteration."
   ]
  },
  {
   "cell_type": "code",
   "execution_count": 135,
   "id": "0d8937ae",
   "metadata": {},
   "outputs": [
    {
     "name": "stdout",
     "output_type": "stream",
     "text": [
      "0\n",
      "1\n",
      "3\n",
      "4\n"
     ]
    }
   ],
   "source": [
    "for i in range(5):\n",
    "    if i == 2:\n",
    "        continue\n",
    "    print(i)\n"
   ]
  },
  {
   "cell_type": "markdown",
   "id": "ac950e92",
   "metadata": {},
   "source": [
    "Check if a number is even or odd"
   ]
  },
  {
   "cell_type": "code",
   "execution_count": 136,
   "id": "d7846ad7",
   "metadata": {},
   "outputs": [
    {
     "name": "stdout",
     "output_type": "stream",
     "text": [
      "Even\n"
     ]
    }
   ],
   "source": [
    "number = 10\n",
    "if number % 2 == 0:\n",
    "    print(\"Even\")\n",
    "else:\n",
    "    print(\"Odd\")"
   ]
  },
  {
   "cell_type": "markdown",
   "id": "83cc6987",
   "metadata": {},
   "source": [
    "Sum of all numbers in a list"
   ]
  },
  {
   "cell_type": "code",
   "execution_count": 137,
   "id": "cdec980a",
   "metadata": {},
   "outputs": [
    {
     "name": "stdout",
     "output_type": "stream",
     "text": [
      "15\n"
     ]
    }
   ],
   "source": [
    "numbers = [1, 2, 3, 4, 5]\n",
    "total = 0\n",
    "for num in numbers:\n",
    "    total += num\n",
    "print(total)"
   ]
  },
  {
   "cell_type": "code",
   "execution_count": null,
   "id": "de33fa84",
   "metadata": {},
   "outputs": [],
   "source": []
  },
  {
   "cell_type": "code",
   "execution_count": null,
   "id": "0a5187d4",
   "metadata": {},
   "outputs": [],
   "source": []
  },
  {
   "cell_type": "code",
   "execution_count": null,
   "id": "8dd94a8a",
   "metadata": {},
   "outputs": [],
   "source": []
  }
 ],
 "metadata": {
  "kernelspec": {
   "display_name": "Python [conda env:base] *",
   "language": "python",
   "name": "conda-base-py"
  },
  "language_info": {
   "codemirror_mode": {
    "name": "ipython",
    "version": 3
   },
   "file_extension": ".py",
   "mimetype": "text/x-python",
   "name": "python",
   "nbconvert_exporter": "python",
   "pygments_lexer": "ipython3",
   "version": "3.12.7"
  }
 },
 "nbformat": 4,
 "nbformat_minor": 5
}
